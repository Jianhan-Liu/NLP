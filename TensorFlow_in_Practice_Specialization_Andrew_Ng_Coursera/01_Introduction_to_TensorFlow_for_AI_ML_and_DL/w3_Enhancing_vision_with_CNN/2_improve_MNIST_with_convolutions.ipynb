{
 "cells": [
  {
   "cell_type": "markdown",
   "metadata": {},
   "source": [
    "## Exercise 3\n",
    "In the videos you looked at how you would improve Fashion MNIST using Convolutions. For your exercise see if you can improve MNIST to 99.8% accuracy or more using only a single convolutional layer and a single MaxPooling 2D. You should stop training once the accuracy goes above this amount. It should happen in less than 20 epochs, so it's ok to hard code the number of epochs for training, but your training must end once it hits the above metric. If it doesn't, then you'll need to redesign your layers.\n",
    "\n",
    "I've started the code for you -- you need to finish it!\n",
    "\n",
    "When 99.8% accuracy has been hit, you should print out the string \"Reached 99.8% accuracy so cancelling training!\""
   ]
  },
  {
   "cell_type": "markdown",
   "metadata": {},
   "source": [
    "### [Convolution Matrix](https://en.wikipedia.org/wiki/Kernel_(image_processing)) "
   ]
  },
  {
   "cell_type": "code",
   "execution_count": 2,
   "metadata": {},
   "outputs": [],
   "source": [
    "import warnings\n",
    "warnings.filterwarnings('ignore')\n",
    "\n",
    "from tensorflow.keras import models, layers\n",
    "import tensorflow as tf\n",
    "import numpy as np\n",
    "import matplotlib.pyplot as plt\n",
    "%matplotlib inline"
   ]
  },
  {
   "cell_type": "code",
   "execution_count": 23,
   "metadata": {},
   "outputs": [
    {
     "data": {
      "text/plain": [
       "((60000, 28, 28, 1), (60000,), (10000, 28, 28, 1), (10000,))"
      ]
     },
     "execution_count": 23,
     "metadata": {},
     "output_type": "execute_result"
    }
   ],
   "source": [
    "mnist = tf.keras.datasets.mnist\n",
    "(training_images, training_labels), (test_images, test_labels) = mnist.load_data()\n",
    "\n",
    "training_images = training_images / 255.\n",
    "test_images = test_images / 255.\n",
    "\n",
    "training_images = training_images.reshape(-1, 28,28,1)\n",
    "test_images = test_images.reshape(-1, 28,28,1)\n",
    "\n",
    "training_images.shape, training_labels.shape, test_images.shape, test_labels.shape"
   ]
  },
  {
   "cell_type": "code",
   "execution_count": 28,
   "metadata": {},
   "outputs": [],
   "source": [
    "tf.reset_default_graph()\n",
    "model = tf.keras.models.Sequential([\n",
    "    tf.keras.layers.Conv2D(16, (3,3), activation='relu', padding='same', input_shape=(28,28, 1)),\n",
    "    tf.keras.layers.MaxPooling2D(strides=2),\n",
    "#     tf.keras.layers.Conv2D(16, (3,3), activation='relu', padding='same'),\n",
    "#     tf.keras.layers.MaxPooling2D(strides=2),\n",
    "    tf.keras.layers.Flatten(),\n",
    "    tf.keras.layers.Dense(128, activation='relu'),\n",
    "    tf.keras.layers.Dense(10, activation='softmax')\n",
    "])"
   ]
  },
  {
   "cell_type": "code",
   "execution_count": 29,
   "metadata": {},
   "outputs": [
    {
     "name": "stdout",
     "output_type": "stream",
     "text": [
      "Model: \"sequential\"\n",
      "_________________________________________________________________\n",
      "Layer (type)                 Output Shape              Param #   \n",
      "=================================================================\n",
      "conv2d (Conv2D)              (None, 28, 28, 16)        160       \n",
      "_________________________________________________________________\n",
      "max_pooling2d (MaxPooling2D) (None, 14, 14, 16)        0         \n",
      "_________________________________________________________________\n",
      "flatten (Flatten)            (None, 3136)              0         \n",
      "_________________________________________________________________\n",
      "dense (Dense)                (None, 128)               401536    \n",
      "_________________________________________________________________\n",
      "dense_1 (Dense)              (None, 10)                1290      \n",
      "=================================================================\n",
      "Total params: 402,986\n",
      "Trainable params: 402,986\n",
      "Non-trainable params: 0\n",
      "_________________________________________________________________\n"
     ]
    }
   ],
   "source": [
    "model.summary()"
   ]
  },
  {
   "cell_type": "code",
   "execution_count": 32,
   "metadata": {},
   "outputs": [
    {
     "name": "stdout",
     "output_type": "stream",
     "text": [
      "Train on 48000 samples, validate on 12000 samples\n",
      "Epoch 1/20\n",
      "48000/48000 [==============================] - 12s 251us/sample - loss: 0.0562 - acc: 0.9830 - val_loss: 0.0609 - val_acc: 0.9828\n",
      "Epoch 2/20\n",
      "48000/48000 [==============================] - 12s 257us/sample - loss: 0.0332 - acc: 0.9895 - val_loss: 0.0497 - val_acc: 0.9850\n",
      "Epoch 3/20\n",
      "48000/48000 [==============================] - 12s 253us/sample - loss: 0.0221 - acc: 0.9931 - val_loss: 0.0560 - val_acc: 0.9844\n",
      "Epoch 4/20\n",
      "48000/48000 [==============================] - 12s 249us/sample - loss: 0.0154 - acc: 0.9950 - val_loss: 0.0629 - val_acc: 0.9836\n",
      "Epoch 5/20\n",
      "48000/48000 [==============================] - 12s 257us/sample - loss: 0.0104 - acc: 0.9967 - val_loss: 0.0673 - val_acc: 0.9837\n",
      "Epoch 6/20\n",
      "48000/48000 [==============================] - 13s 267us/sample - loss: 0.0087 - acc: 0.9970 - val_loss: 0.0678 - val_acc: 0.9837\n",
      "Epoch 7/20\n",
      "48000/48000 [==============================] - 13s 268us/sample - loss: 0.0069 - acc: 0.9978 - val_loss: 0.0713 - val_acc: 0.9847\n",
      "Epoch 8/20\n",
      "47936/48000 [============================>.] - ETA: 0s - loss: 0.0056 - acc: 0.9983\n",
      "Reached 99.8% accuracy so cancelling training!\n",
      "48000/48000 [==============================] - 13s 265us/sample - loss: 0.0056 - acc: 0.9983 - val_loss: 0.0671 - val_acc: 0.9859\n"
     ]
    }
   ],
   "source": [
    "stop_callback = tf.keras.callbacks.EarlyStopping(monitor='acc',\n",
    "                                                     mode='max',\n",
    "                                                     patience=0)\n",
    "class myCallback(tf.keras.callbacks.Callback):\n",
    "    def on_epoch_end(self, epoch, logs={}):\n",
    "        if(logs.get('acc')>.998):\n",
    "            print(\"\\nReached 99.8% accuracy so cancelling training!\")\n",
    "            self.model.stop_training = True\n",
    "            \n",
    "callbacks = myCallback()\n",
    "model.compile(optimizer='adam', loss='sparse_categorical_crossentropy',\n",
    "                  metrics=['accuracy'])\n",
    "\n",
    "history = model.fit(training_images, training_labels, validation_split=.2, epochs=20,\n",
    "                   callbacks=[callbacks])"
   ]
  }
 ],
 "metadata": {
  "kernelspec": {
   "display_name": "Python 3",
   "language": "python",
   "name": "python3"
  },
  "language_info": {
   "codemirror_mode": {
    "name": "ipython",
    "version": 3
   },
   "file_extension": ".py",
   "mimetype": "text/x-python",
   "name": "python",
   "nbconvert_exporter": "python",
   "pygments_lexer": "ipython3",
   "version": "3.7.3"
  }
 },
 "nbformat": 4,
 "nbformat_minor": 4
}
