{
 "cells": [
  {
   "cell_type": "markdown",
   "metadata": {
    "colab_type": "text",
    "id": "UncprnB0ymAE"
   },
   "source": [
    "Below is code with a link to a happy or sad dataset which contains 80 images, 40 happy and 40 sad. \n",
    "Create a convolutional neural network that trains to 100% accuracy on these images,  which cancels training upon hitting training accuracy of >.999\n",
    "\n",
    "Hint -- it will work best with 3 convolutional layers."
   ]
  },
  {
   "cell_type": "code",
   "execution_count": 5,
   "metadata": {
    "colab": {},
    "colab_type": "code",
    "id": "7Vti6p3PxmpS"
   },
   "outputs": [],
   "source": [
    "import tensorflow as tf\n",
    "from tensorflow.keras.preprocessing.image import ImageDataGenerator\n",
    "from tensorflow.keras.optimizers import RMSprop\n",
    "\n",
    "import os\n",
    "import zipfile"
   ]
  },
  {
   "cell_type": "code",
   "execution_count": null,
   "metadata": {
    "colab": {},
    "colab_type": "code",
    "id": "7Vti6p3PxmpS"
   },
   "outputs": [],
   "source": [
    "# download manully under windows system\n",
    "!wget --no-check-certificate \\\n",
    "    \"https://storage.googleapis.com/laurencemoroney-blog.appspot.com/happy-or-sad.zip\" \\\n",
    "    -O \"/tmp/happy-or-sad.zip\"\n",
    "\n",
    "zip_ref = zipfile.ZipFile(\"/tmp/happy-or-sad.zip\", 'r')\n",
    "zip_ref.extractall(\"/tmp/h-or-s\")\n",
    "zip_ref.close()"
   ]
  },
  {
   "cell_type": "code",
   "execution_count": 3,
   "metadata": {
    "colab": {},
    "colab_type": "code",
    "id": "7Vti6p3PxmpS"
   },
   "outputs": [],
   "source": [
    "DESIRED_ACCURACY = 0.999\n",
    "\n",
    "class myCallback(tf.keras.callbacks.Callback):\n",
    "    def on_epoch_end(self, epoch, logs={}):\n",
    "        if(logs.get('acc')>DESIRED_ACCURACY):\n",
    "            print(\"\\nReached 99.89% accuracy so cancelling training!\")\n",
    "            self.model.stop_training = True\n",
    "            \n",
    "callbacks = myCallback()"
   ]
  },
  {
   "cell_type": "code",
   "execution_count": 4,
   "metadata": {
    "colab": {},
    "colab_type": "code",
    "id": "4Ap9fUJE1vVu"
   },
   "outputs": [
    {
     "name": "stdout",
     "output_type": "stream",
     "text": [
      "Found 80 images belonging to 2 classes.\n"
     ]
    }
   ],
   "source": [
    "# This code block should create an instance of an ImageDataGenerator called train_datagen \n",
    "# And a train_generator by calling train_datagen.flow_from_directory\n",
    "\n",
    "\n",
    "train_datagen = ImageDataGenerator(rescale=1/255)\n",
    "\n",
    "train_generator = train_datagen.flow_from_directory('data/happy-or-sad/',\n",
    "                                                   target_size=(150,150),\n",
    "                                                   batch_size=20,\n",
    "                                                   class_mode='binary')\n",
    "\n",
    "# Expected output: 'Found 80 images belonging to 2 classes'"
   ]
  },
  {
   "cell_type": "code",
   "execution_count": 13,
   "metadata": {
    "colab": {},
    "colab_type": "code",
    "id": "6DLGbXXI1j_V"
   },
   "outputs": [],
   "source": [
    "# This Code Block should Define and Compile the Model\n",
    "model = tf.keras.models.Sequential([\n",
    "    tf.keras.layers.Conv2D(16, (3,3), padding='same', activation='relu', input_shape=(150,150,3)),\n",
    "    tf.keras.layers.MaxPooling2D(strides=2),\n",
    "    tf.keras.layers.Conv2D(16, (3,3), padding='same', activation='relu'),\n",
    "    tf.keras.layers.MaxPooling2D(strides=2),\n",
    "    tf.keras.layers.Conv2D(16, (3,3), padding='same', activation='relu'),\n",
    "    tf.keras.layers.MaxPooling2D(strides=2),\n",
    "    tf.keras.layers.Flatten(),\n",
    "    tf.keras.layers.Dense(64, activation='relu'),\n",
    "    tf.keras.layers.Dense(1, activation='sigmoid')\n",
    "])\n",
    "\n",
    "model.compile(optimizer=RMSprop(.001), loss='binary_crossentropy', metrics=['accuracy'])"
   ]
  },
  {
   "cell_type": "code",
   "execution_count": 14,
   "metadata": {
    "colab": {},
    "colab_type": "code",
    "id": "48dLm13U1-Le"
   },
   "outputs": [
    {
     "name": "stdout",
     "output_type": "stream",
     "text": [
      "Epoch 1/20\n",
      "4/4 [==============================] - 3s 749ms/step - loss: 0.7608 - acc: 0.5000\n",
      "Epoch 2/20\n",
      "4/4 [==============================] - 2s 570ms/step - loss: 0.6174 - acc: 0.8000\n",
      "Epoch 3/20\n",
      "4/4 [==============================] - 2s 566ms/step - loss: 0.5227 - acc: 0.7312\n",
      "Epoch 4/20\n",
      "4/4 [==============================] - 2s 568ms/step - loss: 0.3384 - acc: 0.8875\n",
      "Epoch 5/20\n",
      "4/4 [==============================] - 2s 579ms/step - loss: 0.2262 - acc: 0.9344\n",
      "Epoch 6/20\n",
      "4/4 [==============================] - 2s 570ms/step - loss: 0.1603 - acc: 0.9531\n",
      "Epoch 7/20\n",
      "4/4 [==============================] - 2s 569ms/step - loss: 0.1383 - acc: 0.9656\n",
      "Epoch 8/20\n",
      "4/4 [==============================] - 2s 570ms/step - loss: 0.0979 - acc: 0.9719\n",
      "Epoch 9/20\n",
      "4/4 [==============================] - 2s 566ms/step - loss: 0.0897 - acc: 0.9719\n",
      "Epoch 10/20\n",
      "4/4 [==============================] - 2s 565ms/step - loss: 0.0896 - acc: 0.9719\n",
      "Epoch 11/20\n",
      "4/4 [==============================] - 2s 569ms/step - loss: 0.0488 - acc: 0.9906\n",
      "Epoch 12/20\n",
      "4/4 [==============================] - 2s 579ms/step - loss: 0.0369 - acc: 0.9906\n",
      "Epoch 13/20\n",
      "4/4 [==============================] - 2s 570ms/step - loss: 0.0483 - acc: 0.9812\n",
      "Epoch 14/20\n",
      "4/4 [==============================] - 2s 564ms/step - loss: 0.0319 - acc: 0.9906\n",
      "Epoch 15/20\n",
      "3/4 [=====================>........] - ETA: 0s - loss: 0.0138 - acc: 1.0000\n",
      "Reached 99.89% accuracy so cancelling training!\n",
      "4/4 [==============================] - 2s 565ms/step - loss: 0.0133 - acc: 1.0000\n"
     ]
    }
   ],
   "source": [
    "# This code block should call model.fit_generator and train for\n",
    "# a number of epochs. \n",
    "history = model.fit_generator(train_generator, steps_per_epoch=4, epochs=20,  callbacks=[callbacks])\n",
    "    \n",
    "# Expected output: \"Reached 99.9% accuracy so cancelling training!\"\""
   ]
  },
  {
   "cell_type": "code",
   "execution_count": null,
   "metadata": {},
   "outputs": [],
   "source": []
  }
 ],
 "metadata": {
  "colab": {
   "name": "Exercise4-Question.ipynb",
   "provenance": []
  },
  "kernelspec": {
   "display_name": "Python 3",
   "language": "python",
   "name": "python3"
  },
  "language_info": {
   "codemirror_mode": {
    "name": "ipython",
    "version": 3
   },
   "file_extension": ".py",
   "mimetype": "text/x-python",
   "name": "python",
   "nbconvert_exporter": "python",
   "pygments_lexer": "ipython3",
   "version": "3.6.2"
  }
 },
 "nbformat": 4,
 "nbformat_minor": 4
}
