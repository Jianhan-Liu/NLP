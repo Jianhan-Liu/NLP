{
 "cells": [
  {
   "cell_type": "code",
   "execution_count": 1,
   "metadata": {
    "colab": {},
    "colab_type": "code",
    "id": "BOwsuGQQY9OL"
   },
   "outputs": [
    {
     "name": "stderr",
     "output_type": "stream",
     "text": [
      "WARNING:root:Limited tf.compat.v2.summary API due to missing TensorBoard installation.\n",
      "WARNING:root:Limited tf.summary API due to missing TensorBoard installation.\n"
     ]
    }
   ],
   "source": [
    "from tensorflow.keras.preprocessing.sequence import pad_sequences\n",
    "from tensorflow.keras.layers import Embedding, LSTM, Dense, Dropout, Bidirectional\n",
    "from tensorflow.keras.preprocessing.text import Tokenizer\n",
    "from tensorflow.keras.models import Sequential\n",
    "from tensorflow.keras.optimizers import Adam\n",
    "from tensorflow.keras import regularizers\n",
    "import tensorflow.keras.utils as ku \n",
    "import numpy as np "
   ]
  },
  {
   "cell_type": "code",
   "execution_count": null,
   "metadata": {
    "colab": {},
    "colab_type": "code",
    "id": "PRnDnCW-Z7qv"
   },
   "outputs": [],
   "source": [
    "!wget --no-check-certificate \\\n",
    "    https://storage.googleapis.com/laurencemoroney-blog.appspot.com/sonnets.txt \\\n",
    "    -O /tmp/sonnets.txt"
   ]
  },
  {
   "cell_type": "code",
   "execution_count": 3,
   "metadata": {
    "colab": {},
    "colab_type": "code",
    "id": "PRnDnCW-Z7qv"
   },
   "outputs": [],
   "source": [
    "tokenizer = Tokenizer()"
   ]
  },
  {
   "cell_type": "code",
   "execution_count": 4,
   "metadata": {
    "colab": {},
    "colab_type": "code",
    "id": "PRnDnCW-Z7qv"
   },
   "outputs": [],
   "source": [
    "data = open('data/sonnets.txt').read()\n",
    "\n",
    "corpus = data.lower().split(\"\\n\")"
   ]
  },
  {
   "cell_type": "code",
   "execution_count": 4,
   "metadata": {
    "colab": {},
    "colab_type": "code",
    "id": "PRnDnCW-Z7qv"
   },
   "outputs": [],
   "source": [
    "tokenizer.fit_on_texts(corpus)\n",
    "total_words = len(tokenizer.word_index) + 1\n",
    "\n",
    "# create input sequences using list of tokens\n",
    "input_sequences = []\n",
    "for line in corpus:\n",
    "\ttoken_list = tokenizer.texts_to_sequences([line])[0]\n",
    "\tfor i in range(1, len(token_list)):\n",
    "\t\tn_gram_sequence = token_list[:i+1]\n",
    "\t\tinput_sequences.append(n_gram_sequence)\n",
    "\n",
    "\n",
    "# pad sequences \n",
    "max_sequence_len = max([len(x) for x in input_sequences])\n",
    "input_sequences = np.array(pad_sequences(input_sequences, maxlen=max_sequence_len, padding='pre'))\n",
    "\n",
    "# create predictors and label\n",
    "predictors, label = input_sequences[:,:-1],input_sequences[:,-1]\n",
    "\n",
    "label = ku.to_categorical(label, num_classes=total_words)"
   ]
  },
  {
   "cell_type": "code",
   "execution_count": 15,
   "metadata": {},
   "outputs": [
    {
     "data": {
      "text/plain": [
       "16"
      ]
     },
     "execution_count": 15,
     "metadata": {},
     "output_type": "execute_result"
    }
   ],
   "source": [
    "np.add(13,3)"
   ]
  },
  {
   "cell_type": "code",
   "execution_count": 5,
   "metadata": {
    "colab": {},
    "colab_type": "code",
    "id": "w9vH8Y59ajYL"
   },
   "outputs": [
    {
     "name": "stdout",
     "output_type": "stream",
     "text": [
      "Model: \"sequential\"\n",
      "_________________________________________________________________\n",
      "Layer (type)                 Output Shape              Param #   \n",
      "=================================================================\n",
      "embedding (Embedding)        (None, 10, 100)           321100    \n",
      "_________________________________________________________________\n",
      "bidirectional (Bidirectional (None, 10, 300)           301200    \n",
      "_________________________________________________________________\n",
      "dropout (Dropout)            (None, 10, 300)           0         \n",
      "_________________________________________________________________\n",
      "lstm_1 (LSTM)                (None, 100)               160400    \n",
      "_________________________________________________________________\n",
      "dense (Dense)                (None, 1605)              162105    \n",
      "_________________________________________________________________\n",
      "dense_1 (Dense)              (None, 3211)              5156866   \n",
      "=================================================================\n",
      "Total params: 6,101,671\n",
      "Trainable params: 6,101,671\n",
      "Non-trainable params: 0\n",
      "_________________________________________________________________\n",
      "None\n"
     ]
    }
   ],
   "source": [
    "model = Sequential()\n",
    "model.add(Embedding(total_words, 100, input_length=max_sequence_len-1))\n",
    "model.add(Bidirectional(LSTM(150, return_sequences = True)))\n",
    "model.add(Dropout(0.2))\n",
    "model.add(LSTM(100))\n",
    "model.add(Dense(total_words/2, activation='relu', kernel_regularizer=regularizers.l2(0.01)))\n",
    "model.add(Dense(total_words, activation='softmax'))\n",
    "model.compile(loss='categorical_crossentropy', optimizer='adam', metrics=['accuracy'])\n",
    "print(model.summary())"
   ]
  },
  {
   "cell_type": "code",
   "execution_count": 6,
   "metadata": {
    "colab": {},
    "colab_type": "code",
    "id": "AIg2f1HBxqof",
    "scrolled": true
   },
   "outputs": [
    {
     "name": "stdout",
     "output_type": "stream",
     "text": [
      "WARNING:tensorflow:From C:\\Users\\Administrator\\Anaconda3\\lib\\site-packages\\tensorflow\\python\\ops\\math_grad.py:1250: add_dispatch_support.<locals>.wrapper (from tensorflow.python.ops.array_ops) is deprecated and will be removed in a future version.\n",
      "Instructions for updating:\n",
      "Use tf.where in 2.0, which has the same broadcast rule as np.where\n"
     ]
    },
    {
     "name": "stderr",
     "output_type": "stream",
     "text": [
      "WARNING:tensorflow:From C:\\Users\\Administrator\\Anaconda3\\lib\\site-packages\\tensorflow\\python\\ops\\math_grad.py:1250: add_dispatch_support.<locals>.wrapper (from tensorflow.python.ops.array_ops) is deprecated and will be removed in a future version.\n",
      "Instructions for updating:\n",
      "Use tf.where in 2.0, which has the same broadcast rule as np.where\n"
     ]
    },
    {
     "name": "stdout",
     "output_type": "stream",
     "text": [
      "Train on 15462 samples\n",
      "Epoch 1/100\n",
      "15462/15462 [==============================] - 39s 3ms/sample - loss: 6.9118 - accuracy: 0.0212\n",
      "Epoch 2/100\n",
      "15462/15462 [==============================] - 36s 2ms/sample - loss: 6.4927 - accuracy: 0.0221\n",
      "Epoch 3/100\n",
      "15462/15462 [==============================] - 36s 2ms/sample - loss: 6.3970 - accuracy: 0.0246\n",
      "Epoch 4/100\n",
      "15462/15462 [==============================] - 35s 2ms/sample - loss: 6.2815 - accuracy: 0.0314\n",
      "Epoch 5/100\n",
      "15462/15462 [==============================] - 34s 2ms/sample - loss: 6.1715 - accuracy: 0.0376\n",
      "Epoch 6/100\n",
      "15462/15462 [==============================] - 35s 2ms/sample - loss: 6.0839 - accuracy: 0.0389\n",
      "Epoch 7/100\n",
      "15462/15462 [==============================] - 34s 2ms/sample - loss: 5.9994 - accuracy: 0.0414\n",
      "Epoch 8/100\n",
      "15462/15462 [==============================] - 34s 2ms/sample - loss: 5.9154 - accuracy: 0.0470\n",
      "Epoch 9/100\n",
      "15462/15462 [==============================] - 34s 2ms/sample - loss: 5.8149 - accuracy: 0.0530\n",
      "Epoch 10/100\n",
      "15462/15462 [==============================] - 34s 2ms/sample - loss: 5.7110 - accuracy: 0.0593\n",
      "Epoch 11/100\n",
      "15462/15462 [==============================] - 36s 2ms/sample - loss: 5.6077 - accuracy: 0.0682\n",
      "Epoch 12/100\n",
      "15462/15462 [==============================] - 34s 2ms/sample - loss: 5.5072 - accuracy: 0.0726\n",
      "Epoch 13/100\n",
      "15462/15462 [==============================] - 35s 2ms/sample - loss: 5.4087 - accuracy: 0.0762\n",
      "Epoch 14/100\n",
      "15462/15462 [==============================] - 34s 2ms/sample - loss: 5.3116 - accuracy: 0.0868\n",
      "Epoch 15/100\n",
      "15462/15462 [==============================] - 35s 2ms/sample - loss: 5.2125 - accuracy: 0.0887\n",
      "Epoch 16/100\n",
      "15462/15462 [==============================] - 35s 2ms/sample - loss: 5.1118 - accuracy: 0.0984\n",
      "Epoch 17/100\n",
      "15462/15462 [==============================] - 36s 2ms/sample - loss: 5.0150 - accuracy: 0.1033\n",
      "Epoch 18/100\n",
      "15462/15462 [==============================] - 37s 2ms/sample - loss: 4.9175 - accuracy: 0.1136\n",
      "Epoch 19/100\n",
      "15462/15462 [==============================] - 37s 2ms/sample - loss: 4.8245 - accuracy: 0.1196\n",
      "Epoch 20/100\n",
      "15462/15462 [==============================] - 35s 2ms/sample - loss: 4.7364 - accuracy: 0.1255\n",
      "Epoch 21/100\n",
      "15462/15462 [==============================] - 35s 2ms/sample - loss: 4.6392 - accuracy: 0.1363\n",
      "Epoch 22/100\n",
      "15462/15462 [==============================] - 35s 2ms/sample - loss: 4.5532 - accuracy: 0.1470\n",
      "Epoch 23/100\n",
      "15462/15462 [==============================] - 36s 2ms/sample - loss: 4.4587 - accuracy: 0.1547\n",
      "Epoch 24/100\n",
      "15462/15462 [==============================] - 35s 2ms/sample - loss: 4.3668 - accuracy: 0.1649\n",
      "Epoch 25/100\n",
      "15462/15462 [==============================] - 35s 2ms/sample - loss: 4.2803 - accuracy: 0.1777\n",
      "Epoch 26/100\n",
      "15462/15462 [==============================] - 35s 2ms/sample - loss: 4.1765 - accuracy: 0.1883\n",
      "Epoch 27/100\n",
      "15462/15462 [==============================] - 35s 2ms/sample - loss: 4.0896 - accuracy: 0.2019\n",
      "Epoch 28/100\n",
      "15462/15462 [==============================] - 34s 2ms/sample - loss: 4.0010 - accuracy: 0.2154\n",
      "Epoch 29/100\n",
      "15462/15462 [==============================] - 35s 2ms/sample - loss: 3.9149 - accuracy: 0.2264\n",
      "Epoch 30/100\n",
      "15462/15462 [==============================] - 35s 2ms/sample - loss: 3.8278 - accuracy: 0.2416\n",
      "Epoch 31/100\n",
      "15462/15462 [==============================] - 35s 2ms/sample - loss: 3.7438 - accuracy: 0.2589\n",
      "Epoch 32/100\n",
      "15462/15462 [==============================] - 36s 2ms/sample - loss: 3.6617 - accuracy: 0.2700\n",
      "Epoch 33/100\n",
      "15462/15462 [==============================] - 35s 2ms/sample - loss: 3.5817 - accuracy: 0.2831\n",
      "Epoch 34/100\n",
      "15462/15462 [==============================] - 35s 2ms/sample - loss: 3.4945 - accuracy: 0.3018\n",
      "Epoch 35/100\n",
      "15462/15462 [==============================] - 35s 2ms/sample - loss: 3.4176 - accuracy: 0.3185\n",
      "Epoch 36/100\n",
      "15462/15462 [==============================] - 35s 2ms/sample - loss: 3.3530 - accuracy: 0.3359\n",
      "Epoch 37/100\n",
      "15462/15462 [==============================] - 35s 2ms/sample - loss: 3.2629 - accuracy: 0.3522\n",
      "Epoch 38/100\n",
      "15462/15462 [==============================] - 35s 2ms/sample - loss: 3.1949 - accuracy: 0.3706\n",
      "Epoch 39/100\n",
      "15462/15462 [==============================] - 35s 2ms/sample - loss: 3.1300 - accuracy: 0.3804\n",
      "Epoch 40/100\n",
      "15462/15462 [==============================] - 35s 2ms/sample - loss: 3.0659 - accuracy: 0.3958\n",
      "Epoch 41/100\n",
      "15462/15462 [==============================] - 35s 2ms/sample - loss: 2.9985 - accuracy: 0.4151\n",
      "Epoch 42/100\n",
      "15462/15462 [==============================] - 36s 2ms/sample - loss: 2.9425 - accuracy: 0.4223\n",
      "Epoch 43/100\n",
      "15462/15462 [==============================] - 35s 2ms/sample - loss: 2.8671 - accuracy: 0.4405\n",
      "Epoch 44/100\n",
      "15462/15462 [==============================] - 35s 2ms/sample - loss: 2.8025 - accuracy: 0.4596\n",
      "Epoch 45/100\n",
      "15462/15462 [==============================] - 35s 2ms/sample - loss: 2.7349 - accuracy: 0.4727\n",
      "Epoch 46/100\n",
      "15462/15462 [==============================] - 35s 2ms/sample - loss: 2.7001 - accuracy: 0.4789\n",
      "Epoch 47/100\n",
      "15462/15462 [==============================] - 35s 2ms/sample - loss: 2.6304 - accuracy: 0.4983\n",
      "Epoch 48/100\n",
      "15462/15462 [==============================] - 36s 2ms/sample - loss: 2.5785 - accuracy: 0.5083\n",
      "Epoch 49/100\n",
      "15462/15462 [==============================] - 36s 2ms/sample - loss: 2.5313 - accuracy: 0.5170\n",
      "Epoch 50/100\n",
      "15462/15462 [==============================] - 35s 2ms/sample - loss: 2.4743 - accuracy: 0.5356\n",
      "Epoch 51/100\n",
      "15462/15462 [==============================] - 35s 2ms/sample - loss: 2.4253 - accuracy: 0.5430\n",
      "Epoch 52/100\n",
      "15462/15462 [==============================] - 35s 2ms/sample - loss: 2.3863 - accuracy: 0.5530\n",
      "Epoch 53/100\n",
      "15462/15462 [==============================] - 35s 2ms/sample - loss: 2.3348 - accuracy: 0.5643\n",
      "Epoch 54/100\n",
      "15462/15462 [==============================] - 35s 2ms/sample - loss: 2.2865 - accuracy: 0.5722\n",
      "Epoch 55/100\n",
      "15462/15462 [==============================] - 35s 2ms/sample - loss: 2.2334 - accuracy: 0.5838\n",
      "Epoch 56/100\n",
      "15462/15462 [==============================] - 35s 2ms/sample - loss: 2.1947 - accuracy: 0.5977\n",
      "Epoch 57/100\n",
      "15462/15462 [==============================] - 34s 2ms/sample - loss: 2.1480 - accuracy: 0.6084\n",
      "Epoch 58/100\n",
      "15462/15462 [==============================] - 34s 2ms/sample - loss: 2.1313 - accuracy: 0.6100\n",
      "Epoch 59/100\n",
      "15462/15462 [==============================] - 35s 2ms/sample - loss: 2.0838 - accuracy: 0.6207\n",
      "Epoch 60/100\n",
      "15462/15462 [==============================] - 35s 2ms/sample - loss: 2.0385 - accuracy: 0.6276\n",
      "Epoch 61/100\n",
      "15462/15462 [==============================] - 40s 3ms/sample - loss: 2.0130 - accuracy: 0.6352\n",
      "Epoch 62/100\n",
      "15462/15462 [==============================] - 36s 2ms/sample - loss: 1.9721 - accuracy: 0.6478\n",
      "Epoch 63/100\n",
      "15462/15462 [==============================] - 35s 2ms/sample - loss: 1.9309 - accuracy: 0.6573\n",
      "Epoch 64/100\n",
      "15462/15462 [==============================] - 36s 2ms/sample - loss: 1.9054 - accuracy: 0.6574\n",
      "Epoch 65/100\n",
      "15462/15462 [==============================] - 37s 2ms/sample - loss: 1.8686 - accuracy: 0.6682\n",
      "Epoch 66/100\n",
      "15462/15462 [==============================] - 36s 2ms/sample - loss: 1.8533 - accuracy: 0.6683\n",
      "Epoch 67/100\n",
      "15462/15462 [==============================] - 36s 2ms/sample - loss: 1.8202 - accuracy: 0.6779\n",
      "Epoch 68/100\n",
      "15462/15462 [==============================] - 35s 2ms/sample - loss: 1.7866 - accuracy: 0.6864\n",
      "Epoch 69/100\n",
      "15462/15462 [==============================] - 35s 2ms/sample - loss: 1.7578 - accuracy: 0.6917\n",
      "Epoch 70/100\n",
      "15462/15462 [==============================] - 36s 2ms/sample - loss: 1.7216 - accuracy: 0.7007\n",
      "Epoch 71/100\n",
      "15462/15462 [==============================] - 35s 2ms/sample - loss: 1.7055 - accuracy: 0.7061\n",
      "Epoch 72/100\n",
      "15462/15462 [==============================] - 36s 2ms/sample - loss: 1.6752 - accuracy: 0.7119\n",
      "Epoch 73/100\n",
      "15462/15462 [==============================] - 37s 2ms/sample - loss: 1.6576 - accuracy: 0.7112\n",
      "Epoch 74/100\n",
      "15462/15462 [==============================] - 36s 2ms/sample - loss: 1.6262 - accuracy: 0.7193\n",
      "Epoch 75/100\n",
      "15462/15462 [==============================] - 37s 2ms/sample - loss: 1.6008 - accuracy: 0.7233\n",
      "Epoch 76/100\n",
      "15462/15462 [==============================] - 37s 2ms/sample - loss: 1.6056 - accuracy: 0.7197\n",
      "Epoch 77/100\n",
      "15462/15462 [==============================] - 36s 2ms/sample - loss: 1.5697 - accuracy: 0.7259\n",
      "Epoch 78/100\n",
      "15462/15462 [==============================] - 37s 2ms/sample - loss: 1.5504 - accuracy: 0.7288\n",
      "Epoch 79/100\n",
      "15462/15462 [==============================] - 36s 2ms/sample - loss: 1.5289 - accuracy: 0.7356\n",
      "Epoch 80/100\n",
      "15462/15462 [==============================] - 36s 2ms/sample - loss: 1.5094 - accuracy: 0.7393\n",
      "Epoch 81/100\n",
      "15462/15462 [==============================] - 35s 2ms/sample - loss: 1.4804 - accuracy: 0.7439\n",
      "Epoch 82/100\n",
      "15462/15462 [==============================] - 36s 2ms/sample - loss: 1.4627 - accuracy: 0.7465\n",
      "Epoch 83/100\n",
      "15462/15462 [==============================] - 36s 2ms/sample - loss: 1.4440 - accuracy: 0.7503\n",
      "Epoch 84/100\n",
      "15462/15462 [==============================] - 36s 2ms/sample - loss: 1.4286 - accuracy: 0.7525\n",
      "Epoch 85/100\n",
      "15462/15462 [==============================] - 38s 2ms/sample - loss: 1.4165 - accuracy: 0.7560\n",
      "Epoch 86/100\n",
      "15462/15462 [==============================] - 38s 2ms/sample - loss: 1.4035 - accuracy: 0.7581\n",
      "Epoch 87/100\n",
      "15462/15462 [==============================] - 38s 2ms/sample - loss: 1.3733 - accuracy: 0.7612\n",
      "Epoch 88/100\n",
      "15462/15462 [==============================] - 37s 2ms/sample - loss: 1.3643 - accuracy: 0.7652\n",
      "Epoch 89/100\n",
      "15462/15462 [==============================] - 37s 2ms/sample - loss: 1.3479 - accuracy: 0.7662\n",
      "Epoch 90/100\n",
      "15462/15462 [==============================] - 37s 2ms/sample - loss: 1.3276 - accuracy: 0.7722\n",
      "Epoch 91/100\n",
      "15462/15462 [==============================] - 37s 2ms/sample - loss: 1.3175 - accuracy: 0.7767\n",
      "Epoch 92/100\n",
      "15462/15462 [==============================] - 37s 2ms/sample - loss: 1.3097 - accuracy: 0.7758\n",
      "Epoch 93/100\n",
      "15462/15462 [==============================] - 38s 2ms/sample - loss: 1.3064 - accuracy: 0.7760\n",
      "Epoch 94/100\n",
      "15462/15462 [==============================] - 38s 2ms/sample - loss: 1.2840 - accuracy: 0.7787\n",
      "Epoch 95/100\n",
      "15462/15462 [==============================] - 37s 2ms/sample - loss: 1.2823 - accuracy: 0.7789\n",
      "Epoch 96/100\n",
      "15462/15462 [==============================] - 37s 2ms/sample - loss: 1.2596 - accuracy: 0.7813\n",
      "Epoch 97/100\n",
      "15462/15462 [==============================] - 38s 2ms/sample - loss: 1.2402 - accuracy: 0.7882\n",
      "Epoch 98/100\n",
      "15462/15462 [==============================] - 38s 2ms/sample - loss: 1.2233 - accuracy: 0.7881\n",
      "Epoch 99/100\n",
      "15462/15462 [==============================] - 39s 3ms/sample - loss: 1.2188 - accuracy: 0.7882\n",
      "Epoch 100/100\n",
      "15462/15462 [==============================] - 37s 2ms/sample - loss: 1.2125 - accuracy: 0.7925\n"
     ]
    }
   ],
   "source": [
    "model.fit(predictors, label, epochs=100, verbose=1)"
   ]
  },
  {
   "cell_type": "code",
   "execution_count": 12,
   "metadata": {
    "colab": {},
    "colab_type": "code",
    "id": "1fXTEO3GJ282"
   },
   "outputs": [
    {
     "data": {
      "image/png": "[encoded data removed]",
      "text/plain": [
       "<Figure size 432x288 with 1 Axes>"
      ]
     },
     "metadata": {
      "needs_background": "light"
     },
     "output_type": "display_data"
    },
    {
     "data": {
      "image/png": "[encoded data removed]",
      "text/plain": [
       "<Figure size 432x288 with 1 Axes>"
      ]
     },
     "metadata": {
      "needs_background": "light"
     },
     "output_type": "display_data"
    }
   ],
   "source": [
    "import matplotlib.pyplot as plt\n",
    "%matplotlib inline\n",
    "\n",
    "acc = model.history.history['accuracy']\n",
    "loss = model.history.history['loss']\n",
    "\n",
    "epochs = range(len(acc))\n",
    "\n",
    "plt.plot(epochs, acc, 'b', label='Training accuracy')\n",
    "plt.title('Training accuracy')\n",
    "plt.grid()\n",
    "\n",
    "plt.figure()\n",
    "\n",
    "plt.plot(epochs, loss, 'b', label='Training Loss')\n",
    "plt.title('Training loss')\n",
    "plt.grid()\n",
    "plt.legend()\n",
    "\n",
    "plt.show()"
   ]
  },
  {
   "cell_type": "code",
   "execution_count": 9,
   "metadata": {
    "colab": {},
    "colab_type": "code",
    "id": "6Vc6PHgxa6Hm"
   },
   "outputs": [
    {
     "name": "stdout",
     "output_type": "stream",
     "text": [
      "Help me Obi Wan Kenobi, you're my only hope of their sum state and sit go hate of so go used doth pride age o'er write shame near so 'no prove days so one ill well strong tomb so used tongue hold decay bear decay dote stand words than living too out out him of men too cold away so skill hour new skill skill near new birth to be and so precious things or words so skill days stay press none days than told so tell so so wantonness confounds them so they have say you strong woe best hate ' out so turn'd tomb a rondure hems\n"
     ]
    }
   ],
   "source": [
    "seed_text = \"Help me Obi Wan Kenobi, you're my only hope\"\n",
    "next_words = 100\n",
    "  \n",
    "for _ in range(next_words):\n",
    "\ttoken_list = tokenizer.texts_to_sequences([seed_text])[0]\n",
    "\ttoken_list = pad_sequences([token_list], maxlen=max_sequence_len-1, padding='pre')\n",
    "\tpredicted = model.predict_classes(token_list, verbose=0)\n",
    "\toutput_word = \"\"\n",
    "\tfor word, index in tokenizer.word_index.items():\n",
    "\t\tif index == predicted:\n",
    "\t\t\toutput_word = word\n",
    "\t\t\tbreak\n",
    "\tseed_text += \" \" + output_word\n",
    "print(seed_text)"
   ]
  },
  {
   "cell_type": "code",
   "execution_count": null,
   "metadata": {},
   "outputs": [],
   "source": []
  }
 ],
 "metadata": {
  "accelerator": "GPU",
  "colab": {
   "name": "NLP_Week4_Exercise_Shakespeare_Answer.ipynb",
   "provenance": []
  },
  "kernelspec": {
   "display_name": "Python 3",
   "language": "python",
   "name": "python3"
  },
  "language_info": {
   "codemirror_mode": {
    "name": "ipython",
    "version": 3
   },
   "file_extension": ".py",
   "mimetype": "text/x-python",
   "name": "python",
   "nbconvert_exporter": "python",
   "pygments_lexer": "ipython3",
   "version": "3.7.3"
  }
 },
 "nbformat": 4,
 "nbformat_minor": 4
}
