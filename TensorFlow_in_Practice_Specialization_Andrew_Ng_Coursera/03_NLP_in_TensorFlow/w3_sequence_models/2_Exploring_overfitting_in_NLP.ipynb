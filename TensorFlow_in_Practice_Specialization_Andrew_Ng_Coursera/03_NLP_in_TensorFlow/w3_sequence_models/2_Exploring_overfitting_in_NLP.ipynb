{
 "cells": [
  {
   "cell_type": "code",
   "execution_count": 1,
   "metadata": {},
   "outputs": [
    {
     "name": "stderr",
     "output_type": "stream",
     "text": [
      "WARNING:root:Limited tf.compat.v2.summary API due to missing TensorBoard installation.\n",
      "WARNING:root:Limited tf.summary API due to missing TensorBoard installation.\n"
     ]
    },
    {
     "name": "stdout",
     "output_type": "stream",
     "text": [
      "2.0.0-beta0\n"
     ]
    }
   ],
   "source": [
    "import warnings\n",
    "warnings.filterwarnings('ignore')\n",
    "import json\n",
    "import numpy as np\n",
    "import pandas as pd\n",
    "import matplotlib.pyplot as plt\n",
    "import seaborn\n",
    "seaborn.set()\n",
    "%matplotlib inline\n",
    "\n",
    "import tensorflow as tf\n",
    "print(tf.__version__)\n",
    "from tensorflow.keras.preprocessing.text import Tokenizer\n",
    "from tensorflow.keras.preprocessing.sequence import pad_sequences\n",
    "from tensorflow.keras.utils import to_categorical\n",
    "from tensorflow.keras import regularizers"
   ]
  },
  {
   "cell_type": "markdown",
   "metadata": {},
   "source": [
    "original data source: https://www.kaggle.com/kazanova/sentiment140\n",
    "\n",
    "cleaned data source: https://storage.googleapis.com/laurencemoroney-blog.appspot.com/training_cleaned.csv"
   ]
  },
  {
   "cell_type": "code",
   "execution_count": 2,
   "metadata": {},
   "outputs": [],
   "source": [
    "embedding_dim = 100\n",
    "max_length = 16\n",
    "trunc_type = 'post'\n",
    "padding_type = 'post'\n",
    "oov_token = '<OOV>'\n",
    "training_size = 160000\n",
    "test_portion = .1"
   ]
  },
  {
   "cell_type": "code",
   "execution_count": 3,
   "metadata": {},
   "outputs": [],
   "source": [
    "df = pd.read_csv('data/training_cleaned.csv', names=['label', 'id', 'time', \n",
    "                                                      'no_query', 'name', 'corpus'])"
   ]
  },
  {
   "cell_type": "code",
   "execution_count": 4,
   "metadata": {},
   "outputs": [
    {
     "data": {
      "text/html": [
       "<div>\n",
       "<style scoped>\n",
       "    .dataframe tbody tr th:only-of-type {\n",
       "        vertical-align: middle;\n",
       "    }\n",
       "\n",
       "    .dataframe tbody tr th {\n",
       "        vertical-align: top;\n",
       "    }\n",
       "\n",
       "    .dataframe thead th {\n",
       "        text-align: right;\n",
       "    }\n",
       "</style>\n",
       "<table border=\"1\" class=\"dataframe\">\n",
       "  <thead>\n",
       "    <tr style=\"text-align: right;\">\n",
       "      <th></th>\n",
       "      <th>label</th>\n",
       "      <th>id</th>\n",
       "      <th>time</th>\n",
       "      <th>no_query</th>\n",
       "      <th>name</th>\n",
       "      <th>corpus</th>\n",
       "    </tr>\n",
       "  </thead>\n",
       "  <tbody>\n",
       "    <tr>\n",
       "      <th>1599995</th>\n",
       "      <td>1</td>\n",
       "      <td>2193601966</td>\n",
       "      <td>Tue Jun 16 08:40:49 PDT 2009</td>\n",
       "      <td>NO_QUERY</td>\n",
       "      <td>AmandaMarie1028</td>\n",
       "      <td>Just woke up. Having no school is the best fee...</td>\n",
       "    </tr>\n",
       "    <tr>\n",
       "      <th>1599996</th>\n",
       "      <td>1</td>\n",
       "      <td>2193601969</td>\n",
       "      <td>Tue Jun 16 08:40:49 PDT 2009</td>\n",
       "      <td>NO_QUERY</td>\n",
       "      <td>TheWDBoards</td>\n",
       "      <td>TheWDB.com - Very cool to hear old Walt interv...</td>\n",
       "    </tr>\n",
       "    <tr>\n",
       "      <th>1599997</th>\n",
       "      <td>1</td>\n",
       "      <td>2193601991</td>\n",
       "      <td>Tue Jun 16 08:40:49 PDT 2009</td>\n",
       "      <td>NO_QUERY</td>\n",
       "      <td>bpbabe</td>\n",
       "      <td>Are you ready for your MoJo Makeover? Ask me f...</td>\n",
       "    </tr>\n",
       "    <tr>\n",
       "      <th>1599998</th>\n",
       "      <td>1</td>\n",
       "      <td>2193602064</td>\n",
       "      <td>Tue Jun 16 08:40:49 PDT 2009</td>\n",
       "      <td>NO_QUERY</td>\n",
       "      <td>tinydiamondz</td>\n",
       "      <td>Happy 38th Birthday to my boo of alll time!!! ...</td>\n",
       "    </tr>\n",
       "    <tr>\n",
       "      <th>1599999</th>\n",
       "      <td>1</td>\n",
       "      <td>2193602129</td>\n",
       "      <td>Tue Jun 16 08:40:50 PDT 2009</td>\n",
       "      <td>NO_QUERY</td>\n",
       "      <td>RyanTrevMorris</td>\n",
       "      <td>happy #charitytuesday @theNSPCC @SparksCharity...</td>\n",
       "    </tr>\n",
       "  </tbody>\n",
       "</table>\n",
       "</div>"
      ],
      "text/plain": [
       "         label          id                          time  no_query  \\\n",
       "1599995      1  2193601966  Tue Jun 16 08:40:49 PDT 2009  NO_QUERY   \n",
       "1599996      1  2193601969  Tue Jun 16 08:40:49 PDT 2009  NO_QUERY   \n",
       "1599997      1  2193601991  Tue Jun 16 08:40:49 PDT 2009  NO_QUERY   \n",
       "1599998      1  2193602064  Tue Jun 16 08:40:49 PDT 2009  NO_QUERY   \n",
       "1599999      1  2193602129  Tue Jun 16 08:40:50 PDT 2009  NO_QUERY   \n",
       "\n",
       "                    name                                             corpus  \n",
       "1599995  AmandaMarie1028  Just woke up. Having no school is the best fee...  \n",
       "1599996      TheWDBoards  TheWDB.com - Very cool to hear old Walt interv...  \n",
       "1599997           bpbabe  Are you ready for your MoJo Makeover? Ask me f...  \n",
       "1599998     tinydiamondz  Happy 38th Birthday to my boo of alll time!!! ...  \n",
       "1599999   RyanTrevMorris  happy #charitytuesday @theNSPCC @SparksCharity...  "
      ]
     },
     "execution_count": 4,
     "metadata": {},
     "output_type": "execute_result"
    }
   ],
   "source": [
    "df.label[df.label==4] = 1\n",
    "df.tail()"
   ]
  },
  {
   "cell_type": "code",
   "execution_count": 5,
   "metadata": {},
   "outputs": [
    {
     "data": {
      "text/plain": [
       "(0,\n",
       " \"is upset that he can't update his Facebook by texting it... and might cry as a result  School today also. Blah!\")"
      ]
     },
     "execution_count": 5,
     "metadata": {},
     "output_type": "execute_result"
    }
   ],
   "source": [
    "df.label[1], df.corpus[1]"
   ]
  },
  {
   "cell_type": "code",
   "execution_count": 8,
   "metadata": {},
   "outputs": [
    {
     "data": {
      "text/html": [
       "<div>\n",
       "<style scoped>\n",
       "    .dataframe tbody tr th:only-of-type {\n",
       "        vertical-align: middle;\n",
       "    }\n",
       "\n",
       "    .dataframe tbody tr th {\n",
       "        vertical-align: top;\n",
       "    }\n",
       "\n",
       "    .dataframe thead th {\n",
       "        text-align: right;\n",
       "    }\n",
       "</style>\n",
       "<table border=\"1\" class=\"dataframe\">\n",
       "  <thead>\n",
       "    <tr style=\"text-align: right;\">\n",
       "      <th></th>\n",
       "      <th>label</th>\n",
       "      <th>id</th>\n",
       "      <th>time</th>\n",
       "      <th>no_query</th>\n",
       "      <th>name</th>\n",
       "      <th>corpus</th>\n",
       "    </tr>\n",
       "  </thead>\n",
       "  <tbody>\n",
       "    <tr>\n",
       "      <th>978880</th>\n",
       "      <td>1</td>\n",
       "      <td>1833877177</td>\n",
       "      <td>Mon May 18 00:46:50 PDT 2009</td>\n",
       "      <td>NO_QUERY</td>\n",
       "      <td>StephenRinaldo</td>\n",
       "      <td>Alls well that ends well....healthy and can ha...</td>\n",
       "    </tr>\n",
       "    <tr>\n",
       "      <th>547823</th>\n",
       "      <td>0</td>\n",
       "      <td>2202185377</td>\n",
       "      <td>Tue Jun 16 21:22:36 PDT 2009</td>\n",
       "      <td>NO_QUERY</td>\n",
       "      <td>Cristybaby</td>\n",
       "      <td>i wanna crawl in a ball..</td>\n",
       "    </tr>\n",
       "    <tr>\n",
       "      <th>663608</th>\n",
       "      <td>0</td>\n",
       "      <td>2244188271</td>\n",
       "      <td>Fri Jun 19 14:25:08 PDT 2009</td>\n",
       "      <td>NO_QUERY</td>\n",
       "      <td>Patchwork__</td>\n",
       "      <td>is feeeelllinggg super tired.</td>\n",
       "    </tr>\n",
       "    <tr>\n",
       "      <th>357235</th>\n",
       "      <td>0</td>\n",
       "      <td>2044598179</td>\n",
       "      <td>Fri Jun 05 09:34:49 PDT 2009</td>\n",
       "      <td>NO_QUERY</td>\n",
       "      <td>roxyheartbeaver</td>\n",
       "      <td>@rox74ever you ok? haven't tweeted all day and...</td>\n",
       "    </tr>\n",
       "    <tr>\n",
       "      <th>1526657</th>\n",
       "      <td>1</td>\n",
       "      <td>2177066100</td>\n",
       "      <td>Mon Jun 15 05:22:37 PDT 2009</td>\n",
       "      <td>NO_QUERY</td>\n",
       "      <td>graciebabee</td>\n",
       "      <td>@luvtheveronicas hey! you guys have a fantasti...</td>\n",
       "    </tr>\n",
       "  </tbody>\n",
       "</table>\n",
       "</div>"
      ],
      "text/plain": [
       "         label          id                          time  no_query  \\\n",
       "978880       1  1833877177  Mon May 18 00:46:50 PDT 2009  NO_QUERY   \n",
       "547823       0  2202185377  Tue Jun 16 21:22:36 PDT 2009  NO_QUERY   \n",
       "663608       0  2244188271  Fri Jun 19 14:25:08 PDT 2009  NO_QUERY   \n",
       "357235       0  2044598179  Fri Jun 05 09:34:49 PDT 2009  NO_QUERY   \n",
       "1526657      1  2177066100  Mon Jun 15 05:22:37 PDT 2009  NO_QUERY   \n",
       "\n",
       "                    name                                             corpus  \n",
       "978880    StephenRinaldo  Alls well that ends well....healthy and can ha...  \n",
       "547823        Cristybaby                          i wanna crawl in a ball..  \n",
       "663608       Patchwork__                     is feeeelllinggg super tired.   \n",
       "357235   roxyheartbeaver  @rox74ever you ok? haven't tweeted all day and...  \n",
       "1526657      graciebabee  @luvtheveronicas hey! you guys have a fantasti...  "
      ]
     },
     "execution_count": 8,
     "metadata": {},
     "output_type": "execute_result"
    }
   ],
   "source": [
    "new_df = df.sample(training_size)\n",
    "new_df.tail()"
   ]
  },
  {
   "cell_type": "code",
   "execution_count": 9,
   "metadata": {},
   "outputs": [
    {
     "data": {
      "text/plain": [
       "array([1, 0], dtype=int64)"
      ]
     },
     "execution_count": 9,
     "metadata": {},
     "output_type": "execute_result"
    }
   ],
   "source": [
    "new_df.label.unique()"
   ]
  },
  {
   "cell_type": "code",
   "execution_count": 10,
   "metadata": {},
   "outputs": [
    {
     "data": {
      "text/plain": [
       "138748"
      ]
     },
     "execution_count": 10,
     "metadata": {},
     "output_type": "execute_result"
    }
   ],
   "source": [
    "tokenizer = Tokenizer()\n",
    "tokenizer.fit_on_texts(new_df.corpus)\n",
    "\n",
    "word_index = tokenizer.word_index\n",
    "# depend on how you get the training data, this output maybe different\n",
    "len(word_index)"
   ]
  },
  {
   "cell_type": "code",
   "execution_count": 11,
   "metadata": {},
   "outputs": [
    {
     "name": "stdout",
     "output_type": "stream",
     "text": [
      "(160000, 16)\n"
     ]
    }
   ],
   "source": [
    "sequences = tokenizer.texts_to_sequences(new_df.corpus)\n",
    "padded = pad_sequences(sequences, maxlen=max_length, \n",
    "                       padding=padding_type, truncating=trunc_type)\n",
    "print(padded.shape)\n",
    "split = int(test_portion * training_size)\n",
    "\n",
    "test_sequences = padded[:split]\n",
    "training_sequences = padded[split:]\n",
    "test_labels = new_df.label.iloc[:split]\n",
    "train_labels = new_df.label.iloc[split:]"
   ]
  },
  {
   "cell_type": "code",
   "execution_count": 12,
   "metadata": {},
   "outputs": [
    {
     "data": {
      "text/plain": [
       "1"
      ]
     },
     "execution_count": 12,
     "metadata": {},
     "output_type": "execute_result"
    }
   ],
   "source": [
    "word_index['i']"
   ]
  },
  {
   "cell_type": "markdown",
   "metadata": {},
   "source": [
    "glove pretrained vector: https://storage.googleapis.com/laurencemoroney-blog.appspot.com/glove.6B.100d.txt"
   ]
  },
  {
   "cell_type": "code",
   "execution_count": 13,
   "metadata": {},
   "outputs": [
    {
     "data": {
      "text/plain": [
       "138749"
      ]
     },
     "execution_count": 13,
     "metadata": {},
     "output_type": "execute_result"
    }
   ],
   "source": [
    "embeddings_index = {}\n",
    "with open('data/glove.6B.100d.txt', encoding='utf-8') as f:\n",
    "    for line in f:\n",
    "        values = line.split()\n",
    "        word = values[0]\n",
    "        coefs = np.asarray(values[1:], dtype=np.float32)\n",
    "        embeddings_index[word] = coefs\n",
    "\n",
    "embeddings_matrix = np.zeros((len(word_index)+1, embedding_dim))\n",
    "for word, i in word_index.items():\n",
    "    embedding_vector = embeddings_index.get(word)\n",
    "    if embedding_vector is not None:\n",
    "        embeddings_matrix[i] = embedding_vector\n",
    "        \n",
    "len(embeddings_matrix)"
   ]
  },
  {
   "cell_type": "code",
   "execution_count": 14,
   "metadata": {},
   "outputs": [
    {
     "name": "stdout",
     "output_type": "stream",
     "text": [
      "Model: \"sequential\"\n",
      "_________________________________________________________________\n",
      "Layer (type)                 Output Shape              Param #   \n",
      "=================================================================\n",
      "embedding (Embedding)        (None, 16, 100)           13874900  \n",
      "_________________________________________________________________\n",
      "dropout (Dropout)            (None, 16, 100)           0         \n",
      "_________________________________________________________________\n",
      "conv1d (Conv1D)              (None, 12, 64)            32064     \n",
      "_________________________________________________________________\n",
      "max_pooling1d (MaxPooling1D) (None, 3, 64)             0         \n",
      "_________________________________________________________________\n",
      "lstm (LSTM)                  (None, 64)                33024     \n",
      "_________________________________________________________________\n",
      "dense (Dense)                (None, 1)                 65        \n",
      "=================================================================\n",
      "Total params: 13,940,053\n",
      "Trainable params: 65,153\n",
      "Non-trainable params: 13,874,900\n",
      "_________________________________________________________________\n",
      "None\n",
      "WARNING:tensorflow:From C:\\Users\\Administrator\\Anaconda3\\lib\\site-packages\\tensorflow\\python\\ops\\math_grad.py:1250: add_dispatch_support.<locals>.wrapper (from tensorflow.python.ops.array_ops) is deprecated and will be removed in a future version.\n",
      "Instructions for updating:\n",
      "Use tf.where in 2.0, which has the same broadcast rule as np.where\n"
     ]
    },
    {
     "name": "stderr",
     "output_type": "stream",
     "text": [
      "WARNING:tensorflow:From C:\\Users\\Administrator\\Anaconda3\\lib\\site-packages\\tensorflow\\python\\ops\\math_grad.py:1250: add_dispatch_support.<locals>.wrapper (from tensorflow.python.ops.array_ops) is deprecated and will be removed in a future version.\n",
      "Instructions for updating:\n",
      "Use tf.where in 2.0, which has the same broadcast rule as np.where\n"
     ]
    },
    {
     "name": "stdout",
     "output_type": "stream",
     "text": [
      "Train on 144000 samples, validate on 16000 samples\n",
      "Epoch 1/50\n",
      "144000/144000 - 147s - loss: 0.5664 - accuracy: 0.7007 - val_loss: 0.5250 - val_accuracy: 0.7348\n",
      "Epoch 2/50\n",
      "144000/144000 - 149s - loss: 0.5276 - accuracy: 0.7304 - val_loss: 0.5218 - val_accuracy: 0.7393\n",
      "Epoch 3/50\n",
      "144000/144000 - 153s - loss: 0.5108 - accuracy: 0.7439 - val_loss: 0.5011 - val_accuracy: 0.7552\n",
      "Epoch 4/50\n",
      "144000/144000 - 151s - loss: 0.5002 - accuracy: 0.7513 - val_loss: 0.5020 - val_accuracy: 0.7556\n",
      "Epoch 5/50\n",
      "144000/144000 - 152s - loss: 0.4920 - accuracy: 0.7573 - val_loss: 0.5017 - val_accuracy: 0.7494\n",
      "Epoch 6/50\n",
      "144000/144000 - 148s - loss: 0.4845 - accuracy: 0.7611 - val_loss: 0.5066 - val_accuracy: 0.7483\n",
      "Epoch 7/50\n",
      "144000/144000 - 150s - loss: 0.4788 - accuracy: 0.7651 - val_loss: 0.4994 - val_accuracy: 0.7566\n",
      "Epoch 8/50\n",
      "144000/144000 - 152s - loss: 0.4740 - accuracy: 0.7681 - val_loss: 0.4979 - val_accuracy: 0.7545\n",
      "Epoch 9/50\n",
      "144000/144000 - 157s - loss: 0.4711 - accuracy: 0.7688 - val_loss: 0.4994 - val_accuracy: 0.7583\n",
      "Epoch 10/50\n",
      "144000/144000 - 155s - loss: 0.4666 - accuracy: 0.7730 - val_loss: 0.5017 - val_accuracy: 0.7550\n",
      "Epoch 11/50\n",
      "144000/144000 - 156s - loss: 0.4625 - accuracy: 0.7754 - val_loss: 0.5028 - val_accuracy: 0.7539\n",
      "Epoch 12/50\n",
      "144000/144000 - 157s - loss: 0.4596 - accuracy: 0.7775 - val_loss: 0.5029 - val_accuracy: 0.7534\n"
     ]
    }
   ],
   "source": [
    "model = tf.keras.Sequential([\n",
    "    tf.keras.layers.Embedding(len(word_index)+1, embedding_dim,\n",
    "                      input_length=max_length, weights=[embeddings_matrix],\n",
    "                      trainable=False),\n",
    "    tf.keras.layers.Dropout(.2),\n",
    "    tf.keras.layers.Conv1D(64, 5, activation='relu'),\n",
    "    tf.keras.layers.MaxPooling1D(4),\n",
    "    tf.keras.layers.LSTM(64),\n",
    "    tf.keras.layers.Dense(1, activation='sigmoid')\n",
    "])\n",
    "model.compile(optimizer='adam', loss='binary_crossentropy', metrics=['accuracy'])\n",
    "print(model.summary())\n",
    "\n",
    "stop_callback = tf.keras.callbacks.EarlyStopping(monitor='val_accuracy',\n",
    "                                                     mode='max',\n",
    "                                                     patience=3)\n",
    "\n",
    "num_epochs=50\n",
    "history = model.fit(training_sequences, train_labels, epochs=num_epochs,\n",
    "                   validation_data=(test_sequences, test_labels),\n",
    "                   verbose=2, callbacks=[stop_callback])"
   ]
  },
  {
   "cell_type": "code",
   "execution_count": 15,
   "metadata": {},
   "outputs": [
    {
     "data": {
      "image/png": "[encoded data removed]",
      "text/plain": [
       "<Figure size 432x288 with 1 Axes>"
      ]
     },
     "metadata": {
      "needs_background": "light"
     },
     "output_type": "display_data"
    },
    {
     "data": {
      "text/plain": [
       "<Figure size 432x288 with 0 Axes>"
      ]
     },
     "metadata": {},
     "output_type": "display_data"
    },
    {
     "data": {
      "image/png": "[encoded data removed]",
      "text/plain": [
       "<Figure size 432x288 with 1 Axes>"
      ]
     },
     "metadata": {
      "needs_background": "light"
     },
     "output_type": "display_data"
    },
    {
     "data": {
      "text/plain": [
       "<Figure size 432x288 with 0 Axes>"
      ]
     },
     "metadata": {},
     "output_type": "display_data"
    }
   ],
   "source": [
    "import matplotlib.image  as mpimg\n",
    "import matplotlib.pyplot as plt\n",
    "\n",
    "#-----------------------------------------------------------\n",
    "# Retrieve a list of list results on training and test data\n",
    "# sets for each training epoch\n",
    "#-----------------------------------------------------------\n",
    "acc=history.history['accuracy']\n",
    "val_acc=history.history['val_accuracy']\n",
    "loss=history.history['loss']\n",
    "val_loss=history.history['val_loss']\n",
    "\n",
    "epochs=range(len(acc)) # Get number of epochs\n",
    "\n",
    "#------------------------------------------------\n",
    "# Plot training and validation accuracy per epoch\n",
    "#------------------------------------------------\n",
    "plt.plot(epochs, acc, 'r')\n",
    "plt.plot(epochs, val_acc, 'b')\n",
    "plt.title('Training and validation accuracy')\n",
    "plt.xlabel(\"Epochs\")\n",
    "plt.ylabel(\"Accuracy\")\n",
    "plt.legend([\"Accuracy\", \"Validation Accuracy\"])\n",
    "\n",
    "plt.figure()\n",
    "plt.show()\n",
    "#------------------------------------------------\n",
    "# Plot training and validation loss per epoch\n",
    "#------------------------------------------------\n",
    "plt.plot(epochs, loss, 'r')\n",
    "plt.plot(epochs, val_loss, 'b')\n",
    "plt.title('Training and validation loss')\n",
    "plt.xlabel(\"Epochs\")\n",
    "plt.ylabel(\"Loss\")\n",
    "plt.legend([\"Loss\", \"Validation Loss\"])\n",
    "\n",
    "plt.figure()\n",
    "plt.show()\n",
    "\n",
    "# Expected Output\n",
    "# A chart where the validation loss does not increase sharply!"
   ]
  },
  {
   "cell_type": "code",
   "execution_count": null,
   "metadata": {},
   "outputs": [],
   "source": []
  }
 ],
 "metadata": {
  "kernelspec": {
   "display_name": "Python 3",
   "language": "python",
   "name": "python3"
  },
  "language_info": {
   "codemirror_mode": {
    "name": "ipython",
    "version": 3
   },
   "file_extension": ".py",
   "mimetype": "text/x-python",
   "name": "python",
   "nbconvert_exporter": "python",
   "pygments_lexer": "ipython3",
   "version": "3.7.3"
  }
 },
 "nbformat": 4,
 "nbformat_minor": 4
}
