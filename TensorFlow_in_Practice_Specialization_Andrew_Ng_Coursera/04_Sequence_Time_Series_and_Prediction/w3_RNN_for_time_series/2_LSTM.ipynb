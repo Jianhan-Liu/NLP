{
 "cells": [
  {
   "cell_type": "code",
   "execution_count": 1,
   "metadata": {
    "colab": {
     "base_uri": "https://localhost:8080/",
     "height": 35
    },
    "colab_type": "code",
    "id": "BOjujz601HcS",
    "outputId": "aa0651c4-b24e-4e1e-936c-e31004fa751b"
   },
   "outputs": [
    {
     "name": "stderr",
     "output_type": "stream",
     "text": [
      "WARNING:root:Limited tf.compat.v2.summary API due to missing TensorBoard installation.\n",
      "WARNING:root:Limited tf.summary API due to missing TensorBoard installation.\n"
     ]
    },
    {
     "name": "stdout",
     "output_type": "stream",
     "text": [
      "2.0.0-beta0\n"
     ]
    }
   ],
   "source": [
    "import tensorflow as tf\n",
    "import numpy as np\n",
    "import matplotlib.pyplot as plt\n",
    "print(tf.__version__)"
   ]
  },
  {
   "cell_type": "code",
   "execution_count": 2,
   "metadata": {
    "colab": {},
    "colab_type": "code",
    "id": "Zswl7jRtGzkk"
   },
   "outputs": [],
   "source": [
    "def plot_series(time, series, format=\"-\", start=0, end=None):\n",
    "    plt.plot(time[start:end], series[start:end], format)\n",
    "    plt.xlabel(\"Time\")\n",
    "    plt.ylabel(\"Value\")\n",
    "    plt.grid(True)\n",
    "\n",
    "def trend(time, slope=0):\n",
    "    return slope * time\n",
    "\n",
    "def seasonal_pattern(season_time):\n",
    "    \"\"\"Just an arbitrary pattern, you can change it if you wish\"\"\"\n",
    "    return np.where(season_time < 0.4,\n",
    "                    np.cos(season_time * 2 * np.pi),\n",
    "                    1 / np.exp(3 * season_time))\n",
    "\n",
    "def seasonality(time, period, amplitude=1, phase=0):\n",
    "    \"\"\"Repeats the same pattern at each period\"\"\"\n",
    "    season_time = ((time + phase) % period) / period\n",
    "    return amplitude * seasonal_pattern(season_time)\n",
    "\n",
    "def noise(time, noise_level=1, seed=None):\n",
    "    rnd = np.random.RandomState(seed)\n",
    "    return rnd.randn(len(time)) * noise_level\n",
    "\n",
    "time = np.arange(4 * 365 + 1, dtype=\"float32\")\n",
    "baseline = 10\n",
    "series = trend(time, 0.1)  \n",
    "baseline = 10\n",
    "amplitude = 40\n",
    "slope = 0.05\n",
    "noise_level = 5\n",
    "\n",
    "# Create the series\n",
    "series = baseline + trend(time, slope) + seasonality(time, period=365, amplitude=amplitude)\n",
    "# Update with noise\n",
    "series += noise(time, noise_level, seed=42)\n",
    "\n",
    "split_time = 1000\n",
    "time_train = time[:split_time]\n",
    "x_train = series[:split_time]\n",
    "time_valid = time[split_time:]\n",
    "x_valid = series[split_time:]\n",
    "\n",
    "window_size = 20\n",
    "batch_size = 32\n",
    "shuffle_buffer_size = 1000"
   ]
  },
  {
   "cell_type": "code",
   "execution_count": 3,
   "metadata": {
    "colab": {},
    "colab_type": "code",
    "id": "4sTTIOCbyShY"
   },
   "outputs": [],
   "source": [
    "def windowed_dataset(series, window_size, batch_size, shuffle_buffer):\n",
    "    dataset = tf.data.Dataset.from_tensor_slices(series)\n",
    "    dataset = dataset.window(window_size + 1, shift=1, drop_remainder=True)\n",
    "    dataset = dataset.flat_map(lambda window: window.batch(window_size + 1))\n",
    "    dataset = dataset.shuffle(shuffle_buffer).map(lambda window: (window[:-1], window[-1]))\n",
    "    dataset = dataset.batch(batch_size).prefetch(1)\n",
    "    return dataset"
   ]
  },
  {
   "cell_type": "code",
   "execution_count": 4,
   "metadata": {
    "colab": {
     "base_uri": "https://localhost:8080/",
     "height": 1000
    },
    "colab_type": "code",
    "id": "A1Hl39rklkLm",
    "outputId": "75cbaf63-f635-4dd1-96fd-b4e1d6fd94bb",
    "scrolled": true
   },
   "outputs": [
    {
     "name": "stdout",
     "output_type": "stream",
     "text": [
      "WARNING:tensorflow:From C:\\Users\\Administrator\\Anaconda3\\lib\\site-packages\\tensorflow\\python\\data\\util\\random_seed.py:58: add_dispatch_support.<locals>.wrapper (from tensorflow.python.ops.array_ops) is deprecated and will be removed in a future version.\n",
      "Instructions for updating:\n",
      "Use tf.where in 2.0, which has the same broadcast rule as np.where\n"
     ]
    },
    {
     "name": "stderr",
     "output_type": "stream",
     "text": [
      "WARNING:tensorflow:From C:\\Users\\Administrator\\Anaconda3\\lib\\site-packages\\tensorflow\\python\\data\\util\\random_seed.py:58: add_dispatch_support.<locals>.wrapper (from tensorflow.python.ops.array_ops) is deprecated and will be removed in a future version.\n",
      "Instructions for updating:\n",
      "Use tf.where in 2.0, which has the same broadcast rule as np.where\n"
     ]
    },
    {
     "name": "stdout",
     "output_type": "stream",
     "text": [
      "Epoch 1/100\n",
      "31/31 [==============================] - 5s 160ms/step - loss: 21.4949 - mae: 22.0115\n",
      "Epoch 2/100\n",
      "31/31 [==============================] - 1s 23ms/step - loss: 21.1328 - mae: 21.6472\n",
      "Epoch 3/100\n",
      "31/31 [==============================] - 1s 23ms/step - loss: 20.7158 - mae: 21.2292\n",
      "Epoch 4/100\n",
      "31/31 [==============================] - 1s 24ms/step - loss: 20.2701 - mae: 20.7798\n",
      "Epoch 5/100\n",
      "31/31 [==============================] - 1s 26ms/step - loss: 19.7780 - mae: 20.2896\n",
      "Epoch 6/100\n",
      "31/31 [==============================] - 1s 25ms/step - loss: 19.1758 - mae: 19.6838\n",
      "Epoch 7/100\n",
      "31/31 [==============================] - 1s 25ms/step - loss: 18.2329 - mae: 18.7455\n",
      "Epoch 8/100\n",
      "31/31 [==============================] - 1s 24ms/step - loss: 17.4745 - mae: 17.9816\n",
      "Epoch 9/100\n",
      "31/31 [==============================] - 1s 25ms/step - loss: 17.1541 - mae: 17.6597\n",
      "Epoch 10/100\n",
      "31/31 [==============================] - 1s 24ms/step - loss: 16.8486 - mae: 17.3525\n",
      "Epoch 11/100\n",
      "31/31 [==============================] - 1s 24ms/step - loss: 16.5485 - mae: 17.0524\n",
      "Epoch 12/100\n",
      "31/31 [==============================] - 1s 23ms/step - loss: 16.2530 - mae: 16.7591\n",
      "Epoch 13/100\n",
      "31/31 [==============================] - 1s 24ms/step - loss: 15.9575 - mae: 16.4636\n",
      "Epoch 14/100\n",
      "31/31 [==============================] - 1s 24ms/step - loss: 15.6584 - mae: 16.1633\n",
      "Epoch 15/100\n",
      "31/31 [==============================] - 1s 25ms/step - loss: 15.3578 - mae: 15.8621\n",
      "Epoch 16/100\n",
      "31/31 [==============================] - 1s 23ms/step - loss: 15.0649 - mae: 15.5677\n",
      "Epoch 17/100\n",
      "31/31 [==============================] - 1s 23ms/step - loss: 14.7838 - mae: 15.2885\n",
      "Epoch 18/100\n",
      "31/31 [==============================] - 1s 23ms/step - loss: 14.5124 - mae: 15.0166\n",
      "Epoch 19/100\n",
      "31/31 [==============================] - 1s 23ms/step - loss: 14.2572 - mae: 14.7570\n",
      "Epoch 20/100\n",
      "31/31 [==============================] - 1s 23ms/step - loss: 14.0244 - mae: 14.5246\n",
      "Epoch 21/100\n",
      "31/31 [==============================] - 1s 23ms/step - loss: 13.8093 - mae: 14.3102\n",
      "Epoch 22/100\n",
      "31/31 [==============================] - 1s 23ms/step - loss: 13.5990 - mae: 14.1009\n",
      "Epoch 23/100\n",
      "31/31 [==============================] - 1s 23ms/step - loss: 13.3874 - mae: 13.8871\n",
      "Epoch 24/100\n",
      "31/31 [==============================] - 1s 23ms/step - loss: 13.1721 - mae: 13.6703\n",
      "Epoch 25/100\n",
      "31/31 [==============================] - 1s 23ms/step - loss: 12.9491 - mae: 13.4467\n",
      "Epoch 26/100\n",
      "31/31 [==============================] - 1s 23ms/step - loss: 12.7177 - mae: 13.2158\n",
      "Epoch 27/100\n",
      "31/31 [==============================] - 1s 23ms/step - loss: 12.4759 - mae: 12.9747\n",
      "Epoch 28/100\n",
      "31/31 [==============================] - 1s 23ms/step - loss: 12.2282 - mae: 12.7263\n",
      "Epoch 29/100\n",
      "31/31 [==============================] - 1s 23ms/step - loss: 11.9710 - mae: 12.4713\n",
      "Epoch 30/100\n",
      "31/31 [==============================] - 1s 23ms/step - loss: 11.7008 - mae: 12.2018\n",
      "Epoch 31/100\n",
      "31/31 [==============================] - 1s 23ms/step - loss: 11.3790 - mae: 11.8717\n",
      "Epoch 32/100\n",
      "31/31 [==============================] - 1s 23ms/step - loss: 11.2770 - mae: 11.7775\n",
      "Epoch 33/100\n",
      "31/31 [==============================] - 1s 23ms/step - loss: 10.5393 - mae: 11.0358\n",
      "Epoch 34/100\n",
      "31/31 [==============================] - 1s 23ms/step - loss: 10.9169 - mae: 11.4071\n",
      "Epoch 35/100\n",
      "31/31 [==============================] - 1s 23ms/step - loss: 11.1307 - mae: 11.6302\n",
      "Epoch 36/100\n",
      "31/31 [==============================] - 1s 23ms/step - loss: 10.6052 - mae: 11.1067\n",
      "Epoch 37/100\n",
      "31/31 [==============================] - 1s 23ms/step - loss: 10.0656 - mae: 10.5667\n",
      "Epoch 38/100\n",
      "31/31 [==============================] - 1s 23ms/step - loss: 9.5500 - mae: 10.0461\n",
      "Epoch 39/100\n",
      "31/31 [==============================] - 1s 23ms/step - loss: 9.0605 - mae: 9.5571\n",
      "Epoch 40/100\n",
      "31/31 [==============================] - 1s 23ms/step - loss: 8.6169 - mae: 9.1088\n",
      "Epoch 41/100\n",
      "31/31 [==============================] - 1s 23ms/step - loss: 8.1961 - mae: 8.6896\n",
      "Epoch 42/100\n",
      "31/31 [==============================] - 1s 23ms/step - loss: 7.8300 - mae: 8.3230\n",
      "Epoch 43/100\n",
      "31/31 [==============================] - 1s 23ms/step - loss: 7.5609 - mae: 8.0550\n",
      "Epoch 44/100\n",
      "31/31 [==============================] - 1s 24ms/step - loss: 7.3059 - mae: 7.8007\n",
      "Epoch 45/100\n",
      "31/31 [==============================] - 1s 24ms/step - loss: 7.0696 - mae: 7.5605\n",
      "Epoch 46/100\n",
      "31/31 [==============================] - 1s 23ms/step - loss: 6.8414 - mae: 7.3303\n",
      "Epoch 47/100\n",
      "31/31 [==============================] - 1s 23ms/step - loss: 6.6322 - mae: 7.1208\n",
      "Epoch 48/100\n",
      "31/31 [==============================] - 1s 23ms/step - loss: 6.4345 - mae: 6.9241\n",
      "Epoch 49/100\n",
      "31/31 [==============================] - 1s 23ms/step - loss: 6.2254 - mae: 6.7161\n",
      "Epoch 50/100\n",
      "31/31 [==============================] - 1s 23ms/step - loss: 6.0527 - mae: 6.5433\n",
      "Epoch 51/100\n",
      "31/31 [==============================] - 1s 24ms/step - loss: 5.8990 - mae: 6.3832\n",
      "Epoch 52/100\n",
      "31/31 [==============================] - 1s 23ms/step - loss: 5.7542 - mae: 6.2375\n",
      "Epoch 53/100\n",
      "31/31 [==============================] - 1s 23ms/step - loss: 5.6079 - mae: 6.0902\n",
      "Epoch 54/100\n",
      "31/31 [==============================] - 1s 23ms/step - loss: 5.4807 - mae: 5.9581\n",
      "Epoch 55/100\n",
      "31/31 [==============================] - 1s 23ms/step - loss: 5.3883 - mae: 5.8649\n",
      "Epoch 56/100\n",
      "31/31 [==============================] - 1s 23ms/step - loss: 5.3283 - mae: 5.7960\n",
      "Epoch 57/100\n",
      "31/31 [==============================] - 1s 23ms/step - loss: 5.3062 - mae: 5.7761\n",
      "Epoch 58/100\n",
      "31/31 [==============================] - 1s 24ms/step - loss: 5.2953 - mae: 5.7588\n",
      "Epoch 59/100\n",
      "31/31 [==============================] - 1s 23ms/step - loss: 5.2223 - mae: 5.6861\n",
      "Epoch 60/100\n",
      "31/31 [==============================] - 1s 23ms/step - loss: 5.0937 - mae: 5.5644\n",
      "Epoch 61/100\n",
      "31/31 [==============================] - 1s 23ms/step - loss: 5.1471 - mae: 5.6095\n",
      "Epoch 62/100\n",
      "31/31 [==============================] - 1s 23ms/step - loss: 5.2782 - mae: 5.7408\n",
      "Epoch 63/100\n",
      "31/31 [==============================] - 1s 23ms/step - loss: 5.3021 - mae: 5.7684\n",
      "Epoch 64/100\n",
      "31/31 [==============================] - 1s 24ms/step - loss: 4.9985 - mae: 5.4791\n",
      "Epoch 65/100\n",
      "31/31 [==============================] - 1s 23ms/step - loss: 5.2653 - mae: 5.7439\n",
      "Epoch 66/100\n",
      "31/31 [==============================] - 1s 23ms/step - loss: 5.0887 - mae: 5.5727\n",
      "Epoch 67/100\n",
      "31/31 [==============================] - 1s 24ms/step - loss: 5.0243 - mae: 5.5036\n",
      "Epoch 68/100\n",
      "31/31 [==============================] - 1s 24ms/step - loss: 4.9529 - mae: 5.4333\n",
      "Epoch 69/100\n",
      "31/31 [==============================] - 1s 23ms/step - loss: 5.2929 - mae: 5.7743\n",
      "Epoch 70/100\n",
      "31/31 [==============================] - 1s 23ms/step - loss: 5.0259 - mae: 5.5064\n",
      "Epoch 71/100\n",
      "31/31 [==============================] - 1s 23ms/step - loss: 5.8697 - mae: 6.3687\n",
      "Epoch 72/100\n",
      "31/31 [==============================] - 1s 24ms/step - loss: 5.3355 - mae: 5.8211\n",
      "Epoch 73/100\n",
      "31/31 [==============================] - 1s 23ms/step - loss: 6.3350 - mae: 6.8279\n",
      "Epoch 74/100\n",
      "31/31 [==============================] - 1s 24ms/step - loss: 5.6152 - mae: 6.1113\n",
      "Epoch 75/100\n",
      "31/31 [==============================] - 1s 23ms/step - loss: 6.5986 - mae: 7.0960\n",
      "Epoch 76/100\n",
      "31/31 [==============================] - 1s 23ms/step - loss: 6.1657 - mae: 6.6582\n",
      "Epoch 77/100\n",
      "31/31 [==============================] - 1s 24ms/step - loss: 6.2908 - mae: 6.7740\n",
      "Epoch 78/100\n",
      "31/31 [==============================] - 1s 24ms/step - loss: 6.4581 - mae: 6.9601\n",
      "Epoch 79/100\n",
      "31/31 [==============================] - 1s 23ms/step - loss: 6.9551 - mae: 7.4268\n",
      "Epoch 80/100\n",
      "31/31 [==============================] - 1s 23ms/step - loss: 6.1611 - mae: 6.6337\n",
      "Epoch 81/100\n",
      "31/31 [==============================] - 1s 23ms/step - loss: 5.7373 - mae: 6.2165\n",
      "Epoch 82/100\n",
      "31/31 [==============================] - 1s 23ms/step - loss: 7.0730 - mae: 7.5717\n",
      "Epoch 83/100\n",
      "31/31 [==============================] - 1s 22ms/step - loss: 5.4275 - mae: 5.9138\n",
      "Epoch 84/100\n",
      "31/31 [==============================] - 1s 23ms/step - loss: 6.9204 - mae: 7.3936\n",
      "Epoch 85/100\n",
      "31/31 [==============================] - 1s 23ms/step - loss: 6.5672 - mae: 7.0363\n",
      "Epoch 86/100\n",
      "31/31 [==============================] - 1s 23ms/step - loss: 6.2144 - mae: 6.6599\n",
      "Epoch 87/100\n",
      "31/31 [==============================] - 1s 23ms/step - loss: 6.0423 - mae: 6.5301\n",
      "Epoch 88/100\n",
      "31/31 [==============================] - ETA: 0s - loss: 8.8374 - mae: 9.324 - 1s 23ms/step - loss: 9.3115 - mae: 9.8288\n",
      "Epoch 89/100\n",
      "31/31 [==============================] - 1s 23ms/step - loss: 9.2419 - mae: 9.7707\n",
      "Epoch 90/100\n",
      "31/31 [==============================] - 1s 22ms/step - loss: 7.0446 - mae: 7.5128\n",
      "Epoch 91/100\n",
      "31/31 [==============================] - 1s 23ms/step - loss: 6.5902 - mae: 7.0538\n",
      "Epoch 92/100\n",
      "31/31 [==============================] - 1s 26ms/step - loss: 8.8485 - mae: 9.3554\n",
      "Epoch 93/100\n",
      "31/31 [==============================] - 1s 23ms/step - loss: 8.3387 - mae: 8.8512\n",
      "Epoch 94/100\n",
      "31/31 [==============================] - 1s 23ms/step - loss: 7.4163 - mae: 7.8939\n",
      "Epoch 95/100\n",
      "31/31 [==============================] - 1s 23ms/step - loss: 8.7245 - mae: 9.2379\n",
      "Epoch 96/100\n",
      "31/31 [==============================] - 1s 22ms/step - loss: 8.9035 - mae: 9.4301\n",
      "Epoch 97/100\n",
      "31/31 [==============================] - 1s 23ms/step - loss: 9.0943 - mae: 9.5995\n",
      "Epoch 98/100\n",
      "31/31 [==============================] - 1s 23ms/step - loss: 10.9188 - mae: 11.3968\n",
      "Epoch 99/100\n",
      "31/31 [==============================] - 1s 23ms/step - loss: 12.3033 - mae: 12.7759\n",
      "Epoch 100/100\n",
      "31/31 [==============================] - 1s 23ms/step - loss: 11.6860 - mae: 11.9993\n"
     ]
    }
   ],
   "source": [
    "tf.keras.backend.clear_session()\n",
    "tf.random.set_seed(51)\n",
    "np.random.seed(51)\n",
    "\n",
    "tf.keras.backend.clear_session()\n",
    "dataset = windowed_dataset(x_train, window_size, batch_size, shuffle_buffer_size)\n",
    "\n",
    "model = tf.keras.models.Sequential([\n",
    "  tf.keras.layers.Lambda(lambda x: tf.expand_dims(x, axis=-1),\n",
    "                      input_shape=[None]),\n",
    "    tf.keras.layers.Bidirectional(tf.keras.layers.LSTM(32, return_sequences=True)),\n",
    "  tf.keras.layers.Bidirectional(tf.keras.layers.LSTM(32)),\n",
    "  tf.keras.layers.Dense(1),\n",
    "  tf.keras.layers.Lambda(lambda x: x * 100.0)\n",
    "])\n",
    "\n",
    "lr_schedule = tf.keras.callbacks.LearningRateScheduler(\n",
    "    lambda epoch: 1e-8 * 10**(epoch / 20))\n",
    "optimizer = tf.keras.optimizers.SGD(lr=1e-8, momentum=0.9)\n",
    "model.compile(loss=tf.keras.losses.Huber(),\n",
    "              optimizer=optimizer,\n",
    "              metrics=[\"mae\"])\n",
    "history = model.fit(dataset, epochs=100, callbacks=[lr_schedule])"
   ]
  },
  {
   "cell_type": "code",
   "execution_count": 5,
   "metadata": {
    "colab": {
     "base_uri": "https://localhost:8080/",
     "height": 291
    },
    "colab_type": "code",
    "id": "AkBsrsXMzoWR",
    "outputId": "99a3f57b-9145-4802-8256-401a54b238e7"
   },
   "outputs": [
    {
     "data": {
      "text/plain": [
       "[1e-08, 0.0001, 0, 30]"
      ]
     },
     "execution_count": 5,
     "metadata": {},
     "output_type": "execute_result"
    },
    {
     "data": {
      "image/png": "[encoded data removed]",
      "text/plain": [
       "<Figure size 432x288 with 1 Axes>"
      ]
     },
     "metadata": {
      "needs_background": "light"
     },
     "output_type": "display_data"
    }
   ],
   "source": [
    "plt.semilogx(history.history[\"lr\"], history.history[\"loss\"])\n",
    "plt.axis([1e-8, 1e-4, 0, 30])"
   ]
  },
  {
   "cell_type": "code",
   "execution_count": 6,
   "metadata": {
    "colab": {},
    "colab_type": "code",
    "id": "4uh-97bpLZCA"
   },
   "outputs": [],
   "source": [
    "tf.keras.backend.clear_session()\n",
    "tf.random.set_seed(51)\n",
    "np.random.seed(51)\n",
    "\n",
    "tf.keras.backend.clear_session()\n",
    "dataset = windowed_dataset(x_train, window_size, batch_size, shuffle_buffer_size)\n",
    "\n",
    "model = tf.keras.models.Sequential([\n",
    "  tf.keras.layers.Lambda(lambda x: tf.expand_dims(x, axis=-1),\n",
    "                      input_shape=[None]),\n",
    "   tf.keras.layers.Bidirectional(tf.keras.layers.LSTM(32, return_sequences=True)),\n",
    "  tf.keras.layers.Bidirectional(tf.keras.layers.LSTM(32)),\n",
    "  tf.keras.layers.Dense(1),\n",
    "  tf.keras.layers.Lambda(lambda x: x * 100.0)\n",
    "])\n",
    "\n",
    "\n",
    "model.compile(loss=\"mse\", optimizer=tf.keras.optimizers.SGD(lr=1e-5, momentum=0.9),metrics=[\"mae\"])\n",
    "history = model.fit(dataset,epochs=500,verbose=0)"
   ]
  },
  {
   "cell_type": "code",
   "execution_count": 7,
   "metadata": {
    "colab": {
     "base_uri": "https://localhost:8080/",
     "height": 393
    },
    "colab_type": "code",
    "id": "icGDaND7z0ne",
    "outputId": "58b69d1a-82d2-457b-9342-42ceb24b35da"
   },
   "outputs": [
    {
     "data": {
      "image/png": "[encoded data removed]",
      "text/plain": [
       "<Figure size 720x432 with 1 Axes>"
      ]
     },
     "metadata": {
      "needs_background": "light"
     },
     "output_type": "display_data"
    }
   ],
   "source": [
    "forecast = []\n",
    "results = []\n",
    "for time in range(len(series) - window_size):\n",
    "    forecast.append(model.predict(series[time:time + window_size][np.newaxis]))\n",
    "\n",
    "forecast = forecast[split_time-window_size:]\n",
    "results = np.array(forecast)[:, 0, 0]\n",
    "\n",
    "\n",
    "plt.figure(figsize=(10, 6))\n",
    "\n",
    "plot_series(time_valid, x_valid)\n",
    "plot_series(time_valid, results)"
   ]
  },
  {
   "cell_type": "code",
   "execution_count": 8,
   "metadata": {
    "colab": {
     "base_uri": "https://localhost:8080/",
     "height": 35
    },
    "colab_type": "code",
    "id": "KfPeqI7rz4LD",
    "outputId": "816335be-fd2a-428f-98d6-05983b84d9b5"
   },
   "outputs": [
    {
     "data": {
      "text/plain": [
       "8.584589"
      ]
     },
     "execution_count": 8,
     "metadata": {},
     "output_type": "execute_result"
    }
   ],
   "source": [
    "tf.keras.metrics.mean_absolute_error(x_valid, results).numpy()"
   ]
  },
  {
   "cell_type": "code",
   "execution_count": 9,
   "metadata": {
    "colab": {
     "base_uri": "https://localhost:8080/",
     "height": 235
    },
    "colab_type": "code",
    "id": "JUsdZB_tzDLe",
    "outputId": "964c47d9-7eec-42cd-905f-c45c2fd31d9e"
   },
   "outputs": [
    {
     "data": {
      "text/plain": [
       "<Figure size 432x288 with 0 Axes>"
      ]
     },
     "execution_count": 9,
     "metadata": {},
     "output_type": "execute_result"
    },
    {
     "data": {
      "image/png": "[encoded data removed]",
      "text/plain": [
       "<Figure size 432x288 with 1 Axes>"
      ]
     },
     "metadata": {
      "needs_background": "light"
     },
     "output_type": "display_data"
    },
    {
     "data": {
      "image/png": "[encoded data removed]",
      "text/plain": [
       "<Figure size 432x288 with 1 Axes>"
      ]
     },
     "metadata": {
      "needs_background": "light"
     },
     "output_type": "display_data"
    },
    {
     "data": {
      "text/plain": [
       "<Figure size 432x288 with 0 Axes>"
      ]
     },
     "metadata": {},
     "output_type": "display_data"
    }
   ],
   "source": [
    "import matplotlib.image  as mpimg\n",
    "import matplotlib.pyplot as plt\n",
    "%matplotlib inline\n",
    "\n",
    "#-----------------------------------------------------------\n",
    "# Retrieve a list of list results on training and test data\n",
    "# sets for each training epoch\n",
    "#-----------------------------------------------------------\n",
    "mae=history.history['mae']\n",
    "loss=history.history['loss']\n",
    "\n",
    "epochs=range(len(loss)) # Get number of epochs\n",
    "\n",
    "#------------------------------------------------\n",
    "# Plot MAE and Loss\n",
    "#------------------------------------------------\n",
    "plt.plot(epochs, mae, 'r')\n",
    "plt.plot(epochs, loss, 'b')\n",
    "plt.title('MAE and Loss')\n",
    "plt.xlabel(\"Epochs\")\n",
    "plt.ylabel(\"Accuracy\")\n",
    "plt.legend([\"MAE\", \"Loss\"])\n",
    "\n",
    "plt.figure()\n",
    "\n",
    "epochs_zoom = epochs[200:]\n",
    "mae_zoom = mae[200:]\n",
    "loss_zoom = loss[200:]\n",
    "\n",
    "#------------------------------------------------\n",
    "# Plot Zoomed MAE and Loss\n",
    "#------------------------------------------------\n",
    "plt.plot(epochs_zoom, mae_zoom, 'r')\n",
    "plt.plot(epochs_zoom, loss_zoom, 'b')\n",
    "plt.title('MAE and Loss')\n",
    "plt.xlabel(\"Epochs\")\n",
    "plt.ylabel(\"Accuracy\")\n",
    "plt.legend([\"MAE\", \"Loss\"])\n",
    "\n",
    "plt.figure()"
   ]
  },
  {
   "cell_type": "code",
   "execution_count": 10,
   "metadata": {
    "colab": {},
    "colab_type": "code",
    "id": "3CGaYFxXNEAK"
   },
   "outputs": [
    {
     "data": {
      "text/plain": [
       "<tensorflow.python.keras.callbacks.History at 0x292fef429b0>"
      ]
     },
     "execution_count": 10,
     "metadata": {},
     "output_type": "execute_result"
    }
   ],
   "source": [
    "tf.keras.backend.clear_session()\n",
    "dataset = windowed_dataset(x_train, window_size, batch_size, shuffle_buffer_size)\n",
    "\n",
    "model = tf.keras.models.Sequential([\n",
    "  tf.keras.layers.Lambda(lambda x: tf.expand_dims(x, axis=-1),\n",
    "                      input_shape=[None]),\n",
    "  tf.keras.layers.Bidirectional(tf.keras.layers.LSTM(32, return_sequences=True)),\n",
    "  tf.keras.layers.Bidirectional(tf.keras.layers.LSTM(32)),\n",
    "  tf.keras.layers.Dense(1),\n",
    "  tf.keras.layers.Lambda(lambda x: x * 100.0)\n",
    "])\n",
    "\n",
    "\n",
    "model.compile(loss=\"mse\", optimizer=tf.keras.optimizers.SGD(lr=1e-6, momentum=0.9))\n",
    "model.fit(dataset,epochs=100, verbose=0)"
   ]
  },
  {
   "cell_type": "code",
   "execution_count": 11,
   "metadata": {
    "colab": {},
    "colab_type": "code",
    "id": "FJ3R8ysauz9e",
    "scrolled": true
   },
   "outputs": [
    {
     "name": "stdout",
     "output_type": "stream",
     "text": [
      "Epoch 1/100\n",
      "31/31 [==============================] - 7s 228ms/step - loss: 637.0232\n",
      "Epoch 2/100\n",
      "31/31 [==============================] - 1s 34ms/step - loss: 122.8774\n",
      "Epoch 3/100\n",
      "31/31 [==============================] - 1s 34ms/step - loss: 89.8168\n",
      "Epoch 4/100\n",
      "31/31 [==============================] - 1s 34ms/step - loss: 84.2508\n",
      "Epoch 5/100\n",
      "31/31 [==============================] - 1s 34ms/step - loss: 79.5159\n",
      "Epoch 6/100\n",
      "31/31 [==============================] - 1s 34ms/step - loss: 76.3834\n",
      "Epoch 7/100\n",
      "31/31 [==============================] - 1s 34ms/step - loss: 74.8104\n",
      "Epoch 8/100\n",
      "31/31 [==============================] - 1s 34ms/step - loss: 72.5390\n",
      "Epoch 9/100\n",
      "31/31 [==============================] - 1s 33ms/step - loss: 70.1341\n",
      "Epoch 10/100\n",
      "31/31 [==============================] - 1s 33ms/step - loss: 67.8125\n",
      "Epoch 11/100\n",
      "31/31 [==============================] - 1s 34ms/step - loss: 65.6324\n",
      "Epoch 12/100\n",
      "31/31 [==============================] - 1s 34ms/step - loss: 63.5658\n",
      "Epoch 13/100\n",
      "31/31 [==============================] - 1s 34ms/step - loss: 61.9425\n",
      "Epoch 14/100\n",
      "31/31 [==============================] - 1s 33ms/step - loss: 60.6526\n",
      "Epoch 15/100\n",
      "31/31 [==============================] - 1s 33ms/step - loss: 59.3869\n",
      "Epoch 16/100\n",
      "31/31 [==============================] - 1s 34ms/step - loss: 58.1848\n",
      "Epoch 17/100\n",
      "31/31 [==============================] - 1s 36ms/step - loss: 57.0835\n",
      "Epoch 18/100\n",
      "31/31 [==============================] - 1s 34ms/step - loss: 56.1330\n",
      "Epoch 19/100\n",
      "31/31 [==============================] - 1s 34ms/step - loss: 55.3125\n",
      "Epoch 20/100\n",
      "31/31 [==============================] - 1s 34ms/step - loss: 54.5838\n",
      "Epoch 21/100\n",
      "31/31 [==============================] - 1s 35ms/step - loss: 53.9229\n",
      "Epoch 22/100\n",
      "31/31 [==============================] - 1s 34ms/step - loss: 53.3415\n",
      "Epoch 23/100\n",
      "31/31 [==============================] - 1s 36ms/step - loss: 52.8659\n",
      "Epoch 24/100\n",
      "31/31 [==============================] - 1s 34ms/step - loss: 52.4864\n",
      "Epoch 25/100\n",
      "31/31 [==============================] - 1s 36ms/step - loss: 52.1686\n",
      "Epoch 26/100\n",
      "31/31 [==============================] - 1s 35ms/step - loss: 51.8840\n",
      "Epoch 27/100\n",
      "31/31 [==============================] - 1s 33ms/step - loss: 51.6148\n",
      "Epoch 28/100\n",
      "31/31 [==============================] - 1s 33ms/step - loss: 51.3508\n",
      "Epoch 29/100\n",
      "31/31 [==============================] - 1s 34ms/step - loss: 51.0871\n",
      "Epoch 30/100\n",
      "31/31 [==============================] - 1s 35ms/step - loss: 50.8224\n",
      "Epoch 31/100\n",
      "31/31 [==============================] - 1s 35ms/step - loss: 50.5580\n",
      "Epoch 32/100\n",
      "31/31 [==============================] - 1s 36ms/step - loss: 50.2961\n",
      "Epoch 33/100\n",
      "31/31 [==============================] - 1s 37ms/step - loss: 50.0395\n",
      "Epoch 34/100\n",
      "31/31 [==============================] - 1s 38ms/step - loss: 49.7900\n",
      "Epoch 35/100\n",
      "31/31 [==============================] - 1s 38ms/step - loss: 49.5489\n",
      "Epoch 36/100\n",
      "31/31 [==============================] - 1s 39ms/step - loss: 49.3170\n",
      "Epoch 37/100\n",
      "31/31 [==============================] - 1s 38ms/step - loss: 49.0943\n",
      "Epoch 38/100\n",
      "31/31 [==============================] - 1s 36ms/step - loss: 48.8808\n",
      "Epoch 39/100\n",
      "31/31 [==============================] - 1s 36ms/step - loss: 48.6761\n",
      "Epoch 40/100\n",
      "31/31 [==============================] - 1s 35ms/step - loss: 48.4799\n",
      "Epoch 41/100\n",
      "31/31 [==============================] - 1s 34ms/step - loss: 48.2917\n",
      "Epoch 42/100\n",
      "31/31 [==============================] - 1s 35ms/step - loss: 48.1112\n",
      "Epoch 43/100\n",
      "31/31 [==============================] - 1s 36ms/step - loss: 47.9379\n",
      "Epoch 44/100\n",
      "31/31 [==============================] - 1s 35ms/step - loss: 47.7714\n",
      "Epoch 45/100\n",
      "31/31 [==============================] - 1s 35ms/step - loss: 47.6114\n",
      "Epoch 46/100\n",
      "31/31 [==============================] - 1s 35ms/step - loss: 47.4575\n",
      "Epoch 47/100\n",
      "31/31 [==============================] - 1s 35ms/step - loss: 47.3094\n",
      "Epoch 48/100\n",
      "31/31 [==============================] - 1s 36ms/step - loss: 47.1667\n",
      "Epoch 49/100\n",
      "31/31 [==============================] - 1s 35ms/step - loss: 47.0292\n",
      "Epoch 50/100\n",
      "31/31 [==============================] - 1s 35ms/step - loss: 46.8964\n",
      "Epoch 51/100\n",
      "31/31 [==============================] - 1s 35ms/step - loss: 46.7682\n",
      "Epoch 52/100\n",
      "31/31 [==============================] - 1s 35ms/step - loss: 46.6443\n",
      "Epoch 53/100\n",
      "31/31 [==============================] - 1s 35ms/step - loss: 46.5244\n",
      "Epoch 54/100\n",
      "31/31 [==============================] - 1s 36ms/step - loss: 46.4082\n",
      "Epoch 55/100\n",
      "31/31 [==============================] - 1s 36ms/step - loss: 46.2957\n",
      "Epoch 56/100\n",
      "31/31 [==============================] - 1s 40ms/step - loss: 46.1864\n",
      "Epoch 57/100\n",
      "31/31 [==============================] - 1s 36ms/step - loss: 46.0804\n",
      "Epoch 58/100\n",
      "31/31 [==============================] - 1s 37ms/step - loss: 45.9775\n",
      "Epoch 59/100\n",
      "31/31 [==============================] - 1s 37ms/step - loss: 45.8775\n",
      "Epoch 60/100\n",
      "31/31 [==============================] - 1s 37ms/step - loss: 45.7804\n",
      "Epoch 61/100\n",
      "31/31 [==============================] - 1s 37ms/step - loss: 45.6861\n",
      "Epoch 62/100\n",
      "31/31 [==============================] - 1s 38ms/step - loss: 45.5945\n",
      "Epoch 63/100\n",
      "31/31 [==============================] - 1s 38ms/step - loss: 45.5056\n",
      "Epoch 64/100\n",
      "31/31 [==============================] - 1s 37ms/step - loss: 45.4194\n",
      "Epoch 65/100\n",
      "31/31 [==============================] - 1s 37ms/step - loss: 45.3357\n",
      "Epoch 66/100\n",
      "31/31 [==============================] - 1s 39ms/step - loss: 45.2546\n",
      "Epoch 67/100\n",
      "31/31 [==============================] - 1s 38ms/step - loss: 45.1759\n",
      "Epoch 68/100\n",
      "31/31 [==============================] - 1s 34ms/step - loss: 45.0995\n",
      "Epoch 69/100\n",
      "31/31 [==============================] - 1s 35ms/step - loss: 45.0254\n",
      "Epoch 70/100\n",
      "31/31 [==============================] - 1s 35ms/step - loss: 44.9535\n",
      "Epoch 71/100\n",
      "31/31 [==============================] - 1s 36ms/step - loss: 44.8836\n",
      "Epoch 72/100\n",
      "31/31 [==============================] - 1s 36ms/step - loss: 44.8156\n",
      "Epoch 73/100\n",
      "31/31 [==============================] - 1s 35ms/step - loss: 44.7494\n",
      "Epoch 74/100\n",
      "31/31 [==============================] - 1s 36ms/step - loss: 44.6850\n",
      "Epoch 75/100\n",
      "31/31 [==============================] - 1s 36ms/step - loss: 44.6222\n",
      "Epoch 76/100\n",
      "31/31 [==============================] - 1s 34ms/step - loss: 44.5609\n",
      "Epoch 77/100\n",
      "31/31 [==============================] - 1s 33ms/step - loss: 44.5011\n",
      "Epoch 78/100\n",
      "31/31 [==============================] - 1s 34ms/step - loss: 44.4426\n",
      "Epoch 79/100\n",
      "31/31 [==============================] - 1s 36ms/step - loss: 44.3854\n",
      "Epoch 80/100\n",
      "31/31 [==============================] - 1s 35ms/step - loss: 44.3295\n",
      "Epoch 81/100\n",
      "31/31 [==============================] - 1s 33ms/step - loss: 44.2747\n",
      "Epoch 82/100\n",
      "31/31 [==============================] - 1s 34ms/step - loss: 44.2211\n",
      "Epoch 83/100\n",
      "31/31 [==============================] - 1s 35ms/step - loss: 44.1685\n",
      "Epoch 84/100\n",
      "31/31 [==============================] - 1s 35ms/step - loss: 44.1171\n",
      "Epoch 85/100\n",
      "31/31 [==============================] - 1s 36ms/step - loss: 44.0667\n",
      "Epoch 86/100\n",
      "31/31 [==============================] - 1s 37ms/step - loss: 44.0173\n",
      "Epoch 87/100\n",
      "31/31 [==============================] - 1s 34ms/step - loss: 43.9690\n",
      "Epoch 88/100\n",
      "31/31 [==============================] - 1s 33ms/step - loss: 43.9217\n",
      "Epoch 89/100\n",
      "31/31 [==============================] - 1s 35ms/step - loss: 43.8755\n",
      "Epoch 90/100\n",
      "31/31 [==============================] - 1s 34ms/step - loss: 43.8303\n",
      "Epoch 91/100\n",
      "31/31 [==============================] - 1s 33ms/step - loss: 43.7861\n",
      "Epoch 92/100\n",
      "31/31 [==============================] - 1s 36ms/step - loss: 43.7430\n",
      "Epoch 93/100\n",
      "31/31 [==============================] - 1s 36ms/step - loss: 43.7008\n",
      "Epoch 94/100\n",
      "31/31 [==============================] - 1s 34ms/step - loss: 43.6597\n",
      "Epoch 95/100\n",
      "31/31 [==============================] - 1s 33ms/step - loss: 43.6195\n",
      "Epoch 96/100\n",
      "31/31 [==============================] - 1s 38ms/step - loss: 43.5803\n",
      "Epoch 97/100\n",
      "31/31 [==============================] - 1s 35ms/step - loss: 43.5421\n",
      "Epoch 98/100\n",
      "31/31 [==============================] - 1s 36ms/step - loss: 43.5047\n",
      "Epoch 99/100\n",
      "31/31 [==============================] - 1s 35ms/step - loss: 43.4682\n",
      "Epoch 100/100\n",
      "31/31 [==============================] - 1s 34ms/step - loss: 43.4325\n"
     ]
    },
    {
     "data": {
      "text/plain": [
       "<tensorflow.python.keras.callbacks.History at 0x292878cf160>"
      ]
     },
     "execution_count": 11,
     "metadata": {},
     "output_type": "execute_result"
    }
   ],
   "source": [
    "tf.keras.backend.clear_session()\n",
    "dataset = windowed_dataset(x_train, window_size, batch_size, shuffle_buffer_size)\n",
    "\n",
    "model = tf.keras.models.Sequential([\n",
    "  tf.keras.layers.Lambda(lambda x: tf.expand_dims(x, axis=-1),\n",
    "                      input_shape=[None]),\n",
    "  tf.keras.layers.Bidirectional(tf.keras.layers.LSTM(32, return_sequences=True)),\n",
    "  tf.keras.layers.Bidirectional(tf.keras.layers.LSTM(32, return_sequences=True)),\n",
    "  tf.keras.layers.Bidirectional(tf.keras.layers.LSTM(32)),\n",
    "  tf.keras.layers.Dense(1),\n",
    "  tf.keras.layers.Lambda(lambda x: x * 100.0)\n",
    "])\n",
    "\n",
    "\n",
    "model.compile(loss=\"mse\", optimizer=tf.keras.optimizers.SGD(lr=1e-6, momentum=0.9))\n",
    "model.fit(dataset,epochs=100)"
   ]
  },
  {
   "cell_type": "code",
   "execution_count": 12,
   "metadata": {},
   "outputs": [
    {
     "data": {
      "text/plain": [
       "<Figure size 432x288 with 0 Axes>"
      ]
     },
     "execution_count": 12,
     "metadata": {},
     "output_type": "execute_result"
    },
    {
     "data": {
      "image/png": "[encoded data removed]",
      "text/plain": [
       "<Figure size 432x288 with 1 Axes>"
      ]
     },
     "metadata": {
      "needs_background": "light"
     },
     "output_type": "display_data"
    },
    {
     "data": {
      "image/png": "[encoded data removed]",
      "text/plain": [
       "<Figure size 432x288 with 1 Axes>"
      ]
     },
     "metadata": {
      "needs_background": "light"
     },
     "output_type": "display_data"
    },
    {
     "data": {
      "text/plain": [
       "<Figure size 432x288 with 0 Axes>"
      ]
     },
     "metadata": {},
     "output_type": "display_data"
    }
   ],
   "source": [
    "#-----------------------------------------------------------\n",
    "# Retrieve a list of list results on training and test data\n",
    "# sets for each training epoch\n",
    "#-----------------------------------------------------------\n",
    "mae=history.history['mae']\n",
    "loss=history.history['loss']\n",
    "\n",
    "epochs=range(len(loss)) # Get number of epochs\n",
    "\n",
    "#------------------------------------------------\n",
    "# Plot MAE and Loss\n",
    "#------------------------------------------------\n",
    "plt.plot(epochs, mae, 'r')\n",
    "plt.plot(epochs, loss, 'b')\n",
    "plt.title('MAE and Loss')\n",
    "plt.xlabel(\"Epochs\")\n",
    "plt.ylabel(\"Accuracy\")\n",
    "plt.legend([\"MAE\", \"Loss\"])\n",
    "\n",
    "plt.figure()\n",
    "\n",
    "epochs_zoom = epochs[200:]\n",
    "mae_zoom = mae[200:]\n",
    "loss_zoom = loss[200:]\n",
    "\n",
    "#------------------------------------------------\n",
    "# Plot Zoomed MAE and Loss\n",
    "#------------------------------------------------\n",
    "plt.plot(epochs_zoom, mae_zoom, 'r')\n",
    "plt.plot(epochs_zoom, loss_zoom, 'b')\n",
    "plt.title('MAE and Loss')\n",
    "plt.xlabel(\"Epochs\")\n",
    "plt.ylabel(\"Accuracy\")\n",
    "plt.legend([\"MAE\", \"Loss\"])\n",
    "\n",
    "plt.figure()"
   ]
  },
  {
   "cell_type": "code",
   "execution_count": null,
   "metadata": {},
   "outputs": [],
   "source": []
  }
 ],
 "metadata": {
  "colab": {
   "collapsed_sections": [],
   "name": "S+P Week 3 Lesson 4 - LSTM.ipynb",
   "provenance": []
  },
  "kernelspec": {
   "display_name": "Python 3",
   "language": "python",
   "name": "python3"
  },
  "language_info": {
   "codemirror_mode": {
    "name": "ipython",
    "version": 3
   },
   "file_extension": ".py",
   "mimetype": "text/x-python",
   "name": "python",
   "nbconvert_exporter": "python",
   "pygments_lexer": "ipython3",
   "version": "3.7.3"
  }
 },
 "nbformat": 4,
 "nbformat_minor": 4
}
