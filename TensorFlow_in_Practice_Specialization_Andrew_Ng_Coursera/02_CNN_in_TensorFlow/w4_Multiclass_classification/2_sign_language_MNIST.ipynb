{
 "cells": [
  {
   "cell_type": "code",
   "execution_count": 1,
   "metadata": {
    "colab": {},
    "colab_type": "code",
    "id": "wYtuKeK0dImp"
   },
   "outputs": [],
   "source": [
    "import csv\n",
    "import numpy as np\n",
    "import tensorflow as tf\n",
    "from tensorflow.keras.preprocessing.image import ImageDataGenerator\n",
    "# from google.colab import files"
   ]
  },
  {
   "cell_type": "markdown",
   "metadata": {
    "colab_type": "text",
    "id": "EmMyh9_mkDHF"
   },
   "source": [
    "The data for this exercise is available at: https://www.kaggle.com/datamunge/sign-language-mnist/home\n",
    "\n",
    "Sign up and download to find 2 CSV files: sign_mnist_test.csv and sign_mnist_train.csv -- You will upload both of them using this button before you can continue.\n"
   ]
  },
  {
   "cell_type": "code",
   "execution_count": null,
   "metadata": {
    "colab": {},
    "colab_type": "code",
    "id": "IcLOZlnnc_N7"
   },
   "outputs": [],
   "source": [
    "uploaded=files.upload()"
   ]
  },
  {
   "cell_type": "code",
   "execution_count": 36,
   "metadata": {
    "colab": {},
    "colab_type": "code",
    "id": "4kxw-_rmcnVu"
   },
   "outputs": [
    {
     "name": "stdout",
     "output_type": "stream",
     "text": [
      "(27455, 28, 28)\n",
      "(27455,)\n",
      "(7172, 28, 28)\n",
      "(7172,)\n"
     ]
    }
   ],
   "source": [
    "def get_data(filename):\n",
    "  # You will need to write code that will read the file passed\n",
    "  # into this function. The first line contains the column headers\n",
    "  # so you should ignore it\n",
    "  # Each successive line contians 785 comma separated values between 0 and 255\n",
    "  # The first value is the label\n",
    "  # The rest are the pixel values for that picture\n",
    "  # The function will return 2 np.array types. One with all the labels\n",
    "  # One with all the images\n",
    "  #\n",
    "  # Tips: \n",
    "  # If you read a full line (as 'row') then row[0] has the label\n",
    "  # and row[1:785] has the 784 pixel values\n",
    "  # Take a look at np.array_split to turn the 784 pixels into 28x28\n",
    "  # You are reading in strings, but need the values to be floats\n",
    "  # Check out np.array().astype for a conversion\n",
    "    data = pd.read_csv(f\"data/{filename}/{filename}\")\n",
    "    labels = data.label.values\n",
    "    images = data.drop('label', axis=1).values\n",
    "    images = images.reshape(len(data), 28, 28)\n",
    "    return images, labels\n",
    "\n",
    "\n",
    "training_images, training_labels = get_data('sign_mnist_train.csv')\n",
    "testing_images, testing_labels = get_data('sign_mnist_test.csv')\n",
    "\n",
    "# Keep these\n",
    "print(training_images.shape)\n",
    "print(training_labels.shape)\n",
    "print(testing_images.shape)\n",
    "print(testing_labels.shape)\n",
    "\n",
    "# Their output should be:\n",
    "# (27455, 28, 28)\n",
    "# (27455,)\n",
    "# (7172, 28, 28)\n",
    "# (7172,)"
   ]
  },
  {
   "cell_type": "code",
   "execution_count": 38,
   "metadata": {
    "colab": {},
    "colab_type": "code",
    "collapsed": true,
    "id": "awoqRpyZdQkD",
    "jupyter": {
     "outputs_hidden": true
    }
   },
   "outputs": [
    {
     "name": "stdout",
     "output_type": "stream",
     "text": [
      "(27455, 28, 28, 1)\n",
      "(7172, 28, 28, 1)\n"
     ]
    }
   ],
   "source": [
    "# In this section you will have to add another dimension to the data\n",
    "# So, for example, if your array is (10000, 28, 28)\n",
    "# You will need to make it (10000, 28, 28, 1)\n",
    "# Hint: np.expand_dims\n",
    "\n",
    "training_images =  training_images.reshape(-1, 28,28,1)\n",
    "testing_images = testing_images.reshape(-1, 28, 28, 1)\n",
    "\n",
    "# Create an ImageDataGenerator and do Image Augmentation\n",
    "train_datagen = ImageDataGenerator(rescale= 1./255,\n",
    "                                  rotation_range=40,\n",
    "                                  width_shift_range=.2,\n",
    "                                  height_shift_range=.2,\n",
    "                                  shear_range=.2,\n",
    "                                  zoom_range=.2,\n",
    "                                  horizontal_flip=True,\n",
    "                                  fill_mode='nearest')\n",
    "\n",
    "validation_datagen = ImageDataGenerator(rescale=1./255)\n",
    "    \n",
    "# Keep These\n",
    "print(training_images.shape)\n",
    "print(testing_images.shape)\n",
    "    \n",
    "# Their output should be:\n",
    "# (27455, 28, 28, 1)\n",
    "# (7172, 28, 28, 1)"
   ]
  },
  {
   "cell_type": "code",
   "execution_count": 48,
   "metadata": {
    "colab": {},
    "colab_type": "code",
    "id": "Rmb7S32cgRqS"
   },
   "outputs": [
    {
     "name": "stdout",
     "output_type": "stream",
     "text": [
      "Epoch 1/15\n",
      "858/858 [==============================] - 29s 34ms/step - loss: 2.8907 - acc: 0.1313 - val_loss: 2.0065 - val_acc: 0.3678\n",
      "Epoch 2/15\n",
      "858/858 [==============================] - 29s 34ms/step - loss: 2.1387 - acc: 0.3222 - val_loss: 1.4393 - val_acc: 0.5067\n",
      "Epoch 3/15\n",
      "858/858 [==============================] - 29s 34ms/step - loss: 1.8034 - acc: 0.4215 - val_loss: 1.1886 - val_acc: 0.5906\n",
      "Epoch 4/15\n",
      "858/858 [==============================] - 29s 33ms/step - loss: 1.5931 - acc: 0.4851 - val_loss: 1.1096 - val_acc: 0.6287\n",
      "Epoch 5/15\n",
      "858/858 [==============================] - 29s 33ms/step - loss: 1.4351 - acc: 0.5362 - val_loss: 0.8935 - val_acc: 0.6903\n",
      "Epoch 6/15\n",
      "858/858 [==============================] - 29s 33ms/step - loss: 1.3390 - acc: 0.5649 - val_loss: 0.8254 - val_acc: 0.7101\n",
      "Epoch 7/15\n",
      "858/858 [==============================] - 29s 33ms/step - loss: 1.2445 - acc: 0.5942 - val_loss: 0.8131 - val_acc: 0.7175\n",
      "Epoch 8/15\n",
      "858/858 [==============================] - 29s 33ms/step - loss: 1.1637 - acc: 0.6195 - val_loss: 0.7234 - val_acc: 0.7507\n",
      "Epoch 9/15\n",
      "858/858 [==============================] - 29s 34ms/step - loss: 1.0933 - acc: 0.6417 - val_loss: 0.6638 - val_acc: 0.7803\n",
      "Epoch 10/15\n",
      "858/858 [==============================] - 29s 34ms/step - loss: 1.0372 - acc: 0.6598 - val_loss: 0.6354 - val_acc: 0.7805\n",
      "Epoch 11/15\n",
      "858/858 [==============================] - 29s 33ms/step - loss: 0.9757 - acc: 0.6738 - val_loss: 0.6581 - val_acc: 0.7705\n",
      "Epoch 12/15\n",
      "858/858 [==============================] - 29s 33ms/step - loss: 0.9384 - acc: 0.6926 - val_loss: 0.5311 - val_acc: 0.8292\n",
      "Epoch 13/15\n",
      "858/858 [==============================] - 29s 34ms/step - loss: 0.9022 - acc: 0.7006 - val_loss: 0.5844 - val_acc: 0.7913\n",
      "Epoch 14/15\n",
      "858/858 [==============================] - 29s 33ms/step - loss: 0.8503 - acc: 0.7182 - val_loss: 0.4464 - val_acc: 0.8537\n",
      "Epoch 15/15\n",
      "858/858 [==============================] - 29s 33ms/step - loss: 0.8331 - acc: 0.7248 - val_loss: 0.6578 - val_acc: 0.7737\n"
     ]
    }
   ],
   "source": [
    "# Define the model\n",
    "# Use no more than 2 Conv2D and 2 MaxPooling2D\n",
    "model = tf.keras.models.Sequential([\n",
    "    tf.keras.layers.Conv2D(64, (3,3), activation='relu', input_shape=(28, 28, 1)),\n",
    "    tf.keras.layers.MaxPooling2D(strides=2),\n",
    "    tf.keras.layers.Conv2D(64, (3,3), activation='relu'),\n",
    "    tf.keras.layers.MaxPooling2D(strides=2),\n",
    "    tf.keras.layers.Flatten(),\n",
    "    tf.keras.layers.Dense(128, activation='relu'),\n",
    "    tf.keras.layers.Dense(26, activation='softmax')\n",
    "])\n",
    "\n",
    "# Compile Model. \n",
    "model.compile(optimizer=tf.train.AdamOptimizer(),\n",
    "              loss = 'sparse_categorical_crossentropy',\n",
    "              metrics=['accuracy'])\n",
    "\n",
    "# Train the Model\n",
    "history = model.fit_generator(train_datagen.flow(training_images, training_labels,\n",
    "                             batch_size=32), epochs=15,\n",
    "                             validation_data=validation_datagen.flow(testing_images, testing_labels,\n",
    "                                                                    batch_size=32))"
   ]
  },
  {
   "cell_type": "code",
   "execution_count": 49,
   "metadata": {
    "colab": {},
    "colab_type": "code",
    "id": "Rmb7S32cgRqS"
   },
   "outputs": [
    {
     "name": "stdout",
     "output_type": "stream",
     "text": [
      "7172/7172 [==============================] - 2s 265us/sample - loss: 170.1514 - acc: 0.6117\n"
     ]
    },
    {
     "data": {
      "text/plain": [
       "[170.1513963945073, 0.6116843]"
      ]
     },
     "execution_count": 49,
     "metadata": {},
     "output_type": "execute_result"
    }
   ],
   "source": [
    "model.evaluate(testing_images, testing_labels)\n",
    "    \n",
    "# The output from model.evaluate should be close to:\n",
    "# [6.92426086682151, 0.56609035]"
   ]
  },
  {
   "cell_type": "code",
   "execution_count": 50,
   "metadata": {
    "colab": {},
    "colab_type": "code",
    "id": "_Q3Zpr46dsij"
   },
   "outputs": [
    {
     "data": {
      "image/png": "[encoded data removed]",
      "text/plain": [
       "<Figure size 432x288 with 1 Axes>"
      ]
     },
     "metadata": {
      "needs_background": "light"
     },
     "output_type": "display_data"
    },
    {
     "data": {
      "image/png": "[encoded data removed]",
      "text/plain": [
       "<Figure size 432x288 with 1 Axes>"
      ]
     },
     "metadata": {
      "needs_background": "light"
     },
     "output_type": "display_data"
    }
   ],
   "source": [
    "# Plot the chart for accuracy and loss on both training and validation\n",
    "\n",
    "import matplotlib.pyplot as plt\n",
    "acc = history.history['acc']\n",
    "val_acc = history.history['val_acc']\n",
    "loss = history.history['loss']\n",
    "val_loss = history.history['val_loss']\n",
    "\n",
    "epochs = range(len(acc))\n",
    "\n",
    "plt.plot(epochs, acc, 'r', label='Training accuracy')\n",
    "plt.plot(epochs, val_acc, 'b', label='Validation accuracy')\n",
    "plt.title('Training and validation accuracy')\n",
    "plt.legend()\n",
    "plt.grid()\n",
    "plt.figure()\n",
    "\n",
    "plt.plot(epochs, loss, 'r', label='Training Loss')\n",
    "plt.plot(epochs, val_loss, 'b', label='Validation Loss')\n",
    "plt.title('Training and validation loss')\n",
    "plt.legend()\n",
    "plt.grid()\n",
    "\n",
    "plt.show()"
   ]
  },
  {
   "cell_type": "code",
   "execution_count": null,
   "metadata": {},
   "outputs": [],
   "source": []
  }
 ],
 "metadata": {
  "colab": {
   "name": "Exercise 8 - Question.ipynb",
   "provenance": []
  },
  "kernelspec": {
   "display_name": "Python 3",
   "language": "python",
   "name": "python3"
  },
  "language_info": {
   "codemirror_mode": {
    "name": "ipython",
    "version": 3
   },
   "file_extension": ".py",
   "mimetype": "text/x-python",
   "name": "python",
   "nbconvert_exporter": "python",
   "pygments_lexer": "ipython3",
   "version": "3.7.3"
  }
 },
 "nbformat": 4,
 "nbformat_minor": 4
}
