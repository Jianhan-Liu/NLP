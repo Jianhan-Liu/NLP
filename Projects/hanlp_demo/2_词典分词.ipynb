{
 "cells": [
  {
   "cell_type": "code",
   "execution_count": 8,
   "metadata": {},
   "outputs": [],
   "source": [
    "from pyhanlp import *\n",
    "import pyhanlp"
   ]
  },
  {
   "cell_type": "code",
   "execution_count": 2,
   "metadata": {},
   "outputs": [],
   "source": [
    "string = '上海市虹口区大连西路550号SISU'"
   ]
  },
  {
   "cell_type": "code",
   "execution_count": 3,
   "metadata": {},
   "outputs": [
    {
     "name": "stdout",
     "output_type": "stream",
     "text": [
      "[上海市/ns, 虹口区/ns, 大连/ns, 西路/n, 550/m, 号/q, SISU/nx]\n"
     ]
    }
   ],
   "source": [
    "segment = DoubleArrayTrieSegment()\n",
    "segment.enablePartOfSpeechTagging(True)\n",
    "HanLP.Config.ShowTermNature = True\n",
    "print(segment.seg(string))"
   ]
  },
  {
   "cell_type": "code",
   "execution_count": 6,
   "metadata": {},
   "outputs": [
    {
     "name": "stdout",
     "output_type": "stream",
     "text": [
      "[上海市/ns, 虹口区/ns, 大连/ns, 西路/n, 550/m, 号/nz, SISU/nx]\n"
     ]
    }
   ],
   "source": [
    "segment = JClass('com.hankcs.hanlp.seg.Other.AhoCorasickDoubleArrayTrieSegment')()\n",
    "segment.enablePartOfSpeechTagging(True)\n",
    "HanLP.Config.ShowTermNature = True\n",
    "print(segment.seg(string))"
   ]
  },
  {
   "cell_type": "code",
   "execution_count": null,
   "metadata": {},
   "outputs": [],
   "source": []
  }
 ],
 "metadata": {
  "kernelspec": {
   "display_name": "Python 3",
   "language": "python",
   "name": "python3"
  },
  "language_info": {
   "codemirror_mode": {
    "name": "ipython",
    "version": 3
   },
   "file_extension": ".py",
   "mimetype": "text/x-python",
   "name": "python",
   "nbconvert_exporter": "python",
   "pygments_lexer": "ipython3",
   "version": "3.6.8"
  }
 },
 "nbformat": 4,
 "nbformat_minor": 4
}
