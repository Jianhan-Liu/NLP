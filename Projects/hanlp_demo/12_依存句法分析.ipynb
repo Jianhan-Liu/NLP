{
 "cells": [
  {
   "cell_type": "code",
   "execution_count": 1,
   "metadata": {},
   "outputs": [],
   "source": [
    "from pyhanlp import HanLP"
   ]
  },
  {
   "cell_type": "code",
   "execution_count": 4,
   "metadata": {},
   "outputs": [],
   "source": [
    "parser = HanLP.parseDependency('王小明在北京的清华大学上学')"
   ]
  },
  {
   "cell_type": "code",
   "execution_count": 5,
   "metadata": {},
   "outputs": [
    {
     "name": "stdout",
     "output_type": "stream",
     "text": [
      "1\t王小明\t王小明\tnh\tnr\t_\t6\t主谓关系\t_\t_\n",
      "2\t在\t在\tp\tp\t_\t6\t状中结构\t_\t_\n",
      "3\t北京\t北京\tns\tns\t_\t5\t定中关系\t_\t_\n",
      "4\t的\t的\tu\tu\t_\t3\t右附加关系\t_\t_\n",
      "5\t清华大学\t清华大学\tni\tntu\t_\t2\t介宾关系\t_\t_\n",
      "6\t上学\t上学\tv\tv\t_\t0\t核心关系\t_\t_\n",
      "\n"
     ]
    }
   ],
   "source": [
    "print(parser)"
   ]
  },
  {
   "cell_type": "code",
   "execution_count": null,
   "metadata": {},
   "outputs": [],
   "source": []
  }
 ],
 "metadata": {
  "kernelspec": {
   "display_name": "Python 3",
   "language": "python",
   "name": "python3"
  },
  "language_info": {
   "codemirror_mode": {
    "name": "ipython",
    "version": 3
   },
   "file_extension": ".py",
   "mimetype": "text/x-python",
   "name": "python",
   "nbconvert_exporter": "python",
   "pygments_lexer": "ipython3",
   "version": "3.6.8"
  }
 },
 "nbformat": 4,
 "nbformat_minor": 4
}
