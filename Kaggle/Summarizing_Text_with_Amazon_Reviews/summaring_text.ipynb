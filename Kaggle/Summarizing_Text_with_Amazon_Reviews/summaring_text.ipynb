{
 "cells": [
  {
   "cell_type": "markdown",
   "metadata": {},
   "source": [
    "# 导入工具"
   ]
  },
  {
   "cell_type": "markdown",
   "metadata": {},
   "source": [
    "[Credit](https://www.analyticsvidhya.com/blog/2019/06/comprehensive-guide-text-summarization-using-deep-learning-python/)"
   ]
  },
  {
   "cell_type": "code",
   "execution_count": 1,
   "metadata": {},
   "outputs": [
    {
     "name": "stdout",
     "output_type": "stream",
     "text": [
      "2.0.0\n"
     ]
    }
   ],
   "source": [
    "import warnings\n",
    "warnings.filterwarnings('ignore')\n",
    "import gc\n",
    "from numba import jit\n",
    "from tqdm import tqdm_notebook, tqdm\n",
    "tqdm.pandas()\n",
    "import sys\n",
    "import os\n",
    "import re\n",
    "import json\n",
    "import logging\n",
    "logging.basicConfig(format=\"%(asctime)s: %(levelname)s: %(message)s\", level=logging.INFO)\n",
    "\n",
    "from bs4 import BeautifulSoup\n",
    "\n",
    "import numpy as np\n",
    "np.set_printoptions(suppress=True, precision=3)\n",
    "import pandas as pd\n",
    "pd.set_option('display.max_columns', 200)\n",
    "pd.set_option('display.max_colwidth', 200)\n",
    "import pandas_profiling\n",
    "import seaborn as sns\n",
    "sns.set()\n",
    "import matplotlib.pyplot as  plt\n",
    "import matplotlib.patches as patches\n",
    "plt.rcParams['font.sans-serif'] = ['SimHei']\n",
    "%matplotlib inline\n",
    "\n",
    "from collections import defaultdict, Counter\n",
    "from nltk.corpus import stopwords\n",
    "from attention import AttentionLayer\n",
    "\n",
    "from sklearn.model_selection import train_test_split\n",
    "\n",
    "import tensorflow as tf\n",
    "from tensorflow.keras.preprocessing.text import Tokenizer\n",
    "from tensorflow.keras.preprocessing.sequence import pad_sequences\n",
    "from tensorflow.keras.layers import Input, LSTM, Embedding, Dense\n",
    "from tensorflow.keras.layers import Concatenate, TimeDistributed, Bidirectional\n",
    "from tensorflow.keras.models import Model, load_model\n",
    "from tensorflow.keras.callbacks import EarlyStopping, CSVLogger, ModelCheckpoint\n",
    "from tensorflow.keras.optimizers.schedules import ExponentialDecay\n",
    "from tensorflow.python.framework import ops\n",
    "\n",
    "print(tf.__version__)"
   ]
  },
  {
   "cell_type": "markdown",
   "metadata": {},
   "source": [
    "# 查看数据 "
   ]
  },
  {
   "cell_type": "code",
   "execution_count": 2,
   "metadata": {},
   "outputs": [],
   "source": [
    "data = pd.read_csv('data/Reviews.csv', nrows=10000)"
   ]
  },
  {
   "cell_type": "code",
   "execution_count": 3,
   "metadata": {},
   "outputs": [],
   "source": [
    "data.drop_duplicates(subset=['Text'], inplace=True)\n",
    "data.dropna(axis=0, inplace=True, subset=['Text'])"
   ]
  },
  {
   "cell_type": "code",
   "execution_count": 4,
   "metadata": {},
   "outputs": [
    {
     "data": {
      "text/plain": [
       "Id                        0\n",
       "ProductId                 0\n",
       "UserId                    0\n",
       "ProfileName               0\n",
       "HelpfulnessNumerator      0\n",
       "HelpfulnessDenominator    0\n",
       "Score                     0\n",
       "Time                      0\n",
       "Summary                   0\n",
       "Text                      0\n",
       "dtype: int64"
      ]
     },
     "execution_count": 4,
     "metadata": {},
     "output_type": "execute_result"
    }
   ],
   "source": [
    "data.isna().sum()"
   ]
  },
  {
   "cell_type": "code",
   "execution_count": 5,
   "metadata": {},
   "outputs": [
    {
     "data": {
      "text/html": [
       "<div>\n",
       "<style scoped>\n",
       "    .dataframe tbody tr th:only-of-type {\n",
       "        vertical-align: middle;\n",
       "    }\n",
       "\n",
       "    .dataframe tbody tr th {\n",
       "        vertical-align: top;\n",
       "    }\n",
       "\n",
       "    .dataframe thead th {\n",
       "        text-align: right;\n",
       "    }\n",
       "</style>\n",
       "<table border=\"1\" class=\"dataframe\">\n",
       "  <thead>\n",
       "    <tr style=\"text-align: right;\">\n",
       "      <th></th>\n",
       "      <th>Id</th>\n",
       "      <th>ProductId</th>\n",
       "      <th>UserId</th>\n",
       "      <th>ProfileName</th>\n",
       "      <th>HelpfulnessNumerator</th>\n",
       "      <th>HelpfulnessDenominator</th>\n",
       "      <th>Score</th>\n",
       "      <th>Time</th>\n",
       "      <th>Summary</th>\n",
       "      <th>Text</th>\n",
       "    </tr>\n",
       "  </thead>\n",
       "  <tbody>\n",
       "    <tr>\n",
       "      <th>0</th>\n",
       "      <td>1</td>\n",
       "      <td>B001E4KFG0</td>\n",
       "      <td>A3SGXH7AUHU8GW</td>\n",
       "      <td>delmartian</td>\n",
       "      <td>1</td>\n",
       "      <td>1</td>\n",
       "      <td>5</td>\n",
       "      <td>1303862400</td>\n",
       "      <td>Good Quality Dog Food</td>\n",
       "      <td>I have bought several of the Vitality canned dog food products and have found them all to be of good quality. The product looks more like a stew than a processed meat and it smells better. My Labr...</td>\n",
       "    </tr>\n",
       "  </tbody>\n",
       "</table>\n",
       "</div>"
      ],
      "text/plain": [
       "   Id   ProductId          UserId ProfileName  HelpfulnessNumerator  \\\n",
       "0   1  B001E4KFG0  A3SGXH7AUHU8GW  delmartian                     1   \n",
       "\n",
       "   HelpfulnessDenominator  Score        Time                Summary  \\\n",
       "0                       1      5  1303862400  Good Quality Dog Food   \n",
       "\n",
       "                                                                                                                                                                                                      Text  \n",
       "0  I have bought several of the Vitality canned dog food products and have found them all to be of good quality. The product looks more like a stew than a processed meat and it smells better. My Labr...  "
      ]
     },
     "execution_count": 5,
     "metadata": {},
     "output_type": "execute_result"
    }
   ],
   "source": [
    "data.head(1)"
   ]
  },
  {
   "cell_type": "markdown",
   "metadata": {},
   "source": [
    "# 准备数据"
   ]
  },
  {
   "cell_type": "code",
   "execution_count": 6,
   "metadata": {},
   "outputs": [
    {
     "data": {
      "text/plain": [
       "0    I have bought several of the Vitality canned dog food products and have found them all to be of good quality. The product looks more like a stew than a processed meat and it smells better. My Labr...\n",
       "1             Product arrived labeled as Jumbo Salted Peanuts...the peanuts were actually small sized unsalted. Not sure if this was an error or if the vendor intended to represent the product as \"Jumbo\".\n",
       "Name: Text, dtype: object"
      ]
     },
     "execution_count": 6,
     "metadata": {},
     "output_type": "execute_result"
    }
   ],
   "source": [
    "data.Text[:2]"
   ]
  },
  {
   "cell_type": "code",
   "execution_count": 7,
   "metadata": {},
   "outputs": [
    {
     "data": {
      "text/plain": [
       "0    Good Quality Dog Food\n",
       "1        Not as Advertised\n",
       "Name: Summary, dtype: object"
      ]
     },
     "execution_count": 7,
     "metadata": {},
     "output_type": "execute_result"
    }
   ],
   "source": [
    "data.Summary[:2]"
   ]
  },
  {
   "cell_type": "markdown",
   "metadata": {},
   "source": [
    "## 文本与摘要清洗\n",
    "- 转小写\n",
    "- 缩写转全写\n",
    "- 删除html标签\n",
    "- 去除停用词"
   ]
  },
  {
   "cell_type": "code",
   "execution_count": 4,
   "metadata": {},
   "outputs": [],
   "source": [
    "contractions = { \n",
    "\"ain't\": \"am not\",\n",
    "\"aren't\": \"are not\",\n",
    "\"can't\": \"cannot\",\n",
    "\"can't've\": \"cannot have\",\n",
    "\"'cause\": \"because\",\n",
    "\"could've\": \"could have\",\n",
    "\"couldn't\": \"could not\",\n",
    "\"couldn't've\": \"could not have\",\n",
    "\"didn't\": \"did not\",\n",
    "\"doesn't\": \"does not\",\n",
    "\"don't\": \"do not\",\n",
    "\"hadn't\": \"had not\",\n",
    "\"hadn't've\": \"had not have\",\n",
    "\"hasn't\": \"has not\",\n",
    "\"haven't\": \"have not\",\n",
    "\"he'd\": \"he would\",\n",
    "\"he'd've\": \"he would have\",\n",
    "\"he'll\": \"he will\",\n",
    "\"he's\": \"he is\",\n",
    "\"how'd\": \"how did\",\n",
    "\"how'll\": \"how will\",\n",
    "\"how's\": \"how is\",\n",
    "\"i'd\": \"i would\",\n",
    "\"i'll\": \"i will\",\n",
    "\"i'm\": \"i am\",\n",
    "\"i've\": \"i have\",\n",
    "\"isn't\": \"is not\",\n",
    "\"it'd\": \"it would\",\n",
    "\"it'll\": \"it will\",\n",
    "\"it's\": \"it is\",\n",
    "\"let's\": \"let us\",\n",
    "\"ma'am\": \"madam\",\n",
    "\"mayn't\": \"may not\",\n",
    "\"might've\": \"might have\",\n",
    "\"mightn't\": \"might not\",\n",
    "\"must've\": \"must have\",\n",
    "\"mustn't\": \"must not\",\n",
    "\"needn't\": \"need not\",\n",
    "\"oughtn't\": \"ought not\",\n",
    "\"shan't\": \"shall not\",\n",
    "\"sha'n't\": \"shall not\",\n",
    "\"she'd\": \"she would\",\n",
    "\"she'll\": \"she will\",\n",
    "\"she's\": \"she is\",\n",
    "\"should've\": \"should have\",\n",
    "\"shouldn't\": \"should not\",\n",
    "\"that'd\": \"that would\",\n",
    "\"that's\": \"that is\",\n",
    "\"there'd\": \"there had\",\n",
    "\"there's\": \"there is\",\n",
    "\"they'd\": \"they would\",\n",
    "\"they'll\": \"they will\",\n",
    "\"they're\": \"they are\",\n",
    "\"they've\": \"they have\",\n",
    "\"wasn't\": \"was not\",\n",
    "\"we'd\": \"we would\",\n",
    "\"we'll\": \"we will\",\n",
    "\"we're\": \"we are\",\n",
    "\"we've\": \"we have\",\n",
    "\"weren't\": \"were not\",\n",
    "\"what'll\": \"what will\",\n",
    "\"what're\": \"what are\",\n",
    "\"what's\": \"what is\",\n",
    "\"what've\": \"what have\",\n",
    "\"where'd\": \"where did\",\n",
    "\"where's\": \"where is\",\n",
    "\"who'll\": \"who will\",\n",
    "\"who's\": \"who is\",\n",
    "\"won't\": \"will not\",\n",
    "\"wouldn't\": \"would not\",\n",
    "\"you'd\": \"you would\",\n",
    "\"you'll\": \"you will\",\n",
    "\"you're\": \"you are\"}"
   ]
  },
  {
   "cell_type": "code",
   "execution_count": 5,
   "metadata": {},
   "outputs": [],
   "source": [
    "def clean_text(text, remove_stopwords=True, bos_and_eos=False):\n",
    "    text = text.lower()\n",
    "    new_text = []\n",
    "    for word in text.split():\n",
    "        if word in contractions:\n",
    "            new_text.append(contractions[word])\n",
    "        else:\n",
    "            new_text.append(word)\n",
    "    text = ' '.join(new_text)\n",
    "    \n",
    "    text = re.sub(r'https?:\\/\\/.*[\\r\\n]*', '', text, flags=re.MULTILINE)\n",
    "    text = re.sub(r'\\<a href', ' ', text)\n",
    "    text = re.sub(r'&amp;', '', text) \n",
    "    text = re.sub(r'[>_\"\\-;%()|+&=*%.,!?:#$@\\[\\]/]', ' ', text)\n",
    "    text = re.sub(r'<br />', ' ', text)\n",
    "    text = re.sub(r'<br', ' ',text)\n",
    "    text = re.sub(r'><br', ' ', text)\n",
    "    text = re.sub(r'\\'', ' ', text)\n",
    "    \n",
    "    if remove_stopwords:\n",
    "        text = text.split()\n",
    "        stops = set(stopwords.words('english'))\n",
    "        text  = [word for word in text if not word in stops]\n",
    "        text = ' '.join(text)\n",
    "    \n",
    "    if bos_and_eos:\n",
    "        text = ' '.join(['bos', text, 'eos'])\n",
    "    return text"
   ]
  },
  {
   "cell_type": "code",
   "execution_count": 6,
   "metadata": {},
   "outputs": [],
   "source": [
    "# 摘要不去除停用词，且前后加上开始与结束标签\n",
    "data['Cleaned_Summary'] = data.Summary.apply(clean_text, args=(False,True))\n",
    "data['Cleaned_Text'] = data.Text.apply(clean_text)"
   ]
  },
  {
   "cell_type": "code",
   "execution_count": 7,
   "metadata": {},
   "outputs": [
    {
     "data": {
      "text/html": [
       "<div>\n",
       "<style scoped>\n",
       "    .dataframe tbody tr th:only-of-type {\n",
       "        vertical-align: middle;\n",
       "    }\n",
       "\n",
       "    .dataframe tbody tr th {\n",
       "        vertical-align: top;\n",
       "    }\n",
       "\n",
       "    .dataframe thead th {\n",
       "        text-align: right;\n",
       "    }\n",
       "</style>\n",
       "<table border=\"1\" class=\"dataframe\">\n",
       "  <thead>\n",
       "    <tr style=\"text-align: right;\">\n",
       "      <th></th>\n",
       "      <th>Text</th>\n",
       "      <th>Summary</th>\n",
       "      <th>Cleaned_Summary</th>\n",
       "      <th>Cleaned_Text</th>\n",
       "    </tr>\n",
       "  </thead>\n",
       "  <tbody>\n",
       "    <tr>\n",
       "      <th>0</th>\n",
       "      <td>I have bought several of the Vitality canned dog food products and have found them all to be of good quality. The product looks more like a stew than a processed meat and it smells better. My Labr...</td>\n",
       "      <td>Good Quality Dog Food</td>\n",
       "      <td>bos good quality dog food eos</td>\n",
       "      <td>bought several vitality canned dog food products found good quality product looks like stew processed meat smells better labrador finicky appreciates product better</td>\n",
       "    </tr>\n",
       "    <tr>\n",
       "      <th>1</th>\n",
       "      <td>Product arrived labeled as Jumbo Salted Peanuts...the peanuts were actually small sized unsalted. Not sure if this was an error or if the vendor intended to represent the product as \"Jumbo\".</td>\n",
       "      <td>Not as Advertised</td>\n",
       "      <td>bos not as advertised eos</td>\n",
       "      <td>product arrived labeled jumbo salted peanuts peanuts actually small sized unsalted sure error vendor intended represent product jumbo</td>\n",
       "    </tr>\n",
       "    <tr>\n",
       "      <th>2</th>\n",
       "      <td>This is a confection that has been around a few centuries.  It is a light, pillowy citrus gelatin with nuts - in this case Filberts. And it is cut into tiny squares and then liberally coated with ...</td>\n",
       "      <td>\"Delight\" says it all</td>\n",
       "      <td>bos  delight  says it all eos</td>\n",
       "      <td>confection around centuries light pillowy citrus gelatin nuts case filberts cut tiny squares liberally coated powdered sugar tiny mouthful heaven chewy flavorful highly recommend yummy treat famil...</td>\n",
       "    </tr>\n",
       "  </tbody>\n",
       "</table>\n",
       "</div>"
      ],
      "text/plain": [
       "                                                                                                                                                                                                      Text  \\\n",
       "0  I have bought several of the Vitality canned dog food products and have found them all to be of good quality. The product looks more like a stew than a processed meat and it smells better. My Labr...   \n",
       "1           Product arrived labeled as Jumbo Salted Peanuts...the peanuts were actually small sized unsalted. Not sure if this was an error or if the vendor intended to represent the product as \"Jumbo\".   \n",
       "2  This is a confection that has been around a few centuries.  It is a light, pillowy citrus gelatin with nuts - in this case Filberts. And it is cut into tiny squares and then liberally coated with ...   \n",
       "\n",
       "                 Summary                Cleaned_Summary  \\\n",
       "0  Good Quality Dog Food  bos good quality dog food eos   \n",
       "1      Not as Advertised      bos not as advertised eos   \n",
       "2  \"Delight\" says it all  bos  delight  says it all eos   \n",
       "\n",
       "                                                                                                                                                                                              Cleaned_Text  \n",
       "0                                     bought several vitality canned dog food products found good quality product looks like stew processed meat smells better labrador finicky appreciates product better  \n",
       "1                                                                    product arrived labeled jumbo salted peanuts peanuts actually small sized unsalted sure error vendor intended represent product jumbo  \n",
       "2  confection around centuries light pillowy citrus gelatin nuts case filberts cut tiny squares liberally coated powdered sugar tiny mouthful heaven chewy flavorful highly recommend yummy treat famil...  "
      ]
     },
     "execution_count": 7,
     "metadata": {},
     "output_type": "execute_result"
    }
   ],
   "source": [
    "data[['Text', 'Summary', 'Cleaned_Summary', 'Cleaned_Text']].head(3)"
   ]
  },
  {
   "cell_type": "code",
   "execution_count": 8,
   "metadata": {},
   "outputs": [
    {
     "data": {
      "text/html": [
       "<div>\n",
       "<style scoped>\n",
       "    .dataframe tbody tr th:only-of-type {\n",
       "        vertical-align: middle;\n",
       "    }\n",
       "\n",
       "    .dataframe tbody tr th {\n",
       "        vertical-align: top;\n",
       "    }\n",
       "\n",
       "    .dataframe thead th {\n",
       "        text-align: right;\n",
       "    }\n",
       "</style>\n",
       "<table border=\"1\" class=\"dataframe\">\n",
       "  <thead>\n",
       "    <tr style=\"text-align: right;\">\n",
       "      <th></th>\n",
       "      <th>Text</th>\n",
       "      <th>Summary</th>\n",
       "      <th>Cleaned_Summary</th>\n",
       "      <th>Cleaned_Text</th>\n",
       "    </tr>\n",
       "  </thead>\n",
       "  <tbody>\n",
       "    <tr>\n",
       "      <th>0</th>\n",
       "      <td>I have bought several of the Vitality canned dog food products and have found them all to be of good quality. The product looks more like a stew than a processed meat and it smells better. My Labr...</td>\n",
       "      <td>Good Quality Dog Food</td>\n",
       "      <td>bos good quality dog food eos</td>\n",
       "      <td>bought several vitality canned dog food products found good quality product looks like stew processed meat smells better labrador finicky appreciates product better</td>\n",
       "    </tr>\n",
       "    <tr>\n",
       "      <th>1</th>\n",
       "      <td>Product arrived labeled as Jumbo Salted Peanuts...the peanuts were actually small sized unsalted. Not sure if this was an error or if the vendor intended to represent the product as \"Jumbo\".</td>\n",
       "      <td>Not as Advertised</td>\n",
       "      <td>bos not as advertised eos</td>\n",
       "      <td>product arrived labeled jumbo salted peanuts peanuts actually small sized unsalted sure error vendor intended represent product jumbo</td>\n",
       "    </tr>\n",
       "  </tbody>\n",
       "</table>\n",
       "</div>"
      ],
      "text/plain": [
       "                                                                                                                                                                                                      Text  \\\n",
       "0  I have bought several of the Vitality canned dog food products and have found them all to be of good quality. The product looks more like a stew than a processed meat and it smells better. My Labr...   \n",
       "1           Product arrived labeled as Jumbo Salted Peanuts...the peanuts were actually small sized unsalted. Not sure if this was an error or if the vendor intended to represent the product as \"Jumbo\".   \n",
       "\n",
       "                 Summary                Cleaned_Summary  \\\n",
       "0  Good Quality Dog Food  bos good quality dog food eos   \n",
       "1      Not as Advertised      bos not as advertised eos   \n",
       "\n",
       "                                                                                                                                                           Cleaned_Text  \n",
       "0  bought several vitality canned dog food products found good quality product looks like stew processed meat smells better labrador finicky appreciates product better  \n",
       "1                                 product arrived labeled jumbo salted peanuts peanuts actually small sized unsalted sure error vendor intended represent product jumbo  "
      ]
     },
     "execution_count": 8,
     "metadata": {},
     "output_type": "execute_result"
    }
   ],
   "source": [
    "data_pure = data[['Text', 'Summary', 'Cleaned_Summary', 'Cleaned_Text']].copy()\n",
    "data_pure.head(2)"
   ]
  },
  {
   "cell_type": "code",
   "execution_count": 9,
   "metadata": {},
   "outputs": [
    {
     "name": "stdout",
     "output_type": "stream",
     "text": [
      "<class 'pandas.core.frame.DataFrame'>\n",
      "Int64Index: 9513 entries, 0 to 9999\n",
      "Data columns (total 4 columns):\n",
      "Text               9513 non-null object\n",
      "Summary            9513 non-null object\n",
      "Cleaned_Summary    9513 non-null object\n",
      "Cleaned_Text       9513 non-null object\n",
      "dtypes: object(4)\n",
      "memory usage: 371.6+ KB\n"
     ]
    }
   ],
   "source": [
    "data_pure.info()"
   ]
  },
  {
   "cell_type": "markdown",
   "metadata": {},
   "source": [
    "## 查看长度范围，确定统一长度"
   ]
  },
  {
   "cell_type": "code",
   "execution_count": 10,
   "metadata": {},
   "outputs": [
    {
     "data": {
      "text/html": [
       "<div>\n",
       "<style scoped>\n",
       "    .dataframe tbody tr th:only-of-type {\n",
       "        vertical-align: middle;\n",
       "    }\n",
       "\n",
       "    .dataframe tbody tr th {\n",
       "        vertical-align: top;\n",
       "    }\n",
       "\n",
       "    .dataframe thead th {\n",
       "        text-align: right;\n",
       "    }\n",
       "</style>\n",
       "<table border=\"1\" class=\"dataframe\">\n",
       "  <thead>\n",
       "    <tr style=\"text-align: right;\">\n",
       "      <th></th>\n",
       "      <th>Text</th>\n",
       "      <th>Summary</th>\n",
       "      <th>Cleaned_Summary</th>\n",
       "      <th>Cleaned_Text</th>\n",
       "      <th>Text_Length</th>\n",
       "      <th>Summary_Length</th>\n",
       "    </tr>\n",
       "  </thead>\n",
       "  <tbody>\n",
       "    <tr>\n",
       "      <th>0</th>\n",
       "      <td>I have bought several of the Vitality canned dog food products and have found them all to be of good quality. The product looks more like a stew than a processed meat and it smells better. My Labr...</td>\n",
       "      <td>Good Quality Dog Food</td>\n",
       "      <td>bos good quality dog food eos</td>\n",
       "      <td>bought several vitality canned dog food products found good quality product looks like stew processed meat smells better labrador finicky appreciates product better</td>\n",
       "      <td>23</td>\n",
       "      <td>6</td>\n",
       "    </tr>\n",
       "    <tr>\n",
       "      <th>1</th>\n",
       "      <td>Product arrived labeled as Jumbo Salted Peanuts...the peanuts were actually small sized unsalted. Not sure if this was an error or if the vendor intended to represent the product as \"Jumbo\".</td>\n",
       "      <td>Not as Advertised</td>\n",
       "      <td>bos not as advertised eos</td>\n",
       "      <td>product arrived labeled jumbo salted peanuts peanuts actually small sized unsalted sure error vendor intended represent product jumbo</td>\n",
       "      <td>18</td>\n",
       "      <td>5</td>\n",
       "    </tr>\n",
       "    <tr>\n",
       "      <th>2</th>\n",
       "      <td>This is a confection that has been around a few centuries.  It is a light, pillowy citrus gelatin with nuts - in this case Filberts. And it is cut into tiny squares and then liberally coated with ...</td>\n",
       "      <td>\"Delight\" says it all</td>\n",
       "      <td>bos  delight  says it all eos</td>\n",
       "      <td>confection around centuries light pillowy citrus gelatin nuts case filberts cut tiny squares liberally coated powdered sugar tiny mouthful heaven chewy flavorful highly recommend yummy treat famil...</td>\n",
       "      <td>40</td>\n",
       "      <td>6</td>\n",
       "    </tr>\n",
       "  </tbody>\n",
       "</table>\n",
       "</div>"
      ],
      "text/plain": [
       "                                                                                                                                                                                                      Text  \\\n",
       "0  I have bought several of the Vitality canned dog food products and have found them all to be of good quality. The product looks more like a stew than a processed meat and it smells better. My Labr...   \n",
       "1           Product arrived labeled as Jumbo Salted Peanuts...the peanuts were actually small sized unsalted. Not sure if this was an error or if the vendor intended to represent the product as \"Jumbo\".   \n",
       "2  This is a confection that has been around a few centuries.  It is a light, pillowy citrus gelatin with nuts - in this case Filberts. And it is cut into tiny squares and then liberally coated with ...   \n",
       "\n",
       "                 Summary                Cleaned_Summary  \\\n",
       "0  Good Quality Dog Food  bos good quality dog food eos   \n",
       "1      Not as Advertised      bos not as advertised eos   \n",
       "2  \"Delight\" says it all  bos  delight  says it all eos   \n",
       "\n",
       "                                                                                                                                                                                              Cleaned_Text  \\\n",
       "0                                     bought several vitality canned dog food products found good quality product looks like stew processed meat smells better labrador finicky appreciates product better   \n",
       "1                                                                    product arrived labeled jumbo salted peanuts peanuts actually small sized unsalted sure error vendor intended represent product jumbo   \n",
       "2  confection around centuries light pillowy citrus gelatin nuts case filberts cut tiny squares liberally coated powdered sugar tiny mouthful heaven chewy flavorful highly recommend yummy treat famil...   \n",
       "\n",
       "   Text_Length  Summary_Length  \n",
       "0           23               6  \n",
       "1           18               5  \n",
       "2           40               6  "
      ]
     },
     "execution_count": 10,
     "metadata": {},
     "output_type": "execute_result"
    }
   ],
   "source": [
    "data_pure['Text_Length'] = data_pure.Cleaned_Text.apply(lambda x:len(x.split()))\n",
    "data_pure['Summary_Length'] = data_pure.Cleaned_Summary.apply(lambda x:len(x.split()))\n",
    "data_pure.head(3)"
   ]
  },
  {
   "cell_type": "code",
   "execution_count": 11,
   "metadata": {},
   "outputs": [
    {
     "data": {
      "image/png": "[encoded data removed]",
      "text/plain": [
       "<Figure size 432x432 with 1 Axes>"
      ]
     },
     "metadata": {
      "needs_background": "light"
     },
     "output_type": "display_data"
    },
    {
     "data": {
      "text/plain": [
       "count    9513.000000\n",
       "mean        6.140545\n",
       "std         2.663633\n",
       "min         2.000000\n",
       "25%         4.000000\n",
       "50%         6.000000\n",
       "75%         7.000000\n",
       "max        32.000000\n",
       "Name: Summary_Length, dtype: float64"
      ]
     },
     "execution_count": 11,
     "metadata": {},
     "output_type": "execute_result"
    }
   ],
   "source": [
    "data_pure.Summary_Length.plot.box(figsize=(6,6))\n",
    "plt.show()\n",
    "data_pure.Summary_Length.describe()"
   ]
  },
  {
   "cell_type": "code",
   "execution_count": 12,
   "metadata": {},
   "outputs": [
    {
     "data": {
      "image/png": "[encoded data removed]",
      "text/plain": [
       "<Figure size 432x432 with 1 Axes>"
      ]
     },
     "metadata": {
      "needs_background": "light"
     },
     "output_type": "display_data"
    },
    {
     "data": {
      "text/plain": [
       "count    9513.000000\n",
       "mean       38.003574\n",
       "std        37.029990\n",
       "min         0.000000\n",
       "25%        16.000000\n",
       "50%        27.000000\n",
       "75%        46.000000\n",
       "max       749.000000\n",
       "Name: Text_Length, dtype: float64"
      ]
     },
     "execution_count": 12,
     "metadata": {},
     "output_type": "execute_result"
    }
   ],
   "source": [
    "data_pure.Text_Length.plot.box(figsize=(6,6))\n",
    "plt.show()\n",
    "data_pure.Text_Length.describe()"
   ]
  },
  {
   "cell_type": "code",
   "execution_count": 13,
   "metadata": {},
   "outputs": [],
   "source": [
    "max_len_text = 80\n",
    "max_len_summary = 10"
   ]
  },
  {
   "cell_type": "markdown",
   "metadata": {},
   "source": [
    "## 分离训练，验证，测试集"
   ]
  },
  {
   "cell_type": "code",
   "execution_count": 14,
   "metadata": {},
   "outputs": [
    {
     "data": {
      "text/plain": [
       "((8561,), (952,), (8561,), (952,))"
      ]
     },
     "execution_count": 14,
     "metadata": {},
     "output_type": "execute_result"
    }
   ],
   "source": [
    "train_features, valid_features, train_labels, valid_labels = train_test_split(data_pure.Cleaned_Text,\n",
    "                                                                               data_pure.Cleaned_Summary, test_size=.1,\n",
    "                                                                               random_state=0, shuffle=True)\n",
    "train_features.shape, valid_features.shape, train_labels.shape, valid_labels.shape"
   ]
  },
  {
   "cell_type": "code",
   "execution_count": 71,
   "metadata": {},
   "outputs": [
    {
     "data": {
      "text/plain": [
       "('confection around centuries light pillowy citrus gelatin nuts case filberts cut tiny squares liberally coated powdered sugar tiny mouthful heaven chewy flavorful highly recommend yummy treat familiar story c lewis lion witch wardrobe treat seduces edmund selling brother sisters witch',\n",
       " 'bos  delight  says it all eos')"
      ]
     },
     "execution_count": 71,
     "metadata": {},
     "output_type": "execute_result"
    }
   ],
   "source": [
    "sample=2\n",
    "train_features[sample], train_labels[sample]"
   ]
  },
  {
   "cell_type": "markdown",
   "metadata": {},
   "source": [
    "## Tokenizer"
   ]
  },
  {
   "cell_type": "code",
   "execution_count": 25,
   "metadata": {},
   "outputs": [],
   "source": [
    "train_tokenizer = Tokenizer()\n",
    "train_tokenizer.fit_on_texts(list(train_features))\n",
    "train_index2word = train_tokenizer.index_word\n",
    "\n",
    "train_seq = train_tokenizer.texts_to_sequences(train_features)\n",
    "valid_seq = train_tokenizer.texts_to_sequences(valid_features)\n",
    "\n",
    "paded_train_seq = pad_sequences(train_seq, maxlen=max_len_text, padding='post')\n",
    "paded_valid_seq = pad_sequences(valid_seq, maxlen=max_len_text, padding='post')\n",
    "\n",
    "train_vocab_size = len(train_word2index) + 1"
   ]
  },
  {
   "cell_type": "code",
   "execution_count": 27,
   "metadata": {},
   "outputs": [],
   "source": [
    "label_tokenizer = Tokenizer()\n",
    "label_tokenizer.fit_on_texts(list(train_labels))\n",
    "label_word2index = label_tokenizer.word_index\n",
    "label_index2word = label_tokenizer.index_word\n",
    "\n",
    "train_label_seq = label_tokenizer.texts_to_sequences(train_labels)\n",
    "valid_label_seq = label_tokenizer.texts_to_sequences(valid_labels)\n",
    "\n",
    "paded_train_label_seq = pad_sequences(train_label_seq, maxlen=max_len_summary, padding='post')\n",
    "paded_valid_label_seq = pad_sequences(valid_label_seq, maxlen=max_len_summary, padding='post')\n",
    "\n",
    "label_vocab_size = len(label_word2index) + 1"
   ]
  },
  {
   "cell_type": "code",
   "execution_count": 47,
   "metadata": {},
   "outputs": [
    {
     "data": {
      "text/plain": [
       "(17306, 4288)"
      ]
     },
     "execution_count": 47,
     "metadata": {},
     "output_type": "execute_result"
    }
   ],
   "source": [
    "train_vocab_size, label_vocab_size"
   ]
  },
  {
   "cell_type": "code",
   "execution_count": 50,
   "metadata": {},
   "outputs": [
    {
     "data": {
      "text/plain": [
       "array([  49,  484,  261,  375,  144,  489,   18, 1021,  687, 4859,   54,\n",
       "       5421,  576, 1022,    9,    6,  336,   86, 1250,   17, 3797,   54,\n",
       "         73,   78,  311,  129,  576,    0,    0,    0,    0,    0,    0,\n",
       "          0,    0,    0,    0,    0,    0,    0,    0,    0,    0,    0,\n",
       "          0,    0,    0,    0,    0,    0,    0,    0,    0,    0,    0,\n",
       "          0,    0,    0,    0,    0,    0,    0,    0,    0,    0,    0,\n",
       "          0,    0,    0,    0,    0,    0,    0,    0,    0,    0,    0,\n",
       "          0,    0,    0])"
      ]
     },
     "execution_count": 50,
     "metadata": {},
     "output_type": "execute_result"
    }
   ],
   "source": [
    "paded_train_seq[1]"
   ]
  },
  {
   "cell_type": "code",
   "execution_count": 55,
   "metadata": {},
   "outputs": [
    {
     "data": {
      "text/plain": [
       "['love great 100 calorie snack snack throughout day husband 3 year old enjoys eating well']"
      ]
     },
     "execution_count": 55,
     "metadata": {},
     "output_type": "execute_result"
    }
   ],
   "source": [
    "train_tokenizer.sequences_to_texts([paded_train_seq[3]])"
   ]
  },
  {
   "cell_type": "code",
   "execution_count": 64,
   "metadata": {},
   "outputs": [
    {
     "data": {
      "text/plain": [
       "'will never buy store bought extract again'"
      ]
     },
     "execution_count": 64,
     "metadata": {},
     "output_type": "execute_result"
    }
   ],
   "source": [
    "' '.join(label_tokenizer.sequences_to_texts([paded_train_label_seq[4]])[0].split()[1:-1])"
   ]
  },
  {
   "cell_type": "markdown",
   "metadata": {},
   "source": [
    "# 模型"
   ]
  },
  {
   "cell_type": "code",
   "execution_count": 39,
   "metadata": {},
   "outputs": [],
   "source": [
    "latent_dim = 500\n",
    "def build_model(latent_dim):\n",
    "    ops.reset_default_graph()\n",
    "    # Encoder\n",
    "    encoder_inputs = Input(shape=(max_len_text,))\n",
    "    enc_emb = Embedding(train_vocab_size, latent_dim, trainable=True)(encoder_inputs)\n",
    "    \n",
    "    # LSTM1\n",
    "    encoder_lstm1 = LSTM(latent_dim, return_sequences=True, return_state=True)\n",
    "    encoder_outputs1, state_h1, state_c1 = encoder_lstm1(enc_emb)\n",
    "    \n",
    "    # LSTM2\n",
    "    encoder_lstm2 = LSTM(latent_dim, return_sequences=True, return_state=True)\n",
    "    encoder_outputs2, state_h2, state_c2 = encoder_lstm2(encoder_outputs1)\n",
    "    \n",
    "    # LSTM3\n",
    "    encoder_lstm3 = LSTM(latent_dim, return_sequences=True, return_state=True)\n",
    "    encoder_outputs, state_h, state_c = encoder_lstm3(encoder_outputs2)\n",
    "    \n",
    "    # encoder inference\n",
    "    encoder_model = Model(inputs=encoder_inputs, outputs=[encoder_outputs, state_h, state_c])\n",
    "    \n",
    "    # Decoder\n",
    "    decoder_inputs = Input(shape=(None,))\n",
    "    dec_emb_layer = Embedding(label_vocab_size, latent_dim, trainable=True)\n",
    "    dec_emb = dec_emb_layer(decoder_inputs)\n",
    "    \n",
    "    # Using LSTM encoder_state as initial state\n",
    "    decoder_lstm = LSTM(latent_dim, return_sequences=True, return_state=True)\n",
    "    decoder_outputs, decoder_fwd_state, decoder_back_state = decoder_lstm(dec_emb, \n",
    "                                                                          initial_state=[state_h, \n",
    "                                                                                         state_c])\n",
    "    \n",
    "    # decoder inference\n",
    "    decoder_state_input_h = Input(shape=(latent_dim,))\n",
    "    decoder_state_input_c = Input(shape=(latent_dim,))\n",
    "    decoder_hidden_state_input = Input(shape=(max_len_text, latent_dim))\n",
    "    dec_emb2 = dec_emb_layer(decoder_inputs)\n",
    "    decoder_outputs2, state_h2, state_c2 = decoder_lstm(dec_emb2, \n",
    "                                                       initial_state=[decoder_state_input_h,\n",
    "                                                                     decoder_state_input_c])\n",
    "    \n",
    "    # Attention layer\n",
    "    attn_layer = AttentionLayer(name='attention_layer')\n",
    "    attn_out, attn_states = attn_layer([encoder_outputs, decoder_outputs])\n",
    "    \n",
    "    # attention inference\n",
    "    attn_out_inf, attn_states_inf = attn_layer([decoder_hidden_state_input, decoder_outputs2])\n",
    "    decoder_inf_concat = Concatenate(axis=-1, name='concat')([decoder_outputs2, attn_out_inf])\n",
    "    \n",
    "    # Concating attention layer output and decoder LSTM output\n",
    "    decoder_concat_input = Concatenate(axis=-1, name='concat_layer')([decoder_outputs, attn_out])\n",
    "    \n",
    "    # Dense layer\n",
    "    decoder_dense = TimeDistributed(Dense(label_vocab_size, activation='softmax'))\n",
    "    decoder_outputs = decoder_dense(decoder_concat_input)\n",
    "    \n",
    "    # A dense softmax to generate prob dist. over the target vocabulary\n",
    "    decoder_outputs2 = decoder_dense(decoder_inf_concat)\n",
    "    decoder_model = Model([decoder_inputs]+[decoder_hidden_state_input, \n",
    "                                            decoder_state_input_h,\n",
    "                                           decoder_state_input_c],\n",
    "                         [decoder_outputs2]+[state_h2, state_c2])\n",
    "    \n",
    "    model = Model([encoder_inputs, decoder_inputs], decoder_outputs)\n",
    "    return model, encoder_model, decoder_model"
   ]
  },
  {
   "cell_type": "code",
   "execution_count": 20,
   "metadata": {},
   "outputs": [],
   "source": [
    "# callbacks \n",
    "# lr_schedule = ExponentialDecay(.1,decay_steps=10000,decay_rate=.96,staircase=True)\n",
    "csv_logger = CSVLogger('temp/csv_logger2')\n",
    "stop_callback = EarlyStopping(monitor='val_loss',mode='min',verbose=1)\n",
    "\n",
    "checkpoint_path = 'temp/training_checkpoints/'\n",
    "checkpoint_dir = os.path.dirname(checkpoint_path)\n",
    "cp_callback = ModelCheckpoint(checkpoint_dir,save_weights_only=True,verbose=1)"
   ]
  },
  {
   "cell_type": "code",
   "execution_count": 40,
   "metadata": {},
   "outputs": [],
   "source": [
    "model, *_ = build_model(latent_dim)"
   ]
  },
  {
   "cell_type": "code",
   "execution_count": 41,
   "metadata": {},
   "outputs": [
    {
     "name": "stdout",
     "output_type": "stream",
     "text": [
      "Model: \"model_2\"\n",
      "__________________________________________________________________________________________________\n",
      "Layer (type)                    Output Shape         Param #     Connected to                     \n",
      "==================================================================================================\n",
      "input_11 (InputLayer)           [(None, 80)]         0                                            \n",
      "__________________________________________________________________________________________________\n",
      "embedding (Embedding)           (None, 80, 500)      8653000     input_11[0][0]                   \n",
      "__________________________________________________________________________________________________\n",
      "lstm (LSTM)                     [(None, 80, 500), (N 2002000     embedding[0][0]                  \n",
      "__________________________________________________________________________________________________\n",
      "input_12 (InputLayer)           [(None, None)]       0                                            \n",
      "__________________________________________________________________________________________________\n",
      "lstm_1 (LSTM)                   [(None, 80, 500), (N 2002000     lstm[0][0]                       \n",
      "__________________________________________________________________________________________________\n",
      "embedding_1 (Embedding)         (None, None, 500)    2144000     input_12[0][0]                   \n",
      "__________________________________________________________________________________________________\n",
      "lstm_2 (LSTM)                   [(None, 80, 500), (N 2002000     lstm_1[0][0]                     \n",
      "__________________________________________________________________________________________________\n",
      "lstm_3 (LSTM)                   [(None, None, 500),  2002000     embedding_1[0][0]                \n",
      "                                                                 lstm_2[0][1]                     \n",
      "                                                                 lstm_2[0][2]                     \n",
      "__________________________________________________________________________________________________\n",
      "attention_layer (AttentionLayer ((None, None, 500),  500500      lstm_2[0][0]                     \n",
      "                                                                 lstm_3[0][0]                     \n",
      "__________________________________________________________________________________________________\n",
      "concat_layer (Concatenate)      (None, None, 1000)   0           lstm_3[0][0]                     \n",
      "                                                                 attention_layer[0][0]            \n",
      "__________________________________________________________________________________________________\n",
      "time_distributed (TimeDistribut (None, None, 4288)   4292288     concat_layer[0][0]               \n",
      "==================================================================================================\n",
      "Total params: 23,597,788\n",
      "Trainable params: 23,597,788\n",
      "Non-trainable params: 0\n",
      "__________________________________________________________________________________________________\n"
     ]
    }
   ],
   "source": [
    "model.summary()"
   ]
  },
  {
   "cell_type": "code",
   "execution_count": 34,
   "metadata": {},
   "outputs": [],
   "source": [
    "model.compile(optimizer='rmsprop', loss='sparse_categorical_crossentropy')"
   ]
  },
  {
   "cell_type": "code",
   "execution_count": 59,
   "metadata": {},
   "outputs": [
    {
     "name": "stdout",
     "output_type": "stream",
     "text": [
      "Train on 8561 samples, validate on 952 samples\n",
      "Epoch 1/50\n",
      "8192/8561 [===========================>..] - ETA: 11:41 - loss: 2.91 - ETA: 10:55 - loss: 2.87 - ETA: 10:09 - loss: 2.83 - ETA: 9:22 - loss: 2.8248 - ETA: 8:37 - loss: 2.807 - ETA: 7:52 - loss: 2.822 - ETA: 7:09 - loss: 2.821 - ETA: 6:26 - loss: 2.831 - ETA: 5:43 - loss: 2.834 - ETA: 5:01 - loss: 2.826 - ETA: 4:17 - loss: 2.819 - ETA: 3:33 - loss: 2.838 - ETA: 2:48 - loss: 2.844 - ETA: 2:03 - loss: 2.845 - ETA: 1:18 - loss: 2.843 - ETA: 32s - loss: 2.8472 \n",
      "Epoch 00001: saving model to temp/training_checkpoints\n",
      "8561/8561 [==============================] - 776s 91ms/sample - loss: 2.8444 - val_loss: 2.7539\n",
      "Epoch 2/50\n",
      "8192/8561 [===========================>..] - ETA: 10:42 - loss: 2.78 - ETA: 10:29 - loss: 2.76 - ETA: 9:55 - loss: 2.7504 - ETA: 9:14 - loss: 2.757 - ETA: 8:32 - loss: 2.776 - ETA: 7:50 - loss: 2.785 - ETA: 7:07 - loss: 2.781 - ETA: 6:24 - loss: 2.787 - ETA: 5:41 - loss: 2.785 - ETA: 4:58 - loss: 2.792 - ETA: 4:15 - loss: 2.802 - ETA: 3:30 - loss: 2.804 - ETA: 2:46 - loss: 2.816 - ETA: 2:02 - loss: 2.808 - ETA: 1:17 - loss: 2.806 - ETA: 32s - loss: 2.8076 \n",
      "Epoch 00002: saving model to temp/training_checkpoints\n",
      "8561/8561 [==============================] - 764s 89ms/sample - loss: 2.8075 - val_loss: 2.7238\n",
      "Epoch 3/50\n",
      "8192/8561 [===========================>..] - ETA: 10:51 - loss: 2.78 - ETA: 10:34 - loss: 2.78 - ETA: 10:02 - loss: 2.77 - ETA: 9:24 - loss: 2.7434 - ETA: 8:43 - loss: 2.761 - ETA: 7:58 - loss: 2.770 - ETA: 7:14 - loss: 2.782 - ETA: 6:30 - loss: 2.771 - ETA: 5:46 - loss: 2.767 - ETA: 5:01 - loss: 2.763 - ETA: 4:16 - loss: 2.759 - ETA: 3:32 - loss: 2.774 - ETA: 2:47 - loss: 2.764 - ETA: 2:02 - loss: 2.760 - ETA: 1:17 - loss: 2.755 - ETA: 32s - loss: 2.7614 \n",
      "Epoch 00003: saving model to temp/training_checkpoints\n",
      "8561/8561 [==============================] - 766s 90ms/sample - loss: 2.7620 - val_loss: 2.7265\n",
      "Epoch 00003: early stopping\n"
     ]
    }
   ],
   "source": [
    "history = model.fit([paded_train_seq, paded_train_label_seq[:,:-1]], \n",
    "                    paded_train_label_seq.reshape(*paded_train_label_seq.shape, 1)[:, 1:],\n",
    "                    validation_data=([paded_valid_seq, paded_valid_label_seq[:,:-1]], \n",
    "                                     paded_valid_label_seq.reshape(*paded_valid_label_seq.shape, 1)[:,1:]),\n",
    "                    epochs=50, \n",
    "                    batch_size=512,\n",
    "                    callbacks=[csv_logger, stop_callback, cp_callback])\n",
    "logger = pd.DataFrame(history.history)\n",
    "logger.plot(figsize=(6,6))"
   ]
  },
  {
   "cell_type": "code",
   "execution_count": 25,
   "metadata": {},
   "outputs": [
    {
     "data": {
      "text/html": [
       "<div>\n",
       "<style scoped>\n",
       "    .dataframe tbody tr th:only-of-type {\n",
       "        vertical-align: middle;\n",
       "    }\n",
       "\n",
       "    .dataframe tbody tr th {\n",
       "        vertical-align: top;\n",
       "    }\n",
       "\n",
       "    .dataframe thead th {\n",
       "        text-align: right;\n",
       "    }\n",
       "</style>\n",
       "<table border=\"1\" class=\"dataframe\">\n",
       "  <thead>\n",
       "    <tr style=\"text-align: right;\">\n",
       "      <th></th>\n",
       "      <th>epoch</th>\n",
       "      <th>loss</th>\n",
       "      <th>val_loss</th>\n",
       "    </tr>\n",
       "  </thead>\n",
       "  <tbody>\n",
       "    <tr>\n",
       "      <th>0</th>\n",
       "      <td>0</td>\n",
       "      <td>4.290843</td>\n",
       "      <td>3.180711</td>\n",
       "    </tr>\n",
       "    <tr>\n",
       "      <th>1</th>\n",
       "      <td>1</td>\n",
       "      <td>3.227364</td>\n",
       "      <td>2.927936</td>\n",
       "    </tr>\n",
       "    <tr>\n",
       "      <th>2</th>\n",
       "      <td>2</td>\n",
       "      <td>3.051676</td>\n",
       "      <td>2.814775</td>\n",
       "    </tr>\n",
       "    <tr>\n",
       "      <th>3</th>\n",
       "      <td>3</td>\n",
       "      <td>2.964435</td>\n",
       "      <td>2.792177</td>\n",
       "    </tr>\n",
       "    <tr>\n",
       "      <th>4</th>\n",
       "      <td>4</td>\n",
       "      <td>2.867706</td>\n",
       "      <td>2.747863</td>\n",
       "    </tr>\n",
       "    <tr>\n",
       "      <th>5</th>\n",
       "      <td>5</td>\n",
       "      <td>2.809038</td>\n",
       "      <td>2.772846</td>\n",
       "    </tr>\n",
       "    <tr>\n",
       "      <th>6</th>\n",
       "      <td>6</td>\n",
       "      <td>2.758647</td>\n",
       "      <td>2.728798</td>\n",
       "    </tr>\n",
       "    <tr>\n",
       "      <th>7</th>\n",
       "      <td>7</td>\n",
       "      <td>2.716092</td>\n",
       "      <td>2.733078</td>\n",
       "    </tr>\n",
       "    <tr>\n",
       "      <th>8</th>\n",
       "      <td>8</td>\n",
       "      <td>2.664167</td>\n",
       "      <td>2.706336</td>\n",
       "    </tr>\n",
       "    <tr>\n",
       "      <th>9</th>\n",
       "      <td>9</td>\n",
       "      <td>2.603078</td>\n",
       "      <td>2.701337</td>\n",
       "    </tr>\n",
       "  </tbody>\n",
       "</table>\n",
       "</div>"
      ],
      "text/plain": [
       "   epoch      loss  val_loss\n",
       "0      0  4.290843  3.180711\n",
       "1      1  3.227364  2.927936\n",
       "2      2  3.051676  2.814775\n",
       "3      3  2.964435  2.792177\n",
       "4      4  2.867706  2.747863\n",
       "5      5  2.809038  2.772846\n",
       "6      6  2.758647  2.728798\n",
       "7      7  2.716092  2.733078\n",
       "8      8  2.664167  2.706336\n",
       "9      9  2.603078  2.701337"
      ]
     },
     "execution_count": 25,
     "metadata": {},
     "output_type": "execute_result"
    }
   ],
   "source": [
    "logger = pd.read_csv('temp/csv_logger')\n",
    "logger"
   ]
  },
  {
   "cell_type": "code",
   "execution_count": 26,
   "metadata": {},
   "outputs": [
    {
     "data": {
      "image/png": "[encoded data removed]",
      "text/plain": [
       "<Figure size 432x432 with 1 Axes>"
      ]
     },
     "metadata": {
      "needs_background": "light"
     },
     "output_type": "display_data"
    }
   ],
   "source": [
    "logger[['loss', 'val_loss']].plot(figsize=(6,6))\n",
    "plt.show()"
   ]
  },
  {
   "cell_type": "markdown",
   "metadata": {},
   "source": [
    "# 保存和重新调用模型"
   ]
  },
  {
   "cell_type": "markdown",
   "metadata": {},
   "source": [
    "## 回调函数自动保存与手动保存权重"
   ]
  },
  {
   "cell_type": "code",
   "execution_count": 73,
   "metadata": {},
   "outputs": [
    {
     "data": {
      "text/plain": [
       "<tensorflow.python.training.tracking.util.CheckpointLoadStatus at 0x15abd523668>"
      ]
     },
     "execution_count": 73,
     "metadata": {},
     "output_type": "execute_result"
    }
   ],
   "source": [
    "# get callback's saved checkpoint file\n",
    "latest = tf.train.latest_checkpoint(checkpoint_dir)\n",
    "new_model = build_model(latent_dim)\n",
    "new_model.load_weights(latest)"
   ]
  },
  {
   "cell_type": "code",
   "execution_count": null,
   "metadata": {},
   "outputs": [],
   "source": [
    "# save weights manually\n",
    "model.save_weights('temp/training_checkpoints/manually_checkpoint')\n",
    "\n",
    "# load weights with new model instance\n",
    "new_model = build_model(latent_dim)\n",
    "new_model.load_weights('temp/training_checkpoints/manually_checkpoint')"
   ]
  },
  {
   "cell_type": "markdown",
   "metadata": {},
   "source": [
    "## 保存全部模型\n",
    "- 如果引入手动实现的网络层，会出错，如此模型中的注意力层"
   ]
  },
  {
   "cell_type": "code",
   "execution_count": null,
   "metadata": {},
   "outputs": [],
   "source": [
    "# save whole model\n",
    "model.save('saved_model/model.h5')\n",
    "\n",
    "# load whole model from that file\n",
    "new_model = load_model('saved_model/model.h5')\n",
    "new_model.summary()"
   ]
  },
  {
   "cell_type": "markdown",
   "metadata": {},
   "source": [
    "# 推理生成"
   ]
  },
  {
   "cell_type": "markdown",
   "metadata": {},
   "source": [
    "## 加载模型参数"
   ]
  },
  {
   "cell_type": "code",
   "execution_count": 23,
   "metadata": {},
   "outputs": [
    {
     "data": {
      "text/plain": [
       "<tensorflow.python.training.tracking.util.CheckpointLoadStatus at 0x25845cc8dd8>"
      ]
     },
     "execution_count": 23,
     "metadata": {},
     "output_type": "execute_result"
    }
   ],
   "source": [
    "latest = tf.train.latest_checkpoint(checkpoint_dir)\n",
    "new_model = build_model(latent_dim)\n",
    "new_model.load_weights(latest)"
   ]
  },
  {
   "cell_type": "code",
   "execution_count": 81,
   "metadata": {},
   "outputs": [
    {
     "name": "stdout",
     "output_type": "stream",
     "text": [
      "Model: \"model\"\n",
      "__________________________________________________________________________________________________\n",
      "Layer (type)                    Output Shape         Param #     Connected to                     \n",
      "==================================================================================================\n",
      "input_3 (InputLayer)            [(None, 80)]         0                                            \n",
      "__________________________________________________________________________________________________\n",
      "embedding (Embedding)           (None, 80, 500)      8653000     input_3[0][0]                    \n",
      "__________________________________________________________________________________________________\n",
      "lstm (LSTM)                     [(None, 80, 500), (N 2002000     embedding[0][0]                  \n",
      "__________________________________________________________________________________________________\n",
      "input_4 (InputLayer)            [(None, None)]       0                                            \n",
      "__________________________________________________________________________________________________\n",
      "lstm_1 (LSTM)                   [(None, 80, 500), (N 2002000     lstm[0][0]                       \n",
      "__________________________________________________________________________________________________\n",
      "embedding_1 (Embedding)         (None, None, 500)    2144000     input_4[0][0]                    \n",
      "__________________________________________________________________________________________________\n",
      "lstm_2 (LSTM)                   [(None, 80, 500), (N 2002000     lstm_1[0][0]                     \n",
      "__________________________________________________________________________________________________\n",
      "lstm_3 (LSTM)                   [(None, None, 500),  2002000     embedding_1[0][0]                \n",
      "                                                                 lstm_2[0][1]                     \n",
      "                                                                 lstm_2[0][2]                     \n",
      "__________________________________________________________________________________________________\n",
      "attention_layer (AttentionLayer ((None, None, 500),  500500      lstm_2[0][0]                     \n",
      "                                                                 lstm_3[0][0]                     \n",
      "__________________________________________________________________________________________________\n",
      "concat_layer (Concatenate)      (None, None, 1000)   0           lstm_3[0][0]                     \n",
      "                                                                 attention_layer[0][0]            \n",
      "__________________________________________________________________________________________________\n",
      "time_distributed (TimeDistribut (None, None, 4288)   4292288     concat_layer[0][0]               \n",
      "==================================================================================================\n",
      "Total params: 23,597,788\n",
      "Trainable params: 23,597,788\n",
      "Non-trainable params: 0\n",
      "__________________________________________________________________________________________________\n"
     ]
    }
   ],
   "source": [
    "new_model.summary()"
   ]
  },
  {
   "cell_type": "code",
   "execution_count": 82,
   "metadata": {},
   "outputs": [
    {
     "name": "stdout",
     "output_type": "stream",
     "text": [
      "Model: \"model\"\n",
      "_________________________________________________________________\n",
      "Layer (type)                 Output Shape              Param #   \n",
      "=================================================================\n",
      "input_16 (InputLayer)        [(None, 80)]              0         \n",
      "_________________________________________________________________\n",
      "embedding (Embedding)        (None, 80, 500)           8653000   \n",
      "_________________________________________________________________\n",
      "lstm (LSTM)                  [(None, 80, 500), (None,  2002000   \n",
      "_________________________________________________________________\n",
      "lstm_1 (LSTM)                [(None, 80, 500), (None,  2002000   \n",
      "_________________________________________________________________\n",
      "lstm_2 (LSTM)                [(None, 80, 500), (None,  2002000   \n",
      "=================================================================\n",
      "Total params: 14,659,000\n",
      "Trainable params: 14,659,000\n",
      "Non-trainable params: 0\n",
      "_________________________________________________________________\n"
     ]
    }
   ],
   "source": [
    "encoder_model.summary()"
   ]
  },
  {
   "cell_type": "code",
   "execution_count": 84,
   "metadata": {},
   "outputs": [
    {
     "name": "stdout",
     "output_type": "stream",
     "text": [
      "Model: \"model_1\"\n",
      "__________________________________________________________________________________________________\n",
      "Layer (type)                    Output Shape         Param #     Connected to                     \n",
      "==================================================================================================\n",
      "input_17 (InputLayer)           [(None, None)]       0                                            \n",
      "__________________________________________________________________________________________________\n",
      "embedding_1 (Embedding)         (None, None, 500)    2144000     input_17[0][0]                   \n",
      "__________________________________________________________________________________________________\n",
      "input_18 (InputLayer)           [(None, 500)]        0                                            \n",
      "__________________________________________________________________________________________________\n",
      "input_19 (InputLayer)           [(None, 500)]        0                                            \n",
      "__________________________________________________________________________________________________\n",
      "lstm_3 (LSTM)                   [(None, None, 500),  2002000     embedding_1[1][0]                \n",
      "                                                                 input_18[0][0]                   \n",
      "                                                                 input_19[0][0]                   \n",
      "__________________________________________________________________________________________________\n",
      "input_20 (InputLayer)           [(None, 80, 500)]    0                                            \n",
      "__________________________________________________________________________________________________\n",
      "attention_layer (AttentionLayer ((None, None, 500),  500500      input_20[0][0]                   \n",
      "                                                                 lstm_3[1][0]                     \n",
      "__________________________________________________________________________________________________\n",
      "concat (Concatenate)            (None, None, 1000)   0           lstm_3[1][0]                     \n",
      "                                                                 attention_layer[1][0]            \n",
      "__________________________________________________________________________________________________\n",
      "time_distributed (TimeDistribut (None, None, 4288)   4292288     concat[0][0]                     \n",
      "==================================================================================================\n",
      "Total params: 8,938,788\n",
      "Trainable params: 8,938,788\n",
      "Non-trainable params: 0\n",
      "__________________________________________________________________________________________________\n"
     ]
    }
   ],
   "source": [
    "decoder_model.summary()"
   ]
  },
  {
   "cell_type": "code",
   "execution_count": 80,
   "metadata": {},
   "outputs": [
    {
     "data": {
      "text/plain": [
       "[<tf.Variable 'embedding_2/embeddings:0' shape=(17306, 500) dtype=float32, numpy=\n",
       " array([[-0.039,  0.038, -0.042, ...,  0.019, -0.003,  0.01 ],\n",
       "        [ 0.007,  0.016,  0.001, ..., -0.001, -0.005,  0.045],\n",
       "        [-0.055,  0.047,  0.028, ...,  0.053, -0.036, -0.019],\n",
       "        ...,\n",
       "        [ 0.014, -0.05 ,  0.022, ...,  0.011, -0.036,  0.041],\n",
       "        [ 0.009, -0.021,  0.012, ...,  0.009, -0.007, -0.001],\n",
       "        [ 0.016,  0.02 ,  0.036, ...,  0.014,  0.032,  0.03 ]],\n",
       "       dtype=float32)>,\n",
       " <tf.Variable 'lstm_4/kernel:0' shape=(500, 2000) dtype=float32, numpy=\n",
       " array([[ 0.054,  0.032,  0.014, ..., -0.014, -0.014,  0.005],\n",
       "        [-0.041,  0.029, -0.025, ...,  0.033,  0.052, -0.002],\n",
       "        [ 0.031,  0.01 ,  0.009, ...,  0.022, -0.012,  0.037],\n",
       "        ...,\n",
       "        [-0.038,  0.029, -0.049, ..., -0.033,  0.025, -0.   ],\n",
       "        [ 0.015, -0.033, -0.028, ..., -0.02 , -0.02 ,  0.033],\n",
       "        [ 0.028,  0.026, -0.033, ...,  0.038,  0.005, -0.033]],\n",
       "       dtype=float32)>,\n",
       " <tf.Variable 'lstm_4/recurrent_kernel:0' shape=(500, 2000) dtype=float32, numpy=\n",
       " array([[-0.002,  0.019,  0.015, ...,  0.03 ,  0.027,  0.004],\n",
       "        [ 0.029,  0.022,  0.036, ...,  0.   ,  0.013,  0.02 ],\n",
       "        [ 0.03 ,  0.03 ,  0.029, ..., -0.042, -0.007,  0.048],\n",
       "        ...,\n",
       "        [ 0.028,  0.02 ,  0.044, ...,  0.031,  0.013,  0.012],\n",
       "        [ 0.012,  0.005, -0.007, ..., -0.006, -0.029, -0.005],\n",
       "        [-0.014, -0.006, -0.027, ...,  0.017,  0.009, -0.02 ]],\n",
       "       dtype=float32)>,\n",
       " <tf.Variable 'lstm_4/bias:0' shape=(2000,) dtype=float32, numpy=array([-0.006, -0.014, -0.002, ..., -0.   , -0.006, -0.003], dtype=float32)>,\n",
       " <tf.Variable 'lstm_1_1/kernel:0' shape=(500, 2000) dtype=float32, numpy=\n",
       " array([[ 0.011,  0.022,  0.007, ...,  0.029,  0.028, -0.008],\n",
       "        [ 0.03 , -0.024, -0.039, ..., -0.033, -0.002, -0.023],\n",
       "        [ 0.016, -0.028,  0.031, ...,  0.009,  0.011,  0.003],\n",
       "        ...,\n",
       "        [-0.033, -0.038,  0.044, ...,  0.037,  0.036, -0.023],\n",
       "        [ 0.   , -0.035, -0.   , ..., -0.037,  0.009, -0.043],\n",
       "        [ 0.018, -0.029,  0.008, ...,  0.011,  0.016,  0.01 ]],\n",
       "       dtype=float32)>,\n",
       " <tf.Variable 'lstm_1_1/recurrent_kernel:0' shape=(500, 2000) dtype=float32, numpy=\n",
       " array([[ 0.053,  0.019,  0.017, ...,  0.005, -0.047, -0.003],\n",
       "        [ 0.013,  0.03 , -0.011, ...,  0.023,  0.04 , -0.019],\n",
       "        [ 0.   , -0.017,  0.007, ..., -0.034,  0.007,  0.002],\n",
       "        ...,\n",
       "        [-0.008,  0.03 , -0.016, ...,  0.003, -0.023, -0.031],\n",
       "        [ 0.003,  0.01 ,  0.01 , ..., -0.005, -0.009,  0.019],\n",
       "        [ 0.008, -0.005,  0.018, ..., -0.012,  0.014,  0.02 ]],\n",
       "       dtype=float32)>,\n",
       " <tf.Variable 'lstm_1_1/bias:0' shape=(2000,) dtype=float32, numpy=array([-0.001, -0.005, -0.011, ..., -0.011, -0.016, -0.004], dtype=float32)>,\n",
       " <tf.Variable 'embedding_1_1/embeddings:0' shape=(4288, 500) dtype=float32, numpy=\n",
       " array([[ 0.06 , -0.071, -0.05 , ..., -0.057,  0.049,  0.043],\n",
       "        [ 0.022,  0.045,  0.073, ...,  0.06 , -0.033, -0.073],\n",
       "        [ 0.008, -0.091, -0.041, ..., -0.086,  0.044,  0.068],\n",
       "        ...,\n",
       "        [-0.052, -0.019, -0.028, ..., -0.017, -0.055,  0.029],\n",
       "        [-0.058,  0.031,  0.027, ..., -0.034,  0.028,  0.003],\n",
       "        [ 0.017,  0.032, -0.04 , ..., -0.022,  0.061,  0.052]],\n",
       "       dtype=float32)>,\n",
       " <tf.Variable 'lstm_2_1/kernel:0' shape=(500, 2000) dtype=float32, numpy=\n",
       " array([[ 0.005, -0.02 , -0.012, ..., -0.054,  0.047,  0.026],\n",
       "        [-0.046,  0.011, -0.03 , ..., -0.009,  0.024,  0.033],\n",
       "        [-0.046,  0.001, -0.046, ..., -0.004, -0.007, -0.021],\n",
       "        ...,\n",
       "        [-0.026,  0.003, -0.022, ...,  0.001, -0.006, -0.028],\n",
       "        [ 0.034, -0.004, -0.036, ...,  0.022, -0.036, -0.015],\n",
       "        [ 0.023,  0.032,  0.024, ..., -0.032, -0.016, -0.036]],\n",
       "       dtype=float32)>,\n",
       " <tf.Variable 'lstm_2_1/recurrent_kernel:0' shape=(500, 2000) dtype=float32, numpy=\n",
       " array([[ 0.04 ,  0.012, -0.006, ..., -0.007, -0.015,  0.034],\n",
       "        [-0.024, -0.027, -0.001, ...,  0.   , -0.034, -0.005],\n",
       "        [ 0.025,  0.005,  0.029, ..., -0.004, -0.013, -0.002],\n",
       "        ...,\n",
       "        [ 0.048, -0.034, -0.025, ..., -0.001, -0.011, -0.027],\n",
       "        [ 0.006, -0.042, -0.006, ...,  0.004, -0.015, -0.014],\n",
       "        [ 0.056,  0.013,  0.029, ..., -0.007,  0.01 ,  0.009]],\n",
       "       dtype=float32)>,\n",
       " <tf.Variable 'lstm_2_1/bias:0' shape=(2000,) dtype=float32, numpy=array([ 0.014, -0.008,  0.008, ..., -0.017,  0.004, -0.004], dtype=float32)>,\n",
       " <tf.Variable 'lstm_3_1/kernel:0' shape=(500, 2000) dtype=float32, numpy=\n",
       " array([[ 0.008,  0.05 ,  0.024, ...,  0.07 , -0.031,  0.042],\n",
       "        [-0.048,  0.005,  0.014, ..., -0.04 , -0.006, -0.09 ],\n",
       "        [-0.003,  0.015,  0.028, ...,  0.005,  0.039, -0.06 ],\n",
       "        ...,\n",
       "        [ 0.028, -0.082,  0.024, ..., -0.007, -0.051, -0.069],\n",
       "        [ 0.038,  0.037, -0.034, ...,  0.074,  0.059,  0.023],\n",
       "        [ 0.036,  0.037, -0.005, ...,  0.019, -0.03 ,  0.058]],\n",
       "       dtype=float32)>,\n",
       " <tf.Variable 'lstm_3_1/recurrent_kernel:0' shape=(500, 2000) dtype=float32, numpy=\n",
       " array([[ 0.004,  0.002,  0.015, ...,  0.026, -0.029, -0.005],\n",
       "        [-0.016, -0.001,  0.01 , ...,  0.014, -0.002,  0.007],\n",
       "        [ 0.021, -0.011,  0.002, ...,  0.022, -0.018,  0.013],\n",
       "        ...,\n",
       "        [-0.036,  0.012, -0.011, ..., -0.008, -0.007, -0.01 ],\n",
       "        [-0.014,  0.013, -0.018, ..., -0.005,  0.012, -0.003],\n",
       "        [-0.022,  0.002, -0.033, ..., -0.045, -0.013, -0.007]],\n",
       "       dtype=float32)>,\n",
       " <tf.Variable 'lstm_3_1/bias:0' shape=(2000,) dtype=float32, numpy=array([0.014, 0.025, 0.008, ..., 0.016, 0.018, 0.002], dtype=float32)>,\n",
       " <tf.Variable 'attention_layer_1/W_a:0' shape=(500, 500) dtype=float32, numpy=\n",
       " array([[ 0.013, -0.025,  0.006, ..., -0.001,  0.035, -0.012],\n",
       "        [ 0.012, -0.003,  0.024, ...,  0.032,  0.013,  0.028],\n",
       "        [ 0.012,  0.036, -0.028, ...,  0.046, -0.039,  0.025],\n",
       "        ...,\n",
       "        [ 0.019,  0.009,  0.013, ..., -0.023, -0.024,  0.025],\n",
       "        [ 0.036,  0.019,  0.008, ...,  0.054,  0.007,  0.019],\n",
       "        [ 0.02 , -0.002,  0.022, ...,  0.03 ,  0.031, -0.031]],\n",
       "       dtype=float32)>,\n",
       " <tf.Variable 'attention_layer_1/U_a:0' shape=(500, 500) dtype=float32, numpy=\n",
       " array([[-0.02 , -0.011, -0.024, ...,  0.007, -0.027,  0.009],\n",
       "        [-0.022,  0.011, -0.04 , ...,  0.02 , -0.024,  0.048],\n",
       "        [-0.013, -0.031,  0.014, ..., -0.012, -0.049,  0.025],\n",
       "        ...,\n",
       "        [-0.017,  0.025, -0.031, ..., -0.049, -0.016, -0.014],\n",
       "        [-0.025,  0.013,  0.001, ..., -0.013,  0.034,  0.026],\n",
       "        [ 0.059,  0.04 , -0.014, ...,  0.01 ,  0.054, -0.033]],\n",
       "       dtype=float32)>,\n",
       " <tf.Variable 'attention_layer_1/V_a:0' shape=(500, 1) dtype=float32, numpy=\n",
       " array([[-0.035],\n",
       "        [-0.054],\n",
       "        [ 0.03 ],\n",
       "        [-0.037],\n",
       "        [ 0.021],\n",
       "        [-0.007],\n",
       "        [-0.02 ],\n",
       "        [ 0.034],\n",
       "        [ 0.02 ],\n",
       "        [-0.034],\n",
       "        [ 0.011],\n",
       "        [-0.043],\n",
       "        [-0.012],\n",
       "        [-0.001],\n",
       "        [-0.015],\n",
       "        [-0.034],\n",
       "        [ 0.01 ],\n",
       "        [-0.028],\n",
       "        [-0.03 ],\n",
       "        [-0.022],\n",
       "        [ 0.019],\n",
       "        [ 0.02 ],\n",
       "        [-0.045],\n",
       "        [-0.023],\n",
       "        [ 0.   ],\n",
       "        [-0.008],\n",
       "        [-0.015],\n",
       "        [-0.027],\n",
       "        [-0.038],\n",
       "        [-0.015],\n",
       "        [ 0.017],\n",
       "        [ 0.   ],\n",
       "        [ 0.039],\n",
       "        [ 0.012],\n",
       "        [ 0.021],\n",
       "        [ 0.009],\n",
       "        [ 0.024],\n",
       "        [-0.033],\n",
       "        [ 0.021],\n",
       "        [ 0.006],\n",
       "        [ 0.025],\n",
       "        [-0.029],\n",
       "        [ 0.054],\n",
       "        [ 0.018],\n",
       "        [ 0.038],\n",
       "        [ 0.023],\n",
       "        [-0.037],\n",
       "        [ 0.013],\n",
       "        [ 0.033],\n",
       "        [ 0.035],\n",
       "        [-0.056],\n",
       "        [ 0.017],\n",
       "        [ 0.023],\n",
       "        [-0.02 ],\n",
       "        [ 0.042],\n",
       "        [ 0.037],\n",
       "        [ 0.017],\n",
       "        [-0.012],\n",
       "        [-0.04 ],\n",
       "        [-0.044],\n",
       "        [ 0.04 ],\n",
       "        [ 0.044],\n",
       "        [ 0.003],\n",
       "        [ 0.022],\n",
       "        [-0.008],\n",
       "        [ 0.02 ],\n",
       "        [-0.011],\n",
       "        [-0.01 ],\n",
       "        [-0.007],\n",
       "        [-0.018],\n",
       "        [ 0.022],\n",
       "        [ 0.001],\n",
       "        [ 0.035],\n",
       "        [-0.032],\n",
       "        [-0.032],\n",
       "        [-0.013],\n",
       "        [-0.007],\n",
       "        [-0.037],\n",
       "        [-0.039],\n",
       "        [ 0.018],\n",
       "        [ 0.024],\n",
       "        [-0.003],\n",
       "        [-0.028],\n",
       "        [ 0.022],\n",
       "        [-0.037],\n",
       "        [-0.011],\n",
       "        [-0.053],\n",
       "        [-0.008],\n",
       "        [-0.032],\n",
       "        [-0.013],\n",
       "        [-0.024],\n",
       "        [-0.01 ],\n",
       "        [-0.024],\n",
       "        [ 0.003],\n",
       "        [-0.005],\n",
       "        [-0.024],\n",
       "        [-0.014],\n",
       "        [-0.009],\n",
       "        [ 0.016],\n",
       "        [ 0.016],\n",
       "        [-0.021],\n",
       "        [ 0.005],\n",
       "        [ 0.008],\n",
       "        [ 0.01 ],\n",
       "        [ 0.026],\n",
       "        [ 0.029],\n",
       "        [-0.024],\n",
       "        [-0.001],\n",
       "        [-0.007],\n",
       "        [ 0.034],\n",
       "        [ 0.02 ],\n",
       "        [-0.013],\n",
       "        [ 0.051],\n",
       "        [-0.034],\n",
       "        [ 0.049],\n",
       "        [-0.049],\n",
       "        [-0.001],\n",
       "        [-0.001],\n",
       "        [-0.024],\n",
       "        [-0.004],\n",
       "        [-0.04 ],\n",
       "        [ 0.005],\n",
       "        [-0.006],\n",
       "        [ 0.   ],\n",
       "        [ 0.055],\n",
       "        [-0.041],\n",
       "        [-0.022],\n",
       "        [ 0.01 ],\n",
       "        [ 0.05 ],\n",
       "        [ 0.052],\n",
       "        [ 0.03 ],\n",
       "        [-0.027],\n",
       "        [ 0.042],\n",
       "        [ 0.009],\n",
       "        [-0.026],\n",
       "        [ 0.036],\n",
       "        [ 0.042],\n",
       "        [ 0.009],\n",
       "        [-0.009],\n",
       "        [ 0.026],\n",
       "        [-0.038],\n",
       "        [-0.016],\n",
       "        [-0.005],\n",
       "        [-0.001],\n",
       "        [ 0.022],\n",
       "        [-0.017],\n",
       "        [-0.02 ],\n",
       "        [ 0.018],\n",
       "        [-0.02 ],\n",
       "        [ 0.006],\n",
       "        [ 0.032],\n",
       "        [-0.02 ],\n",
       "        [ 0.001],\n",
       "        [-0.001],\n",
       "        [-0.009],\n",
       "        [-0.024],\n",
       "        [-0.019],\n",
       "        [ 0.042],\n",
       "        [-0.015],\n",
       "        [-0.03 ],\n",
       "        [ 0.045],\n",
       "        [-0.027],\n",
       "        [ 0.03 ],\n",
       "        [-0.04 ],\n",
       "        [ 0.017],\n",
       "        [ 0.032],\n",
       "        [-0.03 ],\n",
       "        [ 0.021],\n",
       "        [ 0.   ],\n",
       "        [ 0.008],\n",
       "        [-0.026],\n",
       "        [-0.021],\n",
       "        [ 0.003],\n",
       "        [-0.032],\n",
       "        [ 0.042],\n",
       "        [-0.008],\n",
       "        [ 0.026],\n",
       "        [-0.009],\n",
       "        [ 0.051],\n",
       "        [-0.042],\n",
       "        [ 0.017],\n",
       "        [-0.015],\n",
       "        [-0.03 ],\n",
       "        [ 0.016],\n",
       "        [-0.029],\n",
       "        [-0.035],\n",
       "        [-0.025],\n",
       "        [ 0.043],\n",
       "        [ 0.041],\n",
       "        [-0.052],\n",
       "        [ 0.012],\n",
       "        [-0.051],\n",
       "        [-0.036],\n",
       "        [-0.017],\n",
       "        [ 0.02 ],\n",
       "        [ 0.037],\n",
       "        [ 0.049],\n",
       "        [-0.032],\n",
       "        [ 0.034],\n",
       "        [ 0.041],\n",
       "        [-0.042],\n",
       "        [-0.004],\n",
       "        [-0.045],\n",
       "        [ 0.021],\n",
       "        [-0.045],\n",
       "        [-0.023],\n",
       "        [ 0.019],\n",
       "        [ 0.036],\n",
       "        [-0.054],\n",
       "        [ 0.014],\n",
       "        [ 0.024],\n",
       "        [ 0.016],\n",
       "        [-0.005],\n",
       "        [-0.022],\n",
       "        [ 0.046],\n",
       "        [-0.037],\n",
       "        [-0.023],\n",
       "        [ 0.041],\n",
       "        [ 0.04 ],\n",
       "        [-0.029],\n",
       "        [ 0.052],\n",
       "        [-0.005],\n",
       "        [ 0.033],\n",
       "        [-0.027],\n",
       "        [-0.034],\n",
       "        [ 0.035],\n",
       "        [ 0.016],\n",
       "        [-0.019],\n",
       "        [ 0.015],\n",
       "        [-0.008],\n",
       "        [ 0.055],\n",
       "        [ 0.009],\n",
       "        [-0.049],\n",
       "        [ 0.016],\n",
       "        [ 0.035],\n",
       "        [ 0.014],\n",
       "        [ 0.029],\n",
       "        [-0.032],\n",
       "        [ 0.028],\n",
       "        [ 0.007],\n",
       "        [ 0.019],\n",
       "        [-0.014],\n",
       "        [ 0.006],\n",
       "        [ 0.024],\n",
       "        [ 0.046],\n",
       "        [ 0.005],\n",
       "        [ 0.046],\n",
       "        [ 0.016],\n",
       "        [-0.033],\n",
       "        [-0.029],\n",
       "        [ 0.023],\n",
       "        [-0.012],\n",
       "        [ 0.03 ],\n",
       "        [-0.018],\n",
       "        [-0.028],\n",
       "        [ 0.003],\n",
       "        [-0.016],\n",
       "        [ 0.052],\n",
       "        [-0.027],\n",
       "        [-0.028],\n",
       "        [-0.033],\n",
       "        [ 0.018],\n",
       "        [-0.048],\n",
       "        [ 0.027],\n",
       "        [-0.03 ],\n",
       "        [-0.032],\n",
       "        [-0.013],\n",
       "        [ 0.007],\n",
       "        [-0.048],\n",
       "        [-0.001],\n",
       "        [ 0.037],\n",
       "        [ 0.033],\n",
       "        [ 0.045],\n",
       "        [-0.001],\n",
       "        [ 0.024],\n",
       "        [-0.009],\n",
       "        [-0.009],\n",
       "        [-0.03 ],\n",
       "        [-0.031],\n",
       "        [ 0.054],\n",
       "        [-0.017],\n",
       "        [ 0.037],\n",
       "        [ 0.029],\n",
       "        [-0.029],\n",
       "        [ 0.037],\n",
       "        [ 0.014],\n",
       "        [ 0.017],\n",
       "        [-0.045],\n",
       "        [-0.009],\n",
       "        [-0.037],\n",
       "        [-0.032],\n",
       "        [ 0.037],\n",
       "        [ 0.026],\n",
       "        [ 0.043],\n",
       "        [-0.018],\n",
       "        [ 0.049],\n",
       "        [ 0.042],\n",
       "        [-0.008],\n",
       "        [ 0.016],\n",
       "        [-0.049],\n",
       "        [ 0.022],\n",
       "        [-0.052],\n",
       "        [ 0.047],\n",
       "        [-0.007],\n",
       "        [ 0.019],\n",
       "        [-0.045],\n",
       "        [ 0.024],\n",
       "        [ 0.021],\n",
       "        [-0.01 ],\n",
       "        [ 0.013],\n",
       "        [-0.017],\n",
       "        [ 0.026],\n",
       "        [-0.038],\n",
       "        [ 0.   ],\n",
       "        [-0.046],\n",
       "        [-0.019],\n",
       "        [-0.039],\n",
       "        [ 0.035],\n",
       "        [ 0.047],\n",
       "        [ 0.049],\n",
       "        [ 0.002],\n",
       "        [ 0.048],\n",
       "        [-0.001],\n",
       "        [-0.028],\n",
       "        [ 0.002],\n",
       "        [ 0.023],\n",
       "        [ 0.03 ],\n",
       "        [ 0.046],\n",
       "        [ 0.   ],\n",
       "        [ 0.041],\n",
       "        [-0.025],\n",
       "        [ 0.015],\n",
       "        [-0.028],\n",
       "        [ 0.043],\n",
       "        [-0.007],\n",
       "        [-0.05 ],\n",
       "        [ 0.042],\n",
       "        [ 0.036],\n",
       "        [-0.019],\n",
       "        [ 0.012],\n",
       "        [ 0.043],\n",
       "        [-0.033],\n",
       "        [-0.   ],\n",
       "        [-0.01 ],\n",
       "        [-0.033],\n",
       "        [-0.016],\n",
       "        [ 0.014],\n",
       "        [ 0.015],\n",
       "        [-0.038],\n",
       "        [ 0.025],\n",
       "        [ 0.009],\n",
       "        [ 0.039],\n",
       "        [ 0.028],\n",
       "        [ 0.023],\n",
       "        [ 0.047],\n",
       "        [ 0.013],\n",
       "        [ 0.027],\n",
       "        [-0.009],\n",
       "        [-0.   ],\n",
       "        [ 0.022],\n",
       "        [ 0.033],\n",
       "        [-0.   ],\n",
       "        [ 0.015],\n",
       "        [ 0.048],\n",
       "        [ 0.026],\n",
       "        [-0.018],\n",
       "        [-0.03 ],\n",
       "        [-0.043],\n",
       "        [ 0.021],\n",
       "        [-0.046],\n",
       "        [ 0.002],\n",
       "        [ 0.022],\n",
       "        [ 0.05 ],\n",
       "        [ 0.042],\n",
       "        [-0.04 ],\n",
       "        [ 0.016],\n",
       "        [-0.027],\n",
       "        [ 0.007],\n",
       "        [-0.034],\n",
       "        [-0.022],\n",
       "        [-0.046],\n",
       "        [-0.012],\n",
       "        [ 0.036],\n",
       "        [-0.021],\n",
       "        [-0.053],\n",
       "        [-0.052],\n",
       "        [ 0.012],\n",
       "        [-0.013],\n",
       "        [ 0.024],\n",
       "        [-0.04 ],\n",
       "        [-0.038],\n",
       "        [-0.041],\n",
       "        [ 0.03 ],\n",
       "        [ 0.021],\n",
       "        [-0.038],\n",
       "        [-0.037],\n",
       "        [-0.026],\n",
       "        [-0.015],\n",
       "        [ 0.054],\n",
       "        [ 0.043],\n",
       "        [ 0.049],\n",
       "        [ 0.017],\n",
       "        [-0.045],\n",
       "        [ 0.03 ],\n",
       "        [-0.006],\n",
       "        [-0.033],\n",
       "        [-0.029],\n",
       "        [ 0.047],\n",
       "        [ 0.009],\n",
       "        [-0.033],\n",
       "        [-0.02 ],\n",
       "        [ 0.047],\n",
       "        [-0.019],\n",
       "        [-0.041],\n",
       "        [ 0.01 ],\n",
       "        [-0.018],\n",
       "        [-0.014],\n",
       "        [ 0.038],\n",
       "        [-0.003],\n",
       "        [ 0.046],\n",
       "        [-0.041],\n",
       "        [-0.046],\n",
       "        [ 0.006],\n",
       "        [-0.032],\n",
       "        [-0.018],\n",
       "        [-0.014],\n",
       "        [-0.045],\n",
       "        [-0.009],\n",
       "        [ 0.007],\n",
       "        [ 0.   ],\n",
       "        [ 0.036],\n",
       "        [ 0.015],\n",
       "        [-0.02 ],\n",
       "        [-0.024],\n",
       "        [-0.018],\n",
       "        [-0.035],\n",
       "        [ 0.021],\n",
       "        [-0.029],\n",
       "        [-0.027],\n",
       "        [-0.016],\n",
       "        [-0.021],\n",
       "        [ 0.011],\n",
       "        [-0.008],\n",
       "        [ 0.024],\n",
       "        [ 0.03 ],\n",
       "        [-0.034],\n",
       "        [ 0.028],\n",
       "        [-0.023],\n",
       "        [-0.005],\n",
       "        [-0.048],\n",
       "        [ 0.001],\n",
       "        [ 0.011],\n",
       "        [-0.024],\n",
       "        [ 0.026],\n",
       "        [ 0.028],\n",
       "        [-0.034],\n",
       "        [-0.052],\n",
       "        [ 0.028],\n",
       "        [ 0.034],\n",
       "        [ 0.015],\n",
       "        [ 0.037],\n",
       "        [-0.02 ],\n",
       "        [ 0.044],\n",
       "        [ 0.006],\n",
       "        [ 0.049],\n",
       "        [ 0.027],\n",
       "        [ 0.041],\n",
       "        [-0.013],\n",
       "        [-0.052],\n",
       "        [ 0.046],\n",
       "        [-0.021],\n",
       "        [-0.039],\n",
       "        [-0.034],\n",
       "        [ 0.028],\n",
       "        [-0.043],\n",
       "        [-0.028],\n",
       "        [ 0.033],\n",
       "        [ 0.002],\n",
       "        [ 0.01 ],\n",
       "        [ 0.02 ],\n",
       "        [ 0.045],\n",
       "        [ 0.007],\n",
       "        [-0.047],\n",
       "        [ 0.03 ],\n",
       "        [-0.029],\n",
       "        [ 0.032],\n",
       "        [-0.009],\n",
       "        [ 0.047],\n",
       "        [ 0.03 ],\n",
       "        [-0.037],\n",
       "        [-0.024],\n",
       "        [ 0.004],\n",
       "        [ 0.003],\n",
       "        [-0.01 ],\n",
       "        [-0.033],\n",
       "        [-0.012],\n",
       "        [-0.031],\n",
       "        [-0.009],\n",
       "        [-0.045],\n",
       "        [-0.026]], dtype=float32)>,\n",
       " <tf.Variable 'time_distributed_1/kernel:0' shape=(1000, 4288) dtype=float32, numpy=\n",
       " array([[ 0.021, -0.034, -0.016, ..., -0.008, -0.034,  0.022],\n",
       "        [ 0.039, -0.027,  0.01 , ..., -0.036, -0.021,  0.025],\n",
       "        [ 0.033, -0.007,  0.014, ...,  0.011, -0.003,  0.02 ],\n",
       "        ...,\n",
       "        [ 0.007, -0.009,  0.013, ..., -0.045, -0.027, -0.036],\n",
       "        [ 0.028, -0.048,  0.007, ..., -0.031, -0.019, -0.039],\n",
       "        [-0.004, -0.012, -0.025, ..., -0.011,  0.025,  0.037]],\n",
       "       dtype=float32)>,\n",
       " <tf.Variable 'time_distributed_1/bias:0' shape=(4288,) dtype=float32, numpy=array([ 0.006, -0.021,  0.016, ..., -0.017, -0.017, -0.023], dtype=float32)>]"
      ]
     },
     "execution_count": 80,
     "metadata": {},
     "output_type": "execute_result"
    }
   ],
   "source": [
    "new_model.trainable_variables"
   ]
  },
  {
   "cell_type": "code",
   "execution_count": 79,
   "metadata": {},
   "outputs": [
    {
     "data": {
      "text/plain": [
       "[<tf.Variable 'embedding_7/embeddings:0' shape=(17306, 500) dtype=float32, numpy=\n",
       " array([[ 0.013, -0.02 ,  0.029, ...,  0.008,  0.011,  0.028],\n",
       "        [-0.012, -0.05 ,  0.037, ..., -0.004, -0.001,  0.033],\n",
       "        [-0.048, -0.029,  0.036, ...,  0.021,  0.014,  0.009],\n",
       "        ...,\n",
       "        [-0.032, -0.048, -0.03 , ...,  0.025,  0.032, -0.037],\n",
       "        [ 0.003,  0.043,  0.035, ...,  0.019, -0.008,  0.032],\n",
       "        [ 0.048, -0.002,  0.006, ...,  0.021,  0.022, -0.029]],\n",
       "       dtype=float32)>,\n",
       " <tf.Variable 'lstm_9/kernel:0' shape=(500, 2000) dtype=float32, numpy=\n",
       " array([[ 0.01 ,  0.034,  0.046, ..., -0.048, -0.033, -0.022],\n",
       "        [ 0.023, -0.04 ,  0.047, ..., -0.039, -0.003,  0.007],\n",
       "        [ 0.013,  0.006,  0.046, ..., -0.024,  0.01 ,  0.047],\n",
       "        ...,\n",
       "        [-0.029,  0.015,  0.007, ...,  0.013, -0.018, -0.003],\n",
       "        [ 0.022,  0.006,  0.034, ..., -0.019,  0.007,  0.01 ],\n",
       "        [ 0.004,  0.009, -0.044, ..., -0.017, -0.044, -0.016]],\n",
       "       dtype=float32)>,\n",
       " <tf.Variable 'lstm_9/recurrent_kernel:0' shape=(500, 2000) dtype=float32, numpy=\n",
       " array([[ 0.014, -0.009, -0.051, ...,  0.035, -0.019, -0.008],\n",
       "        [-0.034,  0.04 , -0.02 , ...,  0.023,  0.046,  0.004],\n",
       "        [ 0.006, -0.028,  0.003, ...,  0.026, -0.016, -0.015],\n",
       "        ...,\n",
       "        [ 0.006,  0.006,  0.012, ...,  0.002,  0.003, -0.002],\n",
       "        [-0.049, -0.007, -0.023, ...,  0.017, -0.019,  0.002],\n",
       "        [-0.022, -0.009,  0.012, ..., -0.012,  0.022,  0.017]],\n",
       "       dtype=float32)>,\n",
       " <tf.Variable 'lstm_9/bias:0' shape=(2000,) dtype=float32, numpy=array([0., 0., 0., ..., 0., 0., 0.], dtype=float32)>,\n",
       " <tf.Variable 'lstm_1_6/kernel:0' shape=(500, 2000) dtype=float32, numpy=\n",
       " array([[ 0.013,  0.001, -0.012, ..., -0.023,  0.018,  0.034],\n",
       "        [ 0.037,  0.036, -0.022, ..., -0.013,  0.021,  0.038],\n",
       "        [ 0.012,  0.018,  0.008, ..., -0.015, -0.006, -0.007],\n",
       "        ...,\n",
       "        [ 0.045,  0.001,  0.039, ...,  0.002,  0.002,  0.023],\n",
       "        [ 0.006, -0.007, -0.043, ...,  0.019, -0.034,  0.048],\n",
       "        [-0.045, -0.004,  0.014, ..., -0.038, -0.009,  0.029]],\n",
       "       dtype=float32)>,\n",
       " <tf.Variable 'lstm_1_6/recurrent_kernel:0' shape=(500, 2000) dtype=float32, numpy=\n",
       " array([[-0.013, -0.031, -0.021, ...,  0.031, -0.007,  0.06 ],\n",
       "        [-0.022,  0.013,  0.015, ...,  0.019, -0.012, -0.028],\n",
       "        [-0.018,  0.017, -0.027, ...,  0.028, -0.002,  0.003],\n",
       "        ...,\n",
       "        [-0.013,  0.012, -0.027, ..., -0.06 ,  0.009, -0.022],\n",
       "        [ 0.011,  0.009, -0.011, ..., -0.008, -0.007, -0.017],\n",
       "        [-0.003, -0.016, -0.02 , ..., -0.013,  0.015,  0.03 ]],\n",
       "       dtype=float32)>,\n",
       " <tf.Variable 'lstm_1_6/bias:0' shape=(2000,) dtype=float32, numpy=array([0., 0., 0., ..., 0., 0., 0.], dtype=float32)>,\n",
       " <tf.Variable 'lstm_2_6/kernel:0' shape=(500, 2000) dtype=float32, numpy=\n",
       " array([[ 0.032, -0.021,  0.028, ...,  0.01 , -0.028, -0.038],\n",
       "        [-0.045, -0.014,  0.009, ...,  0.005, -0.007,  0.032],\n",
       "        [-0.015,  0.019, -0.026, ...,  0.016, -0.013,  0.027],\n",
       "        ...,\n",
       "        [ 0.041,  0.026, -0.019, ..., -0.002, -0.034, -0.01 ],\n",
       "        [ 0.027,  0.042, -0.036, ...,  0.014,  0.046, -0.027],\n",
       "        [ 0.033,  0.   ,  0.032, ...,  0.017, -0.037, -0.026]],\n",
       "       dtype=float32)>,\n",
       " <tf.Variable 'lstm_2_6/recurrent_kernel:0' shape=(500, 2000) dtype=float32, numpy=\n",
       " array([[ 0.046,  0.041,  0.013, ..., -0.019, -0.028, -0.013],\n",
       "        [-0.002, -0.016, -0.008, ...,  0.029,  0.009, -0.012],\n",
       "        [ 0.012,  0.014, -0.003, ...,  0.022, -0.018, -0.01 ],\n",
       "        ...,\n",
       "        [ 0.021, -0.02 , -0.03 , ...,  0.007,  0.003, -0.006],\n",
       "        [ 0.038,  0.013, -0.002, ...,  0.001,  0.021,  0.014],\n",
       "        [ 0.008,  0.009,  0.002, ...,  0.013, -0.007,  0.019]],\n",
       "       dtype=float32)>,\n",
       " <tf.Variable 'lstm_2_6/bias:0' shape=(2000,) dtype=float32, numpy=array([0., 0., 0., ..., 0., 0., 0.], dtype=float32)>]"
      ]
     },
     "execution_count": 79,
     "metadata": {},
     "output_type": "execute_result"
    }
   ],
   "source": [
    "encoder_model.trainable_variables"
   ]
  },
  {
   "cell_type": "markdown",
   "metadata": {},
   "source": [
    "## 编码器与解码器的推理模型"
   ]
  },
  {
   "cell_type": "code",
   "execution_count": 42,
   "metadata": {},
   "outputs": [],
   "source": [
    "_, encoder_model, decoder_model = build_model(latent_dim)"
   ]
  },
  {
   "cell_type": "code",
   "execution_count": 76,
   "metadata": {},
   "outputs": [],
   "source": [
    "def decode_sequence(input_seq):\n",
    "    e_out, e_h, e_c = encoder_model.predict(input_seq)\n",
    "    \n",
    "    target_seq = np.zeros((1,1))\n",
    "    target_seq[0, 0] = label_word2index['bos']\n",
    "    \n",
    "    stop_condition = False\n",
    "    decoded_sentence = ''\n",
    "    \n",
    "    while not stop_condition:\n",
    "        output_tokens, h, c = decoder_model.predict([target_seq] + [e_out, e_h, e_c])\n",
    "        \n",
    "        sampled_token_index = np.argmax(output_tokens[0, -1, :])\n",
    "        sampled_token = label_index2word[sampled_token_index]\n",
    "        \n",
    "        if sampled_token != 'eos':\n",
    "            decoded_sentence += ' ' + sampled_token\n",
    "        if sampled_token == 'eos' or len(decoded_sentence.split()) >= (max_len_summary-1):\n",
    "            stop_condition = True\n",
    "        \n",
    "        target_seq = np.zeros((1,1))\n",
    "        target_seq[0, 0] = sampled_token_index\n",
    "        \n",
    "        e_h, e_c = h, c\n",
    "        \n",
    "    return decoded_sentence"
   ]
  },
  {
   "cell_type": "code",
   "execution_count": 78,
   "metadata": {},
   "outputs": [
    {
     "name": "stdout",
     "output_type": "stream",
     "text": [
      "Review: percent eating real food along sawdust chicken hearts still feed eating twice day 1 3 cup total eating three times day 5 8 cup total eats morning walks away eats hours later looks dinner twelve hours initial feeding knocking things dad papers desk deliberately spilled water floor incredible feel bad long really thought dramatic whatever genuinely hungry eating real food cat favor buy food made real ingredients things would eat wellness halo innova evo whatever figure please feed cat garbage\n",
      "Original summary: food is empty leaves your cat always more\n",
      "Predict summary:  put them tart grounds tart donuts starting five metallic\n",
      "\n",
      "\n",
      "Review: like smoked sweet paprika better styles sweet paprika came fresh reasonable price\n",
      "Original summary: smoked paprika\n",
      "Predict summary:  completely german sale completely jolokia noisy her her her\n",
      "\n",
      "\n",
      "Review: caribou coffees weak one delicious exception right revv emeril bold van houtte eclipse dark bold coffee without tasting burned bitter\n",
      "Original summary: wonderful dark coffee\n",
      "Predict summary:  completely german sale completely jolokia noisy her her her\n",
      "\n",
      "\n",
      "Review: simple wheat pale malt light ale 1 1 fermented 60 62 give take grain bottle week concerned haze cracked day get taste extremely clean taste every single grain malt hop much maybe 15 tops nice beer blow tube mandatory next project 1 american wheat blew 5 gallons 6 gallon carboy wanted enough space 10 gallons want absolutely crisp clean yeast produces lager like beers tolerate temps 55 seems really malt nice yeast like little yeast profile know love impressed clean\n",
      "Original summary: close to lager from an as it gets\n",
      "Predict summary:  put them grounds tart grounds tart donuts starting five\n",
      "\n",
      "\n",
      "Review: know nothing co2 method decaffeinating thought would give try usually buy swiss water processed wonderful chocolatey taste also claimed 99 9 caffein free hopefully true really best tried decaf\n",
      "Original summary: delicious chocolatey taste\n",
      "Predict summary:  completely her her her cheap said consistent her topping\n",
      "\n",
      "\n",
      "Review: intrigued particular blend got exotic name disappointed ever slight coconut aftertaste makes delicious like strong coffee perfect husband get send regularly one favorites second jamaica crazy wolfgang puck wolfgang much tastier brands\n",
      "Original summary: wonderfully yummy\n",
      "Predict summary:  completely her her her cheap said consistent her topping\n",
      "\n",
      "\n",
      "Review: turned fantastic little sweeter expecting still great may even consider dessert wine nice using cornucopia kits come complete supplies need corks labels toppers etc use distilled water making wine dont want chance anything else always turned great give try\n",
      "Original summary: white pear delight\n",
      "Predict summary:  completely her her her cheap toasty kick vickie vickie\n",
      "\n",
      "\n",
      "Review: best tasting pancake mix market easy make\n",
      "Original summary: great tasting pancake mix\n",
      "Predict summary:  completely german sale completely jolokia german sale bank aware\n",
      "\n",
      "\n",
      "Review: great real coconut young coconut taste usual overwhelming sweet taste seen coconut water canned drinks good environment made brazil even better really taste fruit labelled product besides coconut water taste\n",
      "Original summary: great taste nice fruit flavor serve\n",
      "Predict summary:  completely her her her cheap said consistent strawberry wallop\n",
      "\n",
      "\n",
      "Review: good bars gluten free favorite bar everything carry still good keep around hunger attack really want try something great try coconut cashew incredible like naughty\n",
      "Original summary: good for on the go\n",
      "Predict summary:  completely her her her cheap said consistent her topping\n",
      "\n",
      "\n",
      "Review: best potato chips money buy enough salt taste much lingering awesomeness bag chip perfect thickness teeth get excited every time put one mouth everything chips perfect like made god delivered know amazon carries even leave house buy may never eat anything else\n",
      "Original summary: lightly salted delicious\n",
      "Predict summary:  completely her her her cheap said consistent her topping\n",
      "\n",
      "\n",
      "Review: tastes good fried bad tastes good eat course lot great healthier snacks\n",
      "Original summary: these tastes pretty good\n",
      "Predict summary:  completely german sale completely jolokia german sale pretzels crisco\n",
      "\n",
      "\n"
     ]
    }
   ],
   "source": [
    "for index, valid in enumerate(paded_valid_seq):\n",
    "    print(f\"Review: {train_tokenizer.sequences_to_texts([valid])[0]}\")\n",
    "    target = label_tokenizer.sequences_to_texts([paded_valid_label_seq[index]])\n",
    "    print(f\"Original summary: {' '.join(target[0].split()[1:-1])}\")\n",
    "    result = decode_sequence(valid.reshape(1, max_len_text))\n",
    "    print(f\"Predict summary: {result}\")\n",
    "    print('\\n')\n",
    "    if index > 10:\n",
    "        break"
   ]
  },
  {
   "cell_type": "code",
   "execution_count": null,
   "metadata": {},
   "outputs": [],
   "source": []
  }
 ],
 "metadata": {
  "kernelspec": {
   "display_name": "Python 3",
   "language": "python",
   "name": "python3"
  },
  "language_info": {
   "codemirror_mode": {
    "name": "ipython",
    "version": 3
   },
   "file_extension": ".py",
   "mimetype": "text/x-python",
   "name": "python",
   "nbconvert_exporter": "python",
   "pygments_lexer": "ipython3",
   "version": "3.7.5"
  },
  "toc-autonumbering": true
 },
 "nbformat": 4,
 "nbformat_minor": 4
}
