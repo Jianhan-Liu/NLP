{
 "cells": [
  {
   "cell_type": "markdown",
   "metadata": {},
   "source": [
    "# 导入工具"
   ]
  },
  {
   "cell_type": "code",
   "execution_count": 56,
   "metadata": {},
   "outputs": [],
   "source": [
    "import warnings\n",
    "warnings.filterwarnings('ignore')\n",
    "import gc\n",
    "from numba import jit\n",
    "from tqdm import tqdm_notebook, tqdm\n",
    "tqdm.pandas()\n",
    "import sys\n",
    "import os\n",
    "import json\n",
    "import logging\n",
    "logging.basicConfig(format=\"%(asctime)s: %(levelname)s: %(message)s\", level=logging.INFO)\n",
    "\n",
    "import numpy as np\n",
    "np.set_printoptions(suppress=True, precision=3)\n",
    "import pandas as pd\n",
    "pd.set_option('display.max_columns', None)\n",
    "import pandas_profiling\n",
    "import seaborn as sns\n",
    "sns.set()\n",
    "import matplotlib.pyplot as  plt\n",
    "import matplotlib.patches as patches\n",
    "plt.rcParams['font.sans-serif'] = ['SimHei']\n",
    "%matplotlib inline\n",
    "\n",
    "from sklearn.decomposition import FactorAnalysis, FastICA, PCA, TruncatedSVD\n",
    "from sklearn.manifold import Isomap, TSNE\n",
    "import umap\n",
    "\n",
    "import xgboost as xgb\n",
    "import lightgbm as lgb\n",
    "from catboost import CatBoostClassifier, Pool, cv\n",
    "\n",
    "from sklearn.tree import DecisionTreeClassifier\n",
    "from sklearn.linear_model import LogisticRegression\n",
    "from sklearn.neighbors import KNeighborsClassifier\n",
    "from sklearn.naive_bayes import GaussianNB\n",
    "from sklearn.svm import SVC, LinearSVC\n",
    "from sklearn.ensemble import RandomForestClassifier\n",
    "from sklearn.ensemble import GradientBoostingClassifier\n",
    "from sklearn.ensemble import AdaBoostClassifier\n",
    "from sklearn.ensemble import ExtraTreesClassifier, VotingClassifier\n",
    "from sklearn.preprocessing import Imputer, Normalizer, scale, StandardScaler\n",
    "from sklearn.model_selection import train_test_split, StratifiedKFold, cross_val_score\n",
    "from sklearn.model_selection import GridSearchCV, learning_curve\n",
    "from sklearn.feature_selection import RFECV, SelectKBest, chi2\n",
    "from sklearn.metrics import classification_report, confusion_matrix, accuracy_score\n",
    "\n",
    "from scipy.signal import hilbert, hann, convolve\n",
    "from scipy import stats\n",
    "import scipy.spatial.distance as dist\n",
    "\n",
    "from collections import Counter\n",
    "from statistics import mode\n",
    "from itertools import product\n",
    "import ast\n",
    "from datetime import timedelta,datetime\n",
    "import time\n",
    "import datetime"
   ]
  },
  {
   "cell_type": "markdown",
   "metadata": {},
   "source": [
    "# 数据初检\n",
    "- 正式处理所有数据时，可将所有训练数据去掉label后拼接，再与测试数据拼接一同处理"
   ]
  },
  {
   "cell_type": "code",
   "execution_count": 3,
   "metadata": {},
   "outputs": [],
   "source": [
    "train_df1 = pd.read_table('data/round1/train.txt')  # 1,000,000 samples\n",
    "train_df2 = pd.read_table('data/round2/train.txt')  # 5,000,000 samples"
   ]
  },
  {
   "cell_type": "code",
   "execution_count": 18,
   "metadata": {},
   "outputs": [],
   "source": [
    "test_df1 = pd.read_table('data/round1/test.txt')  # 100,000 samples\n",
    "test_df2a = pd.read_table('data/round2/round2_iflyad_anticheat_testdata_feature_A.txt')  # 1,000,000 samples in A\n",
    "test_df2b = pd.read_table('data/round2/round2_iflyad_anticheat_testdata_feature_B.txt')  # 1,000,000 samples in B"
   ]
  },
  {
   "cell_type": "code",
   "execution_count": 6,
   "metadata": {},
   "outputs": [],
   "source": [
    "train_all = pd.concat([train_df1, train_df2], ignore_index=True)\n",
    "test_all = pd.concat([test_df1, test_df2a, test_df2b], ignore_index=True)\n",
    "full_train_no_label = train_all.drop(['label'], axis=1)\n",
    "# 正式处理时对所有数据的features同时处理，之后根据各自的size分出不同的数据集\n",
    "full_train_test = pd.concat([full_train_no_label, test_all], ignore_index=True)  # 7,100,000 samples without label\n",
    "del train_df1\n",
    "del train_df2"
   ]
  },
  {
   "cell_type": "markdown",
   "metadata": {},
   "source": [
    "- 只跑demo的话可以只用一小部分数据"
   ]
  },
  {
   "cell_type": "code",
   "execution_count": 6,
   "metadata": {},
   "outputs": [],
   "source": [
    "train_sample = 10000\n",
    "test_sample = 1000\n",
    "df_reader = pd.read_table('data/round1/train.txt', iterator=True)\n",
    "full_data = df_reader.get_chunk(train_sample+test_sample)\n",
    "\n",
    "train_sample = full_data[:train_sample]  # 0:10000\n",
    "test_sample = full_data[-test_sample:]  # 10000:11000\n",
    "\n",
    "# 待数据处理完之后分离特征与标签，否则对full_data的处理不会影响到train_feature与test_feature\n",
    "# train_feature = train_sample.drop(['label'], axis=1)\n",
    "# train_label = train_sample.label\n",
    "\n",
    "# test_feature = test_sample.drop(['label'], axis=1)\n",
    "# test_label = test_sample.label"
   ]
  },
  {
   "cell_type": "markdown",
   "metadata": {},
   "source": [
    "## 统一`make`标签"
   ]
  },
  {
   "cell_type": "code",
   "execution_count": null,
   "metadata": {
    "jupyter": {
     "source_hidden": true
    }
   },
   "outputs": [],
   "source": [
    "# 统一make标签\n",
    "data = full_data\n",
    "data.loc[data['make'].str.contains('长虹', na=False), 'make'] = 'changhong'\n",
    "data.loc[data['make'].str.contains('朵唯', na=False), 'make'] = 'doov'\n",
    "data.loc[data['make'].str.contains('sm', na=False), 'make'] = 'samsung'\n",
    "data.loc[data['make'].str.contains('SAMSUNG', na=False), 'make'] = 'samsung'\n",
    "data.loc[data['make'].str.contains('三星', na=False), 'make'] = 'samsung'\n",
    "data.loc[data['make'].str.contains('GT-', na=False), 'make'] = 'samsung'\n",
    "data.loc[data['make'].str.contains('格力', na=False), 'make'] = 'gree'\n",
    "data.loc[data['make'].str.contains('Moto G', na=False), 'make'] = 'motorola'\n",
    "data.loc[data['make'].str.contains('Moto', na=False), 'make'] = 'motorola'\n",
    "data.loc[data['make'].str.contains('moto', na=False), 'make'] = 'motorola'\n",
    "data.loc[data['make'].str.contains('摩托罗拉', na=False), 'make'] = 'motorola'\n",
    "data.loc[data['make'].str.contains('诺基亚', na=False), 'make'] = 'nokia'\n",
    "data.loc[data['make'].str.contains('Nokia', na=False), 'make'] = 'nokia'\n",
    "data.loc[data['make'].str.contains('努比亚', na=False), 'make'] = 'nubia'\n",
    "data.loc[data['make'].str.contains('美图', na=False), 'make'] = 'meitu'\n",
    "data.loc[data['make'].str.contains('LG-', na=False), 'make'] = 'LG'\n",
    "data.loc[data['make'].str.contains('联想', na=False), 'make'] = 'lenovo'\n",
    "data.loc[data['make'].str.contains('rv:', na=False), 'make'] = 'RV'\n",
    "data.loc[data['make'].str.contains('rv:', na=False), 'make'] = 'RV'\n",
    "data.loc[data['make'].str.contains('小辣椒', na=False), 'make'] = 'xiaolajiao'\n",
    "data.loc[data['make'].str.contains('HUAWEI', na=False), 'make'] = 'huawei'\n",
    "data.loc[data['make'].str.contains('huawei', na=False), 'make'] = 'huawei'\n",
    "data.loc[data['make'].str.contains('荣耀', na=False), 'make'] = 'huawei'\n",
    "data.loc[data['make'].str.contains('华为', na=False), 'make'] = 'huawei'\n",
    "data.loc[data['make'].str.contains('-L', na=False), 'make'] = 'huawei'\n",
    "data.loc[data['make'].str.contains('al', na=False), 'make'] = 'huawei'\n",
    "data.loc[data['make'].str.contains('Blade', na=False), 'make'] = 'zte'\n",
    "data.loc[data['make'].str.contains('BLADE', na=False), 'make'] = 'zte'\n",
    "data.loc[data['make'].str.contains('中兴', na=False), 'make'] = 'zte'\n",
    "data.loc[data['make'].str.contains('海信', na=False), 'make'] = 'hisense'\n",
    "data.loc[data['make'].str.contains('Linux', na=False), 'make'] = 'Linux'\n",
    "data.loc[data['make'].str.contains('乐丰', na=False), 'make'] = 'lephone'\n",
    "data.loc[data['make'].str.contains('百立丰', na=False), 'make'] = 'lephone'\n",
    "data.loc[data['make'].str.contains('乐视', na=False), 'make'] = 'letv'\n",
    "data.loc[data['make'].str.contains('XT', na=False), 'make'] = 'Sony'\n",
    "data.loc[data['make'].str.contains('htc', na=False), 'make'] = 'htc'\n",
    "data.loc[data['make'].str.contains('HTC', na=False), 'make'] = 'htc'\n",
    "data.loc[data['make'].str.contains('ASUS', na=False), 'make'] = 'Asus'\n",
    "data.loc[data['make'].str.contains('锤子', na=False), 'make'] = 'smartisan'\n",
    "data.loc[data['make'].str.contains('oppo', na=False), 'make'] = 'oppo'\n",
    "data.loc[data['make'].str.contains('pb', na=False), 'make'] = 'oppo'\n",
    "data.loc[data['make'].str.contains('realme', na=False), 'make'] = 'oppo'\n",
    "data.loc[data['make'].str.contains('天语', na=False), 'make'] = 'k touch'\n",
    "data.loc[data['make'].str.contains('Tianyu', na=False), 'make'] = 'k touch'\n",
    "data.loc[data['make'].str.contains('tianyu', na=False), 'make'] = 'k touch'\n",
    "data.loc[data['make'].str.contains('酷派', na=False), 'make'] = 'coolpad'\n",
    "data.loc[data['make'].str.contains('索尼', na=False), 'make'] = 'sony'\n",
    "data.loc[data['make'].str.contains('SONY', na=False), 'make'] = 'sony'\n",
    "data.loc[data['make'].str.contains('sony', na=False), 'make'] = 'sony'\n",
    "data.loc[data['make'].str.contains('小米', na=False), 'make'] = 'xiaomi'\n",
    "data.loc[data['make'].str.contains('mi', na=False), 'make'] = 'xiaomi'\n",
    "data.loc[data['make'].str.contains('m1', na=False), 'make'] = 'xiaomi'\n",
    "data.loc[data['make'].str.contains('m1s', na=False), 'make'] = 'xiaomi'\n",
    "data.loc[data['make'].str.contains('m2', na=False), 'make'] = 'xiaomi'\n",
    "data.loc[data['make'].str.contains('m2s', na=False), 'make'] = 'xiaomi'\n",
    "data.loc[data['make'].str.contains('m2a', na=False), 'make'] = 'xiaomi'\n",
    "data.loc[data['make'].str.contains('m3', na=False), 'make'] = 'xiaomi'\n",
    "data.loc[data['make'].str.contains('m6', na=False), 'make'] = 'xiaomi'\n",
    "data.loc[data['make'].str.contains('xiaomi', na=False), 'make'] = 'xiaomi'\n",
    "data.loc[data['make'].str.contains('redmi', na=False), 'make'] = 'xiaomi'\n",
    "data.loc[data['make'].str.contains('魅族', na=False), 'make'] = 'meizu'\n",
    "data.loc[data['make'].str.contains('360', na=False), 'make'] = '360'\n",
    "data.loc[data['make'].str.contains('三星', na=False), 'make'] = 'samsung'\n",
    "data.loc[data['make'].str.contains('赛博宇华', na=False), 'make'] = 'sop'\n",
    "data.loc[data['make'].str.contains('金立', na=False), 'make'] = 'jinli'\n",
    "data.loc[data['make'].str.contains('gionee', na=False), 'make'] = 'jinli'\n",
    "data.loc[data['make'].str.contains('Gionee', na=False), 'make'] = 'jinli'\n",
    "data.loc[data['make'].str.contains('vivo', na=False), 'make'] = 'vivo'\n",
    "data.loc[data['make'].str.contains('VIVO', na=False), 'make'] = 'vivo'\n",
    "data.loc[data['make'].str.contains('oneplus', na=False), 'make'] = 'oneplus'\n",
    "data.loc[data['make'].str.contains('一加', na=False), 'make'] = 'oneplus'"
   ]
  },
  {
   "cell_type": "code",
   "execution_count": 47,
   "metadata": {},
   "outputs": [
    {
     "data": {
      "text/plain": [
       "array(['vivo', 'huawei', 'oppo', nan, 'EML-AL00', 'xiaomi', '360',\n",
       "       'meizu', 'GIONEE', 'HONOR', 'samsung', 'Meizu', 'honor', 'jinli',\n",
       "       'MI+5X', 'LeEco', 'ANE-AL00', 'htc', 'ZTE', 'Letv', 'BBK',\n",
       "       'PCT-AL10', 'OnePlus', 'VCE-AL00', 'MIX%202', 'Meitu', 'V1816A',\n",
       "       'PAR-AL00', 'PAR', 'LYA-AL00', 'GiONEE', 'MI8', 'CLT-TL01',\n",
       "       'JMM-AL10', 'SMARTISAN', 'ARE-AL00', 'Huawei', '云狐', 'LeMobile',\n",
       "       'nubia', 'COR-AL10', 'Sony', 'CLT-AL00', 'COL-AL10', 'DUB-AL00',\n",
       "       'MI 9', 'Gree', 'LENOVO', 'coolpad', 'Generic', 'Hisense', 'meitu',\n",
       "       'YuLong', '奇酷', 'SM-G9500', 'PBBM00', 'JSN-AL00', 'zte', 'Coolpad',\n",
       "       'koobee', 'PBET00', 'nokia', 'PBAT00', 'AGM', 'oneplus', '/pado',\n",
       "       'rockchip', 'philips', 'common', 'sast', 'blackshark', 'smartisan',\n",
       "       '%2522OS105%2522', 'JSN-AL00a', '16th%20Plus',\n",
       "       'GIONEE,F100A,F100A', 'INE-AL00', 'PBAM00', 'CMCC', 'KINGSUN',\n",
       "       'PBCM30', 'gree', 'GREE', 'JKM-TL00', 'DOOV', 'YUFLY', 'Benign',\n",
       "       'PBEM00', 'TNY-AL00', 'ARS-TL00', 'lenovo', 'LLD-AL20', 'V1818T',\n",
       "       'SENTER', 'CMDC', 'MEIIGOO', 'imoo', 'Netease', 'NOAIN', '中国移动',\n",
       "       'QX', 'LLD-AL30', 'lephone', 'xiaolajiao', 'hisense', 'SHT-W09',\n",
       "       'ANE-TL00', 'EVR-AL00', 'YAL-AL00', 'YOTA', 'RVL-AL09', 'PROTRULY',\n",
       "       'RVL', 'VOG-AL10', 'MAR-AL00', 'ELE-AL00', 'BIHEE', 'MI 8',\n",
       "       'HMA-AL00', 'JKM-AL00', 'SNE-AL00', 'Nexus%205', 'PADT00',\n",
       "       'ONEPLUS%20A3000', 'SUGAR', 'EYO', 'ZUK', 'CLT-AL01',\n",
       "       'haipainoble', '4G', 'VCE-TL00', 'MI 8 Lite', 'Lenovo', 'OUKI',\n",
       "       't106', 'SAGA', 'V1818A', 'BKL-AL20', 'MLA-AL10', 'PAAM00', 'TCL',\n",
       "       'VjVj', 'ONEPLUSA6000', 'VOG-AL00', 'MRD-AL00', 'V1818CA',\n",
       "       'Meizu,M5 Note,meizu_M5 Note', 'SM-G9730', 'Vivo', 'KEJIAN',\n",
       "       'JKM-AL00b', 'm5_note', 'PAAT00', 'CAPPU', 'YUSUN', 'DUB-AL20',\n",
       "       'BAIYUN', 'PADM00', 'JSN-TL00', 'A6', 'DUB-TL00', 'KONKA', 'SHARP',\n",
       "       'SuperD'], dtype=object)"
      ]
     },
     "execution_count": 47,
     "metadata": {},
     "output_type": "execute_result"
    }
   ],
   "source": [
    "full_data.make.unique()"
   ]
  },
  {
   "cell_type": "markdown",
   "metadata": {},
   "source": [
    "## 转换`nginxtime`属性为时间属性"
   ]
  },
  {
   "cell_type": "code",
   "execution_count": 58,
   "metadata": {},
   "outputs": [],
   "source": [
    "data['time'] = pd.to_datetime(data.nginxtime[0] / 1000, unit='s') + timedelta(hours=8)"
   ]
  },
  {
   "cell_type": "code",
   "execution_count": 61,
   "metadata": {},
   "outputs": [],
   "source": [
    "data['day'] = data.time.dt.day\n",
    "data['hour'] = data.time.dt.hour"
   ]
  },
  {
   "cell_type": "markdown",
   "metadata": {},
   "source": [
    "## 抽取`sid`中的时间戳"
   ]
  },
  {
   "cell_type": "code",
   "execution_count": 64,
   "metadata": {},
   "outputs": [
    {
     "data": {
      "text/plain": [
       "'b660d559-db97-4b5f-9bd2-2450cb89ce77-1560050740125'"
      ]
     },
     "execution_count": 64,
     "metadata": {},
     "output_type": "execute_result"
    }
   ],
   "source": [
    "data.sid[1]"
   ]
  },
  {
   "cell_type": "code",
   "execution_count": 65,
   "metadata": {},
   "outputs": [],
   "source": [
    "data['sid_timestamp'] = data.sid.apply(lambda x:str(x).split('-')[-1]).astype(str)"
   ]
  },
  {
   "cell_type": "code",
   "execution_count": 76,
   "metadata": {},
   "outputs": [
    {
     "data": {
      "text/plain": [
       "0    1560090701088\n",
       "1    1560050740125\n",
       "2    1560089145219\n",
       "Name: sid_timestamp, dtype: object"
      ]
     },
     "execution_count": 76,
     "metadata": {},
     "output_type": "execute_result"
    }
   ],
   "source": [
    "data.sid_timestamp.head(3)"
   ]
  },
  {
   "cell_type": "markdown",
   "metadata": {},
   "source": [
    "- 判断请求时间与到达时间"
   ]
  },
  {
   "cell_type": "code",
   "execution_count": 70,
   "metadata": {},
   "outputs": [],
   "source": [
    "data['nginxtime_sid_time_diff'] = data.nginxtime.astype('float') - data.sid_timestamp.astype('float')\n",
    "data['nginxtime_sid_timestamp'] = (data.nginxtime==data.sid_timestamp.astype(str)).astype(int)"
   ]
  },
  {
   "cell_type": "code",
   "execution_count": 72,
   "metadata": {},
   "outputs": [
    {
     "data": {
      "text/plain": [
       "0   -1.0\n",
       "1   -2.0\n",
       "2   -1.0\n",
       "Name: nginxtime_sid_time_diff, dtype: float64"
      ]
     },
     "execution_count": 72,
     "metadata": {},
     "output_type": "execute_result"
    }
   ],
   "source": [
    "data.nginxtime_sid_time_diff.head(3)"
   ]
  },
  {
   "cell_type": "code",
   "execution_count": 73,
   "metadata": {},
   "outputs": [
    {
     "data": {
      "text/plain": [
       "0    0\n",
       "1    0\n",
       "2    0\n",
       "Name: nginxtime_sid_timestamp, dtype: int32"
      ]
     },
     "execution_count": 73,
     "metadata": {},
     "output_type": "execute_result"
    }
   ],
   "source": [
    "data.nginxtime_sid_timestamp.head(3)"
   ]
  },
  {
   "cell_type": "markdown",
   "metadata": {},
   "source": [
    "## 转换`os`属性为大写"
   ]
  },
  {
   "cell_type": "code",
   "execution_count": 69,
   "metadata": {},
   "outputs": [
    {
     "data": {
      "text/plain": [
       "0"
      ]
     },
     "execution_count": 69,
     "metadata": {},
     "output_type": "execute_result"
    }
   ],
   "source": [
    "data.os = data.os.apply(lambda x:x.upper())"
   ]
  },
  {
   "cell_type": "markdown",
   "metadata": {},
   "source": [
    "## 处理`model`特征"
   ]
  },
  {
   "cell_type": "code",
   "execution_count": 75,
   "metadata": {},
   "outputs": [
    {
     "data": {
      "text/plain": [
       "array(['V1809A', 'BLA-AL00', 'PBEM00', ..., 'SM-A7100', 'BTV-DL09',\n",
       "       'LE X625'], dtype=object)"
      ]
     },
     "execution_count": 75,
     "metadata": {},
     "output_type": "execute_result"
    }
   ],
   "source": [
    "data.model.unique()"
   ]
  },
  {
   "cell_type": "code",
   "execution_count": 77,
   "metadata": {},
   "outputs": [],
   "source": [
    "data['model'].replace('PACM00',\"OPPO R15\",inplace=True)\n",
    "data['model'].replace('PBAM00',\"OPPO A5\",inplace=True)\n",
    "data['model'].replace('PBEM00',\"OPPO R17\",inplace=True)\n",
    "data['model'].replace('PADM00',\"OPPO A3\",inplace=True)\n",
    "data['model'].replace('PBBM00',\"OPPO A7\",inplace=True)\n",
    "data['model'].replace('PAAM00',\"OPPO R15_1\",inplace=True)\n",
    "data['model'].replace('PACT00',\"OPPO R15_2\",inplace=True)\n",
    "data['model'].replace('PABT00',\"OPPO A5_1\",inplace=True)\n",
    "data['model'].replace('PBCM10',\"OPPO R15x\",inplace=True)"
   ]
  },
  {
   "cell_type": "code",
   "execution_count": 79,
   "metadata": {},
   "outputs": [
    {
     "data": {
      "text/plain": [
       "array(['V1809A', 'BLA-AL00', 'OPPO R17', ..., 'SM-A7100', 'BTV-DL09',\n",
       "       'LE X625'], dtype=object)"
      ]
     },
     "execution_count": 79,
     "metadata": {},
     "output_type": "execute_result"
    }
   ],
   "source": [
    "data.model.unique()"
   ]
  },
  {
   "cell_type": "code",
   "execution_count": 81,
   "metadata": {},
   "outputs": [],
   "source": [
    "data['big_model'] = data.model.apply(lambda x: str(x).split(' ')[0])"
   ]
  },
  {
   "cell_type": "code",
   "execution_count": 83,
   "metadata": {},
   "outputs": [],
   "source": [
    "data['model_equal_make'] = (data.big_model == data.make).astype(int)"
   ]
  },
  {
   "cell_type": "code",
   "execution_count": 84,
   "metadata": {},
   "outputs": [],
   "source": [
    "data['machine'] = data.make.astype(str) + '-' + data.model.astype(str)"
   ]
  },
  {
   "cell_type": "code",
   "execution_count": 89,
   "metadata": {},
   "outputs": [
    {
     "data": {
      "text/plain": [
       "2404"
      ]
     },
     "execution_count": 89,
     "metadata": {},
     "output_type": "execute_result"
    }
   ],
   "source": [
    "len(data[data.h==0])"
   ]
  },
  {
   "cell_type": "code",
   "execution_count": null,
   "metadata": {},
   "outputs": [],
   "source": []
  }
 ],
 "metadata": {
  "kernelspec": {
   "display_name": "Python 3",
   "language": "python",
   "name": "python3"
  },
  "language_info": {
   "codemirror_mode": {
    "name": "ipython",
    "version": 3
   },
   "file_extension": ".py",
   "mimetype": "text/x-python",
   "name": "python",
   "nbconvert_exporter": "python",
   "pygments_lexer": "ipython3",
   "version": "3.6.2"
  }
 },
 "nbformat": 4,
 "nbformat_minor": 4
}
