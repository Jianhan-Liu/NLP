{
 "cells": [
  {
   "cell_type": "markdown",
   "metadata": {},
   "source": [
    "### Assignment-01-附加题-极具挑战性的题目，基础一般的同学请把前边的做好就非常非常好了，这个是一个趣味题 😝"
   ]
  },
  {
   "cell_type": "markdown",
   "metadata": {},
   "source": [
    "## 基于模式匹配的对话机器人实现"
   ]
  },
  {
   "cell_type": "markdown",
   "metadata": {},
   "source": [
    "### Pattern Match\n",
    "\n",
    "机器能否实现对话，这个长久以来是衡量机器人是否具有智能的一个重要标志。 Alan Turing早在其文中就提出过一个测试机器智能程度的方法，该方法主要是考察人类是否能够通过对话内容区分对方是机器人还是真正的人类，如果人类无法区分，我们就称之为具有”智能“。而这个测试，后来被大家叫做”图灵测试“，之后也被翻拍成了一步著名电影，叫做《模拟游戏》。 \n",
    "\n",
    "\n",
    "\n",
    "既然图灵当年以此作为机器是否具备智能的标志，这项任务肯定是复杂的。自从 1960s 开始，诸多科学家就希望从各个方面来解决这个问题，直到如今，都只能解决一部分问题。 目前对话机器人的建立方法有很多，今天的作业中，我们为大家提供一共快速的基于模板的对话机器人配置方式。\n",
    "\n",
    "此次作业首先希望大家能够读懂这段程序的代码，其次，在此基于我们提供的代码，**能够把它改造成汉语版本，实现对话效果。**"
   ]
  },
  {
   "cell_type": "markdown",
   "metadata": {},
   "source": [
    "```\n",
    "Pattern: (我想要A)\n",
    "Response: (如果你有 A，对你意味着什么呢？)\n",
    "\n",
    "Input: (我想要度假)\n",
    "Response: (如果你有度假，对你意味着什么呢？)\n",
    "```"
   ]
  },
  {
   "cell_type": "markdown",
   "metadata": {},
   "source": [
    "为了实现模板的判断和定义，我们需要定义一个特殊的符号类型，这个符号类型就叫做\"variable\"， 这个\"variable\"用来表示是一个占位符。例如，定义一个目标: \"I want X\"， 我们可以表示成  \"I want ?X\", 意思就是?X是一个用来占位的符号。\n",
    "\n",
    "如果输入了\"I want holiday\"， 在这里 'holiday' 就是 '?X'"
   ]
  },
  {
   "cell_type": "code",
   "execution_count": 63,
   "metadata": {},
   "outputs": [],
   "source": [
    "def is_variable(pat):\n",
    "    return pat.startswith('?') and all(s.isalpha() for s in pat[1:])"
   ]
  },
  {
   "cell_type": "code",
   "execution_count": 64,
   "metadata": {},
   "outputs": [],
   "source": [
    "def pat_match(pattern, saying):\n",
    "    if is_variable(pattern[0]): return True\n",
    "    else:\n",
    "        if pattern[0] != saying[0]: return False\n",
    "        else:\n",
    "            return pat_match(pattern[1:], saying[1:])"
   ]
  },
  {
   "cell_type": "markdown",
   "metadata": {},
   "source": [
    "### 例如"
   ]
  },
  {
   "cell_type": "code",
   "execution_count": 65,
   "metadata": {},
   "outputs": [
    {
     "data": {
      "text/plain": [
       "True"
      ]
     },
     "execution_count": 65,
     "metadata": {},
     "output_type": "execute_result"
    }
   ],
   "source": [
    "pat_match('I want ?X'.split(), \"I want holiday\".split())"
   ]
  },
  {
   "cell_type": "code",
   "execution_count": 66,
   "metadata": {},
   "outputs": [
    {
     "data": {
      "text/plain": [
       "False"
      ]
     },
     "execution_count": 66,
     "metadata": {},
     "output_type": "execute_result"
    }
   ],
   "source": [
    "pat_match('I have dreamed a ?X'.split(), \"I dreamed about dog\".split())"
   ]
  },
  {
   "cell_type": "code",
   "execution_count": 67,
   "metadata": {},
   "outputs": [
    {
     "data": {
      "text/plain": [
       "True"
      ]
     },
     "execution_count": 67,
     "metadata": {},
     "output_type": "execute_result"
    }
   ],
   "source": [
    "pat_match('I dreamed about ?X'.split(), \"I dreamed about dog\".split())"
   ]
  },
  {
   "cell_type": "markdown",
   "metadata": {},
   "source": [
    "### 获得匹配的变量"
   ]
  },
  {
   "cell_type": "markdown",
   "metadata": {},
   "source": [
    "以上的函数能够判断两个 pattern 是不是相符，但是我们更加希望的是获得每个variable对应的是什么值。\n",
    "\n",
    "我们对程序做如下修改:"
   ]
  },
  {
   "cell_type": "code",
   "execution_count": 68,
   "metadata": {},
   "outputs": [],
   "source": [
    "def pat_match(pattern, saying):\n",
    "    if is_variable(pattern[0]):\n",
    "        return pattern[0], saying[0]\n",
    "    else:\n",
    "        if pattern[0] != saying[0]: return False\n",
    "        else:\n",
    "            return pat_match(pattern[1:], saying[1:])"
   ]
  },
  {
   "cell_type": "code",
   "execution_count": 69,
   "metadata": {},
   "outputs": [],
   "source": [
    "pattern = 'I want ?X'.split()\n",
    "saying = \"I want holiday\".split()"
   ]
  },
  {
   "cell_type": "code",
   "execution_count": 70,
   "metadata": {},
   "outputs": [
    {
     "data": {
      "text/plain": [
       "('?X', 'holiday')"
      ]
     },
     "execution_count": 70,
     "metadata": {},
     "output_type": "execute_result"
    }
   ],
   "source": [
    "pat_match(pattern, saying)"
   ]
  },
  {
   "cell_type": "code",
   "execution_count": 71,
   "metadata": {},
   "outputs": [
    {
     "data": {
      "text/plain": [
       "('?X', '2+2')"
      ]
     },
     "execution_count": 71,
     "metadata": {},
     "output_type": "execute_result"
    }
   ],
   "source": [
    "pat_match(\"?X equals ?X\".split(), \"2+2 equals 2+2\".split())"
   ]
  },
  {
   "cell_type": "markdown",
   "metadata": {},
   "source": [
    "但是，如果我们的 Pattern 中具备两个变量，那么以上程序就不能解决了，我们可以对程序做如下修改: \n"
   ]
  },
  {
   "cell_type": "code",
   "execution_count": 72,
   "metadata": {},
   "outputs": [],
   "source": [
    "def pat_match(pattern, saying):\n",
    "    if not pattern or not saying: return []\n",
    "    \n",
    "    if is_variable(pattern[0]):\n",
    "        return [(pattern[0], saying[0])] + pat_match(pattern[1:], saying[1:])\n",
    "    else:\n",
    "        if pattern[0] != saying[0]: return []\n",
    "        else:\n",
    "            return pat_match(pattern[1:], saying[1:])"
   ]
  },
  {
   "cell_type": "markdown",
   "metadata": {},
   "source": [
    "于是，我们可以获得： "
   ]
  },
  {
   "cell_type": "code",
   "execution_count": 73,
   "metadata": {},
   "outputs": [
    {
     "data": {
      "text/plain": [
       "[]"
      ]
     },
     "execution_count": 73,
     "metadata": {},
     "output_type": "execute_result"
    }
   ],
   "source": [
    "pat_match(\"fa ?X greater than ?Y\".split(), \"seker 3 greaterd thand 2\".split())"
   ]
  },
  {
   "cell_type": "markdown",
   "metadata": {},
   "source": [
    "如果我们知道了每个变量对应的是什么，那么我们就可以很方便的使用我们定义好的模板进行替换："
   ]
  },
  {
   "cell_type": "markdown",
   "metadata": {},
   "source": [
    "为了方便接下来的替换工作，我们新建立两个函数，一个是把我们解析出来的结果变成一个 dictionary，一个是依据这个 dictionary 依照我们的定义的方式进行替换。"
   ]
  },
  {
   "cell_type": "code",
   "execution_count": 74,
   "metadata": {},
   "outputs": [],
   "source": [
    "def pat_to_dict(patterns):\n",
    "    return {k: v for k, v in patterns}"
   ]
  },
  {
   "cell_type": "code",
   "execution_count": 75,
   "metadata": {},
   "outputs": [],
   "source": [
    "def substitute(rule, parsed_rules):\n",
    "    if not rule: return []\n",
    "    \n",
    "    return [parsed_rules.get(rule[0], rule[0])] + substitute(rule[1:], parsed_rules)"
   ]
  },
  {
   "cell_type": "code",
   "execution_count": 76,
   "metadata": {},
   "outputs": [],
   "source": [
    "got_patterns = pat_match(\"I want3 ?X\".split(), \"I want iPhone\".split())"
   ]
  },
  {
   "cell_type": "code",
   "execution_count": 77,
   "metadata": {},
   "outputs": [
    {
     "data": {
      "text/plain": [
       "[]"
      ]
     },
     "execution_count": 77,
     "metadata": {},
     "output_type": "execute_result"
    }
   ],
   "source": [
    "got_patterns"
   ]
  },
  {
   "cell_type": "code",
   "execution_count": 78,
   "metadata": {},
   "outputs": [
    {
     "data": {
      "text/plain": [
       "['What', 'if', 'you', 'mean', 'if', 'you', 'got', 'a', '?X']"
      ]
     },
     "execution_count": 78,
     "metadata": {},
     "output_type": "execute_result"
    }
   ],
   "source": [
    "substitute(\"What if you mean if you got a ?X\".split(), pat_to_dict(got_patterns))"
   ]
  },
  {
   "cell_type": "markdown",
   "metadata": {},
   "source": [
    "为了将以上输出变成一句话，也很简单，我们使用 Python 的 join 方法即可： "
   ]
  },
  {
   "cell_type": "code",
   "execution_count": 79,
   "metadata": {},
   "outputs": [],
   "source": [
    "john_pat = pat_match('?P needs ?X'.split(), \"John needs resting\".split())"
   ]
  },
  {
   "cell_type": "code",
   "execution_count": 81,
   "metadata": {},
   "outputs": [
    {
     "data": {
      "text/plain": [
       "'What if you mean if you got a ?X'"
      ]
     },
     "execution_count": 81,
     "metadata": {},
     "output_type": "execute_result"
    }
   ],
   "source": [
    "' '.join(substitute(\"What if you mean if you got a ?X\".split(), pat_to_dict(got_patterns)))"
   ]
  },
  {
   "cell_type": "code",
   "execution_count": 82,
   "metadata": {},
   "outputs": [],
   "source": [
    "john_pat = pat_match('?P needs ?X'.split(), \"John needs vacation\".split())"
   ]
  },
  {
   "cell_type": "code",
   "execution_count": 85,
   "metadata": {},
   "outputs": [
    {
     "data": {
      "text/plain": [
       "['Why', 'does', 'John', 'need', 'vacation', '?']"
      ]
     },
     "execution_count": 85,
     "metadata": {},
     "output_type": "execute_result"
    }
   ],
   "source": [
    "substitute(\"Why does ?P need ?X ?\".split(), pat_to_dict(john_pat))"
   ]
  },
  {
   "cell_type": "code",
   "execution_count": 86,
   "metadata": {},
   "outputs": [
    {
     "data": {
      "text/plain": [
       "'Why does John need vacation ?'"
      ]
     },
     "execution_count": 86,
     "metadata": {},
     "output_type": "execute_result"
    }
   ],
   "source": [
    "' '.join(substitute(\"Why does ?P need ?X ?\".split(), pat_to_dict(john_pat)))"
   ]
  },
  {
   "cell_type": "markdown",
   "metadata": {},
   "source": [
    "那么如果我们现在定义一些patterns，就可以实现基于模板的对话生成了:"
   ]
  },
  {
   "cell_type": "code",
   "execution_count": 87,
   "metadata": {},
   "outputs": [],
   "source": [
    "defined_patterns = {\n",
    "    \"I need ?X\": [\"Image you will get ?X soon\", \"Why do you need ?X ?\"], \n",
    "    \"My ?X told me something\": [\"Talk about more about your ?X\", \"How do you think about your ?X ?\"]\n",
    "}"
   ]
  },
  {
   "cell_type": "code",
   "execution_count": 91,
   "metadata": {},
   "outputs": [],
   "source": [
    "import random\n",
    "def get_response(saying):\n",
    "    result = []\n",
    "    for k, v in defined_patterns.items():\n",
    "        t = pat_match(k.split(), saying.split())\n",
    "        if t:\n",
    "            result = t, v\n",
    "    dictionary = pat_to_dict(result[0])\n",
    "    answer = random.choice(result[1])\n",
    "    return ' '.join(substitute(answer.split(), dictionary))"
   ]
  },
  {
   "cell_type": "code",
   "execution_count": 92,
   "metadata": {},
   "outputs": [
    {
     "data": {
      "text/plain": [
       "'Why do you need iPhone ?'"
      ]
     },
     "execution_count": 92,
     "metadata": {},
     "output_type": "execute_result"
    }
   ],
   "source": [
    "get_response('I need iPhone')"
   ]
  },
  {
   "cell_type": "code",
   "execution_count": 93,
   "metadata": {},
   "outputs": [
    {
     "data": {
      "text/plain": [
       "'How do you think about your mother ?'"
      ]
     },
     "execution_count": 93,
     "metadata": {},
     "output_type": "execute_result"
    }
   ],
   "source": [
    "get_response('My mother told me something')"
   ]
  },
  {
   "cell_type": "markdown",
   "metadata": {},
   "source": [
    "### Segment Match"
   ]
  },
  {
   "cell_type": "markdown",
   "metadata": {},
   "source": [
    "我们上边的这种形式，能够进行一些初级的对话了，但是我们的模式逐字逐句匹配的， \"I need iPhone\" 和 \"I need ?X\" 可以匹配，但是\"I need an iPhone\" 和 \"I need ?X\" 就不匹配了，那怎么办？ \n",
    "\n",
    "为了解决这个问题，我们可以新建一个变量类型 \"?\\*X\", 这种类型多了一个星号(\\*),表示匹配多个"
   ]
  },
  {
   "cell_type": "markdown",
   "metadata": {},
   "source": [
    "首先，和前文类似，我们需要定义一个判断是不是匹配多个的variable"
   ]
  },
  {
   "cell_type": "code",
   "execution_count": 94,
   "metadata": {},
   "outputs": [],
   "source": [
    "def is_pattern_segment(pattern):\n",
    "    return pattern.startswith('?*') and all(a.isalpha() for a in pattern[2:])"
   ]
  },
  {
   "cell_type": "code",
   "execution_count": 95,
   "metadata": {},
   "outputs": [
    {
     "data": {
      "text/plain": [
       "True"
      ]
     },
     "execution_count": 95,
     "metadata": {},
     "output_type": "execute_result"
    }
   ],
   "source": [
    "is_pattern_segment('?*P')"
   ]
  },
  {
   "cell_type": "code",
   "execution_count": 96,
   "metadata": {},
   "outputs": [],
   "source": [
    "from collections import defaultdict"
   ]
  },
  {
   "cell_type": "markdown",
   "metadata": {},
   "source": [
    "然后我们把之前的 ```pat_match```程序改写成如下， 主要是增加了 ``` is_pattern_segment ```的部分. "
   ]
  },
  {
   "cell_type": "code",
   "execution_count": 175,
   "metadata": {},
   "outputs": [],
   "source": [
    "fail = [True, None]\n",
    "\n",
    "def pat_match_with_seg(pattern, saying):\n",
    "    if not pattern or not saying: return []\n",
    "    \n",
    "    pat = pattern[0]\n",
    "    \n",
    "    if is_variable(pat):\n",
    "        return [(pat, saying[0])] + pat_match_with_seg(pattern[1:], saying[1:])\n",
    "    elif is_pattern_segment(pat):\n",
    "        match, index = segment_match(pattern, saying)\n",
    "        t = pat_match_with_seg(pattern[1:], saying[index:])\n",
    "        return [match] + t if match[0][1] else t\n",
    "    elif pat == saying[0]:\n",
    "        return pat_match_with_seg(pattern[1:], saying[1:])\n",
    "    else:\n",
    "        return fail"
   ]
  },
  {
   "cell_type": "markdown",
   "metadata": {},
   "source": [
    "这段程序里比较重要的一个新函数是 ```segment_match```，这个函数输入是一个以 ```segment_pattern```开头的模式，尽最大可能进行，匹配到这个*变长*的变量对应的部分。"
   ]
  },
  {
   "cell_type": "code",
   "execution_count": 174,
   "metadata": {},
   "outputs": [],
   "source": [
    "def segment_match(pattern, saying):\n",
    "    seg_pat, rest = pattern[0], pattern[1:]\n",
    "    seg_pat = seg_pat.replace('?*', '?')\n",
    "\n",
    "    if not rest: return (seg_pat, saying), len(saying)    \n",
    "    \n",
    "    for i, token in enumerate(saying):\n",
    "        # Modify condition like pat_match_with_seg('?*X hello'.split(), 'hi hello you'.split()) raise an index error.\n",
    "        try:\n",
    "            if rest[0] == token and is_match(rest[1:], saying[(i + 1):]):\n",
    "                return (seg_pat, saying[:i]), i\n",
    "        except IndexError:\n",
    "            return (seg_pat, saying[:i]), i\n",
    "    return (seg_pat, saying), len(saying)\n",
    "\n",
    "def is_match(rest, saying):\n",
    "    if not rest and not saying:\n",
    "        return True\n",
    "    if not all(a.isalpha() for a in rest[0]):\n",
    "        return True\n",
    "    if rest[0] != saying[0]:\n",
    "        return False\n",
    "    return is_match(rest[1:], saying[1:])"
   ]
  },
  {
   "cell_type": "code",
   "execution_count": 99,
   "metadata": {},
   "outputs": [
    {
     "data": {
      "text/plain": [
       "(('?P', ['My', 'dog', 'and', 'my', 'cat']), 5)"
      ]
     },
     "execution_count": 99,
     "metadata": {},
     "output_type": "execute_result"
    }
   ],
   "source": [
    "segment_match('?*P is very good'.split(), \"My dog and my cat is very good\".split())"
   ]
  },
  {
   "cell_type": "markdown",
   "metadata": {},
   "source": [
    "现在，我们就可以做到以下的匹配模式了: "
   ]
  },
  {
   "cell_type": "code",
   "execution_count": 100,
   "metadata": {},
   "outputs": [
    {
     "data": {
      "text/plain": [
       "[('?P', ['My', 'dog']), ('?X', ['my', 'cat', 'is', 'very', 'cute'])]"
      ]
     },
     "execution_count": 100,
     "metadata": {},
     "output_type": "execute_result"
    }
   ],
   "source": [
    "pat_match_with_seg('?*P is very good and ?*X'.split(), \"My dog is very good and my cat is very cute\".split())"
   ]
  },
  {
   "cell_type": "markdown",
   "metadata": {},
   "source": [
    "如果我们继续定义一些模板，我们进行匹配，就能够进行更加复杂的问题了: "
   ]
  },
  {
   "cell_type": "code",
   "execution_count": 101,
   "metadata": {},
   "outputs": [],
   "source": [
    "response_pair = {\n",
    "    'I need ?X': [\n",
    "        \"Why do you neeed ?X\"\n",
    "    ],\n",
    "    \"I dont like my ?X\": [\"What bad things did ?X do for you?\"]\n",
    "}"
   ]
  },
  {
   "cell_type": "code",
   "execution_count": 102,
   "metadata": {},
   "outputs": [
    {
     "data": {
      "text/plain": [
       "[('?X', ['an', 'iPhone'])]"
      ]
     },
     "execution_count": 102,
     "metadata": {},
     "output_type": "execute_result"
    }
   ],
   "source": [
    "pat_match_with_seg('I need ?*X'.split(), \n",
    "                  \"I need an iPhone\".split())"
   ]
  },
  {
   "cell_type": "code",
   "execution_count": 105,
   "metadata": {},
   "outputs": [
    {
     "data": {
      "text/plain": [
       "['Why', 'do', 'you', 'neeed', 'an iPhone']"
      ]
     },
     "execution_count": 105,
     "metadata": {},
     "output_type": "execute_result"
    }
   ],
   "source": [
    "substitute(\"Why do you neeed ?X\".split(), pat_to_dict(pat_match_with_seg('I need ?*X'.split(), \n",
    "                  \"I need an iPhone\".split())))"
   ]
  },
  {
   "cell_type": "markdown",
   "metadata": {},
   "source": [
    " 我们会发现，pat_to_dict在这个场景下会有有一点小问题，没关系，修正一些: "
   ]
  },
  {
   "cell_type": "code",
   "execution_count": 106,
   "metadata": {},
   "outputs": [],
   "source": [
    "def pat_to_dict(patterns):\n",
    "    return {k: ' '.join(v) if isinstance(v, list) else v for k, v in patterns}"
   ]
  },
  {
   "cell_type": "code",
   "execution_count": 109,
   "metadata": {},
   "outputs": [
    {
     "data": {
      "text/plain": [
       "['Why', 'do', 'you', 'neeed', 'an iPhone']"
      ]
     },
     "execution_count": 109,
     "metadata": {},
     "output_type": "execute_result"
    }
   ],
   "source": [
    "substitute(\"Why do you neeed ?X\".split(), pat_to_dict(pat_match_with_seg('I need ?*X'.split(), \n",
    "                  \"I need an iPhone\".split())))"
   ]
  },
  {
   "cell_type": "markdown",
   "metadata": {},
   "source": [
    "如果我们定义这样的一个模板:"
   ]
  },
  {
   "cell_type": "code",
   "execution_count": 110,
   "metadata": {},
   "outputs": [
    {
     "data": {
      "text/plain": [
       "('?*X hello ?*Y', 'Hi, how do you do')"
      ]
     },
     "execution_count": 110,
     "metadata": {},
     "output_type": "execute_result"
    }
   ],
   "source": [
    "(\"?*X hello ?*Y\", \"Hi, how do you do\")"
   ]
  },
  {
   "cell_type": "code",
   "execution_count": 112,
   "metadata": {},
   "outputs": [
    {
     "data": {
      "text/plain": [
       "['Hi,', 'how', 'do', 'you', 'do?']"
      ]
     },
     "execution_count": 112,
     "metadata": {},
     "output_type": "execute_result"
    }
   ],
   "source": [
    "substitute(\"Hi, how do you do?\".split(), pat_to_dict(pat_match_with_seg('?*X hello ?*Y'.split(), \n",
    "                  \"I am mike, hello \".split())))"
   ]
  },
  {
   "cell_type": "markdown",
   "metadata": {},
   "source": [
    "### 现在是你的时间了"
   ]
  },
  {
   "cell_type": "code",
   "execution_count": 113,
   "metadata": {},
   "outputs": [],
   "source": [
    "#我们给大家一些例子: \n",
    "    \n",
    "rules = {\n",
    "    \"?*X hello ?*Y\": [\"Hi, how do you do?\"],\n",
    "    \"I was ?*X\": [\"Were you really ?X ?\", \"I already knew you were ?X .\"]\n",
    "}"
   ]
  },
  {
   "cell_type": "markdown",
   "metadata": {},
   "source": [
    "### 问题1"
   ]
  },
  {
   "cell_type": "markdown",
   "metadata": {},
   "source": [
    "编写一个程序, ```get_response(saying, response_rules)```输入是一个字符串 + 我们定义的 rules，例如上边我们所写的 pattern， 输出是一个回答。"
   ]
  },
  {
   "cell_type": "code",
   "execution_count": 114,
   "metadata": {},
   "outputs": [],
   "source": [
    "def get_response_star(saying, response_rules=rule_responses):\n",
    "    result = []\n",
    "    for question, answer in response_rules.items():\n",
    "        temp = pat_match_with_seg(question.split(), saying.split())\n",
    "        if len(temp) > 1 and None not in temp:\n",
    "            result = substitute(random.choice(answer).split(), pat_to_dict(temp))\n",
    "    if not result:\n",
    "        return random.choice(response_rules['?*x'])\n",
    "    return ' '.join(result)"
   ]
  },
  {
   "cell_type": "code",
   "execution_count": 115,
   "metadata": {},
   "outputs": [
    {
     "data": {
      "text/plain": [
       "[('?X', ['hi'])]"
      ]
     },
     "execution_count": 115,
     "metadata": {},
     "output_type": "execute_result"
    }
   ],
   "source": [
    "pat_match_with_seg('?*X hello'.split(), 'hi hello you'.split())"
   ]
  },
  {
   "cell_type": "code",
   "execution_count": 116,
   "metadata": {},
   "outputs": [
    {
     "data": {
      "text/plain": [
       "[('?X', ['hi', 'hello', 'you'])]"
      ]
     },
     "execution_count": 116,
     "metadata": {},
     "output_type": "execute_result"
    }
   ],
   "source": [
    "pat_match_with_seg('?*X hello ok'.split(), 'hi hello you'.split())"
   ]
  },
  {
   "cell_type": "code",
   "execution_count": 117,
   "metadata": {},
   "outputs": [
    {
     "data": {
      "text/plain": [
       "[('?X', ['hi', 'hello', 'you'])]"
      ]
     },
     "execution_count": 117,
     "metadata": {},
     "output_type": "execute_result"
    }
   ],
   "source": [
    "pat_match_with_seg('?*X'.split(), 'hi hello you'.split())"
   ]
  },
  {
   "cell_type": "code",
   "execution_count": 118,
   "metadata": {},
   "outputs": [
    {
     "data": {
      "text/plain": [
       "[True, None]"
      ]
     },
     "execution_count": 118,
     "metadata": {},
     "output_type": "execute_result"
    }
   ],
   "source": [
    "pat_match_with_seg('what ?*X fdakljf'.split(), 'hi you there'.split())"
   ]
  },
  {
   "cell_type": "code",
   "execution_count": 119,
   "metadata": {},
   "outputs": [
    {
     "data": {
      "text/plain": [
       "'很有趣'"
      ]
     },
     "execution_count": 119,
     "metadata": {},
     "output_type": "execute_result"
    }
   ],
   "source": [
    "get_response_star('cute  world')"
   ]
  },
  {
   "cell_type": "code",
   "execution_count": 120,
   "metadata": {},
   "outputs": [
    {
     "data": {
      "text/plain": [
       "[('?X', ['cute']), ('?y', ['world'])]"
      ]
     },
     "execution_count": 120,
     "metadata": {},
     "output_type": "execute_result"
    }
   ],
   "source": [
    "temp = pat_match_with_seg('?*X hello ?*y'.split(), 'cute hello world'.split())\n",
    "temp"
   ]
  },
  {
   "cell_type": "markdown",
   "metadata": {},
   "source": [
    "### 问题2"
   ]
  },
  {
   "cell_type": "markdown",
   "metadata": {},
   "source": [
    "改写以上程序，将程序变成能够支持中文输入的模式。\n",
    "*提示*: 你可以需用用到 jieba 分词"
   ]
  },
  {
   "cell_type": "code",
   "execution_count": 265,
   "metadata": {},
   "outputs": [],
   "source": [
    "import jieba\n",
    "def new_split(string):\n",
    "    \"\"\"Compatible with English mode.\"\"\"\n",
    "    result = []\n",
    "    temp = list(jieba.cut(string))\n",
    "    for i, each in enumerate(temp):\n",
    "        if each == '?':\n",
    "            if len(temp) == i + 1:\n",
    "                result.append(each)\n",
    "            elif temp[i+1] == '*':\n",
    "                result.append(temp[i] + temp[i + 1] + temp[i + 2])\n",
    "            elif temp[i+1].isalpha():\n",
    "                result.append(temp[i] + temp[i + 1])\n",
    "        elif len(each) == 1 and (each == '*' or each.isupper() or each.islower()):\n",
    "            # ignore '*' and alphabet following the '?'\n",
    "            continue\n",
    "        elif each != ' ':\n",
    "            result.append(each)\n",
    "    return result\n",
    "\n",
    "def get_response_star_new(saying, response_rules=rule_responses):\n",
    "    result = []\n",
    "    last = []\n",
    "    for question, answer in response_rules.items():\n",
    "        temp = pat_match_with_seg(new_split(question), new_split(saying))\n",
    "        # pop the ('?x\", '') tuple in the pattern match list temp.\n",
    "        for k, v in temp:\n",
    "            if not v:\n",
    "                temp.pop(temp.index((k, v)))\n",
    "        if len(temp) > 1 and None not in temp:\n",
    "            result = substitute(new_split(random.choice(answer)), pat_to_dict(temp))\n",
    "    if not result:\n",
    "        return random.choice(response_rules['?*x'])\n",
    "    for each in result:\n",
    "        last.append(''.join(each.split()))\n",
    "        # consider use language model with result to make answer sentence more intellgent.\n",
    "    return ''.join(last)"
   ]
  },
  {
   "cell_type": "code",
   "execution_count": 133,
   "metadata": {},
   "outputs": [
    {
     "data": {
      "text/plain": [
       "['?*x', '我', '很', '难过', '，', '因为', '?*y']"
      ]
     },
     "execution_count": 133,
     "metadata": {},
     "output_type": "execute_result"
    }
   ],
   "source": [
    "new_split('?*x我很难过，因为?*y')"
   ]
  },
  {
   "cell_type": "code",
   "execution_count": 135,
   "metadata": {},
   "outputs": [
    {
     "data": {
      "text/plain": [
       "['我', '很', '难过', '，', '?x', '因为', '?y']"
      ]
     },
     "execution_count": 135,
     "metadata": {},
     "output_type": "execute_result"
    }
   ],
   "source": [
    "new_split('我很难过，?x因为?y')"
   ]
  },
  {
   "cell_type": "code",
   "execution_count": 136,
   "metadata": {},
   "outputs": [
    {
     "data": {
      "text/plain": [
       "[('?x', []), ('?y', ['讨厌', '他'])]"
      ]
     },
     "execution_count": 136,
     "metadata": {},
     "output_type": "execute_result"
    }
   ],
   "source": [
    "pat_match_with_seg(new_split('?*x我?*y你?*Z'), new_split('我讨厌他'))"
   ]
  },
  {
   "cell_type": "code",
   "execution_count": 137,
   "metadata": {},
   "outputs": [
    {
     "data": {
      "text/plain": [
       "'你不想要他吗？'"
      ]
     },
     "execution_count": 137,
     "metadata": {},
     "output_type": "execute_result"
    }
   ],
   "source": [
    "get_response_star_new('我讨厌他')"
   ]
  },
  {
   "cell_type": "code",
   "execution_count": 138,
   "metadata": {},
   "outputs": [
    {
     "data": {
      "text/plain": [
       "'其实很有可能我们互相昨晚梦见他'"
      ]
     },
     "execution_count": 138,
     "metadata": {},
     "output_type": "execute_result"
    }
   ],
   "source": [
    "get_response_star_new('你知道么我昨晚梦见他')"
   ]
  },
  {
   "cell_type": "code",
   "execution_count": 139,
   "metadata": {},
   "outputs": [
    {
     "data": {
      "text/plain": [
       "(('?x', ['朋友']), 1)"
      ]
     },
     "execution_count": 139,
     "metadata": {},
     "output_type": "execute_result"
    }
   ],
   "source": [
    "segment_match(new_split('?*x我很难过，因为?*y'), new_split('朋友我很难过，因为喝酒了'))"
   ]
  },
  {
   "cell_type": "code",
   "execution_count": 140,
   "metadata": {},
   "outputs": [
    {
     "data": {
      "text/plain": [
       "(('?X', ['welcom']), 1)"
      ]
     },
     "execution_count": 140,
     "metadata": {},
     "output_type": "execute_result"
    }
   ],
   "source": [
    "segment_match('?*X hello world ?*Y'.split(), 'welcom hello world new boy'.split())"
   ]
  },
  {
   "cell_type": "code",
   "execution_count": 141,
   "metadata": {},
   "outputs": [
    {
     "data": {
      "text/plain": [
       "[('?X', ['welcom']), ('?Y', ['new', 'boy'])]"
      ]
     },
     "execution_count": 141,
     "metadata": {},
     "output_type": "execute_result"
    }
   ],
   "source": [
    "pat_match_with_seg('?*X hello world ?*Y'.split(), 'welcom hello world new boy'.split())"
   ]
  },
  {
   "cell_type": "code",
   "execution_count": 177,
   "metadata": {},
   "outputs": [
    {
     "data": {
      "text/plain": [
       "'他有什么不好呢？'"
      ]
     },
     "execution_count": 177,
     "metadata": {},
     "output_type": "execute_result"
    }
   ],
   "source": [
    "get_response_star_new('我讨厌他')"
   ]
  },
  {
   "cell_type": "code",
   "execution_count": 178,
   "metadata": {},
   "outputs": [
    {
     "data": {
      "text/plain": [
       "'你看起来不太确定'"
      ]
     },
     "execution_count": 178,
     "metadata": {},
     "output_type": "execute_result"
    }
   ],
   "source": [
    "get_response_star_new('他可能很厉害')"
   ]
  },
  {
   "cell_type": "code",
   "execution_count": 143,
   "metadata": {},
   "outputs": [
    {
     "data": {
      "text/plain": [
       "'你能想到一些其他情况吗?'"
      ]
     },
     "execution_count": 143,
     "metadata": {},
     "output_type": "execute_result"
    }
   ],
   "source": [
    "get_response_star_new('你一直这么干')"
   ]
  },
  {
   "cell_type": "code",
   "execution_count": 144,
   "metadata": {},
   "outputs": [
    {
     "data": {
      "text/plain": [
       "'你觉得小草和大树有什么相似性？'"
      ]
     },
     "execution_count": 144,
     "metadata": {},
     "output_type": "execute_result"
    }
   ],
   "source": [
    "get_response_star_new('小草就像大树')"
   ]
  },
  {
   "cell_type": "code",
   "execution_count": 145,
   "metadata": {},
   "outputs": [
    {
     "data": {
      "text/plain": [
       "'你家里除了很贤惠还有谁?'"
      ]
     },
     "execution_count": 145,
     "metadata": {},
     "output_type": "execute_result"
    }
   ],
   "source": [
    "get_response_star_new('他妈妈很贤惠')"
   ]
  },
  {
   "cell_type": "code",
   "execution_count": 146,
   "metadata": {},
   "outputs": [
    {
     "data": {
      "text/plain": [
       "'你有一点负能量'"
      ]
     },
     "execution_count": 146,
     "metadata": {},
     "output_type": "execute_result"
    }
   ],
   "source": [
    "get_response_star_new('我不要和你一样')"
   ]
  },
  {
   "cell_type": "code",
   "execution_count": 147,
   "metadata": {},
   "outputs": [
    {
     "data": {
      "text/plain": [
       "'你能想到一些其他情况吗?'"
      ]
     },
     "execution_count": 147,
     "metadata": {},
     "output_type": "execute_result"
    }
   ],
   "source": [
    "get_response_star_new('他总是这么聪明')"
   ]
  },
  {
   "cell_type": "code",
   "execution_count": 148,
   "metadata": {},
   "outputs": [
    {
     "data": {
      "text/plain": [
       "'我确定不是人人都是'"
      ]
     },
     "execution_count": 148,
     "metadata": {},
     "output_type": "execute_result"
    }
   ],
   "source": [
    "get_response_star_new('难道所有人都这样么？')"
   ]
  },
  {
   "cell_type": "code",
   "execution_count": 159,
   "metadata": {},
   "outputs": [
    {
     "data": {
      "text/plain": [
       "'帅会对你有什么影响呢?'"
      ]
     },
     "execution_count": 159,
     "metadata": {},
     "output_type": "execute_result"
    }
   ],
   "source": [
    "get_response_star_new('我和他一样帅')"
   ]
  },
  {
   "cell_type": "code",
   "execution_count": 158,
   "metadata": {},
   "outputs": [
    {
     "data": {
      "text/plain": [
       "'你家里除了对我很好还有谁?'"
      ]
     },
     "execution_count": 158,
     "metadata": {},
     "output_type": "execute_result"
    }
   ],
   "source": [
    "get_response_star_new('我妈妈对我很好')"
   ]
  },
  {
   "cell_type": "code",
   "execution_count": 162,
   "metadata": {},
   "outputs": [
    {
     "data": {
      "text/plain": [
       "'其实很有可能我们互相不能飞'"
      ]
     },
     "execution_count": 162,
     "metadata": {},
     "output_type": "execute_result"
    }
   ],
   "source": [
    "get_response_star_new('为什么我不能飞')"
   ]
  },
  {
   "cell_type": "code",
   "execution_count": 164,
   "metadata": {},
   "outputs": [
    {
     "data": {
      "text/plain": [
       "'其实很有可能我们互相不能这样'"
      ]
     },
     "execution_count": 164,
     "metadata": {},
     "output_type": "execute_result"
    }
   ],
   "source": [
    "get_response_star_new('他说我不能这样')"
   ]
  },
  {
   "cell_type": "code",
   "execution_count": 165,
   "metadata": {},
   "outputs": [
    {
     "data": {
      "text/plain": [
       "'其实很有可能我们互相是神吗'"
      ]
     },
     "execution_count": 165,
     "metadata": {},
     "output_type": "execute_result"
    }
   ],
   "source": [
    "get_response_star_new('你说我是神吗')"
   ]
  },
  {
   "cell_type": "markdown",
   "metadata": {},
   "source": [
    "* [x] 上面三个例子应该匹配：(?*x和?*y一样?*z)；(?*x妈妈?*y)；以及(?*x我不能?*y)，但是都被(?*x我?*y你?*z)匹配，需改进回答函数get_response_star_new()\n",
    "        先注释掉这条模板= =\n",
    "* [x] 更新函数`get_response_star_new_v2`，以上测试不会出现输入输出多对一的情况，见末尾。"
   ]
  },
  {
   "cell_type": "markdown",
   "metadata": {},
   "source": [
    "# **待调整以适应更多模型匹配**"
   ]
  },
  {
   "cell_type": "markdown",
   "metadata": {},
   "source": [
    "### 问题3"
   ]
  },
  {
   "cell_type": "markdown",
   "metadata": {},
   "source": [
    "多设计一些模式，让这个程序变得更好玩，多和大家交流，看看大家有什么好玩的模式"
   ]
  },
  {
   "cell_type": "markdown",
   "metadata": {},
   "source": [
    "### 问题4"
   ]
  },
  {
   "cell_type": "markdown",
   "metadata": {},
   "source": [
    "1. 这样的程序有什么优点？有什么缺点？你有什么可以改进的方法吗？     \n",
    "2. 什么是数据驱动？数据驱动在这个程序里如何体现？\n",
    "3. 数据驱动与 AI 的关系是什么？ "
   ]
  },
  {
   "cell_type": "markdown",
   "metadata": {},
   "source": [
    "1. 优点：pass。缺点挺明显的：需要严格匹配模板格式；中文分词会导致同时匹配多个定义模糊的模式，得到结果出现答非所问的情况。\n",
    "    * [x] 原模式匹配函数：`pat_match_with_seg('?*X hello'.split(), 'hi hello you'.split())`该函数中的匹配参数与语句参数如左所示，将会出错，需改进子函数 `segment_match`；\n",
    "    * [x] 空字符也算匹配，导致失配，已改进。\n",
    "    * [ ] 提高匹配精度，让某句话只能匹配词库中的一条，否则返回['?*X']的值，避免出现如上多个例子被一个模式匹配的情况。该策略是否得当待后期课程解惑。\n",
    "    * [ ] `new_split`函数对于带英文的分词需要改善，如‘?*xAI?*y’会被分成['?*xAI', 'xAI', '?*y']，尝试不用jieba实现，自己实现中文单个切割，英文单个切割\n",
    "2. 模型的正确率取决于模式定义，定义的准确性需要数据支撑。\n",
    "3. 基于训练模型的AI应用，数据是基础。"
   ]
  },
  {
   "cell_type": "markdown",
   "metadata": {},
   "source": [
    "一些参考 pattern"
   ]
  },
  {
   "cell_type": "code",
   "execution_count": 335,
   "metadata": {},
   "outputs": [],
   "source": [
    "rule_responses = {\n",
    "    '?*x hello ?*y': ['How do you do', 'Please state your problem'],\n",
    "    '?*x I want ?*y': ['what would it mean if you got ?y', 'Why do you want ?y', 'Suppose you got ?y soon'],\n",
    "    '?*x if ?*y': ['Do you really think its likely that ?y', 'Do you wish that ?y', 'What do you think about ?y', 'Really-- if ?y'],\n",
    "    '?*x no ?*y': ['why not?', 'You are being a negative', 'Are you saying \\'No\\' just to be negative?'],\n",
    "    '?*x I was ?*y': ['Were you really', 'Perhaps I already knew you were ?y', 'Why do you tell me you were ?y now?'],\n",
    "    '?*x I feel ?*y': ['Do you often feel ?y ?', 'What other feelings do you have?'],\n",
    "    '?*x你好?*y': ['你好呀', '请告诉我你的问题'],\n",
    "    '?*x我想?*y': ['你觉得?y有什么意义呢？', '为什么你想?y', '你可以想想你很快就可以?y了'],\n",
    "    '?*x我想要?*y': ['?x想问你，你觉得?y有什么意义呢?', '为什么你想?y', '?x觉得... 你可以想想你很快就可以有?y了', '你看?x像?y不', '我看你就像?y'],\n",
    "    '?*x喜欢?*y': ['喜欢?y的哪里？', '?y有什么好的呢？', '你想要?y吗？'],\n",
    "    '?*x讨厌?*y': ['?y怎么会那么讨厌呢?', '讨厌?y的哪里？', '?y有什么不好呢？', '你不想要?y吗？'],\n",
    "    '?*xAI?*y': ['你为什么要提AI的事情？', '你为什么觉得AI要解决你的问题？'],\n",
    "    '?*x机器人?*y': ['你为什么要提机器人的事情？', '你为什么觉得机器人要解决你的问题？'],\n",
    "    '?*x对不起?*y': ['不用道歉', '你为什么觉得你需要道歉呢?'],\n",
    "    '?*x我记得?*y': ['你经常会想起这个吗？', '除了?y你还会想起什么吗？', '你为什么和我提起?y'],\n",
    "    '?*x如果?*y': ['你真的觉得?y会发生吗？', '你希望?y吗?', '真的吗？如果?y的话', '关于?y你怎么想？'],\n",
    "    '?*x我?*z梦见?*y':['真的吗? --- ?y', '你在醒着的时候，以前想象过?y吗？', '你以前梦见过?y吗'],\n",
    "    '?*x妈妈?*y': ['你家里除了?y还有谁?', '嗯嗯，多说一点和你家里有关系的', '她对你影响很大吗？'],\n",
    "    '?*x爸爸?*y': ['你家里除了?y还有谁?', '嗯嗯，多说一点和你家里有关系的', '他对你影响很大吗？', '每当你想起你爸爸的时候， 你还会想起其他的吗?'],\n",
    "    '?*x我愿意?*y': ['我可以帮你?y吗？', '你可以解释一下，为什么想?y'],\n",
    "    '?*x我很难过，因为?*y': ['我听到你这么说， 也很难过', '?y不应该让你这么难过的'],\n",
    "    '?*x难过?*y': ['我听到你这么说， 也很难过',\n",
    "                 '不应该让你这么难过的，你觉得你拥有什么，就会不难过?',\n",
    "                 '你觉得事情变成什么样，你就不难过了?'],\n",
    "    '?*x就像?*y': ['你觉得?x和?y有什么相似性？', '?x和?y真的有关系吗？', '怎么说？'],\n",
    "    '?*x和?*y都?*z': ['你觉得?z有什么问题吗?', '?z会对你有什么影响呢?'],\n",
    "    '?*x和?*y一样?*z': ['你觉得?z有什么问题吗?', '?z会对你有什么影响呢?'],\n",
    "    '?*x我是?*y': ['真的吗？', '?x想告诉你，或许我早就知道你是?y', '你为什么现在才告诉我你是?y'],\n",
    "    '?*x我是?*y吗': ['如果你是?y会怎么样呢？', '你觉得你是?y吗', '如果你是?y，那意味着什么?'],\n",
    "    '?*x你是?*y吗':  ['你为什么会对我是不是?y感兴趣?', '那你希望我是?y吗', '你要是喜欢， 我就会是?y'],\n",
    "    '?*x你是?*y' : ['为什么你觉得我是?y'],\n",
    "    '?*x因为?*y' : ['?y是真正的原因吗？', '你觉得会有其他原因吗?'],\n",
    "    '?*x我不能?*y': ['你或许现在就能?y', '如果你能?y,会怎样呢？'],\n",
    "    '?*x我觉得?*y': ['你经常这样感觉吗？', '除了到这个，你还有什么其他的感觉吗？'],\n",
    "    '?*x我?*y你?*z': ['其实很有可能我们互相?y'],\n",
    "    '?*x你为什么不?*y': ['你自己为什么不?y', '你觉得我不会?y', '等我心情好了，我就?y'],\n",
    "    '?*x好的?*y': ['好的', '你是一个很正能量的人'],\n",
    "    '?*x嗯嗯?*y': ['好的', '你是一个很正能量的人'],\n",
    "    '?*x不嘛?*y': ['为什么不？', '你有一点负能量', '你说 不，是想表达不想的意思吗？'],\n",
    "    '?*x不要?*y': ['为什么不？', '你有一点负能量', '你说 不，是想表达不想的意思吗？'],\n",
    "    '?*x有些人?*y': ['具体是哪些人呢?'],\n",
    "    '?*x有的人?*y': ['具体是哪些人呢?'],\n",
    "    '?*x某些人?*y': ['具体是哪些人呢?'],\n",
    "    '?*x每个人?*y': ['我确定不是人人都是', '你能想到一点特殊情况吗？', '例如谁？', '你看到的其实只是一小部分人'],\n",
    "    '?*x所有人?*y': ['我确定不是人人都是', '你能想到一点特殊情况吗？', '例如谁？', '你看到的其实只是一小部分人'],\n",
    "    '?*x总是?*y': ['你能想到一些其他情况吗?', '例如什么时候?', '你具体是说哪一次？', '真的---总是吗？'],\n",
    "    '?*x一直?*y': ['你能想到一些其他情况吗?', '例如什么时候?', '你具体是说哪一次？', '真的---总是吗？'],\n",
    "    '?*x或许?*y': ['你看起来不太确定'],\n",
    "    '?*x可能?*y': ['你看起来不太确定'],\n",
    "    '?*x他们是?*y吗？': ['你觉得他们可能不是?y？'],\n",
    "    '?*x': ['很有趣', '请继续', '我不太确定我很理解你说的, 能稍微详细解释一下吗?']\n",
    "}\n"
   ]
  },
  {
   "cell_type": "code",
   "execution_count": 319,
   "metadata": {},
   "outputs": [
    {
     "data": {
      "text/plain": [
       "[['你', '觉得', '我', '是', '神', '吗'],\n",
       " ['你', '觉得', '我', '是', '神', '吗'],\n",
       " ['你', '觉得', '我', '是', '神', '吗'],\n",
       " ['你', '觉得', '我', '是', '神', '吗'],\n",
       " ['你', '觉得', '我', '是', '神', '吗'],\n",
       " ['你', '觉得', '我', '是', '神', '吗'],\n",
       " ['你', '觉得', '我', '是', '神', '吗'],\n",
       " ['你', '觉得', '我', '是', '神', '吗'],\n",
       " ['你', '觉得', '我', '是', '神', '吗'],\n",
       " ['你', '觉得', '我', '是', '神', '吗'],\n",
       " ['你', '觉得', '我', '是', '神', '吗'],\n",
       " ['你', '觉得', '我', '是', '神', '吗'],\n",
       " ['你', '觉得', '我', '是', '神', '吗'],\n",
       " ['你', '觉得', '我', '是', '神', '吗'],\n",
       " ['你', '觉得', '我', '是', '神', '吗'],\n",
       " ['你', '觉得', '我', '是', '神', '吗'],\n",
       " ['你', '觉得', '我', '是', '神', '吗'],\n",
       " ['你', '觉得', '我', '是', '神', '吗'],\n",
       " ['你', '觉得', '我', '是', '神', '吗'],\n",
       " ['你', '觉得', '我', '是', '神', '吗'],\n",
       " ['你', '觉得', '我', '是', '神', '吗'],\n",
       " ['你', '觉得', '我', '是', '神', '吗'],\n",
       " ['你', '觉得', '我', '是', '神', '吗'],\n",
       " ['你', '觉得', '我', '是', '神', '吗'],\n",
       " ['你', '觉得', '我', '是', '神', '吗'],\n",
       " ['你', '觉得', '我', '是', '神', '吗'],\n",
       " ['你', '觉得', '我', '是', '神', '吗'],\n",
       " ['你', '觉得', '我', '是', '神', '吗'],\n",
       " ['你', '觉得', '我', '是', '神', '吗'],\n",
       " ['你', '觉得', '我', '是', '神', '吗'],\n",
       " ['你', '觉得', '我', '是', '神', '吗'],\n",
       " ['你', '觉得', '我', '是', '神', '吗'],\n",
       " ['你', '觉得', '我', '是', '神', '吗'],\n",
       " ['你', '觉得', '我', '是', '神', '吗'],\n",
       " ['你', '觉得', '我', '是', '神', '吗'],\n",
       " ['你', '觉得', '我', '是', '神', '吗'],\n",
       " ['你', '觉得', '我', '是', '神', '吗'],\n",
       " ['你', '觉得', '我', '是', '神', '吗'],\n",
       " ['你', '觉得', '我', '是', '神', '吗'],\n",
       " ['你', '觉得', '我', '是', '神', '吗'],\n",
       " ['你', '觉得', '我', '是', '神', '吗'],\n",
       " ['你', '觉得', '我', '是', '神', '吗'],\n",
       " ['你', '觉得', '我', '是', '神', '吗'],\n",
       " ['你', '觉得', '我', '是', '神', '吗'],\n",
       " ['你', '觉得', '我', '是', '神', '吗'],\n",
       " ['你', '觉得', '我', '是', '神', '吗'],\n",
       " ['你', '觉得', '我', '是', '神', '吗'],\n",
       " ['你', '觉得', '我', '是', '神', '吗'],\n",
       " ['你', '觉得', '我', '是', '神', '吗']]"
      ]
     },
     "execution_count": 319,
     "metadata": {},
     "output_type": "execute_result"
    }
   ],
   "source": [
    "v = ['你觉得我是神吗'] * len(rule_responses.keys())\n",
    "v = list(map(new_split, v))\n",
    "v"
   ]
  },
  {
   "cell_type": "code",
   "execution_count": 321,
   "metadata": {},
   "outputs": [
    {
     "data": {
      "text/plain": [
       "[['?*x', 'hello', '?*y'],\n",
       " ['?*x', 'want', '?*y'],\n",
       " ['?*x', 'if', '?*y'],\n",
       " ['?*x', 'no', '?*y'],\n",
       " ['?*x', 'was', '?*y'],\n",
       " ['?*x', 'feel', '?*y'],\n",
       " ['?*x', '你好', '?*y'],\n",
       " ['?*x', '我', '想', '?*y'],\n",
       " ['?*x', '我', '想要', '?*y'],\n",
       " ['?*x', '喜欢', '?*y'],\n",
       " ['?*x', '讨厌', '?*y'],\n",
       " ['?*xAI', 'xAI', '?*y'],\n",
       " ['?*x', '机器人', '?*y'],\n",
       " ['?*x', '对不起', '?*y'],\n",
       " ['?*x', '我', '记得', '?*y'],\n",
       " ['?*x', '如果', '?*y'],\n",
       " ['?*x', '我', '?*z', '梦见', '?*y'],\n",
       " ['?*x', '妈妈', '?*y'],\n",
       " ['?*x', '爸爸', '?*y'],\n",
       " ['?*x', '我', '愿意', '?*y'],\n",
       " ['?*x', '我', '很', '难过', '，', '因为', '?*y'],\n",
       " ['?*x', '难过', '?*y'],\n",
       " ['?*x', '就', '像', '?*y'],\n",
       " ['?*x', '和', '?*y', '都', '?*z'],\n",
       " ['?*x', '和', '?*y', '一样', '?*z'],\n",
       " ['?*x', '我', '是', '?*y'],\n",
       " ['?*x', '我', '是', '?*y', '吗'],\n",
       " ['?*x', '你', '是', '?*y', '吗'],\n",
       " ['?*x', '你', '是', '?*y'],\n",
       " ['?*x', '因为', '?*y'],\n",
       " ['?*x', '我', '不能', '?*y'],\n",
       " ['?*x', '我', '觉得', '?*y'],\n",
       " ['?*x', '我', '?*y', '你', '?*z'],\n",
       " ['?*x', '你', '为什么', '不', '?*y'],\n",
       " ['?*x', '好', '的', '?*y'],\n",
       " ['?*x', '嗯', '嗯', '?*y'],\n",
       " ['?*x', '不嘛', '?*y'],\n",
       " ['?*x', '不要', '?*y'],\n",
       " ['?*x', '有些', '人', '?*y'],\n",
       " ['?*x', '有', '的', '人', '?*y'],\n",
       " ['?*x', '某些', '人', '?*y'],\n",
       " ['?*x', '每个', '人', '?*y'],\n",
       " ['?*x', '所有人', '?*y'],\n",
       " ['?*x', '总是', '?*y'],\n",
       " ['?*x', '一直', '?*y'],\n",
       " ['?*x', '或许', '?*y'],\n",
       " ['?*x', '可能', '?*y'],\n",
       " ['?*x', '他们', '是', '?*y', '吗', '？'],\n",
       " ['?*x']]"
      ]
     },
     "execution_count": 321,
     "metadata": {},
     "output_type": "execute_result"
    }
   ],
   "source": [
    "v1 = list(map(new_split, list(rule_responses.keys())))\n",
    "v1"
   ]
  },
  {
   "cell_type": "code",
   "execution_count": 323,
   "metadata": {},
   "outputs": [
    {
     "data": {
      "text/plain": [
       "[[('?x', ['你', '觉得', '我', '是', '神', '吗'])],\n",
       " [('?x', ['你', '觉得', '我', '是', '神', '吗'])],\n",
       " [('?x', ['你', '觉得', '我', '是', '神', '吗'])],\n",
       " [('?x', ['你', '觉得', '我', '是', '神', '吗'])],\n",
       " [('?x', ['你', '觉得', '我', '是', '神', '吗'])],\n",
       " [('?x', ['你', '觉得', '我', '是', '神', '吗'])],\n",
       " [('?x', ['你', '觉得', '我', '是', '神', '吗'])],\n",
       " [('?x', ['你', '觉得', '我', '是', '神', '吗'])],\n",
       " [('?x', ['你', '觉得', '我', '是', '神', '吗'])],\n",
       " [('?x', ['你', '觉得', '我', '是', '神', '吗'])],\n",
       " [('?x', ['你', '觉得', '我', '是', '神', '吗'])],\n",
       " [('?xAI', ['你', '觉得', '我', '是', '神', '吗'])],\n",
       " [('?x', ['你', '觉得', '我', '是', '神', '吗'])],\n",
       " [('?x', ['你', '觉得', '我', '是', '神', '吗'])],\n",
       " [('?x', ['你', '觉得', '我', '是', '神', '吗'])],\n",
       " [('?x', ['你', '觉得', '我', '是', '神', '吗'])],\n",
       " [('?x', ['你', '觉得']), ('?z', ['是', '神', '吗'])],\n",
       " [('?x', ['你', '觉得', '我', '是', '神', '吗'])],\n",
       " [('?x', ['你', '觉得', '我', '是', '神', '吗'])],\n",
       " [('?x', ['你', '觉得', '我', '是', '神', '吗'])],\n",
       " [('?x', ['你', '觉得', '我', '是', '神', '吗'])],\n",
       " [('?x', ['你', '觉得', '我', '是', '神', '吗'])],\n",
       " [('?x', ['你', '觉得', '我', '是', '神', '吗'])],\n",
       " [('?x', ['你', '觉得', '我', '是', '神', '吗'])],\n",
       " [('?x', ['你', '觉得', '我', '是', '神', '吗'])],\n",
       " [('?x', ['你', '觉得']), ('?y', ['神', '吗'])],\n",
       " [('?x', ['你', '觉得']), ('?y', ['神'])],\n",
       " [('?x', ['你', '觉得', '我', '是', '神', '吗'])],\n",
       " [('?x', ['你', '觉得', '我', '是', '神', '吗'])],\n",
       " [('?x', ['你', '觉得', '我', '是', '神', '吗'])],\n",
       " [('?x', ['你', '觉得', '我', '是', '神', '吗'])],\n",
       " [('?x', ['你', '觉得', '我', '是', '神', '吗'])],\n",
       " [('?x', ['你', '觉得']), ('?y', ['是', '神', '吗'])],\n",
       " [('?x', ['你', '觉得', '我', '是', '神', '吗'])],\n",
       " [('?x', ['你', '觉得', '我', '是', '神', '吗'])],\n",
       " [('?x', ['你', '觉得', '我', '是', '神', '吗'])],\n",
       " [('?x', ['你', '觉得', '我', '是', '神', '吗'])],\n",
       " [('?x', ['你', '觉得', '我', '是', '神', '吗'])],\n",
       " [('?x', ['你', '觉得', '我', '是', '神', '吗'])],\n",
       " [('?x', ['你', '觉得', '我', '是', '神', '吗'])],\n",
       " [('?x', ['你', '觉得', '我', '是', '神', '吗'])],\n",
       " [('?x', ['你', '觉得', '我', '是', '神', '吗'])],\n",
       " [('?x', ['你', '觉得', '我', '是', '神', '吗'])],\n",
       " [('?x', ['你', '觉得', '我', '是', '神', '吗'])],\n",
       " [('?x', ['你', '觉得', '我', '是', '神', '吗'])],\n",
       " [('?x', ['你', '觉得', '我', '是', '神', '吗'])],\n",
       " [('?x', ['你', '觉得', '我', '是', '神', '吗'])],\n",
       " [('?x', ['你', '觉得', '我', '是', '神', '吗'])],\n",
       " [('?x', ['你', '觉得', '我', '是', '神', '吗'])]]"
      ]
     },
     "execution_count": 323,
     "metadata": {},
     "output_type": "execute_result"
    }
   ],
   "source": [
    "temp_list = list(map(pat_match_with_seg, v1, v))\n",
    "temp_list"
   ]
  },
  {
   "cell_type": "code",
   "execution_count": 314,
   "metadata": {},
   "outputs": [
    {
     "data": {
      "text/plain": [
       "[{'?*x', '?*y', 'hello'},\n",
       " {'?*x', '?*y', 'want'},\n",
       " {'?*x', '?*y', 'if'},\n",
       " {'?*x', '?*y', 'no'},\n",
       " {'?*x', '?*y', 'was'},\n",
       " {'?*x', '?*y', 'feel'},\n",
       " {'?*x', '?*y', '你好'},\n",
       " {'?*x', '?*y', '想', '我'},\n",
       " {'?*x', '?*y', '想要', '我'},\n",
       " {'?*x', '?*y', '喜欢'},\n",
       " {'?*x', '?*y', '讨厌'},\n",
       " {'?*xAI', '?*y', 'xAI'},\n",
       " {'?*x', '?*y', '机器人'},\n",
       " {'?*x', '?*y', '对不起'},\n",
       " {'?*x', '?*y', '我', '记得'},\n",
       " {'?*x', '?*y', '如果'},\n",
       " {'?*x', '?*y', '?*z', '我', '梦见'},\n",
       " {'?*x', '?*y', '妈妈'},\n",
       " {'?*x', '?*y', '爸爸'},\n",
       " {'?*x', '?*y', '愿意', '我'},\n",
       " {'?*x', '?*y', '因为', '很', '我', '难过', '，'},\n",
       " {'?*x', '?*y', '难过'},\n",
       " {'?*x', '?*y', '像', '就'},\n",
       " {'?*x', '?*y', '?*z', '和', '都'},\n",
       " {'?*x', '?*y', '?*z', '一样', '和'},\n",
       " {'?*x', '?*y', '我', '是'},\n",
       " {'?*x', '?*y', '吗', '我', '是'},\n",
       " {'?*x', '?*y', '你', '吗', '是'},\n",
       " {'?*x', '?*y', '你', '是'},\n",
       " {'?*x', '?*y', '因为'},\n",
       " {'?*x', '?*y', '不能', '我'},\n",
       " {'?*x', '?*y', '我', '觉得'},\n",
       " {'?*x', '?*y', '?*z', '你', '我'},\n",
       " {'?*x', '?*y', '不', '为什么', '你'},\n",
       " {'?*x', '?*y', '好', '的'},\n",
       " {'?*x', '?*y', '嗯'},\n",
       " {'?*x', '?*y', '不嘛'},\n",
       " {'?*x', '?*y', '不要'},\n",
       " {'?*x', '?*y', '人', '有些'},\n",
       " {'?*x', '?*y', '人', '有', '的'},\n",
       " {'?*x', '?*y', '人', '某些'},\n",
       " {'?*x', '?*y', '人', '每个'},\n",
       " {'?*x', '?*y', '所有人'},\n",
       " {'?*x', '?*y', '总是'},\n",
       " {'?*x', '?*y', '一直'},\n",
       " {'?*x', '?*y', '或许'},\n",
       " {'?*x', '?*y', '可能'},\n",
       " {'?*x', '?*y', '他们', '吗', '是', '？'},\n",
       " {'?*x'}]"
      ]
     },
     "execution_count": 314,
     "metadata": {},
     "output_type": "execute_result"
    }
   ],
   "source": [
    "d = list(map(set, list(map(new_split, list(rule_responses.keys())))))\n",
    "d"
   ]
  },
  {
   "cell_type": "code",
   "execution_count": 315,
   "metadata": {},
   "outputs": [
    {
     "data": {
      "text/plain": [
       "[set(),\n",
       " set(),\n",
       " set(),\n",
       " set(),\n",
       " set(),\n",
       " set(),\n",
       " set(),\n",
       " {'我'},\n",
       " {'我'},\n",
       " set(),\n",
       " set(),\n",
       " set(),\n",
       " set(),\n",
       " set(),\n",
       " {'我'},\n",
       " set(),\n",
       " {'我'},\n",
       " set(),\n",
       " set(),\n",
       " {'我'},\n",
       " {'我'},\n",
       " set(),\n",
       " set(),\n",
       " set(),\n",
       " set(),\n",
       " {'我', '是'},\n",
       " {'吗', '我', '是'},\n",
       " {'你', '吗', '是'},\n",
       " {'你', '是'},\n",
       " set(),\n",
       " {'我'},\n",
       " {'我', '觉得'},\n",
       " {'你', '我'},\n",
       " {'你'},\n",
       " set(),\n",
       " set(),\n",
       " set(),\n",
       " set(),\n",
       " set(),\n",
       " set(),\n",
       " set(),\n",
       " set(),\n",
       " set(),\n",
       " set(),\n",
       " set(),\n",
       " set(),\n",
       " set(),\n",
       " {'吗', '是'},\n",
       " set()]"
      ]
     },
     "execution_count": 315,
     "metadata": {},
     "output_type": "execute_result"
    }
   ],
   "source": [
    "e = list(map(lambda x, y: x & y, v1, d))\n",
    "e"
   ]
  },
  {
   "cell_type": "code",
   "execution_count": 316,
   "metadata": {},
   "outputs": [
    {
     "data": {
      "text/plain": [
       "[[],\n",
       " [],\n",
       " [],\n",
       " [],\n",
       " [],\n",
       " [],\n",
       " [],\n",
       " ['我'],\n",
       " ['我'],\n",
       " [],\n",
       " [],\n",
       " [],\n",
       " [],\n",
       " [],\n",
       " ['我'],\n",
       " [],\n",
       " ['我'],\n",
       " [],\n",
       " [],\n",
       " ['我'],\n",
       " ['我'],\n",
       " [],\n",
       " [],\n",
       " [],\n",
       " [],\n",
       " ['是', '我'],\n",
       " ['是', '我', '吗'],\n",
       " ['是', '吗', '你'],\n",
       " ['是', '你'],\n",
       " [],\n",
       " ['我'],\n",
       " ['我', '觉得'],\n",
       " ['我', '你'],\n",
       " ['你'],\n",
       " [],\n",
       " [],\n",
       " [],\n",
       " [],\n",
       " [],\n",
       " [],\n",
       " [],\n",
       " [],\n",
       " [],\n",
       " [],\n",
       " [],\n",
       " [],\n",
       " [],\n",
       " ['是', '吗'],\n",
       " []]"
      ]
     },
     "execution_count": 316,
     "metadata": {},
     "output_type": "execute_result"
    }
   ],
   "source": [
    "e1 = list(map(list, e))\n",
    "e1"
   ]
  },
  {
   "cell_type": "code",
   "execution_count": 317,
   "metadata": {},
   "outputs": [],
   "source": [
    "def get_max(x):\n",
    "    return len(x[0]) if x else -1"
   ]
  },
  {
   "cell_type": "code",
   "execution_count": 311,
   "metadata": {},
   "outputs": [
    {
     "data": {
      "text/plain": [
       "{'是'}"
      ]
     },
     "execution_count": 311,
     "metadata": {},
     "output_type": "execute_result"
    }
   ],
   "source": [
    "e3 = max(e1, key=get_max)\n",
    "e3\n",
    "set(e3)"
   ]
  },
  {
   "cell_type": "code",
   "execution_count": 299,
   "metadata": {},
   "outputs": [
    {
     "data": {
      "text/plain": [
       "10"
      ]
     },
     "execution_count": 299,
     "metadata": {},
     "output_type": "execute_result"
    }
   ],
   "source": [
    "last = e.index(set(e3))\n",
    "last"
   ]
  },
  {
   "cell_type": "code",
   "execution_count": 259,
   "metadata": {},
   "outputs": [],
   "source": [
    "answers = []\n",
    "for k, v in rule_responses.items():\n",
    "    if set(new_split(k)) == last:\n",
    "        answers = v"
   ]
  },
  {
   "cell_type": "code",
   "execution_count": 260,
   "metadata": {},
   "outputs": [
    {
     "data": {
      "text/plain": [
       "['你或许现在就能?y', '如果你能?y,会怎样呢？']"
      ]
     },
     "execution_count": 260,
     "metadata": {},
     "output_type": "execute_result"
    }
   ],
   "source": [
    "answers"
   ]
  },
  {
   "cell_type": "code",
   "execution_count": null,
   "metadata": {},
   "outputs": [],
   "source": [
    "n = list()"
   ]
  },
  {
   "cell_type": "code",
   "execution_count": 217,
   "metadata": {},
   "outputs": [
    {
     "data": {
      "text/plain": [
       "[[('?x', ['天', '哪', '我', '不能', '这样'])],\n",
       " [('?x', ['天', '哪', '我', '不能', '这样'])],\n",
       " [('?x', ['天', '哪', '我', '不能', '这样'])],\n",
       " [('?x', ['天', '哪', '我', '不能', '这样'])],\n",
       " [('?x', ['天', '哪', '我', '不能', '这样'])],\n",
       " [('?x', ['天', '哪', '我', '不能', '这样'])],\n",
       " [('?x', ['天', '哪', '我', '不能', '这样'])],\n",
       " [('?x', ['天', '哪', '我', '不能', '这样'])],\n",
       " [('?x', ['天', '哪', '我', '不能', '这样'])],\n",
       " [('?x', ['天', '哪', '我', '不能', '这样'])],\n",
       " [('?x', ['天', '哪', '我', '不能', '这样'])],\n",
       " [('?xAI', ['天', '哪', '我', '不能', '这样'])],\n",
       " [('?x', ['天', '哪', '我', '不能', '这样'])],\n",
       " [('?x', ['天', '哪', '我', '不能', '这样'])],\n",
       " [('?x', ['天', '哪', '我', '不能', '这样'])],\n",
       " [('?x', ['天', '哪', '我', '不能', '这样'])],\n",
       " [('?x', ['天', '哪']), ('?z', ['不能', '这样'])],\n",
       " [('?x', ['天', '哪', '我', '不能', '这样'])],\n",
       " [('?x', ['天', '哪', '我', '不能', '这样'])],\n",
       " [('?x', ['天', '哪', '我', '不能', '这样'])],\n",
       " [('?x', ['天', '哪', '我', '不能', '这样'])],\n",
       " [('?x', ['天', '哪', '我', '不能', '这样'])],\n",
       " [('?x', ['天', '哪', '我', '不能', '这样'])],\n",
       " [('?x', ['天', '哪', '我', '不能', '这样'])],\n",
       " [('?x', ['天', '哪', '我', '不能', '这样'])],\n",
       " [('?x', ['天', '哪', '我', '不能', '这样'])],\n",
       " [('?x', ['天', '哪', '我', '不能', '这样'])],\n",
       " [('?x', ['天', '哪', '我', '不能', '这样'])],\n",
       " [('?x', ['天', '哪', '我', '不能', '这样'])],\n",
       " [('?x', ['天', '哪', '我', '不能', '这样'])],\n",
       " [('?x', ['天', '哪']), ('?y', ['这样'])],\n",
       " [('?x', ['天', '哪', '我', '不能', '这样'])],\n",
       " [('?x', ['天', '哪']), ('?y', ['不能', '这样'])],\n",
       " [('?x', ['天', '哪', '我', '不能', '这样'])],\n",
       " [('?x', ['天', '哪', '我', '不能', '这样'])],\n",
       " [('?x', ['天', '哪', '我', '不能', '这样'])],\n",
       " [('?x', ['天', '哪', '我', '不能', '这样'])],\n",
       " [('?x', ['天', '哪', '我', '不能', '这样'])],\n",
       " [('?x', ['天', '哪', '我', '不能', '这样'])],\n",
       " [('?x', ['天', '哪', '我', '不能', '这样'])],\n",
       " [('?x', ['天', '哪', '我', '不能', '这样'])],\n",
       " [('?x', ['天', '哪', '我', '不能', '这样'])],\n",
       " [('?x', ['天', '哪', '我', '不能', '这样'])],\n",
       " [('?x', ['天', '哪', '我', '不能', '这样'])],\n",
       " [('?x', ['天', '哪', '我', '不能', '这样'])],\n",
       " [('?x', ['天', '哪', '我', '不能', '这样'])],\n",
       " [('?x', ['天', '哪', '我', '不能', '这样'])],\n",
       " [('?x', ['天', '哪', '我', '不能', '这样'])],\n",
       " [('?x', ['天', '哪', '我', '不能', '这样'])]]"
      ]
     },
     "execution_count": 217,
     "metadata": {},
     "output_type": "execute_result"
    }
   ],
   "source": [
    "list(map(pat_match_with_seg, d, v))"
   ]
  },
  {
   "cell_type": "code",
   "execution_count": 218,
   "metadata": {},
   "outputs": [
    {
     "data": {
      "text/plain": [
       "[[('?x', ['天', '哪']), ('?z', ['不能', '这样'])],\n",
       " [('?x', ['天', '哪']), ('?y', ['这样'])],\n",
       " [('?x', ['天', '哪']), ('?y', ['不能', '这样'])]]"
      ]
     },
     "execution_count": 218,
     "metadata": {},
     "output_type": "execute_result"
    }
   ],
   "source": [
    "a = list(filter(lambda x: len(x) > 1, list(map(pat_match_with_seg, d, v))))\n",
    "a"
   ]
  },
  {
   "cell_type": "code",
   "execution_count": 215,
   "metadata": {},
   "outputs": [
    {
     "data": {
      "text/plain": [
       "[{'?x': '天 哪', '?z': '不能 这样'},\n",
       " {'?x': '天 哪', '?y': '这样'},\n",
       " {'?x': '天 哪', '?y': '不能 这样'}]"
      ]
     },
     "execution_count": 215,
     "metadata": {},
     "output_type": "execute_result"
    }
   ],
   "source": [
    "[pat_to_dict(a) for a in a]"
   ]
  },
  {
   "cell_type": "code",
   "execution_count": 179,
   "metadata": {},
   "outputs": [
    {
     "data": {
      "text/plain": [
       "[('?x', ['我']), ('?y', ['厉害'])]"
      ]
     },
     "execution_count": 179,
     "metadata": {},
     "output_type": "execute_result"
    }
   ],
   "source": [
    "pat_match_with_seg(new_split('?*x可能?*y'), new_split('我可能厉害'))"
   ]
  },
  {
   "cell_type": "code",
   "execution_count": 205,
   "metadata": {},
   "outputs": [
    {
     "data": {
      "text/plain": [
       "['?*X', 'AI', '?*y']"
      ]
     },
     "execution_count": 205,
     "metadata": {},
     "output_type": "execute_result"
    }
   ],
   "source": [
    "new_split('?*X AI ?*y')"
   ]
  },
  {
   "cell_type": "code",
   "execution_count": 207,
   "metadata": {},
   "outputs": [
    {
     "data": {
      "text/plain": [
       "['?', '*', 'xAI', '?', '*', 'y']"
      ]
     },
     "execution_count": 207,
     "metadata": {},
     "output_type": "execute_result"
    }
   ],
   "source": [
    "list(jieba.cut('?*xAI?*y'))"
   ]
  },
  {
   "cell_type": "code",
   "execution_count": 328,
   "metadata": {},
   "outputs": [],
   "source": [
    "def get_response_star_new_v2(saying, response_rules=rule_responses):\n",
    "    patterns = response_rules.keys()\n",
    "    result = []\n",
    "    last = []\n",
    "    saying_list = [saying] * len(patterns)\n",
    "    set_saying_list = list(map(set, list(map(new_split, saying_list))))\n",
    "    set_pattern_list = list(map(set, list(map(new_split, list(patterns)))))\n",
    "    union_best_pattern = list(map(lambda x, y: x & y, set_saying_list, set_pattern_list))\n",
    "\n",
    "    best_pattern = set_pattern_list[union_best_pattern.index(max(union_best_pattern))]\n",
    "\n",
    "    for k, v in response_rules.items():\n",
    "        if set(new_split(k)) == best_pattern:\n",
    "            temp = pat_match_with_seg(new_split(k), new_split(saying))\n",
    "            result = substitute(new_split(random.choice(v)), pat_to_dict(temp))\n",
    "\n",
    "    if not result:\n",
    "        return random.choice(response_rules['?*x'])\n",
    "    for each in result:\n",
    "        last.append(''.join(each.split()))\n",
    "    return ''.join(last)"
   ]
  },
  {
   "cell_type": "code",
   "execution_count": 333,
   "metadata": {},
   "outputs": [],
   "source": [
    "def get_response_star_new_v3(saying, response_rules=rule_responses):\n",
    "    \"\"\"Make saying to match very single one in response_rules\"\"\"\n",
    "    patterns = response_rules.keys()\n",
    "    result = []\n",
    "    last = []\n",
    "    saying_list = [saying] * len(patterns)\n",
    "    set_saying_list = list(map(set, list(map(new_split, saying_list))))\n",
    "    set_pattern_list = list(map(set, list(map(new_split, list(patterns)))))\n",
    "    union_best_pattern = list(map(lambda x, y: x & y, set_saying_list, set_pattern_list))\n",
    "    # 此处union_best_pattern中的中文两个词若被jieba分词成一个词，如“讨厌”, 则会判定成一个词，会出现和其他\n",
    "    # 单个匹配的高频词如“我”等雷同，导致匹配被该种模式截获\n",
    "    temp_union_1 = list(map(list, union_best_pattern))\n",
    "\n",
    "    def get_max(x):\n",
    "        return len(x[0]) if x else -1\n",
    "    temp_union_2 = set(max(temp_union_1, key=get_max))\n",
    "\n",
    "    best_pattern = set_pattern_list[union_best_pattern.index(temp_union_2)]\n",
    "\n",
    "    for k, v in response_rules.items():\n",
    "        if set(new_split(k)) == best_pattern:\n",
    "            temp = pat_match_with_seg(new_split(k), new_split(saying))\n",
    "            result = substitute(new_split(random.choice(v)), pat_to_dict(temp))\n",
    "            \n",
    "    if not result:\n",
    "        return random.choice(response_rules['?*x'])\n",
    "    for each in result:\n",
    "        last.append(''.join(each.split()))\n",
    "    return ''.join(last)"
   ]
  },
  {
   "cell_type": "code",
   "execution_count": 301,
   "metadata": {},
   "outputs": [
    {
     "data": {
      "text/plain": [
       "'如果你能这样,会怎样呢？'"
      ]
     },
     "execution_count": 301,
     "metadata": {},
     "output_type": "execute_result"
    }
   ],
   "source": [
    "get_response_star_new_v2('天哪我不能这样')"
   ]
  },
  {
   "cell_type": "code",
   "execution_count": 336,
   "metadata": {},
   "outputs": [
    {
     "data": {
      "text/plain": [
       "'如果你能飞,会怎样呢？'"
      ]
     },
     "execution_count": 336,
     "metadata": {},
     "output_type": "execute_result"
    }
   ],
   "source": [
    "get_response_star_new_v2('难道我不能飞')"
   ]
  },
  {
   "cell_type": "code",
   "execution_count": 338,
   "metadata": {},
   "outputs": [
    {
     "data": {
      "text/plain": [
       "'请告诉我你的问题'"
      ]
     },
     "execution_count": 338,
     "metadata": {},
     "output_type": "execute_result"
    }
   ],
   "source": [
    "get_response_star_new_v2('大哥你好啊')"
   ]
  },
  {
   "cell_type": "code",
   "execution_count": 340,
   "metadata": {},
   "outputs": [
    {
     "data": {
      "text/plain": [
       "'你觉得过去有什么意义呢？'"
      ]
     },
     "execution_count": 340,
     "metadata": {},
     "output_type": "execute_result"
    }
   ],
   "source": [
    "get_response_star_new_v2('对不起我想过去')"
   ]
  },
  {
   "cell_type": "code",
   "execution_count": 342,
   "metadata": {},
   "outputs": [
    {
     "data": {
      "text/plain": [
       "'你想要这里吗？'"
      ]
     },
     "execution_count": 342,
     "metadata": {},
     "output_type": "execute_result"
    }
   ],
   "source": [
    "get_response_star_new_v3('我真的喜欢这里')"
   ]
  },
  {
   "cell_type": "code",
   "execution_count": 343,
   "metadata": {},
   "outputs": [
    {
     "data": {
      "text/plain": [
       "'你以前梦见过他们了吗'"
      ]
     },
     "execution_count": 343,
     "metadata": {},
     "output_type": "execute_result"
    }
   ],
   "source": [
    "get_response_star_new_v2('昨晚我在梦里梦见他们了')"
   ]
  },
  {
   "cell_type": "code",
   "execution_count": 344,
   "metadata": {},
   "outputs": [
    {
     "data": {
      "text/plain": [
       "'你可以解释一下，为什么想留下来么'"
      ]
     },
     "execution_count": 344,
     "metadata": {},
     "output_type": "execute_result"
    }
   ],
   "source": [
    "get_response_star_new_v2('你猜我愿意留下来么')"
   ]
  },
  {
   "cell_type": "code",
   "execution_count": 345,
   "metadata": {},
   "outputs": [
    {
     "data": {
      "text/plain": [
       "'我听到你这么说，也很难过'"
      ]
     },
     "execution_count": 345,
     "metadata": {},
     "output_type": "execute_result"
    }
   ],
   "source": [
    "get_response_star_new_v2('说真的我很难过，因为下雨了')"
   ]
  },
  {
   "cell_type": "code",
   "execution_count": 346,
   "metadata": {},
   "outputs": [
    {
     "data": {
      "text/plain": [
       "'你看起来不太确定'"
      ]
     },
     "execution_count": 346,
     "metadata": {},
     "output_type": "execute_result"
    }
   ],
   "source": [
    "get_response_star_new_v2('这样或许更好？')"
   ]
  },
  {
   "cell_type": "code",
   "execution_count": 351,
   "metadata": {},
   "outputs": [
    {
     "data": {
      "text/plain": [
       "'你觉得他们可能不是外星人？'"
      ]
     },
     "execution_count": 351,
     "metadata": {},
     "output_type": "execute_result"
    }
   ],
   "source": [
    "get_response_star_new_v2('那么他们是外星人吗')"
   ]
  },
  {
   "cell_type": "code",
   "execution_count": 330,
   "metadata": {},
   "outputs": [
    {
     "data": {
      "text/plain": [
       "'如果你是神，那一位着什么?'"
      ]
     },
     "execution_count": 330,
     "metadata": {},
     "output_type": "execute_result"
    }
   ],
   "source": [
    "get_response_star_new_v2('你觉得我是神吗')"
   ]
  },
  {
   "cell_type": "code",
   "execution_count": 334,
   "metadata": {},
   "outputs": [
    {
     "data": {
      "text/plain": [
       "'讨厌他的哪里？'"
      ]
     },
     "execution_count": 334,
     "metadata": {},
     "output_type": "execute_result"
    }
   ],
   "source": [
    "get_response_star_new_v3('我讨厌他')"
   ]
  },
  {
   "cell_type": "markdown",
   "metadata": {},
   "source": [
    "## 依然存在不完美匹配，优化代码有种按下葫芦浮起瓢的感觉 =.="
   ]
  },
  {
   "cell_type": "code",
   "execution_count": null,
   "metadata": {},
   "outputs": [],
   "source": []
  }
 ],
 "metadata": {
  "kernelspec": {
   "display_name": "Python 3",
   "language": "python",
   "name": "python3"
  },
  "language_info": {
   "codemirror_mode": {
    "name": "ipython",
    "version": 3
   },
   "file_extension": ".py",
   "mimetype": "text/x-python",
   "name": "python",
   "nbconvert_exporter": "python",
   "pygments_lexer": "ipython3",
   "version": "3.7.3"
  },
  "latex_envs": {
   "LaTeX_envs_menu_present": true,
   "autoclose": false,
   "autocomplete": true,
   "bibliofile": "biblio.bib",
   "cite_by": "apalike",
   "current_citInitial": 1,
   "eqLabelWithNumbers": true,
   "eqNumInitial": 1,
   "hotkeys": {
    "equation": "Ctrl-E",
    "itemize": "Ctrl-I"
   },
   "labels_anchors": false,
   "latex_user_defs": false,
   "report_style_numbering": false,
   "user_envs_cfg": false
  }
 },
 "nbformat": 4,
 "nbformat_minor": 2
}
