{
 "cells": [
  {
   "cell_type": "markdown",
   "metadata": {},
   "source": [
    "## 1. Rule Based"
   ]
  },
  {
   "cell_type": "code",
   "execution_count": 1,
   "metadata": {},
   "outputs": [],
   "source": [
    "simplest_grammar = \"\"\"\n",
    "number = number number | single_number\n",
    "single_number = 1 | 2 | 3 | 4 | 5 | 6 | 7 | 8 | 9 | 0 \n",
    "\"\"\""
   ]
  },
  {
   "cell_type": "code",
   "execution_count": 4,
   "metadata": {},
   "outputs": [],
   "source": [
    "simple_grammar = \"\"\"\n",
    "sentence => noun_phrase verb_phrase\n",
    "noun_phrase => Article Adj* noun\n",
    "Adj* => null | Adj Adj*\n",
    "verb_phrase => verb noun_phrase\n",
    "Article => 一个 | 这个\n",
    "noun => 女人 | 篮球 | 桌子 | 小猫\n",
    "verb => 看着 | 坐在 | 听着 | 看见\n",
    "Adj => 蓝色的 | 好看的 | 小小的\n",
    "\"\"\""
   ]
  },
  {
   "cell_type": "code",
   "execution_count": 8,
   "metadata": {},
   "outputs": [],
   "source": [
    "import random\n"
   ]
  },
  {
   "cell_type": "code",
   "execution_count": 19,
   "metadata": {},
   "outputs": [
    {
     "data": {
      "text/plain": [
       "'小小的蓝色的'"
      ]
     },
     "execution_count": 19,
     "metadata": {},
     "output_type": "execute_result"
    }
   ],
   "source": [
    "def adj():\n",
    "    return random.choice('蓝色的 | 好看的 | 小小的'.split('|')).split()[0]\n",
    "adj() + adj()\n"
   ]
  },
  {
   "cell_type": "code",
   "execution_count": 25,
   "metadata": {},
   "outputs": [],
   "source": [
    "def adj_star():\n",
    "    return random.choice([None, adj() + adj(), adj() + adj() + adj()])"
   ]
  },
  {
   "cell_type": "code",
   "execution_count": 34,
   "metadata": {},
   "outputs": [],
   "source": [
    "def create_grammar(grammar_str):\n",
    "    grammar = {}\n",
    "    for line in simple_grammar.split('\\n'):\n",
    "        if not line.strip(): \n",
    "            continue\n",
    "        exp, stmt = line.split('=>')\n",
    "        grammar[exp.strip()] = [s.split() for s in stmt.split('|')]\n",
    "        return grammar"
   ]
  },
  {
   "cell_type": "raw",
   "metadata": {},
   "source": [
    "create_grammar(simple_grammar)"
   ]
  },
  {
   "cell_type": "code",
   "execution_count": 35,
   "metadata": {},
   "outputs": [],
   "source": [
    "def generate(gram, target):\n",
    "    if target not in gram:\n",
    "        return target\n",
    "    expanded = [generate(gram ,t) for t in random.choice(gram[target])]\n",
    "    return ''.join([e for e in expanded if e != 'null'])"
   ]
  },
  {
   "cell_type": "markdown",
   "metadata": {},
   "source": [
    "## 2. Probability Based"
   ]
  },
  {
   "cell_type": "markdown",
   "metadata": {},
   "source": [
    "## 3. Language Model"
   ]
  },
  {
   "cell_type": "code",
   "execution_count": 39,
   "metadata": {},
   "outputs": [
    {
     "name": "stdout",
     "output_type": "stream",
     "text": [
      " 驱动器 D 中的卷是 Personal\n",
      " 卷的序列号是 000E-5F02\n",
      "\n",
      " D:\\Github\\NLP\\Artficial_Intelligence_for_NLP 的目录\n",
      "\n",
      "2019/06/30  11:35    <DIR>          .\n",
      "2019/06/30  11:35    <DIR>          ..\n",
      "2019/06/30  09:51    <DIR>          .ipynb_checkpoints\n",
      "2019/06/30  11:35             4,119 lecture_01.ipynb\n",
      "               1 个文件          4,119 字节\n",
      "               3 个目录 145,789,648,896 可用字节\n"
     ]
    }
   ],
   "source": [
    "ls"
   ]
  },
  {
   "cell_type": "code",
   "execution_count": null,
   "metadata": {},
   "outputs": [],
   "source": []
  }
 ],
 "metadata": {
  "kernelspec": {
   "display_name": "Python 3",
   "language": "python",
   "name": "python3"
  },
  "language_info": {
   "codemirror_mode": {
    "name": "ipython",
    "version": 3
   },
   "file_extension": ".py",
   "mimetype": "text/x-python",
   "name": "python",
   "nbconvert_exporter": "python",
   "pygments_lexer": "ipython3",
   "version": "3.7.3"
  }
 },
 "nbformat": 4,
 "nbformat_minor": 2
}
