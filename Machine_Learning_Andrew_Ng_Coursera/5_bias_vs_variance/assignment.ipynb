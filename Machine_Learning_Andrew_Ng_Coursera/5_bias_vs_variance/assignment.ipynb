{
 "cells": [
  {
   "cell_type": "markdown",
   "metadata": {},
   "source": [
    "# Bias and Variance"
   ]
  },
  {
   "cell_type": "code",
   "execution_count": 3,
   "metadata": {},
   "outputs": [],
   "source": [
    "import numpy as np\n",
    "import scipy.io as sio\n",
    "import scipy.optimize as opt\n",
    "import pandas as pd\n",
    "import matplotlib.pyplot as plt\n",
    "import seaborn as sns\n",
    "%matplotlib inline"
   ]
  },
  {
   "cell_type": "code",
   "execution_count": 4,
   "metadata": {},
   "outputs": [
    {
     "data": {
      "text/plain": [
       "((12, 1), (12, 1), (21, 1), (21, 1), (21, 1), (21, 1))"
      ]
     },
     "execution_count": 4,
     "metadata": {},
     "output_type": "execute_result"
    }
   ],
   "source": [
    "df = sio.loadmat('ex5data1.mat')\n",
    "X, y, Xtest, ytest, Xval, yval = df['X'], df['y'], df['Xtest'], df['ytest'], df['Xval'], df['yval']\n",
    "X.shape, y.shape, Xtest.shape, ytest.shape, Xval.shape, yval.shape"
   ]
  },
  {
   "cell_type": "code",
   "execution_count": 5,
   "metadata": {},
   "outputs": [],
   "source": [
    "data = pd.DataFrame({'Water_level': np.ravel(X), 'flow': np.ravel(y)})"
   ]
  },
  {
   "cell_type": "code",
   "execution_count": 6,
   "metadata": {},
   "outputs": [
    {
     "data": {
      "image/png": "[encoded data removed]",
      "text/plain": [
       "<Figure size 504x504 with 1 Axes>"
      ]
     },
     "metadata": {
      "needs_background": "light"
     },
     "output_type": "display_data"
    }
   ],
   "source": [
    "sns.lmplot('Water_level', 'flow', data=data, fit_reg=False, height=7)\n",
    "plt.show()"
   ]
  },
  {
   "cell_type": "code",
   "execution_count": 7,
   "metadata": {},
   "outputs": [
    {
     "data": {
      "text/plain": [
       "((12, 2), (21, 2), (21, 2))"
      ]
     },
     "execution_count": 7,
     "metadata": {},
     "output_type": "execute_result"
    }
   ],
   "source": [
    "X, Xval, Xtest = [np.insert(x.reshape(x.shape[0], 1), 0, np.ones(x.shape[1]), axis=1) for x in (X, Xval, Xtest)]\n",
    "X.shape, Xval.shape, Xtest.shape"
   ]
  },
  {
   "cell_type": "markdown",
   "metadata": {},
   "source": [
    "# Cost function"
   ]
  },
  {
   "cell_type": "markdown",
   "metadata": {},
   "source": [
    "<img style=\"float: left;\" src=\"../img/linear_cost.png\">"
   ]
  },
  {
   "cell_type": "markdown",
   "metadata": {},
   "source": [
    "## Regularized cost\n",
    "![linear_reg_cost](../img/linear_reg_cost.png)"
   ]
  },
  {
   "cell_type": "code",
   "execution_count": 63,
   "metadata": {},
   "outputs": [],
   "source": [
    "def cost(theta, X, y):\n",
    "    \"\"\"\n",
    "    X: R(m*n), m records, n features\n",
    "    y: R(m)\n",
    "    theta : R(n, 1), linear regression parameters\n",
    "    \"\"\"\n",
    "    m = X.shape[0]\n",
    "    temp = X@theta - y\n",
    "    return (temp.T @ temp) / (2*m)"
   ]
  },
  {
   "cell_type": "code",
   "execution_count": 116,
   "metadata": {},
   "outputs": [],
   "source": [
    "def regularized_cost(theta, X, y, lambda_=1):\n",
    "    m = X.shape[0]\n",
    "    theta = theta.reshape((X.shape[1], 1))\n",
    "    temp = theta[1:,:]\n",
    "    regularized_term = (lambda_ / (2 * m)) * (temp.T @ temp)\n",
    "    return cost(theta, X, y) + regularized_term"
   ]
  },
  {
   "cell_type": "code",
   "execution_count": 117,
   "metadata": {},
   "outputs": [],
   "source": [
    "theta = np.ones((X.shape[1], 1))"
   ]
  },
  {
   "cell_type": "code",
   "execution_count": 118,
   "metadata": {},
   "outputs": [
    {
     "data": {
      "text/plain": [
       "array([[303.95152555]])"
      ]
     },
     "execution_count": 118,
     "metadata": {},
     "output_type": "execute_result"
    }
   ],
   "source": [
    "cost(theta, X, y)"
   ]
  },
  {
   "cell_type": "code",
   "execution_count": 119,
   "metadata": {},
   "outputs": [
    {
     "data": {
      "text/plain": [
       "array([[303.99319222]])"
      ]
     },
     "execution_count": 119,
     "metadata": {},
     "output_type": "execute_result"
    }
   ],
   "source": [
    "regularized_cost(theta, X, y)"
   ]
  },
  {
   "cell_type": "markdown",
   "metadata": {},
   "source": [
    "# Gradient"
   ]
  },
  {
   "cell_type": "markdown",
   "metadata": {},
   "source": [
    "<img style=\"float: left;\" src=\"../img/linear_gradient.png\">"
   ]
  },
  {
   "cell_type": "markdown",
   "metadata": {},
   "source": [
    "## Regularized gradient"
   ]
  },
  {
   "cell_type": "markdown",
   "metadata": {},
   "source": [
    "<img style=\"float: left;\" src=\"../img/linear_reg_gradient.png\">"
   ]
  },
  {
   "cell_type": "code",
   "execution_count": 110,
   "metadata": {},
   "outputs": [],
   "source": [
    "def gradient(theta, X, y):\n",
    "    \"\"\"\n",
    "    X: R(m*n), m records, n features\n",
    "    y: R(m)\n",
    "    theta : R(n, 1), linear regression parameters\n",
    "    \"\"\"\n",
    "    m = X.shape[0]\n",
    "    inner = X.T @(X @ theta - y)  # n, 1\n",
    "    return inner / m "
   ]
  },
  {
   "cell_type": "code",
   "execution_count": 111,
   "metadata": {},
   "outputs": [
    {
     "data": {
      "text/plain": [
       "array([[-15.30301567],\n",
       "       [598.16741084]])"
      ]
     },
     "execution_count": 111,
     "metadata": {},
     "output_type": "execute_result"
    }
   ],
   "source": [
    "gradient(theta, X, y)"
   ]
  },
  {
   "cell_type": "code",
   "execution_count": 124,
   "metadata": {},
   "outputs": [],
   "source": [
    "def regularized_gradient(theta, X, y, lambda_=1):\n",
    "    m = X.shape[0]\n",
    "    theta = theta.reshape((X.shape[1], 1))\n",
    "    temp = theta.copy()\n",
    "    temp[0,:] = 0\n",
    "    regularized_term = (lambda_ / m) * temp\n",
    "    return gradient(theta, X, y) + regularized_term"
   ]
  },
  {
   "cell_type": "code",
   "execution_count": 125,
   "metadata": {},
   "outputs": [
    {
     "data": {
      "text/plain": [
       "array([[-15.30301567],\n",
       "       [598.25074417]])"
      ]
     },
     "execution_count": 125,
     "metadata": {},
     "output_type": "execute_result"
    }
   ],
   "source": [
    "regularized_gradient(theta, X, y)"
   ]
  },
  {
   "cell_type": "markdown",
   "metadata": {},
   "source": [
    "# Training"
   ]
  },
  {
   "cell_type": "code",
   "execution_count": 126,
   "metadata": {},
   "outputs": [],
   "source": [
    "def linear_regression_np(X, y, lambda_=1):\n",
    "    \"\"\"linear regression\n",
    "    args:\n",
    "        X: feature matrix, (m, n+1) # with incercept x0=1\n",
    "        y: target vector, (m, 1)\n",
    "        lambda_: lambda constant for regularization\n",
    "\n",
    "    return: trained parameters\n",
    "    \"\"\"\n",
    "    theta_ = np.ones((X.shape[1], 1))\n",
    "    \n",
    "    res = opt.minimize(fun=regularized_cost,\n",
    "                      x0=theta_,\n",
    "                      args=(X, y, lambda_),\n",
    "                      method='TNC',\n",
    "                      jac=regularized_gradient,\n",
    "                      options={'disp': True})\n",
    "    return res"
   ]
  },
  {
   "cell_type": "code",
   "execution_count": 127,
   "metadata": {},
   "outputs": [],
   "source": [
    "res = linear_regression_np(X, y, lambda_=0)"
   ]
  },
  {
   "cell_type": "code",
   "execution_count": 128,
   "metadata": {},
   "outputs": [
    {
     "data": {
      "text/plain": [
       "array([13.08790398,  0.36777923])"
      ]
     },
     "execution_count": 128,
     "metadata": {},
     "output_type": "execute_result"
    }
   ],
   "source": [
    "res.x"
   ]
  },
  {
   "cell_type": "code",
   "execution_count": 132,
   "metadata": {},
   "outputs": [],
   "source": [
    "k, b = res.x[1], res.x[0]"
   ]
  },
  {
   "cell_type": "markdown",
   "metadata": {},
   "source": [
    "## Underfitting"
   ]
  },
  {
   "cell_type": "code",
   "execution_count": 133,
   "metadata": {},
   "outputs": [
    {
     "data": {
      "image/png": "[encoded data removed]",
      "text/plain": [
       "<Figure size 432x288 with 1 Axes>"
      ]
     },
     "metadata": {
      "needs_background": "light"
     },
     "output_type": "display_data"
    }
   ],
   "source": [
    "plt.scatter(X[:, 1], y, label='Training data')\n",
    "plt.plot(X[:, 1], X[:, 1]*k + b, label='Prediction')\n",
    "plt.legend(loc=2)\n",
    "plt.show()"
   ]
  },
  {
   "cell_type": "code",
   "execution_count": 137,
   "metadata": {},
   "outputs": [],
   "source": [
    "m = X.shape[0]\n",
    "training_cost, cv_cost = [], []\n",
    "for i in range(1, m+1):\n",
    "    res = linear_regression_np(X[:i, :], y[:i], lambda_=0)\n",
    "    tc = regularized_cost(res.x, X[:i, :], y[:i], lambda_=0)\n",
    "    cv = regularized_cost(res.x, Xval, yval, lambda_=0)    \n",
    "    \n",
    "    training_cost.append(tc)\n",
    "    cv_cost.append(cv)"
   ]
  },
  {
   "cell_type": "code",
   "execution_count": 143,
   "metadata": {},
   "outputs": [],
   "source": [
    "training_cost = np.squeeze(np.array(training_cost))\n",
    "cv_cost = np.squeeze(np.array(cv_cost))"
   ]
  },
  {
   "cell_type": "code",
   "execution_count": 144,
   "metadata": {},
   "outputs": [
    {
     "data": {
      "text/plain": [
       "((12,), (12,))"
      ]
     },
     "execution_count": 144,
     "metadata": {},
     "output_type": "execute_result"
    }
   ],
   "source": [
    "training_cost.shape, cv_cost.shape"
   ]
  },
  {
   "cell_type": "code",
   "execution_count": 145,
   "metadata": {},
   "outputs": [
    {
     "data": {
      "image/png": "[encoded data removed]",
      "text/plain": [
       "<Figure size 432x288 with 1 Axes>"
      ]
     },
     "metadata": {
      "needs_background": "light"
     },
     "output_type": "display_data"
    }
   ],
   "source": [
    "plt.plot(np.arange(1, m+1), training_cost, label='training_cost')\n",
    "plt.plot(np.arange(1, m+1), cv_cost, label='cv_cost')\n",
    "plt.legend(loc=1)\n",
    "plt.show()"
   ]
  },
  {
   "cell_type": "markdown",
   "metadata": {},
   "source": [
    "# Add features"
   ]
  },
  {
   "cell_type": "code",
   "execution_count": 167,
   "metadata": {},
   "outputs": [],
   "source": [
    "X, y, Xtest, ytest, Xval, yval = df['X'], df['y'], df['Xtest'], df['ytest'], df['Xval'], df['yval']"
   ]
  },
  {
   "cell_type": "markdown",
   "metadata": {},
   "source": [
    "## Features processing"
   ]
  },
  {
   "cell_type": "code",
   "execution_count": 181,
   "metadata": {},
   "outputs": [],
   "source": [
    "def poly_features(x, power, as_ndarray=False):\n",
    "    x = np.ravel(x)\n",
    "    data = {'f{}'.format(i): np.power(x, i) for i in range(1, power+1)}\n",
    "    df = pd.DataFrame(data)\n",
    "    \n",
    "    return df.values if as_ndarray else df"
   ]
  },
  {
   "cell_type": "code",
   "execution_count": 182,
   "metadata": {},
   "outputs": [],
   "source": [
    "def normalize_feature(df):\n",
    "    return df.apply(lambda column: (column - column.mean()) / column.std())"
   ]
  },
  {
   "cell_type": "code",
   "execution_count": 183,
   "metadata": {},
   "outputs": [
    {
     "data": {
      "text/html": [
       "<div>\n",
       "<style scoped>\n",
       "    .dataframe tbody tr th:only-of-type {\n",
       "        vertical-align: middle;\n",
       "    }\n",
       "\n",
       "    .dataframe tbody tr th {\n",
       "        vertical-align: top;\n",
       "    }\n",
       "\n",
       "    .dataframe thead th {\n",
       "        text-align: right;\n",
       "    }\n",
       "</style>\n",
       "<table border=\"1\" class=\"dataframe\">\n",
       "  <thead>\n",
       "    <tr style=\"text-align: right;\">\n",
       "      <th></th>\n",
       "      <th>f1</th>\n",
       "      <th>f2</th>\n",
       "      <th>f3</th>\n",
       "      <th>f4</th>\n",
       "      <th>f5</th>\n",
       "      <th>f6</th>\n",
       "      <th>f7</th>\n",
       "      <th>f8</th>\n",
       "    </tr>\n",
       "  </thead>\n",
       "  <tbody>\n",
       "    <tr>\n",
       "      <th>0</th>\n",
       "      <td>-15.936758</td>\n",
       "      <td>253.980260</td>\n",
       "      <td>-4047.621971</td>\n",
       "      <td>6.450597e+04</td>\n",
       "      <td>-1.028016e+06</td>\n",
       "      <td>1.638324e+07</td>\n",
       "      <td>-2.610958e+08</td>\n",
       "      <td>4.161020e+09</td>\n",
       "    </tr>\n",
       "    <tr>\n",
       "      <th>1</th>\n",
       "      <td>-29.152979</td>\n",
       "      <td>849.896197</td>\n",
       "      <td>-24777.006175</td>\n",
       "      <td>7.223235e+05</td>\n",
       "      <td>-2.105788e+07</td>\n",
       "      <td>6.139000e+08</td>\n",
       "      <td>-1.789701e+10</td>\n",
       "      <td>5.217513e+11</td>\n",
       "    </tr>\n",
       "    <tr>\n",
       "      <th>2</th>\n",
       "      <td>36.189549</td>\n",
       "      <td>1309.683430</td>\n",
       "      <td>47396.852168</td>\n",
       "      <td>1.715271e+06</td>\n",
       "      <td>6.207487e+07</td>\n",
       "      <td>2.246462e+09</td>\n",
       "      <td>8.129843e+10</td>\n",
       "      <td>2.942154e+12</td>\n",
       "    </tr>\n",
       "    <tr>\n",
       "      <th>3</th>\n",
       "      <td>37.492187</td>\n",
       "      <td>1405.664111</td>\n",
       "      <td>52701.422173</td>\n",
       "      <td>1.975892e+06</td>\n",
       "      <td>7.408050e+07</td>\n",
       "      <td>2.777440e+09</td>\n",
       "      <td>1.041323e+11</td>\n",
       "      <td>3.904148e+12</td>\n",
       "    </tr>\n",
       "    <tr>\n",
       "      <th>4</th>\n",
       "      <td>-48.058829</td>\n",
       "      <td>2309.651088</td>\n",
       "      <td>-110999.127750</td>\n",
       "      <td>5.334488e+06</td>\n",
       "      <td>-2.563693e+08</td>\n",
       "      <td>1.232081e+10</td>\n",
       "      <td>-5.921235e+11</td>\n",
       "      <td>2.845676e+13</td>\n",
       "    </tr>\n",
       "    <tr>\n",
       "      <th>5</th>\n",
       "      <td>-8.941458</td>\n",
       "      <td>79.949670</td>\n",
       "      <td>-714.866612</td>\n",
       "      <td>6.391950e+03</td>\n",
       "      <td>-5.715335e+04</td>\n",
       "      <td>5.110343e+05</td>\n",
       "      <td>-4.569391e+06</td>\n",
       "      <td>4.085702e+07</td>\n",
       "    </tr>\n",
       "    <tr>\n",
       "      <th>6</th>\n",
       "      <td>15.307793</td>\n",
       "      <td>234.328523</td>\n",
       "      <td>3587.052500</td>\n",
       "      <td>5.490986e+04</td>\n",
       "      <td>8.405487e+05</td>\n",
       "      <td>1.286695e+07</td>\n",
       "      <td>1.969645e+08</td>\n",
       "      <td>3.015092e+09</td>\n",
       "    </tr>\n",
       "    <tr>\n",
       "      <th>7</th>\n",
       "      <td>-34.706266</td>\n",
       "      <td>1204.524887</td>\n",
       "      <td>-41804.560890</td>\n",
       "      <td>1.450880e+06</td>\n",
       "      <td>-5.035463e+07</td>\n",
       "      <td>1.747621e+09</td>\n",
       "      <td>-6.065341e+10</td>\n",
       "      <td>2.105053e+12</td>\n",
       "    </tr>\n",
       "    <tr>\n",
       "      <th>8</th>\n",
       "      <td>1.389154</td>\n",
       "      <td>1.929750</td>\n",
       "      <td>2.680720</td>\n",
       "      <td>3.723935e+00</td>\n",
       "      <td>5.173120e+00</td>\n",
       "      <td>7.186262e+00</td>\n",
       "      <td>9.982827e+00</td>\n",
       "      <td>1.386769e+01</td>\n",
       "    </tr>\n",
       "    <tr>\n",
       "      <th>9</th>\n",
       "      <td>-44.383760</td>\n",
       "      <td>1969.918139</td>\n",
       "      <td>-87432.373590</td>\n",
       "      <td>3.880577e+06</td>\n",
       "      <td>-1.722346e+08</td>\n",
       "      <td>7.644420e+09</td>\n",
       "      <td>-3.392881e+11</td>\n",
       "      <td>1.505888e+13</td>\n",
       "    </tr>\n",
       "    <tr>\n",
       "      <th>10</th>\n",
       "      <td>7.013502</td>\n",
       "      <td>49.189211</td>\n",
       "      <td>344.988637</td>\n",
       "      <td>2.419579e+03</td>\n",
       "      <td>1.696972e+04</td>\n",
       "      <td>1.190172e+05</td>\n",
       "      <td>8.347271e+05</td>\n",
       "      <td>5.854360e+06</td>\n",
       "    </tr>\n",
       "    <tr>\n",
       "      <th>11</th>\n",
       "      <td>22.762749</td>\n",
       "      <td>518.142738</td>\n",
       "      <td>11794.353058</td>\n",
       "      <td>2.684719e+05</td>\n",
       "      <td>6.111158e+06</td>\n",
       "      <td>1.391068e+08</td>\n",
       "      <td>3.166452e+09</td>\n",
       "      <td>7.207716e+10</td>\n",
       "    </tr>\n",
       "  </tbody>\n",
       "</table>\n",
       "</div>"
      ],
      "text/plain": [
       "           f1           f2             f3            f4            f5  \\\n",
       "0  -15.936758   253.980260   -4047.621971  6.450597e+04 -1.028016e+06   \n",
       "1  -29.152979   849.896197  -24777.006175  7.223235e+05 -2.105788e+07   \n",
       "2   36.189549  1309.683430   47396.852168  1.715271e+06  6.207487e+07   \n",
       "3   37.492187  1405.664111   52701.422173  1.975892e+06  7.408050e+07   \n",
       "4  -48.058829  2309.651088 -110999.127750  5.334488e+06 -2.563693e+08   \n",
       "5   -8.941458    79.949670    -714.866612  6.391950e+03 -5.715335e+04   \n",
       "6   15.307793   234.328523    3587.052500  5.490986e+04  8.405487e+05   \n",
       "7  -34.706266  1204.524887  -41804.560890  1.450880e+06 -5.035463e+07   \n",
       "8    1.389154     1.929750       2.680720  3.723935e+00  5.173120e+00   \n",
       "9  -44.383760  1969.918139  -87432.373590  3.880577e+06 -1.722346e+08   \n",
       "10   7.013502    49.189211     344.988637  2.419579e+03  1.696972e+04   \n",
       "11  22.762749   518.142738   11794.353058  2.684719e+05  6.111158e+06   \n",
       "\n",
       "              f6            f7            f8  \n",
       "0   1.638324e+07 -2.610958e+08  4.161020e+09  \n",
       "1   6.139000e+08 -1.789701e+10  5.217513e+11  \n",
       "2   2.246462e+09  8.129843e+10  2.942154e+12  \n",
       "3   2.777440e+09  1.041323e+11  3.904148e+12  \n",
       "4   1.232081e+10 -5.921235e+11  2.845676e+13  \n",
       "5   5.110343e+05 -4.569391e+06  4.085702e+07  \n",
       "6   1.286695e+07  1.969645e+08  3.015092e+09  \n",
       "7   1.747621e+09 -6.065341e+10  2.105053e+12  \n",
       "8   7.186262e+00  9.982827e+00  1.386769e+01  \n",
       "9   7.644420e+09 -3.392881e+11  1.505888e+13  \n",
       "10  1.190172e+05  8.347271e+05  5.854360e+06  \n",
       "11  1.391068e+08  3.166452e+09  7.207716e+10  "
      ]
     },
     "execution_count": 183,
     "metadata": {},
     "output_type": "execute_result"
    }
   ],
   "source": [
    "poly_features(X, power=8)"
   ]
  },
  {
   "cell_type": "code",
   "execution_count": 184,
   "metadata": {},
   "outputs": [],
   "source": [
    "# apply to X, Xval, Xtest\n",
    "def add_features(*args, power):\n",
    "    def process(x):\n",
    "        df = poly_features(x, power=power)\n",
    "        ndarr = normalize_feature(df).values\n",
    "        return np.insert(ndarr, 0, np.ones(ndarr.shape[0]), axis=1)\n",
    "    return [process(x) for x in args]"
   ]
  },
  {
   "cell_type": "code",
   "execution_count": 185,
   "metadata": {},
   "outputs": [
    {
     "data": {
      "text/plain": [
       "(12, 9)"
      ]
     },
     "execution_count": 185,
     "metadata": {},
     "output_type": "execute_result"
    }
   ],
   "source": [
    "X_poly, Xval_poly, Xtest_poly = add_features(X, Xval, Xtest, power=8)\n",
    "X_poly.shape"
   ]
  },
  {
   "cell_type": "markdown",
   "metadata": {},
   "source": [
    "## Compare and selection"
   ]
  },
  {
   "cell_type": "code",
   "execution_count": 198,
   "metadata": {},
   "outputs": [],
   "source": [
    "def plot_learning_curve(X, y, Xval, yval, lambda_=0):\n",
    "    training_cost, cv_cost = [], []\n",
    "    m = X.shape[0]\n",
    "    \n",
    "    for i in range(1, m+1):\n",
    "        res = linear_regression_np(X[:i, :], y[:i], lambda_=lambda_)\n",
    "        tc = regularized_cost(res.x, X[:i, :], y[:i], lambda_=lambda_)\n",
    "        cv = regularized_cost(res.x, Xval, yval, lambda_=lambda_)    \n",
    "    \n",
    "        training_cost.append(np.squeeze(tc))\n",
    "        cv_cost.append(np.squeeze(cv))\n",
    "    \n",
    "    plt.plot(np.arange(1, m + 1), training_cost, label='training cost')\n",
    "    plt.plot(np.arange(1, m + 1), cv_cost, label='cv cost')\n",
    "    plt.legend(loc=1)"
   ]
  },
  {
   "cell_type": "code",
   "execution_count": 195,
   "metadata": {},
   "outputs": [
    {
     "data": {
      "image/png": "[encoded data removed]",
      "text/plain": [
       "<Figure size 432x288 with 1 Axes>"
      ]
     },
     "metadata": {
      "needs_background": "light"
     },
     "output_type": "display_data"
    }
   ],
   "source": [
    "plot_learning_curve(X_poly, y, Xval_poly, yval)\n",
    "plt.show()"
   ]
  },
  {
   "cell_type": "markdown",
   "metadata": {},
   "source": [
    "> Overfitting"
   ]
  },
  {
   "cell_type": "code",
   "execution_count": 199,
   "metadata": {},
   "outputs": [
    {
     "data": {
      "image/png": "[encoded data removed]",
      "text/plain": [
       "<Figure size 432x288 with 1 Axes>"
      ]
     },
     "metadata": {
      "needs_background": "light"
     },
     "output_type": "display_data"
    }
   ],
   "source": [
    "plot_learning_curve(X_poly, y, Xval_poly, yval, 1)\n",
    "plt.show()"
   ]
  },
  {
   "cell_type": "code",
   "execution_count": 200,
   "metadata": {},
   "outputs": [
    {
     "data": {
      "image/png": "[encoded data removed]",
      "text/plain": [
       "<Figure size 432x288 with 1 Axes>"
      ]
     },
     "metadata": {
      "needs_background": "light"
     },
     "output_type": "display_data"
    }
   ],
   "source": [
    "plot_learning_curve(X_poly, y, Xval_poly, yval, 100)\n",
    "plt.show()"
   ]
  },
  {
   "cell_type": "code",
   "execution_count": 217,
   "metadata": {},
   "outputs": [],
   "source": [
    "lambda_candidates = [0, .001, .003, .01, .03, .1, .3, 1, 3, 10]\n",
    "training_cost, cv_cost = [], []"
   ]
  },
  {
   "cell_type": "code",
   "execution_count": 218,
   "metadata": {},
   "outputs": [],
   "source": [
    "for lambda_ in lambda_candidates:\n",
    "    res = linear_regression_np(X_poly, y, lambda_)\n",
    "    \n",
    "    tc = regularized_cost(res.x, X_poly, y)\n",
    "    cv = regularized_cost(res.x, Xval_poly, yval)\n",
    "    \n",
    "    training_cost.append(np.ravel(tc))\n",
    "    cv_cost.append(np.ravel(cv))"
   ]
  },
  {
   "cell_type": "code",
   "execution_count": 219,
   "metadata": {},
   "outputs": [
    {
     "data": {
      "text/plain": [
       "[array([188.54055237]),\n",
       " array([63.93393989]),\n",
       " array([26.51849405]),\n",
       " array([16.5779566]),\n",
       " array([13.19603015]),\n",
       " array([10.30084099]),\n",
       " array([8.18786033]),\n",
       " array([7.2681481]),\n",
       " array([8.55679144]),\n",
       " array([17.8202158])]"
      ]
     },
     "execution_count": 219,
     "metadata": {},
     "output_type": "execute_result"
    }
   ],
   "source": [
    "training_cost"
   ]
  },
  {
   "cell_type": "code",
   "execution_count": 220,
   "metadata": {},
   "outputs": [
    {
     "data": {
      "image/png": "[encoded data removed]",
      "text/plain": [
       "<Figure size 432x288 with 1 Axes>"
      ]
     },
     "metadata": {
      "needs_background": "light"
     },
     "output_type": "display_data"
    }
   ],
   "source": [
    "plt.plot(lambda_candidates, training_cost, label='training')\n",
    "plt.plot(lambda_candidates, cv_cost, label='cross validation')\n",
    "plt.legend(loc=2)\n",
    "\n",
    "plt.xlabel('lambda')\n",
    "plt.ylabel('cost')\n",
    "plt.show()"
   ]
  },
  {
   "cell_type": "code",
   "execution_count": 222,
   "metadata": {},
   "outputs": [
    {
     "data": {
      "text/plain": [
       "3"
      ]
     },
     "execution_count": 222,
     "metadata": {},
     "output_type": "execute_result"
    }
   ],
   "source": [
    "lambda_candidates[np.argmin(cv_cost)]"
   ]
  },
  {
   "cell_type": "code",
   "execution_count": 225,
   "metadata": {},
   "outputs": [
    {
     "name": "stdout",
     "output_type": "stream",
     "text": [
      "test cost(l=0) = [[117.86377745]]\n",
      "test cost(l=0.001) = [[47.3086914]]\n",
      "test cost(l=0.003) = [[26.31986791]]\n",
      "test cost(l=0.01) = [[20.22705766]]\n",
      "test cost(l=0.03) = [[17.40196045]]\n",
      "test cost(l=0.1) = [[14.25579166]]\n",
      "test cost(l=0.3) = [[11.48860053]]\n",
      "test cost(l=1) = [[10.43311769]]\n",
      "test cost(l=3) = [[13.73275702]]\n",
      "test cost(l=10) = [[28.70250795]]\n"
     ]
    }
   ],
   "source": [
    "# use test data to compute the cost\n",
    "for l in lambda_candidates:\n",
    "    theta = linear_regression_np(X_poly, y, l).x\n",
    "    print('test cost(l={}) = {}'.format(l, regularized_cost(theta, Xtest_poly, ytest)))"
   ]
  },
  {
   "cell_type": "code",
   "execution_count": 227,
   "metadata": {},
   "outputs": [
    {
     "data": {
      "image/png": "[encoded data removed]",
      "text/plain": [
       "<Figure size 432x288 with 1 Axes>"
      ]
     },
     "metadata": {
      "needs_background": "light"
     },
     "output_type": "display_data"
    }
   ],
   "source": [
    "plot_learning_curve(X_poly, y, Xval_poly, yval, .3)\n",
    "plt.show()"
   ]
  },
  {
   "cell_type": "code",
   "execution_count": null,
   "metadata": {},
   "outputs": [],
   "source": []
  }
 ],
 "metadata": {
  "kernelspec": {
   "display_name": "Python 3",
   "language": "python",
   "name": "python3"
  },
  "language_info": {
   "codemirror_mode": {
    "name": "ipython",
    "version": 3
   },
   "file_extension": ".py",
   "mimetype": "text/x-python",
   "name": "python",
   "nbconvert_exporter": "python",
   "pygments_lexer": "ipython3",
   "version": "3.6.2"
  }
 },
 "nbformat": 4,
 "nbformat_minor": 4
}
