{
 "cells": [
  {
   "cell_type": "code",
   "execution_count": 180,
   "metadata": {},
   "outputs": [],
   "source": [
    "import pandas as pd\n",
    "import matplotlib.pyplot as plt\n",
    "import numpy as np\n",
    "%matplotlib inline"
   ]
  },
  {
   "cell_type": "markdown",
   "metadata": {},
   "source": [
    "# 10 minutes to pandas\n",
    "[参考](https://pandas.pydata.org/pandas-docs/stable/getting_started/10min.html#missing-data)"
   ]
  },
  {
   "cell_type": "markdown",
   "metadata": {},
   "source": [
    "## series"
   ]
  },
  {
   "cell_type": "markdown",
   "metadata": {},
   "source": [
    "### from ndarray"
   ]
  },
  {
   "cell_type": "code",
   "execution_count": 2,
   "metadata": {},
   "outputs": [
    {
     "data": {
      "text/plain": [
       "0   -1.217704\n",
       "1   -1.247670\n",
       "2   -0.205857\n",
       "3   -0.598507\n",
       "4   -1.369469\n",
       "dtype: float64"
      ]
     },
     "execution_count": 2,
     "metadata": {},
     "output_type": "execute_result"
    }
   ],
   "source": [
    "pd.Series(np.random.randn(5))"
   ]
  },
  {
   "cell_type": "code",
   "execution_count": 3,
   "metadata": {},
   "outputs": [
    {
     "data": {
      "text/plain": [
       "a   -1.015664\n",
       "b   -0.289268\n",
       "c    0.465263\n",
       "d    1.108282\n",
       "e    0.010656\n",
       "dtype: float64"
      ]
     },
     "execution_count": 3,
     "metadata": {},
     "output_type": "execute_result"
    }
   ],
   "source": [
    "s = pd.Series(np.random.randn(5), index=['a','b','c','d','e'])\n",
    "s"
   ]
  },
  {
   "cell_type": "code",
   "execution_count": 4,
   "metadata": {},
   "outputs": [
    {
     "data": {
      "text/plain": [
       "-1.0156643030411747"
      ]
     },
     "execution_count": 4,
     "metadata": {},
     "output_type": "execute_result"
    }
   ],
   "source": [
    "s[0]"
   ]
  },
  {
   "cell_type": "code",
   "execution_count": 5,
   "metadata": {},
   "outputs": [
    {
     "data": {
      "text/plain": [
       "a   -1.015664\n",
       "b   -0.289268\n",
       "c    0.465263\n",
       "dtype: float64"
      ]
     },
     "execution_count": 5,
     "metadata": {},
     "output_type": "execute_result"
    }
   ],
   "source": [
    "s[:3]"
   ]
  },
  {
   "cell_type": "code",
   "execution_count": 6,
   "metadata": {},
   "outputs": [
    {
     "data": {
      "text/plain": [
       "c    0.465263\n",
       "d    1.108282\n",
       "e    0.010656\n",
       "dtype: float64"
      ]
     },
     "execution_count": 6,
     "metadata": {},
     "output_type": "execute_result"
    }
   ],
   "source": [
    "s[s>0]"
   ]
  },
  {
   "cell_type": "code",
   "execution_count": 7,
   "metadata": {},
   "outputs": [
    {
     "data": {
      "text/plain": [
       "e    0.010656\n",
       "c    0.465263\n",
       "b   -0.289268\n",
       "dtype: float64"
      ]
     },
     "execution_count": 7,
     "metadata": {},
     "output_type": "execute_result"
    }
   ],
   "source": [
    "s[[4,2,1]]"
   ]
  },
  {
   "cell_type": "code",
   "execution_count": 8,
   "metadata": {},
   "outputs": [
    {
     "data": {
      "text/plain": [
       "a    0.362162\n",
       "b    0.748811\n",
       "c    1.592432\n",
       "d    3.029150\n",
       "e    1.010713\n",
       "dtype: float64"
      ]
     },
     "execution_count": 8,
     "metadata": {},
     "output_type": "execute_result"
    }
   ],
   "source": [
    "np.exp(s)"
   ]
  },
  {
   "cell_type": "code",
   "execution_count": 9,
   "metadata": {},
   "outputs": [
    {
     "data": {
      "text/plain": [
       "dtype('float64')"
      ]
     },
     "execution_count": 9,
     "metadata": {},
     "output_type": "execute_result"
    }
   ],
   "source": [
    "s.dtype"
   ]
  },
  {
   "cell_type": "code",
   "execution_count": 10,
   "metadata": {},
   "outputs": [
    {
     "data": {
      "text/plain": [
       "array([-1.0156643 , -0.28926848,  0.46526262,  1.10828212,  0.01065591])"
      ]
     },
     "execution_count": 10,
     "metadata": {},
     "output_type": "execute_result"
    }
   ],
   "source": [
    "s.to_numpy()"
   ]
  },
  {
   "cell_type": "code",
   "execution_count": 11,
   "metadata": {},
   "outputs": [
    {
     "data": {
      "text/plain": [
       "{'a': -1.0156643030411747,\n",
       " 'b': -0.2892684835141707,\n",
       " 'c': 0.4652626237614728,\n",
       " 'd': 1.1082821229038213,\n",
       " 'e': 0.010655907407660746}"
      ]
     },
     "execution_count": 11,
     "metadata": {},
     "output_type": "execute_result"
    }
   ],
   "source": [
    "s.to_dict()"
   ]
  },
  {
   "cell_type": "code",
   "execution_count": 12,
   "metadata": {},
   "outputs": [
    {
     "data": {
      "text/plain": [
       "True"
      ]
     },
     "execution_count": 12,
     "metadata": {},
     "output_type": "execute_result"
    }
   ],
   "source": [
    "s['a'] == s[0]"
   ]
  },
  {
   "cell_type": "code",
   "execution_count": 13,
   "metadata": {},
   "outputs": [
    {
     "data": {
      "text/plain": [
       "a    -1.015664\n",
       "b    -0.289268\n",
       "c    12.000000\n",
       "d     1.108282\n",
       "e     0.010656\n",
       "dtype: float64"
      ]
     },
     "execution_count": 13,
     "metadata": {},
     "output_type": "execute_result"
    }
   ],
   "source": [
    "s[2] = 12\n",
    "s"
   ]
  },
  {
   "cell_type": "code",
   "execution_count": 14,
   "metadata": {},
   "outputs": [
    {
     "data": {
      "text/plain": [
       "True"
      ]
     },
     "execution_count": 14,
     "metadata": {},
     "output_type": "execute_result"
    }
   ],
   "source": [
    "'a' in s"
   ]
  },
  {
   "cell_type": "code",
   "execution_count": 15,
   "metadata": {},
   "outputs": [
    {
     "data": {
      "text/plain": [
       "'none'"
      ]
     },
     "execution_count": 15,
     "metadata": {},
     "output_type": "execute_result"
    }
   ],
   "source": [
    "s.get('f','none')"
   ]
  },
  {
   "cell_type": "markdown",
   "metadata": {},
   "source": [
    "### vectorized operations and label alignment with Series"
   ]
  },
  {
   "cell_type": "code",
   "execution_count": 16,
   "metadata": {},
   "outputs": [
    {
     "data": {
      "text/plain": [
       "a    -2.031329\n",
       "b    -0.578537\n",
       "c    24.000000\n",
       "d     2.216564\n",
       "e     0.021312\n",
       "dtype: float64"
      ]
     },
     "execution_count": 16,
     "metadata": {},
     "output_type": "execute_result"
    }
   ],
   "source": [
    "s + s"
   ]
  },
  {
   "cell_type": "code",
   "execution_count": 17,
   "metadata": {},
   "outputs": [
    {
     "data": {
      "text/plain": [
       "a    -2.031329\n",
       "b    -0.578537\n",
       "c    24.000000\n",
       "d     2.216564\n",
       "e     0.021312\n",
       "dtype: float64"
      ]
     },
     "execution_count": 17,
     "metadata": {},
     "output_type": "execute_result"
    }
   ],
   "source": [
    "s * 2"
   ]
  },
  {
   "cell_type": "code",
   "execution_count": 18,
   "metadata": {},
   "outputs": [
    {
     "data": {
      "text/plain": [
       "a     1.015664\n",
       "b     0.289268\n",
       "c    12.000000\n",
       "d     1.108282\n",
       "e     0.010656\n",
       "dtype: float64"
      ]
     },
     "execution_count": 18,
     "metadata": {},
     "output_type": "execute_result"
    }
   ],
   "source": [
    "abs(s)"
   ]
  },
  {
   "cell_type": "markdown",
   "metadata": {},
   "source": [
    "> The result of an operation between unaligned Series will have the union of the indexes involved. If a label is not found in one Series or the other, the result will be marked as missing NaN"
   ]
  },
  {
   "cell_type": "code",
   "execution_count": 19,
   "metadata": {},
   "outputs": [
    {
     "data": {
      "text/plain": [
       "a          NaN\n",
       "b    -0.578537\n",
       "c    24.000000\n",
       "d     2.216564\n",
       "e          NaN\n",
       "dtype: float64"
      ]
     },
     "execution_count": 19,
     "metadata": {},
     "output_type": "execute_result"
    }
   ],
   "source": [
    "s[1:] + s[:-1]"
   ]
  },
  {
   "cell_type": "markdown",
   "metadata": {},
   "source": [
    "### from dict"
   ]
  },
  {
   "cell_type": "code",
   "execution_count": 20,
   "metadata": {},
   "outputs": [
    {
     "data": {
      "text/plain": [
       "a    0.0\n",
       "b    1.0\n",
       "c    2.0\n",
       "dtype: float64"
      ]
     },
     "execution_count": 20,
     "metadata": {},
     "output_type": "execute_result"
    }
   ],
   "source": [
    "pd.Series({'a':0, 'b':1, 'c':2}, dtype=float)"
   ]
  },
  {
   "cell_type": "code",
   "execution_count": 21,
   "metadata": {},
   "outputs": [
    {
     "data": {
      "text/plain": [
       "a    0.0\n",
       "b    1.0\n",
       "c    2.0\n",
       "d    NaN\n",
       "dtype: float64"
      ]
     },
     "execution_count": 21,
     "metadata": {},
     "output_type": "execute_result"
    }
   ],
   "source": [
    "pd.Series({'a':0, 'b':1, 'c':2}, index=list('abcd'),dtype=float)"
   ]
  },
  {
   "cell_type": "markdown",
   "metadata": {},
   "source": [
    "### from scalar value"
   ]
  },
  {
   "cell_type": "code",
   "execution_count": 22,
   "metadata": {},
   "outputs": [
    {
     "data": {
      "text/plain": [
       "a    0\n",
       "b    1\n",
       "c    2\n",
       "d    3\n",
       "e    4\n",
       "dtype: int64"
      ]
     },
     "execution_count": 22,
     "metadata": {},
     "output_type": "execute_result"
    }
   ],
   "source": [
    "pd.Series(list(range(5)), index=list('abcde'))"
   ]
  },
  {
   "cell_type": "markdown",
   "metadata": {},
   "source": [
    "## DataFrame "
   ]
  },
  {
   "cell_type": "code",
   "execution_count": 23,
   "metadata": {},
   "outputs": [
    {
     "data": {
      "text/plain": [
       "DatetimeIndex(['2019-08-15 00:00:00', '2019-08-15 05:00:00',\n",
       "               '2019-08-15 10:00:00', '2019-08-15 15:00:00',\n",
       "               '2019-08-15 20:00:00', '2019-08-16 01:00:00'],\n",
       "              dtype='datetime64[ns]', freq='5H')"
      ]
     },
     "execution_count": 23,
     "metadata": {},
     "output_type": "execute_result"
    }
   ],
   "source": [
    "dates = pd.date_range('20190815', periods=6, freq='5h')\n",
    "dates"
   ]
  },
  {
   "cell_type": "code",
   "execution_count": 24,
   "metadata": {},
   "outputs": [
    {
     "data": {
      "text/html": [
       "<div>\n",
       "<style scoped>\n",
       "    .dataframe tbody tr th:only-of-type {\n",
       "        vertical-align: middle;\n",
       "    }\n",
       "\n",
       "    .dataframe tbody tr th {\n",
       "        vertical-align: top;\n",
       "    }\n",
       "\n",
       "    .dataframe thead th {\n",
       "        text-align: right;\n",
       "    }\n",
       "</style>\n",
       "<table border=\"1\" class=\"dataframe\">\n",
       "  <thead>\n",
       "    <tr style=\"text-align: right;\">\n",
       "      <th></th>\n",
       "      <th>A</th>\n",
       "      <th>B</th>\n",
       "      <th>C</th>\n",
       "      <th>D</th>\n",
       "    </tr>\n",
       "  </thead>\n",
       "  <tbody>\n",
       "    <tr>\n",
       "      <th>2019-08-15 00:00:00</th>\n",
       "      <td>1.895371</td>\n",
       "      <td>0.690688</td>\n",
       "      <td>-1.059889</td>\n",
       "      <td>2.101796</td>\n",
       "    </tr>\n",
       "    <tr>\n",
       "      <th>2019-08-15 05:00:00</th>\n",
       "      <td>-0.625098</td>\n",
       "      <td>-1.248365</td>\n",
       "      <td>-0.029373</td>\n",
       "      <td>1.011937</td>\n",
       "    </tr>\n",
       "    <tr>\n",
       "      <th>2019-08-15 10:00:00</th>\n",
       "      <td>0.549361</td>\n",
       "      <td>0.886143</td>\n",
       "      <td>0.075019</td>\n",
       "      <td>1.044665</td>\n",
       "    </tr>\n",
       "    <tr>\n",
       "      <th>2019-08-15 15:00:00</th>\n",
       "      <td>1.645027</td>\n",
       "      <td>0.027756</td>\n",
       "      <td>0.665225</td>\n",
       "      <td>-0.022415</td>\n",
       "    </tr>\n",
       "    <tr>\n",
       "      <th>2019-08-15 20:00:00</th>\n",
       "      <td>0.633535</td>\n",
       "      <td>-1.999516</td>\n",
       "      <td>-0.310198</td>\n",
       "      <td>-0.136117</td>\n",
       "    </tr>\n",
       "    <tr>\n",
       "      <th>2019-08-16 01:00:00</th>\n",
       "      <td>1.826572</td>\n",
       "      <td>0.659380</td>\n",
       "      <td>1.079918</td>\n",
       "      <td>-0.319106</td>\n",
       "    </tr>\n",
       "  </tbody>\n",
       "</table>\n",
       "</div>"
      ],
      "text/plain": [
       "                            A         B         C         D\n",
       "2019-08-15 00:00:00  1.895371  0.690688 -1.059889  2.101796\n",
       "2019-08-15 05:00:00 -0.625098 -1.248365 -0.029373  1.011937\n",
       "2019-08-15 10:00:00  0.549361  0.886143  0.075019  1.044665\n",
       "2019-08-15 15:00:00  1.645027  0.027756  0.665225 -0.022415\n",
       "2019-08-15 20:00:00  0.633535 -1.999516 -0.310198 -0.136117\n",
       "2019-08-16 01:00:00  1.826572  0.659380  1.079918 -0.319106"
      ]
     },
     "execution_count": 24,
     "metadata": {},
     "output_type": "execute_result"
    }
   ],
   "source": [
    "df = pd.DataFrame(np.random.randn(6,4), index=dates, columns=list('ABCD'))\n",
    "df"
   ]
  },
  {
   "cell_type": "code",
   "execution_count": 25,
   "metadata": {},
   "outputs": [
    {
     "data": {
      "text/html": [
       "<div>\n",
       "<style scoped>\n",
       "    .dataframe tbody tr th:only-of-type {\n",
       "        vertical-align: middle;\n",
       "    }\n",
       "\n",
       "    .dataframe tbody tr th {\n",
       "        vertical-align: top;\n",
       "    }\n",
       "\n",
       "    .dataframe thead th {\n",
       "        text-align: right;\n",
       "    }\n",
       "</style>\n",
       "<table border=\"1\" class=\"dataframe\">\n",
       "  <thead>\n",
       "    <tr style=\"text-align: right;\">\n",
       "      <th></th>\n",
       "      <th>A</th>\n",
       "      <th>B</th>\n",
       "      <th>C</th>\n",
       "      <th>D</th>\n",
       "      <th>E</th>\n",
       "      <th>F</th>\n",
       "    </tr>\n",
       "  </thead>\n",
       "  <tbody>\n",
       "    <tr>\n",
       "      <th>0</th>\n",
       "      <td>1.0</td>\n",
       "      <td>2019-08-15</td>\n",
       "      <td>1.0</td>\n",
       "      <td>3</td>\n",
       "      <td>test</td>\n",
       "      <td>foo</td>\n",
       "    </tr>\n",
       "    <tr>\n",
       "      <th>1</th>\n",
       "      <td>1.0</td>\n",
       "      <td>2019-08-15</td>\n",
       "      <td>1.0</td>\n",
       "      <td>3</td>\n",
       "      <td>train</td>\n",
       "      <td>foo</td>\n",
       "    </tr>\n",
       "    <tr>\n",
       "      <th>2</th>\n",
       "      <td>1.0</td>\n",
       "      <td>2019-08-15</td>\n",
       "      <td>1.0</td>\n",
       "      <td>3</td>\n",
       "      <td>test</td>\n",
       "      <td>foo</td>\n",
       "    </tr>\n",
       "    <tr>\n",
       "      <th>3</th>\n",
       "      <td>1.0</td>\n",
       "      <td>2019-08-15</td>\n",
       "      <td>1.0</td>\n",
       "      <td>3</td>\n",
       "      <td>train</td>\n",
       "      <td>foo</td>\n",
       "    </tr>\n",
       "  </tbody>\n",
       "</table>\n",
       "</div>"
      ],
      "text/plain": [
       "     A          B    C  D      E    F\n",
       "0  1.0 2019-08-15  1.0  3   test  foo\n",
       "1  1.0 2019-08-15  1.0  3  train  foo\n",
       "2  1.0 2019-08-15  1.0  3   test  foo\n",
       "3  1.0 2019-08-15  1.0  3  train  foo"
      ]
     },
     "execution_count": 25,
     "metadata": {},
     "output_type": "execute_result"
    }
   ],
   "source": [
    "df2 = pd.DataFrame({'A':1., \n",
    "              'B':pd.Timestamp('20190815'), \n",
    "              'C':pd.Series(1, index=list(range(4)),dtype='float32'),\n",
    "              'D':np.array([3]*4, dtype='int32'),\n",
    "              'E':pd.Categorical(['test','train', 'test', 'train']),\n",
    "              'F':'foo'})\n",
    "df2"
   ]
  },
  {
   "cell_type": "markdown",
   "metadata": {},
   "source": [
    "# viewing data"
   ]
  },
  {
   "cell_type": "code",
   "execution_count": 26,
   "metadata": {},
   "outputs": [
    {
     "data": {
      "text/html": [
       "<div>\n",
       "<style scoped>\n",
       "    .dataframe tbody tr th:only-of-type {\n",
       "        vertical-align: middle;\n",
       "    }\n",
       "\n",
       "    .dataframe tbody tr th {\n",
       "        vertical-align: top;\n",
       "    }\n",
       "\n",
       "    .dataframe thead th {\n",
       "        text-align: right;\n",
       "    }\n",
       "</style>\n",
       "<table border=\"1\" class=\"dataframe\">\n",
       "  <thead>\n",
       "    <tr style=\"text-align: right;\">\n",
       "      <th></th>\n",
       "      <th>A</th>\n",
       "      <th>B</th>\n",
       "      <th>C</th>\n",
       "      <th>D</th>\n",
       "    </tr>\n",
       "  </thead>\n",
       "  <tbody>\n",
       "    <tr>\n",
       "      <th>2019-08-15 00:00:00</th>\n",
       "      <td>1.895371</td>\n",
       "      <td>0.690688</td>\n",
       "      <td>-1.059889</td>\n",
       "      <td>2.101796</td>\n",
       "    </tr>\n",
       "    <tr>\n",
       "      <th>2019-08-15 05:00:00</th>\n",
       "      <td>-0.625098</td>\n",
       "      <td>-1.248365</td>\n",
       "      <td>-0.029373</td>\n",
       "      <td>1.011937</td>\n",
       "    </tr>\n",
       "    <tr>\n",
       "      <th>2019-08-15 10:00:00</th>\n",
       "      <td>0.549361</td>\n",
       "      <td>0.886143</td>\n",
       "      <td>0.075019</td>\n",
       "      <td>1.044665</td>\n",
       "    </tr>\n",
       "    <tr>\n",
       "      <th>2019-08-15 15:00:00</th>\n",
       "      <td>1.645027</td>\n",
       "      <td>0.027756</td>\n",
       "      <td>0.665225</td>\n",
       "      <td>-0.022415</td>\n",
       "    </tr>\n",
       "    <tr>\n",
       "      <th>2019-08-15 20:00:00</th>\n",
       "      <td>0.633535</td>\n",
       "      <td>-1.999516</td>\n",
       "      <td>-0.310198</td>\n",
       "      <td>-0.136117</td>\n",
       "    </tr>\n",
       "  </tbody>\n",
       "</table>\n",
       "</div>"
      ],
      "text/plain": [
       "                            A         B         C         D\n",
       "2019-08-15 00:00:00  1.895371  0.690688 -1.059889  2.101796\n",
       "2019-08-15 05:00:00 -0.625098 -1.248365 -0.029373  1.011937\n",
       "2019-08-15 10:00:00  0.549361  0.886143  0.075019  1.044665\n",
       "2019-08-15 15:00:00  1.645027  0.027756  0.665225 -0.022415\n",
       "2019-08-15 20:00:00  0.633535 -1.999516 -0.310198 -0.136117"
      ]
     },
     "execution_count": 26,
     "metadata": {},
     "output_type": "execute_result"
    }
   ],
   "source": [
    "df.head()"
   ]
  },
  {
   "cell_type": "code",
   "execution_count": 27,
   "metadata": {},
   "outputs": [
    {
     "data": {
      "text/html": [
       "<div>\n",
       "<style scoped>\n",
       "    .dataframe tbody tr th:only-of-type {\n",
       "        vertical-align: middle;\n",
       "    }\n",
       "\n",
       "    .dataframe tbody tr th {\n",
       "        vertical-align: top;\n",
       "    }\n",
       "\n",
       "    .dataframe thead th {\n",
       "        text-align: right;\n",
       "    }\n",
       "</style>\n",
       "<table border=\"1\" class=\"dataframe\">\n",
       "  <thead>\n",
       "    <tr style=\"text-align: right;\">\n",
       "      <th></th>\n",
       "      <th>A</th>\n",
       "      <th>B</th>\n",
       "      <th>C</th>\n",
       "      <th>D</th>\n",
       "    </tr>\n",
       "  </thead>\n",
       "  <tbody>\n",
       "    <tr>\n",
       "      <th>2019-08-15 15:00:00</th>\n",
       "      <td>1.645027</td>\n",
       "      <td>0.027756</td>\n",
       "      <td>0.665225</td>\n",
       "      <td>-0.022415</td>\n",
       "    </tr>\n",
       "    <tr>\n",
       "      <th>2019-08-15 20:00:00</th>\n",
       "      <td>0.633535</td>\n",
       "      <td>-1.999516</td>\n",
       "      <td>-0.310198</td>\n",
       "      <td>-0.136117</td>\n",
       "    </tr>\n",
       "    <tr>\n",
       "      <th>2019-08-16 01:00:00</th>\n",
       "      <td>1.826572</td>\n",
       "      <td>0.659380</td>\n",
       "      <td>1.079918</td>\n",
       "      <td>-0.319106</td>\n",
       "    </tr>\n",
       "  </tbody>\n",
       "</table>\n",
       "</div>"
      ],
      "text/plain": [
       "                            A         B         C         D\n",
       "2019-08-15 15:00:00  1.645027  0.027756  0.665225 -0.022415\n",
       "2019-08-15 20:00:00  0.633535 -1.999516 -0.310198 -0.136117\n",
       "2019-08-16 01:00:00  1.826572  0.659380  1.079918 -0.319106"
      ]
     },
     "execution_count": 27,
     "metadata": {},
     "output_type": "execute_result"
    }
   ],
   "source": [
    "df.tail(3)"
   ]
  },
  {
   "cell_type": "code",
   "execution_count": 28,
   "metadata": {},
   "outputs": [
    {
     "data": {
      "text/plain": [
       "DatetimeIndex(['2019-08-15 00:00:00', '2019-08-15 05:00:00',\n",
       "               '2019-08-15 10:00:00', '2019-08-15 15:00:00',\n",
       "               '2019-08-15 20:00:00', '2019-08-16 01:00:00'],\n",
       "              dtype='datetime64[ns]', freq='5H')"
      ]
     },
     "execution_count": 28,
     "metadata": {},
     "output_type": "execute_result"
    }
   ],
   "source": [
    "df.index"
   ]
  },
  {
   "cell_type": "code",
   "execution_count": 29,
   "metadata": {},
   "outputs": [
    {
     "data": {
      "text/plain": [
       "Index(['A', 'B', 'C', 'D'], dtype='object')"
      ]
     },
     "execution_count": 29,
     "metadata": {},
     "output_type": "execute_result"
    }
   ],
   "source": [
    "df.columns"
   ]
  },
  {
   "cell_type": "code",
   "execution_count": 30,
   "metadata": {},
   "outputs": [
    {
     "data": {
      "text/plain": [
       "array([[ 1.89537115,  0.69068812, -1.05988912,  2.10179567],\n",
       "       [-0.62509827, -1.2483649 , -0.02937265,  1.01193688],\n",
       "       [ 0.54936102,  0.88614273,  0.07501938,  1.04466504],\n",
       "       [ 1.64502728,  0.02775625,  0.66522451, -0.02241518],\n",
       "       [ 0.63353514, -1.99951611, -0.31019796, -0.13611659],\n",
       "       [ 1.8265717 ,  0.65938046,  1.07991813, -0.31910568]])"
      ]
     },
     "execution_count": 30,
     "metadata": {},
     "output_type": "execute_result"
    }
   ],
   "source": [
    "df.to_numpy()"
   ]
  },
  {
   "cell_type": "code",
   "execution_count": 31,
   "metadata": {},
   "outputs": [
    {
     "data": {
      "text/plain": [
       "array([[1.0, Timestamp('2019-08-15 00:00:00'), 1.0, 3, 'test', 'foo'],\n",
       "       [1.0, Timestamp('2019-08-15 00:00:00'), 1.0, 3, 'train', 'foo'],\n",
       "       [1.0, Timestamp('2019-08-15 00:00:00'), 1.0, 3, 'test', 'foo'],\n",
       "       [1.0, Timestamp('2019-08-15 00:00:00'), 1.0, 3, 'train', 'foo']],\n",
       "      dtype=object)"
      ]
     },
     "execution_count": 31,
     "metadata": {},
     "output_type": "execute_result"
    }
   ],
   "source": [
    "df2.to_numpy()"
   ]
  },
  {
   "cell_type": "code",
   "execution_count": 32,
   "metadata": {},
   "outputs": [
    {
     "data": {
      "text/html": [
       "<div>\n",
       "<style scoped>\n",
       "    .dataframe tbody tr th:only-of-type {\n",
       "        vertical-align: middle;\n",
       "    }\n",
       "\n",
       "    .dataframe tbody tr th {\n",
       "        vertical-align: top;\n",
       "    }\n",
       "\n",
       "    .dataframe thead th {\n",
       "        text-align: right;\n",
       "    }\n",
       "</style>\n",
       "<table border=\"1\" class=\"dataframe\">\n",
       "  <thead>\n",
       "    <tr style=\"text-align: right;\">\n",
       "      <th></th>\n",
       "      <th>A</th>\n",
       "      <th>B</th>\n",
       "      <th>C</th>\n",
       "      <th>D</th>\n",
       "    </tr>\n",
       "  </thead>\n",
       "  <tbody>\n",
       "    <tr>\n",
       "      <th>count</th>\n",
       "      <td>6.000000</td>\n",
       "      <td>6.000000</td>\n",
       "      <td>6.000000</td>\n",
       "      <td>6.000000</td>\n",
       "    </tr>\n",
       "    <tr>\n",
       "      <th>mean</th>\n",
       "      <td>0.987461</td>\n",
       "      <td>-0.163986</td>\n",
       "      <td>0.070117</td>\n",
       "      <td>0.613460</td>\n",
       "    </tr>\n",
       "    <tr>\n",
       "      <th>std</th>\n",
       "      <td>0.987759</td>\n",
       "      <td>1.191049</td>\n",
       "      <td>0.749043</td>\n",
       "      <td>0.937630</td>\n",
       "    </tr>\n",
       "    <tr>\n",
       "      <th>min</th>\n",
       "      <td>-0.625098</td>\n",
       "      <td>-1.999516</td>\n",
       "      <td>-1.059889</td>\n",
       "      <td>-0.319106</td>\n",
       "    </tr>\n",
       "    <tr>\n",
       "      <th>25%</th>\n",
       "      <td>0.570405</td>\n",
       "      <td>-0.929335</td>\n",
       "      <td>-0.239992</td>\n",
       "      <td>-0.107691</td>\n",
       "    </tr>\n",
       "    <tr>\n",
       "      <th>50%</th>\n",
       "      <td>1.139281</td>\n",
       "      <td>0.343568</td>\n",
       "      <td>0.022823</td>\n",
       "      <td>0.494761</td>\n",
       "    </tr>\n",
       "    <tr>\n",
       "      <th>75%</th>\n",
       "      <td>1.781186</td>\n",
       "      <td>0.682861</td>\n",
       "      <td>0.517673</td>\n",
       "      <td>1.036483</td>\n",
       "    </tr>\n",
       "    <tr>\n",
       "      <th>max</th>\n",
       "      <td>1.895371</td>\n",
       "      <td>0.886143</td>\n",
       "      <td>1.079918</td>\n",
       "      <td>2.101796</td>\n",
       "    </tr>\n",
       "  </tbody>\n",
       "</table>\n",
       "</div>"
      ],
      "text/plain": [
       "              A         B         C         D\n",
       "count  6.000000  6.000000  6.000000  6.000000\n",
       "mean   0.987461 -0.163986  0.070117  0.613460\n",
       "std    0.987759  1.191049  0.749043  0.937630\n",
       "min   -0.625098 -1.999516 -1.059889 -0.319106\n",
       "25%    0.570405 -0.929335 -0.239992 -0.107691\n",
       "50%    1.139281  0.343568  0.022823  0.494761\n",
       "75%    1.781186  0.682861  0.517673  1.036483\n",
       "max    1.895371  0.886143  1.079918  2.101796"
      ]
     },
     "execution_count": 32,
     "metadata": {},
     "output_type": "execute_result"
    }
   ],
   "source": [
    "df.describe()"
   ]
  },
  {
   "cell_type": "code",
   "execution_count": 33,
   "metadata": {},
   "outputs": [
    {
     "data": {
      "text/html": [
       "<div>\n",
       "<style scoped>\n",
       "    .dataframe tbody tr th:only-of-type {\n",
       "        vertical-align: middle;\n",
       "    }\n",
       "\n",
       "    .dataframe tbody tr th {\n",
       "        vertical-align: top;\n",
       "    }\n",
       "\n",
       "    .dataframe thead th {\n",
       "        text-align: right;\n",
       "    }\n",
       "</style>\n",
       "<table border=\"1\" class=\"dataframe\">\n",
       "  <thead>\n",
       "    <tr style=\"text-align: right;\">\n",
       "      <th></th>\n",
       "      <th>2019-08-15 00:00:00</th>\n",
       "      <th>2019-08-15 05:00:00</th>\n",
       "      <th>2019-08-15 10:00:00</th>\n",
       "      <th>2019-08-15 15:00:00</th>\n",
       "      <th>2019-08-15 20:00:00</th>\n",
       "      <th>2019-08-16 01:00:00</th>\n",
       "    </tr>\n",
       "  </thead>\n",
       "  <tbody>\n",
       "    <tr>\n",
       "      <th>A</th>\n",
       "      <td>1.895371</td>\n",
       "      <td>-0.625098</td>\n",
       "      <td>0.549361</td>\n",
       "      <td>1.645027</td>\n",
       "      <td>0.633535</td>\n",
       "      <td>1.826572</td>\n",
       "    </tr>\n",
       "    <tr>\n",
       "      <th>B</th>\n",
       "      <td>0.690688</td>\n",
       "      <td>-1.248365</td>\n",
       "      <td>0.886143</td>\n",
       "      <td>0.027756</td>\n",
       "      <td>-1.999516</td>\n",
       "      <td>0.659380</td>\n",
       "    </tr>\n",
       "    <tr>\n",
       "      <th>C</th>\n",
       "      <td>-1.059889</td>\n",
       "      <td>-0.029373</td>\n",
       "      <td>0.075019</td>\n",
       "      <td>0.665225</td>\n",
       "      <td>-0.310198</td>\n",
       "      <td>1.079918</td>\n",
       "    </tr>\n",
       "    <tr>\n",
       "      <th>D</th>\n",
       "      <td>2.101796</td>\n",
       "      <td>1.011937</td>\n",
       "      <td>1.044665</td>\n",
       "      <td>-0.022415</td>\n",
       "      <td>-0.136117</td>\n",
       "      <td>-0.319106</td>\n",
       "    </tr>\n",
       "  </tbody>\n",
       "</table>\n",
       "</div>"
      ],
      "text/plain": [
       "   2019-08-15 00:00:00  2019-08-15 05:00:00  2019-08-15 10:00:00  \\\n",
       "A             1.895371            -0.625098             0.549361   \n",
       "B             0.690688            -1.248365             0.886143   \n",
       "C            -1.059889            -0.029373             0.075019   \n",
       "D             2.101796             1.011937             1.044665   \n",
       "\n",
       "   2019-08-15 15:00:00  2019-08-15 20:00:00  2019-08-16 01:00:00  \n",
       "A             1.645027             0.633535             1.826572  \n",
       "B             0.027756            -1.999516             0.659380  \n",
       "C             0.665225            -0.310198             1.079918  \n",
       "D            -0.022415            -0.136117            -0.319106  "
      ]
     },
     "execution_count": 33,
     "metadata": {},
     "output_type": "execute_result"
    }
   ],
   "source": [
    "df.T"
   ]
  },
  {
   "cell_type": "markdown",
   "metadata": {},
   "source": [
    "> sort by index, default axis=0 for index, 1 for column"
   ]
  },
  {
   "cell_type": "code",
   "execution_count": 34,
   "metadata": {},
   "outputs": [
    {
     "data": {
      "text/html": [
       "<div>\n",
       "<style scoped>\n",
       "    .dataframe tbody tr th:only-of-type {\n",
       "        vertical-align: middle;\n",
       "    }\n",
       "\n",
       "    .dataframe tbody tr th {\n",
       "        vertical-align: top;\n",
       "    }\n",
       "\n",
       "    .dataframe thead th {\n",
       "        text-align: right;\n",
       "    }\n",
       "</style>\n",
       "<table border=\"1\" class=\"dataframe\">\n",
       "  <thead>\n",
       "    <tr style=\"text-align: right;\">\n",
       "      <th></th>\n",
       "      <th>D</th>\n",
       "      <th>C</th>\n",
       "      <th>B</th>\n",
       "      <th>A</th>\n",
       "    </tr>\n",
       "  </thead>\n",
       "  <tbody>\n",
       "    <tr>\n",
       "      <th>2019-08-15 00:00:00</th>\n",
       "      <td>2.101796</td>\n",
       "      <td>-1.059889</td>\n",
       "      <td>0.690688</td>\n",
       "      <td>1.895371</td>\n",
       "    </tr>\n",
       "    <tr>\n",
       "      <th>2019-08-15 05:00:00</th>\n",
       "      <td>1.011937</td>\n",
       "      <td>-0.029373</td>\n",
       "      <td>-1.248365</td>\n",
       "      <td>-0.625098</td>\n",
       "    </tr>\n",
       "    <tr>\n",
       "      <th>2019-08-15 10:00:00</th>\n",
       "      <td>1.044665</td>\n",
       "      <td>0.075019</td>\n",
       "      <td>0.886143</td>\n",
       "      <td>0.549361</td>\n",
       "    </tr>\n",
       "    <tr>\n",
       "      <th>2019-08-15 15:00:00</th>\n",
       "      <td>-0.022415</td>\n",
       "      <td>0.665225</td>\n",
       "      <td>0.027756</td>\n",
       "      <td>1.645027</td>\n",
       "    </tr>\n",
       "    <tr>\n",
       "      <th>2019-08-15 20:00:00</th>\n",
       "      <td>-0.136117</td>\n",
       "      <td>-0.310198</td>\n",
       "      <td>-1.999516</td>\n",
       "      <td>0.633535</td>\n",
       "    </tr>\n",
       "    <tr>\n",
       "      <th>2019-08-16 01:00:00</th>\n",
       "      <td>-0.319106</td>\n",
       "      <td>1.079918</td>\n",
       "      <td>0.659380</td>\n",
       "      <td>1.826572</td>\n",
       "    </tr>\n",
       "  </tbody>\n",
       "</table>\n",
       "</div>"
      ],
      "text/plain": [
       "                            D         C         B         A\n",
       "2019-08-15 00:00:00  2.101796 -1.059889  0.690688  1.895371\n",
       "2019-08-15 05:00:00  1.011937 -0.029373 -1.248365 -0.625098\n",
       "2019-08-15 10:00:00  1.044665  0.075019  0.886143  0.549361\n",
       "2019-08-15 15:00:00 -0.022415  0.665225  0.027756  1.645027\n",
       "2019-08-15 20:00:00 -0.136117 -0.310198 -1.999516  0.633535\n",
       "2019-08-16 01:00:00 -0.319106  1.079918  0.659380  1.826572"
      ]
     },
     "execution_count": 34,
     "metadata": {},
     "output_type": "execute_result"
    }
   ],
   "source": [
    "df.sort_index(axis=1, ascending=0)"
   ]
  },
  {
   "cell_type": "markdown",
   "metadata": {},
   "source": [
    "> sort by column's value"
   ]
  },
  {
   "cell_type": "code",
   "execution_count": 35,
   "metadata": {},
   "outputs": [
    {
     "data": {
      "text/html": [
       "<div>\n",
       "<style scoped>\n",
       "    .dataframe tbody tr th:only-of-type {\n",
       "        vertical-align: middle;\n",
       "    }\n",
       "\n",
       "    .dataframe tbody tr th {\n",
       "        vertical-align: top;\n",
       "    }\n",
       "\n",
       "    .dataframe thead th {\n",
       "        text-align: right;\n",
       "    }\n",
       "</style>\n",
       "<table border=\"1\" class=\"dataframe\">\n",
       "  <thead>\n",
       "    <tr style=\"text-align: right;\">\n",
       "      <th></th>\n",
       "      <th>A</th>\n",
       "      <th>B</th>\n",
       "      <th>C</th>\n",
       "      <th>D</th>\n",
       "    </tr>\n",
       "  </thead>\n",
       "  <tbody>\n",
       "    <tr>\n",
       "      <th>2019-08-15 20:00:00</th>\n",
       "      <td>0.633535</td>\n",
       "      <td>-1.999516</td>\n",
       "      <td>-0.310198</td>\n",
       "      <td>-0.136117</td>\n",
       "    </tr>\n",
       "    <tr>\n",
       "      <th>2019-08-15 05:00:00</th>\n",
       "      <td>-0.625098</td>\n",
       "      <td>-1.248365</td>\n",
       "      <td>-0.029373</td>\n",
       "      <td>1.011937</td>\n",
       "    </tr>\n",
       "    <tr>\n",
       "      <th>2019-08-15 15:00:00</th>\n",
       "      <td>1.645027</td>\n",
       "      <td>0.027756</td>\n",
       "      <td>0.665225</td>\n",
       "      <td>-0.022415</td>\n",
       "    </tr>\n",
       "    <tr>\n",
       "      <th>2019-08-16 01:00:00</th>\n",
       "      <td>1.826572</td>\n",
       "      <td>0.659380</td>\n",
       "      <td>1.079918</td>\n",
       "      <td>-0.319106</td>\n",
       "    </tr>\n",
       "    <tr>\n",
       "      <th>2019-08-15 00:00:00</th>\n",
       "      <td>1.895371</td>\n",
       "      <td>0.690688</td>\n",
       "      <td>-1.059889</td>\n",
       "      <td>2.101796</td>\n",
       "    </tr>\n",
       "    <tr>\n",
       "      <th>2019-08-15 10:00:00</th>\n",
       "      <td>0.549361</td>\n",
       "      <td>0.886143</td>\n",
       "      <td>0.075019</td>\n",
       "      <td>1.044665</td>\n",
       "    </tr>\n",
       "  </tbody>\n",
       "</table>\n",
       "</div>"
      ],
      "text/plain": [
       "                            A         B         C         D\n",
       "2019-08-15 20:00:00  0.633535 -1.999516 -0.310198 -0.136117\n",
       "2019-08-15 05:00:00 -0.625098 -1.248365 -0.029373  1.011937\n",
       "2019-08-15 15:00:00  1.645027  0.027756  0.665225 -0.022415\n",
       "2019-08-16 01:00:00  1.826572  0.659380  1.079918 -0.319106\n",
       "2019-08-15 00:00:00  1.895371  0.690688 -1.059889  2.101796\n",
       "2019-08-15 10:00:00  0.549361  0.886143  0.075019  1.044665"
      ]
     },
     "execution_count": 35,
     "metadata": {},
     "output_type": "execute_result"
    }
   ],
   "source": [
    "df.sort_values(by='B')"
   ]
  },
  {
   "cell_type": "markdown",
   "metadata": {},
   "source": [
    "# selection"
   ]
  },
  {
   "cell_type": "code",
   "execution_count": 36,
   "metadata": {},
   "outputs": [
    {
     "data": {
      "text/plain": [
       "2019-08-15 00:00:00    1.895371\n",
       "2019-08-15 05:00:00   -0.625098\n",
       "2019-08-15 10:00:00    0.549361\n",
       "2019-08-15 15:00:00    1.645027\n",
       "2019-08-15 20:00:00    0.633535\n",
       "2019-08-16 01:00:00    1.826572\n",
       "Freq: 5H, Name: A, dtype: float64"
      ]
     },
     "execution_count": 36,
     "metadata": {},
     "output_type": "execute_result"
    }
   ],
   "source": [
    "df['A']"
   ]
  },
  {
   "cell_type": "code",
   "execution_count": 37,
   "metadata": {},
   "outputs": [
    {
     "data": {
      "text/plain": [
       "2019-08-15 00:00:00    1.895371\n",
       "2019-08-15 05:00:00   -0.625098\n",
       "2019-08-15 10:00:00    0.549361\n",
       "2019-08-15 15:00:00    1.645027\n",
       "2019-08-15 20:00:00    0.633535\n",
       "2019-08-16 01:00:00    1.826572\n",
       "Freq: 5H, Name: A, dtype: float64"
      ]
     },
     "execution_count": 37,
     "metadata": {},
     "output_type": "execute_result"
    }
   ],
   "source": [
    "df.A"
   ]
  },
  {
   "cell_type": "code",
   "execution_count": 38,
   "metadata": {},
   "outputs": [
    {
     "data": {
      "text/html": [
       "<div>\n",
       "<style scoped>\n",
       "    .dataframe tbody tr th:only-of-type {\n",
       "        vertical-align: middle;\n",
       "    }\n",
       "\n",
       "    .dataframe tbody tr th {\n",
       "        vertical-align: top;\n",
       "    }\n",
       "\n",
       "    .dataframe thead th {\n",
       "        text-align: right;\n",
       "    }\n",
       "</style>\n",
       "<table border=\"1\" class=\"dataframe\">\n",
       "  <thead>\n",
       "    <tr style=\"text-align: right;\">\n",
       "      <th></th>\n",
       "      <th>A</th>\n",
       "      <th>B</th>\n",
       "      <th>C</th>\n",
       "      <th>D</th>\n",
       "    </tr>\n",
       "  </thead>\n",
       "  <tbody>\n",
       "    <tr>\n",
       "      <th>2019-08-15 00:00:00</th>\n",
       "      <td>1.895371</td>\n",
       "      <td>0.690688</td>\n",
       "      <td>-1.059889</td>\n",
       "      <td>2.101796</td>\n",
       "    </tr>\n",
       "    <tr>\n",
       "      <th>2019-08-15 05:00:00</th>\n",
       "      <td>-0.625098</td>\n",
       "      <td>-1.248365</td>\n",
       "      <td>-0.029373</td>\n",
       "      <td>1.011937</td>\n",
       "    </tr>\n",
       "    <tr>\n",
       "      <th>2019-08-15 10:00:00</th>\n",
       "      <td>0.549361</td>\n",
       "      <td>0.886143</td>\n",
       "      <td>0.075019</td>\n",
       "      <td>1.044665</td>\n",
       "    </tr>\n",
       "  </tbody>\n",
       "</table>\n",
       "</div>"
      ],
      "text/plain": [
       "                            A         B         C         D\n",
       "2019-08-15 00:00:00  1.895371  0.690688 -1.059889  2.101796\n",
       "2019-08-15 05:00:00 -0.625098 -1.248365 -0.029373  1.011937\n",
       "2019-08-15 10:00:00  0.549361  0.886143  0.075019  1.044665"
      ]
     },
     "execution_count": 38,
     "metadata": {},
     "output_type": "execute_result"
    }
   ],
   "source": [
    "df[:3]"
   ]
  },
  {
   "cell_type": "markdown",
   "metadata": {},
   "source": [
    "## select by label"
   ]
  },
  {
   "cell_type": "code",
   "execution_count": 39,
   "metadata": {},
   "outputs": [
    {
     "data": {
      "text/html": [
       "<div>\n",
       "<style scoped>\n",
       "    .dataframe tbody tr th:only-of-type {\n",
       "        vertical-align: middle;\n",
       "    }\n",
       "\n",
       "    .dataframe tbody tr th {\n",
       "        vertical-align: top;\n",
       "    }\n",
       "\n",
       "    .dataframe thead th {\n",
       "        text-align: right;\n",
       "    }\n",
       "</style>\n",
       "<table border=\"1\" class=\"dataframe\">\n",
       "  <thead>\n",
       "    <tr style=\"text-align: right;\">\n",
       "      <th></th>\n",
       "      <th>A</th>\n",
       "      <th>B</th>\n",
       "      <th>C</th>\n",
       "      <th>D</th>\n",
       "    </tr>\n",
       "  </thead>\n",
       "  <tbody>\n",
       "    <tr>\n",
       "      <th>2019-08-15 00:00:00</th>\n",
       "      <td>1.895371</td>\n",
       "      <td>0.690688</td>\n",
       "      <td>-1.059889</td>\n",
       "      <td>2.101796</td>\n",
       "    </tr>\n",
       "    <tr>\n",
       "      <th>2019-08-15 05:00:00</th>\n",
       "      <td>-0.625098</td>\n",
       "      <td>-1.248365</td>\n",
       "      <td>-0.029373</td>\n",
       "      <td>1.011937</td>\n",
       "    </tr>\n",
       "    <tr>\n",
       "      <th>2019-08-15 10:00:00</th>\n",
       "      <td>0.549361</td>\n",
       "      <td>0.886143</td>\n",
       "      <td>0.075019</td>\n",
       "      <td>1.044665</td>\n",
       "    </tr>\n",
       "    <tr>\n",
       "      <th>2019-08-15 15:00:00</th>\n",
       "      <td>1.645027</td>\n",
       "      <td>0.027756</td>\n",
       "      <td>0.665225</td>\n",
       "      <td>-0.022415</td>\n",
       "    </tr>\n",
       "    <tr>\n",
       "      <th>2019-08-15 20:00:00</th>\n",
       "      <td>0.633535</td>\n",
       "      <td>-1.999516</td>\n",
       "      <td>-0.310198</td>\n",
       "      <td>-0.136117</td>\n",
       "    </tr>\n",
       "    <tr>\n",
       "      <th>2019-08-16 01:00:00</th>\n",
       "      <td>1.826572</td>\n",
       "      <td>0.659380</td>\n",
       "      <td>1.079918</td>\n",
       "      <td>-0.319106</td>\n",
       "    </tr>\n",
       "  </tbody>\n",
       "</table>\n",
       "</div>"
      ],
      "text/plain": [
       "                            A         B         C         D\n",
       "2019-08-15 00:00:00  1.895371  0.690688 -1.059889  2.101796\n",
       "2019-08-15 05:00:00 -0.625098 -1.248365 -0.029373  1.011937\n",
       "2019-08-15 10:00:00  0.549361  0.886143  0.075019  1.044665\n",
       "2019-08-15 15:00:00  1.645027  0.027756  0.665225 -0.022415\n",
       "2019-08-15 20:00:00  0.633535 -1.999516 -0.310198 -0.136117\n",
       "2019-08-16 01:00:00  1.826572  0.659380  1.079918 -0.319106"
      ]
     },
     "execution_count": 39,
     "metadata": {},
     "output_type": "execute_result"
    }
   ],
   "source": [
    "df"
   ]
  },
  {
   "cell_type": "code",
   "execution_count": 40,
   "metadata": {},
   "outputs": [
    {
     "data": {
      "text/plain": [
       "A    1.895371\n",
       "B    0.690688\n",
       "C   -1.059889\n",
       "D    2.101796\n",
       "Name: 2019-08-15 00:00:00, dtype: float64"
      ]
     },
     "execution_count": 40,
     "metadata": {},
     "output_type": "execute_result"
    }
   ],
   "source": [
    "df.loc[dates[0]]"
   ]
  },
  {
   "cell_type": "code",
   "execution_count": 41,
   "metadata": {},
   "outputs": [
    {
     "data": {
      "text/html": [
       "<div>\n",
       "<style scoped>\n",
       "    .dataframe tbody tr th:only-of-type {\n",
       "        vertical-align: middle;\n",
       "    }\n",
       "\n",
       "    .dataframe tbody tr th {\n",
       "        vertical-align: top;\n",
       "    }\n",
       "\n",
       "    .dataframe thead th {\n",
       "        text-align: right;\n",
       "    }\n",
       "</style>\n",
       "<table border=\"1\" class=\"dataframe\">\n",
       "  <thead>\n",
       "    <tr style=\"text-align: right;\">\n",
       "      <th></th>\n",
       "      <th>A</th>\n",
       "      <th>B</th>\n",
       "    </tr>\n",
       "  </thead>\n",
       "  <tbody>\n",
       "    <tr>\n",
       "      <th>2019-08-15 00:00:00</th>\n",
       "      <td>1.895371</td>\n",
       "      <td>0.690688</td>\n",
       "    </tr>\n",
       "    <tr>\n",
       "      <th>2019-08-15 05:00:00</th>\n",
       "      <td>-0.625098</td>\n",
       "      <td>-1.248365</td>\n",
       "    </tr>\n",
       "    <tr>\n",
       "      <th>2019-08-15 10:00:00</th>\n",
       "      <td>0.549361</td>\n",
       "      <td>0.886143</td>\n",
       "    </tr>\n",
       "    <tr>\n",
       "      <th>2019-08-15 15:00:00</th>\n",
       "      <td>1.645027</td>\n",
       "      <td>0.027756</td>\n",
       "    </tr>\n",
       "    <tr>\n",
       "      <th>2019-08-15 20:00:00</th>\n",
       "      <td>0.633535</td>\n",
       "      <td>-1.999516</td>\n",
       "    </tr>\n",
       "    <tr>\n",
       "      <th>2019-08-16 01:00:00</th>\n",
       "      <td>1.826572</td>\n",
       "      <td>0.659380</td>\n",
       "    </tr>\n",
       "  </tbody>\n",
       "</table>\n",
       "</div>"
      ],
      "text/plain": [
       "                            A         B\n",
       "2019-08-15 00:00:00  1.895371  0.690688\n",
       "2019-08-15 05:00:00 -0.625098 -1.248365\n",
       "2019-08-15 10:00:00  0.549361  0.886143\n",
       "2019-08-15 15:00:00  1.645027  0.027756\n",
       "2019-08-15 20:00:00  0.633535 -1.999516\n",
       "2019-08-16 01:00:00  1.826572  0.659380"
      ]
     },
     "execution_count": 41,
     "metadata": {},
     "output_type": "execute_result"
    }
   ],
   "source": [
    "df.loc[:, ['A','B']]"
   ]
  },
  {
   "cell_type": "code",
   "execution_count": 42,
   "metadata": {},
   "outputs": [
    {
     "data": {
      "text/html": [
       "<div>\n",
       "<style scoped>\n",
       "    .dataframe tbody tr th:only-of-type {\n",
       "        vertical-align: middle;\n",
       "    }\n",
       "\n",
       "    .dataframe tbody tr th {\n",
       "        vertical-align: top;\n",
       "    }\n",
       "\n",
       "    .dataframe thead th {\n",
       "        text-align: right;\n",
       "    }\n",
       "</style>\n",
       "<table border=\"1\" class=\"dataframe\">\n",
       "  <thead>\n",
       "    <tr style=\"text-align: right;\">\n",
       "      <th></th>\n",
       "      <th>A</th>\n",
       "      <th>B</th>\n",
       "      <th>C</th>\n",
       "    </tr>\n",
       "  </thead>\n",
       "  <tbody>\n",
       "    <tr>\n",
       "      <th>2019-08-15 00:00:00</th>\n",
       "      <td>1.895371</td>\n",
       "      <td>0.690688</td>\n",
       "      <td>-1.059889</td>\n",
       "    </tr>\n",
       "    <tr>\n",
       "      <th>2019-08-15 05:00:00</th>\n",
       "      <td>-0.625098</td>\n",
       "      <td>-1.248365</td>\n",
       "      <td>-0.029373</td>\n",
       "    </tr>\n",
       "    <tr>\n",
       "      <th>2019-08-15 10:00:00</th>\n",
       "      <td>0.549361</td>\n",
       "      <td>0.886143</td>\n",
       "      <td>0.075019</td>\n",
       "    </tr>\n",
       "  </tbody>\n",
       "</table>\n",
       "</div>"
      ],
      "text/plain": [
       "                            A         B         C\n",
       "2019-08-15 00:00:00  1.895371  0.690688 -1.059889\n",
       "2019-08-15 05:00:00 -0.625098 -1.248365 -0.029373\n",
       "2019-08-15 10:00:00  0.549361  0.886143  0.075019"
      ]
     },
     "execution_count": 42,
     "metadata": {},
     "output_type": "execute_result"
    }
   ],
   "source": [
    "df.loc['2019-08-15 00:00:00':'2019-08-15 10:00:00',['A','B','C']]"
   ]
  },
  {
   "cell_type": "code",
   "execution_count": 43,
   "metadata": {},
   "outputs": [
    {
     "data": {
      "text/plain": [
       "1.895371151753973"
      ]
     },
     "execution_count": 43,
     "metadata": {},
     "output_type": "execute_result"
    }
   ],
   "source": [
    "df.loc[dates[0],'A']"
   ]
  },
  {
   "cell_type": "markdown",
   "metadata": {},
   "source": [
    "## select by position[recomand]"
   ]
  },
  {
   "cell_type": "code",
   "execution_count": 44,
   "metadata": {},
   "outputs": [
    {
     "data": {
      "text/html": [
       "<div>\n",
       "<style scoped>\n",
       "    .dataframe tbody tr th:only-of-type {\n",
       "        vertical-align: middle;\n",
       "    }\n",
       "\n",
       "    .dataframe tbody tr th {\n",
       "        vertical-align: top;\n",
       "    }\n",
       "\n",
       "    .dataframe thead th {\n",
       "        text-align: right;\n",
       "    }\n",
       "</style>\n",
       "<table border=\"1\" class=\"dataframe\">\n",
       "  <thead>\n",
       "    <tr style=\"text-align: right;\">\n",
       "      <th></th>\n",
       "      <th>A</th>\n",
       "      <th>B</th>\n",
       "      <th>C</th>\n",
       "      <th>D</th>\n",
       "    </tr>\n",
       "  </thead>\n",
       "  <tbody>\n",
       "    <tr>\n",
       "      <th>2019-08-15 00:00:00</th>\n",
       "      <td>1.895371</td>\n",
       "      <td>0.690688</td>\n",
       "      <td>-1.059889</td>\n",
       "      <td>2.101796</td>\n",
       "    </tr>\n",
       "    <tr>\n",
       "      <th>2019-08-15 05:00:00</th>\n",
       "      <td>-0.625098</td>\n",
       "      <td>-1.248365</td>\n",
       "      <td>-0.029373</td>\n",
       "      <td>1.011937</td>\n",
       "    </tr>\n",
       "    <tr>\n",
       "      <th>2019-08-15 10:00:00</th>\n",
       "      <td>0.549361</td>\n",
       "      <td>0.886143</td>\n",
       "      <td>0.075019</td>\n",
       "      <td>1.044665</td>\n",
       "    </tr>\n",
       "    <tr>\n",
       "      <th>2019-08-15 15:00:00</th>\n",
       "      <td>1.645027</td>\n",
       "      <td>0.027756</td>\n",
       "      <td>0.665225</td>\n",
       "      <td>-0.022415</td>\n",
       "    </tr>\n",
       "    <tr>\n",
       "      <th>2019-08-15 20:00:00</th>\n",
       "      <td>0.633535</td>\n",
       "      <td>-1.999516</td>\n",
       "      <td>-0.310198</td>\n",
       "      <td>-0.136117</td>\n",
       "    </tr>\n",
       "    <tr>\n",
       "      <th>2019-08-16 01:00:00</th>\n",
       "      <td>1.826572</td>\n",
       "      <td>0.659380</td>\n",
       "      <td>1.079918</td>\n",
       "      <td>-0.319106</td>\n",
       "    </tr>\n",
       "  </tbody>\n",
       "</table>\n",
       "</div>"
      ],
      "text/plain": [
       "                            A         B         C         D\n",
       "2019-08-15 00:00:00  1.895371  0.690688 -1.059889  2.101796\n",
       "2019-08-15 05:00:00 -0.625098 -1.248365 -0.029373  1.011937\n",
       "2019-08-15 10:00:00  0.549361  0.886143  0.075019  1.044665\n",
       "2019-08-15 15:00:00  1.645027  0.027756  0.665225 -0.022415\n",
       "2019-08-15 20:00:00  0.633535 -1.999516 -0.310198 -0.136117\n",
       "2019-08-16 01:00:00  1.826572  0.659380  1.079918 -0.319106"
      ]
     },
     "execution_count": 44,
     "metadata": {},
     "output_type": "execute_result"
    }
   ],
   "source": [
    "df"
   ]
  },
  {
   "cell_type": "code",
   "execution_count": 45,
   "metadata": {},
   "outputs": [
    {
     "data": {
      "text/plain": [
       "A    1.645027\n",
       "B    0.027756\n",
       "C    0.665225\n",
       "D   -0.022415\n",
       "Name: 2019-08-15 15:00:00, dtype: float64"
      ]
     },
     "execution_count": 45,
     "metadata": {},
     "output_type": "execute_result"
    }
   ],
   "source": [
    "df.iloc[3]"
   ]
  },
  {
   "cell_type": "code",
   "execution_count": 46,
   "metadata": {},
   "outputs": [
    {
     "data": {
      "text/html": [
       "<div>\n",
       "<style scoped>\n",
       "    .dataframe tbody tr th:only-of-type {\n",
       "        vertical-align: middle;\n",
       "    }\n",
       "\n",
       "    .dataframe tbody tr th {\n",
       "        vertical-align: top;\n",
       "    }\n",
       "\n",
       "    .dataframe thead th {\n",
       "        text-align: right;\n",
       "    }\n",
       "</style>\n",
       "<table border=\"1\" class=\"dataframe\">\n",
       "  <thead>\n",
       "    <tr style=\"text-align: right;\">\n",
       "      <th></th>\n",
       "      <th>A</th>\n",
       "      <th>B</th>\n",
       "    </tr>\n",
       "  </thead>\n",
       "  <tbody>\n",
       "    <tr>\n",
       "      <th>2019-08-15 00:00:00</th>\n",
       "      <td>1.895371</td>\n",
       "      <td>0.690688</td>\n",
       "    </tr>\n",
       "    <tr>\n",
       "      <th>2019-08-15 05:00:00</th>\n",
       "      <td>-0.625098</td>\n",
       "      <td>-1.248365</td>\n",
       "    </tr>\n",
       "    <tr>\n",
       "      <th>2019-08-15 10:00:00</th>\n",
       "      <td>0.549361</td>\n",
       "      <td>0.886143</td>\n",
       "    </tr>\n",
       "    <tr>\n",
       "      <th>2019-08-15 15:00:00</th>\n",
       "      <td>1.645027</td>\n",
       "      <td>0.027756</td>\n",
       "    </tr>\n",
       "  </tbody>\n",
       "</table>\n",
       "</div>"
      ],
      "text/plain": [
       "                            A         B\n",
       "2019-08-15 00:00:00  1.895371  0.690688\n",
       "2019-08-15 05:00:00 -0.625098 -1.248365\n",
       "2019-08-15 10:00:00  0.549361  0.886143\n",
       "2019-08-15 15:00:00  1.645027  0.027756"
      ]
     },
     "execution_count": 46,
     "metadata": {},
     "output_type": "execute_result"
    }
   ],
   "source": [
    "df.iloc[:4,:2]"
   ]
  },
  {
   "cell_type": "code",
   "execution_count": 47,
   "metadata": {},
   "outputs": [
    {
     "data": {
      "text/plain": [
       "-1.2483648970956565"
      ]
     },
     "execution_count": 47,
     "metadata": {},
     "output_type": "execute_result"
    }
   ],
   "source": [
    "df.iloc[1,1]"
   ]
  },
  {
   "cell_type": "code",
   "execution_count": 48,
   "metadata": {},
   "outputs": [
    {
     "data": {
      "text/plain": [
       "-1.2483648970956565"
      ]
     },
     "execution_count": 48,
     "metadata": {},
     "output_type": "execute_result"
    }
   ],
   "source": [
    "df.iat[1,1]"
   ]
  },
  {
   "cell_type": "markdown",
   "metadata": {},
   "source": [
    "## Boolean indexing"
   ]
  },
  {
   "cell_type": "code",
   "execution_count": 49,
   "metadata": {},
   "outputs": [
    {
     "data": {
      "text/html": [
       "<div>\n",
       "<style scoped>\n",
       "    .dataframe tbody tr th:only-of-type {\n",
       "        vertical-align: middle;\n",
       "    }\n",
       "\n",
       "    .dataframe tbody tr th {\n",
       "        vertical-align: top;\n",
       "    }\n",
       "\n",
       "    .dataframe thead th {\n",
       "        text-align: right;\n",
       "    }\n",
       "</style>\n",
       "<table border=\"1\" class=\"dataframe\">\n",
       "  <thead>\n",
       "    <tr style=\"text-align: right;\">\n",
       "      <th></th>\n",
       "      <th>A</th>\n",
       "      <th>B</th>\n",
       "      <th>C</th>\n",
       "      <th>D</th>\n",
       "    </tr>\n",
       "  </thead>\n",
       "  <tbody>\n",
       "    <tr>\n",
       "      <th>2019-08-15 00:00:00</th>\n",
       "      <td>1.895371</td>\n",
       "      <td>0.690688</td>\n",
       "      <td>-1.059889</td>\n",
       "      <td>2.101796</td>\n",
       "    </tr>\n",
       "    <tr>\n",
       "      <th>2019-08-15 10:00:00</th>\n",
       "      <td>0.549361</td>\n",
       "      <td>0.886143</td>\n",
       "      <td>0.075019</td>\n",
       "      <td>1.044665</td>\n",
       "    </tr>\n",
       "    <tr>\n",
       "      <th>2019-08-15 15:00:00</th>\n",
       "      <td>1.645027</td>\n",
       "      <td>0.027756</td>\n",
       "      <td>0.665225</td>\n",
       "      <td>-0.022415</td>\n",
       "    </tr>\n",
       "    <tr>\n",
       "      <th>2019-08-15 20:00:00</th>\n",
       "      <td>0.633535</td>\n",
       "      <td>-1.999516</td>\n",
       "      <td>-0.310198</td>\n",
       "      <td>-0.136117</td>\n",
       "    </tr>\n",
       "    <tr>\n",
       "      <th>2019-08-16 01:00:00</th>\n",
       "      <td>1.826572</td>\n",
       "      <td>0.659380</td>\n",
       "      <td>1.079918</td>\n",
       "      <td>-0.319106</td>\n",
       "    </tr>\n",
       "  </tbody>\n",
       "</table>\n",
       "</div>"
      ],
      "text/plain": [
       "                            A         B         C         D\n",
       "2019-08-15 00:00:00  1.895371  0.690688 -1.059889  2.101796\n",
       "2019-08-15 10:00:00  0.549361  0.886143  0.075019  1.044665\n",
       "2019-08-15 15:00:00  1.645027  0.027756  0.665225 -0.022415\n",
       "2019-08-15 20:00:00  0.633535 -1.999516 -0.310198 -0.136117\n",
       "2019-08-16 01:00:00  1.826572  0.659380  1.079918 -0.319106"
      ]
     },
     "execution_count": 49,
     "metadata": {},
     "output_type": "execute_result"
    }
   ],
   "source": [
    "df[df.A > 0]"
   ]
  },
  {
   "cell_type": "code",
   "execution_count": 50,
   "metadata": {},
   "outputs": [
    {
     "data": {
      "text/html": [
       "<div>\n",
       "<style scoped>\n",
       "    .dataframe tbody tr th:only-of-type {\n",
       "        vertical-align: middle;\n",
       "    }\n",
       "\n",
       "    .dataframe tbody tr th {\n",
       "        vertical-align: top;\n",
       "    }\n",
       "\n",
       "    .dataframe thead th {\n",
       "        text-align: right;\n",
       "    }\n",
       "</style>\n",
       "<table border=\"1\" class=\"dataframe\">\n",
       "  <thead>\n",
       "    <tr style=\"text-align: right;\">\n",
       "      <th></th>\n",
       "      <th>A</th>\n",
       "      <th>B</th>\n",
       "      <th>C</th>\n",
       "      <th>D</th>\n",
       "    </tr>\n",
       "  </thead>\n",
       "  <tbody>\n",
       "    <tr>\n",
       "      <th>2019-08-15 00:00:00</th>\n",
       "      <td>1.895371</td>\n",
       "      <td>0.690688</td>\n",
       "      <td>NaN</td>\n",
       "      <td>2.101796</td>\n",
       "    </tr>\n",
       "    <tr>\n",
       "      <th>2019-08-15 05:00:00</th>\n",
       "      <td>NaN</td>\n",
       "      <td>NaN</td>\n",
       "      <td>NaN</td>\n",
       "      <td>1.011937</td>\n",
       "    </tr>\n",
       "    <tr>\n",
       "      <th>2019-08-15 10:00:00</th>\n",
       "      <td>0.549361</td>\n",
       "      <td>0.886143</td>\n",
       "      <td>0.075019</td>\n",
       "      <td>1.044665</td>\n",
       "    </tr>\n",
       "    <tr>\n",
       "      <th>2019-08-15 15:00:00</th>\n",
       "      <td>1.645027</td>\n",
       "      <td>0.027756</td>\n",
       "      <td>0.665225</td>\n",
       "      <td>NaN</td>\n",
       "    </tr>\n",
       "    <tr>\n",
       "      <th>2019-08-15 20:00:00</th>\n",
       "      <td>0.633535</td>\n",
       "      <td>NaN</td>\n",
       "      <td>NaN</td>\n",
       "      <td>NaN</td>\n",
       "    </tr>\n",
       "    <tr>\n",
       "      <th>2019-08-16 01:00:00</th>\n",
       "      <td>1.826572</td>\n",
       "      <td>0.659380</td>\n",
       "      <td>1.079918</td>\n",
       "      <td>NaN</td>\n",
       "    </tr>\n",
       "  </tbody>\n",
       "</table>\n",
       "</div>"
      ],
      "text/plain": [
       "                            A         B         C         D\n",
       "2019-08-15 00:00:00  1.895371  0.690688       NaN  2.101796\n",
       "2019-08-15 05:00:00       NaN       NaN       NaN  1.011937\n",
       "2019-08-15 10:00:00  0.549361  0.886143  0.075019  1.044665\n",
       "2019-08-15 15:00:00  1.645027  0.027756  0.665225       NaN\n",
       "2019-08-15 20:00:00  0.633535       NaN       NaN       NaN\n",
       "2019-08-16 01:00:00  1.826572  0.659380  1.079918       NaN"
      ]
     },
     "execution_count": 50,
     "metadata": {},
     "output_type": "execute_result"
    }
   ],
   "source": [
    "df[df>0]"
   ]
  },
  {
   "cell_type": "code",
   "execution_count": 51,
   "metadata": {},
   "outputs": [],
   "source": [
    "df2 = df.copy()"
   ]
  },
  {
   "cell_type": "code",
   "execution_count": 52,
   "metadata": {},
   "outputs": [],
   "source": [
    "df2['E'] = ['one', 'one', 'two', 'three', 'four', 'three']"
   ]
  },
  {
   "cell_type": "code",
   "execution_count": 53,
   "metadata": {},
   "outputs": [
    {
     "data": {
      "text/html": [
       "<div>\n",
       "<style scoped>\n",
       "    .dataframe tbody tr th:only-of-type {\n",
       "        vertical-align: middle;\n",
       "    }\n",
       "\n",
       "    .dataframe tbody tr th {\n",
       "        vertical-align: top;\n",
       "    }\n",
       "\n",
       "    .dataframe thead th {\n",
       "        text-align: right;\n",
       "    }\n",
       "</style>\n",
       "<table border=\"1\" class=\"dataframe\">\n",
       "  <thead>\n",
       "    <tr style=\"text-align: right;\">\n",
       "      <th></th>\n",
       "      <th>A</th>\n",
       "      <th>B</th>\n",
       "      <th>C</th>\n",
       "      <th>D</th>\n",
       "      <th>E</th>\n",
       "    </tr>\n",
       "  </thead>\n",
       "  <tbody>\n",
       "    <tr>\n",
       "      <th>2019-08-15 00:00:00</th>\n",
       "      <td>1.895371</td>\n",
       "      <td>0.690688</td>\n",
       "      <td>-1.059889</td>\n",
       "      <td>2.101796</td>\n",
       "      <td>one</td>\n",
       "    </tr>\n",
       "    <tr>\n",
       "      <th>2019-08-15 05:00:00</th>\n",
       "      <td>-0.625098</td>\n",
       "      <td>-1.248365</td>\n",
       "      <td>-0.029373</td>\n",
       "      <td>1.011937</td>\n",
       "      <td>one</td>\n",
       "    </tr>\n",
       "    <tr>\n",
       "      <th>2019-08-15 10:00:00</th>\n",
       "      <td>0.549361</td>\n",
       "      <td>0.886143</td>\n",
       "      <td>0.075019</td>\n",
       "      <td>1.044665</td>\n",
       "      <td>two</td>\n",
       "    </tr>\n",
       "    <tr>\n",
       "      <th>2019-08-15 15:00:00</th>\n",
       "      <td>1.645027</td>\n",
       "      <td>0.027756</td>\n",
       "      <td>0.665225</td>\n",
       "      <td>-0.022415</td>\n",
       "      <td>three</td>\n",
       "    </tr>\n",
       "    <tr>\n",
       "      <th>2019-08-15 20:00:00</th>\n",
       "      <td>0.633535</td>\n",
       "      <td>-1.999516</td>\n",
       "      <td>-0.310198</td>\n",
       "      <td>-0.136117</td>\n",
       "      <td>four</td>\n",
       "    </tr>\n",
       "    <tr>\n",
       "      <th>2019-08-16 01:00:00</th>\n",
       "      <td>1.826572</td>\n",
       "      <td>0.659380</td>\n",
       "      <td>1.079918</td>\n",
       "      <td>-0.319106</td>\n",
       "      <td>three</td>\n",
       "    </tr>\n",
       "  </tbody>\n",
       "</table>\n",
       "</div>"
      ],
      "text/plain": [
       "                            A         B         C         D      E\n",
       "2019-08-15 00:00:00  1.895371  0.690688 -1.059889  2.101796    one\n",
       "2019-08-15 05:00:00 -0.625098 -1.248365 -0.029373  1.011937    one\n",
       "2019-08-15 10:00:00  0.549361  0.886143  0.075019  1.044665    two\n",
       "2019-08-15 15:00:00  1.645027  0.027756  0.665225 -0.022415  three\n",
       "2019-08-15 20:00:00  0.633535 -1.999516 -0.310198 -0.136117   four\n",
       "2019-08-16 01:00:00  1.826572  0.659380  1.079918 -0.319106  three"
      ]
     },
     "execution_count": 53,
     "metadata": {},
     "output_type": "execute_result"
    }
   ],
   "source": [
    "df2"
   ]
  },
  {
   "cell_type": "code",
   "execution_count": 54,
   "metadata": {},
   "outputs": [
    {
     "data": {
      "text/html": [
       "<div>\n",
       "<style scoped>\n",
       "    .dataframe tbody tr th:only-of-type {\n",
       "        vertical-align: middle;\n",
       "    }\n",
       "\n",
       "    .dataframe tbody tr th {\n",
       "        vertical-align: top;\n",
       "    }\n",
       "\n",
       "    .dataframe thead th {\n",
       "        text-align: right;\n",
       "    }\n",
       "</style>\n",
       "<table border=\"1\" class=\"dataframe\">\n",
       "  <thead>\n",
       "    <tr style=\"text-align: right;\">\n",
       "      <th></th>\n",
       "      <th>A</th>\n",
       "      <th>B</th>\n",
       "      <th>C</th>\n",
       "      <th>D</th>\n",
       "      <th>E</th>\n",
       "    </tr>\n",
       "  </thead>\n",
       "  <tbody>\n",
       "    <tr>\n",
       "      <th>2019-08-15 10:00:00</th>\n",
       "      <td>0.549361</td>\n",
       "      <td>0.886143</td>\n",
       "      <td>0.075019</td>\n",
       "      <td>1.044665</td>\n",
       "      <td>two</td>\n",
       "    </tr>\n",
       "    <tr>\n",
       "      <th>2019-08-15 20:00:00</th>\n",
       "      <td>0.633535</td>\n",
       "      <td>-1.999516</td>\n",
       "      <td>-0.310198</td>\n",
       "      <td>-0.136117</td>\n",
       "      <td>four</td>\n",
       "    </tr>\n",
       "  </tbody>\n",
       "</table>\n",
       "</div>"
      ],
      "text/plain": [
       "                            A         B         C         D     E\n",
       "2019-08-15 10:00:00  0.549361  0.886143  0.075019  1.044665   two\n",
       "2019-08-15 20:00:00  0.633535 -1.999516 -0.310198 -0.136117  four"
      ]
     },
     "execution_count": 54,
     "metadata": {},
     "output_type": "execute_result"
    }
   ],
   "source": [
    "df2[df2.E.isin(['two', 'four'])]"
   ]
  },
  {
   "cell_type": "markdown",
   "metadata": {},
   "source": [
    "## setting"
   ]
  },
  {
   "cell_type": "code",
   "execution_count": 65,
   "metadata": {},
   "outputs": [
    {
     "data": {
      "text/plain": [
       "2019-08-15 00:00:00    1\n",
       "2019-08-15 05:00:00    2\n",
       "2019-08-15 10:00:00    3\n",
       "2019-08-15 15:00:00    4\n",
       "2019-08-15 20:00:00    5\n",
       "2019-08-16 01:00:00    6\n",
       "Freq: 5H, dtype: int64"
      ]
     },
     "execution_count": 65,
     "metadata": {},
     "output_type": "execute_result"
    }
   ],
   "source": [
    "s1 = pd.Series(list(range(1,7)), index=pd.date_range('20190815', periods=6, freq='5h'))\n",
    "s1"
   ]
  },
  {
   "cell_type": "code",
   "execution_count": 66,
   "metadata": {},
   "outputs": [],
   "source": [
    "df['F'] = s1"
   ]
  },
  {
   "cell_type": "code",
   "execution_count": 67,
   "metadata": {},
   "outputs": [
    {
     "data": {
      "text/html": [
       "<div>\n",
       "<style scoped>\n",
       "    .dataframe tbody tr th:only-of-type {\n",
       "        vertical-align: middle;\n",
       "    }\n",
       "\n",
       "    .dataframe tbody tr th {\n",
       "        vertical-align: top;\n",
       "    }\n",
       "\n",
       "    .dataframe thead th {\n",
       "        text-align: right;\n",
       "    }\n",
       "</style>\n",
       "<table border=\"1\" class=\"dataframe\">\n",
       "  <thead>\n",
       "    <tr style=\"text-align: right;\">\n",
       "      <th></th>\n",
       "      <th>A</th>\n",
       "      <th>B</th>\n",
       "      <th>C</th>\n",
       "      <th>D</th>\n",
       "      <th>F</th>\n",
       "    </tr>\n",
       "  </thead>\n",
       "  <tbody>\n",
       "    <tr>\n",
       "      <th>2019-08-15 00:00:00</th>\n",
       "      <td>0.000000</td>\n",
       "      <td>0.000000</td>\n",
       "      <td>0.000000</td>\n",
       "      <td>5</td>\n",
       "      <td>1</td>\n",
       "    </tr>\n",
       "    <tr>\n",
       "      <th>2019-08-15 05:00:00</th>\n",
       "      <td>-0.625098</td>\n",
       "      <td>-1.248365</td>\n",
       "      <td>-0.029373</td>\n",
       "      <td>5</td>\n",
       "      <td>2</td>\n",
       "    </tr>\n",
       "    <tr>\n",
       "      <th>2019-08-15 10:00:00</th>\n",
       "      <td>0.549361</td>\n",
       "      <td>0.886143</td>\n",
       "      <td>0.075019</td>\n",
       "      <td>5</td>\n",
       "      <td>3</td>\n",
       "    </tr>\n",
       "    <tr>\n",
       "      <th>2019-08-15 15:00:00</th>\n",
       "      <td>1.645027</td>\n",
       "      <td>0.027756</td>\n",
       "      <td>0.665225</td>\n",
       "      <td>5</td>\n",
       "      <td>4</td>\n",
       "    </tr>\n",
       "    <tr>\n",
       "      <th>2019-08-15 20:00:00</th>\n",
       "      <td>0.633535</td>\n",
       "      <td>-1.999516</td>\n",
       "      <td>-0.310198</td>\n",
       "      <td>5</td>\n",
       "      <td>5</td>\n",
       "    </tr>\n",
       "    <tr>\n",
       "      <th>2019-08-16 01:00:00</th>\n",
       "      <td>1.826572</td>\n",
       "      <td>0.659380</td>\n",
       "      <td>1.079918</td>\n",
       "      <td>5</td>\n",
       "      <td>6</td>\n",
       "    </tr>\n",
       "  </tbody>\n",
       "</table>\n",
       "</div>"
      ],
      "text/plain": [
       "                            A         B         C  D  F\n",
       "2019-08-15 00:00:00  0.000000  0.000000  0.000000  5  1\n",
       "2019-08-15 05:00:00 -0.625098 -1.248365 -0.029373  5  2\n",
       "2019-08-15 10:00:00  0.549361  0.886143  0.075019  5  3\n",
       "2019-08-15 15:00:00  1.645027  0.027756  0.665225  5  4\n",
       "2019-08-15 20:00:00  0.633535 -1.999516 -0.310198  5  5\n",
       "2019-08-16 01:00:00  1.826572  0.659380  1.079918  5  6"
      ]
     },
     "execution_count": 67,
     "metadata": {},
     "output_type": "execute_result"
    }
   ],
   "source": [
    "df"
   ]
  },
  {
   "cell_type": "code",
   "execution_count": 68,
   "metadata": {},
   "outputs": [
    {
     "data": {
      "text/html": [
       "<div>\n",
       "<style scoped>\n",
       "    .dataframe tbody tr th:only-of-type {\n",
       "        vertical-align: middle;\n",
       "    }\n",
       "\n",
       "    .dataframe tbody tr th {\n",
       "        vertical-align: top;\n",
       "    }\n",
       "\n",
       "    .dataframe thead th {\n",
       "        text-align: right;\n",
       "    }\n",
       "</style>\n",
       "<table border=\"1\" class=\"dataframe\">\n",
       "  <thead>\n",
       "    <tr style=\"text-align: right;\">\n",
       "      <th></th>\n",
       "      <th>A</th>\n",
       "      <th>B</th>\n",
       "      <th>C</th>\n",
       "      <th>D</th>\n",
       "      <th>F</th>\n",
       "    </tr>\n",
       "  </thead>\n",
       "  <tbody>\n",
       "    <tr>\n",
       "      <th>2019-08-15 00:00:00</th>\n",
       "      <td>0.000000</td>\n",
       "      <td>0.000000</td>\n",
       "      <td>0.000000</td>\n",
       "      <td>5</td>\n",
       "      <td>1</td>\n",
       "    </tr>\n",
       "    <tr>\n",
       "      <th>2019-08-15 05:00:00</th>\n",
       "      <td>-0.625098</td>\n",
       "      <td>-1.248365</td>\n",
       "      <td>-0.029373</td>\n",
       "      <td>5</td>\n",
       "      <td>2</td>\n",
       "    </tr>\n",
       "    <tr>\n",
       "      <th>2019-08-15 10:00:00</th>\n",
       "      <td>0.549361</td>\n",
       "      <td>0.886143</td>\n",
       "      <td>0.075019</td>\n",
       "      <td>5</td>\n",
       "      <td>3</td>\n",
       "    </tr>\n",
       "    <tr>\n",
       "      <th>2019-08-15 15:00:00</th>\n",
       "      <td>1.645027</td>\n",
       "      <td>0.027756</td>\n",
       "      <td>0.665225</td>\n",
       "      <td>5</td>\n",
       "      <td>4</td>\n",
       "    </tr>\n",
       "    <tr>\n",
       "      <th>2019-08-15 20:00:00</th>\n",
       "      <td>0.633535</td>\n",
       "      <td>-1.999516</td>\n",
       "      <td>-0.310198</td>\n",
       "      <td>5</td>\n",
       "      <td>5</td>\n",
       "    </tr>\n",
       "    <tr>\n",
       "      <th>2019-08-16 01:00:00</th>\n",
       "      <td>1.826572</td>\n",
       "      <td>0.659380</td>\n",
       "      <td>1.079918</td>\n",
       "      <td>5</td>\n",
       "      <td>6</td>\n",
       "    </tr>\n",
       "  </tbody>\n",
       "</table>\n",
       "</div>"
      ],
      "text/plain": [
       "                            A         B         C  D  F\n",
       "2019-08-15 00:00:00  0.000000  0.000000  0.000000  5  1\n",
       "2019-08-15 05:00:00 -0.625098 -1.248365 -0.029373  5  2\n",
       "2019-08-15 10:00:00  0.549361  0.886143  0.075019  5  3\n",
       "2019-08-15 15:00:00  1.645027  0.027756  0.665225  5  4\n",
       "2019-08-15 20:00:00  0.633535 -1.999516 -0.310198  5  5\n",
       "2019-08-16 01:00:00  1.826572  0.659380  1.079918  5  6"
      ]
     },
     "execution_count": 68,
     "metadata": {},
     "output_type": "execute_result"
    }
   ],
   "source": [
    "df.at[dates[0], 'A'] = 0\n",
    "df"
   ]
  },
  {
   "cell_type": "code",
   "execution_count": 69,
   "metadata": {},
   "outputs": [
    {
     "data": {
      "text/html": [
       "<div>\n",
       "<style scoped>\n",
       "    .dataframe tbody tr th:only-of-type {\n",
       "        vertical-align: middle;\n",
       "    }\n",
       "\n",
       "    .dataframe tbody tr th {\n",
       "        vertical-align: top;\n",
       "    }\n",
       "\n",
       "    .dataframe thead th {\n",
       "        text-align: right;\n",
       "    }\n",
       "</style>\n",
       "<table border=\"1\" class=\"dataframe\">\n",
       "  <thead>\n",
       "    <tr style=\"text-align: right;\">\n",
       "      <th></th>\n",
       "      <th>A</th>\n",
       "      <th>B</th>\n",
       "      <th>C</th>\n",
       "      <th>D</th>\n",
       "      <th>F</th>\n",
       "    </tr>\n",
       "  </thead>\n",
       "  <tbody>\n",
       "    <tr>\n",
       "      <th>2019-08-15 00:00:00</th>\n",
       "      <td>0.000000</td>\n",
       "      <td>0.000000</td>\n",
       "      <td>0.000000</td>\n",
       "      <td>5</td>\n",
       "      <td>1</td>\n",
       "    </tr>\n",
       "    <tr>\n",
       "      <th>2019-08-15 05:00:00</th>\n",
       "      <td>-0.625098</td>\n",
       "      <td>-1.248365</td>\n",
       "      <td>-0.029373</td>\n",
       "      <td>5</td>\n",
       "      <td>2</td>\n",
       "    </tr>\n",
       "    <tr>\n",
       "      <th>2019-08-15 10:00:00</th>\n",
       "      <td>0.549361</td>\n",
       "      <td>0.886143</td>\n",
       "      <td>0.075019</td>\n",
       "      <td>5</td>\n",
       "      <td>3</td>\n",
       "    </tr>\n",
       "    <tr>\n",
       "      <th>2019-08-15 15:00:00</th>\n",
       "      <td>1.645027</td>\n",
       "      <td>0.027756</td>\n",
       "      <td>0.665225</td>\n",
       "      <td>5</td>\n",
       "      <td>4</td>\n",
       "    </tr>\n",
       "    <tr>\n",
       "      <th>2019-08-15 20:00:00</th>\n",
       "      <td>0.633535</td>\n",
       "      <td>-1.999516</td>\n",
       "      <td>-0.310198</td>\n",
       "      <td>5</td>\n",
       "      <td>5</td>\n",
       "    </tr>\n",
       "    <tr>\n",
       "      <th>2019-08-16 01:00:00</th>\n",
       "      <td>1.826572</td>\n",
       "      <td>0.659380</td>\n",
       "      <td>1.079918</td>\n",
       "      <td>5</td>\n",
       "      <td>6</td>\n",
       "    </tr>\n",
       "  </tbody>\n",
       "</table>\n",
       "</div>"
      ],
      "text/plain": [
       "                            A         B         C  D  F\n",
       "2019-08-15 00:00:00  0.000000  0.000000  0.000000  5  1\n",
       "2019-08-15 05:00:00 -0.625098 -1.248365 -0.029373  5  2\n",
       "2019-08-15 10:00:00  0.549361  0.886143  0.075019  5  3\n",
       "2019-08-15 15:00:00  1.645027  0.027756  0.665225  5  4\n",
       "2019-08-15 20:00:00  0.633535 -1.999516 -0.310198  5  5\n",
       "2019-08-16 01:00:00  1.826572  0.659380  1.079918  5  6"
      ]
     },
     "execution_count": 69,
     "metadata": {},
     "output_type": "execute_result"
    }
   ],
   "source": [
    "df.iat[0,1]= 0\n",
    "df"
   ]
  },
  {
   "cell_type": "code",
   "execution_count": 70,
   "metadata": {},
   "outputs": [
    {
     "data": {
      "text/html": [
       "<div>\n",
       "<style scoped>\n",
       "    .dataframe tbody tr th:only-of-type {\n",
       "        vertical-align: middle;\n",
       "    }\n",
       "\n",
       "    .dataframe tbody tr th {\n",
       "        vertical-align: top;\n",
       "    }\n",
       "\n",
       "    .dataframe thead th {\n",
       "        text-align: right;\n",
       "    }\n",
       "</style>\n",
       "<table border=\"1\" class=\"dataframe\">\n",
       "  <thead>\n",
       "    <tr style=\"text-align: right;\">\n",
       "      <th></th>\n",
       "      <th>A</th>\n",
       "      <th>B</th>\n",
       "      <th>C</th>\n",
       "      <th>D</th>\n",
       "      <th>F</th>\n",
       "    </tr>\n",
       "  </thead>\n",
       "  <tbody>\n",
       "    <tr>\n",
       "      <th>2019-08-15 00:00:00</th>\n",
       "      <td>0.000000</td>\n",
       "      <td>0.000000</td>\n",
       "      <td>0.000000</td>\n",
       "      <td>5</td>\n",
       "      <td>1</td>\n",
       "    </tr>\n",
       "    <tr>\n",
       "      <th>2019-08-15 05:00:00</th>\n",
       "      <td>-0.625098</td>\n",
       "      <td>-1.248365</td>\n",
       "      <td>-0.029373</td>\n",
       "      <td>5</td>\n",
       "      <td>2</td>\n",
       "    </tr>\n",
       "    <tr>\n",
       "      <th>2019-08-15 10:00:00</th>\n",
       "      <td>0.549361</td>\n",
       "      <td>0.886143</td>\n",
       "      <td>0.075019</td>\n",
       "      <td>5</td>\n",
       "      <td>3</td>\n",
       "    </tr>\n",
       "    <tr>\n",
       "      <th>2019-08-15 15:00:00</th>\n",
       "      <td>1.645027</td>\n",
       "      <td>0.027756</td>\n",
       "      <td>0.665225</td>\n",
       "      <td>5</td>\n",
       "      <td>4</td>\n",
       "    </tr>\n",
       "    <tr>\n",
       "      <th>2019-08-15 20:00:00</th>\n",
       "      <td>0.633535</td>\n",
       "      <td>-1.999516</td>\n",
       "      <td>-0.310198</td>\n",
       "      <td>5</td>\n",
       "      <td>5</td>\n",
       "    </tr>\n",
       "    <tr>\n",
       "      <th>2019-08-16 01:00:00</th>\n",
       "      <td>1.826572</td>\n",
       "      <td>0.659380</td>\n",
       "      <td>1.079918</td>\n",
       "      <td>5</td>\n",
       "      <td>6</td>\n",
       "    </tr>\n",
       "  </tbody>\n",
       "</table>\n",
       "</div>"
      ],
      "text/plain": [
       "                            A         B         C  D  F\n",
       "2019-08-15 00:00:00  0.000000  0.000000  0.000000  5  1\n",
       "2019-08-15 05:00:00 -0.625098 -1.248365 -0.029373  5  2\n",
       "2019-08-15 10:00:00  0.549361  0.886143  0.075019  5  3\n",
       "2019-08-15 15:00:00  1.645027  0.027756  0.665225  5  4\n",
       "2019-08-15 20:00:00  0.633535 -1.999516 -0.310198  5  5\n",
       "2019-08-16 01:00:00  1.826572  0.659380  1.079918  5  6"
      ]
     },
     "execution_count": 70,
     "metadata": {},
     "output_type": "execute_result"
    }
   ],
   "source": [
    "df.iloc[0,2] = 0\n",
    "df"
   ]
  },
  {
   "cell_type": "code",
   "execution_count": 71,
   "metadata": {},
   "outputs": [
    {
     "data": {
      "text/html": [
       "<div>\n",
       "<style scoped>\n",
       "    .dataframe tbody tr th:only-of-type {\n",
       "        vertical-align: middle;\n",
       "    }\n",
       "\n",
       "    .dataframe tbody tr th {\n",
       "        vertical-align: top;\n",
       "    }\n",
       "\n",
       "    .dataframe thead th {\n",
       "        text-align: right;\n",
       "    }\n",
       "</style>\n",
       "<table border=\"1\" class=\"dataframe\">\n",
       "  <thead>\n",
       "    <tr style=\"text-align: right;\">\n",
       "      <th></th>\n",
       "      <th>A</th>\n",
       "      <th>B</th>\n",
       "      <th>C</th>\n",
       "      <th>D</th>\n",
       "      <th>F</th>\n",
       "    </tr>\n",
       "  </thead>\n",
       "  <tbody>\n",
       "    <tr>\n",
       "      <th>2019-08-15 00:00:00</th>\n",
       "      <td>0.000000</td>\n",
       "      <td>0.000000</td>\n",
       "      <td>0.000000</td>\n",
       "      <td>5</td>\n",
       "      <td>1</td>\n",
       "    </tr>\n",
       "    <tr>\n",
       "      <th>2019-08-15 05:00:00</th>\n",
       "      <td>-0.625098</td>\n",
       "      <td>-1.248365</td>\n",
       "      <td>-0.029373</td>\n",
       "      <td>5</td>\n",
       "      <td>2</td>\n",
       "    </tr>\n",
       "    <tr>\n",
       "      <th>2019-08-15 10:00:00</th>\n",
       "      <td>0.549361</td>\n",
       "      <td>0.886143</td>\n",
       "      <td>0.075019</td>\n",
       "      <td>5</td>\n",
       "      <td>3</td>\n",
       "    </tr>\n",
       "    <tr>\n",
       "      <th>2019-08-15 15:00:00</th>\n",
       "      <td>1.645027</td>\n",
       "      <td>0.027756</td>\n",
       "      <td>0.665225</td>\n",
       "      <td>5</td>\n",
       "      <td>4</td>\n",
       "    </tr>\n",
       "    <tr>\n",
       "      <th>2019-08-15 20:00:00</th>\n",
       "      <td>0.633535</td>\n",
       "      <td>-1.999516</td>\n",
       "      <td>-0.310198</td>\n",
       "      <td>5</td>\n",
       "      <td>5</td>\n",
       "    </tr>\n",
       "    <tr>\n",
       "      <th>2019-08-16 01:00:00</th>\n",
       "      <td>1.826572</td>\n",
       "      <td>0.659380</td>\n",
       "      <td>1.079918</td>\n",
       "      <td>5</td>\n",
       "      <td>6</td>\n",
       "    </tr>\n",
       "  </tbody>\n",
       "</table>\n",
       "</div>"
      ],
      "text/plain": [
       "                            A         B         C  D  F\n",
       "2019-08-15 00:00:00  0.000000  0.000000  0.000000  5  1\n",
       "2019-08-15 05:00:00 -0.625098 -1.248365 -0.029373  5  2\n",
       "2019-08-15 10:00:00  0.549361  0.886143  0.075019  5  3\n",
       "2019-08-15 15:00:00  1.645027  0.027756  0.665225  5  4\n",
       "2019-08-15 20:00:00  0.633535 -1.999516 -0.310198  5  5\n",
       "2019-08-16 01:00:00  1.826572  0.659380  1.079918  5  6"
      ]
     },
     "execution_count": 71,
     "metadata": {},
     "output_type": "execute_result"
    }
   ],
   "source": [
    "df.loc[:,'D'] = np.array([5]*len(df))\n",
    "df"
   ]
  },
  {
   "cell_type": "code",
   "execution_count": 72,
   "metadata": {},
   "outputs": [
    {
     "data": {
      "text/html": [
       "<div>\n",
       "<style scoped>\n",
       "    .dataframe tbody tr th:only-of-type {\n",
       "        vertical-align: middle;\n",
       "    }\n",
       "\n",
       "    .dataframe tbody tr th {\n",
       "        vertical-align: top;\n",
       "    }\n",
       "\n",
       "    .dataframe thead th {\n",
       "        text-align: right;\n",
       "    }\n",
       "</style>\n",
       "<table border=\"1\" class=\"dataframe\">\n",
       "  <thead>\n",
       "    <tr style=\"text-align: right;\">\n",
       "      <th></th>\n",
       "      <th>A</th>\n",
       "      <th>B</th>\n",
       "      <th>C</th>\n",
       "      <th>D</th>\n",
       "      <th>F</th>\n",
       "    </tr>\n",
       "  </thead>\n",
       "  <tbody>\n",
       "    <tr>\n",
       "      <th>2019-08-15 00:00:00</th>\n",
       "      <td>0.000000</td>\n",
       "      <td>0.000000</td>\n",
       "      <td>0.000000</td>\n",
       "      <td>5</td>\n",
       "      <td>1</td>\n",
       "    </tr>\n",
       "    <tr>\n",
       "      <th>2019-08-15 05:00:00</th>\n",
       "      <td>-0.625098</td>\n",
       "      <td>-1.248365</td>\n",
       "      <td>-0.029373</td>\n",
       "      <td>5</td>\n",
       "      <td>2</td>\n",
       "    </tr>\n",
       "    <tr>\n",
       "      <th>2019-08-15 10:00:00</th>\n",
       "      <td>0.549361</td>\n",
       "      <td>0.886143</td>\n",
       "      <td>0.075019</td>\n",
       "      <td>5</td>\n",
       "      <td>3</td>\n",
       "    </tr>\n",
       "    <tr>\n",
       "      <th>2019-08-15 15:00:00</th>\n",
       "      <td>1.645027</td>\n",
       "      <td>0.027756</td>\n",
       "      <td>0.665225</td>\n",
       "      <td>5</td>\n",
       "      <td>4</td>\n",
       "    </tr>\n",
       "    <tr>\n",
       "      <th>2019-08-15 20:00:00</th>\n",
       "      <td>0.633535</td>\n",
       "      <td>-1.999516</td>\n",
       "      <td>-0.310198</td>\n",
       "      <td>5</td>\n",
       "      <td>5</td>\n",
       "    </tr>\n",
       "    <tr>\n",
       "      <th>2019-08-16 01:00:00</th>\n",
       "      <td>1.826572</td>\n",
       "      <td>0.659380</td>\n",
       "      <td>1.079918</td>\n",
       "      <td>5</td>\n",
       "      <td>6</td>\n",
       "    </tr>\n",
       "  </tbody>\n",
       "</table>\n",
       "</div>"
      ],
      "text/plain": [
       "                            A         B         C  D  F\n",
       "2019-08-15 00:00:00  0.000000  0.000000  0.000000  5  1\n",
       "2019-08-15 05:00:00 -0.625098 -1.248365 -0.029373  5  2\n",
       "2019-08-15 10:00:00  0.549361  0.886143  0.075019  5  3\n",
       "2019-08-15 15:00:00  1.645027  0.027756  0.665225  5  4\n",
       "2019-08-15 20:00:00  0.633535 -1.999516 -0.310198  5  5\n",
       "2019-08-16 01:00:00  1.826572  0.659380  1.079918  5  6"
      ]
     },
     "execution_count": 72,
     "metadata": {},
     "output_type": "execute_result"
    }
   ],
   "source": [
    "df2 = df.copy()\n",
    "df2"
   ]
  },
  {
   "cell_type": "code",
   "execution_count": 73,
   "metadata": {},
   "outputs": [],
   "source": [
    "df2[df2>0] = -df2"
   ]
  },
  {
   "cell_type": "code",
   "execution_count": 74,
   "metadata": {},
   "outputs": [
    {
     "data": {
      "text/html": [
       "<div>\n",
       "<style scoped>\n",
       "    .dataframe tbody tr th:only-of-type {\n",
       "        vertical-align: middle;\n",
       "    }\n",
       "\n",
       "    .dataframe tbody tr th {\n",
       "        vertical-align: top;\n",
       "    }\n",
       "\n",
       "    .dataframe thead th {\n",
       "        text-align: right;\n",
       "    }\n",
       "</style>\n",
       "<table border=\"1\" class=\"dataframe\">\n",
       "  <thead>\n",
       "    <tr style=\"text-align: right;\">\n",
       "      <th></th>\n",
       "      <th>A</th>\n",
       "      <th>B</th>\n",
       "      <th>C</th>\n",
       "      <th>D</th>\n",
       "      <th>F</th>\n",
       "    </tr>\n",
       "  </thead>\n",
       "  <tbody>\n",
       "    <tr>\n",
       "      <th>2019-08-15 00:00:00</th>\n",
       "      <td>0.000000</td>\n",
       "      <td>0.000000</td>\n",
       "      <td>0.000000</td>\n",
       "      <td>-5</td>\n",
       "      <td>-1</td>\n",
       "    </tr>\n",
       "    <tr>\n",
       "      <th>2019-08-15 05:00:00</th>\n",
       "      <td>-0.625098</td>\n",
       "      <td>-1.248365</td>\n",
       "      <td>-0.029373</td>\n",
       "      <td>-5</td>\n",
       "      <td>-2</td>\n",
       "    </tr>\n",
       "    <tr>\n",
       "      <th>2019-08-15 10:00:00</th>\n",
       "      <td>-0.549361</td>\n",
       "      <td>-0.886143</td>\n",
       "      <td>-0.075019</td>\n",
       "      <td>-5</td>\n",
       "      <td>-3</td>\n",
       "    </tr>\n",
       "    <tr>\n",
       "      <th>2019-08-15 15:00:00</th>\n",
       "      <td>-1.645027</td>\n",
       "      <td>-0.027756</td>\n",
       "      <td>-0.665225</td>\n",
       "      <td>-5</td>\n",
       "      <td>-4</td>\n",
       "    </tr>\n",
       "    <tr>\n",
       "      <th>2019-08-15 20:00:00</th>\n",
       "      <td>-0.633535</td>\n",
       "      <td>-1.999516</td>\n",
       "      <td>-0.310198</td>\n",
       "      <td>-5</td>\n",
       "      <td>-5</td>\n",
       "    </tr>\n",
       "    <tr>\n",
       "      <th>2019-08-16 01:00:00</th>\n",
       "      <td>-1.826572</td>\n",
       "      <td>-0.659380</td>\n",
       "      <td>-1.079918</td>\n",
       "      <td>-5</td>\n",
       "      <td>-6</td>\n",
       "    </tr>\n",
       "  </tbody>\n",
       "</table>\n",
       "</div>"
      ],
      "text/plain": [
       "                            A         B         C  D  F\n",
       "2019-08-15 00:00:00  0.000000  0.000000  0.000000 -5 -1\n",
       "2019-08-15 05:00:00 -0.625098 -1.248365 -0.029373 -5 -2\n",
       "2019-08-15 10:00:00 -0.549361 -0.886143 -0.075019 -5 -3\n",
       "2019-08-15 15:00:00 -1.645027 -0.027756 -0.665225 -5 -4\n",
       "2019-08-15 20:00:00 -0.633535 -1.999516 -0.310198 -5 -5\n",
       "2019-08-16 01:00:00 -1.826572 -0.659380 -1.079918 -5 -6"
      ]
     },
     "execution_count": 74,
     "metadata": {},
     "output_type": "execute_result"
    }
   ],
   "source": [
    "df2"
   ]
  },
  {
   "cell_type": "markdown",
   "metadata": {},
   "source": [
    "# missing data"
   ]
  },
  {
   "cell_type": "code",
   "execution_count": 76,
   "metadata": {},
   "outputs": [
    {
     "data": {
      "text/html": [
       "<div>\n",
       "<style scoped>\n",
       "    .dataframe tbody tr th:only-of-type {\n",
       "        vertical-align: middle;\n",
       "    }\n",
       "\n",
       "    .dataframe tbody tr th {\n",
       "        vertical-align: top;\n",
       "    }\n",
       "\n",
       "    .dataframe thead th {\n",
       "        text-align: right;\n",
       "    }\n",
       "</style>\n",
       "<table border=\"1\" class=\"dataframe\">\n",
       "  <thead>\n",
       "    <tr style=\"text-align: right;\">\n",
       "      <th></th>\n",
       "      <th>A</th>\n",
       "      <th>B</th>\n",
       "      <th>C</th>\n",
       "      <th>D</th>\n",
       "      <th>F</th>\n",
       "      <th>E</th>\n",
       "    </tr>\n",
       "  </thead>\n",
       "  <tbody>\n",
       "    <tr>\n",
       "      <th>2019-08-15 00:00:00</th>\n",
       "      <td>0.000000</td>\n",
       "      <td>0.000000</td>\n",
       "      <td>0.000000</td>\n",
       "      <td>5</td>\n",
       "      <td>1</td>\n",
       "      <td>NaN</td>\n",
       "    </tr>\n",
       "    <tr>\n",
       "      <th>2019-08-15 05:00:00</th>\n",
       "      <td>-0.625098</td>\n",
       "      <td>-1.248365</td>\n",
       "      <td>-0.029373</td>\n",
       "      <td>5</td>\n",
       "      <td>2</td>\n",
       "      <td>NaN</td>\n",
       "    </tr>\n",
       "    <tr>\n",
       "      <th>2019-08-15 10:00:00</th>\n",
       "      <td>0.549361</td>\n",
       "      <td>0.886143</td>\n",
       "      <td>0.075019</td>\n",
       "      <td>5</td>\n",
       "      <td>3</td>\n",
       "      <td>NaN</td>\n",
       "    </tr>\n",
       "    <tr>\n",
       "      <th>2019-08-15 15:00:00</th>\n",
       "      <td>1.645027</td>\n",
       "      <td>0.027756</td>\n",
       "      <td>0.665225</td>\n",
       "      <td>5</td>\n",
       "      <td>4</td>\n",
       "      <td>NaN</td>\n",
       "    </tr>\n",
       "  </tbody>\n",
       "</table>\n",
       "</div>"
      ],
      "text/plain": [
       "                            A         B         C  D  F   E\n",
       "2019-08-15 00:00:00  0.000000  0.000000  0.000000  5  1 NaN\n",
       "2019-08-15 05:00:00 -0.625098 -1.248365 -0.029373  5  2 NaN\n",
       "2019-08-15 10:00:00  0.549361  0.886143  0.075019  5  3 NaN\n",
       "2019-08-15 15:00:00  1.645027  0.027756  0.665225  5  4 NaN"
      ]
     },
     "execution_count": 76,
     "metadata": {},
     "output_type": "execute_result"
    }
   ],
   "source": [
    "df1 = df.reindex(index=dates[:4], columns=list(df.columns) + ['E'])\n",
    "df1"
   ]
  },
  {
   "cell_type": "code",
   "execution_count": 77,
   "metadata": {},
   "outputs": [
    {
     "data": {
      "text/html": [
       "<div>\n",
       "<style scoped>\n",
       "    .dataframe tbody tr th:only-of-type {\n",
       "        vertical-align: middle;\n",
       "    }\n",
       "\n",
       "    .dataframe tbody tr th {\n",
       "        vertical-align: top;\n",
       "    }\n",
       "\n",
       "    .dataframe thead th {\n",
       "        text-align: right;\n",
       "    }\n",
       "</style>\n",
       "<table border=\"1\" class=\"dataframe\">\n",
       "  <thead>\n",
       "    <tr style=\"text-align: right;\">\n",
       "      <th></th>\n",
       "      <th>A</th>\n",
       "      <th>B</th>\n",
       "      <th>C</th>\n",
       "      <th>D</th>\n",
       "      <th>F</th>\n",
       "      <th>E</th>\n",
       "    </tr>\n",
       "  </thead>\n",
       "  <tbody>\n",
       "    <tr>\n",
       "      <th>2019-08-15 00:00:00</th>\n",
       "      <td>0.000000</td>\n",
       "      <td>0.000000</td>\n",
       "      <td>0.000000</td>\n",
       "      <td>5</td>\n",
       "      <td>1</td>\n",
       "      <td>1.0</td>\n",
       "    </tr>\n",
       "    <tr>\n",
       "      <th>2019-08-15 05:00:00</th>\n",
       "      <td>-0.625098</td>\n",
       "      <td>-1.248365</td>\n",
       "      <td>-0.029373</td>\n",
       "      <td>5</td>\n",
       "      <td>2</td>\n",
       "      <td>1.0</td>\n",
       "    </tr>\n",
       "    <tr>\n",
       "      <th>2019-08-15 10:00:00</th>\n",
       "      <td>0.549361</td>\n",
       "      <td>0.886143</td>\n",
       "      <td>0.075019</td>\n",
       "      <td>5</td>\n",
       "      <td>3</td>\n",
       "      <td>NaN</td>\n",
       "    </tr>\n",
       "    <tr>\n",
       "      <th>2019-08-15 15:00:00</th>\n",
       "      <td>1.645027</td>\n",
       "      <td>0.027756</td>\n",
       "      <td>0.665225</td>\n",
       "      <td>5</td>\n",
       "      <td>4</td>\n",
       "      <td>NaN</td>\n",
       "    </tr>\n",
       "  </tbody>\n",
       "</table>\n",
       "</div>"
      ],
      "text/plain": [
       "                            A         B         C  D  F    E\n",
       "2019-08-15 00:00:00  0.000000  0.000000  0.000000  5  1  1.0\n",
       "2019-08-15 05:00:00 -0.625098 -1.248365 -0.029373  5  2  1.0\n",
       "2019-08-15 10:00:00  0.549361  0.886143  0.075019  5  3  NaN\n",
       "2019-08-15 15:00:00  1.645027  0.027756  0.665225  5  4  NaN"
      ]
     },
     "execution_count": 77,
     "metadata": {},
     "output_type": "execute_result"
    }
   ],
   "source": [
    "df1.loc[dates[0]:dates[1], 'E'] = 1\n",
    "df1"
   ]
  },
  {
   "cell_type": "code",
   "execution_count": 78,
   "metadata": {},
   "outputs": [
    {
     "data": {
      "text/html": [
       "<div>\n",
       "<style scoped>\n",
       "    .dataframe tbody tr th:only-of-type {\n",
       "        vertical-align: middle;\n",
       "    }\n",
       "\n",
       "    .dataframe tbody tr th {\n",
       "        vertical-align: top;\n",
       "    }\n",
       "\n",
       "    .dataframe thead th {\n",
       "        text-align: right;\n",
       "    }\n",
       "</style>\n",
       "<table border=\"1\" class=\"dataframe\">\n",
       "  <thead>\n",
       "    <tr style=\"text-align: right;\">\n",
       "      <th></th>\n",
       "      <th>A</th>\n",
       "      <th>B</th>\n",
       "      <th>C</th>\n",
       "      <th>D</th>\n",
       "      <th>F</th>\n",
       "      <th>E</th>\n",
       "    </tr>\n",
       "  </thead>\n",
       "  <tbody>\n",
       "    <tr>\n",
       "      <th>2019-08-15 00:00:00</th>\n",
       "      <td>0.000000</td>\n",
       "      <td>0.000000</td>\n",
       "      <td>0.000000</td>\n",
       "      <td>5</td>\n",
       "      <td>1</td>\n",
       "      <td>1.0</td>\n",
       "    </tr>\n",
       "    <tr>\n",
       "      <th>2019-08-15 05:00:00</th>\n",
       "      <td>-0.625098</td>\n",
       "      <td>-1.248365</td>\n",
       "      <td>-0.029373</td>\n",
       "      <td>5</td>\n",
       "      <td>2</td>\n",
       "      <td>1.0</td>\n",
       "    </tr>\n",
       "  </tbody>\n",
       "</table>\n",
       "</div>"
      ],
      "text/plain": [
       "                            A         B         C  D  F    E\n",
       "2019-08-15 00:00:00  0.000000  0.000000  0.000000  5  1  1.0\n",
       "2019-08-15 05:00:00 -0.625098 -1.248365 -0.029373  5  2  1.0"
      ]
     },
     "execution_count": 78,
     "metadata": {},
     "output_type": "execute_result"
    }
   ],
   "source": [
    "# drop any rows that have missing data, don't change origin dataset\n",
    "df1.dropna(how='any')"
   ]
  },
  {
   "cell_type": "code",
   "execution_count": 79,
   "metadata": {},
   "outputs": [
    {
     "data": {
      "text/html": [
       "<div>\n",
       "<style scoped>\n",
       "    .dataframe tbody tr th:only-of-type {\n",
       "        vertical-align: middle;\n",
       "    }\n",
       "\n",
       "    .dataframe tbody tr th {\n",
       "        vertical-align: top;\n",
       "    }\n",
       "\n",
       "    .dataframe thead th {\n",
       "        text-align: right;\n",
       "    }\n",
       "</style>\n",
       "<table border=\"1\" class=\"dataframe\">\n",
       "  <thead>\n",
       "    <tr style=\"text-align: right;\">\n",
       "      <th></th>\n",
       "      <th>A</th>\n",
       "      <th>B</th>\n",
       "      <th>C</th>\n",
       "      <th>D</th>\n",
       "      <th>F</th>\n",
       "      <th>E</th>\n",
       "    </tr>\n",
       "  </thead>\n",
       "  <tbody>\n",
       "    <tr>\n",
       "      <th>2019-08-15 00:00:00</th>\n",
       "      <td>0.000000</td>\n",
       "      <td>0.000000</td>\n",
       "      <td>0.000000</td>\n",
       "      <td>5</td>\n",
       "      <td>1</td>\n",
       "      <td>1.0</td>\n",
       "    </tr>\n",
       "    <tr>\n",
       "      <th>2019-08-15 05:00:00</th>\n",
       "      <td>-0.625098</td>\n",
       "      <td>-1.248365</td>\n",
       "      <td>-0.029373</td>\n",
       "      <td>5</td>\n",
       "      <td>2</td>\n",
       "      <td>1.0</td>\n",
       "    </tr>\n",
       "    <tr>\n",
       "      <th>2019-08-15 10:00:00</th>\n",
       "      <td>0.549361</td>\n",
       "      <td>0.886143</td>\n",
       "      <td>0.075019</td>\n",
       "      <td>5</td>\n",
       "      <td>3</td>\n",
       "      <td>NaN</td>\n",
       "    </tr>\n",
       "    <tr>\n",
       "      <th>2019-08-15 15:00:00</th>\n",
       "      <td>1.645027</td>\n",
       "      <td>0.027756</td>\n",
       "      <td>0.665225</td>\n",
       "      <td>5</td>\n",
       "      <td>4</td>\n",
       "      <td>NaN</td>\n",
       "    </tr>\n",
       "  </tbody>\n",
       "</table>\n",
       "</div>"
      ],
      "text/plain": [
       "                            A         B         C  D  F    E\n",
       "2019-08-15 00:00:00  0.000000  0.000000  0.000000  5  1  1.0\n",
       "2019-08-15 05:00:00 -0.625098 -1.248365 -0.029373  5  2  1.0\n",
       "2019-08-15 10:00:00  0.549361  0.886143  0.075019  5  3  NaN\n",
       "2019-08-15 15:00:00  1.645027  0.027756  0.665225  5  4  NaN"
      ]
     },
     "execution_count": 79,
     "metadata": {},
     "output_type": "execute_result"
    }
   ],
   "source": [
    "df1"
   ]
  },
  {
   "cell_type": "code",
   "execution_count": 81,
   "metadata": {},
   "outputs": [
    {
     "data": {
      "text/html": [
       "<div>\n",
       "<style scoped>\n",
       "    .dataframe tbody tr th:only-of-type {\n",
       "        vertical-align: middle;\n",
       "    }\n",
       "\n",
       "    .dataframe tbody tr th {\n",
       "        vertical-align: top;\n",
       "    }\n",
       "\n",
       "    .dataframe thead th {\n",
       "        text-align: right;\n",
       "    }\n",
       "</style>\n",
       "<table border=\"1\" class=\"dataframe\">\n",
       "  <thead>\n",
       "    <tr style=\"text-align: right;\">\n",
       "      <th></th>\n",
       "      <th>A</th>\n",
       "      <th>B</th>\n",
       "      <th>C</th>\n",
       "      <th>D</th>\n",
       "      <th>F</th>\n",
       "      <th>E</th>\n",
       "    </tr>\n",
       "  </thead>\n",
       "  <tbody>\n",
       "    <tr>\n",
       "      <th>2019-08-15 00:00:00</th>\n",
       "      <td>0.000000</td>\n",
       "      <td>0.000000</td>\n",
       "      <td>0.000000</td>\n",
       "      <td>5</td>\n",
       "      <td>1</td>\n",
       "      <td>1.0</td>\n",
       "    </tr>\n",
       "    <tr>\n",
       "      <th>2019-08-15 05:00:00</th>\n",
       "      <td>-0.625098</td>\n",
       "      <td>-1.248365</td>\n",
       "      <td>-0.029373</td>\n",
       "      <td>5</td>\n",
       "      <td>2</td>\n",
       "      <td>1.0</td>\n",
       "    </tr>\n",
       "    <tr>\n",
       "      <th>2019-08-15 10:00:00</th>\n",
       "      <td>0.549361</td>\n",
       "      <td>0.886143</td>\n",
       "      <td>0.075019</td>\n",
       "      <td>5</td>\n",
       "      <td>3</td>\n",
       "      <td>5.0</td>\n",
       "    </tr>\n",
       "    <tr>\n",
       "      <th>2019-08-15 15:00:00</th>\n",
       "      <td>1.645027</td>\n",
       "      <td>0.027756</td>\n",
       "      <td>0.665225</td>\n",
       "      <td>5</td>\n",
       "      <td>4</td>\n",
       "      <td>5.0</td>\n",
       "    </tr>\n",
       "  </tbody>\n",
       "</table>\n",
       "</div>"
      ],
      "text/plain": [
       "                            A         B         C  D  F    E\n",
       "2019-08-15 00:00:00  0.000000  0.000000  0.000000  5  1  1.0\n",
       "2019-08-15 05:00:00 -0.625098 -1.248365 -0.029373  5  2  1.0\n",
       "2019-08-15 10:00:00  0.549361  0.886143  0.075019  5  3  5.0\n",
       "2019-08-15 15:00:00  1.645027  0.027756  0.665225  5  4  5.0"
      ]
     },
     "execution_count": 81,
     "metadata": {},
     "output_type": "execute_result"
    }
   ],
   "source": [
    "# fill missing data, also don't change origin dataset\n",
    "df1.fillna(value=5)"
   ]
  },
  {
   "cell_type": "code",
   "execution_count": 82,
   "metadata": {},
   "outputs": [
    {
     "data": {
      "text/html": [
       "<div>\n",
       "<style scoped>\n",
       "    .dataframe tbody tr th:only-of-type {\n",
       "        vertical-align: middle;\n",
       "    }\n",
       "\n",
       "    .dataframe tbody tr th {\n",
       "        vertical-align: top;\n",
       "    }\n",
       "\n",
       "    .dataframe thead th {\n",
       "        text-align: right;\n",
       "    }\n",
       "</style>\n",
       "<table border=\"1\" class=\"dataframe\">\n",
       "  <thead>\n",
       "    <tr style=\"text-align: right;\">\n",
       "      <th></th>\n",
       "      <th>A</th>\n",
       "      <th>B</th>\n",
       "      <th>C</th>\n",
       "      <th>D</th>\n",
       "      <th>F</th>\n",
       "      <th>E</th>\n",
       "    </tr>\n",
       "  </thead>\n",
       "  <tbody>\n",
       "    <tr>\n",
       "      <th>2019-08-15 00:00:00</th>\n",
       "      <td>0.000000</td>\n",
       "      <td>0.000000</td>\n",
       "      <td>0.000000</td>\n",
       "      <td>5</td>\n",
       "      <td>1</td>\n",
       "      <td>1.0</td>\n",
       "    </tr>\n",
       "    <tr>\n",
       "      <th>2019-08-15 05:00:00</th>\n",
       "      <td>-0.625098</td>\n",
       "      <td>-1.248365</td>\n",
       "      <td>-0.029373</td>\n",
       "      <td>5</td>\n",
       "      <td>2</td>\n",
       "      <td>1.0</td>\n",
       "    </tr>\n",
       "    <tr>\n",
       "      <th>2019-08-15 10:00:00</th>\n",
       "      <td>0.549361</td>\n",
       "      <td>0.886143</td>\n",
       "      <td>0.075019</td>\n",
       "      <td>5</td>\n",
       "      <td>3</td>\n",
       "      <td>NaN</td>\n",
       "    </tr>\n",
       "    <tr>\n",
       "      <th>2019-08-15 15:00:00</th>\n",
       "      <td>1.645027</td>\n",
       "      <td>0.027756</td>\n",
       "      <td>0.665225</td>\n",
       "      <td>5</td>\n",
       "      <td>4</td>\n",
       "      <td>NaN</td>\n",
       "    </tr>\n",
       "  </tbody>\n",
       "</table>\n",
       "</div>"
      ],
      "text/plain": [
       "                            A         B         C  D  F    E\n",
       "2019-08-15 00:00:00  0.000000  0.000000  0.000000  5  1  1.0\n",
       "2019-08-15 05:00:00 -0.625098 -1.248365 -0.029373  5  2  1.0\n",
       "2019-08-15 10:00:00  0.549361  0.886143  0.075019  5  3  NaN\n",
       "2019-08-15 15:00:00  1.645027  0.027756  0.665225  5  4  NaN"
      ]
     },
     "execution_count": 82,
     "metadata": {},
     "output_type": "execute_result"
    }
   ],
   "source": [
    "df1"
   ]
  },
  {
   "cell_type": "code",
   "execution_count": 83,
   "metadata": {},
   "outputs": [
    {
     "data": {
      "text/html": [
       "<div>\n",
       "<style scoped>\n",
       "    .dataframe tbody tr th:only-of-type {\n",
       "        vertical-align: middle;\n",
       "    }\n",
       "\n",
       "    .dataframe tbody tr th {\n",
       "        vertical-align: top;\n",
       "    }\n",
       "\n",
       "    .dataframe thead th {\n",
       "        text-align: right;\n",
       "    }\n",
       "</style>\n",
       "<table border=\"1\" class=\"dataframe\">\n",
       "  <thead>\n",
       "    <tr style=\"text-align: right;\">\n",
       "      <th></th>\n",
       "      <th>A</th>\n",
       "      <th>B</th>\n",
       "      <th>C</th>\n",
       "      <th>D</th>\n",
       "      <th>F</th>\n",
       "      <th>E</th>\n",
       "    </tr>\n",
       "  </thead>\n",
       "  <tbody>\n",
       "    <tr>\n",
       "      <th>2019-08-15 00:00:00</th>\n",
       "      <td>False</td>\n",
       "      <td>False</td>\n",
       "      <td>False</td>\n",
       "      <td>False</td>\n",
       "      <td>False</td>\n",
       "      <td>False</td>\n",
       "    </tr>\n",
       "    <tr>\n",
       "      <th>2019-08-15 05:00:00</th>\n",
       "      <td>False</td>\n",
       "      <td>False</td>\n",
       "      <td>False</td>\n",
       "      <td>False</td>\n",
       "      <td>False</td>\n",
       "      <td>False</td>\n",
       "    </tr>\n",
       "    <tr>\n",
       "      <th>2019-08-15 10:00:00</th>\n",
       "      <td>False</td>\n",
       "      <td>False</td>\n",
       "      <td>False</td>\n",
       "      <td>False</td>\n",
       "      <td>False</td>\n",
       "      <td>True</td>\n",
       "    </tr>\n",
       "    <tr>\n",
       "      <th>2019-08-15 15:00:00</th>\n",
       "      <td>False</td>\n",
       "      <td>False</td>\n",
       "      <td>False</td>\n",
       "      <td>False</td>\n",
       "      <td>False</td>\n",
       "      <td>True</td>\n",
       "    </tr>\n",
       "  </tbody>\n",
       "</table>\n",
       "</div>"
      ],
      "text/plain": [
       "                         A      B      C      D      F      E\n",
       "2019-08-15 00:00:00  False  False  False  False  False  False\n",
       "2019-08-15 05:00:00  False  False  False  False  False  False\n",
       "2019-08-15 10:00:00  False  False  False  False  False   True\n",
       "2019-08-15 15:00:00  False  False  False  False  False   True"
      ]
     },
     "execution_count": 83,
     "metadata": {},
     "output_type": "execute_result"
    }
   ],
   "source": [
    "pd.isna(df1)"
   ]
  },
  {
   "cell_type": "markdown",
   "metadata": {},
   "source": [
    "# operations"
   ]
  },
  {
   "cell_type": "code",
   "execution_count": 86,
   "metadata": {},
   "outputs": [
    {
     "data": {
      "text/html": [
       "<div>\n",
       "<style scoped>\n",
       "    .dataframe tbody tr th:only-of-type {\n",
       "        vertical-align: middle;\n",
       "    }\n",
       "\n",
       "    .dataframe tbody tr th {\n",
       "        vertical-align: top;\n",
       "    }\n",
       "\n",
       "    .dataframe thead th {\n",
       "        text-align: right;\n",
       "    }\n",
       "</style>\n",
       "<table border=\"1\" class=\"dataframe\">\n",
       "  <thead>\n",
       "    <tr style=\"text-align: right;\">\n",
       "      <th></th>\n",
       "      <th>A</th>\n",
       "      <th>B</th>\n",
       "      <th>C</th>\n",
       "      <th>D</th>\n",
       "      <th>F</th>\n",
       "    </tr>\n",
       "  </thead>\n",
       "  <tbody>\n",
       "    <tr>\n",
       "      <th>2019-08-15 00:00:00</th>\n",
       "      <td>0.000000</td>\n",
       "      <td>0.000000</td>\n",
       "      <td>0.000000</td>\n",
       "      <td>5</td>\n",
       "      <td>1</td>\n",
       "    </tr>\n",
       "    <tr>\n",
       "      <th>2019-08-15 05:00:00</th>\n",
       "      <td>-0.625098</td>\n",
       "      <td>-1.248365</td>\n",
       "      <td>-0.029373</td>\n",
       "      <td>5</td>\n",
       "      <td>2</td>\n",
       "    </tr>\n",
       "    <tr>\n",
       "      <th>2019-08-15 10:00:00</th>\n",
       "      <td>0.549361</td>\n",
       "      <td>0.886143</td>\n",
       "      <td>0.075019</td>\n",
       "      <td>5</td>\n",
       "      <td>3</td>\n",
       "    </tr>\n",
       "    <tr>\n",
       "      <th>2019-08-15 15:00:00</th>\n",
       "      <td>1.645027</td>\n",
       "      <td>0.027756</td>\n",
       "      <td>0.665225</td>\n",
       "      <td>5</td>\n",
       "      <td>4</td>\n",
       "    </tr>\n",
       "    <tr>\n",
       "      <th>2019-08-15 20:00:00</th>\n",
       "      <td>0.633535</td>\n",
       "      <td>-1.999516</td>\n",
       "      <td>-0.310198</td>\n",
       "      <td>5</td>\n",
       "      <td>5</td>\n",
       "    </tr>\n",
       "    <tr>\n",
       "      <th>2019-08-16 01:00:00</th>\n",
       "      <td>1.826572</td>\n",
       "      <td>0.659380</td>\n",
       "      <td>1.079918</td>\n",
       "      <td>5</td>\n",
       "      <td>6</td>\n",
       "    </tr>\n",
       "  </tbody>\n",
       "</table>\n",
       "</div>"
      ],
      "text/plain": [
       "                            A         B         C  D  F\n",
       "2019-08-15 00:00:00  0.000000  0.000000  0.000000  5  1\n",
       "2019-08-15 05:00:00 -0.625098 -1.248365 -0.029373  5  2\n",
       "2019-08-15 10:00:00  0.549361  0.886143  0.075019  5  3\n",
       "2019-08-15 15:00:00  1.645027  0.027756  0.665225  5  4\n",
       "2019-08-15 20:00:00  0.633535 -1.999516 -0.310198  5  5\n",
       "2019-08-16 01:00:00  1.826572  0.659380  1.079918  5  6"
      ]
     },
     "execution_count": 86,
     "metadata": {},
     "output_type": "execute_result"
    }
   ],
   "source": [
    "df"
   ]
  },
  {
   "cell_type": "code",
   "execution_count": 87,
   "metadata": {},
   "outputs": [
    {
     "data": {
      "text/plain": [
       "2019-08-15 00:00:00    1.200000\n",
       "2019-08-15 05:00:00    1.019433\n",
       "2019-08-15 10:00:00    1.902105\n",
       "2019-08-15 15:00:00    2.267602\n",
       "2019-08-15 20:00:00    1.664764\n",
       "2019-08-16 01:00:00    2.913174\n",
       "Freq: 5H, dtype: float64"
      ]
     },
     "execution_count": 87,
     "metadata": {},
     "output_type": "execute_result"
    }
   ],
   "source": [
    "# axis=1\n",
    "df.mean(1)"
   ]
  },
  {
   "cell_type": "code",
   "execution_count": 88,
   "metadata": {},
   "outputs": [
    {
     "data": {
      "text/plain": [
       "A    0.671566\n",
       "B   -0.279100\n",
       "C    0.246765\n",
       "D    5.000000\n",
       "F    3.500000\n",
       "dtype: float64"
      ]
     },
     "execution_count": 88,
     "metadata": {},
     "output_type": "execute_result"
    }
   ],
   "source": [
    "# axis=0, default is 0\n",
    "df.mean(0)"
   ]
  },
  {
   "cell_type": "code",
   "execution_count": 89,
   "metadata": {},
   "outputs": [
    {
     "data": {
      "text/plain": [
       "A    0.671566\n",
       "B   -0.279100\n",
       "C    0.246765\n",
       "D    5.000000\n",
       "F    3.500000\n",
       "dtype: float64"
      ]
     },
     "execution_count": 89,
     "metadata": {},
     "output_type": "execute_result"
    }
   ],
   "source": [
    "df.mean()"
   ]
  },
  {
   "cell_type": "code",
   "execution_count": 91,
   "metadata": {},
   "outputs": [
    {
     "data": {
      "text/plain": [
       "2019-08-15 00:00:00    1.0\n",
       "2019-08-15 05:00:00    3.0\n",
       "2019-08-15 10:00:00    5.0\n",
       "2019-08-15 15:00:00    NaN\n",
       "2019-08-15 20:00:00    6.0\n",
       "2019-08-16 01:00:00    8.0\n",
       "Freq: 5H, dtype: float64"
      ]
     },
     "execution_count": 91,
     "metadata": {},
     "output_type": "execute_result"
    }
   ],
   "source": [
    "pd.Series([1,3,5,np.nan,6,8],index=dates)"
   ]
  },
  {
   "cell_type": "code",
   "execution_count": 90,
   "metadata": {},
   "outputs": [
    {
     "data": {
      "text/plain": [
       "2019-08-15 00:00:00    NaN\n",
       "2019-08-15 05:00:00    NaN\n",
       "2019-08-15 10:00:00    1.0\n",
       "2019-08-15 15:00:00    3.0\n",
       "2019-08-15 20:00:00    5.0\n",
       "2019-08-16 01:00:00    NaN\n",
       "Freq: 5H, dtype: float64"
      ]
     },
     "execution_count": 90,
     "metadata": {},
     "output_type": "execute_result"
    }
   ],
   "source": [
    "s = pd.Series([1,3,5,np.nan,6,8],index=dates).shift(2)\n",
    "s"
   ]
  },
  {
   "cell_type": "code",
   "execution_count": 93,
   "metadata": {},
   "outputs": [
    {
     "data": {
      "text/html": [
       "<div>\n",
       "<style scoped>\n",
       "    .dataframe tbody tr th:only-of-type {\n",
       "        vertical-align: middle;\n",
       "    }\n",
       "\n",
       "    .dataframe tbody tr th {\n",
       "        vertical-align: top;\n",
       "    }\n",
       "\n",
       "    .dataframe thead th {\n",
       "        text-align: right;\n",
       "    }\n",
       "</style>\n",
       "<table border=\"1\" class=\"dataframe\">\n",
       "  <thead>\n",
       "    <tr style=\"text-align: right;\">\n",
       "      <th></th>\n",
       "      <th>A</th>\n",
       "      <th>B</th>\n",
       "      <th>C</th>\n",
       "      <th>D</th>\n",
       "      <th>F</th>\n",
       "    </tr>\n",
       "  </thead>\n",
       "  <tbody>\n",
       "    <tr>\n",
       "      <th>2019-08-15 00:00:00</th>\n",
       "      <td>NaN</td>\n",
       "      <td>NaN</td>\n",
       "      <td>NaN</td>\n",
       "      <td>NaN</td>\n",
       "      <td>NaN</td>\n",
       "    </tr>\n",
       "    <tr>\n",
       "      <th>2019-08-15 05:00:00</th>\n",
       "      <td>NaN</td>\n",
       "      <td>NaN</td>\n",
       "      <td>NaN</td>\n",
       "      <td>NaN</td>\n",
       "      <td>NaN</td>\n",
       "    </tr>\n",
       "    <tr>\n",
       "      <th>2019-08-15 10:00:00</th>\n",
       "      <td>-0.450639</td>\n",
       "      <td>-0.113857</td>\n",
       "      <td>-0.924981</td>\n",
       "      <td>4.0</td>\n",
       "      <td>2.0</td>\n",
       "    </tr>\n",
       "    <tr>\n",
       "      <th>2019-08-15 15:00:00</th>\n",
       "      <td>-1.354973</td>\n",
       "      <td>-2.972244</td>\n",
       "      <td>-2.334775</td>\n",
       "      <td>2.0</td>\n",
       "      <td>1.0</td>\n",
       "    </tr>\n",
       "    <tr>\n",
       "      <th>2019-08-15 20:00:00</th>\n",
       "      <td>-4.366465</td>\n",
       "      <td>-6.999516</td>\n",
       "      <td>-5.310198</td>\n",
       "      <td>0.0</td>\n",
       "      <td>0.0</td>\n",
       "    </tr>\n",
       "    <tr>\n",
       "      <th>2019-08-16 01:00:00</th>\n",
       "      <td>NaN</td>\n",
       "      <td>NaN</td>\n",
       "      <td>NaN</td>\n",
       "      <td>NaN</td>\n",
       "      <td>NaN</td>\n",
       "    </tr>\n",
       "  </tbody>\n",
       "</table>\n",
       "</div>"
      ],
      "text/plain": [
       "                            A         B         C    D    F\n",
       "2019-08-15 00:00:00       NaN       NaN       NaN  NaN  NaN\n",
       "2019-08-15 05:00:00       NaN       NaN       NaN  NaN  NaN\n",
       "2019-08-15 10:00:00 -0.450639 -0.113857 -0.924981  4.0  2.0\n",
       "2019-08-15 15:00:00 -1.354973 -2.972244 -2.334775  2.0  1.0\n",
       "2019-08-15 20:00:00 -4.366465 -6.999516 -5.310198  0.0  0.0\n",
       "2019-08-16 01:00:00       NaN       NaN       NaN  NaN  NaN"
      ]
     },
     "execution_count": 93,
     "metadata": {},
     "output_type": "execute_result"
    }
   ],
   "source": [
    "df.sub(s, axis='index')"
   ]
  },
  {
   "cell_type": "markdown",
   "metadata": {},
   "source": [
    "## drop"
   ]
  },
  {
   "cell_type": "code",
   "execution_count": 116,
   "metadata": {},
   "outputs": [
    {
     "data": {
      "text/html": [
       "<div>\n",
       "<style scoped>\n",
       "    .dataframe tbody tr th:only-of-type {\n",
       "        vertical-align: middle;\n",
       "    }\n",
       "\n",
       "    .dataframe tbody tr th {\n",
       "        vertical-align: top;\n",
       "    }\n",
       "\n",
       "    .dataframe thead th {\n",
       "        text-align: right;\n",
       "    }\n",
       "</style>\n",
       "<table border=\"1\" class=\"dataframe\">\n",
       "  <thead>\n",
       "    <tr style=\"text-align: right;\">\n",
       "      <th></th>\n",
       "      <th>A</th>\n",
       "      <th>B</th>\n",
       "      <th>C</th>\n",
       "      <th>D</th>\n",
       "      <th>F</th>\n",
       "    </tr>\n",
       "  </thead>\n",
       "  <tbody>\n",
       "    <tr>\n",
       "      <th>2019-08-15 10:00:00</th>\n",
       "      <td>0.549361</td>\n",
       "      <td>0.886143</td>\n",
       "      <td>0.075019</td>\n",
       "      <td>5</td>\n",
       "      <td>3</td>\n",
       "    </tr>\n",
       "    <tr>\n",
       "      <th>2019-08-15 15:00:00</th>\n",
       "      <td>1.645027</td>\n",
       "      <td>0.027756</td>\n",
       "      <td>0.665225</td>\n",
       "      <td>5</td>\n",
       "      <td>4</td>\n",
       "    </tr>\n",
       "    <tr>\n",
       "      <th>2019-08-15 20:00:00</th>\n",
       "      <td>0.633535</td>\n",
       "      <td>-1.999516</td>\n",
       "      <td>-0.310198</td>\n",
       "      <td>5</td>\n",
       "      <td>5</td>\n",
       "    </tr>\n",
       "    <tr>\n",
       "      <th>2019-08-16 01:00:00</th>\n",
       "      <td>1.826572</td>\n",
       "      <td>0.659380</td>\n",
       "      <td>1.079918</td>\n",
       "      <td>5</td>\n",
       "      <td>6</td>\n",
       "    </tr>\n",
       "  </tbody>\n",
       "</table>\n",
       "</div>"
      ],
      "text/plain": [
       "                            A         B         C  D  F\n",
       "2019-08-15 10:00:00  0.549361  0.886143  0.075019  5  3\n",
       "2019-08-15 15:00:00  1.645027  0.027756  0.665225  5  4\n",
       "2019-08-15 20:00:00  0.633535 -1.999516 -0.310198  5  5\n",
       "2019-08-16 01:00:00  1.826572  0.659380  1.079918  5  6"
      ]
     },
     "execution_count": 116,
     "metadata": {},
     "output_type": "execute_result"
    }
   ],
   "source": [
    "df"
   ]
  },
  {
   "cell_type": "code",
   "execution_count": 95,
   "metadata": {},
   "outputs": [
    {
     "data": {
      "text/html": [
       "<div>\n",
       "<style scoped>\n",
       "    .dataframe tbody tr th:only-of-type {\n",
       "        vertical-align: middle;\n",
       "    }\n",
       "\n",
       "    .dataframe tbody tr th {\n",
       "        vertical-align: top;\n",
       "    }\n",
       "\n",
       "    .dataframe thead th {\n",
       "        text-align: right;\n",
       "    }\n",
       "</style>\n",
       "<table border=\"1\" class=\"dataframe\">\n",
       "  <thead>\n",
       "    <tr style=\"text-align: right;\">\n",
       "      <th></th>\n",
       "      <th>A</th>\n",
       "      <th>B</th>\n",
       "      <th>C</th>\n",
       "      <th>D</th>\n",
       "      <th>F</th>\n",
       "      <th>New</th>\n",
       "    </tr>\n",
       "  </thead>\n",
       "  <tbody>\n",
       "    <tr>\n",
       "      <th>2019-08-15 00:00:00</th>\n",
       "      <td>0.000000</td>\n",
       "      <td>0.000000</td>\n",
       "      <td>0.000000</td>\n",
       "      <td>5</td>\n",
       "      <td>1</td>\n",
       "      <td>0.000000</td>\n",
       "    </tr>\n",
       "    <tr>\n",
       "      <th>2019-08-15 05:00:00</th>\n",
       "      <td>-0.625098</td>\n",
       "      <td>-1.248365</td>\n",
       "      <td>-0.029373</td>\n",
       "      <td>5</td>\n",
       "      <td>2</td>\n",
       "      <td>-0.625098</td>\n",
       "    </tr>\n",
       "    <tr>\n",
       "      <th>2019-08-15 10:00:00</th>\n",
       "      <td>0.549361</td>\n",
       "      <td>0.886143</td>\n",
       "      <td>0.075019</td>\n",
       "      <td>5</td>\n",
       "      <td>3</td>\n",
       "      <td>0.549361</td>\n",
       "    </tr>\n",
       "    <tr>\n",
       "      <th>2019-08-15 15:00:00</th>\n",
       "      <td>1.645027</td>\n",
       "      <td>0.027756</td>\n",
       "      <td>0.665225</td>\n",
       "      <td>5</td>\n",
       "      <td>4</td>\n",
       "      <td>1.645027</td>\n",
       "    </tr>\n",
       "    <tr>\n",
       "      <th>2019-08-15 20:00:00</th>\n",
       "      <td>0.633535</td>\n",
       "      <td>-1.999516</td>\n",
       "      <td>-0.310198</td>\n",
       "      <td>5</td>\n",
       "      <td>5</td>\n",
       "      <td>0.633535</td>\n",
       "    </tr>\n",
       "    <tr>\n",
       "      <th>2019-08-16 01:00:00</th>\n",
       "      <td>1.826572</td>\n",
       "      <td>0.659380</td>\n",
       "      <td>1.079918</td>\n",
       "      <td>5</td>\n",
       "      <td>6</td>\n",
       "      <td>1.826572</td>\n",
       "    </tr>\n",
       "  </tbody>\n",
       "</table>\n",
       "</div>"
      ],
      "text/plain": [
       "                            A         B         C  D  F       New\n",
       "2019-08-15 00:00:00  0.000000  0.000000  0.000000  5  1  0.000000\n",
       "2019-08-15 05:00:00 -0.625098 -1.248365 -0.029373  5  2 -0.625098\n",
       "2019-08-15 10:00:00  0.549361  0.886143  0.075019  5  3  0.549361\n",
       "2019-08-15 15:00:00  1.645027  0.027756  0.665225  5  4  1.645027\n",
       "2019-08-15 20:00:00  0.633535 -1.999516 -0.310198  5  5  0.633535\n",
       "2019-08-16 01:00:00  1.826572  0.659380  1.079918  5  6  1.826572"
      ]
     },
     "execution_count": 95,
     "metadata": {},
     "output_type": "execute_result"
    }
   ],
   "source": [
    "df[\"New\"] = df.A\n",
    "df"
   ]
  },
  {
   "cell_type": "code",
   "execution_count": 102,
   "metadata": {},
   "outputs": [],
   "source": [
    "df.drop(columns='New', inplace=True)"
   ]
  },
  {
   "cell_type": "code",
   "execution_count": 105,
   "metadata": {},
   "outputs": [],
   "source": [
    "df1 = df"
   ]
  },
  {
   "cell_type": "code",
   "execution_count": 112,
   "metadata": {},
   "outputs": [],
   "source": [
    "df1.drop(index=df.index[:2], inplace=True)"
   ]
  },
  {
   "cell_type": "code",
   "execution_count": 113,
   "metadata": {},
   "outputs": [
    {
     "data": {
      "text/html": [
       "<div>\n",
       "<style scoped>\n",
       "    .dataframe tbody tr th:only-of-type {\n",
       "        vertical-align: middle;\n",
       "    }\n",
       "\n",
       "    .dataframe tbody tr th {\n",
       "        vertical-align: top;\n",
       "    }\n",
       "\n",
       "    .dataframe thead th {\n",
       "        text-align: right;\n",
       "    }\n",
       "</style>\n",
       "<table border=\"1\" class=\"dataframe\">\n",
       "  <thead>\n",
       "    <tr style=\"text-align: right;\">\n",
       "      <th></th>\n",
       "      <th>A</th>\n",
       "      <th>B</th>\n",
       "      <th>C</th>\n",
       "      <th>D</th>\n",
       "      <th>F</th>\n",
       "    </tr>\n",
       "  </thead>\n",
       "  <tbody>\n",
       "    <tr>\n",
       "      <th>2019-08-15 10:00:00</th>\n",
       "      <td>0.549361</td>\n",
       "      <td>0.886143</td>\n",
       "      <td>0.075019</td>\n",
       "      <td>5</td>\n",
       "      <td>3</td>\n",
       "    </tr>\n",
       "    <tr>\n",
       "      <th>2019-08-15 15:00:00</th>\n",
       "      <td>1.645027</td>\n",
       "      <td>0.027756</td>\n",
       "      <td>0.665225</td>\n",
       "      <td>5</td>\n",
       "      <td>4</td>\n",
       "    </tr>\n",
       "    <tr>\n",
       "      <th>2019-08-15 20:00:00</th>\n",
       "      <td>0.633535</td>\n",
       "      <td>-1.999516</td>\n",
       "      <td>-0.310198</td>\n",
       "      <td>5</td>\n",
       "      <td>5</td>\n",
       "    </tr>\n",
       "    <tr>\n",
       "      <th>2019-08-16 01:00:00</th>\n",
       "      <td>1.826572</td>\n",
       "      <td>0.659380</td>\n",
       "      <td>1.079918</td>\n",
       "      <td>5</td>\n",
       "      <td>6</td>\n",
       "    </tr>\n",
       "  </tbody>\n",
       "</table>\n",
       "</div>"
      ],
      "text/plain": [
       "                            A         B         C  D  F\n",
       "2019-08-15 10:00:00  0.549361  0.886143  0.075019  5  3\n",
       "2019-08-15 15:00:00  1.645027  0.027756  0.665225  5  4\n",
       "2019-08-15 20:00:00  0.633535 -1.999516 -0.310198  5  5\n",
       "2019-08-16 01:00:00  1.826572  0.659380  1.079918  5  6"
      ]
     },
     "execution_count": 113,
     "metadata": {},
     "output_type": "execute_result"
    }
   ],
   "source": [
    "df1"
   ]
  },
  {
   "cell_type": "markdown",
   "metadata": {},
   "source": [
    "## apply"
   ]
  },
  {
   "cell_type": "code",
   "execution_count": 118,
   "metadata": {},
   "outputs": [
    {
     "data": {
      "text/html": [
       "<div>\n",
       "<style scoped>\n",
       "    .dataframe tbody tr th:only-of-type {\n",
       "        vertical-align: middle;\n",
       "    }\n",
       "\n",
       "    .dataframe tbody tr th {\n",
       "        vertical-align: top;\n",
       "    }\n",
       "\n",
       "    .dataframe thead th {\n",
       "        text-align: right;\n",
       "    }\n",
       "</style>\n",
       "<table border=\"1\" class=\"dataframe\">\n",
       "  <thead>\n",
       "    <tr style=\"text-align: right;\">\n",
       "      <th></th>\n",
       "      <th>A</th>\n",
       "      <th>B</th>\n",
       "      <th>C</th>\n",
       "      <th>D</th>\n",
       "      <th>F</th>\n",
       "    </tr>\n",
       "  </thead>\n",
       "  <tbody>\n",
       "    <tr>\n",
       "      <th>2019-08-15 10:00:00</th>\n",
       "      <td>0.549361</td>\n",
       "      <td>0.886143</td>\n",
       "      <td>0.075019</td>\n",
       "      <td>5</td>\n",
       "      <td>3</td>\n",
       "    </tr>\n",
       "    <tr>\n",
       "      <th>2019-08-15 15:00:00</th>\n",
       "      <td>1.645027</td>\n",
       "      <td>0.027756</td>\n",
       "      <td>0.665225</td>\n",
       "      <td>5</td>\n",
       "      <td>4</td>\n",
       "    </tr>\n",
       "    <tr>\n",
       "      <th>2019-08-15 20:00:00</th>\n",
       "      <td>0.633535</td>\n",
       "      <td>-1.999516</td>\n",
       "      <td>-0.310198</td>\n",
       "      <td>5</td>\n",
       "      <td>5</td>\n",
       "    </tr>\n",
       "    <tr>\n",
       "      <th>2019-08-16 01:00:00</th>\n",
       "      <td>1.826572</td>\n",
       "      <td>0.659380</td>\n",
       "      <td>1.079918</td>\n",
       "      <td>5</td>\n",
       "      <td>6</td>\n",
       "    </tr>\n",
       "  </tbody>\n",
       "</table>\n",
       "</div>"
      ],
      "text/plain": [
       "                            A         B         C  D  F\n",
       "2019-08-15 10:00:00  0.549361  0.886143  0.075019  5  3\n",
       "2019-08-15 15:00:00  1.645027  0.027756  0.665225  5  4\n",
       "2019-08-15 20:00:00  0.633535 -1.999516 -0.310198  5  5\n",
       "2019-08-16 01:00:00  1.826572  0.659380  1.079918  5  6"
      ]
     },
     "execution_count": 118,
     "metadata": {},
     "output_type": "execute_result"
    }
   ],
   "source": [
    "df"
   ]
  },
  {
   "cell_type": "code",
   "execution_count": 117,
   "metadata": {},
   "outputs": [
    {
     "data": {
      "text/html": [
       "<div>\n",
       "<style scoped>\n",
       "    .dataframe tbody tr th:only-of-type {\n",
       "        vertical-align: middle;\n",
       "    }\n",
       "\n",
       "    .dataframe tbody tr th {\n",
       "        vertical-align: top;\n",
       "    }\n",
       "\n",
       "    .dataframe thead th {\n",
       "        text-align: right;\n",
       "    }\n",
       "</style>\n",
       "<table border=\"1\" class=\"dataframe\">\n",
       "  <thead>\n",
       "    <tr style=\"text-align: right;\">\n",
       "      <th></th>\n",
       "      <th>A</th>\n",
       "      <th>B</th>\n",
       "      <th>C</th>\n",
       "      <th>D</th>\n",
       "      <th>F</th>\n",
       "    </tr>\n",
       "  </thead>\n",
       "  <tbody>\n",
       "    <tr>\n",
       "      <th>2019-08-15 10:00:00</th>\n",
       "      <td>0.549361</td>\n",
       "      <td>0.886143</td>\n",
       "      <td>0.075019</td>\n",
       "      <td>5</td>\n",
       "      <td>3</td>\n",
       "    </tr>\n",
       "    <tr>\n",
       "      <th>2019-08-15 15:00:00</th>\n",
       "      <td>2.194388</td>\n",
       "      <td>0.913899</td>\n",
       "      <td>0.740244</td>\n",
       "      <td>10</td>\n",
       "      <td>7</td>\n",
       "    </tr>\n",
       "    <tr>\n",
       "      <th>2019-08-15 20:00:00</th>\n",
       "      <td>2.827923</td>\n",
       "      <td>-1.085617</td>\n",
       "      <td>0.430046</td>\n",
       "      <td>15</td>\n",
       "      <td>12</td>\n",
       "    </tr>\n",
       "    <tr>\n",
       "      <th>2019-08-16 01:00:00</th>\n",
       "      <td>4.654495</td>\n",
       "      <td>-0.426237</td>\n",
       "      <td>1.509964</td>\n",
       "      <td>20</td>\n",
       "      <td>18</td>\n",
       "    </tr>\n",
       "  </tbody>\n",
       "</table>\n",
       "</div>"
      ],
      "text/plain": [
       "                            A         B         C   D   F\n",
       "2019-08-15 10:00:00  0.549361  0.886143  0.075019   5   3\n",
       "2019-08-15 15:00:00  2.194388  0.913899  0.740244  10   7\n",
       "2019-08-15 20:00:00  2.827923 -1.085617  0.430046  15  12\n",
       "2019-08-16 01:00:00  4.654495 -0.426237  1.509964  20  18"
      ]
     },
     "execution_count": 117,
     "metadata": {},
     "output_type": "execute_result"
    }
   ],
   "source": [
    "df.apply(np.cumsum)"
   ]
  },
  {
   "cell_type": "code",
   "execution_count": 119,
   "metadata": {},
   "outputs": [
    {
     "data": {
      "text/plain": [
       "A    1.277211\n",
       "B    2.885659\n",
       "C    1.390116\n",
       "D    0.000000\n",
       "F    3.000000\n",
       "dtype: float64"
      ]
     },
     "execution_count": 119,
     "metadata": {},
     "output_type": "execute_result"
    }
   ],
   "source": [
    "df.apply(lambda x: x.max() - x.min())"
   ]
  },
  {
   "cell_type": "markdown",
   "metadata": {},
   "source": [
    "## histogramming"
   ]
  },
  {
   "cell_type": "code",
   "execution_count": 121,
   "metadata": {},
   "outputs": [
    {
     "data": {
      "text/plain": [
       "0    0\n",
       "1    3\n",
       "2    5\n",
       "3    4\n",
       "4    2\n",
       "5    3\n",
       "6    2\n",
       "7    0\n",
       "8    1\n",
       "9    0\n",
       "dtype: int32"
      ]
     },
     "execution_count": 121,
     "metadata": {},
     "output_type": "execute_result"
    }
   ],
   "source": [
    "s = pd.Series(np.random.randint(0,7,10))\n",
    "s"
   ]
  },
  {
   "cell_type": "code",
   "execution_count": 122,
   "metadata": {},
   "outputs": [
    {
     "data": {
      "text/plain": [
       "0    3\n",
       "3    2\n",
       "2    2\n",
       "5    1\n",
       "4    1\n",
       "1    1\n",
       "dtype: int64"
      ]
     },
     "execution_count": 122,
     "metadata": {},
     "output_type": "execute_result"
    }
   ],
   "source": [
    "s.value_counts()"
   ]
  },
  {
   "cell_type": "markdown",
   "metadata": {},
   "source": [
    "## string method"
   ]
  },
  {
   "cell_type": "code",
   "execution_count": 123,
   "metadata": {},
   "outputs": [
    {
     "data": {
      "text/plain": [
       "0       A\n",
       "1       B\n",
       "2       C\n",
       "3    Aaba\n",
       "4    Baca\n",
       "5     NaN\n",
       "6    CABA\n",
       "7     dog\n",
       "8     cat\n",
       "dtype: object"
      ]
     },
     "execution_count": 123,
     "metadata": {},
     "output_type": "execute_result"
    }
   ],
   "source": [
    "s = pd.Series(['A', 'B','C','Aaba', 'Baca', np.nan, 'CABA','dog', 'cat'])\n",
    "s"
   ]
  },
  {
   "cell_type": "code",
   "execution_count": 125,
   "metadata": {},
   "outputs": [
    {
     "data": {
      "text/plain": [
       "0       a\n",
       "1       b\n",
       "2       c\n",
       "3    aaba\n",
       "4    baca\n",
       "5     NaN\n",
       "6    caba\n",
       "7     dog\n",
       "8     cat\n",
       "dtype: object"
      ]
     },
     "execution_count": 125,
     "metadata": {},
     "output_type": "execute_result"
    }
   ],
   "source": [
    "s.str.lower()"
   ]
  },
  {
   "cell_type": "code",
   "execution_count": 129,
   "metadata": {},
   "outputs": [
    {
     "data": {
      "text/plain": [
       "0       A\n",
       "1       B\n",
       "2       C\n",
       "3    Aaba\n",
       "4    Baca\n",
       "5     NaN\n",
       "6    Caba\n",
       "7     Dog\n",
       "8     Cat\n",
       "dtype: object"
      ]
     },
     "execution_count": 129,
     "metadata": {},
     "output_type": "execute_result"
    }
   ],
   "source": [
    "s.str.capitalize()"
   ]
  },
  {
   "cell_type": "markdown",
   "metadata": {},
   "source": [
    "# merge"
   ]
  },
  {
   "cell_type": "markdown",
   "metadata": {},
   "source": [
    "## concat"
   ]
  },
  {
   "cell_type": "code",
   "execution_count": 130,
   "metadata": {},
   "outputs": [
    {
     "data": {
      "text/html": [
       "<div>\n",
       "<style scoped>\n",
       "    .dataframe tbody tr th:only-of-type {\n",
       "        vertical-align: middle;\n",
       "    }\n",
       "\n",
       "    .dataframe tbody tr th {\n",
       "        vertical-align: top;\n",
       "    }\n",
       "\n",
       "    .dataframe thead th {\n",
       "        text-align: right;\n",
       "    }\n",
       "</style>\n",
       "<table border=\"1\" class=\"dataframe\">\n",
       "  <thead>\n",
       "    <tr style=\"text-align: right;\">\n",
       "      <th></th>\n",
       "      <th>0</th>\n",
       "      <th>1</th>\n",
       "      <th>2</th>\n",
       "      <th>3</th>\n",
       "    </tr>\n",
       "  </thead>\n",
       "  <tbody>\n",
       "    <tr>\n",
       "      <th>0</th>\n",
       "      <td>1.257250</td>\n",
       "      <td>-0.301448</td>\n",
       "      <td>0.770407</td>\n",
       "      <td>1.252171</td>\n",
       "    </tr>\n",
       "    <tr>\n",
       "      <th>1</th>\n",
       "      <td>-0.401851</td>\n",
       "      <td>-1.603580</td>\n",
       "      <td>-0.218694</td>\n",
       "      <td>0.738113</td>\n",
       "    </tr>\n",
       "    <tr>\n",
       "      <th>2</th>\n",
       "      <td>0.576798</td>\n",
       "      <td>2.420745</td>\n",
       "      <td>0.464464</td>\n",
       "      <td>1.468639</td>\n",
       "    </tr>\n",
       "    <tr>\n",
       "      <th>3</th>\n",
       "      <td>-0.817732</td>\n",
       "      <td>-0.160105</td>\n",
       "      <td>0.025511</td>\n",
       "      <td>-1.535101</td>\n",
       "    </tr>\n",
       "    <tr>\n",
       "      <th>4</th>\n",
       "      <td>0.655312</td>\n",
       "      <td>-0.056606</td>\n",
       "      <td>-0.296281</td>\n",
       "      <td>-0.406757</td>\n",
       "    </tr>\n",
       "    <tr>\n",
       "      <th>5</th>\n",
       "      <td>0.242059</td>\n",
       "      <td>0.893288</td>\n",
       "      <td>-0.397097</td>\n",
       "      <td>0.512282</td>\n",
       "    </tr>\n",
       "    <tr>\n",
       "      <th>6</th>\n",
       "      <td>-1.497781</td>\n",
       "      <td>1.097363</td>\n",
       "      <td>-0.897078</td>\n",
       "      <td>-1.287363</td>\n",
       "    </tr>\n",
       "    <tr>\n",
       "      <th>7</th>\n",
       "      <td>0.235770</td>\n",
       "      <td>0.546257</td>\n",
       "      <td>-0.313951</td>\n",
       "      <td>-0.412491</td>\n",
       "    </tr>\n",
       "    <tr>\n",
       "      <th>8</th>\n",
       "      <td>-0.746392</td>\n",
       "      <td>-0.507524</td>\n",
       "      <td>-1.070780</td>\n",
       "      <td>0.126127</td>\n",
       "    </tr>\n",
       "    <tr>\n",
       "      <th>9</th>\n",
       "      <td>0.465455</td>\n",
       "      <td>0.552745</td>\n",
       "      <td>0.397584</td>\n",
       "      <td>-1.579143</td>\n",
       "    </tr>\n",
       "  </tbody>\n",
       "</table>\n",
       "</div>"
      ],
      "text/plain": [
       "          0         1         2         3\n",
       "0  1.257250 -0.301448  0.770407  1.252171\n",
       "1 -0.401851 -1.603580 -0.218694  0.738113\n",
       "2  0.576798  2.420745  0.464464  1.468639\n",
       "3 -0.817732 -0.160105  0.025511 -1.535101\n",
       "4  0.655312 -0.056606 -0.296281 -0.406757\n",
       "5  0.242059  0.893288 -0.397097  0.512282\n",
       "6 -1.497781  1.097363 -0.897078 -1.287363\n",
       "7  0.235770  0.546257 -0.313951 -0.412491\n",
       "8 -0.746392 -0.507524 -1.070780  0.126127\n",
       "9  0.465455  0.552745  0.397584 -1.579143"
      ]
     },
     "execution_count": 130,
     "metadata": {},
     "output_type": "execute_result"
    }
   ],
   "source": [
    "df = pd.DataFrame(np.random.randn(10, 4))\n",
    "df"
   ]
  },
  {
   "cell_type": "code",
   "execution_count": 131,
   "metadata": {},
   "outputs": [
    {
     "data": {
      "text/plain": [
       "[          0         1         2         3\n",
       " 0  1.257250 -0.301448  0.770407  1.252171\n",
       " 1 -0.401851 -1.603580 -0.218694  0.738113\n",
       " 2  0.576798  2.420745  0.464464  1.468639,\n",
       "           0         1         2         3\n",
       " 3 -0.817732 -0.160105  0.025511 -1.535101\n",
       " 4  0.655312 -0.056606 -0.296281 -0.406757\n",
       " 5  0.242059  0.893288 -0.397097  0.512282\n",
       " 6 -1.497781  1.097363 -0.897078 -1.287363,\n",
       "           0         1         2         3\n",
       " 7  0.235770  0.546257 -0.313951 -0.412491\n",
       " 8 -0.746392 -0.507524 -1.070780  0.126127\n",
       " 9  0.465455  0.552745  0.397584 -1.579143]"
      ]
     },
     "execution_count": 131,
     "metadata": {},
     "output_type": "execute_result"
    }
   ],
   "source": [
    "pieces = [df[:3],df[3:7], df[7:]]\n",
    "pieces"
   ]
  },
  {
   "cell_type": "code",
   "execution_count": 132,
   "metadata": {},
   "outputs": [
    {
     "data": {
      "text/html": [
       "<div>\n",
       "<style scoped>\n",
       "    .dataframe tbody tr th:only-of-type {\n",
       "        vertical-align: middle;\n",
       "    }\n",
       "\n",
       "    .dataframe tbody tr th {\n",
       "        vertical-align: top;\n",
       "    }\n",
       "\n",
       "    .dataframe thead th {\n",
       "        text-align: right;\n",
       "    }\n",
       "</style>\n",
       "<table border=\"1\" class=\"dataframe\">\n",
       "  <thead>\n",
       "    <tr style=\"text-align: right;\">\n",
       "      <th></th>\n",
       "      <th>0</th>\n",
       "      <th>1</th>\n",
       "      <th>2</th>\n",
       "      <th>3</th>\n",
       "    </tr>\n",
       "  </thead>\n",
       "  <tbody>\n",
       "    <tr>\n",
       "      <th>0</th>\n",
       "      <td>1.257250</td>\n",
       "      <td>-0.301448</td>\n",
       "      <td>0.770407</td>\n",
       "      <td>1.252171</td>\n",
       "    </tr>\n",
       "    <tr>\n",
       "      <th>1</th>\n",
       "      <td>-0.401851</td>\n",
       "      <td>-1.603580</td>\n",
       "      <td>-0.218694</td>\n",
       "      <td>0.738113</td>\n",
       "    </tr>\n",
       "    <tr>\n",
       "      <th>2</th>\n",
       "      <td>0.576798</td>\n",
       "      <td>2.420745</td>\n",
       "      <td>0.464464</td>\n",
       "      <td>1.468639</td>\n",
       "    </tr>\n",
       "    <tr>\n",
       "      <th>3</th>\n",
       "      <td>-0.817732</td>\n",
       "      <td>-0.160105</td>\n",
       "      <td>0.025511</td>\n",
       "      <td>-1.535101</td>\n",
       "    </tr>\n",
       "    <tr>\n",
       "      <th>4</th>\n",
       "      <td>0.655312</td>\n",
       "      <td>-0.056606</td>\n",
       "      <td>-0.296281</td>\n",
       "      <td>-0.406757</td>\n",
       "    </tr>\n",
       "    <tr>\n",
       "      <th>5</th>\n",
       "      <td>0.242059</td>\n",
       "      <td>0.893288</td>\n",
       "      <td>-0.397097</td>\n",
       "      <td>0.512282</td>\n",
       "    </tr>\n",
       "    <tr>\n",
       "      <th>6</th>\n",
       "      <td>-1.497781</td>\n",
       "      <td>1.097363</td>\n",
       "      <td>-0.897078</td>\n",
       "      <td>-1.287363</td>\n",
       "    </tr>\n",
       "    <tr>\n",
       "      <th>7</th>\n",
       "      <td>0.235770</td>\n",
       "      <td>0.546257</td>\n",
       "      <td>-0.313951</td>\n",
       "      <td>-0.412491</td>\n",
       "    </tr>\n",
       "    <tr>\n",
       "      <th>8</th>\n",
       "      <td>-0.746392</td>\n",
       "      <td>-0.507524</td>\n",
       "      <td>-1.070780</td>\n",
       "      <td>0.126127</td>\n",
       "    </tr>\n",
       "    <tr>\n",
       "      <th>9</th>\n",
       "      <td>0.465455</td>\n",
       "      <td>0.552745</td>\n",
       "      <td>0.397584</td>\n",
       "      <td>-1.579143</td>\n",
       "    </tr>\n",
       "  </tbody>\n",
       "</table>\n",
       "</div>"
      ],
      "text/plain": [
       "          0         1         2         3\n",
       "0  1.257250 -0.301448  0.770407  1.252171\n",
       "1 -0.401851 -1.603580 -0.218694  0.738113\n",
       "2  0.576798  2.420745  0.464464  1.468639\n",
       "3 -0.817732 -0.160105  0.025511 -1.535101\n",
       "4  0.655312 -0.056606 -0.296281 -0.406757\n",
       "5  0.242059  0.893288 -0.397097  0.512282\n",
       "6 -1.497781  1.097363 -0.897078 -1.287363\n",
       "7  0.235770  0.546257 -0.313951 -0.412491\n",
       "8 -0.746392 -0.507524 -1.070780  0.126127\n",
       "9  0.465455  0.552745  0.397584 -1.579143"
      ]
     },
     "execution_count": 132,
     "metadata": {},
     "output_type": "execute_result"
    }
   ],
   "source": [
    "pd.concat(pieces)"
   ]
  },
  {
   "cell_type": "markdown",
   "metadata": {},
   "source": [
    "## join"
   ]
  },
  {
   "cell_type": "code",
   "execution_count": 137,
   "metadata": {},
   "outputs": [
    {
     "data": {
      "text/html": [
       "<div>\n",
       "<style scoped>\n",
       "    .dataframe tbody tr th:only-of-type {\n",
       "        vertical-align: middle;\n",
       "    }\n",
       "\n",
       "    .dataframe tbody tr th {\n",
       "        vertical-align: top;\n",
       "    }\n",
       "\n",
       "    .dataframe thead th {\n",
       "        text-align: right;\n",
       "    }\n",
       "</style>\n",
       "<table border=\"1\" class=\"dataframe\">\n",
       "  <thead>\n",
       "    <tr style=\"text-align: right;\">\n",
       "      <th></th>\n",
       "      <th>key</th>\n",
       "      <th>lval</th>\n",
       "    </tr>\n",
       "  </thead>\n",
       "  <tbody>\n",
       "    <tr>\n",
       "      <th>0</th>\n",
       "      <td>foo</td>\n",
       "      <td>1</td>\n",
       "    </tr>\n",
       "    <tr>\n",
       "      <th>1</th>\n",
       "      <td>bar</td>\n",
       "      <td>2</td>\n",
       "    </tr>\n",
       "  </tbody>\n",
       "</table>\n",
       "</div>"
      ],
      "text/plain": [
       "   key  lval\n",
       "0  foo     1\n",
       "1  bar     2"
      ]
     },
     "execution_count": 137,
     "metadata": {},
     "output_type": "execute_result"
    }
   ],
   "source": [
    "left = pd.DataFrame({'key':['foo','bar'], 'lval':[1, 2]})\n",
    "left"
   ]
  },
  {
   "cell_type": "code",
   "execution_count": 138,
   "metadata": {},
   "outputs": [
    {
     "data": {
      "text/html": [
       "<div>\n",
       "<style scoped>\n",
       "    .dataframe tbody tr th:only-of-type {\n",
       "        vertical-align: middle;\n",
       "    }\n",
       "\n",
       "    .dataframe tbody tr th {\n",
       "        vertical-align: top;\n",
       "    }\n",
       "\n",
       "    .dataframe thead th {\n",
       "        text-align: right;\n",
       "    }\n",
       "</style>\n",
       "<table border=\"1\" class=\"dataframe\">\n",
       "  <thead>\n",
       "    <tr style=\"text-align: right;\">\n",
       "      <th></th>\n",
       "      <th>key</th>\n",
       "      <th>rval</th>\n",
       "    </tr>\n",
       "  </thead>\n",
       "  <tbody>\n",
       "    <tr>\n",
       "      <th>0</th>\n",
       "      <td>foo</td>\n",
       "      <td>4</td>\n",
       "    </tr>\n",
       "    <tr>\n",
       "      <th>1</th>\n",
       "      <td>bar</td>\n",
       "      <td>5</td>\n",
       "    </tr>\n",
       "  </tbody>\n",
       "</table>\n",
       "</div>"
      ],
      "text/plain": [
       "   key  rval\n",
       "0  foo     4\n",
       "1  bar     5"
      ]
     },
     "execution_count": 138,
     "metadata": {},
     "output_type": "execute_result"
    }
   ],
   "source": [
    "right = pd.DataFrame({'key':['foo','bar'], 'rval':[4, 5]})\n",
    "right"
   ]
  },
  {
   "cell_type": "code",
   "execution_count": 139,
   "metadata": {},
   "outputs": [
    {
     "data": {
      "text/html": [
       "<div>\n",
       "<style scoped>\n",
       "    .dataframe tbody tr th:only-of-type {\n",
       "        vertical-align: middle;\n",
       "    }\n",
       "\n",
       "    .dataframe tbody tr th {\n",
       "        vertical-align: top;\n",
       "    }\n",
       "\n",
       "    .dataframe thead th {\n",
       "        text-align: right;\n",
       "    }\n",
       "</style>\n",
       "<table border=\"1\" class=\"dataframe\">\n",
       "  <thead>\n",
       "    <tr style=\"text-align: right;\">\n",
       "      <th></th>\n",
       "      <th>key</th>\n",
       "      <th>lval</th>\n",
       "      <th>rval</th>\n",
       "    </tr>\n",
       "  </thead>\n",
       "  <tbody>\n",
       "    <tr>\n",
       "      <th>0</th>\n",
       "      <td>foo</td>\n",
       "      <td>1</td>\n",
       "      <td>4</td>\n",
       "    </tr>\n",
       "    <tr>\n",
       "      <th>1</th>\n",
       "      <td>bar</td>\n",
       "      <td>2</td>\n",
       "      <td>5</td>\n",
       "    </tr>\n",
       "  </tbody>\n",
       "</table>\n",
       "</div>"
      ],
      "text/plain": [
       "   key  lval  rval\n",
       "0  foo     1     4\n",
       "1  bar     2     5"
      ]
     },
     "execution_count": 139,
     "metadata": {},
     "output_type": "execute_result"
    }
   ],
   "source": [
    "pd.merge(left, right, on='key')"
   ]
  },
  {
   "cell_type": "markdown",
   "metadata": {},
   "source": [
    "## append"
   ]
  },
  {
   "cell_type": "code",
   "execution_count": 140,
   "metadata": {},
   "outputs": [
    {
     "data": {
      "text/html": [
       "<div>\n",
       "<style scoped>\n",
       "    .dataframe tbody tr th:only-of-type {\n",
       "        vertical-align: middle;\n",
       "    }\n",
       "\n",
       "    .dataframe tbody tr th {\n",
       "        vertical-align: top;\n",
       "    }\n",
       "\n",
       "    .dataframe thead th {\n",
       "        text-align: right;\n",
       "    }\n",
       "</style>\n",
       "<table border=\"1\" class=\"dataframe\">\n",
       "  <thead>\n",
       "    <tr style=\"text-align: right;\">\n",
       "      <th></th>\n",
       "      <th>A</th>\n",
       "      <th>B</th>\n",
       "      <th>C</th>\n",
       "      <th>D</th>\n",
       "    </tr>\n",
       "  </thead>\n",
       "  <tbody>\n",
       "    <tr>\n",
       "      <th>0</th>\n",
       "      <td>-0.316133</td>\n",
       "      <td>0.346913</td>\n",
       "      <td>-0.325721</td>\n",
       "      <td>-0.684281</td>\n",
       "    </tr>\n",
       "    <tr>\n",
       "      <th>1</th>\n",
       "      <td>0.548691</td>\n",
       "      <td>-0.333879</td>\n",
       "      <td>0.593955</td>\n",
       "      <td>-1.149790</td>\n",
       "    </tr>\n",
       "    <tr>\n",
       "      <th>2</th>\n",
       "      <td>0.373833</td>\n",
       "      <td>2.208306</td>\n",
       "      <td>1.482673</td>\n",
       "      <td>-0.233149</td>\n",
       "    </tr>\n",
       "    <tr>\n",
       "      <th>3</th>\n",
       "      <td>0.817413</td>\n",
       "      <td>-1.025797</td>\n",
       "      <td>0.151947</td>\n",
       "      <td>-0.210419</td>\n",
       "    </tr>\n",
       "    <tr>\n",
       "      <th>4</th>\n",
       "      <td>-1.461052</td>\n",
       "      <td>-0.130257</td>\n",
       "      <td>1.072813</td>\n",
       "      <td>-0.695716</td>\n",
       "    </tr>\n",
       "    <tr>\n",
       "      <th>5</th>\n",
       "      <td>-0.687976</td>\n",
       "      <td>-0.861717</td>\n",
       "      <td>-0.339829</td>\n",
       "      <td>-1.269168</td>\n",
       "    </tr>\n",
       "    <tr>\n",
       "      <th>6</th>\n",
       "      <td>-0.921404</td>\n",
       "      <td>2.102413</td>\n",
       "      <td>-0.119485</td>\n",
       "      <td>-0.216438</td>\n",
       "    </tr>\n",
       "    <tr>\n",
       "      <th>7</th>\n",
       "      <td>-0.319333</td>\n",
       "      <td>-0.762085</td>\n",
       "      <td>0.501711</td>\n",
       "      <td>0.884600</td>\n",
       "    </tr>\n",
       "  </tbody>\n",
       "</table>\n",
       "</div>"
      ],
      "text/plain": [
       "          A         B         C         D\n",
       "0 -0.316133  0.346913 -0.325721 -0.684281\n",
       "1  0.548691 -0.333879  0.593955 -1.149790\n",
       "2  0.373833  2.208306  1.482673 -0.233149\n",
       "3  0.817413 -1.025797  0.151947 -0.210419\n",
       "4 -1.461052 -0.130257  1.072813 -0.695716\n",
       "5 -0.687976 -0.861717 -0.339829 -1.269168\n",
       "6 -0.921404  2.102413 -0.119485 -0.216438\n",
       "7 -0.319333 -0.762085  0.501711  0.884600"
      ]
     },
     "execution_count": 140,
     "metadata": {},
     "output_type": "execute_result"
    }
   ],
   "source": [
    "df = pd.DataFrame(np.random.randn(8,4), columns=list('ABCD'))\n",
    "df"
   ]
  },
  {
   "cell_type": "code",
   "execution_count": 141,
   "metadata": {},
   "outputs": [],
   "source": [
    "df.iloc[3] = list('abcd')"
   ]
  },
  {
   "cell_type": "code",
   "execution_count": 142,
   "metadata": {},
   "outputs": [
    {
     "data": {
      "text/html": [
       "<div>\n",
       "<style scoped>\n",
       "    .dataframe tbody tr th:only-of-type {\n",
       "        vertical-align: middle;\n",
       "    }\n",
       "\n",
       "    .dataframe tbody tr th {\n",
       "        vertical-align: top;\n",
       "    }\n",
       "\n",
       "    .dataframe thead th {\n",
       "        text-align: right;\n",
       "    }\n",
       "</style>\n",
       "<table border=\"1\" class=\"dataframe\">\n",
       "  <thead>\n",
       "    <tr style=\"text-align: right;\">\n",
       "      <th></th>\n",
       "      <th>A</th>\n",
       "      <th>B</th>\n",
       "      <th>C</th>\n",
       "      <th>D</th>\n",
       "    </tr>\n",
       "  </thead>\n",
       "  <tbody>\n",
       "    <tr>\n",
       "      <th>0</th>\n",
       "      <td>-0.316133</td>\n",
       "      <td>0.346913</td>\n",
       "      <td>-0.325721</td>\n",
       "      <td>-0.684281</td>\n",
       "    </tr>\n",
       "    <tr>\n",
       "      <th>1</th>\n",
       "      <td>0.548691</td>\n",
       "      <td>-0.333879</td>\n",
       "      <td>0.593955</td>\n",
       "      <td>-1.14979</td>\n",
       "    </tr>\n",
       "    <tr>\n",
       "      <th>2</th>\n",
       "      <td>0.373833</td>\n",
       "      <td>2.20831</td>\n",
       "      <td>1.48267</td>\n",
       "      <td>-0.233149</td>\n",
       "    </tr>\n",
       "    <tr>\n",
       "      <th>3</th>\n",
       "      <td>a</td>\n",
       "      <td>b</td>\n",
       "      <td>c</td>\n",
       "      <td>d</td>\n",
       "    </tr>\n",
       "    <tr>\n",
       "      <th>4</th>\n",
       "      <td>-1.46105</td>\n",
       "      <td>-0.130257</td>\n",
       "      <td>1.07281</td>\n",
       "      <td>-0.695716</td>\n",
       "    </tr>\n",
       "    <tr>\n",
       "      <th>5</th>\n",
       "      <td>-0.687976</td>\n",
       "      <td>-0.861717</td>\n",
       "      <td>-0.339829</td>\n",
       "      <td>-1.26917</td>\n",
       "    </tr>\n",
       "    <tr>\n",
       "      <th>6</th>\n",
       "      <td>-0.921404</td>\n",
       "      <td>2.10241</td>\n",
       "      <td>-0.119485</td>\n",
       "      <td>-0.216438</td>\n",
       "    </tr>\n",
       "    <tr>\n",
       "      <th>7</th>\n",
       "      <td>-0.319333</td>\n",
       "      <td>-0.762085</td>\n",
       "      <td>0.501711</td>\n",
       "      <td>0.8846</td>\n",
       "    </tr>\n",
       "  </tbody>\n",
       "</table>\n",
       "</div>"
      ],
      "text/plain": [
       "          A         B         C         D\n",
       "0 -0.316133  0.346913 -0.325721 -0.684281\n",
       "1  0.548691 -0.333879  0.593955  -1.14979\n",
       "2  0.373833   2.20831   1.48267 -0.233149\n",
       "3         a         b         c         d\n",
       "4  -1.46105 -0.130257   1.07281 -0.695716\n",
       "5 -0.687976 -0.861717 -0.339829  -1.26917\n",
       "6 -0.921404   2.10241 -0.119485 -0.216438\n",
       "7 -0.319333 -0.762085  0.501711    0.8846"
      ]
     },
     "execution_count": 142,
     "metadata": {},
     "output_type": "execute_result"
    }
   ],
   "source": [
    "df"
   ]
  },
  {
   "cell_type": "code",
   "execution_count": 144,
   "metadata": {},
   "outputs": [
    {
     "data": {
      "text/plain": [
       "A    a\n",
       "B    b\n",
       "C    c\n",
       "D    d\n",
       "Name: 3, dtype: object"
      ]
     },
     "execution_count": 144,
     "metadata": {},
     "output_type": "execute_result"
    }
   ],
   "source": [
    "s = df.iloc[3]\n",
    "s"
   ]
  },
  {
   "cell_type": "code",
   "execution_count": 151,
   "metadata": {},
   "outputs": [
    {
     "data": {
      "text/html": [
       "<div>\n",
       "<style scoped>\n",
       "    .dataframe tbody tr th:only-of-type {\n",
       "        vertical-align: middle;\n",
       "    }\n",
       "\n",
       "    .dataframe tbody tr th {\n",
       "        vertical-align: top;\n",
       "    }\n",
       "\n",
       "    .dataframe thead th {\n",
       "        text-align: right;\n",
       "    }\n",
       "</style>\n",
       "<table border=\"1\" class=\"dataframe\">\n",
       "  <thead>\n",
       "    <tr style=\"text-align: right;\">\n",
       "      <th></th>\n",
       "      <th>A</th>\n",
       "      <th>B</th>\n",
       "      <th>C</th>\n",
       "      <th>D</th>\n",
       "    </tr>\n",
       "  </thead>\n",
       "  <tbody>\n",
       "    <tr>\n",
       "      <th>0</th>\n",
       "      <td>-0.316133</td>\n",
       "      <td>0.346913</td>\n",
       "      <td>-0.325721</td>\n",
       "      <td>-0.684281</td>\n",
       "    </tr>\n",
       "    <tr>\n",
       "      <th>1</th>\n",
       "      <td>0.548691</td>\n",
       "      <td>-0.333879</td>\n",
       "      <td>0.593955</td>\n",
       "      <td>-1.14979</td>\n",
       "    </tr>\n",
       "    <tr>\n",
       "      <th>2</th>\n",
       "      <td>0.373833</td>\n",
       "      <td>2.20831</td>\n",
       "      <td>1.48267</td>\n",
       "      <td>-0.233149</td>\n",
       "    </tr>\n",
       "    <tr>\n",
       "      <th>3</th>\n",
       "      <td>a</td>\n",
       "      <td>b</td>\n",
       "      <td>c</td>\n",
       "      <td>d</td>\n",
       "    </tr>\n",
       "    <tr>\n",
       "      <th>4</th>\n",
       "      <td>-1.46105</td>\n",
       "      <td>-0.130257</td>\n",
       "      <td>1.07281</td>\n",
       "      <td>-0.695716</td>\n",
       "    </tr>\n",
       "    <tr>\n",
       "      <th>5</th>\n",
       "      <td>-0.687976</td>\n",
       "      <td>-0.861717</td>\n",
       "      <td>-0.339829</td>\n",
       "      <td>-1.26917</td>\n",
       "    </tr>\n",
       "    <tr>\n",
       "      <th>6</th>\n",
       "      <td>-0.921404</td>\n",
       "      <td>2.10241</td>\n",
       "      <td>-0.119485</td>\n",
       "      <td>-0.216438</td>\n",
       "    </tr>\n",
       "    <tr>\n",
       "      <th>7</th>\n",
       "      <td>-0.319333</td>\n",
       "      <td>-0.762085</td>\n",
       "      <td>0.501711</td>\n",
       "      <td>0.8846</td>\n",
       "    </tr>\n",
       "    <tr>\n",
       "      <th>8</th>\n",
       "      <td>a</td>\n",
       "      <td>b</td>\n",
       "      <td>c</td>\n",
       "      <td>d</td>\n",
       "    </tr>\n",
       "  </tbody>\n",
       "</table>\n",
       "</div>"
      ],
      "text/plain": [
       "          A         B         C         D\n",
       "0 -0.316133  0.346913 -0.325721 -0.684281\n",
       "1  0.548691 -0.333879  0.593955  -1.14979\n",
       "2  0.373833   2.20831   1.48267 -0.233149\n",
       "3         a         b         c         d\n",
       "4  -1.46105 -0.130257   1.07281 -0.695716\n",
       "5 -0.687976 -0.861717 -0.339829  -1.26917\n",
       "6 -0.921404   2.10241 -0.119485 -0.216438\n",
       "7 -0.319333 -0.762085  0.501711    0.8846\n",
       "8         a         b         c         d"
      ]
     },
     "execution_count": 151,
     "metadata": {},
     "output_type": "execute_result"
    }
   ],
   "source": [
    "df.append(s, ignore_index=True)"
   ]
  },
  {
   "cell_type": "markdown",
   "metadata": {},
   "source": [
    "# grouping"
   ]
  },
  {
   "cell_type": "code",
   "execution_count": 152,
   "metadata": {},
   "outputs": [
    {
     "data": {
      "text/html": [
       "<div>\n",
       "<style scoped>\n",
       "    .dataframe tbody tr th:only-of-type {\n",
       "        vertical-align: middle;\n",
       "    }\n",
       "\n",
       "    .dataframe tbody tr th {\n",
       "        vertical-align: top;\n",
       "    }\n",
       "\n",
       "    .dataframe thead th {\n",
       "        text-align: right;\n",
       "    }\n",
       "</style>\n",
       "<table border=\"1\" class=\"dataframe\">\n",
       "  <thead>\n",
       "    <tr style=\"text-align: right;\">\n",
       "      <th></th>\n",
       "      <th>A</th>\n",
       "      <th>B</th>\n",
       "      <th>C</th>\n",
       "      <th>D</th>\n",
       "    </tr>\n",
       "  </thead>\n",
       "  <tbody>\n",
       "    <tr>\n",
       "      <th>0</th>\n",
       "      <td>foo</td>\n",
       "      <td>one</td>\n",
       "      <td>1.209985</td>\n",
       "      <td>0.596339</td>\n",
       "    </tr>\n",
       "    <tr>\n",
       "      <th>1</th>\n",
       "      <td>bar</td>\n",
       "      <td>one</td>\n",
       "      <td>0.088629</td>\n",
       "      <td>1.575703</td>\n",
       "    </tr>\n",
       "    <tr>\n",
       "      <th>2</th>\n",
       "      <td>foo</td>\n",
       "      <td>two</td>\n",
       "      <td>0.141830</td>\n",
       "      <td>0.009529</td>\n",
       "    </tr>\n",
       "    <tr>\n",
       "      <th>3</th>\n",
       "      <td>bar</td>\n",
       "      <td>three</td>\n",
       "      <td>-0.205354</td>\n",
       "      <td>-0.166956</td>\n",
       "    </tr>\n",
       "    <tr>\n",
       "      <th>4</th>\n",
       "      <td>foo</td>\n",
       "      <td>two</td>\n",
       "      <td>-0.804969</td>\n",
       "      <td>0.862324</td>\n",
       "    </tr>\n",
       "    <tr>\n",
       "      <th>5</th>\n",
       "      <td>bar</td>\n",
       "      <td>two</td>\n",
       "      <td>-1.449023</td>\n",
       "      <td>0.828004</td>\n",
       "    </tr>\n",
       "    <tr>\n",
       "      <th>6</th>\n",
       "      <td>foo</td>\n",
       "      <td>one</td>\n",
       "      <td>0.578636</td>\n",
       "      <td>1.190817</td>\n",
       "    </tr>\n",
       "    <tr>\n",
       "      <th>7</th>\n",
       "      <td>foo</td>\n",
       "      <td>three</td>\n",
       "      <td>1.694118</td>\n",
       "      <td>-0.706201</td>\n",
       "    </tr>\n",
       "  </tbody>\n",
       "</table>\n",
       "</div>"
      ],
      "text/plain": [
       "     A      B         C         D\n",
       "0  foo    one  1.209985  0.596339\n",
       "1  bar    one  0.088629  1.575703\n",
       "2  foo    two  0.141830  0.009529\n",
       "3  bar  three -0.205354 -0.166956\n",
       "4  foo    two -0.804969  0.862324\n",
       "5  bar    two -1.449023  0.828004\n",
       "6  foo    one  0.578636  1.190817\n",
       "7  foo  three  1.694118 -0.706201"
      ]
     },
     "execution_count": 152,
     "metadata": {},
     "output_type": "execute_result"
    }
   ],
   "source": [
    "df = pd.DataFrame({'A':['foo','bar','foo','bar',\n",
    "                       'foo','bar','foo','foo'],\n",
    "                  'B':['one','one','two','three',\n",
    "                      'two','two','one','three'],\n",
    "                  'C':np.random.randn(8),\n",
    "                  'D':np.random.randn(8)})\n",
    "df"
   ]
  },
  {
   "cell_type": "code",
   "execution_count": 154,
   "metadata": {},
   "outputs": [
    {
     "data": {
      "text/html": [
       "<div>\n",
       "<style scoped>\n",
       "    .dataframe tbody tr th:only-of-type {\n",
       "        vertical-align: middle;\n",
       "    }\n",
       "\n",
       "    .dataframe tbody tr th {\n",
       "        vertical-align: top;\n",
       "    }\n",
       "\n",
       "    .dataframe thead th {\n",
       "        text-align: right;\n",
       "    }\n",
       "</style>\n",
       "<table border=\"1\" class=\"dataframe\">\n",
       "  <thead>\n",
       "    <tr style=\"text-align: right;\">\n",
       "      <th></th>\n",
       "      <th>C</th>\n",
       "      <th>D</th>\n",
       "    </tr>\n",
       "    <tr>\n",
       "      <th>A</th>\n",
       "      <th></th>\n",
       "      <th></th>\n",
       "    </tr>\n",
       "  </thead>\n",
       "  <tbody>\n",
       "    <tr>\n",
       "      <th>bar</th>\n",
       "      <td>-1.565747</td>\n",
       "      <td>2.236751</td>\n",
       "    </tr>\n",
       "    <tr>\n",
       "      <th>foo</th>\n",
       "      <td>2.819600</td>\n",
       "      <td>1.952808</td>\n",
       "    </tr>\n",
       "  </tbody>\n",
       "</table>\n",
       "</div>"
      ],
      "text/plain": [
       "            C         D\n",
       "A                      \n",
       "bar -1.565747  2.236751\n",
       "foo  2.819600  1.952808"
      ]
     },
     "execution_count": 154,
     "metadata": {},
     "output_type": "execute_result"
    }
   ],
   "source": [
    "df.groupby('A').sum()"
   ]
  },
  {
   "cell_type": "code",
   "execution_count": 156,
   "metadata": {},
   "outputs": [
    {
     "data": {
      "text/html": [
       "<div>\n",
       "<style scoped>\n",
       "    .dataframe tbody tr th:only-of-type {\n",
       "        vertical-align: middle;\n",
       "    }\n",
       "\n",
       "    .dataframe tbody tr th {\n",
       "        vertical-align: top;\n",
       "    }\n",
       "\n",
       "    .dataframe thead th {\n",
       "        text-align: right;\n",
       "    }\n",
       "</style>\n",
       "<table border=\"1\" class=\"dataframe\">\n",
       "  <thead>\n",
       "    <tr style=\"text-align: right;\">\n",
       "      <th></th>\n",
       "      <th></th>\n",
       "      <th>C</th>\n",
       "      <th>D</th>\n",
       "    </tr>\n",
       "    <tr>\n",
       "      <th>A</th>\n",
       "      <th>B</th>\n",
       "      <th></th>\n",
       "      <th></th>\n",
       "    </tr>\n",
       "  </thead>\n",
       "  <tbody>\n",
       "    <tr>\n",
       "      <th rowspan=\"3\" valign=\"top\">bar</th>\n",
       "      <th>one</th>\n",
       "      <td>0.088629</td>\n",
       "      <td>1.575703</td>\n",
       "    </tr>\n",
       "    <tr>\n",
       "      <th>three</th>\n",
       "      <td>-0.205354</td>\n",
       "      <td>-0.166956</td>\n",
       "    </tr>\n",
       "    <tr>\n",
       "      <th>two</th>\n",
       "      <td>-1.449023</td>\n",
       "      <td>0.828004</td>\n",
       "    </tr>\n",
       "    <tr>\n",
       "      <th rowspan=\"3\" valign=\"top\">foo</th>\n",
       "      <th>one</th>\n",
       "      <td>1.788621</td>\n",
       "      <td>1.787156</td>\n",
       "    </tr>\n",
       "    <tr>\n",
       "      <th>three</th>\n",
       "      <td>1.694118</td>\n",
       "      <td>-0.706201</td>\n",
       "    </tr>\n",
       "    <tr>\n",
       "      <th>two</th>\n",
       "      <td>-0.663139</td>\n",
       "      <td>0.871853</td>\n",
       "    </tr>\n",
       "  </tbody>\n",
       "</table>\n",
       "</div>"
      ],
      "text/plain": [
       "                  C         D\n",
       "A   B                        \n",
       "bar one    0.088629  1.575703\n",
       "    three -0.205354 -0.166956\n",
       "    two   -1.449023  0.828004\n",
       "foo one    1.788621  1.787156\n",
       "    three  1.694118 -0.706201\n",
       "    two   -0.663139  0.871853"
      ]
     },
     "execution_count": 156,
     "metadata": {},
     "output_type": "execute_result"
    }
   ],
   "source": [
    "df.groupby(['A','B']).sum()"
   ]
  },
  {
   "cell_type": "markdown",
   "metadata": {},
   "source": [
    "# reshaping"
   ]
  },
  {
   "cell_type": "code",
   "execution_count": 157,
   "metadata": {},
   "outputs": [
    {
     "data": {
      "text/plain": [
       "[('bar', 'one'),\n",
       " ('bar', 'two'),\n",
       " ('baz', 'one'),\n",
       " ('baz', 'two'),\n",
       " ('foo', 'one'),\n",
       " ('foo', 'two'),\n",
       " ('qux', 'one'),\n",
       " ('qux', 'two')]"
      ]
     },
     "execution_count": 157,
     "metadata": {},
     "output_type": "execute_result"
    }
   ],
   "source": [
    "tuples = list(zip(*[['bar','bar','baz','baz',\n",
    "                    'foo','foo','qux','qux'],\n",
    "                   ['one','two','one','two',\n",
    "                   'one','two','one','two']]))\n",
    "tuples"
   ]
  },
  {
   "cell_type": "code",
   "execution_count": 162,
   "metadata": {},
   "outputs": [
    {
     "data": {
      "text/plain": [
       "MultiIndex([('bar', 'one'),\n",
       "            ('bar', 'two'),\n",
       "            ('baz', 'one'),\n",
       "            ('baz', 'two'),\n",
       "            ('foo', 'one'),\n",
       "            ('foo', 'two'),\n",
       "            ('qux', 'one'),\n",
       "            ('qux', 'two')],\n",
       "           names=['first', 'second'])"
      ]
     },
     "execution_count": 162,
     "metadata": {},
     "output_type": "execute_result"
    }
   ],
   "source": [
    "index = pd.MultiIndex.from_tuples(tuples, names=['first','second'])\n",
    "index"
   ]
  },
  {
   "cell_type": "code",
   "execution_count": 163,
   "metadata": {},
   "outputs": [
    {
     "data": {
      "text/html": [
       "<div>\n",
       "<style scoped>\n",
       "    .dataframe tbody tr th:only-of-type {\n",
       "        vertical-align: middle;\n",
       "    }\n",
       "\n",
       "    .dataframe tbody tr th {\n",
       "        vertical-align: top;\n",
       "    }\n",
       "\n",
       "    .dataframe thead th {\n",
       "        text-align: right;\n",
       "    }\n",
       "</style>\n",
       "<table border=\"1\" class=\"dataframe\">\n",
       "  <thead>\n",
       "    <tr style=\"text-align: right;\">\n",
       "      <th></th>\n",
       "      <th></th>\n",
       "      <th>A</th>\n",
       "      <th>B</th>\n",
       "    </tr>\n",
       "    <tr>\n",
       "      <th>first</th>\n",
       "      <th>second</th>\n",
       "      <th></th>\n",
       "      <th></th>\n",
       "    </tr>\n",
       "  </thead>\n",
       "  <tbody>\n",
       "    <tr>\n",
       "      <th rowspan=\"2\" valign=\"top\">bar</th>\n",
       "      <th>one</th>\n",
       "      <td>-0.839451</td>\n",
       "      <td>0.279358</td>\n",
       "    </tr>\n",
       "    <tr>\n",
       "      <th>two</th>\n",
       "      <td>0.118614</td>\n",
       "      <td>0.295414</td>\n",
       "    </tr>\n",
       "    <tr>\n",
       "      <th rowspan=\"2\" valign=\"top\">baz</th>\n",
       "      <th>one</th>\n",
       "      <td>-1.044133</td>\n",
       "      <td>-1.415350</td>\n",
       "    </tr>\n",
       "    <tr>\n",
       "      <th>two</th>\n",
       "      <td>0.689462</td>\n",
       "      <td>-1.954851</td>\n",
       "    </tr>\n",
       "    <tr>\n",
       "      <th rowspan=\"2\" valign=\"top\">foo</th>\n",
       "      <th>one</th>\n",
       "      <td>0.156284</td>\n",
       "      <td>-1.765869</td>\n",
       "    </tr>\n",
       "    <tr>\n",
       "      <th>two</th>\n",
       "      <td>-1.431413</td>\n",
       "      <td>-0.244888</td>\n",
       "    </tr>\n",
       "    <tr>\n",
       "      <th rowspan=\"2\" valign=\"top\">qux</th>\n",
       "      <th>one</th>\n",
       "      <td>-1.997028</td>\n",
       "      <td>0.223410</td>\n",
       "    </tr>\n",
       "    <tr>\n",
       "      <th>two</th>\n",
       "      <td>-1.816327</td>\n",
       "      <td>-0.690449</td>\n",
       "    </tr>\n",
       "  </tbody>\n",
       "</table>\n",
       "</div>"
      ],
      "text/plain": [
       "                     A         B\n",
       "first second                    \n",
       "bar   one    -0.839451  0.279358\n",
       "      two     0.118614  0.295414\n",
       "baz   one    -1.044133 -1.415350\n",
       "      two     0.689462 -1.954851\n",
       "foo   one     0.156284 -1.765869\n",
       "      two    -1.431413 -0.244888\n",
       "qux   one    -1.997028  0.223410\n",
       "      two    -1.816327 -0.690449"
      ]
     },
     "execution_count": 163,
     "metadata": {},
     "output_type": "execute_result"
    }
   ],
   "source": [
    "df = pd.DataFrame(np.random.randn(8,2), index=index, columns=['A','B'])\n",
    "df"
   ]
  },
  {
   "cell_type": "code",
   "execution_count": 164,
   "metadata": {},
   "outputs": [],
   "source": [
    "df2 = df[:4]"
   ]
  },
  {
   "cell_type": "code",
   "execution_count": 165,
   "metadata": {},
   "outputs": [
    {
     "data": {
      "text/html": [
       "<div>\n",
       "<style scoped>\n",
       "    .dataframe tbody tr th:only-of-type {\n",
       "        vertical-align: middle;\n",
       "    }\n",
       "\n",
       "    .dataframe tbody tr th {\n",
       "        vertical-align: top;\n",
       "    }\n",
       "\n",
       "    .dataframe thead th {\n",
       "        text-align: right;\n",
       "    }\n",
       "</style>\n",
       "<table border=\"1\" class=\"dataframe\">\n",
       "  <thead>\n",
       "    <tr style=\"text-align: right;\">\n",
       "      <th></th>\n",
       "      <th></th>\n",
       "      <th>A</th>\n",
       "      <th>B</th>\n",
       "    </tr>\n",
       "    <tr>\n",
       "      <th>first</th>\n",
       "      <th>second</th>\n",
       "      <th></th>\n",
       "      <th></th>\n",
       "    </tr>\n",
       "  </thead>\n",
       "  <tbody>\n",
       "    <tr>\n",
       "      <th rowspan=\"2\" valign=\"top\">bar</th>\n",
       "      <th>one</th>\n",
       "      <td>-0.839451</td>\n",
       "      <td>0.279358</td>\n",
       "    </tr>\n",
       "    <tr>\n",
       "      <th>two</th>\n",
       "      <td>0.118614</td>\n",
       "      <td>0.295414</td>\n",
       "    </tr>\n",
       "    <tr>\n",
       "      <th rowspan=\"2\" valign=\"top\">baz</th>\n",
       "      <th>one</th>\n",
       "      <td>-1.044133</td>\n",
       "      <td>-1.415350</td>\n",
       "    </tr>\n",
       "    <tr>\n",
       "      <th>two</th>\n",
       "      <td>0.689462</td>\n",
       "      <td>-1.954851</td>\n",
       "    </tr>\n",
       "  </tbody>\n",
       "</table>\n",
       "</div>"
      ],
      "text/plain": [
       "                     A         B\n",
       "first second                    \n",
       "bar   one    -0.839451  0.279358\n",
       "      two     0.118614  0.295414\n",
       "baz   one    -1.044133 -1.415350\n",
       "      two     0.689462 -1.954851"
      ]
     },
     "execution_count": 165,
     "metadata": {},
     "output_type": "execute_result"
    }
   ],
   "source": [
    "df2"
   ]
  },
  {
   "cell_type": "code",
   "execution_count": 166,
   "metadata": {},
   "outputs": [
    {
     "data": {
      "text/plain": [
       "first  second   \n",
       "bar    one     A   -0.839451\n",
       "               B    0.279358\n",
       "       two     A    0.118614\n",
       "               B    0.295414\n",
       "baz    one     A   -1.044133\n",
       "               B   -1.415350\n",
       "       two     A    0.689462\n",
       "               B   -1.954851\n",
       "dtype: float64"
      ]
     },
     "execution_count": 166,
     "metadata": {},
     "output_type": "execute_result"
    }
   ],
   "source": [
    "stacked = df2.stack()\n",
    "stacked"
   ]
  },
  {
   "cell_type": "code",
   "execution_count": 167,
   "metadata": {},
   "outputs": [
    {
     "data": {
      "text/html": [
       "<div>\n",
       "<style scoped>\n",
       "    .dataframe tbody tr th:only-of-type {\n",
       "        vertical-align: middle;\n",
       "    }\n",
       "\n",
       "    .dataframe tbody tr th {\n",
       "        vertical-align: top;\n",
       "    }\n",
       "\n",
       "    .dataframe thead th {\n",
       "        text-align: right;\n",
       "    }\n",
       "</style>\n",
       "<table border=\"1\" class=\"dataframe\">\n",
       "  <thead>\n",
       "    <tr style=\"text-align: right;\">\n",
       "      <th></th>\n",
       "      <th></th>\n",
       "      <th>A</th>\n",
       "      <th>B</th>\n",
       "    </tr>\n",
       "    <tr>\n",
       "      <th>first</th>\n",
       "      <th>second</th>\n",
       "      <th></th>\n",
       "      <th></th>\n",
       "    </tr>\n",
       "  </thead>\n",
       "  <tbody>\n",
       "    <tr>\n",
       "      <th rowspan=\"2\" valign=\"top\">bar</th>\n",
       "      <th>one</th>\n",
       "      <td>-0.839451</td>\n",
       "      <td>0.279358</td>\n",
       "    </tr>\n",
       "    <tr>\n",
       "      <th>two</th>\n",
       "      <td>0.118614</td>\n",
       "      <td>0.295414</td>\n",
       "    </tr>\n",
       "    <tr>\n",
       "      <th rowspan=\"2\" valign=\"top\">baz</th>\n",
       "      <th>one</th>\n",
       "      <td>-1.044133</td>\n",
       "      <td>-1.415350</td>\n",
       "    </tr>\n",
       "    <tr>\n",
       "      <th>two</th>\n",
       "      <td>0.689462</td>\n",
       "      <td>-1.954851</td>\n",
       "    </tr>\n",
       "  </tbody>\n",
       "</table>\n",
       "</div>"
      ],
      "text/plain": [
       "                     A         B\n",
       "first second                    \n",
       "bar   one    -0.839451  0.279358\n",
       "      two     0.118614  0.295414\n",
       "baz   one    -1.044133 -1.415350\n",
       "      two     0.689462 -1.954851"
      ]
     },
     "execution_count": 167,
     "metadata": {},
     "output_type": "execute_result"
    }
   ],
   "source": [
    "stacked.unstack()"
   ]
  },
  {
   "cell_type": "code",
   "execution_count": 168,
   "metadata": {},
   "outputs": [
    {
     "data": {
      "text/html": [
       "<div>\n",
       "<style scoped>\n",
       "    .dataframe tbody tr th:only-of-type {\n",
       "        vertical-align: middle;\n",
       "    }\n",
       "\n",
       "    .dataframe tbody tr th {\n",
       "        vertical-align: top;\n",
       "    }\n",
       "\n",
       "    .dataframe thead th {\n",
       "        text-align: right;\n",
       "    }\n",
       "</style>\n",
       "<table border=\"1\" class=\"dataframe\">\n",
       "  <thead>\n",
       "    <tr style=\"text-align: right;\">\n",
       "      <th></th>\n",
       "      <th>second</th>\n",
       "      <th>one</th>\n",
       "      <th>two</th>\n",
       "    </tr>\n",
       "    <tr>\n",
       "      <th>first</th>\n",
       "      <th></th>\n",
       "      <th></th>\n",
       "      <th></th>\n",
       "    </tr>\n",
       "  </thead>\n",
       "  <tbody>\n",
       "    <tr>\n",
       "      <th rowspan=\"2\" valign=\"top\">bar</th>\n",
       "      <th>A</th>\n",
       "      <td>-0.839451</td>\n",
       "      <td>0.118614</td>\n",
       "    </tr>\n",
       "    <tr>\n",
       "      <th>B</th>\n",
       "      <td>0.279358</td>\n",
       "      <td>0.295414</td>\n",
       "    </tr>\n",
       "    <tr>\n",
       "      <th rowspan=\"2\" valign=\"top\">baz</th>\n",
       "      <th>A</th>\n",
       "      <td>-1.044133</td>\n",
       "      <td>0.689462</td>\n",
       "    </tr>\n",
       "    <tr>\n",
       "      <th>B</th>\n",
       "      <td>-1.415350</td>\n",
       "      <td>-1.954851</td>\n",
       "    </tr>\n",
       "  </tbody>\n",
       "</table>\n",
       "</div>"
      ],
      "text/plain": [
       "second        one       two\n",
       "first                      \n",
       "bar   A -0.839451  0.118614\n",
       "      B  0.279358  0.295414\n",
       "baz   A -1.044133  0.689462\n",
       "      B -1.415350 -1.954851"
      ]
     },
     "execution_count": 168,
     "metadata": {},
     "output_type": "execute_result"
    }
   ],
   "source": [
    "stacked.unstack(1)"
   ]
  },
  {
   "cell_type": "code",
   "execution_count": 169,
   "metadata": {},
   "outputs": [
    {
     "data": {
      "text/html": [
       "<div>\n",
       "<style scoped>\n",
       "    .dataframe tbody tr th:only-of-type {\n",
       "        vertical-align: middle;\n",
       "    }\n",
       "\n",
       "    .dataframe tbody tr th {\n",
       "        vertical-align: top;\n",
       "    }\n",
       "\n",
       "    .dataframe thead th {\n",
       "        text-align: right;\n",
       "    }\n",
       "</style>\n",
       "<table border=\"1\" class=\"dataframe\">\n",
       "  <thead>\n",
       "    <tr style=\"text-align: right;\">\n",
       "      <th></th>\n",
       "      <th>first</th>\n",
       "      <th>bar</th>\n",
       "      <th>baz</th>\n",
       "    </tr>\n",
       "    <tr>\n",
       "      <th>second</th>\n",
       "      <th></th>\n",
       "      <th></th>\n",
       "      <th></th>\n",
       "    </tr>\n",
       "  </thead>\n",
       "  <tbody>\n",
       "    <tr>\n",
       "      <th rowspan=\"2\" valign=\"top\">one</th>\n",
       "      <th>A</th>\n",
       "      <td>-0.839451</td>\n",
       "      <td>-1.044133</td>\n",
       "    </tr>\n",
       "    <tr>\n",
       "      <th>B</th>\n",
       "      <td>0.279358</td>\n",
       "      <td>-1.415350</td>\n",
       "    </tr>\n",
       "    <tr>\n",
       "      <th rowspan=\"2\" valign=\"top\">two</th>\n",
       "      <th>A</th>\n",
       "      <td>0.118614</td>\n",
       "      <td>0.689462</td>\n",
       "    </tr>\n",
       "    <tr>\n",
       "      <th>B</th>\n",
       "      <td>0.295414</td>\n",
       "      <td>-1.954851</td>\n",
       "    </tr>\n",
       "  </tbody>\n",
       "</table>\n",
       "</div>"
      ],
      "text/plain": [
       "first          bar       baz\n",
       "second                      \n",
       "one    A -0.839451 -1.044133\n",
       "       B  0.279358 -1.415350\n",
       "two    A  0.118614  0.689462\n",
       "       B  0.295414 -1.954851"
      ]
     },
     "execution_count": 169,
     "metadata": {},
     "output_type": "execute_result"
    }
   ],
   "source": [
    "stacked.unstack(0)"
   ]
  },
  {
   "cell_type": "markdown",
   "metadata": {},
   "source": [
    "# time series"
   ]
  },
  {
   "cell_type": "code",
   "execution_count": 171,
   "metadata": {},
   "outputs": [
    {
     "data": {
      "text/plain": [
       "DatetimeIndex(['2019-08-16 00:00:00', '2019-08-16 00:00:01',\n",
       "               '2019-08-16 00:00:02', '2019-08-16 00:00:03',\n",
       "               '2019-08-16 00:00:04', '2019-08-16 00:00:05',\n",
       "               '2019-08-16 00:00:06', '2019-08-16 00:00:07',\n",
       "               '2019-08-16 00:00:08', '2019-08-16 00:00:09',\n",
       "               '2019-08-16 00:00:10', '2019-08-16 00:00:11',\n",
       "               '2019-08-16 00:00:12', '2019-08-16 00:00:13',\n",
       "               '2019-08-16 00:00:14', '2019-08-16 00:00:15',\n",
       "               '2019-08-16 00:00:16', '2019-08-16 00:00:17',\n",
       "               '2019-08-16 00:00:18', '2019-08-16 00:00:19',\n",
       "               '2019-08-16 00:00:20', '2019-08-16 00:00:21',\n",
       "               '2019-08-16 00:00:22', '2019-08-16 00:00:23',\n",
       "               '2019-08-16 00:00:24', '2019-08-16 00:00:25',\n",
       "               '2019-08-16 00:00:26', '2019-08-16 00:00:27',\n",
       "               '2019-08-16 00:00:28', '2019-08-16 00:00:29',\n",
       "               '2019-08-16 00:00:30', '2019-08-16 00:00:31',\n",
       "               '2019-08-16 00:00:32', '2019-08-16 00:00:33',\n",
       "               '2019-08-16 00:00:34', '2019-08-16 00:00:35',\n",
       "               '2019-08-16 00:00:36', '2019-08-16 00:00:37',\n",
       "               '2019-08-16 00:00:38', '2019-08-16 00:00:39',\n",
       "               '2019-08-16 00:00:40', '2019-08-16 00:00:41',\n",
       "               '2019-08-16 00:00:42', '2019-08-16 00:00:43',\n",
       "               '2019-08-16 00:00:44', '2019-08-16 00:00:45',\n",
       "               '2019-08-16 00:00:46', '2019-08-16 00:00:47',\n",
       "               '2019-08-16 00:00:48', '2019-08-16 00:00:49',\n",
       "               '2019-08-16 00:00:50', '2019-08-16 00:00:51',\n",
       "               '2019-08-16 00:00:52', '2019-08-16 00:00:53',\n",
       "               '2019-08-16 00:00:54', '2019-08-16 00:00:55',\n",
       "               '2019-08-16 00:00:56', '2019-08-16 00:00:57',\n",
       "               '2019-08-16 00:00:58', '2019-08-16 00:00:59',\n",
       "               '2019-08-16 00:01:00', '2019-08-16 00:01:01',\n",
       "               '2019-08-16 00:01:02', '2019-08-16 00:01:03',\n",
       "               '2019-08-16 00:01:04', '2019-08-16 00:01:05',\n",
       "               '2019-08-16 00:01:06', '2019-08-16 00:01:07',\n",
       "               '2019-08-16 00:01:08', '2019-08-16 00:01:09',\n",
       "               '2019-08-16 00:01:10', '2019-08-16 00:01:11',\n",
       "               '2019-08-16 00:01:12', '2019-08-16 00:01:13',\n",
       "               '2019-08-16 00:01:14', '2019-08-16 00:01:15',\n",
       "               '2019-08-16 00:01:16', '2019-08-16 00:01:17',\n",
       "               '2019-08-16 00:01:18', '2019-08-16 00:01:19',\n",
       "               '2019-08-16 00:01:20', '2019-08-16 00:01:21',\n",
       "               '2019-08-16 00:01:22', '2019-08-16 00:01:23',\n",
       "               '2019-08-16 00:01:24', '2019-08-16 00:01:25',\n",
       "               '2019-08-16 00:01:26', '2019-08-16 00:01:27',\n",
       "               '2019-08-16 00:01:28', '2019-08-16 00:01:29',\n",
       "               '2019-08-16 00:01:30', '2019-08-16 00:01:31',\n",
       "               '2019-08-16 00:01:32', '2019-08-16 00:01:33',\n",
       "               '2019-08-16 00:01:34', '2019-08-16 00:01:35',\n",
       "               '2019-08-16 00:01:36', '2019-08-16 00:01:37',\n",
       "               '2019-08-16 00:01:38', '2019-08-16 00:01:39'],\n",
       "              dtype='datetime64[ns]', freq='S')"
      ]
     },
     "execution_count": 171,
     "metadata": {},
     "output_type": "execute_result"
    }
   ],
   "source": [
    "rng = pd.date_range('16/8/2019', periods=100, freq = 'S')\n",
    "rng"
   ]
  },
  {
   "cell_type": "code",
   "execution_count": 172,
   "metadata": {},
   "outputs": [
    {
     "data": {
      "text/plain": [
       "2019-08-16 00:00:00    476\n",
       "2019-08-16 00:00:01    271\n",
       "2019-08-16 00:00:02    347\n",
       "2019-08-16 00:00:03    292\n",
       "2019-08-16 00:00:04    446\n",
       "                      ... \n",
       "2019-08-16 00:01:35    418\n",
       "2019-08-16 00:01:36     77\n",
       "2019-08-16 00:01:37    386\n",
       "2019-08-16 00:01:38     76\n",
       "2019-08-16 00:01:39    141\n",
       "Freq: S, Length: 100, dtype: int32"
      ]
     },
     "execution_count": 172,
     "metadata": {},
     "output_type": "execute_result"
    }
   ],
   "source": [
    "ts = pd.Series(np.random.randint(0, 500, len(rng)), index=rng)\n",
    "ts"
   ]
  },
  {
   "cell_type": "code",
   "execution_count": 174,
   "metadata": {},
   "outputs": [
    {
     "data": {
      "text/plain": [
       "2019-08-16    24261\n",
       "Freq: 5T, dtype: int32"
      ]
     },
     "execution_count": 174,
     "metadata": {},
     "output_type": "execute_result"
    }
   ],
   "source": [
    "ts.resample('5Min').sum()"
   ]
  },
  {
   "cell_type": "code",
   "execution_count": 176,
   "metadata": {},
   "outputs": [
    {
     "data": {
      "text/plain": [
       "24261"
      ]
     },
     "execution_count": 176,
     "metadata": {},
     "output_type": "execute_result"
    }
   ],
   "source": [
    "ts.sum()"
   ]
  },
  {
   "cell_type": "markdown",
   "metadata": {},
   "source": [
    "# categoricals"
   ]
  },
  {
   "cell_type": "code",
   "execution_count": 177,
   "metadata": {},
   "outputs": [
    {
     "data": {
      "text/html": [
       "<div>\n",
       "<style scoped>\n",
       "    .dataframe tbody tr th:only-of-type {\n",
       "        vertical-align: middle;\n",
       "    }\n",
       "\n",
       "    .dataframe tbody tr th {\n",
       "        vertical-align: top;\n",
       "    }\n",
       "\n",
       "    .dataframe thead th {\n",
       "        text-align: right;\n",
       "    }\n",
       "</style>\n",
       "<table border=\"1\" class=\"dataframe\">\n",
       "  <thead>\n",
       "    <tr style=\"text-align: right;\">\n",
       "      <th></th>\n",
       "      <th>id</th>\n",
       "      <th>raw_grade</th>\n",
       "    </tr>\n",
       "  </thead>\n",
       "  <tbody>\n",
       "    <tr>\n",
       "      <th>0</th>\n",
       "      <td>1</td>\n",
       "      <td>a</td>\n",
       "    </tr>\n",
       "    <tr>\n",
       "      <th>1</th>\n",
       "      <td>2</td>\n",
       "      <td>b</td>\n",
       "    </tr>\n",
       "    <tr>\n",
       "      <th>2</th>\n",
       "      <td>3</td>\n",
       "      <td>b</td>\n",
       "    </tr>\n",
       "    <tr>\n",
       "      <th>3</th>\n",
       "      <td>4</td>\n",
       "      <td>a</td>\n",
       "    </tr>\n",
       "    <tr>\n",
       "      <th>4</th>\n",
       "      <td>5</td>\n",
       "      <td>a</td>\n",
       "    </tr>\n",
       "    <tr>\n",
       "      <th>5</th>\n",
       "      <td>6</td>\n",
       "      <td>e</td>\n",
       "    </tr>\n",
       "  </tbody>\n",
       "</table>\n",
       "</div>"
      ],
      "text/plain": [
       "   id raw_grade\n",
       "0   1         a\n",
       "1   2         b\n",
       "2   3         b\n",
       "3   4         a\n",
       "4   5         a\n",
       "5   6         e"
      ]
     },
     "execution_count": 177,
     "metadata": {},
     "output_type": "execute_result"
    }
   ],
   "source": [
    "df = pd.DataFrame({\"id\": [1, 2, 3, 4, 5, 6],\"raw_grade\": ['a', 'b', 'b', 'a', 'a', 'e']})\n",
    "df"
   ]
  },
  {
   "cell_type": "code",
   "execution_count": 178,
   "metadata": {},
   "outputs": [
    {
     "data": {
      "text/html": [
       "<div>\n",
       "<style scoped>\n",
       "    .dataframe tbody tr th:only-of-type {\n",
       "        vertical-align: middle;\n",
       "    }\n",
       "\n",
       "    .dataframe tbody tr th {\n",
       "        vertical-align: top;\n",
       "    }\n",
       "\n",
       "    .dataframe thead th {\n",
       "        text-align: right;\n",
       "    }\n",
       "</style>\n",
       "<table border=\"1\" class=\"dataframe\">\n",
       "  <thead>\n",
       "    <tr style=\"text-align: right;\">\n",
       "      <th></th>\n",
       "      <th>id</th>\n",
       "      <th>raw_grade</th>\n",
       "      <th>grade</th>\n",
       "    </tr>\n",
       "  </thead>\n",
       "  <tbody>\n",
       "    <tr>\n",
       "      <th>0</th>\n",
       "      <td>1</td>\n",
       "      <td>a</td>\n",
       "      <td>a</td>\n",
       "    </tr>\n",
       "    <tr>\n",
       "      <th>1</th>\n",
       "      <td>2</td>\n",
       "      <td>b</td>\n",
       "      <td>b</td>\n",
       "    </tr>\n",
       "    <tr>\n",
       "      <th>2</th>\n",
       "      <td>3</td>\n",
       "      <td>b</td>\n",
       "      <td>b</td>\n",
       "    </tr>\n",
       "    <tr>\n",
       "      <th>3</th>\n",
       "      <td>4</td>\n",
       "      <td>a</td>\n",
       "      <td>a</td>\n",
       "    </tr>\n",
       "    <tr>\n",
       "      <th>4</th>\n",
       "      <td>5</td>\n",
       "      <td>a</td>\n",
       "      <td>a</td>\n",
       "    </tr>\n",
       "    <tr>\n",
       "      <th>5</th>\n",
       "      <td>6</td>\n",
       "      <td>e</td>\n",
       "      <td>e</td>\n",
       "    </tr>\n",
       "  </tbody>\n",
       "</table>\n",
       "</div>"
      ],
      "text/plain": [
       "   id raw_grade grade\n",
       "0   1         a     a\n",
       "1   2         b     b\n",
       "2   3         b     b\n",
       "3   4         a     a\n",
       "4   5         a     a\n",
       "5   6         e     e"
      ]
     },
     "execution_count": 178,
     "metadata": {},
     "output_type": "execute_result"
    }
   ],
   "source": [
    "df['grade'] = df['raw_grade'].astype('category')\n",
    "df"
   ]
  },
  {
   "cell_type": "code",
   "execution_count": 179,
   "metadata": {},
   "outputs": [
    {
     "data": {
      "text/html": [
       "<div>\n",
       "<style scoped>\n",
       "    .dataframe tbody tr th:only-of-type {\n",
       "        vertical-align: middle;\n",
       "    }\n",
       "\n",
       "    .dataframe tbody tr th {\n",
       "        vertical-align: top;\n",
       "    }\n",
       "\n",
       "    .dataframe thead th {\n",
       "        text-align: right;\n",
       "    }\n",
       "</style>\n",
       "<table border=\"1\" class=\"dataframe\">\n",
       "  <thead>\n",
       "    <tr style=\"text-align: right;\">\n",
       "      <th></th>\n",
       "      <th>id</th>\n",
       "      <th>raw_grade</th>\n",
       "      <th>grade</th>\n",
       "    </tr>\n",
       "  </thead>\n",
       "  <tbody>\n",
       "    <tr>\n",
       "      <th>0</th>\n",
       "      <td>1</td>\n",
       "      <td>a</td>\n",
       "      <td>very good</td>\n",
       "    </tr>\n",
       "    <tr>\n",
       "      <th>1</th>\n",
       "      <td>2</td>\n",
       "      <td>b</td>\n",
       "      <td>good</td>\n",
       "    </tr>\n",
       "    <tr>\n",
       "      <th>2</th>\n",
       "      <td>3</td>\n",
       "      <td>b</td>\n",
       "      <td>good</td>\n",
       "    </tr>\n",
       "    <tr>\n",
       "      <th>3</th>\n",
       "      <td>4</td>\n",
       "      <td>a</td>\n",
       "      <td>very good</td>\n",
       "    </tr>\n",
       "    <tr>\n",
       "      <th>4</th>\n",
       "      <td>5</td>\n",
       "      <td>a</td>\n",
       "      <td>very good</td>\n",
       "    </tr>\n",
       "    <tr>\n",
       "      <th>5</th>\n",
       "      <td>6</td>\n",
       "      <td>e</td>\n",
       "      <td>very bad</td>\n",
       "    </tr>\n",
       "  </tbody>\n",
       "</table>\n",
       "</div>"
      ],
      "text/plain": [
       "   id raw_grade      grade\n",
       "0   1         a  very good\n",
       "1   2         b       good\n",
       "2   3         b       good\n",
       "3   4         a  very good\n",
       "4   5         a  very good\n",
       "5   6         e   very bad"
      ]
     },
     "execution_count": 179,
     "metadata": {},
     "output_type": "execute_result"
    }
   ],
   "source": [
    "df['grade'].cat.categories = ['very good', 'good', 'very bad']\n",
    "df"
   ]
  },
  {
   "cell_type": "code",
   "execution_count": null,
   "metadata": {},
   "outputs": [],
   "source": []
  },
  {
   "cell_type": "markdown",
   "metadata": {},
   "source": [
    "# plotting"
   ]
  },
  {
   "cell_type": "code",
   "execution_count": 187,
   "metadata": {},
   "outputs": [
    {
     "data": {
      "text/plain": [
       "2019-01-01    0.432077\n",
       "2019-01-02   -1.369829\n",
       "2019-01-03   -1.153721\n",
       "2019-01-04   -2.162312\n",
       "2019-01-05   -0.920040\n",
       "                ...   \n",
       "2021-09-22   -0.418822\n",
       "2021-09-23   -0.000388\n",
       "2021-09-24    1.299302\n",
       "2021-09-25   -0.487338\n",
       "2021-09-26   -1.731515\n",
       "Freq: D, Length: 1000, dtype: float64"
      ]
     },
     "execution_count": 187,
     "metadata": {},
     "output_type": "execute_result"
    }
   ],
   "source": [
    "ts = pd.Series(np.random.randn(1000),index= pd.date_range('1/1/2019', periods=1000))\n",
    "ts"
   ]
  },
  {
   "cell_type": "code",
   "execution_count": 189,
   "metadata": {},
   "outputs": [
    {
     "data": {
      "text/plain": [
       "2019-01-01     0.432077\n",
       "2019-01-02    -0.937753\n",
       "2019-01-03    -2.091474\n",
       "2019-01-04    -4.253786\n",
       "2019-01-05    -5.173826\n",
       "                ...    \n",
       "2021-09-22    63.262447\n",
       "2021-09-23    63.262059\n",
       "2021-09-24    64.561361\n",
       "2021-09-25    64.074023\n",
       "2021-09-26    62.342509\n",
       "Freq: D, Length: 1000, dtype: float64"
      ]
     },
     "execution_count": 189,
     "metadata": {},
     "output_type": "execute_result"
    }
   ],
   "source": [
    "ts = ts.cumsum()\n",
    "ts"
   ]
  },
  {
   "cell_type": "code",
   "execution_count": 190,
   "metadata": {},
   "outputs": [
    {
     "data": {
      "image/png": "[encoded data removed]",
      "text/plain": [
       "<Figure size 432x288 with 1 Axes>"
      ]
     },
     "metadata": {
      "needs_background": "light"
     },
     "output_type": "display_data"
    }
   ],
   "source": [
    "ts.plot()\n",
    "plt.show()"
   ]
  },
  {
   "cell_type": "code",
   "execution_count": 200,
   "metadata": {},
   "outputs": [],
   "source": [
    "df = pd.DataFrame(np.random.randn(1000, 4), index=ts.index, columns=list('ABCD'))"
   ]
  },
  {
   "cell_type": "code",
   "execution_count": 201,
   "metadata": {},
   "outputs": [],
   "source": [
    "df = df.cumsum()"
   ]
  },
  {
   "cell_type": "code",
   "execution_count": 202,
   "metadata": {},
   "outputs": [
    {
     "data": {
      "image/png": "[encoded data removed]",
      "text/plain": [
       "<Figure size 432x288 with 1 Axes>"
      ]
     },
     "metadata": {
      "needs_background": "light"
     },
     "output_type": "display_data"
    }
   ],
   "source": [
    "df.plot()\n",
    "plt.legend(loc='best')\n",
    "plt.show()"
   ]
  }
 ],
 "metadata": {
  "kernelspec": {
   "display_name": "Python 3",
   "language": "python",
   "name": "python3"
  },
  "language_info": {
   "codemirror_mode": {
    "name": "ipython",
    "version": 3
   },
   "file_extension": ".py",
   "mimetype": "text/x-python",
   "name": "python",
   "nbconvert_exporter": "python",
   "pygments_lexer": "ipython3",
   "version": "3.6.2"
  },
  "toc": {
   "base_numbering": 1,
   "nav_menu": {},
   "number_sections": true,
   "sideBar": true,
   "skip_h1_title": false,
   "title_cell": "Table of Contents",
   "title_sidebar": "Contents",
   "toc_cell": false,
   "toc_position": {},
   "toc_section_display": true,
   "toc_window_display": false
  },
  "toc-autonumbering": true,
  "toc-showcode": false,
  "toc-showmarkdowntxt": false,
  "toc-showtags": false
 },
 "nbformat": 4,
 "nbformat_minor": 4
}
