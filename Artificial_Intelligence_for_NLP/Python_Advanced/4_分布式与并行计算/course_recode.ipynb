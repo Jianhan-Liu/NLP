{
 "cells": [
  {
   "cell_type": "markdown",
   "metadata": {},
   "source": [
    "# 并行编程\n"
   ]
  },
  {
   "cell_type": "markdown",
   "metadata": {},
   "source": [
    "## 并行编程模型\n",
    "- 多线程模型\n",
    "- 消息传递模型\n",
    "    - 范式1：Actor/相互独立\n",
    "        - Actors Mailbox\n",
    "    - 范式2：CSP（GO语言使用该范式）\n",
    "- 数据并行模型\n",
    "    - [Parameter server distributed for machine learning](https://pdfs.semanticscholar.org/30e9/4e24d67994c5a8e2f20f852a51d28a720de2.pdf)\n",
    "    - 每个结点均有一份模型\n",
    "    - 各个结点取不同的数据，batch_size\n",
    "    - 各个模型梯度下降，返回计算的参数给参数服务器\n",
    "    - 参数服务器更新参数\n",
    "- Task farming(Master-Worker)"
   ]
  },
  {
   "cell_type": "code",
   "execution_count": null,
   "metadata": {},
   "outputs": [],
   "source": []
  },
  {
   "cell_type": "markdown",
   "metadata": {},
   "source": [
    "## 基于线程的并行\n",
    "- 线程是进程的组件，一个进程可以有多个线程\n",
    "- 多个线程共享父进程的内存空间\n",
    "- 由OS调度\n",
    "- 伪多线程-GIL"
   ]
  },
  {
   "cell_type": "code",
   "execution_count": 33,
   "metadata": {},
   "outputs": [],
   "source": [
    "from threading import Thread\n",
    "import threading"
   ]
  },
  {
   "cell_type": "code",
   "execution_count": 24,
   "metadata": {},
   "outputs": [],
   "source": [
    "def my_count():\n",
    "    i = 0\n",
    "    for _ in range(10000000):\n",
    "        i += 1\n",
    "    return "
   ]
  },
  {
   "cell_type": "code",
   "execution_count": 25,
   "metadata": {},
   "outputs": [],
   "source": [
    "def single_thread():\n",
    "    t = Thread(target=my_count)\n",
    "    t.start()\n",
    "    t.join()"
   ]
  },
  {
   "cell_type": "code",
   "execution_count": 28,
   "metadata": {},
   "outputs": [
    {
     "name": "stdout",
     "output_type": "stream",
     "text": [
      "Wall time: 1.4 s\n"
     ]
    }
   ],
   "source": [
    "%%time\n",
    "single_thread()\n",
    "single_thread()"
   ]
  },
  {
   "cell_type": "code",
   "execution_count": 45,
   "metadata": {},
   "outputs": [],
   "source": [
    "def multi_thread():\n",
    "    threads = []\n",
    "    for i in range(2):\n",
    "        t = Thread(target=my_count)\n",
    "        t.start()\n",
    "        threads.append(t)\n",
    "    for t in threads:\n",
    "        t.join()"
   ]
  },
  {
   "cell_type": "code",
   "execution_count": 46,
   "metadata": {},
   "outputs": [
    {
     "name": "stdout",
     "output_type": "stream",
     "text": [
      "Wall time: 1.37 s\n"
     ]
    }
   ],
   "source": [
    "%%time\n",
    "multi_thread()"
   ]
  },
  {
   "cell_type": "code",
   "execution_count": 49,
   "metadata": {},
   "outputs": [],
   "source": [
    "def f():\n",
    "    print(\"Function called by thread \", threading.current_thread().name)\n",
    "    for i in range(8):\n",
    "        print(f\"thread {threading.current_thread().name} >>> {i}\")\n",
    "\n",
    "    print(f\"thread {threading.current_thread().name} ended\")"
   ]
  },
  {
   "cell_type": "code",
   "execution_count": 51,
   "metadata": {},
   "outputs": [
    {
     "name": "stdout",
     "output_type": "stream",
     "text": [
      "thread MainThread is running...\n",
      "Function called by thread  LoopThread\n",
      "thread LoopThread >>> 0\n",
      "thread LoopThread >>> 1\n",
      "thread LoopThread >>> 2\n",
      "thread LoopThread >>> 3\n",
      "thread LoopThread >>> 4\n",
      "thread LoopThread >>> 5\n",
      "thread LoopThread >>> 6\n",
      "thread LoopThread >>> 7\n",
      "thread LoopThread ended\n",
      "thread MainThread ended.\n"
     ]
    }
   ],
   "source": [
    "print(f'thread {threading.current_thread().name} is running...')\n",
    "\n",
    "t = threading.Thread(target=f, name='LoopThread')\n",
    "t.start()\n",
    "t.join()\n",
    "\n",
    "print(f'thread {threading.current_thread().name} ended.')"
   ]
  },
  {
   "cell_type": "code",
   "execution_count": 57,
   "metadata": {},
   "outputs": [
    {
     "name": "stdout",
     "output_type": "stream",
     "text": [
      "thread MainThread is running...\n",
      "Function called by thread  LoopThread\n",
      "thread LoopThread >>> 0\n",
      "thread LoopThread >>> 1\n",
      "thread LoopThread >>> 2\n",
      "thread LoopThread >>> 3\n",
      "thread LoopThread >>> 4\n",
      "thread LoopThread >>> 5\n",
      "thread LoopThread >>> 6\n",
      "thread LoopThread >>> 7thread MainThread ended.\n",
      "\n",
      "thread LoopThread ended\n"
     ]
    }
   ],
   "source": [
    "print(f'thread {threading.current_thread().name} is running...')\n",
    "\n",
    "t = threading.Thread(target=f, name='LoopThread')\n",
    "t.start()\n",
    "# t.join()\n",
    "\n",
    "print(f'thread {threading.current_thread().name} ended.')"
   ]
  },
  {
   "cell_type": "markdown",
   "metadata": {},
   "source": [
    "## 基于进程的并行\n",
    "- 拥有独立内存空间\n",
    "- 充分利用多核\n",
    "- 进程切换开销大"
   ]
  },
  {
   "cell_type": "code",
   "execution_count": 1,
   "metadata": {},
   "outputs": [],
   "source": [
    "import multiprocessing"
   ]
  },
  {
   "cell_type": "code",
   "execution_count": 2,
   "metadata": {},
   "outputs": [],
   "source": [
    "def f2(name):\n",
    "    print(f'Thread {multiprocessing.current_process().name}')\n",
    "    print(f'Hello {name}')"
   ]
  },
  {
   "cell_type": "code",
   "execution_count": 3,
   "metadata": {},
   "outputs": [
    {
     "name": "stdout",
     "output_type": "stream",
     "text": [
      "Thread MainProcess\n"
     ]
    }
   ],
   "source": [
    "print(f'Thread {multiprocessing.current_process().name}')"
   ]
  },
  {
   "cell_type": "code",
   "execution_count": 4,
   "metadata": {},
   "outputs": [],
   "source": [
    "p = multiprocessing.Process(target=f2, args=('rambo',))\n",
    "p.start()\n",
    "p.join()"
   ]
  },
  {
   "cell_type": "code",
   "execution_count": 5,
   "metadata": {},
   "outputs": [
    {
     "data": {
      "text/plain": [
       "8"
      ]
     },
     "execution_count": 5,
     "metadata": {},
     "output_type": "execute_result"
    }
   ],
   "source": [
    "multiprocessing.cpu_count()"
   ]
  },
  {
   "cell_type": "code",
   "execution_count": 6,
   "metadata": {},
   "outputs": [],
   "source": [
    "def f1(x):\n",
    "    return x*2"
   ]
  },
  {
   "cell_type": "code",
   "execution_count": null,
   "metadata": {},
   "outputs": [],
   "source": [
    "# something wrong with these code under jupyter process\n",
    "# ok under pycharm envs.\n",
    "with multiprocessing.Pool(multiprocessing.cpu_count()) as p:\n",
    "    print(p.map(f1, list(range(10))))"
   ]
  },
  {
   "cell_type": "markdown",
   "metadata": {},
   "source": [
    "## 同步\n",
    "- 进程和线程均涉及资源抢占的问题，如：银行账户问题"
   ]
  },
  {
   "cell_type": "code",
   "execution_count": 13,
   "metadata": {},
   "outputs": [],
   "source": [
    "class Account:\n",
    "    def __init__(self, money):\n",
    "        self._money = money\n",
    "    \n",
    "    def add(self, money):\n",
    "        self._money += money\n",
    "    \n",
    "    def subs(self, money):\n",
    "        self._money -= money\n",
    "    \n",
    "    @property\n",
    "    def balance(self):\n",
    "        return self._money"
   ]
  },
  {
   "cell_type": "code",
   "execution_count": 71,
   "metadata": {},
   "outputs": [],
   "source": [
    "def run(money):\n",
    "    for _ in range(1000000):\n",
    "        account.add(money)\n",
    "        account.subs(money)"
   ]
  },
  {
   "cell_type": "code",
   "execution_count": 72,
   "metadata": {},
   "outputs": [
    {
     "name": "stdout",
     "output_type": "stream",
     "text": [
      "1000\n"
     ]
    },
    {
     "data": {
      "text/plain": [
       "900"
      ]
     },
     "execution_count": 72,
     "metadata": {},
     "output_type": "execute_result"
    }
   ],
   "source": [
    "# 没有线程锁的情况下出现同步的问题\n",
    "account = Account(1000)\n",
    "print(account.balance)\n",
    "t1 = Thread(target=run, args=(100, ))\n",
    "t2 = Thread(target=run, args=(200,))\n",
    "t1.start()\n",
    "t2.start()\n",
    "t1.join()\n",
    "t2.join()\n",
    "account.balance"
   ]
  },
  {
   "cell_type": "code",
   "execution_count": 49,
   "metadata": {},
   "outputs": [],
   "source": [
    "# 加锁改善\n",
    "from threading import Lock"
   ]
  },
  {
   "cell_type": "code",
   "execution_count": 55,
   "metadata": {},
   "outputs": [],
   "source": [
    "class AccountLock:\n",
    "    def __init__(self, money):\n",
    "        self._money = money\n",
    "        self._lock = Lock()\n",
    "    \n",
    "    def add(self, money):\n",
    "        with self._lock:\n",
    "            self._money += money\n",
    "    \n",
    "    def subs(self, money):\n",
    "        with self._lock:\n",
    "            self._money -= money\n",
    "    \n",
    "    @property\n",
    "    def balance(self):\n",
    "        return self._money"
   ]
  },
  {
   "cell_type": "code",
   "execution_count": 74,
   "metadata": {},
   "outputs": [
    {
     "name": "stdout",
     "output_type": "stream",
     "text": [
      "1000\n"
     ]
    },
    {
     "data": {
      "text/plain": [
       "1000"
      ]
     },
     "execution_count": 74,
     "metadata": {},
     "output_type": "execute_result"
    }
   ],
   "source": [
    "# 加锁后\n",
    "account = AccountLock(1000)\n",
    "print(account.balance)\n",
    "t1 = Thread(target=run, args=(100, ))\n",
    "t2 = Thread(target=run, args=(200,))\n",
    "t1.start()\n",
    "t2.start()\n",
    "t1.join()\n",
    "t2.join()\n",
    "account.balance"
   ]
  },
  {
   "cell_type": "markdown",
   "metadata": {},
   "source": [
    "## 死锁问题"
   ]
  },
  {
   "cell_type": "code",
   "execution_count": null,
   "metadata": {},
   "outputs": [],
   "source": []
  },
  {
   "cell_type": "markdown",
   "metadata": {},
   "source": [
    "# 分布式"
   ]
  },
  {
   "cell_type": "markdown",
   "metadata": {},
   "source": [
    "## 分布式理论\n",
    "- CAP（三选二）\n",
    "    - Consistency 一致性\n",
    "    - Available 可用性\n",
    "    - Partition-Tolerance 容错性"
   ]
  },
  {
   "cell_type": "code",
   "execution_count": null,
   "metadata": {},
   "outputs": [],
   "source": []
  },
  {
   "cell_type": "markdown",
   "metadata": {},
   "source": [
    "## 使用manager实现简单的分布式计算"
   ]
  },
  {
   "cell_type": "code",
   "execution_count": null,
   "metadata": {},
   "outputs": [],
   "source": []
  },
  {
   "cell_type": "markdown",
   "metadata": {},
   "source": [
    "## Celery/Ray分布式框架"
   ]
  },
  {
   "cell_type": "code",
   "execution_count": null,
   "metadata": {},
   "outputs": [],
   "source": []
  },
  {
   "cell_type": "markdown",
   "metadata": {},
   "source": [
    "## 分布式实战"
   ]
  },
  {
   "cell_type": "code",
   "execution_count": null,
   "metadata": {},
   "outputs": [],
   "source": []
  },
  {
   "cell_type": "code",
   "execution_count": null,
   "metadata": {},
   "outputs": [],
   "source": []
  }
 ],
 "metadata": {
  "kernelspec": {
   "display_name": "Python 3",
   "language": "python",
   "name": "python3"
  },
  "language_info": {
   "codemirror_mode": {
    "name": "ipython",
    "version": 3
   },
   "file_extension": ".py",
   "mimetype": "text/x-python",
   "name": "python",
   "nbconvert_exporter": "python",
   "pygments_lexer": "ipython3",
   "version": "3.6.8"
  },
  "toc-autonumbering": true
 },
 "nbformat": 4,
 "nbformat_minor": 4
}
