{
 "cells": [
  {
   "cell_type": "markdown",
   "metadata": {},
   "source": [
    "## 私有属性和公有属性"
   ]
  },
  {
   "cell_type": "code",
   "execution_count": 9,
   "metadata": {},
   "outputs": [],
   "source": [
    "class Student:\n",
    "    name = \"\"\n",
    "    __pid = \"\"\n",
    "    _gender = \"\"\n",
    "    def __init__(self, name, pid, gender='M'):\n",
    "        self.name = name\n",
    "        self.__pid = pid\n",
    "        self._gender = gender\n",
    "        \n",
    "    def __repr__(self):\n",
    "        return f\"name: {self.name} \\npid: {self.__pid} \\ngender: {self._gender}\"\n",
    "    \n",
    "    def _reset_gender(self, gender):\n",
    "        self._gender = gender\n",
    "    \n",
    "    def __reset_pid(self, pid):\n",
    "        self.__pid = pid\n",
    "        \n",
    "    def empty_pid(self, pid):\n",
    "        self.__reset_pid(\"\")"
   ]
  },
  {
   "cell_type": "code",
   "execution_count": 10,
   "metadata": {},
   "outputs": [
    {
     "data": {
      "text/plain": [
       "name: Jam \n",
       "pid: 20191010 \n",
       "gender: M"
      ]
     },
     "execution_count": 10,
     "metadata": {},
     "output_type": "execute_result"
    }
   ],
   "source": [
    "s = Student('Jam', '20191010')\n",
    "s"
   ]
  },
  {
   "cell_type": "code",
   "execution_count": 11,
   "metadata": {},
   "outputs": [
    {
     "data": {
      "text/plain": [
       "'20191010'"
      ]
     },
     "execution_count": 11,
     "metadata": {},
     "output_type": "execute_result"
    }
   ],
   "source": [
    "s._Student__pid"
   ]
  },
  {
   "cell_type": "code",
   "execution_count": 16,
   "metadata": {},
   "outputs": [],
   "source": [
    "s._Student__reset_pid(123)"
   ]
  },
  {
   "cell_type": "markdown",
   "metadata": {},
   "source": [
    "## 继承的私有属性无法修改\n",
    "比较"
   ]
  },
  {
   "cell_type": "code",
   "execution_count": 45,
   "metadata": {},
   "outputs": [],
   "source": [
    "class PresidentStudent1(Student):\n",
    "    def set_pid(self, pid):\n",
    "        self.__pid = pid"
   ]
  },
  {
   "cell_type": "code",
   "execution_count": 47,
   "metadata": {},
   "outputs": [
    {
     "data": {
      "text/plain": [
       "name: sir \n",
       "pid: 12312 \n",
       "gender: M"
      ]
     },
     "execution_count": 47,
     "metadata": {},
     "output_type": "execute_result"
    }
   ],
   "source": [
    "ps = PresidentStudent1('sir','12312')\n",
    "ps"
   ]
  },
  {
   "cell_type": "code",
   "execution_count": 48,
   "metadata": {},
   "outputs": [
    {
     "data": {
      "text/plain": [
       "name: sir \n",
       "pid: 12312 \n",
       "gender: M"
      ]
     },
     "execution_count": 48,
     "metadata": {},
     "output_type": "execute_result"
    }
   ],
   "source": [
    "ps.set_pid('1')\n",
    "ps"
   ]
  },
  {
   "cell_type": "markdown",
   "metadata": {},
   "source": [
    "继承后再定义"
   ]
  },
  {
   "cell_type": "markdown",
   "metadata": {},
   "source": [
    "输出方法没有重载的话，将输出父类的同名方法"
   ]
  },
  {
   "cell_type": "code",
   "execution_count": 58,
   "metadata": {},
   "outputs": [],
   "source": [
    "class PresidentStudent2(Student):\n",
    "    __pid = \"\"\n",
    "    def set_pid(self, pid):\n",
    "        self.__pid = pid"
   ]
  },
  {
   "cell_type": "code",
   "execution_count": 59,
   "metadata": {},
   "outputs": [
    {
     "data": {
      "text/plain": [
       "name: P_trump \n",
       "pid: 20201010 \n",
       "gender: M"
      ]
     },
     "execution_count": 59,
     "metadata": {},
     "output_type": "execute_result"
    }
   ],
   "source": [
    "ps = PresidentStudent2('P_trump', '20201010')\n",
    "ps"
   ]
  },
  {
   "cell_type": "code",
   "execution_count": 60,
   "metadata": {},
   "outputs": [
    {
     "data": {
      "text/plain": [
       "name: P_trump \n",
       "pid: 20201010 \n",
       "gender: M"
      ]
     },
     "execution_count": 60,
     "metadata": {},
     "output_type": "execute_result"
    }
   ],
   "source": [
    "ps.set_pid('31')\n",
    "ps"
   ]
  },
  {
   "cell_type": "markdown",
   "metadata": {},
   "source": [
    "输出重载，输出子类同名方法"
   ]
  },
  {
   "cell_type": "code",
   "execution_count": 61,
   "metadata": {},
   "outputs": [],
   "source": [
    "class PresidentStudent3(Student):\n",
    "    __pid = \"\"\n",
    "    def set_pid(self, pid):\n",
    "        self.__pid = pid\n",
    "        \n",
    "    def __repr__(self):\n",
    "        return f\"name: {self.name} \\npid: {self.__pid} \\ngender: {self._gender}\""
   ]
  },
  {
   "cell_type": "code",
   "execution_count": 62,
   "metadata": {},
   "outputs": [
    {
     "data": {
      "text/plain": [
       "name: P_trump \n",
       "pid:  \n",
       "gender: M"
      ]
     },
     "execution_count": 62,
     "metadata": {},
     "output_type": "execute_result"
    }
   ],
   "source": [
    "ps = PresidentStudent3('P_trump', '20201010')\n",
    "ps"
   ]
  },
  {
   "cell_type": "code",
   "execution_count": 63,
   "metadata": {},
   "outputs": [
    {
     "data": {
      "text/plain": [
       "name: P_trump \n",
       "pid: 31 \n",
       "gender: M"
      ]
     },
     "execution_count": 63,
     "metadata": {},
     "output_type": "execute_result"
    }
   ],
   "source": [
    "ps.set_pid('31')\n",
    "ps"
   ]
  },
  {
   "cell_type": "markdown",
   "metadata": {},
   "source": [
    "## 实例属性和类属性\n",
    "类中声明\n",
    "\n",
    "类方法中动态绑定"
   ]
  },
  {
   "cell_type": "code",
   "execution_count": 64,
   "metadata": {},
   "outputs": [
    {
     "data": {
      "text/plain": [
       "name: lau \n",
       "pid: 19990909 \n",
       "gender: M"
      ]
     },
     "execution_count": 64,
     "metadata": {},
     "output_type": "execute_result"
    }
   ],
   "source": [
    "s2 = Student('lau', '19990909')\n",
    "s2"
   ]
  },
  {
   "cell_type": "markdown",
   "metadata": {},
   "source": [
    "动态绑定"
   ]
  },
  {
   "cell_type": "code",
   "execution_count": 65,
   "metadata": {},
   "outputs": [],
   "source": [
    "s2.ranking = 23"
   ]
  },
  {
   "cell_type": "code",
   "execution_count": 67,
   "metadata": {},
   "outputs": [
    {
     "data": {
      "text/plain": [
       "23"
      ]
     },
     "execution_count": 67,
     "metadata": {},
     "output_type": "execute_result"
    }
   ],
   "source": [
    "s2.ranking"
   ]
  },
  {
   "cell_type": "markdown",
   "metadata": {},
   "source": [
    "## 属性限制"
   ]
  },
  {
   "cell_type": "markdown",
   "metadata": {},
   "source": [
    "属性限制`__slots__`，限制可动态绑定的属性"
   ]
  },
  {
   "cell_type": "markdown",
   "metadata": {},
   "source": [
    "若继承的父类没有限制，则子类限制无效"
   ]
  },
  {
   "cell_type": "code",
   "execution_count": 102,
   "metadata": {},
   "outputs": [],
   "source": [
    "class JuniorStudent(Student):\n",
    "    __slots__ = ['name', 'age', 'school']\n",
    "    \n",
    "    def __repr__(self):\n",
    "        return f\"name: {self.name}\""
   ]
  },
  {
   "cell_type": "code",
   "execution_count": 105,
   "metadata": {},
   "outputs": [
    {
     "data": {
      "text/plain": [
       "name: liu"
      ]
     },
     "execution_count": 105,
     "metadata": {},
     "output_type": "execute_result"
    }
   ],
   "source": [
    "js = JuniorStudent('liu', '19009090')\n",
    "js"
   ]
  },
  {
   "cell_type": "code",
   "execution_count": 110,
   "metadata": {},
   "outputs": [
    {
     "data": {
      "text/plain": [
       "(13, 'swjtu', 'f', '9523')"
      ]
     },
     "execution_count": 110,
     "metadata": {},
     "output_type": "execute_result"
    }
   ],
   "source": [
    "js.age = 13\n",
    "js.school = 'swjtu'\n",
    "js.gender = 'f'\n",
    "js._Student__pid = '9523'\n",
    "js.age, js.school, js.gender, js._Student__pid"
   ]
  },
  {
   "cell_type": "code",
   "execution_count": 112,
   "metadata": {},
   "outputs": [
    {
     "data": {
      "text/plain": [
       "123"
      ]
     },
     "execution_count": 112,
     "metadata": {},
     "output_type": "execute_result"
    }
   ],
   "source": [
    "js.ranking = 123\n",
    "js.ranking"
   ]
  },
  {
   "cell_type": "code",
   "execution_count": 113,
   "metadata": {},
   "outputs": [],
   "source": [
    "class StudentLimit:\n",
    "    __slots__ = ['name', 'age', 'school']"
   ]
  },
  {
   "cell_type": "code",
   "execution_count": 116,
   "metadata": {},
   "outputs": [
    {
     "data": {
      "text/plain": [
       "('liu', 123, 'hb')"
      ]
     },
     "execution_count": 116,
     "metadata": {},
     "output_type": "execute_result"
    }
   ],
   "source": [
    "sl = StudentLimit()\n",
    "sl.name = 'liu'\n",
    "sl.age = 123\n",
    "sl.school = 'hb'\n",
    "sl.name, sl.age, sl.school"
   ]
  },
  {
   "cell_type": "code",
   "execution_count": 117,
   "metadata": {},
   "outputs": [
    {
     "ename": "AttributeError",
     "evalue": "'StudentLimit' object has no attribute 'ranking'",
     "output_type": "error",
     "traceback": [
      "\u001b[1;31m---------------------------------------------------------------------------\u001b[0m",
      "\u001b[1;31mAttributeError\u001b[0m                            Traceback (most recent call last)",
      "\u001b[1;32m<ipython-input-117-ac7324f43f41>\u001b[0m in \u001b[0;36m<module>\u001b[1;34m\u001b[0m\n\u001b[1;32m----> 1\u001b[1;33m \u001b[0msl\u001b[0m\u001b[1;33m.\u001b[0m\u001b[0mranking\u001b[0m \u001b[1;33m=\u001b[0m \u001b[1;36m123\u001b[0m\u001b[1;33m\u001b[0m\u001b[0m\n\u001b[0m\u001b[0;32m      2\u001b[0m \u001b[0msl\u001b[0m\u001b[1;33m.\u001b[0m\u001b[0mranking\u001b[0m\u001b[1;33m\u001b[0m\u001b[0m\n",
      "\u001b[1;31mAttributeError\u001b[0m: 'StudentLimit' object has no attribute 'ranking'"
     ]
    }
   ],
   "source": [
    "sl.ranking = 123\n",
    "sl.ranking"
   ]
  },
  {
   "cell_type": "code",
   "execution_count": 215,
   "metadata": {},
   "outputs": [],
   "source": [
    "from functools import reduce"
   ]
  },
  {
   "cell_type": "code",
   "execution_count": 217,
   "metadata": {},
   "outputs": [],
   "source": [
    "class ProdAgent:\n",
    "    __slots__ = ['weight', 'height', 'length']\n",
    "    attrs = None\n",
    "    \n",
    "    def __init__(self, weight, height, length):\n",
    "        self.weight = weight\n",
    "        self.height = height\n",
    "        self.length = length\n",
    "        ProdAgent.attrs = {k:getattr(self, k) for k in dir(self) if not k.startswith(\"__\")}\n",
    "    \n",
    "    def __repr__(self):\n",
    "        return f\"{ {k:v for k,v in ProdAgent.attrs.items() if isinstance(v, (int, float))} }\"\n",
    "      \n",
    "    def product(self):\n",
    "        return reduce(lambda a,b: a*b, [v for _, v in \n",
    "                                 ProdAgent.attrs.items() if isinstance(v, (int, float))])\n",
    "        "
   ]
  },
  {
   "cell_type": "code",
   "execution_count": 222,
   "metadata": {},
   "outputs": [
    {
     "data": {
      "text/plain": [
       "{'height': 2, 'length': 3.4, 'weight': 1}"
      ]
     },
     "execution_count": 222,
     "metadata": {},
     "output_type": "execute_result"
    }
   ],
   "source": [
    "pa = ProdAgent(1,2,3.4)\n",
    "pa"
   ]
  },
  {
   "cell_type": "code",
   "execution_count": 223,
   "metadata": {},
   "outputs": [
    {
     "data": {
      "text/plain": [
       "6.8"
      ]
     },
     "execution_count": 223,
     "metadata": {},
     "output_type": "execute_result"
    }
   ],
   "source": [
    "pa.product()"
   ]
  },
  {
   "cell_type": "code",
   "execution_count": null,
   "metadata": {},
   "outputs": [],
   "source": []
  }
 ],
 "metadata": {
  "kernelspec": {
   "display_name": "Python 3",
   "language": "python",
   "name": "python3"
  },
  "language_info": {
   "codemirror_mode": {
    "name": "ipython",
    "version": 3
   },
   "file_extension": ".py",
   "mimetype": "text/x-python",
   "name": "python",
   "nbconvert_exporter": "python",
   "pygments_lexer": "ipython3",
   "version": "3.6.2"
  }
 },
 "nbformat": 4,
 "nbformat_minor": 4
}
