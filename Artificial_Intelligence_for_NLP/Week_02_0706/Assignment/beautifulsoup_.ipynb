{
 "cells": [
  {
   "cell_type": "code",
   "execution_count": 239,
   "metadata": {},
   "outputs": [],
   "source": [
    "from bs4 import BeautifulSoup\n",
    "import requests\n",
    "from api import baidu_api, gaode_api\n",
    "import json\n",
    "url1 = 'https://movie.douban.com/subject/26931786/?from=showing'\n",
    "url2 = 'https://dt.8684.cn/bj_x_6c955cb5'\n",
    "url3 = 'https://dt.8684.cn/bj'\n",
    "r = requests.get(url3)\n",
    "r.encoding = 'utf-8'"
   ]
  },
  {
   "cell_type": "code",
   "execution_count": 56,
   "metadata": {},
   "outputs": [],
   "source": [
    "soup2 = BeautifulSoup(r.text)"
   ]
  },
  {
   "cell_type": "code",
   "execution_count": 69,
   "metadata": {},
   "outputs": [],
   "source": [
    "import re\n",
    "metro_map = {}\n",
    "for link in soup2.find_all(class_ = \"sLink\"):\n",
    "#     print(link)\n",
    "#     print(dir(link))\n",
    "#     print(type(link.text))\n",
    "    a = link.text.split()\n",
    "    metro_map[a[0]] = a[1:]\n",
    "#     print(type(link))\n",
    "#     print(link.get('href'))"
   ]
  },
  {
   "cell_type": "code",
   "execution_count": 90,
   "metadata": {},
   "outputs": [
    {
     "data": {
      "text/plain": [
       "['苹果园',\n",
       " '古城',\n",
       " '八角游乐园',\n",
       " '八宝山',\n",
       " '玉泉路',\n",
       " '五棵松',\n",
       " '万寿路',\n",
       " '公主坟',\n",
       " '军事博物馆',\n",
       " '木樨地',\n",
       " '南礼士路',\n",
       " '复兴门',\n",
       " '西单',\n",
       " '天安门西',\n",
       " '天安门东',\n",
       " '王府井',\n",
       " '东单',\n",
       " '建国门',\n",
       " '永安里',\n",
       " '国贸',\n",
       " '大望路',\n",
       " '四惠',\n",
       " '四惠东']"
      ]
     },
     "execution_count": 90,
     "metadata": {},
     "output_type": "execute_result"
    }
   ],
   "source": [
    "len(metro_map)\n",
    "metro_map['北京地铁1号线']"
   ]
  },
  {
   "cell_type": "code",
   "execution_count": 98,
   "metadata": {},
   "outputs": [
    {
     "data": {
      "text/plain": [
       "['安河桥北',\n",
       " '北宫门',\n",
       " '西苑',\n",
       " '圆明园',\n",
       " '北京大学东门',\n",
       " '中关村',\n",
       " '海淀黄庄',\n",
       " '人民大学',\n",
       " '魏公村',\n",
       " '国家图书馆',\n",
       " '动物园',\n",
       " '西直门',\n",
       " '新街口',\n",
       " '平安里',\n",
       " '西四',\n",
       " '灵境胡同',\n",
       " '西单',\n",
       " '宣武门',\n",
       " '菜市口',\n",
       " '陶然亭',\n",
       " '北京南站',\n",
       " '马家堡',\n",
       " '角门西',\n",
       " '公益西桥',\n",
       " '新宫',\n",
       " '西红门',\n",
       " '高米店北',\n",
       " '高米店南',\n",
       " '枣园',\n",
       " '清源路',\n",
       " '黄村西大街',\n",
       " '黄村火车站',\n",
       " '义和庄',\n",
       " '生物医药基地',\n",
       " '天宫院']"
      ]
     },
     "execution_count": 98,
     "metadata": {},
     "output_type": "execute_result"
    }
   ],
   "source": [
    "metro_map['北京地铁4号线']"
   ]
  },
  {
   "cell_type": "code",
   "execution_count": 75,
   "metadata": {},
   "outputs": [],
   "source": [
    "private_api = api"
   ]
  },
  {
   "cell_type": "markdown",
   "metadata": {},
   "source": [
    "## 百度地图API：`http://api.map.baidu.com/geocoding/v3/?address=北京市海淀区上地十街10号&output=json&ak=您的ak&callback=showLocation`\n",
    "### 不好用，返回的经纬度误差巨大"
   ]
  },
  {
   "cell_type": "code",
   "execution_count": 196,
   "metadata": {},
   "outputs": [],
   "source": [
    "def get_geoinfo_baidu(address):\n",
    "    url = 'http://api.map.baidu.com/geocoding/v3/?'\n",
    "    api = private_api\n",
    "    uri = url + 'address=' + address + '&output=json&ak=' + api\n",
    "    r = requests.get(uri)\n",
    "    result = json.loads(r.text)['result']['location']\n",
    "    if result:\n",
    "        return result['lat'], result['lng']\n",
    "    return None"
   ]
  },
  {
   "cell_type": "markdown",
   "metadata": {},
   "source": [
    "## 高德API: `https://restapi.amap.com/v3/geocode/geo?address=北京市朝阳区阜通东大街6号&output=XML&key=<用户的key>`"
   ]
  },
  {
   "cell_type": "code",
   "execution_count": 244,
   "metadata": {},
   "outputs": [],
   "source": [
    "def get_geoinfo_gaode(address):\n",
    "    output_type = json\n",
    "    uri = f\"https://restapi.amap.com/v3/geocode/geo?address={address}&output={output_type}&key={gaode_api}\"\n",
    "    r = requests.get(uri).text\n",
    "    result = json.loads(r)['geocodes'][0]['location']\n",
    "    lng, lat = result.split(',')\n",
    "    return float(lat), float(lng)"
   ]
  },
  {
   "cell_type": "code",
   "execution_count": 245,
   "metadata": {},
   "outputs": [
    {
     "data": {
      "text/plain": [
       "(39.846306, 116.37088)"
      ]
     },
     "execution_count": 245,
     "metadata": {},
     "output_type": "execute_result"
    }
   ],
   "source": [
    "get_geoinfo_gaode('北京地铁4号线角门西')"
   ]
  },
  {
   "cell_type": "code",
   "execution_count": 250,
   "metadata": {},
   "outputs": [
    {
     "data": {
      "text/plain": [
       "(39.87451642487908, 116.46144831226533)"
      ]
     },
     "execution_count": 250,
     "metadata": {},
     "output_type": "execute_result"
    }
   ],
   "source": [
    "# not precise result\n",
    "get_geoinfo_baidu('北京地铁4号线生物医药基地')"
   ]
  },
  {
   "cell_type": "code",
   "execution_count": 246,
   "metadata": {},
   "outputs": [
    {
     "data": {
      "text/plain": [
       "(39.686101, 116.321909)"
      ]
     },
     "execution_count": 246,
     "metadata": {},
     "output_type": "execute_result"
    }
   ],
   "source": [
    "get_geoinfo_gaode('北京地铁4号线生物医药基地')"
   ]
  },
  {
   "cell_type": "code",
   "execution_count": 247,
   "metadata": {},
   "outputs": [
    {
     "data": {
      "text/plain": [
       "(39.91166587774982, 116.51463108233885)"
      ]
     },
     "execution_count": 247,
     "metadata": {},
     "output_type": "execute_result"
    }
   ],
   "source": [
    "get_geoinfo_baidu('北京地铁1号线四惠')"
   ]
  },
  {
   "cell_type": "code",
   "execution_count": 249,
   "metadata": {},
   "outputs": [
    {
     "data": {
      "text/plain": [
       "(39.91029, 116.49567)"
      ]
     },
     "execution_count": 249,
     "metadata": {},
     "output_type": "execute_result"
    }
   ],
   "source": [
    "get_geoinfo_gaode('北京地铁1号线四惠')"
   ]
  },
  {
   "cell_type": "code",
   "execution_count": 256,
   "metadata": {},
   "outputs": [
    {
     "data": {
      "text/plain": [
       "{'安河桥北': (40.011784, 116.270362),\n",
       " '北宫门': (40.003081, 116.277306),\n",
       " '西苑': (39.90403, 116.407526),\n",
       " '圆明园': (39.998969, 116.308018),\n",
       " '北京大学东门': (39.990383, 116.312899),\n",
       " '中关村': (39.98499, 116.318038),\n",
       " '海淀黄庄': (39.975996, 116.317564),\n",
       " '人民大学': (39.96677, 116.327565),\n",
       " '魏公村': (39.956708, 116.323762),\n",
       " '国家图书馆': (39.943154, 116.324024),\n",
       " '动物园': (39.941344, 116.339892),\n",
       " '西直门': (39.939588, 116.353714),\n",
       " '新街口': (39.944355, 116.371465),\n",
       " '平安里': (39.931828, 116.368242),\n",
       " '西四': (39.90403, 116.407526),\n",
       " '灵境胡同': (39.914815, 116.374654),\n",
       " '西单': (39.908342, 116.375121),\n",
       " '宣武门': (39.896729, 116.375877),\n",
       " '菜市口': (39.889297, 116.374425),\n",
       " '陶然亭': (39.882271, 116.38469),\n",
       " '北京南站': (39.864462, 116.379064),\n",
       " '马家堡': (39.840306, 116.376829),\n",
       " '角门西': (39.846306, 116.37088),\n",
       " '公益西桥': (39.83115, 116.369493),\n",
       " '新宫': (39.90403, 116.407526),\n",
       " '西红门': (39.789391, 116.3256),\n",
       " '高米店北': (39.84541, 116.37075),\n",
       " '高米店南': (39.759196, 116.341349),\n",
       " '枣园': (39.90403, 116.407526),\n",
       " '清源路': (39.742876, 116.337131),\n",
       " '黄村西大街': (39.73165, 116.329351),\n",
       " '黄村火车站': (39.720189, 116.331651),\n",
       " '义和庄': (39.714324, 116.332793),\n",
       " '生物医药基地': (39.686101, 116.321909),\n",
       " '天宫院': (39.677329, 116.323215)}"
      ]
     },
     "execution_count": 256,
     "metadata": {},
     "output_type": "execute_result"
    }
   ],
   "source": [
    "metro_4 = {}\n",
    "for x in metro_map['北京地铁4号线']:\n",
    "    metro_4[x] = get_geoinfo_gaode('北京地铁4号线' + x)\n",
    "metro_4"
   ]
  },
  {
   "cell_type": "code",
   "execution_count": 283,
   "metadata": {},
   "outputs": [],
   "source": [
    "import networkx as nx\n",
    "station = nx.Graph()\n",
    "station.add_nodes_from(list(metro_4.keys()))"
   ]
  },
  {
   "cell_type": "code",
   "execution_count": 284,
   "metadata": {},
   "outputs": [
    {
     "data": {
      "image/png": "[encoded data removed]",
      "text/plain": [
       "<Figure size 432x288 with 1 Axes>"
      ]
     },
     "metadata": {},
     "output_type": "display_data"
    }
   ],
   "source": [
    "nx.draw(station, metro_4, with_labels = True, node_size=10)"
   ]
  },
  {
   "cell_type": "code",
   "execution_count": 285,
   "metadata": {},
   "outputs": [],
   "source": [
    "x, y = [], []\n",
    "for e in list(metro_4.values()):\n",
    "    lat, lng = e\n",
    "    x.append(lat)\n",
    "    y.append(lng)"
   ]
  },
  {
   "cell_type": "code",
   "execution_count": 288,
   "metadata": {},
   "outputs": [
    {
     "data": {
      "text/plain": [
       "[<matplotlib.lines.Line2D at 0x2200bbabe80>]"
      ]
     },
     "execution_count": 288,
     "metadata": {},
     "output_type": "execute_result"
    },
    {
     "data": {
      "image/png": "[encoded data removed]",
      "text/plain": [
       "<Figure size 432x288 with 1 Axes>"
      ]
     },
     "metadata": {
      "needs_background": "light"
     },
     "output_type": "display_data"
    }
   ],
   "source": [
    "%matplotlib inline\n",
    "import matplotlib.pyplot as plt\n",
    "plt.plot(x, y)"
   ]
  },
  {
   "cell_type": "code",
   "execution_count": 292,
   "metadata": {},
   "outputs": [
    {
     "data": {
      "text/plain": [
       "[<matplotlib.lines.Line2D at 0x2200eaab390>]"
      ]
     },
     "execution_count": 292,
     "metadata": {},
     "output_type": "execute_result"
    },
    {
     "data": {
      "image/png": "[encoded data removed]",
      "text/plain": [
       "<Figure size 432x288 with 1 Axes>"
      ]
     },
     "metadata": {
      "needs_background": "light"
     },
     "output_type": "display_data"
    }
   ],
   "source": [
    "plt.plot([1,2,3,4],[1,2,3,4], '+')"
   ]
  },
  {
   "cell_type": "code",
   "execution_count": 259,
   "metadata": {},
   "outputs": [],
   "source": [
    "# from geopy.geocoders import Nominatim\n",
    "# s = Nominatim().geocode('北京地铁4号线角门西')\n",
    "# 不理想"
   ]
  },
  {
   "cell_type": "code",
   "execution_count": 261,
   "metadata": {},
   "outputs": [
    {
     "data": {
      "text/plain": [
       "['安河桥北',\n",
       " '北宫门',\n",
       " '西苑',\n",
       " '圆明园',\n",
       " '北京大学东门',\n",
       " '中关村',\n",
       " '海淀黄庄',\n",
       " '人民大学',\n",
       " '魏公村',\n",
       " '国家图书馆',\n",
       " '动物园',\n",
       " '西直门',\n",
       " '新街口',\n",
       " '平安里',\n",
       " '西四',\n",
       " '灵境胡同',\n",
       " '西单',\n",
       " '宣武门',\n",
       " '菜市口',\n",
       " '陶然亭',\n",
       " '北京南站',\n",
       " '马家堡',\n",
       " '角门西',\n",
       " '公益西桥',\n",
       " '新宫',\n",
       " '西红门',\n",
       " '高米店北',\n",
       " '高米店南',\n",
       " '枣园',\n",
       " '清源路',\n",
       " '黄村西大街',\n",
       " '黄村火车站',\n",
       " '义和庄',\n",
       " '生物医药基地',\n",
       " '天宫院']"
      ]
     },
     "execution_count": 261,
     "metadata": {},
     "output_type": "execute_result"
    }
   ],
   "source": [
    "metro_4_connected = {}\n",
    "station = list(metro_4.keys())\n",
    "station"
   ]
  },
  {
   "cell_type": "code",
   "execution_count": null,
   "metadata": {},
   "outputs": [],
   "source": []
  }
 ],
 "metadata": {
  "kernelspec": {
   "display_name": "Python 3",
   "language": "python",
   "name": "python3"
  },
  "language_info": {
   "codemirror_mode": {
    "name": "ipython",
    "version": 3
   },
   "file_extension": ".py",
   "mimetype": "text/x-python",
   "name": "python",
   "nbconvert_exporter": "python",
   "pygments_lexer": "ipython3",
   "version": "3.7.3"
  }
 },
 "nbformat": 4,
 "nbformat_minor": 2
}
