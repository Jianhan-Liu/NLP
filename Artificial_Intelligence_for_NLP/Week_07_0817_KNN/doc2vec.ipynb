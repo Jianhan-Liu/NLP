{
 "cells": [
  {
   "cell_type": "code",
   "execution_count": 1,
   "metadata": {},
   "outputs": [],
   "source": [
    "import gensim\n",
    "import os\n",
    "import collections\n",
    "import smart_open\n",
    "import random"
   ]
  },
  {
   "cell_type": "code",
   "execution_count": 7,
   "metadata": {},
   "outputs": [],
   "source": [
    "test_data_dir = f\"{(os.sep).join([gensim.__path__[0], 'test', 'test_data'])}\"\n",
    "lee_train_file = test_data_dir + os.sep + 'lee_background.cor'\n",
    "lee_test_file = test_data_dir + os.sep + 'lee.cor'"
   ]
  },
  {
   "cell_type": "code",
   "execution_count": 10,
   "metadata": {},
   "outputs": [],
   "source": [
    "def read_corpus(fname, token_only=False):\n",
    "    with smart_open.smart_open(fname, encoding=\"iso-8859-1\") as f:\n",
    "        for i, line in enumerate(f):\n",
    "            if token_only:\n",
    "                yield gensim.utils.simple_preprocess(line)\n",
    "            else:\n",
    "                yield gensim.models.doc2vec.TaggedDocument(gensim.utils.simple_preprocess(line),[i])"
   ]
  },
  {
   "cell_type": "code",
   "execution_count": 28,
   "metadata": {},
   "outputs": [],
   "source": [
    "train_corpus = list(read_corpus(lee_train_file))\n",
    "test_corpus = list(read_corpus(lee_test_file))\n"
   ]
  },
  {
   "cell_type": "code",
   "execution_count": 14,
   "metadata": {},
   "outputs": [
    {
     "data": {
      "text/plain": [
       "(300, 50)"
      ]
     },
     "execution_count": 14,
     "metadata": {},
     "output_type": "execute_result"
    }
   ],
   "source": [
    "len(train_corpus), len(test_corpus)"
   ]
  },
  {
   "cell_type": "code",
   "execution_count": 19,
   "metadata": {},
   "outputs": [],
   "source": [
    "model = gensim.models.doc2vec.Doc2Vec(vector_size=50, min_count=2, epochs=40)"
   ]
  },
  {
   "cell_type": "code",
   "execution_count": 20,
   "metadata": {},
   "outputs": [],
   "source": [
    "model.build_vocab(train_corpus)"
   ]
  },
  {
   "cell_type": "code",
   "execution_count": 22,
   "metadata": {},
   "outputs": [
    {
     "name": "stdout",
     "output_type": "stream",
     "text": [
      "Wall time: 2.75 s\n"
     ]
    }
   ],
   "source": [
    "%%time\n",
    "model.train(train_corpus, total_examples=model.corpus_count, epochs=model.epochs)"
   ]
  },
  {
   "cell_type": "code",
   "execution_count": 23,
   "metadata": {},
   "outputs": [
    {
     "data": {
      "text/plain": [
       "array([ 0.36365494,  0.19693178,  0.15819734,  0.22401616,  0.07935365,\n",
       "        0.02680831,  0.2490949 , -0.27364165, -0.4074056 , -0.03416133,\n",
       "        0.15029038, -0.25972533, -0.42780748,  0.6386398 , -0.25233492,\n",
       "       -0.05697685, -0.03870874,  0.3275111 , -0.1006775 ,  0.10472111,\n",
       "        0.56647074,  0.0897837 , -0.08180477, -0.15258615, -0.15435378,\n",
       "        0.05217075,  0.30950886, -0.21387246, -0.17471673,  0.50945264,\n",
       "       -0.32427102, -0.0347627 , -0.15499485,  0.2349172 , -0.03282439,\n",
       "       -0.5570285 , -0.27317727,  0.21489811,  0.34856558,  0.5376766 ,\n",
       "       -0.07393651, -0.21479756,  0.24452966,  0.49882564,  0.01144324,\n",
       "        0.06095293,  0.20694113, -0.02479087,  0.18230718,  0.22986288],\n",
       "      dtype=float32)"
      ]
     },
     "execution_count": 23,
     "metadata": {},
     "output_type": "execute_result"
    }
   ],
   "source": [
    "model.infer_vector(['only', 'you','can','prevent','forest','fires'])"
   ]
  },
  {
   "cell_type": "code",
   "execution_count": 30,
   "metadata": {},
   "outputs": [],
   "source": [
    "ranks = []\n",
    "second_ranks = []\n",
    "for doc_id in range(len(train_corpus)):\n",
    "    inferred_vector = model.infer_vector(train_corpus[doc_id].words)\n",
    "    sims = model.docvecs.most_similar([inferred_vector], topn=len(model.docvecs))\n",
    "    rank = [docid for docid, sim in sims].index(doc_id)\n",
    "    ranks.append(rank)\n",
    "    second_ranks.append(sims[1])"
   ]
  },
  {
   "cell_type": "code",
   "execution_count": 31,
   "metadata": {},
   "outputs": [
    {
     "data": {
      "text/plain": [
       "Counter({0: 291, 1: 9})"
      ]
     },
     "execution_count": 31,
     "metadata": {},
     "output_type": "execute_result"
    }
   ],
   "source": [
    "collections.Counter(ranks)"
   ]
  },
  {
   "cell_type": "code",
   "execution_count": 32,
   "metadata": {},
   "outputs": [
    {
     "name": "stdout",
     "output_type": "stream",
     "text": [
      "Document (299): «australia will take on france in the doubles rubber of the davis cup tennis final today with the tie levelled at wayne arthurs and todd woodbridge are scheduled to lead australia in the doubles against cedric pioline and fabrice santoro however changes can be made to the line up up to an hour before the match and australian team captain john fitzgerald suggested he might do just that we ll make team appraisal of the whole situation go over the pros and cons and make decision french team captain guy forget says he will not make changes but does not know what to expect from australia todd is the best doubles player in the world right now so expect him to play he said would probably use wayne arthurs but don know what to expect really pat rafter salvaged australia davis cup campaign yesterday with win in the second singles match rafter overcame an arm injury to defeat french number one sebastien grosjean in three sets the australian says he is happy with his form it not very pretty tennis there isn too many consistent bounces you are playing like said bit of classic old grass court rafter said rafter levelled the score after lleyton hewitt shock five set loss to nicholas escude in the first singles rubber but rafter says he felt no added pressure after hewitt defeat knew had good team to back me up even if we were down he said knew could win on the last day know the boys can win doubles so even if we were down still feel we are good enough team to win and vice versa they are good enough team to beat us as well»\n",
      "\n",
      "SIMILAR/DISSIMILAR DOCS PER MODEL Doc2Vec(dm/m,d50,n5,w5,mc2,s0.001,t3):\n",
      "\n",
      "MOST (299, 0.9785901308059692): «australia will take on france in the doubles rubber of the davis cup tennis final today with the tie levelled at wayne arthurs and todd woodbridge are scheduled to lead australia in the doubles against cedric pioline and fabrice santoro however changes can be made to the line up up to an hour before the match and australian team captain john fitzgerald suggested he might do just that we ll make team appraisal of the whole situation go over the pros and cons and make decision french team captain guy forget says he will not make changes but does not know what to expect from australia todd is the best doubles player in the world right now so expect him to play he said would probably use wayne arthurs but don know what to expect really pat rafter salvaged australia davis cup campaign yesterday with win in the second singles match rafter overcame an arm injury to defeat french number one sebastien grosjean in three sets the australian says he is happy with his form it not very pretty tennis there isn too many consistent bounces you are playing like said bit of classic old grass court rafter said rafter levelled the score after lleyton hewitt shock five set loss to nicholas escude in the first singles rubber but rafter says he felt no added pressure after hewitt defeat knew had good team to back me up even if we were down he said knew could win on the last day know the boys can win doubles so even if we were down still feel we are good enough team to win and vice versa they are good enough team to beat us as well»\n",
      "\n",
      "SECOND-MOST (283, 0.7036334276199341): «france is celebrating victory over australia in the davis cup tennis final after nicholas escude defeated wayne arthurs in four sets in the deciding rubber yesterday pat rafter was forced to withdraw from the match with recurring arm injury just hours before he was to take the court the deciding rubber was to be rafter farewell match before taking an indefinite break from the sport arthurs who has not played singles match since october says he was bitterly disappointed to lose any tennis players dream to be out there in front of partisan australain crowd you couldn ask for anything more in your tennis career and just unbelievably disappointed didn get the job done he said team captain john fitzgerald has defended the decision to play rafter in the doubles on saturday saying he was always in doubt for the final match there was no guarantee he could have played tell you anyone with less character wouldn have lasted nearly as long there was no guarantee he could play the doubles to start with let alone the singles and if he had day off there was still no guarantee rafter failed to show up to the post match media conference team officals said he was tired however todd woodbridge hit out at the media for wanting to ask him about his future plans it been asked times every day for two and half weeks mean what do you want him to say he asked reporters french team captain guy forget says the victory in part makes up for france defeat against australia in nice two years ago you re back in australia against better team on grass against the number one player in the world and you pull off win it very very exciting and the way it happened is just very very special he said escude says winning the match for france is the highlight of his career the palestinian authority has launched crackdown on islamic militants arresting more than members of the islamic jihad and hamas groups in the wake of weekend of deadly bomb attacks against israel the israeli government is warning of harsh response to the attacks the latest in the coastal city of haifa lone suicide bomber boarded bus in the northern israeli town and detonated device that killed israeli passengers some of them blown clear of the wreckage that attack came just hours after triple bombing in jerusalem which killed young israelis several israeli government ministers suggested that yasser arafat and the palestinian leadership should now be toppled decision on military response is likely to be made later today when israeli prime minister ariel sharon returns from the united states after the white house demanded action the palestinian authority has declared state of emergency and launched late night raids to arrest scores of hamas and islamic jihad members in the west bank and gaza strip»\n",
      "\n",
      "MEDIAN (171, 0.19854477047920227): «drug education campaigns appear to be paying dividends with new figures showing per cent drop in drug related deaths last year according to the australian bureau of statistics people died from drug related causes in the year that figure is substantial drop from when australians died of drug related causes across the states and territories new south wales recorded the biggest decrease the bureau david payne attributes the decline of drug deaths to the heroin drought in some parts of the country better equipped ambulances and emergency wards and above all effective federal and state drug education campaigns they have put lot of money into the program there has been fall and while you can discern trend from that the figures are going in the right way right direction mr payne said»\n",
      "\n",
      "LEAST (11, -0.12828329205513): «peru has entered two days of official mourning for the more than people killed in fire that destroyed part of downtown lima police say the fire began when fireworks cache exploded in shop just four blocks from peru congress in heritage listed area famed for its spanish colonial era architecture early evening crowds buying traditional fireworks for new year eve celebrations were trapped by the flames as they raced through surrounding markets and four storey apartment buildings local residents blame vendors of illegal fireworks and say the death toll was exacerbated by poor traffic control in the adjoining narrow street where cars themselves engulfed by fire trapped fleeing victims hospitals have urged the public to donate medicine for the hundreds of burns victims peru president alejandro toledo has cut short his beach holiday to oversee an inquiry»\n",
      "\n"
     ]
    }
   ],
   "source": [
    "print('Document ({}): «{}»\\n'.format(doc_id, ' '.join(train_corpus[doc_id].words)))\n",
    "print(u'SIMILAR/DISSIMILAR DOCS PER MODEL %s:\\n' % model)\n",
    "for label, index in [('MOST', 0), ('SECOND-MOST', 1), ('MEDIAN', len(sims)//2), ('LEAST', len(sims) - 1)]:\n",
    "    print(u'%s %s: «%s»\\n' % (label, sims[index], ' '.join(train_corpus[sims[index][0]].words)))"
   ]
  },
  {
   "cell_type": "code",
   "execution_count": 33,
   "metadata": {},
   "outputs": [
    {
     "name": "stdout",
     "output_type": "stream",
     "text": [
      "Train Document (114): «the federal cabinet has today endorsed series of anti terrorism measures at meeting in sydney new legislation will give more power to commonwealth agencies including allowing asio to detain people with information about terrorism for up to hours without legal representation terrorism offences will also be inserted in the criminal code and security agencies will be given the power to access unread emails attorney general daryl williams says the measures should win widespread community support the balancing process that we ve undergone in working out the asio paths believe is fair one and believe that the public will strongly support it as said hope the labor party will get behind it as well he said mr williams has appealed for the opposition to support the new anti terrorism measures we re looking for the labor party to get behind us on all of these proposals and we need the cooperation of the states and territories in relation to some of them mr williams said mr williams also says the first group of air security officers will have finished their training this weekend but he won reveal when they will take to the air us and afghan forces scoured afghanistan eastern highlands for osama bin laden as united states president george bush expressed certainty the terror suspect would be caught even though his whereabouts remain mystery for the first time in two weeks the tora bora battleground fell silent as tribal forces claimed they had defeated bin laden al qaeda fighters defending complex of caves and tunnels that served as their headquarters us warplanes suspended their bombing raids at the request of local commander whose us backed forces were scouring the mountainous area for fleeing al qaeda members according to the pentagon which said there were still pockets of resistance in the area us commandos also were on the ground searching for bin laden though the us administration said it had no clue whether he was still in the area few days ago we believed he was in the area rear admiral john stufflebeem said in washington asked where bin laden was now the pentagon spokesman said anybody guess is the latest thinking but president bush expressed certainty it was just matter time before the united states catches up with the man accused of masterminding the september attacks on us cities we get all kinds of reports that he in cave that he not in cave that he escaped that he hasn escaped he said there all kinds of speculation but when the dust clears we ll find out where he is and he will be brought to justice»\n",
      "\n",
      "Similar Document (183, 0.6188452243804932): «most of the tora bora mountain complex in eastern afghanistan where osama bin laden al qaeda fighters have been hiding has been captured by afghan militia forces military commander hazrat ali said we control all of the melawa and tora bora area except for one place mr ali told reporters adding that al qaeda still held the very top of the mountain we have captured all of the al qaeda places with heavy weapons he said speaking through an interpreter the rout came on the seventh day of fierce offensive by united states warplanes and afghan militiamen on the tora bora area which is riddled with caves used by afghan mujahideen during the war against the soviets earlier mr ali spokesman amin told the afp news agency that anti taliban forces had captured number of strategic heights in the white mountains range in which tora bora is situated from al qaeda fighters we have taken melawa palanai and large portion of anzare sar amin said four saudi born al qaeda fighters had been killed he added amin said us warplanes had been pounding the area heavily but had in the last few hours stopped the bombing due to our advances local commanders are convinced bin laden wanted for the september terrorist atrocities in the united states is holed up in the tora bora area with his followers»\n",
      "\n"
     ]
    }
   ],
   "source": [
    "# Pick a random document from the corpus and infer a vector from the model\n",
    "doc_id = random.randint(0, len(train_corpus) - 1)\n",
    "\n",
    "# Compare and print the second-most-similar document\n",
    "print('Train Document ({}): «{}»\\n'.format(doc_id, ' '.join(train_corpus[doc_id].words)))\n",
    "sim_id = second_ranks[doc_id]\n",
    "print('Similar Document {}: «{}»\\n'.format(sim_id, ' '.join(train_corpus[sim_id[0]].words)))"
   ]
  },
  {
   "cell_type": "code",
   "execution_count": 50,
   "metadata": {},
   "outputs": [
    {
     "name": "stdout",
     "output_type": "stream",
     "text": [
      "Test Document (14): «very few women have been appointed to head independent schools thwarting efforts to show women as good leaders according to the victorian independent education union although they make up two thirds of teaching staff women hold only one third of principal positions the union general secretary tony keenan said he believed some women were reluctant to become principals because of the long hours and the nature of the work but in other cases they were shut out of the top position because of perceptions about their ability to lead and provide discipline»\n",
      "\n",
      "SIMILAR/DISSIMILAR DOCS PER MODEL Doc2Vec(dm/m,d50,n5,w5,mc2,s0.001,t3):\n",
      "\n",
      "MOST (4, 0.45552027225494385): «six midwives have been suspended at wollongong hospital south of sydney for inappropriate use of nitrous oxide during work hours on some occasions while women were in labour the illawarra area health service says that following an investigation of unprofessional conduct further four midwives have been relocated to other areas within the hospital the service chief executive officer tony sherbon says no one was put at risk because other staff not involved in the use of nitrous oxide were able to take over caring for women in labour well we re very concerned and the body of midwives to the hospital there are over midwives that work in our service are very annoyed and angry at the inappropriate behaviour of these very senior people who should know better he said and that why we ve take the action of suspending them and we ll consider further action next week»\n",
      "\n",
      "MEDIAN (59, 0.09563455730676651): «australian cricket selectors have made just one change to the squad that beat south africa in the opening test for the second test beginning in melbourne on boxing day as predicted queensland pace bowler andy bichel replaces spin bowler stuart macgill who was th man for the adelaide test macgill took five wickets for new south wales on day one of the tour match against south africa at the scg thursday but it was not enough to sway selectors the full squad is steve waugh adam gilchrist vc matthew hayden justin langer ricky ponting mark waugh damien martyn shane warne brett lee jason gillespie glenn mcgrath and andy bichel»\n",
      "\n",
      "LEAST (228, -0.17465153336524963): «the immigration minister philip ruddock says the so called pacific solution is working as way of deterring people from coming to australia and he does not want to abandon it mr ruddock says the government would only change its policy of using pacific islands to process asylum seekers if so many people arrived they could not all be housed on the available islands mr ruddock says the significant fall in the number of people arriving illegally in australia is sign the government would not change the policy what saying is the policy works if you face changed circumstances you may have to change your approach but that doesn suggest that what you re doing is unable to cope or is in any way ineffective when clearly we had something like arrivals in august something like in september and between the th of november and now we ve had no boat arrivals mr ruddock said»\n",
      "\n"
     ]
    }
   ],
   "source": [
    "# Pick a random document from the test corpus and infer a vector from the model\n",
    "doc_id = random.randint(0, len(test_corpus) - 1)\n",
    "inferred_vector = model.infer_vector(test_corpus[doc_id].words)\n",
    "sims = model.docvecs.most_similar([inferred_vector], topn=len(model.docvecs))\n",
    "\n",
    "# Compare and print the most/median/least similar documents from the train corpus\n",
    "print('Test Document ({}): «{}»\\n'.format(doc_id, ' '.join(test_corpus[doc_id].words)))\n",
    "print(u'SIMILAR/DISSIMILAR DOCS PER MODEL %s:\\n' % model)\n",
    "for label, index in [('MOST', 0), ('MEDIAN', len(sims)//2), ('LEAST', len(sims) - 1)]:\n",
    "    print(u'%s %s: «%s»\\n' % (label, sims[index], ' '.join(train_corpus[sims[index][0]].words)))"
   ]
  },
  {
   "cell_type": "code",
   "execution_count": 18,
   "metadata": {},
   "outputs": [
    {
     "data": {
      "text/plain": [
       "TaggedDocument(words=['新华社北京', '日电', '记者', '许可', '金砖国家外长会晤', '日在北京钓鱼台国宾馆举行', '外交部长王毅主持会晤', '南非国际关系与合作部长马沙巴内', '巴西外长努内斯', '俄罗斯外长拉夫罗夫', '印度外交国务部长辛格出席', '王毅表示', '金砖合作机制成立十年来', '在五国领导人有力指引下', '各方秉持开放', '包容', '合作', '共赢的金砖精神', '推动金砖合作从无到有', '由浅入深', '取得长足发展', '五国经济总量占全球比重上升', '贸易投资大幅提升', '合作领域全面拓展', '形成全范围', '宽领域', '多层次的合作架构', '在联合国', '二十国集团等国际组织中紧密协作', '维护广大发展中国家团结和利益', '共同应对全球性挑战', '王毅指出', '中国接任金砖国家轮值主席', '中方愿同其他四国一道', '继续筑牢和充实政治安全', '经济金融', '人文交流三大合作支柱', '积极拓展更多新兴领域合作', '推动金砖合作取得更多成果', '开启金砖国家第二个', '金色十年', '五国应深化务实合作', '促进共同发展', '加强全球治理', '共同应对挑战', '开展人文交流', '夯实民意基础', '推进机制建设', '构建更广泛伙伴关系', '王毅强调', '金砖国家领导人第九次会晤将于', '月在厦门举行', '这是一次承前启后', '继往开来的重要会晤', '中方愿同其他四国一道', '积极开展相关筹备工作', '马沙巴内', '努内斯', '拉夫罗夫', '辛格表示', '金砖国家合作强劲有力', '取得重要成就', '五国应继续秉持金砖精神', '推动五国间合作深入发展', '在全球事务中发挥更重要作用', '承诺全力支持', '配合中方筹备好领导人第九次会晤', '确保会晤取得圆满成功', '就金砖合作下一步发展', '各方一致认为', '继续致力于维护国际公平正义', '促进世界和平稳定', '推动政治解决热点问题', '携手应对全球性挑战', '努力构建合作共赢的新型国际关系', '促进世界多极化和国际关系民主化', '为人类社会集体繁荣进步贡献更多', '金砖智慧', '金砖方案', '会晤后', '五国外长共同会见记者', '会晤发表了', '金砖国家外长会晤新闻公报'], tags=0)"
      ]
     },
     "execution_count": 18,
     "metadata": {},
     "output_type": "execute_result"
    }
   ],
   "source": [
    "gensim.models.doc2vec.TaggedDocument(gensim.utils.simple_preprocess(te), 0)"
   ]
  },
  {
   "cell_type": "code",
   "execution_count": 16,
   "metadata": {},
   "outputs": [
    {
     "data": {
      "text/plain": [
       "['新华社北京',\n",
       " '日电',\n",
       " '记者',\n",
       " '许可',\n",
       " '金砖国家外长会晤',\n",
       " '日在北京钓鱼台国宾馆举行',\n",
       " '外交部长王毅主持会晤',\n",
       " '南非国际关系与合作部长马沙巴内',\n",
       " '巴西外长努内斯',\n",
       " '俄罗斯外长拉夫罗夫',\n",
       " '印度外交国务部长辛格出席',\n",
       " '王毅表示',\n",
       " '金砖合作机制成立十年来',\n",
       " '在五国领导人有力指引下',\n",
       " '各方秉持开放',\n",
       " '包容',\n",
       " '合作',\n",
       " '共赢的金砖精神',\n",
       " '推动金砖合作从无到有',\n",
       " '由浅入深',\n",
       " '取得长足发展',\n",
       " '五国经济总量占全球比重上升',\n",
       " '贸易投资大幅提升',\n",
       " '合作领域全面拓展',\n",
       " '形成全范围',\n",
       " '宽领域',\n",
       " '多层次的合作架构',\n",
       " '在联合国',\n",
       " '二十国集团等国际组织中紧密协作',\n",
       " '维护广大发展中国家团结和利益',\n",
       " '共同应对全球性挑战',\n",
       " '王毅指出',\n",
       " '中国接任金砖国家轮值主席',\n",
       " '中方愿同其他四国一道',\n",
       " '继续筑牢和充实政治安全',\n",
       " '经济金融',\n",
       " '人文交流三大合作支柱',\n",
       " '积极拓展更多新兴领域合作',\n",
       " '推动金砖合作取得更多成果',\n",
       " '开启金砖国家第二个',\n",
       " '金色十年',\n",
       " '五国应深化务实合作',\n",
       " '促进共同发展',\n",
       " '加强全球治理',\n",
       " '共同应对挑战',\n",
       " '开展人文交流',\n",
       " '夯实民意基础',\n",
       " '推进机制建设',\n",
       " '构建更广泛伙伴关系',\n",
       " '王毅强调',\n",
       " '金砖国家领导人第九次会晤将于',\n",
       " '月在厦门举行',\n",
       " '这是一次承前启后',\n",
       " '继往开来的重要会晤',\n",
       " '中方愿同其他四国一道',\n",
       " '积极开展相关筹备工作',\n",
       " '马沙巴内',\n",
       " '努内斯',\n",
       " '拉夫罗夫',\n",
       " '辛格表示',\n",
       " '金砖国家合作强劲有力',\n",
       " '取得重要成就',\n",
       " '五国应继续秉持金砖精神',\n",
       " '推动五国间合作深入发展',\n",
       " '在全球事务中发挥更重要作用',\n",
       " '承诺全力支持',\n",
       " '配合中方筹备好领导人第九次会晤',\n",
       " '确保会晤取得圆满成功',\n",
       " '就金砖合作下一步发展',\n",
       " '各方一致认为',\n",
       " '继续致力于维护国际公平正义',\n",
       " '促进世界和平稳定',\n",
       " '推动政治解决热点问题',\n",
       " '携手应对全球性挑战',\n",
       " '努力构建合作共赢的新型国际关系',\n",
       " '促进世界多极化和国际关系民主化',\n",
       " '为人类社会集体繁荣进步贡献更多',\n",
       " '金砖智慧',\n",
       " '金砖方案',\n",
       " '会晤后',\n",
       " '五国外长共同会见记者',\n",
       " '会晤发表了',\n",
       " '金砖国家外长会晤新闻公报']"
      ]
     },
     "execution_count": 16,
     "metadata": {},
     "output_type": "execute_result"
    }
   ],
   "source": [
    "gensim.utils.simple_preprocess(te)"
   ]
  },
  {
   "cell_type": "code",
   "execution_count": null,
   "metadata": {},
   "outputs": [],
   "source": []
  }
 ],
 "metadata": {
  "kernelspec": {
   "display_name": "Python 3",
   "language": "python",
   "name": "python3"
  },
  "language_info": {
   "codemirror_mode": {
    "name": "ipython",
    "version": 3
   },
   "file_extension": ".py",
   "mimetype": "text/x-python",
   "name": "python",
   "nbconvert_exporter": "python",
   "pygments_lexer": "ipython3",
   "version": "3.6.2"
  }
 },
 "nbformat": 4,
 "nbformat_minor": 4
}
