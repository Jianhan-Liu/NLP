{
 "cells": [
  {
   "cell_type": "markdown",
   "metadata": {},
   "source": [
    "# Implement of SVM, naive bayes and random forest"
   ]
  },
  {
   "cell_type": "code",
   "execution_count": 17,
   "metadata": {},
   "outputs": [],
   "source": [
    "import os\n",
    "import re\n",
    "import scipy\n",
    "import numpy as np\n",
    "import pandas as pd\n",
    "import matplotlib.pyplot as plt\n",
    "from sklearn.svm import SVC\n",
    "from scipy.spatial.distance import cosine\n",
    "from sklearn.metrics import classification_report\n",
    "from sklearn.metrics import f1_score, precision_score, recall_score, roc_auc_score\n",
    "from sklearn.feature_extraction.text import TfidfVectorizer\n",
    "from sklearn.tree import DecisionTreeClassifier as DTC\n",
    "from sklearn.naive_bayes import GaussianNB as GNB\n",
    "from sklearn.ensemble import RandomForestClassifier as RFC\n",
    "from sklearn.model_selection import train_test_split, GridSearchCV\n",
    "\n",
    "%matplotlib inline"
   ]
  },
  {
   "cell_type": "code",
   "execution_count": 4,
   "metadata": {},
   "outputs": [],
   "source": [
    "df = pd.read_csv('cleaned_data.csv', index_col=0)\n",
    "df.dropna(inplace=True)\n",
    "df.reset_index(drop=True, inplace=True)"
   ]
  },
  {
   "cell_type": "code",
   "execution_count": 5,
   "metadata": {},
   "outputs": [
    {
     "data": {
      "text/html": [
       "<div>\n",
       "<style scoped>\n",
       "    .dataframe tbody tr th:only-of-type {\n",
       "        vertical-align: middle;\n",
       "    }\n",
       "\n",
       "    .dataframe tbody tr th {\n",
       "        vertical-align: top;\n",
       "    }\n",
       "\n",
       "    .dataframe thead th {\n",
       "        text-align: right;\n",
       "    }\n",
       "</style>\n",
       "<table border=\"1\" class=\"dataframe\">\n",
       "  <thead>\n",
       "    <tr style=\"text-align: right;\">\n",
       "      <th></th>\n",
       "      <th>content</th>\n",
       "      <th>label</th>\n",
       "      <th>content_cut</th>\n",
       "    </tr>\n",
       "  </thead>\n",
       "  <tbody>\n",
       "    <tr>\n",
       "      <th>86858</th>\n",
       "      <td>新华社照片，多伦多，2017年6月7日\\n（体育）（2）冰球——国家女子冰球队海外选秀在多伦...</td>\n",
       "      <td>1</td>\n",
       "      <td>新华社 照片 多伦多 2017年 6月 7日 体育 2 冰球 国家 女子 冰球队 海外 选秀...</td>\n",
       "    </tr>\n",
       "    <tr>\n",
       "      <th>86859</th>\n",
       "      <td>新华社兰州6月3日电（王衡、徐丹）记者从甘肃省交通运输厅获悉，甘肃近日集中开建高速公路、普通...</td>\n",
       "      <td>1</td>\n",
       "      <td>新华社 兰州 6月 3日 电 王衡 徐丹 记者 从 甘肃省 交通 运输厅 获悉 甘肃 近日 ...</td>\n",
       "    </tr>\n",
       "    <tr>\n",
       "      <th>86860</th>\n",
       "      <td>\\n\\n2017年5月29日，在法国巴黎郊外的凡尔赛宫，法国总统马克龙出席新闻发布会。（新华...</td>\n",
       "      <td>1</td>\n",
       "      <td>n2017 年 5月 29日 在 法国 巴黎 郊外 的 凡尔赛宫 法国 总统 马克龙 出席 ...</td>\n",
       "    </tr>\n",
       "    <tr>\n",
       "      <th>86861</th>\n",
       "      <td>\\n\\n2017年5月25日，在美国马萨诸塞州剑桥市，哈佛大学毕业生在毕业典礼上欢呼。（新华...</td>\n",
       "      <td>1</td>\n",
       "      <td>n2017 年 5月 25日 在 美国 马萨诸塞州 剑桥市 哈佛 大学 毕业生 在 毕业 典...</td>\n",
       "    </tr>\n",
       "    <tr>\n",
       "      <th>86862</th>\n",
       "      <td>新华社德国杜塞尔多夫６月６日电题：乒乓女球迷　\\n　　新华社记者王子江、张寒\\n　　熊老...</td>\n",
       "      <td>1</td>\n",
       "      <td>新华社 德国 杜塞尔多夫 ６月 ６日 电 题 乒乓 女 球迷 新华社 记者 王子江 张寒 熊...</td>\n",
       "    </tr>\n",
       "  </tbody>\n",
       "</table>\n",
       "</div>"
      ],
      "text/plain": [
       "                                                 content  label  \\\n",
       "86858  新华社照片，多伦多，2017年6月7日\\n（体育）（2）冰球——国家女子冰球队海外选秀在多伦...      1   \n",
       "86859  新华社兰州6月3日电（王衡、徐丹）记者从甘肃省交通运输厅获悉，甘肃近日集中开建高速公路、普通...      1   \n",
       "86860  \\n\\n2017年5月29日，在法国巴黎郊外的凡尔赛宫，法国总统马克龙出席新闻发布会。（新华...      1   \n",
       "86861  \\n\\n2017年5月25日，在美国马萨诸塞州剑桥市，哈佛大学毕业生在毕业典礼上欢呼。（新华...      1   \n",
       "86862  　　新华社德国杜塞尔多夫６月６日电题：乒乓女球迷　\\n　　新华社记者王子江、张寒\\n　　熊老...      1   \n",
       "\n",
       "                                             content_cut  \n",
       "86858  新华社 照片 多伦多 2017年 6月 7日 体育 2 冰球 国家 女子 冰球队 海外 选秀...  \n",
       "86859  新华社 兰州 6月 3日 电 王衡 徐丹 记者 从 甘肃省 交通 运输厅 获悉 甘肃 近日 ...  \n",
       "86860  n2017 年 5月 29日 在 法国 巴黎 郊外 的 凡尔赛宫 法国 总统 马克龙 出席 ...  \n",
       "86861  n2017 年 5月 25日 在 美国 马萨诸塞州 剑桥市 哈佛 大学 毕业生 在 毕业 典...  \n",
       "86862  新华社 德国 杜塞尔多夫 ６月 ６日 电 题 乒乓 女 球迷 新华社 记者 王子江 张寒 熊...  "
      ]
     },
     "execution_count": 5,
     "metadata": {},
     "output_type": "execute_result"
    }
   ],
   "source": [
    "df.tail()"
   ]
  },
  {
   "cell_type": "code",
   "execution_count": 6,
   "metadata": {},
   "outputs": [
    {
     "data": {
      "text/plain": [
       "1    78472\n",
       "0     8391\n",
       "Name: label, dtype: int64"
      ]
     },
     "execution_count": 6,
     "metadata": {},
     "output_type": "execute_result"
    }
   ],
   "source": [
    "df.label.value_counts()"
   ]
  },
  {
   "cell_type": "markdown",
   "metadata": {},
   "source": [
    "# Handle imbalanced datasets"
   ]
  },
  {
   "cell_type": "markdown",
   "metadata": {},
   "source": [
    "正负类数据比大概在10:1，因此需要考虑数据偏斜带来的影响，常见处理方法：\n",
    "\n",
    "1. 数据角度\n",
    "    1. 搜集更多偏少类数据使数据集平衡；\n",
    "    2. 过采样和欠采样；\n",
    "    3. SMOTE等合成新样本；\n",
    "    4. 增加样本较少类的权重\n",
    "2. 评价角度\n",
    "    1. 采用F1衡量对正负类的分类结果；\n",
    "    2. 谨慎选择AUC作为评价指标，观察更多的PR曲线\n",
    "3. 算法角度\n",
    "    1. 数据比较极端的情况，可转换成异常检测问题\n",
    "    2. 集成学习 -- 加法模型，adaboost，随机森林\n",
    "    3. 选择对数据偏斜不敏感的模型，如树模型\n",
    "\n"
   ]
  },
  {
   "cell_type": "markdown",
   "metadata": {},
   "source": [
    "## Vectorized"
   ]
  },
  {
   "cell_type": "code",
   "execution_count": 7,
   "metadata": {},
   "outputs": [],
   "source": [
    "vectorized = TfidfVectorizer(max_features=800)"
   ]
  },
  {
   "cell_type": "code",
   "execution_count": 8,
   "metadata": {},
   "outputs": [],
   "source": [
    "X = vectorized.fit_transform(df.content_cut)"
   ]
  },
  {
   "cell_type": "code",
   "execution_count": 9,
   "metadata": {},
   "outputs": [],
   "source": [
    "X = X.toarray()\n",
    "y = df.label.to_numpy()"
   ]
  },
  {
   "cell_type": "code",
   "execution_count": 10,
   "metadata": {},
   "outputs": [
    {
     "data": {
      "text/plain": [
       "((86863, 800), (86863,))"
      ]
     },
     "execution_count": 10,
     "metadata": {},
     "output_type": "execute_result"
    }
   ],
   "source": [
    "X.shape, y.shape"
   ]
  },
  {
   "cell_type": "markdown",
   "metadata": {},
   "source": [
    "* scipy库中consine的实现为：$$cosine(u, v) = 1 - \\frac{u \\cdot v}{||u||_2 ||v||_2}$$  取值范围[0, 2];因此这个函数的结果越小说明越相似。"
   ]
  },
  {
   "cell_type": "code",
   "execution_count": 11,
   "metadata": {},
   "outputs": [],
   "source": [
    "def corpus_split(X, y):\n",
    "    Xtrain,Xtest, ytrain, ytest = train_test_split(X, y, test_size=.2)\n",
    "    Xtrain, Xcv, ytrain, ycv = train_test_split(Xtrain, ytrain, test_size=.25)\n",
    "    \n",
    "    return Xtrain,ytrain, Xcv, ycv, Xtest , ytest"
   ]
  },
  {
   "cell_type": "code",
   "execution_count": 12,
   "metadata": {},
   "outputs": [],
   "source": [
    "Xtrain, ytrain, Xcv, ycv, Xtest, ytest = corpus_split(X, y)"
   ]
  },
  {
   "cell_type": "code",
   "execution_count": 13,
   "metadata": {},
   "outputs": [
    {
     "data": {
      "text/plain": [
       "((52117, 800), (52117,), (17373, 800), (17373,), (17373, 800), (17373,))"
      ]
     },
     "execution_count": 13,
     "metadata": {},
     "output_type": "execute_result"
    }
   ],
   "source": [
    "Xtrain.shape,ytrain.shape, Xcv.shape, ycv.shape, Xtest.shape , ytest.shape"
   ]
  },
  {
   "cell_type": "markdown",
   "metadata": {},
   "source": [
    "## SVM"
   ]
  },
  {
   "cell_type": "code",
   "execution_count": 66,
   "metadata": {},
   "outputs": [
    {
     "data": {
      "text/plain": [
       "0.9009382374949635"
      ]
     },
     "execution_count": 66,
     "metadata": {},
     "output_type": "execute_result"
    }
   ],
   "source": [
    "svc = SVC(gamma='auto')\n",
    "svc.fit(Xtrain, ytrain)\n",
    "svc.score(Xcv, ycv)"
   ]
  },
  {
   "cell_type": "code",
   "execution_count": 67,
   "metadata": {},
   "outputs": [
    {
     "name": "stdout",
     "output_type": "stream",
     "text": [
      "              precision    recall  f1-score   support\n",
      "\n",
      "           0       0.00      0.00      0.00      1586\n",
      "           1       0.91      1.00      0.95     15787\n",
      "\n",
      "    accuracy                           0.91     17373\n",
      "   macro avg       0.45      0.50      0.48     17373\n",
      "weighted avg       0.83      0.91      0.87     17373\n",
      "\n"
     ]
    },
    {
     "name": "stderr",
     "output_type": "stream",
     "text": [
      "C:\\Users\\Administrator\\Anaconda3\\envs\\nlp\\lib\\site-packages\\sklearn\\metrics\\classification.py:1437: UndefinedMetricWarning: Precision and F-score are ill-defined and being set to 0.0 in labels with no predicted samples.\n",
      "  'precision', 'predicted', average, warn_for)\n"
     ]
    }
   ],
   "source": [
    "ypred = svc.predict(Xtest)\n",
    "print(classification_report(ytest, ypred))"
   ]
  },
  {
   "cell_type": "markdown",
   "metadata": {},
   "source": [
    "slow and unacceptable."
   ]
  },
  {
   "cell_type": "markdown",
   "metadata": {},
   "source": [
    "### SVM without kernel"
   ]
  },
  {
   "cell_type": "code",
   "execution_count": 81,
   "metadata": {},
   "outputs": [
    {
     "data": {
      "text/plain": [
       "0.9812928106832441"
      ]
     },
     "execution_count": 81,
     "metadata": {},
     "output_type": "execute_result"
    }
   ],
   "source": [
    "svc = SVC(kernel='linear', gamma='auto')\n",
    "svc.fit(Xtrain, ytrain)\n",
    "svc.score(Xcv, ycv)"
   ]
  },
  {
   "cell_type": "code",
   "execution_count": 67,
   "metadata": {},
   "outputs": [
    {
     "name": "stdout",
     "output_type": "stream",
     "text": [
      "              precision    recall  f1-score   support\n",
      "\n",
      "           0       0.00      0.00      0.00      1586\n",
      "           1       0.91      1.00      0.95     15787\n",
      "\n",
      "    accuracy                           0.91     17373\n",
      "   macro avg       0.45      0.50      0.48     17373\n",
      "weighted avg       0.83      0.91      0.87     17373\n",
      "\n"
     ]
    },
    {
     "name": "stderr",
     "output_type": "stream",
     "text": [
      "C:\\Users\\Administrator\\Anaconda3\\envs\\nlp\\lib\\site-packages\\sklearn\\metrics\\classification.py:1437: UndefinedMetricWarning: Precision and F-score are ill-defined and being set to 0.0 in labels with no predicted samples.\n",
      "  'precision', 'predicted', average, warn_for)\n"
     ]
    }
   ],
   "source": [
    "ypred = svc.predict(Xtest)\n",
    "print(classification_report(ytest, ypred))"
   ]
  },
  {
   "cell_type": "markdown",
   "metadata": {},
   "source": [
    "didn't change much."
   ]
  },
  {
   "cell_type": "markdown",
   "metadata": {},
   "source": [
    "## Naive Bayes"
   ]
  },
  {
   "cell_type": "code",
   "execution_count": 14,
   "metadata": {},
   "outputs": [
    {
     "data": {
      "text/plain": [
       "0.8712945375007195"
      ]
     },
     "execution_count": 14,
     "metadata": {},
     "output_type": "execute_result"
    }
   ],
   "source": [
    "gnb = GNB()\n",
    "gnb.fit(Xtrain, ytrain)\n",
    "gnb.score(Xcv, ycv)"
   ]
  },
  {
   "cell_type": "code",
   "execution_count": 15,
   "metadata": {},
   "outputs": [
    {
     "name": "stdout",
     "output_type": "stream",
     "text": [
      "              precision    recall  f1-score   support\n",
      "\n",
      "           0       0.44      0.94      0.60      1684\n",
      "           1       0.99      0.87      0.93     15689\n",
      "\n",
      "    accuracy                           0.88     17373\n",
      "   macro avg       0.71      0.91      0.76     17373\n",
      "weighted avg       0.94      0.88      0.89     17373\n",
      "\n"
     ]
    }
   ],
   "source": [
    "ypred = gnb.predict(Xtest)\n",
    "print(classification_report(ytest, ypred))"
   ]
  },
  {
   "cell_type": "markdown",
   "metadata": {},
   "source": [
    "poor precision when true positive is 0 and not good enough recall when true positive is 1."
   ]
  },
  {
   "cell_type": "markdown",
   "metadata": {},
   "source": [
    "### some other metrics\n",
    "Default positive label is 1, so the following score only show you model's performance on 1."
   ]
  },
  {
   "cell_type": "code",
   "execution_count": 18,
   "metadata": {},
   "outputs": [
    {
     "name": "stdout",
     "output_type": "stream",
     "text": [
      "0.9269254299503773\n",
      "0.9929367217650914\n",
      "0.8691439862323921\n",
      "0.9057715180568136\n"
     ]
    }
   ],
   "source": [
    "print(f1_score(ytest, ypred))\n",
    "print(precision_score(ytest, ypred))\n",
    "print(recall_score(ytest, ypred))\n",
    "print(roc_auc_score(ytest, ypred))"
   ]
  },
  {
   "cell_type": "markdown",
   "metadata": {},
   "source": [
    "while positive label is 0."
   ]
  },
  {
   "cell_type": "code",
   "execution_count": 21,
   "metadata": {},
   "outputs": [
    {
     "name": "stdout",
     "output_type": "stream",
     "text": [
      "0.5961682945154019\n",
      "0.435989010989011\n",
      "0.9423990498812351\n"
     ]
    }
   ],
   "source": [
    "print(f1_score(ytest, ypred, pos_label=0))\n",
    "print(precision_score(ytest, ypred, pos_label=0))\n",
    "print(recall_score(ytest, ypred, pos_label=0))"
   ]
  },
  {
   "cell_type": "markdown",
   "metadata": {},
   "source": [
    "## Decision Tree"
   ]
  },
  {
   "cell_type": "code",
   "execution_count": 70,
   "metadata": {},
   "outputs": [],
   "source": [
    "dtc = DTC()\n",
    "dtc.fit(Xtrain, ytrain)"
   ]
  },
  {
   "cell_type": "code",
   "execution_count": 72,
   "metadata": {},
   "outputs": [
    {
     "data": {
      "text/plain": [
       "0.9898117768951822"
      ]
     },
     "execution_count": 72,
     "metadata": {},
     "output_type": "execute_result"
    }
   ],
   "source": [
    "dtc.score(Xcv, ycv)"
   ]
  },
  {
   "cell_type": "code",
   "execution_count": 71,
   "metadata": {},
   "outputs": [
    {
     "name": "stdout",
     "output_type": "stream",
     "text": [
      "              precision    recall  f1-score   support\n",
      "\n",
      "           0       0.94      0.94      0.94      1586\n",
      "           1       0.99      0.99      0.99     15787\n",
      "\n",
      "    accuracy                           0.99     17373\n",
      "   macro avg       0.97      0.97      0.97     17373\n",
      "weighted avg       0.99      0.99      0.99     17373\n",
      "\n"
     ]
    }
   ],
   "source": [
    "ypred = dtc.predict(Xtest)\n",
    "print(classification_report(ytest, ypred))"
   ]
  },
  {
   "cell_type": "markdown",
   "metadata": {},
   "source": [
    "not bad."
   ]
  },
  {
   "cell_type": "markdown",
   "metadata": {},
   "source": [
    "## Random Forest"
   ]
  },
  {
   "cell_type": "code",
   "execution_count": 79,
   "metadata": {},
   "outputs": [
    {
     "data": {
      "text/plain": [
       "0.9924595636907846"
      ]
     },
     "execution_count": 79,
     "metadata": {},
     "output_type": "execute_result"
    }
   ],
   "source": [
    "rfc = RFC(n_estimators=100)\n",
    "rfc.fit(Xtrain, ytrain)\n",
    "rfc.score(Xcv, ycv)"
   ]
  },
  {
   "cell_type": "code",
   "execution_count": 80,
   "metadata": {},
   "outputs": [
    {
     "name": "stdout",
     "output_type": "stream",
     "text": [
      "              precision    recall  f1-score   support\n",
      "\n",
      "           0       0.97      0.96      0.96      1586\n",
      "           1       1.00      1.00      1.00     15787\n",
      "\n",
      "    accuracy                           0.99     17373\n",
      "   macro avg       0.98      0.98      0.98     17373\n",
      "weighted avg       0.99      0.99      0.99     17373\n",
      "\n"
     ]
    }
   ],
   "source": [
    "ypred = rfc.predict(Xtest)\n",
    "print(classification_report(ytest, ypred))"
   ]
  },
  {
   "cell_type": "markdown",
   "metadata": {},
   "source": [
    "We have a winner!"
   ]
  },
  {
   "cell_type": "markdown",
   "metadata": {},
   "source": [
    "## Advantages and disadvantages of classic machine learning methods\n",
    "- Linear Regression\n",
    "    - 优点\n",
    "        - 简单，直观\n",
    "    - 缺点\n",
    "        - 无法拟合非线性数据以及稍复杂模式\n",
    "- Logistic Regression\n",
    "    - 优点\n",
    "        - 直观，结果有很好的概率解释，可通过正则化避免过拟合\n",
    "    - 缺点\n",
    "        - 多分类以及非线性决策边界的表现一般\n",
    "- KNN\n",
    "    - 优点\n",
    "        - 训练集，距离度量方法和K值以及决策规则确定后，结果唯一\n",
    "    - 缺点\n",
    "        - 需要考虑如何搜索最近K个近邻点，一般的范式距离过于消耗储存空间和计算时间\n",
    "- Naive Bayes\n",
    "    - 优点\n",
    "        - 简单\n",
    "    - 缺点\n",
    "        - 核心假设：各特征值之间条件独立在现实中难以成立\n",
    "- SVM\n",
    "    - 应用场景\n",
    "        - 特征量大而训练集中等时，采用Logistics或者线性SVM\n",
    "        - 特征量小而训练集大时，采用GaussianKernel SVM\n",
    "    - 优点\n",
    "        - 根据数据情况可选择是否采用内核函数进行模型训练，对于非线性决策边界的数据表现较好\n",
    "        - 可选内核函数，可有效避免过拟合\n",
    "        - 高维空间的模型训练表现比其他模型更好\n",
    "    - 缺点\n",
    "        - 可选内核函数较多，导致参数调整过于复杂\n",
    "        - 计算消耗大\n",
    "\n",
    "- Decision Tree\n",
    "    - 优点\n",
    "        - 计算量简单，可解释性强，适合处理缺失属性值的样本，可拟合非线性训练集，对奇异数据不敏感\n",
    "    - 缺点\n",
    "        - 易过拟合\n",
    "\n",
    "- Random Forest\n",
    "    - 优点\n",
    "        - 在当前的很多数据集上，相对其他算法有着很大的优势，表现良好\n",
    "        - 它能够处理很高维度的数据，并且不用做特征选择，因为特征子集是随机选择的\n",
    "        - 在训练完后，它能够得出特征重要性\n",
    "        - 在创建随机森林的时候，对generlization error使用的是无偏估计，模型泛化能力强\n",
    "        - 随机森林有oob，不需要单独换分交叉验证集\n",
    "        - 训练时树与树之间是相互独立的，训练速度快，容易做成并行化方法\n",
    "        - 对缺失值不敏感，如果有很大一部分的特征遗失，仍可以维持准确度。\n",
    "    - 缺点\n",
    "        - 随机森林在某些噪音较大的分类或回归问题上会过拟合\n",
    "        - 对于有不同取值的属性的数据，取值划分较多的属性会对随机森林产生更大的影响\n",
    "- K-Means\n",
    "    - 优点\n",
    "        - 计算时间复杂度为O(NKt)接近于线性，相对高效，其中N为训练集数量，K为聚类中心数，t为迭代次数，\n",
    "    - 缺点\n",
    "        - 易受噪点影响， 通常需要预处理排除奇异值导致簇中心偏移的干扰\n",
    "        - 需要合理选择k值\n",
    "        - 受初始化的K个簇中心位置的影响较大，结果可能因每次初始化的中心点不同而不同，难以得到最优解\n",
    "        - 对数据偏斜较大（如不同类数量差在百倍以上）的数据支持不是很好\n"
   ]
  },
  {
   "cell_type": "code",
   "execution_count": null,
   "metadata": {},
   "outputs": [],
   "source": []
  }
 ],
 "metadata": {
  "kernelspec": {
   "display_name": "Python 3",
   "language": "python",
   "name": "python3"
  },
  "language_info": {
   "codemirror_mode": {
    "name": "ipython",
    "version": 3
   },
   "file_extension": ".py",
   "mimetype": "text/x-python",
   "name": "python",
   "nbconvert_exporter": "python",
   "pygments_lexer": "ipython3",
   "version": "3.7.3"
  },
  "toc-autonumbering": true,
  "toc-showmarkdowntxt": false
 },
 "nbformat": 4,
 "nbformat_minor": 4
}
