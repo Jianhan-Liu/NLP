{
 "cells": [
  {
   "cell_type": "markdown",
   "metadata": {},
   "source": [
    "### What NLP concerns\n",
    "* words\n",
    "* entity\n",
    "+ syntax - 语法\n",
    "* semantic - 语义\n",
    "* dialogue - 基于业务的对话场景\n",
    "+ reading comprehension\n",
    "+ generation\n",
    "+ representation + policy"
   ]
  },
  {
   "cell_type": "markdown",
   "metadata": {},
   "source": [
    "### Do not represent words as numbers\n",
    "* one hot\n",
    "    * Can't distinguish 'similar' or 'not similar' words.\n",
    "    * Space consuming.\n",
    "    * Need recalculte when adding new words.\n",
    "* PCA -- 主要成分分析\n",
    "* SVD -- 奇异值分解\n",
    "    * Need recalculate all the words when adding new words.\n",
    "    * Computing consuming.\n",
    "    * Hard to implement.\n",
    "    * Cannot solving polysemy."
   ]
  },
  {
   "cell_type": "markdown",
   "metadata": {},
   "source": [
    "### What features do our vectors need\n",
    "* space economical - 节省空间\n",
    "* adaptively update - 适应性扩展\n",
    "* semantic similarity - 适当解决一词多义"
   ]
  },
  {
   "cell_type": "markdown",
   "metadata": {},
   "source": [
    "### Embedding\n",
    "* graph embedding, node embedding, etc\n",
    "* importance of representation."
   ]
  },
  {
   "cell_type": "markdown",
   "metadata": {},
   "source": [
    "### softmax: 从向量到概率分布"
   ]
  },
  {
   "cell_type": "code",
   "execution_count": 12,
   "metadata": {},
   "outputs": [],
   "source": [
    "import numpy as np"
   ]
  },
  {
   "cell_type": "code",
   "execution_count": 30,
   "metadata": {},
   "outputs": [],
   "source": [
    "vector = np.array([1,2,3,4,-1,-4,0])"
   ]
  },
  {
   "cell_type": "code",
   "execution_count": 31,
   "metadata": {},
   "outputs": [
    {
     "data": {
      "text/plain": [
       "86.17721996378178"
      ]
     },
     "execution_count": 31,
     "metadata": {},
     "output_type": "execute_result"
    }
   ],
   "source": [
    "np.sum(np.exp(vector))"
   ]
  },
  {
   "cell_type": "code",
   "execution_count": 32,
   "metadata": {},
   "outputs": [],
   "source": [
    "def softmax(vector):\n",
    "    # 防止数据溢出\n",
    "    vector -= np.max(vector)\n",
    "    exp = np.exp(vector)\n",
    "    exp_sum = np.sum(exp)\n",
    "    return exp / exp_sum"
   ]
  },
  {
   "cell_type": "code",
   "execution_count": 33,
   "metadata": {},
   "outputs": [
    {
     "data": {
      "text/plain": [
       "array([3.15429278e-02, 8.57425675e-02, 2.33072463e-01, 6.33556641e-01,\n",
       "       4.26887107e-03, 2.12534576e-04, 1.16039947e-02])"
      ]
     },
     "execution_count": 33,
     "metadata": {},
     "output_type": "execute_result"
    }
   ],
   "source": [
    "softmax(vector)"
   ]
  },
  {
   "cell_type": "code",
   "execution_count": 34,
   "metadata": {},
   "outputs": [
    {
     "data": {
      "text/plain": [
       "1.0000000000000002"
      ]
     },
     "execution_count": 34,
     "metadata": {},
     "output_type": "execute_result"
    }
   ],
   "source": [
    "np.sum(softmax(vector))"
   ]
  },
  {
   "cell_type": "markdown",
   "metadata": {},
   "source": [
    "### word2vec\n",
    "* skip-gram -- 周围调整中间：周围有什么词时会出现目标词\n",
    "* CBOW/连续词袋模型/continuous bag of words -- 中间调整周围：目标词周围会出现什么词"
   ]
  },
  {
   "cell_type": "code",
   "execution_count": 35,
   "metadata": {},
   "outputs": [],
   "source": [
    "import gensim"
   ]
  },
  {
   "cell_type": "code",
   "execution_count": null,
   "metadata": {},
   "outputs": [],
   "source": []
  }
 ],
 "metadata": {
  "kernelspec": {
   "display_name": "Python 3",
   "language": "python",
   "name": "python3"
  },
  "language_info": {
   "codemirror_mode": {
    "name": "ipython",
    "version": 3
   },
   "file_extension": ".py",
   "mimetype": "text/x-python",
   "name": "python",
   "nbconvert_exporter": "python",
   "pygments_lexer": "ipython3",
   "version": "3.7.3"
  }
 },
 "nbformat": 4,
 "nbformat_minor": 2
}
