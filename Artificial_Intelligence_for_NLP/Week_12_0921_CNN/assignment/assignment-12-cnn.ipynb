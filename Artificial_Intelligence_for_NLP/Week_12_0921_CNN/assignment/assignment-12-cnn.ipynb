{
 "cells": [
  {
   "cell_type": "markdown",
   "metadata": {
    "colab_type": "text",
    "id": "4embtkV0pNxM"
   },
   "source": [
    "Deep Learning\n",
    "=============\n",
    "\n",
    "Assignment 4\n",
    "------------\n",
    "\n",
    "Previously in `2_fullyconnected.ipynb` and `3_regularization.ipynb`, we trained fully connected networks to classify [notMNIST](http://yaroslavvb.blogspot.com/2011/09/notmnist-dataset.html) characters.\n",
    "\n",
    "The goal of this assignment is make the neural network convolutional."
   ]
  },
  {
   "cell_type": "code",
   "execution_count": 74,
   "metadata": {
    "cellView": "both",
    "colab": {
     "autoexec": {
      "startup": false,
      "wait_interval": 0
     }
    },
    "colab_type": "code",
    "id": "tm2CQN_Cpwj0"
   },
   "outputs": [],
   "source": [
    "# These are all the modules we'll be using later. Make sure you can import them\n",
    "# before proceeding further.\n",
    "from __future__ import print_function\n",
    "import warnings\n",
    "warnings.filterwarnings('ignore')\n",
    "import numpy as np\n",
    "import tensorflow as tf\n",
    "from tensorflow import keras\n",
    "from six.moves import cPickle as pickle\n",
    "from six.moves import range\n",
    "import pandas as pd\n",
    "import matplotlib.pyplot as plt\n",
    "import seaborn as sns\n",
    "sns.set()\n",
    "%matplotlib inline\n",
    "import os"
   ]
  },
  {
   "cell_type": "code",
   "execution_count": 4,
   "metadata": {
    "cellView": "both",
    "colab": {
     "autoexec": {
      "startup": false,
      "wait_interval": 0
     },
     "output_extras": [
      {
       "item_id": 1
      }
     ]
    },
    "colab_type": "code",
    "executionInfo": {
     "elapsed": 11948,
     "status": "ok",
     "timestamp": 1446658914837,
     "user": {
      "color": "",
      "displayName": "",
      "isAnonymous": false,
      "isMe": true,
      "permissionId": "",
      "photoUrl": "",
      "sessionId": "0",
      "userId": ""
     },
     "user_tz": 480
    },
    "id": "y3-cj1bpmuxc",
    "outputId": "016b1a51-0290-4b08-efdb-8c95ffc3cd01"
   },
   "outputs": [
    {
     "name": "stdout",
     "output_type": "stream",
     "text": [
      "Training set (200000, 28, 28) (200000,)\n",
      "Validation set (10000, 28, 28) (10000,)\n",
      "Test set (10000, 28, 28) (10000,)\n"
     ]
    }
   ],
   "source": [
    "pickle_file = r\"D:\\Github\\NLP\\Artificial_Intelligence_for_NLP\\Week_09_0831_kmeans_NN\\assignments\\notMNIST.pickle\"\n",
    "\n",
    "with open(pickle_file, 'rb') as f:\n",
    "    save = pickle.load(f)\n",
    "    train_dataset = save['train_dataset']\n",
    "    train_labels = save['train_labels']\n",
    "    valid_dataset = save['valid_dataset']\n",
    "    valid_labels = save['valid_labels']\n",
    "    test_dataset = save['test_dataset']\n",
    "    test_labels = save['test_labels']\n",
    "    del save  # hint to help gc free up memory\n",
    "    print('Training set', train_dataset.shape, train_labels.shape)\n",
    "    print('Validation set', valid_dataset.shape, valid_labels.shape)\n",
    "    print('Test set', test_dataset.shape, test_labels.shape)"
   ]
  },
  {
   "cell_type": "markdown",
   "metadata": {
    "colab_type": "text",
    "id": "L7aHrm6nGDMB"
   },
   "source": [
    "Reformat into a TensorFlow-friendly shape:\n",
    "- convolutions need the image data formatted as a cube (width by height by #channels)\n",
    "- labels as float 1-hot encodings."
   ]
  },
  {
   "cell_type": "code",
   "execution_count": 5,
   "metadata": {
    "cellView": "both",
    "colab": {
     "autoexec": {
      "startup": false,
      "wait_interval": 0
     },
     "output_extras": [
      {
       "item_id": 1
      }
     ]
    },
    "colab_type": "code",
    "executionInfo": {
     "elapsed": 11952,
     "status": "ok",
     "timestamp": 1446658914857,
     "user": {
      "color": "",
      "displayName": "",
      "isAnonymous": false,
      "isMe": true,
      "permissionId": "",
      "photoUrl": "",
      "sessionId": "0",
      "userId": ""
     },
     "user_tz": 480
    },
    "id": "IRSyYiIIGIzS",
    "outputId": "650a208c-8359-4852-f4f5-8bf10e80ef6c"
   },
   "outputs": [
    {
     "name": "stdout",
     "output_type": "stream",
     "text": [
      "Training set (200000, 28, 28, 1) (200000, 10)\n",
      "Validation set (10000, 28, 28, 1) (10000, 10)\n",
      "Test set (10000, 28, 28, 1) (10000, 10)\n"
     ]
    }
   ],
   "source": [
    "image_size = 28\n",
    "num_labels = 10\n",
    "num_channels = 1 # grayscale\n",
    "\n",
    "import numpy as np\n",
    "\n",
    "def reformat(dataset, labels):\n",
    "    dataset = dataset.reshape(\n",
    "    (-1, image_size, image_size, num_channels)).astype(np.float32)\n",
    "    labels = (np.arange(num_labels) == labels[:,None]).astype(np.float32)\n",
    "    return dataset, labels\n",
    "train_dataset, train_labels = reformat(train_dataset, train_labels)\n",
    "valid_dataset, valid_labels = reformat(valid_dataset, valid_labels)\n",
    "test_dataset, test_labels = reformat(test_dataset, test_labels)\n",
    "print('Training set', train_dataset.shape, train_labels.shape)\n",
    "print('Validation set', valid_dataset.shape, valid_labels.shape)\n",
    "print('Test set', test_dataset.shape, test_labels.shape)"
   ]
  },
  {
   "cell_type": "code",
   "execution_count": 6,
   "metadata": {
    "cellView": "both",
    "colab": {
     "autoexec": {
      "startup": false,
      "wait_interval": 0
     }
    },
    "colab_type": "code",
    "id": "AgQDIREv02p1"
   },
   "outputs": [],
   "source": [
    "def accuracy(predictions, labels):\n",
    "    return (100.0 * np.sum(np.argmax(predictions, 1) == np.argmax(labels, 1))\n",
    "          / predictions.shape[0])"
   ]
  },
  {
   "cell_type": "markdown",
   "metadata": {
    "colab_type": "text",
    "id": "5rhgjmROXu2O"
   },
   "source": [
    "Let's build a small network with two convolutional layers, followed by one fully connected layer. Convolutional networks are more expensive computationally, so we'll limit its depth and number of fully connected nodes."
   ]
  },
  {
   "cell_type": "code",
   "execution_count": 12,
   "metadata": {
    "cellView": "both",
    "colab": {
     "autoexec": {
      "startup": false,
      "wait_interval": 0
     }
    },
    "colab_type": "code",
    "id": "IZYv70SvvOan"
   },
   "outputs": [],
   "source": [
    "batch_size = 16\n",
    "patch_size = 5\n",
    "# filter numbers\n",
    "depth = 16\n",
    "# full connection layers neuron number\n",
    "num_hidden = 64\n",
    "\n",
    "graph = tf.Graph()\n",
    "\n",
    "with graph.as_default():\n",
    "\n",
    "    # Input data.\n",
    "    tf_train_dataset = tf.placeholder(tf.float32, shape=(batch_size, image_size, image_size, num_channels))\n",
    "    tf_train_labels = tf.placeholder(tf.float32, shape=(batch_size, num_labels))\n",
    "    tf_valid_dataset = tf.constant(valid_dataset)\n",
    "    tf_test_dataset = tf.constant(test_dataset)\n",
    "\n",
    "    # Variables.\n",
    "    layer1_weights = tf.Variable(tf.truncated_normal([patch_size, patch_size, num_channels, depth], stddev=0.1))\n",
    "    layer1_biases = tf.Variable(tf.zeros([depth]))\n",
    "    \n",
    "    layer2_weights = tf.Variable(tf.truncated_normal([patch_size, patch_size, depth, depth], stddev=0.1))\n",
    "    layer2_biases = tf.Variable(tf.constant(1.0, shape=[depth]))\n",
    "    \n",
    "    layer3_weights = tf.Variable(tf.truncated_normal([image_size // 4 * image_size // 4 * depth, num_hidden], stddev=0.1))\n",
    "    layer3_biases = tf.Variable(tf.constant(1.0, shape=[num_hidden]))\n",
    "    \n",
    "    layer4_weights = tf.Variable(tf.truncated_normal([num_hidden, num_labels], stddev=0.1))\n",
    "    layer4_biases = tf.Variable(tf.constant(1.0, shape=[num_labels]))\n",
    "\n",
    "    # Model.\n",
    "    def model(data):\n",
    "        conv = tf.nn.conv2d(data, layer1_weights, [1, 2, 2, 1], padding='SAME')\n",
    "        hidden = tf.nn.relu(conv + layer1_biases)\n",
    "        conv = tf.nn.conv2d(hidden, layer2_weights, [1, 2, 2, 1], padding='SAME')\n",
    "        hidden = tf.nn.relu(conv + layer2_biases)\n",
    "        shape = hidden.get_shape().as_list()\n",
    "        reshape = tf.reshape(hidden, [shape[0], shape[1] * shape[2] * shape[3]])\n",
    "        hidden = tf.nn.relu(tf.matmul(reshape, layer3_weights) + layer3_biases)\n",
    "        return tf.matmul(hidden, layer4_weights) + layer4_biases\n",
    "\n",
    "    # Training computation.\n",
    "    logits = model(tf_train_dataset)\n",
    "    loss = tf.reduce_mean(tf.nn.softmax_cross_entropy_with_logits(labels=tf_train_labels, logits=logits))\n",
    "\n",
    "    # Optimizer.\n",
    "    optimizer = tf.train.GradientDescentOptimizer(0.05).minimize(loss)\n",
    "\n",
    "    # Predictions for the training, validation, and test data.\n",
    "    train_prediction = tf.nn.softmax(logits)\n",
    "    valid_prediction = tf.nn.softmax(model(tf_valid_dataset))\n",
    "    test_prediction = tf.nn.softmax(model(tf_test_dataset))"
   ]
  },
  {
   "cell_type": "code",
   "execution_count": 15,
   "metadata": {
    "cellView": "both",
    "colab": {
     "autoexec": {
      "startup": false,
      "wait_interval": 0
     },
     "output_extras": [
      {
       "item_id": 37
      }
     ]
    },
    "colab_type": "code",
    "collapsed": true,
    "executionInfo": {
     "elapsed": 63292,
     "status": "ok",
     "timestamp": 1446658966251,
     "user": {
      "color": "",
      "displayName": "",
      "isAnonymous": false,
      "isMe": true,
      "permissionId": "",
      "photoUrl": "",
      "sessionId": "0",
      "userId": ""
     },
     "user_tz": 480
    },
    "id": "noKFb2UovVFR",
    "jupyter": {
     "outputs_hidden": true
    },
    "outputId": "28941338-2ef9-4088-8bd1-44295661e628",
    "scrolled": true
   },
   "outputs": [
    {
     "name": "stdout",
     "output_type": "stream",
     "text": [
      "Initialized\n",
      "Minibatch loss at step 0: 3.151056\n",
      "Minibatch accuracy: 18.8%\n",
      "Validation accuracy: 8.7%\n",
      "Test accuracy: 8.5%\n",
      "Minibatch loss at step 50: 2.040035\n",
      "Minibatch accuracy: 18.8%\n",
      "Validation accuracy: 48.3%\n",
      "Test accuracy: 53.3%\n",
      "Minibatch loss at step 100: 1.271775\n",
      "Minibatch accuracy: 68.8%\n",
      "Validation accuracy: 70.9%\n",
      "Test accuracy: 78.0%\n",
      "Minibatch loss at step 150: 1.246942\n",
      "Minibatch accuracy: 62.5%\n",
      "Validation accuracy: 74.5%\n",
      "Test accuracy: 81.8%\n",
      "Minibatch loss at step 200: 0.548821\n",
      "Minibatch accuracy: 81.2%\n",
      "Validation accuracy: 77.7%\n",
      "Test accuracy: 84.8%\n",
      "Minibatch loss at step 250: 0.885539\n",
      "Minibatch accuracy: 75.0%\n",
      "Validation accuracy: 77.7%\n",
      "Test accuracy: 85.0%\n",
      "Minibatch loss at step 300: 1.440071\n",
      "Minibatch accuracy: 56.2%\n",
      "Validation accuracy: 78.6%\n",
      "Test accuracy: 86.2%\n",
      "Minibatch loss at step 350: 0.947232\n",
      "Minibatch accuracy: 62.5%\n",
      "Validation accuracy: 78.9%\n",
      "Test accuracy: 86.1%\n",
      "Minibatch loss at step 400: 0.848926\n",
      "Minibatch accuracy: 75.0%\n",
      "Validation accuracy: 79.5%\n",
      "Test accuracy: 87.0%\n",
      "Minibatch loss at step 450: 0.351126\n",
      "Minibatch accuracy: 93.8%\n",
      "Validation accuracy: 80.3%\n",
      "Test accuracy: 87.2%\n",
      "Minibatch loss at step 500: 0.530491\n",
      "Minibatch accuracy: 81.2%\n",
      "Validation accuracy: 79.7%\n",
      "Test accuracy: 86.9%\n",
      "Minibatch loss at step 550: 0.745018\n",
      "Minibatch accuracy: 75.0%\n",
      "Validation accuracy: 79.2%\n",
      "Test accuracy: 86.2%\n",
      "Minibatch loss at step 600: 0.924703\n",
      "Minibatch accuracy: 75.0%\n",
      "Validation accuracy: 81.1%\n",
      "Test accuracy: 88.5%\n",
      "Minibatch loss at step 650: 0.515112\n",
      "Minibatch accuracy: 81.2%\n",
      "Validation accuracy: 81.6%\n",
      "Test accuracy: 88.6%\n",
      "Minibatch loss at step 700: 0.807125\n",
      "Minibatch accuracy: 68.8%\n",
      "Validation accuracy: 81.6%\n",
      "Test accuracy: 88.5%\n",
      "Minibatch loss at step 750: 0.168780\n",
      "Minibatch accuracy: 93.8%\n",
      "Validation accuracy: 81.7%\n",
      "Test accuracy: 88.5%\n",
      "Minibatch loss at step 800: 1.036486\n",
      "Minibatch accuracy: 68.8%\n",
      "Validation accuracy: 81.3%\n",
      "Test accuracy: 88.5%\n",
      "Minibatch loss at step 850: 0.370531\n",
      "Minibatch accuracy: 93.8%\n",
      "Validation accuracy: 82.0%\n",
      "Test accuracy: 88.7%\n",
      "Minibatch loss at step 900: 0.140178\n",
      "Minibatch accuracy: 100.0%\n",
      "Validation accuracy: 82.5%\n",
      "Test accuracy: 89.2%\n",
      "Minibatch loss at step 950: 0.962624\n",
      "Minibatch accuracy: 75.0%\n",
      "Validation accuracy: 82.5%\n",
      "Test accuracy: 89.1%\n",
      "Minibatch loss at step 1000: 0.783010\n",
      "Minibatch accuracy: 87.5%\n",
      "Validation accuracy: 82.3%\n",
      "Test accuracy: 88.9%\n"
     ]
    }
   ],
   "source": [
    "num_steps = 1001\n",
    "\n",
    "with tf.Session(graph=graph) as session:\n",
    "    tf.global_variables_initializer().run()\n",
    "    print('Initialized')\n",
    "    for step in range(num_steps):\n",
    "        offset = (step * batch_size) % (train_labels.shape[0] - batch_size)\n",
    "        batch_data = train_dataset[offset:(offset + batch_size), :, :, :]\n",
    "        batch_labels = train_labels[offset:(offset + batch_size), :]\n",
    "        feed_dict = {tf_train_dataset : batch_data, tf_train_labels : batch_labels}\n",
    "        _, l, predictions = session.run(\n",
    "          [optimizer, loss, train_prediction], feed_dict=feed_dict)\n",
    "        if (step % 50 == 0):\n",
    "            print('Minibatch loss at step %d: %f' % (step, l))\n",
    "            print('Minibatch accuracy: %.1f%%' % accuracy(predictions, batch_labels))\n",
    "            print('Validation accuracy: %.1f%%' % accuracy(\n",
    "            valid_prediction.eval(), valid_labels))\n",
    "            print('Test accuracy: %.1f%%' % accuracy(test_prediction.eval(), test_labels))"
   ]
  },
  {
   "cell_type": "markdown",
   "metadata": {},
   "source": [
    "use keras API"
   ]
  },
  {
   "cell_type": "code",
   "execution_count": 30,
   "metadata": {},
   "outputs": [
    {
     "data": {
      "text/plain": [
       "(200000, 28, 28, 1)"
      ]
     },
     "execution_count": 30,
     "metadata": {},
     "output_type": "execute_result"
    }
   ],
   "source": [
    "train_dataset.shape"
   ]
  },
  {
   "cell_type": "code",
   "execution_count": 31,
   "metadata": {},
   "outputs": [],
   "source": [
    "def train():\n",
    "    tf.reset_default_graph()\n",
    "    model = keras.models.Sequential([\n",
    "        keras.layers.Conv2D(depth, (patch_size, patch_size), strides=(2, 2), padding='same',\n",
    "                           activation='relu', kernel_initializer=keras.initializers.TruncatedNormal(stddev=.1), \n",
    "                            input_shape=(28,28,1)),\n",
    "        keras.layers.Conv2D(depth, (patch_size, patch_size), (2,2), 'same', activation='relu',\n",
    "                           kernel_initializer=keras.initializers.TruncatedNormal(stddev=.1),\n",
    "                           bias_initializer='ones'),\n",
    "        keras.layers.Flatten(),\n",
    "        keras.layers.Dense(num_hidden, activation='relu',kernel_initializer=keras.initializers.TruncatedNormal(stddev=.1),\n",
    "                          bias_initializer='ones'),\n",
    "        keras.layers.Dense(num_labels, activation='softmax', kernel_initializer=keras.initializers.TruncatedNormal(stddev=.1),\n",
    "                          bias_initializer='ones')\n",
    "    ])\n",
    "    model.compile(optimizer=keras.optimizers.SGD(.05),loss='categorical_crossentropy',metrics=['accuracy'])\n",
    "    model.fit(train_dataset, train_labels, validation_data=(valid_dataset, valid_labels), epochs=1, \n",
    "              batch_size=batch_size)\n",
    "    print(\"Model's performance on test dataset:\")\n",
    "    print(f\"Test accuracy: {model.evaluate(test_dataset, test_labels)[1] * 100:.3f}%\")\n",
    "#     model.save('final_model.h5')\n",
    "    return model"
   ]
  },
  {
   "cell_type": "code",
   "execution_count": 32,
   "metadata": {},
   "outputs": [
    {
     "name": "stdout",
     "output_type": "stream",
     "text": [
      "Train on 200000 samples, validate on 10000 samples\n",
      "200000/200000 [==============================] - 58s 288us/sample - loss: 0.4458 - acc: 0.8651 - val_loss: 0.3458 - val_acc: 0.8935\n",
      "Model's performance on test dataset:\n",
      "10000/10000 [==============================] - 1s 70us/sample - loss: 0.1696 - acc: 0.9497\n",
      "Test accuracy: 94.970%\n"
     ]
    },
    {
     "data": {
      "text/plain": [
       "<tensorflow.python.keras.engine.sequential.Sequential at 0x271a8a8a4a8>"
      ]
     },
     "execution_count": 32,
     "metadata": {},
     "output_type": "execute_result"
    }
   ],
   "source": [
    "model = train()"
   ]
  },
  {
   "cell_type": "markdown",
   "metadata": {
    "colab_type": "text",
    "id": "KedKkn4EutIK"
   },
   "source": [
    "---\n",
    "Problem 1\n",
    "---------\n",
    "\n",
    "The convolutional model above uses convolutions with stride 2 to reduce the dimensionality. Replace the strides by a max pooling operation (`nn.max_pool()`) of stride 2 and kernel size 2.\n",
    "\n",
    "---"
   ]
  },
  {
   "cell_type": "code",
   "execution_count": 44,
   "metadata": {},
   "outputs": [
    {
     "data": {
      "text/plain": [
       "(16, 5)"
      ]
     },
     "execution_count": 44,
     "metadata": {},
     "output_type": "execute_result"
    }
   ],
   "source": [
    "depth,patch_size"
   ]
  },
  {
   "cell_type": "code",
   "execution_count": 37,
   "metadata": {},
   "outputs": [],
   "source": [
    "def train():\n",
    "    tf.reset_default_graph()\n",
    "    model = keras.models.Sequential([\n",
    "        keras.layers.Conv2D(depth, (patch_size, patch_size), padding='same',\n",
    "                           activation='relu', kernel_initializer=keras.initializers.TruncatedNormal(stddev=.1), \n",
    "                            input_shape=(28,28,1)),\n",
    "        keras.layers.MaxPooling2D(strides=2),\n",
    "        keras.layers.Conv2D(depth, (patch_size, patch_size), padding='same', activation='relu',\n",
    "                           kernel_initializer=keras.initializers.TruncatedNormal(stddev=.1),\n",
    "                           bias_initializer='ones'),\n",
    "        keras.layers.MaxPooling2D(strides=2),\n",
    "        keras.layers.Flatten(),\n",
    "        keras.layers.Dense(num_hidden, activation='relu',kernel_initializer=keras.initializers.TruncatedNormal(stddev=.1),\n",
    "                          bias_initializer='ones'),\n",
    "        keras.layers.Dense(num_labels, activation='softmax', kernel_initializer=keras.initializers.TruncatedNormal(stddev=.1),\n",
    "                          bias_initializer='ones')\n",
    "    ])\n",
    "    model.compile(optimizer=keras.optimizers.SGD(.05),loss='categorical_crossentropy',metrics=['accuracy'])\n",
    "    model.fit(train_dataset, train_labels, validation_data=(valid_dataset, valid_labels), epochs=1, \n",
    "              batch_size=batch_size)\n",
    "    print(\"Model's performance on test dataset:\")\n",
    "    print(f\"Test accuracy: {model.evaluate(test_dataset, test_labels)[1] * 100:.3f}%\")\n",
    "#     model.save('final_model.h5')\n",
    "    return model"
   ]
  },
  {
   "cell_type": "code",
   "execution_count": 38,
   "metadata": {},
   "outputs": [
    {
     "name": "stdout",
     "output_type": "stream",
     "text": [
      "Train on 200000 samples, validate on 10000 samples\n",
      "200000/200000 [==============================] - 133s 666us/sample - loss: 0.4233 - acc: 0.8714 - val_loss: 0.3331 - val_acc: 0.8992\n",
      "Model's performance on test dataset:\n",
      "10000/10000 [==============================] - 1s 141us/sample - loss: 0.1650 - acc: 0.9525\n",
      "Test accuracy: 95.250%\n"
     ]
    }
   ],
   "source": [
    "model = train()"
   ]
  },
  {
   "cell_type": "code",
   "execution_count": 42,
   "metadata": {},
   "outputs": [
    {
     "name": "stdout",
     "output_type": "stream",
     "text": [
      "Model: \"sequential\"\n",
      "_________________________________________________________________\n",
      "Layer (type)                 Output Shape              Param #   \n",
      "=================================================================\n",
      "conv2d (Conv2D)              (None, 28, 28, 16)        416       \n",
      "_________________________________________________________________\n",
      "max_pooling2d (MaxPooling2D) (None, 14, 14, 16)        0         \n",
      "_________________________________________________________________\n",
      "conv2d_1 (Conv2D)            (None, 14, 14, 16)        6416      \n",
      "_________________________________________________________________\n",
      "max_pooling2d_1 (MaxPooling2 (None, 7, 7, 16)          0         \n",
      "_________________________________________________________________\n",
      "flatten (Flatten)            (None, 784)               0         \n",
      "_________________________________________________________________\n",
      "dense (Dense)                (None, 64)                50240     \n",
      "_________________________________________________________________\n",
      "dense_1 (Dense)              (None, 10)                650       \n",
      "=================================================================\n",
      "Total params: 57,722\n",
      "Trainable params: 57,722\n",
      "Non-trainable params: 0\n",
      "_________________________________________________________________\n"
     ]
    }
   ],
   "source": [
    "model.summary()"
   ]
  },
  {
   "cell_type": "markdown",
   "metadata": {
    "colab_type": "text",
    "id": "klf21gpbAgb-"
   },
   "source": [
    "---\n",
    "Problem 2\n",
    "---------\n",
    "\n",
    "Try to get the best performance you can using a convolutional net. Look for example at the classic [LeNet5](http://yann.lecun.com/exdb/lenet/) architecture, adding Dropout, and/or adding learning rate decay.\n",
    "\n",
    "---"
   ]
  },
  {
   "cell_type": "code",
   "execution_count": 76,
   "metadata": {},
   "outputs": [],
   "source": [
    "N = 28*28\n",
    "kernel_init = keras.initializers.TruncatedNormal(stddev=.1)\n",
    "lr_schedule = keras.optimizers.schedules.ExponentialDecay(.1,\n",
    "                                                         decay_steps=10000,\n",
    "                                                         decay_rate=.96,\n",
    "                                                         staircase=True)\n",
    "csv_logger = tf.keras.callbacks.CSVLogger('csv_logger')\n",
    "stop_callback = tf.keras.callbacks.EarlyStopping(monitor='val_acc',\n",
    "                                                     mode='max',\n",
    "                                                     patience=3)\n",
    "checkpoint_path = 'tmp/notMNIST.cpt'\n",
    "cp_callback = tf.keras.callbacks.ModelCheckpoint(checkpoint_path,\n",
    "                                                     monitor='val_acc',\n",
    "                                                     verbose=1,\n",
    "                                                     save_best_only=True,\n",
    "                                                     load_weights_on_restart=True)\n",
    "\n",
    "def train():\n",
    "    tf.reset_default_graph()\n",
    "    model = keras.models.Sequential([\n",
    "        keras.layers.Conv2D(16, (5, 5), padding='same',\n",
    "                           activation='relu', kernel_initializer=kernel_init, \n",
    "                            input_shape=(28,28,1)),\n",
    "        keras.layers.MaxPooling2D(strides=2),\n",
    "        keras.layers.Dropout(.25),\n",
    "        keras.layers.Conv2D(16, (5, 5), padding='same', activation='relu',\n",
    "                           kernel_initializer=kernel_init,\n",
    "                           bias_initializer='ones'),\n",
    "        keras.layers.MaxPooling2D(strides=2),\n",
    "        keras.layers.Dropout(.25),\n",
    "        keras.layers.Flatten(),\n",
    "#         keras.layers.Dense(120, activation='relu',kernel_initializer=kernel_init,\n",
    "#                           bias_initializer='ones'),\n",
    "#         keras.layers.Dropout(.5),\n",
    "        keras.layers.Dense(64, activation='relu',kernel_initializer=kernel_init,\n",
    "                          bias_initializer='ones'),\n",
    "        keras.layers.Dropout(.3),\n",
    "#         keras.layers.Dense(N, activation='relu',kernel_initializer=kernel_init,\n",
    "#                           bias_initializer='ones'),\n",
    "#         keras.layers.Dropout(.5),\n",
    "        keras.layers.Dense(10, activation='softmax', kernel_initializer=kernel_init,\n",
    "                          bias_initializer='ones')\n",
    "    ])\n",
    "    model.compile(optimizer=keras.optimizers.SGD(lr_schedule),loss='categorical_crossentropy',metrics=['accuracy'])\n",
    "    model.fit(train_dataset, train_labels, validation_data=(valid_dataset, valid_labels), epochs=100, \n",
    "              batch_size=1024, callbacks=[cp_callback,\n",
    "                                     stop_callback,\n",
    "                                     csv_logger])\n",
    "    print(\"Model's performance on test dataset:\")\n",
    "    print(f\"Test accuracy: {model.evaluate(test_dataset, test_labels)[1] * 100:.3f}%\")\n",
    "#     model.save('final_model.h5')\n",
    "    return model"
   ]
  },
  {
   "cell_type": "code",
   "execution_count": 77,
   "metadata": {
    "scrolled": true
   },
   "outputs": [
    {
     "name": "stdout",
     "output_type": "stream",
     "text": [
      "Train on 200000 samples, validate on 10000 samples\n",
      "Epoch 1/100\n",
      "199680/200000 [============================>.] - ETA: 0s - loss: 0.7003 - acc: 0.7815\n",
      "Epoch 00001: val_acc improved from -inf to 0.88360, saving model to tmp/notMNIST.cpt\n",
      "200000/200000 [==============================] - 80s 398us/sample - loss: 0.7001 - acc: 0.7816 - val_loss: 0.3807 - val_acc: 0.8836\n",
      "Epoch 2/100\n",
      "199680/200000 [============================>.] - ETA: 0s - loss: 0.5690 - acc: 0.8260\n",
      "Epoch 00002: val_acc improved from 0.88360 to 0.88430, saving model to tmp/notMNIST.cpt\n",
      "200000/200000 [==============================] - 80s 399us/sample - loss: 0.5690 - acc: 0.8260 - val_loss: 0.3776 - val_acc: 0.8843\n",
      "Epoch 3/100\n",
      "199680/200000 [============================>.] - ETA: 0s - loss: 0.5313 - acc: 0.8379\n",
      "Epoch 00003: val_acc improved from 0.88430 to 0.88530, saving model to tmp/notMNIST.cpt\n",
      "200000/200000 [==============================] - 79s 397us/sample - loss: 0.5314 - acc: 0.8379 - val_loss: 0.3737 - val_acc: 0.8853\n",
      "Epoch 4/100\n",
      "199680/200000 [============================>.] - ETA: 0s - loss: 0.5114 - acc: 0.8445\n",
      "Epoch 00004: val_acc improved from 0.88530 to 0.88730, saving model to tmp/notMNIST.cpt\n",
      "200000/200000 [==============================] - 79s 397us/sample - loss: 0.5115 - acc: 0.8445 - val_loss: 0.3677 - val_acc: 0.8873\n",
      "Epoch 5/100\n",
      "199680/200000 [============================>.] - ETA: 0s - loss: 0.4945 - acc: 0.8494\n",
      "Epoch 00005: val_acc improved from 0.88730 to 0.89050, saving model to tmp/notMNIST.cpt\n",
      "200000/200000 [==============================] - 80s 398us/sample - loss: 0.4946 - acc: 0.8494 - val_loss: 0.3599 - val_acc: 0.8905\n",
      "Epoch 6/100\n",
      "199680/200000 [============================>.] - ETA: 0s - loss: 0.4847 - acc: 0.8535\n",
      "Epoch 00006: val_acc improved from 0.89050 to 0.89130, saving model to tmp/notMNIST.cpt\n",
      "200000/200000 [==============================] - 80s 398us/sample - loss: 0.4848 - acc: 0.8535 - val_loss: 0.3583 - val_acc: 0.8913\n",
      "Epoch 7/100\n",
      "199680/200000 [============================>.] - ETA: 0s - loss: 0.4745 - acc: 0.8560\n",
      "Epoch 00007: val_acc improved from 0.89130 to 0.89300, saving model to tmp/notMNIST.cpt\n",
      "200000/200000 [==============================] - 80s 399us/sample - loss: 0.4745 - acc: 0.8560 - val_loss: 0.3532 - val_acc: 0.8930\n",
      "Epoch 8/100\n",
      "199680/200000 [============================>.] - ETA: 0s - loss: 0.4656 - acc: 0.8588\n",
      "Epoch 00008: val_acc improved from 0.89300 to 0.89330, saving model to tmp/notMNIST.cpt\n",
      "200000/200000 [==============================] - 79s 397us/sample - loss: 0.4656 - acc: 0.8588 - val_loss: 0.3526 - val_acc: 0.8933\n",
      "Epoch 9/100\n",
      "199680/200000 [============================>.] - ETA: 0s - loss: 0.4597 - acc: 0.8610\n",
      "Epoch 00009: val_acc improved from 0.89330 to 0.89410, saving model to tmp/notMNIST.cpt\n",
      "200000/200000 [==============================] - 79s 397us/sample - loss: 0.4597 - acc: 0.8610 - val_loss: 0.3505 - val_acc: 0.8941\n",
      "Epoch 10/100\n",
      "199680/200000 [============================>.] - ETA: 0s - loss: 0.4524 - acc: 0.8635\n",
      "Epoch 00010: val_acc improved from 0.89410 to 0.89490, saving model to tmp/notMNIST.cpt\n",
      "200000/200000 [==============================] - 80s 400us/sample - loss: 0.4525 - acc: 0.8635 - val_loss: 0.3472 - val_acc: 0.8949\n",
      "Epoch 11/100\n",
      "199680/200000 [============================>.] - ETA: 0s - loss: 0.4498 - acc: 0.8641\n",
      "Epoch 00011: val_acc improved from 0.89490 to 0.89510, saving model to tmp/notMNIST.cpt\n",
      "200000/200000 [==============================] - 80s 400us/sample - loss: 0.4499 - acc: 0.8641 - val_loss: 0.3450 - val_acc: 0.8951\n",
      "Epoch 12/100\n",
      "199680/200000 [============================>.] - ETA: 0s - loss: 0.4447 - acc: 0.8653\n",
      "Epoch 00012: val_acc improved from 0.89510 to 0.89690, saving model to tmp/notMNIST.cpt\n",
      "200000/200000 [==============================] - 81s 407us/sample - loss: 0.4447 - acc: 0.8653 - val_loss: 0.3406 - val_acc: 0.8969\n",
      "Epoch 13/100\n",
      "199680/200000 [============================>.] - ETA: 0s - loss: 0.4409 - acc: 0.8664\n",
      "Epoch 00013: val_acc did not improve from 0.89690\n",
      "200000/200000 [==============================] - 80s 398us/sample - loss: 0.4409 - acc: 0.8665 - val_loss: 0.3418 - val_acc: 0.8966\n",
      "Epoch 14/100\n",
      "199680/200000 [============================>.] - ETA: 0s - loss: 0.4353 - acc: 0.8676\n",
      "Epoch 00014: val_acc improved from 0.89690 to 0.89700, saving model to tmp/notMNIST.cpt\n",
      "200000/200000 [==============================] - 82s 412us/sample - loss: 0.4352 - acc: 0.8677 - val_loss: 0.3394 - val_acc: 0.8970\n",
      "Epoch 15/100\n",
      "199680/200000 [============================>.] - ETA: 0s - loss: 0.4332 - acc: 0.8690\n",
      "Epoch 00015: val_acc improved from 0.89700 to 0.89760, saving model to tmp/notMNIST.cpt\n",
      "200000/200000 [==============================] - 80s 400us/sample - loss: 0.4331 - acc: 0.8690 - val_loss: 0.3371 - val_acc: 0.8976\n",
      "Epoch 16/100\n",
      "199680/200000 [============================>.] - ETA: 0s - loss: 0.4290 - acc: 0.8700\n",
      "Epoch 00016: val_acc improved from 0.89760 to 0.89850, saving model to tmp/notMNIST.cpt\n",
      "200000/200000 [==============================] - 80s 400us/sample - loss: 0.4291 - acc: 0.8700 - val_loss: 0.3357 - val_acc: 0.8985\n",
      "Epoch 17/100\n",
      "199680/200000 [============================>.] - ETA: 0s - loss: 0.4247 - acc: 0.8712\n",
      "Epoch 00017: val_acc did not improve from 0.89850\n",
      "200000/200000 [==============================] - 80s 401us/sample - loss: 0.4247 - acc: 0.8712 - val_loss: 0.3355 - val_acc: 0.8973\n",
      "Epoch 18/100\n",
      "199680/200000 [============================>.] - ETA: 0s - loss: 0.4241 - acc: 0.8712\n",
      "Epoch 00018: val_acc did not improve from 0.89850\n",
      "200000/200000 [==============================] - 80s 401us/sample - loss: 0.4242 - acc: 0.8712 - val_loss: 0.3339 - val_acc: 0.8982\n",
      "Epoch 19/100\n",
      "199680/200000 [============================>.] - ETA: 0s - loss: 0.4218 - acc: 0.8719\n",
      "Epoch 00019: val_acc improved from 0.89850 to 0.89870, saving model to tmp/notMNIST.cpt\n",
      "200000/200000 [==============================] - 80s 399us/sample - loss: 0.4217 - acc: 0.8719 - val_loss: 0.3302 - val_acc: 0.8987\n",
      "Epoch 20/100\n",
      "199680/200000 [============================>.] - ETA: 0s - loss: 0.4172 - acc: 0.8726\n",
      "Epoch 00020: val_acc improved from 0.89870 to 0.89900, saving model to tmp/notMNIST.cpt\n",
      "200000/200000 [==============================] - 80s 400us/sample - loss: 0.4173 - acc: 0.8726 - val_loss: 0.3310 - val_acc: 0.8990\n",
      "Epoch 21/100\n",
      "199680/200000 [============================>.] - ETA: 0s - loss: 0.4153 - acc: 0.8736\n",
      "Epoch 00021: val_acc improved from 0.89900 to 0.89930, saving model to tmp/notMNIST.cpt\n",
      "200000/200000 [==============================] - 81s 404us/sample - loss: 0.4155 - acc: 0.8735 - val_loss: 0.3278 - val_acc: 0.8993\n",
      "Epoch 22/100\n",
      "199680/200000 [============================>.] - ETA: 0s - loss: 0.4128 - acc: 0.8748\n",
      "Epoch 00022: val_acc improved from 0.89930 to 0.90040, saving model to tmp/notMNIST.cpt\n",
      "200000/200000 [==============================] - 80s 401us/sample - loss: 0.4128 - acc: 0.8748 - val_loss: 0.3268 - val_acc: 0.9004\n",
      "Epoch 23/100\n",
      "199680/200000 [============================>.] - ETA: 0s - loss: 0.4113 - acc: 0.8750\n",
      "Epoch 00023: val_acc improved from 0.90040 to 0.90150, saving model to tmp/notMNIST.cpt\n",
      "200000/200000 [==============================] - 80s 402us/sample - loss: 0.4113 - acc: 0.8751 - val_loss: 0.3238 - val_acc: 0.9015\n",
      "Epoch 24/100\n",
      "199680/200000 [============================>.] - ETA: 0s - loss: 0.4099 - acc: 0.8758\n",
      "Epoch 00024: val_acc did not improve from 0.90150\n",
      "200000/200000 [==============================] - 80s 399us/sample - loss: 0.4100 - acc: 0.8758 - val_loss: 0.3232 - val_acc: 0.9011\n",
      "Epoch 25/100\n",
      "199680/200000 [============================>.] - ETA: 0s - loss: 0.4072 - acc: 0.8768\n",
      "Epoch 00025: val_acc did not improve from 0.90150\n",
      "200000/200000 [==============================] - 80s 401us/sample - loss: 0.4072 - acc: 0.8768 - val_loss: 0.3230 - val_acc: 0.9006\n",
      "Epoch 26/100\n",
      "199680/200000 [============================>.] - ETA: 0s - loss: 0.4069 - acc: 0.8766\n",
      "Epoch 00026: val_acc improved from 0.90150 to 0.90210, saving model to tmp/notMNIST.cpt\n",
      "200000/200000 [==============================] - 82s 408us/sample - loss: 0.4069 - acc: 0.8767 - val_loss: 0.3221 - val_acc: 0.9021\n",
      "Epoch 27/100\n",
      "199680/200000 [============================>.] - ETA: 0s - loss: 0.4048 - acc: 0.8774\n",
      "Epoch 00027: val_acc did not improve from 0.90210\n",
      "200000/200000 [==============================] - 80s 401us/sample - loss: 0.4050 - acc: 0.8773 - val_loss: 0.3211 - val_acc: 0.9020\n",
      "Epoch 28/100\n",
      "199680/200000 [============================>.] - ETA: 0s - loss: 0.4030 - acc: 0.8776\n",
      "Epoch 00028: val_acc did not improve from 0.90210\n",
      "200000/200000 [==============================] - 80s 399us/sample - loss: 0.4030 - acc: 0.8776 - val_loss: 0.3212 - val_acc: 0.9007\n",
      "Epoch 29/100\n",
      "199680/200000 [============================>.] - ETA: 0s - loss: 0.4012 - acc: 0.8782\n",
      "Epoch 00029: val_acc improved from 0.90210 to 0.90330, saving model to tmp/notMNIST.cpt\n",
      "200000/200000 [==============================] - 80s 401us/sample - loss: 0.4012 - acc: 0.8782 - val_loss: 0.3172 - val_acc: 0.9033\n",
      "Epoch 30/100\n",
      "199680/200000 [============================>.] - ETA: 0s - loss: 0.3993 - acc: 0.8794\n",
      "Epoch 00030: val_acc improved from 0.90330 to 0.90340, saving model to tmp/notMNIST.cpt\n",
      "200000/200000 [==============================] - 80s 400us/sample - loss: 0.3993 - acc: 0.8794 - val_loss: 0.3167 - val_acc: 0.9034\n",
      "Epoch 31/100\n",
      "199680/200000 [============================>.] - ETA: 0s - loss: 0.3970 - acc: 0.8801\n",
      "Epoch 00031: val_acc improved from 0.90340 to 0.90370, saving model to tmp/notMNIST.cpt\n",
      "200000/200000 [==============================] - 80s 400us/sample - loss: 0.3970 - acc: 0.8801 - val_loss: 0.3158 - val_acc: 0.9037\n",
      "Epoch 32/100\n",
      "199680/200000 [============================>.] - ETA: 0s - loss: 0.3965 - acc: 0.8803\n",
      "Epoch 00032: val_acc did not improve from 0.90370\n",
      "200000/200000 [==============================] - 80s 400us/sample - loss: 0.3964 - acc: 0.8804 - val_loss: 0.3164 - val_acc: 0.9029\n",
      "Epoch 33/100\n",
      "199680/200000 [============================>.] - ETA: 0s - loss: 0.3938 - acc: 0.8809\n",
      "Epoch 00033: val_acc did not improve from 0.90370\n",
      "200000/200000 [==============================] - 80s 400us/sample - loss: 0.3937 - acc: 0.8809 - val_loss: 0.3149 - val_acc: 0.9034\n",
      "Epoch 34/100\n",
      "199680/200000 [============================>.] - ETA: 0s - loss: 0.3928 - acc: 0.8807\n",
      "Epoch 00034: val_acc improved from 0.90370 to 0.90450, saving model to tmp/notMNIST.cpt\n",
      "200000/200000 [==============================] - 80s 400us/sample - loss: 0.3927 - acc: 0.8807 - val_loss: 0.3134 - val_acc: 0.9045\n",
      "Epoch 35/100\n",
      "199680/200000 [============================>.] - ETA: 0s - loss: 0.3919 - acc: 0.8807\n",
      "Epoch 00035: val_acc improved from 0.90450 to 0.90500, saving model to tmp/notMNIST.cpt\n",
      "200000/200000 [==============================] - 80s 400us/sample - loss: 0.3919 - acc: 0.8807 - val_loss: 0.3136 - val_acc: 0.9050\n",
      "Epoch 36/100\n",
      "199680/200000 [============================>.] - ETA: 0s - loss: 0.3915 - acc: 0.8819\n",
      "Epoch 00036: val_acc did not improve from 0.90500\n",
      "200000/200000 [==============================] - 80s 400us/sample - loss: 0.3915 - acc: 0.8819 - val_loss: 0.3124 - val_acc: 0.9035\n",
      "Epoch 37/100\n",
      "199680/200000 [============================>.] - ETA: 0s - loss: 0.3900 - acc: 0.8814\n",
      "Epoch 00037: val_acc did not improve from 0.90500\n",
      "200000/200000 [==============================] - 80s 401us/sample - loss: 0.3901 - acc: 0.8814 - val_loss: 0.3112 - val_acc: 0.9041\n",
      "Epoch 38/100\n",
      "199680/200000 [============================>.] - ETA: 0s - loss: 0.3882 - acc: 0.8815\n",
      "Epoch 00038: val_acc did not improve from 0.90500\n",
      "200000/200000 [==============================] - 80s 400us/sample - loss: 0.3883 - acc: 0.8815 - val_loss: 0.3125 - val_acc: 0.9043\n",
      "Model's performance on test dataset:\n",
      "10000/10000 [==============================] - 2s 151us/sample - loss: 0.1476 - acc: 0.9552\n",
      "Test accuracy: 95.520%\n"
     ]
    }
   ],
   "source": [
    "model = train()"
   ]
  },
  {
   "cell_type": "code",
   "execution_count": 78,
   "metadata": {},
   "outputs": [],
   "source": [
    "# with dropout\n",
    "df = pd.read_csv('csv_logger')"
   ]
  },
  {
   "cell_type": "code",
   "execution_count": 79,
   "metadata": {},
   "outputs": [
    {
     "data": {
      "image/png": "[encoded data removed]",
      "text/plain": [
       "<Figure size 432x288 with 1 Axes>"
      ]
     },
     "metadata": {
      "needs_background": "light"
     },
     "output_type": "display_data"
    }
   ],
   "source": [
    "df.plot(x='epoch', y=['acc','loss','val_acc','val_loss'],grid=True)\n",
    "plt.show()"
   ]
  },
  {
   "cell_type": "code",
   "execution_count": 70,
   "metadata": {},
   "outputs": [],
   "source": [
    "# without dropout\n",
    "df = pd.read_csv('csv_logger')"
   ]
  },
  {
   "cell_type": "code",
   "execution_count": 71,
   "metadata": {},
   "outputs": [
    {
     "data": {
      "text/html": [
       "<div>\n",
       "<style scoped>\n",
       "    .dataframe tbody tr th:only-of-type {\n",
       "        vertical-align: middle;\n",
       "    }\n",
       "\n",
       "    .dataframe tbody tr th {\n",
       "        vertical-align: top;\n",
       "    }\n",
       "\n",
       "    .dataframe thead th {\n",
       "        text-align: right;\n",
       "    }\n",
       "</style>\n",
       "<table border=\"1\" class=\"dataframe\">\n",
       "  <thead>\n",
       "    <tr style=\"text-align: right;\">\n",
       "      <th></th>\n",
       "      <th>epoch</th>\n",
       "      <th>acc</th>\n",
       "      <th>loss</th>\n",
       "      <th>val_acc</th>\n",
       "      <th>val_loss</th>\n",
       "    </tr>\n",
       "  </thead>\n",
       "  <tbody>\n",
       "    <tr>\n",
       "      <th>0</th>\n",
       "      <td>0</td>\n",
       "      <td>0.681140</td>\n",
       "      <td>1.093023</td>\n",
       "      <td>0.8172</td>\n",
       "      <td>0.636180</td>\n",
       "    </tr>\n",
       "    <tr>\n",
       "      <th>1</th>\n",
       "      <td>1</td>\n",
       "      <td>0.840655</td>\n",
       "      <td>0.555267</td>\n",
       "      <td>0.8526</td>\n",
       "      <td>0.518596</td>\n",
       "    </tr>\n",
       "    <tr>\n",
       "      <th>2</th>\n",
       "      <td>2</td>\n",
       "      <td>0.859570</td>\n",
       "      <td>0.485368</td>\n",
       "      <td>0.8661</td>\n",
       "      <td>0.466082</td>\n",
       "    </tr>\n",
       "    <tr>\n",
       "      <th>3</th>\n",
       "      <td>3</td>\n",
       "      <td>0.868665</td>\n",
       "      <td>0.450360</td>\n",
       "      <td>0.8690</td>\n",
       "      <td>0.451560</td>\n",
       "    </tr>\n",
       "    <tr>\n",
       "      <th>4</th>\n",
       "      <td>4</td>\n",
       "      <td>0.875260</td>\n",
       "      <td>0.426966</td>\n",
       "      <td>0.8768</td>\n",
       "      <td>0.421431</td>\n",
       "    </tr>\n",
       "  </tbody>\n",
       "</table>\n",
       "</div>"
      ],
      "text/plain": [
       "   epoch       acc      loss  val_acc  val_loss\n",
       "0      0  0.681140  1.093023   0.8172  0.636180\n",
       "1      1  0.840655  0.555267   0.8526  0.518596\n",
       "2      2  0.859570  0.485368   0.8661  0.466082\n",
       "3      3  0.868665  0.450360   0.8690  0.451560\n",
       "4      4  0.875260  0.426966   0.8768  0.421431"
      ]
     },
     "execution_count": 71,
     "metadata": {},
     "output_type": "execute_result"
    }
   ],
   "source": [
    "df.head()"
   ]
  },
  {
   "cell_type": "code",
   "execution_count": 75,
   "metadata": {},
   "outputs": [
    {
     "data": {
      "image/png": "[encoded data removed]",
      "text/plain": [
       "<Figure size 432x288 with 1 Axes>"
      ]
     },
     "metadata": {
      "needs_background": "light"
     },
     "output_type": "display_data"
    }
   ],
   "source": [
    "df.plot(x='epoch', y=['acc','loss','val_acc','val_loss'],grid=True)\n",
    "plt.show()"
   ]
  },
  {
   "cell_type": "markdown",
   "metadata": {},
   "source": [
    "more computional resources needed to train model."
   ]
  },
  {
   "cell_type": "code",
   "execution_count": 82,
   "metadata": {},
   "outputs": [],
   "source": [
    "N = 28*28\n",
    "kernel_init = keras.initializers.TruncatedNormal(stddev=.1)\n",
    "lr_schedule = keras.optimizers.schedules.ExponentialDecay(.1,\n",
    "                                                         decay_steps=10000,\n",
    "                                                         decay_rate=.96,\n",
    "                                                         staircase=True)\n",
    "csv_logger = tf.keras.callbacks.CSVLogger('csv_logger')\n",
    "stop_callback = tf.keras.callbacks.EarlyStopping(monitor='val_acc',\n",
    "                                                     mode='max',\n",
    "                                                     patience=3)\n",
    "checkpoint_path = 'tmp/notMNIST.cpk'\n",
    "cp_callback = tf.keras.callbacks.ModelCheckpoint(checkpoint_path,\n",
    "                                                     monitor='val_acc',\n",
    "                                                     verbose=1,\n",
    "                                                     save_best_only=True,\n",
    "                                                     load_weights_on_restart=True)\n",
    "\n",
    "def train():\n",
    "    tf.reset_default_graph()\n",
    "    model = keras.models.Sequential([\n",
    "        keras.layers.Conv2D(64, (3, 3), padding='same',\n",
    "                           activation='relu', kernel_initializer=kernel_init, \n",
    "                            input_shape=(28,28,1)),\n",
    "        keras.layers.MaxPooling2D(strides=2),\n",
    "        keras.layers.Dropout(.25),\n",
    "        keras.layers.Conv2D(64, (3, 3), padding='same', activation='relu',\n",
    "                           kernel_initializer=kernel_init,\n",
    "                           bias_initializer='ones'),\n",
    "        keras.layers.MaxPooling2D(strides=2),\n",
    "        keras.layers.Dropout(.25),\n",
    "        keras.layers.Flatten(),\n",
    "        keras.layers.Dense(4*N, activation='relu',kernel_initializer=kernel_init,\n",
    "                          bias_initializer='ones'),\n",
    "        keras.layers.Dropout(.5),\n",
    "        keras.layers.Dense(2*N, activation='relu',kernel_initializer=kernel_init,\n",
    "                          bias_initializer='ones'),\n",
    "        keras.layers.Dropout(.3),\n",
    "        keras.layers.Dense(N, activation='relu',kernel_initializer=kernel_init,\n",
    "                          bias_initializer='ones'),\n",
    "        keras.layers.Dropout(.5),\n",
    "        keras.layers.Dense(10, activation='softmax', kernel_initializer=kernel_init,\n",
    "                          bias_initializer='ones')\n",
    "    ])\n",
    "    model.compile(optimizer=keras.optimizers.SGD(lr_schedule),loss='categorical_crossentropy',metrics=['accuracy'])\n",
    "    model.fit(train_dataset, train_labels, validation_data=(valid_dataset, valid_labels), epochs=100, \n",
    "              batch_size=1024, callbacks=[cp_callback,\n",
    "                                     stop_callback,\n",
    "                                     csv_logger])\n",
    "    print(\"Model's performance on test dataset:\")\n",
    "    print(f\"Test accuracy: {model.evaluate(test_dataset, test_labels)[1] * 100:.3f}%\")\n",
    "#     model.save('final_model.h5')\n",
    "    return model"
   ]
  }
 ],
 "metadata": {
  "colab": {
   "default_view": {},
   "name": "4_convolutions.ipynb",
   "provenance": [],
   "toc_visible": true,
   "version": "0.3.2",
   "views": {}
  },
  "kernelspec": {
   "display_name": "Python 3",
   "language": "python",
   "name": "python3"
  },
  "language_info": {
   "codemirror_mode": {
    "name": "ipython",
    "version": 3
   },
   "file_extension": ".py",
   "mimetype": "text/x-python",
   "name": "python",
   "nbconvert_exporter": "python",
   "pygments_lexer": "ipython3",
   "version": "3.6.2"
  }
 },
 "nbformat": 4,
 "nbformat_minor": 4
}
