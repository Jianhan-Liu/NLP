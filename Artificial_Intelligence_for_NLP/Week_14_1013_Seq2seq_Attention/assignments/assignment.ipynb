{
 "cells": [
  {
   "cell_type": "markdown",
   "metadata": {},
   "source": [
    "# Neural Machine Translation\n",
    "[Link](https://github.com/fortyMiles/neural-machine-translation)"
   ]
  },
  {
   "cell_type": "markdown",
   "metadata": {},
   "source": [
    "# read references pdf\n",
    "[Attention is all you need](https://arxiv.org/abs/1706.03762)\n",
    "\n",
    "[learned-in-translation-contextualized-word-vectors](http://papers.nips.cc/paper/7209-learned-in-translation-contextualized-word-vectors.pdf)"
   ]
  },
  {
   "cell_type": "markdown",
   "metadata": {},
   "source": [
    "# check out elmo website\n",
    "[ELMO](https://allennlp.org/elmo)"
   ]
  },
  {
   "cell_type": "markdown",
   "metadata": {},
   "source": [
    "# checkout tensor2tensor on tensorflow\n",
    "[t2t](https://github.com/tensorflow/tensor2tensor)"
   ]
  },
  {
   "cell_type": "code",
   "execution_count": null,
   "metadata": {},
   "outputs": [],
   "source": []
  }
 ],
 "metadata": {
  "kernelspec": {
   "display_name": "Python 3",
   "language": "python",
   "name": "python3"
  },
  "language_info": {
   "codemirror_mode": {
    "name": "ipython",
    "version": 3
   },
   "file_extension": ".py",
   "mimetype": "text/x-python",
   "name": "python",
   "nbconvert_exporter": "python",
   "pygments_lexer": "ipython3",
   "version": "3.6.2"
  }
 },
 "nbformat": 4,
 "nbformat_minor": 4
}
