{
 "cells": [
  {
   "cell_type": "markdown",
   "metadata": {
    "colab_type": "text",
    "id": "kR-4eNdK6lYS"
   },
   "source": [
    "Deep Learning\n",
    "=============\n",
    "\n",
    "Assignment 3\n",
    "------------\n",
    "\n",
    "Previously in `2_fullyconnected.ipynb`, you trained a logistic regression and a neural network model.\n",
    "\n",
    "The goal of this assignment is to explore regularization techniques."
   ]
  },
  {
   "cell_type": "code",
   "execution_count": 6,
   "metadata": {
    "cellView": "both",
    "colab": {
     "autoexec": {
      "startup": false,
      "wait_interval": 0
     }
    },
    "colab_type": "code",
    "id": "JLpLa8Jt7Vu4"
   },
   "outputs": [],
   "source": [
    "# These are all the modules we'll be using later. Make sure you can import them\n",
    "# before proceeding further.\n",
    "from __future__ import print_function\n",
    "import numpy as np\n",
    "import tensorflow as tf\n",
    "from six.moves import cPickle as pickle\n",
    "from tensorflow import keras"
   ]
  },
  {
   "cell_type": "code",
   "execution_count": 2,
   "metadata": {},
   "outputs": [],
   "source": [
    "from sklearn.metrics import classification_report"
   ]
  },
  {
   "cell_type": "code",
   "execution_count": 3,
   "metadata": {},
   "outputs": [],
   "source": [
    "def reset_graph(seed=42):\n",
    "    tf.reset_default_graph()\n",
    "    tf.set_random_seed(seed)\n",
    "    np.random.seed(seed)"
   ]
  },
  {
   "cell_type": "markdown",
   "metadata": {
    "colab_type": "text",
    "id": "1HrCK6e17WzV"
   },
   "source": [
    "First reload the data we generated in `1_notmnist.ipynb`."
   ]
  },
  {
   "cell_type": "code",
   "execution_count": 4,
   "metadata": {
    "cellView": "both",
    "colab": {
     "autoexec": {
      "startup": false,
      "wait_interval": 0
     },
     "output_extras": [
      {
       "item_id": 1
      }
     ]
    },
    "colab_type": "code",
    "executionInfo": {
     "elapsed": 11777,
     "status": "ok",
     "timestamp": 1449849322348,
     "user": {
      "color": "",
      "displayName": "",
      "isAnonymous": false,
      "isMe": true,
      "permissionId": "",
      "photoUrl": "",
      "sessionId": "0",
      "userId": ""
     },
     "user_tz": 480
    },
    "id": "y3-cj1bpmuxc",
    "outputId": "e03576f1-ebbe-4838-c388-f1777bcc9873"
   },
   "outputs": [
    {
     "name": "stdout",
     "output_type": "stream",
     "text": [
      "Training set (200000, 28, 28) (200000,)\n",
      "Validation set (10000, 28, 28) (10000,)\n",
      "Test set (10000, 28, 28) (10000,)\n"
     ]
    }
   ],
   "source": [
    "pickle_file = 'notMNIST.pickle'\n",
    "\n",
    "with open(pickle_file, 'rb') as f:\n",
    "    save = pickle.load(f)\n",
    "    train_dataset = save['train_dataset']\n",
    "    train_labels = save['train_labels']\n",
    "    valid_dataset = save['valid_dataset']\n",
    "    valid_labels = save['valid_labels']\n",
    "    test_dataset = save['test_dataset']\n",
    "    test_labels = save['test_labels']\n",
    "    del save  # hint to help gc free up memory\n",
    "    print('Training set', train_dataset.shape, train_labels.shape)\n",
    "    print('Validation set', valid_dataset.shape, valid_labels.shape)\n",
    "    print('Test set', test_dataset.shape, test_labels.shape)"
   ]
  },
  {
   "cell_type": "markdown",
   "metadata": {
    "colab_type": "text",
    "id": "L7aHrm6nGDMB"
   },
   "source": [
    "Reformat into a shape that's more adapted to the models we're going to train:\n",
    "- data as a flat matrix,\n",
    "- labels as float 1-hot encodings."
   ]
  },
  {
   "cell_type": "code",
   "execution_count": 5,
   "metadata": {
    "cellView": "both",
    "colab": {
     "autoexec": {
      "startup": false,
      "wait_interval": 0
     },
     "output_extras": [
      {
       "item_id": 1
      }
     ]
    },
    "colab_type": "code",
    "executionInfo": {
     "elapsed": 11728,
     "status": "ok",
     "timestamp": 1449849322356,
     "user": {
      "color": "",
      "displayName": "",
      "isAnonymous": false,
      "isMe": true,
      "permissionId": "",
      "photoUrl": "",
      "sessionId": "0",
      "userId": ""
     },
     "user_tz": 480
    },
    "id": "IRSyYiIIGIzS",
    "outputId": "3f8996ee-3574-4f44-c953-5c8a04636582"
   },
   "outputs": [
    {
     "name": "stdout",
     "output_type": "stream",
     "text": [
      "Training set (200000, 784) (200000, 10)\n",
      "Validation set (10000, 784) (10000, 10)\n",
      "Test set (10000, 784) (10000, 10)\n"
     ]
    }
   ],
   "source": [
    "image_size = 28\n",
    "num_labels = 10\n",
    "\n",
    "def reformat(dataset, labels):\n",
    "    dataset = dataset.reshape((-1, image_size * image_size)).astype(np.float32)\n",
    "    # Map 1 to [0.0, 1.0, 0.0 ...], 2 to [0.0, 0.0, 1.0 ...]\n",
    "    labels = (np.arange(num_labels) == labels[:,None]).astype(np.float32)\n",
    "    return dataset, labels\n",
    "train_dataset, train_labels = reformat(train_dataset, train_labels)\n",
    "valid_dataset, valid_labels = reformat(valid_dataset, valid_labels)\n",
    "test_dataset, test_labels = reformat(test_dataset, test_labels)\n",
    "print('Training set', train_dataset.shape, train_labels.shape)\n",
    "print('Validation set', valid_dataset.shape, valid_labels.shape)\n",
    "print('Test set', test_dataset.shape, test_labels.shape)"
   ]
  },
  {
   "cell_type": "code",
   "execution_count": 16,
   "metadata": {
    "cellView": "both",
    "colab": {
     "autoexec": {
      "startup": false,
      "wait_interval": 0
     }
    },
    "colab_type": "code",
    "id": "RajPLaL_ZW6w"
   },
   "outputs": [],
   "source": [
    "def accuracy(predictions, labels):\n",
    "    return (100.0 * np.sum(np.argmax(predictions, 1) == np.argmax(labels, 1))\n",
    "          / predictions.shape[0])"
   ]
  },
  {
   "cell_type": "markdown",
   "metadata": {
    "colab_type": "text",
    "id": "sgLbUAQ1CW-1"
   },
   "source": [
    "---\n",
    "Problem 1\n",
    "---------\n",
    "\n",
    "Introduce and tune L2 regularization for both logistic and neural network models. Remember that L2 amounts to adding a penalty on the norm of the weights to the loss. In TensorFlow, you can compute the L2 loss for a tensor `t` using `nn.l2_loss(t)`. The right amount of regularization should improve your validation / test accuracy.\n",
    "\n",
    "---"
   ]
  },
  {
   "cell_type": "markdown",
   "metadata": {},
   "source": [
    "use high-level API with keras instead of low-level API with too many statements."
   ]
  },
  {
   "cell_type": "code",
   "execution_count": 6,
   "metadata": {},
   "outputs": [],
   "source": [
    "def classification_print(y_true, y_pred):\n",
    "    if len(np.shape(y_true)) > 1:\n",
    "        y_true = np.argmax(y_true, axis=1)\n",
    "    if len(np.shape(y_pred)) > 1:\n",
    "        y_pred = np.argmax(y_pred, axis=1)\n",
    "    print(classification_report(y_true, y_pred))"
   ]
  },
  {
   "cell_type": "code",
   "execution_count": 7,
   "metadata": {},
   "outputs": [],
   "source": [
    "def train_mnist(X_train=train_dataset, y_train=train_labels, \n",
    "                X_test=test_dataset, y_test=test_labels,\n",
    "                learning_rate = .1,\n",
    "                dropout = False,\n",
    "                dropout_rate = .5,\n",
    "                nn=True,\n",
    "                multiple_nn = False,\n",
    "                regularizer=0., \n",
    "                epochs=2, \n",
    "                batch_size=128,\n",
    "                optimizer=keras.optimizers.SGD,\n",
    "                callback = [],\n",
    "                validation_data=(valid_dataset, valid_labels)):\n",
    "    reset_graph()\n",
    "    model = keras.models.Sequential()\n",
    "    model.add(keras.layers.Flatten(input_shape=(784,)))\n",
    "    if nn:\n",
    "        if multiple_nn:\n",
    "            model.add(keras.layers.Dense(100, activation=tf.nn.relu,\n",
    "                                        kernel_regularizer=keras.regularizers.l2(regularizer)))\n",
    "            model.add(keras.layers.Dense(100, activation=tf.nn.relu,\n",
    "                                        kernel_regularizer=keras.regularizers.l2(regularizer)))\n",
    "        model.add(keras.layers.Dense(1024, activation=tf.nn.relu, \n",
    "                                     kernel_regularizer=keras.regularizers.l2(regularizer)))\n",
    "        if dropout:\n",
    "            model.add(keras.layers.Dropout(dropout_rate))\n",
    "    model.add(keras.layers.Dense(10, activation=tf.nn.softmax, \n",
    "                                 kernel_regularizer=keras.regularizers.l2(regularizer)))\n",
    "    \n",
    "    model.compile(optimizer=optimizer(learning_rate=learning_rate),\n",
    "                  loss='categorical_crossentropy',\n",
    "                  metrics=['accuracy'])\n",
    "    history = model.fit(X_train, y_train, \n",
    "                        epochs=epochs, \n",
    "                        batch_size=batch_size,\n",
    "                        validation_data=validation_data,\n",
    "                        callbacks=callback)\n",
    "    print(f'Test accuracy: {model.evaluate(X_test, y_test, verbose=0)[1]*100:.2f}% with regularizer: {regularizer}')\n",
    "    classification_print(y_test, model.predict(X_test))\n",
    "    return model, history"
   ]
  },
  {
   "cell_type": "code",
   "execution_count": 8,
   "metadata": {},
   "outputs": [
    {
     "name": "stderr",
     "output_type": "stream",
     "text": [
      "WARNING: Logging before flag parsing goes to stderr.\n",
      "W0906 23:46:25.837602  5604 deprecation.py:506] From C:\\Users\\Administrator\\Anaconda3\\envs\\nlp\\lib\\site-packages\\tensorflow\\python\\ops\\init_ops.py:1251: calling VarianceScaling.__init__ (from tensorflow.python.ops.init_ops) with dtype is deprecated and will be removed in a future version.\n",
      "Instructions for updating:\n",
      "Call initializer instance with the dtype argument instead of passing it to the constructor\n"
     ]
    },
    {
     "name": "stdout",
     "output_type": "stream",
     "text": [
      "Train on 200000 samples, validate on 10000 samples\n",
      "Epoch 1/2\n",
      "200000/200000 [==============================] - 2s 12us/sample - loss: 0.6869 - acc: 0.8184 - val_loss: 0.6541 - val_acc: 0.8289\n",
      "Epoch 2/2\n",
      "200000/200000 [==============================] - 2s 11us/sample - loss: 0.6409 - acc: 0.8301 - val_loss: 0.6506 - val_acc: 0.8284\n",
      "Test accuracy: 89.68% with regularizer: 0.0\n",
      "              precision    recall  f1-score   support\n",
      "\n",
      "           0       0.94      0.89      0.91      1000\n",
      "           1       0.91      0.89      0.90      1000\n",
      "           2       0.91      0.93      0.92      1000\n",
      "           3       0.93      0.92      0.92      1000\n",
      "           4       0.92      0.86      0.89      1000\n",
      "           5       0.90      0.93      0.91      1000\n",
      "           6       0.87      0.90      0.88      1000\n",
      "           7       0.88      0.90      0.89      1000\n",
      "           8       0.86      0.86      0.86      1000\n",
      "           9       0.86      0.90      0.88      1000\n",
      "\n",
      "    accuracy                           0.90     10000\n",
      "   macro avg       0.90      0.90      0.90     10000\n",
      "weighted avg       0.90      0.90      0.90     10000\n",
      "\n"
     ]
    }
   ],
   "source": [
    "logistic_model, logisitc_history = train_mnist(nn=False)"
   ]
  },
  {
   "cell_type": "code",
   "execution_count": 214,
   "metadata": {},
   "outputs": [
    {
     "name": "stdout",
     "output_type": "stream",
     "text": [
      "Model: \"sequential_92\"\n",
      "_________________________________________________________________\n",
      "Layer (type)                 Output Shape              Param #   \n",
      "=================================================================\n",
      "flatten_91 (Flatten)         (None, 784)               0         \n",
      "_________________________________________________________________\n",
      "dense_136 (Dense)            (None, 10)                7850      \n",
      "=================================================================\n",
      "Total params: 7,850\n",
      "Trainable params: 7,850\n",
      "Non-trainable params: 0\n",
      "_________________________________________________________________\n"
     ]
    }
   ],
   "source": [
    "logistic_model.summary()"
   ]
  },
  {
   "cell_type": "code",
   "execution_count": 163,
   "metadata": {},
   "outputs": [
    {
     "name": "stdout",
     "output_type": "stream",
     "text": [
      "Train on 200000 samples, validate on 10000 samples\n",
      "Epoch 1/2\n",
      "200000/200000 [==============================] - 4s 21us/sample - loss: 0.8282 - acc: 0.8146 - val_loss: 0.7857 - val_acc: 0.8202\n",
      "Epoch 2/2\n",
      "200000/200000 [==============================] - 3s 17us/sample - loss: 0.7795 - acc: 0.8214 - val_loss: 0.7874 - val_acc: 0.8186\n",
      "Test accuracy: 88.85% with regularizer:0.01\n",
      "              precision    recall  f1-score   support\n",
      "\n",
      "           0       0.92      0.89      0.91      1000\n",
      "           1       0.93      0.87      0.90      1000\n",
      "           2       0.91      0.93      0.92      1000\n",
      "           3       0.91      0.91      0.91      1000\n",
      "           4       0.91      0.86      0.89      1000\n",
      "           5       0.91      0.91      0.91      1000\n",
      "           6       0.90      0.89      0.90      1000\n",
      "           7       0.92      0.87      0.89      1000\n",
      "           8       0.80      0.86      0.83      1000\n",
      "           9       0.80      0.89      0.85      1000\n",
      "\n",
      "    accuracy                           0.89     10000\n",
      "   macro avg       0.89      0.89      0.89     10000\n",
      "weighted avg       0.89      0.89      0.89     10000\n",
      "\n"
     ]
    }
   ],
   "source": [
    "logistic_model, logisitc_history = train_mnist(nn=False, regularizer=.01)"
   ]
  },
  {
   "cell_type": "code",
   "execution_count": 162,
   "metadata": {},
   "outputs": [
    {
     "name": "stdout",
     "output_type": "stream",
     "text": [
      "Train on 200000 samples, validate on 10000 samples\n",
      "Epoch 1/2\n",
      "200000/200000 [==============================] - 4s 18us/sample - loss: 0.7152 - acc: 0.8181 - val_loss: 0.6869 - val_acc: 0.8262\n",
      "Epoch 2/2\n",
      "200000/200000 [==============================] - 3s 15us/sample - loss: 0.6696 - acc: 0.8290 - val_loss: 0.6739 - val_acc: 0.8304\n",
      "Test accuracy: 89.71% with regularizer:0.001\n",
      "              precision    recall  f1-score   support\n",
      "\n",
      "           0       0.92      0.91      0.91      1000\n",
      "           1       0.92      0.89      0.90      1000\n",
      "           2       0.89      0.93      0.91      1000\n",
      "           3       0.91      0.93      0.92      1000\n",
      "           4       0.90      0.87      0.88      1000\n",
      "           5       0.92      0.92      0.92      1000\n",
      "           6       0.91      0.89      0.90      1000\n",
      "           7       0.90      0.89      0.90      1000\n",
      "           8       0.84      0.85      0.85      1000\n",
      "           9       0.86      0.90      0.88      1000\n",
      "\n",
      "    accuracy                           0.90     10000\n",
      "   macro avg       0.90      0.90      0.90     10000\n",
      "weighted avg       0.90      0.90      0.90     10000\n",
      "\n"
     ]
    }
   ],
   "source": [
    "logistic_model, logisitc_history = train_mnist(nn=False, regularizer=.001)"
   ]
  },
  {
   "cell_type": "code",
   "execution_count": 164,
   "metadata": {},
   "outputs": [
    {
     "name": "stdout",
     "output_type": "stream",
     "text": [
      "Train on 200000 samples, validate on 10000 samples\n",
      "Epoch 1/2\n",
      "200000/200000 [==============================] - 4s 19us/sample - loss: 1.9211 - acc: 0.7070 - val_loss: 1.9044 - val_acc: 0.6929\n",
      "Epoch 2/2\n",
      "200000/200000 [==============================] - 3s 15us/sample - loss: 1.8839 - acc: 0.7074 - val_loss: 1.8995 - val_acc: 0.6621\n",
      "Test accuracy: 72.71% with regularizer:1\n",
      "              precision    recall  f1-score   support\n",
      "\n",
      "           0       0.94      0.68      0.79      1000\n",
      "           1       0.79      0.74      0.76      1000\n",
      "           2       0.55      0.89      0.68      1000\n",
      "           3       0.89      0.80      0.84      1000\n",
      "           4       0.87      0.66      0.75      1000\n",
      "           5       0.93      0.76      0.84      1000\n",
      "           6       0.96      0.36      0.52      1000\n",
      "           7       0.92      0.66      0.77      1000\n",
      "           8       0.69      0.83      0.75      1000\n",
      "           9       0.45      0.89      0.60      1000\n",
      "\n",
      "    accuracy                           0.73     10000\n",
      "   macro avg       0.80      0.73      0.73     10000\n",
      "weighted avg       0.80      0.73      0.73     10000\n",
      "\n"
     ]
    }
   ],
   "source": [
    "logistic_model, logisitc_history = train_mnist(nn=False, regularizer=1)"
   ]
  },
  {
   "cell_type": "code",
   "execution_count": 146,
   "metadata": {},
   "outputs": [
    {
     "name": "stdout",
     "output_type": "stream",
     "text": [
      "Train on 200000 samples, validate on 10000 samples\n",
      "Epoch 1/2\n",
      "200000/200000 [==============================] - 17s 83us/sample - loss: 0.7475 - acc: 0.7993 - val_loss: 0.6105 - val_acc: 0.8295\n",
      "Epoch 2/2\n",
      "200000/200000 [==============================] - 16s 78us/sample - loss: 0.5760 - acc: 0.8369 - val_loss: 0.5637 - val_acc: 0.8406\n",
      "Test accuracy: 90.85% with regularizer:0.0\n",
      "              precision    recall  f1-score   support\n",
      "\n",
      "           0       0.93      0.92      0.92      1000\n",
      "           1       0.91      0.89      0.90      1000\n",
      "           2       0.91      0.94      0.93      1000\n",
      "           3       0.93      0.92      0.92      1000\n",
      "           4       0.93      0.88      0.90      1000\n",
      "           5       0.92      0.93      0.92      1000\n",
      "           6       0.91      0.91      0.91      1000\n",
      "           7       0.93      0.90      0.91      1000\n",
      "           8       0.87      0.88      0.87      1000\n",
      "           9       0.86      0.93      0.89      1000\n",
      "\n",
      "    accuracy                           0.91     10000\n",
      "   macro avg       0.91      0.91      0.91     10000\n",
      "weighted avg       0.91      0.91      0.91     10000\n",
      "\n"
     ]
    }
   ],
   "source": [
    "nn_model, nn_history = train_mnist()"
   ]
  },
  {
   "cell_type": "code",
   "execution_count": 147,
   "metadata": {},
   "outputs": [
    {
     "name": "stdout",
     "output_type": "stream",
     "text": [
      "Train on 200000 samples, validate on 10000 samples\n",
      "Epoch 1/2\n",
      "200000/200000 [==============================] - 19s 96us/sample - loss: 7.6053 - acc: 0.7969 - val_loss: 5.6360 - val_acc: 0.8211\n",
      "Epoch 2/2\n",
      "200000/200000 [==============================] - 20s 98us/sample - loss: 4.3910 - acc: 0.8280 - val_loss: 3.3957 - val_acc: 0.8275\n",
      "Test accuracy: 89.37% with regularizer:0.01\n",
      "              precision    recall  f1-score   support\n",
      "\n",
      "           0       0.94      0.90      0.91      1000\n",
      "           1       0.92      0.87      0.89      1000\n",
      "           2       0.90      0.92      0.91      1000\n",
      "           3       0.92      0.91      0.91      1000\n",
      "           4       0.91      0.85      0.88      1000\n",
      "           5       0.87      0.94      0.90      1000\n",
      "           6       0.92      0.89      0.90      1000\n",
      "           7       0.91      0.88      0.90      1000\n",
      "           8       0.85      0.86      0.85      1000\n",
      "           9       0.83      0.92      0.87      1000\n",
      "\n",
      "    accuracy                           0.89     10000\n",
      "   macro avg       0.90      0.89      0.89     10000\n",
      "weighted avg       0.90      0.89      0.89     10000\n",
      "\n"
     ]
    }
   ],
   "source": [
    "nn_model, nn_history = train_mnist(regularizer=.01)"
   ]
  },
  {
   "cell_type": "code",
   "execution_count": 148,
   "metadata": {},
   "outputs": [
    {
     "name": "stdout",
     "output_type": "stream",
     "text": [
      "Train on 200000 samples, validate on 10000 samples\n",
      "Epoch 1/2\n",
      "200000/200000 [==============================] - 20s 102us/sample - loss: 1.6407 - acc: 0.7981 - val_loss: 1.4793 - val_acc: 0.8293\n",
      "Epoch 2/2\n",
      "200000/200000 [==============================] - 20s 98us/sample - loss: 1.4250 - acc: 0.8357 - val_loss: 1.3890 - val_acc: 0.8392\n",
      "Test accuracy: 90.80% with regularizer:0.001\n",
      "              precision    recall  f1-score   support\n",
      "\n",
      "           0       0.94      0.91      0.92      1000\n",
      "           1       0.92      0.89      0.90      1000\n",
      "           2       0.92      0.93      0.92      1000\n",
      "           3       0.92      0.93      0.92      1000\n",
      "           4       0.92      0.88      0.90      1000\n",
      "           5       0.90      0.94      0.92      1000\n",
      "           6       0.91      0.91      0.91      1000\n",
      "           7       0.92      0.89      0.91      1000\n",
      "           8       0.87      0.86      0.87      1000\n",
      "           9       0.87      0.94      0.90      1000\n",
      "\n",
      "    accuracy                           0.91     10000\n",
      "   macro avg       0.91      0.91      0.91     10000\n",
      "weighted avg       0.91      0.91      0.91     10000\n",
      "\n"
     ]
    }
   ],
   "source": [
    "nn_model, nn_history = train_mnist(regularizer=.001)"
   ]
  },
  {
   "cell_type": "code",
   "execution_count": 150,
   "metadata": {},
   "outputs": [
    {
     "name": "stdout",
     "output_type": "stream",
     "text": [
      "Train on 200000 samples, validate on 10000 samples\n",
      "Epoch 1/2\n",
      "200000/200000 [==============================] - 21s 107us/sample - loss: 0.8338 - acc: 0.8003 - val_loss: 0.7018 - val_acc: 0.8293\n",
      "Epoch 2/2\n",
      "200000/200000 [==============================] - 20s 99us/sample - loss: 0.6684 - acc: 0.8368 - val_loss: 0.6560 - val_acc: 0.8411\n",
      "Test accuracy: 90.64% with regularizer:0.0001\n",
      "              precision    recall  f1-score   support\n",
      "\n",
      "           0       0.94      0.91      0.92      1000\n",
      "           1       0.91      0.88      0.90      1000\n",
      "           2       0.93      0.93      0.93      1000\n",
      "           3       0.90      0.92      0.91      1000\n",
      "           4       0.92      0.89      0.90      1000\n",
      "           5       0.89      0.94      0.91      1000\n",
      "           6       0.91      0.91      0.91      1000\n",
      "           7       0.91      0.90      0.91      1000\n",
      "           8       0.87      0.87      0.87      1000\n",
      "           9       0.88      0.92      0.90      1000\n",
      "\n",
      "    accuracy                           0.91     10000\n",
      "   macro avg       0.91      0.91      0.91     10000\n",
      "weighted avg       0.91      0.91      0.91     10000\n",
      "\n"
     ]
    }
   ],
   "source": [
    "nn_model, nn_history = train_mnist(regularizer=.0001)"
   ]
  },
  {
   "cell_type": "code",
   "execution_count": 149,
   "metadata": {},
   "outputs": [
    {
     "name": "stdout",
     "output_type": "stream",
     "text": [
      "Train on 200000 samples, validate on 10000 samples\n",
      "Epoch 1/2\n",
      "200000/200000 [==============================] - 18s 92us/sample - loss: 17.0011 - acc: 0.1571 - val_loss: 2.3026 - val_acc: 0.1000\n",
      "Epoch 2/2\n",
      "200000/200000 [==============================] - 18s 89us/sample - loss: 2.3026 - acc: 0.0993 - val_loss: 2.3026 - val_acc: 0.1000\n",
      "Test accuracy: 10.00% with regularizer:1\n",
      "              precision    recall  f1-score   support\n",
      "\n",
      "           0       0.00      0.00      0.00      1000\n",
      "           1       0.00      0.00      0.00      1000\n",
      "           2       0.00      0.00      0.00      1000\n",
      "           3       0.00      0.00      0.00      1000\n",
      "           4       0.10      1.00      0.18      1000\n",
      "           5       0.00      0.00      0.00      1000\n",
      "           6       0.00      0.00      0.00      1000\n",
      "           7       0.00      0.00      0.00      1000\n",
      "           8       0.00      0.00      0.00      1000\n",
      "           9       0.00      0.00      0.00      1000\n",
      "\n",
      "    accuracy                           0.10     10000\n",
      "   macro avg       0.01      0.10      0.02     10000\n",
      "weighted avg       0.01      0.10      0.02     10000\n",
      "\n"
     ]
    },
    {
     "name": "stderr",
     "output_type": "stream",
     "text": [
      "C:\\Users\\Administrator\\Anaconda3\\envs\\nlp\\lib\\site-packages\\sklearn\\metrics\\classification.py:1437: UndefinedMetricWarning: Precision and F-score are ill-defined and being set to 0.0 in labels with no predicted samples.\n",
      "  'precision', 'predicted', average, warn_for)\n"
     ]
    }
   ],
   "source": [
    "nn_model, nn_history = train_mnist(regularizer=1)"
   ]
  },
  {
   "cell_type": "markdown",
   "metadata": {
    "colab_type": "text",
    "id": "na8xX2yHZzNF"
   },
   "source": [
    "---\n",
    "Problem 2\n",
    "---------\n",
    "Let's demonstrate an extreme case of overfitting. Restrict your training data to just a few batches. What happens?\n",
    "\n",
    "---"
   ]
  },
  {
   "cell_type": "code",
   "execution_count": 167,
   "metadata": {},
   "outputs": [
    {
     "name": "stdout",
     "output_type": "stream",
     "text": [
      "Train on 1000 samples, validate on 10000 samples\n",
      "Epoch 1/2\n",
      "1000/1000 [==============================] - 1s 934us/sample - loss: 1.9120 - acc: 0.3740 - val_loss: 1.3868 - val_acc: 0.6379\n",
      "Epoch 2/2\n",
      "1000/1000 [==============================] - 0s 133us/sample - loss: 1.2468 - acc: 0.6930 - val_loss: 1.1163 - val_acc: 0.7276\n",
      "Test accuracy: 79.80% with regularizer:0.001\n",
      "              precision    recall  f1-score   support\n",
      "\n",
      "           0       0.91      0.78      0.84      1000\n",
      "           1       0.88      0.75      0.81      1000\n",
      "           2       0.82      0.80      0.81      1000\n",
      "           3       0.83      0.83      0.83      1000\n",
      "           4       0.77      0.71      0.74      1000\n",
      "           5       0.68      0.91      0.78      1000\n",
      "           6       0.81      0.82      0.81      1000\n",
      "           7       0.90      0.75      0.82      1000\n",
      "           8       0.80      0.79      0.80      1000\n",
      "           9       0.68      0.83      0.75      1000\n",
      "\n",
      "    accuracy                           0.80     10000\n",
      "   macro avg       0.81      0.80      0.80     10000\n",
      "weighted avg       0.81      0.80      0.80     10000\n",
      "\n"
     ]
    }
   ],
   "source": [
    "log_model, _ = train_mnist(X_train=train_dataset[:1000,:],y_train = train_labels[:1000,:],nn=False, regularizer=.001)"
   ]
  },
  {
   "cell_type": "code",
   "execution_count": 168,
   "metadata": {},
   "outputs": [
    {
     "name": "stdout",
     "output_type": "stream",
     "text": [
      "Train on 1000 samples, validate on 10000 samples\n",
      "Epoch 1/2\n",
      "1000/1000 [==============================] - 1s 1ms/sample - loss: 2.6493 - acc: 0.4890 - val_loss: 2.1322 - val_acc: 0.7096\n",
      "Epoch 2/2\n",
      "1000/1000 [==============================] - 1s 537us/sample - loss: 1.9840 - acc: 0.7360 - val_loss: 1.8774 - val_acc: 0.7553\n",
      "Test accuracy: 82.98% with regularizer:0.001\n",
      "              precision    recall  f1-score   support\n",
      "\n",
      "           0       0.77      0.84      0.80      1000\n",
      "           1       0.90      0.81      0.85      1000\n",
      "           2       0.79      0.91      0.84      1000\n",
      "           3       0.81      0.88      0.84      1000\n",
      "           4       0.89      0.76      0.82      1000\n",
      "           5       0.76      0.92      0.83      1000\n",
      "           6       0.91      0.78      0.84      1000\n",
      "           7       0.91      0.80      0.85      1000\n",
      "           8       0.78      0.84      0.81      1000\n",
      "           9       0.85      0.77      0.80      1000\n",
      "\n",
      "    accuracy                           0.83     10000\n",
      "   macro avg       0.84      0.83      0.83     10000\n",
      "weighted avg       0.84      0.83      0.83     10000\n",
      "\n"
     ]
    }
   ],
   "source": [
    "nn_model, _ = train_mnist(X_train=train_dataset[:1000,:], y_train = train_labels[:1000,:],regularizer=.001)"
   ]
  },
  {
   "cell_type": "markdown",
   "metadata": {},
   "source": [
    "Test accuracy is lower due to overfitting."
   ]
  },
  {
   "cell_type": "markdown",
   "metadata": {
    "colab_type": "text",
    "id": "ww3SCBUdlkRc"
   },
   "source": [
    "---\n",
    "Problem 3\n",
    "---------\n",
    "Introduce Dropout on the hidden layer of the neural network. Remember: Dropout should only be introduced during training, not evaluation, otherwise your evaluation results would be stochastic as well. TensorFlow provides `nn.dropout()` for that, but you have to make sure it's only inserted during training.\n",
    "\n",
    "What happens to our extreme overfitting case?\n",
    "\n",
    "---"
   ]
  },
  {
   "cell_type": "code",
   "execution_count": 146,
   "metadata": {},
   "outputs": [
    {
     "name": "stdout",
     "output_type": "stream",
     "text": [
      "Train on 200000 samples, validate on 10000 samples\n",
      "Epoch 1/2\n",
      "200000/200000 [==============================] - 17s 83us/sample - loss: 0.7475 - acc: 0.7993 - val_loss: 0.6105 - val_acc: 0.8295\n",
      "Epoch 2/2\n",
      "200000/200000 [==============================] - 16s 78us/sample - loss: 0.5760 - acc: 0.8369 - val_loss: 0.5637 - val_acc: 0.8406\n",
      "Test accuracy: 90.85% with regularizer:0.0\n",
      "              precision    recall  f1-score   support\n",
      "\n",
      "           0       0.93      0.92      0.92      1000\n",
      "           1       0.91      0.89      0.90      1000\n",
      "           2       0.91      0.94      0.93      1000\n",
      "           3       0.93      0.92      0.92      1000\n",
      "           4       0.93      0.88      0.90      1000\n",
      "           5       0.92      0.93      0.92      1000\n",
      "           6       0.91      0.91      0.91      1000\n",
      "           7       0.93      0.90      0.91      1000\n",
      "           8       0.87      0.88      0.87      1000\n",
      "           9       0.86      0.93      0.89      1000\n",
      "\n",
      "    accuracy                           0.91     10000\n",
      "   macro avg       0.91      0.91      0.91     10000\n",
      "weighted avg       0.91      0.91      0.91     10000\n",
      "\n"
     ]
    }
   ],
   "source": [
    "nn_model, nn_history = train_mnist()"
   ]
  },
  {
   "cell_type": "code",
   "execution_count": 170,
   "metadata": {},
   "outputs": [
    {
     "name": "stdout",
     "output_type": "stream",
     "text": [
      "Train on 200000 samples, validate on 10000 samples\n",
      "Epoch 1/2\n",
      "200000/200000 [==============================] - 18s 89us/sample - loss: 0.5876 - acc: 0.8310 - val_loss: 0.4786 - val_acc: 0.8631\n",
      "Epoch 2/2\n",
      "200000/200000 [==============================] - 17s 85us/sample - loss: 0.4820 - acc: 0.8598 - val_loss: 0.4295 - val_acc: 0.8802\n",
      "Test accuracy: 93.73% with regularizer:0.0\n",
      "              precision    recall  f1-score   support\n",
      "\n",
      "           0       0.94      0.95      0.95      1000\n",
      "           1       0.94      0.93      0.93      1000\n",
      "           2       0.94      0.96      0.95      1000\n",
      "           3       0.93      0.95      0.94      1000\n",
      "           4       0.96      0.92      0.94      1000\n",
      "           5       0.96      0.95      0.95      1000\n",
      "           6       0.92      0.94      0.93      1000\n",
      "           7       0.95      0.94      0.94      1000\n",
      "           8       0.93      0.90      0.91      1000\n",
      "           9       0.91      0.95      0.93      1000\n",
      "\n",
      "    accuracy                           0.94     10000\n",
      "   macro avg       0.94      0.94      0.94     10000\n",
      "weighted avg       0.94      0.94      0.94     10000\n",
      "\n"
     ]
    }
   ],
   "source": [
    "nn_model, _ = train_mnist(dropout=True)"
   ]
  },
  {
   "cell_type": "code",
   "execution_count": 171,
   "metadata": {},
   "outputs": [
    {
     "name": "stdout",
     "output_type": "stream",
     "text": [
      "Train on 200000 samples, validate on 10000 samples\n",
      "Epoch 1/2\n",
      "200000/200000 [==============================] - 22s 109us/sample - loss: 1.2888 - acc: 0.8313 - val_loss: 1.0201 - val_acc: 0.8598\n",
      "Epoch 2/2\n",
      "200000/200000 [==============================] - 21s 104us/sample - loss: 0.9063 - acc: 0.8566 - val_loss: 0.7808 - val_acc: 0.8690\n",
      "Test accuracy: 92.87% with regularizer:0.001\n",
      "              precision    recall  f1-score   support\n",
      "\n",
      "           0       0.96      0.94      0.95      1000\n",
      "           1       0.92      0.93      0.92      1000\n",
      "           2       0.93      0.95      0.94      1000\n",
      "           3       0.93      0.93      0.93      1000\n",
      "           4       0.95      0.92      0.93      1000\n",
      "           5       0.93      0.95      0.94      1000\n",
      "           6       0.92      0.93      0.92      1000\n",
      "           7       0.97      0.91      0.94      1000\n",
      "           8       0.92      0.89      0.90      1000\n",
      "           9       0.87      0.95      0.91      1000\n",
      "\n",
      "    accuracy                           0.93     10000\n",
      "   macro avg       0.93      0.93      0.93     10000\n",
      "weighted avg       0.93      0.93      0.93     10000\n",
      "\n"
     ]
    }
   ],
   "source": [
    "nn_model, _ = train_mnist(dropout=True, regularizer=.001)"
   ]
  },
  {
   "cell_type": "markdown",
   "metadata": {},
   "source": [
    "Dropout did a great job on avoiding overfitting."
   ]
  },
  {
   "cell_type": "markdown",
   "metadata": {
    "colab_type": "text",
    "id": "-b1hTz3VWZjw"
   },
   "source": [
    "---\n",
    "Problem 4\n",
    "---------\n",
    "\n",
    "Try to get the best performance you can using a multi-layer model! The best reported test accuracy using a deep network is [97.1%](http://yaroslavvb.blogspot.com/2011/09/notmnist-dataset.html?showComment=1391023266211#c8758720086795711595).\n",
    "\n",
    "One avenue you can explore is to add multiple layers.\n",
    "\n",
    "Another one is to use learning rate decay:\n",
    "\n",
    "    global_step = tf.Variable(0)  # count the number of steps taken.\n",
    "    learning_rate = tf.train.exponential_decay(0.5, global_step, ...)\n",
    "    optimizer = tf.train.GradientDescentOptimizer(learning_rate).minimize(loss, global_step=global_step)\n",
    " \n",
    " ---\n"
   ]
  },
  {
   "cell_type": "code",
   "execution_count": 296,
   "metadata": {},
   "outputs": [],
   "source": [
    "# EarlyStopping's monitor should use validation_data's params, like val_loss or val_acc.\n",
    "stop_callback = keras.callbacks.EarlyStopping(monitor='val_acc', mode='max', patience=2)\n",
    "checkpoint_path='checkpoint/nn_model.ckpt'\n",
    "checkpoint = keras.callbacks.ModelCheckpoint(checkpoint_path,\n",
    "                                            monitor='val_acc',\n",
    "                                            verbose=1,\n",
    "                                            save_best_only=True,\n",
    "                                            load_weights_on_restart=True)"
   ]
  },
  {
   "cell_type": "code",
   "execution_count": 277,
   "metadata": {},
   "outputs": [
    {
     "name": "stdout",
     "output_type": "stream",
     "text": [
      "Train on 200000 samples, validate on 10000 samples\n",
      "Epoch 1/2\n",
      "199168/200000 [============================>.] - ETA: 0s - loss: 0.1163 - acc: 0.9599\n",
      "Epoch 00001: val_acc improved from -inf to 0.91080, saving model to checkpoint/nn_model.ckpt\n",
      "200000/200000 [==============================] - 12s 62us/sample - loss: 0.1162 - acc: 0.9599 - val_loss: 0.5095 - val_acc: 0.9108\n",
      "Epoch 2/2\n",
      "199936/200000 [============================>.] - ETA: 0s - loss: 0.1119 - acc: 0.9614\n",
      "Epoch 00002: val_acc improved from 0.91080 to 0.91140, saving model to checkpoint/nn_model.ckpt\n",
      "200000/200000 [==============================] - 12s 61us/sample - loss: 0.1119 - acc: 0.9614 - val_loss: 0.5149 - val_acc: 0.9114\n",
      "Test accuracy: 95.98% with regularizer: 0.0\n",
      "              precision    recall  f1-score   support\n",
      "\n",
      "           0       0.96      0.96      0.96      1000\n",
      "           1       0.95      0.96      0.96      1000\n",
      "           2       0.96      0.96      0.96      1000\n",
      "           3       0.97      0.97      0.97      1000\n",
      "           4       0.96      0.95      0.96      1000\n",
      "           5       0.97      0.96      0.97      1000\n",
      "           6       0.95      0.96      0.95      1000\n",
      "           7       0.97      0.95      0.96      1000\n",
      "           8       0.94      0.95      0.94      1000\n",
      "           9       0.96      0.97      0.96      1000\n",
      "\n",
      "    accuracy                           0.96     10000\n",
      "   macro avg       0.96      0.96      0.96     10000\n",
      "weighted avg       0.96      0.96      0.96     10000\n",
      "\n"
     ]
    }
   ],
   "source": [
    "nn_model, _ = train_mnist(multiple_nn=True, dropout=True, callback=[stop_callback, checkpoint])"
   ]
  },
  {
   "cell_type": "markdown",
   "metadata": {},
   "source": [
    "now try decay learning rate."
   ]
  },
  {
   "cell_type": "code",
   "execution_count": 281,
   "metadata": {},
   "outputs": [
    {
     "name": "stdout",
     "output_type": "stream",
     "text": [
      "Train on 200000 samples, validate on 10000 samples\n",
      "Epoch 1/10\n",
      "199424/200000 [============================>.] - ETA: 0s - loss: 0.1030 - acc: 0.9647\n",
      "Epoch 00001: val_acc did not improve from 0.91140\n",
      "200000/200000 [==============================] - 12s 62us/sample - loss: 0.1030 - acc: 0.9647 - val_loss: 0.5373 - val_acc: 0.9100\n",
      "Epoch 2/10\n",
      "199936/200000 [============================>.] - ETA: 0s - loss: 0.0995 - acc: 0.9659\n",
      "Epoch 00002: val_acc did not improve from 0.91140\n",
      "200000/200000 [==============================] - 12s 62us/sample - loss: 0.0995 - acc: 0.9660 - val_loss: 0.5499 - val_acc: 0.9112\n",
      "Epoch 3/10\n",
      "199552/200000 [============================>.] - ETA: 0s - loss: 0.1046 - acc: 0.9635\n",
      "Epoch 00003: val_acc did not improve from 0.91140\n",
      "200000/200000 [==============================] - 12s 61us/sample - loss: 0.1046 - acc: 0.9635 - val_loss: 0.5527 - val_acc: 0.9103\n",
      "Epoch 4/10\n",
      "199168/200000 [============================>.] - ETA: 0s - loss: 0.1012 - acc: 0.9651\n",
      "Epoch 00004: val_acc did not improve from 0.91140\n",
      "200000/200000 [==============================] - 12s 61us/sample - loss: 0.1011 - acc: 0.9652 - val_loss: 0.5683 - val_acc: 0.9109\n",
      "Test accuracy: 96.01% with regularizer: 0.0\n",
      "              precision    recall  f1-score   support\n",
      "\n",
      "           0       0.96      0.96      0.96      1000\n",
      "           1       0.96      0.96      0.96      1000\n",
      "           2       0.96      0.97      0.96      1000\n",
      "           3       0.98      0.97      0.97      1000\n",
      "           4       0.95      0.95      0.95      1000\n",
      "           5       0.98      0.96      0.97      1000\n",
      "           6       0.94      0.95      0.95      1000\n",
      "           7       0.97      0.96      0.96      1000\n",
      "           8       0.94      0.95      0.95      1000\n",
      "           9       0.96      0.96      0.96      1000\n",
      "\n",
      "    accuracy                           0.96     10000\n",
      "   macro avg       0.96      0.96      0.96     10000\n",
      "weighted avg       0.96      0.96      0.96     10000\n",
      "\n"
     ]
    }
   ],
   "source": [
    "initial_learning_rate = .1\n",
    "lr_schedule = keras.optimizers.schedules.ExponentialDecay(initial_learning_rate,\n",
    "                                                        decay_steps = 10000,\n",
    "                                                        decay_rate = .96,\n",
    "                                                        staircase = True)\n",
    "nn_model, _ = train_mnist(multiple_nn=True, dropout=True, \n",
    "                          epochs=10, learning_rate=lr_schedule,\n",
    "                         callback=[stop_callback, checkpoint])"
   ]
  },
  {
   "cell_type": "code",
   "execution_count": 282,
   "metadata": {},
   "outputs": [
    {
     "name": "stdout",
     "output_type": "stream",
     "text": [
      "Train on 200000 samples, validate on 10000 samples\n",
      "Epoch 1/10\n",
      "199680/200000 [============================>.] - ETA: 0s - loss: 0.0987 - acc: 0.9664\n",
      "Epoch 00001: val_acc did not improve from 0.91140\n",
      "200000/200000 [==============================] - 12s 62us/sample - loss: 0.0987 - acc: 0.9664 - val_loss: 0.5307 - val_acc: 0.9092\n",
      "Epoch 2/10\n",
      "199680/200000 [============================>.] - ETA: 0s - loss: 0.0940 - acc: 0.9680\n",
      "Epoch 00002: val_acc did not improve from 0.91140\n",
      "200000/200000 [==============================] - 12s 60us/sample - loss: 0.0940 - acc: 0.9680 - val_loss: 0.5422 - val_acc: 0.9114\n",
      "Epoch 3/10\n",
      "199296/200000 [============================>.] - ETA: 0s - loss: 0.0933 - acc: 0.9681\n",
      "Epoch 00003: val_acc did not improve from 0.91140\n",
      "200000/200000 [==============================] - 12s 60us/sample - loss: 0.0933 - acc: 0.9680 - val_loss: 0.5618 - val_acc: 0.9092\n",
      "Epoch 4/10\n",
      "199424/200000 [============================>.] - ETA: 0s - loss: 0.0898 - acc: 0.9697\n",
      "Epoch 00004: val_acc did not improve from 0.91140\n",
      "200000/200000 [==============================] - 12s 59us/sample - loss: 0.0898 - acc: 0.9697 - val_loss: 0.5740 - val_acc: 0.9110\n",
      "Test accuracy: 95.89% with regularizer: 0.0\n",
      "              precision    recall  f1-score   support\n",
      "\n",
      "           0       0.96      0.96      0.96      1000\n",
      "           1       0.95      0.96      0.95      1000\n",
      "           2       0.96      0.97      0.96      1000\n",
      "           3       0.98      0.97      0.97      1000\n",
      "           4       0.95      0.95      0.95      1000\n",
      "           5       0.97      0.96      0.97      1000\n",
      "           6       0.94      0.95      0.95      1000\n",
      "           7       0.97      0.95      0.96      1000\n",
      "           8       0.95      0.95      0.95      1000\n",
      "           9       0.96      0.96      0.96      1000\n",
      "\n",
      "    accuracy                           0.96     10000\n",
      "   macro avg       0.96      0.96      0.96     10000\n",
      "weighted avg       0.96      0.96      0.96     10000\n",
      "\n"
     ]
    }
   ],
   "source": [
    "nn_model, _ = train_mnist(multiple_nn=True, dropout=True, dropout_rate=.3, epochs=10,learning_rate=lr_schedule,\n",
    "                         callback=[stop_callback, checkpoint])"
   ]
  },
  {
   "cell_type": "code",
   "execution_count": 285,
   "metadata": {},
   "outputs": [
    {
     "name": "stdout",
     "output_type": "stream",
     "text": [
      "Train on 200000 samples, validate on 10000 samples\n",
      "Epoch 1/10\n",
      "199648/200000 [============================>.] - ETA: 0s - loss: 0.1546 - acc: 0.9492\n",
      "Epoch 00001: val_acc did not improve from 0.91150\n",
      "200000/200000 [==============================] - 27s 137us/sample - loss: 0.1546 - acc: 0.9492 - val_loss: 0.4004 - val_acc: 0.9069\n",
      "Epoch 2/10\n",
      "199616/200000 [============================>.] - ETA: 0s - loss: 0.1535 - acc: 0.9487\n",
      "Epoch 00002: val_acc did not improve from 0.91150\n",
      "200000/200000 [==============================] - 27s 134us/sample - loss: 0.1534 - acc: 0.9488 - val_loss: 0.4086 - val_acc: 0.9087\n",
      "Epoch 3/10\n",
      "199968/200000 [============================>.] - ETA: 0s - loss: 0.1489 - acc: 0.9504\n",
      "Epoch 00003: val_acc did not improve from 0.91150\n",
      "200000/200000 [==============================] - 27s 136us/sample - loss: 0.1489 - acc: 0.9504 - val_loss: 0.4230 - val_acc: 0.9077\n",
      "Epoch 4/10\n",
      "199904/200000 [============================>.] - ETA: 0s - loss: 0.1430 - acc: 0.9518\n",
      "Epoch 00004: val_acc did not improve from 0.91150\n",
      "200000/200000 [==============================] - 27s 134us/sample - loss: 0.1430 - acc: 0.9518 - val_loss: 0.4329 - val_acc: 0.9083\n",
      "Test accuracy: 95.74% with regularizer: 0.0\n",
      "              precision    recall  f1-score   support\n",
      "\n",
      "           0       0.97      0.96      0.96      1000\n",
      "           1       0.96      0.96      0.96      1000\n",
      "           2       0.96      0.97      0.96      1000\n",
      "           3       0.97      0.96      0.97      1000\n",
      "           4       0.96      0.95      0.95      1000\n",
      "           5       0.97      0.96      0.97      1000\n",
      "           6       0.94      0.96      0.95      1000\n",
      "           7       0.97      0.95      0.96      1000\n",
      "           8       0.94      0.94      0.94      1000\n",
      "           9       0.94      0.96      0.95      1000\n",
      "\n",
      "    accuracy                           0.96     10000\n",
      "   macro avg       0.96      0.96      0.96     10000\n",
      "weighted avg       0.96      0.96      0.96     10000\n",
      "\n"
     ]
    }
   ],
   "source": [
    "nn_model, _ = train_mnist(multiple_nn=True, dropout=True, dropout_rate=.3, epochs=10,learning_rate=lr_schedule,\n",
    "                          batch_size=32,\n",
    "                         callback=[stop_callback, checkpoint])"
   ]
  },
  {
   "cell_type": "markdown",
   "metadata": {},
   "source": [
    "try a whole new structure"
   ]
  },
  {
   "cell_type": "code",
   "execution_count": null,
   "metadata": {},
   "outputs": [],
   "source": [
    "reset_graph()\n",
    "checkpoint_path = 'checkpoint/nn_model_final.ckpt'\n",
    "checkpoint = keras.callbacks.ModelCheckpoint(checkpoint_path,\n",
    "                                            monitor='val_acc',\n",
    "                                            verbose=1,\n",
    "                                            save_best_only=True,\n",
    "                                            load_weights_on_restart=True)\n",
    "model_final = keras.models.Sequential([\n",
    "    keras.layers.Dense(4*784, input_shape=(784,), activation=tf.nn.relu),\n",
    "    keras.layers.Dropout(.5),\n",
    "    keras.layers.Dense(2*784, activation=tf.nn.relu),\n",
    "    keras.layers.Dropout(.5),\n",
    "    keras.layers.Dense(784, activation=tf.nn.relu),\n",
    "    keras.layers.Dropout(.5),\n",
    "    keras.layers.Dense(10, activation=tf.nn.softmax)\n",
    "])\n",
    "\n",
    "model_final.compile(optimizer=tf.keras.optimizers.SGD(learning_rate=lr_schedule),\n",
    "                    loss='categorical_crossentropy',\n",
    "                    metrics=['accuracy'])\n",
    "\n",
    "model_final.fit(train_dataset, train_labels, batch_size=1024,\n",
    "                validation_data=(valid_dataset, valid_labels),\n",
    "                epochs=1000,\n",
    "                callbacks=[stop_callback, checkpoint])"
   ]
  },
  {
   "cell_type": "code",
   "execution_count": 300,
   "metadata": {},
   "outputs": [
    {
     "name": "stdout",
     "output_type": "stream",
     "text": [
      "10000/10000 [==============================] - 4s 439us/sample - loss: 0.1437 - acc: 0.9588\n"
     ]
    },
    {
     "data": {
      "text/plain": [
       "[0.14367311419695616, 0.9588]"
      ]
     },
     "execution_count": 300,
     "metadata": {},
     "output_type": "execute_result"
    }
   ],
   "source": [
    "model_final.evaluate(test_dataset, test_labels)"
   ]
  },
  {
   "cell_type": "markdown",
   "metadata": {},
   "source": [
    "1 hour trainging with complicated structure seems not that powerful as expected.\n",
    "\n",
    "maybe more training data is needed.\n",
    "\n",
    "datasets from example is 200k, while notMNIST dataset got 520k training data, higher accuracy need more data, perhaps?\n",
    "\n",
    "implemented on service or with GPU is an option."
   ]
  },
  {
   "cell_type": "markdown",
   "metadata": {},
   "source": [
    "use CNN will have better result.implement it later."
   ]
  },
  {
   "cell_type": "markdown",
   "metadata": {},
   "source": [
    "get all datasets."
   ]
  },
  {
   "cell_type": "code",
   "execution_count": 45,
   "metadata": {},
   "outputs": [],
   "source": [
    "summary = np.zeros((1,28,28))\n",
    "summary_labels = np.zeros(1)\n",
    "\n",
    "test_summary = np.zeros((1, 28, 28))\n",
    "test_summary_labels = np.zeros(1)\n",
    "\n",
    "for p in os.listdir(train_file):\n",
    "    pickle_path = os.path.join(train_file, p)\n",
    "    if os.path.isfile(pickle_path):\n",
    "        index = 'ABCDEFGHIJ'.index(os.path.splitext(pickle_path)[0][-1])\n",
    "        with open(pickle_path, 'rb') as f:\n",
    "            temp = pickle.load(f)\n",
    "            size = temp.shape[0]\n",
    "            summary = np.r_[summary, temp]\n",
    "            summary_labels = np.r_[summary_labels, np.full((size,),index)]\n",
    "\n",
    "\n",
    "for p in os.listdir(test_file):\n",
    "    pickle_path = os.path.join(test_file, p)\n",
    "    if os.path.isfile(pickle_path):\n",
    "        index = 'ABCDEFGHIJ'.index(os.path.splitext(pickle_path)[0][-1])\n",
    "        with open(pickle_path, 'rb') as f:\n",
    "            temp = pickle.load(f)\n",
    "            size = temp.shape[0]\n",
    "            test_summary = np.r_[test_summary, temp]\n",
    "            test_summary_labels = np.r_[test_summary_labels, np.full((size,),index)]"
   ]
  },
  {
   "cell_type": "code",
   "execution_count": 3,
   "metadata": {},
   "outputs": [],
   "source": [
    "train_file = r\"D:\\Github\\NLP\\Artificial_Intelligence_for_NLP\\Week_09_0831_kmeans_NN\\assignments\\notMNIST_large\"\n",
    "test_file = r\"D:\\Github\\NLP\\Artificial_Intelligence_for_NLP\\Week_09_0831_kmeans_NN\\assignments\\notMNIST_small\""
   ]
  },
  {
   "cell_type": "code",
   "execution_count": 45,
   "metadata": {},
   "outputs": [],
   "source": [
    "summary = np.zeros((1,28,28))\n",
    "summary_labels = np.zeros(1)\n",
    "\n",
    "test_summary = np.zeros((1, 28, 28))\n",
    "test_summary_labels = np.zeros(1)\n",
    "\n",
    "for p in os.listdir(train_file):\n",
    "    pickle_path = os.path.join(train_file, p)\n",
    "    if os.path.isfile(pickle_path):\n",
    "        index = 'ABCDEFGHIJ'.index(os.path.splitext(pickle_path)[0][-1])\n",
    "        with open(pickle_path, 'rb') as f:\n",
    "            temp = pickle.load(f)\n",
    "            size = temp.shape[0]\n",
    "            summary = np.r_[summary, temp]\n",
    "            summary_labels = np.r_[summary_labels, np.full((size,),index)]\n",
    "\n",
    "\n",
    "for p in os.listdir(test_file):\n",
    "    pickle_path = os.path.join(test_file, p)\n",
    "    if os.path.isfile(pickle_path):\n",
    "        index = 'ABCDEFGHIJ'.index(os.path.splitext(pickle_path)[0][-1])\n",
    "        with open(pickle_path, 'rb') as f:\n",
    "            temp = pickle.load(f)\n",
    "            size = temp.shape[0]\n",
    "            test_summary = np.r_[test_summary, temp]\n",
    "            test_summary_labels = np.r_[test_summary_labels, np.full((size,),index)]"
   ]
  },
  {
   "cell_type": "markdown",
   "metadata": {},
   "source": [
    "save data."
   ]
  },
  {
   "cell_type": "code",
   "execution_count": 49,
   "metadata": {},
   "outputs": [],
   "source": [
    "with open('allMNIST.pickle', 'wb') as f:\n",
    "    save = {\n",
    "        'train_dataset': summary[1:],\n",
    "        'train_labels': summary_labels[1:],\n",
    "        'test_dataset': test_summary[1:],\n",
    "        'test_labels': test_summary_labels[1:]\n",
    "    }\n",
    "    pickle.dump(save, f, pickle.HIGHEST_PROTOCOL)"
   ]
  },
  {
   "cell_type": "markdown",
   "metadata": {},
   "source": [
    "load data."
   ]
  },
  {
   "cell_type": "code",
   "execution_count": 6,
   "metadata": {},
   "outputs": [],
   "source": [
    "from sklearn.preprocessing import OneHotEncoder"
   ]
  },
  {
   "cell_type": "code",
   "execution_count": 7,
   "metadata": {},
   "outputs": [],
   "source": [
    "with open('allMNIST.pickle', 'rb') as f:\n",
    "    save = pickle.load(f)\n",
    "    train_dataset = save['train_dataset']\n",
    "    train_labels = save['train_labels']\n",
    "    test_dataset = save['test_dataset']\n",
    "    test_labels = save['test_labels']\n",
    "    del save\n",
    "\n",
    "\n",
    "def shuffle(dataset, labels):\n",
    "    permutation = np.random.permutation(labels.shape[0])\n",
    "    shuffled_dataset = dataset[permutation, :, :]\n",
    "    shuffled_labels = labels[permutation]\n",
    "    return shuffled_dataset, shuffled_labels\n",
    "\n",
    "\n",
    "train_dataset, train_labels = shuffle(train_dataset, train_labels)\n",
    "test_dataset, test_labels = shuffle(test_dataset, test_labels)\n",
    "encoder = OneHotEncoder(categories='auto')\n",
    "train_labels_1hot = encoder.fit_transform(train_labels.reshape(-1,1)).toarray()\n",
    "test_labels_1hot = encoder.fit_transform(test_labels.reshape(-1,1)).toarray()\n",
    "train_flatten = train_dataset.reshape(-1, 784)\n",
    "test_flatten = test_dataset.reshape(-1, 784)"
   ]
  },
  {
   "cell_type": "code",
   "execution_count": 8,
   "metadata": {},
   "outputs": [
    {
     "data": {
      "text/plain": [
       "((529114, 28, 28), (529114,), (18724, 28, 28), (18724,))"
      ]
     },
     "execution_count": 8,
     "metadata": {},
     "output_type": "execute_result"
    }
   ],
   "source": [
    "train_dataset.shape, train_labels.shape, test_dataset.shape, test_labels.shape"
   ]
  },
  {
   "cell_type": "code",
   "execution_count": null,
   "metadata": {},
   "outputs": [],
   "source": []
  },
  {
   "cell_type": "code",
   "execution_count": null,
   "metadata": {},
   "outputs": [],
   "source": []
  }
 ],
 "metadata": {
  "colab": {
   "default_view": {},
   "name": "3_regularization.ipynb",
   "provenance": [],
   "toc_visible": true,
   "version": "0.3.2",
   "views": {}
  },
  "kernelspec": {
   "display_name": "Python 3",
   "language": "python",
   "name": "python3"
  },
  "language_info": {
   "codemirror_mode": {
    "name": "ipython",
    "version": 3
   },
   "file_extension": ".py",
   "mimetype": "text/x-python",
   "name": "python",
   "nbconvert_exporter": "python",
   "pygments_lexer": "ipython3",
   "version": "3.6.2"
  }
 },
 "nbformat": 4,
 "nbformat_minor": 4
}
