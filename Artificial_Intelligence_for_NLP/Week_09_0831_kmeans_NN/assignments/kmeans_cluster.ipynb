{
 "cells": [
  {
   "cell_type": "code",
   "execution_count": 1,
   "metadata": {},
   "outputs": [],
   "source": [
    "import numpy as np\n",
    "import pandas as pd"
   ]
  },
  {
   "cell_type": "code",
   "execution_count": 8,
   "metadata": {},
   "outputs": [],
   "source": [
    "df = pd.read_csv(\"D:\\\\Github\\\\NLP\\\\Artificial_Intelligence_for_NLP\\\\Week_08_0824_svm_naive_bayes_decision_tree\\\\Assignment\\\\cleaned_data.csv\", \n",
    "                 index_col=0)\n",
    "df.dropna(inplace=True)\n",
    "df.reset_index(drop=True, inplace=True)"
   ]
  },
  {
   "cell_type": "code",
   "execution_count": 9,
   "metadata": {},
   "outputs": [
    {
     "data": {
      "text/html": [
       "<div>\n",
       "<style scoped>\n",
       "    .dataframe tbody tr th:only-of-type {\n",
       "        vertical-align: middle;\n",
       "    }\n",
       "\n",
       "    .dataframe tbody tr th {\n",
       "        vertical-align: top;\n",
       "    }\n",
       "\n",
       "    .dataframe thead th {\n",
       "        text-align: right;\n",
       "    }\n",
       "</style>\n",
       "<table border=\"1\" class=\"dataframe\">\n",
       "  <thead>\n",
       "    <tr style=\"text-align: right;\">\n",
       "      <th></th>\n",
       "      <th>content</th>\n",
       "      <th>label</th>\n",
       "      <th>content_cut</th>\n",
       "    </tr>\n",
       "  </thead>\n",
       "  <tbody>\n",
       "    <tr>\n",
       "      <th>86858</th>\n",
       "      <td>新华社照片，多伦多，2017年6月7日\\n（体育）（2）冰球——国家女子冰球队海外选秀在多伦...</td>\n",
       "      <td>1</td>\n",
       "      <td>新华社 照片 多伦多 2017年 6月 7日 体育 2 冰球 国家 女子 冰球队 海外 选秀...</td>\n",
       "    </tr>\n",
       "    <tr>\n",
       "      <th>86859</th>\n",
       "      <td>新华社兰州6月3日电（王衡、徐丹）记者从甘肃省交通运输厅获悉，甘肃近日集中开建高速公路、普通...</td>\n",
       "      <td>1</td>\n",
       "      <td>新华社 兰州 6月 3日 电 王衡 徐丹 记者 从 甘肃省 交通 运输厅 获悉 甘肃 近日 ...</td>\n",
       "    </tr>\n",
       "    <tr>\n",
       "      <th>86860</th>\n",
       "      <td>\\n\\n2017年5月29日，在法国巴黎郊外的凡尔赛宫，法国总统马克龙出席新闻发布会。（新华...</td>\n",
       "      <td>1</td>\n",
       "      <td>n2017 年 5月 29日 在 法国 巴黎 郊外 的 凡尔赛宫 法国 总统 马克龙 出席 ...</td>\n",
       "    </tr>\n",
       "    <tr>\n",
       "      <th>86861</th>\n",
       "      <td>\\n\\n2017年5月25日，在美国马萨诸塞州剑桥市，哈佛大学毕业生在毕业典礼上欢呼。（新华...</td>\n",
       "      <td>1</td>\n",
       "      <td>n2017 年 5月 25日 在 美国 马萨诸塞州 剑桥市 哈佛 大学 毕业生 在 毕业 典...</td>\n",
       "    </tr>\n",
       "    <tr>\n",
       "      <th>86862</th>\n",
       "      <td>新华社德国杜塞尔多夫６月６日电题：乒乓女球迷　\\n　　新华社记者王子江、张寒\\n　　熊老...</td>\n",
       "      <td>1</td>\n",
       "      <td>新华社 德国 杜塞尔多夫 ６月 ６日 电 题 乒乓 女 球迷 新华社 记者 王子江 张寒 熊...</td>\n",
       "    </tr>\n",
       "  </tbody>\n",
       "</table>\n",
       "</div>"
      ],
      "text/plain": [
       "                                                 content  label  \\\n",
       "86858  新华社照片，多伦多，2017年6月7日\\n（体育）（2）冰球——国家女子冰球队海外选秀在多伦...      1   \n",
       "86859  新华社兰州6月3日电（王衡、徐丹）记者从甘肃省交通运输厅获悉，甘肃近日集中开建高速公路、普通...      1   \n",
       "86860  \\n\\n2017年5月29日，在法国巴黎郊外的凡尔赛宫，法国总统马克龙出席新闻发布会。（新华...      1   \n",
       "86861  \\n\\n2017年5月25日，在美国马萨诸塞州剑桥市，哈佛大学毕业生在毕业典礼上欢呼。（新华...      1   \n",
       "86862  　　新华社德国杜塞尔多夫６月６日电题：乒乓女球迷　\\n　　新华社记者王子江、张寒\\n　　熊老...      1   \n",
       "\n",
       "                                             content_cut  \n",
       "86858  新华社 照片 多伦多 2017年 6月 7日 体育 2 冰球 国家 女子 冰球队 海外 选秀...  \n",
       "86859  新华社 兰州 6月 3日 电 王衡 徐丹 记者 从 甘肃省 交通 运输厅 获悉 甘肃 近日 ...  \n",
       "86860  n2017 年 5月 29日 在 法国 巴黎 郊外 的 凡尔赛宫 法国 总统 马克龙 出席 ...  \n",
       "86861  n2017 年 5月 25日 在 美国 马萨诸塞州 剑桥市 哈佛 大学 毕业生 在 毕业 典...  \n",
       "86862  新华社 德国 杜塞尔多夫 ６月 ６日 电 题 乒乓 女 球迷 新华社 记者 王子江 张寒 熊...  "
      ]
     },
     "execution_count": 9,
     "metadata": {},
     "output_type": "execute_result"
    }
   ],
   "source": [
    "df.tail()"
   ]
  },
  {
   "cell_type": "code",
   "execution_count": 10,
   "metadata": {},
   "outputs": [
    {
     "data": {
      "text/plain": [
       "1    78472\n",
       "0     8391\n",
       "Name: label, dtype: int64"
      ]
     },
     "execution_count": 10,
     "metadata": {},
     "output_type": "execute_result"
    }
   ],
   "source": [
    "df.label.value_counts()"
   ]
  },
  {
   "cell_type": "code",
   "execution_count": 26,
   "metadata": {},
   "outputs": [],
   "source": [
    "with open('test', 'wb') as f:\n",
    "    f.write(df.content[:10].to_string().encode('utf-8'))"
   ]
  },
  {
   "cell_type": "code",
   "execution_count": 85,
   "metadata": {},
   "outputs": [
    {
     "name": "stdout",
     "output_type": "stream",
     "text": [
      "b'0    \\xe6\\xad\\xa4\\xe5\\xa4\\x96\\xef\\xbc\\x8c\\xe8\\x87\\xaa\\xe6\\x9c\\xac\\xe5\\x91\\xa8\\xef\\xbc\\x886\\xe6\\x9c\\x8812\\xe6\\x97\\xa5\\xef\\xbc\\x89\\xe8\\xb5\\xb7\\xef\\xbc\\x8c\\xe9\\x99\\xa4\\xe5\\xb0\\x8f\\xe7\\xb1\\xb3\\xe6\\x89\\x8b\\xe6\\x9c\\xba6\\xe7\\xad\\x8915\\xe6\\xac\\xbe\\xe6\\x9c\\xba\\xe5\\x9e\\x8b\\xe5\\xa4\\x96\\xef\\xbc\\x8c\\xe5\\x85\\xb6\\xe4\\xbd\\x99\\xe6\\x9c\\xba\\xe5\\x9e\\x8b\\xe5\\xb7\\xb2\\xe6\\x9a\\x82\\xe5\\x81\\x9c\\xe6\\x9b\\xb4\\xe6\\x96\\xb0\\xe5\\x8f\\x91\\xe5\\xb8\\x83\\xef\\xbc\\x88\\xe5\\x90\\xab\\xe5\\xbc\\x80\\xe5\\x8f\\x91\\xe7\\x89\\x88/...\\n1    \\xe9\\xaa\\x81\\xe9\\xbe\\x99835\\xe4\\xbd\\x9c\\xe4\\xb8\\xba\\xe5\\x94\\xaf\\xe4\\xb8\\x80\\xe9\\x80\\x9a\\xe8\\xbf\\x87Windows 10\\xe6\\xa1\\x8c\\xe9\\x9d\\xa2\\xe5\\xb9\\xb3\\xe5\\x8f\\xb0\\xe8\\xae\\xa4\\xe8\\xaf\\x81\\xe7\\x9a\\x84ARM\\xe5\\xa4\\x84\\xe7\\x90\\x86\\xe5\\x99\\xa8\\xef\\xbc\\x8c\\xe9\\xab\\x98\\xe9\\x80\\x9a\\xe5\\xbc\\xba\\xe8\\xb0\\x83\\xef\\xbc\\x8c\\xe4\\xb8\\x8d\\xe4\\xbc\\x9a\\xe5\\x9b\\xa0\\xe4\\xb8\\xba\\xe5\\x8f\\xaa\\xe8\\x80\\x83...\\n2    \\xe6\\xad\\xa4\\xe5\\x89\\x8d\\xe7\\x9a\\x84\\xe4\\xb8\\x80\\xe5\\x8a\\xa03T\\xe6\\x90\\xad\\xe8\\xbd\\xbd\\xe7\\x9a\\x84\\xe6\\x98\\xaf3400mAh\\xe7\\x94\\xb5\\xe6\\xb1\\xa0\\xef\\xbc\\x8cDashCharge\\xe5\\xbf\\xab\\xe5\\x85\\x85\\xe8\\xa7\\x84\\xe6\\xa0\\xbc\\xe4\\xb8\\xba5V/4A\\xe3\\x80\\x82\\\\r\\\\n...\\n3      \\xe8\\xbf\\x99\\xe6\\x98\\xaf6\\xe6\\x9c\\x8818\\xe6\\x97\\xa5\\xe5\\x9c\\xa8\\xe8\\x91\\xa1\\xe8\\x90\\x84\\xe7\\x89\\x99\\xe4\\xb8\\xad\\xe9\\x83\\xa8\\xe5\\xa4\\xa7\\xe4\\xbd\\xa9\\xe5\\xbe\\xb7\\xe7\\xbd\\x97\\xe5\\x86\\x88\\xe5\\x9c\\xb0\\xe5\\x8c\\xba\\xe6\\x8b\\x8d\\xe6\\x91\\x84\\xe7\\x9a\\x84\\xe8\\xa2\\xab\\xe6\\xa3\\xae\\xe6\\x9e\\x97\\xe5\\xa4\\xa7\\xe7\\x81\\xab\\xe7\\x83\\xa7\\xe6\\xaf\\x81\\xe7\\x9a\\x84\\xe6\\xb1\\xbd\\xe8\\xbd\\xa6\\xe3\\x80\\x82\\xe6\\x96\\xb0\\xe5\\x8d\\x8e\\xe7\\xa4\\xbe\\xe8\\xae\\xb0\\xe8\\x80\\x85\\xe5\\xbc\\xa0\\xe7\\xab\\x8b\\xe4\\xba\\x91\\xe6\\x91\\x84\\\\r\\\\n\\n4    \\xef\\xbc\\x88\\xe5\\x8e\\x9f\\xe6\\xa0\\x87\\xe9\\xa2\\x98\\xef\\xbc\\x9a44\\xe5\\xb2\\x81\\xe5\\xa5\\xb3\\xe5\\xad\\x90\\xe8\\xb7\\x91\\xe6\\xb7\\xb1\\xe5\\x9c\\xb3\\xe7\\xba\\xa6\\xe4\\xbc\\x9a\\xe7\\xbd\\x91\\xe5\\x8f\\x8b\\xe8\\xa2\\xab\\xe6\\x8b\\x92\\xef\\xbc\\x8c\\xe6\\x9a\\xb4\\xe9\\x9b\\xa8\\xe4\\xb8\\xad\\xe8\\xa3\\xb8\\xe8\\xba\\xab\\xe5\\xa5\\x94\\xe8\\xb5\\xb0\\xe2\\x80\\xa6\\xe2\\x80\\xa6\\xef\\xbc\\x89\\\\r\\\\n@\\xe6\\xb7\\xb1\\xe5\\x9c\\xb3\\xe4\\xba\\xa4\\xe8\\xad\\xa6\\xe5\\xbe\\xae\\xe5\\x8d\\x9a\\xe7\\xa7\\xb0\\xef\\xbc\\x9a\\xe6\\x98\\xa8\\xe6\\x97\\xa5\\xe6\\xb8\\x85...\\n5    \\xe3\\x80\\x80\\xe3\\x80\\x80\\xe5\\x8f\\x97\\xe5\\x88\\xb0A\\xe8\\x82\\xa1\\xe8\\xa2\\xab\\xe7\\xba\\xb3\\xe5\\x85\\xa5MSCI\\xe6\\x8c\\x87\\xe6\\x95\\xb0\\xe7\\x9a\\x84\\xe5\\x88\\xa9\\xe5\\xa5\\xbd\\xe6\\xb6\\x88\\xe6\\x81\\xaf\\xe5\\x88\\xba\\xe6\\xbf\\x80\\xef\\xbc\\x8cA\\xe8\\x82\\xa1\\xe5\\xb8\\x82\\xe5\\x9c\\xba\\xe4\\xbb\\x8e\\xe5\\x91\\xa8\\xe4\\xb8\\x89\\xe5\\xbc\\x80\\xe5\\xa7\\x8b\\xe5\\x86\\x8d\\xe5\\xba\\xa6\\xe4\\xb8\\x8a\\xe6\\xbc\\x94\\xe9\\xbe\\x99\\xe9\\xa9\\xac\\xe8\\xa1\\x8c\\xe6\\x83\\x85\\xef\\xbc\\x8c\\xe5\\x91\\xa8\\xe5\\x9b\\x9b\\xe4\\xb8\\x8a\\xe5\\x8d\\x88\\xe9\\x87\\x91...\\n6    \\xe8\\x99\\xbd\\xe7\\x84\\xb6\\xe8\\x87\\xb3\\xe4\\xbb\\x8a\\xe5\\xa4\\x8f\\xe6\\x99\\xae\\xe6\\x99\\xba\\xe8\\x83\\xbd\\xe6\\x89\\x8b\\xe6\\x9c\\xba\\xe5\\x9c\\xa8\\xe5\\xb8\\x82\\xe5\\x9c\\xba\\xe4\\xb8\\x8a\\xe6\\x97\\xa0\\xe6\\xb3\\x95\\xe6\\x8e\\x92\\xe5\\xbe\\x97\\xe4\\xb8\\x8a\\xe5\\x8f\\xb7\\xef\\xbc\\x8c\\xe5\\xb7\\xb2\\xe7\\xbb\\x8f\\xe5\\xae\\x8c\\xe5\\x85\\xa8\\xe6\\xb2\\xa1\\xe8\\x90\\xbd\\xef\\xbc\\x8c\\xe5\\xb9\\xb6\\xe4\\xba\\x8e 2013 \\xe5\\xb9\\xb4\\xe9\\x80\\x80\\xe5\\x87\\xba\\xe4\\xb8\\xad\\xe5\\x9b\\xbd\\xe5\\xb8\\x82\\xe5\\x9c\\xba\\xef\\xbc\\x8c\\xe4\\xbd\\x86\\xe6\\x98\\xaf...\\n7    \\xe3\\x80\\x80\\xe3\\x80\\x80\\xe6\\xb2\\x99\\xe6\\xbc\\xa0\\xe9\\x9b\\x84\\xe9\\xb9\\xb0\\xef\\xbc\\x9a\\xe9\\x9c\\x87\\xe8\\x8d\\xa1\\xe6\\x9c\\x89\\xe5\\x88\\xa9\\xe6\\xb6\\x88\\xe5\\x8c\\x96\\xe5\\xa5\\x97\\xe7\\x89\\xa2\\xe7\\xad\\xb9\\xe7\\xa0\\x81\\\\r\\\\n\\xe3\\x80\\x80\\xe3\\x80\\x80\\xe5\\x91\\xa8\\xe5\\x9b\\x9b\\xe5\\xbc\\x80\\xe7\\x9b\\x98\\xe4\\xb8\\x8a\\xe8\\xaf\\x8150\\xe5\\x9c\\xa8\\xe9\\x93\\xb6\\xe8\\xa1\\x8c\\xe5\\x88\\xb8\\xe5\\x95\\x86\\xe5\\xa4\\xa7\\xe8\\x93\\x9d\\xe7\\xad\\xb9\\xe5\\xb8\\xa6\\xe5\\x8a\\xa8\\xe4\\xb8\\x8b\\xe4\\xb8\\x80\\xe5\\xba\\xa6\\xe6\\xb6\\xa8\\xe8\\xbf\\x91...\\n8    \\xef\\xbc\\x88\\xe5\\x8e\\x9f\\xe6\\xa0\\x87\\xe9\\xa2\\x98\\xef\\xbc\\x9a\\xe6\\xad\\xa6\\xe6\\xb1\\x89\\xe8\\xad\\xa6\\xe6\\x96\\xb9\\xe4\\xb8\\x80\\xe4\\xb8\\x8b\\xe5\\xad\\x90\\xe6\\x8a\\x93\\xe4\\xba\\x86808\\xe4\\xba\\xba\\xef\\xbc\\x8c\\xe8\\xbf\\x98\\xe9\\x83\\xbd\\xe6\\x98\\xaf\\xe4\\xbf\\x8a\\xe7\\x94\\xb7\\xe9\\x9d\\x93\\xe5\\xa5\\xb3\\xef\\xbc\\x81\\xe5\\x8e\\x9f\\xe6\\x9d\\xa5\\xe4\\xbb\\x96\\xe4\\xbb\\xac\\xe6\\xaf\\x8f\\xe5\\xa4\\xa9\\xe5\\x81\\xb7\\xe5\\x81\\xb7\\xe6\\x91\\xb8\\xe6\\x91\\xb8\\xe5\\xb9\\xb2\\xe8\\xbf\\x99\\xe4\\xba\\x8b\\xef\\xbc\\x81\\xef\\xbc\\x89\\\\r\\\\n...\\n9    \\xe3\\x80\\x80\\xe3\\x80\\x806\\xe6\\x9c\\x8821\\xe6\\x97\\xa5\\xef\\xbc\\x8cA\\xe8\\x82\\xa1\\xe7\\xba\\xb3\\xe5\\x85\\xa5MSCI\\xe6\\x8c\\x87\\xe6\\x95\\xb0\\xe5\\xb0\\x98\\xe5\\x9f\\x83\\xe8\\x90\\xbd\\xe5\\xae\\x9a\\xef\\xbc\\x8c\\xe4\\xbd\\x86\\xe5\\xbd\\x93\\xe5\\xa4\\xa9\\xe8\\xa2\\xab\\xe5\\xaf\\x84\\xe4\\xba\\x88\\xe5\\x8e\\x9a\\xe6\\x9c\\x9b\\xe7\\x9a\\x84\\xe5\\x88\\xb8\\xe5\\x95\\x86\\xe8\\x82\\xa1\\xe5\\xb9\\xb6\\xe6\\x9c\\xaa\\xe6\\x89\\x9b\\xe8\\xb5\\xb7\\xe5\\x8f\\x8d\\xe5\\xbc\\xb9\\xe5\\xa4\\xa7\\xe6\\x97\\x97\\xe3\\x80\\x8222...'\n",
      "0\n"
     ]
    }
   ],
   "source": [
    "with open('test','rb') as f:\n",
    "    print(f.read())\n",
    "    print(len(f.read()))"
   ]
  },
  {
   "cell_type": "code",
   "execution_count": null,
   "metadata": {},
   "outputs": [],
   "source": []
  },
  {
   "cell_type": "code",
   "execution_count": 64,
   "metadata": {},
   "outputs": [],
   "source": [
    "a = 'helloworld tian那'.encode('gb2312')"
   ]
  },
  {
   "cell_type": "code",
   "execution_count": 65,
   "metadata": {},
   "outputs": [
    {
     "data": {
      "text/plain": [
       "b'helloworld tian\\xc4\\xc7'"
      ]
     },
     "execution_count": 65,
     "metadata": {},
     "output_type": "execute_result"
    }
   ],
   "source": [
    "a"
   ]
  },
  {
   "cell_type": "code",
   "execution_count": 62,
   "metadata": {},
   "outputs": [
    {
     "data": {
      "text/plain": [
       "b'\\xe4\\xb8\\xad\\xe6\\x96\\x87'"
      ]
     },
     "execution_count": 62,
     "metadata": {},
     "output_type": "execute_result"
    }
   ],
   "source": [
    "bytes('中文',encoding='utf-8')"
   ]
  },
  {
   "cell_type": "code",
   "execution_count": 71,
   "metadata": {},
   "outputs": [
    {
     "data": {
      "text/plain": [
       "'中文'"
      ]
     },
     "execution_count": 71,
     "metadata": {},
     "output_type": "execute_result"
    }
   ],
   "source": [
    "u'中文'"
   ]
  },
  {
   "cell_type": "code",
   "execution_count": 72,
   "metadata": {},
   "outputs": [
    {
     "data": {
      "text/plain": [
       "'asldfjl'"
      ]
     },
     "execution_count": 72,
     "metadata": {},
     "output_type": "execute_result"
    }
   ],
   "source": [
    "u'asldfjl'"
   ]
  },
  {
   "cell_type": "code",
   "execution_count": 56,
   "metadata": {},
   "outputs": [
    {
     "data": {
      "text/plain": [
       "'hello world hadsflyou'"
      ]
     },
     "execution_count": 56,
     "metadata": {},
     "output_type": "execute_result"
    }
   ],
   "source": [
    "'hello world hadsflyou'.encode('utf-8').decode()"
   ]
  },
  {
   "cell_type": "code",
   "execution_count": 78,
   "metadata": {},
   "outputs": [
    {
     "data": {
      "text/plain": [
       "b'0b10011001111'"
      ]
     },
     "execution_count": 78,
     "metadata": {},
     "output_type": "execute_result"
    }
   ],
   "source": [
    "bytes(bin(1231),encoding='utf-8')"
   ]
  },
  {
   "cell_type": "code",
   "execution_count": 75,
   "metadata": {},
   "outputs": [
    {
     "data": {
      "text/plain": [
       "b'123'"
      ]
     },
     "execution_count": 75,
     "metadata": {},
     "output_type": "execute_result"
    }
   ],
   "source": [
    "bytes('123',encoding='utf-8')"
   ]
  },
  {
   "cell_type": "code",
   "execution_count": 76,
   "metadata": {},
   "outputs": [
    {
     "data": {
      "text/plain": [
       "b'\\xe4\\xb8\\xad\\xe5\\x9b\\xbd'"
      ]
     },
     "execution_count": 76,
     "metadata": {},
     "output_type": "execute_result"
    }
   ],
   "source": [
    "bytes('中国',encoding='utf-8')"
   ]
  },
  {
   "cell_type": "code",
   "execution_count": 96,
   "metadata": {},
   "outputs": [],
   "source": [
    "import os"
   ]
  },
  {
   "cell_type": "code",
   "execution_count": 100,
   "metadata": {},
   "outputs": [],
   "source": [
    "def log_dir(prefix=''):\n",
    "    now = datetime.now().strftime('%Y%m%d_%H%M%S')\n",
    "    root_logdir = 'tf_logs'\n",
    "    if prefix:\n",
    "        prefix += '-'\n",
    "    name = prefix + 'run_' + now\n",
    "    return os.path.join(root_logdir, name)"
   ]
  },
  {
   "cell_type": "code",
   "execution_count": 101,
   "metadata": {},
   "outputs": [
    {
     "data": {
      "text/plain": [
       "'tf_logs\\\\teest-run_20190906_170147'"
      ]
     },
     "execution_count": 101,
     "metadata": {},
     "output_type": "execute_result"
    }
   ],
   "source": [
    "log_dir('teest')"
   ]
  },
  {
   "cell_type": "code",
   "execution_count": null,
   "metadata": {},
   "outputs": [],
   "source": []
  }
 ],
 "metadata": {
  "kernelspec": {
   "display_name": "Python 3",
   "language": "python",
   "name": "python3"
  },
  "language_info": {
   "codemirror_mode": {
    "name": "ipython",
    "version": 3
   },
   "file_extension": ".py",
   "mimetype": "text/x-python",
   "name": "python",
   "nbconvert_exporter": "python",
   "pygments_lexer": "ipython3",
   "version": "3.6.2"
  }
 },
 "nbformat": 4,
 "nbformat_minor": 4
}
