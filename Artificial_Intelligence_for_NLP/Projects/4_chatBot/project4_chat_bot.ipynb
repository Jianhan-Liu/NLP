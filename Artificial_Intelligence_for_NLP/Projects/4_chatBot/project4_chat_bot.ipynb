{
 "cells": [
  {
   "cell_type": "code",
   "execution_count": 1,
   "metadata": {},
   "outputs": [],
   "source": [
    "import pandas as pd\n",
    "pd.set_option('display.max_rows', 200)"
   ]
  },
  {
   "cell_type": "code",
   "execution_count": 2,
   "metadata": {},
   "outputs": [
    {
     "data": {
      "text/html": [
       "<div>\n",
       "<style scoped>\n",
       "    .dataframe tbody tr th:only-of-type {\n",
       "        vertical-align: middle;\n",
       "    }\n",
       "\n",
       "    .dataframe tbody tr th {\n",
       "        vertical-align: top;\n",
       "    }\n",
       "\n",
       "    .dataframe thead th {\n",
       "        text-align: right;\n",
       "    }\n",
       "</style>\n",
       "<table border=\"1\" class=\"dataframe\">\n",
       "  <thead>\n",
       "    <tr style=\"text-align: right;\">\n",
       "      <th></th>\n",
       "      <th>qid</th>\n",
       "      <th>question</th>\n",
       "      <th>answer</th>\n",
       "    </tr>\n",
       "  </thead>\n",
       "  <tbody>\n",
       "    <tr>\n",
       "      <th>32523</th>\n",
       "      <td>69117</td>\n",
       "      <td>问题1</td>\n",
       "      <td>测试</td>\n",
       "    </tr>\n",
       "    <tr>\n",
       "      <th>32524</th>\n",
       "      <td>69118</td>\n",
       "      <td>1111</td>\n",
       "      <td>johlhk</td>\n",
       "    </tr>\n",
       "    <tr>\n",
       "      <th>32525</th>\n",
       "      <td>69119</td>\n",
       "      <td>2222</td>\n",
       "      <td>johlhk</td>\n",
       "    </tr>\n",
       "  </tbody>\n",
       "</table>\n",
       "</div>"
      ],
      "text/plain": [
       "         qid question  answer\n",
       "32523  69117      问题1      测试\n",
       "32524  69118     1111  johlhk\n",
       "32525  69119     2222  johlhk"
      ]
     },
     "execution_count": 2,
     "metadata": {},
     "output_type": "execute_result"
    }
   ],
   "source": [
    "data = pd.read_csv('data/qa_corpus.csv')\n",
    "data.tail(3)"
   ]
  },
  {
   "cell_type": "code",
   "execution_count": 4,
   "metadata": {},
   "outputs": [
    {
     "data": {
      "text/plain": [
       "我可以背叛你吗              2\n",
       "呢                    2\n",
       "我很不高兴                2\n",
       "嗯                    2\n",
       "为什么                  2\n",
       "                    ..\n",
       "个人客户哪类账户支持签约鑫存管业务    1\n",
       "你挺能学的嘛               1\n",
       "伤心的时候就来找我吧！          1\n",
       "您又不是为什么要叫呢？          1\n",
       "咨询短信银行的安全性           1\n",
       "Name: question, Length: 32502, dtype: int64"
      ]
     },
     "execution_count": 4,
     "metadata": {},
     "output_type": "execute_result"
    }
   ],
   "source": [
    "data.question.value_counts()"
   ]
  },
  {
   "cell_type": "code",
   "execution_count": 21,
   "metadata": {},
   "outputs": [
    {
     "name": "stdout",
     "output_type": "stream",
     "text": [
      "question: 未知\n",
      "answer: 我还对这件事真不知道呢，快给我说道说道。\n",
      "answer: 算了\n",
      "--------------\n",
      "question: 个人网银追加新账户的方法\n",
      "answer: 个人网银追加新账户的方法：登录个人网银，通过“我的账户—账户管理—追加新账户”菜单，选择待追加账户类型，填写账户信息，追加“储蓄账户”及“信用卡账户”时，需输入“手机号码后四位”进行验证。<br/>温馨提示：自行追加的账户为非签约账户，只能进行查询和部分交易操作，如需办理更多交易，请您携带身份证件和账户到柜台办理签约。\n",
      "answer: 个人网银追加新账户的方法：登录个人网银，通过“我的账户—账户管理—追加新账户”菜单，选择待追加账户类型，填写账户信息，追加“储蓄账户”及“信用卡账户”时，需输入“手机号码后四位”进行验证。<br/>温馨提示：自行追加的账户为非签约账户，只能进行查询和部分交易操作，如需办理更多交易，请您携带身份证件和账户到柜台办理签约。\n",
      "--------------\n",
      "question: 我很不高兴\n",
      "answer: 您为什么不高兴呢？让我来安慰您吧\n",
      "answer: 巧克力，可以调节心情的哦\n",
      "--------------\n",
      "question: 我可以背叛你吗\n",
      "answer: 我是不会背叛您的。\n",
      "answer: 人总是相互背叛\n",
      "--------------\n",
      "question: 你是谁\n",
      "answer: 人人都叫我智能机器人小龙人\n",
      "answer: 我是小龙人呀\n",
      "--------------\n",
      "question: 电子账单的收费标准\n",
      "answer: 通过电子邮件、彩信、短信、微信等电子渠道发送的信用卡账单，称为电子账单。我行免费提供信用卡电子账单，欢迎您使用。\n",
      "answer: 目前我行的电子账单免费发送。\n",
      "--------------\n",
      "question: 是吗\n",
      "answer: 是\n",
      "answer: 是的呀。\n",
      "--------------\n",
      "question: 我不是\n",
      "answer: 好的\n",
      "answer: 肯定不是你\n",
      "--------------\n",
      "question: 做。\n",
      "answer: 我很喜欢你　你喜欢我不\n",
      "answer: 做不出来\n",
      "--------------\n",
      "question: 您说呢\n",
      "answer: 我说你说的是假的\n",
      "answer: 我说你说的是假的\n",
      "--------------\n",
      "question: 知道了\n",
      "answer: 好滴，还有什么可以帮到您的？\n",
      "answer: 我晓得你不知道的事。\n",
      "--------------\n",
      "question: 积分兑换的礼品你们是送到我的信用卡账单地址吗？是如何配送的？\n",
      "answer: 送货方式和地址根据不同的申请渠道、礼品类型而有所区别：实物礼品由各积分礼品供应商按您在网上申请时填写的收货地址配送；非实物礼品如短信、电子度假券等会发送至您在网上申请时填写的手机号上；如为航空里程类产品，则兑换的里程将直接打入您相应的航空会员账户中。\n",
      "answer: 送货方式和地址根据不同的申请渠道、礼品类型而有所区别：<br>实物礼品由各积分礼品供应商按您在网上申请时填写的收货地址配送；非实物礼品如短信、电子度假券等会发送至您在网上申请时填写的手机号上；如为航空里程类产品，则兑换的里程将直接打入您相应的航空会员账户中\n",
      "--------------\n",
      "question: 你好傻\n",
      "answer: 我才出生没多久呢，好多不懂的，您多包涵~~~\n",
      "answer: 人工智能不如天然呆萌，我们提倡纯天然\n",
      "--------------\n",
      "question: 北京\n",
      "answer: 我们的首都\n",
      "answer: 汪峰汪峰。\n",
      "--------------\n",
      "question: 什么\n",
      "answer: 好话不说二遍\n",
      "answer: 什么，什么？\n",
      "--------------\n",
      "question: 嗯\n",
      "answer: 嗯嗯嗯\n",
      "answer: 符号在文字的后面呀。\n",
      "--------------\n",
      "question: 自动购汇适用什么汇率？\n",
      "answer: 若外币交易币种为我行经营的20个购汇币种（美元、欧元、日元、港币、英镑、瑞郎、澳元、加元、新加坡元、瑞典克朗、挪威克朗、丹麦克朗、韩元、新西兰元、澳门元、南非兰特、俄罗斯卢布、马来西亚林吉特、哈萨克斯坦坚戈、泰铢），交易金额按入账当日我行信用卡购汇汇率（自动折算成人民币，入人民币账户。若外币交易币种非我行经营的购汇币种，交易金额由国际组织折算美元（或欧元）后，再按入账当日我行美元（或欧元）兑人民币的信用卡购汇汇率自动折算成人民币，入人民币账户。信用卡购汇汇率即是我行即期结售汇牌价的现汇卖出价，在我行官网公布，汇率每日更新。\n",
      "answer: 若外币交易币种为我行经营的20个购汇币种（美元、欧元、日元、港币、英镑、瑞郎、澳元、加元、新加坡元、瑞典克朗、挪威克朗、丹麦克朗、韩元、新西兰元、澳门元、南非兰特、俄罗斯卢布、马来西亚林吉特、哈萨克斯坦坚戈、泰铢），交易金额按入账当日我行信用卡购汇汇率（自动折算成人民币，入人民币账户。若外币交易币种非我行经营的购汇币种，交易金额由国际组织折算美元（或欧元）后，再按入账当日我行美元（或欧元）兑人民币的信用卡购汇汇率自动折算成人民币，入人民币账户。信用卡购汇汇率即是我行即期结售汇牌价的现汇卖出价，在我行官网公布，汇率每日更新。\n",
      "--------------\n",
      "question: 呵呵\n",
      "answer: 你笑得貌似不太好听。\n",
      "answer: 你笑得貌似不太好听。\n",
      "--------------\n",
      "question: 呢\n",
      "answer: 您想问什么呢\n",
      "answer: 你在和我玩捉迷藏吗？\n",
      "--------------\n",
      "question: 为什么\n",
      "answer: 哼！我傲娇\n",
      "answer: 哼！我傲娇\n",
      "--------------\n",
      "question: 我是谁\n",
      "answer: 您是我的主人啊。\n",
      "answer: 您是我们尊贵的客户呀\n",
      "--------------\n",
      "question: 我没有\n",
      "answer: 请问您没有什么？\n",
      "answer: 你有！\n",
      "--------------\n",
      "question: 不。\n",
      "answer: 不，是在拒绝我吗\n",
      "answer: 哦，好吧，那就算了\n",
      "--------------\n"
     ]
    }
   ],
   "source": [
    "# 一个问句多于两种回答的例子\n",
    "for k, v in data.question.value_counts().items():\n",
    "    if v > 1:\n",
    "        print(f\"question: {k}\")\n",
    "        for s in data[data.question==k].answer:\n",
    "            print(f\"answer: {s}\")\n",
    "        print('--------------')"
   ]
  },
  {
   "cell_type": "code",
   "execution_count": null,
   "metadata": {},
   "outputs": [],
   "source": []
  }
 ],
 "metadata": {
  "kernelspec": {
   "display_name": "Python 3",
   "language": "python",
   "name": "python3"
  },
  "language_info": {
   "codemirror_mode": {
    "name": "ipython",
    "version": 3
   },
   "file_extension": ".py",
   "mimetype": "text/x-python",
   "name": "python",
   "nbconvert_exporter": "python",
   "pygments_lexer": "ipython3",
   "version": "3.7.5"
  }
 },
 "nbformat": 4,
 "nbformat_minor": 4
}
