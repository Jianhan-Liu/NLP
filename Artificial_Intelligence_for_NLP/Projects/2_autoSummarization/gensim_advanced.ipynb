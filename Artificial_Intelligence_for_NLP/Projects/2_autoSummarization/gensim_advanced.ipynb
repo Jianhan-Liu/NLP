{
 "cells": [
  {
   "cell_type": "markdown",
   "metadata": {},
   "source": [
    "# 导入工具"
   ]
  },
  {
   "cell_type": "code",
   "execution_count": 1,
   "metadata": {},
   "outputs": [
    {
     "name": "stdout",
     "output_type": "stream",
     "text": [
      "文件夹 'D:\\Github\\NLP\\Artificial_Intelligence_for_NLP\\Projects\\2_autoSummarization\\temp' 将被用来存储语料和临时性字典\n"
     ]
    },
    {
     "name": "stderr",
     "output_type": "stream",
     "text": [
      "2019-10-24 21:02:23,913: INFO: 'pattern' package not found; tag filters are not available for English\n",
      "Using TensorFlow backend.\n"
     ]
    }
   ],
   "source": [
    "import warnings\n",
    "warnings.filterwarnings('ignore')\n",
    "import sys\n",
    "import os\n",
    "import json\n",
    "TEMP_FOLDER = os.path.abspath('./temp/')\n",
    "print(f\"文件夹 '{TEMP_FOLDER}' 将被用来存储语料和临时性字典\")\n",
    "import logging\n",
    "logging.basicConfig(format=\"%(asctime)s: %(levelname)s: %(message)s\", level=logging.INFO)\n",
    "import numpy as np\n",
    "np.set_printoptions(suppress=True)\n",
    "import pandas as pd\n",
    "import seaborn\n",
    "seaborn.set()\n",
    "import matplotlib.pyplot as  plt\n",
    "import matplotlib.patches as patches\n",
    "plt.rcParams['font.sans-serif'] = ['SimHei']\n",
    "%matplotlib inline\n",
    "\n",
    "import jieba\n",
    "# 基于textrank和tfidf的关键词提取\n",
    "from jieba.analyse import textrank\n",
    "from jieba.analyse import extract_tags\n",
    "\n",
    "# 分句不需要额外模型\n",
    "from pyltp import SentenceSplitter\n",
    "\n",
    "from nltk.stem import WordNetLemmatizer\n",
    "from nltk.stem.porter import PorterStemmer\n",
    "\n",
    "from gensim import corpora, similarities, models, matutils\n",
    "from gensim.models.doc2vec import Doc2Vec, TaggedDocument\n",
    "\n",
    "from textrank4zh import TextRank4Keyword, TextRank4Sentence\n",
    "\n",
    "from sklearn.decomposition import TruncatedSVD, PCA\n",
    "from sklearn.feature_extraction.text import TfidfVectorizer, HashingVectorizer, TfidfTransformer\n",
    "from sklearn.feature_extraction.text import CountVectorizer\n",
    "from sklearn.pipeline import make_pipeline\n",
    "from sklearn.preprocessing import Normalizer\n",
    "from sklearn import metrics\n",
    "from sklearn.cluster import KMeans, MiniBatchKMeans, DBSCAN\n",
    "\n",
    "from keras.preprocessing import sequence\n",
    "from keras.preprocessing import text\n",
    "\n",
    "from optparse import OptionParser\n",
    "\n",
    "import networkx as nx\n",
    "\n",
    "from tqdm import tqdm\n",
    "\n",
    "import pyLDAvis.gensim\n",
    "CAN_VISUALIZE = True\n",
    "pyLDAvis.enable_notebook()\n",
    "\n",
    "from collections import Counter, defaultdict\n",
    "from itertools import combinations\n",
    "from smart_open import smart_open\n",
    "from six import iteritems"
   ]
  },
  {
   "cell_type": "markdown",
   "metadata": {},
   "source": [
    "## 加载停用词"
   ]
  },
  {
   "cell_type": "code",
   "execution_count": 2,
   "metadata": {},
   "outputs": [
    {
     "data": {
      "text/plain": [
       "['!', '\"', '#', '$', '%', '&', \"'\", '(', ')', '*']"
      ]
     },
     "execution_count": 2,
     "metadata": {},
     "output_type": "execute_result"
    }
   ],
   "source": [
    "def fetch_stopwords(path):\n",
    "    stopwords = []\n",
    "    with open(path, 'r', encoding='utf-8') as f:\n",
    "        for line in f:\n",
    "            stopwords.append(line.strip())\n",
    "    return stopwords\n",
    "\n",
    "stopwords = fetch_stopwords('data/stopwords.txt')\n",
    "stopwords[:10]"
   ]
  },
  {
   "cell_type": "markdown",
   "metadata": {},
   "source": [
    "# 语料，向量空间和模型"
   ]
  },
  {
   "cell_type": "code",
   "execution_count": 11,
   "metadata": {},
   "outputs": [
    {
     "name": "stderr",
     "output_type": "stream",
     "text": [
      "Building prefix dict from the default dictionary ...\n",
      "2019-10-22 13:05:43,816: DEBUG: Building prefix dict from the default dictionary ...\n",
      "Loading model from cache C:\\Users\\ADMINI~1\\AppData\\Local\\Temp\\jieba.cache\n",
      "2019-10-22 13:05:43,823: DEBUG: Loading model from cache C:\\Users\\ADMINI~1\\AppData\\Local\\Temp\\jieba.cache\n",
      "Loading model cost 0.803 seconds.\n",
      "2019-10-22 13:05:44,621: DEBUG: Loading model cost 0.803 seconds.\n",
      "Prefix dict has been built succesfully.\n",
      "2019-10-22 13:05:44,623: DEBUG: Prefix dict has been built succesfully.\n"
     ]
    }
   ],
   "source": [
    "raw_corpus = ['商业新知:知识图谱为内核,构建商业创新服务完整生态。',\n",
    "'如何更好利用知识图谱技术做反欺诈? 360金融首席数据科学家沈赟开讲。',\n",
    "'知识管理 | 基于知识图谱的国际知识管理领域可视化分析。',\n",
    "'一文详解达观数据知识图谱技术与应用。',\n",
    "'知识图谱技术落地金融行业的关键四步。',\n",
    "'一文读懂知识图谱的商业应用进程及技术背景。',\n",
    "'海云数据CPO王斌:打造大数据可视分析与AI应用的高科技企业。',\n",
    "'智能产业|《人工智能标准化白皮书2018》带来创新创业新技术标准。',\n",
    "'国家语委重大科研项目“中华经典诗词知识图谱构建技术研究”开题。',\n",
    "'最全知识图谱介绍:关键技术、开放数据集、应用案例汇总。',\n",
    "'中译语通Jove Mind知识图谱平台 引领企业智能化发展。',\n",
    "'知识图谱:知识图谱赋能企业数字化转型，为企业升级转型注入新能量。']\n",
    "jieba.add_word('知识图谱')"
   ]
  },
  {
   "cell_type": "code",
   "execution_count": 12,
   "metadata": {},
   "outputs": [
    {
     "data": {
      "text/plain": [
       "['商业 新知 : 知识图谱 为 内核 , 构建 商业 创新 服务 完整 生态 。',\n",
       " '如何 更好 利用 知识图谱 技术 做 反 欺诈 ?   360 金融 首席 数据 科学家 沈赟 开讲 。',\n",
       " '知识 管理   |   基于 知识图谱 的 国际 知识 管理 领域 可视化 分析 。',\n",
       " '一文 详解 达观 数据 知识图谱 技术 与 应用 。',\n",
       " '知识图谱 技术 落地 金融 行业 的 关键 四步 。',\n",
       " '一文 读懂 知识图谱 的 商业 应用 进程 及 技术 背景 。',\n",
       " '海云 数据 CPO 王斌 : 打造 大 数据 可视 分析 与 AI 应用 的 高科技 企业 。',\n",
       " '智能 产业 | 《 人工智能 标准化 白皮书 2018 》 带来 创新 创业 新 技术标准 。',\n",
       " '国家语委 重大 科研项目 “ 中华 经典 诗词 知识图谱 构建 技术 研究 ” 开题 。',\n",
       " '最全 知识图谱 介绍 : 关键技术 、 开放 数据 集 、 应用 案例 汇总 。',\n",
       " '中译 语通 Jove   Mind 知识图谱 平台   引领 企业 智能化 发展 。',\n",
       " '知识图谱 : 知识图谱 赋能 企业 数字化 转型 ， 为 企业 升级 转型 注入 新 能量 。']"
      ]
     },
     "execution_count": 12,
     "metadata": {},
     "output_type": "execute_result"
    }
   ],
   "source": [
    "raw_corpus = [' '.join(jieba.lcut(i)) for i in raw_corpus]\n",
    "raw_corpus"
   ]
  },
  {
   "cell_type": "code",
   "execution_count": 14,
   "metadata": {},
   "outputs": [
    {
     "data": {
      "text/plain": [
       "[['商业', '知识图谱', '构建', '商业', '创新'],\n",
       " ['知识图谱', '技术', '金融', '数据'],\n",
       " ['知识', '管理', '知识图谱', '知识', '管理', '分析'],\n",
       " ['一文', '数据', '知识图谱', '技术'],\n",
       " ['知识图谱', '技术', '金融'],\n",
       " ['一文', '知识图谱', '商业', '技术'],\n",
       " ['数据', '数据', '分析', '企业'],\n",
       " ['创新', '新'],\n",
       " ['知识图谱', '构建', '技术'],\n",
       " ['知识图谱', '数据'],\n",
       " ['知识图谱', '企业'],\n",
       " ['知识图谱', '知识图谱', '企业', '转型', '企业', '转型', '新']]"
      ]
     },
     "execution_count": 14,
     "metadata": {},
     "output_type": "execute_result"
    }
   ],
   "source": [
    "def substract_stopwords(stopwords:list, raw_data:list):\n",
    "    return [[word for word in doc.lower().split() if word not in stopwords] for doc in raw_data]\n",
    "\n",
    "# 去除停用词\n",
    "texts = substract_stopwords(stopwords, raw_corpus)\n",
    "# 统计词频\n",
    "token_counter = Counter([word for text in texts for word in text])\n",
    "# 只保留词频大于1的词汇\n",
    "processed_texts = [[word for word in text if token_counter[word] > 1] for text in texts]\n",
    "processed_texts"
   ]
  },
  {
   "cell_type": "code",
   "execution_count": 15,
   "metadata": {},
   "outputs": [
    {
     "name": "stderr",
     "output_type": "stream",
     "text": [
      "2019-10-22 13:05:47,515: INFO: adding document #0 to Dictionary(0 unique tokens: [])\n",
      "2019-10-22 13:05:47,517: INFO: built Dictionary(14 unique tokens: ['创新', '商业', '构建', '知识图谱', '技术']...) from 12 documents (total 46 corpus positions)\n"
     ]
    },
    {
     "name": "stdout",
     "output_type": "stream",
     "text": [
      "Dictionary(14 unique tokens: ['创新', '商业', '构建', '知识图谱', '技术']...)\n"
     ]
    }
   ],
   "source": [
    "# 词汇到id的映射\n",
    "dictionary = corpora.Dictionary(processed_texts)\n",
    "print(dictionary)"
   ]
  },
  {
   "cell_type": "code",
   "execution_count": 16,
   "metadata": {},
   "outputs": [
    {
     "name": "stdout",
     "output_type": "stream",
     "text": [
      "{'创新': 0, '商业': 1, '构建': 2, '知识图谱': 3, '技术': 4, '数据': 5, '金融': 6, '分析': 7, '知识': 8, '管理': 9, '一文': 10, '企业': 11, '新': 12, '转型': 13}\n"
     ]
    }
   ],
   "source": [
    "print(dictionary.token2id)"
   ]
  },
  {
   "cell_type": "code",
   "execution_count": 17,
   "metadata": {},
   "outputs": [
    {
     "data": {
      "text/plain": [
       "[(3, 1), (11, 1), (13, 1)]"
      ]
     },
     "execution_count": 17,
     "metadata": {},
     "output_type": "execute_result"
    }
   ],
   "source": [
    "new_doc = '知识图谱 为 企业 转型 助力'\n",
    "new_doc = dictionary.doc2bow(new_doc.lower().split())\n",
    "new_doc"
   ]
  },
  {
   "cell_type": "code",
   "execution_count": 18,
   "metadata": {},
   "outputs": [
    {
     "data": {
      "text/plain": [
       "[[(0, 1), (1, 2), (2, 1), (3, 1)],\n",
       " [(3, 1), (4, 1), (5, 1), (6, 1)],\n",
       " [(3, 1), (7, 1), (8, 2), (9, 2)],\n",
       " [(3, 1), (4, 1), (5, 1), (10, 1)],\n",
       " [(3, 1), (4, 1), (6, 1)],\n",
       " [(1, 1), (3, 1), (4, 1), (10, 1)],\n",
       " [(5, 2), (7, 1), (11, 1)],\n",
       " [(0, 1), (12, 1)],\n",
       " [(2, 1), (3, 1), (4, 1)],\n",
       " [(3, 1), (5, 1)],\n",
       " [(3, 1), (11, 1)],\n",
       " [(3, 2), (11, 2), (12, 1), (13, 2)]]"
      ]
     },
     "execution_count": 18,
     "metadata": {},
     "output_type": "execute_result"
    }
   ],
   "source": [
    "# (a,b) a为词汇在字典中索引，b为该词汇在该句中的出现次数\n",
    "bow_texts = [dictionary.doc2bow(text) for text in processed_texts]\n",
    "bow_texts"
   ]
  },
  {
   "cell_type": "code",
   "execution_count": 19,
   "metadata": {},
   "outputs": [
    {
     "name": "stderr",
     "output_type": "stream",
     "text": [
      "2019-10-22 13:05:50,044: INFO: collecting document frequencies\n",
      "2019-10-22 13:05:50,045: INFO: PROGRESS: processing document #0\n",
      "2019-10-22 13:05:50,047: INFO: calculating IDF weights for 12 documents and 14 features (39 matrix non-zeros)\n"
     ]
    },
    {
     "data": {
      "text/plain": [
       "[(3, 0.06394369208554566), (11, 0.4862002131078655), (13, 0.8715047659171663)]"
      ]
     },
     "execution_count": 19,
     "metadata": {},
     "output_type": "execute_result"
    }
   ],
   "source": [
    "# (a, b) a为词汇索引，b为该词汇的tfidf权重，与文档中出现的次数成正比，与语料库中的出现次数成反比\n",
    "tfidf = models.TfidfModel(bow_texts)\n",
    "tfidf[new_doc]"
   ]
  },
  {
   "cell_type": "markdown",
   "metadata": {},
   "source": [
    "# 语料库和词向量空间"
   ]
  },
  {
   "cell_type": "code",
   "execution_count": 81,
   "metadata": {},
   "outputs": [],
   "source": [
    "# 构建语料库流，即文件生成器，将语料逐个从硬盘中读取处理后传入模型\n",
    "class MyCorpus:\n",
    "    def __init__(self, path):\n",
    "        self.path = path\n",
    "        \n",
    "    def __iter__(self):\n",
    "        for line in smart_open(self.path, 'r', encoding='utf-8'):\n",
    "            yield dictionary.doc2bow(' '.join(jieba.lcut(line)).lower().split())"
   ]
  },
  {
   "cell_type": "code",
   "execution_count": 91,
   "metadata": {},
   "outputs": [],
   "source": [
    "news_corpus = iter(MyCorpus('data/corpus.txt'))\n",
    "\n",
    "next(news_corpus)"
   ]
  },
  {
   "cell_type": "code",
   "execution_count": 111,
   "metadata": {},
   "outputs": [],
   "source": [
    "class MyCorpus2:\n",
    "    def __init__(self, path):\n",
    "        self.path = path\n",
    "        self.dict = None\n",
    "        \n",
    "    def get_dictionary(self):\n",
    "        self.dict = corpora.Dictionary(' '.join(jieba.lcut(line)).lower().split()\n",
    "                                      for line in smart_open(self.path, 'r', encoding='utf-8'))\n",
    "        return self.dict\n",
    "    \n",
    "    def sub_stopword(self, stoplist):\n",
    "        self.get_dictionary()\n",
    "        stop_ids = [self.dict.token2id[stopword] for stopword in stoplist\n",
    "                   if stopword in self.dict.token2id]\n",
    "        once_ids = [tokenid for tokenid, wordfreq in self.dict.dfs.items()\n",
    "                   if wordfreq == 1]\n",
    "        self.dict.filter_tokens(stop_ids + once_ids)\n",
    "        return self.dict"
   ]
  },
  {
   "cell_type": "code",
   "execution_count": 112,
   "metadata": {},
   "outputs": [],
   "source": [
    "corpus = MyCorpus2('data/corpus_short.txt')"
   ]
  },
  {
   "cell_type": "code",
   "execution_count": 113,
   "metadata": {},
   "outputs": [
    {
     "name": "stderr",
     "output_type": "stream",
     "text": [
      "2019-10-22 13:48:04,363: INFO: adding document #0 to Dictionary(0 unique tokens: [])\n",
      "2019-10-22 13:48:04,367: INFO: built Dictionary(103 unique tokens: [':', '。', '为', '内核', '创新']...) from 12 documents (total 159 corpus positions)\n"
     ]
    },
    {
     "name": "stdout",
     "output_type": "stream",
     "text": [
      "Dictionary(103 unique tokens: [':', '。', '为', '内核', '创新']...)\n"
     ]
    }
   ],
   "source": [
    "print(corpus.get_dictionary())"
   ]
  },
  {
   "cell_type": "code",
   "execution_count": 114,
   "metadata": {},
   "outputs": [
    {
     "name": "stderr",
     "output_type": "stream",
     "text": [
      "2019-10-22 13:48:05,254: INFO: adding document #0 to Dictionary(0 unique tokens: [])\n",
      "2019-10-22 13:48:05,258: INFO: built Dictionary(103 unique tokens: [':', '。', '为', '内核', '创新']...) from 12 documents (total 159 corpus positions)\n"
     ]
    },
    {
     "name": "stdout",
     "output_type": "stream",
     "text": [
      "Dictionary(11 unique tokens: ['创新', '商业', '构建', '知识图谱', '技术']...)\n"
     ]
    }
   ],
   "source": [
    "print(corpus.sub_stopword(stopwords))"
   ]
  },
  {
   "cell_type": "markdown",
   "metadata": {},
   "source": [
    "# 主题模型与文本数据转换"
   ]
  },
  {
   "cell_type": "code",
   "execution_count": 124,
   "metadata": {},
   "outputs": [
    {
     "name": "stderr",
     "output_type": "stream",
     "text": [
      "2019-10-22 14:03:43,408: INFO: collecting document frequencies\n",
      "2019-10-22 14:03:43,409: INFO: PROGRESS: processing document #0\n",
      "2019-10-22 14:03:43,410: INFO: calculating IDF weights for 12 documents and 14 features (39 matrix non-zeros)\n"
     ]
    },
    {
     "name": "stdout",
     "output_type": "stream",
     "text": [
      "TfidfModel(num_docs=12, num_nnz=39)\n"
     ]
    }
   ],
   "source": [
    "tfidf = models.TfidfModel(bow_texts)\n",
    "print(tfidf)"
   ]
  },
  {
   "cell_type": "code",
   "execution_count": 126,
   "metadata": {},
   "outputs": [
    {
     "name": "stdout",
     "output_type": "stream",
     "text": [
      "[(0, 0.4078964886286983), (1, 0.8157929772573966), (2, 0.4078964886286983), (3, 0.04150575124328046)]\n",
      "[(3, 0.07982263066186342), (4, 0.38329103210095783), (5, 0.48098603643475885), (6, 0.7844544378738532)]\n",
      "[(3, 0.025128868703899597), (7, 0.24695318119778994), (8, 0.6849754251993109), (9, 0.6849754251993109)]\n",
      "[(3, 0.07982263066186342), (4, 0.38329103210095783), (5, 0.48098603643475885), (10, 0.7844544378738532)]\n",
      "[(3, 0.0910460341905888), (4, 0.43718339178067905), (6, 0.8947520894690928)]\n",
      "[(1, 0.6668011702142979), (3, 0.06785075201967737), (4, 0.32580465658435587), (10, 0.6668011702142979)]\n",
      "[(5, 0.6962169034343767), (7, 0.5677404313752555), (11, 0.4392639593161345)]\n",
      "[(0, 0.7071067811865476), (12, 0.7071067811865476)]\n",
      "[(2, 0.8947520894690927), (3, 0.09104603419058879), (4, 0.437183391780679)]\n",
      "[(3, 0.16371704169295062), (5, 0.9865073391816752)]\n",
      "[(3, 0.13039433685974838), (11, 0.9914622115415728)]\n",
      "[(3, 0.061003335283038695), (11, 0.4638430101162164), (12, 0.29975419684301086), (13, 0.83142989874413)]\n"
     ]
    }
   ],
   "source": [
    "corpus_tfidf = tfidf[bow_texts]\n",
    "for doc in corpus_tfidf:\n",
    "    print(doc)"
   ]
  },
  {
   "cell_type": "code",
   "execution_count": 248,
   "metadata": {},
   "outputs": [
    {
     "name": "stderr",
     "output_type": "stream",
     "text": [
      "2019-10-23 00:07:49,105: INFO: using serial LSI version on this node\n",
      "2019-10-23 00:07:49,108: INFO: updating model with new documents\n",
      "2019-10-23 00:07:49,116: INFO: preparing a new chunk of documents\n",
      "2019-10-23 00:07:49,122: INFO: using 100 extra samples and 2 power iterations\n",
      "2019-10-23 00:07:49,123: INFO: 1st phase: constructing (14, 105) action matrix\n",
      "2019-10-23 00:07:49,139: INFO: orthonormalizing (14, 105) action matrix\n",
      "2019-10-23 00:07:49,150: INFO: 2nd phase: running dense svd on (14, 12) matrix\n",
      "2019-10-23 00:07:49,153: INFO: computing the final decomposition\n",
      "2019-10-23 00:07:49,156: INFO: keeping 5 factors (discarding 27.373% of energy spectrum)\n",
      "2019-10-23 00:07:49,157: INFO: processed documents up to #12\n",
      "2019-10-23 00:07:49,161: INFO: topic #0(1.667): 0.663*\"数据\" + 0.402*\"金融\" + 0.402*\"技术\" + 0.322*\"一文\" + 0.201*\"企业\" + 0.180*\"商业\" + 0.141*\"知识图谱\" + 0.133*\"分析\" + 0.132*\"构建\" + 0.047*\"创新\"\n",
      "2019-10-23 00:07:49,163: INFO: topic #1(1.363): 0.507*\"企业\" + -0.463*\"商业\" + 0.382*\"数据\" + -0.331*\"构建\" + -0.294*\"技术\" + -0.266*\"一文\" + 0.196*\"分析\" + 0.173*\"转型\" + -0.165*\"创新\" + -0.131*\"金融\"\n",
      "2019-10-23 00:07:49,166: INFO: topic #2(1.287): 0.492*\"企业\" + -0.465*\"金融\" + 0.424*\"商业\" + 0.322*\"创新\" + 0.279*\"新\" + 0.271*\"转型\" + 0.227*\"构建\" + 0.157*\"一文\" + -0.114*\"数据\" + -0.108*\"技术\"\n",
      "2019-10-23 00:07:49,167: INFO: topic #3(1.172): -0.604*\"金融\" + 0.411*\"数据\" + 0.370*\"一文\" + -0.324*\"企业\" + -0.271*\"转型\" + -0.232*\"新\" + -0.178*\"技术\" + -0.136*\"创新\" + -0.132*\"构建\" + 0.128*\"商业\"\n",
      "2019-10-23 00:07:49,168: INFO: topic #4(1.023): 0.531*\"创新\" + 0.395*\"新\" + -0.382*\"一文\" + -0.372*\"企业\" + 0.293*\"数据\" + 0.235*\"管理\" + 0.235*\"知识\" + -0.167*\"技术\" + 0.154*\"分析\" + -0.131*\"转型\"\n"
     ]
    },
    {
     "data": {
      "text/plain": [
       "[(0,\n",
       "  '0.663*\"数据\" + 0.402*\"金融\" + 0.402*\"技术\" + 0.322*\"一文\" + 0.201*\"企业\" + 0.180*\"商业\" + 0.141*\"知识图谱\" + 0.133*\"分析\" + 0.132*\"构建\" + 0.047*\"创新\"'),\n",
       " (1,\n",
       "  '0.507*\"企业\" + -0.463*\"商业\" + 0.382*\"数据\" + -0.331*\"构建\" + -0.294*\"技术\" + -0.266*\"一文\" + 0.196*\"分析\" + 0.173*\"转型\" + -0.165*\"创新\" + -0.131*\"金融\"'),\n",
       " (2,\n",
       "  '0.492*\"企业\" + -0.465*\"金融\" + 0.424*\"商业\" + 0.322*\"创新\" + 0.279*\"新\" + 0.271*\"转型\" + 0.227*\"构建\" + 0.157*\"一文\" + -0.114*\"数据\" + -0.108*\"技术\"'),\n",
       " (3,\n",
       "  '-0.604*\"金融\" + 0.411*\"数据\" + 0.370*\"一文\" + -0.324*\"企业\" + -0.271*\"转型\" + -0.232*\"新\" + -0.178*\"技术\" + -0.136*\"创新\" + -0.132*\"构建\" + 0.128*\"商业\"'),\n",
       " (4,\n",
       "  '0.531*\"创新\" + 0.395*\"新\" + -0.382*\"一文\" + -0.372*\"企业\" + 0.293*\"数据\" + 0.235*\"管理\" + 0.235*\"知识\" + -0.167*\"技术\" + 0.154*\"分析\" + -0.131*\"转型\"')]"
      ]
     },
     "execution_count": 248,
     "metadata": {},
     "output_type": "execute_result"
    }
   ],
   "source": [
    "lsi = models.LsiModel(corpus_tfidf, id2word=dictionary, num_topics=5)\n",
    "lsi.show_topics()"
   ]
  },
  {
   "cell_type": "code",
   "execution_count": 251,
   "metadata": {},
   "outputs": [
    {
     "data": {
      "text/plain": [
       "array([[ 0.04696711,  0.18049842,  0.13192449,  0.140966  ,  0.40227199,\n",
       "         0.66275141,  0.40242581,  0.13252469,  0.0134947 ,  0.0134947 ,\n",
       "         0.32212849,  0.20102439,  0.02968701,  0.04409437],\n",
       "       [-0.16487302, -0.46286969, -0.33122749,  0.00854011, -0.29371629,\n",
       "         0.38187076, -0.13062953,  0.19627343,  0.03621869,  0.03621869,\n",
       "        -0.26643894,  0.50689427,  0.02467565,  0.17302626],\n",
       "       [ 0.32193386,  0.42433544,  0.22658317,  0.04055029, -0.10829845,\n",
       "        -0.11406799, -0.46480035,  0.06547929,  0.01638055,  0.01638055,\n",
       "         0.15726152,  0.49202822,  0.27876897,  0.2705089 ],\n",
       "       [-0.13591551,  0.12796102, -0.13195354, -0.03932863, -0.17792191,\n",
       "         0.41095293, -0.60400667,  0.09421154,  0.03515782,  0.03515782,\n",
       "         0.36988661, -0.32440787, -0.23184189, -0.27143452],\n",
       "       [ 0.53078856, -0.03545908,  0.10209456, -0.02876644, -0.16742799,\n",
       "         0.29279486,  0.02577203,  0.15411137,  0.23506537,  0.23506537,\n",
       "        -0.38170744, -0.37199788,  0.39484598, -0.13069842]])"
      ]
     },
     "execution_count": 251,
     "metadata": {},
     "output_type": "execute_result"
    }
   ],
   "source": [
    "lsi.get_topics()"
   ]
  },
  {
   "cell_type": "code",
   "execution_count": 132,
   "metadata": {},
   "outputs": [
    {
     "name": "stdout",
     "output_type": "stream",
     "text": [
      "[(0, -0.6808544530209414), (1, -1.4132997962625367), (2, 1.4377382033464805)]\n",
      "[(0, -1.6084152082638636), (1, -0.03393495171428909), (2, -0.6466164998759968)]\n",
      "[(0, -0.3274694713634696), (1, 0.3496882927774646), (2, 0.1715517956047342)]\n",
      "[(0, -1.5281178945235512), (1, -0.16974436066268872), (2, -0.024554631915174957)]\n",
      "[(0, -0.9456637976705571), (1, -0.41580571151717216), (2, -0.5325485141558044)]\n",
      "[(0, -1.0458649077610795), (1, -1.014484815434284), (2, 0.5138487927852903)]\n",
      "[(0, -1.6590518963679135), (1, 1.4669092192837978), (2, 0.3293715394745137)]\n",
      "[(0, -0.07665411819713507), (1, -0.14019736963550833), (2, 0.6007028354587611)]\n",
      "[(0, -0.6751624816501721), (1, -0.6164036717920012), (2, 0.1588350098001967)]\n",
      "[(0, -0.8037174124871265), (1, 0.3904108719394301), (2, -0.0735176950171789)]\n",
      "[(0, -0.3419903882423803), (1, 0.5154343827840457), (2, 0.5325785071905051)]\n",
      "[(0, -0.8018565231400958), (1, 1.40159694938736), (2, 1.8849437783977594)]\n"
     ]
    }
   ],
   "source": [
    "corpus_lsi = lsi[bow_texts]\n",
    "for doc in corpus_lsi:\n",
    "    print(doc)"
   ]
  },
  {
   "cell_type": "code",
   "execution_count": 146,
   "metadata": {},
   "outputs": [
    {
     "name": "stderr",
     "output_type": "stream",
     "text": [
      "2019-10-22 14:20:28,458: INFO: saving Projection object under D:\\Github\\NLP\\Artificial_Intelligence_for_NLP\\Projects\\2_autoSummarization\\temp\\model.lsi.projection, separately None\n",
      "2019-10-22 14:20:28,461: INFO: saved D:\\Github\\NLP\\Artificial_Intelligence_for_NLP\\Projects\\2_autoSummarization\\temp\\model.lsi.projection\n",
      "2019-10-22 14:20:28,462: INFO: saving LsiModel object under D:\\Github\\NLP\\Artificial_Intelligence_for_NLP\\Projects\\2_autoSummarization\\temp\\model.lsi, separately None\n",
      "2019-10-22 14:20:28,462: INFO: not storing attribute projection\n",
      "2019-10-22 14:20:28,463: INFO: not storing attribute dispatcher\n",
      "2019-10-22 14:20:28,466: INFO: saved D:\\Github\\NLP\\Artificial_Intelligence_for_NLP\\Projects\\2_autoSummarization\\temp\\model.lsi\n"
     ]
    }
   ],
   "source": [
    "lsi.save(os.path.join(TEMP_FOLDER, 'model.lsi'))"
   ]
  },
  {
   "cell_type": "code",
   "execution_count": 147,
   "metadata": {},
   "outputs": [
    {
     "name": "stderr",
     "output_type": "stream",
     "text": [
      "2019-10-22 14:21:13,705: INFO: loading LsiModel object from D:\\Github\\NLP\\Artificial_Intelligence_for_NLP\\Projects\\2_autoSummarization\\temp\\model.lsi\n",
      "2019-10-22 14:21:13,712: INFO: loading id2word recursively from D:\\Github\\NLP\\Artificial_Intelligence_for_NLP\\Projects\\2_autoSummarization\\temp\\model.lsi.id2word.* with mmap=None\n",
      "2019-10-22 14:21:13,713: INFO: setting ignored attribute projection to None\n",
      "2019-10-22 14:21:13,713: INFO: setting ignored attribute dispatcher to None\n",
      "2019-10-22 14:21:13,714: INFO: loaded D:\\Github\\NLP\\Artificial_Intelligence_for_NLP\\Projects\\2_autoSummarization\\temp\\model.lsi\n",
      "2019-10-22 14:21:13,715: INFO: loading LsiModel object from D:\\Github\\NLP\\Artificial_Intelligence_for_NLP\\Projects\\2_autoSummarization\\temp\\model.lsi.projection\n",
      "2019-10-22 14:21:13,723: INFO: loaded D:\\Github\\NLP\\Artificial_Intelligence_for_NLP\\Projects\\2_autoSummarization\\temp\\model.lsi.projection\n"
     ]
    }
   ],
   "source": [
    "lsi = models.LsiModel.load(os.path.join(TEMP_FOLDER, 'model.lsi'))"
   ]
  },
  {
   "cell_type": "code",
   "execution_count": 149,
   "metadata": {},
   "outputs": [
    {
     "data": {
      "text/plain": [
       "[(0,\n",
       "  '-0.663*\"数据\" + -0.402*\"金融\" + -0.402*\"技术\" + -0.322*\"一文\" + -0.201*\"企业\" + -0.180*\"商业\" + -0.141*\"知识图谱\" + -0.133*\"分析\" + -0.132*\"构建\" + -0.047*\"创新\"'),\n",
       " (1,\n",
       "  '0.507*\"企业\" + -0.463*\"商业\" + 0.382*\"数据\" + -0.331*\"构建\" + -0.294*\"技术\" + -0.266*\"一文\" + 0.196*\"分析\" + 0.173*\"转型\" + -0.165*\"创新\" + -0.131*\"金融\"'),\n",
       " (2,\n",
       "  '0.492*\"企业\" + -0.465*\"金融\" + 0.424*\"商业\" + 0.322*\"创新\" + 0.279*\"新\" + 0.271*\"转型\" + 0.227*\"构建\" + 0.157*\"一文\" + -0.114*\"数据\" + -0.108*\"技术\"')]"
      ]
     },
     "execution_count": 149,
     "metadata": {},
     "output_type": "execute_result"
    }
   ],
   "source": [
    "lsi.show_topics()"
   ]
  },
  {
   "cell_type": "code",
   "execution_count": 150,
   "metadata": {},
   "outputs": [
    {
     "name": "stderr",
     "output_type": "stream",
     "text": [
      "2019-10-22 14:22:57,615: INFO: topic #0(1.667): -0.663*\"数据\" + -0.402*\"金融\" + -0.402*\"技术\" + -0.322*\"一文\" + -0.201*\"企业\" + -0.180*\"商业\" + -0.141*\"知识图谱\" + -0.133*\"分析\" + -0.132*\"构建\" + -0.047*\"创新\"\n",
      "2019-10-22 14:22:57,617: INFO: topic #1(1.363): 0.507*\"企业\" + -0.463*\"商业\" + 0.382*\"数据\" + -0.331*\"构建\" + -0.294*\"技术\" + -0.266*\"一文\" + 0.196*\"分析\" + 0.173*\"转型\" + -0.165*\"创新\" + -0.131*\"金融\"\n",
      "2019-10-22 14:22:57,618: INFO: topic #2(1.287): 0.492*\"企业\" + -0.465*\"金融\" + 0.424*\"商业\" + 0.322*\"创新\" + 0.279*\"新\" + 0.271*\"转型\" + 0.227*\"构建\" + 0.157*\"一文\" + -0.114*\"数据\" + -0.108*\"技术\"\n"
     ]
    },
    {
     "data": {
      "text/plain": [
       "[(0,\n",
       "  '-0.663*\"数据\" + -0.402*\"金融\" + -0.402*\"技术\" + -0.322*\"一文\" + -0.201*\"企业\" + -0.180*\"商业\" + -0.141*\"知识图谱\" + -0.133*\"分析\" + -0.132*\"构建\" + -0.047*\"创新\"'),\n",
       " (1,\n",
       "  '0.507*\"企业\" + -0.463*\"商业\" + 0.382*\"数据\" + -0.331*\"构建\" + -0.294*\"技术\" + -0.266*\"一文\" + 0.196*\"分析\" + 0.173*\"转型\" + -0.165*\"创新\" + -0.131*\"金融\"'),\n",
       " (2,\n",
       "  '0.492*\"企业\" + -0.465*\"金融\" + 0.424*\"商业\" + 0.322*\"创新\" + 0.279*\"新\" + 0.271*\"转型\" + 0.227*\"构建\" + 0.157*\"一文\" + -0.114*\"数据\" + -0.108*\"技术\"')]"
      ]
     },
     "execution_count": 150,
     "metadata": {},
     "output_type": "execute_result"
    }
   ],
   "source": [
    "lsi.print_topics()"
   ]
  },
  {
   "cell_type": "code",
   "execution_count": 158,
   "metadata": {},
   "outputs": [
    {
     "name": "stderr",
     "output_type": "stream",
     "text": [
      "2019-10-22 14:45:49,810: INFO: updating model with new documents\n",
      "2019-10-22 14:45:49,811: INFO: preparing a new chunk of documents\n",
      "2019-10-22 14:45:49,812: INFO: using 100 extra samples and 2 power iterations\n",
      "2019-10-22 14:45:49,812: INFO: 1st phase: constructing (14, 103) action matrix\n",
      "2019-10-22 14:45:49,814: INFO: orthonormalizing (14, 103) action matrix\n",
      "2019-10-22 14:45:49,816: INFO: 2nd phase: running dense svd on (14, 1) matrix\n",
      "2019-10-22 14:45:49,816: INFO: computing the final decomposition\n",
      "2019-10-22 14:45:49,817: INFO: keeping 1 factors (discarding 0.000% of energy spectrum)\n",
      "2019-10-22 14:45:49,818: INFO: merging projections: (14, 3) + (14, 1)\n",
      "2019-10-22 14:45:49,819: INFO: keeping 3 factors (discarding 2.947% of energy spectrum)\n",
      "2019-10-22 14:45:49,820: INFO: processed documents up to #1\n",
      "2019-10-22 14:45:49,821: INFO: topic #0(1.815): 0.817*\"商业\" + 0.293*\"一文\" + 0.282*\"技术\" + 0.228*\"构建\" + 0.206*\"数据\" + 0.152*\"创新\" + 0.147*\"金融\" + 0.130*\"知识图谱\" + 0.073*\"新\" + 0.061*\"企业\"\n",
      "2019-10-22 14:45:49,822: INFO: topic #1(1.609): -0.712*\"数据\" + -0.396*\"金融\" + 0.386*\"商业\" + -0.254*\"技术\" + -0.232*\"企业\" + -0.164*\"分析\" + -0.135*\"一文\" + 0.095*\"创新\" + -0.083*\"知识图谱\" + 0.062*\"构建\"\n",
      "2019-10-22 14:45:49,822: INFO: topic #2(1.321): 0.693*\"企业\" + -0.448*\"金融\" + 0.313*\"转型\" + -0.295*\"技术\" + 0.220*\"新\" + 0.174*\"分析\" + 0.143*\"数据\" + 0.124*\"创新\" + -0.078*\"一文\" + 0.073*\"商业\"\n"
     ]
    },
    {
     "name": "stdout",
     "output_type": "stream",
     "text": [
      "[(1, 0.9948627588855407), (3, 0.10123285525287981)]\n"
     ]
    }
   ],
   "source": [
    "# LSI的增量学习\n",
    "new_doc = ' '.join(jieba.lcut('知识图谱的商业应用前景非常广阔'))\n",
    "new_doc = dictionary.doc2bow(new_doc.lower().split())\n",
    "new_doc_vec = tfidf[new_doc]\n",
    "print(new_doc_vec)\n",
    "lsi.add_documents([new_doc_vec])\n",
    "lsi_vec = lsi[new_doc_vec]"
   ]
  },
  {
   "cell_type": "code",
   "execution_count": 161,
   "metadata": {},
   "outputs": [
    {
     "name": "stderr",
     "output_type": "stream",
     "text": [
      "2019-10-22 14:49:32,112: INFO: using symmetric alpha at 0.3333333333333333\n",
      "2019-10-22 14:49:32,113: INFO: using symmetric eta at 0.3333333333333333\n",
      "2019-10-22 14:49:32,114: INFO: using serial LDA version on this node\n",
      "2019-10-22 14:49:32,114: INFO: running online (single-pass) LDA training, 3 topics, 1 passes over the supplied corpus of 12 documents, updating model once every 12 documents, evaluating perplexity every 12 documents, iterating 50x with a convergence threshold of 0.001000\n",
      "2019-10-22 14:49:32,115: WARNING: too few updates, training might not converge; consider increasing the number of passes or iterations to improve accuracy\n",
      "2019-10-22 14:49:32,141: INFO: -3.829 per-word bound, 14.2 perplexity estimate based on a held-out corpus of 12 documents with 46 words\n",
      "2019-10-22 14:49:32,142: INFO: PROGRESS: pass 0, at document #12/12\n",
      "2019-10-22 14:49:32,166: INFO: topic #0 (0.333): 0.233*\"知识图谱\" + 0.173*\"企业\" + 0.122*\"转型\" + 0.119*\"新\" + 0.076*\"技术\" + 0.069*\"构建\" + 0.064*\"创新\" + 0.026*\"数据\" + 0.021*\"商业\" + 0.020*\"金融\"\n",
      "2019-10-22 14:49:32,167: INFO: topic #1 (0.333): 0.184*\"知识图谱\" + 0.175*\"数据\" + 0.137*\"商业\" + 0.097*\"技术\" + 0.096*\"一文\" + 0.058*\"创新\" + 0.057*\"企业\" + 0.057*\"构建\" + 0.057*\"分析\" + 0.017*\"知识\"\n",
      "2019-10-22 14:49:32,168: INFO: topic #2 (0.333): 0.187*\"知识图谱\" + 0.129*\"技术\" + 0.126*\"管理\" + 0.126*\"金融\" + 0.125*\"知识\" + 0.079*\"数据\" + 0.073*\"分析\" + 0.025*\"创新\" + 0.024*\"企业\" + 0.022*\"商业\"\n",
      "2019-10-22 14:49:32,169: INFO: topic diff=1.466056, rho=1.000000\n",
      "2019-10-22 14:49:32,170: INFO: topic #0 (0.333): 0.233*\"知识图谱\" + 0.173*\"企业\" + 0.122*\"转型\" + 0.119*\"新\" + 0.076*\"技术\" + 0.069*\"构建\" + 0.064*\"创新\" + 0.026*\"数据\" + 0.021*\"商业\" + 0.020*\"金融\"\n",
      "2019-10-22 14:49:32,170: INFO: topic #1 (0.333): 0.184*\"知识图谱\" + 0.175*\"数据\" + 0.137*\"商业\" + 0.097*\"技术\" + 0.096*\"一文\" + 0.058*\"创新\" + 0.057*\"企业\" + 0.057*\"构建\" + 0.057*\"分析\" + 0.017*\"知识\"\n",
      "2019-10-22 14:49:32,171: INFO: topic #2 (0.333): 0.187*\"知识图谱\" + 0.129*\"技术\" + 0.126*\"管理\" + 0.126*\"金融\" + 0.125*\"知识\" + 0.079*\"数据\" + 0.073*\"分析\" + 0.025*\"创新\" + 0.024*\"企业\" + 0.022*\"商业\"\n"
     ]
    },
    {
     "data": {
      "text/plain": [
       "[(0,\n",
       "  '0.233*\"知识图谱\" + 0.173*\"企业\" + 0.122*\"转型\" + 0.119*\"新\" + 0.076*\"技术\" + 0.069*\"构建\" + 0.064*\"创新\" + 0.026*\"数据\" + 0.021*\"商业\" + 0.020*\"金融\"'),\n",
       " (1,\n",
       "  '0.184*\"知识图谱\" + 0.175*\"数据\" + 0.137*\"商业\" + 0.097*\"技术\" + 0.096*\"一文\" + 0.058*\"创新\" + 0.057*\"企业\" + 0.057*\"构建\" + 0.057*\"分析\" + 0.017*\"知识\"'),\n",
       " (2,\n",
       "  '0.187*\"知识图谱\" + 0.129*\"技术\" + 0.126*\"管理\" + 0.126*\"金融\" + 0.125*\"知识\" + 0.079*\"数据\" + 0.073*\"分析\" + 0.025*\"创新\" + 0.024*\"企业\" + 0.022*\"商业\"')]"
      ]
     },
     "execution_count": 161,
     "metadata": {},
     "output_type": "execute_result"
    }
   ],
   "source": [
    "lda_model = models.LdaModel(bow_texts, id2word=dictionary, num_topics=3)\n",
    "lda_model.print_topics()"
   ]
  },
  {
   "cell_type": "code",
   "execution_count": 162,
   "metadata": {},
   "outputs": [
    {
     "name": "stderr",
     "output_type": "stream",
     "text": [
      "2019-10-22 14:52:56,880: INFO: (0, '0.148*管理 + 0.135*构建 + 0.126*转型 + 0.104*知识 + 0.087*创新 + 0.079*分析 + 0.056*新 + 0.051*企业 + 0.051*知识图谱 + 0.050*一文')\n",
      "2019-10-22 14:52:56,881: INFO: (1, '0.300*知识 + 0.139*转型 + 0.138*商业 + 0.111*企业 + 0.090*分析 + 0.059*知识图谱 + 0.040*管理 + 0.032*创新 + 0.028*金融 + 0.027*一文')\n",
      "2019-10-22 14:52:56,882: INFO: (2, '0.308*分析 + 0.174*知识图谱 + 0.141*创新 + 0.075*商业 + 0.056*一文 + 0.054*管理 + 0.054*构建 + 0.042*企业 + 0.036*知识 + 0.027*数据')\n",
      "2019-10-22 14:52:56,883: INFO: (3, '0.310*管理 + 0.263*企业 + 0.112*转型 + 0.088*一文 + 0.069*分析 + 0.038*技术 + 0.027*商业 + 0.027*知识 + 0.023*创新 + 0.018*构建')\n",
      "2019-10-22 14:52:56,884: INFO: (4, '0.181*新 + 0.152*创新 + 0.148*商业 + 0.104*技术 + 0.095*转型 + 0.084*构建 + 0.046*一文 + 0.044*知识 + 0.038*金融 + 0.034*管理')\n",
      "2019-10-22 14:52:56,885: INFO: (5, '0.269*金融 + 0.148*数据 + 0.107*一文 + 0.083*知识图谱 + 0.072*企业 + 0.057*分析 + 0.052*管理 + 0.050*构建 + 0.045*转型 + 0.042*商业')\n",
      "2019-10-22 14:52:56,888: INFO: (6, '0.269*知识 + 0.233*企业 + 0.155*分析 + 0.094*数据 + 0.071*构建 + 0.054*管理 + 0.042*知识图谱 + 0.027*转型 + 0.027*商业 + 0.023*金融')\n",
      "2019-10-22 14:52:56,889: INFO: (7, '0.154*构建 + 0.128*分析 + 0.117*商业 + 0.115*知识图谱 + 0.084*新 + 0.080*一文 + 0.067*转型 + 0.067*企业 + 0.060*知识 + 0.058*创新')\n",
      "2019-10-22 14:52:56,890: INFO: (8, '0.158*分析 + 0.145*知识 + 0.121*管理 + 0.111*一文 + 0.109*转型 + 0.088*金融 + 0.085*技术 + 0.035*构建 + 0.035*商业 + 0.032*创新')\n",
      "2019-10-22 14:52:56,891: INFO: (9, '0.215*企业 + 0.152*金融 + 0.130*转型 + 0.095*技术 + 0.084*一文 + 0.061*构建 + 0.059*新 + 0.054*知识图谱 + 0.051*知识 + 0.036*创新')\n",
      "2019-10-22 14:52:56,892: INFO: (10, '0.153*知识图谱 + 0.143*知识 + 0.129*分析 + 0.122*商业 + 0.095*数据 + 0.071*创新 + 0.059*转型 + 0.058*新 + 0.056*一文 + 0.044*构建')\n",
      "2019-10-22 14:52:56,892: INFO: (11, '0.191*数据 + 0.161*分析 + 0.157*一文 + 0.140*构建 + 0.115*管理 + 0.053*技术 + 0.040*知识 + 0.037*转型 + 0.036*企业 + 0.028*金融')\n",
      "2019-10-22 14:52:56,893: INFO: (12, '0.194*商业 + 0.172*创新 + 0.134*技术 + 0.088*新 + 0.072*数据 + 0.066*转型 + 0.064*管理 + 0.056*金融 + 0.040*知识图谱 + 0.035*分析')\n",
      "2019-10-22 14:52:56,894: INFO: (13, '0.208*商业 + 0.137*构建 + 0.119*管理 + 0.097*创新 + 0.090*知识 + 0.086*分析 + 0.053*新 + 0.051*技术 + 0.050*数据 + 0.035*金融')\n",
      "2019-10-22 14:52:56,894: INFO: (14, '0.209*一文 + 0.148*构建 + 0.099*转型 + 0.097*金融 + 0.097*创新 + 0.077*数据 + 0.070*技术 + 0.067*新 + 0.052*企业 + 0.025*商业')\n",
      "2019-10-22 14:52:56,895: INFO: (15, '0.291*数据 + 0.184*分析 + 0.169*商业 + 0.059*构建 + 0.056*创新 + 0.052*技术 + 0.046*企业 + 0.040*一文 + 0.039*知识 + 0.028*新')\n",
      "2019-10-22 14:52:56,896: INFO: (16, '0.250*构建 + 0.150*知识图谱 + 0.135*企业 + 0.101*分析 + 0.091*新 + 0.067*金融 + 0.060*商业 + 0.039*转型 + 0.038*创新 + 0.021*技术')\n",
      "2019-10-22 14:52:56,896: INFO: (17, '0.182*构建 + 0.172*转型 + 0.105*分析 + 0.098*创新 + 0.077*一文 + 0.071*数据 + 0.056*知识 + 0.051*商业 + 0.050*技术 + 0.039*企业')\n",
      "2019-10-22 14:52:56,897: INFO: (18, '0.342*企业 + 0.171*知识图谱 + 0.126*商业 + 0.084*管理 + 0.054*创新 + 0.052*新 + 0.034*知识 + 0.034*数据 + 0.031*构建 + 0.024*转型')\n",
      "2019-10-22 14:52:56,898: INFO: (19, '0.195*金融 + 0.163*企业 + 0.101*转型 + 0.095*分析 + 0.076*创新 + 0.073*知识图谱 + 0.073*商业 + 0.068*技术 + 0.059*知识 + 0.049*新')\n"
     ]
    },
    {
     "data": {
      "text/plain": [
       "[(0,\n",
       "  '0.148*管理 + 0.135*构建 + 0.126*转型 + 0.104*知识 + 0.087*创新 + 0.079*分析 + 0.056*新 + 0.051*企业 + 0.051*知识图谱 + 0.050*一文 + 0.046*商业 + 0.031*数据 + 0.027*技术 + 0.009*金融'),\n",
       " (1,\n",
       "  '0.300*知识 + 0.139*转型 + 0.138*商业 + 0.111*企业 + 0.090*分析 + 0.059*知识图谱 + 0.040*管理 + 0.032*创新 + 0.028*金融 + 0.027*一文 + 0.018*构建 + 0.013*技术 + 0.005*新 + 0.001*数据'),\n",
       " (2,\n",
       "  '0.308*分析 + 0.174*知识图谱 + 0.141*创新 + 0.075*商业 + 0.056*一文 + 0.054*管理 + 0.054*构建 + 0.042*企业 + 0.036*知识 + 0.027*数据 + 0.014*金融 + 0.009*新 + 0.007*转型 + 0.003*技术'),\n",
       " (3,\n",
       "  '0.310*管理 + 0.263*企业 + 0.112*转型 + 0.088*一文 + 0.069*分析 + 0.038*技术 + 0.027*商业 + 0.027*知识 + 0.023*创新 + 0.018*构建 + 0.014*知识图谱 + 0.006*金融 + 0.005*新 + 0.000*数据'),\n",
       " (4,\n",
       "  '0.181*新 + 0.152*创新 + 0.148*商业 + 0.104*技术 + 0.095*转型 + 0.084*构建 + 0.046*一文 + 0.044*知识 + 0.038*金融 + 0.034*管理 + 0.028*企业 + 0.022*知识图谱 + 0.020*分析 + 0.004*数据'),\n",
       " (5,\n",
       "  '0.269*金融 + 0.148*数据 + 0.107*一文 + 0.083*知识图谱 + 0.072*企业 + 0.057*分析 + 0.052*管理 + 0.050*构建 + 0.045*转型 + 0.042*商业 + 0.031*知识 + 0.029*新 + 0.010*创新 + 0.005*技术'),\n",
       " (6,\n",
       "  '0.269*知识 + 0.233*企业 + 0.155*分析 + 0.094*数据 + 0.071*构建 + 0.054*管理 + 0.042*知识图谱 + 0.027*转型 + 0.027*商业 + 0.023*金融 + 0.003*新 + 0.001*技术 + 0.001*一文 + 0.000*创新'),\n",
       " (7,\n",
       "  '0.154*构建 + 0.128*分析 + 0.117*商业 + 0.115*知识图谱 + 0.084*新 + 0.080*一文 + 0.067*转型 + 0.067*企业 + 0.060*知识 + 0.058*创新 + 0.024*数据 + 0.020*金融 + 0.018*技术 + 0.007*管理'),\n",
       " (8,\n",
       "  '0.158*分析 + 0.145*知识 + 0.121*管理 + 0.111*一文 + 0.109*转型 + 0.088*金融 + 0.085*技术 + 0.035*构建 + 0.035*商业 + 0.032*创新 + 0.030*企业 + 0.022*新 + 0.016*知识图谱 + 0.011*数据'),\n",
       " (9,\n",
       "  '0.215*企业 + 0.152*金融 + 0.130*转型 + 0.095*技术 + 0.084*一文 + 0.061*构建 + 0.059*新 + 0.054*知识图谱 + 0.051*知识 + 0.036*创新 + 0.031*数据 + 0.018*分析 + 0.008*商业 + 0.006*管理'),\n",
       " (10,\n",
       "  '0.153*知识图谱 + 0.143*知识 + 0.129*分析 + 0.122*商业 + 0.095*数据 + 0.071*创新 + 0.059*转型 + 0.058*新 + 0.056*一文 + 0.044*构建 + 0.041*技术 + 0.029*企业 + 0.001*金融 + 0.000*管理'),\n",
       " (11,\n",
       "  '0.191*数据 + 0.161*分析 + 0.157*一文 + 0.140*构建 + 0.115*管理 + 0.053*技术 + 0.040*知识 + 0.037*转型 + 0.036*企业 + 0.028*金融 + 0.017*知识图谱 + 0.010*商业 + 0.009*创新 + 0.006*新'),\n",
       " (12,\n",
       "  '0.194*商业 + 0.172*创新 + 0.134*技术 + 0.088*新 + 0.072*数据 + 0.066*转型 + 0.064*管理 + 0.056*金融 + 0.040*知识图谱 + 0.035*分析 + 0.033*一文 + 0.028*企业 + 0.010*构建 + 0.010*知识'),\n",
       " (13,\n",
       "  '0.208*商业 + 0.137*构建 + 0.119*管理 + 0.097*创新 + 0.090*知识 + 0.086*分析 + 0.053*新 + 0.051*技术 + 0.050*数据 + 0.035*金融 + 0.030*知识图谱 + 0.030*一文 + 0.015*企业 + 0.000*转型'),\n",
       " (14,\n",
       "  '0.209*一文 + 0.148*构建 + 0.099*转型 + 0.097*金融 + 0.097*创新 + 0.077*数据 + 0.070*技术 + 0.067*新 + 0.052*企业 + 0.025*商业 + 0.023*分析 + 0.013*知识图谱 + 0.013*管理 + 0.011*知识'),\n",
       " (15,\n",
       "  '0.291*数据 + 0.184*分析 + 0.169*商业 + 0.059*构建 + 0.056*创新 + 0.052*技术 + 0.046*企业 + 0.040*一文 + 0.039*知识 + 0.028*新 + 0.016*知识图谱 + 0.015*管理 + 0.005*转型 + 0.001*金融'),\n",
       " (16,\n",
       "  '0.250*构建 + 0.150*知识图谱 + 0.135*企业 + 0.101*分析 + 0.091*新 + 0.067*金融 + 0.060*商业 + 0.039*转型 + 0.038*创新 + 0.021*技术 + 0.019*数据 + 0.012*知识 + 0.010*管理 + 0.007*一文'),\n",
       " (17,\n",
       "  '0.182*构建 + 0.172*转型 + 0.105*分析 + 0.098*创新 + 0.077*一文 + 0.071*数据 + 0.056*知识 + 0.051*商业 + 0.050*技术 + 0.039*企业 + 0.036*金融 + 0.028*管理 + 0.027*知识图谱 + 0.006*新'),\n",
       " (18,\n",
       "  '0.342*企业 + 0.171*知识图谱 + 0.126*商业 + 0.084*管理 + 0.054*创新 + 0.052*新 + 0.034*知识 + 0.034*数据 + 0.031*构建 + 0.024*转型 + 0.022*技术 + 0.022*金融 + 0.004*分析 + 0.000*一文'),\n",
       " (19,\n",
       "  '0.195*金融 + 0.163*企业 + 0.101*转型 + 0.095*分析 + 0.076*创新 + 0.073*知识图谱 + 0.073*商业 + 0.068*技术 + 0.059*知识 + 0.049*新 + 0.030*管理 + 0.013*数据 + 0.002*构建 + 0.002*一文')]"
      ]
     },
     "execution_count": 162,
     "metadata": {},
     "output_type": "execute_result"
    }
   ],
   "source": [
    "# 层次狄利克雷过程，不需要设定主题数目\n",
    "hdp_model = models.HdpModel(bow_texts, id2word=dictionary)\n",
    "hdp_model.show_topics()"
   ]
  },
  {
   "cell_type": "markdown",
   "metadata": {},
   "source": [
    "梳理下流程\n",
    "- 原生文本\n",
    "- 切词，去停用词\n",
    "- 构建词典dictionary\n",
    "- bow_docs = dictionary.doc2bow(doc.lower().split())转换到向量空间\n",
    "- tfidf_model = models.TfidfModel(bow_docs)\n",
    "    - corpus_tfidf = tfidf_model[bow_docs]\n",
    "- lsi_model = models.LsiModel(corpus_tfidf, id2word=dictionary, num_topics=3)\n",
    "    - corpus_lsi = lsi_model[bow_docs]"
   ]
  },
  {
   "cell_type": "markdown",
   "metadata": {},
   "source": [
    "# 文本相似度搜索"
   ]
  },
  {
   "cell_type": "markdown",
   "metadata": {},
   "source": [
    "## 简易的相似度查询接口"
   ]
  },
  {
   "cell_type": "code",
   "execution_count": 178,
   "metadata": {},
   "outputs": [],
   "source": [
    "# 向jieba字典添加自定义词汇\n",
    "new_word = ['文本挖掘', '虎嗅网', '新媒体', '微博', '公众号', \n",
    "            '洪荒之力', 'social_listening', '社会化聆听']\n",
    "for word in new_word:\n",
    "    jieba.add_word(word)"
   ]
  },
  {
   "cell_type": "code",
   "execution_count": 20,
   "metadata": {},
   "outputs": [],
   "source": [
    "class MyCorpus3:\n",
    "    def __init__(self, path):\n",
    "        self.path = path\n",
    "        self.dict = None\n",
    "        \n",
    "    def get_dictionary(self, stoplist, once_id=False):\n",
    "        # once_id：是否去除频率只有1次的词汇\n",
    "        self.raw_doc = [line[:-2] for line in smart_open(self.path, 'r', encoding='utf-8')]\n",
    "        self.dict = corpora.Dictionary(' '.join(jieba.lcut(line)).lower().split()\n",
    "                                      for line in self.raw_doc)\n",
    "        stop_ids = [self.dict.token2id[stopword] for stopword in stoplist\n",
    "                   if stopword in self.dict.token2id]\n",
    "        once_ids = [tokenid for tokenid, wordfreq in self.dict.dfs.items()\n",
    "                   if wordfreq == 1]\n",
    "        once_ids = once_ids if once_id else []\n",
    "        \n",
    "        self.dict.filter_tokens(stop_ids + once_ids)\n",
    "        return self.dict\n",
    "    \n",
    "    def __iter__(self):\n",
    "        for line in smart_open(self.path, 'r', encoding='utf-8'):\n",
    "            split_doc = ' '.join(jieba.lcut(line)).lower().split()\n",
    "            yield self.dict.doc2bow(split_doc)\n",
    "            \n",
    "    def get_rawdata(self):\n",
    "        return self.raw_doc\n",
    "    \n",
    "def get_sorted_result(raw_docs, doc, dictionary, model):\n",
    "    doc = ' '.join(jieba.lcut(doc))\n",
    "    doc_bow = dictionary.doc2bow(doc.lower().split())\n",
    "    doc_model = model[doc_bow]\n",
    "    result = [(raw_docs[i[0]], i[1]) for i in doc_model]\n",
    "    return sorted(result, key=lambda x: x[1], reverse=True)"
   ]
  },
  {
   "cell_type": "code",
   "execution_count": 6,
   "metadata": {},
   "outputs": [
    {
     "name": "stderr",
     "output_type": "stream",
     "text": [
      "2019-10-23 13:33:02,026: INFO: adding document #0 to Dictionary(0 unique tokens: [])\n",
      "2019-10-23 13:33:02,033: INFO: built Dictionary(193 unique tokens: ['5', '《', '》', '万首', '全唐诗']...) from 25 documents (total 369 corpus positions)\n"
     ]
    },
    {
     "name": "stdout",
     "output_type": "stream",
     "text": [
      "Dictionary(139 unique tokens: ['万首', '全唐诗', '剖析', '实操', '数据挖掘']...)\n"
     ]
    }
   ],
   "source": [
    "corpus = MyCorpus3('data/corpus_pm.txt')\n",
    "corpus_dict = corpus.get_dictionary(stopwords)\n",
    "print(corpus_dict)"
   ]
  },
  {
   "cell_type": "code",
   "execution_count": 18,
   "metadata": {},
   "outputs": [
    {
     "data": {
      "text/plain": [
       "['数据挖掘实操｜用文本挖掘剖析近5万首《全唐诗》',\n",
       " '以虎嗅网4W+文章的文本挖掘为例，展现数据分析的一整套流程',\n",
       " '干货｜作为一个合格的“增长黑客”，你还得重视外部数据的分析！']"
      ]
     },
     "execution_count": 18,
     "metadata": {},
     "output_type": "execute_result"
    }
   ],
   "source": [
    "corpus.raw_doc[:3]"
   ]
  },
  {
   "cell_type": "code",
   "execution_count": 19,
   "metadata": {},
   "outputs": [
    {
     "data": {
      "text/plain": [
       "[[(0, 1), (1, 1), (2, 1), (3, 1), (4, 1), (5, 1)],\n",
       " [(5, 1), (6, 1), (7, 1), (8, 1), (9, 1), (10, 1), (11, 1), (12, 1), (13, 1)]]"
      ]
     },
     "execution_count": 19,
     "metadata": {},
     "output_type": "execute_result"
    }
   ],
   "source": [
    "list(corpus)[:2]"
   ]
  },
  {
   "cell_type": "code",
   "execution_count": 9,
   "metadata": {},
   "outputs": [
    {
     "name": "stderr",
     "output_type": "stream",
     "text": [
      "2019-10-23 13:33:05,965: INFO: using serial LSI version on this node\n",
      "2019-10-23 13:33:05,966: INFO: updating model with new documents\n",
      "2019-10-23 13:33:05,974: INFO: preparing a new chunk of documents\n",
      "2019-10-23 13:33:05,975: INFO: using 100 extra samples and 100 power iterations\n",
      "2019-10-23 13:33:05,976: INFO: 1st phase: constructing (139, 110) action matrix\n",
      "2019-10-23 13:33:05,979: INFO: orthonormalizing (139, 110) action matrix\n",
      "2019-10-23 13:33:06,137: INFO: 2nd phase: running dense svd on (110, 25) matrix\n",
      "2019-10-23 13:33:06,149: INFO: computing the final decomposition\n",
      "2019-10-23 13:33:06,150: INFO: keeping 10 factors (discarding 36.204% of energy spectrum)\n",
      "2019-10-23 13:33:06,153: INFO: processed documents up to #25\n",
      "2019-10-23 13:33:06,156: INFO: topic #0(5.076): 0.523*\"数据\" + 0.337*\"分析\" + 0.305*\"文本挖掘\" + 0.305*\"运营\" + 0.281*\"数据分析\" + 0.167*\"文本\" + 0.156*\"为例\" + 0.139*\"白到\" + 0.119*\"精通\" + 0.106*\"舆情\"\n",
      "2019-10-23 13:33:06,158: INFO: topic #1(4.239): -0.432*\"文本挖掘\" + 0.339*\"运营\" + -0.338*\"白到\" + -0.278*\"精通\" + 0.247*\"数据分析\" + -0.196*\"空间\" + -0.196*\"向量\" + -0.188*\"模型\" + 0.181*\"新媒体\" + -0.165*\"语料\"\n",
      "2019-10-23 13:33:06,159: INFO: topic #2(3.801): -0.332*\"为例\" + -0.280*\"微博\" + 0.246*\"白到\" + -0.240*\"数据\" + 0.222*\"运营\" + 0.171*\"数据分析\" + 0.170*\"新媒体\" + 0.166*\"精通\" + 0.153*\"语料\" + -0.152*\"传播\"\n",
      "2019-10-23 13:33:06,160: INFO: topic #3(3.648): -0.387*\"微博\" + 0.312*\"数据\" + -0.239*\"数据分析\" + -0.233*\"传播\" + -0.213*\"为例\" + 0.211*\"分析\" + -0.193*\"揭开\" + -0.193*\"人民日报\" + -0.193*\"发布\" + -0.193*\"g20\"\n",
      "2019-10-23 13:33:06,161: INFO: topic #4(3.370): 0.319*\"文本挖掘\" + -0.306*\"文本\" + -0.296*\"分析\" + -0.183*\"训练\" + -0.183*\"算法\" + -0.183*\"注释\" + -0.183*\"大牛\" + -0.183*\"分类\" + -0.183*\"代码\" + -0.183*\"集锦\"\n"
     ]
    }
   ],
   "source": [
    "lsi = models.LsiModel(corpus, id2word=corpus_dict, power_iters=100, num_topics=10)"
   ]
  },
  {
   "cell_type": "code",
   "execution_count": 21,
   "metadata": {},
   "outputs": [
    {
     "data": {
      "text/plain": [
       "[('数据挖掘实操｜用文本挖掘剖析近5万首《全唐诗》', 0.844679316585945),\n",
       " ('Social Listening和传统市场调研的关系是怎样的？', 0.41403963882552003),\n",
       " ('文本分类算法集锦，从小白到大牛，附代码注释和训练语料', 0.2883708290960592),\n",
       " ('文本挖掘从小白到精通（二）---语料库和词向量空间', 0.24218731428036233),\n",
       " ('以《大秦帝国之崛起》为例，来谈大数据舆情分析和文本挖掘', 0.23818852876942712),\n",
       " ('【新媒体运营实操】如何做出一个精美的个性化词', 0.09577845325998997),\n",
       " ('文本挖掘从小白到精通（三）---主题模型和文本数据转换', -0.1718180948084292),\n",
       " ('干货｜作为一个合格的“增长黑客”，你还得重视外部数据的分析！', -0.18865884969129068),\n",
       " ('以虎嗅网4W+文章的文本挖掘为例，展现数据分析的一整套流程', -0.2861713383183807),\n",
       " ('文本挖掘从小白到精通（一）---语料、向量空间和模型的概念', -0.6585835187202009)]"
      ]
     },
     "execution_count": 21,
     "metadata": {},
     "output_type": "execute_result"
    }
   ],
   "source": [
    "doc = '文本挖掘在舆情分析中的作用很大'\n",
    "get_sorted_result(corpus.raw_doc, doc, corpus.dict, lsi)"
   ]
  },
  {
   "cell_type": "code",
   "execution_count": 22,
   "metadata": {},
   "outputs": [
    {
     "data": {
      "text/plain": [
       "[('数据挖掘实操｜用文本挖掘剖析近5万首《全唐诗》', 0.37092464106436607),\n",
       " ('干货｜作为一个合格的“增长黑客”，你还得重视外部数据的分析！', 0.27908155523027656),\n",
       " ('文本挖掘从小白到精通（三）---主题模型和文本数据转换', 0.09668220614933427),\n",
       " ('以虎嗅网4W+文章的文本挖掘为例，展现数据分析的一整套流程', 0.05905465827425754),\n",
       " ('文本分类算法集锦，从小白到大牛，附代码注释和训练语料', 0.05055822780050535),\n",
       " ('【新媒体运营实操】如何做出一个精美的个性化词', 0.013816721840476595),\n",
       " ('Social Listening和传统市场调研的关系是怎样的？', -0.015089773092996299),\n",
       " ('文本挖掘从小白到精通（一）---语料、向量空间和模型的概念', -0.1698289761506112),\n",
       " ('以《大秦帝国之崛起》为例，来谈大数据舆情分析和文本挖掘', -0.20448029145206476),\n",
       " ('文本挖掘从小白到精通（二）---语料库和词向量空间', -0.2577209408576569)]"
      ]
     },
     "execution_count": 22,
     "metadata": {},
     "output_type": "execute_result"
    }
   ],
   "source": [
    "doc = '只有数据分析的模型是不足以作为样例示范的'\n",
    "get_sorted_result(corpus.raw_doc, doc, corpus.dict, lsi)"
   ]
  },
  {
   "cell_type": "markdown",
   "metadata": {},
   "source": [
    "## 初始化查询结构"
   ]
  },
  {
   "cell_type": "code",
   "execution_count": 25,
   "metadata": {},
   "outputs": [
    {
     "name": "stderr",
     "output_type": "stream",
     "text": [
      "2019-10-23 13:48:59,547: WARNING: scanning corpus to determine the number of features (consider setting `num_features` explicitly)\n",
      "2019-10-23 13:48:59,550: INFO: creating matrix with 25 documents and 10 features\n"
     ]
    }
   ],
   "source": [
    "index = similarities.MatrixSimilarity(lsi[list(corpus)])"
   ]
  },
  {
   "cell_type": "code",
   "execution_count": 28,
   "metadata": {},
   "outputs": [
    {
     "name": "stderr",
     "output_type": "stream",
     "text": [
      "2019-10-23 13:50:18,109: INFO: saving MatrixSimilarity object under D:\\Github\\NLP\\Artificial_Intelligence_for_NLP\\Projects\\2_autoSummarization\\temp\\query.index, separately None\n",
      "2019-10-23 13:50:18,112: INFO: saved D:\\Github\\NLP\\Artificial_Intelligence_for_NLP\\Projects\\2_autoSummarization\\temp\\query.index\n"
     ]
    }
   ],
   "source": [
    "# 持久化\n",
    "index.save(os.path.join(TEMP_FOLDER, 'query.index'))"
   ]
  },
  {
   "cell_type": "code",
   "execution_count": 27,
   "metadata": {},
   "outputs": [
    {
     "name": "stderr",
     "output_type": "stream",
     "text": [
      "2019-10-23 13:50:06,340: INFO: loading MatrixSimilarity object from D:\\Github\\NLP\\Artificial_Intelligence_for_NLP\\Projects\\2_autoSummarization\\temp\\query.index\n",
      "2019-10-23 13:50:06,346: INFO: loaded D:\\Github\\NLP\\Artificial_Intelligence_for_NLP\\Projects\\2_autoSummarization\\temp\\query.index\n"
     ]
    }
   ],
   "source": [
    "index = similarities.MatrixSimilarity.load(os.path.join(TEMP_FOLDER, 'query.index'))"
   ]
  },
  {
   "cell_type": "code",
   "execution_count": 29,
   "metadata": {},
   "outputs": [
    {
     "data": {
      "text/plain": [
       "[(0, 0.844679316585945),\n",
       " (1, -0.2861713383183807),\n",
       " (2, -0.18865884969129068),\n",
       " (3, 0.24218731428036233),\n",
       " (4, -0.1718180948084292),\n",
       " (5, -0.6585835187202009),\n",
       " (6, 0.23818852876942712),\n",
       " (7, 0.2883708290960592),\n",
       " (8, 0.41403963882552003),\n",
       " (9, 0.09577845325998997)]"
      ]
     },
     "execution_count": 29,
     "metadata": {},
     "output_type": "execute_result"
    }
   ],
   "source": [
    "doc = '文本挖掘在舆情分析中的作用很大'\n",
    "doc_split = ' '.join(jieba.cut(doc)).lower().split()\n",
    "doc_bow = corpus.dict.doc2bow(doc_split)\n",
    "doc_lsi = lsi[doc_bow]\n",
    "doc_lsi"
   ]
  },
  {
   "cell_type": "code",
   "execution_count": 36,
   "metadata": {},
   "outputs": [
    {
     "data": {
      "text/plain": [
       "[('以《大秦帝国之崛起》为例，来谈大数据舆情分析和文本挖掘', 0.87037665),\n",
       " ('傅园慧和她的“洪荒之力”的大数据舆情分析', 0.7904912),\n",
       " ('数据运营|数据分析中，文本分析远比数值型分析重要！（', 0.7248849),\n",
       " ('文本挖掘从小白到精通（三）---主题模型和文本数据转换', 0.55651546),\n",
       " ('从社交媒体传播和文本挖掘角度解读《欢乐颂2》', 0.48936325),\n",
       " ('干货｜作为一个合格的“增长黑客”，你还得重视外部数据的分析！', 0.48819625),\n",
       " ('以虎嗅网4W+文章的文本挖掘为例，展现数据分析的一整套流程', 0.4069984),\n",
       " ('数据挖掘实操｜用文本挖掘剖析近5万首《全唐诗》', 0.39584804),\n",
       " ('文本挖掘从小白到精通（二）---语料库和词向量空间', 0.36404642),\n",
       " ('文本挖掘从小白到精通（一）---语料、向量空间和模型的概念', 0.3257267),\n",
       " ('如何利用Social Listening从社会化媒体中“提炼”有价值的信息？', 0.26143166),\n",
       " ('用大数据文本挖掘，来洞察“共享单车”的行业现状及走势', 0.23545717),\n",
       " ('数据运营实操 | 如何运用数据分析对某个试运营项目进行“无死角”的复盘？', 0.20640735),\n",
       " ('如何利用微信后台数据优化微信运营', 0.18850628),\n",
       " ('Social Listening和传统市场调研的关系是怎样的？', 0.17525402),\n",
       " ('揭开微博转发传播的规律：以“人民日报”发布的G20文艺晚会微博为例', 0.02082536),\n",
       " ('当数据分析遭遇心理动力学：用户深层次的情感需求浮出水面', 0.008980334),\n",
       " ('不懂数理和编程，如何运用免费的大数据工具获得行业洞察？', -0.0071739107),\n",
       " ('以哈尔滨冰雪大世界旅游的传播效应为例，谈数据新闻可视化的“魅惑”', -0.019561674),\n",
       " ('如何用数据分析，搞定新媒体运营的定位和内容初始化？', -0.056382164),\n",
       " ('万字干货｜10款数据分析“工具”，助你成为新媒体运营领域的“增长黑客”', -0.06429328),\n",
       " ('文本分类算法集锦，从小白到大牛，附代码注释和训练语料', -0.074726835),\n",
       " ('写给迷茫的你：如何运用运营思维规划自己的职业发展路径？', -0.08867544),\n",
       " ('【新媒体运营实操】如何做出一个精美的个性化词', -0.12198083),\n",
       " ('如何用聚类分析进行企业公众号的内容优化', -0.21796897)]"
      ]
     },
     "execution_count": 36,
     "metadata": {},
     "output_type": "execute_result"
    }
   ],
   "source": [
    "sims = index[doc_lsi]\n",
    "result = [(corpus.raw_doc[i[0]], i[1]) for i in enumerate(sims)]\n",
    "sorted(result, key=lambda x: x[1], reverse=True)"
   ]
  },
  {
   "cell_type": "markdown",
   "metadata": {},
   "source": [
    "# 主题模型的主题数确定与可视化"
   ]
  },
  {
   "cell_type": "code",
   "execution_count": 38,
   "metadata": {},
   "outputs": [
    {
     "name": "stderr",
     "output_type": "stream",
     "text": [
      "2019-10-23 14:04:17,924: INFO: adding document #0 to Dictionary(0 unique tokens: [])\n",
      "2019-10-23 14:04:17,925: INFO: built Dictionary(22 unique tokens: ['叶子', '树上', '椭圆形', '苹果', '植物']...) from 13 documents (total 50 corpus positions)\n"
     ]
    },
    {
     "data": {
      "text/plain": [
       "[[(0, 1), (1, 1), (2, 1), (3, 1)],\n",
       " [(0, 1), (4, 1), (5, 1), (6, 1)],\n",
       " [(3, 1), (7, 1), (8, 1), (9, 1)],\n",
       " [(1, 1), (3, 1), (6, 1), (8, 1)],\n",
       " [(4, 1), (8, 1), (10, 1), (11, 1)],\n",
       " [(3, 1), (10, 1), (11, 1), (12, 1)],\n",
       " [(13, 1), (14, 1), (15, 1), (16, 1)],\n",
       " [(3, 1), (13, 1), (17, 1), (18, 1)],\n",
       " [(3, 1), (19, 1), (20, 1)],\n",
       " [(3, 1), (14, 1), (15, 1), (19, 1)],\n",
       " [(3, 1), (15, 1), (18, 1), (21, 1)],\n",
       " [(15, 1), (18, 1), (19, 1)],\n",
       " [(3, 1), (17, 1), (20, 1), (21, 1)]]"
      ]
     },
     "execution_count": 38,
     "metadata": {},
     "output_type": "execute_result"
    }
   ],
   "source": [
    "texts = [['苹果','叶子','椭圆形','树上'],\n",
    "            ['植物','叶子','绿色','落叶乔木'],\n",
    "            ['水果','苹果','红彤彤','味道'],\n",
    "            ['苹果','落叶乔木','树上','水果'],\n",
    "            ['植物','营养','水果','维生素'],\n",
    "            ['营养','维生素','苹果','成分'],\n",
    "            ['互联网','电脑','智能手机','高科技'],\n",
    "            ['苹果','公司','互联网','品质'],\n",
    "            ['乔布斯','苹果','硅谷'],\n",
    "            ['电脑','智能手机','苹果','乔布斯'], \n",
    "            ['苹果','电脑','品质','生意'],\n",
    "            ['电脑','品质','乔布斯'],\n",
    "            ['苹果','公司','生意','硅谷']]\n",
    "dictionary = corpora.Dictionary(texts)\n",
    "corpus = [dictionary.doc2bow(text) for text in texts]\n",
    "corpus"
   ]
  },
  {
   "cell_type": "code",
   "execution_count": 39,
   "metadata": {},
   "outputs": [
    {
     "name": "stderr",
     "output_type": "stream",
     "text": [
      "2019-10-23 14:06:09,191: INFO: using symmetric alpha at 0.5\n",
      "2019-10-23 14:06:09,192: INFO: using symmetric eta at 0.5\n",
      "2019-10-23 14:06:09,193: INFO: using serial LDA version on this node\n",
      "2019-10-23 14:06:09,194: INFO: running online (single-pass) LDA training, 2 topics, 1 passes over the supplied corpus of 13 documents, updating model once every 13 documents, evaluating perplexity every 13 documents, iterating 50x with a convergence threshold of 0.001000\n",
      "2019-10-23 14:06:09,195: WARNING: too few updates, training might not converge; consider increasing the number of passes or iterations to improve accuracy\n",
      "2019-10-23 14:06:09,228: INFO: -3.928 per-word bound, 15.2 perplexity estimate based on a held-out corpus of 13 documents with 50 words\n",
      "2019-10-23 14:06:09,230: INFO: PROGRESS: pass 0, at document #13/13\n",
      "2019-10-23 14:06:09,252: INFO: topic #0 (0.500): 0.134*\"苹果\" + 0.067*\"水果\" + 0.064*\"公司\" + 0.064*\"落叶乔木\" + 0.063*\"叶子\" + 0.062*\"植物\" + 0.061*\"树上\" + 0.054*\"生意\" + 0.052*\"品质\" + 0.044*\"互联网\"\n",
      "2019-10-23 14:06:09,254: INFO: topic #1 (0.500): 0.143*\"苹果\" + 0.106*\"电脑\" + 0.088*\"乔布斯\" + 0.061*\"智能手机\" + 0.059*\"品质\" + 0.047*\"营养\" + 0.045*\"维生素\" + 0.044*\"水果\" + 0.043*\"硅谷\" + 0.039*\"互联网\"\n",
      "2019-10-23 14:06:09,254: INFO: topic diff=0.634011, rho=1.000000\n",
      "2019-10-23 14:06:09,255: INFO: using symmetric alpha at 0.16666666666666666\n",
      "2019-10-23 14:06:09,256: INFO: using symmetric eta at 0.16666666666666666\n",
      "2019-10-23 14:06:09,257: INFO: using serial LDA version on this node\n",
      "2019-10-23 14:06:09,258: INFO: running online (single-pass) LDA training, 6 topics, 1 passes over the supplied corpus of 13 documents, updating model once every 13 documents, evaluating perplexity every 13 documents, iterating 50x with a convergence threshold of 0.001000\n",
      "2019-10-23 14:06:09,259: WARNING: too few updates, training might not converge; consider increasing the number of passes or iterations to improve accuracy\n",
      "2019-10-23 14:06:09,281: INFO: -6.238 per-word bound, 75.5 perplexity estimate based on a held-out corpus of 13 documents with 50 words\n",
      "2019-10-23 14:06:09,282: INFO: PROGRESS: pass 0, at document #13/13\n",
      "2019-10-23 14:06:09,297: INFO: topic #1 (0.167): 0.123*\"苹果\" + 0.122*\"乔布斯\" + 0.066*\"落叶乔木\" + 0.066*\"硅谷\" + 0.066*\"电脑\" + 0.066*\"水果\" + 0.066*\"植物\" + 0.066*\"绿色\" + 0.066*\"叶子\" + 0.066*\"红彤彤\"\n",
      "2019-10-23 14:06:09,299: INFO: topic #5 (0.167): 0.152*\"苹果\" + 0.152*\"品质\" + 0.152*\"公司\" + 0.152*\"互联网\" + 0.022*\"电脑\" + 0.022*\"乔布斯\" + 0.022*\"水果\" + 0.022*\"树上\" + 0.022*\"植物\" + 0.022*\"硅谷\"\n",
      "2019-10-23 14:06:09,300: INFO: topic #4 (0.167): 0.046*\"苹果\" + 0.046*\"电脑\" + 0.046*\"乔布斯\" + 0.046*\"水果\" + 0.046*\"品质\" + 0.046*\"硅谷\" + 0.045*\"树上\" + 0.045*\"营养\" + 0.045*\"互联网\" + 0.045*\"维生素\"\n",
      "2019-10-23 14:06:09,301: INFO: topic #3 (0.167): 0.138*\"苹果\" + 0.138*\"维生素\" + 0.138*\"营养\" + 0.074*\"乔布斯\" + 0.074*\"电脑\" + 0.074*\"水果\" + 0.074*\"智能手机\" + 0.074*\"植物\" + 0.074*\"成分\" + 0.011*\"品质\"\n",
      "2019-10-23 14:06:09,302: INFO: topic #2 (0.167): 0.186*\"苹果\" + 0.100*\"电脑\" + 0.100*\"树上\" + 0.100*\"品质\" + 0.100*\"水果\" + 0.100*\"落叶乔木\" + 0.100*\"生意\" + 0.014*\"乔布斯\" + 0.014*\"营养\" + 0.014*\"维生素\"\n",
      "2019-10-23 14:06:09,302: INFO: topic diff=3.480400, rho=1.000000\n"
     ]
    }
   ],
   "source": [
    "np.random.seed(1)\n",
    "good_lda = models.LdaModel(corpus, id2word=dictionary, iterations=50, num_topics=2)\n",
    "bad_lda = models.LdaModel(corpus, id2word=dictionary, iterations=50, num_topics=6)"
   ]
  },
  {
   "cell_type": "markdown",
   "metadata": {},
   "source": [
    "## 通过指标确定合理的主题数"
   ]
  },
  {
   "cell_type": "code",
   "execution_count": 43,
   "metadata": {},
   "outputs": [
    {
     "name": "stdout",
     "output_type": "stream",
     "text": [
      "Good lda model's score -18.78459503442916\n",
      "Bad lda model's score -18.83035774373808\n"
     ]
    }
   ],
   "source": [
    "# U_Mass Coherence\n",
    "good_cm = models.CoherenceModel(model=good_lda, corpus=corpus, dictionary=dictionary,\n",
    "                               coherence='u_mass')\n",
    "bad_cm = models.CoherenceModel(model=bad_lda, corpus=corpus, dictionary=dictionary,\n",
    "                              coherence='u_mass')\n",
    "print(f\"Good lda model's score {good_cm.get_coherence()}\")\n",
    "print(f\"Bad lda model's score {bad_cm.get_coherence()}\")"
   ]
  },
  {
   "cell_type": "code",
   "execution_count": 45,
   "metadata": {},
   "outputs": [
    {
     "name": "stderr",
     "output_type": "stream",
     "text": [
      "2019-10-23 14:10:39,312: INFO: using ParallelWordOccurrenceAccumulator(processes=7, batch_size=64) to estimate probabilities from sliding windows\n",
      "2019-10-23 14:10:43,332: INFO: 7 accumulators retrieved from output queue\n",
      "2019-10-23 14:10:43,346: INFO: accumulated word occurrence stats for 13 virtual documents\n",
      "2019-10-23 14:10:43,457: INFO: using ParallelWordOccurrenceAccumulator(processes=7, batch_size=64) to estimate probabilities from sliding windows\n"
     ]
    },
    {
     "name": "stdout",
     "output_type": "stream",
     "text": [
      "Good lda model's score 0.5880602397643417\n"
     ]
    },
    {
     "name": "stderr",
     "output_type": "stream",
     "text": [
      "2019-10-23 14:10:47,389: INFO: 7 accumulators retrieved from output queue\n",
      "2019-10-23 14:10:47,400: INFO: accumulated word occurrence stats for 13 virtual documents\n"
     ]
    },
    {
     "name": "stdout",
     "output_type": "stream",
     "text": [
      "Bad lda model's score 0.5868870960312388\n"
     ]
    }
   ],
   "source": [
    "# 使用C_V coherence\n",
    "good_cv = models.CoherenceModel(model=good_lda, texts=texts, dictionary=dictionary,\n",
    "                               coherence='c_v')\n",
    "bad_cv = models.CoherenceModel(model=bad_lda, texts=texts, dictionary=dictionary,\n",
    "                               coherence='c_v')\n",
    "print(f\"Good lda model's score {good_cv.get_coherence()}\")\n",
    "print(f\"Bad lda model's score {bad_cv.get_coherence()}\")"
   ]
  },
  {
   "cell_type": "code",
   "execution_count": 46,
   "metadata": {},
   "outputs": [
    {
     "data": {
      "text/plain": [
       "[(0,\n",
       "  '0.134*\"苹果\" + 0.067*\"水果\" + 0.064*\"公司\" + 0.064*\"落叶乔木\" + 0.063*\"叶子\" + 0.062*\"植物\" + 0.061*\"树上\" + 0.054*\"生意\" + 0.052*\"品质\" + 0.044*\"互联网\"'),\n",
       " (1,\n",
       "  '0.143*\"苹果\" + 0.106*\"电脑\" + 0.088*\"乔布斯\" + 0.061*\"智能手机\" + 0.059*\"品质\" + 0.047*\"营养\" + 0.045*\"维生素\" + 0.044*\"水果\" + 0.043*\"硅谷\" + 0.039*\"互联网\"')]"
      ]
     },
     "execution_count": 46,
     "metadata": {},
     "output_type": "execute_result"
    }
   ],
   "source": [
    "good_lda.show_topics()"
   ]
  },
  {
   "cell_type": "code",
   "execution_count": 84,
   "metadata": {},
   "outputs": [
    {
     "data": {
      "text/plain": [
       "[(0, 0.04840569), (1, 0.010981479)]"
      ]
     },
     "execution_count": 84,
     "metadata": {},
     "output_type": "execute_result"
    }
   ],
   "source": [
    "good_lda.get_term_topics(1)"
   ]
  },
  {
   "cell_type": "markdown",
   "metadata": {},
   "source": [
    "## 预测词汇的主题归属"
   ]
  },
  {
   "cell_type": "code",
   "execution_count": 74,
   "metadata": {},
   "outputs": [],
   "source": [
    "topic_list = ['水果', '公司']"
   ]
  },
  {
   "cell_type": "code",
   "execution_count": 75,
   "metadata": {},
   "outputs": [
    {
     "data": {
      "text/plain": [
       "[('水果', 0.04840569), ('公司', 0.010981479)]"
      ]
     },
     "execution_count": 75,
     "metadata": {},
     "output_type": "execute_result"
    }
   ],
   "source": [
    "[(topic_list[i[0]], i[1]) for i in good_lda.get_term_topics('树上')]"
   ]
  },
  {
   "cell_type": "code",
   "execution_count": 76,
   "metadata": {},
   "outputs": [
    {
     "data": {
      "text/plain": [
       "[('水果', 0.010337299), ('公司', 0.048843753)]"
      ]
     },
     "execution_count": 76,
     "metadata": {},
     "output_type": "execute_result"
    }
   ],
   "source": [
    "[(topic_list[i[0]], i[1]) for i in good_lda.get_term_topics('智能手机')]"
   ]
  },
  {
   "cell_type": "code",
   "execution_count": 77,
   "metadata": {},
   "outputs": [
    {
     "data": {
      "text/plain": [
       "[('水果', 0.050997235)]"
      ]
     },
     "execution_count": 77,
     "metadata": {},
     "output_type": "execute_result"
    }
   ],
   "source": [
    "[(topic_list[i[0]], i[1]) for i in good_lda.get_term_topics('落叶乔木')]"
   ]
  },
  {
   "cell_type": "markdown",
   "metadata": {},
   "source": [
    "## 预测文档的主题归属"
   ]
  },
  {
   "cell_type": "code",
   "execution_count": 56,
   "metadata": {},
   "outputs": [],
   "source": [
    "text_fruit = ['苹果', '树上', '落叶乔木', '苹果']\n",
    "text_comp = ['苹果', '智能手机', '乔布斯']\n",
    "bow_fruit = dictionary.doc2bow(text_fruit)\n",
    "bow_comp = dictionary.doc2bow(text_comp)"
   ]
  },
  {
   "cell_type": "code",
   "execution_count": 57,
   "metadata": {},
   "outputs": [],
   "source": [
    "doc_topics, word_topics, phi_values = good_lda.get_document_topics(bow_fruit, per_word_topics=True)"
   ]
  },
  {
   "cell_type": "code",
   "execution_count": 58,
   "metadata": {},
   "outputs": [
    {
     "data": {
      "text/plain": [
       "[(1, [0, 1]), (3, [0, 1]), (6, [0, 1])]"
      ]
     },
     "execution_count": 58,
     "metadata": {},
     "output_type": "execute_result"
    }
   ],
   "source": [
    "# 1,3,6对应原文的3个词汇，[0,1]是根据可能所归属的主题的列表，0排在前面表示最有可能归属于0号主题，即水果\n",
    "word_topics"
   ]
  },
  {
   "cell_type": "code",
   "execution_count": 60,
   "metadata": {},
   "outputs": [
    {
     "data": {
      "text/plain": [
       "[(1, [(0, 0.98440236), (1, 0.015594811)]),\n",
       " (3, [(0, 1.860103), (1, 0.1398949)]),\n",
       " (6, [(0, 0.9881795), (1, 0.011817768)])]"
      ]
     },
     "execution_count": 60,
     "metadata": {},
     "output_type": "execute_result"
    }
   ],
   "source": [
    "# 类似上面，跟了一个具体的归属概率，按照特征长度缩放，如3苹果，values和为2而不是1\n",
    "phi_values"
   ]
  },
  {
   "cell_type": "code",
   "execution_count": 62,
   "metadata": {},
   "outputs": [
    {
     "data": {
      "text/plain": [
       "[(0, 0.8664808), (1, 0.13351914)]"
      ]
     },
     "execution_count": 62,
     "metadata": {},
     "output_type": "execute_result"
    }
   ],
   "source": [
    "# 该文档归属于0的概率更大\n",
    "doc_topics"
   ]
  },
  {
   "cell_type": "code",
   "execution_count": 64,
   "metadata": {},
   "outputs": [
    {
     "data": {
      "text/plain": [
       "([(0, 0.14623211), (1, 0.8537679)],\n",
       " [(3, [1, 0]), (14, [1, 0]), (19, [1, 0])],\n",
       " [(3, [(0, 0.060342412), (1, 0.9396566)]),\n",
       "  (14, [(0, 0.014426504), (1, 0.9855706)]),\n",
       "  (19, [(0, 0.010020195), (1, 0.98997796)])])"
      ]
     },
     "execution_count": 64,
     "metadata": {},
     "output_type": "execute_result"
    }
   ],
   "source": [
    "doc_topics, word_topics, phi_values = good_lda.get_document_topics(bow_comp, per_word_topics=True)\n",
    "doc_topics, word_topics, phi_values"
   ]
  },
  {
   "cell_type": "code",
   "execution_count": 83,
   "metadata": {},
   "outputs": [
    {
     "name": "stdout",
     "output_type": "stream",
     "text": [
      "新文档：0 \n",
      "['苹果', '叶子', '椭圆形', '树上']\n",
      "文档主题：[('水果', 0.8807631), ('公司', 0.11923685)]\n",
      "词汇主题: [('叶子', [0, 1]), ('树上', [0, 1]), ('椭圆形', [0, 1]), ('苹果', [0, 1])]\n",
      "Phi 值：[('苹果', [(0, 0.060342412), (1, 0.9396566)]), ('智能手机', [(0, 0.014426504), (1, 0.9855706)]), ('乔布斯', [(0, 0.010020195), (1, 0.98997796)])]\n",
      "\n",
      "--------------------\n",
      "新文档：1 \n",
      "['植物', '叶子', '绿色', '落叶乔木']\n",
      "文档主题：[('水果', 0.8929289), ('公司', 0.10707108)]\n",
      "词汇主题: [('叶子', [0]), ('植物', [0]), ('绿色', [0, 1]), ('落叶乔木', [0])]\n",
      "Phi 值：[('苹果', [(0, 0.060342412), (1, 0.9396566)]), ('智能手机', [(0, 0.014426504), (1, 0.9855706)]), ('乔布斯', [(0, 0.010020195), (1, 0.98997796)])]\n",
      "\n",
      "--------------------\n",
      "新文档：2 \n",
      "['水果', '苹果', '红彤彤', '味道']\n",
      "文档主题：[('水果', 0.15606073), ('公司', 0.8439393)]\n",
      "词汇主题: [('苹果', [1, 0]), ('味道', [1, 0]), ('水果', [1, 0]), ('红彤彤', [1, 0])]\n",
      "Phi 值：[('苹果', [(0, 0.060342412), (1, 0.9396566)]), ('智能手机', [(0, 0.014426504), (1, 0.9855706)]), ('乔布斯', [(0, 0.010020195), (1, 0.98997796)])]\n",
      "\n",
      "--------------------\n",
      "新文档：3 \n",
      "['苹果', '落叶乔木', '树上', '水果']\n",
      "文档主题：[('水果', 0.87723404), ('公司', 0.122765906)]\n",
      "词汇主题: [('树上', [0, 1]), ('苹果', [0, 1]), ('落叶乔木', [0]), ('水果', [0, 1])]\n",
      "Phi 值：[('苹果', [(0, 0.060342412), (1, 0.9396566)]), ('智能手机', [(0, 0.014426504), (1, 0.9855706)]), ('乔布斯', [(0, 0.010020195), (1, 0.98997796)])]\n",
      "\n",
      "--------------------\n",
      "新文档：4 \n",
      "['植物', '营养', '水果', '维生素']\n",
      "文档主题：[('水果', 0.8234296), ('公司', 0.17657039)]\n",
      "词汇主题: [('植物', [0, 1]), ('水果', [0, 1]), ('维生素', [0, 1]), ('营养', [0, 1])]\n",
      "Phi 值：[('苹果', [(0, 0.060342412), (1, 0.9396566)]), ('智能手机', [(0, 0.014426504), (1, 0.9855706)]), ('乔布斯', [(0, 0.010020195), (1, 0.98997796)])]\n",
      "\n",
      "--------------------\n",
      "新文档：5 \n",
      "['营养', '维生素', '苹果', '成分']\n",
      "文档主题：[('水果', 0.13722321), ('公司', 0.86277676)]\n",
      "词汇主题: [('苹果', [1, 0]), ('维生素', [1, 0]), ('营养', [1, 0]), ('成分', [1, 0])]\n",
      "Phi 值：[('苹果', [(0, 0.060342412), (1, 0.9396566)]), ('智能手机', [(0, 0.014426504), (1, 0.9855706)]), ('乔布斯', [(0, 0.010020195), (1, 0.98997796)])]\n",
      "\n",
      "--------------------\n",
      "新文档：6 \n",
      "['互联网', '电脑', '智能手机', '高科技']\n",
      "文档主题：[('水果', 0.119373426), ('公司', 0.8806266)]\n",
      "词汇主题: [('互联网', [1, 0]), ('智能手机', [1, 0]), ('电脑', [1, 0]), ('高科技', [1, 0])]\n",
      "Phi 值：[('苹果', [(0, 0.060342412), (1, 0.9396566)]), ('智能手机', [(0, 0.014426504), (1, 0.9855706)]), ('乔布斯', [(0, 0.010020195), (1, 0.98997796)])]\n",
      "\n",
      "--------------------\n",
      "新文档：7 \n",
      "['苹果', '公司', '互联网', '品质']\n",
      "文档主题：[('水果', 0.83567876), ('公司', 0.16432127)]\n",
      "词汇主题: [('苹果', [0, 1]), ('互联网', [0, 1]), ('公司', [0, 1]), ('品质', [0, 1])]\n",
      "Phi 值：[('苹果', [(0, 0.060342412), (1, 0.9396566)]), ('智能手机', [(0, 0.014426504), (1, 0.9855706)]), ('乔布斯', [(0, 0.010020195), (1, 0.98997796)])]\n",
      "\n",
      "--------------------\n",
      "新文档：8 \n",
      "['乔布斯', '苹果', '硅谷']\n",
      "文档主题：[('水果', 0.17048168), ('公司', 0.8295183)]\n",
      "词汇主题: [('苹果', [1, 0]), ('乔布斯', [1, 0]), ('硅谷', [1, 0])]\n",
      "Phi 值：[('苹果', [(0, 0.060342412), (1, 0.9396566)]), ('智能手机', [(0, 0.014426504), (1, 0.9855706)]), ('乔布斯', [(0, 0.010020195), (1, 0.98997796)])]\n",
      "\n",
      "--------------------\n",
      "新文档：9 \n",
      "['电脑', '智能手机', '苹果', '乔布斯']\n",
      "文档主题：[('水果', 0.11422442), ('公司', 0.88577557)]\n",
      "词汇主题: [('苹果', [1, 0]), ('智能手机', [1, 0]), ('电脑', [1, 0]), ('乔布斯', [1])]\n",
      "Phi 值：[('苹果', [(0, 0.060342412), (1, 0.9396566)]), ('智能手机', [(0, 0.014426504), (1, 0.9855706)]), ('乔布斯', [(0, 0.010020195), (1, 0.98997796)])]\n",
      "\n",
      "--------------------\n",
      "新文档：10 \n",
      "['苹果', '电脑', '品质', '生意']\n",
      "文档主题：[('水果', 0.28495035), ('公司', 0.7150497)]\n",
      "词汇主题: [('苹果', [1, 0]), ('电脑', [1, 0]), ('品质', [1, 0]), ('生意', [1, 0])]\n",
      "Phi 值：[('苹果', [(0, 0.060342412), (1, 0.9396566)]), ('智能手机', [(0, 0.014426504), (1, 0.9855706)]), ('乔布斯', [(0, 0.010020195), (1, 0.98997796)])]\n",
      "\n",
      "--------------------\n",
      "新文档：11 \n",
      "['电脑', '品质', '乔布斯']\n",
      "文档主题：[('水果', 0.1443263), ('公司', 0.8556737)]\n",
      "词汇主题: [('电脑', [1, 0]), ('品质', [1, 0]), ('乔布斯', [1])]\n",
      "Phi 值：[('苹果', [(0, 0.060342412), (1, 0.9396566)]), ('智能手机', [(0, 0.014426504), (1, 0.9855706)]), ('乔布斯', [(0, 0.010020195), (1, 0.98997796)])]\n",
      "\n",
      "--------------------\n",
      "新文档：12 \n",
      "['苹果', '公司', '生意', '硅谷']\n",
      "文档主题：[('水果', 0.8602493), ('公司', 0.13975073)]\n",
      "词汇主题: [('苹果', [0, 1]), ('公司', [0, 1]), ('硅谷', [0, 1]), ('生意', [0, 1])]\n",
      "Phi 值：[('苹果', [(0, 0.060342412), (1, 0.9396566)]), ('智能手机', [(0, 0.014426504), (1, 0.9855706)]), ('乔布斯', [(0, 0.010020195), (1, 0.98997796)])]\n",
      "\n",
      "--------------------\n"
     ]
    }
   ],
   "source": [
    "all_topics = good_lda.get_document_topics(corpus, per_word_topics=True)\n",
    "count = 0\n",
    "for doc_topics, word_topics, phi_value in all_topics:\n",
    "    print(f\"新文档：{count} \\n{texts[count]}\")\n",
    "    doc_topic = [(topic_list[i[0]], i[1]) for i in doc_topics]\n",
    "    word_topic = [(dictionary[i[0]], i[1]) for i in word_topics]\n",
    "    phi_value = [(dictionary[i[0]], i[1]) for i in phi_values]\n",
    "    print(f\"文档主题：{doc_topic}\")\n",
    "    print(f\"词汇主题: {word_topic}\")\n",
    "    print(f\"Phi 值：{phi_value}\")\n",
    "    print()\n",
    "    print('-' * 20)\n",
    "    count += 1"
   ]
  },
  {
   "cell_type": "markdown",
   "metadata": {},
   "source": [
    "## 可视化"
   ]
  },
  {
   "cell_type": "markdown",
   "metadata": {},
   "source": [
    "### 文档着色"
   ]
  },
  {
   "cell_type": "code",
   "execution_count": 167,
   "metadata": {},
   "outputs": [],
   "source": [
    "def color_words(model, doc):\n",
    "    doc = model.id2word.doc2bow(doc)\n",
    "    doc_topics, word_topics, phi_values = model.get_document_topics(doc, per_word_topics=True)\n",
    "    topic_colors = {0:'red', 1:'blue'}\n",
    "    \n",
    "    fig = plt.figure(figsize=(10,1))\n",
    "    ax = fig.add_axes([0,0,1,1])\n",
    "    word_pos = 1/10\n",
    "    \n",
    "    for index, probs in word_topics:\n",
    "        ax.text(word_pos, .8, model.id2word[index], horizontalalignment='center',\n",
    "               verticalalignment='center', fontsize=20, color=topic_colors[probs[0]],\n",
    "               transform=ax.transAxes)\n",
    "        word_pos += .2\n",
    "    ax.set_axis_off()\n",
    "    plt.show()\n"
   ]
  },
  {
   "cell_type": "code",
   "execution_count": 168,
   "metadata": {},
   "outputs": [
    {
     "data": {
      "image/png": "[encoded data removed]",
      "text/plain": [
       "<Figure size 720x72 with 1 Axes>"
      ]
     },
     "metadata": {
      "needs_background": "light"
     },
     "output_type": "display_data"
    }
   ],
   "source": [
    "color_words(good_lda, text_fruit)"
   ]
  },
  {
   "cell_type": "code",
   "execution_count": 169,
   "metadata": {},
   "outputs": [
    {
     "data": {
      "image/png": "[encoded data removed]",
      "text/plain": [
       "<Figure size 720x72 with 1 Axes>"
      ]
     },
     "metadata": {
      "needs_background": "light"
     },
     "output_type": "display_data"
    }
   ],
   "source": [
    "color_words(good_lda, text_comp)"
   ]
  },
  {
   "cell_type": "code",
   "execution_count": 170,
   "metadata": {},
   "outputs": [
    {
     "data": {
      "image/png": "[encoded data removed]",
      "text/plain": [
       "<Figure size 720x72 with 1 Axes>"
      ]
     },
     "metadata": {
      "needs_background": "light"
     },
     "output_type": "display_data"
    }
   ],
   "source": [
    "doc = ['苹果', '电脑', '苹果', '营养', '树上', '乔布斯', '智能手机', '硅谷', '植物', '落叶乔木', '成分']\n",
    "color_words(good_lda, doc)"
   ]
  },
  {
   "cell_type": "markdown",
   "metadata": {},
   "source": [
    "### 字典着色"
   ]
  },
  {
   "cell_type": "code",
   "execution_count": 161,
   "metadata": {},
   "outputs": [],
   "source": [
    "def color_word_dict(model, dictionary):\n",
    "    word_topics = []\n",
    "    token2id = dictionary.token2id\n",
    "    for word, index in token2id.items():\n",
    "        probs = model.get_term_topics(word)\n",
    "        try:\n",
    "            if probs[0][1] >= probs[1][1]:\n",
    "                word_topics.append((index, [0, 1]))\n",
    "            else:\n",
    "                word_topics.append((index, [1, 0]))\n",
    "        except IndexError:\n",
    "            word_topics.append((index, [probs[0][0]]))\n",
    "    topic_colors = {0:'red', 1:'blue'}\n",
    "    \n",
    "    fig = plt.figure()\n",
    "    ax = fig.add_axes([0,0,1,1])\n",
    "    \n",
    "    word_pos = 1 / 10\n",
    "    \n",
    "    for index, probs in word_topics:\n",
    "        ax.text(word_pos, .8, model.id2word[index],\n",
    "               horizontalalignment='center', verticalalignment='center', \n",
    "               fontsize=20, color=topic_colors[probs[0]],\n",
    "               transform=ax.transAxes)\n",
    "        word_pos += .2\n",
    "    ax.set_axis_off()\n",
    "    plt.show()"
   ]
  },
  {
   "cell_type": "code",
   "execution_count": 162,
   "metadata": {},
   "outputs": [
    {
     "data": {
      "image/png": "[encoded data removed]",
      "text/plain": [
       "<Figure size 432x288 with 1 Axes>"
      ]
     },
     "metadata": {
      "needs_background": "light"
     },
     "output_type": "display_data"
    }
   ],
   "source": [
    "color_word_dict(good_lda, dictionary)"
   ]
  },
  {
   "cell_type": "markdown",
   "metadata": {},
   "source": [
    "注意问题（从上面“红彤彤”，“互联网”，“公司”等词汇划分好主题）：\n",
    "- lda需要大量的文本数据确保模型表现\n",
    "- 适合长文本，不适合短文本\n",
    "- 小语料库意味着算法对每个单词的划分可能不准确\n",
    "- 增加语料库可提升模型表现"
   ]
  },
  {
   "cell_type": "code",
   "execution_count": 174,
   "metadata": {},
   "outputs": [
    {
     "data": {
      "text/plain": [
       "[[(0, 1), (1, 1), (2, 1), (3, 1)],\n",
       " [(0, 1), (4, 1), (5, 1), (6, 1)],\n",
       " [(3, 1), (7, 1), (8, 1), (9, 1)],\n",
       " [(1, 1), (3, 1), (6, 1), (8, 1)],\n",
       " [(4, 1), (8, 1), (10, 1), (11, 1)],\n",
       " [(3, 1), (10, 1), (11, 1), (12, 1)],\n",
       " [(13, 1), (14, 1), (15, 1), (16, 1)],\n",
       " [(3, 1), (13, 1), (17, 1), (18, 1)],\n",
       " [(3, 1), (19, 1), (20, 1)],\n",
       " [(3, 1), (14, 1), (15, 1), (19, 1)],\n",
       " [(3, 1), (15, 1), (18, 1), (21, 1)],\n",
       " [(15, 1), (18, 1), (19, 1)],\n",
       " [(3, 1), (17, 1), (20, 1), (21, 1)]]"
      ]
     },
     "execution_count": 174,
     "metadata": {},
     "output_type": "execute_result"
    }
   ],
   "source": [
    "corpus"
   ]
  },
  {
   "cell_type": "markdown",
   "metadata": {},
   "source": [
    "### 主题模型可视化"
   ]
  },
  {
   "cell_type": "code",
   "execution_count": 175,
   "metadata": {},
   "outputs": [
    {
     "name": "stderr",
     "output_type": "stream",
     "text": [
      "2019-10-23 16:45:35,147: INFO: NumExpr defaulting to 8 threads.\n"
     ]
    },
    {
     "name": "stdout",
     "output_type": "stream",
     "text": [
      "\n",
      "Note: if you're in the IPython notebook, pyLDAvis.show() is not the best command\n",
      "      to use. Consider using pyLDAvis.display(), or pyLDAvis.enable_notebook().\n",
      "      See more information at http://pyLDAvis.github.io/quickstart.html .\n",
      "\n",
      "You must interrupt the kernel to end this command\n",
      "\n",
      "Serving to http://127.0.0.1:8889/    [Ctrl-C to exit]\n"
     ]
    },
    {
     "name": "stderr",
     "output_type": "stream",
     "text": [
      "127.0.0.1 - - [23/Oct/2019 16:45:44] \"GET / HTTP/1.1\" 200 -\n",
      "127.0.0.1 - - [23/Oct/2019 16:45:44] \"GET /LDAvis.css HTTP/1.1\" 200 -\n",
      "127.0.0.1 - - [23/Oct/2019 16:45:44] \"GET /d3.js HTTP/1.1\" 200 -\n",
      "127.0.0.1 - - [23/Oct/2019 16:45:44] \"GET /LDAvis.js HTTP/1.1\" 200 -\n",
      "127.0.0.1 - - [23/Oct/2019 16:45:44] code 404, message Not Found\n",
      "127.0.0.1 - - [23/Oct/2019 16:45:44] \"GET /favicon.ico HTTP/1.1\" 404 -\n"
     ]
    },
    {
     "name": "stdout",
     "output_type": "stream",
     "text": [
      "\n",
      "stopping Server...\n"
     ]
    }
   ],
   "source": [
    "prepared = pyLDAvis.gensim.prepare(good_lda, corpus, dictionary)\n",
    "pyLDAvis.show(prepared, open_browser = True)"
   ]
  },
  {
   "cell_type": "markdown",
   "metadata": {},
   "source": [
    "# word2vec训练使用与可视化"
   ]
  },
  {
   "cell_type": "markdown",
   "metadata": {},
   "source": [
    "原始语料的两种处理思路：\n",
    "- 原始语料 --> 清洗后存储 --> 迭代供模型使用\n",
    "- 原始语料 --> 逐个迭代清洗 --> 供模型使用\n",
    "    - 此处类采取的是第二种情况\n",
    "- 是否迭代看内存情况与语料大小，空间和时间消耗选择自行权衡"
   ]
  },
  {
   "cell_type": "code",
   "execution_count": 203,
   "metadata": {},
   "outputs": [
    {
     "name": "stdout",
     "output_type": "stream",
     "text": [
      "see\n",
      "see\n"
     ]
    }
   ],
   "source": [
    "# 词干提取\n",
    "porter_stemmer = PorterStemmer()\n",
    "print(porter_stemmer.stem('seeing'))\n",
    "# 词形还原\n",
    "wordnet_lemmatizer = WordNetLemmatizer()\n",
    "print(wordnet_lemmatizer.lemmatize('sees'))"
   ]
  },
  {
   "cell_type": "code",
   "execution_count": 190,
   "metadata": {},
   "outputs": [],
   "source": [
    "class MySentences:\n",
    "    def __init__(self, path, stopwords):\n",
    "        self.path = path\n",
    "        self.stopwords = stopwords\n",
    "    \n",
    "    def __iter__(self):\n",
    "        for fname in os.listdir(self.path):\n",
    "            for line in smart_open(os.path.join(self.path, fname), 'r', encoding='utf-8'):\n",
    "                line = line.lower()\n",
    "                line = wordnet_lemmatizer.lemmatize(porter_stemmer.stem(line))\n",
    "                line = line.replace('social listening', 'social_listening')\n",
    "                yield [i.strip() for i in jieba.lcut(line) if i not in self.stopwords\n",
    "                      and len(i) > 1]"
   ]
  },
  {
   "cell_type": "code",
   "execution_count": 191,
   "metadata": {},
   "outputs": [],
   "source": [
    "sentences = MySentences('data/word2vec_corpus', stopwords)"
   ]
  },
  {
   "cell_type": "code",
   "execution_count": 204,
   "metadata": {},
   "outputs": [
    {
     "name": "stderr",
     "output_type": "stream",
     "text": [
      "2019-10-23 17:44:29,928: INFO: collecting all words and their counts\n",
      "2019-10-23 17:44:29,935: INFO: PROGRESS: at sentence #0, processed 0 words, keeping 0 word types\n",
      "2019-10-23 17:44:29,972: INFO: collected 180 word types from a corpus of 280 raw words and 16 sentences\n",
      "2019-10-23 17:44:29,973: INFO: Loading a fresh vocabulary\n",
      "2019-10-23 17:44:29,975: INFO: effective_min_count=1 retains 180 unique words (100% of original 180, drops 0)\n",
      "2019-10-23 17:44:29,975: INFO: effective_min_count=1 leaves 280 word corpus (100% of original 280, drops 0)\n",
      "2019-10-23 17:44:29,978: INFO: deleting the raw counts dictionary of 180 items\n",
      "2019-10-23 17:44:29,979: INFO: sample=0.001 downsamples 180 most-common words\n",
      "2019-10-23 17:44:29,980: INFO: downsampling leaves estimated 162 word corpus (57.9% of prior 280)\n",
      "2019-10-23 17:44:29,981: INFO: estimated required memory for 180 words and 100 dimensions: 234000 bytes\n",
      "2019-10-23 17:44:29,982: INFO: resetting layer weights\n",
      "2019-10-23 17:44:30,042: INFO: training model with 3 workers on 180 vocabulary and 100 features, using sg=0 hs=0 sample=0.001 negative=5 window=5\n",
      "2019-10-23 17:44:30,087: INFO: worker thread finished; awaiting finish of 2 more threads\n",
      "2019-10-23 17:44:30,088: INFO: worker thread finished; awaiting finish of 1 more threads\n",
      "2019-10-23 17:44:30,090: INFO: worker thread finished; awaiting finish of 0 more threads\n",
      "2019-10-23 17:44:30,091: INFO: EPOCH - 1 : training on 280 raw words (165 effective words) took 0.0s, 3768 effective words/s\n",
      "2019-10-23 17:44:30,131: INFO: worker thread finished; awaiting finish of 2 more threads\n",
      "2019-10-23 17:44:30,132: INFO: worker thread finished; awaiting finish of 1 more threads\n",
      "2019-10-23 17:44:30,133: INFO: worker thread finished; awaiting finish of 0 more threads\n",
      "2019-10-23 17:44:30,134: INFO: EPOCH - 2 : training on 280 raw words (157 effective words) took 0.0s, 3908 effective words/s\n",
      "2019-10-23 17:44:30,175: INFO: worker thread finished; awaiting finish of 2 more threads\n",
      "2019-10-23 17:44:30,175: INFO: worker thread finished; awaiting finish of 1 more threads\n",
      "2019-10-23 17:44:30,176: INFO: worker thread finished; awaiting finish of 0 more threads\n",
      "2019-10-23 17:44:30,178: INFO: EPOCH - 3 : training on 280 raw words (164 effective words) took 0.0s, 4063 effective words/s\n",
      "2019-10-23 17:44:30,216: INFO: worker thread finished; awaiting finish of 2 more threads\n",
      "2019-10-23 17:44:30,217: INFO: worker thread finished; awaiting finish of 1 more threads\n",
      "2019-10-23 17:44:30,218: INFO: worker thread finished; awaiting finish of 0 more threads\n",
      "2019-10-23 17:44:30,219: INFO: EPOCH - 4 : training on 280 raw words (170 effective words) took 0.0s, 4461 effective words/s\n",
      "2019-10-23 17:44:30,258: INFO: worker thread finished; awaiting finish of 2 more threads\n",
      "2019-10-23 17:44:30,259: INFO: worker thread finished; awaiting finish of 1 more threads\n",
      "2019-10-23 17:44:30,260: INFO: worker thread finished; awaiting finish of 0 more threads\n",
      "2019-10-23 17:44:30,261: INFO: EPOCH - 5 : training on 280 raw words (156 effective words) took 0.0s, 4023 effective words/s\n",
      "2019-10-23 17:44:30,262: INFO: training on a 1400 raw words (812 effective words) took 0.2s, 3737 effective words/s\n",
      "2019-10-23 17:44:30,263: WARNING: under 10 jobs per worker: consider setting a smaller `batch_words' for smoother alpha decay\n"
     ]
    }
   ],
   "source": [
    "model = models.Word2Vec(sentences, min_count=1)"
   ]
  },
  {
   "cell_type": "code",
   "execution_count": 207,
   "metadata": {},
   "outputs": [
    {
     "data": {
      "text/plain": [
       "[('opinions', 0.3493953347206116),\n",
       " ('收到', 0.2538139522075653),\n",
       " ('风向', 0.22122573852539062),\n",
       " ('发起', 0.21855100989341736),\n",
       " ('情报', 0.18707387149333954),\n",
       " ('过往', 0.18056842684745789),\n",
       " ('减弱', 0.16646486520767212),\n",
       " ('概率', 0.15951229631900787),\n",
       " ('价值', 0.15141227841377258),\n",
       " ('最低', 0.14463701844215393)]"
      ]
     },
     "execution_count": 207,
     "metadata": {},
     "output_type": "execute_result"
    }
   ],
   "source": [
    "# 语料太少，功能没太大意义\n",
    "model.wv.most_similar('消费者')"
   ]
  },
  {
   "cell_type": "code",
   "execution_count": 208,
   "metadata": {},
   "outputs": [
    {
     "name": "stdout",
     "output_type": "stream",
     "text": [
      "Word2Vec(vocab=180, size=100, alpha=0.025)\n"
     ]
    }
   ],
   "source": [
    "print(model)"
   ]
  },
  {
   "cell_type": "code",
   "execution_count": 213,
   "metadata": {},
   "outputs": [
    {
     "name": "stderr",
     "output_type": "stream",
     "text": [
      "2019-10-23 18:04:22,993: INFO: collecting all words and their counts\n",
      "2019-10-23 18:04:22,998: INFO: PROGRESS: at sentence #0, processed 0 words, keeping 0 word types\n",
      "2019-10-23 18:04:23,033: INFO: collected 180 word types from a corpus of 280 raw words and 16 sentences\n",
      "2019-10-23 18:04:23,034: INFO: Loading a fresh vocabulary\n",
      "2019-10-23 18:04:23,035: INFO: effective_min_count=1 retains 180 unique words (100% of original 180, drops 0)\n",
      "2019-10-23 18:04:23,036: INFO: effective_min_count=1 leaves 280 word corpus (100% of original 280, drops 0)\n",
      "2019-10-23 18:04:23,038: INFO: deleting the raw counts dictionary of 180 items\n",
      "2019-10-23 18:04:23,039: INFO: sample=0.001 downsamples 180 most-common words\n",
      "2019-10-23 18:04:23,040: INFO: downsampling leaves estimated 162 word corpus (57.9% of prior 280)\n",
      "2019-10-23 18:04:23,042: INFO: estimated required memory for 180 words and 100 dimensions: 234000 bytes\n",
      "2019-10-23 18:04:23,043: INFO: resetting layer weights\n",
      "2019-10-23 18:04:23,101: INFO: training model with 3 workers on 180 vocabulary and 100 features, using sg=0 hs=0 sample=0.001 negative=5 window=5\n",
      "2019-10-23 18:04:23,140: INFO: worker thread finished; awaiting finish of 2 more threads\n",
      "2019-10-23 18:04:23,141: INFO: worker thread finished; awaiting finish of 1 more threads\n",
      "2019-10-23 18:04:23,142: INFO: worker thread finished; awaiting finish of 0 more threads\n",
      "2019-10-23 18:04:23,142: INFO: EPOCH - 1 : training on 280 raw words (165 effective words) took 0.0s, 4407 effective words/s\n",
      "2019-10-23 18:04:23,180: INFO: worker thread finished; awaiting finish of 2 more threads\n",
      "2019-10-23 18:04:23,181: INFO: worker thread finished; awaiting finish of 1 more threads\n",
      "2019-10-23 18:04:23,182: INFO: worker thread finished; awaiting finish of 0 more threads\n",
      "2019-10-23 18:04:23,183: INFO: EPOCH - 2 : training on 280 raw words (157 effective words) took 0.0s, 4199 effective words/s\n",
      "2019-10-23 18:04:23,222: INFO: worker thread finished; awaiting finish of 2 more threads\n",
      "2019-10-23 18:04:23,223: INFO: worker thread finished; awaiting finish of 1 more threads\n",
      "2019-10-23 18:04:23,224: INFO: worker thread finished; awaiting finish of 0 more threads\n",
      "2019-10-23 18:04:23,225: INFO: EPOCH - 3 : training on 280 raw words (164 effective words) took 0.0s, 4284 effective words/s\n",
      "2019-10-23 18:04:23,265: INFO: worker thread finished; awaiting finish of 2 more threads\n",
      "2019-10-23 18:04:23,266: INFO: worker thread finished; awaiting finish of 1 more threads\n",
      "2019-10-23 18:04:23,266: INFO: worker thread finished; awaiting finish of 0 more threads\n",
      "2019-10-23 18:04:23,267: INFO: EPOCH - 4 : training on 280 raw words (170 effective words) took 0.0s, 4359 effective words/s\n",
      "2019-10-23 18:04:23,309: INFO: worker thread finished; awaiting finish of 2 more threads\n",
      "2019-10-23 18:04:23,310: INFO: worker thread finished; awaiting finish of 1 more threads\n",
      "2019-10-23 18:04:23,311: INFO: worker thread finished; awaiting finish of 0 more threads\n",
      "2019-10-23 18:04:23,311: INFO: EPOCH - 5 : training on 280 raw words (156 effective words) took 0.0s, 3883 effective words/s\n",
      "2019-10-23 18:04:23,312: INFO: training on a 1400 raw words (812 effective words) took 0.2s, 3876 effective words/s\n",
      "2019-10-23 18:04:23,313: WARNING: under 10 jobs per worker: consider setting a smaller `batch_words' for smoother alpha decay\n"
     ]
    },
    {
     "name": "stdout",
     "output_type": "stream",
     "text": [
      "Word2Vec(vocab=180, size=100, alpha=0.025)\n"
     ]
    }
   ],
   "source": [
    "# 另一种构建可持续学习的模型，针对在线以及不可重复语料的场景\n",
    "new_model = models.Word2Vec(min_count=1)\n",
    "# 如果输入是文件流，需要LineSentence(file)进行转换后供给model\n",
    "new_model.build_vocab(sentences)\n",
    "new_model.train(sentences, total_examples=new_model.corpus_count, epochs=new_model.epochs)\n",
    "print(new_model)"
   ]
  },
  {
   "cell_type": "code",
   "execution_count": 221,
   "metadata": {},
   "outputs": [
    {
     "name": "stderr",
     "output_type": "stream",
     "text": [
      "2019-10-23 18:09:17,062: INFO: collecting all words and their counts\n",
      "2019-10-23 18:09:17,065: INFO: PROGRESS: at sentence #0, processed 0 words, keeping 0 word types\n",
      "2019-10-23 18:09:17,066: INFO: collected 41 word types from a corpus of 44 raw words and 16 sentences\n",
      "2019-10-23 18:09:17,066: INFO: Loading a fresh vocabulary\n",
      "2019-10-23 18:09:17,067: INFO: effective_min_count=1 retains 41 unique words (100% of original 41, drops 0)\n",
      "2019-10-23 18:09:17,068: INFO: effective_min_count=1 leaves 44 word corpus (100% of original 44, drops 0)\n",
      "2019-10-23 18:09:17,070: INFO: deleting the raw counts dictionary of 41 items\n",
      "2019-10-23 18:09:17,070: INFO: sample=0.001 downsamples 41 most-common words\n",
      "2019-10-23 18:09:17,071: INFO: downsampling leaves estimated 10 word corpus (24.2% of prior 44)\n",
      "2019-10-23 18:09:17,073: INFO: estimated required memory for 41 words and 100 dimensions: 53300 bytes\n",
      "2019-10-23 18:09:17,073: INFO: resetting layer weights\n",
      "2019-10-23 18:09:17,087: INFO: training model with 3 workers on 41 vocabulary and 100 features, using sg=0 hs=0 sample=0.001 negative=5 window=5\n",
      "2019-10-23 18:09:17,093: INFO: worker thread finished; awaiting finish of 2 more threads\n",
      "2019-10-23 18:09:17,094: INFO: worker thread finished; awaiting finish of 1 more threads\n",
      "2019-10-23 18:09:17,094: INFO: worker thread finished; awaiting finish of 0 more threads\n",
      "2019-10-23 18:09:17,095: INFO: EPOCH - 1 : training on 44 raw words (13 effective words) took 0.0s, 3486 effective words/s\n",
      "2019-10-23 18:09:17,099: INFO: worker thread finished; awaiting finish of 2 more threads\n",
      "2019-10-23 18:09:17,100: INFO: worker thread finished; awaiting finish of 1 more threads\n",
      "2019-10-23 18:09:17,100: INFO: worker thread finished; awaiting finish of 0 more threads\n",
      "2019-10-23 18:09:17,101: INFO: EPOCH - 2 : training on 44 raw words (14 effective words) took 0.0s, 4496 effective words/s\n",
      "2019-10-23 18:09:17,104: INFO: worker thread finished; awaiting finish of 2 more threads\n",
      "2019-10-23 18:09:17,105: INFO: worker thread finished; awaiting finish of 1 more threads\n",
      "2019-10-23 18:09:17,106: INFO: worker thread finished; awaiting finish of 0 more threads\n",
      "2019-10-23 18:09:17,107: INFO: EPOCH - 3 : training on 44 raw words (9 effective words) took 0.0s, 2155 effective words/s\n",
      "2019-10-23 18:09:17,111: INFO: worker thread finished; awaiting finish of 2 more threads\n",
      "2019-10-23 18:09:17,112: INFO: worker thread finished; awaiting finish of 1 more threads\n",
      "2019-10-23 18:09:17,113: INFO: worker thread finished; awaiting finish of 0 more threads\n",
      "2019-10-23 18:09:17,113: INFO: EPOCH - 4 : training on 44 raw words (11 effective words) took 0.0s, 3282 effective words/s\n",
      "2019-10-23 18:09:17,118: INFO: worker thread finished; awaiting finish of 2 more threads\n",
      "2019-10-23 18:09:17,119: INFO: worker thread finished; awaiting finish of 1 more threads\n",
      "2019-10-23 18:09:17,120: INFO: worker thread finished; awaiting finish of 0 more threads\n",
      "2019-10-23 18:09:17,120: INFO: EPOCH - 5 : training on 44 raw words (8 effective words) took 0.0s, 2356 effective words/s\n",
      "2019-10-23 18:09:17,121: INFO: training on a 220 raw words (55 effective words) took 0.0s, 1645 effective words/s\n",
      "2019-10-23 18:09:17,121: WARNING: under 10 jobs per worker: consider setting a smaller `batch_words' for smoother alpha decay\n"
     ]
    },
    {
     "name": "stdout",
     "output_type": "stream",
     "text": [
      "Word2Vec(vocab=41, size=100, alpha=0.025)\n"
     ]
    },
    {
     "data": {
      "text/plain": [
       "(None,\n",
       " [['2018年10月份，麻省理工学院的Zakaria',\n",
       "   'el',\n",
       "   'Hjouji',\n",
       "   'D.',\n",
       "   'Scott',\n",
       "   'Hunter等学者发表了《The',\n",
       "   'Impact',\n",
       "   'of',\n",
       "   'Bots',\n",
       "   'on',\n",
       "   'Opinions',\n",
       "   'in',\n",
       "   'Social',\n",
       "   'Networks》。'],\n",
       "  ['该研究通过分析',\n",
       "   'Twitter',\n",
       "   '上的机器人在舆论事件中的表现，证实了社交网络机器人可以对社交网络舆论产生很大的影响，不到消费者总数1%的活跃机器人，就可能左右整个舆论风向。'],\n",
       "  ['麻省理工学院研究组的这项工作，最大的发现是，影响社交网络舆论所需要的机器人，其实是很少的。少数活跃的机器人，可以对网络舆论产生重大影响。'],\n",
       "  ['机器人检测算法，会判断某用户是机器人的概率，但实际操作中研究者发现，该算法把几个经常转发但不常被@',\n",
       "   '的真实用户也当做了机器人。所以研究者对有实名认证的',\n",
       "   'Twitter',\n",
       "   '用户做了筛查，把他们都归为真实用户。'],\n",
       "  ['不论是真实的推特用户还是推特机器人，它们的三个基本操作是，关注、转发和评论（类似微博）。通过跟踪这些互动，研究者可以有效量化',\n",
       "   'Twitter',\n",
       "   '账号的行为。'],\n",
       "  ['直觉上，那些不太关注别人的用户，也不太可能关注你。而且社交圈子重叠很重要，如果',\n",
       "   'A',\n",
       "   '和',\n",
       "   'B',\n",
       "   '是好友，那么关注',\n",
       "   'A',\n",
       "   '的用户就有较大概率关注',\n",
       "   'B。'],\n",
       "  ['虽然人们在收到新信息时会更新他们的观点，但这个过程会随着时间的推移而减弱，他们的观点会逐渐变得顽固。Zaman',\n",
       "   '认为，如果你已经掌握了很多信息，你就越来越难听从别人的观点，新说法不会改变你的看法。'],\n",
       "  ['该研究团队基于过往研究，给出了网络舆论模型的核心假设：'],\n",
       "  ['社交网络中的个人是基于其朋友推文中的观点，来更新自身的观点；'],\n",
       "  ['网络中某些用户的观点是顽固的，其观点不会轻易改变，而且顽固用户会推动其他用户（摇摆不定的中间派）改变观点。'],\n",
       "  ['虽然社交媒体机器人不会带来物理威胁，但它们却可能有力影响到网络舆论。在微博里，各类水军已经经常出现在营销造势、危机公关中。虽然你能一眼识别出谁是水军，但仍然可能不知不觉地被他们影响。'],\n",
       "  ['这些机器人看似僵尸，发起声来，比人类响亮得多，可能只要几十个几百个就足够扭转舆论！'],\n",
       "  ['所以，从社会化媒体数据挖掘的角度来看，信息的真实性并不重要，只要文章、帖子或者评论能影响到浏览者或受众，具有一定的（潜在）影响力，这类社媒数据数据就值得去挖掘。'],\n",
       "  ['更进一步说，跟销售数据反映消费者决策价值、搜索数据反映消费者意图价值相比，虽然社会化媒体文本数据的价值密度最低，好比是蕴藏金子和硅、却提炼极为困难的沙子，但由于它在互联网领域的分布极为广泛，'],\n",
       "  ['且蕴含着对客观世界的细节描述和主观世界的宣泄（情绪、动机、心理等），其最大价值在于潜移默化地操控人的思想和行为的影响力，'],\n",
       "  ['通过社会化媒体挖掘，我们可以得到对目标受众具有（潜在）影响力的商业情报。淘沙得金，排沙简金，最终得到的分析结果用以预判受众的思考和行为，为我们的生产实践服务。']])"
      ]
     },
     "execution_count": 221,
     "metadata": {},
     "output_type": "execute_result"
    }
   ],
   "source": [
    "new_model2 = models.Word2Vec(min_count=1)\n",
    "# 如果输入是文件流，需要LineSentence(file)进行转换后供给model；注意该方法必须提前处理好语料，否则就会如下\n",
    "# Words must be already preprocessed and separated by whitespace.\n",
    "sentences_ = models.word2vec.LineSentence('data/word2vec_corpus/corpus_word2vec.txt')\n",
    "new_model2.build_vocab(sentences_)\n",
    "new_model2.train(sentences_, total_examples=new_model.corpus_count, epochs=new_model.epochs)\n",
    "print(new_model2),list(sentences_)"
   ]
  },
  {
   "cell_type": "markdown",
   "metadata": {},
   "source": [
    "## 持久化与持续学习"
   ]
  },
  {
   "cell_type": "markdown",
   "metadata": {},
   "source": [
    "需要持续学习的话，模型必须保存为全模型文件，不能只保存键值对文件\n",
    "- 加载过往模型/生成空模型\n",
    "- 进行新语料的增量学习"
   ]
  },
  {
   "cell_type": "code",
   "execution_count": 224,
   "metadata": {},
   "outputs": [
    {
     "name": "stderr",
     "output_type": "stream",
     "text": [
      "2019-10-23 18:18:03,713: INFO: saving Word2Vec object under D:\\Github\\NLP\\Artificial_Intelligence_for_NLP\\Projects\\2_autoSummarization\\temp\\word2vec.model, separately None\n",
      "2019-10-23 18:18:03,714: INFO: not storing attribute vectors_norm\n",
      "2019-10-23 18:18:03,716: INFO: not storing attribute cum_table\n",
      "2019-10-23 18:18:03,721: INFO: saved D:\\Github\\NLP\\Artificial_Intelligence_for_NLP\\Projects\\2_autoSummarization\\temp\\word2vec.model\n"
     ]
    }
   ],
   "source": [
    "model.save(os.path.join(TEMP_FOLDER, 'word2vec.model'))"
   ]
  },
  {
   "cell_type": "code",
   "execution_count": 3,
   "metadata": {},
   "outputs": [
    {
     "name": "stderr",
     "output_type": "stream",
     "text": [
      "2019-10-23 18:46:53,999: INFO: loading Word2Vec object from D:\\Github\\NLP\\Artificial_Intelligence_for_NLP\\Projects\\2_autoSummarization\\temp\\word2vec.model\n",
      "2019-10-23 18:46:54,004: INFO: loading wv recursively from D:\\Github\\NLP\\Artificial_Intelligence_for_NLP\\Projects\\2_autoSummarization\\temp\\word2vec.model.wv.* with mmap=None\n",
      "2019-10-23 18:46:54,004: INFO: setting ignored attribute vectors_norm to None\n",
      "2019-10-23 18:46:54,006: INFO: loading vocabulary recursively from D:\\Github\\NLP\\Artificial_Intelligence_for_NLP\\Projects\\2_autoSummarization\\temp\\word2vec.model.vocabulary.* with mmap=None\n",
      "2019-10-23 18:46:54,006: INFO: loading trainables recursively from D:\\Github\\NLP\\Artificial_Intelligence_for_NLP\\Projects\\2_autoSummarization\\temp\\word2vec.model.trainables.* with mmap=None\n",
      "2019-10-23 18:46:54,007: INFO: setting ignored attribute cum_table to None\n",
      "2019-10-23 18:46:54,008: INFO: loaded D:\\Github\\NLP\\Artificial_Intelligence_for_NLP\\Projects\\2_autoSummarization\\temp\\word2vec.model\n"
     ]
    },
    {
     "name": "stdout",
     "output_type": "stream",
     "text": [
      "Word2Vec(vocab=180, size=100, alpha=0.025)\n"
     ]
    }
   ],
   "source": [
    "model = models.Word2Vec.load(os.path.join(TEMP_FOLDER, 'word2vec.model'))\n",
    "print(model)"
   ]
  },
  {
   "cell_type": "code",
   "execution_count": 240,
   "metadata": {},
   "outputs": [],
   "source": [
    "def clean_sentences(sentences_list:list, stopwords:list):\n",
    "    sentences = [' '.join(jieba.cut(s)) for s in sentences_list]\n",
    "    sentences = [[word for word in doc.lower().split() if word not in stopwords]\n",
    "                for doc in sentences]\n",
    "    return sentences"
   ]
  },
  {
   "cell_type": "code",
   "execution_count": 242,
   "metadata": {},
   "outputs": [
    {
     "name": "stderr",
     "output_type": "stream",
     "text": [
      "2019-10-23 18:30:56,642: INFO: collecting all words and their counts\n",
      "2019-10-23 18:30:56,643: INFO: PROGRESS: at sentence #0, processed 0 words, keeping 0 word types\n",
      "2019-10-23 18:30:56,644: INFO: collected 60 word types from a corpus of 85 raw words and 8 sentences\n",
      "2019-10-23 18:30:56,644: INFO: Updating model with new vocabulary\n",
      "2019-10-23 18:30:56,645: INFO: New added 60 unique words (50% of original 120) and increased the count of 60 pre-existing words (50% of original 120)\n",
      "2019-10-23 18:30:56,647: INFO: deleting the raw counts dictionary of 60 items\n",
      "2019-10-23 18:30:56,647: INFO: sample=0.001 downsamples 120 most-common words\n",
      "2019-10-23 18:30:56,648: INFO: downsampling leaves estimated 49 word corpus (58.7% of prior 85)\n",
      "2019-10-23 18:30:56,649: INFO: estimated required memory for 120 words and 100 dimensions: 156000 bytes\n",
      "2019-10-23 18:30:56,650: INFO: updating layer weights\n",
      "2019-10-23 18:30:56,668: INFO: training model with 3 workers on 232 vocabulary and 100 features, using sg=0 hs=0 sample=0.001 negative=5 window=5\n",
      "2019-10-23 18:30:56,674: INFO: worker thread finished; awaiting finish of 2 more threads\n",
      "2019-10-23 18:30:56,675: INFO: worker thread finished; awaiting finish of 1 more threads\n",
      "2019-10-23 18:30:56,676: INFO: worker thread finished; awaiting finish of 0 more threads\n",
      "2019-10-23 18:30:56,676: INFO: EPOCH - 1 : training on 85 raw words (25 effective words) took 0.0s, 8986 effective words/s\n",
      "2019-10-23 18:30:56,680: INFO: worker thread finished; awaiting finish of 2 more threads\n",
      "2019-10-23 18:30:56,682: INFO: worker thread finished; awaiting finish of 1 more threads\n",
      "2019-10-23 18:30:56,683: INFO: worker thread finished; awaiting finish of 0 more threads\n",
      "2019-10-23 18:30:56,683: INFO: EPOCH - 2 : training on 85 raw words (26 effective words) took 0.0s, 7800 effective words/s\n",
      "2019-10-23 18:30:56,687: INFO: worker thread finished; awaiting finish of 2 more threads\n",
      "2019-10-23 18:30:56,688: INFO: worker thread finished; awaiting finish of 1 more threads\n",
      "2019-10-23 18:30:56,689: INFO: worker thread finished; awaiting finish of 0 more threads\n",
      "2019-10-23 18:30:56,689: INFO: EPOCH - 3 : training on 85 raw words (28 effective words) took 0.0s, 9692 effective words/s\n",
      "2019-10-23 18:30:56,693: INFO: worker thread finished; awaiting finish of 2 more threads\n",
      "2019-10-23 18:30:56,694: INFO: worker thread finished; awaiting finish of 1 more threads\n",
      "2019-10-23 18:30:56,695: INFO: worker thread finished; awaiting finish of 0 more threads\n",
      "2019-10-23 18:30:56,695: INFO: EPOCH - 4 : training on 85 raw words (30 effective words) took 0.0s, 9913 effective words/s\n",
      "2019-10-23 18:30:56,700: INFO: worker thread finished; awaiting finish of 2 more threads\n",
      "2019-10-23 18:30:56,701: INFO: worker thread finished; awaiting finish of 1 more threads\n",
      "2019-10-23 18:30:56,702: INFO: worker thread finished; awaiting finish of 0 more threads\n",
      "2019-10-23 18:30:56,702: INFO: EPOCH - 5 : training on 85 raw words (22 effective words) took 0.0s, 6469 effective words/s\n",
      "2019-10-23 18:30:56,703: INFO: training on a 425 raw words (131 effective words) took 0.0s, 3842 effective words/s\n",
      "2019-10-23 18:30:56,704: WARNING: under 10 jobs per worker: consider setting a smaller `batch_words' for smoother alpha decay\n"
     ]
    },
    {
     "name": "stdout",
     "output_type": "stream",
     "text": [
      "Word2Vec(vocab=232, size=100, alpha=0.025)\n"
     ]
    }
   ],
   "source": [
    "new_sentences = ['众所周知，社交聆听是一个需要社交媒体聆听/社交媒体监控工具的实现的过程（例如，Awario，Mention，Brandwatch）。',\n",
    "'打开应用程序时，您要做的第一件事就是输入要监控的关键字。','关键字是最能描述您想要在社交媒体平台和网络上找到的内容的词。',\n",
    "'关键字可以是一个单词（例如“飞利浦”），两个单词（例如“Aleh Barysevich”），四个单词（例如“搜索引擎优化工具”）等。',\n",
    "'这些示例中的每一个都呈现一个关键字。输入关键字后，该工具会搜索这些关键字的提及次数并将其收集在一个位置。',\n",
    "'监控营销（和其他）活动以及产品发布至关重要。',\n",
    "'社交媒体上的反应非常迅速。只有通过实时监控此类事件，您才会立即知道它是否正常运行以及是否存在您在创建活动时可能没有注意到的问题。',\n",
    "'你越早知道越好。要监控广告系列，请输入其名称（如果有），标语和/或主题标签作为关键字。']\n",
    "new_clean_sentences = clean_sentences(new_sentences, stopwords)\n",
    "model.build_vocab(new_clean_sentences, update=True)\n",
    "model.train(new_clean_sentences, total_examples=model.corpus_count, epochs=model.epochs)\n",
    "print(model)"
   ]
  },
  {
   "cell_type": "markdown",
   "metadata": {},
   "source": [
    "## 持续学习的优化策略之缓存"
   ]
  },
  {
   "cell_type": "markdown",
   "metadata": {},
   "source": [
    "将查询字典缓存起来，加快查询速度"
   ]
  },
  {
   "cell_type": "code",
   "execution_count": 13,
   "metadata": {},
   "outputs": [
    {
     "name": "stdout",
     "output_type": "stream",
     "text": [
      "与【机器人】最相关的词汇是: \n",
      " [('认证', 0.2719489336013794), ('识别', 0.2521708607673645), ('金子', 0.22522547841072083), ('数据挖掘', 0.22182640433311462), ('密度', 0.18195517361164093), ('zaman', 0.18047131597995758), ('僵尸', 0.17697754502296448), ('销售', 0.17411059141159058), ('角度', 0.16212712228298187), ('看似', 0.15850377082824707)]\n",
      "与【用户】最相关的词汇是: \n",
      " [('不太', 0.2577117085456848), ('搜索', 0.24347910284996033), ('社会化', 0.24073421955108643), ('浏览者', 0.21051475405693054), ('操控', 0.1978422999382019), ('社交圈子', 0.18944187462329865), ('hjouji', 0.1885153204202652), ('营销', 0.16477084159851074), ('文章', 0.15027263760566711), ('认证', 0.1484912931919098)]\n",
      "与【舆论】最相关的词汇是: \n",
      " [('社交圈子', 0.24106180667877197), ('bots', 0.23350849747657776), ('公关', 0.2256145477294922), ('客观', 0.20652201771736145), ('物理', 0.20188850164413452), ('数据', 0.19837093353271484), ('沙子', 0.1766655147075653), ('带来', 0.17397211492061615), ('三个', 0.17237557470798492), ('蕴含着', 0.16069327294826508)]\n",
      "与【网络】最相关的词汇是: \n",
      " [('不论是', 0.23934946954250336), ('表现', 0.23481065034866333), ('量化', 0.2129141390323639), ('当做', 0.20907115936279297), ('关注', 0.195219025015831), ('好友', 0.19484177231788635), ('情绪', 0.19105473160743713), ('几十个', 0.18188931047916412), ('淘沙得金', 0.17142926156520844), ('过往', 0.16459228098392487)]\n",
      "与【观点】最相关的词汇是: \n",
      " [('研究者', 0.25458377599716187), ('更新', 0.22355207800865173), ('预判', 0.19042032957077026), ('真实性', 0.18875616788864136), ('给出', 0.17752963304519653), ('实名', 0.17504742741584778), ('一眼', 0.1736421436071396), ('2018', 0.17338219285011292), ('细节', 0.16724005341529846), ('相比', 0.16273275017738342)]\n"
     ]
    }
   ],
   "source": [
    "most_similars_precalc = {word: model.wv.most_similar(word) for word in model.wv.index2word}\n",
    "for i, (key, value) in enumerate(most_similars_precalc.items()):\n",
    "    if i == 5:\n",
    "        break\n",
    "    print(f\"与【{key}】最相关的词汇是: \\n {value}\")"
   ]
  },
  {
   "cell_type": "code",
   "execution_count": 16,
   "metadata": {},
   "outputs": [
    {
     "name": "stdout",
     "output_type": "stream",
     "text": [
      "与【商业】最相关的词汇是：\n",
      " [('决策', 0.276513934135437), ('判断', 0.2578871250152588), ('影响力', 0.2541733682155609), ('算法', 0.22188061475753784), ('足够', 0.2191009223461151), ('用以', 0.2088950276374817), ('受众', 0.19619113206863403), ('物理', 0.1886662095785141), ('社交', 0.18834272027015686), ('twitter', 0.17598950862884521)]\n",
      "与【数据】最相关的词汇是：\n",
      " [('社交圈子', 0.36156123876571655), ('好比', 0.3348948359489441), ('当做', 0.23842166364192963), ('各类', 0.2250472903251648), ('舆论', 0.19837093353271484), ('不太可能', 0.19258415699005127), ('足够', 0.19135279953479767), ('蕴含着', 0.18743714690208435), ('直觉', 0.18527060747146606), ('关注', 0.17979882657527924)]\n",
      "与【文本】最相关的词汇是：\n",
      " [('物理', 0.326978474855423), ('好友', 0.30594292283058167), ('月份', 0.19317810237407684), ('角度', 0.1789444535970688), ('研究组', 0.1777227520942688), ('社交', 0.16687233746051788), ('发现', 0.15642115473747253), ('情绪', 0.14816918969154358), ('公关', 0.12980999052524567), ('量化', 0.12490525841712952)]\n",
      "与【媒体】最相关的词汇是：\n",
      " [('社交', 0.24651837348937988), ('真实性', 0.24446488916873932), ('评论', 0.21619555354118347), ('三个', 0.215988889336586), ('信息', 0.20696309208869934), ('scott', 0.20206014811992645), ('僵尸', 0.19299057126045227), ('工作', 0.18031585216522217), ('跟踪', 0.1775485724210739), ('假设', 0.16271190345287323)]\n",
      "Wall time: 3 ms\n"
     ]
    }
   ],
   "source": [
    "%%time\n",
    "# 无缓存\n",
    "words = ['商业', '数据', '文本', '媒体']\n",
    "for word in words:\n",
    "    result = model.wv.most_similar(word)\n",
    "    print(f\"与【{word}】最相关的词汇是：\\n {result}\")"
   ]
  },
  {
   "cell_type": "code",
   "execution_count": 17,
   "metadata": {},
   "outputs": [
    {
     "name": "stdout",
     "output_type": "stream",
     "text": [
      "与【商业】最相关的词汇是：\n",
      " [('决策', 0.276513934135437), ('判断', 0.2578871250152588), ('影响力', 0.2541733682155609), ('算法', 0.22188061475753784), ('足够', 0.2191009223461151), ('用以', 0.2088950276374817), ('受众', 0.19619113206863403), ('物理', 0.1886662095785141), ('社交', 0.18834272027015686), ('twitter', 0.17598950862884521)]\n",
      "与【数据】最相关的词汇是：\n",
      " [('社交圈子', 0.36156123876571655), ('好比', 0.3348948359489441), ('当做', 0.23842166364192963), ('各类', 0.2250472903251648), ('舆论', 0.19837093353271484), ('不太可能', 0.19258415699005127), ('足够', 0.19135279953479767), ('蕴含着', 0.18743714690208435), ('直觉', 0.18527060747146606), ('关注', 0.17979882657527924)]\n",
      "与【文本】最相关的词汇是：\n",
      " [('物理', 0.326978474855423), ('好友', 0.30594292283058167), ('月份', 0.19317810237407684), ('角度', 0.1789444535970688), ('研究组', 0.1777227520942688), ('社交', 0.16687233746051788), ('发现', 0.15642115473747253), ('情绪', 0.14816918969154358), ('公关', 0.12980999052524567), ('量化', 0.12490525841712952)]\n",
      "与【媒体】最相关的词汇是：\n",
      " [('社交', 0.24651837348937988), ('真实性', 0.24446488916873932), ('评论', 0.21619555354118347), ('三个', 0.215988889336586), ('信息', 0.20696309208869934), ('scott', 0.20206014811992645), ('僵尸', 0.19299057126045227), ('工作', 0.18031585216522217), ('跟踪', 0.1775485724210739), ('假设', 0.16271190345287323)]\n",
      "Wall time: 998 µs\n"
     ]
    }
   ],
   "source": [
    "%%time\n",
    "# 有缓存\n",
    "for word in words:\n",
    "    try:\n",
    "        result = most_similars_precalc[word]\n",
    "    except KeyError:\n",
    "        pass\n",
    "    print(f\"与【{word}】最相关的词汇是：\\n {result}\")"
   ]
  },
  {
   "cell_type": "markdown",
   "metadata": {},
   "source": [
    "## 常用API"
   ]
  },
  {
   "cell_type": "code",
   "execution_count": 223,
   "metadata": {},
   "outputs": [
    {
     "data": {
      "text/plain": [
       "(180, 100)"
      ]
     },
     "execution_count": 223,
     "metadata": {},
     "output_type": "execute_result"
    }
   ],
   "source": [
    "model.wv.vectors.shape"
   ]
  },
  {
   "cell_type": "code",
   "execution_count": 245,
   "metadata": {},
   "outputs": [
    {
     "data": {
      "text/plain": [
       "[('el', 0.2753462791442871),\n",
       " ('提炼', 0.260596364736557),\n",
       " ('信息', 0.2136840522289276),\n",
       " ('潜在', 0.2105185091495514),\n",
       " ('核心', 0.2078903317451477),\n",
       " ('公关', 0.2008153796195984),\n",
       " ('最终', 0.1980503499507904),\n",
       " ('媒体', 0.19680368900299072),\n",
       " ('输入', 0.19662503898143768),\n",
       " ('情绪', 0.19497150182724),\n",
       " ('危机', 0.19382579624652863),\n",
       " ('表现', 0.19245176017284393),\n",
       " ('几个', 0.17243903875350952),\n",
       " ('相比', 0.1710217148065567),\n",
       " ('研究', 0.1686897724866867),\n",
       " ('研究者', 0.1665807068347931),\n",
       " ('各类', 0.16344007849693298),\n",
       " ('真实', 0.16105933487415314),\n",
       " ('产品', 0.1601671576499939),\n",
       " ('筛查', 0.15833434462547302)]"
      ]
     },
     "execution_count": 245,
     "metadata": {},
     "output_type": "execute_result"
    }
   ],
   "source": [
    "# postive, negative同时使用，即词汇类比，word analogy\n",
    "model.wv.most_similar(positive=['社交', '平台'], negative=['内容'],topn=20)"
   ]
  },
  {
   "cell_type": "code",
   "execution_count": 248,
   "metadata": {},
   "outputs": [
    {
     "data": {
      "text/plain": [
       "'危机'"
      ]
     },
     "execution_count": 248,
     "metadata": {},
     "output_type": "execute_result"
    }
   ],
   "source": [
    "# 与其他词汇差异最大的词汇\n",
    "model.wv.doesnt_match(['危机', '产品', '平台'])"
   ]
  },
  {
   "cell_type": "code",
   "execution_count": 249,
   "metadata": {},
   "outputs": [
    {
     "data": {
      "text/plain": [
       "-0.038906284"
      ]
     },
     "execution_count": 249,
     "metadata": {},
     "output_type": "execute_result"
    }
   ],
   "source": [
    "# 基于余弦相似度计算词汇差异，越大相似度越高\n",
    "model.wv.similarity('公关', '研究')"
   ]
  },
  {
   "cell_type": "code",
   "execution_count": 5,
   "metadata": {},
   "outputs": [
    {
     "ename": "ModuleNotFoundError",
     "evalue": "No module named 'pyemd'",
     "output_type": "error",
     "traceback": [
      "\u001b[1;31m---------------------------------------------------------------------------\u001b[0m",
      "\u001b[1;31mModuleNotFoundError\u001b[0m                       Traceback (most recent call last)",
      "\u001b[1;32m<ipython-input-5-194d93bd8d4c>\u001b[0m in \u001b[0;36m<module>\u001b[1;34m\u001b[0m\n\u001b[0;32m      2\u001b[0m \u001b[0mdoc1\u001b[0m \u001b[1;33m=\u001b[0m \u001b[1;34m'基于 微博 数据 的 用户画像 分析 ， 重点 在于 从 数据 中 挖掘 出 用户 偏好'\u001b[0m\u001b[1;33m\u001b[0m\u001b[0m\n\u001b[0;32m      3\u001b[0m \u001b[0mdoc2\u001b[0m \u001b[1;33m=\u001b[0m \u001b[1;34m'语义 分析 也 是 social_listening  中 的 一个 重要 技术 手段'\u001b[0m\u001b[1;33m\u001b[0m\u001b[0m\n\u001b[1;32m----> 4\u001b[1;33m \u001b[0mmodel\u001b[0m\u001b[1;33m.\u001b[0m\u001b[0mwv\u001b[0m\u001b[1;33m.\u001b[0m\u001b[0mwmdistance\u001b[0m\u001b[1;33m(\u001b[0m\u001b[0mdoc1\u001b[0m\u001b[1;33m.\u001b[0m\u001b[0msplit\u001b[0m\u001b[1;33m(\u001b[0m\u001b[1;33m)\u001b[0m\u001b[1;33m,\u001b[0m \u001b[0mdoc2\u001b[0m\u001b[1;33m.\u001b[0m\u001b[0msplit\u001b[0m\u001b[1;33m(\u001b[0m\u001b[1;33m)\u001b[0m\u001b[1;33m)\u001b[0m\u001b[1;33m\u001b[0m\u001b[0m\n\u001b[0m",
      "\u001b[1;32m~\\Anaconda3\\envs\\nlp\\lib\\site-packages\\gensim\\models\\keyedvectors.py\u001b[0m in \u001b[0;36mwmdistance\u001b[1;34m(self, document1, document2)\u001b[0m\n\u001b[0;32m    714\u001b[0m         \u001b[1;31m# If pyemd C extension is available, import it.\u001b[0m\u001b[1;33m\u001b[0m\u001b[1;33m\u001b[0m\u001b[0m\n\u001b[0;32m    715\u001b[0m         \u001b[1;31m# If pyemd is attempted to be used, but isn't installed, ImportError will be raised in wmdistance\u001b[0m\u001b[1;33m\u001b[0m\u001b[1;33m\u001b[0m\u001b[0m\n\u001b[1;32m--> 716\u001b[1;33m         \u001b[1;32mfrom\u001b[0m \u001b[0mpyemd\u001b[0m \u001b[1;32mimport\u001b[0m \u001b[0memd\u001b[0m\u001b[1;33m\u001b[0m\u001b[0m\n\u001b[0m\u001b[0;32m    717\u001b[0m \u001b[1;33m\u001b[0m\u001b[0m\n\u001b[0;32m    718\u001b[0m         \u001b[1;31m# Remove out-of-vocabulary words.\u001b[0m\u001b[1;33m\u001b[0m\u001b[1;33m\u001b[0m\u001b[0m\n",
      "\u001b[1;31mModuleNotFoundError\u001b[0m: No module named 'pyemd'"
     ]
    }
   ],
   "source": [
    "# 基于余弦距离计算的文本相似度匹配函数，数值越大越不相似\n",
    "doc1 = '基于 微博 数据 的 用户画像 分析 ， 重点 在于 从 数据 中 挖掘 出 用户 偏好'\n",
    "doc2 = '语义 分析 也 是 social_listening  中 的 一个 重要 技术 手段'\n",
    "model.wv.wmdistance(doc1.split(), doc2.split())"
   ]
  },
  {
   "cell_type": "code",
   "execution_count": 4,
   "metadata": {},
   "outputs": [
    {
     "data": {
      "text/plain": [
       "[('排沙简金', 0.005555612),\n",
       " ('淘沙得金', 0.0055555934),\n",
       " ('客观', 0.0055555874),\n",
       " ('不太', 0.005555584),\n",
       " ('推特', 0.005555583),\n",
       " ('机器人', 0.0055555813),\n",
       " ('最低', 0.005555581),\n",
       " ('世界', 0.0055555785),\n",
       " ('时会', 0.0055555776),\n",
       " ('服务', 0.0055555766)]"
      ]
     },
     "execution_count": 4,
     "metadata": {},
     "output_type": "execute_result"
    }
   ],
   "source": [
    "# 给定上下文，获得中心词汇的概率分布\n",
    "model.predict_output_word(['social_listening', '口碑', '情报'])"
   ]
  },
  {
   "cell_type": "markdown",
   "metadata": {},
   "source": [
    "# 文本聚类"
   ]
  },
  {
   "cell_type": "markdown",
   "metadata": {},
   "source": [
    "## DBSCAN"
   ]
  },
  {
   "cell_type": "code",
   "execution_count": 19,
   "metadata": {
    "collapsed": true,
    "jupyter": {
     "outputs_hidden": true
    }
   },
   "outputs": [
    {
     "name": "stdout",
     "output_type": "stream",
     "text": [
      "Automatically created module for IPython interactive environment\n",
      "Usage: ipykernel_launcher.py [options]\n",
      "\n",
      "Options:\n",
      "  -h, --help            show this help message and exit\n",
      "  --lsa=N_COMPONENTS    利用潜在语义分析对文本数据进行处理\n",
      "  --no-minibatch        使用一般的K-means算法 (使用batch模式).\n",
      "  --no-idf              禁用逆向文档频率特征加权。\n",
      "  --use-hashing         使用Hashing特征向量\n",
      "  --n-features=N_FEATURES\n",
      "                        从文本中提取的最大特征（维度）数量。\n",
      "  --verbose             在K-means算法中打印进度报告。\n"
     ]
    }
   ],
   "source": [
    "op = OptionParser()\n",
    "op.add_option('--lsa', dest='n_components', type='int', \n",
    "              default=120, help='利用潜在语义分析对文本数据进行处理')\n",
    "op.add_option(\"--no-minibatch\",\n",
    "              action=\"store_false\", dest=\"minibatch\", default=False,\n",
    "              help=\"使用一般的K-means算法 (使用batch模式).\")\n",
    "op.add_option(\"--no-idf\",\n",
    "              action=\"store_false\", dest=\"use_idf\", default=False,\n",
    "              help=\"禁用逆向文档频率特征加权。\")\n",
    "op.add_option(\"--use-hashing\",\n",
    "              action=\"store_true\", default=False,\n",
    "              help=\"使用Hashing特征向量\")\n",
    "op.add_option(\"--n-features\", type=int, default=40000,\n",
    "              help=\"从文本中提取的最大特征（维度）数量。\")\n",
    "op.add_option(\"--verbose\",\n",
    "              action=\"store_true\", dest=\"verbose\", default=False,\n",
    "              help=\"在K-means算法中打印进度报告。\")\n",
    "print(__doc__)\n",
    "op.print_help()"
   ]
  },
  {
   "cell_type": "code",
   "execution_count": 28,
   "metadata": {},
   "outputs": [],
   "source": [
    "def is_interactive():\n",
    "    return not hasattr(sys.modules['__main__'], '__file__')\n",
    "\n",
    "argv = [] if is_interactive() else sys.argv[1:]\n",
    "opts, args = op.parse_args(argv)\n",
    "if len(args) > 0:\n",
    "    op.error('该脚本不需要设置参数')\n",
    "    sys.exit(1)"
   ]
  },
  {
   "cell_type": "code",
   "execution_count": 44,
   "metadata": {},
   "outputs": [],
   "source": [
    "df = pd.read_csv('data/cleaned_data.csv', index_col=0)"
   ]
  },
  {
   "cell_type": "code",
   "execution_count": 45,
   "metadata": {},
   "outputs": [
    {
     "data": {
      "text/html": [
       "<div>\n",
       "<style scoped>\n",
       "    .dataframe tbody tr th:only-of-type {\n",
       "        vertical-align: middle;\n",
       "    }\n",
       "\n",
       "    .dataframe tbody tr th {\n",
       "        vertical-align: top;\n",
       "    }\n",
       "\n",
       "    .dataframe thead th {\n",
       "        text-align: right;\n",
       "    }\n",
       "</style>\n",
       "<table border=\"1\" class=\"dataframe\">\n",
       "  <thead>\n",
       "    <tr style=\"text-align: right;\">\n",
       "      <th></th>\n",
       "      <th>content</th>\n",
       "      <th>title</th>\n",
       "      <th>summary</th>\n",
       "    </tr>\n",
       "  </thead>\n",
       "  <tbody>\n",
       "    <tr>\n",
       "      <th>84045</th>\n",
       "      <td>新华社 北京 ６ 月 ５ 日电 题 ： 把握 正确 路径 与 节奏 助力 深化 国际 合作...</td>\n",
       "      <td>（经济）把握正确路径与节奏　助力深化国际合作——海外专家评中国新一轮高水平对外开放</td>\n",
       "      <td>新华社北京６月５日电题：把握正确路径与节奏　助力深化国际合作——海外专家评中国新一轮高水...</td>\n",
       "    </tr>\n",
       "    <tr>\n",
       "      <th>12411</th>\n",
       "      <td>新华社 照片 ， 乌鲁木齐 ， 2017 年 3 月 31 日 （ 体育 ） （ 8 ） 篮...</td>\n",
       "      <td>（体育）（8）篮球——CBA总决赛首场：新疆战胜广东</td>\n",
       "      <td>新华社照片，乌鲁木齐，2017年3月31日 （体育）（8）篮球——CBA总决赛首场：新疆战胜...</td>\n",
       "    </tr>\n",
       "    <tr>\n",
       "      <th>60031</th>\n",
       "      <td>新华社 照片 ， 伦敦 ， 2017 年 5 月 16 日 （ 体育 ） （ 12 ） 足球...</td>\n",
       "      <td>（体育）（12）足球——英超：切尔西胜沃特福德</td>\n",
       "      <td>新华社照片，伦敦，2017年5月16日 （体育）（12）足球——英超：切尔西胜沃特福德 5月...</td>\n",
       "    </tr>\n",
       "  </tbody>\n",
       "</table>\n",
       "</div>"
      ],
      "text/plain": [
       "                                                 content  \\\n",
       "84045   新华社 北京 ６ 月 ５ 日电 题 ： 把握 正确 路径 与 节奏 助力 深化 国际 合作...   \n",
       "12411  新华社 照片 ， 乌鲁木齐 ， 2017 年 3 月 31 日 （ 体育 ） （ 8 ） 篮...   \n",
       "60031  新华社 照片 ， 伦敦 ， 2017 年 5 月 16 日 （ 体育 ） （ 12 ） 足球...   \n",
       "\n",
       "                                           title  \\\n",
       "84045  （经济）把握正确路径与节奏　助力深化国际合作——海外专家评中国新一轮高水平对外开放   \n",
       "12411                 （体育）（8）篮球——CBA总决赛首场：新疆战胜广东   \n",
       "60031                    （体育）（12）足球——英超：切尔西胜沃特福德   \n",
       "\n",
       "                                                 summary  \n",
       "84045  　　新华社北京６月５日电题：把握正确路径与节奏　助力深化国际合作——海外专家评中国新一轮高水...  \n",
       "12411  新华社照片，乌鲁木齐，2017年3月31日 （体育）（8）篮球——CBA总决赛首场：新疆战胜...  \n",
       "60031  新华社照片，伦敦，2017年5月16日 （体育）（12）足球——英超：切尔西胜沃特福德 5月...  "
      ]
     },
     "execution_count": 45,
     "metadata": {},
     "output_type": "execute_result"
    }
   ],
   "source": [
    "df_sample = df.sample(10000)\n",
    "df_sample.tail(3)"
   ]
  },
  {
   "cell_type": "code",
   "execution_count": 35,
   "metadata": {},
   "outputs": [
    {
     "data": {
      "text/plain": [
       "content      0\n",
       "title        0\n",
       "summary    651\n",
       "dtype: int64"
      ]
     },
     "execution_count": 35,
     "metadata": {},
     "output_type": "execute_result"
    }
   ],
   "source": [
    "df_sample.isna().sum()"
   ]
  },
  {
   "cell_type": "code",
   "execution_count": 46,
   "metadata": {},
   "outputs": [],
   "source": [
    "vectorizer = TfidfVectorizer(max_df=.5, max_features=10000, min_df=5, stop_words=stopwords,\n",
    "                            ngram_range=(1,2), use_idf=True)"
   ]
  },
  {
   "cell_type": "code",
   "execution_count": 47,
   "metadata": {},
   "outputs": [
    {
     "name": "stdout",
     "output_type": "stream",
     "text": [
      "(10000, 10000)\n",
      "Wall time: 6.82 s\n"
     ]
    }
   ],
   "source": [
    "%%time\n",
    "X = vectorizer.fit_transform(df_sample.content)\n",
    "print(X.shape)"
   ]
  },
  {
   "cell_type": "code",
   "execution_count": 48,
   "metadata": {},
   "outputs": [],
   "source": [
    "svd = TruncatedSVD(20)\n",
    "normalizer = Normalizer(copy=False)\n",
    "lsa = make_pipeline(svd, normalizer)"
   ]
  },
  {
   "cell_type": "code",
   "execution_count": 49,
   "metadata": {},
   "outputs": [
    {
     "name": "stdout",
     "output_type": "stream",
     "text": [
      "Wall time: 403 ms\n"
     ]
    }
   ],
   "source": [
    "%time X = lsa.fit_transform(X)"
   ]
  },
  {
   "cell_type": "code",
   "execution_count": 50,
   "metadata": {},
   "outputs": [
    {
     "data": {
      "text/plain": [
       "0.10440098973434962"
      ]
     },
     "execution_count": 50,
     "metadata": {},
     "output_type": "execute_result"
    }
   ],
   "source": [
    "explained_variance = svd.explained_variance_ratio_.sum()\n",
    "explained_variance"
   ]
  },
  {
   "cell_type": "code",
   "execution_count": 51,
   "metadata": {},
   "outputs": [],
   "source": [
    "db = DBSCAN(eps=.2, min_samples=4).fit(X)"
   ]
  },
  {
   "cell_type": "code",
   "execution_count": 58,
   "metadata": {},
   "outputs": [
    {
     "data": {
      "text/plain": [
       "array([   0,    2,    3, ..., 9995, 9998, 9999], dtype=int64)"
      ]
     },
     "execution_count": 58,
     "metadata": {},
     "output_type": "execute_result"
    }
   ],
   "source": [
    "core_sampels_mask = np.zeros_like(db.labels_, dtype=bool)\n",
    "core_sampels_mask[db.core_sample_indices_] = True\n",
    "db.core_sample_indices_"
   ]
  },
  {
   "cell_type": "code",
   "execution_count": 63,
   "metadata": {},
   "outputs": [],
   "source": [
    "cluster_index = db.labels_"
   ]
  },
  {
   "cell_type": "code",
   "execution_count": 64,
   "metadata": {},
   "outputs": [
    {
     "data": {
      "text/plain": [
       "array([ -1,   0,   1,   2,   3,   4,   5,   6,   7,   8,   9,  10,  11,\n",
       "        12,  13,  14,  15,  16,  17,  18,  19,  20,  21,  22,  23,  24,\n",
       "        25,  26,  27,  28,  29,  30,  31,  32,  33,  34,  35,  36,  37,\n",
       "        38,  39,  40,  41,  42,  43,  44,  45,  46,  47,  48,  49,  50,\n",
       "        51,  52,  53,  54,  55,  56,  57,  58,  59,  60,  61,  62,  63,\n",
       "        64,  65,  66,  67,  68,  69,  70,  71,  72,  73,  74,  75,  76,\n",
       "        77,  78,  79,  80,  81,  82,  83,  84,  85,  86,  87,  88,  89,\n",
       "        90,  91,  92,  93,  94,  95,  96,  97,  98,  99, 100, 101, 102,\n",
       "       103, 104, 105, 106, 107, 108, 109, 110, 111, 112, 113, 114, 115,\n",
       "       116, 117, 118, 119, 120, 121, 122, 123, 124, 125, 126, 127, 128,\n",
       "       129, 130, 131, 132, 133, 134, 135, 136, 137, 138, 139, 140, 141,\n",
       "       142, 143, 144, 145, 146, 147, 148, 149, 150, 151, 152, 153, 154,\n",
       "       155, 156, 157, 158, 159, 160, 161, 162, 163, 164], dtype=int64)"
      ]
     },
     "execution_count": 64,
     "metadata": {},
     "output_type": "execute_result"
    }
   ],
   "source": [
    "np.unique(cluster_index)"
   ]
  },
  {
   "cell_type": "code",
   "execution_count": 65,
   "metadata": {},
   "outputs": [
    {
     "data": {
      "text/html": [
       "<div>\n",
       "<style scoped>\n",
       "    .dataframe tbody tr th:only-of-type {\n",
       "        vertical-align: middle;\n",
       "    }\n",
       "\n",
       "    .dataframe tbody tr th {\n",
       "        vertical-align: top;\n",
       "    }\n",
       "\n",
       "    .dataframe thead th {\n",
       "        text-align: right;\n",
       "    }\n",
       "</style>\n",
       "<table border=\"1\" class=\"dataframe\">\n",
       "  <thead>\n",
       "    <tr style=\"text-align: right;\">\n",
       "      <th></th>\n",
       "      <th>content</th>\n",
       "      <th>title</th>\n",
       "      <th>summary</th>\n",
       "      <th>cluster</th>\n",
       "    </tr>\n",
       "  </thead>\n",
       "  <tbody>\n",
       "    <tr>\n",
       "      <th>66989</th>\n",
       "      <td>新华社 照片 ， 外代 ， 2017 年 5 月 22 日 （ 外代 二线 ） 彩虹 跑 5...</td>\n",
       "      <td>[1]（外代二线）彩虹跑</td>\n",
       "      <td>新华社照片，外代，2017年5月22日 （外代二线）彩虹跑 5月20日，在捷克首都布拉格，参...</td>\n",
       "      <td>0</td>\n",
       "    </tr>\n",
       "    <tr>\n",
       "      <th>77941</th>\n",
       "      <td>新华社 照片 ， 内罗毕 ， 2017 年 5 月 31 日 （ 国际 · 图文 互动 ） ...</td>\n",
       "      <td>（国际·图文互动）（6）摆脱“人弹”厄运——索马里前娃娃兵重返社会之路</td>\n",
       "      <td>新华社照片，内罗毕，2017年5月31日 （国际·图文互动）（6）摆脱“人弹”厄运——索马里...</td>\n",
       "      <td>-1</td>\n",
       "    </tr>\n",
       "    <tr>\n",
       "      <th>59023</th>\n",
       "      <td>新华社 照片 ， 蒂尔 堡 ， 2017 年 5 月 15 日 （ 体育 ） （ 2 ） 足...</td>\n",
       "      <td>（体育）（2）足球——荷甲：阿贾克斯胜威廉二世</td>\n",
       "      <td>新华社照片，蒂尔堡，2017年5月15日 （体育）（2）足球——荷甲：阿贾克斯胜威廉二世 5...</td>\n",
       "      <td>1</td>\n",
       "    </tr>\n",
       "    <tr>\n",
       "      <th>72627</th>\n",
       "      <td>新华社 照片 ， 外代 ， 2017 年 5 月 26 日 （ 外代 二线 ） 影片 《 神...</td>\n",
       "      <td>[21]（外代二线）影片《神奇女侠》世界首映式</td>\n",
       "      <td>新华社照片，外代，2017年5月26日 （外代二线）影片《神奇女侠》世界首映式 5月25日，...</td>\n",
       "      <td>0</td>\n",
       "    </tr>\n",
       "    <tr>\n",
       "      <th>12071</th>\n",
       "      <td>新华社 台北 3 月 31 日电 （ 记者 刘欢 吴济海 ） 台湾 交通 主管部门 3 月 ...</td>\n",
       "      <td>（港澳台）台湾“2·13”游览车事故33名罹难者已完成理赔  2名官员遭记大过处分</td>\n",
       "      <td>新华社台北3月31日电（记者刘欢 吴济海）台湾交通主管部门3月31日召开记者会，公布“2·1...</td>\n",
       "      <td>2</td>\n",
       "    </tr>\n",
       "  </tbody>\n",
       "</table>\n",
       "</div>"
      ],
      "text/plain": [
       "                                                 content  \\\n",
       "66989  新华社 照片 ， 外代 ， 2017 年 5 月 22 日 （ 外代 二线 ） 彩虹 跑 5...   \n",
       "77941  新华社 照片 ， 内罗毕 ， 2017 年 5 月 31 日 （ 国际 · 图文 互动 ） ...   \n",
       "59023  新华社 照片 ， 蒂尔 堡 ， 2017 年 5 月 15 日 （ 体育 ） （ 2 ） 足...   \n",
       "72627  新华社 照片 ， 外代 ， 2017 年 5 月 26 日 （ 外代 二线 ） 影片 《 神...   \n",
       "12071  新华社 台北 3 月 31 日电 （ 记者 刘欢 吴济海 ） 台湾 交通 主管部门 3 月 ...   \n",
       "\n",
       "                                           title  \\\n",
       "66989                               [1]（外代二线）彩虹跑   \n",
       "77941        （国际·图文互动）（6）摆脱“人弹”厄运——索马里前娃娃兵重返社会之路   \n",
       "59023                    （体育）（2）足球——荷甲：阿贾克斯胜威廉二世   \n",
       "72627                    [21]（外代二线）影片《神奇女侠》世界首映式   \n",
       "12071  （港澳台）台湾“2·13”游览车事故33名罹难者已完成理赔  2名官员遭记大过处分   \n",
       "\n",
       "                                                 summary  cluster  \n",
       "66989  新华社照片，外代，2017年5月22日 （外代二线）彩虹跑 5月20日，在捷克首都布拉格，参...        0  \n",
       "77941  新华社照片，内罗毕，2017年5月31日 （国际·图文互动）（6）摆脱“人弹”厄运——索马里...       -1  \n",
       "59023  新华社照片，蒂尔堡，2017年5月15日 （体育）（2）足球——荷甲：阿贾克斯胜威廉二世 5...        1  \n",
       "72627  新华社照片，外代，2017年5月26日 （外代二线）影片《神奇女侠》世界首映式 5月25日，...        0  \n",
       "12071  新华社台北3月31日电（记者刘欢 吴济海）台湾交通主管部门3月31日召开记者会，公布“2·1...        2  "
      ]
     },
     "execution_count": 65,
     "metadata": {},
     "output_type": "execute_result"
    }
   ],
   "source": [
    "df_sample['cluster'] = cluster_index\n",
    "df_sample.head()"
   ]
  },
  {
   "cell_type": "code",
   "execution_count": 82,
   "metadata": {},
   "outputs": [
    {
     "data": {
      "text/plain": [
       "84310           （体育）（4）乒乓球——世乒赛男单决赛：马龙对阵樊振东\n",
       "82094               （体育）（6）乒乓球——世乒赛：朱雨玲晋级决赛\n",
       "82189         （体育）（8）乒乓球——世乒赛：吉村真晴/石川佳纯混双夺冠\n",
       "79836                 （体育）（4）乒乓球——世乒赛：林高远晋级\n",
       "82001               （体育）（10）乒乓球——世乒赛：丁宁晋级决赛\n",
       "84118               （体育）（5）乒乓球——世乒赛：樊振东晋级决赛\n",
       "78469                （体育）（2）乒乓球——世乒赛：林高远胜哈宁\n",
       "77622                    （体育）乒乓球——世乒赛：王励勤观赛\n",
       "84490            （体育）（1）乒乓球——世乒赛：丁宁/刘诗雯女双夺冠\n",
       "78463                （体育）（3）乒乓球——世乒赛：张继科胜纳吉\n",
       "84534                （体育）（2）乒乓球——世乒赛：女双颁奖仪式\n",
       "84130               （体育）（6）乒乓球——世乒赛：李尚洙无缘决赛\n",
       "81871            （体育）（2）乒乓球——世乒赛：方博/索尔佳无缘决赛\n",
       "84447    （体育）（2）乒乓球——世乒赛女双决赛：丁宁/刘诗雯对阵陈梦/朱雨玲\n",
       "81196             （体育）（8）乒乓球——世乒赛：平野美宇晋级半决赛\n",
       "77627         （体育）（4）乒乓球——世乒赛：方博／索尔加晋级混双16强\n",
       "67955                （体育）（2）乒乓球——国乒卢森堡备战世乒赛\n",
       "83133             （体育）（16）乒乓球——世乒赛女单决赛：丁宁夺冠\n",
       "79619          （体育）（4）乒乓球——世乒赛：樊振东/许昕晋级男双八强\n",
       "79837                 （体育）（3）乒乓球——世乒赛：林高远晋级\n",
       "84185          （体育）（2）乒乓球——世乒赛：陈梦/朱雨玲晋级女双决赛\n",
       "79675                  （体育）（4）乒乓球——世乒赛：丁宁晋级\n",
       "80833               （体育）（2）乒乓球——世乒赛：刘诗雯晋级八强\n",
       "77538          （体育）（3）乒乓球——世乒赛：马龙/波尔晋级男双32强\n",
       "82005                （体育）（9）乒乓球——世乒赛：丁宁晋级决赛\n",
       "79433           （体育）（2）乒乓球——世乒赛：冯亚兰/格罗斯无缘八强\n",
       "80834               （体育）（6）乒乓球——世乒赛：刘诗雯晋级八强\n",
       "78446               （体育）（2）乒乓球——世乒赛：许昕胜波兰斯基\n",
       "81182              （体育）（4）乒乓球——世乒赛：朱雨玲晋级半决赛\n",
       "82174         （体育）（3）乒乓球——世乒赛：吉村真晴/石川佳纯混双夺冠\n",
       "                        ...                \n",
       "78166               （体育）（5）乒乓球——世乒赛：木子晋级下一轮\n",
       "78048               （体育）（1）乒乓球——世乒赛：丁宁晋级下一轮\n",
       "83104              （体育）（3）乒乓球——世乒赛女单决赛：丁宁夺冠\n",
       "84615                （体育）（7）乒乓球——世乒赛：女双颁奖仪式\n",
       "77628         （体育）（2）乒乓球——世乒赛：方博／索尔加晋级混双16强\n",
       "84549           （体育）（6）乒乓球——世乒赛：丁宁/刘诗雯获女双冠军\n",
       "84315           （体育）（7）乒乓球——世乒赛男单决赛：马龙对阵樊振东\n",
       "80156          （体育）（2）乒乓球——世乒赛：方博/索尔亚晋级混双四强\n",
       "83349           （体育）（10）乒乓球——世乒赛男双：樊振东/许昕夺冠\n",
       "79774        （体育）（6）乒乓球——世乒赛：13岁华裔小将爆冷淘汰水谷隼\n",
       "82448       （体育）（6）乒乓球——世乒赛：森园政崇/大岛祐哉晋级男双决赛\n",
       "81437            （体育）（6）乒乓球——世乒赛男单：张继科无缘16强\n",
       "78160               （体育）（1）乒乓球——世乒赛：朱雨玲首轮晋级\n",
       "84062              （体育）（7）乒乓球——世乒赛男单：马龙晋级决赛\n",
       "81041          （体育）（2）乒乓球——世乒赛：丁宁/刘诗雯晋级女双四强\n",
       "78553                     （体育）乒乓球——世乒赛：木子晋级\n",
       "81426            （体育）（1）乒乓球——世乒赛男单：张继科无缘16强\n",
       "67970                （体育）（8）乒乓球——国乒卢森堡备战世乒赛\n",
       "78449               （体育）（6）乒乓球——世乒赛：许昕胜波兰斯基\n",
       "84540                （体育）（3）乒乓球——世乒赛：男单颁奖仪式\n",
       "84126               （体育）（3）乒乓球——世乒赛：李尚洙无缘决赛\n",
       "83233                 （体育）（4）乒乓球——世乒赛男双决赛赛况\n",
       "83346            （体育）（7）乒乓球——世乒赛男双：樊振东/许昕夺冠\n",
       "84127               （体育）（2）乒乓球——世乒赛：李尚洙无缘决赛\n",
       "84068              （体育）（3）乒乓球——世乒赛男单：许昕无缘决赛\n",
       "84496            （体育）（6）乒乓球——世乒赛：丁宁/刘诗雯女双夺冠\n",
       "78164               （体育）（2）乒乓球——世乒赛：木子晋级下一轮\n",
       "82458                （体育）（4）乒乓球——世乒赛：波尔晋级八强\n",
       "81297              （体育）（2）乒乓球——世乒赛女单：丁宁晋级四强\n",
       "84414                  （体育）（1）乒乓球——世乒赛：马龙夺冠\n",
       "Name: title, Length: 102, dtype: object"
      ]
     },
     "execution_count": 82,
     "metadata": {},
     "output_type": "execute_result"
    }
   ],
   "source": [
    "df_sample[df_sample.cluster == 14].title"
   ]
  },
  {
   "cell_type": "code",
   "execution_count": 94,
   "metadata": {},
   "outputs": [
    {
     "data": {
      "text/plain": [
       "(165, 3172)"
      ]
     },
     "execution_count": 94,
     "metadata": {},
     "output_type": "execute_result"
    }
   ],
   "source": [
    "n_clusters = len(np.argwhere(np.unique(cluster_index) != -1))\n",
    "n_noise = len(np.argwhere(cluster_index == -1))\n",
    "n_clusters, n_noise"
   ]
  },
  {
   "cell_type": "code",
   "execution_count": 104,
   "metadata": {},
   "outputs": [
    {
     "data": {
      "text/plain": [
       "Text(0.5, 1.0, '大致聚类数：165')"
      ]
     },
     "execution_count": 104,
     "metadata": {},
     "output_type": "execute_result"
    },
    {
     "data": {
      "image/png": "[encoded data removed]",
      "text/plain": [
       "<Figure size 1440x1440 with 1 Axes>"
      ]
     },
     "metadata": {
      "needs_background": "light"
     },
     "output_type": "display_data"
    }
   ],
   "source": [
    "unique_labels = set(cluster_index)\n",
    "colors = [plt.cm.Spectral(each) for each in np.linspace(0, 1, len(unique_labels))]\n",
    "plt.figure(figsize=(20,20))\n",
    "for k, col in zip(unique_labels, colors):\n",
    "    if k < 0:\n",
    "        col = [0, 0, 0, .4]\n",
    "    \n",
    "    class_member_mask = (cluster_index == k)\n",
    "    \n",
    "    xy = X[class_member_mask & core_sampels_mask]\n",
    "    plt.plot(xy[:, 0], xy[:, 1], 'o', markerfacecolor=tuple(col),\n",
    "            markeredgecolor='k', markersize=14)\n",
    "    \n",
    "    xy = X[class_member_mask & ~core_sampels_mask]\n",
    "    plt.plot(xy[:, 0], xy[:, 1], 'o', markerfacecolor=tuple(col),\n",
    "            markeredgecolor='k', markersize=6)\n",
    "plt.title(f\"大致聚类数：{n_clusters}\")\n"
   ]
  },
  {
   "cell_type": "markdown",
   "metadata": {},
   "source": [
    "## Single-pass 持续化聚类\n",
    "步骤\n",
    "- 以第一篇文章为种子，建立主题\n",
    "- 基于词袋模型将新文档向量化\n",
    "- 将新文档与所有话题做相似度比较，相似度方式任选\n",
    "- 找到与该文档最大相似度的已有主题\n",
    "- 若相似度大于阈值，则把该文档加入该主题\n",
    "- 若小于阈值，则新文档不属于已有的任何主题，针对该文档创建新主题类别\n",
    "- 聚类结束，等待新文档加入"
   ]
  },
  {
   "cell_type": "code",
   "execution_count": 3,
   "metadata": {},
   "outputs": [],
   "source": [
    "def flatten_list(list_):\n",
    "    for s in list_:\n",
    "        if isinstance(s, list):\n",
    "            yield from flatten_list(s)\n",
    "        else:\n",
    "            yield s"
   ]
  },
  {
   "cell_type": "code",
   "execution_count": 4,
   "metadata": {},
   "outputs": [],
   "source": [
    "def split_sentence(doc):\n",
    "    ss = SentenceSplitter()\n",
    "    # 去除换行符产生的''\n",
    "    return [sentence for sentence in ss.split(doc.strip().strip('\\ufeff')) if sentence]"
   ]
  },
  {
   "cell_type": "code",
   "execution_count": 109,
   "metadata": {},
   "outputs": [
    {
     "data": {
      "text/plain": [
       "-1.0"
      ]
     },
     "execution_count": 109,
     "metadata": {},
     "output_type": "execute_result"
    }
   ],
   "source": [
    "# 该api返回的是余弦相似度，[-1,1]\n",
    "# 和直接传入的一般向量格式不同，这里传入元组列表，每个元组的0元素为序列号，1元素为权重，所有1元素构成向量\n",
    "matutils.cossim([(0, 1),(1,0)],[(0,-1),(1,0)])"
   ]
  },
  {
   "cell_type": "code",
   "execution_count": 11,
   "metadata": {},
   "outputs": [],
   "source": [
    "class SinglePassCluster:\n",
    "    def __init__(self, theta=.85):\n",
    "        self.theta=theta\n",
    "        \n",
    "    def load_data(self, filename):\n",
    "        with smart_open(filename, 'r', encoding='utf-8') as f:\n",
    "            texts = [split_sentence(s) for s in f]\n",
    "            print(f\"未切分钱的语句总数为：{len(texts)} 条\")\n",
    "            print('-'*30)\n",
    "            texts = [i.strip() for i in list(flatten_list(texts)) if len(i)>5]\n",
    "            print(f\"切分后语句总数为：{len(texts)} 条\")\n",
    "        return texts\n",
    "    \n",
    "    def segment_word(self, docs, stopwords):\n",
    "        segmentation = [[word for word in jieba.cut(doc) if word not in stopwords\n",
    "               if word != ' '] for doc in docs]\n",
    "        return segmentation\n",
    "    \n",
    "    def get_dictionary(self, segmentation):\n",
    "        return corpora.Dictionary(segmentation)\n",
    "    \n",
    "    def get_tfidf_vec(self, dictionary, segmentation, pivot=10, slope=.1):\n",
    "        doc2bow = [dictionary.doc2bow(seg) for seg in segmentation]\n",
    "        tfidf = models.TfidfModel(doc2bow, pivot=pivot, slope=slope)\n",
    "        doc2tfidf = tfidf[doc2bow]\n",
    "        return doc2tfidf\n",
    "    \n",
    "    def get_max_similarity(self, topic_dict, vector):\n",
    "        max_index = -1\n",
    "        max_value = 0\n",
    "        for k, vec in topic_dict.items():\n",
    "            new_similarity = np.mean([matutils.cossim(vector, v) for v in vec])\n",
    "            if new_similarity > max_value:\n",
    "                max_value = new_similarity\n",
    "                max_index = k\n",
    "        return max_index, max_value\n",
    "        \n",
    "    def single_pass(self, doc2vec, texts, theta):\n",
    "        topic_dict = {}  # 键，索引；值，向量\n",
    "        topic_cluster = {}  # 键，索引；值，文本\n",
    "        topic_num = 0\n",
    "        count = 0\n",
    "        for vec, text in zip(doc2vec, texts):\n",
    "            if not topic_num:\n",
    "                topic_dict[topic_num] = []\n",
    "                topic_dict[topic_num].append(vec)\n",
    "                topic_cluster[topic_num] = []\n",
    "                topic_cluster[topic_num].append(text)\n",
    "                topic_num += 1\n",
    "            else:\n",
    "                max_index, max_value = self.get_max_similarity(topic_dict, vec)\n",
    "                if max_value > theta:\n",
    "                    topic_dict[max_index].append(vec)\n",
    "                    topic_cluster[max_index].append(text)\n",
    "                else:\n",
    "                    topic_dict[topic_num] = []\n",
    "                    topic_dict[topic_num].append(vec)\n",
    "                    topic_cluster[topic_num] = []\n",
    "                    topic_cluster[topic_num].append(text)\n",
    "                    topic_num += 1\n",
    "            count += 1\n",
    "            if count % 1000 == 0:\n",
    "                print(f\"Processing {cnt}...\")\n",
    "        return topic_dict, topic_cluster\n",
    "    \n",
    "    def fit_transform(self, filename, stopwords, theta=.5):\n",
    "        texts = self.load_data(filename)\n",
    "        segmentation = self.segment_word(texts, stopwords)\n",
    "        dictionary = self.get_dictionary(segmentation)\n",
    "        doc2tfidf = self.get_tfidf_vec(dictionary, segmentation)\n",
    "        topic_dict, topic_cluster = self.single_pass(doc2tfidf, texts, theta)\n",
    "        \n",
    "        print(f\"得到的主题数为：{len(topic_dict)}\")\n",
    "        print('\\n' + '--' * 20)\n",
    "        # 按照聚类包含的主题数量排序\n",
    "        topic_cluster_sorted = sorted(topic_cluster.items(), key=lambda x: len(x[1]), reverse=True)\n",
    "        for k in topic_cluster_sorted:\n",
    "            cluster_title = '\\n'.join(k[1])\n",
    "            # 获取每个聚类中主题的关键词\n",
    "            key_word = TextRank4Keyword()\n",
    "            key_word.analyze(''.join(flatten_list(self.segment_word(''.join(cluster_title), stopwords))), window=5,\n",
    "                            lower=True)\n",
    "            key_word_list = key_word.get_keywords(num=10, word_min_len=2)\n",
    "            \n",
    "            # 获取每个聚类中关键句top3\n",
    "            sentence = TextRank4Sentence()\n",
    "            sentence.analyze(' '.join(k[1]), lower=True)\n",
    "            sentence_list = sentence.get_key_sentences(num=3, sentence_min_len=3)\n",
    "            print(f\" 【主题索引】:{k[0]} \\n 【主题长度】: {len(k[1])} \\n 【主题关键词】：{key_word_list} \\n 【主题关键句】：\\n{sentence_list}\")\n",
    "            print('-' * 50)"
   ]
  },
  {
   "cell_type": "code",
   "execution_count": 12,
   "metadata": {},
   "outputs": [
    {
     "name": "stdout",
     "output_type": "stream",
     "text": [
      "未切分钱的语句总数为：26 条\n",
      "------------------------------\n",
      "切分后语句总数为：40 条\n"
     ]
    },
    {
     "name": "stderr",
     "output_type": "stream",
     "text": [
      "2019-10-24 16:54:06,811: INFO: adding document #0 to Dictionary(0 unique tokens: [])\n",
      "2019-10-24 16:54:06,814: INFO: built Dictionary(311 unique tokens: ['万首', '全唐诗', '剖析', '实操', '挖掘']...) from 40 documents (total 476 corpus positions)\n",
      "2019-10-24 16:54:06,815: INFO: collecting document frequencies\n",
      "2019-10-24 16:54:06,816: INFO: PROGRESS: processing document #0\n",
      "2019-10-24 16:54:06,816: INFO: calculating IDF weights for 40 documents and 311 features (459 matrix non-zeros)\n"
     ]
    },
    {
     "name": "stdout",
     "output_type": "stream",
     "text": [
      "得到的主题数为：22\n",
      "\n",
      "----------------------------------------\n",
      " 【主题索引】:1 \n",
      " 【主题长度】: 4 \n",
      " 【主题关键词】：[{'word': '舆情', 'weight': 0.08140057369462857}, {'word': '挖掘', 'weight': 0.06551945437931532}, {'word': '文章', 'weight': 0.057843991977364666}, {'word': '中文', 'weight': 0.05623105992255033}, {'word': '远值', 'weight': 0.05623105992255033}, {'word': '崛例', 'weight': 0.045327381681572285}, {'word': '展现', 'weight': 0.044793657419039186}, {'word': '运营', 'weight': 0.03900703531554489}, {'word': '型析重', 'weight': 0.03900703531554489}, {'word': '帝国', 'weight': 0.03807181569722666}] \n",
      " 【主题关键句】：\n",
      "[{'index': 1, 'sentence': '以《大秦帝国之崛起》为例，来谈大数据舆情分析和文本挖掘', 'weight': 0.28956336841403124}, {'index': 3, 'sentence': '数据运营|数据分析中，文本分析远比数值型分析重要', 'weight': 0.24714048879091144}, {'index': 0, 'sentence': '以虎嗅网4W+文章的文本挖掘为例，展现数据分析的一整套流程', 'weight': 0.23895977204658955}]\n",
      "--------------------------------------------------\n",
      " 【主题索引】:3 \n",
      " 【主题长度】: 4 \n",
      " 【主题关键词】：[{'word': '语料', 'weight': 0.08461385820753771}, {'word': '模型', 'weight': 0.07556871816146926}, {'word': '挖掘', 'weight': 0.07509225294755958}, {'word': '空间', 'weight': 0.06658342054054428}, {'word': '代码', 'weight': 0.06347676010776158}, {'word': '集锦', 'weight': 0.05615682796966668}, {'word': '注释', 'weight': 0.05345881703843941}, {'word': '算法', 'weight': 0.04669305251886151}, {'word': '训练', 'weight': 0.04371130378339731}, {'word': '主题', 'weight': 0.04190801783287532}] \n",
      " 【主题关键句】：\n",
      "[{'index': 2, 'sentence': '文本挖掘从小白到精通（一）---语料、向量空间和模型的概念', 'weight': 0.27341864526415766}, {'index': 0, 'sentence': '文本挖掘从小白到精通（二）---语料库和词向量空间', 'weight': 0.25627846990386727}, {'index': 1, 'sentence': '文本挖掘从小白到精通（三）---主题模型和文本数据转换', 'weight': 0.24302880118319375}]\n",
      "--------------------------------------------------\n",
      " 【主题索引】:5 \n",
      " 【主题长度】: 3 \n",
      " 【主题关键词】：[{'word': '运营', 'weight': 0.11722491194749622}, {'word': '实操', 'weight': 0.1033970738414764}, {'word': '项目', 'weight': 0.07956039165889081}, {'word': '试运营', 'weight': 0.0795603916588908}, {'word': '媒体', 'weight': 0.07618368791802248}, {'word': '进行', 'weight': 0.06942230487260737}, {'word': '运析', 'weight': 0.06898263455959781}, {'word': '死角', 'weight': 0.05939476447545331}, {'word': '位容', 'weight': 0.054783397926497036}, {'word': '性化', 'weight': 0.05232226624070649}] \n",
      " 【主题关键句】：\n",
      "[{'index': 0, 'sentence': '【新媒体运营实操】如何做出一个精美的个性化词云', 'weight': 0.3367668555877101}, {'index': 2, 'sentence': '数据运营实操 | 如何运用数据分析对某个试运营项目进行“无死角”的复盘', 'weight': 0.3357070843960605}, {'index': 1, 'sentence': '如何用数据分析，搞定新媒体运营的定位和内容初始化', 'weight': 0.3275260600162292}]\n",
      "--------------------------------------------------\n",
      " 【主题索引】:13 \n",
      " 【主题长度】: 3 \n",
      " 【主题关键词】：[{'word': '联网', 'weight': 0.11323238774422476}, {'word': '发展', 'weight': 0.05693114932612202}, {'word': '贺信', 'weight': 0.04315923601097215}, {'word': '主席', 'weight': 0.03938555009356888}, {'word': '中国', 'weight': 0.03707205524937417}, {'word': '加强', 'weight': 0.03286950820295453}, {'word': '推动', 'weight': 0.03259023820758484}, {'word': '信心', 'weight': 0.03210614200499534}, {'word': '鼓舞', 'weight': 0.03203974701911856}, {'word': '行业', 'weight': 0.030984614131748214}] \n",
      " 【主题关键句】：\n",
      "[{'index': 2, 'sentence': '” “习近平主席在贺信中强调了人工智能、大数据、物联网等新技术新应用新业态方兴未艾，互联网迎来了更加强劲的发展动能和更加广阔的发展空间', 'weight': 0.3593123433881243}, {'index': 1, 'sentence': '” “习近平主席的贺信对世界互联网行业的发展提出了殷切希望，再次鼓舞中国互联网企业家们投身到数字中国的建设中去', 'weight': 0.32815187885089664}, {'index': 0, 'sentence': '“从习近平主席的贺信中，可以看出我们有信心，推动互联网发挥更好的影响和更大的作用', 'weight': 0.31253577776097874}]\n",
      "--------------------------------------------------\n",
      " 【主题索引】:15 \n",
      " 【主题长度】: 3 \n",
      " 【主题关键词】：[{'word': '国家', 'weight': 0.05676357712960775}, {'word': '科技', 'weight': 0.050351510985744086}, {'word': '联网', 'weight': 0.03725799795568758}, {'word': '首席', 'weight': 0.029535687011531312}, {'word': '执行官', 'weight': 0.029499004709926085}, {'word': '效赋', 'weight': 0.027344273538918478}, {'word': '业深', 'weight': 0.025958429341219696}, {'word': '演进', 'weight': 0.025434649143138255}, {'word': '创始', 'weight': 0.024983033528679848}, {'word': '加速', 'weight': 0.02471981049731358}] \n",
      " 【主题关键句】：\n",
      "[{'index': 0, 'sentence': '快手科技创始人兼首席执行官宿华说，得益于国家在互联网基础设施上的巨大投入，快手等一大批科技企业快速成长，见证、记录着国家日新月异的发展进程', 'weight': 0.3767377520639858}, {'index': 2, 'sentence': '” 旷视科技联合创始人兼首席执行官印奇说，新一轮互联网科技革命和产业变革加速演进，让从业者深切感受到机遇与挑战并存', 'weight': 0.34150246607020024}, {'index': 1, 'sentence': '信息技术为制造业、商业等各行各业有效赋能，推动国家不断前进', 'weight': 0.2817597818658136}]\n",
      "--------------------------------------------------\n",
      " 【主题索引】:2 \n",
      " 【主题长度】: 2 \n",
      " 【主题关键词】：[{'word': '增长', 'weight': 0.10046302845032261}, {'word': '黑客', 'weight': 0.10046302845032261}, {'word': '工具', 'weight': 0.08382767324673768}, {'word': '助成', 'weight': 0.08158118277332572}, {'word': '媒体', 'weight': 0.07765204188897162}, {'word': '运营', 'weight': 0.07765204188897162}, {'word': '合格', 'weight': 0.06664974828317352}, {'word': '领域', 'weight': 0.06562138345367256}, {'word': '货款', 'weight': 0.06078494987232173}, {'word': '干货', 'weight': 0.05472305864190394}] \n",
      " 【主题关键句】：\n",
      "[{'index': 1, 'sentence': '万字干货｜10款数据分析“工具”，助你成为新媒体运营领域的“增长黑客”', 'weight': 0.5336404186295123}, {'index': 0, 'sentence': '干货｜作为一个合格的“增长黑客”，你还得重视外部数据的分析', 'weight': 0.46635958137048744}]\n",
      "--------------------------------------------------\n",
      " 【主题索引】:4 \n",
      " 【主题长度】: 2 \n",
      " 【主题关键词】：[{'word': 'sociallistening', 'weight': 0.1509076222530029}, {'word': '媒体', 'weight': 0.11643594629906821}, {'word': '提炼', 'weight': 0.09839970279496787}, {'word': '社化', 'weight': 0.09806318569382251}, {'word': '市场调研', 'weight': 0.08185127322282347}, {'word': '关系', 'weight': 0.08185127322282347}, {'word': '价值', 'weight': 0.08172676414529621}, {'word': '信息', 'weight': 0.06422579137132711}] \n",
      " 【主题关键句】：\n",
      "[{'index': 1, 'sentence': '如何利用Social Listening从社会化媒体中“提炼”有价值的信息', 'weight': 0.5383543405428152}, {'index': 0, 'sentence': 'Social Listening和传统市场调研的关系是怎样的', 'weight': 0.46164565945718444}]\n",
      "--------------------------------------------------\n",
      " 【主题索引】:9 \n",
      " 【主题长度】: 2 \n",
      " 【主题关键词】：[{'word': '优化', 'weight': 0.17048390029726143}, {'word': '进行', 'weight': 0.11840646708171375}, {'word': '企业', 'weight': 0.11840646708171373}, {'word': '公众', 'weight': 0.11840646708171373}, {'word': '号容', 'weight': 0.11840646708171373}, {'word': '聚类析', 'weight': 0.09718261585940409}, {'word': '运营', 'weight': 0.0862358718388265}, {'word': '微信', 'weight': 0.08623587183882649}, {'word': '信台', 'weight': 0.08623587183882647}] \n",
      " 【主题关键句】：\n",
      "[{'index': 0, 'sentence': '如何利用微信后台数据优化微信运营', 'weight': 0.5}, {'index': 1, 'sentence': '如何用聚类分析进行企业公众号的内容优化', 'weight': 0.5}]\n",
      "--------------------------------------------------\n",
      " 【主题索引】:10 \n",
      " 【主题长度】: 2 \n",
      " 【主题关键词】：[{'word': '行业', 'weight': 0.12159759354337102}, {'word': '洞察', 'weight': 0.11062289415267833}, {'word': '免费', 'weight': 0.08737940772885056}, {'word': '工具', 'weight': 0.08737940772885056}, {'word': '享车', 'weight': 0.07807604398429988}, {'word': '挖掘', 'weight': 0.06625996482269579}, {'word': '现状', 'weight': 0.06625996482269579}, {'word': '编程', 'weight': 0.06598820237136592}, {'word': '懂理', 'weight': 0.054839588193329944}, {'word': '走势', 'weight': 0.054647299476297706}] \n",
      " 【主题关键句】：\n",
      "[{'index': 1, 'sentence': '不懂数理和编程，如何运用免费的大数据工具获得行业洞察', 'weight': 0.5146069625494405}, {'index': 0, 'sentence': '用大数据文本挖掘，来洞察“共享单车”的行业现状及走势', 'weight': 0.4853930374505596}]\n",
      "--------------------------------------------------\n",
      " 【主题索引】:14 \n",
      " 【主题长度】: 2 \n",
      " 【主题关键词】：[{'word': '联网', 'weight': 0.08664670917118493}, {'word': '中国', 'weight': 0.08210785510615612}, {'word': '蓬勃发展', 'weight': 0.07214876877290732}, {'word': '诞生', 'weight': 0.05561757109347899}, {'word': '表示', 'weight': 0.05068921701005992}, {'word': '创新', 'weight': 0.047660692718148386}, {'word': '正成', 'weight': 0.04766069271814838}, {'word': '邬贺铨', 'weight': 0.04473006961629387}, {'word': '发展', 'weight': 0.04374193574094282}, {'word': '行业', 'weight': 0.043284258611508}] \n",
      " 【主题关键句】：\n",
      "[{'index': 0, 'sentence': '中国工程院院士邬贺铨表示，今年适逢互联网诞生50周年、中国全功能接入互联网25周年，互联网行业持续蓬勃发展，中国将大有可为', 'weight': 0.5349800091225024}, {'index': 1, 'sentence': '“中国数字经济蓬勃发展，正成为创新经济发展方式的新引擎', 'weight': 0.4650199908774976}]\n",
      "--------------------------------------------------\n",
      " 【主题索引】:21 \n",
      " 【主题长度】: 2 \n",
      " 【主题关键词】：[{'word': '徐良平', 'weight': 0.055857272508996705}, {'word': '改造', 'weight': 0.05229817352798307}, {'word': '字化', 'weight': 0.051729861883915026}, {'word': '主导产业', 'weight': 0.051616846258540156}, {'word': '企业', 'weight': 0.05151435600745456}, {'word': '市委书记', 'weight': 0.049146078978171255}, {'word': '袜业', 'weight': 0.048758885331507296}, {'word': '珍珠', 'weight': 0.04748804224236279}, {'word': '进行', 'weight': 0.046623597029029865}, {'word': '加工', 'weight': 0.04586989820392558}] \n",
      " 【主题关键句】：\n",
      "[{'index': 1, 'sentence': '徐良平介绍，诸暨拥有4家省级工业互联网平台，还将针对袜业、珍珠、铜加工三大主导产业企业的数字化改造进行专项政策扶持', 'weight': 0.6074221092838001}, {'index': 0, 'sentence': '绍兴市委常委、诸暨市委书记徐良平说', 'weight': 0.39257789071620036}]\n",
      "--------------------------------------------------\n",
      " 【主题索引】:0 \n",
      " 【主题长度】: 1 \n",
      " 【主题关键词】：[{'word': '挖掘', 'weight': 0.25470707810409987}, {'word': '剖析', 'weight': 0.21006783334302478}, {'word': '实操', 'weight': 0.16257862760492528}, {'word': '全唐诗', 'weight': 0.16257862760492528}] \n",
      " 【主题关键句】：\n",
      "[{'index': 0, 'sentence': '数据挖掘实操｜用文本挖掘剖析近5万首《全唐诗》', 'weight': 1.0}]\n",
      "--------------------------------------------------\n",
      " 【主题索引】:6 \n",
      " 【主题长度】: 1 \n",
      " 【主题关键词】：[{'word': '效应', 'weight': 0.1289982448846094}, {'word': '旅游', 'weight': 0.11427870968089172}, {'word': '例谈', 'weight': 0.11427870968089171}, {'word': '世界', 'weight': 0.0998614854770825}, {'word': '新闻', 'weight': 0.09986148547708248}, {'word': '冰雪', 'weight': 0.08558277579619078}, {'word': '视化', 'weight': 0.08558277579619077}, {'word': '魅惑', 'weight': 0.07127878416122567}] \n",
      " 【主题关键句】：\n",
      "[{'index': 0, 'sentence': '以哈尔滨冰雪大世界旅游的传播效应为例，谈数据新闻可视化的“魅惑”', 'weight': 1.0}]\n",
      "--------------------------------------------------\n",
      " 【主题索引】:7 \n",
      " 【主题长度】: 1 \n",
      " 【主题关键词】：[{'word': '情感', 'weight': 0.19871498647734095}, {'word': '动力学', 'weight': 0.16623470057362152}, {'word': '需求', 'weight': 0.16128908422479685}, {'word': '心理', 'weight': 0.13035252429422547}, {'word': '水面', 'weight': 0.12486069871935482}, {'word': '遭遇', 'weight': 0.09368730699130559}] \n",
      " 【主题关键句】：\n",
      "[{'index': 0, 'sentence': '当数据分析遭遇心理动力学：用户深层次的情感需求浮出水面', 'weight': 1.0}]\n",
      "--------------------------------------------------\n",
      " 【主题索引】:8 \n",
      " 【主题长度】: 1 \n",
      " 【主题关键词】：[{'word': '发布', 'weight': 0.13006520615019596}, {'word': '转发', 'weight': 0.1270182045145221}, {'word': '规律', 'weight': 0.12605321971292183}, {'word': '民报', 'weight': 0.12605321971292183}, {'word': '文艺', 'weight': 0.11153585052097098}, {'word': '揭开', 'weight': 0.07080881688526965}, {'word': '博例', 'weight': 0.054053444909495506}] \n",
      " 【主题关键句】：\n",
      "[{'index': 0, 'sentence': '揭开微博转发传播的规律：以“人民日报”发布的G20文艺晚会微博为例', 'weight': 1.0}]\n",
      "--------------------------------------------------\n",
      " 【主题索引】:11 \n",
      " 【主题长度】: 1 \n",
      " 【主题关键词】：[{'word': '播文', 'weight': 0.16401018710844412}, {'word': '挖掘', 'weight': 0.16401018710844412}, {'word': '角度', 'weight': 0.16401018710844412}, {'word': '媒体', 'weight': 0.13918924665039611}, {'word': '解读', 'weight': 0.13918924665039611}, {'word': '欢乐颂', 'weight': 0.11479547268693772}, {'word': '社交', 'weight': 0.11479547268693771}] \n",
      " 【主题关键句】：\n",
      "[{'index': 0, 'sentence': '从社交媒体传播和文本挖掘角度解读《欢乐颂2》', 'weight': 1.0}]\n",
      "--------------------------------------------------\n",
      " 【主题索引】:12 \n",
      " 【主题长度】: 1 \n",
      " 【主题关键词】：[{'word': '思维', 'weight': 0.16234957560016253}, {'word': '运营', 'weight': 0.14117009863459998}, {'word': '规划', 'weight': 0.13988065092280738}, {'word': '职业', 'weight': 0.13988065092280735}, {'word': '发展', 'weight': 0.11898992764655159}, {'word': '路径', 'weight': 0.09832472933710942}] \n",
      " 【主题关键句】：\n",
      "[{'index': 0, 'sentence': '写给迷茫的你：如何运用运营思维规划自己的职业发展路径', 'weight': 1.0}]\n",
      "--------------------------------------------------\n",
      " 【主题索引】:16 \n",
      " 【主题长度】: 1 \n",
      " 【主题关键词】：[{'word': '南存辉', 'weight': 0.060138416698199124}, {'word': '深耕', 'weight': 0.059704583490264064}, {'word': '公司', 'weight': 0.05948353466650147}, {'word': '智慧', 'weight': 0.05787521579840501}, {'word': '集团', 'weight': 0.05504027833823796}, {'word': '字化', 'weight': 0.05397886132244126}, {'word': '董事长', 'weight': 0.0535753119239788}, {'word': '制造业', 'weight': 0.05309542342623576}, {'word': '探索', 'weight': 0.05209581920340397}, {'word': '深度', 'weight': 0.05016567888084034}] \n",
      " 【主题关键句】：\n",
      "[{'index': 0, 'sentence': '全国工商联副主席、正泰集团董事长南存辉说，公司深耕制造业数字化转型升级，努力探索物联网技术与智慧能源的深度融合之路', 'weight': 1.0}]\n",
      "--------------------------------------------------\n",
      " 【主题索引】:17 \n",
      " 【主题长度】: 1 \n",
      " 【主题关键词】：[{'word': '消费', 'weight': 0.04938894622006254}, {'word': '执行官', 'weight': 0.04938894622006253}, {'word': '车辆', 'weight': 0.048364187001558534}, {'word': '姚军红', 'weight': 0.04836418700155852}, {'word': '降低', 'weight': 0.0475821368410229}, {'word': '变革', 'weight': 0.046987647632658974}, {'word': '前统', 'weight': 0.04698764763265897}, {'word': '急需', 'weight': 0.046548712139927395}, {'word': '汽车行业', 'weight': 0.04654871213992739}, {'word': '进入', 'weight': 0.04624675584678552}] \n",
      " 【主题关键句】：\n",
      "[{'index': 0, 'sentence': '杭州大搜车集团首席执行官姚军红说，当前传统汽车行业进入深度调整期，流通市场急需变革，以降低车辆消费门槛，提振消费市场信心', 'weight': 1.0}]\n",
      "--------------------------------------------------\n",
      " 【主题索引】:18 \n",
      " 【主题长度】: 1 \n",
      " 【主题关键词】：[{'word': '商家', 'weight': 0.08486224940444469}, {'word': '开放平台', 'weight': 0.08376202394209914}, {'word': '工厂', 'weight': 0.08376202394209914}, {'word': '精准', 'weight': 0.0832414655982449}, {'word': '接统', 'weight': 0.08324146559824488}, {'word': '客户', 'weight': 0.07577756522087013}, {'word': '技术', 'weight': 0.07577756522087012}, {'word': '消费', 'weight': 0.06668719532252658}, {'word': '采工', 'weight': 0.05751274964800339}, {'word': '利益', 'weight': 0.048156750863811215}] \n",
      " 【主题关键句】：\n",
      "[{'index': 0, 'sentence': '大搜车采用人工智能、大数据等技术，建立开放平台，精准对接传统工厂、商家和客户，为消费者带来切实利益', 'weight': 1.0}]\n",
      "--------------------------------------------------\n",
      " 【主题索引】:19 \n",
      " 【主题长度】: 1 \n",
      " 【主题关键词】：[{'word': '研发', 'weight': 0.0581343076663584}, {'word': '坚持', 'weight': 0.054237322688131945}, {'word': '全球', 'weight': 0.0532618888487667}, {'word': '工智', 'weight': 0.05257510782093584}, {'word': '代成', 'weight': 0.052575107820935836}, {'word': '拥主', 'weight': 0.05187956339392761}, {'word': '企业', 'weight': 0.05174687034873239}, {'word': '中国', 'weight': 0.051182396577577685}, {'word': '深度', 'weight': 0.051160838079730264}, {'word': '帮助', 'weight': 0.05083554885564604}] \n",
      " 【主题关键句】：\n",
      "[{'index': 0, 'sentence': '印奇表示，旷视始终坚持自主创新，已成为全球为数不多的拥有自主研发深度学习框架的公司之一，将努力帮助中国企业在人工智能时代来临时，成为引领世界的力量', 'weight': 1.0}]\n",
      "--------------------------------------------------\n",
      " 【主题索引】:20 \n",
      " 【主题长度】: 1 \n",
      " 【主题关键词】：[{'word': '产业', 'weight': 0.1289982448846094}, {'word': '推动', 'weight': 0.12899824488460937}, {'word': '字化', 'weight': 0.11427870968089172}, {'word': '升级', 'weight': 0.11427870968089171}, {'word': '拥抱', 'weight': 0.0998614854770825}, {'word': '道路', 'weight': 0.09986148547708248}, {'word': '新机遇', 'weight': 0.08558277579619078}, {'word': '抢抓', 'weight': 0.07127878416122567}, {'word': '信心', 'weight': 0.07127878416122567}] \n",
      " 【主题关键句】：\n",
      "[{'index': 0, 'sentence': '这让我们对抢抓新机遇、拥抱数字化，推动产业升级的道路充满信心', 'weight': 0.8695647986806898}]\n",
      "--------------------------------------------------\n"
     ]
    }
   ],
   "source": [
    "spc = SinglePassCluster()\n",
    "spc.fit_transform('data/corpus_pm.txt', stopwords, theta=.1)"
   ]
  },
  {
   "cell_type": "markdown",
   "metadata": {},
   "source": [
    "# 文本特征提取方法总结"
   ]
  },
  {
   "cell_type": "markdown",
   "metadata": {},
   "source": [
    "逐个读取的几个方法"
   ]
  },
  {
   "cell_type": "markdown",
   "metadata": {},
   "source": [
    "1.函数"
   ]
  },
  {
   "cell_type": "code",
   "execution_count": 49,
   "metadata": {},
   "outputs": [
    {
     "name": "stdout",
     "output_type": "stream",
     "text": [
      "Wall time: 0 ns\n"
     ]
    }
   ],
   "source": [
    "def load_data(filename):\n",
    "    for line in smart_open(filename, encoding='utf-8'):\n",
    "            yield line"
   ]
  },
  {
   "cell_type": "code",
   "execution_count": 50,
   "metadata": {},
   "outputs": [],
   "source": [
    "data = load_data('data/corpus.txt')"
   ]
  },
  {
   "cell_type": "code",
   "execution_count": 78,
   "metadata": {},
   "outputs": [
    {
     "data": {
      "text/plain": [
       "' 6 月 21 日 ， A股 纳入 MSCI 指数 尘埃落定 ， 但 当天 被 寄予厚望 的 券商 股 并未 扛起 反弹 大旗 。 22 日 ， 在 222 只 纳入 MSCI 指数 的 A股 股票 中 ， 银行 股 全线 飘红 ， 其中 招商银行 领涨 ， 涨幅 达 6.66% 。 保险 股 和 券商 股 的 表现 也 可圈可点 。 在 这 222 只 股票 中 ， 金融 板块 的 股票 数量 和 总 市值 占 比均 位居 首位 。 分析 人士 指出 ， 银行 股 股息 率高 、 估值 低 、 收益 稳定 ， 对于 资金量 较大 、 投资 期限 较长 的 资金 存在 相当 大 的 吸引力 。 从 国际 经验 来看 ， 纳入 MSCI 指数 后 ， 相关 股市 的 投资者 风格 将 更加 稳健 ， 更加 偏好 业绩 稳定 、 流动性 好 、 风险 低 的 优质 蓝筹股 。 银行 股具 估值 优势 6 月 22 日 ， A股 金融股 表现 强势 ， 板块 涨幅 达 1.19% 。 据 平安 证券 统计 ， 在 222 只 纳入 MSCI 指数 的 A股 股票 中 ， 金融 板块 市值 占 比达 41.32% ， 其中 银行 、 证券 和 保险 子 板块 的 市值 占 比 分别 为 27.30% 、 7.75% 和 6.24% 。 多家 券商 研究 报告 认为 ， 银行 等 金融股 受到 纳入 MSCI 指数 的 提振 ， 未来 更 多 境外 资金 将 进入 金融股 。 华泰 证券 表示 ， 在 纳入 MSCI 指数 之后 ， A股 将 迎来 约 850 亿元 人民币 的 增量 资金 。 其中 ， 考虑 到 222 只 股票 中 ， 金融股 市值 占 比约 42% ， 并且 金融股 体量 大 、 流动性 强 、 估值 低 ， 符合 境外 资金 偏好 ， 有望 迎来 超过 权重 的 资金 比例 。 预计 金融股 有望 吸引 增量 资金 约 350 亿元 人民币 。 新富 资本 证券 投资 中心 研究 总监 廖 云龙 认为 ， 银行 股 脱颖而出 的 主要 原因 是 低 估值 。 市场 预期 银行 股 基本面 改善 ， 同时 市场 整体 风格 偏 保守 ， 偏爱 低 估值 。 22 日 银行 股 的 大涨 是 市场 风格 的 延续 ， 是 投资者 对 龙头股 和 对 低 估值 的 防御性 选择 。 东方 财富 choice 统计 的 一季度 末 QFII 重仓股 数据 显示 ， 银行 股是 QFII 关注 的 重点 之一 。 在 前 五十 大 重仓股 中 ， 北京 银行 、 南京 银行 、 宁波 银行 、 上海银行 榜上有名 。 \\n'"
      ]
     },
     "execution_count": 78,
     "metadata": {},
     "output_type": "execute_result"
    }
   ],
   "source": [
    "next(data)"
   ]
  },
  {
   "cell_type": "markdown",
   "metadata": {},
   "source": [
    "2. 类"
   ]
  },
  {
   "cell_type": "code",
   "execution_count": 52,
   "metadata": {},
   "outputs": [],
   "source": [
    "class Corpus:\n",
    "    def __init__(self, filename):\n",
    "        self.filename = filename\n",
    "        \n",
    "    def __iter__(self):\n",
    "        for line in smart_open(self.filename, encoding='utf-8'):\n",
    "            yield line"
   ]
  },
  {
   "cell_type": "code",
   "execution_count": 79,
   "metadata": {},
   "outputs": [],
   "source": [
    "t = Corpus('data/corpus.txt')\n",
    "t = iter(t)"
   ]
  },
  {
   "cell_type": "code",
   "execution_count": 89,
   "metadata": {},
   "outputs": [
    {
     "data": {
      "text/plain": [
       "' 6 月 21 日 ， A股 纳入 MSCI 指数 尘埃落定 ， 但 当天 被 寄予厚望 的 券商 股 并未 扛起 反弹 大旗 。 22 日 ， 在 222 只 纳入 MSCI 指数 的 A股 股票 中 ， 银行 股 全线 飘红 ， 其中 招商银行 领涨 ， 涨幅 达 6.66% 。 保险 股 和 券商 股 的 表现 也 可圈可点 。 在 这 222 只 股票 中 ， 金融 板块 的 股票 数量 和 总 市值 占 比均 位居 首位 。 分析 人士 指出 ， 银行 股 股息 率高 、 估值 低 、 收益 稳定 ， 对于 资金量 较大 、 投资 期限 较长 的 资金 存在 相当 大 的 吸引力 。 从 国际 经验 来看 ， 纳入 MSCI 指数 后 ， 相关 股市 的 投资者 风格 将 更加 稳健 ， 更加 偏好 业绩 稳定 、 流动性 好 、 风险 低 的 优质 蓝筹股 。 银行 股具 估值 优势 6 月 22 日 ， A股 金融股 表现 强势 ， 板块 涨幅 达 1.19% 。 据 平安 证券 统计 ， 在 222 只 纳入 MSCI 指数 的 A股 股票 中 ， 金融 板块 市值 占 比达 41.32% ， 其中 银行 、 证券 和 保险 子 板块 的 市值 占 比 分别 为 27.30% 、 7.75% 和 6.24% 。 多家 券商 研究 报告 认为 ， 银行 等 金融股 受到 纳入 MSCI 指数 的 提振 ， 未来 更 多 境外 资金 将 进入 金融股 。 华泰 证券 表示 ， 在 纳入 MSCI 指数 之后 ， A股 将 迎来 约 850 亿元 人民币 的 增量 资金 。 其中 ， 考虑 到 222 只 股票 中 ， 金融股 市值 占 比约 42% ， 并且 金融股 体量 大 、 流动性 强 、 估值 低 ， 符合 境外 资金 偏好 ， 有望 迎来 超过 权重 的 资金 比例 。 预计 金融股 有望 吸引 增量 资金 约 350 亿元 人民币 。 新富 资本 证券 投资 中心 研究 总监 廖 云龙 认为 ， 银行 股 脱颖而出 的 主要 原因 是 低 估值 。 市场 预期 银行 股 基本面 改善 ， 同时 市场 整体 风格 偏 保守 ， 偏爱 低 估值 。 22 日 银行 股 的 大涨 是 市场 风格 的 延续 ， 是 投资者 对 龙头股 和 对 低 估值 的 防御性 选择 。 东方 财富 choice 统计 的 一季度 末 QFII 重仓股 数据 显示 ， 银行 股是 QFII 关注 的 重点 之一 。 在 前 五十 大 重仓股 中 ， 北京 银行 、 南京 银行 、 宁波 银行 、 上海银行 榜上有名 。 \\n'"
      ]
     },
     "execution_count": 89,
     "metadata": {},
     "output_type": "execute_result"
    }
   ],
   "source": [
    "next(t)"
   ]
  },
  {
   "cell_type": "markdown",
   "metadata": {},
   "source": [
    "3. pandas"
   ]
  },
  {
   "cell_type": "code",
   "execution_count": 3,
   "metadata": {},
   "outputs": [],
   "source": [
    "df_reader = pd.read_csv('data/cleaned_data.csv', index_col=0, iterator=True)"
   ]
  },
  {
   "cell_type": "code",
   "execution_count": 4,
   "metadata": {},
   "outputs": [],
   "source": [
    "# 读取后内容停在上一次读取的位置，下一次读取将从上一次的位置往后\n",
    "df = df_reader.get_chunk(1000)"
   ]
  },
  {
   "cell_type": "code",
   "execution_count": 5,
   "metadata": {},
   "outputs": [
    {
     "data": {
      "text/html": [
       "<div>\n",
       "<style scoped>\n",
       "    .dataframe tbody tr th:only-of-type {\n",
       "        vertical-align: middle;\n",
       "    }\n",
       "\n",
       "    .dataframe tbody tr th {\n",
       "        vertical-align: top;\n",
       "    }\n",
       "\n",
       "    .dataframe thead th {\n",
       "        text-align: right;\n",
       "    }\n",
       "</style>\n",
       "<table border=\"1\" class=\"dataframe\">\n",
       "  <thead>\n",
       "    <tr style=\"text-align: right;\">\n",
       "      <th></th>\n",
       "      <th>content</th>\n",
       "      <th>title</th>\n",
       "      <th>summary</th>\n",
       "    </tr>\n",
       "  </thead>\n",
       "  <tbody>\n",
       "    <tr>\n",
       "      <th>997</th>\n",
       "      <td>纽约商品交易所 黄金 期货市场 交投 最 活跃 的 ８ 月 黄金 期价 ２ ０ 日比前 一...</td>\n",
       "      <td>纽约金价２０日下跌</td>\n",
       "      <td>NaN</td>\n",
       "    </tr>\n",
       "    <tr>\n",
       "      <th>998</th>\n",
       "      <td>23 日 上午 有 网友 分享 了 这个 惊人 的 画面 ， 影片 中 机车行 老板 原本 ...</td>\n",
       "      <td>轿车失控冲向路边机车老板神后翻救女童</td>\n",
       "      <td>NaN</td>\n",
       "    </tr>\n",
       "    <tr>\n",
       "      <th>999</th>\n",
       "      <td>我们 现在 拥有 强大 而 稳定 的 领导力 ， 不过 是 在 法国 ， 而 非 英国 。...</td>\n",
       "      <td>法国不会帮助英国“软退欧”</td>\n",
       "      <td>NaN</td>\n",
       "    </tr>\n",
       "  </tbody>\n",
       "</table>\n",
       "</div>"
      ],
      "text/plain": [
       "                                               content               title  \\\n",
       "997   纽约商品交易所 黄金 期货市场 交投 最 活跃 的 ８ 月 黄金 期价 ２ ０ 日比前 一...           纽约金价２０日下跌   \n",
       "998  23 日 上午 有 网友 分享 了 这个 惊人 的 画面 ， 影片 中 机车行 老板 原本 ...  轿车失控冲向路边机车老板神后翻救女童   \n",
       "999   我们 现在 拥有 强大 而 稳定 的 领导力 ， 不过 是 在 法国 ， 而 非 英国 。...       法国不会帮助英国“软退欧”   \n",
       "\n",
       "    summary  \n",
       "997     NaN  \n",
       "998     NaN  \n",
       "999     NaN  "
      ]
     },
     "execution_count": 5,
     "metadata": {},
     "output_type": "execute_result"
    }
   ],
   "source": [
    "df.tail(3)"
   ]
  },
  {
   "cell_type": "markdown",
   "metadata": {},
   "source": [
    "## `CounterVctorizer`"
   ]
  },
  {
   "cell_type": "code",
   "execution_count": 125,
   "metadata": {},
   "outputs": [],
   "source": [
    "ctv = CountVectorizer(stop_words=stopwords)"
   ]
  },
  {
   "cell_type": "code",
   "execution_count": 129,
   "metadata": {},
   "outputs": [],
   "source": [
    "# 输入须为空格分开的句子\n",
    "doc2ctv = ctv.fit_transform(df.content)"
   ]
  },
  {
   "cell_type": "code",
   "execution_count": 137,
   "metadata": {},
   "outputs": [
    {
     "name": "stdout",
     "output_type": "stream",
     "text": [
      "  (0, 25167)\t1\n",
      "  (0, 17497)\t1\n",
      "  (0, 20992)\t1\n",
      "  (0, 25300)\t2\n",
      "  (0, 24571)\t1\n",
      "  (0, 24680)\t1\n",
      "  (0, 12025)\t2\n",
      "  (0, 19027)\t1\n",
      "  (0, 7278)\t1\n",
      "  (0, 8977)\t1\n",
      "  (0, 32003)\t1\n",
      "  (0, 24568)\t1\n",
      "  (0, 19573)\t1\n",
      "  (0, 31441)\t1\n",
      "  (0, 18038)\t1\n",
      "  (0, 32737)\t2\n",
      "  (0, 32812)\t1\n",
      "  (0, 17991)\t1\n",
      "  (0, 24863)\t1\n",
      "  (0, 29522)\t1\n",
      "  (0, 30112)\t1\n",
      "  (0, 2006)\t3\n",
      "  (0, 31362)\t1\n",
      "  (0, 5272)\t1\n",
      "  (0, 11780)\t1\n",
      "  (0, 37921)\t1\n",
      "  (0, 2930)\t1\n",
      "  (0, 24868)\t1\n",
      "  (0, 24681)\t1\n",
      "  (0, 31444)\t1\n",
      "  (0, 7711)\t1\n",
      "  (0, 32484)\t1\n",
      "  (0, 16746)\t1\n"
     ]
    }
   ],
   "source": [
    "print(doc2ctv[0])"
   ]
  },
  {
   "cell_type": "code",
   "execution_count": 136,
   "metadata": {},
   "outputs": [
    {
     "data": {
      "text/plain": [
       "array([[0, 0, 0, ..., 0, 0, 0]], dtype=int64)"
      ]
     },
     "execution_count": 136,
     "metadata": {},
     "output_type": "execute_result"
    }
   ],
   "source": [
    "doc2ctv[0].toarray()"
   ]
  },
  {
   "cell_type": "code",
   "execution_count": 138,
   "metadata": {},
   "outputs": [
    {
     "data": {
      "text/plain": [
       "42990"
      ]
     },
     "execution_count": 138,
     "metadata": {},
     "output_type": "execute_result"
    }
   ],
   "source": [
    "vocab = ctv.get_feature_names()\n",
    "len(vocab)"
   ]
  },
  {
   "cell_type": "code",
   "execution_count": 145,
   "metadata": {},
   "outputs": [
    {
     "data": {
      "text/plain": [
       "905"
      ]
     },
     "execution_count": 145,
     "metadata": {},
     "output_type": "execute_result"
    }
   ],
   "source": [
    "digits = [s for s in vocab if s.isdigit()]\n",
    "len(digits)"
   ]
  },
  {
   "cell_type": "markdown",
   "metadata": {},
   "source": [
    "## `Tfidf`"
   ]
  },
  {
   "cell_type": "code",
   "execution_count": 160,
   "metadata": {},
   "outputs": [],
   "source": [
    "doc2tfv = TfidfVectorizer(stop_words=stopwords).fit_transform(df.content)"
   ]
  },
  {
   "cell_type": "code",
   "execution_count": 161,
   "metadata": {},
   "outputs": [
    {
     "name": "stdout",
     "output_type": "stream",
     "text": [
      "  (0, 16746)\t0.15737151766160717\n",
      "  (0, 32484)\t0.11179005268592208\n",
      "  (0, 7711)\t0.07992403586293992\n",
      "  (0, 31444)\t0.16294616012979984\n",
      "  (0, 24681)\t0.18026258127081007\n",
      "  (0, 24868)\t0.18026258127081007\n",
      "  (0, 2930)\t0.08407698144999963\n",
      "  (0, 37921)\t0.18026258127081007\n",
      "  (0, 11780)\t0.07636405442474863\n",
      "  (0, 5272)\t0.11260921836540064\n",
      "  (0, 31362)\t0.11179005268592208\n",
      "  (0, 2006)\t0.5407877438124302\n",
      "  (0, 30112)\t0.16294616012979984\n",
      "  (0, 29522)\t0.13550028197460356\n",
      "  (0, 24863)\t0.09329314509535477\n",
      "  (0, 17991)\t0.06559234314751033\n",
      "  (0, 32812)\t0.18026258127081007\n",
      "  (0, 32737)\t0.27100056394920713\n",
      "  (0, 18038)\t0.1299256395064109\n",
      "  (0, 31441)\t0.10193067738227476\n",
      "  (0, 19573)\t0.07342156153738676\n",
      "  (0, 24568)\t0.18026258127081007\n",
      "  (0, 32003)\t0.18026258127081007\n",
      "  (0, 8977)\t0.17013312425662405\n",
      "  (0, 7278)\t0.18026258127081007\n",
      "  (0, 19027)\t0.09657422245735045\n",
      "  (0, 12025)\t0.14220731810956544\n",
      "  (0, 24680)\t0.11524136794623144\n",
      "  (0, 24571)\t0.12151978413398658\n",
      "  (0, 25300)\t0.28011019304119383\n",
      "  (0, 20992)\t0.09005349287712597\n",
      "  (0, 17497)\t0.13767402759497013\n",
      "  (0, 25167)\t0.1253708249604175\n"
     ]
    }
   ],
   "source": [
    "print(doc2tfv[0])"
   ]
  },
  {
   "cell_type": "code",
   "execution_count": 162,
   "metadata": {},
   "outputs": [
    {
     "name": "stdout",
     "output_type": "stream",
     "text": [
      "  (0, 37921)\t0.18026258127081005\n",
      "  (0, 32812)\t0.18026258127081005\n",
      "  (0, 32737)\t0.2710005639492071\n",
      "  (0, 32484)\t0.11179005268592207\n",
      "  (0, 32003)\t0.18026258127081005\n",
      "  (0, 31444)\t0.16294616012979982\n",
      "  (0, 31441)\t0.10193067738227475\n",
      "  (0, 31362)\t0.11179005268592207\n",
      "  (0, 30112)\t0.16294616012979982\n",
      "  (0, 29522)\t0.13550028197460354\n",
      "  (0, 25300)\t0.2801101930411938\n",
      "  (0, 25167)\t0.1253708249604175\n",
      "  (0, 24868)\t0.18026258127081005\n",
      "  (0, 24863)\t0.09329314509535476\n",
      "  (0, 24681)\t0.18026258127081005\n",
      "  (0, 24680)\t0.11524136794623142\n",
      "  (0, 24571)\t0.12151978413398656\n",
      "  (0, 24568)\t0.18026258127081005\n",
      "  (0, 20992)\t0.09005349287712595\n",
      "  (0, 19573)\t0.07342156153738674\n",
      "  (0, 19027)\t0.09657422245735044\n",
      "  (0, 18038)\t0.12992563950641087\n",
      "  (0, 17991)\t0.06559234314751032\n",
      "  (0, 17497)\t0.1376740275949701\n",
      "  (0, 16746)\t0.15737151766160712\n",
      "  (0, 12025)\t0.1422073181095654\n",
      "  (0, 11780)\t0.07636405442474861\n",
      "  (0, 8977)\t0.17013312425662402\n",
      "  (0, 7711)\t0.0799240358629399\n",
      "  (0, 7278)\t0.18026258127081005\n",
      "  (0, 5272)\t0.11260921836540061\n",
      "  (0, 2930)\t0.08407698144999962\n",
      "  (0, 2006)\t0.5407877438124301\n"
     ]
    }
   ],
   "source": [
    "# 或者采取这样的方式，用ContVectorizer的输出作为TfidfTransformer的输入，结果是一样的\n",
    "doc2tft = TfidfTransformer().fit_transform(doc2ctv)\n",
    "print(doc2tft[0])"
   ]
  },
  {
   "cell_type": "markdown",
   "metadata": {},
   "source": [
    "## `HashingVectorizer` "
   ]
  },
  {
   "cell_type": "code",
   "execution_count": 163,
   "metadata": {},
   "outputs": [
    {
     "name": "stdout",
     "output_type": "stream",
     "text": [
      "  (0, 772)\t-0.125\n",
      "  (0, 32866)\t-0.125\n",
      "  (0, 59200)\t0.125\n",
      "  (0, 59607)\t0.125\n",
      "  (0, 86220)\t-0.125\n",
      "  (0, 105664)\t-0.125\n",
      "  (0, 146008)\t-0.125\n",
      "  (0, 169928)\t0.125\n",
      "  (0, 171914)\t-0.125\n",
      "  (0, 182434)\t-0.125\n",
      "  (0, 200474)\t-0.125\n",
      "  (0, 210299)\t0.125\n",
      "  (0, 239078)\t-0.125\n",
      "  (0, 268249)\t-0.125\n",
      "  (0, 285737)\t0.125\n",
      "  (0, 293813)\t0.125\n",
      "  (0, 369401)\t0.125\n",
      "  (0, 371819)\t-0.125\n",
      "  (0, 392563)\t-0.125\n",
      "  (0, 409601)\t0.125\n",
      "  (0, 507712)\t0.125\n",
      "  (0, 526078)\t0.25\n",
      "  (0, 561105)\t-0.125\n",
      "  (0, 611317)\t-0.125\n",
      "  (0, 615885)\t0.125\n",
      "  (0, 631061)\t0.25\n",
      "  (0, 654286)\t-0.125\n",
      "  (0, 664113)\t-0.125\n",
      "  (0, 665059)\t-0.125\n",
      "  (0, 672647)\t0.125\n",
      "  (0, 689118)\t0.125\n",
      "  (0, 733971)\t0.125\n",
      "  (0, 746417)\t-0.125\n",
      "  (0, 774984)\t0.125\n",
      "  (0, 779779)\t0.125\n",
      "  (0, 807267)\t-0.125\n",
      "  (0, 821299)\t0.125\n",
      "  (0, 856299)\t-0.125\n",
      "  (0, 861416)\t0.125\n",
      "  (0, 923471)\t-0.125\n",
      "  (0, 925001)\t-0.125\n",
      "  (0, 943233)\t0.125\n",
      "  (0, 962274)\t-0.25\n",
      "  (0, 969135)\t-0.125\n",
      "  (0, 1002967)\t-0.375\n",
      "  (0, 1026321)\t-0.125\n",
      "  (0, 1028874)\t-0.125\n"
     ]
    }
   ],
   "source": [
    "doc2hv = HashingVectorizer().transform(df.content)\n",
    "print(doc2hv[0])"
   ]
  },
  {
   "cell_type": "markdown",
   "metadata": {},
   "source": [
    "## Mean `word2vec` --> sentence embedding"
   ]
  },
  {
   "cell_type": "code",
   "execution_count": 8,
   "metadata": {},
   "outputs": [
    {
     "name": "stdout",
     "output_type": "stream",
     "text": [
      "Wall time: 18.8 s\n"
     ]
    }
   ],
   "source": [
    "%time df_clean_content = [[word for word in doc.split() if word not in stopwords] for doc in df.content]"
   ]
  },
  {
   "cell_type": "code",
   "execution_count": 9,
   "metadata": {},
   "outputs": [
    {
     "name": "stdout",
     "output_type": "stream",
     "text": [
      "Wall time: 132 ms\n"
     ]
    }
   ],
   "source": [
    "# 查归属的问题最好转换成查集合或者字典\n",
    "stopwords = set(stopwords)\n",
    "%time df_clean_content = [[word for word in doc.split() if word not in stopwords] for doc in df.content]"
   ]
  },
  {
   "cell_type": "code",
   "execution_count": 10,
   "metadata": {},
   "outputs": [
    {
     "data": {
      "text/plain": [
       "['骁龙',\n",
       " '835',\n",
       " '唯一',\n",
       " 'Windows',\n",
       " '桌面',\n",
       " '平台',\n",
       " '认证',\n",
       " 'ARM',\n",
       " '处理器',\n",
       " '高通',\n",
       " '性能',\n",
       " '屏蔽掉',\n",
       " '核心',\n",
       " '正',\n",
       " '联手',\n",
       " '微软',\n",
       " '找到',\n",
       " '一种',\n",
       " '适合',\n",
       " '桌面',\n",
       " '平台',\n",
       " '兼顾',\n",
       " '性能',\n",
       " '功耗',\n",
       " '完美',\n",
       " '方案',\n",
       " '报道',\n",
       " '称',\n",
       " '微软',\n",
       " '拿到',\n",
       " '新',\n",
       " '源码',\n",
       " 'Windows',\n",
       " '更好',\n",
       " '理解',\n",
       " 'big',\n",
       " '架构',\n",
       " '资料',\n",
       " '显示',\n",
       " '骁龙',\n",
       " '835',\n",
       " '一款',\n",
       " '集成',\n",
       " 'CPU',\n",
       " 'GPU',\n",
       " '基带',\n",
       " '蓝牙',\n",
       " 'Wi',\n",
       " 'Fi',\n",
       " 'SoC',\n",
       " '传统',\n",
       " 'Wintel',\n",
       " '方案',\n",
       " '节省',\n",
       " '至少',\n",
       " '30%',\n",
       " 'PCB',\n",
       " '空间',\n",
       " '按计划',\n",
       " 'Q4',\n",
       " '华硕',\n",
       " '惠普',\n",
       " '联想',\n",
       " '首发',\n",
       " '骁龙',\n",
       " '835',\n",
       " 'Win10',\n",
       " '电脑',\n",
       " '预计',\n",
       " '二合一',\n",
       " '形态',\n",
       " '产品',\n",
       " '高通',\n",
       " '骁龙',\n",
       " '未来',\n",
       " '也许',\n",
       " '见到',\n",
       " '三星',\n",
       " 'Exynos',\n",
       " '联发科',\n",
       " '华为',\n",
       " '麒麟',\n",
       " '小米',\n",
       " '澎湃',\n",
       " 'Windows',\n",
       " '桌面',\n",
       " '平台']"
      ]
     },
     "execution_count": 10,
     "metadata": {},
     "output_type": "execute_result"
    }
   ],
   "source": [
    "df_clean_content[1]"
   ]
  },
  {
   "cell_type": "code",
   "execution_count": 171,
   "metadata": {},
   "outputs": [
    {
     "name": "stderr",
     "output_type": "stream",
     "text": [
      "2019-10-24 20:28:09,486: INFO: collecting all words and their counts\n",
      "2019-10-24 20:28:09,487: INFO: PROGRESS: at sentence #0, processed 0 words, keeping 0 word types\n",
      "2019-10-24 20:28:09,561: INFO: collected 45844 word types from a corpus of 271625 raw words and 1000 sentences\n",
      "2019-10-24 20:28:09,563: INFO: Loading a fresh vocabulary\n",
      "2019-10-24 20:28:09,623: INFO: effective_min_count=3 retains 15756 unique words (34% of original 45844, drops 30088)\n",
      "2019-10-24 20:28:09,625: INFO: effective_min_count=3 leaves 234099 word corpus (86% of original 271625, drops 37526)\n",
      "2019-10-24 20:28:09,718: INFO: deleting the raw counts dictionary of 45844 items\n",
      "2019-10-24 20:28:09,721: INFO: sample=0.001 downsamples 6 most-common words\n",
      "2019-10-24 20:28:09,722: INFO: downsampling leaves estimated 232664 word corpus (99.4% of prior 234099)\n",
      "2019-10-24 20:28:09,784: INFO: estimated required memory for 15756 words and 100 dimensions: 20482800 bytes\n",
      "2019-10-24 20:28:09,785: INFO: resetting layer weights\n",
      "2019-10-24 20:28:14,221: INFO: training model with -1 workers on 15756 vocabulary and 100 features, using sg=0 hs=0 sample=0.001 negative=5 window=5\n",
      "2019-10-24 20:28:14,225: INFO: EPOCH - 1 : training on 0 raw words (0 effective words) took 0.0s, 0 effective words/s\n",
      "2019-10-24 20:28:14,226: WARNING: EPOCH - 1 : supplied example count (0) did not equal expected count (1000)\n",
      "2019-10-24 20:28:14,226: WARNING: EPOCH - 1 : supplied raw word count (0) did not equal expected count (271625)\n",
      "2019-10-24 20:28:14,230: INFO: EPOCH - 2 : training on 0 raw words (0 effective words) took 0.0s, 0 effective words/s\n",
      "2019-10-24 20:28:14,231: WARNING: EPOCH - 2 : supplied example count (0) did not equal expected count (1000)\n",
      "2019-10-24 20:28:14,232: WARNING: EPOCH - 2 : supplied raw word count (0) did not equal expected count (271625)\n",
      "2019-10-24 20:28:14,235: INFO: EPOCH - 3 : training on 0 raw words (0 effective words) took 0.0s, 0 effective words/s\n",
      "2019-10-24 20:28:14,236: WARNING: EPOCH - 3 : supplied example count (0) did not equal expected count (1000)\n",
      "2019-10-24 20:28:14,236: WARNING: EPOCH - 3 : supplied raw word count (0) did not equal expected count (271625)\n",
      "2019-10-24 20:28:14,240: INFO: EPOCH - 4 : training on 0 raw words (0 effective words) took 0.0s, 0 effective words/s\n",
      "2019-10-24 20:28:14,242: WARNING: EPOCH - 4 : supplied example count (0) did not equal expected count (1000)\n",
      "2019-10-24 20:28:14,243: WARNING: EPOCH - 4 : supplied raw word count (0) did not equal expected count (271625)\n",
      "2019-10-24 20:28:14,246: INFO: EPOCH - 5 : training on 0 raw words (0 effective words) took 0.0s, 0 effective words/s\n",
      "2019-10-24 20:28:14,247: WARNING: EPOCH - 5 : supplied example count (0) did not equal expected count (1000)\n",
      "2019-10-24 20:28:14,248: WARNING: EPOCH - 5 : supplied raw word count (0) did not equal expected count (271625)\n",
      "2019-10-24 20:28:14,249: INFO: training on a 0 raw words (0 effective words) took 0.0s, 0 effective words/s\n"
     ]
    },
    {
     "name": "stdout",
     "output_type": "stream",
     "text": [
      "Word2Vec(vocab=15756, size=100, alpha=0.025)\n"
     ]
    }
   ],
   "source": [
    "wv_model = models.Word2Vec(df_clean_content, min_count=3, window=5)\n",
    "print(wv_model)"
   ]
  },
  {
   "cell_type": "code",
   "execution_count": 186,
   "metadata": {},
   "outputs": [],
   "source": [
    "def get_mean_wv(doc:list, model):\n",
    "    result = np.zeros(model.wv.vectors.shape)\n",
    "    cnt = 0\n",
    "    for word in doc:\n",
    "        try:\n",
    "            result += model.wv[word]\n",
    "            cnt += 1\n",
    "        except KeyError:\n",
    "            pass\n",
    "    return result/cnt if cnt else result"
   ]
  },
  {
   "cell_type": "code",
   "execution_count": 188,
   "metadata": {},
   "outputs": [
    {
     "data": {
      "text/plain": [
       "array([[ 0.0001674 , -0.00011078,  0.0000535 , ...,  0.00007704,\n",
       "         0.00041779,  0.00018858],\n",
       "       [ 0.0001674 , -0.00011078,  0.0000535 , ...,  0.00007704,\n",
       "         0.00041779,  0.00018858],\n",
       "       [ 0.0001674 , -0.00011078,  0.0000535 , ...,  0.00007704,\n",
       "         0.00041779,  0.00018858],\n",
       "       ...,\n",
       "       [ 0.0001674 , -0.00011078,  0.0000535 , ...,  0.00007704,\n",
       "         0.00041779,  0.00018858],\n",
       "       [ 0.0001674 , -0.00011078,  0.0000535 , ...,  0.00007704,\n",
       "         0.00041779,  0.00018858],\n",
       "       [ 0.0001674 , -0.00011078,  0.0000535 , ...,  0.00007704,\n",
       "         0.00041779,  0.00018858]])"
      ]
     },
     "execution_count": 188,
     "metadata": {},
     "output_type": "execute_result"
    }
   ],
   "source": [
    "get_mean_wv(df_clean_content[1], wv_model)"
   ]
  },
  {
   "cell_type": "markdown",
   "metadata": {},
   "source": [
    "## Similarity `word2vec`"
   ]
  },
  {
   "cell_type": "markdown",
   "metadata": {},
   "source": [
    "很慢很慢"
   ]
  },
  {
   "cell_type": "code",
   "execution_count": null,
   "metadata": {},
   "outputs": [],
   "source": [
    "row_len = len(df)\n",
    "col_len = len(wv_model.wv.vocab)\n",
    "matrix = np.zeros((row_len, col_len))\n",
    "\n",
    "for row in range(row_len):\n",
    "    for vocab in wv_model.wv.vocab:\n",
    "        max_simi = 0\n",
    "        for col in range(len(df_clean_content[row])):\n",
    "            clean_word = df_clean_content[row][col]\n",
    "            try:\n",
    "                simi = wv_model.wv.similarity(vocab, clean_word)\n",
    "            except:\n",
    "                pass\n",
    "            if simi > max_simi:\n",
    "                max_simi = simi\n",
    "        matrix[row][col] = max_simi\n",
    "        \n",
    "%time print(matrix)"
   ]
  },
  {
   "cell_type": "markdown",
   "metadata": {},
   "source": [
    "## `Doc2Vec`"
   ]
  },
  {
   "cell_type": "code",
   "execution_count": 12,
   "metadata": {},
   "outputs": [
    {
     "data": {
      "text/plain": [
       "[TaggedDocument(words=['本周', '小米', '手机', '款', '机型', '外', '机型', '暂停', '更新', '发布', '含', '开发', '版', '体验版', '内测', '稳定版', '暂不受', '影响', '确保', '工程师', '精力', '系统优化', '工作', '有人', '猜测', '精力', '用到', 'MIUI', '研发', '之中', 'MIUI', '去年', '发布', '距今已有', '一年', '有余', '更新换代', 'MIUI', '确切', '信息', '等待', '官方消息'], tags=[0]),\n",
       " TaggedDocument(words=['骁龙', '835', '唯一', 'Windows', '桌面', '平台', '认证', 'ARM', '处理器', '高通', '性能', '屏蔽掉', '核心', '正', '联手', '微软', '找到', '一种', '适合', '桌面', '平台', '兼顾', '性能', '功耗', '完美', '方案', '报道', '称', '微软', '拿到', '新', '源码', 'Windows', '更好', '理解', 'big', '架构', '资料', '显示', '骁龙', '835', '一款', '集成', 'CPU', 'GPU', '基带', '蓝牙', 'Wi', 'Fi', 'SoC', '传统', 'Wintel', '方案', '节省', '至少', '30%', 'PCB', '空间', '按计划', 'Q4', '华硕', '惠普', '联想', '首发', '骁龙', '835', 'Win10', '电脑', '预计', '二合一', '形态', '产品', '高通', '骁龙', '未来', '也许', '见到', '三星', 'Exynos', '联发科', '华为', '麒麟', '小米', '澎湃', 'Windows', '桌面', '平台'], tags=[1])]"
      ]
     },
     "execution_count": 12,
     "metadata": {},
     "output_type": "execute_result"
    }
   ],
   "source": [
    "docs = [TaggedDocument(doc, [i]) for i, doc in enumerate(df_clean_content)]\n",
    "docs[:2]"
   ]
  },
  {
   "cell_type": "code",
   "execution_count": 13,
   "metadata": {},
   "outputs": [],
   "source": [
    "dv_model = Doc2Vec(docs, vector_size=5, window=2, min_count=1)\n",
    "matrix_dv = []\n",
    "for sentence, _ in docs:\n",
    "    matrix_dv.append(dv_model.infer_vector(sentence))"
   ]
  },
  {
   "cell_type": "code",
   "execution_count": 14,
   "metadata": {},
   "outputs": [
    {
     "data": {
      "text/plain": [
       "array([ 0.9074565 , -0.3812137 , -0.6033979 , -0.37599024, -0.28377393],\n",
       "      dtype=float32)"
      ]
     },
     "execution_count": 14,
     "metadata": {},
     "output_type": "execute_result"
    }
   ],
   "source": [
    "matrix_dv[0]"
   ]
  },
  {
   "cell_type": "markdown",
   "metadata": {},
   "source": [
    "## `texts_to_sequences`"
   ]
  },
  {
   "cell_type": "code",
   "execution_count": 18,
   "metadata": {
    "scrolled": true
   },
   "outputs": [
    {
     "name": "stdout",
     "output_type": "stream",
     "text": [
      "45754\n"
     ]
    },
    {
     "data": {
      "text/plain": [
       "{'<OOV>': 1,\n",
       " '中': 2,\n",
       " '中国': 3,\n",
       " '说': 4,\n",
       " '市场': 5,\n",
       " '公司': 6,\n",
       " '发展': 7,\n",
       " '企业': 8,\n",
       " '旅游': 9,\n",
       " '新': 10,\n",
       " '北京': 11,\n",
       " '时间': 12,\n",
       " '工作': 13,\n",
       " '里': 14,\n",
       " '称': 15,\n",
       " '美国': 16,\n",
       " '投资': 17,\n",
       " '做': 18,\n",
       " '报道': 19,\n",
       " '国家': 20,\n",
       " '经济': 21,\n",
       " '情况': 22,\n",
       " '发现': 23,\n",
       " '相关': 24,\n",
       " '孩子': 25,\n",
       " '前': 26,\n",
       " '基金': 27,\n",
       " '产品': 28,\n",
       " '指数': 29,\n",
       " '项目': 30,\n",
       " '国际': 31,\n",
       " '平台': 32,\n",
       " '日本': 33,\n",
       " '岁': 34,\n",
       " '比赛': 35,\n",
       " '提供': 36,\n",
       " '★': 37,\n",
       " '汽车': 38,\n",
       " 'a股': 39,\n",
       " '2017': 40,\n",
       " '手机': 41,\n",
       " '内容': 42,\n",
       " '球员': 43,\n",
       " '香港': 44,\n",
       " '未来': 45,\n",
       " '服务': 46,\n",
       " '行业': 47,\n",
       " '毒品': 48,\n",
       " '点': 49,\n",
       " '机构': 50,\n",
       " '包括': 51,\n",
       " '高': 52,\n",
       " '合作': 53,\n",
       " '增长': 54,\n",
       " '资金': 55,\n",
       " '现场': 56,\n",
       " '城市': 57,\n",
       " '希望': 58,\n",
       " '电影': 59,\n",
       " '超过': 60,\n",
       " '元': 61,\n",
       " '全球': 62,\n",
       " '发生': 63,\n",
       " '技术': 64,\n",
       " '发布': 65,\n",
       " '影响': 66,\n",
       " '一名': 67,\n",
       " '警方': 68,\n",
       " '球队': 69,\n",
       " 'msci': 70,\n",
       " '人员': 71,\n",
       " '约': 72,\n",
       " '上海': 73,\n",
       " '数据': 74,\n",
       " '活动': 75,\n",
       " '最终': 76,\n",
       " '方式': 77,\n",
       " '社会': 78,\n",
       " '管理': 79,\n",
       " '原': 80,\n",
       " '品牌': 81,\n",
       " '显示': 82,\n",
       " '政府': 83,\n",
       " '文化': 84,\n",
       " '建设': 85,\n",
       " '分钟': 86,\n",
       " '调查': 87,\n",
       " '计划': 88,\n",
       " '政策': 89,\n",
       " '犯罪': 90,\n",
       " '世界': 91,\n",
       " '想': 92,\n",
       " '英国': 93,\n",
       " '信息': 94,\n",
       " '这是': 95,\n",
       " '地区': 96,\n",
       " '产业': 97,\n",
       " '媒体': 98,\n",
       " '投资者': 99,\n",
       " '价格': 100,\n",
       " '第一': 101,\n",
       " '名': 102,\n",
       " '中心': 103,\n",
       " '亿元': 104,\n",
       " '系统': 105,\n",
       " '标题': 106,\n",
       " '全国': 107,\n",
       " '风险': 108,\n",
       " '民警': 109,\n",
       " '网络': 110,\n",
       " '用户': 111,\n",
       " '业务': 112,\n",
       " '关注': 113,\n",
       " '生活': 114,\n",
       " '去年': 115,\n",
       " '研究': 116,\n",
       " '销售': 117,\n",
       " '选择': 118,\n",
       " '带来': 119,\n",
       " '组织': 120,\n",
       " '进一步': 121,\n",
       " '成功': 122,\n",
       " '一种': 123,\n",
       " '接受': 124,\n",
       " '医院': 125,\n",
       " '介绍': 126,\n",
       " '代表': 127,\n",
       " '两个': 128,\n",
       " '提升': 129,\n",
       " '银行': 130,\n",
       " '上涨': 131,\n",
       " '表现': 132,\n",
       " '涨幅': 133,\n",
       " '融资': 134,\n",
       " '近日': 135,\n",
       " '能力': 136,\n",
       " '钱': 137,\n",
       " '家': 138,\n",
       " '告诉': 139,\n",
       " '新闻': 140,\n",
       " '国内': 141,\n",
       " '支持': 142,\n",
       " '参加': 143,\n",
       " '持续': 144,\n",
       " '模式': 145,\n",
       " '增加': 146,\n",
       " '万元': 147,\n",
       " '消费者': 148,\n",
       " '图片': 149,\n",
       " '俱乐部': 150,\n",
       " '号': 151,\n",
       " '机会': 152,\n",
       " '特别': 153,\n",
       " '走': 154,\n",
       " '原因': 155,\n",
       " '景区': 156,\n",
       " '改革': 157,\n",
       " '实施': 158,\n",
       " '请': 159,\n",
       " '游戏': 160,\n",
       " '预计': 161,\n",
       " '消费': 162,\n",
       " '单车': 163,\n",
       " '占': 164,\n",
       " '过程': 165,\n",
       " '日电': 166,\n",
       " '观众': 167,\n",
       " '导致': 168,\n",
       " '月份': 169,\n",
       " '纳入': 170,\n",
       " '创新': 171,\n",
       " '小时': 172,\n",
       " '专业': 173,\n",
       " '正': 174,\n",
       " '车': 175,\n",
       " '高考': 176,\n",
       " '金融': 177,\n",
       " '需求': 178,\n",
       " '综合': 179,\n",
       " '有限公司': 180,\n",
       " '一位': 181,\n",
       " '部门': 182,\n",
       " '集团': 183,\n",
       " '美元': 184,\n",
       " '网友': 185,\n",
       " '领域': 186,\n",
       " '共享': 187,\n",
       " '学生': 188,\n",
       " '正式': 189,\n",
       " '万': 190,\n",
       " '期间': 191,\n",
       " '嫌疑人': 192,\n",
       " '案件': 193,\n",
       " '调整': 194,\n",
       " '此前': 195,\n",
       " '下跌': 196,\n",
       " '次': 197,\n",
       " '建立': 198,\n",
       " '一家': 199,\n",
       " '网上': 200,\n",
       " '站': 201,\n",
       " '交易': 202,\n",
       " '视频': 203,\n",
       " '成本': 204,\n",
       " '一年': 205,\n",
       " '报告': 206,\n",
       " '提出': 207,\n",
       " '亿美元': 208,\n",
       " '支付': 209,\n",
       " '科技': 210,\n",
       " '员工': 211,\n",
       " '副': 212,\n",
       " '地方': 213,\n",
       " '币': 214,\n",
       " '价值': 215,\n",
       " '游客': 216,\n",
       " '台湾': 217,\n",
       " '主席': 218,\n",
       " '未': 219,\n",
       " '参与': 220,\n",
       " '吃': 221,\n",
       " '低': 222,\n",
       " '级': 223,\n",
       " '文字': 224,\n",
       " '依然': 225,\n",
       " '节目': 226,\n",
       " '本文': 227,\n",
       " '飞机': 228,\n",
       " '环境': 229,\n",
       " '法国': 230,\n",
       " '提高': 231,\n",
       " '类': 232,\n",
       " '优势': 233,\n",
       " '达': 234,\n",
       " '购买': 235,\n",
       " '乐视': 236,\n",
       " '生产': 237,\n",
       " '事件': 238,\n",
       " '推出': 239,\n",
       " '牟其中': 240,\n",
       " '利用': 241,\n",
       " '资本': 242,\n",
       " '专家': 243,\n",
       " '老人': 244,\n",
       " '分析': 245,\n",
       " '协议': 246,\n",
       " '区': 247,\n",
       " '商品': 248,\n",
       " '网': 249,\n",
       " '收入': 250,\n",
       " '成绩': 251,\n",
       " '结束': 252,\n",
       " '体验': 253,\n",
       " '直播': 254,\n",
       " '标准': 255,\n",
       " '重点': 256,\n",
       " '这一': 257,\n",
       " '团队': 258,\n",
       " '推动': 259,\n",
       " '指出': 260,\n",
       " '推进': 261,\n",
       " '建议': 262,\n",
       " '点击': 263,\n",
       " '女士': 264,\n",
       " '赛季': 265,\n",
       " '只能': 266,\n",
       " '解决': 267,\n",
       " '运营': 268,\n",
       " '全': 269,\n",
       " '人士': 270,\n",
       " '目标': 271,\n",
       " '核心': 272,\n",
       " '本站': 273,\n",
       " '负责人': 274,\n",
       " '一场': 275,\n",
       " '时代': 276,\n",
       " '基础': 277,\n",
       " '家庭': 278,\n",
       " '新疆': 279,\n",
       " '成员': 280,\n",
       " '有人': 281,\n",
       " '拥有': 282,\n",
       " '网站': 283,\n",
       " '路': 284,\n",
       " '失踪': 285,\n",
       " '京东': 286,\n",
       " '市': 287,\n",
       " '连续': 288,\n",
       " '首次': 289,\n",
       " '无人机': 290,\n",
       " '足球': 291,\n",
       " '来到': 292,\n",
       " '母亲': 293,\n",
       " '学校': 294,\n",
       " '传统': 295,\n",
       " '办法': 296,\n",
       " '面对': 297,\n",
       " '压力': 298,\n",
       " '保护': 299,\n",
       " '更是': 300,\n",
       " '位': 301,\n",
       " '一页': 302,\n",
       " '同比': 303,\n",
       " '考生': 304,\n",
       " '儿子': 305,\n",
       " '离开': 306,\n",
       " '电话': 307,\n",
       " '女儿': 308,\n",
       " '一路': 309,\n",
       " '夏普': 310,\n",
       " '区域': 311,\n",
       " '法律': 312,\n",
       " '人民币': 313,\n",
       " '大学': 314,\n",
       " '规模': 315,\n",
       " '快速': 316,\n",
       " '成立': 317,\n",
       " '历史': 318,\n",
       " '事情': 319,\n",
       " '变化': 320,\n",
       " '稳定': 321,\n",
       " '面临': 322,\n",
       " '教育': 323,\n",
       " '联赛': 324,\n",
       " '公布': 325,\n",
       " '欧洲': 326,\n",
       " '采访': 327,\n",
       " '线': 328,\n",
       " '智能': 329,\n",
       " '欧盟': 330,\n",
       " '商业': 331,\n",
       " '冠军': 332,\n",
       " '韩国': 333,\n",
       " '板块': 334,\n",
       " '联合': 335,\n",
       " '死亡': 336,\n",
       " '车辆': 337,\n",
       " '公开': 338,\n",
       " '开发': 339,\n",
       " '控制': 340,\n",
       " '引发': 341,\n",
       " '买': 342,\n",
       " '保证': 343,\n",
       " '制度': 344,\n",
       " '苏宁': 345,\n",
       " '关系': 346,\n",
       " '我国': 347,\n",
       " '相比': 348,\n",
       " '校园': 349,\n",
       " '外': 350,\n",
       " '找到': 351,\n",
       " '天': 352,\n",
       " '找': 353,\n",
       " '成': 354,\n",
       " '改变': 355,\n",
       " '对此': 356,\n",
       " '父亲': 357,\n",
       " '预期': 358,\n",
       " '股票': 359,\n",
       " '整体': 360,\n",
       " '阶段': 361,\n",
       " '数量': 362,\n",
       " '承诺': 363,\n",
       " '贷': 364,\n",
       " '之间': 365,\n",
       " '监管': 366,\n",
       " '总': 367,\n",
       " '水平': 368,\n",
       " '资源': 369,\n",
       " '张': 370,\n",
       " '诈骗': 371,\n",
       " '快递': 372,\n",
       " '声明': 373,\n",
       " '江苏': 374,\n",
       " '真的': 375,\n",
       " '官方': 376,\n",
       " '越来越': 377,\n",
       " '学习': 378,\n",
       " '升级': 379,\n",
       " '经营': 380,\n",
       " '规划': 381,\n",
       " '工程': 382,\n",
       " '设备': 383,\n",
       " '会员': 384,\n",
       " '杨': 385,\n",
       " '启动': 386,\n",
       " '微信': 387,\n",
       " '做出': 388,\n",
       " '新能源': 389,\n",
       " '体系': 390,\n",
       " '多年': 391,\n",
       " '一条': 392,\n",
       " '喜欢': 393,\n",
       " '毫米': 394,\n",
       " '客户': 395,\n",
       " '比例': 396,\n",
       " '环球网': 397,\n",
       " '故事': 398,\n",
       " '不到': 399,\n",
       " '责任': 400,\n",
       " '道': 401,\n",
       " '救援': 402,\n",
       " '位于': 403,\n",
       " '队员': 404,\n",
       " '上市': 405,\n",
       " '受': 406,\n",
       " '机场': 407,\n",
       " '本次': 408,\n",
       " '想要': 409,\n",
       " '领导': 410,\n",
       " '战略': 411,\n",
       " '合同': 412,\n",
       " '摄像头': 413,\n",
       " '程度': 414,\n",
       " '处': 415,\n",
       " '涉及': 416,\n",
       " '朋友': 417,\n",
       " '身份': 418,\n",
       " '当天': 419,\n",
       " '证实': 420,\n",
       " '主题': 421,\n",
       " '老师': 422,\n",
       " '多个': 423,\n",
       " '联盟': 424,\n",
       " '巴黎': 425,\n",
       " '空间': 426,\n",
       " '深圳': 427,\n",
       " '健康': 428,\n",
       " 'c': 429,\n",
       " '负责': 430,\n",
       " '功能': 431,\n",
       " 'akb48': 432,\n",
       " '交流': 433,\n",
       " '事': 434,\n",
       " '几个': 435,\n",
       " '处于': 436,\n",
       " '报': 437,\n",
       " '训练': 438,\n",
       " '两人': 439,\n",
       " '台': 440,\n",
       " '奥斯卡': 441,\n",
       " '更好': 442,\n",
       " '市民': 443,\n",
       " '非': 444,\n",
       " '位置': 445,\n",
       " '互联网': 446,\n",
       " '渠道': 447,\n",
       " '中新网': 448,\n",
       " '作': 449,\n",
       " '参考': 450,\n",
       " '保障': 451,\n",
       " '减少': 452,\n",
       " '担任': 453,\n",
       " '中超': 454,\n",
       " '日前': 455,\n",
       " '主动': 456,\n",
       " '资料': 457,\n",
       " '沪': 458,\n",
       " '文件': 459,\n",
       " '条件': 460,\n",
       " '费用': 461,\n",
       " '德国': 462,\n",
       " '状态': 463,\n",
       " '长期': 464,\n",
       " '超级': 465,\n",
       " '马': 466,\n",
       " '省': 467,\n",
       " '努力': 468,\n",
       " '乔治': 469,\n",
       " '小区': 470,\n",
       " '监控': 471,\n",
       " '今日': 472,\n",
       " '执行': 473,\n",
       " '作用': 474,\n",
       " '驾驶': 475,\n",
       " '罗斌': 476,\n",
       " '接到': 477,\n",
       " '透露': 478,\n",
       " '海外': 479,\n",
       " '300': 480,\n",
       " '来源': 481,\n",
       " '委员会': 482,\n",
       " '生态': 483,\n",
       " '持股': 484,\n",
       " '打造': 485,\n",
       " '禁区': 486,\n",
       " '粉丝': 487,\n",
       " '这位': 488,\n",
       " '实际上': 489,\n",
       " '微博': 490,\n",
       " '太': 491,\n",
       " '球迷': 492,\n",
       " '食品': 493,\n",
       " '很大': 494,\n",
       " '方向': 495,\n",
       " '群众': 496,\n",
       " '突破': 497,\n",
       " '设计': 498,\n",
       " '通知': 499,\n",
       " '核实': 500,\n",
       " '米': 501,\n",
       " '谈判': 502,\n",
       " '肯定': 503,\n",
       " '领先': 504,\n",
       " '运动': 505,\n",
       " '指': 506,\n",
       " '退出': 507,\n",
       " '吸引': 508,\n",
       " '展开': 509,\n",
       " '当年': 510,\n",
       " '作者': 511,\n",
       " '读者': 512,\n",
       " '自行': 513,\n",
       " '趋势': 514,\n",
       " '软件': 515,\n",
       " '销量': 516,\n",
       " '医生': 517,\n",
       " '司机': 518,\n",
       " '交通': 519,\n",
       " '家长': 520,\n",
       " '重庆': 521,\n",
       " '科普': 522,\n",
       " '近期': 523,\n",
       " '数字': 524,\n",
       " '应': 525,\n",
       " '特斯拉': 526,\n",
       " '苹果': 527,\n",
       " '农村': 528,\n",
       " '完': 529,\n",
       " '创业': 530,\n",
       " 'ppp': 531,\n",
       " '暴雨': 532,\n",
       " '新兴': 533,\n",
       " '采用': 534,\n",
       " '竞争': 535,\n",
       " '举办': 536,\n",
       " '需': 537,\n",
       " '大型': 538,\n",
       " '完善': 539,\n",
       " '广州': 540,\n",
       " '单位': 541,\n",
       " '机制': 542,\n",
       " '文物': 543,\n",
       " '跑': 544,\n",
       " '青年': 545,\n",
       " '派出所': 546,\n",
       " '大幅': 547,\n",
       " '因素': 548,\n",
       " '跌幅': 549,\n",
       " '法院': 550,\n",
       " '加盟': 551,\n",
       " '第一次': 552,\n",
       " '人才': 553,\n",
       " '高校': 554,\n",
       " '转型': 555,\n",
       " '一带': 556,\n",
       " '牙签': 557,\n",
       " '意味着': 558,\n",
       " '做好': 559,\n",
       " '金额': 560,\n",
       " '长': 561,\n",
       " '股份': 562,\n",
       " '累计': 563,\n",
       " '广东': 564,\n",
       " '年轻': 565,\n",
       " '讲': 566,\n",
       " '梅': 567,\n",
       " '安排': 568,\n",
       " '成长': 569,\n",
       " '强': 570,\n",
       " '资产': 571,\n",
       " '工作人员': 572,\n",
       " '商家': 573,\n",
       " '经验': 574,\n",
       " '投入': 575,\n",
       " '送': 576,\n",
       " '下降': 577,\n",
       " '体育': 578,\n",
       " '万人': 579,\n",
       " '声音': 580,\n",
       " '内地': 581,\n",
       " '球': 582,\n",
       " '主任': 583,\n",
       " '本科': 584,\n",
       " '宣传': 585,\n",
       " '男': 586,\n",
       " '更新': 587,\n",
       " '感觉': 588,\n",
       " '公安局': 589,\n",
       " '回落': 590,\n",
       " '美联储': 591,\n",
       " '受伤': 592,\n",
       " '2012': 593,\n",
       " '挑战': 594,\n",
       " '天气': 595,\n",
       " '利益': 596,\n",
       " '平均': 597,\n",
       " '质量': 598,\n",
       " '精神': 599,\n",
       " '比特': 600,\n",
       " '海信': 601,\n",
       " '很快': 602,\n",
       " '图': 603,\n",
       " '依法': 604,\n",
       " '电商': 605,\n",
       " '回到': 606,\n",
       " '内部': 607,\n",
       " '李': 608,\n",
       " '公里': 609,\n",
       " '生命': 610,\n",
       " '亿': 611,\n",
       " '成都': 612,\n",
       " '总统': 613,\n",
       " '拿到': 614,\n",
       " '寻找': 615,\n",
       " '个股': 616,\n",
       " '将会': 617,\n",
       " '未经': 618,\n",
       " '200': 619,\n",
       " '实力': 620,\n",
       " '脱欧': 621,\n",
       " '力量': 622,\n",
       " '对手': 623,\n",
       " '一批': 624,\n",
       " '措施': 625,\n",
       " '跨境': 626,\n",
       " '酒店': 627,\n",
       " '北京市': 628,\n",
       " '表演': 629,\n",
       " '何刚': 630,\n",
       " '人民法院': 631,\n",
       " '版': 632,\n",
       " '住': 633,\n",
       " '报警': 634,\n",
       " '停牌': 635,\n",
       " '并未': 636,\n",
       " '2013': 637,\n",
       " '加大': 638,\n",
       " '高速': 639,\n",
       " '抓获': 640,\n",
       " '东西': 641,\n",
       " '提醒': 642,\n",
       " '文中': 643,\n",
       " '电视': 644,\n",
       " '老板': 645,\n",
       " '自动': 646,\n",
       " '500': 647,\n",
       " '排名': 648,\n",
       " '经历': 649,\n",
       " '天津': 650,\n",
       " '印度': 651,\n",
       " '三个': 652,\n",
       " '救助': 653,\n",
       " '儿童': 654,\n",
       " '处罚': 655,\n",
       " '间': 656,\n",
       " '志愿': 657,\n",
       " '西安': 658,\n",
       " '养老保险': 659,\n",
       " '胡': 660,\n",
       " '证券': 661,\n",
       " '最新': 662,\n",
       " '力度': 663,\n",
       " '股市': 664,\n",
       " '培训': 665,\n",
       " '收益': 666,\n",
       " '具备': 667,\n",
       " '货币': 668,\n",
       " '政治': 669,\n",
       " '无关': 670,\n",
       " '配送': 671,\n",
       " '党': 672,\n",
       " '办公室': 673,\n",
       " '考试': 674,\n",
       " '工业': 675,\n",
       " '华强北': 676,\n",
       " '研发': 677,\n",
       " '速度': 678,\n",
       " '2000': 679,\n",
       " '操作': 680,\n",
       " '确实': 681,\n",
       " '多家': 682,\n",
       " '规范': 683,\n",
       " '俄罗斯': 684,\n",
       " '事故': 685,\n",
       " '意见': 686,\n",
       " 'app': 687,\n",
       " '大学生': 688,\n",
       " '机器人': 689,\n",
       " '招生': 690,\n",
       " '签约': 691,\n",
       " '开': 692,\n",
       " '照片': 693,\n",
       " '大部分': 694,\n",
       " '卖': 695,\n",
       " '早': 696,\n",
       " '真实性': 697,\n",
       " '几年': 698,\n",
       " '体现': 699,\n",
       " '创造': 700,\n",
       " '条': 701,\n",
       " '设置': 702,\n",
       " '冰架': 703,\n",
       " '导演': 704,\n",
       " '基地': 705,\n",
       " '件': 706,\n",
       " '电池': 707,\n",
       " '一份': 708,\n",
       " '一辆': 709,\n",
       " '群体': 710,\n",
       " '股': 711,\n",
       " '有望': 712,\n",
       " '化': 713,\n",
       " '接近': 714,\n",
       " '刚刚': 715,\n",
       " '型': 716,\n",
       " '零售': 717,\n",
       " '态度': 718,\n",
       " '用于': 719,\n",
       " '承担': 720,\n",
       " '县': 721,\n",
       " '娱乐': 722,\n",
       " '简单': 723,\n",
       " '涉嫌': 724,\n",
       " '作品': 725,\n",
       " '凌晨': 726,\n",
       " '南德': 727,\n",
       " '遭遇': 728,\n",
       " '2018': 729,\n",
       " '腾讯': 730,\n",
       " '现象': 731,\n",
       " '一点': 732,\n",
       " '收到': 733,\n",
       " '讯': 734,\n",
       " '性': 735,\n",
       " '进球': 736,\n",
       " '全新': 737,\n",
       " '感到': 738,\n",
       " '父母': 739,\n",
       " '扶贫': 740,\n",
       " '火箭': 741,\n",
       " '搜救': 742,\n",
       " '意识': 743,\n",
       " '贷款': 744,\n",
       " '确保': 745,\n",
       " '难以': 746,\n",
       " '主力': 747,\n",
       " '类似': 748,\n",
       " '妈妈': 749,\n",
       " '收购': 750,\n",
       " '道路': 751,\n",
       " '名字': 752,\n",
       " '无人': 753,\n",
       " '患者': 754,\n",
       " '困难': 755,\n",
       " '录取': 756,\n",
       " '央广网': 757,\n",
       " '格力': 758,\n",
       " '评价': 759,\n",
       " '选手': 760,\n",
       " '打击': 761,\n",
       " '亚马逊': 762,\n",
       " '开启': 763,\n",
       " '运行': 764,\n",
       " '1000': 765,\n",
       " '进': 766,\n",
       " '浙江': 767,\n",
       " '先': 768,\n",
       " '夏季': 769,\n",
       " '物流': 770,\n",
       " '回应': 771,\n",
       " '文明': 772,\n",
       " '云南': 773,\n",
       " '方案': 774,\n",
       " '制造': 775,\n",
       " '背后': 776,\n",
       " '制作': 777,\n",
       " '迎来': 778,\n",
       " '个人观点': 779,\n",
       " '陈述': 780,\n",
       " '贵州': 781,\n",
       " '展示': 782,\n",
       " '角色': 783,\n",
       " '期待': 784,\n",
       " '踢': 785,\n",
       " '目的': 786,\n",
       " '乘客': 787,\n",
       " '蔡': 788,\n",
       " '至少': 789,\n",
       " '问': 790,\n",
       " '境外': 791,\n",
       " '留下': 792,\n",
       " '应对': 793,\n",
       " '众多': 794,\n",
       " '公众': 795,\n",
       " '完整性': 796,\n",
       " '担心': 797,\n",
       " '低于': 798,\n",
       " '王': 799,\n",
       " '卡佩罗': 800,\n",
       " '营销': 801,\n",
       " '实体': 802,\n",
       " '卡': 803,\n",
       " '覆盖': 804,\n",
       " '男篮': 805,\n",
       " '河北': 806,\n",
       " '保安': 807,\n",
       " '弩': 808,\n",
       " '昨日': 809,\n",
       " '纷纷': 810,\n",
       " '测试': 811,\n",
       " '背景': 812,\n",
       " '大会': 813,\n",
       " '出台': 814,\n",
       " '免责': 815,\n",
       " '原创性': 816,\n",
       " '及时性': 817,\n",
       " '仅作': 818,\n",
       " '倍': 819,\n",
       " '首席': 820,\n",
       " '写': 821,\n",
       " '发挥': 822,\n",
       " 'nba': 823,\n",
       " '落实': 824,\n",
       " '明星': 825,\n",
       " '航班': 826,\n",
       " '年代': 827,\n",
       " '唯一': 828,\n",
       " '首发': 829,\n",
       " '情绪': 830,\n",
       " '治疗': 831,\n",
       " '短期': 832,\n",
       " '缺乏': 833,\n",
       " '降低': 834,\n",
       " '形式': 835,\n",
       " '设立': 836,\n",
       " '类型': 837,\n",
       " '意义': 838,\n",
       " '自主': 839,\n",
       " '居民': 840,\n",
       " '恢复': 841,\n",
       " '布局': 842,\n",
       " '拒绝': 843,\n",
       " '申请': 844,\n",
       " '这名': 845,\n",
       " '摄': 846,\n",
       " '配合': 847,\n",
       " '特色': 848,\n",
       " '全域': 849,\n",
       " '热门': 850,\n",
       " '设施': 851,\n",
       " '效果': 852,\n",
       " '局地': 853,\n",
       " '暂停': 854,\n",
       " '陈': 855,\n",
       " '令': 856,\n",
       " '估值': 857,\n",
       " '券商': 858,\n",
       " '签署': 859,\n",
       " '获悉': 860,\n",
       " '两年': 861,\n",
       " '经典': 862,\n",
       " '各类': 863,\n",
       " '叙利亚': 864,\n",
       " '是因为': 865,\n",
       " '紧急': 866,\n",
       " '监督': 867,\n",
       " '玩': 868,\n",
       " '北美': 869,\n",
       " '投诉': 870,\n",
       " '热': 871,\n",
       " '应急': 872,\n",
       " '工厂': 873,\n",
       " '年度': 874,\n",
       " '大陆': 875,\n",
       " '讨论': 876,\n",
       " '兄弟': 877,\n",
       " '骑士': 878,\n",
       " '东北': 879,\n",
       " '垃圾': 880,\n",
       " '女': 881,\n",
       " '孙悦': 882,\n",
       " '李某': 883,\n",
       " '禁毒': 884,\n",
       " '5a': 885,\n",
       " '↓': 886,\n",
       " '再度': 887,\n",
       " '难': 888,\n",
       " '回归': 889,\n",
       " '时期': 890,\n",
       " '组合': 891,\n",
       " '规则': 892,\n",
       " '对象': 893,\n",
       " '呈现': 894,\n",
       " '角度': 895,\n",
       " '科学': 896,\n",
       " '亚洲': 897,\n",
       " '轮': 898,\n",
       " '解释': 899,\n",
       " '一系列': 900,\n",
       " '村': 901,\n",
       " '东部': 902,\n",
       " '检查': 903,\n",
       " '实验': 904,\n",
       " '记录': 905,\n",
       " '江西': 906,\n",
       " '发布会': 907,\n",
       " '收益率': 908,\n",
       " '裁判': 909,\n",
       " '危险': 910,\n",
       " '一度': 911,\n",
       " '交易日': 912,\n",
       " '值得': 913,\n",
       " '增速': 914,\n",
       " '终于': 915,\n",
       " '人数': 916,\n",
       " '天猫': 917,\n",
       " '失败': 918,\n",
       " '给予': 919,\n",
       " '厂商': 920,\n",
       " '邀请': 921,\n",
       " '晚上': 922,\n",
       " '民进党': 923,\n",
       " '没想到': 924,\n",
       " '射门': 925,\n",
       " '部署': 926,\n",
       " '阿里巴巴': 927,\n",
       " '称为': 928,\n",
       " '养育': 929,\n",
       " '村民': 930,\n",
       " '省份': 931,\n",
       " '距离': 932,\n",
       " '达成': 933,\n",
       " '保罗': 934,\n",
       " '爸爸': 935,\n",
       " '转移': 936,\n",
       " '罗': 937,\n",
       " '安林': 938,\n",
       " '―': 939,\n",
       " '选举': 940,\n",
       " '理解': 941,\n",
       " '量': 942,\n",
       " '格局': 943,\n",
       " '信用': 944,\n",
       " '无疑': 945,\n",
       " '百度': 946,\n",
       " '制定': 947,\n",
       " '提前': 948,\n",
       " '南京': 949,\n",
       " '关键': 950,\n",
       " '统一': 951,\n",
       " '供应': 952,\n",
       " '结构': 953,\n",
       " '三年': 954,\n",
       " '自然': 955,\n",
       " '环节': 956,\n",
       " '得知': 957,\n",
       " '影展': 958,\n",
       " '埃及': 959,\n",
       " '冰川': 960,\n",
       " '分级': 961,\n",
       " '英文': 962,\n",
       " '富力': 963,\n",
       " '望京': 964,\n",
       " '陈某': 965,\n",
       " '改善': 966,\n",
       " '债券': 967,\n",
       " '账户': 968,\n",
       " '公安机关': 969,\n",
       " '第三方': 970,\n",
       " '在内': 971,\n",
       " '动力': 972,\n",
       " '特朗普': 973,\n",
       " '地位': 974,\n",
       " '成熟': 975,\n",
       " '质疑': 976,\n",
       " '公园': 977,\n",
       " '全省': 978,\n",
       " '澳大利亚': 979,\n",
       " '西部': 980,\n",
       " 'b': 981,\n",
       " '责任编辑': 982,\n",
       " '澎湃': 983,\n",
       " '事发': 984,\n",
       " '作出': 985,\n",
       " '场景': 986,\n",
       " '行情': 987,\n",
       " '两名': 988,\n",
       " '央行': 989,\n",
       " '深': 990,\n",
       " '反弹': 991,\n",
       " '论坛': 992,\n",
       " '分析师': 993,\n",
       " '回': 994,\n",
       " '现实': 995,\n",
       " '提示': 996,\n",
       " '一线': 997,\n",
       " '超市': 998,\n",
       " '独立': 999,\n",
       " '死': 1000,\n",
       " ...}"
      ]
     },
     "execution_count": 18,
     "metadata": {},
     "output_type": "execute_result"
    }
   ],
   "source": [
    "tokenizer = text.Tokenizer(num_words=1000, oov_token='<OOV>')\n",
    "tokenizer.fit_on_texts(df_clean_content)\n",
    "word2index = tokenizer.word_index  # 用其中的前1000个词汇\n",
    "print(len(word2index))\n",
    "word2index"
   ]
  },
  {
   "cell_type": "code",
   "execution_count": 21,
   "metadata": {},
   "outputs": [
    {
     "data": {
      "text/plain": [
       "[1,\n",
       " 1,\n",
       " 41,\n",
       " 1,\n",
       " 1,\n",
       " 350,\n",
       " 1,\n",
       " 854,\n",
       " 587,\n",
       " 65,\n",
       " 1,\n",
       " 339,\n",
       " 632,\n",
       " 1,\n",
       " 1,\n",
       " 1,\n",
       " 1,\n",
       " 66,\n",
       " 745,\n",
       " 1,\n",
       " 1,\n",
       " 1,\n",
       " 13,\n",
       " 281,\n",
       " 1,\n",
       " 1,\n",
       " 1,\n",
       " 1,\n",
       " 677,\n",
       " 1,\n",
       " 1,\n",
       " 115,\n",
       " 65,\n",
       " 1,\n",
       " 205,\n",
       " 1,\n",
       " 1,\n",
       " 1,\n",
       " 1,\n",
       " 94,\n",
       " 1,\n",
       " 1]"
      ]
     },
     "execution_count": 21,
     "metadata": {},
     "output_type": "execute_result"
    }
   ],
   "source": [
    "doc2seq = tokenizer.texts_to_sequences(df_clean_content)\n",
    "doc2seq[0]"
   ]
  },
  {
   "cell_type": "code",
   "execution_count": 24,
   "metadata": {},
   "outputs": [],
   "source": [
    "padding = sequence.pad_sequences(doc2seq, maxlen=100, padding='post')"
   ]
  },
  {
   "cell_type": "code",
   "execution_count": 25,
   "metadata": {},
   "outputs": [
    {
     "data": {
      "text/plain": [
       "array([[  1,   1,  41, ...,   0,   0,   0],\n",
       "       [  1,   1, 828, ...,   0,   0,   0],\n",
       "       [195,   1,   1, ...,   0,   0,   0],\n",
       "       ...,\n",
       "       [  1,   1,   1, ...,   0,   0,   0],\n",
       "       [185,   1,   1, ...,   0,   0,   0],\n",
       "       [  1,   1,   1, ..., 974,   1, 230]])"
      ]
     },
     "execution_count": 25,
     "metadata": {},
     "output_type": "execute_result"
    }
   ],
   "source": [
    "padding"
   ]
  },
  {
   "cell_type": "markdown",
   "metadata": {},
   "source": [
    "# 降维"
   ]
  },
  {
   "cell_type": "markdown",
   "metadata": {},
   "source": [
    "基于特征选择的降维中：（参考titanic notebook）\n",
    "- RF在sklearn中可直接用SelectFromModel\n",
    "- 反向特征消除：RFE\n",
    "- 前向特征选择：f_regression"
   ]
  },
  {
   "cell_type": "code",
   "execution_count": null,
   "metadata": {},
   "outputs": [],
   "source": []
  }
 ],
 "metadata": {
  "kernelspec": {
   "display_name": "Python 3",
   "language": "python",
   "name": "python3"
  },
  "language_info": {
   "codemirror_mode": {
    "name": "ipython",
    "version": 3
   },
   "file_extension": ".py",
   "mimetype": "text/x-python",
   "name": "python",
   "nbconvert_exporter": "python",
   "pygments_lexer": "ipython3",
   "version": "3.6.8"
  },
  "toc-autonumbering": true
 },
 "nbformat": 4,
 "nbformat_minor": 4
}
