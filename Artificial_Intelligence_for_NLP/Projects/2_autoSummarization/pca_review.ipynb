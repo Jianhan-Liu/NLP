{
 "cells": [
  {
   "cell_type": "code",
   "execution_count": 1,
   "metadata": {},
   "outputs": [],
   "source": [
    "import numpy as np\n",
    "np.set_printoptions(suppress=True)\n",
    "from sklearn.decomposition import PCA, TruncatedSVD"
   ]
  },
  {
   "cell_type": "markdown",
   "metadata": {},
   "source": [
    "# 理论方法"
   ]
  },
  {
   "cell_type": "code",
   "execution_count": 2,
   "metadata": {},
   "outputs": [
    {
     "data": {
      "text/plain": [
       "array([[0, 9, 0],\n",
       "       [6, 0, 9],\n",
       "       [3, 2, 8],\n",
       "       [8, 9, 5],\n",
       "       [7, 4, 3]])"
      ]
     },
     "execution_count": 2,
     "metadata": {},
     "output_type": "execute_result"
    }
   ],
   "source": [
    "a = np.random.randint(0,10, size=(5,3))\n",
    "a"
   ]
  },
  {
   "cell_type": "markdown",
   "metadata": {},
   "source": [
    "中心化处理"
   ]
  },
  {
   "cell_type": "code",
   "execution_count": 3,
   "metadata": {},
   "outputs": [
    {
     "data": {
      "text/plain": [
       "array([[-4.8,  4.2, -5. ],\n",
       "       [ 1.2, -4.8,  4. ],\n",
       "       [-1.8, -2.8,  3. ],\n",
       "       [ 3.2,  4.2,  0. ],\n",
       "       [ 2.2, -0.8, -2. ]])"
      ]
     },
     "execution_count": 3,
     "metadata": {},
     "output_type": "execute_result"
    }
   ],
   "source": [
    "a_new = a - np.mean(a, axis=0)\n",
    "a_new"
   ]
  },
  {
   "cell_type": "code",
   "execution_count": 4,
   "metadata": {},
   "outputs": [
    {
     "data": {
      "text/plain": [
       "True"
      ]
     },
     "execution_count": 4,
     "metadata": {},
     "output_type": "execute_result"
    }
   ],
   "source": [
    "np.allclose(a_new.mean(axis=0), np.zeros(a_new.shape[1]))"
   ]
  },
  {
   "cell_type": "markdown",
   "metadata": {},
   "source": [
    "协方差矩阵"
   ]
  },
  {
   "cell_type": "code",
   "execution_count": 5,
   "metadata": {},
   "outputs": [
    {
     "data": {
      "text/plain": [
       "array([[ 10.7 ,  -2.3 ,   4.75],\n",
       "       [ -2.3 ,  16.7 , -11.75],\n",
       "       [  4.75, -11.75,  13.5 ]])"
      ]
     },
     "execution_count": 5,
     "metadata": {},
     "output_type": "execute_result"
    }
   ],
   "source": [
    "cov = np.dot(a_new.T, a_new) / (a_new.shape[0] -1)\n",
    "cov"
   ]
  },
  {
   "cell_type": "markdown",
   "metadata": {},
   "source": [
    "协方差矩阵的特征值分解"
   ]
  },
  {
   "cell_type": "code",
   "execution_count": 6,
   "metadata": {},
   "outputs": [
    {
     "data": {
      "text/plain": [
       "array([28.31080211,  9.94935833,  2.63983956])"
      ]
     },
     "execution_count": 6,
     "metadata": {},
     "output_type": "execute_result"
    }
   ],
   "source": [
    "eig_vals, eig_vecs = np.linalg.eig(cov)\n",
    "eig_vals"
   ]
  },
  {
   "cell_type": "code",
   "execution_count": 7,
   "metadata": {},
   "outputs": [
    {
     "data": {
      "text/plain": [
       "array([[-0.26819041,  0.92200322, -0.2792561 ],\n",
       "       [ 0.71098102,  0.38503359,  0.58843446],\n",
       "       [-0.65006145,  0.04073331,  0.75878911]])"
      ]
     },
     "execution_count": 7,
     "metadata": {},
     "output_type": "execute_result"
    }
   ],
   "source": [
    "eig_vecs"
   ]
  },
  {
   "cell_type": "markdown",
   "metadata": {},
   "source": [
    "取前`n`个最大特征向量进行映射降维得到`PCA`结果"
   ]
  },
  {
   "cell_type": "code",
   "execution_count": 8,
   "metadata": {},
   "outputs": [
    {
     "data": {
      "text/plain": [
       "array([[ 7.52374151, -3.01214092,  0.01790851],\n",
       "       [-6.3347832 , -0.57882413, -0.12443632],\n",
       "       [-3.45818848, -2.61549991,  1.13141181],\n",
       "       [ 2.12791099,  4.56755137,  1.57780522],\n",
       "       [ 0.14131918,  1.63891359, -2.60268921]])"
      ]
     },
     "execution_count": 8,
     "metadata": {},
     "output_type": "execute_result"
    }
   ],
   "source": [
    "a_pca = np.dot(a_new, eig_vecs)\n",
    "a_pca"
   ]
  },
  {
   "cell_type": "markdown",
   "metadata": {},
   "source": [
    "核心思想：\n",
    "- 协方差矩阵的特征值大小即原始矩阵在该方向上投影的方差，要使得投影的方差最大\n",
    "- 也即求协方差矩阵的最大特征值\n",
    "- 根据需求进行前几大特征值的选取，对应特征向量即为待投影方向\n",
    "- 原始向量 @ 特征向量即为PCA的结果"
   ]
  },
  {
   "cell_type": "markdown",
   "metadata": {},
   "source": [
    "# 通常不用以上步骤求而是用求解奇异值的方式\n",
    "[原因](https://zhuanlan.zhihu.com/p/85701151)\n",
    "- 这种纯数学的解法，在实际工程实践中有以下问题：在数据量很大时，把原始矩阵进行转置求协方差矩阵，然后再进行特征值分解是一个非常慢的过程。 \n",
    "- 稳定性问题。可以看到X转置乘以X，如果矩阵有非常小的数，很容易在平方中丢失。\n",
    "- 奇异值分解不要求原始矩阵为方阵，符合生活中的实际数据。"
   ]
  },
  {
   "cell_type": "code",
   "execution_count": 9,
   "metadata": {},
   "outputs": [
    {
     "data": {
      "text/plain": [
       "array([[-0.70701363,  0.47747183, -0.00551113,  0.51118317,  0.10398931],\n",
       "       [ 0.59528601,  0.09175275,  0.03829379,  0.77563452, -0.18477196],\n",
       "       [ 0.32496948,  0.41459798, -0.3481785 , -0.09802412,  0.76919852],\n",
       "       [-0.19996196, -0.72402891, -0.48555075,  0.33395923,  0.29750471],\n",
       "       [-0.01327991, -0.25979365,  0.80094658,  0.12627493,  0.52428058]])"
      ]
     },
     "execution_count": 9,
     "metadata": {},
     "output_type": "execute_result"
    }
   ],
   "source": [
    "U, S, V = np.linalg.svd(a_new)\n",
    "U"
   ]
  },
  {
   "cell_type": "code",
   "execution_count": 10,
   "metadata": {},
   "outputs": [
    {
     "data": {
      "text/plain": [
       "array([10.64157923,  6.30852069,  3.24951662])"
      ]
     },
     "execution_count": 10,
     "metadata": {},
     "output_type": "execute_result"
    }
   ],
   "source": [
    "S"
   ]
  },
  {
   "cell_type": "code",
   "execution_count": 11,
   "metadata": {},
   "outputs": [
    {
     "data": {
      "text/plain": [
       "array([[ 0.26819041, -0.71098102,  0.65006145],\n",
       "       [-0.92200322, -0.38503359, -0.04073331],\n",
       "       [ 0.2792561 , -0.58843446, -0.75878911]])"
      ]
     },
     "execution_count": 11,
     "metadata": {},
     "output_type": "execute_result"
    }
   ],
   "source": [
    "V"
   ]
  },
  {
   "cell_type": "code",
   "execution_count": 12,
   "metadata": {},
   "outputs": [
    {
     "data": {
      "text/plain": [
       "array([28.31080211,  9.94935833,  2.63983956])"
      ]
     },
     "execution_count": 12,
     "metadata": {},
     "output_type": "execute_result"
    }
   ],
   "source": [
    "# 这个值和上面的eig_vals是一样的，只是元素顺序可能有差别\n",
    "np.square(S) / (a_new.shape[0] -1)"
   ]
  },
  {
   "cell_type": "code",
   "execution_count": 13,
   "metadata": {},
   "outputs": [
    {
     "data": {
      "text/plain": [
       "array([[-7.52374151,  3.01214092, -0.01790851],\n",
       "       [ 6.3347832 ,  0.57882413,  0.12443632],\n",
       "       [ 3.45818848,  2.61549991, -1.13141181],\n",
       "       [-2.12791099, -4.56755137, -1.57780522],\n",
       "       [-0.14131918, -1.63891359,  2.60268921]])"
      ]
     },
     "execution_count": 13,
     "metadata": {},
     "output_type": "execute_result"
    }
   ],
   "source": [
    "# 这个结果应该跟a_pca的绝对值一样，不过元素排列上会有差异\n",
    "a_pca_svd = np.dot(a_new, V.T)\n",
    "a_pca_svd"
   ]
  },
  {
   "cell_type": "markdown",
   "metadata": {},
   "source": [
    "# `sklearn`中的`pca`也是通过`svd`实现的"
   ]
  },
  {
   "cell_type": "code",
   "execution_count": 16,
   "metadata": {},
   "outputs": [
    {
     "data": {
      "text/plain": [
       "array([[ 7.52374151, -3.01214092],\n",
       "       [-6.3347832 , -0.57882413],\n",
       "       [-3.45818848, -2.61549991],\n",
       "       [ 2.12791099,  4.56755137],\n",
       "       [ 0.14131918,  1.63891359]])"
      ]
     },
     "execution_count": 16,
     "metadata": {},
     "output_type": "execute_result"
    }
   ],
   "source": [
    "pca = PCA(2)\n",
    "# pca自动处理中心化\n",
    "pca.fit_transform(a_new)"
   ]
  },
  {
   "cell_type": "markdown",
   "metadata": {},
   "source": [
    "截断svd的值取的是右奇异矩阵`V`的前`n`列"
   ]
  },
  {
   "cell_type": "code",
   "execution_count": 15,
   "metadata": {},
   "outputs": [
    {
     "data": {
      "text/plain": [
       "array([[-0.26819041,  0.71098102, -0.65006145],\n",
       "       [ 0.92200322,  0.38503359,  0.04073331]])"
      ]
     },
     "execution_count": 15,
     "metadata": {},
     "output_type": "execute_result"
    }
   ],
   "source": [
    "trc = TruncatedSVD(2)\n",
    "trc.fit(a_new)\n",
    "u = trc.components_\n",
    "u"
   ]
  },
  {
   "cell_type": "code",
   "execution_count": 17,
   "metadata": {},
   "outputs": [
    {
     "data": {
      "text/plain": [
       "array([[ 7.52374151, -3.01214092],\n",
       "       [-6.3347832 , -0.57882413],\n",
       "       [-3.45818848, -2.61549991],\n",
       "       [ 2.12791099,  4.56755137],\n",
       "       [ 0.14131918,  1.63891359]])"
      ]
     },
     "execution_count": 17,
     "metadata": {},
     "output_type": "execute_result"
    }
   ],
   "source": [
    "# 结果和PCA应该相同\n",
    "a_new @ u.T"
   ]
  },
  {
   "cell_type": "code",
   "execution_count": null,
   "metadata": {},
   "outputs": [],
   "source": []
  }
 ],
 "metadata": {
  "kernelspec": {
   "display_name": "Python 3",
   "language": "python",
   "name": "python3"
  },
  "language_info": {
   "codemirror_mode": {
    "name": "ipython",
    "version": 3
   },
   "file_extension": ".py",
   "mimetype": "text/x-python",
   "name": "python",
   "nbconvert_exporter": "python",
   "pygments_lexer": "ipython3",
   "version": "3.6.8"
  }
 },
 "nbformat": 4,
 "nbformat_minor": 4
}
