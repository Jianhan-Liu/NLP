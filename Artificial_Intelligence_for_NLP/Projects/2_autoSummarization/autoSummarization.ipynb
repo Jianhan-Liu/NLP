{
 "cells": [
  {
   "cell_type": "markdown",
   "metadata": {},
   "source": [
    "# 导入工具"
   ]
  },
  {
   "cell_type": "code",
   "execution_count": 2,
   "metadata": {},
   "outputs": [],
   "source": [
    "import warnings\n",
    "warnings.filterwarnings('ignore')\n",
    "import re\n",
    "import pandas as pd\n",
    "import numpy as np\n",
    "import matplotlib.pyplot as plt\n",
    "import seaborn\n",
    "seaborn.set()\n",
    "%matplotlib inline\n",
    "\n",
    "import jieba\n",
    "import jieba.analyse\n",
    "import jieba.posseg as pseg\n",
    "\n",
    "import json\n",
    "from gensim.models import FastText, Word2Vec, KeyedVectors\n",
    "from gensim.models.word2vec import LineSentence\n",
    "from sklearn.decomposition import PCA, TruncatedSVD\n",
    "from scipy.spatial.distance import cosine\n",
    "import networkx as nx\n",
    "\n",
    "from functools import reduce, partial, wraps\n",
    "from collections import Counter, defaultdict\n",
    "from itertools import combinations"
   ]
  },
  {
   "cell_type": "code",
   "execution_count": 4,
   "metadata": {},
   "outputs": [
    {
     "data": {
      "text/plain": [
       "['hello?wolrd.heloo']"
      ]
     },
     "execution_count": 4,
     "metadata": {},
     "output_type": "execute_result"
    }
   ],
   "source": [
    "'hello?wolrd.heloo'.split('dd')"
   ]
  },
  {
   "cell_type": "markdown",
   "metadata": {},
   "source": [
    "---"
   ]
  },
  {
   "cell_type": "code",
   "execution_count": 2,
   "metadata": {},
   "outputs": [],
   "source": [
    "pre_trained_wiki_model = r\"D:\\Github\\NLP\\Projects\\data\\trained_models\\wiki_ltp_model.model\"\n",
    "wiki_model = Word2Vec.load(pre_trained_wiki_model)"
   ]
  },
  {
   "cell_type": "code",
   "execution_count": 326,
   "metadata": {},
   "outputs": [],
   "source": [
    "raw_df = pd.read_csv('data/sqlResult_1558435.csv', encoding='gb18030')"
   ]
  },
  {
   "cell_type": "code",
   "execution_count": 327,
   "metadata": {},
   "outputs": [
    {
     "data": {
      "text/html": [
       "<div>\n",
       "<style scoped>\n",
       "    .dataframe tbody tr th:only-of-type {\n",
       "        vertical-align: middle;\n",
       "    }\n",
       "\n",
       "    .dataframe tbody tr th {\n",
       "        vertical-align: top;\n",
       "    }\n",
       "\n",
       "    .dataframe thead th {\n",
       "        text-align: right;\n",
       "    }\n",
       "</style>\n",
       "<table border=\"1\" class=\"dataframe\">\n",
       "  <thead>\n",
       "    <tr style=\"text-align: right;\">\n",
       "      <th></th>\n",
       "      <th>id</th>\n",
       "      <th>author</th>\n",
       "      <th>source</th>\n",
       "      <th>content</th>\n",
       "      <th>feature</th>\n",
       "      <th>title</th>\n",
       "      <th>url</th>\n",
       "    </tr>\n",
       "  </thead>\n",
       "  <tbody>\n",
       "    <tr>\n",
       "      <th>89609</th>\n",
       "      <td>2</td>\n",
       "      <td>夏文辉</td>\n",
       "      <td>新华社</td>\n",
       "      <td>\\n\\n2017年5月25日，在美国马萨诸塞州剑桥市，哈佛大学毕业生在毕业典礼上欢呼。（新华...</td>\n",
       "      <td>{\"type\":\"其它\",\"site\":\"新华社\",\"url\":\"http://home.x...</td>\n",
       "      <td>哈佛大学为何取消这些新生入选资格？</td>\n",
       "      <td>http://home.xinhua-news.com/gdsdetailxhsnew/22...</td>\n",
       "    </tr>\n",
       "    <tr>\n",
       "      <th>89610</th>\n",
       "      <td>1</td>\n",
       "      <td>王子江 张寒</td>\n",
       "      <td>新华社</td>\n",
       "      <td>新华社德国杜塞尔多夫６月６日电题：乒乓女球迷　\\n　　新华社记者王子江、张寒\\n　　熊老...</td>\n",
       "      <td>{\"type\":\"体育\",\"site\":\"新华社\",\"url\":\"http://home.x...</td>\n",
       "      <td>（体育）题：乒乓女球迷</td>\n",
       "      <td>http://home.xinhua-news.com/gdsdetailxhsnew/22...</td>\n",
       "    </tr>\n",
       "  </tbody>\n",
       "</table>\n",
       "</div>"
      ],
      "text/plain": [
       "       id  author source                                            content  \\\n",
       "89609   2     夏文辉    新华社  \\n\\n2017年5月25日，在美国马萨诸塞州剑桥市，哈佛大学毕业生在毕业典礼上欢呼。（新华...   \n",
       "89610   1  王子江 张寒    新华社  　　新华社德国杜塞尔多夫６月６日电题：乒乓女球迷　\\n　　新华社记者王子江、张寒\\n　　熊老...   \n",
       "\n",
       "                                                 feature              title  \\\n",
       "89609  {\"type\":\"其它\",\"site\":\"新华社\",\"url\":\"http://home.x...  哈佛大学为何取消这些新生入选资格？   \n",
       "89610  {\"type\":\"体育\",\"site\":\"新华社\",\"url\":\"http://home.x...       （体育）题：乒乓女球迷　   \n",
       "\n",
       "                                                     url  \n",
       "89609  http://home.xinhua-news.com/gdsdetailxhsnew/22...  \n",
       "89610  http://home.xinhua-news.com/gdsdetailxhsnew/22...  "
      ]
     },
     "execution_count": 327,
     "metadata": {},
     "output_type": "execute_result"
    }
   ],
   "source": [
    "raw_df.tail(2)"
   ]
  },
  {
   "cell_type": "markdown",
   "metadata": {},
   "source": [
    "## 数据预处理"
   ]
  },
  {
   "cell_type": "code",
   "execution_count": 350,
   "metadata": {},
   "outputs": [
    {
     "name": "stdout",
     "output_type": "stream",
     "text": [
      "Wall time: 20.6 s\n"
     ]
    }
   ],
   "source": [
    "%%time\n",
    "for x in range(int(1e7)):\n",
    "    re.sub('hello', 'what', 'hello world')"
   ]
  },
  {
   "cell_type": "code",
   "execution_count": 351,
   "metadata": {},
   "outputs": [
    {
     "name": "stdout",
     "output_type": "stream",
     "text": [
      "Wall time: 3.22 s\n"
     ]
    }
   ],
   "source": [
    "%%time\n",
    "for x in range(int(1e7)):\n",
    "    'hello world'.replace('hello', 'what')"
   ]
  },
  {
   "cell_type": "markdown",
   "metadata": {},
   "source": [
    "Don't use regex unless necessary"
   ]
  },
  {
   "cell_type": "code",
   "execution_count": 2,
   "metadata": {},
   "outputs": [],
   "source": [
    "def clean_df_pipe(raw_data):\n",
    "    df = raw_data.copy()\n",
    "    df.dropna(subset=['content'],inplace=True)\n",
    "    df.drop_duplicates(inplace=True)\n",
    "    df.reset_index(drop=True, inplace=True)\n",
    "    df.id = df.index\n",
    "    return df"
   ]
  },
  {
   "cell_type": "code",
   "execution_count": 3,
   "metadata": {},
   "outputs": [],
   "source": [
    "def string_pipe(string):\n",
    "    string = string.replace(r'\\r\\n\\u3000', ' ')\n",
    "    string = string.replace('\\\\n', '')\n",
    "    string = ' '.join(jieba.cut(string))\n",
    "    string = re.sub(r'\\s+', ' ', string)\n",
    "    return string"
   ]
  },
  {
   "cell_type": "code",
   "execution_count": 4,
   "metadata": {},
   "outputs": [],
   "source": [
    "def raw_summary(json_):\n",
    "    try:\n",
    "        result = json.loads(json_)['summary']\n",
    "    except KeyError:\n",
    "        result = ''\n",
    "    return result"
   ]
  },
  {
   "cell_type": "code",
   "execution_count": 331,
   "metadata": {},
   "outputs": [],
   "source": [
    "df = clean_df_pipe(raw_df)"
   ]
  },
  {
   "cell_type": "code",
   "execution_count": 242,
   "metadata": {},
   "outputs": [],
   "source": [
    "df_clean = pd.DataFrame()\n",
    "df_clean['content'] = df.content.apply(string_pipe)\n",
    "df_clean['title'] = df.title\n",
    "df_clean['summary'] = df.feature.apply(raw_summary)"
   ]
  },
  {
   "cell_type": "code",
   "execution_count": 337,
   "metadata": {},
   "outputs": [
    {
     "data": {
      "text/html": [
       "<div>\n",
       "<style scoped>\n",
       "    .dataframe tbody tr th:only-of-type {\n",
       "        vertical-align: middle;\n",
       "    }\n",
       "\n",
       "    .dataframe tbody tr th {\n",
       "        vertical-align: top;\n",
       "    }\n",
       "\n",
       "    .dataframe thead th {\n",
       "        text-align: right;\n",
       "    }\n",
       "</style>\n",
       "<table border=\"1\" class=\"dataframe\">\n",
       "  <thead>\n",
       "    <tr style=\"text-align: right;\">\n",
       "      <th></th>\n",
       "      <th>content</th>\n",
       "      <th>title</th>\n",
       "      <th>summary</th>\n",
       "    </tr>\n",
       "  </thead>\n",
       "  <tbody>\n",
       "    <tr>\n",
       "      <th>86050</th>\n",
       "      <td>2017 年 5 月 25 日 ， 在 美国 马萨诸塞州 剑桥市 ， 哈佛大学 毕业生 在 ...</td>\n",
       "      <td>哈佛大学为何取消这些新生入选资格？</td>\n",
       "      <td>2017年5月25日，在美国马萨诸塞州剑桥市，哈佛大学毕业生在毕业典礼上欢呼。（新华/欧新）...</td>\n",
       "    </tr>\n",
       "    <tr>\n",
       "      <th>86051</th>\n",
       "      <td>新华社 德国 杜塞尔多夫 ６ 月 ６ 日电 题 ： 乒乓 女球迷 新华社 记者 王子江 、...</td>\n",
       "      <td>（体育）题：乒乓女球迷</td>\n",
       "      <td>新华社德国杜塞尔多夫６月６日电 题：乒乓女球迷　 　　新华社记者王子江、张寒 　　熊老师...</td>\n",
       "    </tr>\n",
       "  </tbody>\n",
       "</table>\n",
       "</div>"
      ],
      "text/plain": [
       "                                                 content              title  \\\n",
       "86050  2017 年 5 月 25 日 ， 在 美国 马萨诸塞州 剑桥市 ， 哈佛大学 毕业生 在 ...  哈佛大学为何取消这些新生入选资格？   \n",
       "86051   新华社 德国 杜塞尔多夫 ６ 月 ６ 日电 题 ： 乒乓 女球迷 新华社 记者 王子江 、...       （体育）题：乒乓女球迷　   \n",
       "\n",
       "                                                 summary  \n",
       "86050  2017年5月25日，在美国马萨诸塞州剑桥市，哈佛大学毕业生在毕业典礼上欢呼。（新华/欧新）...  \n",
       "86051  　　新华社德国杜塞尔多夫６月６日电 题：乒乓女球迷　 　　新华社记者王子江、张寒 　　熊老师...  "
      ]
     },
     "execution_count": 337,
     "metadata": {},
     "output_type": "execute_result"
    }
   ],
   "source": [
    "df_clean = clean_df_pipe(df_clean)\n",
    "df_clean.tail(2)"
   ]
  },
  {
   "cell_type": "code",
   "execution_count": 338,
   "metadata": {},
   "outputs": [],
   "source": [
    "df_clean.to_csv('data/cleaned_data.csv', encoding='utf-8')"
   ]
  },
  {
   "cell_type": "code",
   "execution_count": 244,
   "metadata": {},
   "outputs": [],
   "source": [
    "with open('data/corpus.txt', 'w', encoding='utf-8') as f:\n",
    "    for content in df_clean.content:\n",
    "        f.write(content+'\\n')"
   ]
  },
  {
   "cell_type": "markdown",
   "metadata": {},
   "source": [
    "---"
   ]
  },
  {
   "cell_type": "code",
   "execution_count": 26,
   "metadata": {},
   "outputs": [
    {
     "data": {
      "text/html": [
       "<div>\n",
       "<style scoped>\n",
       "    .dataframe tbody tr th:only-of-type {\n",
       "        vertical-align: middle;\n",
       "    }\n",
       "\n",
       "    .dataframe tbody tr th {\n",
       "        vertical-align: top;\n",
       "    }\n",
       "\n",
       "    .dataframe thead th {\n",
       "        text-align: right;\n",
       "    }\n",
       "</style>\n",
       "<table border=\"1\" class=\"dataframe\">\n",
       "  <thead>\n",
       "    <tr style=\"text-align: right;\">\n",
       "      <th></th>\n",
       "      <th>content</th>\n",
       "      <th>title</th>\n",
       "      <th>summary</th>\n",
       "    </tr>\n",
       "  </thead>\n",
       "  <tbody>\n",
       "    <tr>\n",
       "      <th>86047</th>\n",
       "      <td>新华社 照片 ， 北京 ， 2017 年 6 月 7 日 电影 《 血战 湘江 》 举行 清...</td>\n",
       "      <td>（文化）（3）电影《血战湘江》举行清华大学巡映活动</td>\n",
       "      <td>新华社照片，北京，2017年6月7日 电影《血战湘江》举行清华大学巡映活动 6月6日，电影《...</td>\n",
       "    </tr>\n",
       "    <tr>\n",
       "      <th>86048</th>\n",
       "      <td>新华社 兰州 6 月 3 日电 （ 王衡 、 徐丹 ） 记者 从 甘肃省 交通运输 厅 获悉...</td>\n",
       "      <td>（经济）甘肃集中开工35个重点交通建设项目</td>\n",
       "      <td>新华社兰州6月3日电（王衡、徐丹）记者从甘肃省交通运输厅获悉，甘肃近日集中开建高速公路、普通...</td>\n",
       "    </tr>\n",
       "    <tr>\n",
       "      <th>86049</th>\n",
       "      <td>2017 年 5 月 29 日 ， 在 法国巴黎 郊外 的 凡尔赛宫 ， 法国 总统 马克 ...</td>\n",
       "      <td>法国议会选举　马克龙有望获“压倒性胜利”</td>\n",
       "      <td>2017年5月29日，在法国巴黎郊外的凡尔赛宫，法国总统马克龙出席新闻发布会。（新华/法新）...</td>\n",
       "    </tr>\n",
       "    <tr>\n",
       "      <th>86050</th>\n",
       "      <td>2017 年 5 月 25 日 ， 在 美国 马萨诸塞州 剑桥市 ， 哈佛大学 毕业生 在 ...</td>\n",
       "      <td>哈佛大学为何取消这些新生入选资格？</td>\n",
       "      <td>2017年5月25日，在美国马萨诸塞州剑桥市，哈佛大学毕业生在毕业典礼上欢呼。（新华/欧新）...</td>\n",
       "    </tr>\n",
       "    <tr>\n",
       "      <th>86051</th>\n",
       "      <td>新华社 德国 杜塞尔多夫 ６ 月 ６ 日电 题 ： 乒乓 女球迷 新华社 记者 王子江 、...</td>\n",
       "      <td>（体育）题：乒乓女球迷</td>\n",
       "      <td>新华社德国杜塞尔多夫６月６日电 题：乒乓女球迷　 　　新华社记者王子江、张寒 　　熊老师...</td>\n",
       "    </tr>\n",
       "  </tbody>\n",
       "</table>\n",
       "</div>"
      ],
      "text/plain": [
       "                                                 content  \\\n",
       "86047  新华社 照片 ， 北京 ， 2017 年 6 月 7 日 电影 《 血战 湘江 》 举行 清...   \n",
       "86048  新华社 兰州 6 月 3 日电 （ 王衡 、 徐丹 ） 记者 从 甘肃省 交通运输 厅 获悉...   \n",
       "86049  2017 年 5 月 29 日 ， 在 法国巴黎 郊外 的 凡尔赛宫 ， 法国 总统 马克 ...   \n",
       "86050  2017 年 5 月 25 日 ， 在 美国 马萨诸塞州 剑桥市 ， 哈佛大学 毕业生 在 ...   \n",
       "86051   新华社 德国 杜塞尔多夫 ６ 月 ６ 日电 题 ： 乒乓 女球迷 新华社 记者 王子江 、...   \n",
       "\n",
       "                           title  \\\n",
       "86047  （文化）（3）电影《血战湘江》举行清华大学巡映活动   \n",
       "86048      （经济）甘肃集中开工35个重点交通建设项目   \n",
       "86049       法国议会选举　马克龙有望获“压倒性胜利”   \n",
       "86050          哈佛大学为何取消这些新生入选资格？   \n",
       "86051               （体育）题：乒乓女球迷　   \n",
       "\n",
       "                                                 summary  \n",
       "86047  新华社照片，北京，2017年6月7日 电影《血战湘江》举行清华大学巡映活动 6月6日，电影《...  \n",
       "86048  新华社兰州6月3日电（王衡、徐丹）记者从甘肃省交通运输厅获悉，甘肃近日集中开建高速公路、普通...  \n",
       "86049  2017年5月29日，在法国巴黎郊外的凡尔赛宫，法国总统马克龙出席新闻发布会。（新华/法新）...  \n",
       "86050  2017年5月25日，在美国马萨诸塞州剑桥市，哈佛大学毕业生在毕业典礼上欢呼。（新华/欧新）...  \n",
       "86051  　　新华社德国杜塞尔多夫６月６日电 题：乒乓女球迷　 　　新华社记者王子江、张寒 　　熊老师...  "
      ]
     },
     "execution_count": 26,
     "metadata": {},
     "output_type": "execute_result"
    }
   ],
   "source": [
    "df_clean = pd.read_csv('data/cleaned_data.csv', encoding='utf-8', index_col=0)\n",
    "df_clean.tail()"
   ]
  },
  {
   "cell_type": "code",
   "execution_count": 27,
   "metadata": {},
   "outputs": [
    {
     "data": {
      "text/plain": [
       "content       0\n",
       "title         0\n",
       "summary    5560\n",
       "dtype: int64"
      ]
     },
     "execution_count": 27,
     "metadata": {},
     "output_type": "execute_result"
    }
   ],
   "source": [
    "df_clean.isna().sum()"
   ]
  },
  {
   "cell_type": "markdown",
   "metadata": {},
   "source": [
    "---"
   ]
  },
  {
   "cell_type": "markdown",
   "metadata": {},
   "source": [
    "## 词向量"
   ]
  },
  {
   "cell_type": "code",
   "execution_count": 80,
   "metadata": {},
   "outputs": [],
   "source": [
    "model = FastText(LineSentence('data/corpus.txt'), window=5, size=200, iter=10, min_count=10)"
   ]
  },
  {
   "cell_type": "code",
   "execution_count": 249,
   "metadata": {},
   "outputs": [],
   "source": [
    "# 保存模型\n",
    "# model.save('data/fasttext100.model')"
   ]
  },
  {
   "cell_type": "code",
   "execution_count": 81,
   "metadata": {},
   "outputs": [],
   "source": [
    "# 只保存词向量\n",
    "model.wv.save('data/fasttext100.kv')"
   ]
  },
  {
   "cell_type": "code",
   "execution_count": 91,
   "metadata": {},
   "outputs": [
    {
     "data": {
      "text/plain": [
       "[('对系统', 0.8728249073028564),\n",
       " ('子系统', 0.8571621179580688),\n",
       " ('门禁系统', 0.8418638706207275),\n",
       " ('存储系统', 0.8166689872741699),\n",
       " ('供水系统', 0.8127107620239258),\n",
       " ('电脑系统', 0.7942840456962585),\n",
       " ('信号系统', 0.7930917739868164),\n",
       " ('分系统', 0.7835454344749451),\n",
       " ('软件系统', 0.7818151116371155),\n",
       " ('电力系统', 0.7817472219467163)]"
      ]
     },
     "execution_count": 91,
     "metadata": {},
     "output_type": "execute_result"
    }
   ],
   "source": [
    "model.wv.most_similar('系统')"
   ]
  },
  {
   "cell_type": "code",
   "execution_count": 92,
   "metadata": {},
   "outputs": [],
   "source": [
    "del model"
   ]
  },
  {
   "cell_type": "markdown",
   "metadata": {},
   "source": [
    "---"
   ]
  },
  {
   "cell_type": "markdown",
   "metadata": {},
   "source": [
    "## 词频统计"
   ]
  },
  {
   "cell_type": "code",
   "execution_count": 93,
   "metadata": {},
   "outputs": [],
   "source": [
    "wv_from_kv = KeyedVectors.load('data/fasttext100.kv')"
   ]
  },
  {
   "cell_type": "code",
   "execution_count": 94,
   "metadata": {},
   "outputs": [
    {
     "data": {
      "text/plain": [
       "[('周万鹏', 0.8395476341247559),\n",
       " ('代总统', 0.8130050897598267),\n",
       " ('俄总统', 0.7306485772132874),\n",
       " ('总统令', 0.725814938545227),\n",
       " ('总统大选', 0.7252855896949768),\n",
       " ('总统府', 0.704506516456604),\n",
       " ('总理', 0.6268736124038696),\n",
       " ('国务总理', 0.6221951246261597),\n",
       " ('新政府', 0.6127219200134277),\n",
       " ('司法部长', 0.5967322587966919)]"
      ]
     },
     "execution_count": 94,
     "metadata": {},
     "output_type": "execute_result"
    }
   ],
   "source": [
    "wv_from_kv.most_similar('总统')"
   ]
  },
  {
   "cell_type": "code",
   "execution_count": 28,
   "metadata": {},
   "outputs": [],
   "source": [
    "tokens = [word for doc in df_clean.content for word in doc.split()]"
   ]
  },
  {
   "cell_type": "code",
   "execution_count": 29,
   "metadata": {},
   "outputs": [],
   "source": [
    "token_counter = Counter(tokens)"
   ]
  },
  {
   "cell_type": "code",
   "execution_count": 12,
   "metadata": {},
   "outputs": [],
   "source": [
    "word_to_freq = {word:round(count/len(token_counter), 9) for word, count \n",
    "               in token_counter.items()}"
   ]
  },
  {
   "cell_type": "code",
   "execution_count": 13,
   "metadata": {},
   "outputs": [],
   "source": [
    "word_to_freq_sorted = sorted(word_to_freq.items(), key=lambda x:x[1], reverse=1)\n",
    "plot_length = 100\n",
    "y = [value for _, value in word_to_freq_sorted]"
   ]
  },
  {
   "cell_type": "code",
   "execution_count": 14,
   "metadata": {},
   "outputs": [
    {
     "data": {
      "image/png": "[encoded data removed]",
      "text/plain": [
       "<Figure size 432x288 with 1 Axes>"
      ]
     },
     "metadata": {
      "needs_background": "light"
     },
     "output_type": "display_data"
    }
   ],
   "source": [
    "plt.plot(range(plot_length), y[:plot_length])\n",
    "plt.show()"
   ]
  },
  {
   "cell_type": "markdown",
   "metadata": {},
   "source": [
    "## PageRank"
   ]
  },
  {
   "cell_type": "code",
   "execution_count": 39,
   "metadata": {},
   "outputs": [],
   "source": [
    "def pagerank(M, num_iteration=100, alpha=.85):\n",
    "    N = M.shape[1]\n",
    "    V = np.random.rand(N, 1)\n",
    "    V = V / np.linalg.norm(V,1)\n",
    "    iteration = 0\n",
    "    while iteration < num_iteration:\n",
    "        iteration += 1\n",
    "        V = alpha * M @ V + (1-alpha) / N\n",
    "    return V"
   ]
  },
  {
   "cell_type": "code",
   "execution_count": 40,
   "metadata": {
    "collapsed": true,
    "jupyter": {
     "outputs_hidden": true
    }
   },
   "outputs": [
    {
     "data": {
      "text/plain": [
       "array([[0.2  ],\n",
       "       [0.115],\n",
       "       [0.115],\n",
       "       [0.285],\n",
       "       [0.285]])"
      ]
     },
     "execution_count": 40,
     "metadata": {},
     "output_type": "execute_result"
    }
   ],
   "source": [
    "M = np.array([[0, 0, 0, 0, 1],\n",
    "              [0.5, 0, 0, 0, 0],\n",
    "              [0.5, 0, 0, 0, 0],\n",
    "              [0, 1, 0.5, 0, 0],\n",
    "              [0, 0, 0.5, 1, 0]])\n",
    "pagerank(M, .001)"
   ]
  },
  {
   "cell_type": "code",
   "execution_count": 41,
   "metadata": {
    "collapsed": true,
    "jupyter": {
     "outputs_hidden": true
    }
   },
   "outputs": [
    {
     "data": {
      "text/plain": [
       "array([[0.2  ],\n",
       "       [0.115],\n",
       "       [0.115],\n",
       "       [0.285],\n",
       "       [0.285]])"
      ]
     },
     "execution_count": 41,
     "metadata": {},
     "output_type": "execute_result"
    }
   ],
   "source": [
    "pagerank(M, 1)"
   ]
  },
  {
   "cell_type": "code",
   "execution_count": 42,
   "metadata": {
    "collapsed": true,
    "jupyter": {
     "outputs_hidden": true
    }
   },
   "outputs": [
    {
     "data": {
      "text/plain": [
       "array([[0.26212573],\n",
       "       [0.13591249],\n",
       "       [0.13591249],\n",
       "       [0.19818968],\n",
       "       [0.26785962]])"
      ]
     },
     "execution_count": 42,
     "metadata": {},
     "output_type": "execute_result"
    }
   ],
   "source": [
    "pagerank(M, 10)"
   ]
  },
  {
   "cell_type": "code",
   "execution_count": 43,
   "metadata": {
    "collapsed": true,
    "jupyter": {
     "outputs_hidden": true
    }
   },
   "outputs": [
    {
     "data": {
      "text/plain": [
       "array([[0.25419178],\n",
       "       [0.13803151],\n",
       "       [0.13803151],\n",
       "       [0.20599017],\n",
       "       [0.26375504]])"
      ]
     },
     "execution_count": 43,
     "metadata": {},
     "output_type": "execute_result"
    }
   ],
   "source": [
    "pagerank(M, 100)"
   ]
  },
  {
   "cell_type": "code",
   "execution_count": 17,
   "metadata": {},
   "outputs": [],
   "source": [
    "def generate_name(length=3):\n",
    "    return ''.join(chr(np.random.randint(65, 73)) for _ in range(length)).capitalize()"
   ]
  },
  {
   "cell_type": "code",
   "execution_count": 18,
   "metadata": {},
   "outputs": [],
   "source": [
    "graph = {\n",
    "    'Yao': ['Guo', 'Wang', 'Tian', 'Tim'] + [generate_name() for _ in range(6)],\n",
    "    'Guo': ['Li'] + [generate_name() for _ in range(5)],\n",
    "    'Wang': ['Tian'] + [generate_name() for _ in range(5)],\n",
    "    'Li': [generate_name() for _ in range(3)],\n",
    "    'Tim': ['Tian'] + [generate_name() for _ in range(5)]\n",
    "}"
   ]
  },
  {
   "cell_type": "code",
   "execution_count": 19,
   "metadata": {
    "collapsed": true,
    "jupyter": {
     "outputs_hidden": true
    }
   },
   "outputs": [
    {
     "data": {
      "text/plain": [
       "{'Yao': ['Guo',\n",
       "  'Wang',\n",
       "  'Tian',\n",
       "  'Tim',\n",
       "  'Hdf',\n",
       "  'Dgb',\n",
       "  'Egc',\n",
       "  'Ceg',\n",
       "  'Fhb',\n",
       "  'Fhb'],\n",
       " 'Guo': ['Li', 'Faf', 'Efh', 'Caf', 'Ged', 'Hbg'],\n",
       " 'Wang': ['Tian', 'Gdg', 'Bgh', 'Hhc', 'Adg', 'Gfg'],\n",
       " 'Li': ['Fcf', 'Gbb', 'Feb'],\n",
       " 'Tim': ['Tian', 'Fhg', 'Bbc', 'Egf', 'Bfc', 'Aae']}"
      ]
     },
     "execution_count": 19,
     "metadata": {},
     "output_type": "execute_result"
    }
   ],
   "source": [
    "graph"
   ]
  },
  {
   "cell_type": "code",
   "execution_count": 20,
   "metadata": {},
   "outputs": [],
   "source": [
    "social_nx = nx.Graph()"
   ]
  },
  {
   "cell_type": "code",
   "execution_count": 21,
   "metadata": {},
   "outputs": [],
   "source": [
    "for vertex, edge in graph.items():\n",
    "    for v in edge:\n",
    "        social_nx.add_edges_from([(vertex, v)])"
   ]
  },
  {
   "cell_type": "code",
   "execution_count": 22,
   "metadata": {
    "collapsed": true,
    "jupyter": {
     "outputs_hidden": true
    }
   },
   "outputs": [
    {
     "data": {
      "image/png": "[encoded data removed]",
      "text/plain": [
       "<Figure size 720x720 with 1 Axes>"
      ]
     },
     "metadata": {},
     "output_type": "display_data"
    }
   ],
   "source": [
    "plt.figure(figsize=(10,10))\n",
    "nx.draw_networkx(social_nx)\n",
    "plt.show()"
   ]
  },
  {
   "cell_type": "code",
   "execution_count": 23,
   "metadata": {},
   "outputs": [],
   "source": [
    "ranking_result = nx.pagerank(social_nx)"
   ]
  },
  {
   "cell_type": "code",
   "execution_count": 24,
   "metadata": {
    "collapsed": true,
    "jupyter": {
     "outputs_hidden": true
    }
   },
   "outputs": [
    {
     "data": {
      "text/plain": [
       "[('Yao', 0.13267327585239913),\n",
       " ('Guo', 0.11272967851307805),\n",
       " ('Wang', 0.10768428320851282),\n",
       " ('Tim', 0.10768428320851282),\n",
       " ('Li', 0.06995860174040319),\n",
       " ('Tian', 0.04385427182289368),\n",
       " ('Fcf', 0.020039282976635146),\n",
       " ('Gbb', 0.020039282976635146),\n",
       " ('Feb', 0.020039282976635146),\n",
       " ('Faf', 0.018860451935758374),\n",
       " ('Efh', 0.018860451935758374),\n",
       " ('Caf', 0.018860451935758374),\n",
       " ('Ged', 0.018860451935758374),\n",
       " ('Hbg', 0.018860451935758374),\n",
       " ('Gdg', 0.0182480638615638),\n",
       " ('Bgh', 0.0182480638615638),\n",
       " ('Hhc', 0.0182480638615638),\n",
       " ('Adg', 0.0182480638615638),\n",
       " ('Gfg', 0.0182480638615638),\n",
       " ('Fhg', 0.0182480638615638),\n",
       " ('Bbc', 0.0182480638615638),\n",
       " ('Egf', 0.0182480638615638),\n",
       " ('Bfc', 0.0182480638615638),\n",
       " ('Aae', 0.0182480638615638),\n",
       " ('Hdf', 0.01770297168597297),\n",
       " ('Dgb', 0.01770297168597297),\n",
       " ('Egc', 0.01770297168597297),\n",
       " ('Ceg', 0.01770297168597297),\n",
       " ('Fhb', 0.01770297168597297)]"
      ]
     },
     "execution_count": 24,
     "metadata": {},
     "output_type": "execute_result"
    }
   ],
   "source": [
    "sorted(ranking_result.items(), key=lambda x: x[1], reverse=1)"
   ]
  },
  {
   "cell_type": "markdown",
   "metadata": {},
   "source": [
    "## TextRank（抽取式摘要）\n",
    "两个应用\n",
    "- 从句子中抽取句子关键词\n",
    "    - 句子分词，用名词或者动词作为图结点，使用共现矩阵进行边构建\n",
    "    - 使用page算法排序，取前N位进行组合后为句子关键字\n",
    "- 从文档中抽取文档摘要（句子）\n",
    "    - 文档分句，用单句作为图结点，句间相似度进行边构建\n",
    "        - 句子相似度方法：\n",
    "            - TextRank论文采用公式\n",
    "                - ![s](./images/sentence_similarity.png)\n",
    "            - StringKernel\n",
    "            - 余弦距离（句向量）\n",
    "            - 编辑距离\n",
    "    - 同上方式取若干句作为文档摘要\n",
    "        - 考虑：摘要的长度，TextRank进行文章摘要时，是以句子为基本单位进行处理，粒度较粗，适合有一定长度的文档\n",
    "        - 因为摘要其实为内容中某些句子的集合，因此选取一定的比例的句子作为摘要，该参数可调，此处如论文中所示，20选4， 即五分之一，向上或下取整"
   ]
  },
  {
   "cell_type": "markdown",
   "metadata": {},
   "source": [
    "### SentenceEmbedding\n",
    "SIF-smooth inverse frequency\n",
    "- 词频加权\n",
    "- 语义无关向量去除\n",
    "- ![sen2vec](./images/sif_sen2vec.png)"
   ]
  },
  {
   "cell_type": "code",
   "execution_count": 30,
   "metadata": {},
   "outputs": [],
   "source": [
    "tokens_counter_all = Counter(tokens)\n",
    "tokens_counter_notword = Counter([x for x in tokens if not x.isalpha()])\n",
    "tokens_counter = tokens_counter_all - tokens_counter_notword"
   ]
  },
  {
   "cell_type": "code",
   "execution_count": 31,
   "metadata": {},
   "outputs": [
    {
     "data": {
      "text/plain": [
       "15805787"
      ]
     },
     "execution_count": 31,
     "metadata": {},
     "output_type": "execute_result"
    }
   ],
   "source": [
    "sum(tokens_counter.values())"
   ]
  },
  {
   "cell_type": "code",
   "execution_count": 55,
   "metadata": {},
   "outputs": [],
   "source": [
    "with open('data/tokens_counter.json', 'w') as f:\n",
    "    f.write(json.dumps(tokens_counter))"
   ]
  },
  {
   "cell_type": "code",
   "execution_count": 56,
   "metadata": {},
   "outputs": [],
   "source": [
    "with open('data/tokens_counter.json', 'r') as f:\n",
    "    temp = json.load(f)"
   ]
  },
  {
   "cell_type": "code",
   "execution_count": 32,
   "metadata": {},
   "outputs": [],
   "source": [
    "# 越普遍的词汇权重越低\n",
    "def word_weighted_prob(counter:dict, word, alpha=.001):\n",
    "    denominator = sum(counter.values())\n",
    "    try:\n",
    "        prob = counter[word] / denominator\n",
    "        weighted_prob = alpha / (alpha + prob)\n",
    "    except KeyError:\n",
    "        # 没见过的给最高权重\n",
    "        return 1.0\n",
    "    return weighted_prob\n",
    "\n",
    "def word_weighted_wv(counter, wv, word):\n",
    "    word_vec = wv[word]\n",
    "    word_prob = word_weighted_prob(counter, word)\n",
    "    return word_prob * word_vec\n",
    "\n",
    "def compute_pc(X, npc=1):\n",
    "    svd = TruncatedSVD(n_components=npc, n_iter=7, random_state=0)\n",
    "    svd.fit(X)\n",
    "    return svd.components_\n",
    "\n",
    "def remove_pc(X, npc=1):\n",
    "    pc = compute_pc(X, npc)\n",
    "    update_X = X - X @ (pc.T @ pc)\n",
    "    return update_X\n",
    "\n",
    "def sen2vec(sentences:list, counter, wv):\n",
    "    result = []\n",
    "    sen2vec_dict = defaultdict(int)\n",
    "    for sentence in sentences:\n",
    "        words = list(filter(lambda x: x.isalpha(), jieba.cut(sentence)))\n",
    "        vs = sum([word_weighted_wv(counter, wv, word) for word in words])\n",
    "        result.append(vs)\n",
    "        sen2vec_dict[sentence] = vs\n",
    "    assert len(result) == len(sentences)\n",
    "    X = np.array(result)\n",
    "    final_X = remove_pc(X)\n",
    "    return final_X, sen2vec_dict"
   ]
  },
  {
   "cell_type": "code",
   "execution_count": 33,
   "metadata": {},
   "outputs": [],
   "source": [
    "def split_sentence(doc):\n",
    "    pattern_space = re.compile('\\s*')\n",
    "    result = pattern_space.sub('',doc).split('。')\n",
    "    return result[:-1] if result[:-1] else result\n",
    "\n",
    "def similarity_with_coocurr(s1, s2, jieba_cut=True):\n",
    "    # 取最长公共子序列commong_words时，短序列先遍历\n",
    "    if len(s1) > len(s2):\n",
    "        s1, s2 = s2, s1\n",
    "    if jieba_cut:\n",
    "        s1_words = list(filter(lambda x:x.isalnum(),list(jieba.cut(s1))))\n",
    "        s2_words = list(filter(lambda x:x.isalnum(),list(jieba.cut(s2))))\n",
    "    else:\n",
    "        s1_words = list(s1)\n",
    "        s2_words = list(s2)\n",
    "    common_words = [word for word in s1_words if word in s2_words]\n",
    "    numerator = len(common_words)\n",
    "    # 防止出现分母为0\n",
    "    denominator = np.log(len(s1_words)) + np.log(len(s2_words)) + .1\n",
    "    return numerator / denominator\n",
    "\n",
    "def get_sentences_edge(sentences:list, metrics, counter, wv):\n",
    "    if len(sentences) == 1:\n",
    "        return sentences\n",
    "    \n",
    "    if metrics.__name__ == 'cosine':\n",
    "        _, sen2vec_dict = sen2vec(sentences, counter, wv)\n",
    "        sentences = sen2vec_dict.keys()\n",
    "        return [(s1, s2, metrics(sen2vec_dict[s1],sen2vec_dict[s2])) \n",
    "                for (s1, s2) in list(combinations(sentences, 2))]\n",
    "    return [(s1, s2, metrics(s1,s2)) \n",
    "                for (s1, s2) in list(combinations(sentences, 2))]\n",
    "\n",
    "def sumarization(sentences_with_edge, portion=.2):\n",
    "    graph = nx.Graph()\n",
    "    graph.add_weighted_edges_from(sentences_with_edge)\n",
    "    rank = nx.pagerank(graph)\n",
    "    sorted_rank = sorted(rank.items(), key=lambda x: x[1], reverse=True)\n",
    "    summary_length = int(np.floor(len(graph.nodes) * portion))\n",
    "    summary_length = summary_length if summary_length else 1\n",
    "    result = [x[0] for x in sorted_rank[:summary_length]]\n",
    "    return '；'.join(result) + '。'\n",
    "\n",
    "def process_pipe(doc, metrics, counter, wv):\n",
    "    split = split_sentence(doc)\n",
    "    if len(split) == 1:\n",
    "        return split[0] + '。'\n",
    "    edges = get_sentences_edge(split, metrics, counter, wv)\n",
    "    return sumarization(edges)"
   ]
  },
  {
   "cell_type": "code",
   "execution_count": 39,
   "metadata": {},
   "outputs": [
    {
     "name": "stdout",
     "output_type": "stream",
     "text": [
      "title: （新华简讯）专家：盼国共两党在共同政治基础上携手引领两岸关系克难前行\n",
      "----\n",
      "content: 新华社北京５月２１日电５月２０日，中共中央总书记习近平电贺吴敦义当选中国国民党主席，吴敦义复电表示感谢。上海台湾研究所常务副所长倪永杰、中国社科院台湾研究所副研究员汪曙申等专家２１日受访表示，双方在函电往来中重申了坚持“九二共识”共同政治基础。在当前形势下，中国国民党应为维护两岸关系和平发展发挥积极的建设性作用，国共两党应共同把握正确方向，引领两岸关系克难前行，携手造福两岸同胞。（完）\n",
      "----\n",
      "raw summary: 　　新华社北京５月２１日电　５月２０日，中共中央总书记习近平电贺吴敦义当选中国国民党主席，吴敦义复电表示感谢。上海台湾研究所常务副所长倪永杰、中国社科院台湾研究所副研究员汪曙申等专家２１日受访表示，双方在函电往来中重申了坚持“九二共识”共同政治基础。在当前形势\n",
      "----\n",
      "index: 66657\n",
      "extarct summary with occur: 上海台湾研究所常务副所长倪永杰、中国社科院台湾研究所副研究员汪曙申等专家２１日受访表示，双方在函电往来中重申了坚持“九二共识”共同政治基础。\n",
      "----\n",
      "extarct summary with cosine: 新华社北京５月２１日电５月２０日，中共中央总书记习近平电贺吴敦义当选中国国民党主席，吴敦义复电表示感谢。\n"
     ]
    }
   ],
   "source": [
    "doc = np.random.randint(0,len(df_clean))\n",
    "# doc = 71088\n",
    "print('title:', df_clean.title[doc])\n",
    "print('----')\n",
    "print('content:', df_clean.content[doc].replace(' ',''))\n",
    "print('----')\n",
    "print('raw summary:', df_clean.summary[doc])\n",
    "print('----')\n",
    "print('index:', doc)\n",
    "print('extarct summary with occur:',process_pipe(df_clean.content[doc], \n",
    "                                     similarity_with_coocurr,\n",
    "                                     tokens_counter, wv_from_kv))\n",
    "print('----')\n",
    "print('extarct summary with cosine:',process_pipe(df_clean.content[doc], cosine, \n",
    "                                    tokens_counter,\n",
    "                                     wv_from_kv))"
   ]
  },
  {
   "cell_type": "markdown",
   "metadata": {},
   "source": [
    "### 关键字抽取"
   ]
  },
  {
   "cell_type": "code",
   "execution_count": 13,
   "metadata": {},
   "outputs": [],
   "source": [
    "# 将文档视为长句进行关键字提取\n",
    "# 分词->过滤标点->构建矩阵\n",
    "def co_occurrence(doc, window_size=2):\n",
    "    result = defaultdict(int)\n",
    "    filtered = [word.word for word in pseg.cut(doc.replace(' ','')) \n",
    "                if word.flag in ['v','n'] if len(word.word) > 1]\n",
    "#     filtered = list(filter(lambda x: x.isalnum(), doc.split()))\n",
    "#     filtered.insert(0,'BOS')\n",
    "#     filtered.append('EOS')\n",
    "    max_length = len(filtered)\n",
    "    \n",
    "    for i, word in enumerate(filtered):\n",
    "        start = i - window_size if (i - window_size) > 0 else 0\n",
    "        end = i + window_size + 1 if  i + window_size + 1 < max_length else max_length\n",
    "        candidates = filtered[start:end]\n",
    "        candidates.remove(word)\n",
    "        if candidates:\n",
    "            for c in candidates:\n",
    "                result[(word, c)] += 1\n",
    "    return [(k[0], k[1], v) for k, v in result.items()]\n",
    "\n",
    "def extract_keyword(co_list, topk=20):\n",
    "    graph = nx.Graph()\n",
    "    graph.add_weighted_edges_from(co_list)\n",
    "    sorted_ = sorted(nx.pagerank(graph).items(), key=lambda x:x[1], reverse=True)[:topk]\n",
    "    return [x[0] for x in sorted_]"
   ]
  },
  {
   "cell_type": "code",
   "execution_count": 14,
   "metadata": {},
   "outputs": [
    {
     "name": "stdout",
     "output_type": "stream",
     "text": [
      "新华社照片，青岛（山东），2017年4月10日（体育）（7）游泳——全国游泳冠军赛开赛4月10日，浙江队选手孙杨在男子400米自由泳预赛中，最终他以3分47秒95的成绩晋级决赛。当日，2017年全国游泳冠军赛暨第十三届全运会预赛在山东青岛体育中心游泳馆开赛。新华社记者夏一方摄\n"
     ]
    },
    {
     "data": {
      "text/plain": [
       "['全国', '冠军赛', '决赛', '成绩', '男子', '选手', '体育中心', '游泳馆', '记者', '照片']"
      ]
     },
     "execution_count": 14,
     "metadata": {},
     "output_type": "execute_result"
    }
   ],
   "source": [
    "s = df_clean.content[np.random.randint(0, len(df_clean))]\n",
    "print(s.replace(' ', ''))\n",
    "# 跟jieba api比较还有些差距，权重方面需要细调\n",
    "# 暂用api进行后面项目构建\n",
    "extract_keyword(co_occurrence(s,5))"
   ]
  },
  {
   "cell_type": "markdown",
   "metadata": {},
   "source": [
    "[jieba API](https://github.com/fxsjy/jieba)"
   ]
  },
  {
   "cell_type": "code",
   "execution_count": 15,
   "metadata": {},
   "outputs": [
    {
     "data": {
      "text/plain": [
       "['青岛', '山东', '游泳', '冠军赛', '体育中心', '开赛', '成绩', '决赛', '全国', '游泳馆', '预赛', '照片']"
      ]
     },
     "execution_count": 15,
     "metadata": {},
     "output_type": "execute_result"
    }
   ],
   "source": [
    "# 基于textrank的关键词抽取\n",
    "jieba.analyse.textrank(s)"
   ]
  },
  {
   "cell_type": "code",
   "execution_count": 16,
   "metadata": {},
   "outputs": [
    {
     "data": {
      "text/plain": [
       "['冠军赛', '游泳馆', '体育中心', '全国', '决赛', '选手', '照片', '成绩', '男子', '记者']"
      ]
     },
     "execution_count": 16,
     "metadata": {},
     "output_type": "execute_result"
    }
   ],
   "source": [
    "# 基于tf-idf的关键词抽取\n",
    "jieba.analyse.extract_tags(s,allowPOS=('n','v'))"
   ]
  },
  {
   "cell_type": "markdown",
   "metadata": {},
   "source": [
    "## todo\n",
    "- 利用文章标题（如果有的话）\n",
    "- 将文档看成长句，用TextRank进行关键字提取，对含关键字的句子赋予更多权重\n",
    "    - 构建共现矩阵实现\n",
    "    - 构建字典实现\n",
    "- 关注文章的一些特殊位置，比如开头和结尾\n",
    "- 集合LDA主题模型进行优化\n",
    "- KNN?"
   ]
  },
  {
   "cell_type": "code",
   "execution_count": null,
   "metadata": {},
   "outputs": [],
   "source": []
  }
 ],
 "metadata": {
  "kernelspec": {
   "display_name": "Python 3",
   "language": "python",
   "name": "python3"
  },
  "language_info": {
   "codemirror_mode": {
    "name": "ipython",
    "version": 3
   },
   "file_extension": ".py",
   "mimetype": "text/x-python",
   "name": "python",
   "nbconvert_exporter": "python",
   "pygments_lexer": "ipython3",
   "version": "3.6.2"
  }
 },
 "nbformat": 4,
 "nbformat_minor": 4
}
