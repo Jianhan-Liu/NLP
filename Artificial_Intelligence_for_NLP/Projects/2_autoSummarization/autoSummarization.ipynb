{
 "cells": [
  {
   "cell_type": "markdown",
   "metadata": {},
   "source": [
    "# 导入工具"
   ]
  },
  {
   "cell_type": "code",
   "execution_count": 1,
   "metadata": {},
   "outputs": [],
   "source": [
    "import warnings\n",
    "warnings.filterwarnings('ignore')\n",
    "import re\n",
    "import pandas as pd\n",
    "import numpy as np\n",
    "import matplotlib.pyplot as plt\n",
    "import seaborn\n",
    "seaborn.set()\n",
    "%matplotlib inline\n",
    "\n",
    "import jieba\n",
    "import json\n",
    "from gensim.models import FastText, Word2Vec, KeyedVectors\n",
    "from gensim.models.word2vec import LineSentence\n",
    "from scipy.spatial.distance import cosine\n",
    "import networkx as nx\n",
    "\n",
    "from functools import reduce, partial\n",
    "from collections import Counter"
   ]
  },
  {
   "cell_type": "code",
   "execution_count": 2,
   "metadata": {},
   "outputs": [],
   "source": [
    "pre_trained_wiki_model = r\"D:\\Github\\NLP\\Projects\\data\\trained_models\\wiki_ltp_model.model\"\n",
    "wiki_model = Word2Vec.load(pre_trained_wiki_model)"
   ]
  },
  {
   "cell_type": "code",
   "execution_count": 70,
   "metadata": {},
   "outputs": [],
   "source": [
    "raw_df = pd.read_csv('data/sqlResult_1558435.csv', encoding='gb18030')"
   ]
  },
  {
   "cell_type": "markdown",
   "metadata": {},
   "source": [
    "## 预处理函数"
   ]
  },
  {
   "cell_type": "code",
   "execution_count": 2,
   "metadata": {},
   "outputs": [],
   "source": [
    "def clean_df_pipe(raw_data):\n",
    "    df = raw_data.copy()\n",
    "    df.dropna(subset=['content'],inplace=True)\n",
    "    df.drop_duplicates(inplace=True)\n",
    "    df.reset_index(drop=True, inplace=True)\n",
    "    df.id = df.index\n",
    "    return df"
   ]
  },
  {
   "cell_type": "code",
   "execution_count": 89,
   "metadata": {},
   "outputs": [],
   "source": [
    "def string_pipe(string):\n",
    "    string = re.sub(r'[\\r\\n\\u3000]', ' ', string)\n",
    "    string = re.sub(r'[\\\\/\\（\\）]', ' ', string)\n",
    "    string = ' '.join(jieba.cut(string))\n",
    "    string = re.sub(r'\\s+', ' ', string)\n",
    "    return string"
   ]
  },
  {
   "cell_type": "code",
   "execution_count": 90,
   "metadata": {},
   "outputs": [],
   "source": [
    "df = clean_df_pipe(raw_df)"
   ]
  },
  {
   "cell_type": "code",
   "execution_count": 91,
   "metadata": {},
   "outputs": [
    {
     "data": {
      "text/html": [
       "<div>\n",
       "<style scoped>\n",
       "    .dataframe tbody tr th:only-of-type {\n",
       "        vertical-align: middle;\n",
       "    }\n",
       "\n",
       "    .dataframe tbody tr th {\n",
       "        vertical-align: top;\n",
       "    }\n",
       "\n",
       "    .dataframe thead th {\n",
       "        text-align: right;\n",
       "    }\n",
       "</style>\n",
       "<table border=\"1\" class=\"dataframe\">\n",
       "  <thead>\n",
       "    <tr style=\"text-align: right;\">\n",
       "      <th></th>\n",
       "      <th>id</th>\n",
       "      <th>author</th>\n",
       "      <th>source</th>\n",
       "      <th>content</th>\n",
       "      <th>feature</th>\n",
       "      <th>title</th>\n",
       "      <th>url</th>\n",
       "    </tr>\n",
       "  </thead>\n",
       "  <tbody>\n",
       "    <tr>\n",
       "      <th>87052</th>\n",
       "      <td>87052</td>\n",
       "      <td>夏文辉</td>\n",
       "      <td>新华社</td>\n",
       "      <td>\\n\\n2017年5月25日，在美国马萨诸塞州剑桥市，哈佛大学毕业生在毕业典礼上欢呼。（新华...</td>\n",
       "      <td>{\"type\":\"其它\",\"site\":\"新华社\",\"url\":\"http://home.x...</td>\n",
       "      <td>哈佛大学为何取消这些新生入选资格？</td>\n",
       "      <td>http://home.xinhua-news.com/gdsdetailxhsnew/22...</td>\n",
       "    </tr>\n",
       "    <tr>\n",
       "      <th>87053</th>\n",
       "      <td>87053</td>\n",
       "      <td>王子江 张寒</td>\n",
       "      <td>新华社</td>\n",
       "      <td>新华社德国杜塞尔多夫６月６日电题：乒乓女球迷　\\n　　新华社记者王子江、张寒\\n　　熊老...</td>\n",
       "      <td>{\"type\":\"体育\",\"site\":\"新华社\",\"url\":\"http://home.x...</td>\n",
       "      <td>（体育）题：乒乓女球迷</td>\n",
       "      <td>http://home.xinhua-news.com/gdsdetailxhsnew/22...</td>\n",
       "    </tr>\n",
       "  </tbody>\n",
       "</table>\n",
       "</div>"
      ],
      "text/plain": [
       "          id  author source  \\\n",
       "87052  87052     夏文辉    新华社   \n",
       "87053  87053  王子江 张寒    新华社   \n",
       "\n",
       "                                                 content  \\\n",
       "87052  \\n\\n2017年5月25日，在美国马萨诸塞州剑桥市，哈佛大学毕业生在毕业典礼上欢呼。（新华...   \n",
       "87053  　　新华社德国杜塞尔多夫６月６日电题：乒乓女球迷　\\n　　新华社记者王子江、张寒\\n　　熊老...   \n",
       "\n",
       "                                                 feature              title  \\\n",
       "87052  {\"type\":\"其它\",\"site\":\"新华社\",\"url\":\"http://home.x...  哈佛大学为何取消这些新生入选资格？   \n",
       "87053  {\"type\":\"体育\",\"site\":\"新华社\",\"url\":\"http://home.x...       （体育）题：乒乓女球迷　   \n",
       "\n",
       "                                                     url  \n",
       "87052  http://home.xinhua-news.com/gdsdetailxhsnew/22...  \n",
       "87053  http://home.xinhua-news.com/gdsdetailxhsnew/22...  "
      ]
     },
     "execution_count": 91,
     "metadata": {},
     "output_type": "execute_result"
    }
   ],
   "source": [
    "df.tail(2)"
   ]
  },
  {
   "cell_type": "code",
   "execution_count": 92,
   "metadata": {},
   "outputs": [
    {
     "data": {
      "text/html": [
       "<div>\n",
       "<style scoped>\n",
       "    .dataframe tbody tr th:only-of-type {\n",
       "        vertical-align: middle;\n",
       "    }\n",
       "\n",
       "    .dataframe tbody tr th {\n",
       "        vertical-align: top;\n",
       "    }\n",
       "\n",
       "    .dataframe thead th {\n",
       "        text-align: right;\n",
       "    }\n",
       "</style>\n",
       "<table border=\"1\" class=\"dataframe\">\n",
       "  <thead>\n",
       "    <tr style=\"text-align: right;\">\n",
       "      <th></th>\n",
       "      <th>content</th>\n",
       "      <th>title</th>\n",
       "    </tr>\n",
       "  </thead>\n",
       "  <tbody>\n",
       "    <tr>\n",
       "      <th>0</th>\n",
       "      <td>此外 ， 自 本周 6 月 12 日 起 ， 除 小米 手机 6 等 15 款 机型 外 ，...</td>\n",
       "      <td>小米MIUI 9首批机型曝光：共计15款</td>\n",
       "    </tr>\n",
       "    <tr>\n",
       "      <th>1</th>\n",
       "      <td>骁龙 835 作为 唯一 通过 Windows 10 桌面 平台 认证 的 ARM 处理器 ...</td>\n",
       "      <td>骁龙835在Windows 10上的性能表现有望改善</td>\n",
       "    </tr>\n",
       "    <tr>\n",
       "      <th>2</th>\n",
       "      <td>此前 的 一加 3T 搭载 的 是 3400mAh 电池 ， DashCharge 快充 规...</td>\n",
       "      <td>一加手机5细节曝光：3300mAh、充半小时用1天</td>\n",
       "    </tr>\n",
       "    <tr>\n",
       "      <th>3</th>\n",
       "      <td>这是 6 月 18 日 在 葡萄牙 中部 大 佩德罗 冈 地区 拍摄 的 被 森林 大火 烧...</td>\n",
       "      <td>葡森林火灾造成至少62人死亡 政府宣布进入紧急状态（组图）</td>\n",
       "    </tr>\n",
       "    <tr>\n",
       "      <th>4</th>\n",
       "      <td>原 标题 ： 44 岁 女子 跑 深圳 约会 网友 被 拒 ， 暴雨 中 裸身 奔走 … ...</td>\n",
       "      <td>44岁女子约网友被拒暴雨中裸奔 交警为其披衣相随</td>\n",
       "    </tr>\n",
       "  </tbody>\n",
       "</table>\n",
       "</div>"
      ],
      "text/plain": [
       "                                             content  \\\n",
       "0  此外 ， 自 本周 6 月 12 日 起 ， 除 小米 手机 6 等 15 款 机型 外 ，...   \n",
       "1  骁龙 835 作为 唯一 通过 Windows 10 桌面 平台 认证 的 ARM 处理器 ...   \n",
       "2  此前 的 一加 3T 搭载 的 是 3400mAh 电池 ， DashCharge 快充 规...   \n",
       "3  这是 6 月 18 日 在 葡萄牙 中部 大 佩德罗 冈 地区 拍摄 的 被 森林 大火 烧...   \n",
       "4   原 标题 ： 44 岁 女子 跑 深圳 约会 网友 被 拒 ， 暴雨 中 裸身 奔走 … ...   \n",
       "\n",
       "                           title  \n",
       "0           小米MIUI 9首批机型曝光：共计15款  \n",
       "1     骁龙835在Windows 10上的性能表现有望改善  \n",
       "2      一加手机5细节曝光：3300mAh、充半小时用1天  \n",
       "3  葡森林火灾造成至少62人死亡 政府宣布进入紧急状态（组图）  \n",
       "4       44岁女子约网友被拒暴雨中裸奔 交警为其披衣相随  "
      ]
     },
     "execution_count": 92,
     "metadata": {},
     "output_type": "execute_result"
    }
   ],
   "source": [
    "df_clean = pd.DataFrame()\n",
    "df_clean['content'] = df.content.apply(string_pipe)\n",
    "df_clean['title'] = df.title\n",
    "# df_clean['summary'] = df.feature.apply(lambda x: json.loads(x)['summary'])\n",
    "df_clean.head()"
   ]
  },
  {
   "cell_type": "code",
   "execution_count": 93,
   "metadata": {},
   "outputs": [],
   "source": [
    "df_clean.to_csv('data/cleaned_data.csv', encoding='utf-8')"
   ]
  },
  {
   "cell_type": "markdown",
   "metadata": {},
   "source": [
    "---"
   ]
  },
  {
   "cell_type": "code",
   "execution_count": 10,
   "metadata": {},
   "outputs": [],
   "source": [
    "df_clean = pd.read_csv('data/cleaned_data.csv', encoding='utf-8', index_col=0)"
   ]
  },
  {
   "cell_type": "markdown",
   "metadata": {},
   "source": [
    "## 词向量"
   ]
  },
  {
   "cell_type": "code",
   "execution_count": 8,
   "metadata": {},
   "outputs": [],
   "source": [
    "#with open('data/corpus.txt', 'w', encoding='utf-8') as f:\n",
    "    for content in df_clean.content:\n",
    "        f.write(content)"
   ]
  },
  {
   "cell_type": "code",
   "execution_count": 106,
   "metadata": {},
   "outputs": [],
   "source": [
    "model = FastText(LineSentence('data/corpus.txt'), window=5, size=40, iter=10, min_count=1)"
   ]
  },
  {
   "cell_type": "code",
   "execution_count": 107,
   "metadata": {},
   "outputs": [],
   "source": [
    "# 保存模型\n",
    "model.save('data/fasttext.model')"
   ]
  },
  {
   "cell_type": "code",
   "execution_count": 108,
   "metadata": {},
   "outputs": [],
   "source": [
    "# 只保存词向量\n",
    "model.wv.save('data/fasttest.kv')"
   ]
  },
  {
   "cell_type": "code",
   "execution_count": 114,
   "metadata": {},
   "outputs": [
    {
     "data": {
      "text/plain": [
       "[('干电池', 0.98030686378479),\n",
       " ('废电池', 0.9665732383728027),\n",
       " ('蓄电池', 0.9643412828445435),\n",
       " ('酸蓄电池', 0.9421657919883728),\n",
       " ('燃料电池', 0.9406098127365112),\n",
       " ('锂电池', 0.9249415993690491),\n",
       " ('电池容量', 0.9161360859870911),\n",
       " ('充电电池', 0.9133886694908142),\n",
       " ('光电池', 0.9111385345458984),\n",
       " ('电池组', 0.9109917879104614)]"
      ]
     },
     "execution_count": 114,
     "metadata": {},
     "output_type": "execute_result"
    }
   ],
   "source": [
    "model.wv.most_similar('电池')"
   ]
  },
  {
   "cell_type": "code",
   "execution_count": 4,
   "metadata": {},
   "outputs": [],
   "source": [
    "wv_from_kv = KeyedVectors.load('data/fasttest.kv')"
   ]
  },
  {
   "cell_type": "code",
   "execution_count": 5,
   "metadata": {},
   "outputs": [
    {
     "data": {
      "text/plain": [
       "[('陈冠辛', 0.9700720310211182),\n",
       " ('下任总统', 0.9145525097846985),\n",
       " ('代总统', 0.9022562503814697),\n",
       " ('总统府', 0.8381916880607605),\n",
       " ('俄总统', 0.8303344249725342),\n",
       " ('内阁总理', 0.8290834426879883),\n",
       " ('特梅尔能', 0.8250315189361572),\n",
       " ('总统大选', 0.8212908506393433),\n",
       " ('代总理', 0.8200234174728394),\n",
       " ('下议院', 0.8171863555908203)]"
      ]
     },
     "execution_count": 5,
     "metadata": {},
     "output_type": "execute_result"
    }
   ],
   "source": [
    "wv_from_kv.most_similar('总统')"
   ]
  },
  {
   "cell_type": "code",
   "execution_count": 11,
   "metadata": {},
   "outputs": [],
   "source": [
    "tokens = [word for doc in df_clean.content for word in doc.split()]"
   ]
  },
  {
   "cell_type": "code",
   "execution_count": 12,
   "metadata": {},
   "outputs": [
    {
     "data": {
      "text/plain": [
       "['此外', '，', '自', '本周', '6', '月', '12', '日', '起', '，']"
      ]
     },
     "execution_count": 12,
     "metadata": {},
     "output_type": "execute_result"
    }
   ],
   "source": [
    "tokens[:10]"
   ]
  },
  {
   "cell_type": "markdown",
   "metadata": {},
   "source": [
    "## 词频统计"
   ]
  },
  {
   "cell_type": "code",
   "execution_count": 13,
   "metadata": {},
   "outputs": [],
   "source": [
    "token_counter = Counter(tokens)"
   ]
  },
  {
   "cell_type": "code",
   "execution_count": 14,
   "metadata": {},
   "outputs": [],
   "source": [
    "word_to_freq = {word:round(count/len(token_counter), 9) for word, count \n",
    "               in token_counter.items()}"
   ]
  },
  {
   "cell_type": "code",
   "execution_count": 15,
   "metadata": {},
   "outputs": [],
   "source": [
    "word_to_freq_sorted = sorted(word_to_freq.items(), key=lambda x:x[1], reverse=1)\n",
    "plot_length = 100\n",
    "y = [value for _, value in word_to_freq_sorted]"
   ]
  },
  {
   "cell_type": "code",
   "execution_count": 16,
   "metadata": {},
   "outputs": [
    {
     "data": {
      "image/png": "[encoded data removed]",
      "text/plain": [
       "<Figure size 432x288 with 1 Axes>"
      ]
     },
     "metadata": {
      "needs_background": "light"
     },
     "output_type": "display_data"
    }
   ],
   "source": [
    "plt.plot(range(plot_length), y[:plot_length])\n",
    "plt.show()"
   ]
  },
  {
   "cell_type": "markdown",
   "metadata": {},
   "source": [
    "## PageRank"
   ]
  },
  {
   "cell_type": "code",
   "execution_count": 39,
   "metadata": {},
   "outputs": [],
   "source": [
    "def pagerank(M, num_iteration=100, alpha=.85):\n",
    "    N = M.shape[1]\n",
    "    V = np.random.rand(N, 1)\n",
    "    V = V / np.linalg.norm(V,1)\n",
    "    iteration = 0\n",
    "    while iteration < num_iteration:\n",
    "        iteration += 1\n",
    "        V = alpha * M @ V + (1-alpha) / N\n",
    "    return V"
   ]
  },
  {
   "cell_type": "code",
   "execution_count": 40,
   "metadata": {},
   "outputs": [
    {
     "data": {
      "text/plain": [
       "array([[0.2  ],\n",
       "       [0.115],\n",
       "       [0.115],\n",
       "       [0.285],\n",
       "       [0.285]])"
      ]
     },
     "execution_count": 40,
     "metadata": {},
     "output_type": "execute_result"
    }
   ],
   "source": [
    "M = np.array([[0, 0, 0, 0, 1],\n",
    "              [0.5, 0, 0, 0, 0],\n",
    "              [0.5, 0, 0, 0, 0],\n",
    "              [0, 1, 0.5, 0, 0],\n",
    "              [0, 0, 0.5, 1, 0]])\n",
    "pagerank(M, .001)"
   ]
  },
  {
   "cell_type": "code",
   "execution_count": 41,
   "metadata": {},
   "outputs": [
    {
     "data": {
      "text/plain": [
       "array([[0.2  ],\n",
       "       [0.115],\n",
       "       [0.115],\n",
       "       [0.285],\n",
       "       [0.285]])"
      ]
     },
     "execution_count": 41,
     "metadata": {},
     "output_type": "execute_result"
    }
   ],
   "source": [
    "pagerank(M, 1)"
   ]
  },
  {
   "cell_type": "code",
   "execution_count": 42,
   "metadata": {},
   "outputs": [
    {
     "data": {
      "text/plain": [
       "array([[0.26212573],\n",
       "       [0.13591249],\n",
       "       [0.13591249],\n",
       "       [0.19818968],\n",
       "       [0.26785962]])"
      ]
     },
     "execution_count": 42,
     "metadata": {},
     "output_type": "execute_result"
    }
   ],
   "source": [
    "pagerank(M, 10)"
   ]
  },
  {
   "cell_type": "code",
   "execution_count": 43,
   "metadata": {},
   "outputs": [
    {
     "data": {
      "text/plain": [
       "array([[0.25419178],\n",
       "       [0.13803151],\n",
       "       [0.13803151],\n",
       "       [0.20599017],\n",
       "       [0.26375504]])"
      ]
     },
     "execution_count": 43,
     "metadata": {},
     "output_type": "execute_result"
    }
   ],
   "source": [
    "pagerank(M, 100)"
   ]
  },
  {
   "cell_type": "code",
   "execution_count": 17,
   "metadata": {},
   "outputs": [],
   "source": [
    "def generate_name(length=3):\n",
    "    return ''.join(chr(np.random.randint(65, 73)) for _ in range(length)).capitalize()"
   ]
  },
  {
   "cell_type": "code",
   "execution_count": 18,
   "metadata": {},
   "outputs": [],
   "source": [
    "graph = {\n",
    "    'Yao': ['Guo', 'Wang', 'Tian', 'Tim'] + [generate_name() for _ in range(6)],\n",
    "    'Guo': ['Li'] + [generate_name() for _ in range(5)],\n",
    "    'Wang': ['Tian'] + [generate_name() for _ in range(5)],\n",
    "    'Li': [generate_name() for _ in range(3)],\n",
    "    'Tim': ['Tian'] + [generate_name() for _ in range(5)]\n",
    "}"
   ]
  },
  {
   "cell_type": "code",
   "execution_count": 19,
   "metadata": {},
   "outputs": [
    {
     "data": {
      "text/plain": [
       "{'Yao': ['Guo',\n",
       "  'Wang',\n",
       "  'Tian',\n",
       "  'Tim',\n",
       "  'Hdf',\n",
       "  'Dgb',\n",
       "  'Egc',\n",
       "  'Ceg',\n",
       "  'Fhb',\n",
       "  'Fhb'],\n",
       " 'Guo': ['Li', 'Faf', 'Efh', 'Caf', 'Ged', 'Hbg'],\n",
       " 'Wang': ['Tian', 'Gdg', 'Bgh', 'Hhc', 'Adg', 'Gfg'],\n",
       " 'Li': ['Fcf', 'Gbb', 'Feb'],\n",
       " 'Tim': ['Tian', 'Fhg', 'Bbc', 'Egf', 'Bfc', 'Aae']}"
      ]
     },
     "execution_count": 19,
     "metadata": {},
     "output_type": "execute_result"
    }
   ],
   "source": [
    "graph"
   ]
  },
  {
   "cell_type": "code",
   "execution_count": 20,
   "metadata": {},
   "outputs": [],
   "source": [
    "social_nx = nx.Graph()"
   ]
  },
  {
   "cell_type": "code",
   "execution_count": 21,
   "metadata": {},
   "outputs": [],
   "source": [
    "for vertex, edge in graph.items():\n",
    "    for v in edge:\n",
    "        social_nx.add_edges_from([(vertex, v)])"
   ]
  },
  {
   "cell_type": "code",
   "execution_count": 22,
   "metadata": {},
   "outputs": [
    {
     "data": {
      "image/png": "[encoded data removed]",
      "text/plain": [
       "<Figure size 720x720 with 1 Axes>"
      ]
     },
     "metadata": {},
     "output_type": "display_data"
    }
   ],
   "source": [
    "plt.figure(figsize=(10,10))\n",
    "nx.draw_networkx(social_nx)\n",
    "plt.show()"
   ]
  },
  {
   "cell_type": "code",
   "execution_count": 23,
   "metadata": {},
   "outputs": [],
   "source": [
    "ranking_result = nx.pagerank(social_nx)"
   ]
  },
  {
   "cell_type": "code",
   "execution_count": 24,
   "metadata": {},
   "outputs": [
    {
     "data": {
      "text/plain": [
       "[('Yao', 0.13267327585239913),\n",
       " ('Guo', 0.11272967851307805),\n",
       " ('Wang', 0.10768428320851282),\n",
       " ('Tim', 0.10768428320851282),\n",
       " ('Li', 0.06995860174040319),\n",
       " ('Tian', 0.04385427182289368),\n",
       " ('Fcf', 0.020039282976635146),\n",
       " ('Gbb', 0.020039282976635146),\n",
       " ('Feb', 0.020039282976635146),\n",
       " ('Faf', 0.018860451935758374),\n",
       " ('Efh', 0.018860451935758374),\n",
       " ('Caf', 0.018860451935758374),\n",
       " ('Ged', 0.018860451935758374),\n",
       " ('Hbg', 0.018860451935758374),\n",
       " ('Gdg', 0.0182480638615638),\n",
       " ('Bgh', 0.0182480638615638),\n",
       " ('Hhc', 0.0182480638615638),\n",
       " ('Adg', 0.0182480638615638),\n",
       " ('Gfg', 0.0182480638615638),\n",
       " ('Fhg', 0.0182480638615638),\n",
       " ('Bbc', 0.0182480638615638),\n",
       " ('Egf', 0.0182480638615638),\n",
       " ('Bfc', 0.0182480638615638),\n",
       " ('Aae', 0.0182480638615638),\n",
       " ('Hdf', 0.01770297168597297),\n",
       " ('Dgb', 0.01770297168597297),\n",
       " ('Egc', 0.01770297168597297),\n",
       " ('Ceg', 0.01770297168597297),\n",
       " ('Fhb', 0.01770297168597297)]"
      ]
     },
     "execution_count": 24,
     "metadata": {},
     "output_type": "execute_result"
    }
   ],
   "source": [
    "sorted(ranking_result.items(), key=lambda x: x[1], reverse=1)"
   ]
  },
  {
   "cell_type": "markdown",
   "metadata": {},
   "source": [
    "## TextRank（抽取式摘要）\n",
    "两个应用\n",
    "- 从句子中抽取句子关键词\n",
    "    - 句子分词，用名词或者动词作为图结点，使用共现矩阵进行边构建\n",
    "    - 使用page算法排序，取前N位进行组合后为句子关键字\n",
    "- 从文档中抽取文档摘要（句子）\n",
    "    - 文档分句，用单句作为图结点，句间相似度进行边构建\n",
    "        - 相似度方法：\n",
    "            - TextRank论文采用公式\n",
    "            - StringKernel\n",
    "            - 余弦距离\n",
    "            - 编辑距离（最长公共子串）\n",
    "    - 同上方式取若干句作为文档摘要"
   ]
  },
  {
   "cell_type": "code",
   "execution_count": 1,
   "metadata": {},
   "outputs": [
    {
     "ename": "NameError",
     "evalue": "name 'df_clean' is not defined",
     "output_type": "error",
     "traceback": [
      "\u001b[1;31m---------------------------------------------------------------------------\u001b[0m",
      "\u001b[1;31mNameError\u001b[0m                                 Traceback (most recent call last)",
      "\u001b[1;32m<ipython-input-1-b0082ec31418>\u001b[0m in \u001b[0;36m<module>\u001b[1;34m\u001b[0m\n\u001b[1;32m----> 1\u001b[1;33m \u001b[1;32mfor\u001b[0m \u001b[0mx\u001b[0m \u001b[1;32min\u001b[0m \u001b[0mdf_clean\u001b[0m\u001b[1;33m.\u001b[0m\u001b[0mcontent\u001b[0m\u001b[1;33m[\u001b[0m\u001b[1;33m:\u001b[0m\u001b[1;36m10\u001b[0m\u001b[1;33m]\u001b[0m\u001b[1;33m:\u001b[0m\u001b[1;33m\u001b[0m\u001b[0m\n\u001b[0m\u001b[0;32m      2\u001b[0m     \u001b[0mprint\u001b[0m\u001b[1;33m(\u001b[0m\u001b[0mx\u001b[0m\u001b[1;33m)\u001b[0m\u001b[1;33m\u001b[0m\u001b[0m\n",
      "\u001b[1;31mNameError\u001b[0m: name 'df_clean' is not defined"
     ]
    }
   ],
   "source": [
    "for x in df_clean.content[:10]:\n",
    "    print(x)"
   ]
  },
  {
   "cell_type": "code",
   "execution_count": null,
   "metadata": {},
   "outputs": [],
   "source": []
  }
 ],
 "metadata": {
  "kernelspec": {
   "display_name": "Python 3",
   "language": "python",
   "name": "python3"
  },
  "language_info": {
   "codemirror_mode": {
    "name": "ipython",
    "version": 3
   },
   "file_extension": ".py",
   "mimetype": "text/x-python",
   "name": "python",
   "nbconvert_exporter": "python",
   "pygments_lexer": "ipython3",
   "version": "3.6.2"
  }
 },
 "nbformat": 4,
 "nbformat_minor": 4
}
