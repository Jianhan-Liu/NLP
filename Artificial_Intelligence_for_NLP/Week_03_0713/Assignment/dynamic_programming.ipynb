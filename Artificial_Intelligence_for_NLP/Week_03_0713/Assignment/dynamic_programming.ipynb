{
 "cells": [
  {
   "cell_type": "markdown",
   "metadata": {},
   "source": [
    "## 1.Edit distance with matrix\n",
    "> 参考视频：https://www.youtube.com/watch?v=We3YDTzNXEk"
   ]
  },
  {
   "cell_type": "code",
   "execution_count": 31,
   "metadata": {},
   "outputs": [],
   "source": [
    "import numpy as np"
   ]
  },
  {
   "cell_type": "code",
   "execution_count": 47,
   "metadata": {},
   "outputs": [],
   "source": [
    "class EditDistance:\n",
    "    def __init__(self):\n",
    "        self.solution = {}\n",
    "    @staticmethod\n",
    "    def edit_distance_with_matrix(str1, str2):\n",
    "        len_1, len_2 = len(str1) + 1, len(str2) + 1\n",
    "        if str1 and str2:\n",
    "            matrix = np.zeros((len_2, len_1), dtype=np.int)\n",
    "            matrix[0, :] = np.arange(len_1)\n",
    "            matrix[:, 0] = np.arange(len_2)\n",
    "            for i, char1 in enumerate(str2):\n",
    "                for j, char2 in enumerate(str1):\n",
    "                    if char1 == char2:\n",
    "                        matrix[i + 1, j + 1] = matrix[i, j]\n",
    "                    else:\n",
    "                        matrix[i + 1, j + 1] = min(matrix[i, j + 1], matrix[i, j], matrix[i + 1, j]) + 1\n",
    "\n",
    "            return matrix[len_2 -1 , len_1 - 1], matrix\n",
    "        else:\n",
    "            return len_1 -1  if str1 else len_2 - 1\n",
    "    \n",
    "    def get_matrix_solution(self, matrix):\n",
    "        \"\"\"\n",
    "        Up refers to insert; left refers to delete; digonal refers to substating.\n",
    "        \"\"\"\n",
    "        r, c = matrix.shape\n",
    "        if r < 2:\n",
    "            for _ in matrix[0, :c-1]:\n",
    "                self.solution[_+1] = f\"delete str1.({_})\"\n",
    "            return\n",
    "        elif c < 2:\n",
    "            for _ in matrix[:r-1, 0]:\n",
    "                self.solution[_ + 1] = f\"str1.({0}) + str2.({_})\"\n",
    "            return\n",
    "\n",
    "        row, column = np.array(matrix.shape) - 1\n",
    "        target = matrix[row, column]\n",
    "        up = row - 1, column\n",
    "        left = row, column - 1\n",
    "        diag = row - 1, column - 1\n",
    "\n",
    "        temp = min(matrix[diag], matrix[up], matrix[left])\n",
    "\n",
    "        # 以下if控制语句的顺序不可变，即从up -> left -> diag顺序判断\n",
    "        if target == temp + 1:\n",
    "            if target == matrix[up] + 1:\n",
    "                self.solution[target] = f\"str1.({column - 1}) + str2.({row - 1})\"\n",
    "                return self.get_matrix_solution(matrix[:row, :])\n",
    "            elif target == matrix[left] + 1:\n",
    "                self.solution[target] = f\"delete str1.({column - 1})\"\n",
    "                return self.get_matrix_solution(matrix[:, :column])\n",
    "            elif target == matrix[diag] + 1:\n",
    "                self.solution[target] = f\"str1.({column - 1}) -> str2.({row - 1})\"\n",
    "                return self.get_matrix_solution(matrix[:row,:column])\n",
    "        return self.get_matrix_solution(matrix[:row,:column])\n",
    "    \n",
    "    def get_solution(self):\n",
    "        return sorted(self.solution.items())"
   ]
  },
  {
   "cell_type": "code",
   "execution_count": 39,
   "metadata": {},
   "outputs": [
    {
     "data": {
      "text/plain": [
       "[(1, 'str1.(0) + str2.(0)'),\n",
       " (2, 'str1.(0) + str2.(1)'),\n",
       " (3, 'str1.(0) + str2.(2)'),\n",
       " (4, 'str1.(0) + str2.(3)'),\n",
       " (5, 'str1.(0) + str2.(4)'),\n",
       " (6, 'delete str1.(3)'),\n",
       " (7, 'delete str1.(7)')]"
      ]
     },
     "execution_count": 39,
     "metadata": {},
     "output_type": "execute_result"
    }
   ],
   "source": [
    "test = EditDistance()\n",
    "step, matrix_ = test.edit_distance_with_matrix('welecome', 'stinfwelcom')\n",
    "test.get_matrix_solution(matrix_)\n",
    "test.get_solution()"
   ]
  },
  {
   "cell_type": "code",
   "execution_count": 58,
   "metadata": {},
   "outputs": [
    {
     "name": "stdout",
     "output_type": "stream",
     "text": [
      "[[0 1 2 3 4]\n",
      " [1 0 1 2 3]\n",
      " [2 1 1 1 2]\n",
      " [3 2 2 2 2]\n",
      " [4 3 3 3 2]]\n",
      "2\n"
     ]
    },
    {
     "data": {
      "text/plain": [
       "[(1, 'delete str1.(1)'), (2, 'str1.(2) + str2.(2)')]"
      ]
     },
     "execution_count": 58,
     "metadata": {},
     "output_type": "execute_result"
    }
   ],
   "source": [
    "test_ = EditDistance()\n",
    "step, matrix_ = test_.edit_distance_with_matrix('aebd', 'abcd')\n",
    "test_.get_matrix_solution(matrix_)\n",
    "print(matrix_)\n",
    "print(step)\n",
    "test_.get_solution()"
   ]
  },
  {
   "cell_type": "markdown",
   "metadata": {},
   "source": [
    "## 2.Edit distance with recursion"
   ]
  },
  {
   "cell_type": "code",
   "execution_count": 2,
   "metadata": {},
   "outputs": [],
   "source": [
    "from functools import lru_cache"
   ]
  },
  {
   "cell_type": "code",
   "execution_count": 79,
   "metadata": {},
   "outputs": [],
   "source": [
    "if 'solution_' in dir(): del solution_ \n",
    "solution_ = {}\n",
    "@lru_cache(maxsize=2**10)\n",
    "def edit_distance(string1, string2):\n",
    "    if string1 and string2:\n",
    "    \n",
    "        tail_s1 = string1[-1]\n",
    "        tail_s2 = string2[-1]\n",
    "\n",
    "        candidates = [\n",
    "            (edit_distance(string1[:-1], string2) + 1, 'DEL {}'.format(tail_s1)),  # string 1 delete tail\n",
    "            (edit_distance(string1, string2[:-1]) + 1, 'ADD {}'.format(tail_s2)),  # string 1 add tail of string2\n",
    "        ]\n",
    "\n",
    "        if tail_s1 == tail_s2:\n",
    "            both_forward = (edit_distance(string1[:-1], string2[:-1]) + 0, '')\n",
    "        else:\n",
    "            both_forward = (edit_distance(string1[:-1], string2[:-1]) + 1, 'SUB {} => {}'.format(tail_s1, tail_s2))\n",
    "\n",
    "        candidates.append(both_forward)\n",
    "\n",
    "        min_distance, operation = min(candidates, key=lambda x: x[0])\n",
    "\n",
    "        solution_[(string1, string2)] = operation \n",
    "        print(candidates)\n",
    "        return min_distance\n",
    "    \n",
    "    return len(string1) if string1 else len(string2)"
   ]
  },
  {
   "cell_type": "code",
   "execution_count": 80,
   "metadata": {},
   "outputs": [
    {
     "name": "stdout",
     "output_type": "stream",
     "text": [
      "[(2, 'DEL a'), (2, 'ADD a'), (0, '')]\n",
      "[(3, 'DEL a'), (1, 'ADD b'), (2, 'SUB a => b')]\n",
      "[(4, 'DEL a'), (2, 'ADD c'), (3, 'SUB a => c')]\n",
      "[(5, 'DEL a'), (3, 'ADD d'), (4, 'SUB a => d')]\n",
      "[(1, 'DEL e'), (3, 'ADD a'), (2, 'SUB e => a')]\n",
      "[(2, 'DEL e'), (2, 'ADD b'), (1, 'SUB e => b')]\n",
      "[(3, 'DEL e'), (2, 'ADD c'), (2, 'SUB e => c')]\n",
      "[(4, 'DEL e'), (3, 'ADD d'), (3, 'SUB e => d')]\n",
      "[(2, 'DEL b'), (4, 'ADD a'), (3, 'SUB b => a')]\n",
      "[(2, 'DEL b'), (3, 'ADD b'), (1, '')]\n",
      "[(3, 'DEL b'), (2, 'ADD c'), (2, 'SUB b => c')]\n",
      "[(4, 'DEL b'), (3, 'ADD d'), (3, 'SUB b => d')]\n",
      "[(3, 'DEL d'), (5, 'ADD a'), (4, 'SUB d => a')]\n",
      "[(2, 'DEL d'), (4, 'ADD b'), (3, 'SUB d => b')]\n",
      "[(3, 'DEL d'), (3, 'ADD c'), (2, 'SUB d => c')]\n",
      "[(4, 'DEL d'), (3, 'ADD d'), (2, '')]\n"
     ]
    },
    {
     "data": {
      "text/plain": [
       "2"
      ]
     },
     "execution_count": 80,
     "metadata": {},
     "output_type": "execute_result"
    }
   ],
   "source": [
    "edit_distance('aebd', 'abcd')"
   ]
  },
  {
   "cell_type": "code",
   "execution_count": 75,
   "metadata": {},
   "outputs": [
    {
     "data": {
      "text/plain": [
       "{('a', 'a'): '',\n",
       " ('a', 'ab'): 'ADD b',\n",
       " ('a', 'abc'): 'ADD c',\n",
       " ('a', 'abcd'): 'ADD d',\n",
       " ('ae', 'a'): 'DEL e',\n",
       " ('ae', 'ab'): 'SUB e => b',\n",
       " ('ae', 'abc'): 'ADD c',\n",
       " ('ae', 'abcd'): 'ADD d',\n",
       " ('aeb', 'a'): 'DEL b',\n",
       " ('aeb', 'ab'): '',\n",
       " ('aeb', 'abc'): 'ADD c',\n",
       " ('aeb', 'abcd'): 'ADD d',\n",
       " ('aebd', 'a'): 'DEL d',\n",
       " ('aebd', 'ab'): 'DEL d',\n",
       " ('aebd', 'abc'): 'SUB d => c',\n",
       " ('aebd', 'abcd'): ''}"
      ]
     },
     "execution_count": 75,
     "metadata": {},
     "output_type": "execute_result"
    }
   ],
   "source": [
    "solution_"
   ]
  },
  {
   "cell_type": "code",
   "execution_count": 76,
   "metadata": {},
   "outputs": [
    {
     "data": {
      "text/plain": [
       "12"
      ]
     },
     "execution_count": 76,
     "metadata": {},
     "output_type": "execute_result"
    }
   ],
   "source": [
    "edit_distance('c1297BCF9', '8899cABCDEFHNEDF')"
   ]
  },
  {
   "cell_type": "code",
   "execution_count": 57,
   "metadata": {},
   "outputs": [
    {
     "data": {
      "text/plain": [
       "{('c', '8'): 'SUB c => 8',\n",
       " ('c', '88'): 'ADD 8',\n",
       " ('c', '889'): 'ADD 9',\n",
       " ('c', '8899'): 'ADD 9',\n",
       " ('c', '8899c'): '',\n",
       " ('c', '8899cA'): 'ADD A',\n",
       " ('c', '8899cAB'): 'ADD B',\n",
       " ('c', '8899cABC'): 'ADD C',\n",
       " ('c', '8899cABCD'): 'ADD D',\n",
       " ('c', '8899cABCDE'): 'ADD E',\n",
       " ('c', '8899cABCDEF'): 'ADD F',\n",
       " ('c', '8899cABCDEFH'): 'ADD H',\n",
       " ('c', '8899cABCDEFHN'): 'ADD N',\n",
       " ('c', '8899cABCDEFHNE'): 'ADD E',\n",
       " ('c', '8899cABCDEFHNED'): 'ADD D',\n",
       " ('c', '8899cABCDEFHNEDF'): 'ADD F',\n",
       " ('c1', '8'): 'DEL 1',\n",
       " ('c1', '88'): 'SUB 1 => 8',\n",
       " ('c1', '889'): 'ADD 9',\n",
       " ('c1', '8899'): 'ADD 9',\n",
       " ('c1', '8899c'): 'DEL 1',\n",
       " ('c1', '8899cA'): 'SUB 1 => A',\n",
       " ('c1', '8899cAB'): 'ADD B',\n",
       " ('c1', '8899cABC'): 'ADD C',\n",
       " ('c1', '8899cABCD'): 'ADD D',\n",
       " ('c1', '8899cABCDE'): 'ADD E',\n",
       " ('c1', '8899cABCDEF'): 'ADD F',\n",
       " ('c1', '8899cABCDEFH'): 'ADD H',\n",
       " ('c1', '8899cABCDEFHN'): 'ADD N',\n",
       " ('c1', '8899cABCDEFHNE'): 'ADD E',\n",
       " ('c1', '8899cABCDEFHNED'): 'ADD D',\n",
       " ('c1', '8899cABCDEFHNEDF'): 'ADD F',\n",
       " ('c12', '8'): 'DEL 2',\n",
       " ('c12', '88'): 'DEL 2',\n",
       " ('c12', '889'): 'SUB 2 => 9',\n",
       " ('c12', '8899'): 'ADD 9',\n",
       " ('c12', '8899c'): 'ADD c',\n",
       " ('c12', '8899cA'): 'DEL 2',\n",
       " ('c12', '8899cAB'): 'SUB 2 => B',\n",
       " ('c12', '8899cABC'): 'ADD C',\n",
       " ('c12', '8899cABCD'): 'ADD D',\n",
       " ('c12', '8899cABCDE'): 'ADD E',\n",
       " ('c12', '8899cABCDEF'): 'ADD F',\n",
       " ('c12', '8899cABCDEFH'): 'ADD H',\n",
       " ('c12', '8899cABCDEFHN'): 'ADD N',\n",
       " ('c12', '8899cABCDEFHNE'): 'ADD E',\n",
       " ('c12', '8899cABCDEFHNED'): 'ADD D',\n",
       " ('c12', '8899cABCDEFHNEDF'): 'ADD F',\n",
       " ('c129', '8'): 'DEL 9',\n",
       " ('c129', '88'): 'DEL 9',\n",
       " ('c129', '889'): '',\n",
       " ('c129', '8899'): '',\n",
       " ('c129', '8899c'): 'ADD c',\n",
       " ('c129', '8899cA'): 'ADD A',\n",
       " ('c129', '8899cAB'): 'ADD B',\n",
       " ('c129', '8899cABC'): 'ADD C',\n",
       " ('c129', '8899cABCD'): 'ADD D',\n",
       " ('c129', '8899cABCDE'): 'ADD E',\n",
       " ('c129', '8899cABCDEF'): 'ADD F',\n",
       " ('c129', '8899cABCDEFH'): 'ADD H',\n",
       " ('c129', '8899cABCDEFHN'): 'ADD N',\n",
       " ('c129', '8899cABCDEFHNE'): 'ADD E',\n",
       " ('c129', '8899cABCDEFHNED'): 'ADD D',\n",
       " ('c129', '8899cABCDEFHNEDF'): 'ADD F',\n",
       " ('c1297', '8'): 'DEL 7',\n",
       " ('c1297', '88'): 'DEL 7',\n",
       " ('c1297', '889'): 'DEL 7',\n",
       " ('c1297', '8899'): 'DEL 7',\n",
       " ('c1297', '8899c'): 'SUB 7 => c',\n",
       " ('c1297', '8899cA'): 'ADD A',\n",
       " ('c1297', '8899cAB'): 'ADD B',\n",
       " ('c1297', '8899cABC'): 'ADD C',\n",
       " ('c1297', '8899cABCD'): 'ADD D',\n",
       " ('c1297', '8899cABCDE'): 'ADD E',\n",
       " ('c1297', '8899cABCDEF'): 'ADD F',\n",
       " ('c1297', '8899cABCDEFH'): 'ADD H',\n",
       " ('c1297', '8899cABCDEFHN'): 'ADD N',\n",
       " ('c1297', '8899cABCDEFHNE'): 'ADD E',\n",
       " ('c1297', '8899cABCDEFHNED'): 'ADD D',\n",
       " ('c1297', '8899cABCDEFHNEDF'): 'ADD F',\n",
       " ('c1297B', '8'): 'DEL B',\n",
       " ('c1297B', '88'): 'DEL B',\n",
       " ('c1297B', '889'): 'DEL B',\n",
       " ('c1297B', '8899'): 'DEL B',\n",
       " ('c1297B', '8899c'): 'DEL B',\n",
       " ('c1297B', '8899cA'): 'SUB B => A',\n",
       " ('c1297B', '8899cAB'): '',\n",
       " ('c1297B', '8899cABC'): 'ADD C',\n",
       " ('c1297B', '8899cABCD'): 'ADD D',\n",
       " ('c1297B', '8899cABCDE'): 'ADD E',\n",
       " ('c1297B', '8899cABCDEF'): 'ADD F',\n",
       " ('c1297B', '8899cABCDEFH'): 'ADD H',\n",
       " ('c1297B', '8899cABCDEFHN'): 'ADD N',\n",
       " ('c1297B', '8899cABCDEFHNE'): 'ADD E',\n",
       " ('c1297B', '8899cABCDEFHNED'): 'ADD D',\n",
       " ('c1297B', '8899cABCDEFHNEDF'): 'ADD F',\n",
       " ('c1297BC', '8'): 'DEL C',\n",
       " ('c1297BC', '88'): 'DEL C',\n",
       " ('c1297BC', '889'): 'DEL C',\n",
       " ('c1297BC', '8899'): 'DEL C',\n",
       " ('c1297BC', '8899c'): 'DEL C',\n",
       " ('c1297BC', '8899cA'): 'DEL C',\n",
       " ('c1297BC', '8899cAB'): 'DEL C',\n",
       " ('c1297BC', '8899cABC'): '',\n",
       " ('c1297BC', '8899cABCD'): 'ADD D',\n",
       " ('c1297BC', '8899cABCDE'): 'ADD E',\n",
       " ('c1297BC', '8899cABCDEF'): 'ADD F',\n",
       " ('c1297BC', '8899cABCDEFH'): 'ADD H',\n",
       " ('c1297BC', '8899cABCDEFHN'): 'ADD N',\n",
       " ('c1297BC', '8899cABCDEFHNE'): 'ADD E',\n",
       " ('c1297BC', '8899cABCDEFHNED'): 'ADD D',\n",
       " ('c1297BC', '8899cABCDEFHNEDF'): 'ADD F',\n",
       " ('c1297BCF', '8'): 'DEL F',\n",
       " ('c1297BCF', '88'): 'DEL F',\n",
       " ('c1297BCF', '889'): 'DEL F',\n",
       " ('c1297BCF', '8899'): 'DEL F',\n",
       " ('c1297BCF', '8899c'): 'DEL F',\n",
       " ('c1297BCF', '8899cA'): 'DEL F',\n",
       " ('c1297BCF', '8899cAB'): 'DEL F',\n",
       " ('c1297BCF', '8899cABC'): 'DEL F',\n",
       " ('c1297BCF', '8899cABCD'): 'SUB F => D',\n",
       " ('c1297BCF', '8899cABCDE'): 'ADD E',\n",
       " ('c1297BCF', '8899cABCDEF'): '',\n",
       " ('c1297BCF', '8899cABCDEFH'): 'ADD H',\n",
       " ('c1297BCF', '8899cABCDEFHN'): 'ADD N',\n",
       " ('c1297BCF', '8899cABCDEFHNE'): 'ADD E',\n",
       " ('c1297BCF', '8899cABCDEFHNED'): 'ADD D',\n",
       " ('c1297BCF', '8899cABCDEFHNEDF'): 'ADD F',\n",
       " ('c1297BCF9', '8'): 'DEL 9',\n",
       " ('c1297BCF9', '88'): 'DEL 9',\n",
       " ('c1297BCF9', '889'): 'DEL 9',\n",
       " ('c1297BCF9', '8899'): '',\n",
       " ('c1297BCF9', '8899c'): 'DEL 9',\n",
       " ('c1297BCF9', '8899cA'): 'DEL 9',\n",
       " ('c1297BCF9', '8899cAB'): 'DEL 9',\n",
       " ('c1297BCF9', '8899cABC'): 'DEL 9',\n",
       " ('c1297BCF9', '8899cABCD'): 'DEL 9',\n",
       " ('c1297BCF9', '8899cABCDE'): 'SUB 9 => E',\n",
       " ('c1297BCF9', '8899cABCDEF'): 'DEL 9',\n",
       " ('c1297BCF9', '8899cABCDEFH'): 'SUB 9 => H',\n",
       " ('c1297BCF9', '8899cABCDEFHN'): 'ADD N',\n",
       " ('c1297BCF9', '8899cABCDEFHNE'): 'ADD E',\n",
       " ('c1297BCF9', '8899cABCDEFHNED'): 'ADD D',\n",
       " ('c1297BCF9', '8899cABCDEFHNEDF'): 'ADD F'}"
      ]
     },
     "execution_count": 57,
     "metadata": {},
     "output_type": "execute_result"
    }
   ],
   "source": [
    "solution_"
   ]
  },
  {
   "cell_type": "markdown",
   "metadata": {},
   "source": [
    "## 3.Longest common substring with matrix\n",
    "> 最长公共子串"
   ]
  },
  {
   "cell_type": "code",
   "execution_count": 56,
   "metadata": {},
   "outputs": [],
   "source": [
    "def longest_substring_matrix(str1, str2):\n",
    "    \"\"\"\n",
    "    Return all the longest common substring of two strings.\n",
    "    \"\"\"\n",
    "    result = []\n",
    "    row, column = len(str1), len(str2)\n",
    "    matrix = np.zeros((row, column), dtype=int)\n",
    "    for i, char1 in enumerate(str1):\n",
    "        for j, char2 in enumerate(str2):\n",
    "            if char1 == char2:\n",
    "                matrix[i, j] = matrix[i-1, j-1] + 1\n",
    "    print(matrix)\n",
    "    print(args)\n",
    "    for arg in args:\n",
    "        index_ = arg[0]\n",
    "        result.append(str1[index_ - max_ + 1 : index_ + 1])\n",
    "    return max_, set(result)"
   ]
  },
  {
   "cell_type": "code",
   "execution_count": 57,
   "metadata": {},
   "outputs": [
    {
     "name": "stdout",
     "output_type": "stream",
     "text": [
      "[[1 0 0 0 0 0 0 0 0 0 0 0 0 0 0 0 0 0 0 0 0 0 0 0 0 0 0 0 0 0 0]\n",
      " [0 2 0 0 0 0 0 1 0 0 0 0 0 0 0 0 1 0 0 0 0 0 0 0 1 0 0 1 0 0 0]\n",
      " [0 0 3 1 0 0 0 0 2 1 0 1 0 1 0 0 0 0 1 0 0 1 0 0 0 0 0 0 2 1 0]\n",
      " [0 0 1 4 0 0 0 0 1 3 0 1 0 1 0 0 0 0 1 0 0 1 0 0 0 0 0 0 1 3 0]\n",
      " [0 0 0 0 0 0 0 0 0 0 4 0 0 0 2 0 0 0 0 0 0 0 2 0 0 0 0 0 0 0 4]\n",
      " [0 0 0 0 0 0 0 0 0 0 0 0 0 0 0 3 0 0 0 0 0 0 0 3 0 0 0 0 0 0 0]\n",
      " [0 1 0 0 0 0 0 1 0 0 0 0 0 0 0 0 4 0 0 0 0 0 0 0 4 0 0 1 0 0 0]\n",
      " [0 0 2 1 0 0 0 0 2 1 0 1 0 1 0 0 0 0 1 0 0 1 0 0 0 0 0 0 2 1 0]]\n",
      "[[ 3  3]\n",
      " [ 4 10]\n",
      " [ 4 30]\n",
      " [ 6 16]\n",
      " [ 6 24]]\n"
     ]
    },
    {
     "data": {
      "text/plain": [
       "(4, {'ello', 'hell', 'lowe'})"
      ]
     },
     "execution_count": 57,
     "metadata": {},
     "output_type": "execute_result"
    }
   ],
   "source": [
    "longest_substring_matrix('hellowel', 'hellfadellolflowedlfalowefsello')"
   ]
  },
  {
   "cell_type": "code",
   "execution_count": 58,
   "metadata": {},
   "outputs": [
    {
     "name": "stdout",
     "output_type": "stream",
     "text": [
      "[[1 0 0 0 0]\n",
      " [0 0 1 0 0]\n",
      " [0 0 0 2 0]\n",
      " [0 1 0 0 3]]\n",
      "[[3 4]]\n"
     ]
    },
    {
     "data": {
      "text/plain": [
       "(3, {'ish'})"
      ]
     },
     "execution_count": 58,
     "metadata": {},
     "output_type": "execute_result"
    }
   ],
   "source": [
    "longest_substring_matrix('fish', 'fhish')"
   ]
  },
  {
   "cell_type": "markdown",
   "metadata": {},
   "source": [
    "## 4.Longest common subsequence with matrix\n",
    "> 最长公共子序列"
   ]
  },
  {
   "cell_type": "code",
   "execution_count": 59,
   "metadata": {},
   "outputs": [],
   "source": [
    "def longest_subsequence_matrix(str1, str2):\n",
    "    \"\"\"\n",
    "    Return the longest common subsequence of two strings, return one of them if there are mutiple solution with same \n",
    "    length.\n",
    "    \"\"\"\n",
    "    str1, str2 = ' '+ str1, ' '+ str2\n",
    "    index_ = []\n",
    "    len_1, len_2 = len(str1), len(str2)\n",
    "    if str1 and str2:\n",
    "        matrix = np.zeros((len_1, len_2), dtype=np.int)\n",
    "        for i, char1 in enumerate(str1):\n",
    "            if i == 0: continue\n",
    "            for j, char2 in enumerate(str2):\n",
    "                if j == 0: continue\n",
    "                if char1 == char2:\n",
    "                    matrix[i, j] = matrix[i - 1, j - 1] + 1\n",
    "                else:\n",
    "                    matrix[i, j] = max(matrix[i, j - 1], matrix[i - 1, j])\n",
    "                    \n",
    "        target = np.max(matrix)\n",
    "        \n",
    "        for i in range(1, target + 1):\n",
    "            # 找出第一个加1的数\n",
    "            # 行小于列，以行索引取最小，反之，以列索引取最小\n",
    "            flag = 0 if len_1 < len_2 else 1\n",
    "            temp = min(np.argwhere(matrix == i), key = lambda x: x[flag])\n",
    "            index_.append(temp)  \n",
    "            \n",
    "        result = [str1[i[0]] for i in index_]\n",
    "        print(matrix)\n",
    "        return target, result\n",
    "    else:\n",
    "        return len_1 -1  if str1 else len_2 - 1"
   ]
  },
  {
   "cell_type": "code",
   "execution_count": 60,
   "metadata": {},
   "outputs": [
    {
     "name": "stdout",
     "output_type": "stream",
     "text": [
      "[[0 0 0 0 0 0 0 0 0]\n",
      " [0 1 1 1 1 1 1 1 1]\n",
      " [0 1 1 1 1 1 1 1 1]\n",
      " [0 1 2 2 2 2 2 2 2]\n",
      " [0 1 2 2 2 2 2 2 2]\n",
      " [0 1 2 3 3 3 3 3 3]\n",
      " [0 1 2 3 4 4 4 4 4]\n",
      " [0 1 2 3 4 4 4 4 4]\n",
      " [0 1 2 3 4 5 5 5 5]\n",
      " [0 1 2 3 4 5 5 5 5]\n",
      " [0 1 2 3 4 5 6 6 6]\n",
      " [0 1 2 3 4 5 6 6 6]\n",
      " [0 1 2 3 4 5 6 6 6]\n",
      " [0 1 2 3 4 5 6 7 7]\n",
      " [0 1 2 3 4 5 6 7 7]\n",
      " [0 1 2 3 4 5 6 7 7]\n",
      " [0 1 2 3 4 5 6 7 7]\n",
      " [0 1 2 3 4 5 6 7 8]]\n"
     ]
    },
    {
     "data": {
      "text/plain": [
       "(8, ['h', 'e', 'l', 'l', 'o', 'y', 'o', 'u'])"
      ]
     },
     "execution_count": 60,
     "metadata": {},
     "output_type": "execute_result"
    }
   ],
   "source": [
    "longest_subsequence_matrix('h1e2ll3o2y34o234u', 'helloyou')"
   ]
  },
  {
   "cell_type": "code",
   "execution_count": 61,
   "metadata": {},
   "outputs": [
    {
     "name": "stdout",
     "output_type": "stream",
     "text": [
      "[[0 0 0 0 0 0 0]\n",
      " [0 0 0 0 1 1 1]\n",
      " [0 1 1 1 1 1 1]\n",
      " [0 1 2 2 2 2 2]\n",
      " [0 1 2 3 3 3 3]\n",
      " [0 1 2 3 3 3 3]\n",
      " [0 1 2 3 3 4 4]\n",
      " [0 1 2 3 3 4 5]]\n"
     ]
    },
    {
     "data": {
      "text/plain": [
       "(5, ['B', 'C', 'D', 'F', 'G'])"
      ]
     },
     "execution_count": 61,
     "metadata": {},
     "output_type": "execute_result"
    }
   ],
   "source": [
    "longest_subsequence_matrix('ABCDEFG', 'BCDAFG')"
   ]
  },
  {
   "cell_type": "markdown",
   "metadata": {},
   "source": [
    "## 5.dijsktra算法\n",
    "![](./graph.png)"
   ]
  },
  {
   "cell_type": "code",
   "execution_count": 15,
   "metadata": {},
   "outputs": [],
   "source": [
    "inf = float('inf')"
   ]
  },
  {
   "cell_type": "code",
   "execution_count": 16,
   "metadata": {},
   "outputs": [],
   "source": [
    "graph = {\n",
    "    'start': {'a': 6, 'b': 2},\n",
    "    'a': {'fin' : 1},\n",
    "    'b': {'a': 3, 'fin': 5},\n",
    "    'fin': {}\n",
    "}\n",
    "costs = {\n",
    "    'a': 6,\n",
    "    'b': 2,\n",
    "    'fin': inf\n",
    "}\n",
    "parents = {\n",
    "    'a': 'start',\n",
    "    'b': 'start',\n",
    "    'fin': None\n",
    "}\n",
    "processed = []"
   ]
  },
  {
   "cell_type": "code",
   "execution_count": 19,
   "metadata": {},
   "outputs": [],
   "source": [
    "# del r\n",
    "r = ['start']\n",
    "def find_lowest_cost_node(costs):\n",
    "    result = list(filter(lambda x: x[0] not in processed, sorted(costs.items(), key=lambda x: x[1])))\n",
    "    return result[0][0] if result else None\n",
    "\n",
    "def get_next_(result, key='start'):\n",
    "    for k, v in result.items():\n",
    "        if k == key:\n",
    "            r.append(v)\n",
    "            get_next_(result, v)\n",
    "    return r\n",
    "        \n",
    "def dijsktra_algorithm(graph=graph, costs=costs, parents=parents):\n",
    "    node = find_lowest_cost_node(costs)\n",
    "    result = {}\n",
    "    while node is not None:\n",
    "        cost = costs[node]\n",
    "        neighbors = graph[node]\n",
    "        for n in neighbors.keys():\n",
    "            new_cost = cost + neighbors[n]\n",
    "            if costs[n] > new_cost:\n",
    "                costs[n] = new_cost\n",
    "                parents[n] = node\n",
    "        processed.append(node)\n",
    "        node = find_lowest_cost_node(costs)\n",
    "    result = {v:k for k,v in parents.items()}\n",
    "    result = get_next_(result)\n",
    "    return ' -> '.join(result), costs['fin']"
   ]
  },
  {
   "cell_type": "code",
   "execution_count": 20,
   "metadata": {},
   "outputs": [
    {
     "data": {
      "text/plain": [
       "('start -> b -> a -> fin', 6)"
      ]
     },
     "execution_count": 20,
     "metadata": {},
     "output_type": "execute_result"
    }
   ],
   "source": [
    "dijsktra_algorithm()"
   ]
  },
  {
   "cell_type": "code",
   "execution_count": 42,
   "metadata": {},
   "outputs": [],
   "source": [
    "np.random.seed(1)\n",
    "y = np.random.randn(10)\n",
    "np.random.seed(2)\n",
    "z = np.random.randn(10)\n",
    "np.random.seed(1)\n",
    "x = np.random.randn(10)"
   ]
  },
  {
   "cell_type": "code",
   "execution_count": 43,
   "metadata": {},
   "outputs": [
    {
     "data": {
      "text/plain": [
       "array([ 1.62434536, -0.61175641, -0.52817175, -1.07296862,  0.86540763,\n",
       "       -2.3015387 ,  1.74481176, -0.7612069 ,  0.3190391 , -0.24937038])"
      ]
     },
     "execution_count": 43,
     "metadata": {},
     "output_type": "execute_result"
    }
   ],
   "source": [
    "x"
   ]
  },
  {
   "cell_type": "code",
   "execution_count": 44,
   "metadata": {},
   "outputs": [
    {
     "data": {
      "text/plain": [
       "array([ 1.62434536, -0.61175641, -0.52817175, -1.07296862,  0.86540763,\n",
       "       -2.3015387 ,  1.74481176, -0.7612069 ,  0.3190391 , -0.24937038])"
      ]
     },
     "execution_count": 44,
     "metadata": {},
     "output_type": "execute_result"
    }
   ],
   "source": [
    "y"
   ]
  },
  {
   "cell_type": "code",
   "execution_count": 45,
   "metadata": {},
   "outputs": [
    {
     "data": {
      "text/plain": [
       "array([-0.41675785, -0.05626683, -2.1361961 ,  1.64027081, -1.79343559,\n",
       "       -0.84174737,  0.50288142, -1.24528809, -1.05795222, -0.90900761])"
      ]
     },
     "execution_count": 45,
     "metadata": {},
     "output_type": "execute_result"
    }
   ],
   "source": [
    "z"
   ]
  },
  {
   "cell_type": "code",
   "execution_count": 46,
   "metadata": {},
   "outputs": [],
   "source": [
    "np.random.seed(2)\n",
    "z1= np.random.randn(10)"
   ]
  },
  {
   "cell_type": "code",
   "execution_count": 47,
   "metadata": {},
   "outputs": [
    {
     "data": {
      "text/plain": [
       "array([-0.41675785, -0.05626683, -2.1361961 ,  1.64027081, -1.79343559,\n",
       "       -0.84174737,  0.50288142, -1.24528809, -1.05795222, -0.90900761])"
      ]
     },
     "execution_count": 47,
     "metadata": {},
     "output_type": "execute_result"
    }
   ],
   "source": [
    "z1"
   ]
  },
  {
   "cell_type": "code",
   "execution_count": null,
   "metadata": {},
   "outputs": [],
   "source": []
  }
 ],
 "metadata": {
  "kernelspec": {
   "display_name": "Python 3",
   "language": "python",
   "name": "python3"
  },
  "language_info": {
   "codemirror_mode": {
    "name": "ipython",
    "version": 3
   },
   "file_extension": ".py",
   "mimetype": "text/x-python",
   "name": "python",
   "nbconvert_exporter": "python",
   "pygments_lexer": "ipython3",
   "version": "3.7.3"
  }
 },
 "nbformat": 4,
 "nbformat_minor": 2
}
