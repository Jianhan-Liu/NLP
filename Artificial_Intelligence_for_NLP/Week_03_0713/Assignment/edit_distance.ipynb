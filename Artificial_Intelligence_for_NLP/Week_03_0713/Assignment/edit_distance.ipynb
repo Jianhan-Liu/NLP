{
 "cells": [
  {
   "cell_type": "markdown",
   "metadata": {},
   "source": [
    "## 1.Edit distance with matrix\n",
    "> 参考视频：https://www.youtube.com/watch?v=We3YDTzNXEk"
   ]
  },
  {
   "cell_type": "code",
   "execution_count": 285,
   "metadata": {},
   "outputs": [],
   "source": [
    "import numpy as np"
   ]
  },
  {
   "cell_type": "code",
   "execution_count": 342,
   "metadata": {},
   "outputs": [],
   "source": [
    "class EditDistance:\n",
    "    def __init__(self):\n",
    "        self.solution = {}\n",
    "    @staticmethod\n",
    "    def edit_distance_with_matrix(str1, str2):\n",
    "        len_1, len_2 = len(str1) + 1, len(str2) + 1\n",
    "        if str1 and str2:\n",
    "            matrix = np.zeros((len_2, len_1), dtype=np.int)\n",
    "            matrix[0, :] = np.arange(len_1)\n",
    "            matrix[:, 0] = np.arange(len_2)\n",
    "            for i, char1 in enumerate(str2):\n",
    "                for j, char2 in enumerate(str1):\n",
    "                    if char1 == char2:\n",
    "                        matrix[i + 1, j + 1] = matrix[i, j]\n",
    "                    else:\n",
    "                        matrix[i + 1, j + 1] = min(matrix[i, j + 1], matrix[i, j], matrix[i + 1, j]) + 1\n",
    "\n",
    "            return matrix[len_2 -1 , len_1 - 1], matrix\n",
    "        else:\n",
    "            return len_1 -1  if str1 else len_2 - 1\n",
    "    \n",
    "    def get_matrix_solution(self, matrix):\n",
    "        \"\"\"\n",
    "        Up refers to insert; left refers to delete; digonal refers to substating.\n",
    "        \"\"\"\n",
    "        r, c = matrix.shape\n",
    "        if r < 2 and c > 2:\n",
    "            for _ in matrix[0, :c-1]:\n",
    "                self.solution[_+1] = f\"delete str1.({_})\"\n",
    "            return\n",
    "        elif c < 2 and r > 2:\n",
    "            for _ in matrix[:r-1, 0]:\n",
    "                self.solution[_ + 1] = f\"str1.({0}) + str2.({_})\"\n",
    "            return\n",
    "        row, column = np.array(matrix.shape) - 1\n",
    "        target = matrix[row, column]\n",
    "        up = row - 1, column\n",
    "        left = row, column - 1\n",
    "        diag = row - 1, column - 1\n",
    "\n",
    "        temp = min(matrix[diag], matrix[up], matrix[left])\n",
    "\n",
    "        # 以下if控制语句的顺序不可变，即从up -> left -> diag顺序判断\n",
    "        if target == temp + 1:\n",
    "            if target == matrix[up] + 1:\n",
    "                self.solution[target] = f\"str1.({column - 1}) + str2.({row - 1})\"\n",
    "                return self.get_matrix_solution(matrix[:row, :])\n",
    "            elif target == matrix[left] + 1:\n",
    "                self.solution[target] = f\"delete str1.({column - 1})\"\n",
    "                return self.get_matrix_solution(matrix[:, :column])\n",
    "            elif target == matrix[diag] + 1:\n",
    "                self.solution[target] = f\"str1.({column - 1}) -> str2.({row - 1})\"\n",
    "                return self.get_matrix_solution(matrix[:row,:column])\n",
    "        return self.get_matrix_solution(matrix[:row,:column])\n",
    "    \n",
    "    def get_solution(self):\n",
    "        return sorted(self.solution.items())"
   ]
  },
  {
   "cell_type": "code",
   "execution_count": 343,
   "metadata": {},
   "outputs": [
    {
     "name": "stdout",
     "output_type": "stream",
     "text": [
      "[[ 0  1  2  3  4  5  6  7  8]\n",
      " [ 1  1  2  3  4  5  6  7  8]\n",
      " [ 2  2  2  3  4  5  6  7  8]\n",
      " [ 3  3  3  3  4  5  6  7  8]\n",
      " [ 4  4  4  4  4  5  6  7  8]\n",
      " [ 5  5  5  5  5  5  6  7  8]\n",
      " [ 6  5  6  6  6  6  6  7  8]\n",
      " [ 7  6  5  6  6  7  7  7  7]\n",
      " [ 8  7  6  5  6  7  8  8  8]\n",
      " [ 9  8  7  6  6  6  7  8  9]\n",
      " [10  9  8  7  7  7  6  7  8]\n",
      " [11 10  9  8  8  8  7  6  7]]\n",
      "7\n"
     ]
    },
    {
     "data": {
      "text/plain": [
       "[(1, 'str1.(0) + str2.(0)'),\n",
       " (2, 'str1.(0) + str2.(1)'),\n",
       " (3, 'str1.(0) + str2.(2)'),\n",
       " (4, 'str1.(0) + str2.(3)'),\n",
       " (5, 'str1.(0) + str2.(4)'),\n",
       " (6, 'delete str1.(3)'),\n",
       " (7, 'delete str1.(7)')]"
      ]
     },
     "execution_count": 343,
     "metadata": {},
     "output_type": "execute_result"
    }
   ],
   "source": [
    "test = EditDistance()\n",
    "step, matrix_ = test.edit_distance_with_matrix('welecome', 'stinfwelcom')\n",
    "test.get_matrix_solution(matrix_)\n",
    "print(matrix_)\n",
    "print(step)\n",
    "test.get_solution()"
   ]
  },
  {
   "cell_type": "code",
   "execution_count": 345,
   "metadata": {},
   "outputs": [
    {
     "name": "stdout",
     "output_type": "stream",
     "text": [
      "[[ 0  1  2  3  4  5  6  7  8  9 10 11]\n",
      " [ 1  1  2  3  4  5  5  6  7  8  9 10]\n",
      " [ 2  2  2  3  4  5  6  5  6  7  8  9]\n",
      " [ 3  3  3  3  4  5  6  6  5  6  7  8]\n",
      " [ 4  4  4  4  4  5  6  6  6  6  7  8]\n",
      " [ 5  5  5  5  5  5  6  7  7  6  7  8]\n",
      " [ 6  6  6  6  6  6  6  7  8  7  6  7]\n",
      " [ 7  7  7  7  7  7  7  7  8  8  7  6]\n",
      " [ 8  8  8  8  8  8  8  7  8  9  8  7]]\n",
      "7\n"
     ]
    },
    {
     "data": {
      "text/plain": [
       "[(1, 'delete str1.(0)'),\n",
       " (2, 'delete str1.(1)'),\n",
       " (3, 'delete str1.(2)'),\n",
       " (4, 'delete str1.(3)'),\n",
       " (5, 'delete str1.(4)'),\n",
       " (6, 'str1.(7) + str2.(3)'),\n",
       " (7, 'str1.(10) + str2.(7)')]"
      ]
     },
     "execution_count": 345,
     "metadata": {},
     "output_type": "execute_result"
    }
   ],
   "source": [
    "test_ = EditDistance()\n",
    "step, matrix_ = test_.edit_distance_with_matrix('stinfwelcom', 'welecome')\n",
    "test_.get_matrix_solution(matrix_)\n",
    "print(matrix_)\n",
    "print(step)\n",
    "test_.get_solution()"
   ]
  },
  {
   "cell_type": "markdown",
   "metadata": {},
   "source": [
    "## 2.Edit distance with dynamic programming"
   ]
  },
  {
   "cell_type": "code",
   "execution_count": 308,
   "metadata": {},
   "outputs": [],
   "source": [
    "from functools import lru_cache"
   ]
  },
  {
   "cell_type": "code",
   "execution_count": 314,
   "metadata": {},
   "outputs": [],
   "source": [
    "del solution_\n",
    "solution_ = {}\n",
    "@lru_cache(maxsize=2**10)\n",
    "def edit_distance(string1, string2):\n",
    "    if string1 and string2:\n",
    "    \n",
    "        tail_s1 = string1[-1]\n",
    "        tail_s2 = string2[-1]\n",
    "\n",
    "        candidates = [\n",
    "            (edit_distance(string1[:-1], string2) + 1, 'DEL {}'.format(tail_s1)),  # string 1 delete tail\n",
    "            (edit_distance(string1, string2[:-1]) + 1, 'ADD {}'.format(tail_s2)),  # string 1 add tail of string2\n",
    "        ]\n",
    "\n",
    "        if tail_s1 == tail_s2:\n",
    "            both_forward = (edit_distance(string1[:-1], string2[:-1]) + 0, '')\n",
    "        else:\n",
    "            both_forward = (edit_distance(string1[:-1], string2[:-1]) + 1, 'SUB {} => {}'.format(tail_s1, tail_s2))\n",
    "\n",
    "        candidates.append(both_forward)\n",
    "\n",
    "        min_distance, operation = min(candidates, key=lambda x: x[0])\n",
    "\n",
    "        solution_[(string1, string2)] = operation \n",
    "\n",
    "        return min_distance\n",
    "    return len(string1) if string1 else len(string2)"
   ]
  },
  {
   "cell_type": "code",
   "execution_count": 315,
   "metadata": {},
   "outputs": [
    {
     "data": {
      "text/plain": [
       "4"
      ]
     },
     "execution_count": 315,
     "metadata": {},
     "output_type": "execute_result"
    }
   ],
   "source": [
    "edit_distance('abcdef', 'ab')"
   ]
  },
  {
   "cell_type": "code",
   "execution_count": 316,
   "metadata": {},
   "outputs": [
    {
     "data": {
      "text/plain": [
       "{('a', 'a'): '',\n",
       " ('a', 'ab'): 'ADD b',\n",
       " ('ab', 'a'): 'DEL b',\n",
       " ('ab', 'ab'): '',\n",
       " ('abc', 'a'): 'DEL c',\n",
       " ('abc', 'ab'): 'DEL c',\n",
       " ('abcd', 'a'): 'DEL d',\n",
       " ('abcd', 'ab'): 'DEL d',\n",
       " ('abcde', 'a'): 'DEL e',\n",
       " ('abcde', 'ab'): 'DEL e',\n",
       " ('abcdef', 'a'): 'DEL f',\n",
       " ('abcdef', 'ab'): 'DEL f'}"
      ]
     },
     "execution_count": 316,
     "metadata": {},
     "output_type": "execute_result"
    }
   ],
   "source": [
    "solution_"
   ]
  },
  {
   "cell_type": "code",
   "execution_count": 243,
   "metadata": {},
   "outputs": [
    {
     "data": {
      "text/plain": [
       "11"
      ]
     },
     "execution_count": 243,
     "metadata": {},
     "output_type": "execute_result"
    }
   ],
   "source": [
    "edit_distance('*executio123', 'ies*')"
   ]
  },
  {
   "cell_type": "code",
   "execution_count": 263,
   "metadata": {},
   "outputs": [
    {
     "data": {
      "text/plain": [
       "11"
      ]
     },
     "execution_count": 263,
     "metadata": {},
     "output_type": "execute_result"
    }
   ],
   "source": [
    "edit_distance('iest', '#executeio123')"
   ]
  },
  {
   "cell_type": "code",
   "execution_count": null,
   "metadata": {},
   "outputs": [],
   "source": []
  }
 ],
 "metadata": {
  "kernelspec": {
   "display_name": "Python 3",
   "language": "python",
   "name": "python3"
  },
  "language_info": {
   "codemirror_mode": {
    "name": "ipython",
    "version": 3
   },
   "file_extension": ".py",
   "mimetype": "text/x-python",
   "name": "python",
   "nbconvert_exporter": "python",
   "pygments_lexer": "ipython3",
   "version": "3.7.3"
  }
 },
 "nbformat": 4,
 "nbformat_minor": 2
}
