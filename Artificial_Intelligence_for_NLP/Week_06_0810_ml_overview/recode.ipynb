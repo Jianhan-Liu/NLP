{
 "cells": [
  {
   "cell_type": "markdown",
   "metadata": {},
   "source": [
    "# Evaluation method\n",
    "- Accuracy\n",
    "- Precision\n",
    "- Recall\n",
    "- F1/F2_score\n",
    "- AUC(area under curve)/AOC\n",
    "- MSE\n",
    "- Loss function\n",
    "- Underfitting\n",
    "- Overfitting\n",
    "- Lazy-learning & Eager-learning\n",
    "- Outliner\n",
    "- Bias and Variance --- how to balance between the dilemma\n",
    "- Train, validation, test\n",
    "    - Good memory vs Good learning"
   ]
  },
  {
   "cell_type": "code",
   "execution_count": null,
   "metadata": {},
   "outputs": [],
   "source": []
  }
 ],
 "metadata": {
  "kernelspec": {
   "display_name": "Python 3",
   "language": "python",
   "name": "python3"
  },
  "language_info": {
   "codemirror_mode": {
    "name": "ipython",
    "version": 3
   },
   "file_extension": ".py",
   "mimetype": "text/x-python",
   "name": "python",
   "nbconvert_exporter": "python",
   "pygments_lexer": "ipython3",
   "version": "3.6.2"
  }
 },
 "nbformat": 4,
 "nbformat_minor": 4
}
