{
 "cells": [
  {
   "cell_type": "markdown",
   "metadata": {},
   "source": [
    "## Lecture-03 Gradient Descent and Dymanic Programming"
   ]
  },
  {
   "cell_type": "markdown",
   "metadata": {},
   "source": [
    "In this week, we need complete following tasks:\n",
    "+ Re-review the course online programming; \n",
    "+ Choose 1 - 2 books which you interested and keep reading; \n",
    "+ Answer the review questions\n",
    "+ Prepare the basic requirement of our 1st project. "
   ]
  },
  {
   "cell_type": "markdown",
   "metadata": {},
   "source": [
    "### Part I Review the online programming. "
   ]
  },
  {
   "cell_type": "markdown",
   "metadata": {},
   "source": [
    "### Part 2: change loss function from $loss = \\frac{1}{n}\\sum{(y_i - \\hat{y_i})^2}$ to $loss = \\frac{1}{n}\\sum{|y_i - \\hat{y_i}|}$, and using your mathmatical knowledge to get the right partial formual. Implemen the gradient descent code."
   ]
  },
  {
   "cell_type": "code",
   "execution_count": 3,
   "metadata": {},
   "outputs": [],
   "source": [
    "from sklearn.datasets import load_boston\n",
    "import random\n",
    "\n",
    "data = load_boston()\n",
    "X_rm = data['data'][:, 5]\n",
    "Y = data['target']"
   ]
  },
  {
   "cell_type": "code",
   "execution_count": null,
   "metadata": {},
   "outputs": [],
   "source": [
    "# %%time\n",
    "learning_rate = random.random() / 10000\n",
    "theta_1 = random.random() * 200 - 100\n",
    "theta_0 = random.random() * 200 - 100\n",
    "min_loss = float('inf')\n",
    "update_count = 0\n",
    "flag = 1\n",
    "\n",
    "while flag:\n",
    "    update_count += 1\n",
    "    y_hat = X_rm * theta_1 + theta_0\n",
    "    current_loss = np.sum(np.abs(Y - y_hat)) / len(Y)\n",
    "    \n",
    "    if min_loss > current_loss:\n",
    "        difference = min_loss - current_loss\n",
    "        if update_count % 5000 == 0:\n",
    "            print(f\"{update_count} iteration: with loss {min_loss} : theta_1 = {theta_1}, theta_0 = {theta_0}\")            \n",
    "        min_loss = current_loss    \n",
    "        \n",
    "    theta_1 = theta_1 - learning_rate * np.sum(X_rm) / len(Y)\n",
    "    theta_0 = theta_0 - learning_rate * np.sum(X_rm) / len(Y)\n",
    "    \n",
    "    if difference <= 0.0001:\n",
    "        flag = 0\n",
    "print(f\"{update_count} iterations to get best theta with theta_1 = {theta_1} theta_0 = {theta_0}\")"
   ]
  },
  {
   "cell_type": "code",
   "execution_count": 10,
   "metadata": {},
   "outputs": [
    {
     "name": "stdout",
     "output_type": "stream",
     "text": [
      "17.913586144567148 -89.17956299119737\n"
     ]
    },
    {
     "data": {
      "image/png": "[encoded data removed]",
      "text/plain": [
       "<Figure size 720x720 with 1 Axes>"
      ]
     },
     "metadata": {
      "needs_background": "light"
     },
     "output_type": "display_data"
    }
   ],
   "source": [
    "%matplotlib inline\n",
    "import matplotlib.pyplot as plt\n",
    "best_y_hat = X_rm * theta_1 + theta_0\n",
    "print(theta_1, theta_0)\n",
    "plt.figure(figsize=(10,10))\n",
    "plt.scatter(X_rm, Y)\n",
    "plt.plot(X_rm, best_y_hat, color='red')\n",
    "plt.show()"
   ]
  },
  {
   "cell_type": "markdown",
   "metadata": {},
   "source": [
    "### Part 3: Finish the Solution Parse Part of Edit-Distance"
   ]
  },
  {
   "cell_type": "markdown",
   "metadata": {},
   "source": [
    "### 3.1 Edit distance with matrix table"
   ]
  },
  {
   "cell_type": "code",
   "execution_count": 1,
   "metadata": {},
   "outputs": [],
   "source": [
    "import numpy as np"
   ]
  },
  {
   "cell_type": "code",
   "execution_count": 1,
   "metadata": {},
   "outputs": [],
   "source": [
    "class EditDistance:\n",
    "    def __init__(self):\n",
    "        self.solution = {}\n",
    "    @staticmethod\n",
    "    def edit_distance_with_matrix(str1, str2):\n",
    "        len_1, len_2 = len(str1) + 1, len(str2) + 1\n",
    "        if str1 and str2:\n",
    "            matrix = np.zeros((len_2, len_1), dtype=np.int)\n",
    "            matrix[0, :] = np.arange(len_1)\n",
    "            matrix[:, 0] = np.arange(len_2)\n",
    "            for i, char1 in enumerate(str2):\n",
    "                for j, char2 in enumerate(str1):\n",
    "                    if char1 == char2:\n",
    "                        matrix[i + 1, j + 1] = matrix[i, j]\n",
    "                    else:\n",
    "                        matrix[i + 1, j + 1] = min(matrix[i, j + 1], matrix[i, j], matrix[i + 1, j]) + 1\n",
    "\n",
    "            return matrix[len_2 -1 , len_1 - 1], matrix\n",
    "        else:\n",
    "            return len_1 -1  if str1 else len_2 - 1\n",
    "    \n",
    "    def get_matrix_solution(self, matrix):\n",
    "        \"\"\"\n",
    "        Up refers to insert; left refers to delete; digonal refers to substating.\n",
    "        \"\"\"\n",
    "        r, c = matrix.shape\n",
    "        if r < 2:\n",
    "            for _ in matrix[0, :c-1]:\n",
    "                self.solution[_+1] = f\"delete str1.({_})\"\n",
    "            return\n",
    "        elif c < 2:\n",
    "            for _ in matrix[:r-1, 0]:\n",
    "                self.solution[_ + 1] = f\"str1.({0}) + str2.({_})\"\n",
    "            return\n",
    "\n",
    "        row, column = np.array(matrix.shape) - 1\n",
    "        target = matrix[row, column]\n",
    "        up = row - 1, column\n",
    "        left = row, column - 1\n",
    "        diag = row - 1, column - 1\n",
    "\n",
    "        temp = min(matrix[diag], matrix[up], matrix[left])\n",
    "\n",
    "        # 以下if控制语句的顺序不可变，即从up -> left -> diag顺序判断\n",
    "        if target == temp + 1:\n",
    "            if target == matrix[up] + 1:\n",
    "                self.solution[target] = f\"str1.({column - 1}) + str2.({row - 1})\"\n",
    "                return self.get_matrix_solution(matrix[:row, :])\n",
    "            elif target == matrix[left] + 1:\n",
    "                self.solution[target] = f\"delete str1.({column - 1})\"\n",
    "                return self.get_matrix_solution(matrix[:, :column])\n",
    "            elif target == matrix[diag] + 1:\n",
    "                self.solution[target] = f\"str1.({column - 1}) -> str2.({row - 1})\"\n",
    "                return self.get_matrix_solution(matrix[:row,:column])\n",
    "        return self.get_matrix_solution(matrix[:row,:column])\n",
    "    \n",
    "    def get_solution(self):\n",
    "        return sorted(self.solution.items())"
   ]
  },
  {
   "cell_type": "code",
   "execution_count": 3,
   "metadata": {},
   "outputs": [
    {
     "data": {
      "text/plain": [
       "[(1, 'str1.(0) + str2.(0)'),\n",
       " (2, 'str1.(0) + str2.(1)'),\n",
       " (3, 'str1.(0) + str2.(2)'),\n",
       " (4, 'str1.(0) + str2.(3)'),\n",
       " (5, 'str1.(0) + str2.(4)'),\n",
       " (6, 'delete str1.(3)'),\n",
       " (7, 'delete str1.(7)')]"
      ]
     },
     "execution_count": 3,
     "metadata": {},
     "output_type": "execute_result"
    }
   ],
   "source": [
    "test = EditDistance()\n",
    "step, matrix_ = test.edit_distance_with_matrix('welecome', 'stinfwelcom')\n",
    "test.get_matrix_solution(matrix_)\n",
    "test.get_solution()"
   ]
  },
  {
   "cell_type": "code",
   "execution_count": 4,
   "metadata": {},
   "outputs": [
    {
     "data": {
      "text/plain": [
       "[(1, 'delete str1.(0)'),\n",
       " (2, 'delete str1.(1)'),\n",
       " (3, 'delete str1.(2)'),\n",
       " (4, 'delete str1.(3)'),\n",
       " (5, 'delete str1.(4)'),\n",
       " (6, 'str1.(7) + str2.(3)'),\n",
       " (7, 'str1.(10) + str2.(7)')]"
      ]
     },
     "execution_count": 4,
     "metadata": {},
     "output_type": "execute_result"
    }
   ],
   "source": [
    "test_ = EditDistance()\n",
    "step, matrix_ = test_.edit_distance_with_matrix('stinfwelcom', 'welecome')\n",
    "test_.get_matrix_solution(matrix_)\n",
    "test_.get_solution()"
   ]
  },
  {
   "cell_type": "markdown",
   "metadata": {},
   "source": [
    "### 3.2 Edit distance with DP"
   ]
  },
  {
   "cell_type": "code",
   "execution_count": 91,
   "metadata": {},
   "outputs": [],
   "source": [
    "from functools import lru_cache\n",
    "if 'solution_' in dir(): del solution_ \n",
    "solution_ = {}\n",
    "@lru_cache(maxsize=2**10)\n",
    "def edit_distance(string1, string2):\n",
    "    if string1 and string2:\n",
    "    \n",
    "        tail_s1 = string1[-1]\n",
    "        tail_s2 = string2[-1]\n",
    "\n",
    "        candidates = [\n",
    "            (edit_distance(string1[:-1], string2) + 1, 'DEL {}'.format(tail_s1)),  # string 1 delete tail\n",
    "            (edit_distance(string1, string2[:-1]) + 1, 'ADD {}'.format(tail_s2)),  # string 1 add tail of string2\n",
    "        ]\n",
    "\n",
    "        if tail_s1 == tail_s2:\n",
    "            both_forward = (edit_distance(string1[:-1], string2[:-1]) + 0, '')\n",
    "        else:\n",
    "            both_forward = (edit_distance(string1[:-1], string2[:-1]) + 1, 'SUB {} => {}'.format(tail_s1, tail_s2))\n",
    "\n",
    "        candidates.append(both_forward)\n",
    "\n",
    "        min_distance, operation = min(candidates, key=lambda x: x[0])\n",
    "\n",
    "        solution_[(string1, string2)] = operation \n",
    "        return min_distance\n",
    "    \n",
    "    return len(string1) if string1 else len(string2)\n",
    "\n",
    "# 又长又多余，待优化。\n",
    "def parse_solution(solution, str1, str2):\n",
    "    temp = str1, str2\n",
    "    result = []\n",
    "    while temp in solution:\n",
    "        action = solution[temp]\n",
    "        \n",
    "        if not action:\n",
    "            if len(temp[0]) == 1 and len(temp[1]) != 1:\n",
    "                temp = temp[0], temp[1][:-1]\n",
    "            elif len(temp[1]) == 1 and len(temp[0]) != 1:\n",
    "                temp = temp[0][:-1], temp[1]\n",
    "            else:    \n",
    "                temp = temp[0][:-1], temp[1][:-1]\n",
    "        elif action.startswith('SUB'):\n",
    "            result.append((temp, action))\n",
    "            temp = temp[0][:-1], temp[1][:-1]\n",
    "        elif action.startswith('ADD'):\n",
    "            result.append((temp, action))\n",
    "            temp = temp[0], temp[1][:-1]\n",
    "        else:\n",
    "            result.append((temp, action))\n",
    "            temp = temp[0][:-1], temp[1]\n",
    "            \n",
    "    return list(reversed(result))\n",
    "\n",
    "# 优化\n",
    "def stop_edit(str1, str2): return str1 == str2\n",
    "\n",
    "def parse_solution_(solution_dict,string1, string2):\n",
    "    parsed_solutions = []\n",
    "    \n",
    "    while not stop_edit(string1, string2):\n",
    "        \n",
    "        if not string1:\n",
    "            for char in string2:\n",
    "                parsed_solutions.append(f\"ADD {char}\")\n",
    "        if not string2:\n",
    "            for char in string1:\n",
    "                parsed_solutions.append(f\"DEL {char}\")\n",
    "                \n",
    "        operation = solution_dict.get((string1, string2), '')\n",
    "        if 'SUB' in operation:\n",
    "            string1, string2 = string1[:-1], string2[:-1]\n",
    "        elif operation == '':\n",
    "            string1, string2 = string1[:-1], string2[:-1]\n",
    "        elif 'DEL' in operation:\n",
    "            string1, string2 = string1[:-1], string2\n",
    "        elif 'ADD' in operation:\n",
    "            string1, string2 = string1, string2[:-1]            \n",
    "            \n",
    "        parsed_solutions.append(operation)\n",
    "    return [action for action in parsed_solutions if action]"
   ]
  },
  {
   "cell_type": "code",
   "execution_count": 81,
   "metadata": {},
   "outputs": [
    {
     "data": {
      "text/plain": [
       "3"
      ]
     },
     "execution_count": 81,
     "metadata": {},
     "output_type": "execute_result"
    }
   ],
   "source": [
    "edit_distance('beijing', 'nanjing')"
   ]
  },
  {
   "cell_type": "code",
   "execution_count": 82,
   "metadata": {},
   "outputs": [
    {
     "data": {
      "text/plain": [
       "[(('b', 'n'), 'SUB b => n'),\n",
       " (('be', 'na'), 'SUB e => a'),\n",
       " (('bei', 'nan'), 'SUB i => n')]"
      ]
     },
     "execution_count": 82,
     "metadata": {},
     "output_type": "execute_result"
    }
   ],
   "source": [
    "parse_solution(solution_, 'beijing', 'nanjing')"
   ]
  },
  {
   "cell_type": "code",
   "execution_count": 84,
   "metadata": {},
   "outputs": [
    {
     "data": {
      "text/plain": [
       "['SUB i => n', 'SUB e => a', 'SUB b => n']"
      ]
     },
     "execution_count": 84,
     "metadata": {},
     "output_type": "execute_result"
    }
   ],
   "source": [
    "parse_solution_(solution_, 'beijing', 'nanjing')"
   ]
  },
  {
   "cell_type": "code",
   "execution_count": null,
   "metadata": {},
   "outputs": [],
   "source": [
    "solution_"
   ]
  },
  {
   "cell_type": "code",
   "execution_count": 85,
   "metadata": {},
   "outputs": [
    {
     "data": {
      "text/plain": [
       "2"
      ]
     },
     "execution_count": 85,
     "metadata": {},
     "output_type": "execute_result"
    }
   ],
   "source": [
    "edit_distance('ago', 'got')"
   ]
  },
  {
   "cell_type": "code",
   "execution_count": 86,
   "metadata": {},
   "outputs": [
    {
     "data": {
      "text/plain": [
       "[(('a', 'g'), 'SUB a => g'), (('ago', 'got'), 'ADD t')]"
      ]
     },
     "execution_count": 86,
     "metadata": {},
     "output_type": "execute_result"
    }
   ],
   "source": [
    "parse_solution(solution_, 'ago', 'got')"
   ]
  },
  {
   "cell_type": "code",
   "execution_count": 87,
   "metadata": {},
   "outputs": [
    {
     "data": {
      "text/plain": [
       "['ADD t', 'DEL a']"
      ]
     },
     "execution_count": 87,
     "metadata": {},
     "output_type": "execute_result"
    }
   ],
   "source": [
    "parse_solution_(solution_, 'ago', 'got')"
   ]
  },
  {
   "cell_type": "code",
   "execution_count": 90,
   "metadata": {},
   "outputs": [
    {
     "data": {
      "text/plain": [
       "['DEL f', 'DEL d', 'DEL a', 'DEL o', 'DEL l', 'DEL l']"
      ]
     },
     "execution_count": 90,
     "metadata": {},
     "output_type": "execute_result"
    }
   ],
   "source": [
    "edit_distance('helloadf', 'he')\n",
    "parse_solution_(solution_,'helloadf', 'he')"
   ]
  },
  {
   "cell_type": "code",
   "execution_count": 92,
   "metadata": {},
   "outputs": [
    {
     "data": {
      "text/plain": [
       "['ADD k', 'ADD f', 'ADD d', 'ADD l', 'ADD a', 'ADD o', 'ADD l', 'ADD l']"
      ]
     },
     "execution_count": 92,
     "metadata": {},
     "output_type": "execute_result"
    }
   ],
   "source": [
    "edit_distance('he', 'helloaldfk')\n",
    "parse_solution_(solution_,'he', 'helloaldfk')"
   ]
  },
  {
   "cell_type": "markdown",
   "metadata": {},
   "source": [
    "### Part 4 Choose 1 - 2 books to keep reading: \n",
    "\n",
    "+ SICP, Structure and Interpretation of Computer Programming. 【计算机程序的构造与解释】\n",
    "+ Introduction to Algorithms 【算法导论】\n",
    "+ Artificial Intelligence A Modern Approach (3rd Edition) 【人工智能：一种现代方法】\n",
    "+ Code Complete 2 \n",
    "+ Programming Pearls \n",
    "+ Deep Learning\n",
    "+ 黑客与画家\n",
    "+ 数学之美\n",
    "+ Fluent Python\n",
    "+ Hands on Tensorflow\n",
    "+ Conference: NIPS_ ICML_ ICLR_ ACL_ AAAI\n",
    "\n",
    "> most books you may find in our github: https://github.com/Computing-Intelligence/References"
   ]
  },
  {
   "cell_type": "markdown",
   "metadata": {},
   "source": [
    "## Part 5-1: review machine learning"
   ]
  },
  {
   "cell_type": "markdown",
   "metadata": {},
   "source": [
    "1. Why do we use Derivative / Gradient to fit a target function?"
   ]
  },
  {
   "cell_type": "markdown",
   "metadata": {},
   "source": [
    "> Ans: Better way to find a function with lowest loss."
   ]
  },
  {
   "cell_type": "markdown",
   "metadata": {},
   "source": [
    "2. In the words 'Gredient Descent', what's the Gredient and what's the Descent?¶"
   ]
  },
  {
   "cell_type": "markdown",
   "metadata": {},
   "source": [
    "> Ans: Gradient means the rake ratio of loss function; descent means find way to decrease the gradient in a certain way."
   ]
  },
  {
   "cell_type": "markdown",
   "metadata": {},
   "source": [
    "\n",
    "3. What's the advantages of the 3rd gradient descent method compared to the previous methods?"
   ]
  },
  {
   "cell_type": "markdown",
   "metadata": {},
   "source": [
    "> Ans: Supervised and guarantee to get a best solution when there is a best solution."
   ]
  },
  {
   "cell_type": "markdown",
   "metadata": {},
   "source": [
    "4. Using the simple words to describe: What's the machine leanring.¶"
   ]
  },
  {
   "cell_type": "markdown",
   "metadata": {},
   "source": [
    "> Ans: Build a program that can predict something in the future base on data of present and past."
   ]
  },
  {
   "cell_type": "markdown",
   "metadata": {},
   "source": [
    "## Part 5-2: Answer following questions: "
   ]
  },
  {
   "cell_type": "markdown",
   "metadata": {},
   "source": [
    "1. Why do we need dynamic programming? What's the difference of dynamic programming and previous talked `search` problme? \n",
    "\n",
    "> DP manage to find a best solution in each iteration of searching while `search` method don't do this."
   ]
  },
  {
   "cell_type": "markdown",
   "metadata": {},
   "source": [
    "2. Why do we still need dynamic programming? Why not we train a machine learning to fit a function which could get the `right` answer based on inputs?\n",
    "\n",
    "> ML has complicated progress rather than DP; ML can't guarantee the result would be the very best one when there's just one correct answer."
   ]
  },
  {
   "cell_type": "markdown",
   "metadata": {},
   "source": [
    "3. Can you catch up at least 3 problems which could solved by Dynamic Programming? \n",
    "\n",
    "> 1.Path Programming; 2.Database query; 3.Pipe selling."
   ]
  },
  {
   "cell_type": "markdown",
   "metadata": {},
   "source": [
    "4. Can you catch up at least 3 problems wich could sloved by Edit Distance? "
   ]
  },
  {
   "cell_type": "markdown",
   "metadata": {},
   "source": [
    "5. Please summarize the three main features of Dynamic Programming, and make a concise explain for each feature.\n",
    "\n",
    "> * Optimal substructure\n",
    "> * Aftereffect\n",
    "> * Condition independent"
   ]
  },
  {
   "cell_type": "markdown",
   "metadata": {},
   "source": [
    "6. What's the disadvantages of Dynamic Programming? (You may need search by yourself in Internet)"
   ]
  },
  {
   "cell_type": "markdown",
   "metadata": {},
   "source": [
    "## Part 6 Preparation of Project-01"
   ]
  },
  {
   "cell_type": "markdown",
   "metadata": {},
   "source": [
    "1. * [x] Using python Flask or Bottle to finish your first simple web app: \n",
    "    * https://github.com/Jianhan-Liu/Flasky \n",
    "    * https://github.com/Jianhan-Liu/Flask_Blog\n",
    "\n",
    "2. * [x] Learn what's the SQL, and try some simple SQL operations:\n",
    "> https://www.w3schools.com/sql/sql_intro.asp\n",
    "\n",
    "3. * [x] Learn what's the HTML ( *ONLY* need to know the basic things)\n",
    "> https://getbootstrap.com/; https://www.w3schools.com/html/"
   ]
  },
  {
   "cell_type": "markdown",
   "metadata": {},
   "source": [
    "### (Optinal) Finish the k-person-salesman problem:\n",
    "> 需要算法知识支撑"
   ]
  },
  {
   "cell_type": "code",
   "execution_count": 73,
   "metadata": {},
   "outputs": [],
   "source": [
    "import random\n",
    "import networkx as nx\n",
    "import matplotlib.pyplot as plt"
   ]
  },
  {
   "cell_type": "code",
   "execution_count": 165,
   "metadata": {},
   "outputs": [],
   "source": [
    "latitudes = [random.randint(-100, 100) for _ in range(20)]\n",
    "longitude = [random.randint(-100, 100) for _ in range(20)]\n",
    "dots = list(zip(latitudes, longitude))\n",
    "start_dot = dots[0]"
   ]
  },
  {
   "cell_type": "code",
   "execution_count": 166,
   "metadata": {},
   "outputs": [
    {
     "data": {
      "image/png": "[encoded data removed]",
      "text/plain": [
       "<Figure size 720x720 with 1 Axes>"
      ]
     },
     "metadata": {
      "needs_background": "light"
     },
     "output_type": "display_data"
    }
   ],
   "source": [
    "plt.figure(figsize=(10,10))\n",
    "plt.scatter(latitudes, longitude, color = 'red')\n",
    "\n",
    "for index, dot in enumerate(dots, start = 1):\n",
    "    plt.annotate(index, dot, fontsize=15)\n",
    "plt.show()\n",
    "# G = nx.Graph()\n",
    "# G.add_cycle(dict(enumerate(dots)))\n",
    "# nx.draw(G, dict(enumerate(dots)), node_size=10)"
   ]
  },
  {
   "cell_type": "markdown",
   "metadata": {},
   "source": [
    "给定一个初始点 𝑃, 以及 𝑘个车辆，如何从该点出发，经这 k 个车辆经过所有的点全部一次，而且所走过的路程最短?\n",
    "\n",
    "例如："
   ]
  },
  {
   "cell_type": "code",
   "execution_count": 54,
   "metadata": {},
   "outputs": [],
   "source": [
    "import math"
   ]
  },
  {
   "cell_type": "code",
   "execution_count": 167,
   "metadata": {},
   "outputs": [],
   "source": [
    "def get_distance(dot1:tuple, dot2:tuple):\n",
    "    x = (dot1[0] - dot2[0]) ** 2\n",
    "    y = (dot1[1] - dot2[1]) ** 2\n",
    "    return math.sqrt(sum([x, y]))\n",
    "\n",
    "target_index_list = [start_dot]\n",
    "def get_shortest_distance(start_dot:tuple, locations:list):\n",
    "    if not locations:\n",
    "        return\n",
    "    \n",
    "    location = locations[:]\n",
    "    location.pop(location.index(start_dot))\n",
    "    temp_dict = dict(enumerate(location))\n",
    "    s = float('inf')\n",
    "    temp = 0\n",
    "    \n",
    "    for k, v in temp_dict.items():\n",
    "        s_ = get_distance(start_dot, v)\n",
    "        if s > s_:\n",
    "            s = s_\n",
    "            temp = v\n",
    "    if temp:        \n",
    "        target_index_list.append(temp)\n",
    "    \n",
    "    return get_shortest_distance(temp, location)"
   ]
  },
  {
   "cell_type": "code",
   "execution_count": 168,
   "metadata": {},
   "outputs": [],
   "source": [
    "get_shortest_distance(start_dot, dots)"
   ]
  },
  {
   "cell_type": "code",
   "execution_count": 169,
   "metadata": {},
   "outputs": [
    {
     "data": {
      "text/plain": [
       "[(-99, -11),\n",
       " (-81, -15),\n",
       " (-70, -22),\n",
       " (-55, -8),\n",
       " (-34, -21),\n",
       " (-38, -41),\n",
       " (-55, -55),\n",
       " (-79, -53),\n",
       " (-32, 2),\n",
       " (-24, 19),\n",
       " (-28, 28),\n",
       " (-32, 25),\n",
       " (-47, 47),\n",
       " (42, 63),\n",
       " (88, 23),\n",
       " (98, -6),\n",
       " (67, -11),\n",
       " (61, -18),\n",
       " (87, -57),\n",
       " (59, -95)]"
      ]
     },
     "execution_count": 169,
     "metadata": {},
     "output_type": "execute_result"
    }
   ],
   "source": [
    "target_index_list"
   ]
  },
  {
   "cell_type": "code",
   "execution_count": 170,
   "metadata": {},
   "outputs": [
    {
     "data": {
      "image/png": "[encoded data removed]",
      "text/plain": [
       "<Figure size 720x720 with 1 Axes>"
      ]
     },
     "metadata": {
      "needs_background": "light"
     },
     "output_type": "display_data"
    }
   ],
   "source": [
    "plt.figure(figsize=(10,10))\n",
    "x = [x[0] for x in target_index_list]\n",
    "y = [x[1] for x in target_index_list]\n",
    "for index, dot in enumerate(target_index_list, start=1):\n",
    "    plt.annotate(index, dot, fontsize=15, color='red')\n",
    "plt.plot(x, y)\n",
    "plt.show()"
   ]
  },
  {
   "cell_type": "code",
   "execution_count": 171,
   "metadata": {},
   "outputs": [],
   "source": [
    "chosen_p = (-50, 10)\n",
    "chosen_p2 = (1, 30)\n",
    "chosen_p3 = (99, 15)"
   ]
  },
  {
   "cell_type": "code",
   "execution_count": 172,
   "metadata": {
    "scrolled": true
   },
   "outputs": [
    {
     "data": {
      "image/png": "[encoded data removed]",
      "text/plain": [
       "<Figure size 432x288 with 1 Axes>"
      ]
     },
     "metadata": {
      "needs_background": "light"
     },
     "output_type": "display_data"
    }
   ],
   "source": [
    "plt.scatter(latitudes, longitude)\n",
    "plt.scatter([chosen_p[0]], [chosen_p[1]], color='r')\n",
    "plt.scatter([chosen_p2[0]], [chosen_p2[1]], color='r')\n",
    "plt.scatter([chosen_p3[0]], [chosen_p3[1]], color='r')\n",
    "plt.show()"
   ]
  },
  {
   "cell_type": "code",
   "execution_count": null,
   "metadata": {},
   "outputs": [],
   "source": []
  }
 ],
 "metadata": {
  "kernelspec": {
   "display_name": "Python 3",
   "language": "python",
   "name": "python3"
  },
  "language_info": {
   "codemirror_mode": {
    "name": "ipython",
    "version": 3
   },
   "file_extension": ".py",
   "mimetype": "text/x-python",
   "name": "python",
   "nbconvert_exporter": "python",
   "pygments_lexer": "ipython3",
   "version": "3.6.2"
  }
 },
 "nbformat": 4,
 "nbformat_minor": 4
}
