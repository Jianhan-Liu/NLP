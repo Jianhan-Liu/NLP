{
 "cells": [
  {
   "cell_type": "markdown",
   "metadata": {},
   "source": [
    "### What NLP concerns\n",
    "* words\n",
    "* entity\n",
    "+ syntax - 语法\n",
    "* semantic - 语义\n",
    "* dialogue - 基于业务的对话场景\n",
    "+ reading comprehension\n",
    "+ generation\n",
    "+ representation + policy"
   ]
  },
  {
   "cell_type": "markdown",
   "metadata": {},
   "source": [
    "### Do not represent words as numbers\n",
    "* one hot\n",
    "    * Can't distinguish 'similar' or 'not similar' words.\n",
    "    * Space consuming.\n",
    "    * Need recalculte when adding new words.\n",
    "* PCA -- 主要成分分析\n",
    "* SVD -- 奇异值分解\n",
    "    * Need recalculate all the words when adding new words.\n",
    "    * Computing consuming.\n",
    "    * Hard to implement.\n",
    "    * Cannot solving polysemy."
   ]
  },
  {
   "cell_type": "markdown",
   "metadata": {},
   "source": [
    "### What features do our vectors need\n",
    "* space economical - 节省空间\n",
    "* adaptively update - 可扩展的\n",
    "* semantic similarity - 适当解决一词多义"
   ]
  },
  {
   "cell_type": "markdown",
   "metadata": {},
   "source": [
    "### Embedding\n",
    "* graph embedding, node embedding, etc\n",
    "* importance of representation."
   ]
  },
  {
   "cell_type": "markdown",
   "metadata": {},
   "source": [
    "### softmax: 从向量到概率分布"
   ]
  },
  {
   "cell_type": "code",
   "execution_count": 12,
   "metadata": {},
   "outputs": [],
   "source": [
    "import numpy as np"
   ]
  },
  {
   "cell_type": "code",
   "execution_count": 30,
   "metadata": {},
   "outputs": [],
   "source": [
    "vector = np.array([1,2,3,4,-1,-4,0])"
   ]
  },
  {
   "cell_type": "code",
   "execution_count": 31,
   "metadata": {},
   "outputs": [
    {
     "data": {
      "text/plain": [
       "86.17721996378178"
      ]
     },
     "execution_count": 31,
     "metadata": {},
     "output_type": "execute_result"
    }
   ],
   "source": [
    "np.sum(np.exp(vector))"
   ]
  },
  {
   "cell_type": "code",
   "execution_count": 32,
   "metadata": {},
   "outputs": [],
   "source": [
    "def softmax(vector):\n",
    "    # 防止数据溢出\n",
    "    vector -= np.max(vector)\n",
    "    exp = np.exp(vector)\n",
    "    exp_sum = np.sum(exp)\n",
    "    return exp / exp_sum"
   ]
  },
  {
   "cell_type": "code",
   "execution_count": 33,
   "metadata": {},
   "outputs": [
    {
     "data": {
      "text/plain": [
       "array([3.15429278e-02, 8.57425675e-02, 2.33072463e-01, 6.33556641e-01,\n",
       "       4.26887107e-03, 2.12534576e-04, 1.16039947e-02])"
      ]
     },
     "execution_count": 33,
     "metadata": {},
     "output_type": "execute_result"
    }
   ],
   "source": [
    "softmax(vector)"
   ]
  },
  {
   "cell_type": "code",
   "execution_count": 34,
   "metadata": {},
   "outputs": [
    {
     "data": {
      "text/plain": [
       "1.0000000000000002"
      ]
     },
     "execution_count": 34,
     "metadata": {},
     "output_type": "execute_result"
    }
   ],
   "source": [
    "np.sum(softmax(vector))"
   ]
  },
  {
   "cell_type": "markdown",
   "metadata": {},
   "source": [
    "### word2vec\n",
    "> Two algorithms\n",
    "* skip-gram -- 周围调整中间：周围有什么词时会出现目标词\n",
    "* CBOW/连续词袋模型/continuous bag of words -- 中间调整周围：目标词周围会出现什么词\n",
    "\n",
    "> Two training methods\n",
    "* Hierarchical softmax\n",
    "* Negative sampling"
   ]
  },
  {
   "cell_type": "code",
   "execution_count": 7,
   "metadata": {},
   "outputs": [],
   "source": [
    "import smart_open\n",
    "from gensim.models.word2vec import Word2Vec, LineSentence\n"
   ]
  },
  {
   "cell_type": "code",
   "execution_count": 31,
   "metadata": {},
   "outputs": [],
   "source": [
    "data_file = 'D:\\\\Github\\\\NLP\\\\Artificial_Intelligence_for_NLP\\\\Week_04_0727\\\\Assignment\\\\wiki_00_cut'\n",
    "wiki_sentences = LineSentence(smart_open.open(data_file, 'r', encoding='utf-8'))"
   ]
  },
  {
   "cell_type": "code",
   "execution_count": 32,
   "metadata": {},
   "outputs": [],
   "source": [
    "model_wiki = Word2Vec(wiki_sentences, size=200, window=10, min_count=20, workers=4)"
   ]
  },
  {
   "cell_type": "code",
   "execution_count": 43,
   "metadata": {},
   "outputs": [
    {
     "name": "stderr",
     "output_type": "stream",
     "text": [
      "C:\\Users\\Administrator\\Anaconda3\\lib\\site-packages\\smart_open\\smart_open_lib.py:398: UserWarning: This function is deprecated, use smart_open.open instead. See the migration notes for details: https://github.com/RaRe-Technologies/smart_open/blob/master/README.rst#migrating-to-the-new-open-function\n",
      "  'See the migration notes for details: %s' % _MIGRATION_NOTES_URL\n"
     ]
    }
   ],
   "source": [
    "model_wiki.save('model2vec.model')"
   ]
  },
  {
   "cell_type": "code",
   "execution_count": 36,
   "metadata": {},
   "outputs": [
    {
     "data": {
      "text/plain": [
       "<_io.TextIOWrapper name='model2vec.model' mode='r' encoding='cp936'>"
      ]
     },
     "execution_count": 36,
     "metadata": {},
     "output_type": "execute_result"
    }
   ],
   "source": [
    "smart_open.open('model2vec.model')"
   ]
  },
  {
   "cell_type": "code",
   "execution_count": 37,
   "metadata": {},
   "outputs": [
    {
     "data": {
      "text/plain": [
       "[('研究', 0.9977470636367798),\n",
       " ('可以', 0.9974096417427063),\n",
       " ('操作系统', 0.9969146251678467),\n",
       " ('系统', 0.9966925382614136),\n",
       " ('一个', 0.9958970546722412),\n",
       " ('或', 0.9955787658691406),\n",
       " ('领域', 0.9952758550643921),\n",
       " ('这些', 0.9941273331642151),\n",
       " ('是', 0.9937964081764221),\n",
       " ('例如', 0.9932696223258972)]"
      ]
     },
     "execution_count": 37,
     "metadata": {},
     "output_type": "execute_result"
    }
   ],
   "source": [
    "model_wiki.wv.most_similar('数学')"
   ]
  },
  {
   "cell_type": "code",
   "execution_count": 38,
   "metadata": {},
   "outputs": [
    {
     "name": "stdout",
     "output_type": "stream",
     "text": [
      "Help on method save in module gensim.models.word2vec:\n",
      "\n",
      "save(*args, **kwargs) method of gensim.models.word2vec.Word2Vec instance\n",
      "    Save the model.\n",
      "    This saved model can be loaded again using :func:`~gensim.models.word2vec.Word2Vec.load`, which supports\n",
      "    online training and getting vectors for vocabulary words.\n",
      "    \n",
      "    Parameters\n",
      "    ----------\n",
      "    fname : str\n",
      "        Path to the file.\n",
      "\n"
     ]
    }
   ],
   "source": [
    "help(model_wiki.save)"
   ]
  },
  {
   "cell_type": "code",
   "execution_count": 39,
   "metadata": {},
   "outputs": [
    {
     "data": {
      "text/plain": [
       "\u001b[1;31mInit signature:\u001b[0m \u001b[0mLineSentence\u001b[0m\u001b[1;33m(\u001b[0m\u001b[0msource\u001b[0m\u001b[1;33m,\u001b[0m \u001b[0mmax_sentence_length\u001b[0m\u001b[1;33m=\u001b[0m\u001b[1;36m10000\u001b[0m\u001b[1;33m,\u001b[0m \u001b[0mlimit\u001b[0m\u001b[1;33m=\u001b[0m\u001b[1;32mNone\u001b[0m\u001b[1;33m)\u001b[0m\u001b[1;33m\u001b[0m\u001b[1;33m\u001b[0m\u001b[0m\n",
       "\u001b[1;31mDocstring:\u001b[0m     \n",
       "Iterate over a file that contains sentences: one line = one sentence.\n",
       "Words must be already preprocessed and separated by whitespace.\n",
       "\u001b[1;31mInit docstring:\u001b[0m\n",
       "Parameters\n",
       "----------\n",
       "source : string or a file-like object\n",
       "    Path to the file on disk, or an already-open file object (must support `seek(0)`).\n",
       "limit : int or None\n",
       "    Clip the file to the first `limit` lines. Do no clipping if `limit is None` (the default).\n",
       "\n",
       "Examples\n",
       "--------\n",
       ".. sourcecode:: pycon\n",
       "\n",
       "    >>> from gensim.test.utils import datapath\n",
       "    >>> sentences = LineSentence(datapath('lee_background.cor'))\n",
       "    >>> for sentence in sentences:\n",
       "    ...     pass\n",
       "\u001b[1;31mFile:\u001b[0m           c:\\users\\administrator\\anaconda3\\lib\\site-packages\\gensim\\models\\word2vec.py\n",
       "\u001b[1;31mType:\u001b[0m           type\n",
       "\u001b[1;31mSubclasses:\u001b[0m     \n"
      ]
     },
     "metadata": {},
     "output_type": "display_data"
    }
   ],
   "source": [
    "LineSentence?"
   ]
  },
  {
   "cell_type": "code",
   "execution_count": null,
   "metadata": {},
   "outputs": [],
   "source": []
  }
 ],
 "metadata": {
  "kernelspec": {
   "display_name": "Python 3",
   "language": "python",
   "name": "python3"
  },
  "language_info": {
   "codemirror_mode": {
    "name": "ipython",
    "version": 3
   },
   "file_extension": ".py",
   "mimetype": "text/x-python",
   "name": "python",
   "nbconvert_exporter": "python",
   "pygments_lexer": "ipython3",
   "version": "3.6.2"
  }
 },
 "nbformat": 4,
 "nbformat_minor": 4
}
