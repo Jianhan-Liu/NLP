{
 "cells": [
  {
   "cell_type": "markdown",
   "metadata": {},
   "source": [
    "### NER - Named-entity recognition/命名实体识别"
   ]
  },
  {
   "cell_type": "code",
   "execution_count": 1,
   "metadata": {},
   "outputs": [],
   "source": [
    "import jieba\n",
    "from jieba import posseg"
   ]
  },
  {
   "cell_type": "code",
   "execution_count": 2,
   "metadata": {},
   "outputs": [],
   "source": [
    "text = \"\"\"新华社洛杉矶４月８日电（记者黄恒）美国第三舰队８日发布声明说，\n",
    "该舰队下属的“卡尔·文森”航母战斗群当天离开新加坡，改变原定驶往澳大利亚的任务计划，\n",
    "转而北上，前往西太平洋朝鲜半岛附近水域展开行动。\\n　　该舰队网站主页发布的消息说，\n",
    "美军太平洋司令部司令哈里·哈里斯指示“卡尔·文森”航母战斗群向北航行。这一战斗群包括“卡尔·文森”号航空母舰、\n",
    "海军第二航空队、两艘“阿利·伯克”级导弹驱逐舰和一艘“泰孔德罗加”级导弹巡洋舰。\\n　　\n",
    "“卡尔·文森”号航母的母港位于美国加利福尼亚州的圣迭戈，今年１月初前往西太平洋地区执行任务，\n",
    "并参与了日本及韩国的军事演习。\\n　　美国有线电视新闻网援引美国军方官员的话说，\n",
    "“‘卡尔·文森’号此次行动是为了对近期朝鲜的挑衅行为作出回应”。（完）\"\"\""
   ]
  },
  {
   "cell_type": "markdown",
   "metadata": {},
   "source": [
    "#### POS"
   ]
  },
  {
   "cell_type": "code",
   "execution_count": 3,
   "metadata": {},
   "outputs": [
    {
     "name": "stderr",
     "output_type": "stream",
     "text": [
      "Building prefix dict from the default dictionary ...\n",
      "Loading model from cache C:\\Users\\ADMINI~1\\AppData\\Local\\Temp\\jieba.cache\n",
      "Loading model cost 0.787 seconds.\n",
      "Prefix dict has been built succesfully.\n"
     ]
    },
    {
     "name": "stdout",
     "output_type": "stream",
     "text": [
      "新华社/nt||洛杉矶/ns||４/x||月/m||８/x||日电/j||（/x||记者/n||黄恒/nr||）/x||美国/ns||第三/m||舰队/n||８/x||日/m||发布/v||声明/n||说/v||，/x||\n",
      "/x||该/r||舰队/n||下属/v||的/uj||“/x||卡尔/nrt||·/x||文森/nr||”/x||航母/n||战斗群/n||当天/t||离开/v||新加坡/ns||，/x||改变/v||原定/d||驶往/v||澳大利亚/ns||的/uj||任务/n||计划/n||，/x||\n",
      "/x||转而/c||北上/f||，/x||前往/t||西太平洋/ns||朝鲜半岛/ns||附近/f||水域/n||展开/v||行动/vn||。/x||\n",
      "/x||　/x||　/x||该/r||舰队/n||网站/n||主页/n||发布/v||的/uj||消息/n||说/v||，/x||\n",
      "/x||美军/j||太平洋/ns||司令部/n||司令/n||哈里/nrt||·/x||哈里斯/nrt||指示/v||“/x||卡尔/nrt||·/x||文森/nr||”/x||航母/n||战斗群/n||向/p||北/ns||航行/n||。/x||这/r||一/m||战斗群/n||包括/v||“/x||卡尔/nrt||·/x||文森/nr||”/x||号/m||航空母舰/n||、/x||\n",
      "/x||海军/n||第二/m||航空队/n||、/x||两艘/m||“/x||阿利/ns||·/x||伯克/nr||”/x||级/q||导弹/n||驱逐舰/n||和/c||一艘/m||“/x||泰孔/nr||德罗/nrt||加/v||”/x||级/q||导弹/n||巡洋舰/n||。/x||\n",
      "/x||　/x||　/x||\n",
      "/x||“/x||卡尔/nrt||·/x||文森/nr||”/x||号/m||航母/n||的/uj||母港/n||位于/v||美国/ns||加利福尼亚州/ns||的/uj||圣迭戈/nr||，/x||今年/t||１/x||月初/t||前往/t||西太平洋地区/ns||执行/v||任务/n||，/x||\n",
      "/x||并/c||参与/v||了/ul||日本/ns||及/c||韩国/ns||的/uj||军事演习/n||。/x||\n",
      "/x||　/x||　/x||美国有线电视新闻网/nt||援引/vn||美国/ns||军方/n||官员/n||的话/u||说/v||，/x||\n",
      "/x||“/x||‘/x||卡尔/nrt||·/x||文森/nr||’/x||号/m||此次/r||行动/vn||是/v||为了/p||对/p||近期/t||朝鲜/ns||的/uj||挑衅/v||行为/v||作出/v||回应/v||”/x||。/x||（/x||完/v||）/x||"
     ]
    }
   ],
   "source": [
    "for w in posseg.cut(text):\n",
    "    print(w, end='||')"
   ]
  },
  {
   "cell_type": "markdown",
   "metadata": {},
   "source": [
    "#### Dependency parsing/依存分析"
   ]
  }
 ],
 "metadata": {
  "kernelspec": {
   "display_name": "Python 3",
   "language": "python",
   "name": "python3"
  },
  "language_info": {
   "codemirror_mode": {
    "name": "ipython",
    "version": 3
   },
   "file_extension": ".py",
   "mimetype": "text/x-python",
   "name": "python",
   "nbconvert_exporter": "python",
   "pygments_lexer": "ipython3",
   "version": "3.6.2"
  }
 },
 "nbformat": 4,
 "nbformat_minor": 4
}
