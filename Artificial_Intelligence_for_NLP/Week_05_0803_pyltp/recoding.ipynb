{
 "cells": [
  {
   "cell_type": "markdown",
   "metadata": {},
   "source": [
    "### NER - Named-entity recognition/命名实体识别"
   ]
  },
  {
   "cell_type": "code",
   "execution_count": 1,
   "metadata": {},
   "outputs": [],
   "source": [
    "import jieba\n",
    "from jieba import posseg"
   ]
  },
  {
   "cell_type": "code",
   "execution_count": 2,
   "metadata": {},
   "outputs": [],
   "source": [
    "text = \"\"\"新华社洛杉矶４月８日电（记者黄恒）美国第三舰队８日发布声明说，\n",
    "该舰队下属的“卡尔·文森”航母战斗群当天离开新加坡，改变原定驶往澳大利亚的任务计划，\n",
    "转而北上，前往西太平洋朝鲜半岛附近水域展开行动。\\n　　该舰队网站主页发布的消息说，\n",
    "美军太平洋司令部司令哈里·哈里斯指示“卡尔·文森”航母战斗群向北航行。这一战斗群包括“卡尔·文森”号航空母舰、\n",
    "海军第二航空队、两艘“阿利·伯克”级导弹驱逐舰和一艘“泰孔德罗加”级导弹巡洋舰。\\n　　\n",
    "“卡尔·文森”号航母的母港位于美国加利福尼亚州的圣迭戈，今年１月初前往西太平洋地区执行任务，\n",
    "并参与了日本及韩国的军事演习。\\n　　美国有线电视新闻网援引美国军方官员的话说，\n",
    "“‘卡尔·文森’号此次行动是为了对近期朝鲜的挑衅行为作出回应”。（完）\"\"\""
   ]
  },
  {
   "cell_type": "markdown",
   "metadata": {},
   "source": [
    "#### POS"
   ]
  },
  {
   "cell_type": "code",
   "execution_count": 3,
   "metadata": {},
   "outputs": [
    {
     "name": "stderr",
     "output_type": "stream",
     "text": [
      "Building prefix dict from the default dictionary ...\n",
      "Loading model from cache C:\\Users\\ADMINI~1\\AppData\\Local\\Temp\\jieba.cache\n",
      "Loading model cost 0.769 seconds.\n",
      "Prefix dict has been built succesfully.\n"
     ]
    },
    {
     "name": "stdout",
     "output_type": "stream",
     "text": [
      "新华社/nt||洛杉矶/ns||４/x||月/m||８/x||日电/j||（/x||记者/n||黄恒/nr||）/x||美国/ns||第三/m||舰队/n||８/x||日/m||发布/v||声明/n||说/v||，/x||\n",
      "/x||该/r||舰队/n||下属/v||的/uj||“/x||卡尔/nrt||·/x||文森/nr||”/x||航母/n||战斗群/n||当天/t||离开/v||新加坡/ns||，/x||改变/v||原定/d||驶往/v||澳大利亚/ns||的/uj||任务/n||计划/n||，/x||\n",
      "/x||转而/c||北上/f||，/x||前往/t||西太平洋/ns||朝鲜半岛/ns||附近/f||水域/n||展开/v||行动/vn||。/x||\n",
      "/x||　/x||　/x||该/r||舰队/n||网站/n||主页/n||发布/v||的/uj||消息/n||说/v||，/x||\n",
      "/x||美军/j||太平洋/ns||司令部/n||司令/n||哈里/nrt||·/x||哈里斯/nrt||指示/v||“/x||卡尔/nrt||·/x||文森/nr||”/x||航母/n||战斗群/n||向/p||北/ns||航行/n||。/x||这/r||一/m||战斗群/n||包括/v||“/x||卡尔/nrt||·/x||文森/nr||”/x||号/m||航空母舰/n||、/x||\n",
      "/x||海军/n||第二/m||航空队/n||、/x||两艘/m||“/x||阿利/ns||·/x||伯克/nr||”/x||级/q||导弹/n||驱逐舰/n||和/c||一艘/m||“/x||泰孔/nr||德罗/nrt||加/v||”/x||级/q||导弹/n||巡洋舰/n||。/x||\n",
      "/x||　/x||　/x||\n",
      "/x||“/x||卡尔/nrt||·/x||文森/nr||”/x||号/m||航母/n||的/uj||母港/n||位于/v||美国/ns||加利福尼亚州/ns||的/uj||圣迭戈/nr||，/x||今年/t||１/x||月初/t||前往/t||西太平洋地区/ns||执行/v||任务/n||，/x||\n",
      "/x||并/c||参与/v||了/ul||日本/ns||及/c||韩国/ns||的/uj||军事演习/n||。/x||\n",
      "/x||　/x||　/x||美国有线电视新闻网/nt||援引/vn||美国/ns||军方/n||官员/n||的话/u||说/v||，/x||\n",
      "/x||“/x||‘/x||卡尔/nrt||·/x||文森/nr||’/x||号/m||此次/r||行动/vn||是/v||为了/p||对/p||近期/t||朝鲜/ns||的/uj||挑衅/v||行为/v||作出/v||回应/v||”/x||。/x||（/x||完/v||）/x||"
     ]
    }
   ],
   "source": [
    "for w in posseg.cut(text):\n",
    "    print(w, end='||')"
   ]
  },
  {
   "cell_type": "code",
   "execution_count": 6,
   "metadata": {
    "jupyter": {
     "source_hidden": true
    }
   },
   "outputs": [],
   "source": [
    "with open('article_cut.txt', 'w', encoding='utf-8')as f1:\n",
    "    with open('article_9k.txt', encoding='utf-8') as f2:\n",
    "        for line in f2:\n",
    "            cut_line = list(jieba.cut(line))\n",
    "            f1.write(' '.join(cut_line) + '\\n')"
   ]
  },
  {
   "cell_type": "code",
   "execution_count": 1,
   "metadata": {},
   "outputs": [
    {
     "name": "stderr",
     "output_type": "stream",
     "text": [
      "C:\\Users\\Administrator\\Anaconda3\\envs\\nlp_project1\\lib\\site-packages\\gensim\\utils.py:865: UserWarning: detected Windows; aliasing chunkize to chunkize_serial\n",
      "  warnings.warn(\"detected Windows; aliasing chunkize to chunkize_serial\")\n"
     ]
    }
   ],
   "source": [
    "from gensim.models import Word2Vec\n",
    "from gensim.models.word2vec import LineSentence"
   ]
  },
  {
   "cell_type": "code",
   "execution_count": 2,
   "metadata": {},
   "outputs": [],
   "source": [
    "import gensim"
   ]
  },
  {
   "cell_type": "code",
   "execution_count": 3,
   "metadata": {},
   "outputs": [
    {
     "data": {
      "text/plain": [
       "'2.3.0'"
      ]
     },
     "execution_count": 3,
     "metadata": {},
     "output_type": "execute_result"
    }
   ],
   "source": [
    "gensim.__version__"
   ]
  },
  {
   "cell_type": "code",
   "execution_count": 4,
   "metadata": {},
   "outputs": [],
   "source": [
    "new_word2vec = Word2Vec(LineSentence('article_cut.txt'), size=35, workers=8)"
   ]
  },
  {
   "cell_type": "code",
   "execution_count": 13,
   "metadata": {},
   "outputs": [
    {
     "data": {
      "text/plain": [
       "[('交易平台', 0.8351650238037109),\n",
       " ('金融业务', 0.8322009444236755),\n",
       " ('金融机构', 0.8248395919799805),\n",
       " ('并购', 0.785864531993866),\n",
       " ('渠道', 0.7829188108444214),\n",
       " ('客户', 0.7763612866401672),\n",
       " ('第三方', 0.7706090211868286),\n",
       " ('银行', 0.7658429145812988),\n",
       " ('股权结构', 0.7629759311676025),\n",
       " ('商业银行', 0.761695384979248)]"
      ]
     },
     "execution_count": 13,
     "metadata": {},
     "output_type": "execute_result"
    }
   ],
   "source": [
    "new_word2vec.wv.most_similar('业务')"
   ]
  },
  {
   "cell_type": "code",
   "execution_count": 15,
   "metadata": {},
   "outputs": [
    {
     "data": {
      "text/plain": [
       "[('中英文', 0.8203215599060059),\n",
       " ('新华字典', 0.8050707578659058),\n",
       " ('欣一', 0.8043278455734253),\n",
       " ('小册子', 0.801088809967041),\n",
       " ('投稿', 0.7948652505874634),\n",
       " ('字典', 0.7836350202560425),\n",
       " ('散文', 0.7816625833511353),\n",
       " ('有声', 0.7763335704803467),\n",
       " ('剧本', 0.774574875831604),\n",
       " ('创编', 0.7692627906799316)]"
      ]
     },
     "execution_count": 15,
     "metadata": {},
     "output_type": "execute_result"
    }
   ],
   "source": [
    "new_word2vec.wv.most_similar('豆瓣')"
   ]
  },
  {
   "cell_type": "markdown",
   "metadata": {},
   "source": [
    "#### Dependency parsing/依存分析"
   ]
  },
  {
   "cell_type": "markdown",
   "metadata": {},
   "source": [
    "### TF-iDF / Term Frequency - inverse Document Frequency"
   ]
  },
  {
   "cell_type": "code",
   "execution_count": null,
   "metadata": {},
   "outputs": [],
   "source": []
  }
 ],
 "metadata": {
  "kernelspec": {
   "display_name": "Python 3",
   "language": "python",
   "name": "python3"
  },
  "language_info": {
   "codemirror_mode": {
    "name": "ipython",
    "version": 3
   },
   "file_extension": ".py",
   "mimetype": "text/x-python",
   "name": "python",
   "nbconvert_exporter": "python",
   "pygments_lexer": "ipython3",
   "version": "3.6.2"
  }
 },
 "nbformat": 4,
 "nbformat_minor": 4
}
