{
 "cells": [
  {
   "cell_type": "markdown",
   "metadata": {},
   "source": [
    "### [Install with wheel file -- python3.6 needed](./pyltp-0.2.1-cp36-cp36m-win_amd64.whl)\n",
    "![语言云架构](./ltp_framework.png)"
   ]
  },
  {
   "cell_type": "code",
   "execution_count": 1,
   "metadata": {},
   "outputs": [],
   "source": [
    "from pyltp import Segmentor, SentenceSplitter"
   ]
  },
  {
   "cell_type": "code",
   "execution_count": 2,
   "metadata": {},
   "outputs": [],
   "source": [
    "model_path = 'D:\\\\Tutorials\\\\0.NLP_Stanford_Daniel_Jurasfky\\\\ltp_data_v3.4.0'"
   ]
  },
  {
   "cell_type": "markdown",
   "metadata": {},
   "source": [
    "### 分句"
   ]
  },
  {
   "cell_type": "code",
   "execution_count": 3,
   "metadata": {},
   "outputs": [
    {
     "name": "stdout",
     "output_type": "stream",
     "text": [
      "元芳你怎么看？\n",
      "我就趴窗口上看呗！\n",
      "我也想这么看哟~\n"
     ]
    }
   ],
   "source": [
    "sents = SentenceSplitter.split('元芳你怎么看？我就趴窗口上看呗！我也想这么看哟~')\n",
    "print('\\n'.join(sents))"
   ]
  },
  {
   "cell_type": "code",
   "execution_count": 4,
   "metadata": {},
   "outputs": [],
   "source": [
    "import os\n",
    "cws_model_path = os.path.join(model_path, 'cws.model')"
   ]
  },
  {
   "cell_type": "markdown",
   "metadata": {},
   "source": [
    "### 分词"
   ]
  },
  {
   "cell_type": "code",
   "execution_count": 5,
   "metadata": {},
   "outputs": [
    {
     "name": "stdout",
     "output_type": "stream",
     "text": [
      "元芳\t你\t怎么\t看\n"
     ]
    }
   ],
   "source": [
    "segmentor = Segmentor()\n",
    "segmentor.load(cws_model_path)\n",
    "words = segmentor.segment('元芳你怎么看')\n",
    "print('\\t'.join(words))"
   ]
  },
  {
   "cell_type": "code",
   "execution_count": 6,
   "metadata": {},
   "outputs": [
    {
     "data": {
      "text/plain": [
       "['元芳', '你', '怎么', '看']"
      ]
     },
     "execution_count": 6,
     "metadata": {},
     "output_type": "execute_result"
    }
   ],
   "source": [
    "list(words)"
   ]
  },
  {
   "cell_type": "markdown",
   "metadata": {},
   "source": [
    "### 个性化分词"
   ]
  },
  {
   "cell_type": "markdown",
   "metadata": {},
   "source": [
    "### 词性标注"
   ]
  },
  {
   "cell_type": "code",
   "execution_count": 7,
   "metadata": {},
   "outputs": [],
   "source": [
    "pos_model_path = os.path.join(model_path, 'pos.model')"
   ]
  },
  {
   "cell_type": "code",
   "execution_count": 9,
   "metadata": {},
   "outputs": [
    {
     "name": "stdout",
     "output_type": "stream",
     "text": [
      "nh\tr\tr\tv\n"
     ]
    }
   ],
   "source": [
    "from pyltp import Postagger\n",
    "postagger= Postagger()  # load, load_with_lexicon, postag, release\n",
    "postagger.load(pos_model_path)\n",
    "postags = postagger.postag(words)\n",
    "print('\\t'.join(postags))\n",
    "postagger.release()"
   ]
  },
  {
   "cell_type": "markdown",
   "metadata": {},
   "source": [
    "### 命名实体识别"
   ]
  },
  {
   "cell_type": "code",
   "execution_count": 22,
   "metadata": {},
   "outputs": [
    {
     "name": "stdout",
     "output_type": "stream",
     "text": [
      "S-Nh\tO\tO\tO\n"
     ]
    }
   ],
   "source": [
    "ner_model_path = os.path.join(model_path, 'ner.model')\n",
    "from pyltp import NamedEntityRecognizer\n",
    "\n",
    "recognizer = NamedEntityRecognizer()\n",
    "recognizer.load(ner_model_path)\n",
    "netags = recognizer.recognize(words, postags)\n",
    "print('\\t'.join(netags))\n",
    "recognizer.release()"
   ]
  },
  {
   "cell_type": "markdown",
   "metadata": {},
   "source": [
    "### 依存句法分析"
   ]
  },
  {
   "cell_type": "code",
   "execution_count": 24,
   "metadata": {},
   "outputs": [
    {
     "name": "stdout",
     "output_type": "stream",
     "text": [
      "4:SBV\t4:SBV\t4:ADV\t0:HED\n"
     ]
    }
   ],
   "source": [
    "par_model_path = os.path.join(model_path, 'parser.model')\n",
    "from pyltp import Parser\n",
    "parser = Parser()\n",
    "parser.load(par_model_path)\n",
    "arcs = parser.parse(words, postags)\n",
    "print('\\t'.join(f\"{arc.head}:{arc.relation}\" for arc in arcs))"
   ]
  },
  {
   "cell_type": "markdown",
   "metadata": {},
   "source": [
    "### 语义角色标注\n",
    "> 3.4.0 版本 SRL模型 pisrl.model 如在windows系统下不可用，可以到[此链接](http://model.scir.yunfutech.com/server/3.4.0/pisrl_win.model)下载支持windows的语义角色标注模型。"
   ]
  },
  {
   "cell_type": "code",
   "execution_count": 32,
   "metadata": {},
   "outputs": [
    {
     "name": "stdout",
     "output_type": "stream",
     "text": [
      "['元芳', '你', '怎么', '看']\n",
      "3 A0:(1,1)ADV:(2,2)\n"
     ]
    }
   ],
   "source": [
    "srl_model_path = os.path.join(model_path, 'pisrl_win.model')\n",
    "from pyltp import SementicRoleLabeller\n",
    "labeller = SementicRoleLabeller()\n",
    "labeller.load(srl_model_path)\n",
    "roles = labeller.label(words, postags, arcs)\n",
    "print(list(words))\n",
    "for role in roles:\n",
    "    print(role.index, ''.join([f\"{arg.name}:({arg.range.start},{arg.range.end})\" for arg in role\n",
    "                             .arguments]))\n",
    "labeller.release()"
   ]
  },
  {
   "cell_type": "code",
   "execution_count": null,
   "metadata": {},
   "outputs": [],
   "source": []
  }
 ],
 "metadata": {
  "kernelspec": {
   "display_name": "Python 3",
   "language": "python",
   "name": "python3"
  },
  "language_info": {
   "codemirror_mode": {
    "name": "ipython",
    "version": 3
   },
   "file_extension": ".py",
   "mimetype": "text/x-python",
   "name": "python",
   "nbconvert_exporter": "python",
   "pygments_lexer": "ipython3",
   "version": "3.6.2"
  }
 },
 "nbformat": 4,
 "nbformat_minor": 4
}
