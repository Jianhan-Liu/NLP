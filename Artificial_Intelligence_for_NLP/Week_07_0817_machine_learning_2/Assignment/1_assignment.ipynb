{
 "cells": [
  {
   "cell_type": "markdown",
   "metadata": {},
   "source": [
    "## Assignment-07 First Step of using machine learning and models."
   ]
  },
  {
   "cell_type": "code",
   "execution_count": 75,
   "metadata": {},
   "outputs": [],
   "source": [
    "import os\n",
    "import re\n",
    "import scipy\n",
    "import numpy as np\n",
    "import pandas as pd\n",
    "from pprint import pprint\n",
    "from pyltp import Segmentor\n",
    "from sklearn.svm import SVC\n",
    "import matplotlib.pyplot as plt\n",
    "from scipy.spatial.distance import cosine\n",
    "from sklearn.metrics import classification_report\n",
    "from sklearn.linear_model import LogisticRegression\n",
    "from sklearn.neighbors import KNeighborsClassifier as KNC\n",
    "from sklearn.feature_extraction.text import TfidfVectorizer\n",
    "from sklearn.model_selection import train_test_split, GridSearchCV\n",
    "\n",
    "%matplotlib inline"
   ]
  },
  {
   "cell_type": "markdown",
   "metadata": {},
   "source": [
    "### Step1: 数据分析"
   ]
  },
  {
   "cell_type": "markdown",
   "metadata": {},
   "source": [
    "请在课程的GitHub中下载数据集，然后使用pandas进行读取。"
   ]
  },
  {
   "cell_type": "code",
   "execution_count": 2,
   "metadata": {},
   "outputs": [],
   "source": [
    "fname = \"D:\\\\Github\\\\NLP\\\\Artificial_Intelligence_for_NLP\\\\Week_05_0803_pyltp\\\\sqlResult_1558435.csv\""
   ]
  },
  {
   "cell_type": "code",
   "execution_count": 3,
   "metadata": {},
   "outputs": [],
   "source": [
    "data = pd.read_csv(fname, encoding='gb18030')"
   ]
  },
  {
   "cell_type": "code",
   "execution_count": 4,
   "metadata": {},
   "outputs": [
    {
     "data": {
      "text/html": [
       "<div>\n",
       "<style scoped>\n",
       "    .dataframe tbody tr th:only-of-type {\n",
       "        vertical-align: middle;\n",
       "    }\n",
       "\n",
       "    .dataframe tbody tr th {\n",
       "        vertical-align: top;\n",
       "    }\n",
       "\n",
       "    .dataframe thead th {\n",
       "        text-align: right;\n",
       "    }\n",
       "</style>\n",
       "<table border=\"1\" class=\"dataframe\">\n",
       "  <thead>\n",
       "    <tr style=\"text-align: right;\">\n",
       "      <th></th>\n",
       "      <th>id</th>\n",
       "      <th>author</th>\n",
       "      <th>source</th>\n",
       "      <th>content</th>\n",
       "      <th>feature</th>\n",
       "      <th>title</th>\n",
       "      <th>url</th>\n",
       "    </tr>\n",
       "  </thead>\n",
       "  <tbody>\n",
       "    <tr>\n",
       "      <th>0</th>\n",
       "      <td>89617</td>\n",
       "      <td>NaN</td>\n",
       "      <td>快科技@http://www.kkj.cn/</td>\n",
       "      <td>此外，自本周（6月12日）起，除小米手机6等15款机型外，其余机型已暂停更新发布（含开发版/...</td>\n",
       "      <td>{\"type\":\"科技\",\"site\":\"cnbeta\",\"commentNum\":\"37\"...</td>\n",
       "      <td>小米MIUI 9首批机型曝光：共计15款</td>\n",
       "      <td>http://www.cnbeta.com/articles/tech/623597.htm</td>\n",
       "    </tr>\n",
       "  </tbody>\n",
       "</table>\n",
       "</div>"
      ],
      "text/plain": [
       "      id author                  source  \\\n",
       "0  89617    NaN  快科技@http://www.kkj.cn/   \n",
       "\n",
       "                                             content  \\\n",
       "0  此外，自本周（6月12日）起，除小米手机6等15款机型外，其余机型已暂停更新发布（含开发版/...   \n",
       "\n",
       "                                             feature                 title  \\\n",
       "0  {\"type\":\"科技\",\"site\":\"cnbeta\",\"commentNum\":\"37\"...  小米MIUI 9首批机型曝光：共计15款   \n",
       "\n",
       "                                              url  \n",
       "0  http://www.cnbeta.com/articles/tech/623597.htm  "
      ]
     },
     "execution_count": 4,
     "metadata": {},
     "output_type": "execute_result"
    }
   ],
   "source": [
    "data.head(1)"
   ]
  },
  {
   "cell_type": "code",
   "execution_count": 5,
   "metadata": {},
   "outputs": [
    {
     "data": {
      "text/plain": [
       "89611"
      ]
     },
     "execution_count": 5,
     "metadata": {},
     "output_type": "execute_result"
    }
   ],
   "source": [
    "len(data)"
   ]
  },
  {
   "cell_type": "code",
   "execution_count": 6,
   "metadata": {},
   "outputs": [],
   "source": [
    "xinhua_news = data[data.source == '新华社']"
   ]
  },
  {
   "cell_type": "code",
   "execution_count": 7,
   "metadata": {},
   "outputs": [
    {
     "data": {
      "text/plain": [
       "0.8778051801676133"
      ]
     },
     "execution_count": 7,
     "metadata": {},
     "output_type": "execute_result"
    }
   ],
   "source": [
    "len(xinhua_news) / len(data)"
   ]
  },
  {
   "cell_type": "markdown",
   "metadata": {},
   "source": [
    "### 任务描述"
   ]
  },
  {
   "cell_type": "markdown",
   "metadata": {},
   "source": [
    "报社等相关的机构，往往会遇到一个问题，就是别人家的机构使用自己的文章但是并没有标明来源。 在本次任务中，我们将解决新华社的文章被抄袭引用的问题。"
   ]
  },
  {
   "cell_type": "markdown",
   "metadata": {},
   "source": [
    "给定的数据集合中，存在一些新闻预料，该预料是来自新华社，但是其来源并不是新华社，请设计技巧学习模型解决该问题。"
   ]
  },
  {
   "cell_type": "markdown",
   "metadata": {},
   "source": [
    "![](https://timgsa.baidu.com/timg?image&quality=80&size=b9999_10000&sec=1566105348906&di=ee9a2de91207767364853d4decc6cca3&imgtype=0&src=http%3A%2F%2Fmmbiz.qpic.cn%2Fmmbiz_png%2FTicO2kbP6Ao5sCsSQDpehZiczLdC6hDCNvoicjcOCEKX2bLxBc9gVOw28zHyFibfIWq9ceRibP6HDTKReGkr6YyTfQQ%2F640%3Fwx_fmt%3Dpng)"
   ]
  },
  {
   "cell_type": "markdown",
   "metadata": {},
   "source": [
    "### Step2: 数据预处理"
   ]
  },
  {
   "cell_type": "markdown",
   "metadata": {},
   "source": [
    "将pandas中的数据，依据是否是新华社的文章，请改变成新的数据dataframe: <content, y>, 其中，content是文章内容，y是0或者1. 你可能要使用到pandas的dataframe操作。[reference](https://pandas.pydata.org/pandas-docs/stable/reference/api/pandas.DataFrame.apply.html)"
   ]
  },
  {
   "cell_type": "code",
   "execution_count": 8,
   "metadata": {},
   "outputs": [],
   "source": [
    "label = (data.source == '新华社').astype(int)\n",
    "content = data.content"
   ]
  },
  {
   "cell_type": "code",
   "execution_count": 9,
   "metadata": {},
   "outputs": [],
   "source": [
    "data_new = pd.DataFrame({'content':content, 'label':label})"
   ]
  },
  {
   "cell_type": "code",
   "execution_count": 10,
   "metadata": {},
   "outputs": [
    {
     "data": {
      "text/html": [
       "<div>\n",
       "<style scoped>\n",
       "    .dataframe tbody tr th:only-of-type {\n",
       "        vertical-align: middle;\n",
       "    }\n",
       "\n",
       "    .dataframe tbody tr th {\n",
       "        vertical-align: top;\n",
       "    }\n",
       "\n",
       "    .dataframe thead th {\n",
       "        text-align: right;\n",
       "    }\n",
       "</style>\n",
       "<table border=\"1\" class=\"dataframe\">\n",
       "  <thead>\n",
       "    <tr style=\"text-align: right;\">\n",
       "      <th></th>\n",
       "      <th>content</th>\n",
       "      <th>label</th>\n",
       "    </tr>\n",
       "  </thead>\n",
       "  <tbody>\n",
       "    <tr>\n",
       "      <th>0</th>\n",
       "      <td>此外，自本周（6月12日）起，除小米手机6等15款机型外，其余机型已暂停更新发布（含开发版/...</td>\n",
       "      <td>0</td>\n",
       "    </tr>\n",
       "    <tr>\n",
       "      <th>1</th>\n",
       "      <td>骁龙835作为唯一通过Windows 10桌面平台认证的ARM处理器，高通强调，不会因为只考...</td>\n",
       "      <td>0</td>\n",
       "    </tr>\n",
       "    <tr>\n",
       "      <th>2</th>\n",
       "      <td>此前的一加3T搭载的是3400mAh电池，DashCharge快充规格为5V/4A。\\r\\n...</td>\n",
       "      <td>0</td>\n",
       "    </tr>\n",
       "    <tr>\n",
       "      <th>3</th>\n",
       "      <td>这是6月18日在葡萄牙中部大佩德罗冈地区拍摄的被森林大火烧毁的汽车。新华社记者张立云摄\\r\\n</td>\n",
       "      <td>1</td>\n",
       "    </tr>\n",
       "    <tr>\n",
       "      <th>4</th>\n",
       "      <td>（原标题：44岁女子跑深圳约会网友被拒，暴雨中裸身奔走……）\\r\\n@深圳交警微博称：昨日清...</td>\n",
       "      <td>0</td>\n",
       "    </tr>\n",
       "  </tbody>\n",
       "</table>\n",
       "</div>"
      ],
      "text/plain": [
       "                                             content  label\n",
       "0  此外，自本周（6月12日）起，除小米手机6等15款机型外，其余机型已暂停更新发布（含开发版/...      0\n",
       "1  骁龙835作为唯一通过Windows 10桌面平台认证的ARM处理器，高通强调，不会因为只考...      0\n",
       "2  此前的一加3T搭载的是3400mAh电池，DashCharge快充规格为5V/4A。\\r\\n...      0\n",
       "3    这是6月18日在葡萄牙中部大佩德罗冈地区拍摄的被森林大火烧毁的汽车。新华社记者张立云摄\\r\\n      1\n",
       "4  （原标题：44岁女子跑深圳约会网友被拒，暴雨中裸身奔走……）\\r\\n@深圳交警微博称：昨日清...      0"
      ]
     },
     "execution_count": 10,
     "metadata": {},
     "output_type": "execute_result"
    }
   ],
   "source": [
    "data_new.head()"
   ]
  },
  {
   "cell_type": "markdown",
   "metadata": {},
   "source": [
    "### Step3: 使用tfidf进行文本向量化"
   ]
  },
  {
   "cell_type": "markdown",
   "metadata": {},
   "source": [
    "#### 新闻内容切词整理 "
   ]
  },
  {
   "cell_type": "code",
   "execution_count": 10,
   "metadata": {},
   "outputs": [],
   "source": [
    "ltp_model_path = \"D:\\\\Github\\\\NLP\\\\Projects\\\\data\\\\ltp_data_v3.4.0\"\n",
    "segmentor_model_path = os.path.join(ltp_model_path, 'cws.model')\n",
    "segmentor = Segmentor()\n",
    "segmentor.load(segmentor_model_path)"
   ]
  },
  {
   "cell_type": "code",
   "execution_count": 11,
   "metadata": {},
   "outputs": [],
   "source": [
    "def ltp_cut(document):\n",
    "    result = ''\n",
    "    if isinstance(document, str):\n",
    "        words = segmentor.segment(document)\n",
    "        words = [re.findall('\\d*\\w+', x) for x in words]\n",
    "        result = ' '.join([x[0] for x in words if x and x[0] !='n'])  # pyltp会把换行符\\n给分开\n",
    "        return result if result else None"
   ]
  },
  {
   "cell_type": "markdown",
   "metadata": {},
   "source": [
    "#### 切词保存数据，这一步还是要花几分钟的"
   ]
  },
  {
   "cell_type": "code",
   "execution_count": 16,
   "metadata": {
    "scrolled": true
   },
   "outputs": [],
   "source": [
    "data_new['content_cut'] = data_new.content.apply(lambda i: ltp_cut(i))\n",
    "data_new.to_csv('cleaned_data.csv')"
   ]
  },
  {
   "cell_type": "code",
   "execution_count": 2,
   "metadata": {},
   "outputs": [],
   "source": [
    "# index_col 参数不可省略，否则会出现未命名列\n",
    "df = pd.read_csv('cleaned_data.csv', index_col=0)"
   ]
  },
  {
   "cell_type": "code",
   "execution_count": 3,
   "metadata": {},
   "outputs": [],
   "source": [
    "# 删除 nan 无数据行\n",
    "df.dropna(inplace=True)\n",
    "# 重置索引为连续\n",
    "df.reset_index(drop=True, inplace=True)"
   ]
  },
  {
   "cell_type": "code",
   "execution_count": 4,
   "metadata": {},
   "outputs": [
    {
     "data": {
      "text/plain": [
       "86863"
      ]
     },
     "execution_count": 4,
     "metadata": {},
     "output_type": "execute_result"
    }
   ],
   "source": [
    "len(df)"
   ]
  },
  {
   "cell_type": "code",
   "execution_count": 5,
   "metadata": {},
   "outputs": [
    {
     "data": {
      "text/html": [
       "<div>\n",
       "<style scoped>\n",
       "    .dataframe tbody tr th:only-of-type {\n",
       "        vertical-align: middle;\n",
       "    }\n",
       "\n",
       "    .dataframe tbody tr th {\n",
       "        vertical-align: top;\n",
       "    }\n",
       "\n",
       "    .dataframe thead th {\n",
       "        text-align: right;\n",
       "    }\n",
       "</style>\n",
       "<table border=\"1\" class=\"dataframe\">\n",
       "  <thead>\n",
       "    <tr style=\"text-align: right;\">\n",
       "      <th></th>\n",
       "      <th>content</th>\n",
       "      <th>label</th>\n",
       "      <th>content_cut</th>\n",
       "    </tr>\n",
       "  </thead>\n",
       "  <tbody>\n",
       "    <tr>\n",
       "      <th>86858</th>\n",
       "      <td>新华社照片，多伦多，2017年6月7日\\n（体育）（2）冰球——国家女子冰球队海外选秀在多伦...</td>\n",
       "      <td>1</td>\n",
       "      <td>新华社 照片 多伦多 2017年 6月 7日 体育 2 冰球 国家 女子 冰球队 海外 选秀...</td>\n",
       "    </tr>\n",
       "    <tr>\n",
       "      <th>86859</th>\n",
       "      <td>新华社兰州6月3日电（王衡、徐丹）记者从甘肃省交通运输厅获悉，甘肃近日集中开建高速公路、普通...</td>\n",
       "      <td>1</td>\n",
       "      <td>新华社 兰州 6月 3日 电 王衡 徐丹 记者 从 甘肃省 交通 运输厅 获悉 甘肃 近日 ...</td>\n",
       "    </tr>\n",
       "    <tr>\n",
       "      <th>86860</th>\n",
       "      <td>\\n\\n2017年5月29日，在法国巴黎郊外的凡尔赛宫，法国总统马克龙出席新闻发布会。（新华...</td>\n",
       "      <td>1</td>\n",
       "      <td>n2017 年 5月 29日 在 法国 巴黎 郊外 的 凡尔赛宫 法国 总统 马克龙 出席 ...</td>\n",
       "    </tr>\n",
       "    <tr>\n",
       "      <th>86861</th>\n",
       "      <td>\\n\\n2017年5月25日，在美国马萨诸塞州剑桥市，哈佛大学毕业生在毕业典礼上欢呼。（新华...</td>\n",
       "      <td>1</td>\n",
       "      <td>n2017 年 5月 25日 在 美国 马萨诸塞州 剑桥市 哈佛 大学 毕业生 在 毕业 典...</td>\n",
       "    </tr>\n",
       "    <tr>\n",
       "      <th>86862</th>\n",
       "      <td>新华社德国杜塞尔多夫６月６日电题：乒乓女球迷　\\n　　新华社记者王子江、张寒\\n　　熊老...</td>\n",
       "      <td>1</td>\n",
       "      <td>新华社 德国 杜塞尔多夫 ６月 ６日 电 题 乒乓 女 球迷 新华社 记者 王子江 张寒 熊...</td>\n",
       "    </tr>\n",
       "  </tbody>\n",
       "</table>\n",
       "</div>"
      ],
      "text/plain": [
       "                                                 content  label  \\\n",
       "86858  新华社照片，多伦多，2017年6月7日\\n（体育）（2）冰球——国家女子冰球队海外选秀在多伦...      1   \n",
       "86859  新华社兰州6月3日电（王衡、徐丹）记者从甘肃省交通运输厅获悉，甘肃近日集中开建高速公路、普通...      1   \n",
       "86860  \\n\\n2017年5月29日，在法国巴黎郊外的凡尔赛宫，法国总统马克龙出席新闻发布会。（新华...      1   \n",
       "86861  \\n\\n2017年5月25日，在美国马萨诸塞州剑桥市，哈佛大学毕业生在毕业典礼上欢呼。（新华...      1   \n",
       "86862  　　新华社德国杜塞尔多夫６月６日电题：乒乓女球迷　\\n　　新华社记者王子江、张寒\\n　　熊老...      1   \n",
       "\n",
       "                                             content_cut  \n",
       "86858  新华社 照片 多伦多 2017年 6月 7日 体育 2 冰球 国家 女子 冰球队 海外 选秀...  \n",
       "86859  新华社 兰州 6月 3日 电 王衡 徐丹 记者 从 甘肃省 交通 运输厅 获悉 甘肃 近日 ...  \n",
       "86860  n2017 年 5月 29日 在 法国 巴黎 郊外 的 凡尔赛宫 法国 总统 马克龙 出席 ...  \n",
       "86861  n2017 年 5月 25日 在 美国 马萨诸塞州 剑桥市 哈佛 大学 毕业生 在 毕业 典...  \n",
       "86862  新华社 德国 杜塞尔多夫 ６月 ６日 电 题 乒乓 女 球迷 新华社 记者 王子江 张寒 熊...  "
      ]
     },
     "execution_count": 5,
     "metadata": {},
     "output_type": "execute_result"
    }
   ],
   "source": [
    "df.tail()"
   ]
  },
  {
   "cell_type": "markdown",
   "metadata": {},
   "source": [
    "#### 文本向量化"
   ]
  },
  {
   "cell_type": "code",
   "execution_count": 19,
   "metadata": {},
   "outputs": [],
   "source": [
    "# 指定一定数量的feature，tfidf值小于前该数量的词汇，其tfidf值设置为 0\n",
    "vectorized = TfidfVectorizer(max_features=200)"
   ]
  },
  {
   "cell_type": "code",
   "execution_count": 20,
   "metadata": {},
   "outputs": [],
   "source": [
    "X = vectorized.fit_transform(df.content_cut)"
   ]
  },
  {
   "cell_type": "code",
   "execution_count": 21,
   "metadata": {},
   "outputs": [
    {
     "data": {
      "text/plain": [
       "(86863, 200)"
      ]
     },
     "execution_count": 21,
     "metadata": {},
     "output_type": "execute_result"
    }
   ],
   "source": [
    "X.shape"
   ]
  },
  {
   "cell_type": "code",
   "execution_count": 66,
   "metadata": {},
   "outputs": [
    {
     "data": {
      "text/plain": [
       "1    78472\n",
       "0     8391\n",
       "Name: label, dtype: int64"
      ]
     },
     "execution_count": 66,
     "metadata": {},
     "output_type": "execute_result"
    }
   ],
   "source": [
    "df.label.value_counts()"
   ]
  },
  {
   "cell_type": "markdown",
   "metadata": {},
   "source": [
    "* scipy库中consine的实现为：$$cosine(u, v) = 1 - \\frac{u \\cdot v}{||u||_2 ||v||_2}$$  取值范围[0, 2];因此这个函数的结果越小说明越相似。"
   ]
  },
  {
   "cell_type": "markdown",
   "metadata": {},
   "source": [
    "### Step4: 参考scikit-learning的方法，构建你的第一个机器学习模型"
   ]
  },
  {
   "cell_type": "markdown",
   "metadata": {},
   "source": [
    "+ 按照课程讲解的内容，把数据集分割为 traning_data, validation_data, test_data. [reference](https://scikit-learn.org/stable/modules/generated/sklearn.model_selection.train_test_split.html)"
   ]
  },
  {
   "cell_type": "code",
   "execution_count": 7,
   "metadata": {},
   "outputs": [],
   "source": [
    "X = X.toarray()\n",
    "y = df.label"
   ]
  },
  {
   "cell_type": "code",
   "execution_count": 44,
   "metadata": {},
   "outputs": [
    {
     "data": {
      "text/plain": [
       "((86863,), (86863, 200))"
      ]
     },
     "execution_count": 44,
     "metadata": {},
     "output_type": "execute_result"
    }
   ],
   "source": [
    "y.shape, X.shape"
   ]
  },
  {
   "cell_type": "code",
   "execution_count": 49,
   "metadata": {},
   "outputs": [
    {
     "data": {
      "text/plain": [
       "((52117, 200), (52117,), (17373, 200), (17373,), (17373, 200), (17373,))"
      ]
     },
     "execution_count": 49,
     "metadata": {},
     "output_type": "execute_result"
    }
   ],
   "source": [
    "Xtrain,Xtest, ytrain, ytest = train_test_split(X, y, test_size=.2)\n",
    "Xtrain, Xcv, ytrain, ycv = train_test_split(Xtrain, ytrain, test_size=.25)\n",
    "Xtrain.shape,ytrain.shape, Xcv.shape, ycv.shape, Xtest.shape , ytest.shape"
   ]
  },
  {
   "cell_type": "markdown",
   "metadata": {},
   "source": [
    "+ 参照scikit learning的示例，构建你的第一个KNN机器学习模型。[reference](https://scikit-learn.org/stable/modules/neighbors.html#neighbors)"
   ]
  },
  {
   "cell_type": "markdown",
   "metadata": {},
   "source": [
    "### Step5-6: 在traning_data, validation_data, test_data 上观察其相关metric: recall, precision, f1等， 并解释其含义. "
   ]
  },
  {
   "cell_type": "markdown",
   "metadata": {},
   "source": [
    "precision:预测正样本的能力。\n",
    "\n",
    "recall:正确找出正样本的能力。"
   ]
  },
  {
   "cell_type": "markdown",
   "metadata": {},
   "source": [
    "#### KNN\n",
    "慢。"
   ]
  },
  {
   "cell_type": "code",
   "execution_count": 50,
   "metadata": {},
   "outputs": [
    {
     "data": {
      "text/plain": [
       "0.92672537846083"
      ]
     },
     "execution_count": 50,
     "metadata": {},
     "output_type": "execute_result"
    }
   ],
   "source": [
    "clf = KNC()\n",
    "clf.fit(Xtrain, ytrain)\n",
    "clf.score(Xcv, ycv)"
   ]
  },
  {
   "cell_type": "code",
   "execution_count": 51,
   "metadata": {},
   "outputs": [],
   "source": [
    "ypred = clf.predict(Xtest)"
   ]
  },
  {
   "cell_type": "code",
   "execution_count": 52,
   "metadata": {},
   "outputs": [
    {
     "name": "stdout",
     "output_type": "stream",
     "text": [
      "              precision    recall  f1-score   support\n",
      "\n",
      "           0       0.64      0.54      0.59      1651\n",
      "           1       0.95      0.97      0.96     15722\n",
      "\n",
      "    accuracy                           0.93     17373\n",
      "   macro avg       0.80      0.75      0.77     17373\n",
      "weighted avg       0.92      0.93      0.92     17373\n",
      "\n"
     ]
    }
   ],
   "source": [
    "print(classification_report(ytest, ypred))"
   ]
  },
  {
   "cell_type": "markdown",
   "metadata": {},
   "source": [
    "非新华社文章的判准率很低，即找出非新华社文章的效果不理想，很多非新华社文章被判为新华社文章。"
   ]
  },
  {
   "cell_type": "markdown",
   "metadata": {},
   "source": [
    "#### LogisticRegression\n",
    "快。"
   ]
  },
  {
   "cell_type": "code",
   "execution_count": 72,
   "metadata": {},
   "outputs": [
    {
     "data": {
      "text/plain": [
       "(0.9717953145685835, 0.9709894664134001)"
      ]
     },
     "execution_count": 72,
     "metadata": {},
     "output_type": "execute_result"
    }
   ],
   "source": [
    "logi_clf = LogisticRegression(solver='lbfgs')\n",
    "logi_clf.fit(Xtrain, ytrain)\n",
    "logi_clf.score(Xcv, ycv), logi_clf.score(Xtest, ytest)"
   ]
  },
  {
   "cell_type": "code",
   "execution_count": 70,
   "metadata": {},
   "outputs": [
    {
     "name": "stdout",
     "output_type": "stream",
     "text": [
      "              precision    recall  f1-score   support\n",
      "\n",
      "           0       0.91      0.78      0.84      1651\n",
      "           1       0.98      0.99      0.98     15722\n",
      "\n",
      "    accuracy                           0.97     17373\n",
      "   macro avg       0.94      0.88      0.91     17373\n",
      "weighted avg       0.97      0.97      0.97     17373\n",
      "\n"
     ]
    }
   ],
   "source": [
    "ypred_logi = logi_clf.predict(Xtest)\n",
    "print(classification_report(ytest, ypred_logi))"
   ]
  },
  {
   "cell_type": "markdown",
   "metadata": {},
   "source": [
    "表现中等，作备选，如果KNN表现不如意的话。"
   ]
  },
  {
   "cell_type": "markdown",
   "metadata": {},
   "source": [
    "### Step7: 调整不同的参数，观察变化"
   ]
  },
  {
   "cell_type": "markdown",
   "metadata": {},
   "source": [
    "#### 默认参数"
   ]
  },
  {
   "cell_type": "code",
   "execution_count": 50,
   "metadata": {},
   "outputs": [
    {
     "data": {
      "text/plain": [
       "0.92672537846083"
      ]
     },
     "execution_count": 50,
     "metadata": {},
     "output_type": "execute_result"
    }
   ],
   "source": [
    "clf = KNC()\n",
    "clf.fit(Xtrain, ytrain)\n",
    "clf.score(Xcv, ycv)"
   ]
  },
  {
   "cell_type": "code",
   "execution_count": 51,
   "metadata": {},
   "outputs": [],
   "source": [
    "ypred = clf.predict(Xtest)"
   ]
  },
  {
   "cell_type": "code",
   "execution_count": 52,
   "metadata": {},
   "outputs": [
    {
     "name": "stdout",
     "output_type": "stream",
     "text": [
      "              precision    recall  f1-score   support\n",
      "\n",
      "           0       0.64      0.54      0.59      1651\n",
      "           1       0.95      0.97      0.96     15722\n",
      "\n",
      "    accuracy                           0.93     17373\n",
      "   macro avg       0.80      0.75      0.77     17373\n",
      "weighted avg       0.92      0.93      0.92     17373\n",
      "\n"
     ]
    }
   ],
   "source": [
    "print(classification_report(ytest, ypred))"
   ]
  },
  {
   "cell_type": "markdown",
   "metadata": {},
   "source": [
    "#### 调整weights 'uniform' --> 'distance'"
   ]
  },
  {
   "cell_type": "code",
   "execution_count": 92,
   "metadata": {},
   "outputs": [
    {
     "data": {
      "text/plain": [
       "0.9320209520520347"
      ]
     },
     "execution_count": 92,
     "metadata": {},
     "output_type": "execute_result"
    }
   ],
   "source": [
    "clf = KNC(weights='distance')\n",
    "clf.fit(Xtrain, ytrain)\n",
    "clf.score(Xcv, ycv)"
   ]
  },
  {
   "cell_type": "code",
   "execution_count": 93,
   "metadata": {},
   "outputs": [
    {
     "name": "stdout",
     "output_type": "stream",
     "text": [
      "              precision    recall  f1-score   support\n",
      "\n",
      "           0       0.68      0.57      0.62      1651\n",
      "           1       0.96      0.97      0.96     15722\n",
      "\n",
      "    accuracy                           0.93     17373\n",
      "   macro avg       0.82      0.77      0.79     17373\n",
      "weighted avg       0.93      0.93      0.93     17373\n",
      "\n"
     ]
    }
   ],
   "source": [
    "ypred = clf.predict(Xtest)\n",
    "print(classification_report(ytest, ypred))"
   ]
  },
  {
   "cell_type": "markdown",
   "metadata": {},
   "source": [
    "非新华社文章的判准率还是很低，比一般LogisticRegression表现都差。"
   ]
  },
  {
   "cell_type": "markdown",
   "metadata": {},
   "source": [
    "#### 调整Tfidf的文章向量数，200 --> 800"
   ]
  },
  {
   "cell_type": "code",
   "execution_count": 6,
   "metadata": {},
   "outputs": [
    {
     "data": {
      "text/plain": [
       "(86863, 800)"
      ]
     },
     "execution_count": 6,
     "metadata": {},
     "output_type": "execute_result"
    }
   ],
   "source": [
    "# 指定一定数量的feature，tfidf值小于前该数量的词汇，其tfidf值设置为 0\n",
    "vectorized = TfidfVectorizer(max_features=800)\n",
    "X = vectorized.fit_transform(df.content_cut)\n",
    "X.shape"
   ]
  },
  {
   "cell_type": "markdown",
   "metadata": {},
   "source": [
    "#### 保存文章向量到df中，供选作部分计算相似度"
   ]
  },
  {
   "cell_type": "code",
   "execution_count": 7,
   "metadata": {},
   "outputs": [],
   "source": [
    "df['doc_vector'] = pd.DataFrame(X)"
   ]
  },
  {
   "cell_type": "code",
   "execution_count": 8,
   "metadata": {},
   "outputs": [
    {
     "data": {
      "text/html": [
       "<div>\n",
       "<style scoped>\n",
       "    .dataframe tbody tr th:only-of-type {\n",
       "        vertical-align: middle;\n",
       "    }\n",
       "\n",
       "    .dataframe tbody tr th {\n",
       "        vertical-align: top;\n",
       "    }\n",
       "\n",
       "    .dataframe thead th {\n",
       "        text-align: right;\n",
       "    }\n",
       "</style>\n",
       "<table border=\"1\" class=\"dataframe\">\n",
       "  <thead>\n",
       "    <tr style=\"text-align: right;\">\n",
       "      <th></th>\n",
       "      <th>content</th>\n",
       "      <th>label</th>\n",
       "      <th>content_cut</th>\n",
       "      <th>doc_vector</th>\n",
       "    </tr>\n",
       "  </thead>\n",
       "  <tbody>\n",
       "    <tr>\n",
       "      <th>86858</th>\n",
       "      <td>新华社照片，多伦多，2017年6月7日\\n（体育）（2）冰球——国家女子冰球队海外选秀在多伦...</td>\n",
       "      <td>1</td>\n",
       "      <td>新华社 照片 多伦多 2017年 6月 7日 体育 2 冰球 国家 女子 冰球队 海外 选秀...</td>\n",
       "      <td>(0, 53)\\t0.17924403286136195\\n  (0, 48)\\t0.1...</td>\n",
       "    </tr>\n",
       "    <tr>\n",
       "      <th>86859</th>\n",
       "      <td>新华社兰州6月3日电（王衡、徐丹）记者从甘肃省交通运输厅获悉，甘肃近日集中开建高速公路、普通...</td>\n",
       "      <td>1</td>\n",
       "      <td>新华社 兰州 6月 3日 电 王衡 徐丹 记者 从 甘肃省 交通 运输厅 获悉 甘肃 近日 ...</td>\n",
       "      <td>(0, 369)\\t0.189599286645538\\n  (0, 326)\\t0.1...</td>\n",
       "    </tr>\n",
       "    <tr>\n",
       "      <th>86860</th>\n",
       "      <td>\\n\\n2017年5月29日，在法国巴黎郊外的凡尔赛宫，法国总统马克龙出席新闻发布会。（新华...</td>\n",
       "      <td>1</td>\n",
       "      <td>n2017 年 5月 29日 在 法国 巴黎 郊外 的 凡尔赛宫 法国 总统 马克龙 出席 ...</td>\n",
       "      <td>(0, 548)\\t0.05804414816418204\\n  (0, 34)\\t0....</td>\n",
       "    </tr>\n",
       "    <tr>\n",
       "      <th>86861</th>\n",
       "      <td>\\n\\n2017年5月25日，在美国马萨诸塞州剑桥市，哈佛大学毕业生在毕业典礼上欢呼。（新华...</td>\n",
       "      <td>1</td>\n",
       "      <td>n2017 年 5月 25日 在 美国 马萨诸塞州 剑桥市 哈佛 大学 毕业生 在 毕业 典...</td>\n",
       "      <td>(0, 519)\\t0.06651730113974776\\n  (0, 48)\\t0....</td>\n",
       "    </tr>\n",
       "    <tr>\n",
       "      <th>86862</th>\n",
       "      <td>新华社德国杜塞尔多夫６月６日电题：乒乓女球迷　\\n　　新华社记者王子江、张寒\\n　　熊老...</td>\n",
       "      <td>1</td>\n",
       "      <td>新华社 德国 杜塞尔多夫 ６月 ６日 电 题 乒乓 女 球迷 新华社 记者 王子江 张寒 熊...</td>\n",
       "      <td>(0, 798)\\t0.0426538919698091\\n  (0, 794)\\t0....</td>\n",
       "    </tr>\n",
       "  </tbody>\n",
       "</table>\n",
       "</div>"
      ],
      "text/plain": [
       "                                                 content  label  \\\n",
       "86858  新华社照片，多伦多，2017年6月7日\\n（体育）（2）冰球——国家女子冰球队海外选秀在多伦...      1   \n",
       "86859  新华社兰州6月3日电（王衡、徐丹）记者从甘肃省交通运输厅获悉，甘肃近日集中开建高速公路、普通...      1   \n",
       "86860  \\n\\n2017年5月29日，在法国巴黎郊外的凡尔赛宫，法国总统马克龙出席新闻发布会。（新华...      1   \n",
       "86861  \\n\\n2017年5月25日，在美国马萨诸塞州剑桥市，哈佛大学毕业生在毕业典礼上欢呼。（新华...      1   \n",
       "86862  　　新华社德国杜塞尔多夫６月６日电题：乒乓女球迷　\\n　　新华社记者王子江、张寒\\n　　熊老...      1   \n",
       "\n",
       "                                             content_cut  \\\n",
       "86858  新华社 照片 多伦多 2017年 6月 7日 体育 2 冰球 国家 女子 冰球队 海外 选秀...   \n",
       "86859  新华社 兰州 6月 3日 电 王衡 徐丹 记者 从 甘肃省 交通 运输厅 获悉 甘肃 近日 ...   \n",
       "86860  n2017 年 5月 29日 在 法国 巴黎 郊外 的 凡尔赛宫 法国 总统 马克龙 出席 ...   \n",
       "86861  n2017 年 5月 25日 在 美国 马萨诸塞州 剑桥市 哈佛 大学 毕业生 在 毕业 典...   \n",
       "86862  新华社 德国 杜塞尔多夫 ６月 ６日 电 题 乒乓 女 球迷 新华社 记者 王子江 张寒 熊...   \n",
       "\n",
       "                                              doc_vector  \n",
       "86858    (0, 53)\\t0.17924403286136195\\n  (0, 48)\\t0.1...  \n",
       "86859    (0, 369)\\t0.189599286645538\\n  (0, 326)\\t0.1...  \n",
       "86860    (0, 548)\\t0.05804414816418204\\n  (0, 34)\\t0....  \n",
       "86861    (0, 519)\\t0.06651730113974776\\n  (0, 48)\\t0....  \n",
       "86862    (0, 798)\\t0.0426538919698091\\n  (0, 794)\\t0....  "
      ]
     },
     "execution_count": 8,
     "metadata": {},
     "output_type": "execute_result"
    }
   ],
   "source": [
    "df.tail()"
   ]
  },
  {
   "cell_type": "code",
   "execution_count": 10,
   "metadata": {},
   "outputs": [
    {
     "data": {
      "text/plain": [
       "((86863, 800), (86863,))"
      ]
     },
     "execution_count": 10,
     "metadata": {},
     "output_type": "execute_result"
    }
   ],
   "source": [
    "X2 = X.toarray()\n",
    "y = df.label\n",
    "X2.shape, y.shape"
   ]
  },
  {
   "cell_type": "code",
   "execution_count": 14,
   "metadata": {},
   "outputs": [],
   "source": [
    "def corpus_split(X, y):\n",
    "    Xtrain,Xtest, ytrain, ytest = train_test_split(X, y, test_size=.2)\n",
    "    Xtrain, Xcv, ytrain, ycv = train_test_split(Xtrain, ytrain, test_size=.25)\n",
    "    return Xtrain,ytrain, Xcv, ycv, Xtest , ytest"
   ]
  },
  {
   "cell_type": "code",
   "execution_count": 15,
   "metadata": {},
   "outputs": [
    {
     "data": {
      "text/plain": [
       "((52117, 800), (52117,), (17373, 800), (17373,), (17373, 800), (17373,))"
      ]
     },
     "execution_count": 15,
     "metadata": {},
     "output_type": "execute_result"
    }
   ],
   "source": [
    "Xtrain, ytrain, Xcv, ycv, Xtest, ytest = corpus_split(X2, y)\n",
    "Xtrain.shape,ytrain.shape, Xcv.shape, ycv.shape, Xtest.shape , ytest.shape"
   ]
  },
  {
   "cell_type": "code",
   "execution_count": 15,
   "metadata": {},
   "outputs": [
    {
     "data": {
      "text/plain": [
       "0.9118747481724515"
      ]
     },
     "execution_count": 15,
     "metadata": {},
     "output_type": "execute_result"
    }
   ],
   "source": [
    "clf = KNC(weights='distance')\n",
    "clf.fit(Xtrain, ytrain)\n",
    "clf.score(Xcv, ycv)"
   ]
  },
  {
   "cell_type": "code",
   "execution_count": 16,
   "metadata": {},
   "outputs": [],
   "source": [
    "ypred = clf.predict(Xtest)"
   ]
  },
  {
   "cell_type": "code",
   "execution_count": 17,
   "metadata": {},
   "outputs": [
    {
     "name": "stdout",
     "output_type": "stream",
     "text": [
      "              precision    recall  f1-score   support\n",
      "\n",
      "           0       0.53      0.68      0.60      1699\n",
      "           1       0.96      0.94      0.95     15674\n",
      "\n",
      "    accuracy                           0.91     17373\n",
      "   macro avg       0.75      0.81      0.77     17373\n",
      "weighted avg       0.92      0.91      0.92     17373\n",
      "\n"
     ]
    }
   ],
   "source": [
    "print(classification_report(ytest, ypred))"
   ]
  },
  {
   "cell_type": "markdown",
   "metadata": {},
   "source": [
    "KNN实在是太慢了，打算用Logistics进行参数调优。\n",
    "\n",
    "判0准确率低的结果是：如果以步骤9为判断依据即判为1但实际为0则为抄袭者，因为很多0被误判为1，而又以预判结果反推来源，将导致很多文章误判为抄袭。"
   ]
  },
  {
   "cell_type": "markdown",
   "metadata": {},
   "source": [
    "#### LogisticRegression"
   ]
  },
  {
   "cell_type": "code",
   "execution_count": 26,
   "metadata": {},
   "outputs": [
    {
     "data": {
      "text/plain": [
       "(0.9711045875784263, 0.9707016635008346)"
      ]
     },
     "execution_count": 26,
     "metadata": {},
     "output_type": "execute_result"
    }
   ],
   "source": [
    "logi_clf = LogisticRegression(solver='lbfgs')\n",
    "logi_clf.fit(Xtrain, ytrain)\n",
    "logi_clf.score(Xcv, ycv), logi_clf.score(Xtest, ytest)"
   ]
  },
  {
   "cell_type": "code",
   "execution_count": 27,
   "metadata": {},
   "outputs": [],
   "source": [
    "ypred_logi = logi_clf.predict(Xtest)"
   ]
  },
  {
   "cell_type": "code",
   "execution_count": 28,
   "metadata": {},
   "outputs": [
    {
     "name": "stdout",
     "output_type": "stream",
     "text": [
      "              precision    recall  f1-score   support\n",
      "\n",
      "           0       0.93      0.76      0.84      1699\n",
      "           1       0.97      0.99      0.98     15674\n",
      "\n",
      "    accuracy                           0.97     17373\n",
      "   macro avg       0.95      0.88      0.91     17373\n",
      "weighted avg       0.97      0.97      0.97     17373\n",
      "\n"
     ]
    }
   ],
   "source": [
    "print(classification_report(ytest, ypred_logi))"
   ]
  },
  {
   "cell_type": "markdown",
   "metadata": {},
   "source": [
    "文本向量大小貌似对结果影响不大。\n",
    "\n",
    "判0的召回率低，意味着当0为positive时，预测结果与实际结果同为0的例数占实际结果的比例偏低，即实际为0，成功预测为0的比例偏低。\n",
    "召回率低而精确度高，意味着在判为0的结果中，混入少部分被误判为0的1数据，而正确判0的数据，只占实际为0的数据一小部分。"
   ]
  },
  {
   "cell_type": "markdown",
   "metadata": {},
   "source": [
    "### Step8: 不断改变参数，直到性能达到“某个”点。问：“某个”怎么定义？"
   ]
  },
  {
   "cell_type": "markdown",
   "metadata": {},
   "source": [
    "使用GridSearchCV寻找模型最优参数时，数据可以只分train和test，因为传入参数的train会被GridSearchCV分成train和CV两部分进行参数最优寻找。"
   ]
  },
  {
   "cell_type": "code",
   "execution_count": 31,
   "metadata": {},
   "outputs": [
    {
     "name": "stderr",
     "output_type": "stream",
     "text": [
      "C:\\Users\\Administrator\\Anaconda3\\envs\\nlp\\lib\\site-packages\\sklearn\\linear_model\\logistic.py:947: ConvergenceWarning: lbfgs failed to converge. Increase the number of iterations.\n",
      "  \"of iterations.\", ConvergenceWarning)\n",
      "C:\\Users\\Administrator\\Anaconda3\\envs\\nlp\\lib\\site-packages\\sklearn\\linear_model\\logistic.py:947: ConvergenceWarning: lbfgs failed to converge. Increase the number of iterations.\n",
      "  \"of iterations.\", ConvergenceWarning)\n",
      "C:\\Users\\Administrator\\Anaconda3\\envs\\nlp\\lib\\site-packages\\sklearn\\linear_model\\logistic.py:947: ConvergenceWarning: lbfgs failed to converge. Increase the number of iterations.\n",
      "  \"of iterations.\", ConvergenceWarning)\n",
      "C:\\Users\\Administrator\\Anaconda3\\envs\\nlp\\lib\\site-packages\\sklearn\\linear_model\\logistic.py:947: ConvergenceWarning: lbfgs failed to converge. Increase the number of iterations.\n",
      "  \"of iterations.\", ConvergenceWarning)\n",
      "C:\\Users\\Administrator\\Anaconda3\\envs\\nlp\\lib\\site-packages\\sklearn\\linear_model\\logistic.py:947: ConvergenceWarning: lbfgs failed to converge. Increase the number of iterations.\n",
      "  \"of iterations.\", ConvergenceWarning)\n",
      "C:\\Users\\Administrator\\Anaconda3\\envs\\nlp\\lib\\site-packages\\sklearn\\linear_model\\logistic.py:947: ConvergenceWarning: lbfgs failed to converge. Increase the number of iterations.\n",
      "  \"of iterations.\", ConvergenceWarning)\n",
      "C:\\Users\\Administrator\\Anaconda3\\envs\\nlp\\lib\\site-packages\\sklearn\\linear_model\\logistic.py:947: ConvergenceWarning: lbfgs failed to converge. Increase the number of iterations.\n",
      "  \"of iterations.\", ConvergenceWarning)\n"
     ]
    },
    {
     "data": {
      "text/plain": [
       "GridSearchCV(cv=5, error_score='raise-deprecating',\n",
       "             estimator=LogisticRegression(C=1.0, class_weight=None, dual=False,\n",
       "                                          fit_intercept=True,\n",
       "                                          intercept_scaling=1, l1_ratio=None,\n",
       "                                          max_iter=100, multi_class='warn',\n",
       "                                          n_jobs=None, penalty='l2',\n",
       "                                          random_state=None, solver='lbfgs',\n",
       "                                          tol=0.0001, verbose=0,\n",
       "                                          warm_start=False),\n",
       "             iid='warn', n_jobs=None,\n",
       "             param_grid={'C': [0.01, 0.03, 0.1, 0.3, 1, 3, 10],\n",
       "                         'solver': ['newton-cg', 'lbfgs', 'liblinear', 'sag',\n",
       "                                    'saga']},\n",
       "             pre_dispatch='2*n_jobs', refit=True, return_train_score=False,\n",
       "             scoring=None, verbose=0)"
      ]
     },
     "execution_count": 31,
     "metadata": {},
     "output_type": "execute_result"
    }
   ],
   "source": [
    "params = {'C':[.01, .03, .1, .3, 1, 3, 10], 'solver':['newton-cg', 'lbfgs', 'liblinear', 'sag', 'saga']}\n",
    "clf_logi = LogisticRegression(solver='lbfgs')\n",
    "clf = GridSearchCV(clf_logi, params, cv=5)\n",
    "clf.fit(Xtrain, ytrain)"
   ]
  },
  {
   "cell_type": "code",
   "execution_count": 40,
   "metadata": {},
   "outputs": [
    {
     "data": {
      "text/html": [
       "<div>\n",
       "<style scoped>\n",
       "    .dataframe tbody tr th:only-of-type {\n",
       "        vertical-align: middle;\n",
       "    }\n",
       "\n",
       "    .dataframe tbody tr th {\n",
       "        vertical-align: top;\n",
       "    }\n",
       "\n",
       "    .dataframe thead th {\n",
       "        text-align: right;\n",
       "    }\n",
       "</style>\n",
       "<table border=\"1\" class=\"dataframe\">\n",
       "  <thead>\n",
       "    <tr style=\"text-align: right;\">\n",
       "      <th></th>\n",
       "      <th>mean_fit_time</th>\n",
       "      <th>std_fit_time</th>\n",
       "      <th>mean_score_time</th>\n",
       "      <th>std_score_time</th>\n",
       "      <th>param_C</th>\n",
       "      <th>param_solver</th>\n",
       "      <th>params</th>\n",
       "      <th>split0_test_score</th>\n",
       "      <th>split1_test_score</th>\n",
       "      <th>split2_test_score</th>\n",
       "      <th>split3_test_score</th>\n",
       "      <th>split4_test_score</th>\n",
       "      <th>mean_test_score</th>\n",
       "      <th>std_test_score</th>\n",
       "      <th>rank_test_score</th>\n",
       "    </tr>\n",
       "  </thead>\n",
       "  <tbody>\n",
       "    <tr>\n",
       "      <th>30</th>\n",
       "      <td>12.122041</td>\n",
       "      <td>0.487327</td>\n",
       "      <td>0.019001</td>\n",
       "      <td>0.000633</td>\n",
       "      <td>10</td>\n",
       "      <td>newton-cg</td>\n",
       "      <td>{'C': 10, 'solver': 'newton-cg'}</td>\n",
       "      <td>0.980622</td>\n",
       "      <td>0.983404</td>\n",
       "      <td>0.984459</td>\n",
       "      <td>0.981579</td>\n",
       "      <td>0.981002</td>\n",
       "      <td>0.982213</td>\n",
       "      <td>0.001474</td>\n",
       "      <td>1</td>\n",
       "    </tr>\n",
       "    <tr>\n",
       "      <th>31</th>\n",
       "      <td>4.806591</td>\n",
       "      <td>0.156656</td>\n",
       "      <td>0.017799</td>\n",
       "      <td>0.000749</td>\n",
       "      <td>10</td>\n",
       "      <td>lbfgs</td>\n",
       "      <td>{'C': 10, 'solver': 'lbfgs'}</td>\n",
       "      <td>0.980622</td>\n",
       "      <td>0.983404</td>\n",
       "      <td>0.984459</td>\n",
       "      <td>0.981483</td>\n",
       "      <td>0.981002</td>\n",
       "      <td>0.982194</td>\n",
       "      <td>0.001483</td>\n",
       "      <td>5</td>\n",
       "    </tr>\n",
       "    <tr>\n",
       "      <th>32</th>\n",
       "      <td>1.363001</td>\n",
       "      <td>0.013709</td>\n",
       "      <td>0.017002</td>\n",
       "      <td>0.000631</td>\n",
       "      <td>10</td>\n",
       "      <td>liblinear</td>\n",
       "      <td>{'C': 10, 'solver': 'liblinear'}</td>\n",
       "      <td>0.980526</td>\n",
       "      <td>0.983404</td>\n",
       "      <td>0.984459</td>\n",
       "      <td>0.981675</td>\n",
       "      <td>0.981002</td>\n",
       "      <td>0.982213</td>\n",
       "      <td>0.001488</td>\n",
       "      <td>1</td>\n",
       "    </tr>\n",
       "    <tr>\n",
       "      <th>33</th>\n",
       "      <td>14.128601</td>\n",
       "      <td>1.809070</td>\n",
       "      <td>0.016202</td>\n",
       "      <td>0.000399</td>\n",
       "      <td>10</td>\n",
       "      <td>sag</td>\n",
       "      <td>{'C': 10, 'solver': 'sag'}</td>\n",
       "      <td>0.980526</td>\n",
       "      <td>0.983404</td>\n",
       "      <td>0.984459</td>\n",
       "      <td>0.981675</td>\n",
       "      <td>0.981002</td>\n",
       "      <td>0.982213</td>\n",
       "      <td>0.001488</td>\n",
       "      <td>1</td>\n",
       "    </tr>\n",
       "    <tr>\n",
       "      <th>34</th>\n",
       "      <td>22.189801</td>\n",
       "      <td>0.604848</td>\n",
       "      <td>0.016202</td>\n",
       "      <td>0.000746</td>\n",
       "      <td>10</td>\n",
       "      <td>saga</td>\n",
       "      <td>{'C': 10, 'solver': 'saga'}</td>\n",
       "      <td>0.980622</td>\n",
       "      <td>0.983404</td>\n",
       "      <td>0.984459</td>\n",
       "      <td>0.981579</td>\n",
       "      <td>0.981002</td>\n",
       "      <td>0.982213</td>\n",
       "      <td>0.001474</td>\n",
       "      <td>1</td>\n",
       "    </tr>\n",
       "  </tbody>\n",
       "</table>\n",
       "</div>"
      ],
      "text/plain": [
       "    mean_fit_time  std_fit_time  mean_score_time  std_score_time param_C  \\\n",
       "30      12.122041      0.487327         0.019001        0.000633      10   \n",
       "31       4.806591      0.156656         0.017799        0.000749      10   \n",
       "32       1.363001      0.013709         0.017002        0.000631      10   \n",
       "33      14.128601      1.809070         0.016202        0.000399      10   \n",
       "34      22.189801      0.604848         0.016202        0.000746      10   \n",
       "\n",
       "   param_solver                            params  split0_test_score  \\\n",
       "30    newton-cg  {'C': 10, 'solver': 'newton-cg'}           0.980622   \n",
       "31        lbfgs      {'C': 10, 'solver': 'lbfgs'}           0.980622   \n",
       "32    liblinear  {'C': 10, 'solver': 'liblinear'}           0.980526   \n",
       "33          sag        {'C': 10, 'solver': 'sag'}           0.980526   \n",
       "34         saga       {'C': 10, 'solver': 'saga'}           0.980622   \n",
       "\n",
       "    split1_test_score  split2_test_score  split3_test_score  \\\n",
       "30           0.983404           0.984459           0.981579   \n",
       "31           0.983404           0.984459           0.981483   \n",
       "32           0.983404           0.984459           0.981675   \n",
       "33           0.983404           0.984459           0.981675   \n",
       "34           0.983404           0.984459           0.981579   \n",
       "\n",
       "    split4_test_score  mean_test_score  std_test_score  rank_test_score  \n",
       "30           0.981002         0.982213        0.001474                1  \n",
       "31           0.981002         0.982194        0.001483                5  \n",
       "32           0.981002         0.982213        0.001488                1  \n",
       "33           0.981002         0.982213        0.001488                1  \n",
       "34           0.981002         0.982213        0.001474                1  "
      ]
     },
     "execution_count": 40,
     "metadata": {},
     "output_type": "execute_result"
    }
   ],
   "source": [
    "pd.DataFrame(clf.cv_results_).tail()"
   ]
  },
  {
   "cell_type": "code",
   "execution_count": 35,
   "metadata": {},
   "outputs": [
    {
     "data": {
      "text/plain": [
       "({'C': 10, 'solver': 'newton-cg'}, 0.9822130974538058)"
      ]
     },
     "execution_count": 35,
     "metadata": {},
     "output_type": "execute_result"
    }
   ],
   "source": [
    "clf.best_params_, clf.best_score_"
   ]
  },
  {
   "cell_type": "code",
   "execution_count": 16,
   "metadata": {},
   "outputs": [
    {
     "data": {
      "text/plain": [
       "(0.9827893858285845, 0.983652794566281)"
      ]
     },
     "execution_count": 16,
     "metadata": {},
     "output_type": "execute_result"
    }
   ],
   "source": [
    "logi_clf = LogisticRegression(C=10, solver='newton-cg')\n",
    "logi_clf.fit(Xtrain, ytrain)\n",
    "logi_clf.score(Xcv, ycv), logi_clf.score(Xtest, ytest)"
   ]
  },
  {
   "cell_type": "code",
   "execution_count": 17,
   "metadata": {},
   "outputs": [
    {
     "name": "stdout",
     "output_type": "stream",
     "text": [
      "              precision    recall  f1-score   support\n",
      "\n",
      "           0       0.94      0.89      0.91      1699\n",
      "           1       0.99      0.99      0.99     15674\n",
      "\n",
      "    accuracy                           0.98     17373\n",
      "   macro avg       0.96      0.94      0.95     17373\n",
      "weighted avg       0.98      0.98      0.98     17373\n",
      "\n"
     ]
    }
   ],
   "source": [
    "ypred = logi_clf.predict(Xtest)\n",
    "print(classification_report(ytest, ypred))"
   ]
  },
  {
   "cell_type": "markdown",
   "metadata": {},
   "source": [
    "非新华社文章的判准率还行。"
   ]
  },
  {
   "cell_type": "markdown",
   "metadata": {},
   "source": [
    "### Step9: 找出所有预测为 1， 但是实际为 0 的文章。 作为抄袭的候选者。\n",
    "这个标准需要有较高的判0 f1分数支持，否则会出现过多误判的文章。"
   ]
  },
  {
   "cell_type": "code",
   "execution_count": 18,
   "metadata": {},
   "outputs": [
    {
     "name": "stdout",
     "output_type": "stream",
     "text": [
      "              precision    recall  f1-score   support\n",
      "\n",
      "           0       0.95      0.91      0.93      8391\n",
      "           1       0.99      0.99      0.99     78472\n",
      "\n",
      "    accuracy                           0.99     86863\n",
      "   macro avg       0.97      0.95      0.96     86863\n",
      "weighted avg       0.99      0.99      0.99     86863\n",
      "\n"
     ]
    }
   ],
   "source": [
    "ypred = logi_clf.predict(X2)\n",
    "print(classification_report(y, ypred))"
   ]
  },
  {
   "cell_type": "markdown",
   "metadata": {},
   "source": [
    "确定用LogisticRegression模型。"
   ]
  },
  {
   "cell_type": "code",
   "execution_count": 20,
   "metadata": {},
   "outputs": [],
   "source": [
    "y = df.label\n",
    "y = y.to_numpy()"
   ]
  },
  {
   "cell_type": "code",
   "execution_count": 67,
   "metadata": {
    "scrolled": true
   },
   "outputs": [
    {
     "data": {
      "text/plain": [
       "[(1, 0),\n",
       " (1, 0),\n",
       " (1, 0),\n",
       " (1, 0),\n",
       " (1, 0),\n",
       " (1, 0),\n",
       " (1, 0),\n",
       " (1, 0),\n",
       " (1, 0),\n",
       " (1, 0),\n",
       " (1, 0),\n",
       " (1, 0),\n",
       " (1, 0),\n",
       " (1, 0),\n",
       " (1, 0),\n",
       " (1, 0),\n",
       " (1, 0),\n",
       " (1, 0),\n",
       " (1, 0),\n",
       " (1, 0),\n",
       " (1, 0),\n",
       " (1, 0),\n",
       " (1, 0),\n",
       " (1, 0),\n",
       " (1, 0),\n",
       " (1, 0),\n",
       " (1, 0),\n",
       " (1, 0),\n",
       " (1, 0),\n",
       " (1, 0),\n",
       " (1, 0),\n",
       " (1, 0),\n",
       " (1, 0),\n",
       " (1, 0),\n",
       " (1, 0),\n",
       " (1, 0),\n",
       " (1, 0),\n",
       " (1, 0),\n",
       " (1, 0),\n",
       " (1, 0),\n",
       " (1, 0),\n",
       " (1, 0),\n",
       " (1, 0),\n",
       " (1, 0),\n",
       " (1, 0),\n",
       " (1, 0),\n",
       " (1, 0),\n",
       " (1, 0),\n",
       " (1, 0),\n",
       " (1, 0),\n",
       " (1, 0),\n",
       " (1, 0),\n",
       " (1, 0),\n",
       " (1, 0),\n",
       " (1, 0),\n",
       " (1, 0),\n",
       " (1, 0),\n",
       " (1, 0),\n",
       " (1, 0),\n",
       " (1, 0),\n",
       " (1, 0),\n",
       " (1, 0),\n",
       " (1, 0),\n",
       " (1, 0),\n",
       " (1, 0),\n",
       " (1, 0),\n",
       " (1, 0),\n",
       " (1, 0),\n",
       " (1, 0),\n",
       " (1, 0),\n",
       " (1, 0),\n",
       " (1, 0),\n",
       " (1, 0),\n",
       " (1, 0),\n",
       " (1, 0),\n",
       " (1, 0),\n",
       " (1, 0),\n",
       " (1, 0),\n",
       " (1, 0),\n",
       " (1, 0),\n",
       " (1, 0),\n",
       " (1, 0),\n",
       " (1, 0),\n",
       " (1, 0),\n",
       " (1, 0),\n",
       " (1, 0),\n",
       " (1, 0),\n",
       " (1, 0),\n",
       " (1, 0),\n",
       " (1, 0),\n",
       " (1, 0),\n",
       " (1, 0),\n",
       " (1, 0),\n",
       " (1, 0),\n",
       " (1, 0),\n",
       " (1, 0),\n",
       " (1, 0),\n",
       " (1, 0),\n",
       " (1, 0),\n",
       " (1, 0),\n",
       " (1, 0),\n",
       " (1, 0),\n",
       " (1, 0),\n",
       " (1, 0),\n",
       " (1, 0),\n",
       " (1, 0),\n",
       " (1, 0),\n",
       " (1, 0),\n",
       " (1, 0),\n",
       " (1, 0),\n",
       " (1, 0),\n",
       " (1, 0),\n",
       " (1, 0),\n",
       " (1, 0),\n",
       " (1, 0),\n",
       " (1, 0),\n",
       " (1, 0),\n",
       " (1, 0),\n",
       " (1, 0),\n",
       " (1, 0),\n",
       " (1, 0),\n",
       " (1, 0),\n",
       " (1, 0),\n",
       " (1, 0),\n",
       " (1, 0),\n",
       " (1, 0),\n",
       " (1, 0),\n",
       " (1, 0),\n",
       " (1, 0),\n",
       " (1, 0),\n",
       " (1, 0),\n",
       " (1, 0),\n",
       " (1, 0),\n",
       " (1, 0),\n",
       " (1, 0),\n",
       " (1, 0),\n",
       " (1, 0),\n",
       " (1, 0),\n",
       " (1, 0),\n",
       " (1, 0),\n",
       " (1, 0),\n",
       " (1, 0),\n",
       " (1, 0),\n",
       " (1, 0),\n",
       " (1, 0),\n",
       " (1, 0),\n",
       " (1, 0),\n",
       " (1, 0),\n",
       " (1, 0),\n",
       " (1, 0),\n",
       " (1, 0),\n",
       " (1, 0),\n",
       " (1, 0),\n",
       " (1, 0),\n",
       " (1, 0),\n",
       " (1, 0),\n",
       " (1, 0),\n",
       " (1, 0),\n",
       " (1, 0),\n",
       " (1, 0),\n",
       " (1, 0),\n",
       " (1, 0),\n",
       " (1, 0),\n",
       " (1, 0),\n",
       " (1, 0),\n",
       " (1, 0),\n",
       " (1, 0),\n",
       " (1, 0),\n",
       " (1, 0),\n",
       " (1, 0),\n",
       " (1, 0),\n",
       " (1, 0),\n",
       " (1, 0),\n",
       " (1, 0),\n",
       " (1, 0),\n",
       " (1, 0),\n",
       " (1, 0),\n",
       " (1, 0),\n",
       " (1, 0),\n",
       " (1, 0),\n",
       " (1, 0),\n",
       " (1, 0),\n",
       " (1, 0),\n",
       " (1, 0),\n",
       " (1, 0),\n",
       " (1, 0),\n",
       " (1, 0),\n",
       " (1, 0),\n",
       " (1, 0),\n",
       " (1, 0),\n",
       " (1, 0),\n",
       " (1, 0),\n",
       " (1, 0),\n",
       " (1, 0),\n",
       " (1, 0),\n",
       " (1, 0),\n",
       " (1, 0),\n",
       " (1, 0),\n",
       " (1, 0),\n",
       " (1, 0),\n",
       " (1, 0),\n",
       " (1, 0),\n",
       " (1, 0),\n",
       " (1, 0),\n",
       " (1, 0),\n",
       " (1, 0),\n",
       " (1, 0),\n",
       " (1, 0),\n",
       " (1, 0),\n",
       " (1, 0),\n",
       " (1, 0),\n",
       " (1, 0),\n",
       " (1, 0),\n",
       " (1, 0),\n",
       " (1, 0),\n",
       " (1, 0),\n",
       " (1, 0),\n",
       " (1, 0),\n",
       " (1, 0),\n",
       " (1, 0),\n",
       " (1, 0),\n",
       " (1, 0),\n",
       " (1, 0),\n",
       " (1, 0),\n",
       " (1, 0),\n",
       " (1, 0),\n",
       " (1, 0),\n",
       " (1, 0),\n",
       " (1, 0),\n",
       " (1, 0),\n",
       " (1, 0),\n",
       " (1, 0),\n",
       " (1, 0),\n",
       " (1, 0),\n",
       " (1, 0),\n",
       " (1, 0),\n",
       " (1, 0),\n",
       " (1, 0),\n",
       " (1, 0),\n",
       " (1, 0),\n",
       " (1, 0),\n",
       " (1, 0),\n",
       " (1, 0),\n",
       " (1, 0),\n",
       " (1, 0),\n",
       " (1, 0),\n",
       " (1, 0),\n",
       " (1, 0),\n",
       " (1, 0),\n",
       " (1, 0),\n",
       " (1, 0),\n",
       " (1, 0),\n",
       " (1, 0),\n",
       " (1, 0),\n",
       " (1, 0),\n",
       " (1, 0),\n",
       " (1, 0),\n",
       " (1, 0),\n",
       " (1, 0),\n",
       " (1, 0),\n",
       " (1, 0),\n",
       " (1, 0),\n",
       " (1, 0),\n",
       " (1, 0),\n",
       " (1, 0),\n",
       " (1, 0),\n",
       " (1, 0),\n",
       " (1, 0),\n",
       " (1, 0),\n",
       " (1, 0),\n",
       " (1, 0),\n",
       " (1, 0),\n",
       " (1, 0),\n",
       " (1, 0),\n",
       " (1, 0),\n",
       " (1, 0),\n",
       " (1, 0),\n",
       " (1, 0),\n",
       " (1, 0),\n",
       " (1, 0),\n",
       " (1, 0),\n",
       " (1, 0),\n",
       " (1, 0),\n",
       " (1, 0),\n",
       " (1, 0),\n",
       " (1, 0),\n",
       " (1, 0),\n",
       " (1, 0),\n",
       " (1, 0),\n",
       " (1, 0),\n",
       " (1, 0),\n",
       " (1, 0),\n",
       " (1, 0),\n",
       " (1, 0),\n",
       " (1, 0),\n",
       " (1, 0),\n",
       " (1, 0),\n",
       " (1, 0),\n",
       " (1, 0),\n",
       " (1, 0),\n",
       " (1, 0),\n",
       " (1, 0),\n",
       " (1, 0),\n",
       " (1, 0),\n",
       " (1, 0),\n",
       " (1, 0),\n",
       " (1, 0),\n",
       " (1, 0),\n",
       " (1, 0),\n",
       " (1, 0),\n",
       " (1, 0),\n",
       " (1, 0),\n",
       " (1, 0),\n",
       " (1, 0),\n",
       " (1, 0),\n",
       " (1, 0),\n",
       " (1, 0),\n",
       " (1, 0),\n",
       " (1, 0),\n",
       " (1, 0),\n",
       " (1, 0),\n",
       " (1, 0),\n",
       " (1, 0),\n",
       " (1, 0),\n",
       " (1, 0),\n",
       " (1, 0),\n",
       " (1, 0),\n",
       " (1, 0),\n",
       " (1, 0),\n",
       " (1, 0),\n",
       " (1, 0),\n",
       " (1, 0),\n",
       " (1, 0),\n",
       " (1, 0),\n",
       " (1, 0),\n",
       " (1, 0),\n",
       " (1, 0),\n",
       " (1, 0),\n",
       " (1, 0),\n",
       " (1, 0),\n",
       " (1, 0),\n",
       " (1, 0),\n",
       " (1, 0),\n",
       " (1, 0),\n",
       " (1, 0),\n",
       " (1, 0),\n",
       " (1, 0),\n",
       " (1, 0),\n",
       " (1, 0),\n",
       " (1, 0),\n",
       " (1, 0),\n",
       " (1, 0),\n",
       " (1, 0),\n",
       " (1, 0),\n",
       " (1, 0),\n",
       " (1, 0),\n",
       " (1, 0),\n",
       " (1, 0),\n",
       " (1, 0),\n",
       " (1, 0),\n",
       " (1, 0),\n",
       " (1, 0),\n",
       " (1, 0),\n",
       " (1, 0),\n",
       " (1, 0),\n",
       " (1, 0),\n",
       " (1, 0),\n",
       " (1, 0),\n",
       " (1, 0),\n",
       " (1, 0),\n",
       " (1, 0),\n",
       " (1, 0),\n",
       " (1, 0),\n",
       " (1, 0),\n",
       " (1, 0),\n",
       " (1, 0),\n",
       " (1, 0),\n",
       " (1, 0),\n",
       " (1, 0),\n",
       " (1, 0),\n",
       " (1, 0),\n",
       " (1, 0),\n",
       " (1, 0),\n",
       " (1, 0),\n",
       " (1, 0),\n",
       " (1, 0),\n",
       " (1, 0),\n",
       " (1, 0),\n",
       " (1, 0),\n",
       " (1, 0),\n",
       " (1, 0),\n",
       " (1, 0),\n",
       " (1, 0),\n",
       " (1, 0),\n",
       " (1, 0),\n",
       " (1, 0),\n",
       " (1, 0),\n",
       " (1, 0),\n",
       " (1, 0),\n",
       " (1, 0),\n",
       " (1, 0),\n",
       " (1, 0),\n",
       " (1, 0),\n",
       " (1, 0),\n",
       " (1, 0),\n",
       " (1, 0),\n",
       " (1, 0),\n",
       " (1, 0),\n",
       " (1, 0),\n",
       " (1, 0),\n",
       " (1, 0),\n",
       " (1, 0),\n",
       " (1, 0),\n",
       " (1, 0),\n",
       " (1, 0),\n",
       " (1, 0),\n",
       " (1, 0),\n",
       " (1, 0),\n",
       " (1, 0),\n",
       " (1, 0),\n",
       " (1, 0),\n",
       " (1, 0),\n",
       " (1, 0),\n",
       " (1, 0),\n",
       " (1, 0),\n",
       " (1, 0),\n",
       " (1, 0),\n",
       " (1, 0),\n",
       " (1, 0),\n",
       " (1, 0),\n",
       " (1, 0),\n",
       " (1, 0),\n",
       " (1, 0),\n",
       " (1, 0),\n",
       " (1, 0),\n",
       " (1, 0),\n",
       " (1, 0),\n",
       " (1, 0),\n",
       " (1, 0),\n",
       " (1, 0),\n",
       " (1, 0),\n",
       " (1, 0),\n",
       " (1, 0),\n",
       " (1, 0),\n",
       " (1, 0),\n",
       " (1, 0),\n",
       " (1, 0),\n",
       " (1, 0),\n",
       " (1, 0),\n",
       " (1, 0),\n",
       " (1, 0),\n",
       " (1, 0),\n",
       " (1, 0),\n",
       " (1, 0),\n",
       " (1, 0),\n",
       " (1, 0),\n",
       " (1, 0),\n",
       " (1, 0),\n",
       " (1, 0),\n",
       " (1, 0),\n",
       " (1, 0),\n",
       " (1, 0),\n",
       " (1, 0),\n",
       " (1, 0),\n",
       " (1, 0),\n",
       " (1, 0),\n",
       " (1, 0),\n",
       " (1, 0),\n",
       " (1, 0),\n",
       " (1, 0),\n",
       " (1, 0),\n",
       " (1, 0),\n",
       " (1, 0),\n",
       " (1, 0),\n",
       " (1, 0),\n",
       " (1, 0),\n",
       " (1, 0),\n",
       " (1, 0),\n",
       " (1, 0),\n",
       " (1, 0),\n",
       " (1, 0),\n",
       " (1, 0),\n",
       " (1, 0),\n",
       " (1, 0),\n",
       " (1, 0),\n",
       " (1, 0),\n",
       " (1, 0),\n",
       " (1, 0),\n",
       " (1, 0),\n",
       " (1, 0),\n",
       " (1, 0),\n",
       " (1, 0),\n",
       " (1, 0),\n",
       " (1, 0),\n",
       " (1, 0),\n",
       " (1, 0),\n",
       " (1, 0),\n",
       " (1, 0),\n",
       " (1, 0),\n",
       " (1, 0),\n",
       " (1, 0),\n",
       " (1, 0),\n",
       " (1, 0),\n",
       " (1, 0),\n",
       " (1, 0),\n",
       " (1, 0),\n",
       " (1, 0),\n",
       " (1, 0),\n",
       " (1, 0),\n",
       " (1, 0),\n",
       " (1, 0),\n",
       " (1, 0),\n",
       " (1, 0),\n",
       " (1, 0),\n",
       " (1, 0),\n",
       " (1, 0),\n",
       " (1, 0),\n",
       " (1, 0),\n",
       " (1, 0),\n",
       " (1, 0),\n",
       " (1, 0),\n",
       " (1, 0),\n",
       " (1, 0),\n",
       " (1, 0),\n",
       " (1, 0),\n",
       " (1, 0),\n",
       " (1, 0),\n",
       " (1, 0),\n",
       " (1, 0),\n",
       " (1, 0),\n",
       " (1, 0),\n",
       " (1, 0),\n",
       " (1, 0),\n",
       " (1, 0),\n",
       " (1, 0),\n",
       " (1, 0),\n",
       " (1, 0),\n",
       " (1, 0),\n",
       " (1, 0),\n",
       " (1, 0),\n",
       " (1, 0),\n",
       " (1, 0),\n",
       " (1, 0),\n",
       " (1, 0),\n",
       " (1, 0),\n",
       " (1, 0),\n",
       " (1, 0),\n",
       " (1, 0),\n",
       " (1, 0),\n",
       " (1, 0),\n",
       " (1, 0),\n",
       " (1, 0),\n",
       " (1, 0),\n",
       " (1, 0),\n",
       " (1, 0),\n",
       " (1, 0),\n",
       " (1, 0),\n",
       " (1, 0),\n",
       " (1, 0),\n",
       " (1, 0),\n",
       " (1, 0),\n",
       " (1, 0),\n",
       " (1, 0),\n",
       " (1, 0),\n",
       " (1, 0),\n",
       " (1, 0),\n",
       " (1, 0),\n",
       " (1, 0),\n",
       " (1, 0),\n",
       " (1, 0),\n",
       " (1, 0),\n",
       " (1, 0),\n",
       " (1, 0),\n",
       " (1, 0),\n",
       " (1, 0),\n",
       " (1, 0),\n",
       " (1, 0),\n",
       " (1, 0),\n",
       " (1, 0),\n",
       " (1, 0),\n",
       " (1, 0),\n",
       " (1, 0),\n",
       " (1, 0),\n",
       " (1, 0),\n",
       " (1, 0),\n",
       " (1, 0),\n",
       " (1, 0),\n",
       " (1, 0),\n",
       " (1, 0),\n",
       " (1, 0),\n",
       " (1, 0),\n",
       " (1, 0),\n",
       " (1, 0),\n",
       " (1, 0),\n",
       " (1, 0),\n",
       " (1, 0),\n",
       " (1, 0),\n",
       " (1, 0),\n",
       " (1, 0),\n",
       " (1, 0),\n",
       " (1, 0),\n",
       " (1, 0),\n",
       " (1, 0),\n",
       " (1, 0),\n",
       " (1, 0),\n",
       " (1, 0),\n",
       " (1, 0),\n",
       " (1, 0),\n",
       " (1, 0),\n",
       " (1, 0),\n",
       " (1, 0),\n",
       " (1, 0),\n",
       " (1, 0),\n",
       " (1, 0),\n",
       " (1, 0),\n",
       " (1, 0),\n",
       " (1, 0),\n",
       " (1, 0),\n",
       " (1, 0),\n",
       " (1, 0),\n",
       " (1, 0),\n",
       " (1, 0),\n",
       " (1, 0),\n",
       " (1, 0),\n",
       " (1, 0),\n",
       " (1, 0),\n",
       " (1, 0),\n",
       " (1, 0),\n",
       " (1, 0),\n",
       " (1, 0),\n",
       " (1, 0),\n",
       " (1, 0),\n",
       " (1, 0),\n",
       " (1, 0),\n",
       " (1, 0),\n",
       " (1, 0),\n",
       " (1, 0),\n",
       " (1, 0),\n",
       " (1, 0),\n",
       " (1, 0),\n",
       " (1, 0),\n",
       " (1, 0),\n",
       " (1, 0),\n",
       " (1, 0),\n",
       " (1, 0),\n",
       " (1, 0),\n",
       " (1, 0),\n",
       " (1, 0),\n",
       " (1, 0),\n",
       " (1, 0),\n",
       " (1, 0),\n",
       " (1, 0),\n",
       " (1, 0),\n",
       " (1, 0),\n",
       " (1, 0),\n",
       " (1, 0),\n",
       " (1, 0),\n",
       " (1, 0),\n",
       " (1, 0),\n",
       " (1, 0),\n",
       " (1, 0),\n",
       " (1, 0),\n",
       " (1, 0),\n",
       " (1, 0),\n",
       " (1, 0),\n",
       " (1, 0),\n",
       " (1, 0),\n",
       " (1, 0),\n",
       " (1, 0),\n",
       " (1, 0),\n",
       " (1, 0),\n",
       " (1, 0),\n",
       " (1, 0),\n",
       " (1, 0),\n",
       " (1, 0),\n",
       " (1, 0),\n",
       " (1, 0),\n",
       " (1, 0),\n",
       " (1, 0),\n",
       " (1, 0),\n",
       " (1, 0),\n",
       " (1, 0),\n",
       " (1, 0),\n",
       " (1, 0),\n",
       " (1, 0),\n",
       " (1, 0),\n",
       " (1, 0),\n",
       " (1, 0),\n",
       " (1, 0),\n",
       " (1, 0),\n",
       " (1, 0),\n",
       " (1, 0),\n",
       " (1, 0),\n",
       " (1, 0),\n",
       " (1, 0),\n",
       " (1, 0),\n",
       " (1, 0),\n",
       " (1, 0),\n",
       " (1, 0),\n",
       " (1, 0),\n",
       " (1, 0),\n",
       " (1, 0),\n",
       " (1, 0),\n",
       " (1, 0),\n",
       " (1, 0),\n",
       " (1, 0),\n",
       " (1, 0),\n",
       " (1, 0),\n",
       " (1, 0),\n",
       " (1, 0),\n",
       " (1, 0),\n",
       " (1, 0),\n",
       " (1, 0),\n",
       " (1, 0),\n",
       " (1, 0),\n",
       " (1, 0),\n",
       " (1, 0),\n",
       " (1, 0),\n",
       " (1, 0),\n",
       " (1, 0),\n",
       " (1, 0),\n",
       " (1, 0),\n",
       " (1, 0),\n",
       " (1, 0),\n",
       " (1, 0),\n",
       " (1, 0),\n",
       " (1, 0),\n",
       " (1, 0),\n",
       " (1, 0),\n",
       " (1, 0),\n",
       " (1, 0),\n",
       " (1, 0),\n",
       " (1, 0),\n",
       " (1, 0),\n",
       " (1, 0),\n",
       " (1, 0),\n",
       " (1, 0),\n",
       " (1, 0),\n",
       " (1, 0),\n",
       " (1, 0),\n",
       " (1, 0),\n",
       " (1, 0),\n",
       " (1, 0),\n",
       " (1, 0),\n",
       " (1, 0),\n",
       " (1, 0),\n",
       " (1, 0),\n",
       " (1, 0),\n",
       " (1, 0),\n",
       " (1, 0),\n",
       " (1, 0),\n",
       " (1, 0),\n",
       " (1, 0),\n",
       " (1, 0),\n",
       " (1, 0),\n",
       " (1, 0),\n",
       " (1, 0),\n",
       " (1, 0),\n",
       " (1, 0),\n",
       " (1, 0),\n",
       " (1, 0),\n",
       " (1, 0),\n",
       " (1, 0),\n",
       " (1, 0),\n",
       " (1, 0),\n",
       " (1, 0),\n",
       " (1, 0),\n",
       " (1, 0),\n",
       " (1, 0),\n",
       " (1, 0),\n",
       " (1, 0),\n",
       " (1, 0),\n",
       " (1, 0),\n",
       " (1, 0),\n",
       " (1, 0),\n",
       " (1, 0),\n",
       " (1, 0),\n",
       " (1, 0),\n",
       " (1, 0),\n",
       " (1, 0),\n",
       " (1, 0),\n",
       " (1, 0),\n",
       " (1, 0),\n",
       " (1, 0),\n",
       " (1, 0)]"
      ]
     },
     "execution_count": 67,
     "metadata": {},
     "output_type": "execute_result"
    }
   ],
   "source": [
    "# 异或找出所有预测和实际不同的结果，再和预测相与，得到的结果中为1的即为预测为1，实际为0的索引\n",
    "result = (y ^ ypred) & ypred\n",
    "index = np.ravel(np.argwhere(result))\n",
    "[(ypred[i], y[i]) for i in index]"
   ]
  },
  {
   "cell_type": "code",
   "execution_count": 25,
   "metadata": {},
   "outputs": [],
   "source": [
    "candidates = [df.content[i] for i in index]\n",
    "candidates_clean = [df.content_cut[i] for i in index]\n",
    "candidates_vector = [df.doc_vector[i] for i in index]\n",
    "choice = np.random.choice(len(index))"
   ]
  },
  {
   "cell_type": "code",
   "execution_count": 27,
   "metadata": {},
   "outputs": [
    {
     "data": {
      "text/plain": [
       "('新华社北京6月19日电（记者 许可）金砖国家外长会晤19日在北京钓鱼台国宾馆举行。外交部长王毅主持会晤，南非国际关系与合作部长马沙巴内、巴西外长努内斯、俄罗斯外长拉夫罗夫、印度外交国务部长辛格出席。\\r\\n王毅表示，金砖合作机制成立十年来，在五国领导人有力指引下，各方秉持开放、包容、合作、共赢的金砖精神，推动金砖合作从无到有，由浅入深，取得长足发展。五国经济总量占全球比重上升，贸易投资大幅提升，在重要国际金融机构中发言权迈上新层次；合作领域全面拓展，形成全范围、宽领域、多层次的合作架构；在联合国、二十国集团等国际组织中紧密协作，维护广大发展中国家团结和利益，共同应对全球性挑战。\\r\\n王毅指出，今年是金砖国家第二个十年的开局之年，中国接任金砖国家轮值主席。中方愿同其他四国一道，继续筑牢和充实政治安全、经济金融、人文交流三大合作支柱，积极拓展更多新兴领域合作，推动金砖合作取得更多成果，开启金砖国家第二个“金色十年”。五国应深化务实合作，促进共同发展；加强全球治理，共同应对挑战；开展人文交流，夯实民意基础；推进机制建设，构建更广泛伙伴关系。\\r\\n王毅强调，金砖国家领导人第九次会晤将于9月在厦门举行，这是一次承前启后、继往开来的重要会晤，将对金砖合作的未来发展产生深远影响。中方愿同其他四国一道，积极开展相关筹备工作。\\r\\n马沙巴内、努内斯、拉夫罗夫、辛格表示，金砖国家合作强劲有力，取得重要成就。五国应继续秉持金砖精神，推动五国间合作深入发展，在全球事务中发挥更重要作用。四国高度评价中方作为金砖国家轮值主席国所做工作，承诺全力支持、配合中方筹备好领导人第九次会晤，确保会晤取得圆满成功。\\r\\n五国外长回顾总结了过去十年五国合作的成果和经验，就金砖合作下一步发展、当前国际形势和热点问题进行深入探讨。各方一致认为，金砖国家应推动新兴市场国家及发展中国家团结合作，维护和增进广大发展中国家整体利益和福祉；继续致力于维护国际公平正义、促进世界和平稳定，维护联合国在国际事务中的核心地位，推动政治解决热点问题，携手应对全球性挑战，努力构建合作共赢的新型国际关系；促进世界多极化和国际关系民主化，推动国际秩序和国际体系朝着更加公平合理方向发展，为人类社会集体繁荣进步贡献更多“金砖智慧”和“金砖方案”，为构建人类命运共同体发挥积极和建设性作用。\\r\\n会晤后，五国外长共同会见记者。\\r\\n会晤发表了《金砖国家外长会晤新闻公报》。\\r\\n',\n",
       " '新华社 北京 6月 19日 电 记者 许可 金 砖 国家 外长 会晤 19日 在 北京 钓鱼台 国宾馆 举行 外交部长 王毅 主持 会晤 南非 国际 关系 与 合作 部长 马沙巴 内 巴西 外长 努内斯 俄罗斯 外长 拉夫罗夫 印度 外交 国务 部长 辛格 出席 王毅 表示 金 砖 合作 机制 成立 十 年 来 在 五 国 领导人 有力 指引 下 各方 秉持 开放 包容 合作 共 赢 的 金 砖 精神 推动 金 砖 合作 从无到有 由 浅 入 深 取得 长足 发展 五 国 经济 总量 占 全球 比重 上升 贸易 投资 大幅 提升 在 重要 国际 金融 机构 中 发言权 迈 上 新 层次 合作 领域 全面 拓展 形成 全 范围 宽 领域 多 层次 的 合作 架构 在 联合国 二十 国 集团 等 国际 组织 中 紧密 协作 维护 广大 发展中国家 团结 和 利益 共同 应 对 全球性 挑战 王毅 指出 今年 是 金 砖 国家 第二 个 十 年 的 开局 之 年 中国 接任 金 砖 国家 轮值 主席 中方 愿 同 其他 四 国 一道 继续 筑牢 和 充实 政治 安全 经济 金融 人文 交流 三 大 合作 支柱 积极 拓展 更 多 新兴 领域 合作 推动 金 砖 合作 取得 更 多 成果 开启 金 砖 国家 第二 个 金色 十 年 五 国 应 深化 务实 合作 促进 共同 发展 加强 全球 治理 共同 应对 挑战 开展 人文 交流 夯实 民意 基础 推进 机制 建设 构建 更 广泛 伙伴 关系 王毅 强调 金 砖 国家 领导人 第九 次 会晤 将 于 9月 在 厦门 举行 这 是 一 次 承前启后 继往开来 的 重要 会晤 将 对 金 砖 合作 的 未来 发展 产生 深远 影响 中方 愿 同 其他 四 国 一道 积极 开展 相关 筹备 工作 马沙巴 内 努内斯 拉夫罗夫 辛格 表示 金 砖 国家 合作 强劲 有力 取得 重要 成就 五 国 应 继续 秉持 金 砖 精神 推动 五 国 间 合作 深入 发展 在 全球 事务 中 发挥 更 重要 作用 四 国 高度 评价 中方 作为 金 砖 国家 轮值 主席国 所 做 工作 承诺 全力 支持 配合 中方 筹备 好 领导人 第九 次 会晤 确保 会晤 取得 圆满 成功 五 国 外长 回顾 总结 了 过去 十 年 五 国 合作 的 成果 和 经验 就 金 砖 合作 下 一 步 发展 当前 国际 形势 和 热点 问题 进行 深入 探讨 各方 一致 认为 金 砖 国家 应 推动 新兴 市场 国家 及 发展中国家 团结 合作 维护 和 增进 广大 发展中国家 整体 利益 和 福祉 继续 致力 于 维护 国际 公平 正义 促进 世界 和平 稳定 维护 联合国 在 国际 事务 中 的 核心 地位 推动 政治 解决 热点 问题 携手 应 对 全球性 挑战 努力 构建 合作 共 赢 的 新型 国际 关系 促进 世界 多极化 和 国际 关系 民主化 推动 国际 秩序 和 国际 体系 朝着 更加 公平 合理 方向 发展 为 人类 社会 集体 繁荣 进步 贡献 更 多 金 砖 智慧 和 金 砖 方案 为 构建 人类 命运 共同体 发挥 积极 和 建设性 作用 会晤 后 五 国 外长 共同 会见 记者 会晤 发表 了 金 砖 国家 外长 会晤 新闻公报',\n",
       " <1x800 sparse matrix of type '<class 'numpy.float64'>'\n",
       " \twith 96 stored elements in Compressed Sparse Row format>,\n",
       " 0)"
      ]
     },
     "execution_count": 27,
     "metadata": {},
     "output_type": "execute_result"
    }
   ],
   "source": [
    "candidates[choice], candidates_clean[choice], candidates_vector[choice], df.label[choice]"
   ]
  },
  {
   "cell_type": "markdown",
   "metadata": {},
   "source": [
    "### Step10： 总结该过程，什么是数据思维？什么是机器学习思维？\n",
    "数据思维：给定模型，如何通过调整数据结构得到最优结果；\n",
    "\n",
    "机器学习思维：给定数据输入，如果通过调整参数和超参数得到最优结果。"
   ]
  },
  {
   "cell_type": "markdown",
   "metadata": {},
   "source": [
    "### (Optional)使用第4课讲解的 edit distance，在涉嫌抄袭的文章中，找到其重复的文字与被修改过的文字。 "
   ]
  },
  {
   "cell_type": "markdown",
   "metadata": {},
   "source": [
    "#### 找出和候选文章最像的新华社文章"
   ]
  },
  {
   "cell_type": "code",
   "execution_count": 53,
   "metadata": {},
   "outputs": [],
   "source": [
    "copy = candidates_vector[choice].toarray()\n",
    "xinhua_news = df.doc_vector[df.label==1]"
   ]
  },
  {
   "cell_type": "code",
   "execution_count": 38,
   "metadata": {},
   "outputs": [
    {
     "data": {
      "text/plain": [
       "3          (0, 691)\\t0.190178084097007\\n  (0, 463)\\t0.1...\n",
       "39         (0, 691)\\t0.190178084097007\\n  (0, 463)\\t0.1...\n",
       "95         (0, 350)\\t0.12793199203520353\\n  (0, 348)\\t0...\n",
       "111        (0, 666)\\t0.10523748778563713\\n  (0, 634)\\t0...\n",
       "303        (0, 712)\\t0.11637258658237533\\n  (0, 419)\\t0...\n",
       "                               ...                        \n",
       "86858      (0, 53)\\t0.17924403286136195\\n  (0, 48)\\t0.1...\n",
       "86859      (0, 369)\\t0.189599286645538\\n  (0, 326)\\t0.1...\n",
       "86860      (0, 548)\\t0.05804414816418204\\n  (0, 34)\\t0....\n",
       "86861      (0, 519)\\t0.06651730113974776\\n  (0, 48)\\t0....\n",
       "86862      (0, 798)\\t0.0426538919698091\\n  (0, 794)\\t0....\n",
       "Name: doc_vector, Length: 78472, dtype: object"
      ]
     },
     "execution_count": 38,
     "metadata": {},
     "output_type": "execute_result"
    }
   ],
   "source": [
    "xinhua_news"
   ]
  },
  {
   "cell_type": "code",
   "execution_count": 98,
   "metadata": {},
   "outputs": [],
   "source": [
    "def get_most_similars(X, candidates_clean, candidates_vector, choice):\n",
    "    copy = candidates_vector[choice].toarray()\n",
    "    all_cosine = sorted([(cosine(X[i].toarray(), copy), i) for i in X.index])\n",
    "    index = all_cosine[0][1]\n",
    "    pprint(f'疑似抄袭的文章：{candidates_clean[choice]}')\n",
    "    pprint('--' * 20)\n",
    "    pprint(f'最可能被抄袭的文章：{df.content_cut[index]}')\n",
    "    pprint('**' * 50)\n",
    "    print('\\n')\n",
    "    return index, choice"
   ]
  },
  {
   "cell_type": "code",
   "execution_count": 116,
   "metadata": {
    "scrolled": true
   },
   "outputs": [
    {
     "name": "stderr",
     "output_type": "stream",
     "text": [
      "C:\\Users\\Administrator\\Anaconda3\\envs\\nlp\\lib\\site-packages\\scipy\\spatial\\distance.py:720: RuntimeWarning: invalid value encountered in double_scalars\n",
      "  dist = 1.0 - uv / np.sqrt(uu * vv)\n"
     ]
    },
    {
     "name": "stdout",
     "output_type": "stream",
     "text": [
      "('疑似抄袭的文章：处世 为 人 特立独行 的 特朗普 用人 之 道 也 颇 具 特色 最 炫目 的 是 举贤 不 避亲 上阵 父子 兵 面对 非议 讥讽 '\n",
      " '轻 虚名 重 实利 的 这 位 总统 置若罔闻 我行我素 6月 8日 一 幕 新编 上阵 父子 兵 的 话剧 生动 上演 这天 被 罢免 的 前 联邦 '\n",
      " '调查局 局长 科米 到 国会 安全 委员会 作证 他 指控 特朗普 曾 要求 他 效忠 不要 继续 追查 弗林 的 通俄门 一 事 一 口 咬死特朗普 '\n",
      " '撒谎 总统 之 子 小特朗普 连 发 30 条 推文 对 科米 的 证词 逐条 驳斥 证明 自己 父亲 没有 撒谎 没有 阻碍 司法 调查 勇气 十足 '\n",
      " '表现 出 救父 于 危难 的 奋不顾身 在 科米 作证 时 特朗普一反常态 40 个 小时 默不作声 不论 是否 有意 安排 这 番 儿子 代父 上阵 '\n",
      " '的 场景 无疑 更 坚定 了 他 对 自己 用人 之 道 的 坚定不移 早 在 上台 问政 不久 特朗普 就 委任 女婿 库什纳 为 总统 特别 助理 '\n",
      " '头衔 虽然 有些 虚 因 有 岳父 撑 腰 权力 却 很 实 照 媒体 形容 他 在 白宫 椭圆形 办公桌 前 的 分量 越来越 重 逐渐 成为 总统 '\n",
      " '麾下 的 核心 人物 频频 参与 重大 政策 决策 甚至 有 影子 国务卿 之 称 这 还 不 算 3月 27日 特朗普 宣布 成立 美国 创新 办公室 '\n",
      " '由 库什纳 牵头 在 美国 这样 的 部门 名称 够 新鲜 职能 也 的确 不 一般 特朗 普 对 政府 机构 臃肿 效率 低下 的 状况 很 不满 想 '\n",
      " '要 把 经商 时 提前 完工 低于 预算 的 套路 用 到 政府 中 女婿 心领神会 声言 政府 应当 像 一 家 了不起 的 美国 企业 那样 运转 '\n",
      " '一 接手 就 开始 问 计 于 美国 商界 精英 包括 微软 的 比尔 和 苹果 公司 首席 执行官 蒂姆 雄心勃勃 准备 大干 一 场 库什纳 虽 '\n",
      " '精明能干 但 毕竟 才 36 岁 又 毫无 从政 经验 特朗普 觉得 须 不失时机 为 其 树威 解困 举 两 个 例子 一 次 内阁 成员 和 共和党 '\n",
      " '领袖 在 白宫 议事 前 特朗普 开玩笑 说 这 阵子 库什纳 比 他 都 出名 他 都 眼 红 了 听 出 话 外 之 音 的 一 位 与会者 向 '\n",
      " '库什纳 示意 这 是 一 枚 荣誉 勋章 4月 中 白宫 首席 战略师 班农 被 踢 出 国家 安全 委员会 媒体 普遍 认为 这 是 班农 同 库什纳 '\n",
      " '交量 的 结果 两 人 在 很多 问题 上 意见 不合 宠爱 女婿 对 女儿 也 不 亏待 3月 29日 特朗普 让 女儿 伊万卡 出任 总统 助理 '\n",
      " '引发 很多 非议 伊万卡 感到 势头 不对 发表 声明 说 我 听说 这 引起 了 一些 人 的 担心 所以 我 会 在 白宫 办公室 担任 无偿 雇员 '\n",
      " '像 其他 联邦 雇员 一样 遵守 所有 的 法规 话 是 这么 说 了 民众 不满 的 还是 不满 连 德国 外交部长 也 出来 打抱不平 他 认为 把 '\n",
      " '明星式 的 女儿 引入 国家 管理 不仅 有 搞 裙带关系 之 嫌 更 将 政治 关系 与 家族 商业 混杂 一起 在 德国 这 是 不可思议 的 他 '\n",
      " '尤其 看 不 惯 的 是 伊万卡 访问 另 一个 国家 时 享受 如同 王室 成员 的 待遇 客观 上 说 特朗普 任人唯亲 除了 个人 因素 不可 '\n",
      " '忽视 的 一 点 是 他 从 参加 大选 到 登 上 大位 始终 处于 充满 敌意 的 政治 环境 中 他 所 感受 到 的 是 围堵 和 攻讦 欺诈 '\n",
      " '和 背叛 不时 还 响起 对 他 的 弹劾声 而 这 一切 不仅 来自 反对党 还 来自 自 已 阵营 这 使 他 戒心 特别 重 就 认为 自家 人才 '\n",
      " '可靠 很 难 将 信任 的 目光 投向 外人 这 固然 偏颇 极端 但 相当 程度 上 也 是 被 逼 无奈 说 起来 令 人 吃惊 就 在 前 个 月 '\n",
      " '美国 时代 杂志 公布 本 年度 全球 100 位 最 具 影响力 的 人物 排行榜 特朗普 总统 及 女婿 女儿 全都 榜上有名 一家 3 人 同时 '\n",
      " '上 这个 榜 史无前例 看来 美国 人 怎么 想 事 做事 还 真 让 人 猜 不 透 劳木')\n",
      "'----------------------------------------'\n",
      "('最可能被抄袭的文章：5月 4日 美国 总统 特朗 普乘 空军 一 号 抵达 纽约市 肯尼迪 机场 新华 路透 新华社 北京 5月 5日 电 记者 惠晓霜 '\n",
      " '夏文辉 美国 白宫 4日 宣布 总统 唐纳德 首 次 出国 访问 行程 已 定 将 先 前往 中东 再 去 欧洲 特朗普 首 次 出访 为何 选择 中东 '\n",
      " '他 将 如何 处理 与 传统 盟友 沙特 和 以色列 的 关系 会 在 多 大 程度 上 改变 贝拉克 政府 从 中东 脱身 的 政策 出访 首 秀 '\n",
      " '白宫 宣布 本月 晚 些 时候 特朗普 将 首先 前往 沙特阿拉伯 访问 继而 前往 以色列 他 还 将 会晤 巴勒斯坦国 总统 马哈茂德 后者 3日 '\n",
      " '刚 在 白宫 见 了 特朗普 结束 中东 之 行 后 特朗普 将 访问 梵蒂冈 随后 在 意大利 首都 罗马 与 意大利 总统 会谈 接下来 他 将 '\n",
      " '前往 比利时 首都 布鲁塞尔 出席 北大西洋 公约 组织 峰会 并 会晤 欧洲 联盟 和 比利时 领导人 最后 特朗普 将 前往 意大利 西西里 出席 '\n",
      " '七国集团 峰会 这次 中东 和 欧洲 之 旅 是 特朗普 1月 就任 总统 后 首 次 出国 访问 美国 有线电视 新闻网 报道 特朗普 是 继 林登 '\n",
      " '之后 出访 时间 最 晚 的 美国 总统 也 是 自吉米 以来 首 个 不 把 加拿大 或 墨西哥 这 两 个 邻国 作为 首 个 出访 地 的 总统 '\n",
      " '一 名 白宫 发言人 说 第一 夫人 梅拉尼娅 将 全程 陪同 特朗普 访问 白宫 在 声明 中 说 特朗普 的 沙特 之 旅 将 重新 确认 美国 与 '\n",
      " '沙特 的 牢固 伙伴 关系 双方 领导人 将 讨论 一 系列 战略 关切 包括 击败 恐怖 组织 和 战胜 极端 意识形态 沙特 外交大臣 阿德尔 说 '\n",
      " '特朗普 在 沙特 访问 期间 除了 与 沙特 领导人 会谈 还 将 与 海湾 阿拉伯 国家 以及 其他 阿拉伯 和 伊斯兰 国家 领导人 会晤 在 '\n",
      " '以色列 特朗普 将 与 以方 领导人 讨论 一 系列 地区 问题 包括 应 对 伊朗 及其 代理人 伊斯兰国 和 其他 恐怖 组织 造成 的 威胁 他们 '\n",
      " '还 将 讨论 实现 以色列 与 巴勒斯坦 之间 真正 和 持久 和平 的 办法 巴 以 和平 也 是 特朗普 将 与 阿巴斯 讨论 的 议题 重返 中东 '\n",
      " '3月 14日 美国 总统 特朗普 左 在 白宫 与 到访 的 沙特 国防 大臣 穆罕默德 举行 会谈 新华 路透 美国 历史 上 大多数 总统 首 访 '\n",
      " '地 一般 都 选 在 加拿大 墨西哥 等 美国 的 后院 以此 表明 美洲 对于 美国 外交 的 基础性 战略 地位 特朗 普首 访 却 选 在 了 '\n",
      " '中东 复旦 大学 美国 研究 中心 学者 王浩 认为 其 原因 有 两 个 方面 一方面 当前 美国 与 墨西哥 加拿大 的 关系 都 不 太 好 尤其 '\n",
      " '是 美 墨 关系 由于 边境 筑 墙 事件 十分 尴尬 美 加 关系 也 由于 特朗普 政府 致力 于 重新 谈判 北美 自由 贸易 协定 而 蒙 上 '\n",
      " '了 一 层 阴影 反映 出 致力 于 推行 保护主义 政策 的 特朗普 政府 与 一贯 支持 自由 贸易 政策 的 加拿大 在 经贸 领域 已经 出现 '\n",
      " '摩擦 另一方面 中东 对 美国 而言 具有 众所周知 的 地缘 战略 价值 与 欧洲 和 东亚 一起 构成 美国 地缘 战略 三 大 重点 方向 由于 '\n",
      " '中国 日本 领导人 不久前 已经 与 特朗普 见 过 面 韩国 新 总统 还 没 产生 特朗普 此次 并 未 选择 前往 东亚 而是 选择 先 访 中东 '\n",
      " '再 访 欧洲 此外 中东 地区 由于 面临 恐怖主义 威胁 和 叙利亚 问题 等 较为 紧迫 的 挑战 特朗普 与 中东 盟友 就 这些 问题 进行 '\n",
      " '磋商 也 是 现实 需要 中国 社科院 美国 研究所 专家 刁大明 表示 特朗普 首 次 出访 的 行程 安排 给 人 第一 印象 是 有些 意外 但 '\n",
      " '事实上 还是 很 好 地 反映 了 特朗普 政府 目前 的 外交 倾向 对 中东 事务 明显 重视 甚至 显现 出 了 某种 强势 回归 中东 的 初步 '\n",
      " '态势 刁大明 说 传统 上 出于 能源 利益 军事 利益 地缘 战略 乃至 犹太 群体 利益 的 考虑 美国 共和党 政府 会 更为 关注 中东 而且 '\n",
      " '特朗普 政府 中 的 高层 官员 特别 是 防务 安保 方面 的 官员 对 中东 事务 相对 熟悉 特朗普 也 很 有 意愿 打击 伊斯兰国 并 维持 '\n",
      " '美国 在 中东 的 主导 地位 所以 他 很快 地 调整 了 奥巴马 时代 的 叙利亚 政策 开始 有所 行动 王浩 同样 认为 相 较 于 奥巴马 '\n",
      " '时期 美国 在 中东 问题 上 的 脱身 政策 特朗普 对 中东 问题 会 更 积极 在 特朗普 看来 奥巴马 的 政策 不仅 没有 让 美国 腾出手 '\n",
      " '来 进行 国内 建设 反而 恶化 了 地区 局势 加剧 了 恐怖主义 叙利亚 问题 等 带来 的 挑战 因此 特朗普 政府 在 这些 问题 上 的 态度 '\n",
      " '可能 更为 强硬 这 一 点 在 前不久 美国 对 叙利亚 的 空袭 中 可以 得到 证明 不过 王浩 指出 特朗普 对 美国 中东 政策 的 调整 也 '\n",
      " '有 限度 在 当前 美国 本土主义 和 反 全球化 思潮 上升 的 背景 下 特朗普 的 战略 大方 向 依然 是 进行 收缩 将 主要 精力 放在 '\n",
      " '解决 国内 经济 和 社会 问题 上 因而 其 像 乔治 W 布什 政府 那样 深度 卷入 中东 的 可能性 并 不 存在 并且 其 解决 问题 的 '\n",
      " '方式 将 保持 奥巴马 时期 的 多边 主义 与 盟友 合作 从而 降低 自身 战略 成本 安抚 盟友 2月 15日 白宫 联合 新闻会 结束 时 美国 '\n",
      " '总统 特朗普 右 与 以色列 总理 内塔尼亚胡 握手 新华 法新 特朗普 将 访问 的 两 个 中东 国家 沙特 和 以色列 都 是 美国 在 中东 的 '\n",
      " '重要 盟友 而且 都 对 特朗普 上台 后 美国 中东 政策 可能 变化 有所 疑虑 专家 认为 除了 稳定 中东 局势 特朗普 此行 的 另 一 重要 '\n",
      " '目的 便 是 安抚 盟友 美国 与 以色列 一直 有着 特殊 的 关系 王浩 说 美国 历届 政府 对 以色列 的 政策 都 难以 脱离 中东 地缘 '\n",
      " '政治 现实 和 美国 国内 政治 两 大 制约 因素 美国 推行 任何 中东 政策 都 需要 以色列 的 配合 离 不 开 美国 国内 强大 的 以色列 '\n",
      " '游说 集团 对于 总统 决策 的 影响力 王浩 预计 对 特朗普 政府 而言 中东 政策 再 怎么 调整 美 以 特殊 关系 也 会 继续 维持 甚至 '\n",
      " '强化 刁大明 说 特朗普 明显 重视 美 以 关系 一 改 奥巴马 时期 相对 冷漠 的 态度 其 女婿 库什纳 的 犹太裔 背景 也 是 原因 之一 '\n",
      " '同时 巴 以 问题 的确 是 美国 可以 发挥 最 大 主导 作用 的 重要 中东 议题 也 是 美国 保持 在 中东 地位 的 重要 抓手 王浩 认为 '\n",
      " '从 特朗普 与 阿巴斯 会谈 的 表态 看 他 对 解决 巴 以 问题 态度 积极 想 让 美国 继续 发挥 斡旋 作用 但是 他 没有 指出 明确 的 '\n",
      " '路线图 和 解决 方案 这 表明 特朗普 对 巴 以 问题 的 复杂性 依然 没有 足够 认识 更 没有 系统 思考 过 解决 方案 考虑 到 美国 '\n",
      " '历届 政府 在 巴 以 和谈 过程 中 遇到 的 问题 和 挑战 现实 很 可能 会 让 特朗普 受挫 尤其 是 亲 以色列 的 立场 将 使 他 协调 '\n",
      " '巴 以 矛盾 时 面临 重重 困难 美国 与 沙特 的 关系 过去 一 段 时间 也 不 太 理想 此前 有 分析 认为 特朗普 针对 一些 西亚 北非 '\n",
      " '国家 公民 的 入境 限制 令 以及 美国 国会 去年 允许 9 恐怖 袭击 幸存者 和 遇难者 亲属 起诉 沙特 政府 给 美 沙 关系 带来 负面 '\n",
      " '影响 不过 王浩 认为 沙特 依然 十分 重视 与 美国 的 盟友 关系 沙特 对 奥巴马 执政 时 美国 在 伊朗 核 问题 叙利亚 和 伊拉克 等 '\n",
      " '问题 上 的 态度 感到 不满 希望 两 国 关系 以及 美国 在 中东 的 影响力 在 特朗普 时期 有所 强化 另一方面 特朗普 政府 也 致力 于 '\n",
      " '与 沙特 合作 应 对 恐怖主义 和 极端主义 因此 特朗普 政府 对 沙特 的 重视 程度 会 有所 提高 会 视 其 为 解决 地区 问题 的 有力 '\n",
      " '助手 从而 帮助 他 把 更 多 精力 放 到 国内')\n",
      "'****************************************************************************************************'\n",
      "\n",
      "\n",
      "('疑似抄袭的文章：夫妻 俩 在 病房 玩 起 自拍 通讯员 万蕾 摄 本报 讯 记者 莫梓芫 通讯员 高翔 老婆 老婆 我 爱 你 就 像 老鼠 爱 大米 '\n",
      " '中南 医院 护士 在 手术 中 拍摄 了 脑 胶质瘤 患 刘建群 开 颅 手术 时 的 歌声 和 结婚 19 年 没有 对 妻子 说 出口 的 我 爱 '\n",
      " '你 手术 尚未 结束 时 妻子 看到 护士 从 手术室 拿 出来 的 视频 见 丈夫 思维 清晰 悬 着 的 一 颗 心 也 终于 落 下 流下 感动 '\n",
      " '的 泪水 46 岁 刘建群 一直 身体 不错 连 感冒 发烧 都 很 少 有 过 6月 7日 他 在 食堂 打饭 时 突然 抽搐 晕厥 在 地 被 送 '\n",
      " '至 医院 检查 出 颅内 有 一个 4 厘米 的 胶质瘤 肿瘤 周围 是 语言 和 运动 功能区 若 不 及时 手术 会 因 肿瘤 压迫 而 出现 偏瘫 '\n",
      " '失语 等 症状 但 手术 过程 中 稍 有 不慎 会 对 功能区 造成 损伤 他 病 了 我 是 一 天 都 没 睡 过 好 觉 刘建群 的 妻子 告诉 '\n",
      " '记者 她 害怕 出现 最 坏 的 结果 害怕 丈夫 突然 离去 从 7日 丈夫 住院 那天 起 她 就 谢绝 了 亲人 交替 照顾 丈夫 的 建议 '\n",
      " '全天候 24 小时 亲自 照顾 珍惜 两 人 一起 的 每 分 每 秒 刘建群 表现 很 乐观 他 相信 手术会 顺利 但 越是 这样 妻子 就 越 '\n",
      " '担心 妻子 也 害怕 丈夫 看出 她 的 担忧 强装 坚强 不 在 丈夫 面前 掉 一 滴 眼泪 但 往往 把 前来 看望 的 亲朋好友 送 到 医院 '\n",
      " '电梯口 泪腺 就 像 崩塌 一样 狂 流泪 其实 我 知道 她 强颜 欢笑 只不过 我 也 没 说破 刘建群 说 为 照顾 自己 妻子 租 个 小床 睡 '\n",
      " '在 旁边 他 也 十分 心疼 经 中南 医院 专家 反复 讨论 和 研究 刘建群 的 手术 定 在 16日 进行 当天 清晨 手术室 外 的 走廊 被 '\n",
      " '亲朋好友 挤满 刘建群 的 哥哥 姐姐 和 其他 亲朋好友 差不多 20 人 都 赶来 了 乐观 的 刘建群 既 感动 也 感激 他 偷瞄 了 妻子 一 '\n",
      " '眼 感受 到 她 的 紧张 和 不安 还 不 忘 安慰 让 她 放宽 心 早上 7时 左右 刘建群 被 推进 手术室 神经 外科 陈劲草 李志强 教授 '\n",
      " '在 三维 导航 定位 荧光 引导 下 对 肿瘤 实施 精准 定位 首先 切除 部分 肿瘤 在 准备 切除 功能区 的 肿瘤 时 麻醉师 将 麻醉 药 '\n",
      " '剂量 调减 刘建群 清醒 过来 并 按 医生 的 指令 活动 手脚 这时 刘建群 唱 起 了 老鼠 爱 大米 向 手术 室外 等候 的 妻子 表白 在 '\n",
      " '旁 的 医生 护士 也 被 刘建群 在 手术 重要 关头 对 妻子 的 担心 和 牵挂 所 感动 手术室 护士 拿 起 手机 录 下 视频 并 及时 把 '\n",
      " '视频 送 出 手术室 给 焦急 等待 的 妻子 及 其他 家人 观看 我 怕 她 在 手术 室外 着急 我 精神 状态 挺 好 但 她 在 外边 不 '\n",
      " '知道 啊 她 从来 没 遇到 过 这么 大 的 事情 胆子 也 一直 都 很 小 刘建群 说 他 从来 不 唱歌 的 可能 内心 真的 太 怕 妻子 '\n",
      " '担惊受怕 了 手术 时 脑子 里 回想 起 夫妻 俩 幸福 的 点点滴滴 结婚 19 年 真 没 对 妻子 说 句 我 爱 你 手术 持续 到 当天 '\n",
      " '中午 12时 多 非常 顺利 刘建群 从 手术室 推 出来 那 刻 妻子 就 赶紧 握住 他 的 手 反响 患难 见 真情 平淡 才 是 真 冯贤桥 '\n",
      " '平平淡淡见 真情 愿 刘建群 早日 康复 祝福 恩爱 夫妻 白头到老 享受 幸福 的 生活 桂加国 好 感动 患难 见 真情 患难 吐 真情 '\n",
      " '2017oneday 执子之手 与子偕老 德德 爱 就 一个 字 记者 耿尕卓玛 整理')\n",
      "'----------------------------------------'\n",
      "('最可能被抄袭的文章：新华社 南京 4月 9日 新 媒体 专电 记者 郑生竹 陆 华东 近日 一 则 丹阳 医院 医护 人员 买 下 近 2000 斤 '\n",
      " '芒果 为 患者 消除 心病 的 新闻 走红 网络 网友 们 纷纷 点赞 该院 医护 人员 医者 仁心 为何 从 主刀 医生 到 病房 护士 再 到 医院 '\n",
      " '电梯工 保安 都 争相 购买 一个 外乡 病人 的 芒果 呢 数千 斤 芒果 是 如何 在 短短 四五 天 内 销 完 的 呢 河南 老乡 丹阳 卖 '\n",
      " '芒果 突 患 急症 部分 已 装 好 卖 给 医护 人员 的 芒果 新华社 发 当时 他 愁 眉苦脸 说 有 一 车 芒果 没 卖 掉 身上 剩 的 钱 '\n",
      " '也 不 多 想 先 忍 着 回 老家 再 做 手术 李家新 回忆 起 接诊 病人 苑林 成 时 印象 最 深 的 是 他 一边 捂 着 肚子 一边 念叨 '\n",
      " '着 一千 斤 快要 烂 掉 的 芒果 该 怎么办 李 家 新 是 江苏 丹阳市 人民 医院 的 一 名 普外科 医生 苑林 成 是 来自 河南 周口 的 '\n",
      " '水果 商贩 若 不 是 因为 这 场 突发 疾病 两 人 在 小 城 丹阳 可能 不 会 发生 任何 交集 3月 底 苑林 成 和 女婿 孙平元 各 拉 '\n",
      " '着 一厢式 货车 芒果 到 江苏 丹阳 和 安徽 宿松 售 卖 30日 晚间 苑林 成 因 肚子 剧痛 来到 丹阳市 人民 医院 经 检查 被 确诊 为 '\n",
      " '胆囊 结石 伴 急性 胆囊炎 看 了 病人 的 CT 报告 后 我 当时 建议 他 尽快 做 手术 否则 可能 会 胆囊 坏疽 和 穿孔 后果 就 严重 '\n",
      " '了 李家新 说 如果 手术 住院 的 话 芒果 卖 不 出去 就 会 烂 掉 放心 不 下 呀 对于 李 家 新 的 手术 建议 苑林 成刚 开始 并 '\n",
      " '没有 答应 而是 选择 了 输液 吃 药 的 保守 治疗 手段 31日 早上 苑林 成 再次 捂 着 肚子 来到 医院 为了 消除 苑林 成 的 '\n",
      " '后顾之忧 李 家 新 就 跟 他 说 可以 号召 医院 职工 解决 芒果 销路 问题 让 他 安心 手术 住院 当天 下午 苑林 成 顺利 做 完 了 '\n",
      " '手术 当时 正逢 交接班 时间段 很 难 快速 办理 住院 考虑 到 病人 病情 比较 危急 又 是 外乡人 我 就 给 他 开 了 绿色 通道 让 他 '\n",
      " '先 直接 住院 等 安排 好 床位 后 再 让 家属 去 办理 住院 手续 李家新 说 本来 手术 后 的 两 天 他 要 在 南京 开会 但是 因为 '\n",
      " '放心 不 下 苑林 成 的 病情 和 卖 芒果 的 事情 他 开 完 半天 会 就 请假 回到 了 医院 全院 职工 争 买 芒果 帮忙 除 心病 医护 '\n",
      " '人员 向 苑林 成 的 女婿 孙平元 买 芒果 新华社 发 虽然 手术 顺利 但 货车 里 近 千 斤 水果 还 晾 在 那 得知 岳父 生病 住院 '\n",
      " '女婿 孙平元 也 从 宿松 赶到 丹阳 因为 他 也 只 在 宿松 卖 了 两 天 芒果 还有 近 千 斤 芒果 没 卖 掉 一千 斤 一下子 变成 了 '\n",
      " '两千 斤 这 给 苑林 成 焦灼 的 心 又 添 了 一 块 石头 又 大 又 好吃 的 芒果 要 不 要 买 呀 李 家 新 是 苑林成 的 主 刀 '\n",
      " '医生 术 前 术后 他 见到 同事 便 会 跟 人 说 自己 有 个 病人 的 芒果 卖 不 出去 希望 大家 帮忙 销 一 销果 令 李 家 新 没 '\n",
      " '想到 的 是 他 的 号召 不仅 得到 自己 科室 同事 的 支持 而且 连 医院 的 电梯工 和 保安 也 主动 来 买 芒果 n51 岁 的 裔泉芳 '\n",
      " '是 丹阳市 人民 医院 的 一 名 电梯工 她 平时 的 工作 是 引导 患者 和 家属 上下 电梯 维持 乘坐 秩序 当 她 得知 苑林 成 异乡 '\n",
      " '看病 芒果 滞销 的 事情 后 马上 就 买 了 一 袋 而且 她 还 回去 发动 了 单位 里 其他 9 名 电梯工 每人 都 买 了 一 袋 后来 '\n",
      " '我 看到 他们 卡车 里 还 有 不少 芒果 没 卖 完 有的 甚至 都 开始 坏 了 于是 我 又 买 了 一 袋 他们 出门在外 做 生意 也 不 '\n",
      " '容易 登记 时 我 也 不 知道 芒果 的 口感 和 品相 但 在 哪 买 不 是 买 权当 献 爱心 了 丹阳 人民 医院 普外科 主治医师 景岚 说 '\n",
      " '最 早 李 家 新 在 科室 里 号召 大家 买 芒果 时 同事 们 都 很 爽快 当时 有 同事 说 零 买 不 方便 不如 多 买 一 点 一百 元 '\n",
      " '一 袋 地 买 后来 大家 就 你 一 袋 我 两袋 地 到 李 医生 那里 去 登记 有人 最 多 买 了 四 袋 呢 n52 岁 的 明春裕 是 '\n",
      " '丹阳市 人民 医院 的 一 名 保安 主要 负责 病区 秩序 维护 虽然 工资 不 高 但 他 还是 花 了 100 元 从 苑林 成 那里 买 了 一 '\n",
      " '袋 芒果 这些 芒果 成本 不 少 生病 住院 又 需要 花钱 真 的 很 不 容易 我 虽然 帮 不 上 太 大 的 忙 但 能 帮 一 点 是 一点 '\n",
      " '买 芒果 时 大家 不挑不拣 也 没 人 要求 过 称 大家 相互 都 比较 信任 那 杆 秤 就 在 心里 李家新 说 芒果 是 大 袋子 系 好 的 '\n",
      " '每 次 都 由 苑林 成 的 女婿 孙平元 拎 上 病房 拿 给 同事 因为 一 群 人 爱上 一 座 城 参与 此次 爱心 销 芒果 的 部分 医护 '\n",
      " '人员 合影 新华社 发 没 想到 医院 只 用 了 短短的 四五 天 时间 就 把 我家 近 两千 斤 的 芒果 卖 完 了 我 一个 外乡人 初来乍到 '\n",
      " '和 医院 的 人 之前 也 都 不 认识 可 大家 知道 我 的 情况 后 都 自发 来 买 我 的 芒果 感觉 丹阳 这边 好人 真 多 苑林 成 说 '\n",
      " '苑林 成 告诉 记者 虽然 他 做 生意 走南闯北 很多 年 但是 以前 从没 来 过 丹阳 这 次 来 之前 他 无意 间 在 网上 搜索 发现 丹阳 '\n",
      " '这个 地方 比较 富裕 心里 就 想 着 到 这里 卖 芒果 可能 会 好 卖 于是 就 从 老家 批发 了 一 卡车 芒果 拉 到 丹阳 来 卖 但是 '\n",
      " '没 想到 卖 了 两 天 就 突发 急病 入院 医院 的 医生 和 护士 们 买 芒果 不 挑挑拣拣 也 没 人 怀疑 我们 缺斤少两 真的 很 感谢 '\n",
      " '他们 苑林成 说 他 生病 时 芒果 拉 到 丹阳 已经 两 天 了 其中 有 一部分 已经 起 了 黑色 斑点 不 抓紧 卖 的话 到 时候 就 亏 '\n",
      " '大 了 为 方便 苑林 成 卖 芒果 丹阳市 人民 医院 还 专门 为 他 家装 芒果 的 货车 开辟 了 一 片 绿色 停车位 有 了 这个 绿色 '\n",
      " '停车位 女婿 孙平元 不仅 可以 就近 照顾 岳父 而且 还 能 随时 给 想 买 芒果 的 医院 职工 送 芒果 我 以前 就 相信 好人 多 这 次 '\n",
      " '的 事情 更加 坚定 了 我 这个 信念 看到 那么 多 人 主动 帮 我们 心里 一下子 温暖 了 类似 的 暖 心 故事 在 丹阳 人民 医院 还有 '\n",
      " '很多 据 丹阳市 人民 医院 院长 林翼金 介绍 对 那些 危急 重症 病人 因 突发 状况 暂时 无力 支付 费用 的 患者 医院 会 开放 绿色 '\n",
      " '通道 同时 对 经济 困难 的 病人 医院 还 会 给予 不同 程度 的 费用 减免 每年 医院 大约 有 160 多 万 元 的 资金 支持 丹阳 这 '\n",
      " '座 城市 虽然 不 大 但是 这里 的 好人 很 多 我 一辈子 都 不 会 忘记 他们 我 以后 一定 会 再 来 丹阳 给 丹阳 人民 送 来 最 '\n",
      " '新鲜 最 美味 的 芒果 苑林 成 说')\n",
      "'****************************************************************************************************'\n",
      "\n",
      "\n",
      "('疑似抄袭的文章：李克强 将 出席 第十一 届 夏季 达沃斯 论坛 新华社 电 外交部 发言人 耿爽 21日 宣布 国务院 总理 李克强 将 于 6月 '\n",
      " '26日 至 28日 出席 在 大连 举行 的 第十一 届 夏季 达沃斯 论坛 开幕式 并 发表 特别 致辞 其间 李克强 将 同 与会 的 芬兰 瑞典 '\n",
      " '等 国 领导人 举行 会谈 并 会见 部分 与会 嘉宾 同 工商 金融 智库 媒体界 人士 对话 交流 本 届 论坛 主题 为 在 第四 次 工业革命 '\n",
      " '中 实现 包容性 增长 来自 90 多 个 国家 的 政要 官员 企业家 学者 及 媒体 代表 1500 余 人 将 参 会')\n",
      "'----------------------------------------'\n",
      "('最可能被抄袭的文章：新华社 照片 巴格达 2017年 4月 2日 国际 1 伊拉克 能源 论坛 在 巴格达 举行 n4 月2日 在 伊拉克 首都 巴格达 '\n",
      " '伊拉克 总理 阿巴迪 在 伊拉克 能源 论坛 上 发表 讲话 当日 第三 届 伊拉克 能源 论坛 在 巴格达 开幕 本 届 论坛 聚焦 于 伊拉克 如何 '\n",
      " '开发 其 石油 天然气 电力 等 资源 新华社 发 哈利勒 摄')\n",
      "'****************************************************************************************************'\n",
      "\n",
      "\n",
      "('疑似抄袭的文章：日前 巴基斯坦 方面 最终 确认 两 名 在 巴遭 极端 组织 IS 绑架 并 可能 遇害 的 中国 人 为 传教士 此前 伪造 了 '\n",
      " '商务 身份 入境 面对 这 一 悲剧性 事件 我们 首先 要 强烈 谴责 那些 恐怖 分子 同时 我们 还 要 警惕 一些 境外 势力 在 中国 进行 '\n",
      " '宗教 渗透 活动 渗透 有增无减 长期以来 一些 境外 团体 组织 和 个人 利用 宗教 从事 针对 我国 宗教界 宗教 信仰 和 宗教 政策 的 各种 '\n",
      " '活动 随着 中国 经济 的 发展 人员 往来 的 便捷 和 频密 这种 活动 有增无减 而且 这些 活动 违反 了 我国 宪法 法律 法规 和 政策 '\n",
      " '这些 活动 具体 可以 分为 两 方面 一 是 境外 敌对 势力 利用 宗教 作为 渗透 工具 打 着 宗教 旗号 企图 颠覆 我国 政权 和 社会主义 '\n",
      " '制度 破坏 我国 国家 统一 和 民族 团结 的 不法 活动 二 是 境外 宗教 团体 或 各种 不同 类型 的 宗教信仰者 以 违反 中国 法律 法规 '\n",
      " '的 手段 广泛 传教 进而 企图 控制 我国 的 宗教 团体 和 干涉 我国 的 宗教 事务 境外 势力 利用 宗教 进行 渗透 的 目的 不仅 在于 '\n",
      " '扩大 某种 宗教 的 影响 更 在于 在 意识形态 领域 同 我们 争夺 群众 根据 调查 走访 笔者 总结 得出 这些 渗透 活动 的 主要 方式 有 '\n",
      " '两 种 第一 利用 载体 和 媒体 进行 空中 布道 和 网络 布道 一些 国家 的 卫星 电视 节目 有 专门 针对 中国 的 固定 节目 欧 美 '\n",
      " '一些 电台 用 汉语 直接 转达 宗教 指令 操纵 我国 的 地下 势力 在 互联网 方面 目前 有 宗教 网站 网页 数十万 之 多 其中 一些 成为 '\n",
      " '境外 势力 利用 宗教 渗透 的 重要 渠道 除此之外 这些 境外 势力 还 通过 邮政 走私 或 在 我国 境内 秘密 印制 宗教 书刊 音像 制品 '\n",
      " '宗教 活动 用品 大量 邮寄 散发 等 第二 以 各种 名义 直接 派 人 来华 进行 宗教 宣传 建立 宗教 组织 包括 利用 经济 技术 交流 或 '\n",
      " '通过 文化 交流 进行 宗教 渗透 借 慈善 和 经济 资助 之 名 进行 宗教 渗透 他们 还 通过 兴办 医疗 助学 扶贫 救灾 等 慈善 事业 的 '\n",
      " '名义 有 目的地 拓展 宗教 阵地 强化 社会 宗教 意识 等 宗教 渗透 既 有 宗教 之外 的 势力 的 利用 也 有 宗教 内部 势力 的 扩张 '\n",
      " '前者 带有 明显 的 政治 意图 后者 虽 以 宗教 为 目标 但 必然 会 涉及 严重 的 政治 问题 所以 总体 上 来说 境外 势力 利用 宗教 '\n",
      " '进行 渗透 实质 就 是 一 种 危害 中国 国家 利益 的 政治 活动 越 开放 越 要 抵御 渗透 可以 看出 抵御 境外 势力 的 渗透 活动 是 '\n",
      " '对外开放 和 参与 经济 全球化 的 时代 背景 下 面临 的 重大 课题 越是 扩大 开放 越 要 抵御 渗透 笔者 认为 当前 急需 做 的 工作 '\n",
      " '包括 首先 加强 领导 建立 健全 抵御 渗透 的 工作 机制 例如 重视 抵御 渗透 工作 将 此 项 工作 纳入 议事日程 正确 把握 扩大 '\n",
      " '对外开放 和 抵御 境外 利用 宗教 进行 渗透 的 关系 主动 开展 对外 交流 宣传 我国 宗教 信仰 自由 的 真实 状况 其次 鼓励 和 支持 '\n",
      " '宗教界 在 独立自主 平等 友好 互相 尊重 的 基础 上 积极 开展 对外 交流 积极 参与 国际 间 各种 形式 的 宗教 对话 展示 我国 各 '\n",
      " '宗教 和谐 共处 的 良好 关系 增进 同 各国 人民 包括 宗教界 之间 的 了解 和 友谊 使 我国 的 宗教 政策 和 宗教 工作 得到 国际 '\n",
      " '社会 更 多 理解 和 支持 再次 旗帜鲜明 反对 利用 宗教 达到 不良 目的 在 西方 主导 的 当今 国际 话语 中 宗教 与 人权 民主 一样 '\n",
      " '似乎 总是 代表 着 政治 正确 普世 价值 一些 别有用心 的 组织 和 个人 正是 看中 了 这个 特点 不断 利用 宗教 名义 企图 达到 各种 '\n",
      " '不良 目的 一个 国家 可 利用 宗教 干涉 别国 内政 挑起 地区 冲突 一个 组织 可以 利用 宗教 从事 破坏 民族 团结 分裂 祖国 的 活动 '\n",
      " '一个 个人 可以 打 着 宗教 旗号 危害 他人 和 社会 因此 无论是 做好 国内 各项 工作 还是 开展 对外 工作 都 必须 密切 关注 国际 '\n",
      " '宗教 发展 对 我国 宗教 发展 的 影响 牢牢 把握 宗教 方面 的 领导权 与 主导权 维护 我国 的 国家 安全 一 项 系统工程 抵御 渗透 是 '\n",
      " '一 项 系统工程 需要 各 方面 协调 配合 形成 合力 在 法律 方面 应 完善 宗教 涉外 法律 法规 尤其 是 在 经济 文化 教育 和 社会 '\n",
      " '公益 等 领域 在 现实 生活 中 抵御 渗透 要 同 爱国主义 集体主义 社会主义 教育 相 结合 同 解决 信教 群众 生产 生活 的 实际 困难 '\n",
      " '相 结合 同 加强 基层 组织 和 基层 政权 建设 相 结合 帮助 信教 群众 分清 正常 宗教 活动 和 打 着 宗教 旗号 的 违法 犯罪 活动 '\n",
      " '的 界限 认清 这些 活动 的 危害 提高 他们 遵守 法律 和 抵御 境外 渗透 的 自觉性 与 坚定性 在 具体 工作 上 根据 各 宗教 具体 '\n",
      " '情况 分清 性质 区别 对待 有 针对性 开展 工作 一些 人 可能 事前 不 了解 我国 法律 法规 和 政策 从而 出现 非法 传教 行为 对 此 '\n",
      " '可以 教育 和 劝阻 为主 一些 势力 的 宗教 渗透 则 是 有 组织 有 计划 的 对 这种 必须 坚决 打击 如果 有 境内 人员 为 这些 境外 '\n",
      " '势力 进行 非法 传教 活动 提供 便利 并 配合 也 应 根据 相关 法律 法规 对 这些 境内 人员 予以 处理 惩戒 最终 目标 是 建立 和 '\n",
      " '完善 各 部门 各 地区 相互 协调 的 工作 机制 对 抵御 境外 势力 宗教 渗透 做到 全国 一 盘 棋 发挥 有效 领导 快速 反应 的 作用 '\n",
      " '此外 我国 各 宗教 应当 共同 行动 起来 夯实 抵御 渗透 的 组织 基础 物质 基础 和 思想 基础 强化 宗教界 和 普通 民众 抵御 宗教 '\n",
      " '渗透 的 意识 反对 任何 组织 和 个人 利用 宗教 达到 不良 目的 抵御 敌对 势力 利用 宗教 进行 的 渗透 活动 关系 到 我国 宗教 未来 '\n",
      " '的 健康 发展 更 关系 到 国家 的 主权 和 统一 作者 是 统战 理论 学者')\n",
      "'----------------------------------------'\n",
      "('最可能被抄袭的文章：新华社 广州 ４月 １４日 电 题 多 船 多 站 海 陆 联合 我国 极地 科考 新 模式 收获 丰硕 成果 新华社 记者 王攀 '\n",
      " '航程 近 ７万 公里 历时 共 ２３２ 天 在 雪龙 船 驶 返 祖国 后 一同 执行 中国 第３３ 次 南极 科考 任务 的 海洋 六 号 科考船 也 '\n",
      " '于 １４日 驶 返 广东 海洋 地质 专用 码头 这 是 一 次 从 深海 大洋 向 极地 冰海 跨越 的 历史性 航程 作为 我国 自主 设计 建造 '\n",
      " '的 一 艘 高性能 综合 地质 地球 物理 调查 船 海洋 六 号 同时 还 执行 了 ２０１６年 深海 地质 航次 中国 大洋 ４１ 航次 科考 任务 '\n",
      " '蓝白 相间 具备 极地 夏季 轻度 冰区 航行 能力 的 海洋 六 号 在 地球 上 划 出 了 一 条 横穿 赤道 最 南 抵达 南纬 ６３ ０９ '\n",
      " '海域 的 科考 弧线 这 也 是 一 条 成果 累累 的 科考 弧线 中国 地质 调查局 副 局长 王研 在 １４日 举行 的 科考 成果 发布会 上 '\n",
      " '介绍 说 海洋 六 号 累计 完成 多 道 地震 测量 １４２０ 千米 多 波束 测量 １２３２６ 千 米 浅 层 剖面 测量 ７０８３ 千 米 深 海 '\n",
      " '摄像 １３８ 千 米 以及 重力 柱状 取样 箱式 取样 地热 测量 以及 温盐 深 探测 共 ７４ 个 测站 等 获取 了 一 批 宝贵 的 第一手 '\n",
      " '资料 取得 了 丰硕 的 科考 成果 这 条 科考 弧线 还 刷 出 了 多 项 我国 极地 和 深 海 科考 新 纪录 通报 表示 在 科考 期间 '\n",
      " '海洋 六 号 首 次 对 南极 海域 进行 了 大面积 高 精度 高 分辨率 的 地球 物理 调查 为 研究 南极 地质 演化 与 全球 气候 变化 '\n",
      " '关系 奠定 了 基础 它 首 次 开展 了 大 范围 立体式 的 多波束 海底 地形 探测 获取 了 南极 海底 近 ２万 平方 千 米 三维 地形 '\n",
      " '地貌 高 精度 资料 它 首 次 应用 我国 自主 研发 的 地热 探针 采 获 到 南极 海底 地 热流 实测 数据 填补 了 我国 在 高纬度 寒冷 '\n",
      " '海域 相关 探测 空白 此外 它 还 首 次 在 南 太平洋 开展 地质 调查 发现 新 的 富集 稀土 的 深海 沉积物 开辟 了 深海 地质 调查 '\n",
      " '新 区域 并 拓展 了 我国 在 国际 海底 区域 的 资源 战略 空间 这 是 海洋 六 号 船 入 列 以来 调查 时间 最 长 参航 和 轮换 '\n",
      " '人员 最 多 作业 区域 跨度 最 广 航行 条件 最 复杂 的 一个 航次 充分 彰显 了 我国 深 海 进入 和 深海 探测 的 能力 王研说 在 '\n",
      " '刷 记录 的 背后 也 意味着 我国 极地 科考 多 船 多 站 海 陆 联合 新 模式 呈现 了 旺盛 活力 第３３ 次 南极 科考 由 雪龙 号 '\n",
      " '破冰船 和 海洋 六 号 共同 执行 这 是 时隔 ２６ 年 后 我国 再次 同时 部署 两 艘 科考 船 在 南极 进行 作业 作为 中国 极地 科考 '\n",
      " '的 主力军 雪龙 船 完成 了 罗斯海 新建 站 选址 工作 并 刷新 了 全球 科考 船 在 南极 海域 到达 的 最 南端 记录 考察队 还 圆满 '\n",
      " '完成 中国 首 个 南极 冰盖 机场 选址 勘察 工作 实现 了 雪鹰 ６０１ 固定翼 飞机 首 次 降落 南极 冰盖 最高点 等 新 突破 海洋 六 '\n",
      " '号 与 雪龙 船 联合 极地 科考 的 模式 是 对 我国 在 极地 开展 更 大 范围 更 多 学科 考察 活动 的 有益 探索 国家 海洋局 极地办 '\n",
      " '副 主任 夏立民 说 目前 我国 在 南北极 已经 分别 设有 长城 中山 昆仑 泰山 黄河 等 多 个 科考 站点 而 更 多 的 新 的 科考 站点 '\n",
      " '也 在 建设 与 筹划 之中 为 满足 日益 提升 的 极地 海洋 科考 需求 和 极地 运输 保障 需求 去年底 我国 新 一代 的 极地 科学 考察 '\n",
      " '破冰船 已经 开工 建设 预计 于 ２０１９年 投入 使用 再 加上 其他 科考船 的 加入 多 船 多 站 将 成为 我国 迈向 极地 科考 强国 的 '\n",
      " '标志性 特征 此外 在 南极 科考 期间 海洋 六 号 科考船 组织 的 登陆 考察 队伍 还 与 中国 地质 科学院 地质 力学 所 科考 队员 联合 '\n",
      " '开展 陆地 科考 这 一 海 陆 联合 也 是 我国 拓展 极地 考察 学科 领域 的 有益 尝试 更 重要 的 是 我们 的 科考 队伍 是 一 支 '\n",
      " '平均 年龄 不 到 ３５ 岁 的 年轻 队伍 大批 年轻人 的 加入 不仅 为 我国 远洋 极地 科考 实现 更 多 领域 的 填补 国内 空白 追赶 '\n",
      " '世界 先进 水平 提供 了 新生力量 也 意味着 中国 未来 能够 为 人类 和平 利用 南极 作出 更 大 贡献 海洋 六 号 航次 首席 科学家 '\n",
      " '中国 地质 调查局 广州 海洋 地质 调查局 副 总工程师 何高文 说 完')\n",
      "'****************************************************************************************************'\n",
      "\n",
      "\n",
      "('疑似抄袭的文章：掐 指 一 算 去年 我家 总收入 竟 超过 5万 块 从 过去 种 苞谷 赚 不 到 钱 到 2016年 家庭 收入 超过 5万 元 '\n",
      " '贵州省 六盘水市 水城县 米箩镇 俄戛村 村民 王顺友 通过 土地 技术 入股 一 家 农业 公司 一举 摘 了 穷帽 王顺友 曾 是 贫困户 家 有 '\n",
      " '4 亩 地 过去 种 苞谷 和 洋芋 挣 不 到 钱 苞谷 地 还 变成 秃子山 后来 他 将 土地 入股 到 当地 农业 公司 种植 猕猴桃 合同 '\n",
      " '期限 20 年 前 五 年 每年 可 获 土地 保底 分红 2900 元 他 还 入 了 技术股 参与 基地 管理 一 年 保底 工资 4 元 掐 指 '\n",
      " '一 算 去年 我家 总收入 竟 超过 5万 块 预计 今年 还 会 更 多 滇 桂 黔石 漠化 片区 涉及 云南 广西 贵州 三 地 15 个 州市 的 '\n",
      " '数十 个 县 区 是 我国 石漠化 分布 最 集中 也 是 面积 最 大 贫困 人口 和 少数民族 人口 最 多 的 片区 十二五 期间 该 片区 农村 '\n",
      " '贫困 人口 由 2011年 的 816万 人 减少 到 2015年 的 398万 人 农村 贫困 发生率 由 31 下降 到 15 治理石 漠化 面积 '\n",
      " '近 4000万 亩 近年来 这里 的 脱贫 攻坚 步伐 进一步 加快 据 农村 贫困 监测 数据 2016年 片区 86万 贫困 人口 实现 脱贫 农村 '\n",
      " '贫困 发生率 下降 到 11 片区 贫困 人口 人均 可 支配 收入 达 8212 元 较 上年 增长 9 既 是 一 场 产业革命 也 是 一 场 '\n",
      " '绿色 革命 记者 蹲点 采访 发现 部分 石漠化 山区 发生 明显 变化 主要 是 将 脱贫 攻坚 与 石漠化 治理 相 结合 昔日 光秃 石山 逐渐 '\n",
      " '披 上 绿装 这 既 是 一 场 产业革命 也 是 一 场 绿色 革命 广西 壮族 自治区 扶贫办 项目 处 处长 邓妙宏 说 广西 片区 通过 大力 '\n",
      " '发展 核桃 芒果 毛葡萄 茶叶 等 特色 产业 带动 片区 贫困户 44 户 161 人 特别 是 核桃 面积 已 发展 到 241万 亩 成为 华南 '\n",
      " '地区 最 大 的 核桃 生产 基地 芒果 面积 135万 亩 成为 全国 最 大 的 芒果 种植 基地 在 广西 天峨县 曾经 严重 石漠化 的 山区 '\n",
      " '各处 石山 上 乔木 灌木 郁郁葱葱 连山 脚下 的 村屯 农家 也 被 绿色 包围 天峨 县委 书记 陆祥红 说 目前 全县 森林 覆盖率 超过 84 '\n",
      " '我们 在 大力 脱贫 攻坚 的 同时 倾 力 呵护 一 方 绿水 青山 让 群众 靠 绿色 收入 脱贫致富 统计 数据 显示 自 2014年 实施 三变 '\n",
      " '改革 至 去年底 六盘水 贫困 人口 从 60 人 减少 到 31 人 贫困 发生率 从 23 下降 到 11 建成 猕猴桃 刺梨 等 农业 产业 基地 '\n",
      " '300 多 万 亩 森林 覆盖率 从 45 提高 到 52 三 变 改革 使 农村 资源 成为 源头 活水 越来越 多 的 贫困 群众 享受 改革 红利 '\n",
      " '加速 脱贫致富 六盘水 市委 书记 周荣说 补 强 脱贫 短板 打 赢 脱贫 攻坚战 滇 桂 黔石 漠化 片区 自然 地理 条件 恶劣 经济 社会 发展 '\n",
      " '滞后 致贫 原因 复杂 是 全面 打 赢 脱贫 攻坚战 难 啃 的 硬骨头 受访 基层 干部 认为 要 大力 推进 重大 基础 设施 建设 按照 缺 '\n",
      " '什么 补 什么 的 原则 尽快 补 上 村屯 道路 饮水 安全 住房 网络 宽带 等 短板 还要 加快 推进 易 地 扶贫 搬迁 产业 扶贫 生态 扶贫 '\n",
      " '加快 石漠化 治理 力度 让 贫困 家庭 挪 穷窝 挖 穷根 换 穷业 接下来 要 大力 弘扬 等 不 是 办法 干 才 有 希望 的 精神 推进 精准 '\n",
      " '扶贫 措施 落实 到位 促进 贫困 群众 稳定 脱贫 持续 增收 云南省 文山 市委 书记 李云龙 说 记者 何伟 王新明 杨静 据 新华社 南宁 6月 '\n",
      " '21日 电')\n",
      "'----------------------------------------'\n",
      "('最可能被抄袭的文章：新华社 成都 5月 23日 电 题 绣 好 精准 扶贫 新 蜀锦 四川 脱贫 攻坚 见闻 新华社 记者 肖林 陈地 乌蒙山 下 易 '\n",
      " '地 扶贫 搬迁 的 小 楼 拔地而起 大凉山 里 脱贫 后 的 彝寨 兴起 文明 新风 芦山 灾区 乡亲 们 在 脱贫 增收 的 路上 感恩 奋进 四川 '\n",
      " '举 全省 之 力 聚焦 两 不 愁 三 保障 让 贫困 群众 住 上 好 房子 过 上 好日子 养成 好 习惯 形成 好 风气 农村 贫困 人口 从 '\n",
      " '2012年 底 的 750万 人 减少 到 去年底 的 272万 人 贫困 发生率 从 11 下降 至 4 小 标题 搬离 穷 窝窝 找到 增收 路 '\n",
      " '山上 缺水 王文平 却 怕 下雨 大雨 一 来 陡坡 上 田里 的 土就 一块块 往 下 塌 30 多 年 前 盖 的 木 房子 更 是 透风 漏 雨 '\n",
      " '人勤 地 薄 古蔺县 富民村 的 王文平 穷 得 叮当 响 看 着 一 双 儿女 再 望望 大山 40 岁 的 苗族 汉子 觉得 有劲 却 没 处 使 '\n",
      " '2016年 古蔺县 1 贫困 人口 实现 易 地 扶贫 搬迁 王文平 没 花 一 分 钱 就 搬进 90 平方米 的 砖房 山下 活 多 打 零工 半 '\n",
      " '年 就 挣 了 15000 多 元 刚 脱贫 的 王文平 浑身 都 是 劲 用 2万 元 扶贫 小额 信用 贷款 养 了 12 头 猪 种 的 木瓜 有 '\n",
      " '合作社 收购 结合 乡村 旅游 可以 搞 农舍 接待 在 四川 像 王文平 一样 搬离 一 方 水土 养 不 起 一 方 人 的 困境 通过 特色 '\n",
      " '农林业 劳务 经济 资产 收益 等 脱贫 路径 改变 命运 的 故事 并 不 鲜见 贫困 发生率 19 的 叙永县 堰塘村 搬迁 群众 依托 企业 的 '\n",
      " '1000 亩 高 标准 甜橙 基地 通过 水果 种植 入股 分红 乡村 旅游 等 今年 将 实现 整 村 脱贫 四川 易地 扶贫 搬迁 对象 有 '\n",
      " '116万 人 2016年 完成 投资 165 元 33 人 和 王文平 一样 搬进 新居 户 均 自筹 不 超过 1万 元 至少 有 17万 人 摆脱 '\n",
      " '了 贫困 小 标题 扶贫 举措 共振 彝区 藏区 大 变样 四川 有 4 个 集中 连片 特困 地区 特别 是 贫困 发生率 仍 有 21 的 大小凉山 '\n",
      " '彝区 12 的 高原 藏区 脱贫 难度 非同寻常 彝区 十 项 扶贫 工程 藏区 六 项 民生 工程 等 有力 举措 正 给 当地 带来 变化 四面 '\n",
      " '土墙 围 成 一 间 屋 屋顶 只 有 木板 遮 雨 一家人 和 牛 马 都 在 里面 凉山 彝族 自治州 金阳县 保尔村 的 阿米格者 没 想到 '\n",
      " '祖祖辈辈 人 畜 混居 的 历史 在 他 身上 结束 了 四川 实施 彝家 新寨 藏区 新居 巴山 新居 乌蒙新村 特殊 政策 阿米格者 拿 着 4万 '\n",
      " '元 补贴 自己 投 工 投 劳 修 起 两 层 小 楼 底层 养猪 养牛 二 层 是 三 室 一 厅 外加 独立 的 卫生间 杂物间 和 院 坝 保尔村 '\n",
      " '海拔 2600 多 米 是 高寒 山区 彝族 聚居村 村民 过去 只 会 种 土豆 苦荞 而且 广种薄收 现在 推广 的 土豆 新 品种 每亩 能 增产 '\n",
      " '两三千 斤 农民 夜校 还 让 大家 学会 了 种 蔬菜 和 中药材 凉山州 还 力推 移风易俗 让 一 步 跨 千 年 的 彝族 群众 养成 好 习惯 '\n",
      " '形成 好 风气 红 白喜事 借 钱 送 高额 彩礼 杀 几十 头 牛 一 夜 致 贫 等 陋习 没 了 保尔村 第一 书记 蔡自姑 惹 说 在 甘孜 '\n",
      " '藏族 自治州 德格县 贡空村 61 岁 的 泽仁曲措 用 上 了 自来水 在 凉山州 德昌县 新塘村 搬迁户 的 孩子 在 镇上 顺利 入学 彝区 藏区 '\n",
      " '新 改建 农村 公路 1 公里 藏区 36万 人 告别 无 电 历史 众多 扶贫 举措 共振 2016年 四川 藏区 彝区 11 人 脱贫 小 标题 '\n",
      " '精准 滴灌 每年 脱贫 一百万 人 我 老婆 到 县城 的 工业园 打工 一个 月 工资 就 有 2300 元 去年 全家 收入 4万 多 元 雅安市 '\n",
      " '芦山县 同盟村 的 文加武 说 否则 4 口 人 靠 2 亩 地 怎么 脱贫 啊 同村 的 文希智 68 岁 没法 打工 扶贫 干部 就 帮 他 利用 '\n",
      " '荒坡地 养 了 700 多 只 鸡 家里 年 人均收入 增加 到 5100 多 元 家家 情况 不 一样 户户 增收 有 偏方 同盟村 第一 书记 杨帅 '\n",
      " '说 村里 还 清退 不 符合 标准 的 贫困户 15 人 新 识别 增加 贫困 人口 19 人 实现 整 村 脱贫 的 秘诀 就 是 精准 滴灌 为了 '\n",
      " '精准 识别 四川 建成 脱贫 攻坚 大 数据 平台 为了 精准 帮扶 四川 分类 实施 移民 搬迁 安置 一 批 灾 后 重建 帮扶 一 批 等 五 个 '\n",
      " '一 批 扶贫 攻坚 行动 计划 文加 武家 130 平方米 砖 混 结构 的 新房 就 得益 于 芦山 地震 灾 后 农房 重建 补助 和 贴息贷款 '\n",
      " '投资 129亿 元 的 370 多 个 灾 后 重建 项目 有力 促进 了 芦山县 脱贫 攻坚 雅安市 贫困 人口 从 2013年 的 10 人 减 至 '\n",
      " '去年底 的 1 人 就业 扶贫 84 人 转移 就业 财政 金融 扶贫 四 项 基金 达 70亿 元 民族自治 地方 51 个 县 实施 15 年 免费 '\n",
      " '教育 通过 精准 施策 近年来 四川 平均 每年 减贫 100万 人 以上 2017年 22 个 扶贫 专项 投资 超过 1000亿 元 计划 16 个 '\n",
      " '县 摘帽 3700 个 村 退出 105万 人 脱贫 完')\n",
      "'****************************************************************************************************'\n",
      "\n",
      "\n"
     ]
    }
   ],
   "source": [
    "for choice_ in range(605, 610):\n",
    "    get_most_similars(xinhua_news, candidates_clean, candidates_vector, choice_)"
   ]
  },
  {
   "cell_type": "code",
   "execution_count": 99,
   "metadata": {
    "scrolled": true
   },
   "outputs": [
    {
     "name": "stderr",
     "output_type": "stream",
     "text": [
      "C:\\Users\\Administrator\\Anaconda3\\envs\\nlp\\lib\\site-packages\\scipy\\spatial\\distance.py:720: RuntimeWarning: invalid value encountered in double_scalars\n",
      "  dist = 1.0 - uv / np.sqrt(uu * vv)\n"
     ]
    },
    {
     "name": "stdout",
     "output_type": "stream",
     "text": [
      "('疑似抄袭的文章：原 标题 林郑月娥 将 香港 建设 成 朝气蓬勃 生活 富足 的 城市 新华社 香港 6月 20日 电 题 将 香港 建设 成 朝气蓬勃 '\n",
      " '生活 富足 的 城市 访 香港 特别 行政区 候任 行政 长官 林郑月娥 即将 于 7月 1日 宣誓 就职 的 香港 特区 候任 行政 长官 林郑月娥 '\n",
      " '认为 香港 回归 祖国 20 年 来 一国两制 的 成功 落实 维护 了 香港 的 繁荣 稳定 与 核心 价值 让 香港 成功 地 应对 了 困难 与 '\n",
      " '危机 林 郑月娥 步入 侯任 行政 长官 办公室 准备 接受 采访 新华社 记者 陈晔华 摄 香港 回归 祖国 20 周年 前夕 林 郑月娥 女士 在 '\n",
      " '候任 行政 长官 办公室 接受 了 新华社 记者 采访 她 表示 上任 后 将 努力 带领 特区 政府 将 香港 建设 成 国家 有 朝气 的 特别 '\n",
      " '行政区 为 市民 提供 满足 感 高 的 生活 与 香港 回归 的 两 次 结缘 1980年 加入 公职 的 林郑月娥 已经 服务 香港 市民 超过 '\n",
      " '36年 亲身 经历 并 见证 了 回归 前后 香港 的 发展 与 变迁 她 认为 过去 20 年 香港 落实 一国两制 港人治港 高度 自治 的 方针 '\n",
      " '维护 了 香港 的 繁荣 与 稳定 在 中央 的 大力 支持 下 香港 成功 处理 了 困难 与 危机 从而 能够 渡过 难关 焕发 生机 一国两制 的 '\n",
      " '落实 是 非常 成功 的 林 郑月娥 说 过去 20 年 尽管 香港 经济 发展 经历 了 起伏 但 经济 总量 累计 增长 达 82 对于 经济 社会 '\n",
      " '发展 水平 比较 高 的 经济体 而言 这 是 十分 不 容易 的 在 这 一 过程 中 一国两制 港人治港 高度 自治 的 方针 以及 香港 的 法治 '\n",
      " '自由 等 核心 价值 始终如一 这些 都 是 一国两制 的 初心 林 郑月娥 在 接受 记者 采访 新华社 记者 陈晔华 摄 林 郑月娥 曾 于 '\n",
      " '1985年 1996年 两 次 参加 中 英 联络 小组 的 工作 第一 次 是 讨论 香港 基本法 第24 条 的 有关 立法 工作 包括 签发 回归 '\n",
      " '后 新 的 香港 身份证 以及 保安 入境 等 第二 次 是 参与 编制 1997 至 1998年 财政 预算案 她 回忆 道 在 工作 中 很 高兴 '\n",
      " '结识 了 许多 内地 的 负责人 和 工作 人员 感到 大家 都 非常 专业 对 能够 参与 这项 伟大 的 事业 感到 光荣 每个 人 都 尽力 做到 '\n",
      " '最 好 能够 两 次 参与 回归 的 相关 工作 为 确保 香港 顺利 平稳 回归 作出 贡献 作为 一个 香港 人 中国 人 我 感到 很 有 意义 '\n",
      " '行政 长官 须 向 中央 和 香港 双重 负责 在 3月 举行 的 香港 特区 第五 任 行政 长官 选举 中 林郑月娥 高 票 当选 她 告诉 记者 '\n",
      " '当选 的 那 一刻 以及 后来 在 北京 从 李克强 总理 手中 接 过 中央政府 任命书 的 时候 都 感到 任重道远 她 说 香港 特区 行政 长官 '\n",
      " '既 要 向 中央政府 负责 也 要 向 香港 特区 负责 要 处理 好 中央 要求 和 香港 本地 实际 情况 这 两者 的 关系 就要 准确 地 按照 '\n",
      " '基本法 办事 因为 基本法 是 香港 的 宪制性 法律 是 行政 长官 及 特区 政府 在 香港 准确 落实 一国两制 的 依据 针对 近年来 香港 '\n",
      " '社会 出现 的 港独 言行 林郑月娥 表示 港独 在 香港 完全 没有 出路 一国两制 的 初心 和 原意 就 包含 了 香港 特别 行政区 是 国家 '\n",
      " '不可 分离 的 一 部分 并且 香港 的 回归 有利于 维护 国家 的 主权 安全 和 发展 利益 林 郑月娥 在 接受 记者 采访 时 回答 提问 '\n",
      " '新华社 记者 陈晔华 摄 我 相信 绝大部分 香港 市民 从来 没有 觉得 港独 是 一个 可以 考虑 的 方案 未来 特区 政府 将 严格 依法 办事 '\n",
      " '所有 港独 行为 都 违反 本地 法律 我们 必须 严格 执法 林郑月娥 强调 她 表示 特区 政府 还 将 做 好 教育 工作 要 向 社会 大众 '\n",
      " '说明 港独 对 香港 繁荣 稳定 的 危害性 不 能 让 港独 在 香港 传播 尤其 是 要 杜绝 港独 对 少年儿童 的 侵害 香港 情怀 国家 观念 '\n",
      " '全球 视野 林 郑月娥 在 参加 香港 第五 任 行政 长官 选举 期间 提出 希望 香港 青年 能够 被 培育 成 具备 香港 情怀 国家 观念 和 '\n",
      " '世界 视野 的 一代人 她 在 采访 中 说 香港 情怀 和 国家 观念 完全 没有 冲突 我们 既 可以 多 让 孩子 们 了解 香港 的 历史 文化 '\n",
      " '政治 社会 发展 情况 同时 也 必须 要 让 他们 有 国民 身份 的 认同 为此 特区 政府 和 社会 应该 怎么 做 林 郑月娥 认为 这 离 不 '\n",
      " '开 教育 在 幼儿 阶段 就 应该 开始 培养 我 是 中国 人 的 概念 在 中小学 阶段 林郑月娥 提出 未来 应该 将 中国 历史 纳入 初中 必 '\n",
      " '修 科目 在 学校 以外 特区 政府 要 加大 力度 让 孩子 们 能够 接触 到 更 多 的 中国 文化 让 香港 青年 了解 国家 最新 的 发展 '\n",
      " '林 郑月娥 在 接受 记者 采访 时 回答 提问 新华社 记者 陈晔华 摄 林 郑月娥 对 推动 香港 文化 事业 发展 倾注 了 大量 热情 和 努力 '\n",
      " '在 担任 本届 特区 政府 政务司 司长 期间 还 兼任 香港 在建 的 大型 项目 西九 文化区 的 管理局 主席 她 说 香港 文化 事业 正 处于 '\n",
      " '蓬勃 发展 阶段 未来 五 至 十 年 西九 文化区 和 位于 文化区 的 香港 故宫 文化 博物馆 将 相继 落成 文化 事业 对于 提高 市民 的 '\n",
      " '修养 提升 香港 的 旅游 品质 促进 经济 培养 青年 人才 都 具有 十分 重要 的 意义 特区 政府 将 更 积极 有 为 谈及 未来 五 年 '\n",
      " '特区 政府 的 施政 目标 和 她 本人 的 期许 林郑月娥 表示 愿意 用 她 丰富 的 从政 经验 秉承 自己 在 参选 行政 长官 时 提出 的 '\n",
      " '理念 努力 让 香港 成为 国家 一个 非常 有 朝气 的 城市 我 对 香港 未来 的 期盼 就 是 为 香港 市民 提供 一个 生活 满足 感 非常 '\n",
      " '高 的 地方 为 青年 提供 各展所长 的 机会 让 中年人 安居乐业 让 老年人 安享 晚年 林郑月娥 说 要 实现 这些 目标 下 一 届 特区 '\n",
      " '政府 将 优先 从 三 个 方面 加大 工作 力度 首先 是 土地 房屋 政策 解决 香港 楼价 高 买房 难 问题 第二 是 教育 将 投放 更 多 '\n",
      " '资源 培养 出 足够 的 人才 支撑 香港 未来 的 发展 第三 是 让 香港 的 经济 结构 更加 多元化 巩固 和 提升 传统 产业 开拓 创新 '\n",
      " '科技 产业 和 创意 产业 林 郑月娥 在 接受 记者 采访 时 回答 提问 新华社 记者 陈晔华 摄 林 郑月娥 认为 特区 政府 不 能 停留 在 '\n",
      " '公共 服务 提供者 和 市场 监管者 层面 要 更 有 动力 地 发展 香港 经济 就 要求 特区 政府 必须 再 进入 另外 两 个 新 角色 要 '\n",
      " '成为 许多 工作 的 促成者 和 在 全球 的 香港 推广者 根据 林郑月娥 提出 的 理财 新 理念 下届 特区 政府 在 开支 方面 尤其 是 '\n",
      " '投资性 开支 在 不 违反 基本法 的 前提 下 将 更 开放 特区 政府 计划 通过 税收 优惠 的 政策 鼓励 和 引导 企业 增加 研发 投入 '\n",
      " '此外 为 鼓励 中小微 和 初创 企业 发展 特区 政府 还 计划 降低 他们 的 企业 所得税率 回顾 过去 20 年 林郑月娥 认为 香港 的 经济 '\n",
      " '发展 和 国家 的 发展 是 分 不 开 的 在 国家 发展 的 每个 阶段 香港 都 在 国家 发展 的 大 背景 下 找到 自己 的 经济 增长点 '\n",
      " '所以 当 习 主席 提出 一带 一路 倡议 后 我们 也 希望 从中 找到 香港 新 的 经济 增长点 她 说 香港 过去 受惠 于 国家 的 改革 '\n",
      " '开放 成为 国际 金融 中心 航运 中心 贸易 物流 中心 未来 在 一带 一路 建设 中 香港 将 拥有 更 大 的 机遇')\n",
      "'----------------------------------------'\n",
      "('最可能被抄袭的文章：新华社 香港 6月 20日 电 即将 于 7月 1日 宣誓 就职 的 香港 特区 候任 行政 长官 林郑月娥 认为 香港 回归 祖国 '\n",
      " '20 年 来 一国两制 的 成功 落实 维护 了 香港 的 繁荣 稳定 与 核心 价值 让 香港 成功 地 应对 了 困难 与 危机 香港 回归 祖国 '\n",
      " '20 周年 前夕 林 郑月娥 女士 在 候任 行政 长官 办公室 接受 了 新华社 记者 采访 她 表示 上任 后 将 努力 带领 特区 政府 将 香港 '\n",
      " '建设 成 国家 有 朝气 的 特别 行政区 为 市民 提供 满足 感 高 的 生活 与 香港 回归 的 两 次 结缘 1980年 加入 公职 的 '\n",
      " '林郑月娥 已经 服务 香港 市民 超过 36年 亲身 经历 并 见证 了 回归 前后 香港 的 发展 与 变迁 她 认为 过去 20 年 香港 落实 '\n",
      " '一国两制 港人治港 高度 自治 的 方针 维护 了 香港 的 繁荣 与 稳定 在 中央 的 大力 支持 下 香港 成功 处理 了 困难 与 危机 从而 '\n",
      " '能够 渡过 难关 焕发 生机 一国两制 的 落实 是 非常 成功 的 林 郑月娥 说 过去 20 年 尽管 香港 经济 发展 经历 了 起伏 但 经济 '\n",
      " '总量 累计 增长 达 82 对于 经济 社会 发展 水平 比较 高 的 经济体 而言 这 是 十分 不 容易 的 在 这 一 过程 中 一国两制 '\n",
      " '港人治港 高度 自治 的 方针 以及 香港 的 法治 自由 等 核心 价值 始终如一 这些 都 是 一国两制 的 初心 林 郑月娥 曾 于 1985年 '\n",
      " '1996年 两 次 参加 中 英 联络 小组 的 工作 第一 次 是 讨论 香港 基本法 第24 条 的 有关 立法 工作 包括 签发 回归 后 新 的 '\n",
      " '香港 身份证 以及 保安 入境 等 第二 次 是 参与 编制 1997 至 1998年 财政 预算案 她 回忆 道 在 工作 中 很 高兴 结识 了 '\n",
      " '许多 内地 的 负责人 和 工作 人员 感到 大家 都 非常 专业 对 能够 参与 这项 伟大 的 事业 感到 光荣 每个 人 都 尽力 做到 最 好 '\n",
      " '能够 两 次 参与 回归 的 相关 工作 为 确保 香港 顺利 平稳 回归 作出 贡献 作为 一个 香港 人 中国 人 我 感到 很 有 意义 行政 '\n",
      " '长官 须 向 中央 和 香港 双重 负责 在 3月 举行 的 香港 特区 第五 任 行政 长官 选举 中 林郑月娥 高 票 当选 她 告诉 记者 当选 '\n",
      " '的 那 一刻 以及 后来 在 北京 从 李克强 总理 手中 接 过 中央政府 任命书 的 时候 都 感到 任重道远 她 说 香港 特区 行政 长官 既 '\n",
      " '要 向 中央政府 负责 也 要 向 香港 特区 负责 要 处理 好 中央 要求 和 香港 本地 实际 情况 这 两者 的 关系 就要 准确 地 按照 '\n",
      " '基本法 办事 因为 基本法 是 香港 的 宪制性 法律 是 行政 长官 及 特区 政府 在 香港 准确 落实 一国两制 的 依据 针对 近年来 香港 '\n",
      " '社会 出现 的 港独 言行 林郑月娥 表示 港独 在 香港 完全 没有 出路 一国两制 的 初心 和 原意 就 包含 了 香港 特别 行政区 是 国家 '\n",
      " '不可 分离 的 一 部分 并且 香港 的 回归 有利于 维护 国家 的 主权 安全 和 发展 利益 我 相信 绝大部分 香港 市民 从来 没有 觉得 '\n",
      " '港独 是 一个 可以 考虑 的 方案 未来 特区 政府 将 严格 依法 办事 所有 港独 行为 都 违反 本地 法律 我们 必须 严格 执法 林郑月娥 '\n",
      " '强调 她 表示 特区 政府 还 将 做 好 教育 工作 要 向 社会 大众 说明 港独 对 香港 繁荣 稳定 的 危害性 不 能 让 港独 在 香港 '\n",
      " '传播 尤其 是 要 杜绝 港独 对 少年儿童 的 侵害 香港 情怀 国家 观念 全球 视野 林 郑月娥 在 参加 香港 第五 任 行政 长官 选举 期间 '\n",
      " '提出 希望 香港 青年 能够 被 培育 成 具备 香港 情怀 国家 观念 和 世界 视野 的 一代人 她 在 采访 中 说 香港 情怀 和 国家 观念 '\n",
      " '完全 没有 冲突 我们 既 可以 多 让 孩子 们 了解 香港 的 历史 文化 政治 社会 发展 情况 同时 也 必须 要 让 他们 有 国民 身份 的 '\n",
      " '认同 为此 特区 政府 和 社会 应该 怎么 做 林 郑月娥 认为 这 离 不 开 教育 在 幼儿 阶段 就 应该 开始 培养 我 是 中国 人 的 '\n",
      " '概念 在 中小学 阶段 林郑月娥 提出 未来 应该 将 中国 历史 纳入 初中 必 修 科目 在 学校 以外 特区 政府 要 加大 力度 让 孩子 们 '\n",
      " '能够 接触 到 更 多 的 中国 文化 让 香港 青年 了解 国家 最新 的 发展 林 郑月娥 对 推动 香港 文化 事业 发展 倾注 了 大量 热情 '\n",
      " '和 努力 在 担任 本届 特区 政府 政务司 司长 期间 还 兼任 香港 在建 的 大型 项目 西九 文化区 的 管理局 主席 她 说 香港 文化 事业 '\n",
      " '正 处于 蓬勃 发展 阶段 未来 五 至 十 年 西九 文化区 和 位于 文化区 的 香港 故宫 文化 博物馆 将 相继 落成 文化 事业 对于 提高 '\n",
      " '市民 的 修养 提升 香港 的 旅游 品质 促进 经济 培养 青年 人才 都 具有 十分 重要 的 意义 特区 政府 将 更 积极 有 为 谈及 未来 '\n",
      " '五 年 特区 政府 的 施政 目标 和 她 本人 的 期许 林郑月娥 表示 愿意 用 她 丰富 的 从政 经验 秉承 自己 在 参选 行政 长官 时 '\n",
      " '提出 的 理念 努力 让 香港 成为 国家 一个 非常 有 朝气 的 城市 我 对 香港 未来 的 期盼 就 是 为 香港 市民 提供 一个 生活 满足 '\n",
      " '感 非常 高 的 地方 为 青年 提供 各展所长 的 机会 让 中年人 安居乐业 让 老年人 安享 晚年 林郑月娥 说 要 实现 这些 目标 下 一 届 '\n",
      " '特区 政府 将 优先 从 三 个 方面 加大 工作 力度 首先 是 土地 房屋 政策 解决 香港 楼价 高 买房 难 问题 第二 是 教育 将 投放 更 '\n",
      " '多 资源 培养 出 足够 的 人才 支撑 香港 未来 的 发展 第三 是 让 香港 的 经济 结构 更加 多元化 巩固 和 提升 传统 产业 开拓 创新 '\n",
      " '科技 产业 和 创意 产业 林 郑月娥 认为 特区 政府 不 能 停留 在 公共 服务 提供者 和 市场 监管者 层面 要 更 有 动力 地 发展 香港 '\n",
      " '经济 就 要求 特区 政府 必须 再 进入 另外 两 个 新 角色 要 成为 许多 工作 的 促成者 和 在 全球 的 香港 推广者 根据 林郑月娥 '\n",
      " '提出 的 理财 新 理念 下届 特区 政府 在 开支 方面 尤其 是 投资性 开支 在 不 违反 基本法 的 前提 下 将 更 开放 特区 政府 计划 '\n",
      " '通过 税收 优惠 的 政策 鼓励 和 引导 企业 增加 研发 投入 此外 为 鼓励 中小微 和 初创 企业 发展 特区 政府 还 计划 降低 他们 的 '\n",
      " '企业 所得税率 回顾 过去 20 年 林郑月娥 认为 香港 的 经济 发展 和 国家 的 发展 是 分 不 开 的 在 国家 发展 的 每个 阶段 香港 '\n",
      " '都 在 国家 发展 的 大 背景 下 找到 自己 的 经济 增长点 所以 当 习 主席 提出 一带 一路 倡议 后 我们 也 希望 从中 找到 香港 新 '\n",
      " '的 经济 增长点 她 说 香港 过去 受惠 于 国家 的 改革 开放 成为 国际 金融 中心 航运 中心 贸易 物流 中心 未来 在 一带 一路 建设 '\n",
      " '中 香港 将 拥有 更 大 的 机遇 记者 颜昊 李凯 左 为 参与 采写 李雪姣 责任 编辑 张迪')\n",
      "'****************************************************************************************************'\n",
      "\n",
      "\n"
     ]
    },
    {
     "data": {
      "text/plain": [
       "5304"
      ]
     },
     "execution_count": 99,
     "metadata": {},
     "output_type": "execute_result"
    }
   ],
   "source": [
    "get_most_similars(xinhua_news, candidates_clean, candidates_vector, 508)"
   ]
  },
  {
   "cell_type": "code",
   "execution_count": 127,
   "metadata": {
    "scrolled": true
   },
   "outputs": [],
   "source": [
    "origin = ''.join(df.content_cut[5304].split())\n",
    "copy = ''.join(candidates_clean[508].split())"
   ]
  },
  {
   "cell_type": "markdown",
   "metadata": {},
   "source": [
    "#### 编辑距离"
   ]
  },
  {
   "cell_type": "code",
   "execution_count": 105,
   "metadata": {},
   "outputs": [],
   "source": [
    "class EditDistance_update:\n",
    "    def __init__(self, levenshtein=True):\n",
    "        self.solution = {}\n",
    "        self.levenshtein = levenshtein\n",
    "        \n",
    "    def edit_distance_with_matrix(self, str1, str2):\n",
    "        \"\"\"\n",
    "        @levenshtein: susbstitute cost 2 steps while True, else cost 1 step.\n",
    "        \"\"\"\n",
    "        len_1, len_2 = len(str1)+1, len(str2)+1\n",
    "        matrix = np.zeros((len_2, len_1), dtype=np.int)\n",
    "        if str1 and str2:\n",
    "            matrix[0, :] = np.arange(len_1)\n",
    "            matrix[:, 0] = np.arange(len_2)\n",
    "            for i, char1 in enumerate(str2, start=1):\n",
    "                for j, char2 in enumerate(str1, start=1):\n",
    "                        \n",
    "                    left = matrix[i-1, j] + 1\n",
    "                    top = matrix[i, j-1] + 1\n",
    "                    if char1 != char2:\n",
    "                        diag = (matrix[i-1, j-1] + 2) if self.levenshtein else (matrix[i-1, j-1] + 1)\n",
    "                    else:\n",
    "                        diag = matrix[i-1, j-1]\n",
    "                    \n",
    "                    matrix[i, j] = min(left, top, diag)\n",
    "\n",
    "            return matrix[len_2-1 , len_1-1], matrix\n",
    "        else:\n",
    "            return (len_1,matrix)  if str1 else (len_2,matrix)\n",
    "        \n",
    "    def get_matrix_solution(self, matrix):\n",
    "        \"\"\"\n",
    "        Up refers to inserting; left refers to deleting; digonal refers to substituting.\n",
    "        \"\"\"\n",
    "        r, c = matrix.shape\n",
    "        if r < 2:\n",
    "            for _ in matrix[0, :c-1]:\n",
    "                self.solution[_+1] = f\"delete str1.({_})\"\n",
    "            return\n",
    "        elif c < 2:\n",
    "            for _ in matrix[:r-1, 0]:\n",
    "                self.solution[_ + 1] = f\"insert before str1.({0}) with str2.({_})\"\n",
    "            return\n",
    "\n",
    "        row, column = np.array(matrix.shape) - 1\n",
    "        target = matrix[row, column]\n",
    "        up = row - 1, column\n",
    "        left = row, column - 1\n",
    "        diag = row - 1, column - 1\n",
    "\n",
    "        temp = min(matrix[diag], matrix[up], matrix[left])\n",
    "        \n",
    "        flag = 2 if self.levenshtein else 1\n",
    "\n",
    "        if target != temp:\n",
    "            # 删除或者插入优先\n",
    "            if target == matrix[up] + 1:\n",
    "                self.solution[target] = f\"insert after str1.({column - 1}) with str2.({row - 1})\"\n",
    "                return self.get_matrix_solution(matrix[:row, :])\n",
    "            elif target == matrix[left] + 1:\n",
    "                self.solution[target] = f\"delete str1.({column - 1})\"\n",
    "                return self.get_matrix_solution(matrix[:, :column])\n",
    "            elif target == matrix[diag] + flag:\n",
    "                self.solution[target] = f\"substitute str1.({column - 1}) with str2.({row - 1})\"\n",
    "                return self.get_matrix_solution(matrix[:row,:column])\n",
    "        return self.get_matrix_solution(matrix[:row,:column])\n",
    "    \n",
    "    def get_solution(self):\n",
    "        return sorted(self.solution.items())"
   ]
  },
  {
   "cell_type": "code",
   "execution_count": 128,
   "metadata": {
    "scrolled": true
   },
   "outputs": [
    {
     "data": {
      "text/plain": [
       "[(1, 'insert before str1.(0) with str2.(0)'),\n",
       " (2, 'insert before str1.(0) with str2.(1)'),\n",
       " (3, 'insert before str1.(0) with str2.(2)'),\n",
       " (4, 'insert before str1.(0) with str2.(3)'),\n",
       " (5, 'insert before str1.(0) with str2.(4)'),\n",
       " (6, 'insert before str1.(0) with str2.(5)'),\n",
       " (7, 'insert before str1.(0) with str2.(6)'),\n",
       " (8, 'insert before str1.(0) with str2.(7)'),\n",
       " (9, 'insert before str1.(0) with str2.(8)'),\n",
       " (10, 'insert before str1.(0) with str2.(9)'),\n",
       " (11, 'insert before str1.(0) with str2.(10)'),\n",
       " (12, 'insert before str1.(0) with str2.(11)'),\n",
       " (13, 'insert before str1.(0) with str2.(12)'),\n",
       " (14, 'insert before str1.(0) with str2.(13)'),\n",
       " (15, 'insert before str1.(0) with str2.(14)'),\n",
       " (16, 'insert before str1.(0) with str2.(15)'),\n",
       " (17, 'insert before str1.(0) with str2.(16)'),\n",
       " (18, 'insert before str1.(0) with str2.(17)'),\n",
       " (19, 'insert before str1.(0) with str2.(18)'),\n",
       " (20, 'insert before str1.(0) with str2.(19)'),\n",
       " (21, 'insert before str1.(0) with str2.(20)'),\n",
       " (22, 'insert before str1.(0) with str2.(21)'),\n",
       " (23, 'insert before str1.(0) with str2.(22)'),\n",
       " (24, 'insert before str1.(0) with str2.(23)'),\n",
       " (25, 'insert after str1.(10) with str2.(35)'),\n",
       " (26, 'insert after str1.(10) with str2.(36)'),\n",
       " (27, 'insert after str1.(10) with str2.(37)'),\n",
       " (28, 'insert after str1.(10) with str2.(38)'),\n",
       " (29, 'insert after str1.(10) with str2.(39)'),\n",
       " (30, 'insert after str1.(10) with str2.(40)'),\n",
       " (31, 'insert after str1.(10) with str2.(41)'),\n",
       " (32, 'insert after str1.(10) with str2.(42)'),\n",
       " (33, 'insert after str1.(10) with str2.(43)'),\n",
       " (34, 'insert after str1.(10) with str2.(44)'),\n",
       " (35, 'insert after str1.(10) with str2.(45)'),\n",
       " (36, 'insert after str1.(10) with str2.(46)'),\n",
       " (37, 'insert after str1.(10) with str2.(47)'),\n",
       " (38, 'insert after str1.(10) with str2.(48)'),\n",
       " (39, 'insert after str1.(10) with str2.(49)'),\n",
       " (40, 'insert after str1.(10) with str2.(50)'),\n",
       " (41, 'insert after str1.(10) with str2.(51)'),\n",
       " (42, 'insert after str1.(10) with str2.(52)'),\n",
       " (43, 'insert after str1.(10) with str2.(53)'),\n",
       " (44, 'insert after str1.(10) with str2.(54)'),\n",
       " (45, 'insert after str1.(10) with str2.(55)'),\n",
       " (46, 'insert after str1.(10) with str2.(56)'),\n",
       " (47, 'insert after str1.(10) with str2.(57)'),\n",
       " (48, 'insert after str1.(10) with str2.(58)'),\n",
       " (49, 'insert after str1.(10) with str2.(59)'),\n",
       " (50, 'insert after str1.(10) with str2.(60)'),\n",
       " (51, 'insert after str1.(10) with str2.(61)'),\n",
       " (52, 'insert after str1.(10) with str2.(62)'),\n",
       " (53, 'insert after str1.(10) with str2.(63)'),\n",
       " (54, 'insert after str1.(10) with str2.(64)'),\n",
       " (55, 'insert after str1.(10) with str2.(65)'),\n",
       " (56, 'insert after str1.(10) with str2.(66)'),\n",
       " (57, 'insert after str1.(10) with str2.(67)'),\n",
       " (58, 'insert after str1.(10) with str2.(68)'),\n",
       " (59, 'insert after str1.(10) with str2.(69)'),\n",
       " (60, 'insert after str1.(10) with str2.(70)'),\n",
       " (61, 'insert after str1.(86) with str2.(147)'),\n",
       " (62, 'insert after str1.(86) with str2.(148)'),\n",
       " (63, 'insert after str1.(86) with str2.(149)'),\n",
       " (64, 'insert after str1.(86) with str2.(150)'),\n",
       " (65, 'insert after str1.(86) with str2.(151)'),\n",
       " (66, 'insert after str1.(86) with str2.(152)'),\n",
       " (67, 'insert after str1.(86) with str2.(153)'),\n",
       " (68, 'insert after str1.(86) with str2.(154)'),\n",
       " (69, 'insert after str1.(86) with str2.(155)'),\n",
       " (70, 'insert after str1.(86) with str2.(156)'),\n",
       " (71, 'insert after str1.(86) with str2.(157)'),\n",
       " (72, 'insert after str1.(86) with str2.(158)'),\n",
       " (73, 'insert after str1.(86) with str2.(159)'),\n",
       " (74, 'insert after str1.(86) with str2.(160)'),\n",
       " (75, 'insert after str1.(86) with str2.(161)'),\n",
       " (76, 'insert after str1.(86) with str2.(162)'),\n",
       " (77, 'insert after str1.(86) with str2.(163)'),\n",
       " (78, 'insert after str1.(86) with str2.(164)'),\n",
       " (79, 'insert after str1.(86) with str2.(165)'),\n",
       " (80, 'insert after str1.(86) with str2.(166)'),\n",
       " (81, 'insert after str1.(86) with str2.(167)'),\n",
       " (82, 'insert after str1.(86) with str2.(168)'),\n",
       " (83, 'insert after str1.(86) with str2.(169)'),\n",
       " (84, 'insert after str1.(86) with str2.(170)'),\n",
       " (85, 'insert after str1.(86) with str2.(171)'),\n",
       " (86, 'insert after str1.(86) with str2.(172)'),\n",
       " (87, 'insert after str1.(86) with str2.(173)'),\n",
       " (88, 'insert after str1.(86) with str2.(174)'),\n",
       " (89, 'insert after str1.(86) with str2.(175)'),\n",
       " (90, 'insert after str1.(86) with str2.(176)'),\n",
       " (91, 'insert after str1.(425) with str2.(516)'),\n",
       " (92, 'insert after str1.(425) with str2.(517)'),\n",
       " (93, 'insert after str1.(425) with str2.(518)'),\n",
       " (94, 'insert after str1.(425) with str2.(519)'),\n",
       " (95, 'insert after str1.(425) with str2.(520)'),\n",
       " (96, 'insert after str1.(425) with str2.(521)'),\n",
       " (97, 'insert after str1.(425) with str2.(522)'),\n",
       " (98, 'insert after str1.(425) with str2.(523)'),\n",
       " (99, 'insert after str1.(425) with str2.(524)'),\n",
       " (100, 'insert after str1.(425) with str2.(525)'),\n",
       " (101, 'insert after str1.(425) with str2.(526)'),\n",
       " (102, 'insert after str1.(425) with str2.(527)'),\n",
       " (103, 'insert after str1.(425) with str2.(528)'),\n",
       " (104, 'insert after str1.(425) with str2.(529)'),\n",
       " (105, 'insert after str1.(425) with str2.(530)'),\n",
       " (106, 'insert after str1.(425) with str2.(531)'),\n",
       " (107, 'insert after str1.(425) with str2.(532)'),\n",
       " (108, 'insert after str1.(425) with str2.(533)'),\n",
       " (109, 'insert after str1.(425) with str2.(534)'),\n",
       " (110, 'insert after str1.(425) with str2.(535)'),\n",
       " (111, 'insert after str1.(901) with str2.(1012)'),\n",
       " (112, 'insert after str1.(901) with str2.(1013)'),\n",
       " (113, 'insert after str1.(901) with str2.(1014)'),\n",
       " (114, 'insert after str1.(901) with str2.(1015)'),\n",
       " (115, 'insert after str1.(901) with str2.(1016)'),\n",
       " (116, 'insert after str1.(901) with str2.(1017)'),\n",
       " (117, 'insert after str1.(901) with str2.(1018)'),\n",
       " (118, 'insert after str1.(901) with str2.(1019)'),\n",
       " (119, 'insert after str1.(901) with str2.(1020)'),\n",
       " (120, 'insert after str1.(901) with str2.(1021)'),\n",
       " (121, 'insert after str1.(901) with str2.(1022)'),\n",
       " (122, 'insert after str1.(901) with str2.(1023)'),\n",
       " (123, 'insert after str1.(901) with str2.(1024)'),\n",
       " (124, 'insert after str1.(901) with str2.(1025)'),\n",
       " (125, 'insert after str1.(901) with str2.(1026)'),\n",
       " (126, 'insert after str1.(901) with str2.(1027)'),\n",
       " (127, 'insert after str1.(901) with str2.(1028)'),\n",
       " (128, 'insert after str1.(901) with str2.(1029)'),\n",
       " (129, 'insert after str1.(901) with str2.(1030)'),\n",
       " (130, 'insert after str1.(901) with str2.(1031)'),\n",
       " (131, 'insert after str1.(901) with str2.(1032)'),\n",
       " (132, 'insert after str1.(901) with str2.(1033)'),\n",
       " (133, 'insert after str1.(901) with str2.(1034)'),\n",
       " (134, 'insert after str1.(901) with str2.(1035)'),\n",
       " (135, 'insert after str1.(901) with str2.(1036)'),\n",
       " (136, 'insert after str1.(1285) with str2.(1421)'),\n",
       " (137, 'insert after str1.(1285) with str2.(1422)'),\n",
       " (138, 'insert after str1.(1285) with str2.(1423)'),\n",
       " (139, 'insert after str1.(1285) with str2.(1424)'),\n",
       " (140, 'insert after str1.(1285) with str2.(1425)'),\n",
       " (141, 'insert after str1.(1285) with str2.(1426)'),\n",
       " (142, 'insert after str1.(1285) with str2.(1427)'),\n",
       " (143, 'insert after str1.(1285) with str2.(1428)'),\n",
       " (144, 'insert after str1.(1285) with str2.(1429)'),\n",
       " (145, 'insert after str1.(1285) with str2.(1430)'),\n",
       " (146, 'insert after str1.(1285) with str2.(1431)'),\n",
       " (147, 'insert after str1.(1285) with str2.(1432)'),\n",
       " (148, 'insert after str1.(1285) with str2.(1433)'),\n",
       " (149, 'insert after str1.(1285) with str2.(1434)'),\n",
       " (150, 'insert after str1.(1285) with str2.(1435)'),\n",
       " (151, 'insert after str1.(1285) with str2.(1436)'),\n",
       " (152, 'insert after str1.(1285) with str2.(1437)'),\n",
       " (153, 'insert after str1.(1285) with str2.(1438)'),\n",
       " (154, 'insert after str1.(1285) with str2.(1439)'),\n",
       " (155, 'insert after str1.(1285) with str2.(1440)'),\n",
       " (156, 'insert after str1.(1285) with str2.(1441)'),\n",
       " (157, 'insert after str1.(1285) with str2.(1442)'),\n",
       " (158, 'insert after str1.(1285) with str2.(1443)'),\n",
       " (159, 'insert after str1.(1285) with str2.(1444)'),\n",
       " (160, 'insert after str1.(1285) with str2.(1445)'),\n",
       " (161, 'insert after str1.(1705) with str2.(1866)'),\n",
       " (162, 'insert after str1.(1705) with str2.(1867)'),\n",
       " (163, 'insert after str1.(1705) with str2.(1868)'),\n",
       " (164, 'insert after str1.(1705) with str2.(1869)'),\n",
       " (165, 'insert after str1.(1705) with str2.(1870)'),\n",
       " (166, 'insert after str1.(1705) with str2.(1871)'),\n",
       " (167, 'insert after str1.(1705) with str2.(1872)'),\n",
       " (168, 'insert after str1.(1705) with str2.(1873)'),\n",
       " (169, 'insert after str1.(1705) with str2.(1874)'),\n",
       " (170, 'insert after str1.(1705) with str2.(1875)'),\n",
       " (171, 'insert after str1.(1705) with str2.(1876)'),\n",
       " (172, 'insert after str1.(1705) with str2.(1877)'),\n",
       " (173, 'insert after str1.(1705) with str2.(1878)'),\n",
       " (174, 'insert after str1.(1705) with str2.(1879)'),\n",
       " (175, 'insert after str1.(1705) with str2.(1880)'),\n",
       " (176, 'insert after str1.(1705) with str2.(1881)'),\n",
       " (177, 'insert after str1.(1705) with str2.(1882)'),\n",
       " (178, 'insert after str1.(1705) with str2.(1883)'),\n",
       " (179, 'insert after str1.(1705) with str2.(1884)'),\n",
       " (180, 'insert after str1.(1705) with str2.(1885)'),\n",
       " (181, 'insert after str1.(1705) with str2.(1886)'),\n",
       " (182, 'insert after str1.(1705) with str2.(1887)'),\n",
       " (183, 'insert after str1.(1705) with str2.(1888)'),\n",
       " (184, 'insert after str1.(1705) with str2.(1889)'),\n",
       " (185, 'insert after str1.(1705) with str2.(1890)'),\n",
       " (186, 'delete str1.(2044)'),\n",
       " (187, 'delete str1.(2045)'),\n",
       " (188, 'delete str1.(2046)'),\n",
       " (189, 'delete str1.(2047)'),\n",
       " (190, 'delete str1.(2048)'),\n",
       " (191, 'delete str1.(2049)'),\n",
       " (192, 'delete str1.(2050)'),\n",
       " (193, 'delete str1.(2051)'),\n",
       " (194, 'delete str1.(2052)'),\n",
       " (195, 'delete str1.(2053)'),\n",
       " (196, 'delete str1.(2054)'),\n",
       " (197, 'delete str1.(2055)'),\n",
       " (198, 'delete str1.(2056)'),\n",
       " (199, 'delete str1.(2057)'),\n",
       " (200, 'delete str1.(2058)'),\n",
       " (201, 'delete str1.(2059)'),\n",
       " (202, 'delete str1.(2060)'),\n",
       " (203, 'delete str1.(2061)'),\n",
       " (204, 'delete str1.(2062)'),\n",
       " (205, 'delete str1.(2063)'),\n",
       " (206, 'delete str1.(2064)')]"
      ]
     },
     "execution_count": 128,
     "metadata": {},
     "output_type": "execute_result"
    }
   ],
   "source": [
    "test_update = EditDistance_update()\n",
    "step, matrix_ = test_update.edit_distance_with_matrix(origin, copy)\n",
    "test_update.get_matrix_solution(matrix_)\n",
    "test_update.get_solution()"
   ]
  },
  {
   "cell_type": "code",
   "execution_count": 133,
   "metadata": {},
   "outputs": [
    {
     "data": {
      "text/plain": [
       "(2065, 2229)"
      ]
     },
     "execution_count": 133,
     "metadata": {},
     "output_type": "execute_result"
    }
   ],
   "source": [
    "len(origin), len(copy)"
   ]
  },
  {
   "cell_type": "markdown",
   "metadata": {},
   "source": [
    "两千字出头的文章，更改两百个字就成为另一篇文章，重复度还是很高的。"
   ]
  },
  {
   "cell_type": "markdown",
   "metadata": {},
   "source": [
    "### Step11: 利用第8课讲述的新模型，进行操作，感受其中不同的参数、模型对性能的影响。"
   ]
  },
  {
   "cell_type": "code",
   "execution_count": null,
   "metadata": {},
   "outputs": [],
   "source": [
    "svc = SVC(gamma='auto')\n",
    "svc.fit(Xtrain, ytrain)\n",
    "svc.score(Xcv, ycv)"
   ]
  },
  {
   "cell_type": "code",
   "execution_count": null,
   "metadata": {},
   "outputs": [],
   "source": [
    "ypred = svc.predict(Xtest)\n",
    "print(classification_report(ytest, ypred))"
   ]
  },
  {
   "cell_type": "code",
   "execution_count": null,
   "metadata": {},
   "outputs": [],
   "source": []
  }
 ],
 "metadata": {
  "kernelspec": {
   "display_name": "Python 3",
   "language": "python",
   "name": "python3"
  },
  "language_info": {
   "codemirror_mode": {
    "name": "ipython",
    "version": 3
   },
   "file_extension": ".py",
   "mimetype": "text/x-python",
   "name": "python",
   "nbconvert_exporter": "python",
   "pygments_lexer": "ipython3",
   "version": "3.6.2"
  },
  "toc-autonumbering": false,
  "toc-showmarkdowntxt": false
 },
 "nbformat": 4,
 "nbformat_minor": 4
}
