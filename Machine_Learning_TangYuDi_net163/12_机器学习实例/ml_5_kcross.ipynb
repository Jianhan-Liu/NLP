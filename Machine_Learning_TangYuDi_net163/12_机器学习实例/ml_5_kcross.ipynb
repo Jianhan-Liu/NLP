{
 "cells": [
  {
   "cell_type": "code",
   "execution_count": 9,
   "metadata": {
    "collapsed": false,
    "jupyter": {
     "outputs_hidden": false
    }
   },
   "outputs": [
    {
     "name": "stdout",
     "output_type": "stream",
     "text": [
      "   index       gpa         gre  actual_label  fold\n",
      "0    117  3.219669  483.761856             0     1\n",
      "1    369  3.292225  587.697669             0     1\n",
      "2    403  2.902209  664.938813             1     1\n",
      "3    323  3.234734  586.992382             0     1\n",
      "4    225  2.844566  703.043462             0     1\n",
      "     index       gpa         gre  actual_label  fold\n",
      "639    515  3.605576  570.617519             1     5\n",
      "640    174  3.120778  593.747164             0     5\n",
      "641    178  3.073865  483.030549             0     5\n",
      "642     73  2.755856  693.451548             0     5\n",
      "643    604  3.032122  764.790105             1     5\n"
     ]
    }
   ],
   "source": [
    "import pandas as pd\n",
    "import numpy as np\n",
    "import warnings\n",
    "warnings.filterwarnings('ignore')\n",
    "\n",
    "admissions = pd.read_csv(\"admissions.csv\")\n",
    "admissions[\"actual_label\"] = admissions[\"admit\"]\n",
    "admissions = admissions.drop(\"admit\", axis=1)\n",
    "\n",
    "shuffled_index = np.random.permutation(admissions.index)\n",
    "shuffled_admissions = admissions.loc[shuffled_index]\n",
    "admissions = shuffled_admissions.reset_index()\n",
    "admissions.ix[0:128, \"fold\"] = 1\n",
    "admissions.ix[129:257, \"fold\"] = 2\n",
    "admissions.ix[258:386, \"fold\"] = 3\n",
    "admissions.ix[387:514, \"fold\"] = 4\n",
    "admissions.ix[515:644, \"fold\"] = 5\n",
    "# Ensure the column is set to integer type.\n",
    "admissions[\"fold\"] = admissions[\"fold\"].astype('int')\n",
    "\n",
    "print(admissions.head())\n",
    "print(admissions.tail())"
   ]
  },
  {
   "cell_type": "code",
   "execution_count": 2,
   "metadata": {
    "collapsed": false,
    "jupyter": {
     "outputs_hidden": false
    }
   },
   "outputs": [
    {
     "name": "stdout",
     "output_type": "stream",
     "text": [
      "0.5968992248062015\n"
     ]
    }
   ],
   "source": [
    "from sklearn.linear_model import LogisticRegression\n",
    "# Training\n",
    "model = LogisticRegression()\n",
    "train_iteration_one = admissions[admissions[\"fold\"] != 1]\n",
    "test_iteration_one = admissions[admissions[\"fold\"] == 1]\n",
    "model.fit(train_iteration_one[[\"gpa\"]], train_iteration_one[\"actual_label\"])\n",
    "\n",
    "# Predicting\n",
    "labels = model.predict(test_iteration_one[[\"gpa\"]])\n",
    "test_iteration_one[\"predicted_label\"] = labels\n",
    "\n",
    "matches = test_iteration_one[\"predicted_label\"] == test_iteration_one[\"actual_label\"]\n",
    "correct_predictions = test_iteration_one[matches]\n",
    "iteration_one_accuracy = len(correct_predictions) / float(len(test_iteration_one))\n",
    "print(iteration_one_accuracy)"
   ]
  },
  {
   "cell_type": "code",
   "execution_count": 3,
   "metadata": {
    "collapsed": false,
    "jupyter": {
     "outputs_hidden": false
    }
   },
   "outputs": [
    {
     "name": "stdout",
     "output_type": "stream",
     "text": [
      "[0.5968992248062015, 0.6201550387596899, 0.6356589147286822, 0.6015625, 0.7286821705426356]\n",
      "0.6365915697674418\n"
     ]
    }
   ],
   "source": [
    "import numpy as np\n",
    "fold_ids = [1,2,3,4,5]\n",
    "def train_and_test(df, folds):\n",
    "    fold_accuracies = []\n",
    "    for fold in folds:\n",
    "        model = LogisticRegression()\n",
    "        train = admissions[admissions[\"fold\"] != fold]\n",
    "        test = admissions[admissions[\"fold\"] == fold]\n",
    "        model.fit(train[[\"gpa\"]], train[\"actual_label\"])\n",
    "        labels = model.predict(test[[\"gpa\"]])\n",
    "        test[\"predicted_label\"] = labels\n",
    "\n",
    "        matches = test[\"predicted_label\"] == test[\"actual_label\"]\n",
    "        correct_predictions = test[matches]\n",
    "        fold_accuracies.append(len(correct_predictions) / float(len(test)))\n",
    "    return(fold_accuracies)\n",
    "\n",
    "accuracies = train_and_test(admissions, fold_ids)\n",
    "print(accuracies)\n",
    "average_accuracy = np.mean(accuracies)\n",
    "print(average_accuracy)"
   ]
  },
  {
   "cell_type": "code",
   "execution_count": 7,
   "metadata": {
    "collapsed": false,
    "jupyter": {
     "outputs_hidden": false
    }
   },
   "outputs": [
    {
     "name": "stdout",
     "output_type": "stream",
     "text": [
      "[0.70790123 0.69550265 0.65987934 0.73363017 0.57864583]\n",
      "0.6751118445238359\n"
     ]
    }
   ],
   "source": [
    "from sklearn.model_selection import KFold\n",
    "from sklearn.model_selection import cross_val_score\n",
    "\n",
    "admissions = pd.read_csv(\"admissions.csv\")\n",
    "admissions[\"actual_label\"] = admissions[\"admit\"]\n",
    "admissions = admissions.drop(\"admit\", axis=1)\n",
    "\n",
    "kf = KFold(5, shuffle=True, random_state=8)\n",
    "lr = LogisticRegression()\n",
    "#roc_auc \n",
    "accuracies = cross_val_score(lr,admissions[[\"gpa\"]], admissions[\"actual_label\"], scoring=\"roc_auc\", cv=kf.split(admissions))\n",
    "average_accuracy = sum(accuracies) / len(accuracies)\n",
    "\n",
    "print(accuracies)\n",
    "print(average_accuracy)"
   ]
  },
  {
   "cell_type": "code",
   "execution_count": 21,
   "metadata": {
    "collapsed": false,
    "jupyter": {
     "outputs_hidden": false
    }
   },
   "outputs": [
    {
     "name": "stdout",
     "output_type": "stream",
     "text": [
      "[0.6505102  0.68852041 0.6372449  0.7127551  0.703125  ]\n",
      "0.6784311224489796\n"
     ]
    }
   ],
   "source": [
    "from sklearn.model_selection import KFold\n",
    "from sklearn.model_selection import cross_val_score\n",
    "\n",
    "admissions = pd.read_csv(\"admissions.csv\")\n",
    "admissions[\"actual_label\"] = admissions[\"admit\"]\n",
    "admissions = admissions.drop(\"admit\", axis=1)\n",
    "\n",
    "lr = LogisticRegression()\n",
    "#roc_auc \n",
    "accuracies = cross_val_score(lr,admissions[[\"gpa\"]], admissions[\"actual_label\"], scoring=\"roc_auc\", cv=5)\n",
    "average_accuracy = np.mean(accuracies)\n",
    "\n",
    "print(accuracies)\n",
    "print(average_accuracy)"
   ]
  },
  {
   "cell_type": "code",
   "execution_count": null,
   "metadata": {},
   "outputs": [],
   "source": []
  }
 ],
 "metadata": {
  "kernelspec": {
   "display_name": "Python 3",
   "language": "python",
   "name": "python3"
  },
  "language_info": {
   "codemirror_mode": {
    "name": "ipython",
    "version": 3
   },
   "file_extension": ".py",
   "mimetype": "text/x-python",
   "name": "python",
   "nbconvert_exporter": "python",
   "pygments_lexer": "ipython3",
   "version": "3.6.2"
  }
 },
 "nbformat": 4,
 "nbformat_minor": 4
}
