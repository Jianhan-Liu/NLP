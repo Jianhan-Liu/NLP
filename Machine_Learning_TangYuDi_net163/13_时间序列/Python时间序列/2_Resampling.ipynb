{
 "cells": [
  {
   "cell_type": "code",
   "execution_count": 1,
   "metadata": {},
   "outputs": [],
   "source": [
    "import pandas as pd\n",
    "import numpy as np\n"
   ]
  },
  {
   "cell_type": "markdown",
   "metadata": {},
   "source": [
    "###  数据重采样 ###\n",
    "- 时间数据由一个频率转换到另一个频率\n",
    "- 降采样\n",
    "- 升采样"
   ]
  },
  {
   "cell_type": "code",
   "execution_count": 2,
   "metadata": {
    "collapsed": false,
    "jupyter": {
     "outputs_hidden": false
    }
   },
   "outputs": [
    {
     "data": {
      "text/plain": [
       "2011-01-01    0.703819\n",
       "2011-01-02    0.252492\n",
       "2011-01-03    0.580626\n",
       "2011-01-04    0.350177\n",
       "2011-01-05    1.258940\n",
       "Freq: D, dtype: float64"
      ]
     },
     "execution_count": 2,
     "metadata": {},
     "output_type": "execute_result"
    }
   ],
   "source": [
    "rng = pd.date_range('1/1/2011', periods=90, freq='D')\n",
    "ts = pd.Series(np.random.randn(len(rng)), index=rng)\n",
    "ts.head()"
   ]
  },
  {
   "cell_type": "code",
   "execution_count": 3,
   "metadata": {
    "collapsed": false,
    "jupyter": {
     "outputs_hidden": false
    }
   },
   "outputs": [
    {
     "data": {
      "text/plain": [
       "2011-01-31    3.151625\n",
       "2011-02-28   -3.248328\n",
       "2011-03-31   -8.278878\n",
       "Freq: M, dtype: float64"
      ]
     },
     "execution_count": 3,
     "metadata": {},
     "output_type": "execute_result"
    }
   ],
   "source": [
    "ts.resample('M').sum()"
   ]
  },
  {
   "cell_type": "code",
   "execution_count": 4,
   "metadata": {
    "collapsed": false,
    "jupyter": {
     "outputs_hidden": false
    }
   },
   "outputs": [
    {
     "data": {
      "text/plain": [
       "2011-01-01    1.536937\n",
       "2011-01-04    1.190699\n",
       "2011-01-07    0.307107\n",
       "2011-01-10    0.726873\n",
       "2011-01-13    2.985324\n",
       "2011-01-16   -1.099779\n",
       "2011-01-19   -0.097888\n",
       "2011-01-22   -2.165659\n",
       "2011-01-25    0.708607\n",
       "2011-01-28    0.247241\n",
       "2011-01-31   -3.939277\n",
       "2011-02-03   -1.054941\n",
       "2011-02-06    1.354007\n",
       "2011-02-09    3.630050\n",
       "2011-02-12    1.246084\n",
       "2011-02-15   -3.136026\n",
       "2011-02-18   -2.535640\n",
       "2011-02-21   -1.018612\n",
       "2011-02-24    1.194929\n",
       "2011-02-27   -0.457288\n",
       "2011-03-02   -2.224760\n",
       "2011-03-05   -1.688304\n",
       "2011-03-08   -1.437757\n",
       "2011-03-11   -1.140141\n",
       "2011-03-14    0.269066\n",
       "2011-03-17    1.529071\n",
       "2011-03-20   -3.713866\n",
       "2011-03-23    2.388554\n",
       "2011-03-26   -2.152619\n",
       "2011-03-29    0.172427\n",
       "Freq: 3D, dtype: float64"
      ]
     },
     "execution_count": 4,
     "metadata": {},
     "output_type": "execute_result"
    }
   ],
   "source": [
    "ts.resample('3D').sum()"
   ]
  },
  {
   "cell_type": "code",
   "execution_count": 5,
   "metadata": {
    "collapsed": false,
    "jupyter": {
     "outputs_hidden": false
    }
   },
   "outputs": [
    {
     "data": {
      "text/plain": [
       "2011-01-01    0.512312\n",
       "2011-01-04    0.396900\n",
       "2011-01-07    0.102369\n",
       "2011-01-10    0.242291\n",
       "2011-01-13    0.995108\n",
       "2011-01-16   -0.366593\n",
       "2011-01-19   -0.032629\n",
       "2011-01-22   -0.721886\n",
       "2011-01-25    0.236202\n",
       "2011-01-28    0.082414\n",
       "2011-01-31   -1.313092\n",
       "2011-02-03   -0.351647\n",
       "2011-02-06    0.451336\n",
       "2011-02-09    1.210017\n",
       "2011-02-12    0.415361\n",
       "2011-02-15   -1.045342\n",
       "2011-02-18   -0.845213\n",
       "2011-02-21   -0.339537\n",
       "2011-02-24    0.398310\n",
       "2011-02-27   -0.152429\n",
       "2011-03-02   -0.741587\n",
       "2011-03-05   -0.562768\n",
       "2011-03-08   -0.479252\n",
       "2011-03-11   -0.380047\n",
       "2011-03-14    0.089689\n",
       "2011-03-17    0.509690\n",
       "2011-03-20   -1.237955\n",
       "2011-03-23    0.796185\n",
       "2011-03-26   -0.717540\n",
       "2011-03-29    0.057476\n",
       "Freq: 3D, dtype: float64"
      ]
     },
     "execution_count": 5,
     "metadata": {},
     "output_type": "execute_result"
    }
   ],
   "source": [
    "day3Ts = ts.resample('3D').mean()\n",
    "day3Ts"
   ]
  },
  {
   "cell_type": "code",
   "execution_count": 6,
   "metadata": {
    "collapsed": false,
    "jupyter": {
     "outputs_hidden": false
    }
   },
   "outputs": [
    {
     "name": "stdout",
     "output_type": "stream",
     "text": [
      "2011-01-01    0.512312\n",
      "2011-01-02         NaN\n",
      "2011-01-03         NaN\n",
      "2011-01-04    0.396900\n",
      "2011-01-05         NaN\n",
      "                ...   \n",
      "2011-03-25         NaN\n",
      "2011-03-26   -0.717540\n",
      "2011-03-27         NaN\n",
      "2011-03-28         NaN\n",
      "2011-03-29    0.057476\n",
      "Freq: D, Length: 88, dtype: float64\n"
     ]
    }
   ],
   "source": [
    "print(day3Ts.resample('D').asfreq())"
   ]
  },
  {
   "cell_type": "markdown",
   "metadata": {},
   "source": [
    "###  插值方法： ###\n",
    "- ffill 空值取前面的值\n",
    "- bfill 空值取后面的值\n",
    "- interpolate 线性取值"
   ]
  },
  {
   "cell_type": "code",
   "execution_count": 7,
   "metadata": {
    "collapsed": false,
    "jupyter": {
     "outputs_hidden": false
    }
   },
   "outputs": [
    {
     "data": {
      "text/plain": [
       "2011-01-01    0.512312\n",
       "2011-01-02    0.512312\n",
       "2011-01-03         NaN\n",
       "2011-01-04    0.396900\n",
       "2011-01-05    0.396900\n",
       "                ...   \n",
       "2011-03-25         NaN\n",
       "2011-03-26   -0.717540\n",
       "2011-03-27   -0.717540\n",
       "2011-03-28         NaN\n",
       "2011-03-29    0.057476\n",
       "Freq: D, Length: 88, dtype: float64"
      ]
     },
     "execution_count": 7,
     "metadata": {},
     "output_type": "execute_result"
    }
   ],
   "source": [
    "day3Ts.resample('D').ffill(1)"
   ]
  },
  {
   "cell_type": "code",
   "execution_count": 8,
   "metadata": {
    "collapsed": false,
    "jupyter": {
     "outputs_hidden": false
    }
   },
   "outputs": [
    {
     "data": {
      "text/plain": [
       "2011-01-01    0.512312\n",
       "2011-01-02         NaN\n",
       "2011-01-03    0.396900\n",
       "2011-01-04    0.396900\n",
       "2011-01-05         NaN\n",
       "                ...   \n",
       "2011-03-25   -0.717540\n",
       "2011-03-26   -0.717540\n",
       "2011-03-27         NaN\n",
       "2011-03-28    0.057476\n",
       "2011-03-29    0.057476\n",
       "Freq: D, Length: 88, dtype: float64"
      ]
     },
     "execution_count": 8,
     "metadata": {},
     "output_type": "execute_result"
    }
   ],
   "source": [
    "day3Ts.resample('D').bfill(1)"
   ]
  },
  {
   "cell_type": "code",
   "execution_count": 10,
   "metadata": {
    "collapsed": false,
    "jupyter": {
     "outputs_hidden": false
    }
   },
   "outputs": [
    {
     "data": {
      "text/plain": [
       "2011-01-01    0.512312\n",
       "2011-01-02    0.473842\n",
       "2011-01-03    0.435371\n",
       "2011-01-04    0.396900\n",
       "2011-01-05    0.298723\n",
       "                ...   \n",
       "2011-03-25   -0.212965\n",
       "2011-03-26   -0.717540\n",
       "2011-03-27   -0.459201\n",
       "2011-03-28   -0.200863\n",
       "2011-03-29    0.057476\n",
       "Freq: D, Length: 88, dtype: float64"
      ]
     },
     "execution_count": 10,
     "metadata": {},
     "output_type": "execute_result"
    }
   ],
   "source": [
    "day3Ts.resample('D').interpolate('linear')"
   ]
  },
  {
   "cell_type": "code",
   "execution_count": null,
   "metadata": {},
   "outputs": [],
   "source": []
  }
 ],
 "metadata": {
  "anaconda-cloud": {},
  "kernelspec": {
   "display_name": "Python 3",
   "language": "python",
   "name": "python3"
  },
  "language_info": {
   "codemirror_mode": {
    "name": "ipython",
    "version": 3
   },
   "file_extension": ".py",
   "mimetype": "text/x-python",
   "name": "python",
   "nbconvert_exporter": "python",
   "pygments_lexer": "ipython3",
   "version": "3.6.2"
  }
 },
 "nbformat": 4,
 "nbformat_minor": 4
}
