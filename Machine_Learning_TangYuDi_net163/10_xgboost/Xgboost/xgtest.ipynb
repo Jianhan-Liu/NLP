{
 "cells": [
  {
   "cell_type": "code",
   "execution_count": 23,
   "metadata": {
    "collapsed": false,
    "jupyter": {
     "outputs_hidden": false
    }
   },
   "outputs": [],
   "source": [
    "import xgboost\n",
    "from xgboost import XGBClassifier\n",
    "\n",
    "from xgboost import plot_importance\n",
    "from sklearn.model_selection import train_test_split\n",
    "from sklearn.metrics import accuracy_score\n",
    "from sklearn.model_selection import GridSearchCV\n",
    "from sklearn.model_selection import StratifiedKFold\n",
    "from sklearn.linear_model import LogisticRegression\n",
    "\n",
    "import pandas as pd\n",
    "import numpy as np\n",
    "import matplotlib.pyplot as plt\n",
    "\n",
    "import warnings \n",
    "warnings.filterwarnings('ignore')\n",
    "%matplotlib inline"
   ]
  },
  {
   "cell_type": "markdown",
   "metadata": {},
   "source": [
    "# 数据加载"
   ]
  },
  {
   "cell_type": "code",
   "execution_count": 2,
   "metadata": {
    "collapsed": false,
    "jupyter": {
     "outputs_hidden": false
    }
   },
   "outputs": [],
   "source": [
    "# load data\n",
    "dataset = pd.read_csv('pima-indians-diabetes.csv')"
   ]
  },
  {
   "cell_type": "code",
   "execution_count": 3,
   "metadata": {
    "collapsed": false,
    "jupyter": {
     "outputs_hidden": false
    }
   },
   "outputs": [
    {
     "data": {
      "text/html": [
       "<div>\n",
       "<style scoped>\n",
       "    .dataframe tbody tr th:only-of-type {\n",
       "        vertical-align: middle;\n",
       "    }\n",
       "\n",
       "    .dataframe tbody tr th {\n",
       "        vertical-align: top;\n",
       "    }\n",
       "\n",
       "    .dataframe thead th {\n",
       "        text-align: right;\n",
       "    }\n",
       "</style>\n",
       "<table border=\"1\" class=\"dataframe\">\n",
       "  <thead>\n",
       "    <tr style=\"text-align: right;\">\n",
       "      <th></th>\n",
       "      <th>6</th>\n",
       "      <th>148</th>\n",
       "      <th>72</th>\n",
       "      <th>35</th>\n",
       "      <th>0</th>\n",
       "      <th>33.6</th>\n",
       "      <th>0.627</th>\n",
       "      <th>50</th>\n",
       "      <th>1</th>\n",
       "    </tr>\n",
       "  </thead>\n",
       "  <tbody>\n",
       "    <tr>\n",
       "      <th>0</th>\n",
       "      <td>1</td>\n",
       "      <td>85</td>\n",
       "      <td>66</td>\n",
       "      <td>29</td>\n",
       "      <td>0</td>\n",
       "      <td>26.6</td>\n",
       "      <td>0.351</td>\n",
       "      <td>31</td>\n",
       "      <td>0</td>\n",
       "    </tr>\n",
       "    <tr>\n",
       "      <th>1</th>\n",
       "      <td>8</td>\n",
       "      <td>183</td>\n",
       "      <td>64</td>\n",
       "      <td>0</td>\n",
       "      <td>0</td>\n",
       "      <td>23.3</td>\n",
       "      <td>0.672</td>\n",
       "      <td>32</td>\n",
       "      <td>1</td>\n",
       "    </tr>\n",
       "    <tr>\n",
       "      <th>2</th>\n",
       "      <td>1</td>\n",
       "      <td>89</td>\n",
       "      <td>66</td>\n",
       "      <td>23</td>\n",
       "      <td>94</td>\n",
       "      <td>28.1</td>\n",
       "      <td>0.167</td>\n",
       "      <td>21</td>\n",
       "      <td>0</td>\n",
       "    </tr>\n",
       "    <tr>\n",
       "      <th>3</th>\n",
       "      <td>0</td>\n",
       "      <td>137</td>\n",
       "      <td>40</td>\n",
       "      <td>35</td>\n",
       "      <td>168</td>\n",
       "      <td>43.1</td>\n",
       "      <td>2.288</td>\n",
       "      <td>33</td>\n",
       "      <td>1</td>\n",
       "    </tr>\n",
       "    <tr>\n",
       "      <th>4</th>\n",
       "      <td>5</td>\n",
       "      <td>116</td>\n",
       "      <td>74</td>\n",
       "      <td>0</td>\n",
       "      <td>0</td>\n",
       "      <td>25.6</td>\n",
       "      <td>0.201</td>\n",
       "      <td>30</td>\n",
       "      <td>0</td>\n",
       "    </tr>\n",
       "  </tbody>\n",
       "</table>\n",
       "</div>"
      ],
      "text/plain": [
       "   6  148  72  35    0  33.6  0.627  50  1\n",
       "0  1   85  66  29    0  26.6  0.351  31  0\n",
       "1  8  183  64   0    0  23.3  0.672  32  1\n",
       "2  1   89  66  23   94  28.1  0.167  21  0\n",
       "3  0  137  40  35  168  43.1  2.288  33  1\n",
       "4  5  116  74   0    0  25.6  0.201  30  0"
      ]
     },
     "execution_count": 3,
     "metadata": {},
     "output_type": "execute_result"
    }
   ],
   "source": [
    "dataset.head()"
   ]
  },
  {
   "cell_type": "code",
   "execution_count": 4,
   "metadata": {
    "collapsed": false,
    "jupyter": {
     "outputs_hidden": false
    }
   },
   "outputs": [],
   "source": [
    "# split data into X and y\n",
    "X = dataset.iloc[:,0:8]\n",
    "Y = dataset.iloc[:,8]"
   ]
  },
  {
   "cell_type": "code",
   "execution_count": 5,
   "metadata": {},
   "outputs": [
    {
     "data": {
      "text/plain": [
       "((767, 8), (767,))"
      ]
     },
     "execution_count": 5,
     "metadata": {},
     "output_type": "execute_result"
    }
   ],
   "source": [
    "X.shape, Y.shape"
   ]
  },
  {
   "cell_type": "code",
   "execution_count": 6,
   "metadata": {
    "collapsed": false,
    "jupyter": {
     "outputs_hidden": false
    }
   },
   "outputs": [
    {
     "data": {
      "text/plain": [
       "((513, 8), (254, 8), (513,), (254,))"
      ]
     },
     "execution_count": 6,
     "metadata": {},
     "output_type": "execute_result"
    }
   ],
   "source": [
    "# split data into train and test sets\n",
    "seed = 7\n",
    "test_size = 0.33\n",
    "X_train, X_test, y_train, y_test = train_test_split(X, Y, test_size=test_size, random_state=seed)\n",
    "X_train.shape, X_test.shape, y_train.shape, y_test.shape"
   ]
  },
  {
   "cell_type": "code",
   "execution_count": 25,
   "metadata": {
    "collapsed": false,
    "jupyter": {
     "outputs_hidden": false
    }
   },
   "outputs": [
    {
     "name": "stdout",
     "output_type": "stream",
     "text": [
      "Accuracy: 76.38%\n"
     ]
    }
   ],
   "source": [
    "# fit model no training data\n",
    "model = XGBClassifier()\n",
    "model.fit(X_train, y_train)\n",
    "\n",
    "# make predictions for test data\n",
    "y_pred = model.predict(X_test)\n",
    "predictions = [round(value) for value in y_pred]\n",
    "# evaluate predictions\n",
    "accuracy = accuracy_score(y_test, predictions)\n",
    "print(\"Accuracy: %.2f%%\" % (accuracy * 100.0))"
   ]
  },
  {
   "cell_type": "code",
   "execution_count": 26,
   "metadata": {},
   "outputs": [
    {
     "data": {
      "text/plain": [
       "0.7677165354330708"
      ]
     },
     "execution_count": 26,
     "metadata": {},
     "output_type": "execute_result"
    }
   ],
   "source": [
    "clf = LogisticRegression()\n",
    "clf.fit(X_train, y_train)\n",
    "clf.score(X_test, y_test)"
   ]
  },
  {
   "cell_type": "code",
   "execution_count": 16,
   "metadata": {
    "collapsed": false,
    "jupyter": {
     "outputs_hidden": false
    }
   },
   "outputs": [
    {
     "name": "stdout",
     "output_type": "stream",
     "text": [
      "[0]\tvalidation_0-logloss:0.660861\n",
      "Will train until validation_0-logloss hasn't improved in 10 rounds.\n",
      "[1]\tvalidation_0-logloss:0.634972\n",
      "[2]\tvalidation_0-logloss:0.611351\n",
      "[3]\tvalidation_0-logloss:0.592642\n",
      "[4]\tvalidation_0-logloss:0.575132\n",
      "[5]\tvalidation_0-logloss:0.563485\n",
      "[6]\tvalidation_0-logloss:0.549664\n",
      "[7]\tvalidation_0-logloss:0.541282\n",
      "[8]\tvalidation_0-logloss:0.530643\n",
      "[9]\tvalidation_0-logloss:0.521952\n",
      "[10]\tvalidation_0-logloss:0.515799\n",
      "[11]\tvalidation_0-logloss:0.509574\n",
      "[12]\tvalidation_0-logloss:0.503468\n",
      "[13]\tvalidation_0-logloss:0.499532\n",
      "[14]\tvalidation_0-logloss:0.493536\n",
      "[15]\tvalidation_0-logloss:0.490027\n",
      "[16]\tvalidation_0-logloss:0.485746\n",
      "[17]\tvalidation_0-logloss:0.481438\n",
      "[18]\tvalidation_0-logloss:0.479345\n",
      "[19]\tvalidation_0-logloss:0.477251\n",
      "[20]\tvalidation_0-logloss:0.472621\n",
      "[21]\tvalidation_0-logloss:0.470315\n",
      "[22]\tvalidation_0-logloss:0.469204\n",
      "[23]\tvalidation_0-logloss:0.466885\n",
      "[24]\tvalidation_0-logloss:0.46358\n",
      "[25]\tvalidation_0-logloss:0.461839\n",
      "[26]\tvalidation_0-logloss:0.460109\n",
      "[27]\tvalidation_0-logloss:0.458307\n",
      "[28]\tvalidation_0-logloss:0.456981\n",
      "[29]\tvalidation_0-logloss:0.457083\n",
      "[30]\tvalidation_0-logloss:0.456356\n",
      "[31]\tvalidation_0-logloss:0.457025\n",
      "[32]\tvalidation_0-logloss:0.456558\n",
      "[33]\tvalidation_0-logloss:0.454316\n",
      "[34]\tvalidation_0-logloss:0.453888\n",
      "[35]\tvalidation_0-logloss:0.452726\n",
      "[36]\tvalidation_0-logloss:0.452806\n",
      "[37]\tvalidation_0-logloss:0.453428\n",
      "[38]\tvalidation_0-logloss:0.453961\n",
      "[39]\tvalidation_0-logloss:0.452715\n",
      "[40]\tvalidation_0-logloss:0.452127\n",
      "[41]\tvalidation_0-logloss:0.451756\n",
      "[42]\tvalidation_0-logloss:0.452354\n",
      "[43]\tvalidation_0-logloss:0.451581\n",
      "[44]\tvalidation_0-logloss:0.451435\n",
      "[45]\tvalidation_0-logloss:0.451617\n",
      "[46]\tvalidation_0-logloss:0.450904\n",
      "[47]\tvalidation_0-logloss:0.450941\n",
      "[48]\tvalidation_0-logloss:0.451483\n",
      "[49]\tvalidation_0-logloss:0.450556\n",
      "[50]\tvalidation_0-logloss:0.450826\n",
      "[51]\tvalidation_0-logloss:0.450388\n",
      "[52]\tvalidation_0-logloss:0.450429\n",
      "[53]\tvalidation_0-logloss:0.449568\n",
      "[54]\tvalidation_0-logloss:0.450189\n",
      "[55]\tvalidation_0-logloss:0.449655\n",
      "[56]\tvalidation_0-logloss:0.450208\n",
      "[57]\tvalidation_0-logloss:0.450472\n",
      "[58]\tvalidation_0-logloss:0.450607\n",
      "[59]\tvalidation_0-logloss:0.450718\n",
      "[60]\tvalidation_0-logloss:0.450727\n",
      "[61]\tvalidation_0-logloss:0.451516\n",
      "[62]\tvalidation_0-logloss:0.452205\n",
      "[63]\tvalidation_0-logloss:0.452256\n",
      "Stopping. Best iteration:\n",
      "[53]\tvalidation_0-logloss:0.449568\n",
      "\n",
      "Accuracy: 75.59%\n"
     ]
    }
   ],
   "source": [
    "model2 = XGBClassifier()\n",
    "eval_set = [(X_test, y_test)]\n",
    "model2.fit(X_train, y_train, early_stopping_rounds=10, \n",
    "          eval_metric=\"logloss\", eval_set=eval_set, verbose=True)\n",
    "\n",
    "# make predictions for test data\n",
    "y_pred = model2.predict(X_test)\n",
    "predictions = [round(value) for value in y_pred]\n",
    "# evaluate predictions\n",
    "accuracy = accuracy_score(y_test, predictions)\n",
    "print(\"Accuracy: %.2f%%\" % (accuracy * 100.0))"
   ]
  },
  {
   "cell_type": "code",
   "execution_count": 19,
   "metadata": {
    "collapsed": false,
    "jupyter": {
     "outputs_hidden": false
    }
   },
   "outputs": [
    {
     "data": {
      "image/png": "[encoded data removed]",
      "text/plain": [
       "<Figure size 432x288 with 1 Axes>"
      ]
     },
     "metadata": {
      "needs_background": "light"
     },
     "output_type": "display_data"
    }
   ],
   "source": [
    "model3 = XGBClassifier()\n",
    "model3.fit(X_train, y_train)\n",
    "# plot feature importance\n",
    "plot_importance(model3)\n",
    "plt.show()"
   ]
  },
  {
   "cell_type": "markdown",
   "metadata": {},
   "source": [
    "# 超参设置"
   ]
  },
  {
   "cell_type": "markdown",
   "metadata": {
    "jupyter": {
     "outputs_hidden": true
    }
   },
   "source": [
    "1.learning rate\n",
    "\n",
    "2.tree \n",
    "\n",
    "max_depth\n",
    "\n",
    "min_child_weight\n",
    "\n",
    "subsample, colsample_bytree\n",
    "\n",
    "gamma \n",
    "\n",
    "3.正则化参数\n",
    "\n",
    "lambda \n",
    "\n",
    "alpha \n"
   ]
  },
  {
   "cell_type": "code",
   "execution_count": 4,
   "metadata": {},
   "outputs": [],
   "source": [
    "xgb1 = XGBClassifier(\n",
    " learning_rate =0.1,\n",
    " n_estimators=1000,\n",
    " max_depth=5,\n",
    " min_child_weight=1,\n",
    " gamma=0,\n",
    " subsample=0.8,\n",
    " colsample_bytree=0.8,\n",
    " objective= 'binary:logistic',\n",
    " nthread=4,\n",
    " scale_pos_weight=1,\n",
    " seed=27)"
   ]
  },
  {
   "cell_type": "code",
   "execution_count": 22,
   "metadata": {
    "collapsed": false,
    "jupyter": {
     "outputs_hidden": false
    }
   },
   "outputs": [
    {
     "name": "stdout",
     "output_type": "stream",
     "text": [
      "Best: -0.481923 using {'learning_rate': 0.1}\n",
      "-0.689707  with: {'learning_rate': 0.0001}\n",
      "-0.660775  with: {'learning_rate': 0.001}\n",
      "-0.527197  with: {'learning_rate': 0.01}\n",
      "-0.481923  with: {'learning_rate': 0.1}\n",
      "-0.513463  with: {'learning_rate': 0.2}\n",
      "-0.563494  with: {'learning_rate': 0.3}\n"
     ]
    }
   ],
   "source": [
    "model = XGBClassifier()\n",
    "learning_rate = [0.0001, 0.001, 0.01, 0.1, 0.2, 0.3]\n",
    "param_grid = dict(learning_rate=learning_rate)\n",
    "kfold = StratifiedKFold(n_splits=10, shuffle=True, random_state=7)\n",
    "grid_search = GridSearchCV(model, param_grid, scoring=\"neg_log_loss\", n_jobs=-1, cv=kfold)\n",
    "grid_result = grid_search.fit(X, Y)\n",
    "# summarize results\n",
    "print(\"Best: %f using %s\" % (grid_result.best_score_, grid_result.best_params_))\n",
    "means = grid_result.cv_results_['mean_test_score']\n",
    "params = grid_result.cv_results_['params']\n",
    "for mean, param in zip(means, params):\n",
    "    print(\"%f  with: %r\" % (mean, param))"
   ]
  },
  {
   "cell_type": "code",
   "execution_count": null,
   "metadata": {},
   "outputs": [],
   "source": []
  }
 ],
 "metadata": {
  "anaconda-cloud": {},
  "kernelspec": {
   "display_name": "Python 3",
   "language": "python",
   "name": "python3"
  },
  "language_info": {
   "codemirror_mode": {
    "name": "ipython",
    "version": 3
   },
   "file_extension": ".py",
   "mimetype": "text/x-python",
   "name": "python",
   "nbconvert_exporter": "python",
   "pygments_lexer": "ipython3",
   "version": "3.6.2"
  }
 },
 "nbformat": 4,
 "nbformat_minor": 4
}
