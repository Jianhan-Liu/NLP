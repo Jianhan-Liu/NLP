{
 "cells": [
  {
   "cell_type": "code",
   "execution_count": 32,
   "metadata": {},
   "outputs": [],
   "source": [
    "import numpy as np\n",
    "import matplotlib.pyplot as plt\n",
    "import seaborn as sns\n",
    "sns.set()\n",
    "%matplotlib inline\n",
    "\n",
    "from smart_open import open as s_open"
   ]
  },
  {
   "cell_type": "markdown",
   "metadata": {},
   "source": [
    "# Compute time consuming comparison"
   ]
  },
  {
   "cell_type": "code",
   "execution_count": 12,
   "metadata": {},
   "outputs": [],
   "source": [
    "n = np.linspace(0,100)"
   ]
  },
  {
   "cell_type": "code",
   "execution_count": 13,
   "metadata": {},
   "outputs": [
    {
     "name": "stderr",
     "output_type": "stream",
     "text": [
      "C:\\Users\\Administrator\\Anaconda3\\envs\\nlp\\lib\\site-packages\\ipykernel_launcher.py:4: RuntimeWarning: divide by zero encountered in log2\n",
      "  after removing the cwd from sys.path.\n",
      "C:\\Users\\Administrator\\Anaconda3\\envs\\nlp\\lib\\site-packages\\ipykernel_launcher.py:4: RuntimeWarning: invalid value encountered in sqrt\n",
      "  after removing the cwd from sys.path.\n"
     ]
    }
   ],
   "source": [
    "a = np.power(n, 1/2)\n",
    "b = np.power(10, n)\n",
    "c = np.power(n, 1.5)\n",
    "d = np.power(2, np.sqrt(np.log2(n)))\n",
    "e = np.power(n, 5/3)"
   ]
  },
  {
   "cell_type": "code",
   "execution_count": 20,
   "metadata": {},
   "outputs": [
    {
     "data": {
      "image/png": "[encoded data removed]",
      "text/plain": [
       "<Figure size 720x720 with 1 Axes>"
      ]
     },
     "metadata": {
      "needs_background": "light"
     },
     "output_type": "display_data"
    }
   ],
   "source": [
    "plt.figure(figsize=(10,10))\n",
    "plt.plot(n, a, label='a')\n",
    "# plt.plot(n, b)\n",
    "# plt.plot(n, c, label='c')\n",
    "plt.plot(n, d, label='d')\n",
    "# plt.plot(n, e, label='e')\n",
    "plt.legend()\n",
    "plt.show()"
   ]
  },
  {
   "cell_type": "markdown",
   "metadata": {},
   "source": [
    "# Inversion counter"
   ]
  },
  {
   "cell_type": "markdown",
   "metadata": {},
   "source": [
    "[Credit](https://github.com/sestus/algorithms-stanford/blob/master/part_1/assignment1_inversions_calculator/app/inversion_calculator.py)"
   ]
  },
  {
   "cell_type": "code",
   "execution_count": 68,
   "metadata": {},
   "outputs": [],
   "source": [
    "class InversionCalculator:\n",
    "    def __init__(self):\n",
    "        self._array = []\n",
    "        self._inversions = 0\n",
    "\n",
    "    @property\n",
    "    def inversions(self):\n",
    "        return self._inversions\n",
    "\n",
    "    @property\n",
    "    def array(self):\n",
    "        return self._array\n",
    "\n",
    "    def read_input(self, input_file=None):\n",
    "        if input_file is None:\n",
    "            self._array = [int(elem) for elem in input().split()]\n",
    "            return\n",
    "        with open(input_file) as numbers:\n",
    "            for number in numbers:\n",
    "                self._array.append(int(number))\n",
    "\n",
    "    def merge_sort(self, array=None):\n",
    "        if array is None:\n",
    "            array = self._array\n",
    "        return self._sort(array)\n",
    "\n",
    "    def _sort(self, array):\n",
    "        if len(array) <= 1:\n",
    "            return array\n",
    "        mid = (len(array)) // 2\n",
    "        left = self._sort(array[:mid])\n",
    "        right = self._sort(array[mid:])\n",
    "        return self._merge(array, left, right)\n",
    "\n",
    "    def _merge(self, array, left, right):\n",
    "        i, j, k = 0, 0, 0\n",
    "        while j < len(left) and k < len(right):\n",
    "            print(array)\n",
    "            print(j, k)\n",
    "            if left[j] <= right[k]:\n",
    "                array[i] = left[j]\n",
    "                j += 1\n",
    "            else:\n",
    "                array[i] = right[k]\n",
    "                k += 1\n",
    "                self._inversions += (len(left) - j)\n",
    "                print(self._inversions)\n",
    "            i += 1\n",
    "        while j < len(left):\n",
    "            print('hel')\n",
    "            array[i] = left[j]\n",
    "            j += 1\n",
    "            i += 1\n",
    "        while k < len(right):\n",
    "            print('worl')\n",
    "            array[i] = right[k]\n",
    "            k += 1\n",
    "            i += 1\n",
    "        return array"
   ]
  },
  {
   "cell_type": "code",
   "execution_count": 51,
   "metadata": {},
   "outputs": [
    {
     "data": {
      "text/plain": [
       "2407905288"
      ]
     },
     "execution_count": 51,
     "metadata": {},
     "output_type": "execute_result"
    }
   ],
   "source": [
    "calculator = InversionCalculator()\n",
    "calculator.read_input('IntegerArray.txt')\n",
    "calculator.merge_sort()\n",
    "calculator.inversions"
   ]
  },
  {
   "cell_type": "code",
   "execution_count": 69,
   "metadata": {},
   "outputs": [
    {
     "name": "stdin",
     "output_type": "stream",
     "text": [
      " 4 3 2 1\n"
     ]
    },
    {
     "name": "stdout",
     "output_type": "stream",
     "text": [
      "[4, 3]\n",
      "0 0\n",
      "1\n",
      "hel\n",
      "[2, 1]\n",
      "0 0\n",
      "2\n",
      "hel\n",
      "[4, 3, 2, 1]\n",
      "0 0\n",
      "4\n",
      "[1, 3, 2, 1]\n",
      "0 1\n",
      "6\n",
      "hel\n",
      "hel\n"
     ]
    },
    {
     "data": {
      "text/plain": [
       "6"
      ]
     },
     "execution_count": 69,
     "metadata": {},
     "output_type": "execute_result"
    }
   ],
   "source": [
    "calculator = InversionCalculator()\n",
    "calculator.read_input()\n",
    "calculator.merge_sort()\n",
    "calculator.inversions"
   ]
  },
  {
   "cell_type": "code",
   "execution_count": null,
   "metadata": {},
   "outputs": [],
   "source": []
  }
 ],
 "metadata": {
  "kernelspec": {
   "display_name": "Python 3",
   "language": "python",
   "name": "python3"
  },
  "language_info": {
   "codemirror_mode": {
    "name": "ipython",
    "version": 3
   },
   "file_extension": ".py",
   "mimetype": "text/x-python",
   "name": "python",
   "nbconvert_exporter": "python",
   "pygments_lexer": "ipython3",
   "version": "3.6.2"
  }
 },
 "nbformat": 4,
 "nbformat_minor": 4
}
