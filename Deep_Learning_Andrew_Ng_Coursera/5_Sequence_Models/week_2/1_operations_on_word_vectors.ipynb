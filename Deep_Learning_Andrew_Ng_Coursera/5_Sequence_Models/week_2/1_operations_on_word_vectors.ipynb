{
 "cells": [
  {
   "cell_type": "code",
   "execution_count": 1,
   "metadata": {},
   "outputs": [],
   "source": [
    "import numpy as np"
   ]
  },
  {
   "cell_type": "markdown",
   "metadata": {},
   "source": [
    "# 1 - Cosine similarity\n",
    "\n",
    "To measure how similar two words are, we need a way to measure the degree of similarity between two embedding vectors for the two words. Given two vectors $u$ and $v$, cosine similarity is defined as follows: \n",
    "\n",
    "$$\\text{CosineSimilarity(u, v)} = \\frac {u . v} {||u||_2 ||v||_2} = cos(\\theta) \\tag{1}$$\n",
    "\n",
    "where $u.v$ is the dot product (or inner product) of two vectors, $||u||_2$ is the norm (or length) of the vector $u$, and $\\theta$ is the angle between $u$ and $v$. This similarity depends on the angle between $u$ and $v$. If $u$ and $v$ are very similar, their cosine similarity will be close to 1; if they are dissimilar, the cosine similarity will take a smaller value. \n",
    "\n",
    "<img src=\"imgs/cosine_sim.png\" style=\"width:800px;height:250px;\">\n",
    "<caption><center> **Figure 1**: The cosine of the angle between two vectors is a measure of how similar they are</center></caption>\n",
    "\n",
    "**Exercise**: Implement the function `cosine_similarity()` to evaluate similarity between word vectors.\n",
    "\n",
    "**Reminder**: The norm of $u$ is defined as $ ||u||_2 = \\sqrt{\\sum_{i=1}^{n} u_i^2}$"
   ]
  },
  {
   "cell_type": "code",
   "execution_count": 1,
   "metadata": {},
   "outputs": [
    {
     "name": "stdout",
     "output_type": "stream",
     "text": [
      "Package              Version             \n",
      "-------------------- --------------------\n",
      "absl-py              0.7.1               \n",
      "astor                0.8.0               \n",
      "attrs                19.1.0              \n",
      "backcall             0.1.0               \n",
      "bleach               3.1.0               \n",
      "boto                 2.49.0              \n",
      "boto3                1.9.205             \n",
      "botocore             1.12.205            \n",
      "certifi              2019.6.16           \n",
      "chardet              3.0.4               \n",
      "colorama             0.4.1               \n",
      "decorator            4.4.0               \n",
      "defusedxml           0.5.0               \n",
      "docutils             0.14                \n",
      "entrypoints          0.3                 \n",
      "gast                 0.2.2               \n",
      "gensim               3.8.0               \n",
      "google-pasta         0.1.7               \n",
      "grpcio               1.22.0              \n",
      "h5py                 2.9.0               \n",
      "idna                 2.8                 \n",
      "ipykernel            5.1.2               \n",
      "ipython              7.7.0               \n",
      "ipython-genutils     0.2.0               \n",
      "jedi                 0.14.1              \n",
      "jieba                0.39                \n",
      "Jinja2               2.10.1              \n",
      "jmespath             0.9.4               \n",
      "joblib               0.13.2              \n",
      "json5                0.8.5               \n",
      "jsonschema           3.0.2               \n",
      "jupyter-client       5.3.1               \n",
      "jupyter-core         4.4.0               \n",
      "jupyterlab           1.0.5               \n",
      "jupyterlab-server    1.0.0               \n",
      "Keras                2.2.4               \n",
      "Keras-Applications   1.0.8               \n",
      "Keras-Preprocessing  1.1.0               \n",
      "Markdown             3.1.1               \n",
      "MarkupSafe           1.1.1               \n",
      "mistune              0.8.4               \n",
      "nbconvert            5.6.0               \n",
      "nbformat             4.4.0               \n",
      "nltk                 3.4.4               \n",
      "notebook             6.0.0               \n",
      "numpy                1.17.0              \n",
      "pandas               0.25.0              \n",
      "pandocfilters        1.4.2               \n",
      "parso                0.5.1               \n",
      "pickleshare          0.7.5               \n",
      "pip                  19.2.1              \n",
      "prometheus-client    0.7.1               \n",
      "prompt-toolkit       2.0.9               \n",
      "protobuf             3.9.1               \n",
      "Pygments             2.4.2               \n",
      "pyltp                0.2.1               \n",
      "pyrsistent           0.15.4              \n",
      "python-dateutil      2.8.0               \n",
      "pytz                 2019.2              \n",
      "pywinpty             0.5.5               \n",
      "PyYAML               5.1.2               \n",
      "pyzmq                18.0.2              \n",
      "requests             2.22.0              \n",
      "s3transfer           0.2.1               \n",
      "scikit-learn         0.21.3              \n",
      "scipy                1.3.1               \n",
      "Send2Trash           1.5.0               \n",
      "setuptools           36.4.0              \n",
      "six                  1.12.0              \n",
      "sklearn              0.0                 \n",
      "smart-open           1.8.4               \n",
      "tb-nightly           1.14.0a20190301     \n",
      "tensorflow           2.0.0a0             \n",
      "termcolor            1.1.0               \n",
      "terminado            0.8.2               \n",
      "testpath             0.4.2               \n",
      "tf-estimator-nightly 1.14.0.dev2019030115\n",
      "tornado              6.0.3               \n",
      "tqdm                 4.33.0              \n",
      "traitlets            4.3.2               \n",
      "urllib3              1.25.3              \n",
      "wcwidth              0.1.7               \n",
      "webencodings         0.5.1               \n",
      "Werkzeug             0.15.5              \n",
      "wheel                0.29.0              \n",
      "wincertstore         0.2                 \n",
      "xgboost              0.90                \n"
     ]
    }
   ],
   "source": [
    "!pip list"
   ]
  },
  {
   "cell_type": "code",
   "execution_count": null,
   "metadata": {},
   "outputs": [],
   "source": []
  }
 ],
 "metadata": {
  "kernelspec": {
   "display_name": "Python 3",
   "language": "python",
   "name": "python3"
  },
  "language_info": {
   "codemirror_mode": {
    "name": "ipython",
    "version": 3
   },
   "file_extension": ".py",
   "mimetype": "text/x-python",
   "name": "python",
   "nbconvert_exporter": "python",
   "pygments_lexer": "ipython3",
   "version": "3.6.2"
  }
 },
 "nbformat": 4,
 "nbformat_minor": 4
}
