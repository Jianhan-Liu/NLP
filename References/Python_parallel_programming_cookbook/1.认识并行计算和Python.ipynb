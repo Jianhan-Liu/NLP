{
 "cells": [
  {
   "cell_type": "code",
   "execution_count": 2,
   "metadata": {},
   "outputs": [],
   "source": [
    "from threading import Thread\n",
    "from time import sleep"
   ]
  },
  {
   "cell_type": "code",
   "execution_count": 3,
   "metadata": {},
   "outputs": [],
   "source": [
    "class CookBook(Thread):\n",
    "    def __init__(self):\n",
    "        Thread.__init__(self)\n",
    "        self.message = 'Hello world!\\n'\n",
    "        \n",
    "    def print_message(self):\n",
    "        print(self.message)\n",
    "        \n",
    "    def run(self):\n",
    "        print('Thread starting:\\n')\n",
    "        x  = 0\n",
    "        while x < 10:\n",
    "            self.print_message()\n",
    "            sleep(2)\n",
    "            x += 1\n",
    "        print('Thread ended.\\n')"
   ]
  },
  {
   "cell_type": "code",
   "execution_count": 4,
   "metadata": {},
   "outputs": [
    {
     "name": "stdout",
     "output_type": "stream",
     "text": [
      "Process started\n",
      "Thread starting:\n",
      "\n",
      "Hello world!\n",
      "\n",
      "Process ended\n",
      "Hello world!\n",
      "\n",
      "Hello world!\n",
      "\n",
      "Hello world!\n",
      "\n",
      "Hello world!\n",
      "\n",
      "Hello world!\n",
      "\n",
      "Hello world!\n",
      "\n",
      "Hello world!\n",
      "\n",
      "Hello world!\n",
      "\n",
      "Hello world!\n",
      "\n",
      "Thread ended.\n",
      "\n"
     ]
    }
   ],
   "source": [
    "print('Process started')\n",
    "\n",
    "hello_python = CookBook()\n",
    "hello_python.start()\n",
    "print('Process ended')"
   ]
  },
  {
   "cell_type": "code",
   "execution_count": 5,
   "metadata": {},
   "outputs": [
    {
     "name": "stdout",
     "output_type": "stream",
     "text": [
      "Process started\n",
      "Thread starting:\n",
      "\n",
      "Hello world!\n",
      "\n",
      "Hello world!\n",
      "\n",
      "Hello world!\n",
      "\n",
      "Hello world!\n",
      "\n",
      "Hello world!\n",
      "\n",
      "Hello world!\n",
      "\n",
      "Hello world!\n",
      "\n",
      "Hello world!\n",
      "\n",
      "Hello world!\n",
      "\n",
      "Hello world!\n",
      "\n",
      "Thread ended.\n",
      "\n",
      "Process ended\n"
     ]
    }
   ],
   "source": [
    "print('Process started')\n",
    "\n",
    "hello_python = CookBook()\n",
    "hello_python.start()\n",
    "# join: wait until the thread terminates\n",
    "hello_python.join()\n",
    "print('Process ended')"
   ]
  },
  {
   "cell_type": "code",
   "execution_count": null,
   "metadata": {},
   "outputs": [],
   "source": []
  }
 ],
 "metadata": {
  "kernelspec": {
   "display_name": "Python 3",
   "language": "python",
   "name": "python3"
  },
  "language_info": {
   "codemirror_mode": {
    "name": "ipython",
    "version": 3
   },
   "file_extension": ".py",
   "mimetype": "text/x-python",
   "name": "python",
   "nbconvert_exporter": "python",
   "pygments_lexer": "ipython3",
   "version": "3.6.8"
  }
 },
 "nbformat": 4,
 "nbformat_minor": 4
}
