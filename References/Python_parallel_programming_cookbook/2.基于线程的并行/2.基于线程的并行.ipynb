{
 "cells": [
  {
   "cell_type": "markdown",
   "metadata": {},
   "source": [
    "# 介绍"
   ]
  },
  {
   "cell_type": "markdown",
   "metadata": {},
   "source": [
    "# 主要组件\n",
    "- 线程对象\n",
    "- Lock对象\n",
    "- RLock对象\n",
    "- 信号对象\n",
    "- 条件对象\n",
    "- 事件对象"
   ]
  },
  {
   "cell_type": "code",
   "execution_count": null,
   "metadata": {},
   "outputs": [],
   "source": [
    "import threading\n",
    "from threading import *\n",
    "import time\n",
    "import logging\n",
    "import random"
   ]
  },
  {
   "cell_type": "markdown",
   "metadata": {},
   "source": [
    "# 定义一个线程\n",
    "1. 自定义函数后，传给Thread实例\n",
    "2. 继承`Thread`类后，重写`run`以及其他类方法"
   ]
  },
  {
   "cell_type": "code",
   "execution_count": 64,
   "metadata": {},
   "outputs": [
    {
     "name": "stdout",
     "output_type": "stream",
     "text": [
      "functoin called by thread 0\n",
      "functoin called by thread 1\n",
      "functoin called by thread 2\n",
      "functoin called by thread 3\n",
      "functoin called by thread 4\n",
      "functoin called by thread 5\n",
      "functoin called by thread 6\n",
      "functoin called by thread 7\n",
      "functoin called by thread 8\n",
      "functoin called by thread 9\n"
     ]
    }
   ],
   "source": [
    "def function(i):\n",
    "    print(f'functoin called by thread {i}')\n",
    "    return \n",
    "\n",
    "\n",
    "for i in range(10):\n",
    "    t = Thread(target=function, args=(i,))\n",
    "    t.start()\n",
    "#     t.join()"
   ]
  },
  {
   "cell_type": "markdown",
   "metadata": {},
   "source": [
    "# 确定当前线程"
   ]
  },
  {
   "cell_type": "code",
   "execution_count": 72,
   "metadata": {},
   "outputs": [],
   "source": [
    "def first_function():\n",
    "    print(current_thread().name + str(' is starting '))\n",
    "    time.sleep(1.5)\n",
    "    print(current_thread().name + str(' is exiting '))\n",
    "    \n",
    "def second_function():\n",
    "    print(current_thread().name + str(' is starting '))\n",
    "    time.sleep(1.3)\n",
    "    print(current_thread().name + str(' is exiting '))\n",
    "    \n",
    "def third_function():\n",
    "    print(current_thread().name + str(' is starting '))\n",
    "    time.sleep(1.2)\n",
    "    print(current_thread().name + str(' is exiting '))"
   ]
  },
  {
   "cell_type": "code",
   "execution_count": 73,
   "metadata": {},
   "outputs": [
    {
     "name": "stdout",
     "output_type": "stream",
     "text": [
      "first_function is starting \n",
      "second_function is starting \n",
      "third_function is starting \n",
      "third_function is exiting \n",
      "second_function is exiting \n",
      "first_function is exiting \n"
     ]
    }
   ],
   "source": [
    "t1 = Thread(target=first_function, name='first_function')\n",
    "t2 = Thread(target=second_function, name='second_function')\n",
    "t3 = Thread(target=third_function, name='third_function')\n",
    "t1.start()\n",
    "t2.start()\n",
    "t3.start()"
   ]
  },
  {
   "cell_type": "markdown",
   "metadata": {},
   "source": [
    "# 自定义一个线程\n",
    "- 继承`Thread`类\n",
    "- 重写初始化类方法\n",
    "- 重写`run`方法实现自定义"
   ]
  },
  {
   "cell_type": "code",
   "execution_count": 2,
   "metadata": {},
   "outputs": [],
   "source": [
    "exit_flag = 0\n",
    "\n",
    "class MyThread(Thread):\n",
    "    def __init__(self, threadID, name, counter):\n",
    "        Thread.__init__(self)\n",
    "#         super().__init__()  # work\n",
    "#         super().__init__(self)  # wrong\n",
    "        self.threadID = threadID\n",
    "        self.name = name\n",
    "        self.counter = counter\n",
    "        \n",
    "    def run(self):\n",
    "        print('Starting ' + self.name)\n",
    "        print_time(self.name, self.counter, 5)\n",
    "        print(f'Exiting {self.name}')\n",
    "        \n",
    "def print_time(thread_name, delay, counter):\n",
    "    while counter:\n",
    "        if exit_flag:\n",
    "            import _thread\n",
    "            _thread.exit()\n",
    "        time.sleep(delay)\n",
    "        print(f'{thread_name}: {time.ctime(time.time())}')\n",
    "        counter -= 1"
   ]
  },
  {
   "cell_type": "code",
   "execution_count": 3,
   "metadata": {},
   "outputs": [
    {
     "name": "stdout",
     "output_type": "stream",
     "text": [
      "Starting thread-1\n",
      "Starting thread-2\n",
      "exiting MainThread\n",
      "thread-1: Tue Dec 10 11:06:36 2019\n",
      "thread-1: Tue Dec 10 11:06:37 2019\n",
      "thread-2: Tue Dec 10 11:06:37 2019\n",
      "thread-1: Tue Dec 10 11:06:38 2019\n",
      "thread-1: Tue Dec 10 11:06:39 2019\n",
      "thread-2: Tue Dec 10 11:06:39 2019\n",
      "thread-1: Tue Dec 10 11:06:40 2019\n",
      "Exiting thread-1\n",
      "thread-2: Tue Dec 10 11:06:41 2019\n",
      "thread-2: Tue Dec 10 11:06:43 2019\n",
      "thread-2: Tue Dec 10 11:06:45 2019\n",
      "Exiting thread-2\n"
     ]
    }
   ],
   "source": [
    "thread1 = MyThread(1, 'thread-1', 1)\n",
    "thread2 = MyThread(2, 'thread-2', 2)\n",
    "\n",
    "thread1.start()\n",
    "thread2.start()\n",
    "print(f'exiting {current_thread().name}')"
   ]
  },
  {
   "cell_type": "code",
   "execution_count": 4,
   "metadata": {},
   "outputs": [
    {
     "name": "stdout",
     "output_type": "stream",
     "text": [
      "Starting thread-1\n",
      "Starting thread-2\n",
      "thread-1: Tue Dec 10 11:06:52 2019\n",
      "thread-1: Tue Dec 10 11:06:53 2019\n",
      "thread-2: Tue Dec 10 11:06:53 2019\n",
      "thread-1: Tue Dec 10 11:06:54 2019\n",
      "thread-1: Tue Dec 10 11:06:55 2019\n",
      "thread-2: Tue Dec 10 11:06:55 2019\n",
      "thread-1: Tue Dec 10 11:06:56 2019\n",
      "Exiting thread-1\n",
      "thread-2: Tue Dec 10 11:06:57 2019\n",
      "thread-2: Tue Dec 10 11:06:59 2019\n",
      "thread-2: Tue Dec 10 11:07:01 2019\n",
      "Exiting thread-2\n",
      "exiting MainThread\n"
     ]
    }
   ],
   "source": [
    "thread1 = MyThread(1, 'thread-1', 1)\n",
    "thread2 = MyThread(2, 'thread-2', 2)\n",
    "\n",
    "thread1.start()\n",
    "thread2.start()\n",
    "thread1.join()\n",
    "thread2.join()\n",
    "print(f'exiting {current_thread().name}')"
   ]
  },
  {
   "cell_type": "markdown",
   "metadata": {},
   "source": [
    "# 线程同步"
   ]
  },
  {
   "cell_type": "markdown",
   "metadata": {},
   "source": [
    "## 使用`Lock`进行线程同步\n",
    "- ![有死锁出现的情况](https://python-parallel-programmning-cookbook.readthedocs.io/zh_CN/latest/_images/deadlock.png)死锁\n",
    "- `lock()`：将共享资源某一个时刻的访问限制在单一线程或单一类型的线程上"
   ]
  },
  {
   "cell_type": "code",
   "execution_count": 4,
   "metadata": {},
   "outputs": [],
   "source": [
    "shared_resource_with_lock = 0\n",
    "shared_resource_without_lock = 0\n",
    "COUNT = 100000\n",
    "shared_resource_lock = Lock()"
   ]
  },
  {
   "cell_type": "code",
   "execution_count": 5,
   "metadata": {},
   "outputs": [],
   "source": [
    "def increment_with_lock():\n",
    "    global shared_resource_with_lock\n",
    "    for _ in range(COUNT):\n",
    "        shared_resource_lock.acquire()\n",
    "        shared_resource_with_lock += 1\n",
    "        shared_resource_lock.release()\n",
    "        \n",
    "def decrement_with_lock():\n",
    "    global shared_resource_with_lock\n",
    "    for _ in range(COUNT):\n",
    "        shared_resource_lock.acquire()\n",
    "        shared_resource_with_lock -= 1\n",
    "        shared_resource_lock.release()\n",
    "        \n",
    "def increment_without_lock():\n",
    "    global shared_resource_without_lock\n",
    "    for _ in range(COUNT):\n",
    "        shared_resource_without_lock += 1\n",
    "        \n",
    "def decrement_without_lock():\n",
    "    global shared_resource_without_lock\n",
    "    for _ in range(COUNT):\n",
    "        shared_resource_without_lock -= 1"
   ]
  },
  {
   "cell_type": "code",
   "execution_count": 8,
   "metadata": {},
   "outputs": [
    {
     "name": "stdout",
     "output_type": "stream",
     "text": [
      "Exit MainThread\n",
      "shared_resource_with_lock value is: 0\n",
      "shared_resource_without_lock value is: -51913\n"
     ]
    }
   ],
   "source": [
    "t1 = Thread(target=increment_with_lock)\n",
    "t2 = Thread(target=decrement_with_lock)\n",
    "t3 = Thread(target=increment_without_lock)\n",
    "t4 = Thread(target=decrement_without_lock)\n",
    "t1.start()\n",
    "t2.start()\n",
    "t3.start()\n",
    "t4.start()\n",
    "t1.join()\n",
    "t2.join()\n",
    "t3.join()\n",
    "t4.join()\n",
    "print(f\"Exit {current_thread().name}\")\n",
    "print(f'shared_resource_with_lock value is: {shared_resource_with_lock}')\n",
    "print(f'shared_resource_without_lock value is: {shared_resource_without_lock}')"
   ]
  },
  {
   "cell_type": "code",
   "execution_count": 73,
   "metadata": {
    "collapsed": true,
    "jupyter": {
     "outputs_hidden": true
    }
   },
   "outputs": [
    {
     "name": "stdout",
     "output_type": "stream",
     "text": [
      "Help on class lock in module _thread:\n",
      "\n",
      "class lock(builtins.object)\n",
      " |  A lock object is a synchronization primitive.  To create a lock,\n",
      " |  call threading.Lock().  Methods are:\n",
      " |  \n",
      " |  acquire() -- lock the lock, possibly blocking until it can be obtained\n",
      " |  release() -- unlock of the lock\n",
      " |  locked() -- test whether the lock is currently locked\n",
      " |  \n",
      " |  A lock is not owned by the thread that locked it; another thread may\n",
      " |  unlock it.  A thread attempting to lock a lock that it has already locked\n",
      " |  will block until another thread unlocks it.  Deadlocks may ensue.\n",
      " |  \n",
      " |  Methods defined here:\n",
      " |  \n",
      " |  __enter__(...)\n",
      " |      acquire(blocking=True, timeout=-1) -> bool\n",
      " |      (acquire_lock() is an obsolete synonym)\n",
      " |      \n",
      " |      Lock the lock.  Without argument, this blocks if the lock is already\n",
      " |      locked (even by the same thread), waiting for another thread to release\n",
      " |      the lock, and return True once the lock is acquired.\n",
      " |      With an argument, this will only block if the argument is true,\n",
      " |      and the return value reflects whether the lock is acquired.\n",
      " |      The blocking operation is interruptible.\n",
      " |  \n",
      " |  __exit__(...)\n",
      " |      release()\n",
      " |      (release_lock() is an obsolete synonym)\n",
      " |      \n",
      " |      Release the lock, allowing another thread that is blocked waiting for\n",
      " |      the lock to acquire the lock.  The lock must be in the locked state,\n",
      " |      but it needn't be locked by the same thread that unlocks it.\n",
      " |  \n",
      " |  __repr__(self, /)\n",
      " |      Return repr(self).\n",
      " |  \n",
      " |  acquire(...)\n",
      " |      acquire(blocking=True, timeout=-1) -> bool\n",
      " |      (acquire_lock() is an obsolete synonym)\n",
      " |      \n",
      " |      Lock the lock.  Without argument, this blocks if the lock is already\n",
      " |      locked (even by the same thread), waiting for another thread to release\n",
      " |      the lock, and return True once the lock is acquired.\n",
      " |      With an argument, this will only block if the argument is true,\n",
      " |      and the return value reflects whether the lock is acquired.\n",
      " |      The blocking operation is interruptible.\n",
      " |  \n",
      " |  acquire_lock(...)\n",
      " |      acquire(blocking=True, timeout=-1) -> bool\n",
      " |      (acquire_lock() is an obsolete synonym)\n",
      " |      \n",
      " |      Lock the lock.  Without argument, this blocks if the lock is already\n",
      " |      locked (even by the same thread), waiting for another thread to release\n",
      " |      the lock, and return True once the lock is acquired.\n",
      " |      With an argument, this will only block if the argument is true,\n",
      " |      and the return value reflects whether the lock is acquired.\n",
      " |      The blocking operation is interruptible.\n",
      " |  \n",
      " |  locked(...)\n",
      " |      locked() -> bool\n",
      " |      (locked_lock() is an obsolete synonym)\n",
      " |      \n",
      " |      Return whether the lock is in the locked state.\n",
      " |  \n",
      " |  locked_lock(...)\n",
      " |      locked() -> bool\n",
      " |      (locked_lock() is an obsolete synonym)\n",
      " |      \n",
      " |      Return whether the lock is in the locked state.\n",
      " |  \n",
      " |  release(...)\n",
      " |      release()\n",
      " |      (release_lock() is an obsolete synonym)\n",
      " |      \n",
      " |      Release the lock, allowing another thread that is blocked waiting for\n",
      " |      the lock to acquire the lock.  The lock must be in the locked state,\n",
      " |      but it needn't be locked by the same thread that unlocks it.\n",
      " |  \n",
      " |  release_lock(...)\n",
      " |      release()\n",
      " |      (release_lock() is an obsolete synonym)\n",
      " |      \n",
      " |      Release the lock, allowing another thread that is blocked waiting for\n",
      " |      the lock to acquire the lock.  The lock must be in the locked state,\n",
      " |      but it needn't be locked by the same thread that unlocks it.\n",
      "\n"
     ]
    }
   ],
   "source": [
    "help(type(Lock()))"
   ]
  },
  {
   "cell_type": "code",
   "execution_count": 72,
   "metadata": {},
   "outputs": [
    {
     "data": {
      "text/plain": [
       "False"
      ]
     },
     "execution_count": 72,
     "metadata": {},
     "output_type": "execute_result"
    }
   ],
   "source": [
    "shared_resource_lock.locked()"
   ]
  },
  {
   "cell_type": "markdown",
   "metadata": {},
   "source": [
    "## 使用`RLock`进行线程同步\n",
    "- 只有个拿到锁的线程才能释放该锁\n",
    "- 和`Lock`的区别\n",
    "    - 谁拿到谁释放。如果线程A拿到锁，线程B无法释放这个锁，只有A可以释放\n",
    "    - 同一线程可以多次拿到该锁，即可以acquire多次\n",
    "    - acquire多少次就必须release多少次，只有最后一次release才能改变RLock的状态为unlocked）"
   ]
  },
  {
   "cell_type": "code",
   "execution_count": 9,
   "metadata": {},
   "outputs": [],
   "source": [
    "class Box:\n",
    "    lock = RLock()\n",
    "    \n",
    "    def __init__(self):\n",
    "        self.total_items = 0\n",
    "        \n",
    "    def execute(self, n):\n",
    "        self.lock.acquire()\n",
    "        self.total_items += n\n",
    "        self.lock.release()\n",
    "        \n",
    "    def add(self):\n",
    "        self.lock.acquire()\n",
    "        self.execute(1)\n",
    "        self.lock.release()\n",
    "        \n",
    "    def remove(self):\n",
    "        self.lock.acquire()\n",
    "        self.execute(-1)\n",
    "        self.lock.release()\n",
    "        \n",
    "def adder(box, items):\n",
    "    while items > 0:\n",
    "        print('adding 1 item in the box')\n",
    "        box.add()\n",
    "        time.sleep(1)\n",
    "        items -= 1\n",
    "        \n",
    "def remover(box, items):\n",
    "    while items > 0:\n",
    "        print('removing 1 item from the box')\n",
    "        box.remove()\n",
    "        time.sleep(1)\n",
    "        items -= 1"
   ]
  },
  {
   "cell_type": "code",
   "execution_count": 10,
   "metadata": {},
   "outputs": [
    {
     "name": "stdout",
     "output_type": "stream",
     "text": [
      "Putting 5 items in the box\n",
      "adding 1 item in the box\n",
      "removing 1 item from the box\n",
      "adding 1 item in the box\n",
      "removing 1 item from the box\n",
      "adding 1 item in the box\n",
      "removing 1 item from the box\n",
      "adding 1 item in the box\n",
      "removing 1 item from the box\n",
      "adding 1 item in the box\n",
      "removing 1 item from the box\n",
      "0 items still in the box\n",
      "MainThread exited\n"
     ]
    }
   ],
   "source": [
    "items = 5\n",
    "print(f'Putting {items} items in the box')\n",
    "box = Box()\n",
    "t1 = Thread(target=adder, args=(box, items))\n",
    "t2 = Thread(target=remover, args=(box, items))\n",
    "t1.start()\n",
    "t2.start()\n",
    "t1.join()\n",
    "t2.join()\n",
    "print(f'{box.total_items} items still in the box')\n",
    "print(f\"{current_thread().name} exited\")"
   ]
  },
  {
   "cell_type": "markdown",
   "metadata": {},
   "source": [
    "## 使用信号量进行线程同步\n",
    "- 每当线程想要读取关联了信号量的共享资源时，必须调用 acquire() ，此操作减少信号量的内部变量, 如果此变量的值非负，那么分配该资源的权限。如果是负值，那么线程被挂起，直到有其他的线程释放资源。\n",
    "- 当线程不再需要该共享资源，必须通过 release() 释放。这样，信号量的内部变量增加，在信号量等待队列中排在最前面的线程会拿到共享资源的权限。\n",
    "- ![pics](https://python-parallel-programmning-cookbook.readthedocs.io/zh_CN/latest/_images/semaphores.png)\n",
    "- 缺陷：非原子操作有可能会导致所有线程处于等待状态"
   ]
  },
  {
   "cell_type": "code",
   "execution_count": 3,
   "metadata": {},
   "outputs": [],
   "source": [
    "semaphore = Semaphore(0)\n",
    "\n",
    "def consumer():\n",
    "    print('consumer is waiting...')\n",
    "    semaphore.acquire()\n",
    "    print(f'Consumer notify: cosumed item number {item}')\n",
    "    \n",
    "def producer():\n",
    "    global item\n",
    "    time.sleep(3)\n",
    "    item = random.randint(0,1000)\n",
    "    print(f'Producer notify: produced item number {item}')\n",
    "    semaphore.release()"
   ]
  },
  {
   "cell_type": "code",
   "execution_count": 4,
   "metadata": {},
   "outputs": [
    {
     "name": "stdout",
     "output_type": "stream",
     "text": [
      "consumer is waiting...\n",
      "Producer notify: produced item number 472\n",
      "Consumer notify: cosumed item number 472\n",
      "consumer is waiting...\n",
      "Producer notify: produced item number 408\n",
      "Consumer notify: cosumed item number 408\n",
      "consumer is waiting...\n",
      "Producer notify: produced item number 14\n",
      "Consumer notify: cosumed item number 14\n",
      "consumer is waiting...\n",
      "Producer notify: produced item number 444\n",
      "Consumer notify: cosumed item number 444\n",
      "consumer is waiting...\n",
      "Producer notify: produced item number 972\n",
      "Consumer notify: cosumed item number 972\n",
      "MainThread exited\n"
     ]
    }
   ],
   "source": [
    "for _ in range(5):\n",
    "    t1 = Thread(target=producer)\n",
    "    t2 = Thread(target=consumer)\n",
    "    t1.start()\n",
    "    t2.start()\n",
    "    t1.join()\n",
    "    t2.join()\n",
    "print(f\"{current_thread().name} exited\")"
   ]
  },
  {
   "cell_type": "markdown",
   "metadata": {},
   "source": [
    "## 使用条件进行线程同步\n",
    "- 条件指的是应用程序状态的改变。这是另一种同步机制，其中某些线程在等待某一条件发生，其他的线程会在该条件发生的时候进行通知。一旦条件发生，线程会拿到共享资源的唯一权限\n",
    "- 解释条件机制最好的例子还是生产者-消费者问题。在本例中，只要缓存不满，生产者一直向缓存生产；只要缓存不空，消费者一直从缓存取出（之后销毁）。当缓冲队列不为空的时候，生产者将通知消费者；当缓冲队列不满的时候，消费者将通知生产者"
   ]
  },
  {
   "cell_type": "code",
   "execution_count": 6,
   "metadata": {},
   "outputs": [],
   "source": [
    "items = []\n",
    "condition = Condition()"
   ]
  },
  {
   "cell_type": "code",
   "execution_count": 14,
   "metadata": {},
   "outputs": [],
   "source": [
    "class Consumer(Thread):\n",
    "    def __init__(self):\n",
    "        super().__init__()\n",
    "        \n",
    "    def consume(self):\n",
    "        global condition\n",
    "        global items\n",
    "        condition.acquire()\n",
    "        if not len(items):\n",
    "            condition.wait()\n",
    "            print('Consumer notify: no item to consume')\n",
    "        items.pop()\n",
    "        print('Consumer notify: consumed 1 item')\n",
    "        print(f'Comsumer notify: items left to consume are {str(len(items))}')\n",
    "        \n",
    "        condition.notify()\n",
    "        condition.release()\n",
    "        \n",
    "    def run(self):\n",
    "        for _ in range(10):\n",
    "            time.sleep(1)\n",
    "            self.consume()\n",
    "            \n",
    "class Producer(Thread):\n",
    "    def __init__(self):\n",
    "        super().__init__()\n",
    "        \n",
    "    def produce(self):\n",
    "        global condition\n",
    "        global items\n",
    "        condition.acquire()\n",
    "        if len(items) == 5:\n",
    "            print('full.....')\n",
    "            condition.wait()\n",
    "            print(f'Producer notify: items producted are {str(len(items))}')\n",
    "            print('Producer notify: stop the production!')\n",
    "        items.append(1)\n",
    "        print(f'Producer notify: total items producted {str(len(items))}')\n",
    "        condition.notify()\n",
    "        condition.release()\n",
    "        \n",
    "    def run(self):\n",
    "        for _ in range(10):\n",
    "            time.sleep(.5)\n",
    "            self.produce()"
   ]
  },
  {
   "cell_type": "code",
   "execution_count": 15,
   "metadata": {},
   "outputs": [
    {
     "name": "stdout",
     "output_type": "stream",
     "text": [
      "Producer notify: total items producted 1\n",
      "Consumer notify: consumed 1 item\n",
      "Comsumer notify: items left to consume are 0\n",
      "Producer notify: total items producted 1\n",
      "Producer notify: total items producted 2\n",
      "Consumer notify: consumed 1 item\n",
      "Comsumer notify: items left to consume are 1\n",
      "Producer notify: total items producted 2\n",
      "Producer notify: total items producted 3\n",
      "Consumer notify: consumed 1 item\n",
      "Comsumer notify: items left to consume are 2\n",
      "Producer notify: total items producted 3\n",
      "Producer notify: total items producted 4\n",
      "Consumer notify: consumed 1 item\n",
      "Comsumer notify: items left to consume are 3\n",
      "Producer notify: total items producted 4\n",
      "Producer notify: total items producted 5\n",
      "Consumer notify: consumed 1 item\n",
      "Comsumer notify: items left to consume are 4\n",
      "Producer notify: total items producted 5\n",
      "Consumer notify: consumed 1 item\n",
      "Comsumer notify: items left to consume are 4\n",
      "Consumer notify: consumed 1 item\n",
      "Comsumer notify: items left to consume are 3\n",
      "Consumer notify: consumed 1 item\n",
      "Comsumer notify: items left to consume are 2\n",
      "Consumer notify: consumed 1 item\n",
      "Comsumer notify: items left to consume are 1\n",
      "Consumer notify: consumed 1 item\n",
      "Comsumer notify: items left to consume are 0\n",
      "MainThread exited...\n"
     ]
    }
   ],
   "source": [
    "producer = Producer()\n",
    "consumer = Consumer()\n",
    "producer.start()\n",
    "consumer.start()\n",
    "producer.join()\n",
    "consumer.join()\n",
    "print(f\"{current_thread().name} exited...\")"
   ]
  },
  {
   "cell_type": "markdown",
   "metadata": {},
   "source": [
    "![process](https://python-parallel-programmning-cookbook.readthedocs.io/zh_CN/latest/_images/python-condition.png)"
   ]
  },
  {
   "cell_type": "code",
   "execution_count": 16,
   "metadata": {},
   "outputs": [
    {
     "name": "stdout",
     "output_type": "stream",
     "text": [
      "A\n",
      "B\n",
      "C\n",
      "A\n",
      "B\n",
      "C\n",
      "A\n",
      "B\n",
      "C\n",
      "A\n",
      "B\n",
      "C\n",
      "A\n",
      "B\n",
      "C\n",
      "A\n",
      "B\n",
      "C\n",
      "A\n",
      "B\n",
      "C\n",
      "A\n",
      "B\n",
      "C\n",
      "A\n",
      "B\n",
      "C\n",
      "A\n",
      "B\n",
      "C\n"
     ]
    }
   ],
   "source": [
    "\"\"\"\n",
    "Three threads print A B C in order.\n",
    "\"\"\"\n",
    "condition = Condition()\n",
    "current = \"A\"\n",
    "\n",
    "class ThreadA(Thread):\n",
    "    def run(self):\n",
    "        global current\n",
    "        for _ in range(10):\n",
    "            with condition:\n",
    "                while current != \"A\":\n",
    "                    condition.wait()\n",
    "                print(\"A\")\n",
    "                current = \"B\"\n",
    "                condition.notify_all()\n",
    "\n",
    "class ThreadB(Thread):\n",
    "    def run(self):\n",
    "        global current\n",
    "        for _ in range(10):\n",
    "            with condition:\n",
    "                while current != \"B\":\n",
    "                    condition.wait()\n",
    "                print(\"B\")\n",
    "                current = \"C\"\n",
    "                condition.notify_all()\n",
    "\n",
    "class ThreadC(Thread):\n",
    "    def run(self):\n",
    "        global current\n",
    "        for _ in range(10):\n",
    "            with condition:\n",
    "                while current != \"C\":\n",
    "                    condition.wait()\n",
    "                print(\"C\")\n",
    "                current = \"A\"\n",
    "                condition.notify_all()\n",
    "\n",
    "a = ThreadA()\n",
    "b = ThreadB()\n",
    "c = ThreadC()\n",
    "\n",
    "a.start()\n",
    "b.start()\n",
    "c.start()\n",
    "\n",
    "a.join()\n",
    "b.join()\n",
    "c.join()"
   ]
  },
  {
   "cell_type": "markdown",
   "metadata": {},
   "source": [
    "## 使用事件进行线程同步\n",
    "- 事件是线程之间用于通讯的对象。有的线程等待信号，有的线程发出信号。基本上事件对象都会维护一个内部变量，可以通过 set() 方法设置为 true ，也可以通过 clear() 方法设置为 false 。 wait() 方法将会阻塞线程，直到内部变量为 true \n",
    "- ![pic](https://python-parallel-programmning-cookbook.readthedocs.io/zh_CN/latest/_images/event.png)"
   ]
  },
  {
   "cell_type": "code",
   "execution_count": 2,
   "metadata": {},
   "outputs": [],
   "source": [
    "items = []\n",
    "event = Event()\n",
    "\n",
    "class Consumer(Thread):\n",
    "    def __init__(self, items, event):\n",
    "        super().__init__()\n",
    "        self.items = items\n",
    "        self.event = event\n",
    "        \n",
    "    def run(self):\n",
    "        while True:\n",
    "            time.sleep(2)\n",
    "            self.event.wait()\n",
    "            item = self.items.pop()\n",
    "            print(f'Consumer notify: {item} popped from list by {self.name}')\n",
    "            \n",
    "class Producer(Thread):\n",
    "    def __init__(self, items, event):\n",
    "        super().__init__()\n",
    "        self.items = items\n",
    "        self.event = event\n",
    "        \n",
    "    def run(self):\n",
    "        global item\n",
    "        for _ in range(10):\n",
    "            time.sleep(2)\n",
    "            item = random.randint(0,256)\n",
    "            self.items.append(item)\n",
    "            print(f'Producer notify: item N {item} append to list by {self.name}')\n",
    "            print(f'Producer notify: event set by {self.name}')\n",
    "            self.event.set()\n",
    "            print(f'Producer notify: event cleared by {self.name}')\n",
    "            self.event.clear() "
   ]
  },
  {
   "cell_type": "code",
   "execution_count": null,
   "metadata": {},
   "outputs": [
    {
     "name": "stdout",
     "output_type": "stream",
     "text": [
      "Producer notify: item N 77 append to list by Thread-6\n",
      "Producer notify: event set by Thread-6\n",
      "Producer notify: event cleared by Thread-6Consumer notify: 77 popped from list by Thread-7\n",
      "\n",
      "Producer notify: item N 173 append to list by Thread-6\n",
      "Producer notify: event set by Thread-6\n",
      "Producer notify: event cleared by Thread-6\n",
      "Consumer notify: 173 popped from list by Thread-7\n",
      "Producer notify: item N 75 append to list by Thread-6\n",
      "Producer notify: event set by Thread-6\n",
      "Producer notify: event cleared by Thread-6\n",
      "Consumer notify: 75 popped from list by Thread-7\n",
      "Producer notify: item N 54 append to list by Thread-6\n",
      "Producer notify: event set by Thread-6\n",
      "Producer notify: event cleared by Thread-6\n",
      "Consumer notify: 54 popped from list by Thread-7\n",
      "Producer notify: item N 70 append to list by Thread-6\n",
      "Producer notify: event set by Thread-6\n",
      "Producer notify: event cleared by Thread-6\n",
      "Consumer notify: 70 popped from list by Thread-7\n",
      "Producer notify: item N 205 append to list by Thread-6\n",
      "Producer notify: event set by Thread-6\n",
      "Producer notify: event cleared by Thread-6\n",
      "Consumer notify: 205 popped from list by Thread-7\n",
      "Producer notify: item N 108 append to list by Thread-6\n",
      "Producer notify: event set by Thread-6\n",
      "Producer notify: event cleared by Thread-6\n",
      "Producer notify: item N 176 append to list by Thread-6\n",
      "Producer notify: event set by Thread-6\n",
      "Producer notify: event cleared by Thread-6\n",
      "Consumer notify: 176 popped from list by Thread-7\n",
      "Producer notify: item N 18 append to list by Thread-6\n",
      "Producer notify: event set by Thread-6\n",
      "Producer notify: event cleared by Thread-6\n",
      "Consumer notify: 18 popped from list by Thread-7\n",
      "Producer notify: item N 96 append to list by Thread-6\n",
      "Producer notify: event set by Thread-6\n",
      "Producer notify: event cleared by Thread-6\n",
      "Consumer notify: 96 popped from list by Thread-7\n"
     ]
    }
   ],
   "source": [
    "t1 = Producer(items, event)\n",
    "t2 = Consumer(items, event)\n",
    "t1.start()\n",
    "t2.start()\n",
    "t1.join()\n",
    "t2.join()\n",
    "print(f'{current_thread().name} exited...')"
   ]
  },
  {
   "cell_type": "markdown",
   "metadata": {},
   "source": [
    "# 使用`with`语法"
   ]
  },
  {
   "cell_type": "code",
   "execution_count": 3,
   "metadata": {},
   "outputs": [],
   "source": [
    "logging.basicConfig(level=logging.DEBUG, format='(%(threadName)-10s) %(message)s',)"
   ]
  },
  {
   "cell_type": "code",
   "execution_count": 4,
   "metadata": {},
   "outputs": [],
   "source": [
    "def threading_with(statement):\n",
    "    with statement:\n",
    "        logging.debug(f\"{statement} acquired via with\")\n",
    "        \n",
    "def threading_not_with(statement):\n",
    "    statement.acquire()\n",
    "    try:\n",
    "        logging.debug(f\"{statement} acquired directly\")\n",
    "    finally:\n",
    "        statement.release()"
   ]
  },
  {
   "cell_type": "code",
   "execution_count": 5,
   "metadata": {},
   "outputs": [],
   "source": [
    "lock = Lock()\n",
    "rlock = RLock()\n",
    "condition = Condition()\n",
    "mutex = Semaphore(1)\n",
    "syn_list = [lock, rlock, condition, mutex]"
   ]
  },
  {
   "cell_type": "code",
   "execution_count": 6,
   "metadata": {},
   "outputs": [
    {
     "name": "stderr",
     "output_type": "stream",
     "text": [
      "(Thread-6  ) <locked _thread.lock object at 0x0000021897BC4A30> acquired via with\n",
      "(Thread-7  ) <locked _thread.lock object at 0x0000021897BC4A30> acquired directly\n",
      "(Thread-8  ) <locked _thread.RLock object owner=21412 count=1 at 0x0000021897BC4878> acquired via with\n",
      "(Thread-9  ) <locked _thread.RLock object owner=1368 count=1 at 0x0000021897BC4878> acquired directly\n",
      "(Thread-10 ) <Condition(<locked _thread.RLock object owner=15308 count=1 at 0x0000021896DD01E8>, 0)> acquired via with\n",
      "(Thread-11 ) <Condition(<locked _thread.RLock object owner=7224 count=1 at 0x0000021896DD01E8>, 0)> acquired directly\n",
      "(Thread-12 ) <threading.Semaphore object at 0x00000218971C97F0> acquired via with\n",
      "(Thread-13 ) <threading.Semaphore object at 0x00000218971C97F0> acquired directly\n"
     ]
    }
   ],
   "source": [
    "for statement in syn_list:\n",
    "    t1 = Thread(target=threading_with, args=(statement, ))\n",
    "    t2 = Thread(target=threading_not_with, args=(statement,))\n",
    "    t1.start()\n",
    "    t2.start()\n",
    "    t1.join()\n",
    "    t2.join()"
   ]
  },
  {
   "cell_type": "markdown",
   "metadata": {},
   "source": [
    "# 使用`queue`进行线程通信\n",
    "- 前面我们已经讨论到，当线程之间如果要共享资源或数据的时候，可能变的非常复杂。如你所见，Python的threading模块提供了很多同步原语，包括信号量，条件变量，事件和锁。如果可以使用这些原语的话，应该优先考虑使用这些，而不是使用queue（队列）模块。队列操作起来更容易，也使多线程编程更安全，因为队列可以将资源的使用通过单线程进行完全控制，并且允许使用更加整洁和可读性更高的设计模式。\n",
    "\n",
    "- Queue常用的方法有以下四个：\n",
    "    - put(): 往queue中放一个item\n",
    "    - get(): 从queue删除一个item，并返回删除的这个item\n",
    "    - task_done(): 每次item被处理的时候需要调用这个方法\n",
    "    - join(): 所有item都被处理之前一直阻塞\n",
    "- ![pic](https://python-parallel-programmning-cookbook.readthedocs.io/zh_CN/latest/_images/queue.png)"
   ]
  },
  {
   "cell_type": "code",
   "execution_count": 2,
   "metadata": {},
   "outputs": [],
   "source": [
    "from queue import Queue"
   ]
  },
  {
   "cell_type": "code",
   "execution_count": 18,
   "metadata": {},
   "outputs": [],
   "source": [
    "class Producer(Thread):\n",
    "    def __init__(self, queue):\n",
    "        super().__init__()\n",
    "        self.queue = queue\n",
    "        \n",
    "    def run(self):\n",
    "        for _ in range(5):\n",
    "            item = random.randint(0, 256)\n",
    "            self.queue.put(item)\n",
    "            print(f'Producer notify: item N {item} appended to queue by {self.name}\\n')\n",
    "            time.sleep(1)\n",
    "            \n",
    "class Consumer(Thread):\n",
    "    def __init__(self, queue):\n",
    "        super().__init__()\n",
    "        self.queue = queue\n",
    "        \n",
    "    def run(self):\n",
    "        while True:\n",
    "            try:\n",
    "                # wait for 10s if queue is still empty then break the loop\n",
    "                item = self.queue.get(timeout=10)   \n",
    "                print(f\"Consumer notify: {item} popped from queue by {self.name}\")\n",
    "                self.queue.task_done()\n",
    "            except:\n",
    "                break"
   ]
  },
  {
   "cell_type": "code",
   "execution_count": 19,
   "metadata": {},
   "outputs": [
    {
     "name": "stdout",
     "output_type": "stream",
     "text": [
      "Producer notify: item N 42 appended to queue by Thread-34\n",
      "\n",
      "Consumer notify: 42 popped from queue by Thread-35\n",
      "Producer notify: item N 37 appended to queue by Thread-34\n",
      "Consumer notify: 37 popped from queue by Thread-35\n",
      "\n",
      "Producer notify: item N 136 appended to queue by Thread-34\n",
      "Consumer notify: 136 popped from queue by Thread-36\n",
      "\n",
      "Producer notify: item N 179 appended to queue by Thread-34\n",
      "Consumer notify: 179 popped from queue by Thread-36\n",
      "\n",
      "Producer notify: item N 86 appended to queue by Thread-34\n",
      "Consumer notify: 86 popped from queue by Thread-36\n",
      "\n",
      "MainThread exited..\n"
     ]
    }
   ],
   "source": [
    "queue = Queue()\n",
    "t1 = Producer(queue)\n",
    "t2 = Consumer(queue)\n",
    "t3 = Consumer(queue)\n",
    "t4 = Consumer(queue)\n",
    "t1.start()\n",
    "t2.start()\n",
    "t3.start()\n",
    "t4.start()\n",
    "t1.join()\n",
    "t2.join()\n",
    "t3.join()\n",
    "t4.join()\n",
    "print(f\"{current_thread().name} exited..\")"
   ]
  },
  {
   "cell_type": "code",
   "execution_count": 20,
   "metadata": {},
   "outputs": [
    {
     "data": {
      "text/plain": [
       "deque([])"
      ]
     },
     "execution_count": 20,
     "metadata": {},
     "output_type": "execute_result"
    }
   ],
   "source": [
    "queue.queue"
   ]
  },
  {
   "cell_type": "markdown",
   "metadata": {},
   "source": [
    "# 评估多线程的性能\n",
    "- GIL是CPython解释器引入的锁，GIL在解释器层面阻止了真正的并行运行。解释器在执行任何线程之前，必须等待当前正在运行的线程释放GIL。事实上，解释器会强迫想要运行的线程必须拿到GIL才能访问解释器的任何资源，例如栈或Python对象等。这也正是GIL的目的——阻止不同的线程并发访问Python对象。这样GIL可以保护解释器的内存，让垃圾回收工作正常。但事实上，这却造成了程序员无法通过并行执行多线程来提高程序的性能。如果我们去掉CPython的GIL，就可以让多线程真正并行执行。GIL并没有影响多处理器并行的线程，只是限制了一个解释器只能有一个线程在运行。"
   ]
  },
  {
   "cell_type": "code",
   "execution_count": 2,
   "metadata": {},
   "outputs": [],
   "source": [
    "import sys\n",
    "from timeit import Timer"
   ]
  },
  {
   "cell_type": "code",
   "execution_count": 3,
   "metadata": {},
   "outputs": [],
   "source": [
    "class threads_object(Thread):\n",
    "    def run(self):\n",
    "        function_to_run()\n",
    "        \n",
    "class nothreads_object:\n",
    "    def run(self):\n",
    "        function_to_run()\n",
    "        \n",
    "def non_threaded(num_iter):\n",
    "    funcs = []\n",
    "    for _ in range(int(num_iter)):\n",
    "        funcs.append(nothreads_object())\n",
    "    for i in funcs:\n",
    "        i.run()\n",
    "        \n",
    "def threaded(num_threads):\n",
    "    funcs = []\n",
    "    for _ in range(int(num_threads)):\n",
    "        funcs.append(threads_object())\n",
    "    for i in funcs:\n",
    "        i.start()\n",
    "    for i in funcs:\n",
    "        i.join()\n",
    "\n",
    "def show_results(func_name, results):\n",
    "#     print(f\"{func_name:-23s} {results :4.6f} seconds\")\n",
    "    print(\"%-23s %4.6f seconds\" % (func_name, results))"
   ]
  },
  {
   "cell_type": "markdown",
   "metadata": {},
   "source": [
    "## 第一次测试 - 空函数\n",
    "- 多线程无收益"
   ]
  },
  {
   "cell_type": "code",
   "execution_count": 28,
   "metadata": {},
   "outputs": [
    {
     "name": "stdout",
     "output_type": "stream",
     "text": [
      "Start testing\n",
      "non_threaded (1 iters)  0.000001 seconds\n",
      "threaded (1 threads)    0.000167 seconds\n",
      "Iterations complete\n",
      "non_threaded (2 iters)  0.000002 seconds\n",
      "threaded (2 threads)    0.000316 seconds\n",
      "Iterations complete\n",
      "non_threaded (4 iters)  0.000002 seconds\n",
      "threaded (4 threads)    0.000608 seconds\n",
      "Iterations complete\n",
      "non_threaded (8 iters)  0.000004 seconds\n",
      "threaded (8 threads)    0.001227 seconds\n",
      "Iterations complete\n"
     ]
    }
   ],
   "source": [
    "def function_to_run():\n",
    "    pass\n",
    "\n",
    "repeat = 100\n",
    "number = 1\n",
    "num_threads = [1, 2, 4, 8]\n",
    "print('Start testing')\n",
    "for i in num_threads:\n",
    "    t = Timer(f\"non_threaded({i})\", 'from __main__ import non_threaded')\n",
    "    best_result = min(t.repeat(repeat=repeat, number=number))\n",
    "    show_results(f\"non_threaded ({i} iters)\", best_result)\n",
    "    \n",
    "    t = Timer(\"threaded(%s)\" % i, \"from __main__ import threaded\")\n",
    "    best_result = min(t.repeat(repeat=repeat, number=number))\n",
    "    show_results(\"threaded (%s threads)\" % i, best_result)\n",
    "    print('Iterations complete')"
   ]
  },
  {
   "cell_type": "markdown",
   "metadata": {},
   "source": [
    "## 第二次测试 - 斐波那契数列\n",
    "- 多线程没有收益：GIL和线程管理代码的开销\n",
    "    - GIL只允许解释器一次执行一个线程"
   ]
  },
  {
   "cell_type": "code",
   "execution_count": 29,
   "metadata": {},
   "outputs": [
    {
     "name": "stdout",
     "output_type": "stream",
     "text": [
      "Start testing\n",
      "non_threaded (1 iters)  0.001978 seconds\n",
      "threaded (1 threads)    0.002302 seconds\n",
      "Iterations complete\n",
      "non_threaded (2 iters)  0.003962 seconds\n",
      "threaded (2 threads)    0.004645 seconds\n",
      "Iterations complete\n",
      "non_threaded (4 iters)  0.008026 seconds\n",
      "threaded (4 threads)    0.009447 seconds\n",
      "Iterations complete\n",
      "non_threaded (8 iters)  0.016377 seconds\n",
      "threaded (8 threads)    0.018876 seconds\n",
      "Iterations complete\n"
     ]
    }
   ],
   "source": [
    "def function_to_run():\n",
    "    a, b = 0, 1\n",
    "    for i in range(10000):\n",
    "        a, b = b, a + b\n",
    "\n",
    "repeat = 100\n",
    "number = 1\n",
    "num_threads = [1, 2, 4, 8]\n",
    "print('Start testing')\n",
    "for i in num_threads:\n",
    "    t = Timer(f\"non_threaded({i})\", 'from __main__ import non_threaded')\n",
    "    best_result = min(t.repeat(repeat=repeat, number=number))\n",
    "    show_results(f\"non_threaded ({i} iters)\", best_result)\n",
    "    \n",
    "    t = Timer(\"threaded(%s)\" % i, \"from __main__ import threaded\")\n",
    "    best_result = min(t.repeat(repeat=repeat, number=number))\n",
    "    show_results(\"threaded (%s threads)\" % i, best_result)\n",
    "    print('Iterations complete')"
   ]
  },
  {
   "cell_type": "markdown",
   "metadata": {},
   "source": [
    "## 第三次测试 - 本地数据读取\n",
    "- 测试读1kb的数据1000次"
   ]
  },
  {
   "cell_type": "code",
   "execution_count": 30,
   "metadata": {},
   "outputs": [
    {
     "name": "stdout",
     "output_type": "stream",
     "text": [
      "Start testing\n",
      "non_threaded (1 iters)  0.005919 seconds\n",
      "threaded (1 threads)    0.006442 seconds\n",
      "Iterations complete\n",
      "non_threaded (2 iters)  0.012046 seconds\n",
      "threaded (2 threads)    0.017330 seconds\n",
      "Iterations complete\n",
      "non_threaded (4 iters)  0.024811 seconds\n",
      "threaded (4 threads)    0.042586 seconds\n",
      "Iterations complete\n",
      "non_threaded (8 iters)  0.049676 seconds\n",
      "threaded (8 threads)    0.086268 seconds\n",
      "Iterations complete\n"
     ]
    }
   ],
   "source": [
    "def function_to_run():\n",
    "    fh=open(\"data/test.txt\",\"r\")\n",
    "    size = 1024\n",
    "    for i in range(1000):\n",
    "        fh.read(size)\n",
    "        \n",
    "repeat = 100\n",
    "number = 1\n",
    "num_threads = [1, 2, 4, 8]\n",
    "print('Start testing')\n",
    "for i in num_threads:\n",
    "    t = Timer(f\"non_threaded({i})\", 'from __main__ import non_threaded')\n",
    "    best_result = min(t.repeat(repeat=repeat, number=number))\n",
    "    show_results(f\"non_threaded ({i} iters)\", best_result)\n",
    "    \n",
    "    t = Timer(\"threaded(%s)\" % i, \"from __main__ import threaded\")\n",
    "    best_result = min(t.repeat(repeat=repeat, number=number))\n",
    "    show_results(\"threaded (%s threads)\" % i, best_result)\n",
    "    print('Iterations complete')"
   ]
  },
  {
   "cell_type": "markdown",
   "metadata": {},
   "source": [
    "## 第四次测试 - 网络数据读取\n",
    "- 从网页上获取数据并读取1k数据"
   ]
  },
  {
   "cell_type": "code",
   "execution_count": null,
   "metadata": {},
   "outputs": [
    {
     "name": "stdout",
     "output_type": "stream",
     "text": [
      "Start testing\n"
     ]
    }
   ],
   "source": [
    "def function_to_run():\n",
    "    import requests\n",
    "    url='https://python-parallel-programmning-cookbook.readthedocs.io/zh_CN/latest/chapter2/13_Evaluating_the_performance_of_multithread_applications.html'\n",
    "    for _ in range(10):\n",
    "        r = requests.get(url)\n",
    "        r.encoding = 'utf-8'\n",
    "        r.text[:1024]\n",
    "        \n",
    "repeat = 100\n",
    "number = 1\n",
    "num_threads = [1, 2, 4, 8]\n",
    "print('Start testing')\n",
    "for i in num_threads:\n",
    "    t = Timer(f\"non_threaded({i})\", 'from __main__ import non_threaded')\n",
    "    best_result = min(t.repeat(repeat=repeat, number=number))\n",
    "    show_results(f\"non_threaded ({i} iters)\", best_result)\n",
    "    \n",
    "    t = Timer(\"threaded(%s)\" % i, \"from __main__ import threaded\")\n",
    "    best_result = min(t.repeat(repeat=repeat, number=number))\n",
    "    show_results(\"threaded (%s threads)\" % i, best_result)\n",
    "    print('Iterations complete')"
   ]
  },
  {
   "cell_type": "code",
   "execution_count": 1,
   "metadata": {},
   "outputs": [
    {
     "data": {
      "text/plain": [
       "208"
      ]
     },
     "execution_count": 1,
     "metadata": {},
     "output_type": "execute_result"
    }
   ],
   "source": [
    "16 *13"
   ]
  },
  {
   "cell_type": "code",
   "execution_count": null,
   "metadata": {},
   "outputs": [],
   "source": []
  }
 ],
 "metadata": {
  "kernelspec": {
   "display_name": "Python 3",
   "language": "python",
   "name": "python3"
  },
  "language_info": {
   "codemirror_mode": {
    "name": "ipython",
    "version": 3
   },
   "file_extension": ".py",
   "mimetype": "text/x-python",
   "name": "python",
   "nbconvert_exporter": "python",
   "pygments_lexer": "ipython3",
   "version": "3.6.8"
  },
  "toc-autonumbering": true
 },
 "nbformat": 4,
 "nbformat_minor": 4
}
