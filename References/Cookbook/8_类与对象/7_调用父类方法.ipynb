{
 "cells": [
  {
   "cell_type": "markdown",
   "metadata": {},
   "source": [
    "建议使用`super()`调用父类方法"
   ]
  },
  {
   "cell_type": "code",
   "execution_count": 5,
   "metadata": {},
   "outputs": [
    {
     "name": "stdout",
     "output_type": "stream",
     "text": [
      "B.spam\n",
      "A.spam\n"
     ]
    }
   ],
   "source": [
    "class A:\n",
    "    def spam(self):\n",
    "        print(\"A.spam\")\n",
    "\n",
    "class B(A):\n",
    "    def spam(self):\n",
    "        print(\"B.spam\")\n",
    "        super().spam()\n",
    "\n",
    "        \n",
    "B().spam()"
   ]
  },
  {
   "cell_type": "markdown",
   "metadata": {},
   "source": [
    "不建议这样调用父类方法"
   ]
  },
  {
   "cell_type": "code",
   "execution_count": 7,
   "metadata": {},
   "outputs": [
    {
     "name": "stdout",
     "output_type": "stream",
     "text": [
      "B.__init__\n",
      "A.__init__\n"
     ]
    },
    {
     "data": {
      "text/plain": [
       "<__main__.B at 0x190fcb12400>"
      ]
     },
     "execution_count": 7,
     "metadata": {},
     "output_type": "execute_result"
    }
   ],
   "source": [
    "class A:\n",
    "    def __init__(self):\n",
    "        print('A.__init__')\n",
    "\n",
    "class B(A):\n",
    "    def __init__(self):\n",
    "        print('B.__init__')\n",
    "        A.__init__(self)\n",
    "        \n",
    "B()"
   ]
  },
  {
   "cell_type": "markdown",
   "metadata": {},
   "source": [
    "看上去没什么问题，但是如果继承多个父类时："
   ]
  },
  {
   "cell_type": "code",
   "execution_count": 13,
   "metadata": {},
   "outputs": [
    {
     "name": "stdout",
     "output_type": "stream",
     "text": [
      "Base.__init__\n",
      "A.__init__\n",
      "Base.__init__\n",
      "B.__init__\n",
      "C.__init__\n"
     ]
    },
    {
     "data": {
      "text/plain": [
       "(<__main__.C at 0x190fcbac438>,\n",
       " (__main__.C, __main__.A, __main__.B, __main__.Base, object))"
      ]
     },
     "execution_count": 13,
     "metadata": {},
     "output_type": "execute_result"
    }
   ],
   "source": [
    "class Base:\n",
    "    def __init__(self):\n",
    "        print(\"Base.__init__\")\n",
    "        \n",
    "class A(Base):\n",
    "    def __init__(self):\n",
    "        Base.__init__(self)\n",
    "        print(\"A.__init__\")\n",
    "        \n",
    "class B(Base):\n",
    "    def __init__(self):\n",
    "        Base.__init__(self)\n",
    "        print(\"B.__init__\")\n",
    "        \n",
    "class C(A, B):\n",
    "    def __init__(self):\n",
    "        A.__init__(self)\n",
    "        B.__init__(self)\n",
    "        print(\"C.__init__\")\n",
    "        \n",
    "C(), C.__mro__"
   ]
  },
  {
   "cell_type": "markdown",
   "metadata": {},
   "source": [
    "Base中的初始化函数被调用了两次，可能不是你想要得到的。"
   ]
  },
  {
   "cell_type": "code",
   "execution_count": 11,
   "metadata": {},
   "outputs": [
    {
     "name": "stdout",
     "output_type": "stream",
     "text": [
      "Base.__init__\n",
      "B.__init__\n",
      "A.__init__\n",
      "C.__init__\n"
     ]
    },
    {
     "data": {
      "text/plain": [
       "<__main__.C at 0x190fcbac0b8>"
      ]
     },
     "execution_count": 11,
     "metadata": {},
     "output_type": "execute_result"
    }
   ],
   "source": [
    "class Base:\n",
    "    def __init__(self):\n",
    "        print(\"Base.__init__\")\n",
    "        \n",
    "class A(Base):\n",
    "    def __init__(self):\n",
    "        super().__init__()\n",
    "        print(\"A.__init__\")\n",
    "        \n",
    "class B(Base):\n",
    "    def __init__(self):\n",
    "        super().__init__()\n",
    "        print(\"B.__init__\")\n",
    "        \n",
    "class C(A, B):\n",
    "    def __init__(self):\n",
    "        super().__init__()\n",
    "        print(\"C.__init__\")\n",
    "        \n",
    "C()"
   ]
  },
  {
   "cell_type": "code",
   "execution_count": 14,
   "metadata": {},
   "outputs": [
    {
     "data": {
      "text/plain": [
       "(__main__.C, __main__.A, __main__.B, __main__.Base, object)"
      ]
     },
     "execution_count": 14,
     "metadata": {},
     "output_type": "execute_result"
    }
   ],
   "source": [
    "# 父类查找顺序\n",
    "C.__mro__"
   ]
  },
  {
   "cell_type": "code",
   "execution_count": 24,
   "metadata": {},
   "outputs": [],
   "source": [
    "class A:\n",
    "    def spam(self):\n",
    "        print(\"A.spam\")\n",
    "        super().spam()\n",
    "        print('Another A.spam')\n",
    "\n",
    "class B:\n",
    "    def spam(self):\n",
    "        print(\"B.spam\")\n",
    "        \n",
    "class C(A,B):\n",
    "    pass"
   ]
  },
  {
   "cell_type": "code",
   "execution_count": 16,
   "metadata": {},
   "outputs": [
    {
     "name": "stdout",
     "output_type": "stream",
     "text": [
      "A.spam\n"
     ]
    },
    {
     "ename": "AttributeError",
     "evalue": "'super' object has no attribute 'spam'",
     "output_type": "error",
     "traceback": [
      "\u001b[1;31m---------------------------------------------------------------------------\u001b[0m",
      "\u001b[1;31mAttributeError\u001b[0m                            Traceback (most recent call last)",
      "\u001b[1;32m<ipython-input-16-567efd26aa5c>\u001b[0m in \u001b[0;36m<module>\u001b[1;34m\u001b[0m\n\u001b[0;32m      1\u001b[0m \u001b[0ma\u001b[0m \u001b[1;33m=\u001b[0m \u001b[0mA\u001b[0m\u001b[1;33m(\u001b[0m\u001b[1;33m)\u001b[0m\u001b[1;33m\u001b[0m\u001b[0m\n\u001b[1;32m----> 2\u001b[1;33m \u001b[0ma\u001b[0m\u001b[1;33m.\u001b[0m\u001b[0mspam\u001b[0m\u001b[1;33m(\u001b[0m\u001b[1;33m)\u001b[0m\u001b[1;33m\u001b[0m\u001b[0m\n\u001b[0m",
      "\u001b[1;32m<ipython-input-15-16935a786a38>\u001b[0m in \u001b[0;36mspam\u001b[1;34m(self)\u001b[0m\n\u001b[0;32m      2\u001b[0m     \u001b[1;32mdef\u001b[0m \u001b[0mspam\u001b[0m\u001b[1;33m(\u001b[0m\u001b[0mself\u001b[0m\u001b[1;33m)\u001b[0m\u001b[1;33m:\u001b[0m\u001b[1;33m\u001b[0m\u001b[0m\n\u001b[0;32m      3\u001b[0m         \u001b[0mprint\u001b[0m\u001b[1;33m(\u001b[0m\u001b[1;34m\"A.spam\"\u001b[0m\u001b[1;33m)\u001b[0m\u001b[1;33m\u001b[0m\u001b[0m\n\u001b[1;32m----> 4\u001b[1;33m         \u001b[0msuper\u001b[0m\u001b[1;33m(\u001b[0m\u001b[1;33m)\u001b[0m\u001b[1;33m.\u001b[0m\u001b[0mspam\u001b[0m\u001b[1;33m(\u001b[0m\u001b[1;33m)\u001b[0m\u001b[1;33m\u001b[0m\u001b[0m\n\u001b[0m\u001b[0;32m      5\u001b[0m \u001b[1;33m\u001b[0m\u001b[0m\n\u001b[0;32m      6\u001b[0m \u001b[1;32mclass\u001b[0m \u001b[0mB\u001b[0m\u001b[1;33m(\u001b[0m\u001b[0mA\u001b[0m\u001b[1;33m)\u001b[0m\u001b[1;33m:\u001b[0m\u001b[1;33m\u001b[0m\u001b[0m\n",
      "\u001b[1;31mAttributeError\u001b[0m: 'super' object has no attribute 'spam'"
     ]
    }
   ],
   "source": [
    "a = A()\n",
    "a.spam()"
   ]
  },
  {
   "cell_type": "code",
   "execution_count": 25,
   "metadata": {},
   "outputs": [
    {
     "name": "stdout",
     "output_type": "stream",
     "text": [
      "A.spam\n",
      "B.spam\n",
      "Another A.spam\n"
     ]
    }
   ],
   "source": [
    "c = C()\n",
    "c.spam()"
   ]
  },
  {
   "cell_type": "code",
   "execution_count": 26,
   "metadata": {},
   "outputs": [
    {
     "data": {
      "text/plain": [
       "(__main__.C, __main__.A, __main__.B, object)"
      ]
     },
     "execution_count": 26,
     "metadata": {},
     "output_type": "execute_result"
    }
   ],
   "source": [
    "C.__mro__"
   ]
  },
  {
   "cell_type": "markdown",
   "metadata": {},
   "source": [
    "通过`MRO`查找，实例化的`c()`通过`A`类调用完全不属于`A`的`B`中的`spam()`方法"
   ]
  },
  {
   "cell_type": "markdown",
   "metadata": {},
   "source": [
    "`A`的有自己的父类，且父类有相同方法时。"
   ]
  },
  {
   "cell_type": "code",
   "execution_count": 37,
   "metadata": {},
   "outputs": [
    {
     "name": "stdout",
     "output_type": "stream",
     "text": [
      "A.spam\n",
      "Base.spam\n",
      "Another A.spam\n"
     ]
    },
    {
     "data": {
      "text/plain": [
       "(None, (__main__.C, __main__.A, __main__.Base, __main__.B, object))"
      ]
     },
     "execution_count": 37,
     "metadata": {},
     "output_type": "execute_result"
    }
   ],
   "source": [
    "class Base:\n",
    "    def spam(self):\n",
    "        print(\"Base.spam\")\n",
    "        \n",
    "class A(Base):\n",
    "    def spam(self):\n",
    "        print(\"A.spam\")\n",
    "        super().spam()\n",
    "        print('Another A.spam')\n",
    "\n",
    "class B:\n",
    "    def spam(self):\n",
    "        print(\"B.spam\")\n",
    "        \n",
    "class C(A,B):\n",
    "    pass\n",
    "\n",
    "C().spam(),C.__mro__"
   ]
  },
  {
   "cell_type": "markdown",
   "metadata": {},
   "source": [
    "`A`的有自己的父类，但是父类没有相同方法时。"
   ]
  },
  {
   "cell_type": "code",
   "execution_count": 36,
   "metadata": {},
   "outputs": [
    {
     "name": "stdout",
     "output_type": "stream",
     "text": [
      "A.spam\n",
      "B.spam\n",
      "Another A.spam\n"
     ]
    },
    {
     "data": {
      "text/plain": [
       "(None, (__main__.C, __main__.A, __main__.Base, __main__.B, object))"
      ]
     },
     "execution_count": 36,
     "metadata": {},
     "output_type": "execute_result"
    }
   ],
   "source": [
    "class Base:\n",
    "    def spam_(self):\n",
    "        print(\"Base.spam\")\n",
    "        \n",
    "class A(Base):\n",
    "    def spam(self):\n",
    "        print(\"A.spam\")\n",
    "        super().spam()\n",
    "        print('Another A.spam')\n",
    "\n",
    "class B:\n",
    "    def spam(self):\n",
    "        print(\"B.spam\")\n",
    "        \n",
    "class C(A,B):\n",
    "    pass\n",
    "\n",
    "C().spam(),C.__mro__"
   ]
  },
  {
   "cell_type": "markdown",
   "metadata": {},
   "source": [
    "`A`的后续父类均没有相同方法时。"
   ]
  },
  {
   "cell_type": "code",
   "execution_count": 4,
   "metadata": {},
   "outputs": [
    {
     "name": "stdout",
     "output_type": "stream",
     "text": [
      "A.spam\n",
      "B.sapm here\n",
      "Another A.spam\n"
     ]
    },
    {
     "data": {
      "text/plain": [
       "(None, (__main__.C, __main__.A, __main__.Base, __main__.B, object))"
      ]
     },
     "execution_count": 4,
     "metadata": {},
     "output_type": "execute_result"
    }
   ],
   "source": [
    "class Base:\n",
    "    def spam_(self):\n",
    "        print(\"Base.spam\")\n",
    "        \n",
    "class A(Base):\n",
    "    def spam(self):\n",
    "        print(\"A.spam\")\n",
    "        super().spam()\n",
    "        print('Another A.spam')\n",
    "\n",
    "class B:\n",
    "    def spam_(self):\n",
    "        print(\"B.spam\")\n",
    "        \n",
    "    def spam(self):\n",
    "        print('B.sapm here')\n",
    "        \n",
    "class C(A,B):\n",
    "    pass\n",
    "\n",
    "C().spam(),C.__mro__"
   ]
  },
  {
   "cell_type": "markdown",
   "metadata": {},
   "source": [
    "**[Python's super() considered super!](https://rhettinger.wordpress.com/2011/05/26/super-considered-super/)**"
   ]
  },
  {
   "cell_type": "code",
   "execution_count": 2,
   "metadata": {},
   "outputs": [],
   "source": [
    "import logging"
   ]
  },
  {
   "cell_type": "code",
   "execution_count": 6,
   "metadata": {},
   "outputs": [],
   "source": [
    "class LogginDict(dict):\n",
    "    def __setitem__(self, key, value):\n",
    "#         logging.info(f\"Setting {key} to {value}\")\n",
    "        print(f\"Setting {key} to {value}\")\n",
    "        super().__setitem__(key, value)"
   ]
  },
  {
   "cell_type": "code",
   "execution_count": 7,
   "metadata": {},
   "outputs": [],
   "source": [
    "lg = LogginDict()"
   ]
  },
  {
   "cell_type": "code",
   "execution_count": 8,
   "metadata": {},
   "outputs": [
    {
     "name": "stdout",
     "output_type": "stream",
     "text": [
      "Setting a to 1\n"
     ]
    }
   ],
   "source": [
    "lg['a']= 1"
   ]
  },
  {
   "cell_type": "code",
   "execution_count": 9,
   "metadata": {},
   "outputs": [
    {
     "data": {
      "text/plain": [
       "{'a': 1}"
      ]
     },
     "execution_count": 9,
     "metadata": {},
     "output_type": "execute_result"
    }
   ],
   "source": [
    "lg"
   ]
  },
  {
   "cell_type": "code",
   "execution_count": 10,
   "metadata": {},
   "outputs": [
    {
     "name": "stdout",
     "output_type": "stream",
     "text": [
      "Setting b to 2\n"
     ]
    }
   ],
   "source": [
    "lg['b'] = 2"
   ]
  },
  {
   "cell_type": "code",
   "execution_count": 13,
   "metadata": {},
   "outputs": [],
   "source": [
    "from collections import OrderedDict"
   ]
  },
  {
   "cell_type": "code",
   "execution_count": null,
   "metadata": {},
   "outputs": [],
   "source": []
  },
  {
   "cell_type": "code",
   "execution_count": null,
   "metadata": {},
   "outputs": [],
   "source": []
  },
  {
   "cell_type": "code",
   "execution_count": 8,
   "metadata": {},
   "outputs": [
    {
     "name": "stdout",
     "output_type": "stream",
     "text": [
      "enter c\n",
      "enter a\n",
      "enter base\n",
      "leave base\n",
      "leave a\n",
      "leave c\n"
     ]
    },
    {
     "data": {
      "text/plain": [
       "<__main__.C at 0x18e20f2fcc0>"
      ]
     },
     "execution_count": 8,
     "metadata": {},
     "output_type": "execute_result"
    }
   ],
   "source": [
    "class Base:\n",
    "    def __init__(self):\n",
    "        print(\"enter base\")\n",
    "        print('leave base')\n",
    "        \n",
    "class A(Base):\n",
    "    def __init__(self):\n",
    "        print('enter a')\n",
    "        Base.__init__(self)\n",
    "        print(\"leave a\")\n",
    "        \n",
    "class B(Base):\n",
    "    def __init__(self):\n",
    "        print('enter b')\n",
    "        super().__init__()\n",
    "        print(\"leave b\")\n",
    "        \n",
    "class C(A, B):\n",
    "    def __init__(self):\n",
    "        print('enter c')\n",
    "        super().__init__()\n",
    "        print(\"leave c\")\n",
    "        \n",
    "C()"
   ]
  },
  {
   "cell_type": "code",
   "execution_count": 9,
   "metadata": {},
   "outputs": [
    {
     "data": {
      "text/plain": [
       "(__main__.C, __main__.A, __main__.B, __main__.Base, object)"
      ]
     },
     "execution_count": 9,
     "metadata": {},
     "output_type": "execute_result"
    }
   ],
   "source": [
    "C.__mro__"
   ]
  },
  {
   "cell_type": "code",
   "execution_count": 14,
   "metadata": {},
   "outputs": [
    {
     "name": "stdout",
     "output_type": "stream",
     "text": [
      "enter c\n",
      "enter a\n",
      "enter b\n",
      "enter base\n",
      "leave base\n",
      "leave b\n",
      "leave a\n",
      "leave c\n"
     ]
    },
    {
     "data": {
      "text/plain": [
       "<__main__.C at 0x18e20f2cdd8>"
      ]
     },
     "execution_count": 14,
     "metadata": {},
     "output_type": "execute_result"
    }
   ],
   "source": [
    "class Base:\n",
    "    def __init__(self):\n",
    "        print(\"enter base\")\n",
    "        print('leave base')\n",
    "        \n",
    "class A(Base):\n",
    "    def __init__(self):\n",
    "        print('enter a')\n",
    "        super().__init__()\n",
    "        print(\"leave a\")\n",
    "        \n",
    "class B(Base):\n",
    "    def __init__(self):\n",
    "        print('enter b')\n",
    "        super().__init__()\n",
    "        print(\"leave b\")\n",
    "        \n",
    "class C(A, B):\n",
    "    def __init__(self):\n",
    "        print('enter c')\n",
    "        super().__init__()\n",
    "        print(\"leave c\")\n",
    "        \n",
    "C()"
   ]
  },
  {
   "cell_type": "code",
   "execution_count": 13,
   "metadata": {},
   "outputs": [
    {
     "data": {
      "text/plain": [
       "(__main__.C, __main__.A, __main__.B, __main__.Base, object)"
      ]
     },
     "execution_count": 13,
     "metadata": {},
     "output_type": "execute_result"
    }
   ],
   "source": [
    "C.__mro__"
   ]
  },
  {
   "cell_type": "code",
   "execution_count": null,
   "metadata": {},
   "outputs": [],
   "source": []
  }
 ],
 "metadata": {
  "kernelspec": {
   "display_name": "Python 3",
   "language": "python",
   "name": "python3"
  },
  "language_info": {
   "codemirror_mode": {
    "name": "ipython",
    "version": 3
   },
   "file_extension": ".py",
   "mimetype": "text/x-python",
   "name": "python",
   "nbconvert_exporter": "python",
   "pygments_lexer": "ipython3",
   "version": "3.6.8"
  }
 },
 "nbformat": 4,
 "nbformat_minor": 4
}
