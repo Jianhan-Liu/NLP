{
 "cells": [
  {
   "cell_type": "markdown",
   "metadata": {},
   "source": [
    "不用`for`循环遍历一个可迭代对象中的所有元素。"
   ]
  },
  {
   "cell_type": "code",
   "execution_count": 2,
   "metadata": {},
   "outputs": [],
   "source": [
    "def manual_iter(file_path):\n",
    "    with open(file_path, 'r', encoding='utf-8') as f:\n",
    "        while 1:\n",
    "            line = next(f, None)\n",
    "            if line is None:\n",
    "                break\n",
    "            print(line, end='')"
   ]
  },
  {
   "cell_type": "code",
   "execution_count": 3,
   "metadata": {},
   "outputs": [
    {
     "name": "stdout",
     "output_type": "stream",
     "text": [
      "我爱北京天安门，天安门上太阳升。\n",
      "没有什么能够阻挡，我对自由的向往。\n",
      "解决方案。\n",
      "手动遍历迭代器。\n",
      "人生只有一次。\n",
      "人生若只如初见。\n",
      "疏影横斜水清浅，暗香浮动月黄昏。\n",
      "书中自有黄金屋，书中自有颜如玉。\n",
      "人世几回伤往事，山形依旧枕寒流。\n",
      "代理迭代。\n",
      "cookbook。\n",
      "流畅的python。\n",
      "end of test file."
     ]
    }
   ],
   "source": [
    "manual_iter('../data/test_file.txt')"
   ]
  },
  {
   "cell_type": "code",
   "execution_count": 16,
   "metadata": {},
   "outputs": [],
   "source": [
    "items = [1,2,3]\n",
    "it = iter(items)"
   ]
  },
  {
   "cell_type": "code",
   "execution_count": 25,
   "metadata": {},
   "outputs": [
    {
     "data": {
      "text/plain": [
       "'No more element'"
      ]
     },
     "execution_count": 25,
     "metadata": {},
     "output_type": "execute_result"
    }
   ],
   "source": [
    "next(it, 'No more element')"
   ]
  },
  {
   "cell_type": "code",
   "execution_count": null,
   "metadata": {},
   "outputs": [],
   "source": []
  },
  {
   "cell_type": "code",
   "execution_count": null,
   "metadata": {},
   "outputs": [],
   "source": []
  }
 ],
 "metadata": {
  "kernelspec": {
   "display_name": "Python 3",
   "language": "python",
   "name": "python3"
  },
  "language_info": {
   "codemirror_mode": {
    "name": "ipython",
    "version": 3
   },
   "file_extension": ".py",
   "mimetype": "text/x-python",
   "name": "python",
   "nbconvert_exporter": "python",
   "pygments_lexer": "ipython3",
   "version": "3.6.2"
  }
 },
 "nbformat": 4,
 "nbformat_minor": 4
}
