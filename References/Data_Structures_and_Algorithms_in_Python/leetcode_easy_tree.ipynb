{
 "cells": [
  {
   "cell_type": "markdown",
   "metadata": {},
   "source": [
    "# Easy challenges"
   ]
  },
  {
   "cell_type": "code",
   "execution_count": 1,
   "metadata": {},
   "outputs": [],
   "source": [
    "class TreeNode:\n",
    "    def __init__(self, x):\n",
    "        self.val = x\n",
    "        self.left = None\n",
    "        self.right = None"
   ]
  },
  {
   "cell_type": "code",
   "execution_count": 55,
   "metadata": {},
   "outputs": [],
   "source": [
    "a = [7, 6, 5, 4, 3, 1]"
   ]
  },
  {
   "cell_type": "code",
   "execution_count": 58,
   "metadata": {},
   "outputs": [
    {
     "data": {
      "text/plain": [
       "9223372036854775807"
      ]
     },
     "execution_count": 58,
     "metadata": {},
     "output_type": "execute_result"
    }
   ],
   "source": [
    "import sys\n",
    "sys.maxsize"
   ]
  },
  {
   "cell_type": "code",
   "execution_count": 47,
   "metadata": {},
   "outputs": [
    {
     "data": {
      "text/plain": [
       "[]"
      ]
     },
     "execution_count": 47,
     "metadata": {},
     "output_type": "execute_result"
    }
   ],
   "source": [
    "[j - i for i in a for j in a[a.index(i):] if j > i]"
   ]
  },
  {
   "cell_type": "code",
   "execution_count": 1,
   "metadata": {},
   "outputs": [
    {
     "name": "stdin",
     "output_type": "stream",
     "text": [
      " 12\n",
      " 31\n",
      " 122\n",
      " 312\n",
      " 11\n",
      " 12\n",
      " \n"
     ]
    }
   ],
   "source": [
    "while True:\n",
    "    try:\n",
    "        a,res=int(input()),set()\n",
    "        for i in range(a):res.add(int(input()))\n",
    "        for i in sorted(res):print(i)\n",
    "    except:\n",
    "        break"
   ]
  },
  {
   "cell_type": "code",
   "execution_count": null,
   "metadata": {},
   "outputs": [],
   "source": []
  },
  {
   "cell_type": "code",
   "execution_count": 2,
   "metadata": {},
   "outputs": [],
   "source": [
    "a = {1,2,3,-1,12}"
   ]
  },
  {
   "cell_type": "code",
   "execution_count": 3,
   "metadata": {},
   "outputs": [
    {
     "data": {
      "text/plain": [
       "[-1, 1, 2, 3, 12]"
      ]
     },
     "execution_count": 3,
     "metadata": {},
     "output_type": "execute_result"
    }
   ],
   "source": [
    "sorted(a)"
   ]
  },
  {
   "cell_type": "code",
   "execution_count": 22,
   "metadata": {},
   "outputs": [],
   "source": [
    "a.add(1)"
   ]
  },
  {
   "cell_type": "code",
   "execution_count": 23,
   "metadata": {},
   "outputs": [
    {
     "data": {
      "text/plain": [
       "{1, 2, 3}"
      ]
     },
     "execution_count": 23,
     "metadata": {},
     "output_type": "execute_result"
    }
   ],
   "source": [
    "a"
   ]
  },
  {
   "cell_type": "markdown",
   "metadata": {},
   "source": [
    "## 100.same tree"
   ]
  },
  {
   "cell_type": "code",
   "execution_count": 2,
   "metadata": {},
   "outputs": [],
   "source": [
    "class Solution:\n",
    "    def is_same_tree(self, p, q):\n",
    "        if p and q:\n",
    "            return p.val == q.val and self.is_same_tree(p.left, q.left) and \\\n",
    "            self.is_same_tree(q.right, p.right)\n",
    "        if p is None and q is None:\n",
    "            return True\n",
    "        else:\n",
    "            return False"
   ]
  },
  {
   "cell_type": "markdown",
   "metadata": {},
   "source": [
    "## 101.symmetrics tree"
   ]
  },
  {
   "cell_type": "code",
   "execution_count": 3,
   "metadata": {},
   "outputs": [],
   "source": [
    "class Solution:\n",
    "    def is_symmetric(self, root):\n",
    "        if not root:\n",
    "            return True\n",
    "        return self.helper(root.left, root.right)\n",
    "\n",
    "    def helper(self, left, right):\n",
    "        if bool(left is None) != bool(right is None):\n",
    "            return False\n",
    "        elif left is None and right is None:\n",
    "            return True\n",
    "        elif left.val != right.val:\n",
    "            return False\n",
    "\n",
    "        return self.helper(left.left, right.right) and \\\n",
    "                self.helper(left.right, right.left)"
   ]
  },
  {
   "cell_type": "markdown",
   "metadata": {},
   "source": [
    "## 104.maximum depth of binary tree"
   ]
  },
  {
   "cell_type": "code",
   "execution_count": 4,
   "metadata": {},
   "outputs": [],
   "source": [
    "class Solution:\n",
    "    def max_depth(self, root):\n",
    "        return 0 if not root else max(self.max_depth(root.left), self.max_depth(root.right)) + 1"
   ]
  },
  {
   "cell_type": "markdown",
   "metadata": {},
   "source": [
    "## 107.binary tree level order traversal II"
   ]
  },
  {
   "cell_type": "code",
   "execution_count": 5,
   "metadata": {},
   "outputs": [],
   "source": [
    "class Solution:\n",
    "    @staticmethod\n",
    "    def level_order_bottom(root):\n",
    "        if not root:\n",
    "            return []\n",
    "        q, ans = [root], []\n",
    "        while q:\n",
    "            ans += [[n.val for n in q]]\n",
    "            q = [k for n in q for k in ([n.left] if n.left else []) + \\\n",
    "                 ([n.right] if n.right else [])]\n",
    "\n",
    "        return ans[::-1]"
   ]
  },
  {
   "cell_type": "markdown",
   "metadata": {},
   "source": [
    "## 108.convert sorted array to binary search tree"
   ]
  },
  {
   "cell_type": "code",
   "execution_count": 6,
   "metadata": {},
   "outputs": [],
   "source": [
    "class Solution:\n",
    "    def sorted_array_to_BST(self, nums):\n",
    "        return self._sorted_array_to_BST(nums, 0, len(nums) - 1)\n",
    "\n",
    "    def _sorted_array_to_BST(self, nums, start, end):\n",
    "        if start > end:\n",
    "            return None\n",
    "\n",
    "        mid = start + (end - start) // 2\n",
    "        mid_node = TreeNode(nums[mid])\n",
    "        mid_node.left = self._sorted_array_to_BST(nums, start, mid - 1)\n",
    "        mid_node.right = self._sorted_array_to_BST(nums, mid + 1, end)\n",
    "        return mid_node"
   ]
  },
  {
   "cell_type": "markdown",
   "metadata": {},
   "source": [
    "## 110.balanced binary tree"
   ]
  },
  {
   "cell_type": "code",
   "execution_count": 7,
   "metadata": {},
   "outputs": [],
   "source": [
    "class Solution:\n",
    "    @staticmethod\n",
    "    def is_balanced(root):\n",
    "        def height(root):\n",
    "            if not root:\n",
    "                return 0\n",
    "\n",
    "            left = height(root.left)\n",
    "            right = height(root.right)\n",
    "\n",
    "            if left == -1 or right == -1 or abs(left - right) > 1:\n",
    "                return -1\n",
    "            return max(left, right) + 1\n",
    "        return height(root) != -1"
   ]
  },
  {
   "cell_type": "markdown",
   "metadata": {},
   "source": [
    "## 111.minimum depth of binary tree"
   ]
  },
  {
   "cell_type": "code",
   "execution_count": 8,
   "metadata": {},
   "outputs": [],
   "source": [
    "class Solution:\n",
    "    def min_depth(self, root):\n",
    "        if not root:\n",
    "            return 0\n",
    "        if not root.left:\n",
    "            return self.min_depth(root.right) + 1\n",
    "        if not root.right:\n",
    "            return self.min_depth(root.left) + 1\n",
    "\n",
    "        return min(self.min_depth(root.left), self.min_depth(root.right)) + 1"
   ]
  },
  {
   "cell_type": "markdown",
   "metadata": {},
   "source": [
    "## 112.path sum"
   ]
  },
  {
   "cell_type": "code",
   "execution_count": 10,
   "metadata": {},
   "outputs": [],
   "source": [
    "class Solution:\n",
    "    def has_path_sum(self, root, result):\n",
    "        if not root:\n",
    "            return False\n",
    "        \n",
    "        if not (root.left or root.right):\n",
    "            return result == root.val\n",
    "\n",
    "        return self.has_path_sum(root.left, result - root.val) or \\\n",
    "    self.has_path_sum(root.right, result - root.val)"
   ]
  },
  {
   "cell_type": "markdown",
   "metadata": {},
   "source": [
    "## 226.invert binary tree"
   ]
  },
  {
   "cell_type": "code",
   "execution_count": 11,
   "metadata": {},
   "outputs": [],
   "source": [
    "class Solution:\n",
    "    def invert_tree(self, root):\n",
    "        if not root:\n",
    "            return root\n",
    "        self.invert_tree(root.left)\n",
    "        self.invert_tree(root.right)\n",
    "        root.left, root.right = root.right, root.left\n",
    "        return root"
   ]
  },
  {
   "cell_type": "markdown",
   "metadata": {},
   "source": [
    "## 235.lowest common ancestor of a binary search tree"
   ]
  },
  {
   "cell_type": "code",
   "execution_count": 13,
   "metadata": {},
   "outputs": [],
   "source": [
    "class Solution:\n",
    "    @staticmethod\n",
    "    def lowest_common_ancestor(root, p, q):\n",
    "        while root:\n",
    "            if p.val < root.val > q.val:\n",
    "                root = root.left\n",
    "            elif p.val > root.val < q.val:\n",
    "                root = root.right\n",
    "            else:\n",
    "                return root"
   ]
  },
  {
   "cell_type": "markdown",
   "metadata": {},
   "source": [
    "## 257.binary tree paths"
   ]
  },
  {
   "cell_type": "code",
   "execution_count": 15,
   "metadata": {},
   "outputs": [],
   "source": [
    "class Solution:\n",
    "    def binary_tree_paths(self, root):\n",
    "        self.result = []\n",
    "        self.helper(root)\n",
    "        self.result = ['->'.join(x) for x in self.result]\n",
    "        return self.result\n",
    "\n",
    "    def helper(self, root, path=None):\n",
    "        if path is None:\n",
    "            path = []\n",
    "        if root is None:\n",
    "            return\n",
    "        if not root.left and not root.right:\n",
    "            self.result.append(path + [str(root.val)])\n",
    "\n",
    "        self.helper(root.left, path + [str(root.val)])\n",
    "        self.helper(root.right, path + [str(root.val)])"
   ]
  },
  {
   "cell_type": "markdown",
   "metadata": {},
   "source": [
    "## 404.sum of left leaves"
   ]
  },
  {
   "cell_type": "code",
   "execution_count": 16,
   "metadata": {},
   "outputs": [],
   "source": [
    "class Solution:\n",
    "    def sum_of_left_leaves(self, root):\n",
    "        result = 0\n",
    "        if not root:\n",
    "            return 0\n",
    "\n",
    "        if root.left and root.left.left is None and root.left.right is None:\n",
    "            result += root.left.val\n",
    "\n",
    "        result += self.sum_of_left_leaves(root.left) + self.sum_of_left_leaves(root.right)\n",
    "        return result"
   ]
  },
  {
   "cell_type": "markdown",
   "metadata": {},
   "source": [
    "## 437.path sum III"
   ]
  },
  {
   "cell_type": "code",
   "execution_count": 12,
   "metadata": {},
   "outputs": [],
   "source": [
    "from collections import defaultdict\n",
    "class Solution:\n",
    "    result = 0\n",
    "    def path_sum(self, root, sum):\n",
    "        if not root:\n",
    "            return 0\n",
    "\n",
    "        freq = defaultdict(int)\n",
    "        freq[0] = 1\n",
    "        self.dfs(root, 0, freq, sum)\n",
    "        return self.result\n",
    "\n",
    "    def dfs(self, node, path_sum, freq, sum):\n",
    "        if node:\n",
    "            path_sum += node.val\n",
    "            self.result += freq[path_sum - sum]\n",
    "            freq[path_sum] += 1\n",
    "\n",
    "            self.dfs(node.left, path_sum, freq, sum)\n",
    "            self.dfs(node.right, path_sum, freq, sum)\n",
    "\n",
    "            freq[path_sum] -= 1"
   ]
  },
  {
   "cell_type": "markdown",
   "metadata": {},
   "source": [
    "## 501.find mode in binary search tree"
   ]
  },
  {
   "cell_type": "code",
   "execution_count": 17,
   "metadata": {},
   "outputs": [],
   "source": [
    "class Solution:\n",
    "    prev = None\n",
    "    max_count = 0\n",
    "    current_count = 0\n",
    "    result = []\n",
    "    \n",
    "    def find_mode(self, root):\n",
    "        self.dfs(root)\n",
    "        return self.result\n",
    "    \n",
    "    def dfs(self, node):\n",
    "        if not node:\n",
    "            return \n",
    "        self.dfs(node.left)\n",
    "        self.current_count = 1 if node.val != self.prev else self.current_count + 1\n",
    "        if self.current_count == self.max_count:\n",
    "            self.result.append(node.val)\n",
    "        elif self.current_count > self.max_count:\n",
    "            self.result = [node.val]\n",
    "            self.max_count = self.current_count\n",
    "        self.prev = node.val\n",
    "        self.dfs(node.right)\n"
   ]
  },
  {
   "cell_type": "code",
   "execution_count": null,
   "metadata": {},
   "outputs": [],
   "source": []
  }
 ],
 "metadata": {
  "kernelspec": {
   "display_name": "Python 3",
   "language": "python",
   "name": "python3"
  },
  "language_info": {
   "codemirror_mode": {
    "name": "ipython",
    "version": 3
   },
   "file_extension": ".py",
   "mimetype": "text/x-python",
   "name": "python",
   "nbconvert_exporter": "python",
   "pygments_lexer": "ipython3",
   "version": "3.6.2"
  }
 },
 "nbformat": 4,
 "nbformat_minor": 4
}
